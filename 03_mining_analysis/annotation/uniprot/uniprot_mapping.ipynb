{
 "cells": [
  {
   "cell_type": "code",
   "execution_count": 1,
   "id": "e6379a94-f8e4-41f2-8749-ffc490e37129",
   "metadata": {
    "tags": []
   },
   "outputs": [],
   "source": [
    "import pandas as pd"
   ]
  },
  {
   "cell_type": "code",
   "execution_count": 2,
   "id": "61294593-0433-4c76-bc1f-0b0880ece33c",
   "metadata": {
    "tags": []
   },
   "outputs": [],
   "source": [
    "import taxoniq"
   ]
  },
  {
   "cell_type": "code",
   "execution_count": 104,
   "id": "48dc8c20-45e2-49c5-95bb-e8c5f2b87547",
   "metadata": {
    "tags": []
   },
   "outputs": [],
   "source": [
    "import requests"
   ]
  },
  {
   "cell_type": "code",
   "execution_count": 108,
   "id": "5fd2976d-1e59-4f78-bda6-1ac5c5cf93d3",
   "metadata": {
    "tags": []
   },
   "outputs": [],
   "source": [
    "from io import StringIO"
   ]
  },
  {
   "cell_type": "markdown",
   "id": "3bbba0cb-e395-486c-b201-c9ee8050a5bc",
   "metadata": {},
   "source": [
    "## Load mapping file"
   ]
  },
  {
   "cell_type": "code",
   "execution_count": 3,
   "id": "06b24866-959b-498e-98bf-8cba3c3dd6ff",
   "metadata": {
    "tags": []
   },
   "outputs": [],
   "source": [
    "mapping = pd.read_csv('uniprot_mapping.tsv', sep='~')"
   ]
  },
  {
   "cell_type": "markdown",
   "id": "36317c0b-bdd8-401d-a59b-9b15aed2756b",
   "metadata": {},
   "source": [
    "0: UniProt ID\n",
    "1: organism(s)\n",
    "2: source database(s)"
   ]
  },
  {
   "cell_type": "code",
   "execution_count": 12,
   "id": "57285580-cb4b-49dc-b9a1-3d660c8e62f4",
   "metadata": {
    "tags": []
   },
   "outputs": [],
   "source": [
    "def get_uniprot_ids(x):\n",
    "    return x.split('\\t')[0]"
   ]
  },
  {
   "cell_type": "code",
   "execution_count": 52,
   "id": "6a7022ab-8002-4e58-91fd-40fe9ab0689f",
   "metadata": {
    "tags": []
   },
   "outputs": [],
   "source": [
    "def get_organisms(x):\n",
    "    organisms = x.split('\\t')[1].split('organism: ')[1]\n",
    "    organisms_l = {o.strip() for o in organisms.split(';')}\n",
    "    organisms_l2 = {o.split(' (')[0] if '(' in o else o for o in organisms_l}\n",
    "    return \";\".join(list(organisms_l2))"
   ]
  },
  {
   "cell_type": "code",
   "execution_count": 53,
   "id": "018a6592-90c2-4f13-af7a-abe8a47c9518",
   "metadata": {
    "tags": []
   },
   "outputs": [],
   "source": [
    "def get_dbs(x):\n",
    "    dbs = x.split('\\t')[2].split('databases: ')[1]\n",
    "    dbs_l = {db.strip() for db in dbs.split(';')}\n",
    "    return \";\".join(list(dbs_l))"
   ]
  },
  {
   "cell_type": "code",
   "execution_count": 16,
   "id": "23ede4e2-e007-4ae4-a10d-bee3d3749728",
   "metadata": {
    "tags": []
   },
   "outputs": [],
   "source": [
    "mapping['uniprot_ids'] = mapping['record_description'].apply(lambda x: get_uniprot_ids(x))"
   ]
  },
  {
   "cell_type": "code",
   "execution_count": 54,
   "id": "4ed6ad3d-5a06-4dd4-a172-7896da72511f",
   "metadata": {
    "tags": []
   },
   "outputs": [],
   "source": [
    "mapping['organisms'] = mapping['record_description'].apply(lambda x: get_organisms(x))"
   ]
  },
  {
   "cell_type": "code",
   "execution_count": 55,
   "id": "1b350a8a-8596-43e3-9a7b-f3cfff352e58",
   "metadata": {
    "tags": []
   },
   "outputs": [],
   "source": [
    "mapping['source_dbs'] = mapping['record_description'].apply(lambda x: get_dbs(x))"
   ]
  },
  {
   "cell_type": "markdown",
   "id": "d05382cc-7a0b-4aee-a9c8-cabdbfc4d4fb",
   "metadata": {},
   "source": [
    "Almost half of sequences from UniParc do not originate from UniProt -> they should maybe get their UPIs "
   ]
  },
  {
   "cell_type": "code",
   "execution_count": 56,
   "id": "fa4521f7-b97e-40b6-9197-864a68950030",
   "metadata": {
    "tags": []
   },
   "outputs": [
    {
     "data": {
      "text/plain": [
       "0.43141049245868623"
      ]
     },
     "execution_count": 56,
     "metadata": {},
     "output_type": "execute_result"
    }
   ],
   "source": [
    "mapping[mapping['record_id'] == 'NoUniProtID'].shape[0]/mapping.shape[0]"
   ]
  },
  {
   "cell_type": "code",
   "execution_count": 57,
   "id": "3b908bfe-f7d1-495a-aa4f-1401234c2fd4",
   "metadata": {
    "tags": []
   },
   "outputs": [
    {
     "data": {
      "text/html": [
       "<div>\n",
       "<style scoped>\n",
       "    .dataframe tbody tr th:only-of-type {\n",
       "        vertical-align: middle;\n",
       "    }\n",
       "\n",
       "    .dataframe tbody tr th {\n",
       "        vertical-align: top;\n",
       "    }\n",
       "\n",
       "    .dataframe thead th {\n",
       "        text-align: right;\n",
       "    }\n",
       "</style>\n",
       "<table border=\"1\" class=\"dataframe\">\n",
       "  <thead>\n",
       "    <tr style=\"text-align: right;\">\n",
       "      <th></th>\n",
       "      <th>record_id</th>\n",
       "      <th>record_description</th>\n",
       "      <th>new_id</th>\n",
       "      <th>uniprot_ids</th>\n",
       "      <th>organisms</th>\n",
       "      <th>source_dbs</th>\n",
       "    </tr>\n",
       "  </thead>\n",
       "  <tbody>\n",
       "    <tr>\n",
       "      <th>0</th>\n",
       "      <td>O59947;</td>\n",
       "      <td>O59947; Q71RX9; A0A084R4B7; O59947.1 (obsolete...</td>\n",
       "      <td>uniprot_000000</td>\n",
       "      <td>O59947; Q71RX9; A0A084R4B7; O59947.1 (obsolete...</td>\n",
       "      <td>Stachybotrys chartarum IBT 40288;Stachybotrys ...</td>\n",
       "      <td>EMBL;EnsemblFungi;UniProtKB/TrEMBL;EMBL_CON;TR...</td>\n",
       "    </tr>\n",
       "    <tr>\n",
       "      <th>1</th>\n",
       "      <td>Q84LE3</td>\n",
       "      <td>Q84LE3\\torganism: Lotus japonicus; Lotus japon...</td>\n",
       "      <td>uniprot_000001</td>\n",
       "      <td>Q84LE3</td>\n",
       "      <td>Lotus japonicus;Lotus corniculatus</td>\n",
       "      <td>EMBL;UniProtKB/TrEMBL;EPO;USPTO;TREMBLNEW;PRF</td>\n",
       "    </tr>\n",
       "    <tr>\n",
       "      <th>2</th>\n",
       "      <td>Q84PE2</td>\n",
       "      <td>Q84PE2\\torganism: Lotus japonicus; Lotus japon...</td>\n",
       "      <td>uniprot_000002</td>\n",
       "      <td>Q84PE2</td>\n",
       "      <td>Lotus japonicus</td>\n",
       "      <td>EMBL;UniProtKB/TrEMBL;USPTO;TREMBLNEW;PRF</td>\n",
       "    </tr>\n",
       "    <tr>\n",
       "      <th>3</th>\n",
       "      <td>Q84PE1</td>\n",
       "      <td>Q84PE1\\torganism: Lotus japonicus; Lotus japon...</td>\n",
       "      <td>uniprot_000003</td>\n",
       "      <td>Q84PE1</td>\n",
       "      <td>Lotus japonicus</td>\n",
       "      <td>EMBL;UniProtKB/TrEMBL;EPO;USPTO;TREMBLNEW;PRF</td>\n",
       "    </tr>\n",
       "    <tr>\n",
       "      <th>4</th>\n",
       "      <td>P13513;</td>\n",
       "      <td>P13513; Q7LP67.1 (obsolete)\\torganism: Fusariu...</td>\n",
       "      <td>uniprot_000004</td>\n",
       "      <td>P13513; Q7LP67.1 (obsolete)</td>\n",
       "      <td>Fusarium sporotrichioides</td>\n",
       "      <td>PIRARC;EMBL;UniProtKB/TrEMBL;PDB;TREMBLNEW;PRF...</td>\n",
       "    </tr>\n",
       "    <tr>\n",
       "      <th>...</th>\n",
       "      <td>...</td>\n",
       "      <td>...</td>\n",
       "      <td>...</td>\n",
       "      <td>...</td>\n",
       "      <td>...</td>\n",
       "      <td>...</td>\n",
       "    </tr>\n",
       "    <tr>\n",
       "      <th>266129</th>\n",
       "      <td>NoUniProtID</td>\n",
       "      <td>NoUniProtID\\torganism: Agrobacterium leguminum...</td>\n",
       "      <td>uniprot_266129</td>\n",
       "      <td>NoUniProtID</td>\n",
       "      <td>Agrobacterium leguminum</td>\n",
       "      <td>RefSeq;EMBLWGS</td>\n",
       "    </tr>\n",
       "    <tr>\n",
       "      <th>266130</th>\n",
       "      <td>NoUniProtID</td>\n",
       "      <td>NoUniProtID\\torganism: Streptomyces sp. CMSTAA...</td>\n",
       "      <td>uniprot_266130</td>\n",
       "      <td>NoUniProtID</td>\n",
       "      <td>Streptomyces sp. CMSTAAHL-2</td>\n",
       "      <td>RefSeq</td>\n",
       "    </tr>\n",
       "    <tr>\n",
       "      <th>266131</th>\n",
       "      <td>NoUniProtID</td>\n",
       "      <td>NoUniProtID\\torganism: Agrobacterium; Agrobact...</td>\n",
       "      <td>uniprot_266131</td>\n",
       "      <td>NoUniProtID</td>\n",
       "      <td>Agrobacterium;Agrobacterium salinitolerans</td>\n",
       "      <td>RefSeq;EMBLWGS</td>\n",
       "    </tr>\n",
       "    <tr>\n",
       "      <th>266132</th>\n",
       "      <td>NoUniProtID</td>\n",
       "      <td>NoUniProtID\\torganism: Agrobacterium leguminum...</td>\n",
       "      <td>uniprot_266132</td>\n",
       "      <td>NoUniProtID</td>\n",
       "      <td>Agrobacterium leguminum</td>\n",
       "      <td>RefSeq;EMBLWGS</td>\n",
       "    </tr>\n",
       "    <tr>\n",
       "      <th>266133</th>\n",
       "      <td>NoUniProtID</td>\n",
       "      <td>NoUniProtID\\torganism: Agrobacterium salinitol...</td>\n",
       "      <td>uniprot_266133</td>\n",
       "      <td>NoUniProtID</td>\n",
       "      <td>Agrobacterium salinitolerans</td>\n",
       "      <td>RefSeq;EMBLWGS</td>\n",
       "    </tr>\n",
       "  </tbody>\n",
       "</table>\n",
       "<p>266134 rows × 6 columns</p>\n",
       "</div>"
      ],
      "text/plain": [
       "          record_id                                 record_description  \\\n",
       "0           O59947;  O59947; Q71RX9; A0A084R4B7; O59947.1 (obsolete...   \n",
       "1            Q84LE3  Q84LE3\\torganism: Lotus japonicus; Lotus japon...   \n",
       "2            Q84PE2  Q84PE2\\torganism: Lotus japonicus; Lotus japon...   \n",
       "3            Q84PE1  Q84PE1\\torganism: Lotus japonicus; Lotus japon...   \n",
       "4           P13513;  P13513; Q7LP67.1 (obsolete)\\torganism: Fusariu...   \n",
       "...             ...                                                ...   \n",
       "266129  NoUniProtID  NoUniProtID\\torganism: Agrobacterium leguminum...   \n",
       "266130  NoUniProtID  NoUniProtID\\torganism: Streptomyces sp. CMSTAA...   \n",
       "266131  NoUniProtID  NoUniProtID\\torganism: Agrobacterium; Agrobact...   \n",
       "266132  NoUniProtID  NoUniProtID\\torganism: Agrobacterium leguminum...   \n",
       "266133  NoUniProtID  NoUniProtID\\torganism: Agrobacterium salinitol...   \n",
       "\n",
       "                new_id                                        uniprot_ids  \\\n",
       "0       uniprot_000000  O59947; Q71RX9; A0A084R4B7; O59947.1 (obsolete...   \n",
       "1       uniprot_000001                                             Q84LE3   \n",
       "2       uniprot_000002                                             Q84PE2   \n",
       "3       uniprot_000003                                             Q84PE1   \n",
       "4       uniprot_000004                        P13513; Q7LP67.1 (obsolete)   \n",
       "...                ...                                                ...   \n",
       "266129  uniprot_266129                                        NoUniProtID   \n",
       "266130  uniprot_266130                                        NoUniProtID   \n",
       "266131  uniprot_266131                                        NoUniProtID   \n",
       "266132  uniprot_266132                                        NoUniProtID   \n",
       "266133  uniprot_266133                                        NoUniProtID   \n",
       "\n",
       "                                                organisms  \\\n",
       "0       Stachybotrys chartarum IBT 40288;Stachybotrys ...   \n",
       "1                      Lotus japonicus;Lotus corniculatus   \n",
       "2                                         Lotus japonicus   \n",
       "3                                         Lotus japonicus   \n",
       "4                               Fusarium sporotrichioides   \n",
       "...                                                   ...   \n",
       "266129                            Agrobacterium leguminum   \n",
       "266130                        Streptomyces sp. CMSTAAHL-2   \n",
       "266131         Agrobacterium;Agrobacterium salinitolerans   \n",
       "266132                            Agrobacterium leguminum   \n",
       "266133                       Agrobacterium salinitolerans   \n",
       "\n",
       "                                               source_dbs  \n",
       "0       EMBL;EnsemblFungi;UniProtKB/TrEMBL;EMBL_CON;TR...  \n",
       "1           EMBL;UniProtKB/TrEMBL;EPO;USPTO;TREMBLNEW;PRF  \n",
       "2               EMBL;UniProtKB/TrEMBL;USPTO;TREMBLNEW;PRF  \n",
       "3           EMBL;UniProtKB/TrEMBL;EPO;USPTO;TREMBLNEW;PRF  \n",
       "4       PIRARC;EMBL;UniProtKB/TrEMBL;PDB;TREMBLNEW;PRF...  \n",
       "...                                                   ...  \n",
       "266129                                     RefSeq;EMBLWGS  \n",
       "266130                                             RefSeq  \n",
       "266131                                     RefSeq;EMBLWGS  \n",
       "266132                                     RefSeq;EMBLWGS  \n",
       "266133                                     RefSeq;EMBLWGS  \n",
       "\n",
       "[266134 rows x 6 columns]"
      ]
     },
     "execution_count": 57,
     "metadata": {},
     "output_type": "execute_result"
    }
   ],
   "source": [
    "mapping"
   ]
  },
  {
   "cell_type": "code",
   "execution_count": 58,
   "id": "b6c8c341-094a-485c-8e4d-e38a457eb929",
   "metadata": {
    "tags": []
   },
   "outputs": [],
   "source": [
    "mapping.to_csv('uniprot_mapping_annotated.csv')"
   ]
  },
  {
   "cell_type": "markdown",
   "id": "cca7c95e-51b3-4287-b047-cf09b9c4b650",
   "metadata": {},
   "source": [
    "## Add more information from UniProt"
   ]
  },
  {
   "cell_type": "code",
   "execution_count": 91,
   "id": "bccb11fe-f4cd-4527-84c2-03a4fcbbd57a",
   "metadata": {
    "tags": []
   },
   "outputs": [],
   "source": [
    "uniprot_ids = mapping['uniprot_ids'].tolist()"
   ]
  },
  {
   "cell_type": "code",
   "execution_count": 95,
   "id": "aa14e684-5a46-4275-9918-cea1ae8530cf",
   "metadata": {
    "tags": []
   },
   "outputs": [],
   "source": [
    "uniprot_ids2 = []\n",
    "for ids_str in uniprot_ids:\n",
    "    uniprot_ids2.extend(ids_str.split(';'))"
   ]
  },
  {
   "cell_type": "code",
   "execution_count": 99,
   "id": "58ddb299-0c95-4923-9aa3-19ce5e16833f",
   "metadata": {
    "tags": []
   },
   "outputs": [],
   "source": [
    "uniprot_ids3 = []\n",
    "for uni_id in uniprot_ids2:\n",
    "    if (not 'obsolete' in uni_id) and (uni_id != 'NoUniProtID'):\n",
    "        uniprot_ids3.append(uni_id.strip())"
   ]
  },
  {
   "cell_type": "code",
   "execution_count": 101,
   "id": "53fc68ea-d8c7-4588-93c8-da00e5fec646",
   "metadata": {
    "tags": []
   },
   "outputs": [
    {
     "data": {
      "text/plain": [
       "146855"
      ]
     },
     "execution_count": 101,
     "metadata": {},
     "output_type": "execute_result"
    }
   ],
   "source": [
    "len(uniprot_ids3)"
   ]
  },
  {
   "cell_type": "code",
   "execution_count": 88,
   "id": "ca17b885-64e3-431f-a43f-d58fb1b28a83",
   "metadata": {
    "tags": []
   },
   "outputs": [],
   "source": [
    "base_url='https://rest.uniprot.org/uniprot/search?fields=accession,id,gene_names,protein_name,protein_families,organism_name,organism_id,fragment,ft_act_site,cc_catalytic_activity,ec,cc_function,rhea,ft_site&format=tsv&query=%22'"
   ]
  },
  {
   "cell_type": "code",
   "execution_count": 109,
   "id": "ae361329-a6ce-40de-9fbc-8b1663958716",
   "metadata": {
    "tags": []
   },
   "outputs": [],
   "source": [
    "data_l = []\n",
    "for i in range(0, len(uniprot_ids3)+1, 25):\n",
    "    ids_chunk = uniprot_ids3[i:i+25]\n",
    "    ids_query = '%22OR%22'.join(ids_chunk)\n",
    "    url = f\"{base_url}{ids_query}%22\"\n",
    "    result = requests.get(url)\n",
    "    if result.ok:\n",
    "        data= result.text\n",
    "        data_l.append(pd.read_csv(StringIO(data), sep='\\t'))\n",
    "    else:\n",
    "        print(i)\n",
    "        print(ids_chunk)\n",
    "        print('Something went wrong ', result.status_code)\n",
    "        exit(1)"
   ]
  },
  {
   "cell_type": "code",
   "execution_count": 111,
   "id": "fc39eef2-e591-4643-9d29-d840a769208a",
   "metadata": {
    "tags": []
   },
   "outputs": [],
   "source": [
    "uniprot_df = pd.concat(data_l)"
   ]
  },
  {
   "cell_type": "code",
   "execution_count": 119,
   "id": "93dfa029-c4c6-4de3-b1c9-1bf6750f51cd",
   "metadata": {
    "tags": []
   },
   "outputs": [
    {
     "data": {
      "text/html": [
       "<div>\n",
       "<style scoped>\n",
       "    .dataframe tbody tr th:only-of-type {\n",
       "        vertical-align: middle;\n",
       "    }\n",
       "\n",
       "    .dataframe tbody tr th {\n",
       "        vertical-align: top;\n",
       "    }\n",
       "\n",
       "    .dataframe thead th {\n",
       "        text-align: right;\n",
       "    }\n",
       "</style>\n",
       "<table border=\"1\" class=\"dataframe\">\n",
       "  <thead>\n",
       "    <tr style=\"text-align: right;\">\n",
       "      <th></th>\n",
       "      <th>Entry</th>\n",
       "      <th>Entry Name</th>\n",
       "      <th>Gene Names</th>\n",
       "      <th>Protein names</th>\n",
       "      <th>Protein families</th>\n",
       "      <th>Organism</th>\n",
       "      <th>Organism (ID)</th>\n",
       "      <th>Fragment</th>\n",
       "      <th>Active site</th>\n",
       "      <th>Catalytic activity</th>\n",
       "      <th>EC number</th>\n",
       "      <th>Function [CC]</th>\n",
       "      <th>Rhea ID</th>\n",
       "      <th>Site</th>\n",
       "    </tr>\n",
       "  </thead>\n",
       "  <tbody>\n",
       "    <tr>\n",
       "      <th>0</th>\n",
       "      <td>P38605</td>\n",
       "      <td>CAS1_ARATH</td>\n",
       "      <td>CAS1 CYC At2g07050 T4E14.16</td>\n",
       "      <td>Cycloartenol synthase (AtCYC) (EC 5.4.99.8) (2...</td>\n",
       "      <td>Terpene cyclase/mutase family</td>\n",
       "      <td>Arabidopsis thaliana (Mouse-ear cress)</td>\n",
       "      <td>3702.0</td>\n",
       "      <td>NaN</td>\n",
       "      <td>ACT_SITE 483; /note=\"Proton donor\"; /evidence=...</td>\n",
       "      <td>CATALYTIC ACTIVITY: Reaction=(S)-2,3-epoxysqua...</td>\n",
       "      <td>5.4.99.8</td>\n",
       "      <td>FUNCTION: Converts oxidosqualene to cycloarten...</td>\n",
       "      <td>RHEA:21308</td>\n",
       "      <td>NaN</td>\n",
       "    </tr>\n",
       "    <tr>\n",
       "      <th>1</th>\n",
       "      <td>P53799</td>\n",
       "      <td>FDFT1_ARATH</td>\n",
       "      <td>SQS1 At4g34640 T4L20.220</td>\n",
       "      <td>Squalene synthase 1 (SQS 1) (SS 1) (EC 2.5.1.2...</td>\n",
       "      <td>Phytoene/squalene synthase family</td>\n",
       "      <td>Arabidopsis thaliana (Mouse-ear cress)</td>\n",
       "      <td>3702.0</td>\n",
       "      <td>NaN</td>\n",
       "      <td>NaN</td>\n",
       "      <td>CATALYTIC ACTIVITY: Reaction=2 (2E,6E)-farnesy...</td>\n",
       "      <td>2.5.1.21</td>\n",
       "      <td>NaN</td>\n",
       "      <td>RHEA:32295 RHEA:32299</td>\n",
       "      <td>NaN</td>\n",
       "    </tr>\n",
       "    <tr>\n",
       "      <th>2</th>\n",
       "      <td>Q84KL6</td>\n",
       "      <td>PT1_PINTA</td>\n",
       "      <td>PT1</td>\n",
       "      <td>(-)-alpha-pinene synthase, chloroplastic (EC 4...</td>\n",
       "      <td>Terpene synthase family, Tpsd subfamily</td>\n",
       "      <td>Pinus taeda (Loblolly pine)</td>\n",
       "      <td>3352.0</td>\n",
       "      <td>NaN</td>\n",
       "      <td>NaN</td>\n",
       "      <td>CATALYTIC ACTIVITY: Reaction=(2E)-geranyl diph...</td>\n",
       "      <td>4.2.3.119</td>\n",
       "      <td>FUNCTION: Involved in defensive oleoresin form...</td>\n",
       "      <td>RHEA:25488</td>\n",
       "      <td>NaN</td>\n",
       "    </tr>\n",
       "    <tr>\n",
       "      <th>3</th>\n",
       "      <td>P13513</td>\n",
       "      <td>TRI5_FUSSP</td>\n",
       "      <td>TRI5 TOX 5</td>\n",
       "      <td>Trichodiene synthase (EC 4.2.3.6) (Core tricho...</td>\n",
       "      <td>Trichodiene synthase family</td>\n",
       "      <td>Fusarium sporotrichioides</td>\n",
       "      <td>5514.0</td>\n",
       "      <td>NaN</td>\n",
       "      <td>NaN</td>\n",
       "      <td>CATALYTIC ACTIVITY: Reaction=(2E,6E)-farnesyl ...</td>\n",
       "      <td>4.2.3.6</td>\n",
       "      <td>FUNCTION: Trichodiene synthase; part of the co...</td>\n",
       "      <td>RHEA:12052</td>\n",
       "      <td>NaN</td>\n",
       "    </tr>\n",
       "    <tr>\n",
       "      <th>4</th>\n",
       "      <td>Q84KL3</td>\n",
       "      <td>PT30_PINTA</td>\n",
       "      <td>PT30</td>\n",
       "      <td>(+)-alpha-pinene synthase, chloroplastic (EC 4...</td>\n",
       "      <td>Terpene synthase family, Tpsd subfamily</td>\n",
       "      <td>Pinus taeda (Loblolly pine)</td>\n",
       "      <td>3352.0</td>\n",
       "      <td>NaN</td>\n",
       "      <td>NaN</td>\n",
       "      <td>CATALYTIC ACTIVITY: Reaction=(2E)-geranyl diph...</td>\n",
       "      <td>4.2.3.121</td>\n",
       "      <td>FUNCTION: Involved in defensive oleoresin form...</td>\n",
       "      <td>RHEA:32575</td>\n",
       "      <td>NaN</td>\n",
       "    </tr>\n",
       "    <tr>\n",
       "      <th>...</th>\n",
       "      <td>...</td>\n",
       "      <td>...</td>\n",
       "      <td>...</td>\n",
       "      <td>...</td>\n",
       "      <td>...</td>\n",
       "      <td>...</td>\n",
       "      <td>...</td>\n",
       "      <td>...</td>\n",
       "      <td>...</td>\n",
       "      <td>...</td>\n",
       "      <td>...</td>\n",
       "      <td>...</td>\n",
       "      <td>...</td>\n",
       "      <td>...</td>\n",
       "    </tr>\n",
       "    <tr>\n",
       "      <th>0</th>\n",
       "      <td>A0A9E9L8B6</td>\n",
       "      <td>A0A9E9L8B6_9BURK</td>\n",
       "      <td>NB647_01390</td>\n",
       "      <td>Polyprenyl synthetase family protein</td>\n",
       "      <td>FPP/GGPP synthase family</td>\n",
       "      <td>Oxalobacter aliiformigenes</td>\n",
       "      <td>2946593.0</td>\n",
       "      <td>NaN</td>\n",
       "      <td>NaN</td>\n",
       "      <td>NaN</td>\n",
       "      <td>NaN</td>\n",
       "      <td>NaN</td>\n",
       "      <td>NaN</td>\n",
       "      <td>NaN</td>\n",
       "    </tr>\n",
       "    <tr>\n",
       "      <th>1</th>\n",
       "      <td>A0A9E9LCB4</td>\n",
       "      <td>A0A9E9LCB4_9BURK</td>\n",
       "      <td>NB646_01775</td>\n",
       "      <td>Polyprenyl synthetase family protein</td>\n",
       "      <td>FPP/GGPP synthase family</td>\n",
       "      <td>Oxalobacter aliiformigenes</td>\n",
       "      <td>2946593.0</td>\n",
       "      <td>NaN</td>\n",
       "      <td>NaN</td>\n",
       "      <td>NaN</td>\n",
       "      <td>NaN</td>\n",
       "      <td>NaN</td>\n",
       "      <td>NaN</td>\n",
       "      <td>NaN</td>\n",
       "    </tr>\n",
       "    <tr>\n",
       "      <th>2</th>\n",
       "      <td>A0A9E9MLV7</td>\n",
       "      <td>A0A9E9MLV7_9ACTN</td>\n",
       "      <td>M6B22_00945</td>\n",
       "      <td>Polyprenyl synthetase family protein</td>\n",
       "      <td>FPP/GGPP synthase family</td>\n",
       "      <td>Jatrophihabitans sp. SB3-54</td>\n",
       "      <td>2944128.0</td>\n",
       "      <td>NaN</td>\n",
       "      <td>NaN</td>\n",
       "      <td>NaN</td>\n",
       "      <td>NaN</td>\n",
       "      <td>NaN</td>\n",
       "      <td>NaN</td>\n",
       "      <td>NaN</td>\n",
       "    </tr>\n",
       "    <tr>\n",
       "      <th>3</th>\n",
       "      <td>A0A9E9MPN2</td>\n",
       "      <td>A0A9E9MPN2_9ACTN</td>\n",
       "      <td>M6B22_09920</td>\n",
       "      <td>Polyprenyl synthetase family protein</td>\n",
       "      <td>FPP/GGPP synthase family</td>\n",
       "      <td>Jatrophihabitans sp. SB3-54</td>\n",
       "      <td>2944128.0</td>\n",
       "      <td>NaN</td>\n",
       "      <td>NaN</td>\n",
       "      <td>NaN</td>\n",
       "      <td>NaN</td>\n",
       "      <td>NaN</td>\n",
       "      <td>NaN</td>\n",
       "      <td>NaN</td>\n",
       "    </tr>\n",
       "    <tr>\n",
       "      <th>4</th>\n",
       "      <td>A0A9E9MKV3</td>\n",
       "      <td>A0A9E9MKV3_9ACTN</td>\n",
       "      <td>M6B22_19950</td>\n",
       "      <td>Polyprenyl synthetase family protein</td>\n",
       "      <td>FPP/GGPP synthase family</td>\n",
       "      <td>Jatrophihabitans sp. SB3-54</td>\n",
       "      <td>2944128.0</td>\n",
       "      <td>NaN</td>\n",
       "      <td>NaN</td>\n",
       "      <td>NaN</td>\n",
       "      <td>NaN</td>\n",
       "      <td>NaN</td>\n",
       "      <td>NaN</td>\n",
       "      <td>NaN</td>\n",
       "    </tr>\n",
       "  </tbody>\n",
       "</table>\n",
       "<p>146830 rows × 14 columns</p>\n",
       "</div>"
      ],
      "text/plain": [
       "         Entry        Entry Name                   Gene Names  \\\n",
       "0       P38605        CAS1_ARATH  CAS1 CYC At2g07050 T4E14.16   \n",
       "1       P53799       FDFT1_ARATH     SQS1 At4g34640 T4L20.220   \n",
       "2       Q84KL6         PT1_PINTA                          PT1   \n",
       "3       P13513        TRI5_FUSSP                   TRI5 TOX 5   \n",
       "4       Q84KL3        PT30_PINTA                         PT30   \n",
       "..         ...               ...                          ...   \n",
       "0   A0A9E9L8B6  A0A9E9L8B6_9BURK                  NB647_01390   \n",
       "1   A0A9E9LCB4  A0A9E9LCB4_9BURK                  NB646_01775   \n",
       "2   A0A9E9MLV7  A0A9E9MLV7_9ACTN                  M6B22_00945   \n",
       "3   A0A9E9MPN2  A0A9E9MPN2_9ACTN                  M6B22_09920   \n",
       "4   A0A9E9MKV3  A0A9E9MKV3_9ACTN                  M6B22_19950   \n",
       "\n",
       "                                        Protein names  \\\n",
       "0   Cycloartenol synthase (AtCYC) (EC 5.4.99.8) (2...   \n",
       "1   Squalene synthase 1 (SQS 1) (SS 1) (EC 2.5.1.2...   \n",
       "2   (-)-alpha-pinene synthase, chloroplastic (EC 4...   \n",
       "3   Trichodiene synthase (EC 4.2.3.6) (Core tricho...   \n",
       "4   (+)-alpha-pinene synthase, chloroplastic (EC 4...   \n",
       "..                                                ...   \n",
       "0                Polyprenyl synthetase family protein   \n",
       "1                Polyprenyl synthetase family protein   \n",
       "2                Polyprenyl synthetase family protein   \n",
       "3                Polyprenyl synthetase family protein   \n",
       "4                Polyprenyl synthetase family protein   \n",
       "\n",
       "                           Protein families  \\\n",
       "0             Terpene cyclase/mutase family   \n",
       "1         Phytoene/squalene synthase family   \n",
       "2   Terpene synthase family, Tpsd subfamily   \n",
       "3               Trichodiene synthase family   \n",
       "4   Terpene synthase family, Tpsd subfamily   \n",
       "..                                      ...   \n",
       "0                  FPP/GGPP synthase family   \n",
       "1                  FPP/GGPP synthase family   \n",
       "2                  FPP/GGPP synthase family   \n",
       "3                  FPP/GGPP synthase family   \n",
       "4                  FPP/GGPP synthase family   \n",
       "\n",
       "                                  Organism  Organism (ID) Fragment  \\\n",
       "0   Arabidopsis thaliana (Mouse-ear cress)         3702.0      NaN   \n",
       "1   Arabidopsis thaliana (Mouse-ear cress)         3702.0      NaN   \n",
       "2              Pinus taeda (Loblolly pine)         3352.0      NaN   \n",
       "3                Fusarium sporotrichioides         5514.0      NaN   \n",
       "4              Pinus taeda (Loblolly pine)         3352.0      NaN   \n",
       "..                                     ...            ...      ...   \n",
       "0               Oxalobacter aliiformigenes      2946593.0      NaN   \n",
       "1               Oxalobacter aliiformigenes      2946593.0      NaN   \n",
       "2              Jatrophihabitans sp. SB3-54      2944128.0      NaN   \n",
       "3              Jatrophihabitans sp. SB3-54      2944128.0      NaN   \n",
       "4              Jatrophihabitans sp. SB3-54      2944128.0      NaN   \n",
       "\n",
       "                                          Active site  \\\n",
       "0   ACT_SITE 483; /note=\"Proton donor\"; /evidence=...   \n",
       "1                                                 NaN   \n",
       "2                                                 NaN   \n",
       "3                                                 NaN   \n",
       "4                                                 NaN   \n",
       "..                                                ...   \n",
       "0                                                 NaN   \n",
       "1                                                 NaN   \n",
       "2                                                 NaN   \n",
       "3                                                 NaN   \n",
       "4                                                 NaN   \n",
       "\n",
       "                                   Catalytic activity  EC number  \\\n",
       "0   CATALYTIC ACTIVITY: Reaction=(S)-2,3-epoxysqua...   5.4.99.8   \n",
       "1   CATALYTIC ACTIVITY: Reaction=2 (2E,6E)-farnesy...   2.5.1.21   \n",
       "2   CATALYTIC ACTIVITY: Reaction=(2E)-geranyl diph...  4.2.3.119   \n",
       "3   CATALYTIC ACTIVITY: Reaction=(2E,6E)-farnesyl ...    4.2.3.6   \n",
       "4   CATALYTIC ACTIVITY: Reaction=(2E)-geranyl diph...  4.2.3.121   \n",
       "..                                                ...        ...   \n",
       "0                                                 NaN        NaN   \n",
       "1                                                 NaN        NaN   \n",
       "2                                                 NaN        NaN   \n",
       "3                                                 NaN        NaN   \n",
       "4                                                 NaN        NaN   \n",
       "\n",
       "                                        Function [CC]                Rhea ID  \\\n",
       "0   FUNCTION: Converts oxidosqualene to cycloarten...             RHEA:21308   \n",
       "1                                                 NaN  RHEA:32295 RHEA:32299   \n",
       "2   FUNCTION: Involved in defensive oleoresin form...             RHEA:25488   \n",
       "3   FUNCTION: Trichodiene synthase; part of the co...             RHEA:12052   \n",
       "4   FUNCTION: Involved in defensive oleoresin form...             RHEA:32575   \n",
       "..                                                ...                    ...   \n",
       "0                                                 NaN                    NaN   \n",
       "1                                                 NaN                    NaN   \n",
       "2                                                 NaN                    NaN   \n",
       "3                                                 NaN                    NaN   \n",
       "4                                                 NaN                    NaN   \n",
       "\n",
       "   Site  \n",
       "0   NaN  \n",
       "1   NaN  \n",
       "2   NaN  \n",
       "3   NaN  \n",
       "4   NaN  \n",
       "..  ...  \n",
       "0   NaN  \n",
       "1   NaN  \n",
       "2   NaN  \n",
       "3   NaN  \n",
       "4   NaN  \n",
       "\n",
       "[146830 rows x 14 columns]"
      ]
     },
     "execution_count": 119,
     "metadata": {},
     "output_type": "execute_result"
    }
   ],
   "source": [
    "uniprot_df"
   ]
  },
  {
   "cell_type": "markdown",
   "id": "b1dd8418-97f5-476c-affe-0acda039fe98",
   "metadata": {},
   "source": [
    "### Test adding info"
   ]
  },
  {
   "cell_type": "code",
   "execution_count": 139,
   "id": "fa4f92fa-6388-4f08-b807-f2a1db710829",
   "metadata": {
    "tags": []
   },
   "outputs": [],
   "source": [
    "# Sample DataFrames\n",
    "data1 = {'IDs': ['1a;2a;3a', '4a;5a', '6a']}\n",
    "data2 = {'ID': ['1a', '2a', '3a', '5a'], 'name': ['A', 'B', 'C', 'D'], 'function': ['Func1', 'Func2', 'Func3', 'Func5'], 'organism': ['Org1', 'Org2', 'Org3', 'Org5']}"
   ]
  },
  {
   "cell_type": "code",
   "execution_count": 140,
   "id": "fda74bd3-4a00-4326-9d59-309e7165706d",
   "metadata": {
    "tags": []
   },
   "outputs": [],
   "source": [
    "df1 = pd.DataFrame(data1)\n",
    "df2 = pd.DataFrame(data2)"
   ]
  },
  {
   "cell_type": "code",
   "execution_count": 169,
   "id": "b6e91034-c53a-4236-a20d-5ae961272cdb",
   "metadata": {
    "tags": []
   },
   "outputs": [
    {
     "data": {
      "text/html": [
       "<div>\n",
       "<style scoped>\n",
       "    .dataframe tbody tr th:only-of-type {\n",
       "        vertical-align: middle;\n",
       "    }\n",
       "\n",
       "    .dataframe tbody tr th {\n",
       "        vertical-align: top;\n",
       "    }\n",
       "\n",
       "    .dataframe thead th {\n",
       "        text-align: right;\n",
       "    }\n",
       "</style>\n",
       "<table border=\"1\" class=\"dataframe\">\n",
       "  <thead>\n",
       "    <tr style=\"text-align: right;\">\n",
       "      <th></th>\n",
       "      <th>IDs</th>\n",
       "    </tr>\n",
       "  </thead>\n",
       "  <tbody>\n",
       "    <tr>\n",
       "      <th>0</th>\n",
       "      <td>1a;2a;3a</td>\n",
       "    </tr>\n",
       "    <tr>\n",
       "      <th>1</th>\n",
       "      <td>4a;5a</td>\n",
       "    </tr>\n",
       "    <tr>\n",
       "      <th>2</th>\n",
       "      <td>6a</td>\n",
       "    </tr>\n",
       "  </tbody>\n",
       "</table>\n",
       "</div>"
      ],
      "text/plain": [
       "        IDs\n",
       "0  1a;2a;3a\n",
       "1     4a;5a\n",
       "2        6a"
      ]
     },
     "execution_count": 169,
     "metadata": {},
     "output_type": "execute_result"
    }
   ],
   "source": [
    "df1"
   ]
  },
  {
   "cell_type": "code",
   "execution_count": 170,
   "id": "81bf37ee-8d83-40da-b148-323ec4b9ee4e",
   "metadata": {
    "tags": []
   },
   "outputs": [
    {
     "data": {
      "text/html": [
       "<div>\n",
       "<style scoped>\n",
       "    .dataframe tbody tr th:only-of-type {\n",
       "        vertical-align: middle;\n",
       "    }\n",
       "\n",
       "    .dataframe tbody tr th {\n",
       "        vertical-align: top;\n",
       "    }\n",
       "\n",
       "    .dataframe thead th {\n",
       "        text-align: right;\n",
       "    }\n",
       "</style>\n",
       "<table border=\"1\" class=\"dataframe\">\n",
       "  <thead>\n",
       "    <tr style=\"text-align: right;\">\n",
       "      <th></th>\n",
       "      <th>ID</th>\n",
       "      <th>name</th>\n",
       "      <th>function</th>\n",
       "      <th>organism</th>\n",
       "    </tr>\n",
       "  </thead>\n",
       "  <tbody>\n",
       "    <tr>\n",
       "      <th>0</th>\n",
       "      <td>1a</td>\n",
       "      <td>A</td>\n",
       "      <td>Func1</td>\n",
       "      <td>Org1</td>\n",
       "    </tr>\n",
       "    <tr>\n",
       "      <th>1</th>\n",
       "      <td>2a</td>\n",
       "      <td>B</td>\n",
       "      <td>Func2</td>\n",
       "      <td>Org2</td>\n",
       "    </tr>\n",
       "    <tr>\n",
       "      <th>2</th>\n",
       "      <td>3a</td>\n",
       "      <td>C</td>\n",
       "      <td>Func3</td>\n",
       "      <td>Org3</td>\n",
       "    </tr>\n",
       "    <tr>\n",
       "      <th>3</th>\n",
       "      <td>5a</td>\n",
       "      <td>D</td>\n",
       "      <td>Func5</td>\n",
       "      <td>Org5</td>\n",
       "    </tr>\n",
       "  </tbody>\n",
       "</table>\n",
       "</div>"
      ],
      "text/plain": [
       "   ID name function organism\n",
       "0  1a    A    Func1     Org1\n",
       "1  2a    B    Func2     Org2\n",
       "2  3a    C    Func3     Org3\n",
       "3  5a    D    Func5     Org5"
      ]
     },
     "execution_count": 170,
     "metadata": {},
     "output_type": "execute_result"
    }
   ],
   "source": [
    "df2"
   ]
  },
  {
   "cell_type": "code",
   "execution_count": 184,
   "id": "21cfefc1-d65f-41b7-9fb8-d08fc0ac257a",
   "metadata": {
    "tags": []
   },
   "outputs": [
    {
     "name": "stdout",
     "output_type": "stream",
     "text": [
      "1a;2a;3a\n",
      "4a;5a\n",
      "6a\n"
     ]
    }
   ],
   "source": [
    "df1_anno = {}\n",
    "df2_ids = df2['ID'].tolist()\n",
    "for ids in df1['IDs'].tolist():\n",
    "    print(ids)\n",
    "    anno_l = []\n",
    "    for entry_id in ids.split(';'):\n",
    "        if entry_id in df2_ids:\n",
    "            #print(entry_id)\n",
    "            anno_l.append(df2[df2['ID'] == entry_id].values.tolist()[0])\n",
    "    ids = ';'.join([l[0] for l in anno_l])\n",
    "    names = ';'.join([l[1] for l in anno_l])\n",
    "    functions = ';'.join([l[2] for l in anno_l])\n",
    "    organisms = ';'.join([l[3] for l in anno_l])\n",
    "    df1_anno[ids] = [ids, names, functions, organisms]"
   ]
  },
  {
   "cell_type": "code",
   "execution_count": 190,
   "id": "58607155-c830-4c32-8476-e80c6e97d4c0",
   "metadata": {
    "tags": []
   },
   "outputs": [
    {
     "data": {
      "text/html": [
       "<div>\n",
       "<style scoped>\n",
       "    .dataframe tbody tr th:only-of-type {\n",
       "        vertical-align: middle;\n",
       "    }\n",
       "\n",
       "    .dataframe tbody tr th {\n",
       "        vertical-align: top;\n",
       "    }\n",
       "\n",
       "    .dataframe thead th {\n",
       "        text-align: right;\n",
       "    }\n",
       "</style>\n",
       "<table border=\"1\" class=\"dataframe\">\n",
       "  <thead>\n",
       "    <tr style=\"text-align: right;\">\n",
       "      <th></th>\n",
       "      <th>ids</th>\n",
       "      <th>names</th>\n",
       "      <th>functions</th>\n",
       "      <th>organisms</th>\n",
       "    </tr>\n",
       "  </thead>\n",
       "  <tbody>\n",
       "    <tr>\n",
       "      <th>1a;2a;3a</th>\n",
       "      <td>1a;2a;3a</td>\n",
       "      <td>A;B;C</td>\n",
       "      <td>Func1;Func2;Func3</td>\n",
       "      <td>Org1;Org2;Org3</td>\n",
       "    </tr>\n",
       "    <tr>\n",
       "      <th>4a;5a</th>\n",
       "      <td>4a;5a</td>\n",
       "      <td>D</td>\n",
       "      <td>Func5</td>\n",
       "      <td>Org5</td>\n",
       "    </tr>\n",
       "    <tr>\n",
       "      <th>6a</th>\n",
       "      <td>6a</td>\n",
       "      <td></td>\n",
       "      <td></td>\n",
       "      <td></td>\n",
       "    </tr>\n",
       "  </tbody>\n",
       "</table>\n",
       "</div>"
      ],
      "text/plain": [
       "               ids  names          functions       organisms\n",
       "1a;2a;3a  1a;2a;3a  A;B;C  Func1;Func2;Func3  Org1;Org2;Org3\n",
       "4a;5a        4a;5a      D              Func5            Org5\n",
       "6a              6a                                          "
      ]
     },
     "execution_count": 190,
     "metadata": {},
     "output_type": "execute_result"
    }
   ],
   "source": [
    "pd.DataFrame.from_dict(df1_anno, orient='index', columns=['ids', 'names','functions','organisms'])"
   ]
  },
  {
   "cell_type": "markdown",
   "id": "c25fc4a9-9cee-44fa-95e3-f1a2c4da7b72",
   "metadata": {},
   "source": [
    "### Adding info"
   ]
  },
  {
   "cell_type": "code",
   "execution_count": 194,
   "id": "fe10c9d6-bffe-4ad2-a691-d92a2bfcffc1",
   "metadata": {
    "tags": []
   },
   "outputs": [
    {
     "data": {
      "text/plain": [
       "['O59947',\n",
       " 'Q71RX9',\n",
       " 'A0A084R4B7',\n",
       " 'O59947.1 (obsolete)',\n",
       " 'A0A084P550.1 (obsolete)']"
      ]
     },
     "execution_count": 194,
     "metadata": {},
     "output_type": "execute_result"
    }
   ],
   "source": [
    "mapping['uniprot_ids'].tolist()[0].split('; ')"
   ]
  },
  {
   "cell_type": "code",
   "execution_count": 195,
   "id": "b9d8c861-55e8-45e0-a6da-13e33d478448",
   "metadata": {
    "tags": []
   },
   "outputs": [
    {
     "data": {
      "text/plain": [
       "Index(['Entry', 'Entry Name', 'Gene Names', 'Protein names',\n",
       "       'Protein families', 'Organism', 'Organism (ID)', 'Fragment',\n",
       "       'Active site', 'Catalytic activity', 'EC number', 'Function [CC]',\n",
       "       'Rhea ID', 'Site'],\n",
       "      dtype='object')"
      ]
     },
     "execution_count": 195,
     "metadata": {},
     "output_type": "execute_result"
    }
   ],
   "source": [
    "uniprot_df.columns"
   ]
  },
  {
   "cell_type": "code",
   "execution_count": 204,
   "id": "c6361ae4-ed71-4de5-b26f-d8467c14924a",
   "metadata": {
    "tags": []
   },
   "outputs": [],
   "source": [
    "mapping_anno = {}\n",
    "uniprot_df_ids = uniprot_df['Entry'].tolist()\n",
    "for ids in mapping['uniprot_ids'].tolist():\n",
    "    anno_l = []\n",
    "    for entry_id in ids.split('; '):\n",
    "        if entry_id in uniprot_df_ids:\n",
    "            anno_l.append(uniprot_df[uniprot_df['Entry'] == entry_id].values.tolist()[0])\n",
    "    entry_names = ';'.join([l[1] for l in anno_l])\n",
    "    gene_names = ';'.join([str(l[2]) for l in anno_l])\n",
    "    protein_names = ';'.join([l[3] for l in anno_l])\n",
    "    protein_families = ';'.join([str(l[4]) for l in anno_l])\n",
    "    organisms = ';'.join([str(l[5]) for l in anno_l])\n",
    "    organisms_taxids = ';'.join([str(l[6]) for l in anno_l])\n",
    "    fragments = ';'.join([str(l[7]) for l in anno_l])\n",
    "    active_sites = ';'.join([str(l[8]) for l in anno_l])\n",
    "    catalytic_activities = ';'.join([str(l[9]) for l in anno_l])\n",
    "    ec_numbers = ';'.join([str(l[10]) for l in anno_l])\n",
    "    functions = ';'.join([str(l[11]) for l in anno_l])\n",
    "    rheas = ';'.join([str(l[12]) for l in anno_l])\n",
    "    sites = ';'.join([str(l[13]) for l in anno_l])\n",
    "\n",
    "    mapping_anno[ids] = [entry_names, gene_names, protein_names, protein_families, organisms, organisms_taxids, fragments, active_sites, catalytic_activities, ec_numbers, functions, rheas, sites]"
   ]
  },
  {
   "cell_type": "code",
   "execution_count": 211,
   "id": "8d8f68d7-d63b-49b6-8bdf-d40adbe2efe2",
   "metadata": {},
   "outputs": [],
   "source": [
    "uniprot_extra_anno = pd.DataFrame.from_dict(mapping_anno, orient='index', columns=['entry_names', 'gene_names', 'protein_names', 'protein_families', 'organisms', 'organisms_taxids', 'fragments', 'active_sites', 'catalytic_activities', 'ec_numbers', 'functions', 'rheas', 'sites'])"
   ]
  },
  {
   "cell_type": "code",
   "execution_count": 214,
   "id": "8ce0cacc-46ad-4388-9041-3ce030a09fc7",
   "metadata": {
    "tags": []
   },
   "outputs": [],
   "source": [
    "#uniprot_extra_anno = uniprot_extra_anno.drop(uniprot_extra_anno.index[:3])"
   ]
  },
  {
   "cell_type": "code",
   "execution_count": 216,
   "id": "1a436d0c-2344-4b86-bf8a-5d7a22df57ac",
   "metadata": {
    "collapsed": true,
    "jupyter": {
     "outputs_hidden": true
    },
    "tags": []
   },
   "outputs": [
    {
     "data": {
      "text/html": [
       "<div>\n",
       "<style scoped>\n",
       "    .dataframe tbody tr th:only-of-type {\n",
       "        vertical-align: middle;\n",
       "    }\n",
       "\n",
       "    .dataframe tbody tr th {\n",
       "        vertical-align: top;\n",
       "    }\n",
       "\n",
       "    .dataframe thead th {\n",
       "        text-align: right;\n",
       "    }\n",
       "</style>\n",
       "<table border=\"1\" class=\"dataframe\">\n",
       "  <thead>\n",
       "    <tr style=\"text-align: right;\">\n",
       "      <th></th>\n",
       "      <th>entry_names</th>\n",
       "      <th>gene_names</th>\n",
       "      <th>protein_names</th>\n",
       "      <th>protein_families</th>\n",
       "      <th>organisms</th>\n",
       "      <th>organisms_taxids</th>\n",
       "      <th>fragments</th>\n",
       "      <th>active_sites</th>\n",
       "      <th>catalytic_activities</th>\n",
       "      <th>ec_numbers</th>\n",
       "      <th>functions</th>\n",
       "      <th>rheas</th>\n",
       "      <th>sites</th>\n",
       "    </tr>\n",
       "  </thead>\n",
       "  <tbody>\n",
       "    <tr>\n",
       "      <th>O59947; Q71RX9; A0A084R4B7; O59947.1 (obsolete); A0A084P550.1 (obsolete)</th>\n",
       "      <td>TRI5_STACH;Q71RX9_STACH;A0A084R4B7_STACH</td>\n",
       "      <td>TRI5;TRI5;TRI5 S40288_05530</td>\n",
       "      <td>Trichodiene synthase (EC 4.2.3.6) (Sesquiterpe...</td>\n",
       "      <td>Trichodiene synthase family;Trichodiene syntha...</td>\n",
       "      <td>Stachybotrys chartarum (Toxic black mold) (Sti...</td>\n",
       "      <td>74722.0;74722.0;1283842.0</td>\n",
       "      <td>nan;nan;nan</td>\n",
       "      <td>nan;nan;nan</td>\n",
       "      <td>CATALYTIC ACTIVITY: Reaction=(2E,6E)-farnesyl ...</td>\n",
       "      <td>4.2.3.6;4.2.3.6;4.2.3.6</td>\n",
       "      <td>FUNCTION: TS is a member of the terpene cyclas...</td>\n",
       "      <td>RHEA:12052;RHEA:12052;RHEA:12052</td>\n",
       "      <td>nan;nan;nan</td>\n",
       "    </tr>\n",
       "    <tr>\n",
       "      <th>Q84LE3</th>\n",
       "      <td>Q84LE3_LOTJA</td>\n",
       "      <td>LjSqS</td>\n",
       "      <td>Squalene synthase (EC 2.5.1.21)</td>\n",
       "      <td>Phytoene/squalene synthase family</td>\n",
       "      <td>Lotus japonicus (Lotus corniculatus var. japon...</td>\n",
       "      <td>34305.0</td>\n",
       "      <td>nan</td>\n",
       "      <td>nan</td>\n",
       "      <td>CATALYTIC ACTIVITY: Reaction=2 (2E,6E)-farnesy...</td>\n",
       "      <td>2.5.1.21</td>\n",
       "      <td>FUNCTION: Catalyzes the condensation of 2 farn...</td>\n",
       "      <td>RHEA:32299 RHEA:32295</td>\n",
       "      <td>nan</td>\n",
       "    </tr>\n",
       "    <tr>\n",
       "      <th>Q84PE2</th>\n",
       "      <td>Q84PE2_LOTJA</td>\n",
       "      <td>AMY1</td>\n",
       "      <td>Terpene cyclase/mutase family member (EC 5.4.9...</td>\n",
       "      <td>Terpene cyclase/mutase family</td>\n",
       "      <td>Lotus japonicus (Lotus corniculatus var. japon...</td>\n",
       "      <td>34305.0</td>\n",
       "      <td>fragment</td>\n",
       "      <td>nan</td>\n",
       "      <td>nan</td>\n",
       "      <td>5.4.99.-</td>\n",
       "      <td>nan</td>\n",
       "      <td>nan</td>\n",
       "      <td>nan</td>\n",
       "    </tr>\n",
       "    <tr>\n",
       "      <th>Q84PE1</th>\n",
       "      <td>Q84PE1_LOTJA</td>\n",
       "      <td>AMY2</td>\n",
       "      <td>Terpene cyclase/mutase family member (EC 5.4.9...</td>\n",
       "      <td>Terpene cyclase/mutase family</td>\n",
       "      <td>Lotus japonicus (Lotus corniculatus var. japon...</td>\n",
       "      <td>34305.0</td>\n",
       "      <td>nan</td>\n",
       "      <td>nan</td>\n",
       "      <td>nan</td>\n",
       "      <td>5.4.99.-</td>\n",
       "      <td>nan</td>\n",
       "      <td>nan</td>\n",
       "      <td>nan</td>\n",
       "    </tr>\n",
       "    <tr>\n",
       "      <th>P13513; Q7LP67.1 (obsolete)</th>\n",
       "      <td>TRI5_FUSSP</td>\n",
       "      <td>TRI5 TOX 5</td>\n",
       "      <td>Trichodiene synthase (EC 4.2.3.6) (Core tricho...</td>\n",
       "      <td>Trichodiene synthase family</td>\n",
       "      <td>Fusarium sporotrichioides</td>\n",
       "      <td>5514.0</td>\n",
       "      <td>nan</td>\n",
       "      <td>nan</td>\n",
       "      <td>CATALYTIC ACTIVITY: Reaction=(2E,6E)-farnesyl ...</td>\n",
       "      <td>4.2.3.6</td>\n",
       "      <td>FUNCTION: Trichodiene synthase; part of the co...</td>\n",
       "      <td>RHEA:12052</td>\n",
       "      <td>nan</td>\n",
       "    </tr>\n",
       "    <tr>\n",
       "      <th>P53799; A0A5S9XYM7; A0A654FVH2.1 (obsolete)</th>\n",
       "      <td>FDFT1_ARATH;A0A5S9XYM7_ARATH</td>\n",
       "      <td>SQS1 At4g34640 T4L20.220;AN1_LOCUS20305 AT9943...</td>\n",
       "      <td>Squalene synthase 1 (SQS 1) (SS 1) (EC 2.5.1.2...</td>\n",
       "      <td>Phytoene/squalene synthase family;Phytoene/squ...</td>\n",
       "      <td>Arabidopsis thaliana (Mouse-ear cress);Arabido...</td>\n",
       "      <td>3702.0;3702.0</td>\n",
       "      <td>nan;nan</td>\n",
       "      <td>nan;nan</td>\n",
       "      <td>CATALYTIC ACTIVITY: Reaction=2 (2E,6E)-farnesy...</td>\n",
       "      <td>2.5.1.21;2.5.1.21</td>\n",
       "      <td>nan;FUNCTION: Catalyzes the condensation of 2 ...</td>\n",
       "      <td>RHEA:32295 RHEA:32299;RHEA:32299 RHEA:32295</td>\n",
       "      <td>nan;nan</td>\n",
       "    </tr>\n",
       "    <tr>\n",
       "      <th>P21683; D4GFK9; G7UMT4.1 (obsolete); G9AY33.1 (obsolete); U4WEY5.1 (obsolete); A0A0B8M1V9.1 (obsolete); A0A0E9BCQ1.1 (obsolete); A0A0N1S1B1.1 (obsolete); A0A221NDR8.1 (obsolete); A0A225T3K4.1 (obsolete); A0A2V2XWF3.1 (obsolete)</th>\n",
       "      <td>CRTB_PANAN;D4GFK9_PANAM</td>\n",
       "      <td>crtB;crtB PANA_4162</td>\n",
       "      <td>15-cis-phytoene synthase (PSase) (EC 2.5.1.32)...</td>\n",
       "      <td>Phytoene/squalene synthase family;nan</td>\n",
       "      <td>Pantoea ananas (Erwinia uredovora);Pantoea ana...</td>\n",
       "      <td>553.0;706191.0</td>\n",
       "      <td>nan;nan</td>\n",
       "      <td>nan;nan</td>\n",
       "      <td>CATALYTIC ACTIVITY: Reaction=2 (2E,6E,10E)-ger...</td>\n",
       "      <td>2.5.1.32;nan</td>\n",
       "      <td>FUNCTION: Involved in the biosynthesis of caro...</td>\n",
       "      <td>RHEA:34475;nan</td>\n",
       "      <td>nan;nan</td>\n",
       "    </tr>\n",
       "    <tr>\n",
       "      <th>Q7KWU0; Q8T270.1 (obsolete); Q86KM5.1 (obsolete); Q7KWU0.1 (obsolete); Q559I1.1 (obsolete)</th>\n",
       "      <td>TPS2_DICDI</td>\n",
       "      <td>TPS2 DDB0168859</td>\n",
       "      <td>Terpene synthase 2 (EC 4.2.3.-) (EC 4.2.3.161)</td>\n",
       "      <td>Terpene synthase family</td>\n",
       "      <td>Dictyostelium discoideum (Social amoeba)</td>\n",
       "      <td>44689.0</td>\n",
       "      <td>nan</td>\n",
       "      <td>nan</td>\n",
       "      <td>CATALYTIC ACTIVITY: Reaction=(2E,6E)-farnesyl ...</td>\n",
       "      <td>4.2.3.-; 4.2.3.161</td>\n",
       "      <td>FUNCTION: Terpene synthase that converts its s...</td>\n",
       "      <td>RHEA:53632 RHEA:68824 RHEA:68708</td>\n",
       "      <td>nan</td>\n",
       "    </tr>\n",
       "    <tr>\n",
       "      <th>Q75J90; Q86JQ2.1 (obsolete); Q75J90.1 (obsolete); Q54ZR0.1 (obsolete)</th>\n",
       "      <td>TPS4_DICDI</td>\n",
       "      <td>TPS4 DDB0169193</td>\n",
       "      <td>Terpene synthase 4 (EC 4.2.3.-)</td>\n",
       "      <td>Terpene synthase family</td>\n",
       "      <td>Dictyostelium discoideum (Social amoeba)</td>\n",
       "      <td>44689.0</td>\n",
       "      <td>nan</td>\n",
       "      <td>nan</td>\n",
       "      <td>CATALYTIC ACTIVITY: Reaction=(2E,6E)-farnesyl ...</td>\n",
       "      <td>4.2.3.-</td>\n",
       "      <td>FUNCTION: Terpene synthase that converts its s...</td>\n",
       "      <td>RHEA:56984</td>\n",
       "      <td>nan</td>\n",
       "    </tr>\n",
       "    <tr>\n",
       "      <th>Q84KL6; Q84KL6.1 (obsolete)</th>\n",
       "      <td>PT1_PINTA</td>\n",
       "      <td>PT1</td>\n",
       "      <td>(-)-alpha-pinene synthase, chloroplastic (EC 4...</td>\n",
       "      <td>Terpene synthase family, Tpsd subfamily</td>\n",
       "      <td>Pinus taeda (Loblolly pine)</td>\n",
       "      <td>3352.0</td>\n",
       "      <td>nan</td>\n",
       "      <td>nan</td>\n",
       "      <td>CATALYTIC ACTIVITY: Reaction=(2E)-geranyl diph...</td>\n",
       "      <td>4.2.3.119</td>\n",
       "      <td>FUNCTION: Involved in defensive oleoresin form...</td>\n",
       "      <td>RHEA:25488</td>\n",
       "      <td>nan</td>\n",
       "    </tr>\n",
       "    <tr>\n",
       "      <th>Q84KL3; Q84KL3.1 (obsolete)</th>\n",
       "      <td>PT30_PINTA</td>\n",
       "      <td>PT30</td>\n",
       "      <td>(+)-alpha-pinene synthase, chloroplastic (EC 4...</td>\n",
       "      <td>Terpene synthase family, Tpsd subfamily</td>\n",
       "      <td>Pinus taeda (Loblolly pine)</td>\n",
       "      <td>3352.0</td>\n",
       "      <td>nan</td>\n",
       "      <td>nan</td>\n",
       "      <td>CATALYTIC ACTIVITY: Reaction=(2E)-geranyl diph...</td>\n",
       "      <td>4.2.3.121</td>\n",
       "      <td>FUNCTION: Involved in defensive oleoresin form...</td>\n",
       "      <td>RHEA:32575</td>\n",
       "      <td>nan</td>\n",
       "    </tr>\n",
       "    <tr>\n",
       "      <th>Q00909; A0A193KW22; A0A193KW32; A0A193KW53; A0A193KW64; A0A1I9FCV5; A0A2H3GRM2; Q00909.2 (obsolete); Q7LP63.1 (obsolete); Q4IGX1.1 (obsolete); V6R4Z7.1 (obsolete); A0A016P8G6.1 (obsolete); A0A0E0S4D4.1 (obsolete)</th>\n",
       "      <td>TRI5_GIBZE;A0A193KW22_9HYPO;A0A193KW32_9HYPO;A...</td>\n",
       "      <td>TRI5 FGRRES_03537 FGSG_03537;Tri5;Tri5;Tri5;Tr...</td>\n",
       "      <td>Trichodiene synthase (EC 4.2.3.6) (Sesquiterpe...</td>\n",
       "      <td>Trichodiene synthase family;Trichodiene syntha...</td>\n",
       "      <td>Gibberella zeae (strain ATCC MYA-4620 / CBS 12...</td>\n",
       "      <td>229533.0;1785703.0;1785704.0;1785706.0;1785707...</td>\n",
       "      <td>nan;nan;nan;nan;nan;nan;nan</td>\n",
       "      <td>nan;nan;nan;nan;nan;nan;nan</td>\n",
       "      <td>CATALYTIC ACTIVITY: Reaction=(2E,6E)-farnesyl ...</td>\n",
       "      <td>4.2.3.6;4.2.3.6;4.2.3.6;4.2.3.6;4.2.3.6;4.2.3....</td>\n",
       "      <td>FUNCTION: TS is a member of the terpene cyclas...</td>\n",
       "      <td>RHEA:12052;RHEA:12052;RHEA:12052;RHEA:12052;RH...</td>\n",
       "      <td>nan;nan;nan;nan;nan;nan;nan</td>\n",
       "    </tr>\n",
       "    <tr>\n",
       "      <th>P38605; Q9SLG6.1 (obsolete)</th>\n",
       "      <td>CAS1_ARATH</td>\n",
       "      <td>CAS1 CYC At2g07050 T4E14.16</td>\n",
       "      <td>Cycloartenol synthase (AtCYC) (EC 5.4.99.8) (2...</td>\n",
       "      <td>Terpene cyclase/mutase family</td>\n",
       "      <td>Arabidopsis thaliana (Mouse-ear cress)</td>\n",
       "      <td>3702.0</td>\n",
       "      <td>nan</td>\n",
       "      <td>ACT_SITE 483; /note=\"Proton donor\"; /evidence=...</td>\n",
       "      <td>CATALYTIC ACTIVITY: Reaction=(S)-2,3-epoxysqua...</td>\n",
       "      <td>5.4.99.8</td>\n",
       "      <td>FUNCTION: Converts oxidosqualene to cycloarten...</td>\n",
       "      <td>RHEA:21308</td>\n",
       "      <td>nan</td>\n",
       "    </tr>\n",
       "    <tr>\n",
       "      <th>Q84ZW8.1 (obsolete); Q84ZW8.1 (obsolete)</th>\n",
       "      <td></td>\n",
       "      <td></td>\n",
       "      <td></td>\n",
       "      <td></td>\n",
       "      <td></td>\n",
       "      <td></td>\n",
       "      <td></td>\n",
       "      <td></td>\n",
       "      <td></td>\n",
       "      <td></td>\n",
       "      <td></td>\n",
       "      <td></td>\n",
       "      <td></td>\n",
       "    </tr>\n",
       "    <tr>\n",
       "      <th>Q84KL5; Q84KL5.1 (obsolete)</th>\n",
       "      <td>PT5_PINTA</td>\n",
       "      <td>PT5</td>\n",
       "      <td>Alpha-farnesene synthase (EC 4.2.3.46)</td>\n",
       "      <td>Terpene synthase family, Tpsd subfamily</td>\n",
       "      <td>Pinus taeda (Loblolly pine)</td>\n",
       "      <td>3352.0</td>\n",
       "      <td>nan</td>\n",
       "      <td>nan</td>\n",
       "      <td>CATALYTIC ACTIVITY: Reaction=(2E,6E)-farnesyl ...</td>\n",
       "      <td>4.2.3.46</td>\n",
       "      <td>FUNCTION: Involved in sesquiterpene (C15) bios...</td>\n",
       "      <td>RHEA:27421</td>\n",
       "      <td>nan</td>\n",
       "    </tr>\n",
       "    <tr>\n",
       "      <th>Q84KL4; Q84KL4.1 (obsolete)</th>\n",
       "      <td>PT10_PINTA</td>\n",
       "      <td>PT10</td>\n",
       "      <td>(-)-alpha-terpineol synthase, chloroplastic (E...</td>\n",
       "      <td>Terpene synthase family, Tpsd subfamily</td>\n",
       "      <td>Pinus taeda (Loblolly pine)</td>\n",
       "      <td>3352.0</td>\n",
       "      <td>nan</td>\n",
       "      <td>nan</td>\n",
       "      <td>CATALYTIC ACTIVITY: Reaction=(2E)-geranyl diph...</td>\n",
       "      <td>4.2.3.111</td>\n",
       "      <td>FUNCTION: Involved in defensive oleoresin form...</td>\n",
       "      <td>RHEA:32551</td>\n",
       "      <td>nan</td>\n",
       "    </tr>\n",
       "    <tr>\n",
       "      <th>Q86II4; Q8MPA3.1 (obsolete); Q86II4.1 (obsolete); Q559E2.1 (obsolete)</th>\n",
       "      <td>TPS3_DICDI</td>\n",
       "      <td>TPS3 DDB0168894</td>\n",
       "      <td>Terpene synthase 3 (EC 4.2.3.-) (EC 4.2.3.106)...</td>\n",
       "      <td>Terpene synthase family</td>\n",
       "      <td>Dictyostelium discoideum (Social amoeba)</td>\n",
       "      <td>44689.0</td>\n",
       "      <td>nan</td>\n",
       "      <td>nan</td>\n",
       "      <td>CATALYTIC ACTIVITY: Reaction=(2E,6E)-farnesyl ...</td>\n",
       "      <td>4.2.3.-; 4.2.3.106; 4.2.3.15</td>\n",
       "      <td>FUNCTION: Terpene synthase that converts its s...</td>\n",
       "      <td>RHEA:73951 RHEA:73963 RHEA:73979 RHEA:32691 RH...</td>\n",
       "      <td>nan</td>\n",
       "    </tr>\n",
       "    <tr>\n",
       "      <th>Q93YV0; Q93YV0.1 (obsolete)</th>\n",
       "      <td>GES_ARATH</td>\n",
       "      <td>GES LIS TPS04 TPS4 At1g61120 F11P17.15</td>\n",
       "      <td>(E,E)-geranyllinalool synthase (AtGES) (EC 4.2...</td>\n",
       "      <td>Terpene synthase family, Tpsf subfamily</td>\n",
       "      <td>Arabidopsis thaliana (Mouse-ear cress)</td>\n",
       "      <td>3702.0</td>\n",
       "      <td>nan</td>\n",
       "      <td>nan</td>\n",
       "      <td>CATALYTIC ACTIVITY: Reaction=(2E,6E,10E)-geran...</td>\n",
       "      <td>4.2.3.144</td>\n",
       "      <td>FUNCTION: Involved in the biosynthesis of homo...</td>\n",
       "      <td>RHEA:38155</td>\n",
       "      <td>nan</td>\n",
       "    </tr>\n",
       "    <tr>\n",
       "      <th>Q84UU4-2; Q84YI3.1 (obsolete)</th>\n",
       "      <td></td>\n",
       "      <td></td>\n",
       "      <td></td>\n",
       "      <td></td>\n",
       "      <td></td>\n",
       "      <td></td>\n",
       "      <td></td>\n",
       "      <td></td>\n",
       "      <td></td>\n",
       "      <td></td>\n",
       "      <td></td>\n",
       "      <td></td>\n",
       "      <td></td>\n",
       "    </tr>\n",
       "    <tr>\n",
       "      <th>Q852S2.1 (obsolete)</th>\n",
       "      <td></td>\n",
       "      <td></td>\n",
       "      <td></td>\n",
       "      <td></td>\n",
       "      <td></td>\n",
       "      <td></td>\n",
       "      <td></td>\n",
       "      <td></td>\n",
       "      <td></td>\n",
       "      <td></td>\n",
       "      <td></td>\n",
       "      <td></td>\n",
       "      <td></td>\n",
       "    </tr>\n",
       "  </tbody>\n",
       "</table>\n",
       "</div>"
      ],
      "text/plain": [
       "                                                                                          entry_names  \\\n",
       "O59947; Q71RX9; A0A084R4B7; O59947.1 (obsolete)...           TRI5_STACH;Q71RX9_STACH;A0A084R4B7_STACH   \n",
       "Q84LE3                                                                                   Q84LE3_LOTJA   \n",
       "Q84PE2                                                                                   Q84PE2_LOTJA   \n",
       "Q84PE1                                                                                   Q84PE1_LOTJA   \n",
       "P13513; Q7LP67.1 (obsolete)                                                                TRI5_FUSSP   \n",
       "P53799; A0A5S9XYM7; A0A654FVH2.1 (obsolete)                              FDFT1_ARATH;A0A5S9XYM7_ARATH   \n",
       "P21683; D4GFK9; G7UMT4.1 (obsolete); G9AY33.1 (...                            CRTB_PANAN;D4GFK9_PANAM   \n",
       "Q7KWU0; Q8T270.1 (obsolete); Q86KM5.1 (obsolete...                                         TPS2_DICDI   \n",
       "Q75J90; Q86JQ2.1 (obsolete); Q75J90.1 (obsolete...                                         TPS4_DICDI   \n",
       "Q84KL6; Q84KL6.1 (obsolete)                                                                 PT1_PINTA   \n",
       "Q84KL3; Q84KL3.1 (obsolete)                                                                PT30_PINTA   \n",
       "Q00909; A0A193KW22; A0A193KW32; A0A193KW53; A0A...  TRI5_GIBZE;A0A193KW22_9HYPO;A0A193KW32_9HYPO;A...   \n",
       "P38605; Q9SLG6.1 (obsolete)                                                                CAS1_ARATH   \n",
       "Q84ZW8.1 (obsolete); Q84ZW8.1 (obsolete)                                                                \n",
       "Q84KL5; Q84KL5.1 (obsolete)                                                                 PT5_PINTA   \n",
       "Q84KL4; Q84KL4.1 (obsolete)                                                                PT10_PINTA   \n",
       "Q86II4; Q8MPA3.1 (obsolete); Q86II4.1 (obsolete...                                         TPS3_DICDI   \n",
       "Q93YV0; Q93YV0.1 (obsolete)                                                                 GES_ARATH   \n",
       "Q84UU4-2; Q84YI3.1 (obsolete)                                                                           \n",
       "Q852S2.1 (obsolete)                                                                                     \n",
       "\n",
       "                                                                                           gene_names  \\\n",
       "O59947; Q71RX9; A0A084R4B7; O59947.1 (obsolete)...                        TRI5;TRI5;TRI5 S40288_05530   \n",
       "Q84LE3                                                                                          LjSqS   \n",
       "Q84PE2                                                                                           AMY1   \n",
       "Q84PE1                                                                                           AMY2   \n",
       "P13513; Q7LP67.1 (obsolete)                                                                TRI5 TOX 5   \n",
       "P53799; A0A5S9XYM7; A0A654FVH2.1 (obsolete)         SQS1 At4g34640 T4L20.220;AN1_LOCUS20305 AT9943...   \n",
       "P21683; D4GFK9; G7UMT4.1 (obsolete); G9AY33.1 (...                                crtB;crtB PANA_4162   \n",
       "Q7KWU0; Q8T270.1 (obsolete); Q86KM5.1 (obsolete...                                    TPS2 DDB0168859   \n",
       "Q75J90; Q86JQ2.1 (obsolete); Q75J90.1 (obsolete...                                    TPS4 DDB0169193   \n",
       "Q84KL6; Q84KL6.1 (obsolete)                                                                       PT1   \n",
       "Q84KL3; Q84KL3.1 (obsolete)                                                                      PT30   \n",
       "Q00909; A0A193KW22; A0A193KW32; A0A193KW53; A0A...  TRI5 FGRRES_03537 FGSG_03537;Tri5;Tri5;Tri5;Tr...   \n",
       "P38605; Q9SLG6.1 (obsolete)                                               CAS1 CYC At2g07050 T4E14.16   \n",
       "Q84ZW8.1 (obsolete); Q84ZW8.1 (obsolete)                                                                \n",
       "Q84KL5; Q84KL5.1 (obsolete)                                                                       PT5   \n",
       "Q84KL4; Q84KL4.1 (obsolete)                                                                      PT10   \n",
       "Q86II4; Q8MPA3.1 (obsolete); Q86II4.1 (obsolete...                                    TPS3 DDB0168894   \n",
       "Q93YV0; Q93YV0.1 (obsolete)                                    GES LIS TPS04 TPS4 At1g61120 F11P17.15   \n",
       "Q84UU4-2; Q84YI3.1 (obsolete)                                                                           \n",
       "Q852S2.1 (obsolete)                                                                                     \n",
       "\n",
       "                                                                                        protein_names  \\\n",
       "O59947; Q71RX9; A0A084R4B7; O59947.1 (obsolete)...  Trichodiene synthase (EC 4.2.3.6) (Sesquiterpe...   \n",
       "Q84LE3                                                                Squalene synthase (EC 2.5.1.21)   \n",
       "Q84PE2                                              Terpene cyclase/mutase family member (EC 5.4.9...   \n",
       "Q84PE1                                              Terpene cyclase/mutase family member (EC 5.4.9...   \n",
       "P13513; Q7LP67.1 (obsolete)                         Trichodiene synthase (EC 4.2.3.6) (Core tricho...   \n",
       "P53799; A0A5S9XYM7; A0A654FVH2.1 (obsolete)         Squalene synthase 1 (SQS 1) (SS 1) (EC 2.5.1.2...   \n",
       "P21683; D4GFK9; G7UMT4.1 (obsolete); G9AY33.1 (...  15-cis-phytoene synthase (PSase) (EC 2.5.1.32)...   \n",
       "Q7KWU0; Q8T270.1 (obsolete); Q86KM5.1 (obsolete...     Terpene synthase 2 (EC 4.2.3.-) (EC 4.2.3.161)   \n",
       "Q75J90; Q86JQ2.1 (obsolete); Q75J90.1 (obsolete...                    Terpene synthase 4 (EC 4.2.3.-)   \n",
       "Q84KL6; Q84KL6.1 (obsolete)                         (-)-alpha-pinene synthase, chloroplastic (EC 4...   \n",
       "Q84KL3; Q84KL3.1 (obsolete)                         (+)-alpha-pinene synthase, chloroplastic (EC 4...   \n",
       "Q00909; A0A193KW22; A0A193KW32; A0A193KW53; A0A...  Trichodiene synthase (EC 4.2.3.6) (Sesquiterpe...   \n",
       "P38605; Q9SLG6.1 (obsolete)                         Cycloartenol synthase (AtCYC) (EC 5.4.99.8) (2...   \n",
       "Q84ZW8.1 (obsolete); Q84ZW8.1 (obsolete)                                                                \n",
       "Q84KL5; Q84KL5.1 (obsolete)                                    Alpha-farnesene synthase (EC 4.2.3.46)   \n",
       "Q84KL4; Q84KL4.1 (obsolete)                         (-)-alpha-terpineol synthase, chloroplastic (E...   \n",
       "Q86II4; Q8MPA3.1 (obsolete); Q86II4.1 (obsolete...  Terpene synthase 3 (EC 4.2.3.-) (EC 4.2.3.106)...   \n",
       "Q93YV0; Q93YV0.1 (obsolete)                         (E,E)-geranyllinalool synthase (AtGES) (EC 4.2...   \n",
       "Q84UU4-2; Q84YI3.1 (obsolete)                                                                           \n",
       "Q852S2.1 (obsolete)                                                                                     \n",
       "\n",
       "                                                                                     protein_families  \\\n",
       "O59947; Q71RX9; A0A084R4B7; O59947.1 (obsolete)...  Trichodiene synthase family;Trichodiene syntha...   \n",
       "Q84LE3                                                              Phytoene/squalene synthase family   \n",
       "Q84PE2                                                                  Terpene cyclase/mutase family   \n",
       "Q84PE1                                                                  Terpene cyclase/mutase family   \n",
       "P13513; Q7LP67.1 (obsolete)                                               Trichodiene synthase family   \n",
       "P53799; A0A5S9XYM7; A0A654FVH2.1 (obsolete)         Phytoene/squalene synthase family;Phytoene/squ...   \n",
       "P21683; D4GFK9; G7UMT4.1 (obsolete); G9AY33.1 (...              Phytoene/squalene synthase family;nan   \n",
       "Q7KWU0; Q8T270.1 (obsolete); Q86KM5.1 (obsolete...                            Terpene synthase family   \n",
       "Q75J90; Q86JQ2.1 (obsolete); Q75J90.1 (obsolete...                            Terpene synthase family   \n",
       "Q84KL6; Q84KL6.1 (obsolete)                                   Terpene synthase family, Tpsd subfamily   \n",
       "Q84KL3; Q84KL3.1 (obsolete)                                   Terpene synthase family, Tpsd subfamily   \n",
       "Q00909; A0A193KW22; A0A193KW32; A0A193KW53; A0A...  Trichodiene synthase family;Trichodiene syntha...   \n",
       "P38605; Q9SLG6.1 (obsolete)                                             Terpene cyclase/mutase family   \n",
       "Q84ZW8.1 (obsolete); Q84ZW8.1 (obsolete)                                                                \n",
       "Q84KL5; Q84KL5.1 (obsolete)                                   Terpene synthase family, Tpsd subfamily   \n",
       "Q84KL4; Q84KL4.1 (obsolete)                                   Terpene synthase family, Tpsd subfamily   \n",
       "Q86II4; Q8MPA3.1 (obsolete); Q86II4.1 (obsolete...                            Terpene synthase family   \n",
       "Q93YV0; Q93YV0.1 (obsolete)                                   Terpene synthase family, Tpsf subfamily   \n",
       "Q84UU4-2; Q84YI3.1 (obsolete)                                                                           \n",
       "Q852S2.1 (obsolete)                                                                                     \n",
       "\n",
       "                                                                                            organisms  \\\n",
       "O59947; Q71RX9; A0A084R4B7; O59947.1 (obsolete)...  Stachybotrys chartarum (Toxic black mold) (Sti...   \n",
       "Q84LE3                                              Lotus japonicus (Lotus corniculatus var. japon...   \n",
       "Q84PE2                                              Lotus japonicus (Lotus corniculatus var. japon...   \n",
       "Q84PE1                                              Lotus japonicus (Lotus corniculatus var. japon...   \n",
       "P13513; Q7LP67.1 (obsolete)                                                 Fusarium sporotrichioides   \n",
       "P53799; A0A5S9XYM7; A0A654FVH2.1 (obsolete)         Arabidopsis thaliana (Mouse-ear cress);Arabido...   \n",
       "P21683; D4GFK9; G7UMT4.1 (obsolete); G9AY33.1 (...  Pantoea ananas (Erwinia uredovora);Pantoea ana...   \n",
       "Q7KWU0; Q8T270.1 (obsolete); Q86KM5.1 (obsolete...           Dictyostelium discoideum (Social amoeba)   \n",
       "Q75J90; Q86JQ2.1 (obsolete); Q75J90.1 (obsolete...           Dictyostelium discoideum (Social amoeba)   \n",
       "Q84KL6; Q84KL6.1 (obsolete)                                               Pinus taeda (Loblolly pine)   \n",
       "Q84KL3; Q84KL3.1 (obsolete)                                               Pinus taeda (Loblolly pine)   \n",
       "Q00909; A0A193KW22; A0A193KW32; A0A193KW53; A0A...  Gibberella zeae (strain ATCC MYA-4620 / CBS 12...   \n",
       "P38605; Q9SLG6.1 (obsolete)                                    Arabidopsis thaliana (Mouse-ear cress)   \n",
       "Q84ZW8.1 (obsolete); Q84ZW8.1 (obsolete)                                                                \n",
       "Q84KL5; Q84KL5.1 (obsolete)                                               Pinus taeda (Loblolly pine)   \n",
       "Q84KL4; Q84KL4.1 (obsolete)                                               Pinus taeda (Loblolly pine)   \n",
       "Q86II4; Q8MPA3.1 (obsolete); Q86II4.1 (obsolete...           Dictyostelium discoideum (Social amoeba)   \n",
       "Q93YV0; Q93YV0.1 (obsolete)                                    Arabidopsis thaliana (Mouse-ear cress)   \n",
       "Q84UU4-2; Q84YI3.1 (obsolete)                                                                           \n",
       "Q852S2.1 (obsolete)                                                                                     \n",
       "\n",
       "                                                                                     organisms_taxids  \\\n",
       "O59947; Q71RX9; A0A084R4B7; O59947.1 (obsolete)...                          74722.0;74722.0;1283842.0   \n",
       "Q84LE3                                                                                        34305.0   \n",
       "Q84PE2                                                                                        34305.0   \n",
       "Q84PE1                                                                                        34305.0   \n",
       "P13513; Q7LP67.1 (obsolete)                                                                    5514.0   \n",
       "P53799; A0A5S9XYM7; A0A654FVH2.1 (obsolete)                                             3702.0;3702.0   \n",
       "P21683; D4GFK9; G7UMT4.1 (obsolete); G9AY33.1 (...                                     553.0;706191.0   \n",
       "Q7KWU0; Q8T270.1 (obsolete); Q86KM5.1 (obsolete...                                            44689.0   \n",
       "Q75J90; Q86JQ2.1 (obsolete); Q75J90.1 (obsolete...                                            44689.0   \n",
       "Q84KL6; Q84KL6.1 (obsolete)                                                                    3352.0   \n",
       "Q84KL3; Q84KL3.1 (obsolete)                                                                    3352.0   \n",
       "Q00909; A0A193KW22; A0A193KW32; A0A193KW53; A0A...  229533.0;1785703.0;1785704.0;1785706.0;1785707...   \n",
       "P38605; Q9SLG6.1 (obsolete)                                                                    3702.0   \n",
       "Q84ZW8.1 (obsolete); Q84ZW8.1 (obsolete)                                                                \n",
       "Q84KL5; Q84KL5.1 (obsolete)                                                                    3352.0   \n",
       "Q84KL4; Q84KL4.1 (obsolete)                                                                    3352.0   \n",
       "Q86II4; Q8MPA3.1 (obsolete); Q86II4.1 (obsolete...                                            44689.0   \n",
       "Q93YV0; Q93YV0.1 (obsolete)                                                                    3702.0   \n",
       "Q84UU4-2; Q84YI3.1 (obsolete)                                                                           \n",
       "Q852S2.1 (obsolete)                                                                                     \n",
       "\n",
       "                                                                      fragments  \\\n",
       "O59947; Q71RX9; A0A084R4B7; O59947.1 (obsolete)...                  nan;nan;nan   \n",
       "Q84LE3                                                                      nan   \n",
       "Q84PE2                                                                 fragment   \n",
       "Q84PE1                                                                      nan   \n",
       "P13513; Q7LP67.1 (obsolete)                                                 nan   \n",
       "P53799; A0A5S9XYM7; A0A654FVH2.1 (obsolete)                             nan;nan   \n",
       "P21683; D4GFK9; G7UMT4.1 (obsolete); G9AY33.1 (...                      nan;nan   \n",
       "Q7KWU0; Q8T270.1 (obsolete); Q86KM5.1 (obsolete...                          nan   \n",
       "Q75J90; Q86JQ2.1 (obsolete); Q75J90.1 (obsolete...                          nan   \n",
       "Q84KL6; Q84KL6.1 (obsolete)                                                 nan   \n",
       "Q84KL3; Q84KL3.1 (obsolete)                                                 nan   \n",
       "Q00909; A0A193KW22; A0A193KW32; A0A193KW53; A0A...  nan;nan;nan;nan;nan;nan;nan   \n",
       "P38605; Q9SLG6.1 (obsolete)                                                 nan   \n",
       "Q84ZW8.1 (obsolete); Q84ZW8.1 (obsolete)                                          \n",
       "Q84KL5; Q84KL5.1 (obsolete)                                                 nan   \n",
       "Q84KL4; Q84KL4.1 (obsolete)                                                 nan   \n",
       "Q86II4; Q8MPA3.1 (obsolete); Q86II4.1 (obsolete...                          nan   \n",
       "Q93YV0; Q93YV0.1 (obsolete)                                                 nan   \n",
       "Q84UU4-2; Q84YI3.1 (obsolete)                                                     \n",
       "Q852S2.1 (obsolete)                                                               \n",
       "\n",
       "                                                                                         active_sites  \\\n",
       "O59947; Q71RX9; A0A084R4B7; O59947.1 (obsolete)...                                        nan;nan;nan   \n",
       "Q84LE3                                                                                            nan   \n",
       "Q84PE2                                                                                            nan   \n",
       "Q84PE1                                                                                            nan   \n",
       "P13513; Q7LP67.1 (obsolete)                                                                       nan   \n",
       "P53799; A0A5S9XYM7; A0A654FVH2.1 (obsolete)                                                   nan;nan   \n",
       "P21683; D4GFK9; G7UMT4.1 (obsolete); G9AY33.1 (...                                            nan;nan   \n",
       "Q7KWU0; Q8T270.1 (obsolete); Q86KM5.1 (obsolete...                                                nan   \n",
       "Q75J90; Q86JQ2.1 (obsolete); Q75J90.1 (obsolete...                                                nan   \n",
       "Q84KL6; Q84KL6.1 (obsolete)                                                                       nan   \n",
       "Q84KL3; Q84KL3.1 (obsolete)                                                                       nan   \n",
       "Q00909; A0A193KW22; A0A193KW32; A0A193KW53; A0A...                        nan;nan;nan;nan;nan;nan;nan   \n",
       "P38605; Q9SLG6.1 (obsolete)                         ACT_SITE 483; /note=\"Proton donor\"; /evidence=...   \n",
       "Q84ZW8.1 (obsolete); Q84ZW8.1 (obsolete)                                                                \n",
       "Q84KL5; Q84KL5.1 (obsolete)                                                                       nan   \n",
       "Q84KL4; Q84KL4.1 (obsolete)                                                                       nan   \n",
       "Q86II4; Q8MPA3.1 (obsolete); Q86II4.1 (obsolete...                                                nan   \n",
       "Q93YV0; Q93YV0.1 (obsolete)                                                                       nan   \n",
       "Q84UU4-2; Q84YI3.1 (obsolete)                                                                           \n",
       "Q852S2.1 (obsolete)                                                                                     \n",
       "\n",
       "                                                                                 catalytic_activities  \\\n",
       "O59947; Q71RX9; A0A084R4B7; O59947.1 (obsolete)...  CATALYTIC ACTIVITY: Reaction=(2E,6E)-farnesyl ...   \n",
       "Q84LE3                                              CATALYTIC ACTIVITY: Reaction=2 (2E,6E)-farnesy...   \n",
       "Q84PE2                                                                                            nan   \n",
       "Q84PE1                                                                                            nan   \n",
       "P13513; Q7LP67.1 (obsolete)                         CATALYTIC ACTIVITY: Reaction=(2E,6E)-farnesyl ...   \n",
       "P53799; A0A5S9XYM7; A0A654FVH2.1 (obsolete)         CATALYTIC ACTIVITY: Reaction=2 (2E,6E)-farnesy...   \n",
       "P21683; D4GFK9; G7UMT4.1 (obsolete); G9AY33.1 (...  CATALYTIC ACTIVITY: Reaction=2 (2E,6E,10E)-ger...   \n",
       "Q7KWU0; Q8T270.1 (obsolete); Q86KM5.1 (obsolete...  CATALYTIC ACTIVITY: Reaction=(2E,6E)-farnesyl ...   \n",
       "Q75J90; Q86JQ2.1 (obsolete); Q75J90.1 (obsolete...  CATALYTIC ACTIVITY: Reaction=(2E,6E)-farnesyl ...   \n",
       "Q84KL6; Q84KL6.1 (obsolete)                         CATALYTIC ACTIVITY: Reaction=(2E)-geranyl diph...   \n",
       "Q84KL3; Q84KL3.1 (obsolete)                         CATALYTIC ACTIVITY: Reaction=(2E)-geranyl diph...   \n",
       "Q00909; A0A193KW22; A0A193KW32; A0A193KW53; A0A...  CATALYTIC ACTIVITY: Reaction=(2E,6E)-farnesyl ...   \n",
       "P38605; Q9SLG6.1 (obsolete)                         CATALYTIC ACTIVITY: Reaction=(S)-2,3-epoxysqua...   \n",
       "Q84ZW8.1 (obsolete); Q84ZW8.1 (obsolete)                                                                \n",
       "Q84KL5; Q84KL5.1 (obsolete)                         CATALYTIC ACTIVITY: Reaction=(2E,6E)-farnesyl ...   \n",
       "Q84KL4; Q84KL4.1 (obsolete)                         CATALYTIC ACTIVITY: Reaction=(2E)-geranyl diph...   \n",
       "Q86II4; Q8MPA3.1 (obsolete); Q86II4.1 (obsolete...  CATALYTIC ACTIVITY: Reaction=(2E,6E)-farnesyl ...   \n",
       "Q93YV0; Q93YV0.1 (obsolete)                         CATALYTIC ACTIVITY: Reaction=(2E,6E,10E)-geran...   \n",
       "Q84UU4-2; Q84YI3.1 (obsolete)                                                                           \n",
       "Q852S2.1 (obsolete)                                                                                     \n",
       "\n",
       "                                                                                           ec_numbers  \\\n",
       "O59947; Q71RX9; A0A084R4B7; O59947.1 (obsolete)...                            4.2.3.6;4.2.3.6;4.2.3.6   \n",
       "Q84LE3                                                                                       2.5.1.21   \n",
       "Q84PE2                                                                                       5.4.99.-   \n",
       "Q84PE1                                                                                       5.4.99.-   \n",
       "P13513; Q7LP67.1 (obsolete)                                                                   4.2.3.6   \n",
       "P53799; A0A5S9XYM7; A0A654FVH2.1 (obsolete)                                         2.5.1.21;2.5.1.21   \n",
       "P21683; D4GFK9; G7UMT4.1 (obsolete); G9AY33.1 (...                                       2.5.1.32;nan   \n",
       "Q7KWU0; Q8T270.1 (obsolete); Q86KM5.1 (obsolete...                                 4.2.3.-; 4.2.3.161   \n",
       "Q75J90; Q86JQ2.1 (obsolete); Q75J90.1 (obsolete...                                            4.2.3.-   \n",
       "Q84KL6; Q84KL6.1 (obsolete)                                                                 4.2.3.119   \n",
       "Q84KL3; Q84KL3.1 (obsolete)                                                                 4.2.3.121   \n",
       "Q00909; A0A193KW22; A0A193KW32; A0A193KW53; A0A...  4.2.3.6;4.2.3.6;4.2.3.6;4.2.3.6;4.2.3.6;4.2.3....   \n",
       "P38605; Q9SLG6.1 (obsolete)                                                                  5.4.99.8   \n",
       "Q84ZW8.1 (obsolete); Q84ZW8.1 (obsolete)                                                                \n",
       "Q84KL5; Q84KL5.1 (obsolete)                                                                  4.2.3.46   \n",
       "Q84KL4; Q84KL4.1 (obsolete)                                                                 4.2.3.111   \n",
       "Q86II4; Q8MPA3.1 (obsolete); Q86II4.1 (obsolete...                       4.2.3.-; 4.2.3.106; 4.2.3.15   \n",
       "Q93YV0; Q93YV0.1 (obsolete)                                                                 4.2.3.144   \n",
       "Q84UU4-2; Q84YI3.1 (obsolete)                                                                           \n",
       "Q852S2.1 (obsolete)                                                                                     \n",
       "\n",
       "                                                                                            functions  \\\n",
       "O59947; Q71RX9; A0A084R4B7; O59947.1 (obsolete)...  FUNCTION: TS is a member of the terpene cyclas...   \n",
       "Q84LE3                                              FUNCTION: Catalyzes the condensation of 2 farn...   \n",
       "Q84PE2                                                                                            nan   \n",
       "Q84PE1                                                                                            nan   \n",
       "P13513; Q7LP67.1 (obsolete)                         FUNCTION: Trichodiene synthase; part of the co...   \n",
       "P53799; A0A5S9XYM7; A0A654FVH2.1 (obsolete)         nan;FUNCTION: Catalyzes the condensation of 2 ...   \n",
       "P21683; D4GFK9; G7UMT4.1 (obsolete); G9AY33.1 (...  FUNCTION: Involved in the biosynthesis of caro...   \n",
       "Q7KWU0; Q8T270.1 (obsolete); Q86KM5.1 (obsolete...  FUNCTION: Terpene synthase that converts its s...   \n",
       "Q75J90; Q86JQ2.1 (obsolete); Q75J90.1 (obsolete...  FUNCTION: Terpene synthase that converts its s...   \n",
       "Q84KL6; Q84KL6.1 (obsolete)                         FUNCTION: Involved in defensive oleoresin form...   \n",
       "Q84KL3; Q84KL3.1 (obsolete)                         FUNCTION: Involved in defensive oleoresin form...   \n",
       "Q00909; A0A193KW22; A0A193KW32; A0A193KW53; A0A...  FUNCTION: TS is a member of the terpene cyclas...   \n",
       "P38605; Q9SLG6.1 (obsolete)                         FUNCTION: Converts oxidosqualene to cycloarten...   \n",
       "Q84ZW8.1 (obsolete); Q84ZW8.1 (obsolete)                                                                \n",
       "Q84KL5; Q84KL5.1 (obsolete)                         FUNCTION: Involved in sesquiterpene (C15) bios...   \n",
       "Q84KL4; Q84KL4.1 (obsolete)                         FUNCTION: Involved in defensive oleoresin form...   \n",
       "Q86II4; Q8MPA3.1 (obsolete); Q86II4.1 (obsolete...  FUNCTION: Terpene synthase that converts its s...   \n",
       "Q93YV0; Q93YV0.1 (obsolete)                         FUNCTION: Involved in the biosynthesis of homo...   \n",
       "Q84UU4-2; Q84YI3.1 (obsolete)                                                                           \n",
       "Q852S2.1 (obsolete)                                                                                     \n",
       "\n",
       "                                                                                                rheas  \\\n",
       "O59947; Q71RX9; A0A084R4B7; O59947.1 (obsolete)...                   RHEA:12052;RHEA:12052;RHEA:12052   \n",
       "Q84LE3                                                                          RHEA:32299 RHEA:32295   \n",
       "Q84PE2                                                                                            nan   \n",
       "Q84PE1                                                                                            nan   \n",
       "P13513; Q7LP67.1 (obsolete)                                                                RHEA:12052   \n",
       "P53799; A0A5S9XYM7; A0A654FVH2.1 (obsolete)               RHEA:32295 RHEA:32299;RHEA:32299 RHEA:32295   \n",
       "P21683; D4GFK9; G7UMT4.1 (obsolete); G9AY33.1 (...                                     RHEA:34475;nan   \n",
       "Q7KWU0; Q8T270.1 (obsolete); Q86KM5.1 (obsolete...                   RHEA:53632 RHEA:68824 RHEA:68708   \n",
       "Q75J90; Q86JQ2.1 (obsolete); Q75J90.1 (obsolete...                                         RHEA:56984   \n",
       "Q84KL6; Q84KL6.1 (obsolete)                                                                RHEA:25488   \n",
       "Q84KL3; Q84KL3.1 (obsolete)                                                                RHEA:32575   \n",
       "Q00909; A0A193KW22; A0A193KW32; A0A193KW53; A0A...  RHEA:12052;RHEA:12052;RHEA:12052;RHEA:12052;RH...   \n",
       "P38605; Q9SLG6.1 (obsolete)                                                                RHEA:21308   \n",
       "Q84ZW8.1 (obsolete); Q84ZW8.1 (obsolete)                                                                \n",
       "Q84KL5; Q84KL5.1 (obsolete)                                                                RHEA:27421   \n",
       "Q84KL4; Q84KL4.1 (obsolete)                                                                RHEA:32551   \n",
       "Q86II4; Q8MPA3.1 (obsolete); Q86II4.1 (obsolete...  RHEA:73951 RHEA:73963 RHEA:73979 RHEA:32691 RH...   \n",
       "Q93YV0; Q93YV0.1 (obsolete)                                                                RHEA:38155   \n",
       "Q84UU4-2; Q84YI3.1 (obsolete)                                                                           \n",
       "Q852S2.1 (obsolete)                                                                                     \n",
       "\n",
       "                                                                          sites  \n",
       "O59947; Q71RX9; A0A084R4B7; O59947.1 (obsolete)...                  nan;nan;nan  \n",
       "Q84LE3                                                                      nan  \n",
       "Q84PE2                                                                      nan  \n",
       "Q84PE1                                                                      nan  \n",
       "P13513; Q7LP67.1 (obsolete)                                                 nan  \n",
       "P53799; A0A5S9XYM7; A0A654FVH2.1 (obsolete)                             nan;nan  \n",
       "P21683; D4GFK9; G7UMT4.1 (obsolete); G9AY33.1 (...                      nan;nan  \n",
       "Q7KWU0; Q8T270.1 (obsolete); Q86KM5.1 (obsolete...                          nan  \n",
       "Q75J90; Q86JQ2.1 (obsolete); Q75J90.1 (obsolete...                          nan  \n",
       "Q84KL6; Q84KL6.1 (obsolete)                                                 nan  \n",
       "Q84KL3; Q84KL3.1 (obsolete)                                                 nan  \n",
       "Q00909; A0A193KW22; A0A193KW32; A0A193KW53; A0A...  nan;nan;nan;nan;nan;nan;nan  \n",
       "P38605; Q9SLG6.1 (obsolete)                                                 nan  \n",
       "Q84ZW8.1 (obsolete); Q84ZW8.1 (obsolete)                                         \n",
       "Q84KL5; Q84KL5.1 (obsolete)                                                 nan  \n",
       "Q84KL4; Q84KL4.1 (obsolete)                                                 nan  \n",
       "Q86II4; Q8MPA3.1 (obsolete); Q86II4.1 (obsolete...                          nan  \n",
       "Q93YV0; Q93YV0.1 (obsolete)                                                 nan  \n",
       "Q84UU4-2; Q84YI3.1 (obsolete)                                                    \n",
       "Q852S2.1 (obsolete)                                                              "
      ]
     },
     "execution_count": 216,
     "metadata": {},
     "output_type": "execute_result"
    }
   ],
   "source": [
    "uniprot_extra_anno.head(20)"
   ]
  },
  {
   "cell_type": "code",
   "execution_count": 217,
   "id": "3f02dcaf-f9b4-4c0a-bec9-9fe375e9739a",
   "metadata": {
    "tags": []
   },
   "outputs": [],
   "source": [
    "uniprot_extra_anno.to_csv('uniprot_extra_anno.csv')"
   ]
  },
  {
   "cell_type": "code",
   "execution_count": 236,
   "id": "6df6d1b3-14b4-4bc7-9f9b-90e634f01be3",
   "metadata": {
    "tags": []
   },
   "outputs": [],
   "source": [
    "anno_df = pd.read_csv('uniprot_mapping_annotated.csv', index_col=0)"
   ]
  },
  {
   "cell_type": "code",
   "execution_count": 237,
   "id": "73e9115c-04ff-4462-8d71-d5bbe7129833",
   "metadata": {
    "tags": []
   },
   "outputs": [
    {
     "data": {
      "text/plain": [
       "Index(['record_id', 'record_description', 'new_id', 'uniprot_ids', 'organisms',\n",
       "       'source_dbs'],\n",
       "      dtype='object')"
      ]
     },
     "execution_count": 237,
     "metadata": {},
     "output_type": "execute_result"
    }
   ],
   "source": [
    "anno_df.columns"
   ]
  },
  {
   "cell_type": "code",
   "execution_count": 238,
   "id": "06b6d1e5-46da-4dca-9bb7-82be32cfbc4a",
   "metadata": {
    "tags": []
   },
   "outputs": [
    {
     "data": {
      "text/plain": [
       "(266134, 6)"
      ]
     },
     "execution_count": 238,
     "metadata": {},
     "output_type": "execute_result"
    }
   ],
   "source": [
    "anno_df.shape"
   ]
  },
  {
   "cell_type": "code",
   "execution_count": 239,
   "id": "11c695a5-29d4-491a-91a5-d15634067ee0",
   "metadata": {
    "tags": []
   },
   "outputs": [
    {
     "data": {
      "text/plain": [
       "Index(['index', 'entry_names', 'gene_names', 'protein_names',\n",
       "       'protein_families', 'organisms', 'organisms_taxids', 'fragments',\n",
       "       'active_sites', 'catalytic_activities', 'ec_numbers', 'functions',\n",
       "       'rheas', 'sites'],\n",
       "      dtype='object')"
      ]
     },
     "execution_count": 239,
     "metadata": {},
     "output_type": "execute_result"
    }
   ],
   "source": [
    "uniprot_extra_anno.columns"
   ]
  },
  {
   "cell_type": "code",
   "execution_count": 227,
   "id": "5b04c430-f696-404d-8ff3-774ec76b9d8c",
   "metadata": {
    "tags": []
   },
   "outputs": [
    {
     "data": {
      "text/plain": [
       "(151322, 13)"
      ]
     },
     "execution_count": 227,
     "metadata": {},
     "output_type": "execute_result"
    }
   ],
   "source": [
    "uniprot_extra_anno.shape"
   ]
  },
  {
   "cell_type": "code",
   "execution_count": 228,
   "id": "0e6c55a7-a8c7-41e1-af05-293a37237668",
   "metadata": {
    "tags": []
   },
   "outputs": [],
   "source": [
    "uniprot_extra_anno = uniprot_extra_anno.reset_index()"
   ]
  },
  {
   "cell_type": "code",
   "execution_count": 240,
   "id": "9c21e1a9-6fae-4791-8cc5-32403775ade4",
   "metadata": {
    "tags": []
   },
   "outputs": [],
   "source": [
    "anno_df2 = anno_df.merge(uniprot_extra_anno, how='left', left_on='uniprot_ids', right_on='index')"
   ]
  },
  {
   "cell_type": "code",
   "execution_count": 241,
   "id": "51274965-8e04-438c-902c-65c6dc3d7ee6",
   "metadata": {
    "tags": []
   },
   "outputs": [
    {
     "data": {
      "text/plain": [
       "Index(['record_id', 'record_description', 'new_id', 'uniprot_ids',\n",
       "       'organisms_x', 'source_dbs', 'index', 'entry_names', 'gene_names',\n",
       "       'protein_names', 'protein_families', 'organisms_y', 'organisms_taxids',\n",
       "       'fragments', 'active_sites', 'catalytic_activities', 'ec_numbers',\n",
       "       'functions', 'rheas', 'sites'],\n",
       "      dtype='object')"
      ]
     },
     "execution_count": 241,
     "metadata": {},
     "output_type": "execute_result"
    }
   ],
   "source": [
    "anno_df2.columns"
   ]
  },
  {
   "cell_type": "code",
   "execution_count": 242,
   "id": "707a8733-2fa8-422a-974d-42b1b1b922db",
   "metadata": {
    "tags": []
   },
   "outputs": [
    {
     "data": {
      "text/html": [
       "<div>\n",
       "<style scoped>\n",
       "    .dataframe tbody tr th:only-of-type {\n",
       "        vertical-align: middle;\n",
       "    }\n",
       "\n",
       "    .dataframe tbody tr th {\n",
       "        vertical-align: top;\n",
       "    }\n",
       "\n",
       "    .dataframe thead th {\n",
       "        text-align: right;\n",
       "    }\n",
       "</style>\n",
       "<table border=\"1\" class=\"dataframe\">\n",
       "  <thead>\n",
       "    <tr style=\"text-align: right;\">\n",
       "      <th></th>\n",
       "      <th>organisms_x</th>\n",
       "      <th>organisms_y</th>\n",
       "    </tr>\n",
       "  </thead>\n",
       "  <tbody>\n",
       "    <tr>\n",
       "      <th>0</th>\n",
       "      <td>Stachybotrys chartarum IBT 40288;Stachybotrys ...</td>\n",
       "      <td>Stachybotrys chartarum (Toxic black mold) (Sti...</td>\n",
       "    </tr>\n",
       "    <tr>\n",
       "      <th>1</th>\n",
       "      <td>Lotus japonicus;Lotus corniculatus</td>\n",
       "      <td>Lotus japonicus (Lotus corniculatus var. japon...</td>\n",
       "    </tr>\n",
       "    <tr>\n",
       "      <th>2</th>\n",
       "      <td>Lotus japonicus</td>\n",
       "      <td>Lotus japonicus (Lotus corniculatus var. japon...</td>\n",
       "    </tr>\n",
       "    <tr>\n",
       "      <th>3</th>\n",
       "      <td>Lotus japonicus</td>\n",
       "      <td>Lotus japonicus (Lotus corniculatus var. japon...</td>\n",
       "    </tr>\n",
       "    <tr>\n",
       "      <th>4</th>\n",
       "      <td>Fusarium sporotrichioides</td>\n",
       "      <td>Fusarium sporotrichioides</td>\n",
       "    </tr>\n",
       "    <tr>\n",
       "      <th>...</th>\n",
       "      <td>...</td>\n",
       "      <td>...</td>\n",
       "    </tr>\n",
       "    <tr>\n",
       "      <th>266129</th>\n",
       "      <td>Agrobacterium leguminum</td>\n",
       "      <td></td>\n",
       "    </tr>\n",
       "    <tr>\n",
       "      <th>266130</th>\n",
       "      <td>Streptomyces sp. CMSTAAHL-2</td>\n",
       "      <td></td>\n",
       "    </tr>\n",
       "    <tr>\n",
       "      <th>266131</th>\n",
       "      <td>Agrobacterium;Agrobacterium salinitolerans</td>\n",
       "      <td></td>\n",
       "    </tr>\n",
       "    <tr>\n",
       "      <th>266132</th>\n",
       "      <td>Agrobacterium leguminum</td>\n",
       "      <td></td>\n",
       "    </tr>\n",
       "    <tr>\n",
       "      <th>266133</th>\n",
       "      <td>Agrobacterium salinitolerans</td>\n",
       "      <td></td>\n",
       "    </tr>\n",
       "  </tbody>\n",
       "</table>\n",
       "<p>266134 rows × 2 columns</p>\n",
       "</div>"
      ],
      "text/plain": [
       "                                              organisms_x  \\\n",
       "0       Stachybotrys chartarum IBT 40288;Stachybotrys ...   \n",
       "1                      Lotus japonicus;Lotus corniculatus   \n",
       "2                                         Lotus japonicus   \n",
       "3                                         Lotus japonicus   \n",
       "4                               Fusarium sporotrichioides   \n",
       "...                                                   ...   \n",
       "266129                            Agrobacterium leguminum   \n",
       "266130                        Streptomyces sp. CMSTAAHL-2   \n",
       "266131         Agrobacterium;Agrobacterium salinitolerans   \n",
       "266132                            Agrobacterium leguminum   \n",
       "266133                       Agrobacterium salinitolerans   \n",
       "\n",
       "                                              organisms_y  \n",
       "0       Stachybotrys chartarum (Toxic black mold) (Sti...  \n",
       "1       Lotus japonicus (Lotus corniculatus var. japon...  \n",
       "2       Lotus japonicus (Lotus corniculatus var. japon...  \n",
       "3       Lotus japonicus (Lotus corniculatus var. japon...  \n",
       "4                               Fusarium sporotrichioides  \n",
       "...                                                   ...  \n",
       "266129                                                     \n",
       "266130                                                     \n",
       "266131                                                     \n",
       "266132                                                     \n",
       "266133                                                     \n",
       "\n",
       "[266134 rows x 2 columns]"
      ]
     },
     "execution_count": 242,
     "metadata": {},
     "output_type": "execute_result"
    }
   ],
   "source": [
    "anno_df2[['organisms_x', 'organisms_y']]"
   ]
  },
  {
   "cell_type": "markdown",
   "id": "2f810a9c-e2c2-4949-9bb1-cdccdda9c8a3",
   "metadata": {},
   "source": [
    "## Add taxids and lineage"
   ]
  },
  {
   "cell_type": "code",
   "execution_count": 246,
   "id": "d542ff13-4f80-4f3e-8570-7f18eb6081b1",
   "metadata": {
    "tags": []
   },
   "outputs": [],
   "source": [
    "anno_df2.rename(columns={'organisms_x': 'organisms_source', 'organisms_y': 'organisms_uniprot', 'organisms_taxids': 'uniprot_tax_ids'}, inplace=True)"
   ]
  },
  {
   "cell_type": "code",
   "execution_count": 247,
   "id": "cc9f4e9f-2480-4d74-baa2-16937a99b155",
   "metadata": {
    "tags": []
   },
   "outputs": [
    {
     "data": {
      "text/html": [
       "<div>\n",
       "<style scoped>\n",
       "    .dataframe tbody tr th:only-of-type {\n",
       "        vertical-align: middle;\n",
       "    }\n",
       "\n",
       "    .dataframe tbody tr th {\n",
       "        vertical-align: top;\n",
       "    }\n",
       "\n",
       "    .dataframe thead th {\n",
       "        text-align: right;\n",
       "    }\n",
       "</style>\n",
       "<table border=\"1\" class=\"dataframe\">\n",
       "  <thead>\n",
       "    <tr style=\"text-align: right;\">\n",
       "      <th></th>\n",
       "      <th>record_id</th>\n",
       "      <th>record_description</th>\n",
       "      <th>new_id</th>\n",
       "      <th>uniprot_ids</th>\n",
       "      <th>organisms_source</th>\n",
       "      <th>source_dbs</th>\n",
       "      <th>index</th>\n",
       "      <th>entry_names</th>\n",
       "      <th>gene_names</th>\n",
       "      <th>protein_names</th>\n",
       "      <th>protein_families</th>\n",
       "      <th>organisms_uniprot</th>\n",
       "      <th>uniprot_tax_ids</th>\n",
       "      <th>fragments</th>\n",
       "      <th>active_sites</th>\n",
       "      <th>catalytic_activities</th>\n",
       "      <th>ec_numbers</th>\n",
       "      <th>functions</th>\n",
       "      <th>rheas</th>\n",
       "      <th>sites</th>\n",
       "    </tr>\n",
       "  </thead>\n",
       "  <tbody>\n",
       "    <tr>\n",
       "      <th>0</th>\n",
       "      <td>O59947;</td>\n",
       "      <td>O59947; Q71RX9; A0A084R4B7; O59947.1 (obsolete...</td>\n",
       "      <td>uniprot_000000</td>\n",
       "      <td>O59947; Q71RX9; A0A084R4B7; O59947.1 (obsolete...</td>\n",
       "      <td>Stachybotrys chartarum IBT 40288;Stachybotrys ...</td>\n",
       "      <td>EMBL;EnsemblFungi;UniProtKB/TrEMBL;EMBL_CON;TR...</td>\n",
       "      <td>O59947; Q71RX9; A0A084R4B7; O59947.1 (obsolete...</td>\n",
       "      <td>TRI5_STACH;Q71RX9_STACH;A0A084R4B7_STACH</td>\n",
       "      <td>TRI5;TRI5;TRI5 S40288_05530</td>\n",
       "      <td>Trichodiene synthase (EC 4.2.3.6) (Sesquiterpe...</td>\n",
       "      <td>Trichodiene synthase family;Trichodiene syntha...</td>\n",
       "      <td>Stachybotrys chartarum (Toxic black mold) (Sti...</td>\n",
       "      <td>74722.0;74722.0;1283842.0</td>\n",
       "      <td>nan;nan;nan</td>\n",
       "      <td>nan;nan;nan</td>\n",
       "      <td>CATALYTIC ACTIVITY: Reaction=(2E,6E)-farnesyl ...</td>\n",
       "      <td>4.2.3.6;4.2.3.6;4.2.3.6</td>\n",
       "      <td>FUNCTION: TS is a member of the terpene cyclas...</td>\n",
       "      <td>RHEA:12052;RHEA:12052;RHEA:12052</td>\n",
       "      <td>nan;nan;nan</td>\n",
       "    </tr>\n",
       "    <tr>\n",
       "      <th>1</th>\n",
       "      <td>Q84LE3</td>\n",
       "      <td>Q84LE3\\torganism: Lotus japonicus; Lotus japon...</td>\n",
       "      <td>uniprot_000001</td>\n",
       "      <td>Q84LE3</td>\n",
       "      <td>Lotus japonicus;Lotus corniculatus</td>\n",
       "      <td>EMBL;UniProtKB/TrEMBL;EPO;USPTO;TREMBLNEW;PRF</td>\n",
       "      <td>Q84LE3</td>\n",
       "      <td>Q84LE3_LOTJA</td>\n",
       "      <td>LjSqS</td>\n",
       "      <td>Squalene synthase (EC 2.5.1.21)</td>\n",
       "      <td>Phytoene/squalene synthase family</td>\n",
       "      <td>Lotus japonicus (Lotus corniculatus var. japon...</td>\n",
       "      <td>34305.0</td>\n",
       "      <td>nan</td>\n",
       "      <td>nan</td>\n",
       "      <td>CATALYTIC ACTIVITY: Reaction=2 (2E,6E)-farnesy...</td>\n",
       "      <td>2.5.1.21</td>\n",
       "      <td>FUNCTION: Catalyzes the condensation of 2 farn...</td>\n",
       "      <td>RHEA:32299 RHEA:32295</td>\n",
       "      <td>nan</td>\n",
       "    </tr>\n",
       "    <tr>\n",
       "      <th>2</th>\n",
       "      <td>Q84PE2</td>\n",
       "      <td>Q84PE2\\torganism: Lotus japonicus; Lotus japon...</td>\n",
       "      <td>uniprot_000002</td>\n",
       "      <td>Q84PE2</td>\n",
       "      <td>Lotus japonicus</td>\n",
       "      <td>EMBL;UniProtKB/TrEMBL;USPTO;TREMBLNEW;PRF</td>\n",
       "      <td>Q84PE2</td>\n",
       "      <td>Q84PE2_LOTJA</td>\n",
       "      <td>AMY1</td>\n",
       "      <td>Terpene cyclase/mutase family member (EC 5.4.9...</td>\n",
       "      <td>Terpene cyclase/mutase family</td>\n",
       "      <td>Lotus japonicus (Lotus corniculatus var. japon...</td>\n",
       "      <td>34305.0</td>\n",
       "      <td>fragment</td>\n",
       "      <td>nan</td>\n",
       "      <td>nan</td>\n",
       "      <td>5.4.99.-</td>\n",
       "      <td>nan</td>\n",
       "      <td>nan</td>\n",
       "      <td>nan</td>\n",
       "    </tr>\n",
       "    <tr>\n",
       "      <th>3</th>\n",
       "      <td>Q84PE1</td>\n",
       "      <td>Q84PE1\\torganism: Lotus japonicus; Lotus japon...</td>\n",
       "      <td>uniprot_000003</td>\n",
       "      <td>Q84PE1</td>\n",
       "      <td>Lotus japonicus</td>\n",
       "      <td>EMBL;UniProtKB/TrEMBL;EPO;USPTO;TREMBLNEW;PRF</td>\n",
       "      <td>Q84PE1</td>\n",
       "      <td>Q84PE1_LOTJA</td>\n",
       "      <td>AMY2</td>\n",
       "      <td>Terpene cyclase/mutase family member (EC 5.4.9...</td>\n",
       "      <td>Terpene cyclase/mutase family</td>\n",
       "      <td>Lotus japonicus (Lotus corniculatus var. japon...</td>\n",
       "      <td>34305.0</td>\n",
       "      <td>nan</td>\n",
       "      <td>nan</td>\n",
       "      <td>nan</td>\n",
       "      <td>5.4.99.-</td>\n",
       "      <td>nan</td>\n",
       "      <td>nan</td>\n",
       "      <td>nan</td>\n",
       "    </tr>\n",
       "    <tr>\n",
       "      <th>4</th>\n",
       "      <td>P13513;</td>\n",
       "      <td>P13513; Q7LP67.1 (obsolete)\\torganism: Fusariu...</td>\n",
       "      <td>uniprot_000004</td>\n",
       "      <td>P13513; Q7LP67.1 (obsolete)</td>\n",
       "      <td>Fusarium sporotrichioides</td>\n",
       "      <td>PIRARC;EMBL;UniProtKB/TrEMBL;PDB;TREMBLNEW;PRF...</td>\n",
       "      <td>P13513; Q7LP67.1 (obsolete)</td>\n",
       "      <td>TRI5_FUSSP</td>\n",
       "      <td>TRI5 TOX 5</td>\n",
       "      <td>Trichodiene synthase (EC 4.2.3.6) (Core tricho...</td>\n",
       "      <td>Trichodiene synthase family</td>\n",
       "      <td>Fusarium sporotrichioides</td>\n",
       "      <td>5514.0</td>\n",
       "      <td>nan</td>\n",
       "      <td>nan</td>\n",
       "      <td>CATALYTIC ACTIVITY: Reaction=(2E,6E)-farnesyl ...</td>\n",
       "      <td>4.2.3.6</td>\n",
       "      <td>FUNCTION: Trichodiene synthase; part of the co...</td>\n",
       "      <td>RHEA:12052</td>\n",
       "      <td>nan</td>\n",
       "    </tr>\n",
       "    <tr>\n",
       "      <th>...</th>\n",
       "      <td>...</td>\n",
       "      <td>...</td>\n",
       "      <td>...</td>\n",
       "      <td>...</td>\n",
       "      <td>...</td>\n",
       "      <td>...</td>\n",
       "      <td>...</td>\n",
       "      <td>...</td>\n",
       "      <td>...</td>\n",
       "      <td>...</td>\n",
       "      <td>...</td>\n",
       "      <td>...</td>\n",
       "      <td>...</td>\n",
       "      <td>...</td>\n",
       "      <td>...</td>\n",
       "      <td>...</td>\n",
       "      <td>...</td>\n",
       "      <td>...</td>\n",
       "      <td>...</td>\n",
       "      <td>...</td>\n",
       "    </tr>\n",
       "    <tr>\n",
       "      <th>266129</th>\n",
       "      <td>NoUniProtID</td>\n",
       "      <td>NoUniProtID\\torganism: Agrobacterium leguminum...</td>\n",
       "      <td>uniprot_266129</td>\n",
       "      <td>NoUniProtID</td>\n",
       "      <td>Agrobacterium leguminum</td>\n",
       "      <td>RefSeq;EMBLWGS</td>\n",
       "      <td>NoUniProtID</td>\n",
       "      <td></td>\n",
       "      <td></td>\n",
       "      <td></td>\n",
       "      <td></td>\n",
       "      <td></td>\n",
       "      <td></td>\n",
       "      <td></td>\n",
       "      <td></td>\n",
       "      <td></td>\n",
       "      <td></td>\n",
       "      <td></td>\n",
       "      <td></td>\n",
       "      <td></td>\n",
       "    </tr>\n",
       "    <tr>\n",
       "      <th>266130</th>\n",
       "      <td>NoUniProtID</td>\n",
       "      <td>NoUniProtID\\torganism: Streptomyces sp. CMSTAA...</td>\n",
       "      <td>uniprot_266130</td>\n",
       "      <td>NoUniProtID</td>\n",
       "      <td>Streptomyces sp. CMSTAAHL-2</td>\n",
       "      <td>RefSeq</td>\n",
       "      <td>NoUniProtID</td>\n",
       "      <td></td>\n",
       "      <td></td>\n",
       "      <td></td>\n",
       "      <td></td>\n",
       "      <td></td>\n",
       "      <td></td>\n",
       "      <td></td>\n",
       "      <td></td>\n",
       "      <td></td>\n",
       "      <td></td>\n",
       "      <td></td>\n",
       "      <td></td>\n",
       "      <td></td>\n",
       "    </tr>\n",
       "    <tr>\n",
       "      <th>266131</th>\n",
       "      <td>NoUniProtID</td>\n",
       "      <td>NoUniProtID\\torganism: Agrobacterium; Agrobact...</td>\n",
       "      <td>uniprot_266131</td>\n",
       "      <td>NoUniProtID</td>\n",
       "      <td>Agrobacterium;Agrobacterium salinitolerans</td>\n",
       "      <td>RefSeq;EMBLWGS</td>\n",
       "      <td>NoUniProtID</td>\n",
       "      <td></td>\n",
       "      <td></td>\n",
       "      <td></td>\n",
       "      <td></td>\n",
       "      <td></td>\n",
       "      <td></td>\n",
       "      <td></td>\n",
       "      <td></td>\n",
       "      <td></td>\n",
       "      <td></td>\n",
       "      <td></td>\n",
       "      <td></td>\n",
       "      <td></td>\n",
       "    </tr>\n",
       "    <tr>\n",
       "      <th>266132</th>\n",
       "      <td>NoUniProtID</td>\n",
       "      <td>NoUniProtID\\torganism: Agrobacterium leguminum...</td>\n",
       "      <td>uniprot_266132</td>\n",
       "      <td>NoUniProtID</td>\n",
       "      <td>Agrobacterium leguminum</td>\n",
       "      <td>RefSeq;EMBLWGS</td>\n",
       "      <td>NoUniProtID</td>\n",
       "      <td></td>\n",
       "      <td></td>\n",
       "      <td></td>\n",
       "      <td></td>\n",
       "      <td></td>\n",
       "      <td></td>\n",
       "      <td></td>\n",
       "      <td></td>\n",
       "      <td></td>\n",
       "      <td></td>\n",
       "      <td></td>\n",
       "      <td></td>\n",
       "      <td></td>\n",
       "    </tr>\n",
       "    <tr>\n",
       "      <th>266133</th>\n",
       "      <td>NoUniProtID</td>\n",
       "      <td>NoUniProtID\\torganism: Agrobacterium salinitol...</td>\n",
       "      <td>uniprot_266133</td>\n",
       "      <td>NoUniProtID</td>\n",
       "      <td>Agrobacterium salinitolerans</td>\n",
       "      <td>RefSeq;EMBLWGS</td>\n",
       "      <td>NoUniProtID</td>\n",
       "      <td></td>\n",
       "      <td></td>\n",
       "      <td></td>\n",
       "      <td></td>\n",
       "      <td></td>\n",
       "      <td></td>\n",
       "      <td></td>\n",
       "      <td></td>\n",
       "      <td></td>\n",
       "      <td></td>\n",
       "      <td></td>\n",
       "      <td></td>\n",
       "      <td></td>\n",
       "    </tr>\n",
       "  </tbody>\n",
       "</table>\n",
       "<p>266134 rows × 20 columns</p>\n",
       "</div>"
      ],
      "text/plain": [
       "          record_id                                 record_description  \\\n",
       "0           O59947;  O59947; Q71RX9; A0A084R4B7; O59947.1 (obsolete...   \n",
       "1            Q84LE3  Q84LE3\\torganism: Lotus japonicus; Lotus japon...   \n",
       "2            Q84PE2  Q84PE2\\torganism: Lotus japonicus; Lotus japon...   \n",
       "3            Q84PE1  Q84PE1\\torganism: Lotus japonicus; Lotus japon...   \n",
       "4           P13513;  P13513; Q7LP67.1 (obsolete)\\torganism: Fusariu...   \n",
       "...             ...                                                ...   \n",
       "266129  NoUniProtID  NoUniProtID\\torganism: Agrobacterium leguminum...   \n",
       "266130  NoUniProtID  NoUniProtID\\torganism: Streptomyces sp. CMSTAA...   \n",
       "266131  NoUniProtID  NoUniProtID\\torganism: Agrobacterium; Agrobact...   \n",
       "266132  NoUniProtID  NoUniProtID\\torganism: Agrobacterium leguminum...   \n",
       "266133  NoUniProtID  NoUniProtID\\torganism: Agrobacterium salinitol...   \n",
       "\n",
       "                new_id                                        uniprot_ids  \\\n",
       "0       uniprot_000000  O59947; Q71RX9; A0A084R4B7; O59947.1 (obsolete...   \n",
       "1       uniprot_000001                                             Q84LE3   \n",
       "2       uniprot_000002                                             Q84PE2   \n",
       "3       uniprot_000003                                             Q84PE1   \n",
       "4       uniprot_000004                        P13513; Q7LP67.1 (obsolete)   \n",
       "...                ...                                                ...   \n",
       "266129  uniprot_266129                                        NoUniProtID   \n",
       "266130  uniprot_266130                                        NoUniProtID   \n",
       "266131  uniprot_266131                                        NoUniProtID   \n",
       "266132  uniprot_266132                                        NoUniProtID   \n",
       "266133  uniprot_266133                                        NoUniProtID   \n",
       "\n",
       "                                         organisms_source  \\\n",
       "0       Stachybotrys chartarum IBT 40288;Stachybotrys ...   \n",
       "1                      Lotus japonicus;Lotus corniculatus   \n",
       "2                                         Lotus japonicus   \n",
       "3                                         Lotus japonicus   \n",
       "4                               Fusarium sporotrichioides   \n",
       "...                                                   ...   \n",
       "266129                            Agrobacterium leguminum   \n",
       "266130                        Streptomyces sp. CMSTAAHL-2   \n",
       "266131         Agrobacterium;Agrobacterium salinitolerans   \n",
       "266132                            Agrobacterium leguminum   \n",
       "266133                       Agrobacterium salinitolerans   \n",
       "\n",
       "                                               source_dbs  \\\n",
       "0       EMBL;EnsemblFungi;UniProtKB/TrEMBL;EMBL_CON;TR...   \n",
       "1           EMBL;UniProtKB/TrEMBL;EPO;USPTO;TREMBLNEW;PRF   \n",
       "2               EMBL;UniProtKB/TrEMBL;USPTO;TREMBLNEW;PRF   \n",
       "3           EMBL;UniProtKB/TrEMBL;EPO;USPTO;TREMBLNEW;PRF   \n",
       "4       PIRARC;EMBL;UniProtKB/TrEMBL;PDB;TREMBLNEW;PRF...   \n",
       "...                                                   ...   \n",
       "266129                                     RefSeq;EMBLWGS   \n",
       "266130                                             RefSeq   \n",
       "266131                                     RefSeq;EMBLWGS   \n",
       "266132                                     RefSeq;EMBLWGS   \n",
       "266133                                     RefSeq;EMBLWGS   \n",
       "\n",
       "                                                    index  \\\n",
       "0       O59947; Q71RX9; A0A084R4B7; O59947.1 (obsolete...   \n",
       "1                                                  Q84LE3   \n",
       "2                                                  Q84PE2   \n",
       "3                                                  Q84PE1   \n",
       "4                             P13513; Q7LP67.1 (obsolete)   \n",
       "...                                                   ...   \n",
       "266129                                        NoUniProtID   \n",
       "266130                                        NoUniProtID   \n",
       "266131                                        NoUniProtID   \n",
       "266132                                        NoUniProtID   \n",
       "266133                                        NoUniProtID   \n",
       "\n",
       "                                     entry_names                   gene_names  \\\n",
       "0       TRI5_STACH;Q71RX9_STACH;A0A084R4B7_STACH  TRI5;TRI5;TRI5 S40288_05530   \n",
       "1                                   Q84LE3_LOTJA                        LjSqS   \n",
       "2                                   Q84PE2_LOTJA                         AMY1   \n",
       "3                                   Q84PE1_LOTJA                         AMY2   \n",
       "4                                     TRI5_FUSSP                   TRI5 TOX 5   \n",
       "...                                          ...                          ...   \n",
       "266129                                                                          \n",
       "266130                                                                          \n",
       "266131                                                                          \n",
       "266132                                                                          \n",
       "266133                                                                          \n",
       "\n",
       "                                            protein_names  \\\n",
       "0       Trichodiene synthase (EC 4.2.3.6) (Sesquiterpe...   \n",
       "1                         Squalene synthase (EC 2.5.1.21)   \n",
       "2       Terpene cyclase/mutase family member (EC 5.4.9...   \n",
       "3       Terpene cyclase/mutase family member (EC 5.4.9...   \n",
       "4       Trichodiene synthase (EC 4.2.3.6) (Core tricho...   \n",
       "...                                                   ...   \n",
       "266129                                                      \n",
       "266130                                                      \n",
       "266131                                                      \n",
       "266132                                                      \n",
       "266133                                                      \n",
       "\n",
       "                                         protein_families  \\\n",
       "0       Trichodiene synthase family;Trichodiene syntha...   \n",
       "1                       Phytoene/squalene synthase family   \n",
       "2                           Terpene cyclase/mutase family   \n",
       "3                           Terpene cyclase/mutase family   \n",
       "4                             Trichodiene synthase family   \n",
       "...                                                   ...   \n",
       "266129                                                      \n",
       "266130                                                      \n",
       "266131                                                      \n",
       "266132                                                      \n",
       "266133                                                      \n",
       "\n",
       "                                        organisms_uniprot  \\\n",
       "0       Stachybotrys chartarum (Toxic black mold) (Sti...   \n",
       "1       Lotus japonicus (Lotus corniculatus var. japon...   \n",
       "2       Lotus japonicus (Lotus corniculatus var. japon...   \n",
       "3       Lotus japonicus (Lotus corniculatus var. japon...   \n",
       "4                               Fusarium sporotrichioides   \n",
       "...                                                   ...   \n",
       "266129                                                      \n",
       "266130                                                      \n",
       "266131                                                      \n",
       "266132                                                      \n",
       "266133                                                      \n",
       "\n",
       "                  uniprot_tax_ids    fragments active_sites  \\\n",
       "0       74722.0;74722.0;1283842.0  nan;nan;nan  nan;nan;nan   \n",
       "1                         34305.0          nan          nan   \n",
       "2                         34305.0     fragment          nan   \n",
       "3                         34305.0          nan          nan   \n",
       "4                          5514.0          nan          nan   \n",
       "...                           ...          ...          ...   \n",
       "266129                                                        \n",
       "266130                                                        \n",
       "266131                                                        \n",
       "266132                                                        \n",
       "266133                                                        \n",
       "\n",
       "                                     catalytic_activities  \\\n",
       "0       CATALYTIC ACTIVITY: Reaction=(2E,6E)-farnesyl ...   \n",
       "1       CATALYTIC ACTIVITY: Reaction=2 (2E,6E)-farnesy...   \n",
       "2                                                     nan   \n",
       "3                                                     nan   \n",
       "4       CATALYTIC ACTIVITY: Reaction=(2E,6E)-farnesyl ...   \n",
       "...                                                   ...   \n",
       "266129                                                      \n",
       "266130                                                      \n",
       "266131                                                      \n",
       "266132                                                      \n",
       "266133                                                      \n",
       "\n",
       "                     ec_numbers  \\\n",
       "0       4.2.3.6;4.2.3.6;4.2.3.6   \n",
       "1                      2.5.1.21   \n",
       "2                      5.4.99.-   \n",
       "3                      5.4.99.-   \n",
       "4                       4.2.3.6   \n",
       "...                         ...   \n",
       "266129                            \n",
       "266130                            \n",
       "266131                            \n",
       "266132                            \n",
       "266133                            \n",
       "\n",
       "                                                functions  \\\n",
       "0       FUNCTION: TS is a member of the terpene cyclas...   \n",
       "1       FUNCTION: Catalyzes the condensation of 2 farn...   \n",
       "2                                                     nan   \n",
       "3                                                     nan   \n",
       "4       FUNCTION: Trichodiene synthase; part of the co...   \n",
       "...                                                   ...   \n",
       "266129                                                      \n",
       "266130                                                      \n",
       "266131                                                      \n",
       "266132                                                      \n",
       "266133                                                      \n",
       "\n",
       "                                   rheas        sites  \n",
       "0       RHEA:12052;RHEA:12052;RHEA:12052  nan;nan;nan  \n",
       "1                  RHEA:32299 RHEA:32295          nan  \n",
       "2                                    nan          nan  \n",
       "3                                    nan          nan  \n",
       "4                             RHEA:12052          nan  \n",
       "...                                  ...          ...  \n",
       "266129                                                 \n",
       "266130                                                 \n",
       "266131                                                 \n",
       "266132                                                 \n",
       "266133                                                 \n",
       "\n",
       "[266134 rows x 20 columns]"
      ]
     },
     "execution_count": 247,
     "metadata": {},
     "output_type": "execute_result"
    }
   ],
   "source": [
    "anno_df2"
   ]
  },
  {
   "cell_type": "code",
   "execution_count": 265,
   "id": "ef380253-5163-4cd3-8108-3c5bd19343c4",
   "metadata": {
    "tags": []
   },
   "outputs": [],
   "source": [
    "# top 50 most abundant organisms which could not map - manually added the tax ids\n",
    "taxid_map = {'Chloroflexi bacterium':2026724,\n",
    "             'Acidobacteria bacterium':1978231,\n",
    "             'Oryza sativa subsp. japonica':39947,\n",
    "             'Firmicutes bacterium':1879010,\n",
    "             'Gemmatimonadetes bacterium':2026742,\n",
    "             'Rhodococcus hoagii':43767,\n",
    "             'Verrucomicrobia bacterium':2026799,\n",
    "             'Dioscorea cayennensis subsp. rotundata':55577,\n",
    "             'Enterobacter agglomerans':549,\n",
    "             'Actinomycetia bacterium':1883427,\n",
    "             'Mycobacterium bovis':1765,\n",
    "             'Gibberella fujikuroi':5127,\n",
    "             'Prevotella copri':165179,\n",
    "             'Rhizobium radiobacter':358,\n",
    "             'Magnaporthe oryzae':318829,\n",
    "             'Candidatus Omnitrophica bacterium':2035772,\n",
    "             'Phaseolus angularis':3914,\n",
    "             'Brassica campestris':145471,\n",
    "             'Citrus clementina':85681,\n",
    "             'Gibberella zeae':5518,\n",
    "             'Armatimonadetes bacterium':2033014,\n",
    "             'Nitrospirae bacterium':2026887,\n",
    "             'Streptomyces sp. AA8':2720021,\n",
    "             'Spirochaetes bacterium':2202144,\n",
    "             'Claroideoglomus sp. SA101':2562287,\n",
    "             'Borrelia garinii':29519,\n",
    "             'Gibberella intermedia':948311,\n",
    "             'Agrobacterium rhizogenes':359,\n",
    "             'Streptomyces sp. A15ISP2-DRY2':2867268,\n",
    "             'Streptomyces sp. PLAI1-29':2053010,\n",
    "             'Mycobacterium heraklionense':512402,\n",
    "             'Nitrospinae bacterium':2026769,\n",
    "             'Streptomyces cocklensis':887465,\n",
    "             'Rhizopus oryzae':64495,\n",
    "             'Gibberella moniliformis':405761,\n",
    "             'Bionectria ochroleuca':29856,\n",
    "             'Streptomyces sp. IBSBF 2953':2839966,\n",
    "             'Pelagibacter ubique':198252,\n",
    "             'Phanerochaete chrysosporium':2822231,\n",
    "             'Archangium sp. miwbw1':2995310,\n",
    "             'Pantoea ananas':553,\n",
    "             'Pichia angusta':870730,\n",
    "             'Streptomyces sp. RCU064':2967341,\n",
    "             'Streptomyces sp. M600PL45_2':2922868,\n",
    "             'Salmonella enterica I':59201,\n",
    "             'Streptomyces sp. 4503':2842201,\n",
    "             'Rhizobium meliloti':382,\n",
    "             'Yinghuangia sp. KLBMP8922':2908204,\n",
    "             'Alcaligenes xylosoxydans xylosoxydans':85698\n",
    "            }"
   ]
  },
  {
   "cell_type": "code",
   "execution_count": 266,
   "id": "04d39a0a-edb3-40fb-b07d-31aaa73713e6",
   "metadata": {
    "tags": []
   },
   "outputs": [],
   "source": [
    "def get_tax_id(x):\n",
    "    try:\n",
    "        # try getting taxid for every organism in the source untill success\n",
    "        organisms = x['organisms_source'].split(';')\n",
    "    \n",
    "        for organism in organisms:\n",
    "            \n",
    "            # if the organism is present in the taxid map, use the corresponding taxid\n",
    "            if organism in taxid_map.keys():\n",
    "                return taxid_map[organism]\n",
    "            try:\n",
    "                t = taxoniq.Taxon(scientific_name=organism)\n",
    "                return t.tax_id\n",
    "            except:\n",
    "                continue\n",
    "        \n",
    "        # if not succesfull, try every organism from uniprot untill success\n",
    "        # TODO: maybe remove braces?\n",
    "        organisms = x['organisms_uniprot'].split(';')\n",
    "        for organism in organisms:\n",
    "            # if the organism is present in the taxid map, use the corresponding taxid\n",
    "            if organism in taxid_map.keys():\n",
    "                return taxid_map[organism]\n",
    "            try:\n",
    "                t = taxoniq.Taxon(scientific_name=organism)\n",
    "                return t.tax_id\n",
    "            except:\n",
    "                continue\n",
    "        \n",
    "        # if not succesfull, use the uniprot_tax_ids\n",
    "        if x['uniprot_tax_ids'] != '':\n",
    "            return x['uniprot_tax_ids']\n",
    "        return 'error'\n",
    "    except:\n",
    "        return 'error'"
   ]
  },
  {
   "cell_type": "code",
   "execution_count": 285,
   "id": "4a828545-979d-487f-8bcc-5f4f5f31cae4",
   "metadata": {
    "tags": []
   },
   "outputs": [],
   "source": [
    "def get_organism_from_tax_id(x):\n",
    "    try:\n",
    "        taxid = x['tax_id']\n",
    "        t = taxoniq.Taxon(taxid)\n",
    "        return t.scientific_name\n",
    "    except:\n",
    "        if type(x['organisms_source']) == str:\n",
    "            return x['organisms_source']\n",
    "        if type(x['organisms_uniprot']) == str:\n",
    "            if x['organisms_uniprot'] == '':\n",
    "                return 'unknown'\n",
    "            return x['organisms_uniprot']\n",
    "        return 'unknown'"
   ]
  },
  {
   "cell_type": "code",
   "execution_count": 267,
   "id": "2c25fac2-daef-4e25-8542-41ade90c2074",
   "metadata": {
    "tags": []
   },
   "outputs": [],
   "source": [
    "anno_df2['tax_id'] = anno_df2.apply(lambda x: get_tax_id(x), axis=1)"
   ]
  },
  {
   "cell_type": "code",
   "execution_count": null,
   "id": "ea6bc8d0-c163-44df-a484-4b4242cf8dc9",
   "metadata": {},
   "outputs": [],
   "source": [
    "def get_multi_tax_ids(x):\n",
    "    if type(x) == int:\n",
    "        return False"
   ]
  },
  {
   "cell_type": "code",
   "execution_count": 312,
   "id": "9602f553-d5cb-4d66-95a5-98afa08ba4f4",
   "metadata": {
    "tags": []
   },
   "outputs": [
    {
     "data": {
      "text/html": [
       "<div>\n",
       "<style scoped>\n",
       "    .dataframe tbody tr th:only-of-type {\n",
       "        vertical-align: middle;\n",
       "    }\n",
       "\n",
       "    .dataframe tbody tr th {\n",
       "        vertical-align: top;\n",
       "    }\n",
       "\n",
       "    .dataframe thead th {\n",
       "        text-align: right;\n",
       "    }\n",
       "</style>\n",
       "<table border=\"1\" class=\"dataframe\">\n",
       "  <thead>\n",
       "    <tr style=\"text-align: right;\">\n",
       "      <th></th>\n",
       "      <th>record_id</th>\n",
       "      <th>record_description</th>\n",
       "      <th>new_id</th>\n",
       "      <th>uniprot_ids</th>\n",
       "      <th>organisms_source</th>\n",
       "      <th>source_dbs</th>\n",
       "      <th>index</th>\n",
       "      <th>entry_names</th>\n",
       "      <th>gene_names</th>\n",
       "      <th>protein_names</th>\n",
       "      <th>...</th>\n",
       "      <th>ec_numbers</th>\n",
       "      <th>functions</th>\n",
       "      <th>rheas</th>\n",
       "      <th>sites</th>\n",
       "      <th>tax_id</th>\n",
       "      <th>organism</th>\n",
       "      <th>lineage</th>\n",
       "      <th>superkingdom</th>\n",
       "      <th>kingdom</th>\n",
       "      <th>phylum</th>\n",
       "    </tr>\n",
       "  </thead>\n",
       "  <tbody>\n",
       "    <tr>\n",
       "      <th>78</th>\n",
       "      <td>P0CV94;</td>\n",
       "      <td>P0CV94; A0A1J0CL47\\torganism: Fragaria ananass...</td>\n",
       "      <td>uniprot_000078</td>\n",
       "      <td>P0CV94; A0A1J0CL47</td>\n",
       "      <td>Fragaria ananassa</td>\n",
       "      <td>EMBL;UniProtKB/TrEMBL;EPO;USPTO;REMTREMBL;UniP...</td>\n",
       "      <td>P0CV94; A0A1J0CL47</td>\n",
       "      <td>NES1_FRAAN;A0A1J0CL47_FRAAN</td>\n",
       "      <td>nan;NES1</td>\n",
       "      <td>(3S,6E)-nerolidol synthase 1 (FaNES1) (EC 4.2....</td>\n",
       "      <td>...</td>\n",
       "      <td>4.2.3.48;nan</td>\n",
       "      <td>FUNCTION: Involved in monoterpene (C10) and se...</td>\n",
       "      <td>RHEA:27530;nan</td>\n",
       "      <td>nan;nan</td>\n",
       "      <td>3747.0;3747.0</td>\n",
       "      <td>Fragaria ananassa</td>\n",
       "      <td>error</td>\n",
       "      <td>unknown</td>\n",
       "      <td>unknown</td>\n",
       "      <td>unknown</td>\n",
       "    </tr>\n",
       "    <tr>\n",
       "      <th>666</th>\n",
       "      <td>Q6WP50;</td>\n",
       "      <td>Q6WP50; A0A384K0Q0; Q6WP50.1 (obsolete)\\torgan...</td>\n",
       "      <td>uniprot_000666</td>\n",
       "      <td>Q6WP50; A0A384K0Q0; Q6WP50.1 (obsolete)</td>\n",
       "      <td>Botryotinia fuckeliana</td>\n",
       "      <td>EMBL;EnsemblFungi;UniProtKB/TrEMBL;RefSeq;TREM...</td>\n",
       "      <td>Q6WP50; A0A384K0Q0; Q6WP50.1 (obsolete)</td>\n",
       "      <td>BOT2_BOTFU;A0A384K0Q0_BOTFB</td>\n",
       "      <td>BOT2 CND15;Bcbot2 BCIN_12g06390</td>\n",
       "      <td>Presilphiperfolan-8-beta-ol synthase (PSPS) (E...</td>\n",
       "      <td>...</td>\n",
       "      <td>4.2.3.74;4.2.3.-</td>\n",
       "      <td>FUNCTION: Presilphiperfolan-8-beta-ol synthase...</td>\n",
       "      <td>RHEA:27954;nan</td>\n",
       "      <td>nan;nan</td>\n",
       "      <td>40559.0;332648.0</td>\n",
       "      <td>Botryotinia fuckeliana</td>\n",
       "      <td>error</td>\n",
       "      <td>unknown</td>\n",
       "      <td>unknown</td>\n",
       "      <td>unknown</td>\n",
       "    </tr>\n",
       "    <tr>\n",
       "      <th>685</th>\n",
       "      <td>Q5ATY1;</td>\n",
       "      <td>Q5ATY1; A0A1U8QVF1; C8V7H5.1 (obsolete)\\torgan...</td>\n",
       "      <td>uniprot_000685</td>\n",
       "      <td>Q5ATY1; A0A1U8QVF1; C8V7H5.1 (obsolete)</td>\n",
       "      <td>Emericella nidulans</td>\n",
       "      <td>EMBL;EnsemblFungi;UniProtKB/TrEMBL;EPO;EMBL_TP...</td>\n",
       "      <td>Q5ATY1; A0A1U8QVF1; C8V7H5.1 (obsolete)</td>\n",
       "      <td>Q5ATY1_EMENI;A0A1U8QVF1_EMENI</td>\n",
       "      <td>ANIA_08249;AN8249.2</td>\n",
       "      <td>Terpene cyclase/mutase family member (EC 5.4.9...</td>\n",
       "      <td>...</td>\n",
       "      <td>5.4.99.-;5.4.99.-</td>\n",
       "      <td>nan;nan</td>\n",
       "      <td>nan;nan</td>\n",
       "      <td>nan;nan</td>\n",
       "      <td>227321.0;227321.0</td>\n",
       "      <td>Emericella nidulans</td>\n",
       "      <td>error</td>\n",
       "      <td>unknown</td>\n",
       "      <td>unknown</td>\n",
       "      <td>unknown</td>\n",
       "    </tr>\n",
       "    <tr>\n",
       "      <th>690</th>\n",
       "      <td>Q5BA19;</td>\n",
       "      <td>Q5BA19; A0A1U8QP34; C8VKN3.1 (obsolete)\\torgan...</td>\n",
       "      <td>uniprot_000690</td>\n",
       "      <td>Q5BA19; A0A1U8QP34; C8VKN3.1 (obsolete)</td>\n",
       "      <td>Emericella nidulans</td>\n",
       "      <td>EMBL;EnsemblFungi;UniProtKB/TrEMBL;EMBL_TPA;SE...</td>\n",
       "      <td>Q5BA19; A0A1U8QP34; C8VKN3.1 (obsolete)</td>\n",
       "      <td>Q5BA19_EMENI;A0A1U8QP34_EMENI</td>\n",
       "      <td>ANIA_02611;AN2611.2</td>\n",
       "      <td>Geranylgeranyl diphosphate synthase, putative ...</td>\n",
       "      <td>...</td>\n",
       "      <td>nan;nan</td>\n",
       "      <td>nan;nan</td>\n",
       "      <td>nan;nan</td>\n",
       "      <td>nan;nan</td>\n",
       "      <td>227321.0;227321.0</td>\n",
       "      <td>Emericella nidulans</td>\n",
       "      <td>error</td>\n",
       "      <td>unknown</td>\n",
       "      <td>unknown</td>\n",
       "      <td>unknown</td>\n",
       "    </tr>\n",
       "    <tr>\n",
       "      <th>692</th>\n",
       "      <td>Q5BHD7;</td>\n",
       "      <td>Q5BHD7; A0A1U8QNE7; C8VRD9.1 (obsolete)\\torgan...</td>\n",
       "      <td>uniprot_000692</td>\n",
       "      <td>Q5BHD7; A0A1U8QNE7; C8VRD9.1 (obsolete)</td>\n",
       "      <td>Emericella nidulans</td>\n",
       "      <td>EMBL;EnsemblFungi;UniProtKB/TrEMBL;EMBL_TPA;SE...</td>\n",
       "      <td>Q5BHD7; A0A1U8QNE7; C8VRD9.1 (obsolete)</td>\n",
       "      <td>Q5BHD7_EMENI;A0A1U8QNE7_EMENI</td>\n",
       "      <td>ANIA_00043;AN0043.2</td>\n",
       "      <td>Squalene/phytoene synthase;Squalene/phytoene s...</td>\n",
       "      <td>...</td>\n",
       "      <td>nan;nan</td>\n",
       "      <td>nan;nan</td>\n",
       "      <td>nan;nan</td>\n",
       "      <td>nan;nan</td>\n",
       "      <td>227321.0;227321.0</td>\n",
       "      <td>Emericella nidulans</td>\n",
       "      <td>error</td>\n",
       "      <td>unknown</td>\n",
       "      <td>unknown</td>\n",
       "      <td>unknown</td>\n",
       "    </tr>\n",
       "    <tr>\n",
       "      <th>...</th>\n",
       "      <td>...</td>\n",
       "      <td>...</td>\n",
       "      <td>...</td>\n",
       "      <td>...</td>\n",
       "      <td>...</td>\n",
       "      <td>...</td>\n",
       "      <td>...</td>\n",
       "      <td>...</td>\n",
       "      <td>...</td>\n",
       "      <td>...</td>\n",
       "      <td>...</td>\n",
       "      <td>...</td>\n",
       "      <td>...</td>\n",
       "      <td>...</td>\n",
       "      <td>...</td>\n",
       "      <td>...</td>\n",
       "      <td>...</td>\n",
       "      <td>...</td>\n",
       "      <td>...</td>\n",
       "      <td>...</td>\n",
       "      <td>...</td>\n",
       "    </tr>\n",
       "    <tr>\n",
       "      <th>148797</th>\n",
       "      <td>A0A0D5YSG1;</td>\n",
       "      <td>A0A0D5YSG1; A0A2E3S7P0\\torganism: Muricauda lu...</td>\n",
       "      <td>uniprot_148797</td>\n",
       "      <td>A0A0D5YSG1; A0A2E3S7P0</td>\n",
       "      <td>Muricauda lutaonensis;Muricauda sp.</td>\n",
       "      <td>EMBL;UniProtKB/TrEMBL;PATRIC;RefSeq;EnsemblBac...</td>\n",
       "      <td>A0A0D5YSG1; A0A2E3S7P0</td>\n",
       "      <td>A0A0D5YSG1_9FLAO;A0A2E3S7P0_9FLAO</td>\n",
       "      <td>VC82_1581;CMH48_01470</td>\n",
       "      <td>Putative isoprenoid biosynthesis related prote...</td>\n",
       "      <td>...</td>\n",
       "      <td>nan;nan</td>\n",
       "      <td>nan;nan</td>\n",
       "      <td>nan;nan</td>\n",
       "      <td>nan;nan</td>\n",
       "      <td>516051.0;192149.0</td>\n",
       "      <td>Muricauda lutaonensis;Muricauda sp.</td>\n",
       "      <td>error</td>\n",
       "      <td>unknown</td>\n",
       "      <td>unknown</td>\n",
       "      <td>unknown</td>\n",
       "    </tr>\n",
       "    <tr>\n",
       "      <th>151274</th>\n",
       "      <td>A0A0L0NV66;</td>\n",
       "      <td>A0A0L0NV66; A0A2H0ZLN6\\torganism: Candida auri...</td>\n",
       "      <td>uniprot_151274</td>\n",
       "      <td>A0A0L0NV66; A0A2H0ZLN6</td>\n",
       "      <td>Candida auris</td>\n",
       "      <td>EMBL;EnsemblFungi;UniProtKB/TrEMBL;RefSeq;EMBLWGS</td>\n",
       "      <td>A0A0L0NV66; A0A2H0ZLN6</td>\n",
       "      <td>A0A0L0NV66_CANAR;A0A2H0ZLN6_CANAR</td>\n",
       "      <td>QG37_05277;B9J08_003125 CA7LBN_000853</td>\n",
       "      <td>Farnesyl pyrophosphate synthase;Farnesyl pyrop...</td>\n",
       "      <td>...</td>\n",
       "      <td>nan;nan</td>\n",
       "      <td>nan;nan</td>\n",
       "      <td>nan;nan</td>\n",
       "      <td>nan;nan</td>\n",
       "      <td>498019.0;498019.0</td>\n",
       "      <td>Candida auris</td>\n",
       "      <td>error</td>\n",
       "      <td>unknown</td>\n",
       "      <td>unknown</td>\n",
       "      <td>unknown</td>\n",
       "    </tr>\n",
       "    <tr>\n",
       "      <th>187185</th>\n",
       "      <td>A0A3A1NGV0;</td>\n",
       "      <td>A0A3A1NGV0; A0A418NCJ5\\torganism: Muricauda ma...</td>\n",
       "      <td>uniprot_187185</td>\n",
       "      <td>A0A3A1NGV0; A0A418NCJ5</td>\n",
       "      <td>Muricauda aequoris;Muricauda maritima;Muricauda</td>\n",
       "      <td>RefSeq;EnsemblBacteria;UniProtKB/TrEMBL;EMBLWGS</td>\n",
       "      <td>A0A3A1NGV0; A0A418NCJ5</td>\n",
       "      <td>A0A3A1NGV0_9FLAO;A0A418NCJ5_9FLAO</td>\n",
       "      <td>D2V05_14680;D2U88_02580</td>\n",
       "      <td>Polyprenyl synthetase family protein;Polypreny...</td>\n",
       "      <td>...</td>\n",
       "      <td>nan;nan</td>\n",
       "      <td>nan;nan</td>\n",
       "      <td>nan;nan</td>\n",
       "      <td>nan;nan</td>\n",
       "      <td>2306998.0;2306997.0</td>\n",
       "      <td>Muricauda aequoris;Muricauda maritima;Muricauda</td>\n",
       "      <td>error</td>\n",
       "      <td>unknown</td>\n",
       "      <td>unknown</td>\n",
       "      <td>unknown</td>\n",
       "    </tr>\n",
       "    <tr>\n",
       "      <th>187669</th>\n",
       "      <td>A0A355CRG6;</td>\n",
       "      <td>A0A355CRG6; A0A3D5GDS5\\torganism: Microcoleace...</td>\n",
       "      <td>uniprot_187669</td>\n",
       "      <td>A0A355CRG6; A0A3D5GDS5</td>\n",
       "      <td>Microcoleaceae bacterium UBA9251;Microcoleacea...</td>\n",
       "      <td>UniProtKB/TrEMBL;EMBLWGS</td>\n",
       "      <td>A0A355CRG6; A0A3D5GDS5</td>\n",
       "      <td>A0A355CRG6_9CYAN;A0A3D5GDS5_9CYAN</td>\n",
       "      <td>DD001_23275;DGO89_21580</td>\n",
       "      <td>Farnesyl-diphosphate synthase;Farnesyl-diphosp...</td>\n",
       "      <td>...</td>\n",
       "      <td>nan;nan</td>\n",
       "      <td>nan;nan</td>\n",
       "      <td>nan;nan</td>\n",
       "      <td>nan;nan</td>\n",
       "      <td>2055793.0;2055794.0</td>\n",
       "      <td>Microcoleaceae bacterium UBA9251;Microcoleacea...</td>\n",
       "      <td>error</td>\n",
       "      <td>unknown</td>\n",
       "      <td>unknown</td>\n",
       "      <td>unknown</td>\n",
       "    </tr>\n",
       "    <tr>\n",
       "      <th>188033</th>\n",
       "      <td>A0A355CLX8;</td>\n",
       "      <td>A0A355CLX8; A0A3D5GAR9\\torganism: Microcoleace...</td>\n",
       "      <td>uniprot_188033</td>\n",
       "      <td>A0A355CLX8; A0A3D5GAR9</td>\n",
       "      <td>Microcoleaceae bacterium UBA9251;Microcoleacea...</td>\n",
       "      <td>UniProtKB/TrEMBL;EMBLWGS</td>\n",
       "      <td>A0A355CLX8; A0A3D5GAR9</td>\n",
       "      <td>A0A355CLX8_9CYAN;A0A3D5GAR9_9CYAN</td>\n",
       "      <td>sds DD001_17725;sds DGO89_16125</td>\n",
       "      <td>Solanesyl diphosphate synthase;Solanesyl dipho...</td>\n",
       "      <td>...</td>\n",
       "      <td>nan;nan</td>\n",
       "      <td>nan;nan</td>\n",
       "      <td>nan;nan</td>\n",
       "      <td>nan;nan</td>\n",
       "      <td>2055793.0;2055794.0</td>\n",
       "      <td>Microcoleaceae bacterium UBA9251;Microcoleacea...</td>\n",
       "      <td>error</td>\n",
       "      <td>unknown</td>\n",
       "      <td>unknown</td>\n",
       "      <td>unknown</td>\n",
       "    </tr>\n",
       "  </tbody>\n",
       "</table>\n",
       "<p>95 rows × 26 columns</p>\n",
       "</div>"
      ],
      "text/plain": [
       "          record_id                                 record_description  \\\n",
       "78          P0CV94;  P0CV94; A0A1J0CL47\\torganism: Fragaria ananass...   \n",
       "666         Q6WP50;  Q6WP50; A0A384K0Q0; Q6WP50.1 (obsolete)\\torgan...   \n",
       "685         Q5ATY1;  Q5ATY1; A0A1U8QVF1; C8V7H5.1 (obsolete)\\torgan...   \n",
       "690         Q5BA19;  Q5BA19; A0A1U8QP34; C8VKN3.1 (obsolete)\\torgan...   \n",
       "692         Q5BHD7;  Q5BHD7; A0A1U8QNE7; C8VRD9.1 (obsolete)\\torgan...   \n",
       "...             ...                                                ...   \n",
       "148797  A0A0D5YSG1;  A0A0D5YSG1; A0A2E3S7P0\\torganism: Muricauda lu...   \n",
       "151274  A0A0L0NV66;  A0A0L0NV66; A0A2H0ZLN6\\torganism: Candida auri...   \n",
       "187185  A0A3A1NGV0;  A0A3A1NGV0; A0A418NCJ5\\torganism: Muricauda ma...   \n",
       "187669  A0A355CRG6;  A0A355CRG6; A0A3D5GDS5\\torganism: Microcoleace...   \n",
       "188033  A0A355CLX8;  A0A355CLX8; A0A3D5GAR9\\torganism: Microcoleace...   \n",
       "\n",
       "                new_id                              uniprot_ids  \\\n",
       "78      uniprot_000078                       P0CV94; A0A1J0CL47   \n",
       "666     uniprot_000666  Q6WP50; A0A384K0Q0; Q6WP50.1 (obsolete)   \n",
       "685     uniprot_000685  Q5ATY1; A0A1U8QVF1; C8V7H5.1 (obsolete)   \n",
       "690     uniprot_000690  Q5BA19; A0A1U8QP34; C8VKN3.1 (obsolete)   \n",
       "692     uniprot_000692  Q5BHD7; A0A1U8QNE7; C8VRD9.1 (obsolete)   \n",
       "...                ...                                      ...   \n",
       "148797  uniprot_148797                   A0A0D5YSG1; A0A2E3S7P0   \n",
       "151274  uniprot_151274                   A0A0L0NV66; A0A2H0ZLN6   \n",
       "187185  uniprot_187185                   A0A3A1NGV0; A0A418NCJ5   \n",
       "187669  uniprot_187669                   A0A355CRG6; A0A3D5GDS5   \n",
       "188033  uniprot_188033                   A0A355CLX8; A0A3D5GAR9   \n",
       "\n",
       "                                         organisms_source  \\\n",
       "78                                      Fragaria ananassa   \n",
       "666                                Botryotinia fuckeliana   \n",
       "685                                   Emericella nidulans   \n",
       "690                                   Emericella nidulans   \n",
       "692                                   Emericella nidulans   \n",
       "...                                                   ...   \n",
       "148797                Muricauda lutaonensis;Muricauda sp.   \n",
       "151274                                      Candida auris   \n",
       "187185    Muricauda aequoris;Muricauda maritima;Muricauda   \n",
       "187669  Microcoleaceae bacterium UBA9251;Microcoleacea...   \n",
       "188033  Microcoleaceae bacterium UBA9251;Microcoleacea...   \n",
       "\n",
       "                                               source_dbs  \\\n",
       "78      EMBL;UniProtKB/TrEMBL;EPO;USPTO;REMTREMBL;UniP...   \n",
       "666     EMBL;EnsemblFungi;UniProtKB/TrEMBL;RefSeq;TREM...   \n",
       "685     EMBL;EnsemblFungi;UniProtKB/TrEMBL;EPO;EMBL_TP...   \n",
       "690     EMBL;EnsemblFungi;UniProtKB/TrEMBL;EMBL_TPA;SE...   \n",
       "692     EMBL;EnsemblFungi;UniProtKB/TrEMBL;EMBL_TPA;SE...   \n",
       "...                                                   ...   \n",
       "148797  EMBL;UniProtKB/TrEMBL;PATRIC;RefSeq;EnsemblBac...   \n",
       "151274  EMBL;EnsemblFungi;UniProtKB/TrEMBL;RefSeq;EMBLWGS   \n",
       "187185    RefSeq;EnsemblBacteria;UniProtKB/TrEMBL;EMBLWGS   \n",
       "187669                           UniProtKB/TrEMBL;EMBLWGS   \n",
       "188033                           UniProtKB/TrEMBL;EMBLWGS   \n",
       "\n",
       "                                          index  \\\n",
       "78                           P0CV94; A0A1J0CL47   \n",
       "666     Q6WP50; A0A384K0Q0; Q6WP50.1 (obsolete)   \n",
       "685     Q5ATY1; A0A1U8QVF1; C8V7H5.1 (obsolete)   \n",
       "690     Q5BA19; A0A1U8QP34; C8VKN3.1 (obsolete)   \n",
       "692     Q5BHD7; A0A1U8QNE7; C8VRD9.1 (obsolete)   \n",
       "...                                         ...   \n",
       "148797                   A0A0D5YSG1; A0A2E3S7P0   \n",
       "151274                   A0A0L0NV66; A0A2H0ZLN6   \n",
       "187185                   A0A3A1NGV0; A0A418NCJ5   \n",
       "187669                   A0A355CRG6; A0A3D5GDS5   \n",
       "188033                   A0A355CLX8; A0A3D5GAR9   \n",
       "\n",
       "                              entry_names  \\\n",
       "78            NES1_FRAAN;A0A1J0CL47_FRAAN   \n",
       "666           BOT2_BOTFU;A0A384K0Q0_BOTFB   \n",
       "685         Q5ATY1_EMENI;A0A1U8QVF1_EMENI   \n",
       "690         Q5BA19_EMENI;A0A1U8QP34_EMENI   \n",
       "692         Q5BHD7_EMENI;A0A1U8QNE7_EMENI   \n",
       "...                                   ...   \n",
       "148797  A0A0D5YSG1_9FLAO;A0A2E3S7P0_9FLAO   \n",
       "151274  A0A0L0NV66_CANAR;A0A2H0ZLN6_CANAR   \n",
       "187185  A0A3A1NGV0_9FLAO;A0A418NCJ5_9FLAO   \n",
       "187669  A0A355CRG6_9CYAN;A0A3D5GDS5_9CYAN   \n",
       "188033  A0A355CLX8_9CYAN;A0A3D5GAR9_9CYAN   \n",
       "\n",
       "                                   gene_names  \\\n",
       "78                                   nan;NES1   \n",
       "666           BOT2 CND15;Bcbot2 BCIN_12g06390   \n",
       "685                       ANIA_08249;AN8249.2   \n",
       "690                       ANIA_02611;AN2611.2   \n",
       "692                       ANIA_00043;AN0043.2   \n",
       "...                                       ...   \n",
       "148797                  VC82_1581;CMH48_01470   \n",
       "151274  QG37_05277;B9J08_003125 CA7LBN_000853   \n",
       "187185                D2V05_14680;D2U88_02580   \n",
       "187669                DD001_23275;DGO89_21580   \n",
       "188033        sds DD001_17725;sds DGO89_16125   \n",
       "\n",
       "                                            protein_names  ...  \\\n",
       "78      (3S,6E)-nerolidol synthase 1 (FaNES1) (EC 4.2....  ...   \n",
       "666     Presilphiperfolan-8-beta-ol synthase (PSPS) (E...  ...   \n",
       "685     Terpene cyclase/mutase family member (EC 5.4.9...  ...   \n",
       "690     Geranylgeranyl diphosphate synthase, putative ...  ...   \n",
       "692     Squalene/phytoene synthase;Squalene/phytoene s...  ...   \n",
       "...                                                   ...  ...   \n",
       "148797  Putative isoprenoid biosynthesis related prote...  ...   \n",
       "151274  Farnesyl pyrophosphate synthase;Farnesyl pyrop...  ...   \n",
       "187185  Polyprenyl synthetase family protein;Polypreny...  ...   \n",
       "187669  Farnesyl-diphosphate synthase;Farnesyl-diphosp...  ...   \n",
       "188033  Solanesyl diphosphate synthase;Solanesyl dipho...  ...   \n",
       "\n",
       "               ec_numbers                                          functions  \\\n",
       "78           4.2.3.48;nan  FUNCTION: Involved in monoterpene (C10) and se...   \n",
       "666      4.2.3.74;4.2.3.-  FUNCTION: Presilphiperfolan-8-beta-ol synthase...   \n",
       "685     5.4.99.-;5.4.99.-                                            nan;nan   \n",
       "690               nan;nan                                            nan;nan   \n",
       "692               nan;nan                                            nan;nan   \n",
       "...                   ...                                                ...   \n",
       "148797            nan;nan                                            nan;nan   \n",
       "151274            nan;nan                                            nan;nan   \n",
       "187185            nan;nan                                            nan;nan   \n",
       "187669            nan;nan                                            nan;nan   \n",
       "188033            nan;nan                                            nan;nan   \n",
       "\n",
       "                 rheas    sites               tax_id  \\\n",
       "78      RHEA:27530;nan  nan;nan        3747.0;3747.0   \n",
       "666     RHEA:27954;nan  nan;nan     40559.0;332648.0   \n",
       "685            nan;nan  nan;nan    227321.0;227321.0   \n",
       "690            nan;nan  nan;nan    227321.0;227321.0   \n",
       "692            nan;nan  nan;nan    227321.0;227321.0   \n",
       "...                ...      ...                  ...   \n",
       "148797         nan;nan  nan;nan    516051.0;192149.0   \n",
       "151274         nan;nan  nan;nan    498019.0;498019.0   \n",
       "187185         nan;nan  nan;nan  2306998.0;2306997.0   \n",
       "187669         nan;nan  nan;nan  2055793.0;2055794.0   \n",
       "188033         nan;nan  nan;nan  2055793.0;2055794.0   \n",
       "\n",
       "                                                 organism lineage  \\\n",
       "78                                      Fragaria ananassa   error   \n",
       "666                                Botryotinia fuckeliana   error   \n",
       "685                                   Emericella nidulans   error   \n",
       "690                                   Emericella nidulans   error   \n",
       "692                                   Emericella nidulans   error   \n",
       "...                                                   ...     ...   \n",
       "148797                Muricauda lutaonensis;Muricauda sp.   error   \n",
       "151274                                      Candida auris   error   \n",
       "187185    Muricauda aequoris;Muricauda maritima;Muricauda   error   \n",
       "187669  Microcoleaceae bacterium UBA9251;Microcoleacea...   error   \n",
       "188033  Microcoleaceae bacterium UBA9251;Microcoleacea...   error   \n",
       "\n",
       "       superkingdom  kingdom   phylum  \n",
       "78          unknown  unknown  unknown  \n",
       "666         unknown  unknown  unknown  \n",
       "685         unknown  unknown  unknown  \n",
       "690         unknown  unknown  unknown  \n",
       "692         unknown  unknown  unknown  \n",
       "...             ...      ...      ...  \n",
       "148797      unknown  unknown  unknown  \n",
       "151274      unknown  unknown  unknown  \n",
       "187185      unknown  unknown  unknown  \n",
       "187669      unknown  unknown  unknown  \n",
       "188033      unknown  unknown  unknown  \n",
       "\n",
       "[95 rows x 26 columns]"
      ]
     },
     "execution_count": 312,
     "metadata": {},
     "output_type": "execute_result"
    }
   ],
   "source": [
    "anno_df2[anno_df2['tax_id'].apply(lambda x: False if type(x)==int else ';' in x)]"
   ]
  },
  {
   "cell_type": "code",
   "execution_count": 286,
   "id": "e848f8e4-9e61-4371-83d8-e361a4a805cc",
   "metadata": {
    "tags": []
   },
   "outputs": [],
   "source": [
    "anno_df2['organism'] = anno_df2.apply(lambda x: get_organism_from_tax_id(x), axis=1)"
   ]
  },
  {
   "cell_type": "code",
   "execution_count": 287,
   "id": "6aa256de-3b07-4692-ad37-dc509af0e584",
   "metadata": {
    "collapsed": true,
    "jupyter": {
     "outputs_hidden": true
    },
    "tags": []
   },
   "outputs": [
    {
     "data": {
      "text/html": [
       "<div>\n",
       "<style scoped>\n",
       "    .dataframe tbody tr th:only-of-type {\n",
       "        vertical-align: middle;\n",
       "    }\n",
       "\n",
       "    .dataframe tbody tr th {\n",
       "        vertical-align: top;\n",
       "    }\n",
       "\n",
       "    .dataframe thead th {\n",
       "        text-align: right;\n",
       "    }\n",
       "</style>\n",
       "<table border=\"1\" class=\"dataframe\">\n",
       "  <thead>\n",
       "    <tr style=\"text-align: right;\">\n",
       "      <th></th>\n",
       "      <th>record_id</th>\n",
       "      <th>record_description</th>\n",
       "      <th>new_id</th>\n",
       "      <th>uniprot_ids</th>\n",
       "      <th>organisms_source</th>\n",
       "      <th>source_dbs</th>\n",
       "      <th>index</th>\n",
       "      <th>entry_names</th>\n",
       "      <th>gene_names</th>\n",
       "      <th>protein_names</th>\n",
       "      <th>...</th>\n",
       "      <th>uniprot_tax_ids</th>\n",
       "      <th>fragments</th>\n",
       "      <th>active_sites</th>\n",
       "      <th>catalytic_activities</th>\n",
       "      <th>ec_numbers</th>\n",
       "      <th>functions</th>\n",
       "      <th>rheas</th>\n",
       "      <th>sites</th>\n",
       "      <th>tax_id</th>\n",
       "      <th>organism</th>\n",
       "    </tr>\n",
       "  </thead>\n",
       "  <tbody>\n",
       "    <tr>\n",
       "      <th>0</th>\n",
       "      <td>O59947;</td>\n",
       "      <td>O59947; Q71RX9; A0A084R4B7; O59947.1 (obsolete...</td>\n",
       "      <td>uniprot_000000</td>\n",
       "      <td>O59947; Q71RX9; A0A084R4B7; O59947.1 (obsolete...</td>\n",
       "      <td>Stachybotrys chartarum IBT 40288;Stachybotrys ...</td>\n",
       "      <td>EMBL;EnsemblFungi;UniProtKB/TrEMBL;EMBL_CON;TR...</td>\n",
       "      <td>O59947; Q71RX9; A0A084R4B7; O59947.1 (obsolete...</td>\n",
       "      <td>TRI5_STACH;Q71RX9_STACH;A0A084R4B7_STACH</td>\n",
       "      <td>TRI5;TRI5;TRI5 S40288_05530</td>\n",
       "      <td>Trichodiene synthase (EC 4.2.3.6) (Sesquiterpe...</td>\n",
       "      <td>...</td>\n",
       "      <td>74722.0;74722.0;1283842.0</td>\n",
       "      <td>nan;nan;nan</td>\n",
       "      <td>nan;nan;nan</td>\n",
       "      <td>CATALYTIC ACTIVITY: Reaction=(2E,6E)-farnesyl ...</td>\n",
       "      <td>4.2.3.6;4.2.3.6;4.2.3.6</td>\n",
       "      <td>FUNCTION: TS is a member of the terpene cyclas...</td>\n",
       "      <td>RHEA:12052;RHEA:12052;RHEA:12052</td>\n",
       "      <td>nan;nan;nan</td>\n",
       "      <td>1283842</td>\n",
       "      <td>Stachybotrys chartarum IBT 40288</td>\n",
       "    </tr>\n",
       "    <tr>\n",
       "      <th>1</th>\n",
       "      <td>Q84LE3</td>\n",
       "      <td>Q84LE3\\torganism: Lotus japonicus; Lotus japon...</td>\n",
       "      <td>uniprot_000001</td>\n",
       "      <td>Q84LE3</td>\n",
       "      <td>Lotus japonicus;Lotus corniculatus</td>\n",
       "      <td>EMBL;UniProtKB/TrEMBL;EPO;USPTO;TREMBLNEW;PRF</td>\n",
       "      <td>Q84LE3</td>\n",
       "      <td>Q84LE3_LOTJA</td>\n",
       "      <td>LjSqS</td>\n",
       "      <td>Squalene synthase (EC 2.5.1.21)</td>\n",
       "      <td>...</td>\n",
       "      <td>34305.0</td>\n",
       "      <td>nan</td>\n",
       "      <td>nan</td>\n",
       "      <td>CATALYTIC ACTIVITY: Reaction=2 (2E,6E)-farnesy...</td>\n",
       "      <td>2.5.1.21</td>\n",
       "      <td>FUNCTION: Catalyzes the condensation of 2 farn...</td>\n",
       "      <td>RHEA:32299 RHEA:32295</td>\n",
       "      <td>nan</td>\n",
       "      <td>34305</td>\n",
       "      <td>Lotus japonicus</td>\n",
       "    </tr>\n",
       "    <tr>\n",
       "      <th>2</th>\n",
       "      <td>Q84PE2</td>\n",
       "      <td>Q84PE2\\torganism: Lotus japonicus; Lotus japon...</td>\n",
       "      <td>uniprot_000002</td>\n",
       "      <td>Q84PE2</td>\n",
       "      <td>Lotus japonicus</td>\n",
       "      <td>EMBL;UniProtKB/TrEMBL;USPTO;TREMBLNEW;PRF</td>\n",
       "      <td>Q84PE2</td>\n",
       "      <td>Q84PE2_LOTJA</td>\n",
       "      <td>AMY1</td>\n",
       "      <td>Terpene cyclase/mutase family member (EC 5.4.9...</td>\n",
       "      <td>...</td>\n",
       "      <td>34305.0</td>\n",
       "      <td>fragment</td>\n",
       "      <td>nan</td>\n",
       "      <td>nan</td>\n",
       "      <td>5.4.99.-</td>\n",
       "      <td>nan</td>\n",
       "      <td>nan</td>\n",
       "      <td>nan</td>\n",
       "      <td>34305</td>\n",
       "      <td>Lotus japonicus</td>\n",
       "    </tr>\n",
       "    <tr>\n",
       "      <th>3</th>\n",
       "      <td>Q84PE1</td>\n",
       "      <td>Q84PE1\\torganism: Lotus japonicus; Lotus japon...</td>\n",
       "      <td>uniprot_000003</td>\n",
       "      <td>Q84PE1</td>\n",
       "      <td>Lotus japonicus</td>\n",
       "      <td>EMBL;UniProtKB/TrEMBL;EPO;USPTO;TREMBLNEW;PRF</td>\n",
       "      <td>Q84PE1</td>\n",
       "      <td>Q84PE1_LOTJA</td>\n",
       "      <td>AMY2</td>\n",
       "      <td>Terpene cyclase/mutase family member (EC 5.4.9...</td>\n",
       "      <td>...</td>\n",
       "      <td>34305.0</td>\n",
       "      <td>nan</td>\n",
       "      <td>nan</td>\n",
       "      <td>nan</td>\n",
       "      <td>5.4.99.-</td>\n",
       "      <td>nan</td>\n",
       "      <td>nan</td>\n",
       "      <td>nan</td>\n",
       "      <td>34305</td>\n",
       "      <td>Lotus japonicus</td>\n",
       "    </tr>\n",
       "    <tr>\n",
       "      <th>4</th>\n",
       "      <td>P13513;</td>\n",
       "      <td>P13513; Q7LP67.1 (obsolete)\\torganism: Fusariu...</td>\n",
       "      <td>uniprot_000004</td>\n",
       "      <td>P13513; Q7LP67.1 (obsolete)</td>\n",
       "      <td>Fusarium sporotrichioides</td>\n",
       "      <td>PIRARC;EMBL;UniProtKB/TrEMBL;PDB;TREMBLNEW;PRF...</td>\n",
       "      <td>P13513; Q7LP67.1 (obsolete)</td>\n",
       "      <td>TRI5_FUSSP</td>\n",
       "      <td>TRI5 TOX 5</td>\n",
       "      <td>Trichodiene synthase (EC 4.2.3.6) (Core tricho...</td>\n",
       "      <td>...</td>\n",
       "      <td>5514.0</td>\n",
       "      <td>nan</td>\n",
       "      <td>nan</td>\n",
       "      <td>CATALYTIC ACTIVITY: Reaction=(2E,6E)-farnesyl ...</td>\n",
       "      <td>4.2.3.6</td>\n",
       "      <td>FUNCTION: Trichodiene synthase; part of the co...</td>\n",
       "      <td>RHEA:12052</td>\n",
       "      <td>nan</td>\n",
       "      <td>5514</td>\n",
       "      <td>Fusarium sporotrichioides</td>\n",
       "    </tr>\n",
       "    <tr>\n",
       "      <th>...</th>\n",
       "      <td>...</td>\n",
       "      <td>...</td>\n",
       "      <td>...</td>\n",
       "      <td>...</td>\n",
       "      <td>...</td>\n",
       "      <td>...</td>\n",
       "      <td>...</td>\n",
       "      <td>...</td>\n",
       "      <td>...</td>\n",
       "      <td>...</td>\n",
       "      <td>...</td>\n",
       "      <td>...</td>\n",
       "      <td>...</td>\n",
       "      <td>...</td>\n",
       "      <td>...</td>\n",
       "      <td>...</td>\n",
       "      <td>...</td>\n",
       "      <td>...</td>\n",
       "      <td>...</td>\n",
       "      <td>...</td>\n",
       "      <td>...</td>\n",
       "    </tr>\n",
       "    <tr>\n",
       "      <th>266129</th>\n",
       "      <td>NoUniProtID</td>\n",
       "      <td>NoUniProtID\\torganism: Agrobacterium leguminum...</td>\n",
       "      <td>uniprot_266129</td>\n",
       "      <td>NoUniProtID</td>\n",
       "      <td>Agrobacterium leguminum</td>\n",
       "      <td>RefSeq;EMBLWGS</td>\n",
       "      <td>NoUniProtID</td>\n",
       "      <td></td>\n",
       "      <td></td>\n",
       "      <td></td>\n",
       "      <td>...</td>\n",
       "      <td></td>\n",
       "      <td></td>\n",
       "      <td></td>\n",
       "      <td></td>\n",
       "      <td></td>\n",
       "      <td></td>\n",
       "      <td></td>\n",
       "      <td></td>\n",
       "      <td>2792015</td>\n",
       "      <td>Agrobacterium leguminum</td>\n",
       "    </tr>\n",
       "    <tr>\n",
       "      <th>266130</th>\n",
       "      <td>NoUniProtID</td>\n",
       "      <td>NoUniProtID\\torganism: Streptomyces sp. CMSTAA...</td>\n",
       "      <td>uniprot_266130</td>\n",
       "      <td>NoUniProtID</td>\n",
       "      <td>Streptomyces sp. CMSTAAHL-2</td>\n",
       "      <td>RefSeq</td>\n",
       "      <td>NoUniProtID</td>\n",
       "      <td></td>\n",
       "      <td></td>\n",
       "      <td></td>\n",
       "      <td>...</td>\n",
       "      <td></td>\n",
       "      <td></td>\n",
       "      <td></td>\n",
       "      <td></td>\n",
       "      <td></td>\n",
       "      <td></td>\n",
       "      <td></td>\n",
       "      <td></td>\n",
       "      <td>2904522</td>\n",
       "      <td>Streptomyces sp. CMSTAAHL-2</td>\n",
       "    </tr>\n",
       "    <tr>\n",
       "      <th>266131</th>\n",
       "      <td>NoUniProtID</td>\n",
       "      <td>NoUniProtID\\torganism: Agrobacterium; Agrobact...</td>\n",
       "      <td>uniprot_266131</td>\n",
       "      <td>NoUniProtID</td>\n",
       "      <td>Agrobacterium;Agrobacterium salinitolerans</td>\n",
       "      <td>RefSeq;EMBLWGS</td>\n",
       "      <td>NoUniProtID</td>\n",
       "      <td></td>\n",
       "      <td></td>\n",
       "      <td></td>\n",
       "      <td>...</td>\n",
       "      <td></td>\n",
       "      <td></td>\n",
       "      <td></td>\n",
       "      <td></td>\n",
       "      <td></td>\n",
       "      <td></td>\n",
       "      <td></td>\n",
       "      <td></td>\n",
       "      <td>357</td>\n",
       "      <td>Agrobacterium</td>\n",
       "    </tr>\n",
       "    <tr>\n",
       "      <th>266132</th>\n",
       "      <td>NoUniProtID</td>\n",
       "      <td>NoUniProtID\\torganism: Agrobacterium leguminum...</td>\n",
       "      <td>uniprot_266132</td>\n",
       "      <td>NoUniProtID</td>\n",
       "      <td>Agrobacterium leguminum</td>\n",
       "      <td>RefSeq;EMBLWGS</td>\n",
       "      <td>NoUniProtID</td>\n",
       "      <td></td>\n",
       "      <td></td>\n",
       "      <td></td>\n",
       "      <td>...</td>\n",
       "      <td></td>\n",
       "      <td></td>\n",
       "      <td></td>\n",
       "      <td></td>\n",
       "      <td></td>\n",
       "      <td></td>\n",
       "      <td></td>\n",
       "      <td></td>\n",
       "      <td>2792015</td>\n",
       "      <td>Agrobacterium leguminum</td>\n",
       "    </tr>\n",
       "    <tr>\n",
       "      <th>266133</th>\n",
       "      <td>NoUniProtID</td>\n",
       "      <td>NoUniProtID\\torganism: Agrobacterium salinitol...</td>\n",
       "      <td>uniprot_266133</td>\n",
       "      <td>NoUniProtID</td>\n",
       "      <td>Agrobacterium salinitolerans</td>\n",
       "      <td>RefSeq;EMBLWGS</td>\n",
       "      <td>NoUniProtID</td>\n",
       "      <td></td>\n",
       "      <td></td>\n",
       "      <td></td>\n",
       "      <td>...</td>\n",
       "      <td></td>\n",
       "      <td></td>\n",
       "      <td></td>\n",
       "      <td></td>\n",
       "      <td></td>\n",
       "      <td></td>\n",
       "      <td></td>\n",
       "      <td></td>\n",
       "      <td>1183413</td>\n",
       "      <td>Agrobacterium salinitolerans</td>\n",
       "    </tr>\n",
       "  </tbody>\n",
       "</table>\n",
       "<p>266134 rows × 22 columns</p>\n",
       "</div>"
      ],
      "text/plain": [
       "          record_id                                 record_description  \\\n",
       "0           O59947;  O59947; Q71RX9; A0A084R4B7; O59947.1 (obsolete...   \n",
       "1            Q84LE3  Q84LE3\\torganism: Lotus japonicus; Lotus japon...   \n",
       "2            Q84PE2  Q84PE2\\torganism: Lotus japonicus; Lotus japon...   \n",
       "3            Q84PE1  Q84PE1\\torganism: Lotus japonicus; Lotus japon...   \n",
       "4           P13513;  P13513; Q7LP67.1 (obsolete)\\torganism: Fusariu...   \n",
       "...             ...                                                ...   \n",
       "266129  NoUniProtID  NoUniProtID\\torganism: Agrobacterium leguminum...   \n",
       "266130  NoUniProtID  NoUniProtID\\torganism: Streptomyces sp. CMSTAA...   \n",
       "266131  NoUniProtID  NoUniProtID\\torganism: Agrobacterium; Agrobact...   \n",
       "266132  NoUniProtID  NoUniProtID\\torganism: Agrobacterium leguminum...   \n",
       "266133  NoUniProtID  NoUniProtID\\torganism: Agrobacterium salinitol...   \n",
       "\n",
       "                new_id                                        uniprot_ids  \\\n",
       "0       uniprot_000000  O59947; Q71RX9; A0A084R4B7; O59947.1 (obsolete...   \n",
       "1       uniprot_000001                                             Q84LE3   \n",
       "2       uniprot_000002                                             Q84PE2   \n",
       "3       uniprot_000003                                             Q84PE1   \n",
       "4       uniprot_000004                        P13513; Q7LP67.1 (obsolete)   \n",
       "...                ...                                                ...   \n",
       "266129  uniprot_266129                                        NoUniProtID   \n",
       "266130  uniprot_266130                                        NoUniProtID   \n",
       "266131  uniprot_266131                                        NoUniProtID   \n",
       "266132  uniprot_266132                                        NoUniProtID   \n",
       "266133  uniprot_266133                                        NoUniProtID   \n",
       "\n",
       "                                         organisms_source  \\\n",
       "0       Stachybotrys chartarum IBT 40288;Stachybotrys ...   \n",
       "1                      Lotus japonicus;Lotus corniculatus   \n",
       "2                                         Lotus japonicus   \n",
       "3                                         Lotus japonicus   \n",
       "4                               Fusarium sporotrichioides   \n",
       "...                                                   ...   \n",
       "266129                            Agrobacterium leguminum   \n",
       "266130                        Streptomyces sp. CMSTAAHL-2   \n",
       "266131         Agrobacterium;Agrobacterium salinitolerans   \n",
       "266132                            Agrobacterium leguminum   \n",
       "266133                       Agrobacterium salinitolerans   \n",
       "\n",
       "                                               source_dbs  \\\n",
       "0       EMBL;EnsemblFungi;UniProtKB/TrEMBL;EMBL_CON;TR...   \n",
       "1           EMBL;UniProtKB/TrEMBL;EPO;USPTO;TREMBLNEW;PRF   \n",
       "2               EMBL;UniProtKB/TrEMBL;USPTO;TREMBLNEW;PRF   \n",
       "3           EMBL;UniProtKB/TrEMBL;EPO;USPTO;TREMBLNEW;PRF   \n",
       "4       PIRARC;EMBL;UniProtKB/TrEMBL;PDB;TREMBLNEW;PRF...   \n",
       "...                                                   ...   \n",
       "266129                                     RefSeq;EMBLWGS   \n",
       "266130                                             RefSeq   \n",
       "266131                                     RefSeq;EMBLWGS   \n",
       "266132                                     RefSeq;EMBLWGS   \n",
       "266133                                     RefSeq;EMBLWGS   \n",
       "\n",
       "                                                    index  \\\n",
       "0       O59947; Q71RX9; A0A084R4B7; O59947.1 (obsolete...   \n",
       "1                                                  Q84LE3   \n",
       "2                                                  Q84PE2   \n",
       "3                                                  Q84PE1   \n",
       "4                             P13513; Q7LP67.1 (obsolete)   \n",
       "...                                                   ...   \n",
       "266129                                        NoUniProtID   \n",
       "266130                                        NoUniProtID   \n",
       "266131                                        NoUniProtID   \n",
       "266132                                        NoUniProtID   \n",
       "266133                                        NoUniProtID   \n",
       "\n",
       "                                     entry_names                   gene_names  \\\n",
       "0       TRI5_STACH;Q71RX9_STACH;A0A084R4B7_STACH  TRI5;TRI5;TRI5 S40288_05530   \n",
       "1                                   Q84LE3_LOTJA                        LjSqS   \n",
       "2                                   Q84PE2_LOTJA                         AMY1   \n",
       "3                                   Q84PE1_LOTJA                         AMY2   \n",
       "4                                     TRI5_FUSSP                   TRI5 TOX 5   \n",
       "...                                          ...                          ...   \n",
       "266129                                                                          \n",
       "266130                                                                          \n",
       "266131                                                                          \n",
       "266132                                                                          \n",
       "266133                                                                          \n",
       "\n",
       "                                            protein_names  ...  \\\n",
       "0       Trichodiene synthase (EC 4.2.3.6) (Sesquiterpe...  ...   \n",
       "1                         Squalene synthase (EC 2.5.1.21)  ...   \n",
       "2       Terpene cyclase/mutase family member (EC 5.4.9...  ...   \n",
       "3       Terpene cyclase/mutase family member (EC 5.4.9...  ...   \n",
       "4       Trichodiene synthase (EC 4.2.3.6) (Core tricho...  ...   \n",
       "...                                                   ...  ...   \n",
       "266129                                                     ...   \n",
       "266130                                                     ...   \n",
       "266131                                                     ...   \n",
       "266132                                                     ...   \n",
       "266133                                                     ...   \n",
       "\n",
       "                  uniprot_tax_ids    fragments active_sites  \\\n",
       "0       74722.0;74722.0;1283842.0  nan;nan;nan  nan;nan;nan   \n",
       "1                         34305.0          nan          nan   \n",
       "2                         34305.0     fragment          nan   \n",
       "3                         34305.0          nan          nan   \n",
       "4                          5514.0          nan          nan   \n",
       "...                           ...          ...          ...   \n",
       "266129                                                        \n",
       "266130                                                        \n",
       "266131                                                        \n",
       "266132                                                        \n",
       "266133                                                        \n",
       "\n",
       "                                     catalytic_activities  \\\n",
       "0       CATALYTIC ACTIVITY: Reaction=(2E,6E)-farnesyl ...   \n",
       "1       CATALYTIC ACTIVITY: Reaction=2 (2E,6E)-farnesy...   \n",
       "2                                                     nan   \n",
       "3                                                     nan   \n",
       "4       CATALYTIC ACTIVITY: Reaction=(2E,6E)-farnesyl ...   \n",
       "...                                                   ...   \n",
       "266129                                                      \n",
       "266130                                                      \n",
       "266131                                                      \n",
       "266132                                                      \n",
       "266133                                                      \n",
       "\n",
       "                     ec_numbers  \\\n",
       "0       4.2.3.6;4.2.3.6;4.2.3.6   \n",
       "1                      2.5.1.21   \n",
       "2                      5.4.99.-   \n",
       "3                      5.4.99.-   \n",
       "4                       4.2.3.6   \n",
       "...                         ...   \n",
       "266129                            \n",
       "266130                            \n",
       "266131                            \n",
       "266132                            \n",
       "266133                            \n",
       "\n",
       "                                                functions  \\\n",
       "0       FUNCTION: TS is a member of the terpene cyclas...   \n",
       "1       FUNCTION: Catalyzes the condensation of 2 farn...   \n",
       "2                                                     nan   \n",
       "3                                                     nan   \n",
       "4       FUNCTION: Trichodiene synthase; part of the co...   \n",
       "...                                                   ...   \n",
       "266129                                                      \n",
       "266130                                                      \n",
       "266131                                                      \n",
       "266132                                                      \n",
       "266133                                                      \n",
       "\n",
       "                                   rheas        sites   tax_id  \\\n",
       "0       RHEA:12052;RHEA:12052;RHEA:12052  nan;nan;nan  1283842   \n",
       "1                  RHEA:32299 RHEA:32295          nan    34305   \n",
       "2                                    nan          nan    34305   \n",
       "3                                    nan          nan    34305   \n",
       "4                             RHEA:12052          nan     5514   \n",
       "...                                  ...          ...      ...   \n",
       "266129                                                 2792015   \n",
       "266130                                                 2904522   \n",
       "266131                                                     357   \n",
       "266132                                                 2792015   \n",
       "266133                                                 1183413   \n",
       "\n",
       "                                organism  \n",
       "0       Stachybotrys chartarum IBT 40288  \n",
       "1                        Lotus japonicus  \n",
       "2                        Lotus japonicus  \n",
       "3                        Lotus japonicus  \n",
       "4              Fusarium sporotrichioides  \n",
       "...                                  ...  \n",
       "266129           Agrobacterium leguminum  \n",
       "266130       Streptomyces sp. CMSTAAHL-2  \n",
       "266131                     Agrobacterium  \n",
       "266132           Agrobacterium leguminum  \n",
       "266133      Agrobacterium salinitolerans  \n",
       "\n",
       "[266134 rows x 22 columns]"
      ]
     },
     "execution_count": 287,
     "metadata": {},
     "output_type": "execute_result"
    }
   ],
   "source": [
    "anno_df2"
   ]
  },
  {
   "cell_type": "code",
   "execution_count": 290,
   "id": "8ebb90be-2436-49bf-ac14-d2f0b54119a0",
   "metadata": {},
   "outputs": [],
   "source": [
    "def add_lineage(x):\n",
    "    try:\n",
    "        t = taxoniq.Taxon(x)\n",
    "        lineage = dict()\n",
    "        for line in t.ranked_lineage:\n",
    "            lineage[line.rank.name] = line.scientific_name\n",
    "        return lineage\n",
    "    except:\n",
    "        return 'error'"
   ]
  },
  {
   "cell_type": "code",
   "execution_count": 335,
   "id": "53f883b9-e97a-478d-aac2-51753fb86bd2",
   "metadata": {
    "tags": []
   },
   "outputs": [],
   "source": [
    "def add_lineage(x):\n",
    "    try:\n",
    "        if type(x) == int:\n",
    "            t = taxoniq.Taxon(x)\n",
    "            lineage = dict()\n",
    "            for line in t.ranked_lineage:\n",
    "                lineage[line.rank.name] = line.scientific_name\n",
    "            return lineage\n",
    "        elif type(x) == str:\n",
    "            if x in correct_taxid_map.keys():\n",
    "                t = taxoniq.Taxon(correct_taxid_map[x])\n",
    "                lineage = dict()\n",
    "                for line in t.ranked_lineage:\n",
    "                    lineage[line.rank.name] = line.scientific_name\n",
    "                return lineage\n",
    "            \n",
    "            tax_ids = x.split(';')\n",
    "            for tid in tax_ids:\n",
    "                try:\n",
    "                    tid = float(tid)\n",
    "                    t = taxoniq.Taxon(tid)\n",
    "                    lineage = dict()\n",
    "                    for line in t.ranked_lineage:\n",
    "                        lineage[line.rank.name] = line.scientific_name\n",
    "                    return lineage     \n",
    "                except:\n",
    "                    continue\n",
    "        else:\n",
    "            return 'error'\n",
    "    except:\n",
    "        return 'error'"
   ]
  },
  {
   "cell_type": "code",
   "execution_count": 334,
   "id": "fd61f89d-c42e-49f6-bc1b-bae77830466a",
   "metadata": {
    "tags": []
   },
   "outputs": [],
   "source": [
    "correct_taxid_map = {'2843217.0': 32224,\n",
    "                     '1847729.0': 2795386,\n",
    "                     '66898.0': 66895,\n",
    "                     '2771433.0': 2771432,\n",
    "                     '1497955.0': 3029274,\n",
    "                     '2740746.0': 3060017\n",
    "                    }"
   ]
  },
  {
   "cell_type": "code",
   "execution_count": 336,
   "id": "ba5067c1-0405-4692-82f1-a153a46a6efb",
   "metadata": {
    "tags": []
   },
   "outputs": [],
   "source": [
    "anno_df2['lineage'] = anno_df2['tax_id'].apply(lambda x: add_lineage(x))"
   ]
  },
  {
   "cell_type": "code",
   "execution_count": 293,
   "id": "84d46359-d9a4-4fca-816b-b1894c0c6a69",
   "metadata": {
    "tags": []
   },
   "outputs": [],
   "source": [
    "def add_line(lineage, line):\n",
    "    try:\n",
    "        return lineage[line]\n",
    "    except:\n",
    "        return 'unknown'"
   ]
  },
  {
   "cell_type": "code",
   "execution_count": 339,
   "id": "0a1529fd-fccf-490d-83d9-4bbaa85a1d65",
   "metadata": {
    "tags": []
   },
   "outputs": [],
   "source": [
    "anno_df2['superkingdom'] = anno_df2['lineage'].apply(lambda x: add_line(x, 'superkingdom'))"
   ]
  },
  {
   "cell_type": "code",
   "execution_count": 340,
   "id": "d9de3045-d5ca-437f-9269-aa9000f6d15f",
   "metadata": {
    "tags": []
   },
   "outputs": [],
   "source": [
    "anno_df2['kingdom'] = anno_df2['lineage'].apply(lambda x: add_line(x, 'kingdom'))"
   ]
  },
  {
   "cell_type": "code",
   "execution_count": 341,
   "id": "638f51e4-cca2-4c68-b105-7cc9cefacdcf",
   "metadata": {
    "tags": []
   },
   "outputs": [],
   "source": [
    "anno_df2['phylum'] = anno_df2['lineage'].apply(lambda x: add_line(x, 'phylum'))"
   ]
  },
  {
   "cell_type": "code",
   "execution_count": 342,
   "id": "b923d1ab-eba1-465c-b6af-12868e514b2c",
   "metadata": {
    "tags": []
   },
   "outputs": [
    {
     "data": {
      "text/plain": [
       "superkingdom\n",
       "Bacteria     179242\n",
       "Eukaryota     73817\n",
       "unknown        6555\n",
       "Archaea        6510\n",
       "Viruses          10\n",
       "Name: count, dtype: int64"
      ]
     },
     "execution_count": 342,
     "metadata": {},
     "output_type": "execute_result"
    }
   ],
   "source": [
    "anno_df2['superkingdom'].value_counts()"
   ]
  },
  {
   "cell_type": "code",
   "execution_count": 343,
   "id": "aa60989f-fb76-4c70-ae71-d370a32e95c3",
   "metadata": {
    "tags": []
   },
   "outputs": [
    {
     "data": {
      "text/plain": [
       "kingdom\n",
       "unknown           194897\n",
       "Viridiplantae      37737\n",
       "Fungi              20397\n",
       "Metazoa            13095\n",
       "Bamfordvirae           3\n",
       "Heunggongvirae         3\n",
       "Orthornavirae          2\n",
       "Name: count, dtype: int64"
      ]
     },
     "execution_count": 343,
     "metadata": {},
     "output_type": "execute_result"
    }
   ],
   "source": [
    "anno_df2['kingdom'].value_counts()"
   ]
  },
  {
   "cell_type": "code",
   "execution_count": 350,
   "id": "f879cbfc-d9be-4b43-8a85-57497b159e28",
   "metadata": {
    "tags": []
   },
   "outputs": [
    {
     "data": {
      "text/plain": [
       "organism\n",
       "marine metagenome                              1197\n",
       "freshwater metagenome                           320\n",
       "compost metagenome                              241\n",
       "hydrothermal vent metagenome                    110\n",
       "subsurface metagenome                            79\n",
       "unidentified                                     71\n",
       "marine sediment metagenome                       66\n",
       "mine drainage metagenome                         49\n",
       "bioreactor metagenome                            33\n",
       "ciliate metagenome                               30\n",
       "termite gut metagenome                           27\n",
       "Streptomyces sp. HUAS 13-4                       11\n",
       "hydrocarbon metagenome                            9\n",
       "Frankia sp. BMG5.36                               8\n",
       "Acidobacteriia bacterium                          8\n",
       "gut metagenome                                    7\n",
       "Frankia sp. Ea1.12                                6\n",
       "metagenome                                        6\n",
       "invertebrate metagenome                           5\n",
       "Bdellovibrionaceae bacterium                      5\n",
       "groundwater metagenome                            5\n",
       "viral metagenome                                  5\n",
       "Candida auris                                     4\n",
       "plant metagenome                                  4\n",
       "Thaumarchaeota archaeon                           3\n",
       "Chrysosporum ovalisporum                          3\n",
       "Frankia sp. Ea1.12;Frankia sp. BMG5.11            3\n",
       "Transformation vector pV2-U                       3\n",
       "Gordonia sp.                                      3\n",
       "Sinobacteraceae bacterium                         2\n",
       "hot springs metagenome                            2\n",
       "Transformation vector pV4b                        2\n",
       "Corynebacteriales bacterium                       2\n",
       "Tahibacter sp. W38                                2\n",
       "Expression vector pAPG2                           2\n",
       "biofilm metagenome                                2\n",
       "Vector pRS425_YPRCtau3-BTS1-CrtI-CrtYB            2\n",
       "seawater metagenome                               2\n",
       "Nocardioides sp. zg-578                           2\n",
       "Muricauda antarctica                              2\n",
       "Pseudomonas aestus                                2\n",
       "Legionella endosymbiont of Polyplax serrata       1\n",
       "Lentisphaerae bacterium                           1\n",
       "Muribaculaceae bacterium Isolate-013              1\n",
       "Actinomyces sp. CtC 72                            1\n",
       "Nitriliruptoraceae bacterium ZYF776               1\n",
       "Crenarchaeota archaeon                            1\n",
       "Muricauda aquimarina;Muricauda                    1\n",
       "Roseovarius sp. HL-MP18                           1\n",
       "Muricauda aquimarina                              1\n",
       "Name: count, dtype: int64"
      ]
     },
     "execution_count": 350,
     "metadata": {},
     "output_type": "execute_result"
    }
   ],
   "source": [
    "anno_df2[(anno_df2['superkingdom']=='unknown') & (anno_df2['tax_id']!='error') & (anno_df2['tax_id']!=32630)]['organism'].value_counts().head(50)"
   ]
  },
  {
   "cell_type": "code",
   "execution_count": 363,
   "id": "2012e48d-d10d-4549-a87b-2e0f0d57f865",
   "metadata": {
    "tags": []
   },
   "outputs": [],
   "source": [
    "anno_df2.to_csv('uniprot_mapping_annotated_lin.csv')"
   ]
  },
  {
   "cell_type": "markdown",
   "id": "79cf11ef-f55e-41a7-86fe-53bb7b3e5951",
   "metadata": {
    "tags": []
   },
   "source": [
    "## Change metagenomic lineage"
   ]
  },
  {
   "cell_type": "code",
   "execution_count": 370,
   "id": "c06a9025-c3a8-4ac8-94b0-54bd472c3170",
   "metadata": {
    "tags": []
   },
   "outputs": [
    {
     "name": "stdout",
     "output_type": "stream",
     "text": [
      "marine metagenome\n",
      "freshwater metagenome\n",
      "compost metagenome\n",
      "hydrothermal vent metagenome\n",
      "subsurface metagenome\n",
      "marine sediment metagenome\n",
      "mine drainage metagenome\n",
      "bioreactor metagenome\n",
      "ciliate metagenome\n",
      "termite gut metagenome\n",
      "hydrocarbon metagenome\n",
      "gut metagenome\n",
      "metagenome\n",
      "invertebrate metagenome\n",
      "viral metagenome\n",
      "groundwater metagenome\n",
      "plant metagenome\n",
      "seawater metagenome\n",
      "biofilm metagenome\n",
      "hot springs metagenome\n",
      "sediment metagenome\n",
      "wastewater metagenome\n",
      "Candidatus Dormibacter sp. RRmetagenome_bin12\n"
     ]
    }
   ],
   "source": [
    "for org in anno_df2[anno_df2['organism'].apply(lambda x: 'metagen' in x)]['organism'].value_counts().index:\n",
    "    print(org)"
   ]
  },
  {
   "cell_type": "code",
   "execution_count": 372,
   "id": "e8947dff-576a-4776-a842-3ff4ea429953",
   "metadata": {},
   "outputs": [],
   "source": [
    "metagenomic_classes = ['engineered','environmental','host-associated','mixed','unknown']\n",
    "\n",
    "metagenomic_d = {}\n",
    "for mclass in metagenomic_classes:\n",
    "    with open(f'../metagenomes/{mclass}.txt','r') as in_handle:\n",
    "        l = [line.strip() for line in in_handle.readlines()]\n",
    "    metagenomic_d[mclass] = l\n",
    "    \n",
    "metagenomic_l = []\n",
    "for l in metagenomic_d.values():\n",
    "    metagenomic_l.extend(l)"
   ]
  },
  {
   "cell_type": "code",
   "execution_count": 373,
   "id": "88ca86c1-6bae-40fa-86e0-c81f0c477b32",
   "metadata": {
    "tags": []
   },
   "outputs": [],
   "source": [
    "def add_metagenomic_info(x):\n",
    "    if (x['superkingdom'] == 'unknown') and (x['kingdom'] == 'unknown'): #and ('metagenom' in x['organism']):\n",
    "        if x['organism'] in metagenomic_l:\n",
    "            for mclass, mlist in metagenomic_d.items():\n",
    "                if x['organism'] in mlist:\n",
    "                    return ('Metagenome', mclass)\n",
    "    return (x['superkingdom'], x['kingdom'])"
   ]
  },
  {
   "cell_type": "code",
   "execution_count": 374,
   "id": "4954b075-4f6c-4b12-8bcb-24eb280d1b99",
   "metadata": {
    "tags": []
   },
   "outputs": [],
   "source": [
    "anno_df2[['superkingdom','kingdom']] = anno_df2.apply(lambda x: add_metagenomic_info(x), axis=1, result_type='expand')"
   ]
  },
  {
   "cell_type": "markdown",
   "id": "a80077f6-524c-4923-a373-7e703db992e6",
   "metadata": {
    "tags": []
   },
   "source": [
    "## Plots"
   ]
  },
  {
   "cell_type": "code",
   "execution_count": 351,
   "id": "52cc65be-84c2-4d0d-b2a5-8e5e4cf28d7e",
   "metadata": {
    "tags": []
   },
   "outputs": [],
   "source": [
    "import seaborn as sns"
   ]
  },
  {
   "cell_type": "code",
   "execution_count": 377,
   "id": "91055704-f49d-49c6-afec-b15dc898c0c6",
   "metadata": {
    "tags": []
   },
   "outputs": [
    {
     "name": "stderr",
     "output_type": "stream",
     "text": [
      "C:\\Users\\terca\\anaconda3\\envs\\esm_env\\lib\\site-packages\\seaborn\\_oldcore.py:1498: FutureWarning: is_categorical_dtype is deprecated and will be removed in a future version. Use isinstance(dtype, CategoricalDtype) instead\n",
      "  if pd.api.types.is_categorical_dtype(vector):\n",
      "C:\\Users\\terca\\anaconda3\\envs\\esm_env\\lib\\site-packages\\seaborn\\_oldcore.py:1498: FutureWarning: is_categorical_dtype is deprecated and will be removed in a future version. Use isinstance(dtype, CategoricalDtype) instead\n",
      "  if pd.api.types.is_categorical_dtype(vector):\n",
      "C:\\Users\\terca\\anaconda3\\envs\\esm_env\\lib\\site-packages\\seaborn\\_oldcore.py:1498: FutureWarning: is_categorical_dtype is deprecated and will be removed in a future version. Use isinstance(dtype, CategoricalDtype) instead\n",
      "  if pd.api.types.is_categorical_dtype(vector):\n"
     ]
    },
    {
     "data": {
      "text/plain": [
       "<Axes: xlabel='count', ylabel='superkingdom'>"
      ]
     },
     "execution_count": 377,
     "metadata": {},
     "output_type": "execute_result"
    },
    {
     "data": {
      "image/png": "[encoded data removed]",
      "text/plain": [
       "<Figure size 640x480 with 1 Axes>"
      ]
     },
     "metadata": {},
     "output_type": "display_data"
    }
   ],
   "source": [
    "sns.countplot(y='superkingdom', data=anno_df2)"
   ]
  },
  {
   "cell_type": "code",
   "execution_count": 378,
   "id": "32dddaa4-53b9-4a27-b18a-6cb33cca7f99",
   "metadata": {
    "tags": []
   },
   "outputs": [
    {
     "name": "stderr",
     "output_type": "stream",
     "text": [
      "C:\\Users\\terca\\anaconda3\\envs\\esm_env\\lib\\site-packages\\seaborn\\_oldcore.py:1498: FutureWarning: is_categorical_dtype is deprecated and will be removed in a future version. Use isinstance(dtype, CategoricalDtype) instead\n",
      "  if pd.api.types.is_categorical_dtype(vector):\n",
      "C:\\Users\\terca\\anaconda3\\envs\\esm_env\\lib\\site-packages\\seaborn\\_oldcore.py:1498: FutureWarning: is_categorical_dtype is deprecated and will be removed in a future version. Use isinstance(dtype, CategoricalDtype) instead\n",
      "  if pd.api.types.is_categorical_dtype(vector):\n",
      "C:\\Users\\terca\\anaconda3\\envs\\esm_env\\lib\\site-packages\\seaborn\\_oldcore.py:1498: FutureWarning: is_categorical_dtype is deprecated and will be removed in a future version. Use isinstance(dtype, CategoricalDtype) instead\n",
      "  if pd.api.types.is_categorical_dtype(vector):\n"
     ]
    },
    {
     "data": {
      "text/plain": [
       "<Axes: xlabel='count', ylabel='kingdom'>"
      ]
     },
     "execution_count": 378,
     "metadata": {},
     "output_type": "execute_result"
    },
    {
     "data": {
      "image/png": "[encoded data removed]",
      "text/plain": [
       "<Figure size 640x480 with 1 Axes>"
      ]
     },
     "metadata": {},
     "output_type": "display_data"
    }
   ],
   "source": [
    "sns.countplot(y='kingdom', data=anno_df2)"
   ]
  },
  {
   "cell_type": "code",
   "execution_count": 379,
   "id": "a7f7c3e0-2904-412e-af13-86d374ff24b6",
   "metadata": {
    "tags": []
   },
   "outputs": [
    {
     "name": "stderr",
     "output_type": "stream",
     "text": [
      "C:\\Users\\terca\\anaconda3\\envs\\esm_env\\lib\\site-packages\\seaborn\\_oldcore.py:1498: FutureWarning: is_categorical_dtype is deprecated and will be removed in a future version. Use isinstance(dtype, CategoricalDtype) instead\n",
      "  if pd.api.types.is_categorical_dtype(vector):\n",
      "C:\\Users\\terca\\anaconda3\\envs\\esm_env\\lib\\site-packages\\seaborn\\_oldcore.py:1498: FutureWarning: is_categorical_dtype is deprecated and will be removed in a future version. Use isinstance(dtype, CategoricalDtype) instead\n",
      "  if pd.api.types.is_categorical_dtype(vector):\n",
      "C:\\Users\\terca\\anaconda3\\envs\\esm_env\\lib\\site-packages\\seaborn\\_oldcore.py:1498: FutureWarning: is_categorical_dtype is deprecated and will be removed in a future version. Use isinstance(dtype, CategoricalDtype) instead\n",
      "  if pd.api.types.is_categorical_dtype(vector):\n"
     ]
    },
    {
     "data": {
      "text/plain": [
       "<Axes: xlabel='count', ylabel='kingdom'>"
      ]
     },
     "execution_count": 379,
     "metadata": {},
     "output_type": "execute_result"
    },
    {
     "data": {
      "image/png": "[encoded data removed]",
      "text/plain": [
       "<Figure size 640x480 with 1 Axes>"
      ]
     },
     "metadata": {},
     "output_type": "display_data"
    }
   ],
   "source": [
    "sns.countplot(y='kingdom', data=anno_df2[anno_df2['superkingdom'] == 'Eukaryota'])"
   ]
  },
  {
   "cell_type": "code",
   "execution_count": 380,
   "id": "7db63805-471a-49c1-a0d6-def8fda866f3",
   "metadata": {
    "tags": []
   },
   "outputs": [
    {
     "name": "stderr",
     "output_type": "stream",
     "text": [
      "C:\\Users\\terca\\anaconda3\\envs\\esm_env\\lib\\site-packages\\seaborn\\_oldcore.py:1498: FutureWarning: is_categorical_dtype is deprecated and will be removed in a future version. Use isinstance(dtype, CategoricalDtype) instead\n",
      "  if pd.api.types.is_categorical_dtype(vector):\n",
      "C:\\Users\\terca\\anaconda3\\envs\\esm_env\\lib\\site-packages\\seaborn\\_oldcore.py:1498: FutureWarning: is_categorical_dtype is deprecated and will be removed in a future version. Use isinstance(dtype, CategoricalDtype) instead\n",
      "  if pd.api.types.is_categorical_dtype(vector):\n",
      "C:\\Users\\terca\\anaconda3\\envs\\esm_env\\lib\\site-packages\\seaborn\\_oldcore.py:1498: FutureWarning: is_categorical_dtype is deprecated and will be removed in a future version. Use isinstance(dtype, CategoricalDtype) instead\n",
      "  if pd.api.types.is_categorical_dtype(vector):\n"
     ]
    },
    {
     "data": {
      "text/plain": [
       "<Axes: xlabel='count', ylabel='phylum'>"
      ]
     },
     "execution_count": 380,
     "metadata": {},
     "output_type": "execute_result"
    },
    {
     "data": {
      "image/png": "[encoded data removed]",
      "text/plain": [
       "<Figure size 640x480 with 1 Axes>"
      ]
     },
     "metadata": {},
     "output_type": "display_data"
    }
   ],
   "source": [
    "sns.countplot(y='phylum', data=anno_df2[(anno_df2['superkingdom'] == 'Eukaryota') & (anno_df2['kingdom'] == 'Metazoa')])"
   ]
  },
  {
   "cell_type": "code",
   "execution_count": 381,
   "id": "560317bc-f286-4e2b-ad2b-ceaa248cc6ed",
   "metadata": {
    "tags": []
   },
   "outputs": [
    {
     "name": "stderr",
     "output_type": "stream",
     "text": [
      "C:\\Users\\terca\\anaconda3\\envs\\esm_env\\lib\\site-packages\\seaborn\\_oldcore.py:1498: FutureWarning: is_categorical_dtype is deprecated and will be removed in a future version. Use isinstance(dtype, CategoricalDtype) instead\n",
      "  if pd.api.types.is_categorical_dtype(vector):\n",
      "C:\\Users\\terca\\anaconda3\\envs\\esm_env\\lib\\site-packages\\seaborn\\_oldcore.py:1498: FutureWarning: is_categorical_dtype is deprecated and will be removed in a future version. Use isinstance(dtype, CategoricalDtype) instead\n",
      "  if pd.api.types.is_categorical_dtype(vector):\n",
      "C:\\Users\\terca\\anaconda3\\envs\\esm_env\\lib\\site-packages\\seaborn\\_oldcore.py:1498: FutureWarning: is_categorical_dtype is deprecated and will be removed in a future version. Use isinstance(dtype, CategoricalDtype) instead\n",
      "  if pd.api.types.is_categorical_dtype(vector):\n"
     ]
    },
    {
     "data": {
      "text/plain": [
       "<Axes: xlabel='count', ylabel='kingdom'>"
      ]
     },
     "execution_count": 381,
     "metadata": {},
     "output_type": "execute_result"
    },
    {
     "data": {
      "image/png": "[encoded data removed]",
      "text/plain": [
       "<Figure size 640x480 with 1 Axes>"
      ]
     },
     "metadata": {},
     "output_type": "display_data"
    }
   ],
   "source": [
    "sns.countplot(y='kingdom', data=anno_df2[(anno_df2['superkingdom'] == 'Metagenome')])"
   ]
  },
  {
   "cell_type": "code",
   "execution_count": 382,
   "id": "43b6f13f-03b8-400f-bf26-b74ea28fbb65",
   "metadata": {
    "tags": []
   },
   "outputs": [],
   "source": [
    "anno_df2.to_csv('uniprot_mapping_annotated_lin_meta.csv')"
   ]
  },
  {
   "cell_type": "code",
   "execution_count": 385,
   "id": "433ed64d-b3da-4953-9e58-732a97c91178",
   "metadata": {
    "tags": []
   },
   "outputs": [],
   "source": [
    "anno_df2[['record_id', 'record_description', 'new_id', 'organism', 'tax_id', 'lineage', 'superkingdom', 'kingdom', 'phylum']].to_csv('uniprot_mapping_sele.csv')"
   ]
  },
  {
   "cell_type": "markdown",
   "id": "02036ff5-37ab-4564-8d6f-7613fc9ab295",
   "metadata": {},
   "source": [
    "## Add domains and architectures"
   ]
  },
  {
   "cell_type": "code",
   "execution_count": 386,
   "id": "b66f68b9-2fc7-4cb8-a8c3-bde417b15ca8",
   "metadata": {
    "tags": []
   },
   "outputs": [],
   "source": [
    "import pandas as pd\n",
    "pd.set_option('display.max_columns', None)"
   ]
  },
  {
   "cell_type": "code",
   "execution_count": 387,
   "id": "9f33c4f8-9795-4573-9323-221bad82c33e",
   "metadata": {
    "tags": []
   },
   "outputs": [],
   "source": [
    "anno_df = pd.read_csv('uniprot_mapping_sele.csv', index_col=0)"
   ]
  },
  {
   "cell_type": "code",
   "execution_count": 388,
   "id": "9324a8e6-04b4-4ddc-8d9e-7e0afc47d42f",
   "metadata": {
    "tags": []
   },
   "outputs": [
    {
     "data": {
      "text/plain": [
       "(266134, 9)"
      ]
     },
     "execution_count": 388,
     "metadata": {},
     "output_type": "execute_result"
    }
   ],
   "source": [
    "anno_df.shape\n"
   ]
  },
  {
   "cell_type": "code",
   "execution_count": 389,
   "id": "c78ad5e2-365d-419b-8561-e7d795a0c971",
   "metadata": {
    "tags": []
   },
   "outputs": [
    {
     "name": "stderr",
     "output_type": "stream",
     "text": [
      "C:\\Users\\terca\\AppData\\Local\\Temp\\ipykernel_12976\\3210424072.py:1: DtypeWarning: Columns (2,3) have mixed types. Specify dtype option on import or set low_memory=False.\n",
      "  archs = pd.read_csv('../../uniprot_archs.csv', index_col=0)\n"
     ]
    }
   ],
   "source": [
    "archs = pd.read_csv('../../uniprot_archs.csv', index_col=0)"
   ]
  },
  {
   "cell_type": "code",
   "execution_count": 390,
   "id": "5e76bfaf-287b-40d4-a95d-763645badada",
   "metadata": {
    "tags": []
   },
   "outputs": [
    {
     "data": {
      "text/plain": [
       "(220431, 19)"
      ]
     },
     "execution_count": 390,
     "metadata": {},
     "output_type": "execute_result"
    }
   ],
   "source": [
    "archs.shape"
   ]
  },
  {
   "cell_type": "code",
   "execution_count": 391,
   "id": "a6f37451-3b45-4814-9f95-0cf12b55a1de",
   "metadata": {
    "tags": []
   },
   "outputs": [],
   "source": [
    "full_df = archs.merge(anno_df, how='left', left_on='id', right_on='new_id')"
   ]
  },
  {
   "cell_type": "code",
   "execution_count": 392,
   "id": "cf07ad8d-1a2e-4afc-99d7-70bb77a495c0",
   "metadata": {
    "tags": []
   },
   "outputs": [
    {
     "data": {
      "text/plain": [
       "(220431, 28)"
      ]
     },
     "execution_count": 392,
     "metadata": {},
     "output_type": "execute_result"
    }
   ],
   "source": [
    "full_df.shape"
   ]
  },
  {
   "cell_type": "code",
   "execution_count": 393,
   "id": "34545886-a544-483d-afd3-12a8fed01f10",
   "metadata": {
    "tags": []
   },
   "outputs": [
    {
     "data": {
      "text/plain": [
       "superkingdom\n",
       "Bacteria      70.171618\n",
       "Eukaryota     24.659871\n",
       "Archaea        2.552273\n",
       "unknown        1.430380\n",
       "Metagenome     1.181322\n",
       "Viruses        0.004537\n",
       "Name: count, dtype: float64"
      ]
     },
     "execution_count": 393,
     "metadata": {},
     "output_type": "execute_result"
    }
   ],
   "source": [
    "full_df['superkingdom'].value_counts()/full_df.shape[0]*100"
   ]
  },
  {
   "cell_type": "code",
   "execution_count": 394,
   "id": "c1c0b79d-f16a-4495-b001-02e0efaad0de",
   "metadata": {
    "tags": []
   },
   "outputs": [],
   "source": [
    "pfam_cols = ['PF06330.14','PF01397.24', 'PF03936.19', 'PF00494.22', 'PF13249.9', 'PF19086.3','PF13243.9']\n",
    "supfam_cols = ['0041184','0053354', '0053355', '0048261', '0048806', '0046340', '0047573']"
   ]
  },
  {
   "cell_type": "code",
   "execution_count": 395,
   "id": "8d10b23a-0fa4-486f-ad43-6c09535a42ad",
   "metadata": {
    "tags": []
   },
   "outputs": [
    {
     "data": {
      "text/plain": [
       "PF06330.14     2.128557\n",
       "PF01397.24     9.697819\n",
       "PF03936.19    17.438564\n",
       "PF00494.22    14.408137\n",
       "PF13249.9      5.701557\n",
       "PF19086.3     21.676171\n",
       "PF13243.9      5.875762\n",
       "dtype: float64"
      ]
     },
     "execution_count": 395,
     "metadata": {},
     "output_type": "execute_result"
    }
   ],
   "source": [
    "full_df[pfam_cols].sum()/full_df.shape[0]*100"
   ]
  },
  {
   "cell_type": "code",
   "execution_count": 396,
   "id": "9c3d00b9-6a32-4495-9e07-96139de4a760",
   "metadata": {
    "tags": []
   },
   "outputs": [
    {
     "data": {
      "text/plain": [
       "0041184     9.819399\n",
       "0053354     9.811687\n",
       "0053355    37.118191\n",
       "0048261    27.766058\n",
       "0048806    78.449038\n",
       "0046340    84.649618\n",
       "0047573    76.451134\n",
       "dtype: float64"
      ]
     },
     "execution_count": 396,
     "metadata": {},
     "output_type": "execute_result"
    }
   ],
   "source": [
    "full_df[supfam_cols].sum()/full_df.shape[0]*100"
   ]
  },
  {
   "cell_type": "markdown",
   "id": "516f29a8-d63b-4f98-86b9-afd661abda15",
   "metadata": {},
   "source": [
    "### Bacteria"
   ]
  },
  {
   "cell_type": "code",
   "execution_count": 399,
   "id": "a2e670c8-9b1a-43ce-86a9-b59c76598cbf",
   "metadata": {
    "tags": []
   },
   "outputs": [],
   "source": [
    "bacteria = full_df[full_df['superkingdom']=='Bacteria']"
   ]
  },
  {
   "cell_type": "code",
   "execution_count": 402,
   "id": "b2c0ae2f-537c-4495-9b44-ab6f76e40368",
   "metadata": {
    "tags": []
   },
   "outputs": [
    {
     "data": {
      "text/plain": [
       "phylum\n",
       "Actinomycetota                   35.246315\n",
       "Pseudomonadota                   28.333980\n",
       "Bacteroidota                      9.826093\n",
       "Bacillota                         8.992759\n",
       "Campylobacterota                  2.451513\n",
       "                                   ...    \n",
       "Candidatus Buchananbacteria       0.000646\n",
       "Candidatus Fermentibacteria       0.000646\n",
       "Candidatus Yanofskybacteria       0.000646\n",
       "Candidatus Giovannonibacteria     0.000646\n",
       "Candidatus Hydrothermae           0.000646\n",
       "Name: count, Length: 134, dtype: float64"
      ]
     },
     "execution_count": 402,
     "metadata": {},
     "output_type": "execute_result"
    }
   ],
   "source": [
    "bacteria['phylum'].value_counts()/bacteria.shape[0]*100"
   ]
  },
  {
   "cell_type": "code",
   "execution_count": 403,
   "id": "52142f69-a6ec-43f6-bbf8-6cbf3888a0de",
   "metadata": {
    "tags": []
   },
   "outputs": [
    {
     "data": {
      "text/plain": [
       "architecture_pfam\n",
       "['PF00494.22']                                  12.656452\n",
       "['PF19086.3']                                    7.783812\n",
       "['PF13249.9', 'PF13243.9']                       3.683734\n",
       "['PF00494.22_partial']                           2.894363\n",
       "['PF19086.3', 'PF19086.3']                       2.231704\n",
       "['PF00494.22_partial', 'PF00494.22_partial']     0.579907\n",
       "['PF13243.9_partial', 'PF13243.9_partial']       0.354926\n",
       "['PF00494.22', 'PF00494.22_partial']             0.234678\n",
       "['PF19086.3', 'PF19086.3_partial']               0.225627\n",
       "['PF00494.22', 'PF00494.22']                     0.154513\n",
       "Name: count, dtype: float64"
      ]
     },
     "execution_count": 403,
     "metadata": {},
     "output_type": "execute_result"
    }
   ],
   "source": [
    "bacteria['architecture_pfam'].value_counts().head(10)/bacteria.shape[0]*100"
   ]
  },
  {
   "cell_type": "code",
   "execution_count": 404,
   "id": "0bc6ef49-68b0-4b9d-bbe9-2440e89c3636",
   "metadata": {
    "tags": []
   },
   "outputs": [
    {
     "data": {
      "text/plain": [
       "architecture_supfam\n",
       "['0046340']                               70.536592\n",
       "['0048806']                                4.379364\n",
       "['0047573']                                3.433540\n",
       "['0047573', '0047573']                     1.471425\n",
       "['0047573', '0048806']                     0.539824\n",
       "['0046340_partial']                        0.532066\n",
       "['0046340_partial', '0046340']             0.423455\n",
       "['0046340_partial', '0046340_partial']     0.357512\n",
       "['0046340', '0046340']                     0.329713\n",
       "['0047573_partial']                        0.320662\n",
       "Name: count, dtype: float64"
      ]
     },
     "execution_count": 404,
     "metadata": {},
     "output_type": "execute_result"
    }
   ],
   "source": [
    "bacteria['architecture_supfam'].value_counts().head(10)/bacteria.shape[0]*100"
   ]
  },
  {
   "cell_type": "code",
   "execution_count": 405,
   "id": "8ebc69b7-64c4-48a5-9e2f-cd84c5882ea9",
   "metadata": {
    "tags": []
   },
   "outputs": [
    {
     "data": {
      "text/plain": [
       "PF06330.14     1.764934\n",
       "PF01397.24     0.021981\n",
       "PF03936.19     7.068141\n",
       "PF00494.22    16.735195\n",
       "PF13249.9      5.168089\n",
       "PF19086.3     10.902508\n",
       "PF13243.9      5.265063\n",
       "dtype: float64"
      ]
     },
     "execution_count": 405,
     "metadata": {},
     "output_type": "execute_result"
    }
   ],
   "source": [
    "bacteria[pfam_cols].sum()/bacteria.shape[0]*100"
   ]
  },
  {
   "cell_type": "code",
   "execution_count": 406,
   "id": "037d4ed1-d53e-4b07-826c-a2408ff802ae",
   "metadata": {
    "tags": []
   },
   "outputs": [
    {
     "data": {
      "text/plain": [
       "0041184     0.033618\n",
       "0053354     0.025213\n",
       "0053355    28.132273\n",
       "0048261    15.939359\n",
       "0048806    76.172744\n",
       "0046340    83.835661\n",
       "0047573    74.736230\n",
       "dtype: float64"
      ]
     },
     "execution_count": 406,
     "metadata": {},
     "output_type": "execute_result"
    }
   ],
   "source": [
    "bacteria[supfam_cols].sum()/bacteria.shape[0]*100"
   ]
  },
  {
   "cell_type": "markdown",
   "id": "40002e58-97ca-4b16-995c-8d2ace6da554",
   "metadata": {},
   "source": [
    "### Eukaryota"
   ]
  },
  {
   "cell_type": "code",
   "execution_count": 407,
   "id": "4c2f86f3-8939-4310-a99f-4f8609209f90",
   "metadata": {
    "tags": []
   },
   "outputs": [],
   "source": [
    "eukaryota = full_df[full_df['superkingdom']=='Eukaryota']"
   ]
  },
  {
   "cell_type": "code",
   "execution_count": 409,
   "id": "f582d15c-80ab-4d83-8e87-dea3bc9efa9c",
   "metadata": {
    "tags": []
   },
   "outputs": [
    {
     "data": {
      "text/plain": [
       "kingdom\n",
       "Viridiplantae    51.460687\n",
       "Fungi            28.176165\n",
       "Metazoa          16.777659\n",
       "unknown           3.585489\n",
       "Name: count, dtype: float64"
      ]
     },
     "execution_count": 409,
     "metadata": {},
     "output_type": "execute_result"
    }
   ],
   "source": [
    "eukaryota['kingdom'].value_counts()/eukaryota.shape[0]*100"
   ]
  },
  {
   "cell_type": "markdown",
   "id": "aebf91b1-3c24-49ce-ac9a-2d5af353a8cf",
   "metadata": {},
   "source": [
    "#### Plantae"
   ]
  },
  {
   "cell_type": "code",
   "execution_count": 410,
   "id": "b7fbb935-36d5-460a-9850-bc50f82a22a0",
   "metadata": {
    "tags": []
   },
   "outputs": [],
   "source": [
    "plantae = eukaryota[eukaryota['kingdom']=='Viridiplantae']"
   ]
  },
  {
   "cell_type": "code",
   "execution_count": 411,
   "id": "3a333345-7ccc-4df0-a586-05f4206f1b99",
   "metadata": {
    "tags": []
   },
   "outputs": [
    {
     "data": {
      "text/plain": [
       "phylum\n",
       "Streptophyta         98.881064\n",
       "Chlorophyta           1.101062\n",
       "Prasinodermophyta     0.017874\n",
       "Name: count, dtype: float64"
      ]
     },
     "execution_count": 411,
     "metadata": {},
     "output_type": "execute_result"
    }
   ],
   "source": [
    "plantae['phylum'].value_counts()/plantae.shape[0]*100"
   ]
  },
  {
   "cell_type": "code",
   "execution_count": 412,
   "id": "a3849d5b-ffc7-41c8-b423-208e95f56037",
   "metadata": {
    "tags": []
   },
   "outputs": [
    {
     "data": {
      "text/plain": [
       "architecture_pfam\n",
       "['PF01397.24', 'PF03936.19']                          51.921496\n",
       "['PF01397.24_partial', 'PF03936.19']                   4.089658\n",
       "['PF13249.9', 'PF13243.9']                             3.714296\n",
       "['PF00494.22']                                         3.471204\n",
       "['PF01397.24', 'PF03936.19_partial']                   3.317485\n",
       "['PF03936.19']                                         2.938548\n",
       "['PF01397.24', 'PF03936.19', 'PF03936.19_partial']     2.055554\n",
       "['PF13243.9_partial', 'PF01397.24', 'PF03936.19']      1.740965\n",
       "['PF01397.24', 'PF03936.19', 'PF19086.3_partial']      1.143960\n",
       "['PF13249.9_partial', 'PF01397.24', 'PF03936.19']      1.126086\n",
       "Name: count, dtype: float64"
      ]
     },
     "execution_count": 412,
     "metadata": {},
     "output_type": "execute_result"
    }
   ],
   "source": [
    "plantae['architecture_pfam'].value_counts().head(10)/plantae.shape[0]*100"
   ]
  },
  {
   "cell_type": "code",
   "execution_count": 413,
   "id": "5c626bf7-0df1-48fd-933c-26ce5e6844d9",
   "metadata": {
    "tags": []
   },
   "outputs": [
    {
     "data": {
      "text/plain": [
       "architecture_supfam\n",
       "['0048261']                       32.592142\n",
       "['0053355']                       21.056018\n",
       "['0046340']                       13.309263\n",
       "['0041184', '0053355']             4.822507\n",
       "['0041184', '0048261']             4.729561\n",
       "['0053354', '0048261']             1.151110\n",
       "['0053354', '0053355']             1.043864\n",
       "['0053354', '0048806_partial']     0.961642\n",
       "['0041184', '0053355_partial']     0.940192\n",
       "['0053354', '0046340_partial']     0.754299\n",
       "Name: count, dtype: float64"
      ]
     },
     "execution_count": 413,
     "metadata": {},
     "output_type": "execute_result"
    }
   ],
   "source": [
    "plantae['architecture_supfam'].value_counts().head(10)/plantae.shape[0]*100"
   ]
  },
  {
   "cell_type": "code",
   "execution_count": 414,
   "id": "eb41b960-445a-4216-97fa-aa92e47f79ac",
   "metadata": {
    "tags": []
   },
   "outputs": [
    {
     "data": {
      "text/plain": [
       "PF06330.14     0.218067\n",
       "PF01397.24    73.174132\n",
       "PF03936.19    76.527366\n",
       "PF00494.22     4.808208\n",
       "PF13249.9      6.817288\n",
       "PF19086.3     72.791620\n",
       "PF13243.9      7.632360\n",
       "dtype: float64"
      ]
     },
     "execution_count": 414,
     "metadata": {},
     "output_type": "execute_result"
    }
   ],
   "source": [
    "plantae[pfam_cols].sum()/plantae.shape[0]*100"
   ]
  },
  {
   "cell_type": "code",
   "execution_count": 415,
   "id": "e2f11964-a22b-4809-9e11-bce6e06cf709",
   "metadata": {
    "tags": []
   },
   "outputs": [
    {
     "data": {
      "text/plain": [
       "0041184    74.017803\n",
       "0053354    74.010653\n",
       "0053355    76.616738\n",
       "0048261    76.495192\n",
       "0048806    87.134022\n",
       "0046340    90.476531\n",
       "0047573    87.720302\n",
       "dtype: float64"
      ]
     },
     "execution_count": 415,
     "metadata": {},
     "output_type": "execute_result"
    }
   ],
   "source": [
    "plantae[supfam_cols].sum()/plantae.shape[0]*100"
   ]
  },
  {
   "cell_type": "markdown",
   "id": "8224efe9-65db-4be7-b34f-2107add688a8",
   "metadata": {},
   "source": [
    "#### Fungi"
   ]
  },
  {
   "cell_type": "code",
   "execution_count": 416,
   "id": "290b9d03-0f31-4cda-ae95-a3a9880f354f",
   "metadata": {
    "tags": []
   },
   "outputs": [],
   "source": [
    "fungi = eukaryota[eukaryota['kingdom']=='Fungi']"
   ]
  },
  {
   "cell_type": "code",
   "execution_count": 417,
   "id": "c12fd2ce-4f99-4e42-a6dd-423902f189bf",
   "metadata": {
    "tags": []
   },
   "outputs": [
    {
     "data": {
      "text/plain": [
       "phylum\n",
       "Ascomycota            70.018282\n",
       "Basidiomycota         25.731261\n",
       "Mucoromycota           3.277618\n",
       "Zoopagomycota          0.385218\n",
       "Chytridiomycota        0.359102\n",
       "Blastocladiomycota     0.150170\n",
       "Microsporidia          0.045704\n",
       "unknown                0.026116\n",
       "Cryptomycota           0.006529\n",
       "Name: count, dtype: float64"
      ]
     },
     "execution_count": 417,
     "metadata": {},
     "output_type": "execute_result"
    }
   ],
   "source": [
    "fungi['phylum'].value_counts()/fungi.shape[0]*100"
   ]
  },
  {
   "cell_type": "code",
   "execution_count": 418,
   "id": "23c0b006-2475-4b0b-a803-5f15b4847d94",
   "metadata": {
    "tags": []
   },
   "outputs": [
    {
     "data": {
      "text/plain": [
       "architecture_pfam\n",
       "['PF19086.3']                                 33.957952\n",
       "['PF00494.22']                                 8.644555\n",
       "['PF06330.14']                                 7.410551\n",
       "['PF19086.3', 'PF19086.3_partial']             4.302690\n",
       "['PF13249.9', 'PF13243.9']                     3.649778\n",
       "['PF19086.3_partial']                          2.892400\n",
       "['PF19086.3_partial', 'PF19086.3']             1.508227\n",
       "['PF19086.3_partial', 'PF19086.3_partial']     1.194829\n",
       "['PF19086.3', 'PF19086.3']                     0.907548\n",
       "['PF03936.19_partial', 'PF19086.3']            0.528859\n",
       "Name: count, dtype: float64"
      ]
     },
     "execution_count": 418,
     "metadata": {},
     "output_type": "execute_result"
    }
   ],
   "source": [
    "fungi['architecture_pfam'].value_counts().head(10)/fungi.shape[0]*100"
   ]
  },
  {
   "cell_type": "code",
   "execution_count": 419,
   "id": "9de141bb-715e-4472-9ca8-e02619f2c28e",
   "metadata": {
    "tags": []
   },
   "outputs": [
    {
     "data": {
      "text/plain": [
       "architecture_supfam\n",
       "['0046340']                               33.971011\n",
       "['0047573']                               24.092452\n",
       "['0048806']                               15.545834\n",
       "['0046340', '0046340']                     1.710629\n",
       "['0047573', '0046340']                     1.710629\n",
       "['0053355']                                1.442935\n",
       "['0047573', '0048806']                     1.371115\n",
       "['0046340_partial', '0046340_partial']     1.305824\n",
       "['0046340_partial']                        1.025072\n",
       "['0046340', '0048806']                     0.594150\n",
       "Name: count, dtype: float64"
      ]
     },
     "execution_count": 419,
     "metadata": {},
     "output_type": "execute_result"
    }
   ],
   "source": [
    "fungi['architecture_supfam'].value_counts().head(10)/fungi.shape[0]*100"
   ]
  },
  {
   "cell_type": "code",
   "execution_count": 421,
   "id": "b139a91b-a8e2-490f-9367-01f949a4a0f8",
   "metadata": {
    "tags": []
   },
   "outputs": [
    {
     "data": {
      "text/plain": [
       "PF06330.14    12.065814\n",
       "PF01397.24     0.006529\n",
       "PF03936.19    29.531209\n",
       "PF00494.22     9.525986\n",
       "PF13249.9      4.061113\n",
       "PF19086.3     53.460434\n",
       "PF13243.9      3.943588\n",
       "dtype: float64"
      ]
     },
     "execution_count": 421,
     "metadata": {},
     "output_type": "execute_result"
    }
   ],
   "source": [
    "fungi[pfam_cols].sum()/fungi.shape[0]*100"
   ]
  },
  {
   "cell_type": "code",
   "execution_count": 422,
   "id": "96836598-d366-429e-b90f-4f967097b45c",
   "metadata": {
    "tags": []
   },
   "outputs": [
    {
     "data": {
      "text/plain": [
       "0041184     0.032646\n",
       "0053354     0.013058\n",
       "0053355    69.770175\n",
       "0048261    68.314181\n",
       "0048806    86.882998\n",
       "0046340    87.607730\n",
       "0047573    80.203709\n",
       "dtype: float64"
      ]
     },
     "execution_count": 422,
     "metadata": {},
     "output_type": "execute_result"
    }
   ],
   "source": [
    "fungi[supfam_cols].sum()/fungi.shape[0]*100"
   ]
  },
  {
   "cell_type": "markdown",
   "id": "220b01e5-56b8-48f1-84bd-952d574be712",
   "metadata": {},
   "source": [
    "#### Metazoa"
   ]
  },
  {
   "cell_type": "code",
   "execution_count": 423,
   "id": "38763a97-ce9c-4f58-8f9d-c9cee23d271f",
   "metadata": {
    "tags": []
   },
   "outputs": [],
   "source": [
    "metazoa = eukaryota[eukaryota['kingdom']=='Metazoa']"
   ]
  },
  {
   "cell_type": "code",
   "execution_count": 424,
   "id": "5c5aad2f-dc9b-44a3-a111-9f96fec1db31",
   "metadata": {
    "tags": []
   },
   "outputs": [
    {
     "data": {
      "text/plain": [
       "phylum\n",
       "Chordata           51.557018\n",
       "Arthropoda         36.885965\n",
       "Nematoda            3.618421\n",
       "Rotifera            3.081140\n",
       "Platyhelminthes     1.842105\n",
       "Mollusca            1.293860\n",
       "Cnidaria            0.723684\n",
       "Echinodermata       0.361842\n",
       "Annelida            0.164474\n",
       "Porifera            0.109649\n",
       "Tardigrada          0.065789\n",
       "Placozoa            0.054825\n",
       "Hemichordata        0.043860\n",
       "Priapulida          0.043860\n",
       "Xenacoelomorpha     0.043860\n",
       "Ctenophora          0.043860\n",
       "Brachiopoda         0.032895\n",
       "Bryozoa             0.021930\n",
       "Orthonectida        0.010965\n",
       "Name: count, dtype: float64"
      ]
     },
     "execution_count": 424,
     "metadata": {},
     "output_type": "execute_result"
    }
   ],
   "source": [
    "metazoa['phylum'].value_counts()/metazoa.shape[0]*100"
   ]
  },
  {
   "cell_type": "code",
   "execution_count": 425,
   "id": "84ca17e6-c260-4801-b5eb-493835287eef",
   "metadata": {
    "tags": []
   },
   "outputs": [
    {
     "data": {
      "text/plain": [
       "architecture_pfam\n",
       "['PF13249.9', 'PF13243.9']                         14.660088\n",
       "['PF19086.3_partial']                               2.905702\n",
       "['PF19086.3']                                       2.149123\n",
       "['PF00494.22']                                      2.050439\n",
       "['PF19086.3_partial', 'PF19086.3_partial']          1.359649\n",
       "['PF03936.19_partial']                              0.548246\n",
       "['PF13249.9', 'PF13243.9_partial', 'PF13243.9']     0.537281\n",
       "['PF13249.9', 'PF13243.9_partial']                  0.526316\n",
       "['PF01397.24', 'PF03936.19']                        0.526316\n",
       "['PF19086.3', 'PF19086.3_partial']                  0.372807\n",
       "Name: count, dtype: float64"
      ]
     },
     "execution_count": 425,
     "metadata": {},
     "output_type": "execute_result"
    }
   ],
   "source": [
    "metazoa['architecture_pfam'].value_counts().head(10)/metazoa.shape[0]*100"
   ]
  },
  {
   "cell_type": "code",
   "execution_count": 426,
   "id": "e6524f0d-69c4-4e19-9dc8-7469d6591032",
   "metadata": {
    "tags": []
   },
   "outputs": [
    {
     "data": {
      "text/plain": [
       "architecture_supfam\n",
       "['0046340']                               59.429825\n",
       "['0046340_partial']                       11.699561\n",
       "['0046340_partial', '0046340']             1.600877\n",
       "['0048806']                                1.250000\n",
       "['0048806_partial', '0046340']             1.173246\n",
       "['0047573']                                1.173246\n",
       "['0046340_partial', '0046340_partial']     0.559211\n",
       "['0046340', '0046340']                     0.548246\n",
       "['0046340', '0047573_partial']             0.471491\n",
       "['0046340', '0048806_partial']             0.361842\n",
       "Name: count, dtype: float64"
      ]
     },
     "execution_count": 426,
     "metadata": {},
     "output_type": "execute_result"
    }
   ],
   "source": [
    "metazoa['architecture_supfam'].value_counts().head(10)/metazoa.shape[0]*100"
   ]
  },
  {
   "cell_type": "code",
   "execution_count": 427,
   "id": "46df7f80-baf3-4cf3-b50f-adda5b457b4c",
   "metadata": {
    "tags": []
   },
   "outputs": [
    {
     "data": {
      "text/plain": [
       "PF06330.14     0.087719\n",
       "PF01397.24     0.592105\n",
       "PF03936.19     2.763158\n",
       "PF00494.22     2.642544\n",
       "PF13249.9     16.940789\n",
       "PF19086.3      8.092105\n",
       "PF13243.9     16.973684\n",
       "dtype: float64"
      ]
     },
     "execution_count": 427,
     "metadata": {},
     "output_type": "execute_result"
    }
   ],
   "source": [
    "metazoa[pfam_cols].sum()/metazoa.shape[0]*100"
   ]
  },
  {
   "cell_type": "code",
   "execution_count": 428,
   "id": "716f7712-4013-40f0-b720-774a44b7528c",
   "metadata": {
    "tags": []
   },
   "outputs": [
    {
     "data": {
      "text/plain": [
       "0041184     0.603070\n",
       "0053354     0.635965\n",
       "0053355    25.208333\n",
       "0048261    23.640351\n",
       "0048806    79.517544\n",
       "0046340    81.217105\n",
       "0047573    68.541667\n",
       "dtype: float64"
      ]
     },
     "execution_count": 428,
     "metadata": {},
     "output_type": "execute_result"
    }
   ],
   "source": [
    "metazoa[supfam_cols].sum()/metazoa.shape[0]*100"
   ]
  },
  {
   "cell_type": "markdown",
   "id": "ae5ae413-3403-4394-91f4-e51ac84efbc9",
   "metadata": {},
   "source": [
    "### Archaea"
   ]
  },
  {
   "cell_type": "code",
   "execution_count": 429,
   "id": "c73e12bc-911c-422e-ae35-327ec0594bd8",
   "metadata": {
    "tags": []
   },
   "outputs": [],
   "source": [
    "archae = full_df[full_df['superkingdom']=='Archaea']"
   ]
  },
  {
   "cell_type": "code",
   "execution_count": 430,
   "id": "e4805a1a-f202-4f32-99c8-6e7aaa439b31",
   "metadata": {
    "tags": []
   },
   "outputs": [
    {
     "data": {
      "text/plain": [
       "phylum\n",
       "Euryarchaeota                     59.847138\n",
       "Candidatus Thermoplasmatota       12.335585\n",
       "Candidatus Bathyarchaeota          6.238891\n",
       "Thermoproteota                     5.599005\n",
       "Nitrososphaerota                   5.207963\n",
       "unknown                            1.990757\n",
       "Candidatus Micrarchaeota           1.261998\n",
       "Candidatus Lokiarchaeota           1.208674\n",
       "Candidatus Aenigmarchaeota         1.066477\n",
       "Candidatus Thorarchaeota           0.942055\n",
       "Candidatus Woesearchaeota          0.799858\n",
       "Candidatus Altiarchaeota           0.533239\n",
       "Candidatus Hadarchaeota            0.479915\n",
       "Candidatus Heimdallarchaeota       0.444365\n",
       "Candidatus Diapherotrites          0.408816\n",
       "Candidatus Verstraetearchaeota     0.408816\n",
       "Candidatus Korarchaeota            0.337718\n",
       "Nanoarchaeota                      0.302169\n",
       "Candidatus Undinarchaeota          0.124422\n",
       "Candidatus Helarchaeota            0.106648\n",
       "Candidatus Geothermarchaeota       0.088873\n",
       "Candidatus Marsarchaeota           0.088873\n",
       "Candidatus Hydrothermarchaeota     0.088873\n",
       "Candidatus Nanohaloarchaeota       0.035549\n",
       "Candidatus Nezhaarchaeota          0.017775\n",
       "Candidatus Huberarchaea            0.017775\n",
       "Candidatus Odinarchaeota           0.017775\n",
       "Name: count, dtype: float64"
      ]
     },
     "execution_count": 430,
     "metadata": {},
     "output_type": "execute_result"
    }
   ],
   "source": [
    "archae['phylum'].value_counts()/archae.shape[0]*100"
   ]
  },
  {
   "cell_type": "code",
   "execution_count": 431,
   "id": "1a86a22e-f352-4d3e-bb39-742a1456c7f9",
   "metadata": {
    "tags": []
   },
   "outputs": [
    {
     "data": {
      "text/plain": [
       "architecture_pfam\n",
       "['PF00494.22']                                  25.311056\n",
       "['PF03936.19_partial']                           1.635265\n",
       "['PF19086.3']                                    1.439744\n",
       "['PF00494.22_partial', 'PF00494.22_partial']     0.906506\n",
       "['PF00494.22_partial']                           0.764309\n",
       "['PF19086.3_partial']                            0.622112\n",
       "['PF13243.9_partial', 'PF13243.9_partial']       0.586562\n",
       "['PF00494.22_partial', 'PF00494.22']             0.497689\n",
       "['PF03936.19_partial', 'PF03936.19_partial']     0.302169\n",
       "['PF13243.9_partial']                            0.302169\n",
       "Name: count, dtype: float64"
      ]
     },
     "execution_count": 431,
     "metadata": {},
     "output_type": "execute_result"
    }
   ],
   "source": [
    "archae['architecture_pfam'].value_counts().head(10)/archae.shape[0]*100"
   ]
  },
  {
   "cell_type": "code",
   "execution_count": 432,
   "id": "5d72c6a0-c6e0-4ebf-a704-e31765c09378",
   "metadata": {
    "tags": []
   },
   "outputs": [
    {
     "data": {
      "text/plain": [
       "architecture_supfam\n",
       "['0046340']                       63.544259\n",
       "['0047573_partial', '0046340']     3.697121\n",
       "['0046340_partial']                3.252755\n",
       "['0048806_partial', '0046340']     2.843939\n",
       "['0048261_partial']                0.817632\n",
       "['0047573_partial']                0.728759\n",
       "['0053355_partial']                0.710985\n",
       "['0048261']                        0.622112\n",
       "['0046340', '0047573_partial']     0.551013\n",
       "['0046340', '0048806_partial']     0.533239\n",
       "Name: count, dtype: float64"
      ]
     },
     "execution_count": 432,
     "metadata": {},
     "output_type": "execute_result"
    }
   ],
   "source": [
    "archae['architecture_supfam'].value_counts().head(10)/archae.shape[0]*100"
   ]
  },
  {
   "cell_type": "code",
   "execution_count": 433,
   "id": "7178e92c-1d8d-4aea-ade7-c2959a997b8d",
   "metadata": {
    "tags": []
   },
   "outputs": [
    {
     "data": {
      "text/plain": [
       "PF06330.14     0.000000\n",
       "PF01397.24     0.035549\n",
       "PF03936.19     3.430501\n",
       "PF00494.22    28.101671\n",
       "PF13249.9      2.310700\n",
       "PF19086.3      4.852471\n",
       "PF13243.9      2.328475\n",
       "dtype: float64"
      ]
     },
     "execution_count": 433,
     "metadata": {},
     "output_type": "execute_result"
    }
   ],
   "source": [
    "archae[pfam_cols].sum()/archae.shape[0]*100"
   ]
  },
  {
   "cell_type": "code",
   "execution_count": 434,
   "id": "bb3ee5db-e1ab-440d-9b1f-33b6a3f6e959",
   "metadata": {
    "tags": []
   },
   "outputs": [
    {
     "data": {
      "text/plain": [
       "0041184     0.053324\n",
       "0053354     0.035549\n",
       "0053355    25.844294\n",
       "0048261    13.099893\n",
       "0048806    72.467117\n",
       "0046340    76.768574\n",
       "0047573    71.098471\n",
       "dtype: float64"
      ]
     },
     "execution_count": 434,
     "metadata": {},
     "output_type": "execute_result"
    }
   ],
   "source": [
    "archae[supfam_cols].sum()/archae.shape[0]*100"
   ]
  },
  {
   "cell_type": "markdown",
   "id": "aa93262a-84aa-4837-9bce-a53910fc70d8",
   "metadata": {},
   "source": [
    "### Metagenome"
   ]
  },
  {
   "cell_type": "code",
   "execution_count": 435,
   "id": "1add8bea-081f-4ffd-a59e-7cdccbfebc34",
   "metadata": {
    "tags": []
   },
   "outputs": [],
   "source": [
    "metagenome = full_df[full_df['superkingdom']=='Metagenome']"
   ]
  },
  {
   "cell_type": "code",
   "execution_count": 436,
   "id": "c359534d-c1cc-4645-8add-a063886a54b2",
   "metadata": {
    "tags": []
   },
   "outputs": [
    {
     "data": {
      "text/plain": [
       "kingdom\n",
       "environmental      73.003072\n",
       "engineered         24.500768\n",
       "host-associated     2.265745\n",
       "unknown             0.230415\n",
       "Name: count, dtype: float64"
      ]
     },
     "execution_count": 436,
     "metadata": {},
     "output_type": "execute_result"
    }
   ],
   "source": [
    "metagenome['kingdom'].value_counts()/metagenome.shape[0]*100"
   ]
  },
  {
   "cell_type": "code",
   "execution_count": 437,
   "id": "18d4b75f-a3e0-41e7-a8ad-ea1a8fdd7c27",
   "metadata": {
    "tags": []
   },
   "outputs": [
    {
     "data": {
      "text/plain": [
       "architecture_pfam\n",
       "['PF01397.24', 'PF03936.19']                         17.857143\n",
       "['PF00494.22']                                        9.715822\n",
       "['PF13249.9', 'PF13243.9']                            2.611367\n",
       "['PF00494.22_partial']                                1.958525\n",
       "['PF19086.3_partial']                                 0.960061\n",
       "['PF19086.3']                                         0.576037\n",
       "['PF00494.22_partial', 'PF00494.22_partial']          0.576037\n",
       "['PF03936.19_partial', 'PF03936.19_partial']          0.576037\n",
       "['PF13243.9_partial', 'PF01397.24', 'PF03936.19']     0.307220\n",
       "['PF03936.19_partial']                                0.192012\n",
       "Name: count, dtype: float64"
      ]
     },
     "execution_count": 437,
     "metadata": {},
     "output_type": "execute_result"
    }
   ],
   "source": [
    "metagenome['architecture_pfam'].value_counts().head(10)/metagenome.shape[0]*100"
   ]
  },
  {
   "cell_type": "code",
   "execution_count": 438,
   "id": "049dd5e7-5c53-46dd-8429-380f61036376",
   "metadata": {
    "tags": []
   },
   "outputs": [
    {
     "data": {
      "text/plain": [
       "architecture_supfam\n",
       "['0046340']                       64.285714\n",
       "['0053355']                       10.637481\n",
       "['0048261']                        6.605223\n",
       "['0046340_partial']                0.883257\n",
       "['0041184', '0053355']             0.576037\n",
       "['0046340', '0048806_partial']     0.499232\n",
       "['0047573']                        0.422427\n",
       "['0046340', '0046340']             0.384025\n",
       "['0048806']                        0.345622\n",
       "['0048806_partial', '0046340']     0.345622\n",
       "Name: count, dtype: float64"
      ]
     },
     "execution_count": 438,
     "metadata": {},
     "output_type": "execute_result"
    }
   ],
   "source": [
    "metagenome['architecture_supfam'].value_counts().head(10)/metagenome.shape[0]*100"
   ]
  },
  {
   "cell_type": "code",
   "execution_count": 439,
   "id": "e8c92d01-622e-43d5-92eb-600b13d51a99",
   "metadata": {
    "tags": []
   },
   "outputs": [
    {
     "data": {
      "text/plain": [
       "PF06330.14     0.230415\n",
       "PF01397.24    18.778802\n",
       "PF03936.19    20.967742\n",
       "PF00494.22    12.480799\n",
       "PF13249.9      3.609831\n",
       "PF19086.3     20.545315\n",
       "PF13243.9      3.917051\n",
       "dtype: float64"
      ]
     },
     "execution_count": 439,
     "metadata": {},
     "output_type": "execute_result"
    }
   ],
   "source": [
    "metagenome[pfam_cols].sum()/metagenome.shape[0]*100"
   ]
  },
  {
   "cell_type": "code",
   "execution_count": 440,
   "id": "72b7122c-5ca3-4657-92f8-bd54c86b58d5",
   "metadata": {
    "tags": []
   },
   "outputs": [
    {
     "data": {
      "text/plain": [
       "0041184    18.778802\n",
       "0053354    18.778802\n",
       "0053355    33.832565\n",
       "0048261    24.423963\n",
       "0048806    83.448541\n",
       "0046340    87.519201\n",
       "0047573    82.334869\n",
       "dtype: float64"
      ]
     },
     "execution_count": 440,
     "metadata": {},
     "output_type": "execute_result"
    }
   ],
   "source": [
    "metagenome[supfam_cols].sum()/metagenome.shape[0]*100"
   ]
  },
  {
   "cell_type": "markdown",
   "id": "64291c4c-74ad-484d-af40-7558c56fa4ff",
   "metadata": {
    "tags": []
   },
   "source": [
    "### Viruses"
   ]
  },
  {
   "cell_type": "code",
   "execution_count": 441,
   "id": "bfcac402-4d6a-4145-ba65-129ad27bae1a",
   "metadata": {
    "tags": []
   },
   "outputs": [],
   "source": [
    "viruses = full_df[full_df['superkingdom']=='Viruses']"
   ]
  },
  {
   "cell_type": "code",
   "execution_count": 443,
   "id": "628daaa6-d698-4677-b21e-185b21de4d34",
   "metadata": {
    "tags": []
   },
   "outputs": [
    {
     "data": {
      "text/plain": [
       "architecture_pfam\n",
       "['PF19086.3']     10.0\n",
       "['PF00494.22']    10.0\n",
       "Name: count, dtype: float64"
      ]
     },
     "execution_count": 443,
     "metadata": {},
     "output_type": "execute_result"
    }
   ],
   "source": [
    "viruses['architecture_pfam'].value_counts().head(10)/viruses.shape[0]*100"
   ]
  },
  {
   "cell_type": "code",
   "execution_count": 444,
   "id": "27803d9b-41c6-4106-b77d-25b27cb04228",
   "metadata": {
    "tags": []
   },
   "outputs": [
    {
     "data": {
      "text/plain": [
       "architecture_supfam\n",
       "['0046340']    80.0\n",
       "['0047573']    10.0\n",
       "Name: count, dtype: float64"
      ]
     },
     "execution_count": 444,
     "metadata": {},
     "output_type": "execute_result"
    }
   ],
   "source": [
    "viruses['architecture_supfam'].value_counts().head(10)/viruses.shape[0]*100"
   ]
  },
  {
   "cell_type": "code",
   "execution_count": 446,
   "id": "808299fc-9427-4239-905e-83ad159d0201",
   "metadata": {
    "tags": []
   },
   "outputs": [
    {
     "data": {
      "text/plain": [
       "PF06330.14     0.0\n",
       "PF01397.24     0.0\n",
       "PF03936.19     0.0\n",
       "PF00494.22    10.0\n",
       "PF13249.9      0.0\n",
       "PF19086.3     10.0\n",
       "PF13243.9      0.0\n",
       "dtype: float64"
      ]
     },
     "execution_count": 446,
     "metadata": {},
     "output_type": "execute_result"
    }
   ],
   "source": [
    "viruses[pfam_cols].sum()/viruses.shape[0]*100"
   ]
  },
  {
   "cell_type": "code",
   "execution_count": 445,
   "id": "c8dcb49e-f318-4f13-b406-83b650d62c86",
   "metadata": {
    "tags": []
   },
   "outputs": [
    {
     "data": {
      "text/plain": [
       "0041184     0.0\n",
       "0053354     0.0\n",
       "0053355    70.0\n",
       "0048261    20.0\n",
       "0048806    80.0\n",
       "0046340    90.0\n",
       "0047573    80.0\n",
       "dtype: float64"
      ]
     },
     "execution_count": 445,
     "metadata": {},
     "output_type": "execute_result"
    }
   ],
   "source": [
    "viruses[supfam_cols].sum()/viruses.shape[0]*100"
   ]
  },
  {
   "cell_type": "code",
   "execution_count": 398,
   "id": "5687271c-5920-41be-8fea-4af33669ce05",
   "metadata": {
    "tags": []
   },
   "outputs": [],
   "source": [
    "full_df.to_csv('../../uniprot_annotation.csv')"
   ]
  }
 ],
 "metadata": {
  "kernelspec": {
   "display_name": "Python 3 (ipykernel)",
   "language": "python",
   "name": "python3"
  },
  "language_info": {
   "codemirror_mode": {
    "name": "ipython",
    "version": 3
   },
   "file_extension": ".py",
   "mimetype": "text/x-python",
   "name": "python",
   "nbconvert_exporter": "python",
   "pygments_lexer": "ipython3",
   "version": "3.10.13"
  }
 },
 "nbformat": 4,
 "nbformat_minor": 5
}

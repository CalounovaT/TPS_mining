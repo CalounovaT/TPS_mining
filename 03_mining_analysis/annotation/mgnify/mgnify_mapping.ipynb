{
 "cells": [
  {
   "cell_type": "code",
   "execution_count": 2,
   "id": "f10a8248-aca0-4540-b8f7-84dce4e8a4f9",
   "metadata": {
    "tags": []
   },
   "outputs": [],
   "source": [
    "import pandas as pd"
   ]
  },
  {
   "cell_type": "markdown",
   "id": "ba91d69d-1348-4cbd-b402-db0eaa7453f1",
   "metadata": {},
   "source": [
    "## Load the mapping file"
   ]
  },
  {
   "cell_type": "code",
   "execution_count": 3,
   "id": "853946d6-3f49-4544-82be-4daccc13f02c",
   "metadata": {
    "tags": []
   },
   "outputs": [],
   "source": [
    "mapping = pd.read_csv('mgnify_new_mapping.tsv', sep='~')"
   ]
  },
  {
   "cell_type": "code",
   "execution_count": 5,
   "id": "5a63cbcc-5b09-4285-8e07-58af9a4fd320",
   "metadata": {
    "tags": []
   },
   "outputs": [
    {
     "data": {
      "text/html": [
       "<div>\n",
       "<style scoped>\n",
       "    .dataframe tbody tr th:only-of-type {\n",
       "        vertical-align: middle;\n",
       "    }\n",
       "\n",
       "    .dataframe tbody tr th {\n",
       "        vertical-align: top;\n",
       "    }\n",
       "\n",
       "    .dataframe thead th {\n",
       "        text-align: right;\n",
       "    }\n",
       "</style>\n",
       "<table border=\"1\" class=\"dataframe\">\n",
       "  <thead>\n",
       "    <tr style=\"text-align: right;\">\n",
       "      <th></th>\n",
       "      <th>record_id</th>\n",
       "      <th>record_description</th>\n",
       "      <th>new_id</th>\n",
       "    </tr>\n",
       "  </thead>\n",
       "  <tbody>\n",
       "    <tr>\n",
       "      <th>0</th>\n",
       "      <td>MGYP000017370639</td>\n",
       "      <td>MGYP000017370639 CR=1</td>\n",
       "      <td>mgnify_new_000000</td>\n",
       "    </tr>\n",
       "    <tr>\n",
       "      <th>1</th>\n",
       "      <td>MGYP000141687144</td>\n",
       "      <td>MGYP000141687144 FL=1</td>\n",
       "      <td>mgnify_new_000001</td>\n",
       "    </tr>\n",
       "    <tr>\n",
       "      <th>2</th>\n",
       "      <td>MGYP000201096298</td>\n",
       "      <td>MGYP000201096298 FL=0</td>\n",
       "      <td>mgnify_new_000002</td>\n",
       "    </tr>\n",
       "    <tr>\n",
       "      <th>3</th>\n",
       "      <td>MGYP000239944854</td>\n",
       "      <td>MGYP000239944854 FL=0</td>\n",
       "      <td>mgnify_new_000003</td>\n",
       "    </tr>\n",
       "    <tr>\n",
       "      <th>4</th>\n",
       "      <td>MGYP002770020956</td>\n",
       "      <td>MGYP002770020956 FL=1</td>\n",
       "      <td>mgnify_new_000004</td>\n",
       "    </tr>\n",
       "    <tr>\n",
       "      <th>...</th>\n",
       "      <td>...</td>\n",
       "      <td>...</td>\n",
       "      <td>...</td>\n",
       "    </tr>\n",
       "    <tr>\n",
       "      <th>210966</th>\n",
       "      <td>MGYP002635398857</td>\n",
       "      <td>MGYP002635398857 FL=1</td>\n",
       "      <td>mgnify_new_210966</td>\n",
       "    </tr>\n",
       "    <tr>\n",
       "      <th>210967</th>\n",
       "      <td>MGYP001077638744</td>\n",
       "      <td>MGYP001077638744 FL=1</td>\n",
       "      <td>mgnify_new_210967</td>\n",
       "    </tr>\n",
       "    <tr>\n",
       "      <th>210968</th>\n",
       "      <td>MGYP001403011521</td>\n",
       "      <td>MGYP001403011521 FL=1 CR=1</td>\n",
       "      <td>mgnify_new_210968</td>\n",
       "    </tr>\n",
       "    <tr>\n",
       "      <th>210969</th>\n",
       "      <td>MGYP001403025022</td>\n",
       "      <td>MGYP001403025022 FL=1 CR=1</td>\n",
       "      <td>mgnify_new_210969</td>\n",
       "    </tr>\n",
       "    <tr>\n",
       "      <th>210970</th>\n",
       "      <td>MGYP003382292971</td>\n",
       "      <td>MGYP003382292971 FL=1</td>\n",
       "      <td>mgnify_new_210970</td>\n",
       "    </tr>\n",
       "  </tbody>\n",
       "</table>\n",
       "<p>210971 rows × 3 columns</p>\n",
       "</div>"
      ],
      "text/plain": [
       "               record_id          record_description             new_id\n",
       "0       MGYP000017370639       MGYP000017370639 CR=1  mgnify_new_000000\n",
       "1       MGYP000141687144       MGYP000141687144 FL=1  mgnify_new_000001\n",
       "2       MGYP000201096298       MGYP000201096298 FL=0  mgnify_new_000002\n",
       "3       MGYP000239944854       MGYP000239944854 FL=0  mgnify_new_000003\n",
       "4       MGYP002770020956       MGYP002770020956 FL=1  mgnify_new_000004\n",
       "...                  ...                         ...                ...\n",
       "210966  MGYP002635398857       MGYP002635398857 FL=1  mgnify_new_210966\n",
       "210967  MGYP001077638744       MGYP001077638744 FL=1  mgnify_new_210967\n",
       "210968  MGYP001403011521  MGYP001403011521 FL=1 CR=1  mgnify_new_210968\n",
       "210969  MGYP001403025022  MGYP001403025022 FL=1 CR=1  mgnify_new_210969\n",
       "210970  MGYP003382292971       MGYP003382292971 FL=1  mgnify_new_210970\n",
       "\n",
       "[210971 rows x 3 columns]"
      ]
     },
     "execution_count": 5,
     "metadata": {},
     "output_type": "execute_result"
    }
   ],
   "source": [
    "mapping"
   ]
  },
  {
   "cell_type": "code",
   "execution_count": 7,
   "id": "0ded83a9-aacb-49df-8a91-9da079244144",
   "metadata": {},
   "outputs": [
    {
     "data": {
      "text/html": [
       "<div>\n",
       "<style scoped>\n",
       "    .dataframe tbody tr th:only-of-type {\n",
       "        vertical-align: middle;\n",
       "    }\n",
       "\n",
       "    .dataframe tbody tr th {\n",
       "        vertical-align: top;\n",
       "    }\n",
       "\n",
       "    .dataframe thead th {\n",
       "        text-align: right;\n",
       "    }\n",
       "</style>\n",
       "<table border=\"1\" class=\"dataframe\">\n",
       "  <thead>\n",
       "    <tr style=\"text-align: right;\">\n",
       "      <th></th>\n",
       "      <th>record_id</th>\n",
       "      <th>record_description</th>\n",
       "      <th>new_id</th>\n",
       "    </tr>\n",
       "  </thead>\n",
       "  <tbody>\n",
       "    <tr>\n",
       "      <th>0</th>\n",
       "      <td>MGYP000017370639</td>\n",
       "      <td>MGYP000017370639 CR=1</td>\n",
       "      <td>mgnify_new_000000</td>\n",
       "    </tr>\n",
       "    <tr>\n",
       "      <th>1</th>\n",
       "      <td>MGYP000141687144</td>\n",
       "      <td>MGYP000141687144 FL=1</td>\n",
       "      <td>mgnify_new_000001</td>\n",
       "    </tr>\n",
       "    <tr>\n",
       "      <th>2</th>\n",
       "      <td>MGYP000201096298</td>\n",
       "      <td>MGYP000201096298 FL=0</td>\n",
       "      <td>mgnify_new_000002</td>\n",
       "    </tr>\n",
       "    <tr>\n",
       "      <th>3</th>\n",
       "      <td>MGYP000239944854</td>\n",
       "      <td>MGYP000239944854 FL=0</td>\n",
       "      <td>mgnify_new_000003</td>\n",
       "    </tr>\n",
       "    <tr>\n",
       "      <th>4</th>\n",
       "      <td>MGYP002770020956</td>\n",
       "      <td>MGYP002770020956 FL=1</td>\n",
       "      <td>mgnify_new_000004</td>\n",
       "    </tr>\n",
       "  </tbody>\n",
       "</table>\n",
       "</div>"
      ],
      "text/plain": [
       "          record_id     record_description             new_id\n",
       "0  MGYP000017370639  MGYP000017370639 CR=1  mgnify_new_000000\n",
       "1  MGYP000141687144  MGYP000141687144 FL=1  mgnify_new_000001\n",
       "2  MGYP000201096298  MGYP000201096298 FL=0  mgnify_new_000002\n",
       "3  MGYP000239944854  MGYP000239944854 FL=0  mgnify_new_000003\n",
       "4  MGYP002770020956  MGYP002770020956 FL=1  mgnify_new_000004"
      ]
     },
     "execution_count": 7,
     "metadata": {},
     "output_type": "execute_result"
    }
   ],
   "source": [
    "mapping.head()"
   ]
  },
  {
   "cell_type": "code",
   "execution_count": 8,
   "id": "3a45b7b7-3197-4b39-9c52-be85522f9720",
   "metadata": {
    "tags": []
   },
   "outputs": [],
   "source": [
    "mapping.to_csv('mgnify_new_mapping.csv')"
   ]
  },
  {
   "cell_type": "code",
   "execution_count": 4,
   "id": "884385da-f409-43f6-9bab-606e4b5f8430",
   "metadata": {},
   "outputs": [],
   "source": [
    "mapping = pd.read_csv('mgnify_new_mapping.csv', index_col=0)"
   ]
  },
  {
   "cell_type": "code",
   "execution_count": 5,
   "id": "74b2c389-59c2-4c01-83a2-6ba55251c61c",
   "metadata": {
    "tags": []
   },
   "outputs": [
    {
     "data": {
      "text/plain": [
       "210971"
      ]
     },
     "execution_count": 5,
     "metadata": {},
     "output_type": "execute_result"
    }
   ],
   "source": [
    "mapping.shape[0]"
   ]
  },
  {
   "cell_type": "code",
   "execution_count": 11,
   "id": "363d192a-9ae2-4088-a622-42cf925cef75",
   "metadata": {
    "tags": []
   },
   "outputs": [
    {
     "data": {
      "text/plain": [
       "Index(['record_id', 'record_description', 'new_id'], dtype='object')"
      ]
     },
     "execution_count": 11,
     "metadata": {},
     "output_type": "execute_result"
    }
   ],
   "source": [
    "mapping.columns"
   ]
  },
  {
   "cell_type": "markdown",
   "id": "6c405086-1abf-44f3-a789-7805f46cb51e",
   "metadata": {},
   "source": [
    "## Add biomes info"
   ]
  },
  {
   "cell_type": "code",
   "execution_count": 73,
   "id": "2a679621-8844-4682-9f9d-3e30cca9afe0",
   "metadata": {
    "tags": []
   },
   "outputs": [],
   "source": [
    "biomes_info = pd.read_csv('mgnify_biomes_filtered.csv', index_col=0)"
   ]
  },
  {
   "cell_type": "code",
   "execution_count": 74,
   "id": "f894b660-dc67-4e8a-a410-d300c90917ef",
   "metadata": {
    "tags": []
   },
   "outputs": [
    {
     "data": {
      "text/plain": [
       "207952"
      ]
     },
     "execution_count": 74,
     "metadata": {},
     "output_type": "execute_result"
    }
   ],
   "source": [
    "biomes_info.shape[0]"
   ]
  },
  {
   "cell_type": "code",
   "execution_count": 75,
   "id": "7b288f3e-2fed-4ee4-8fce-f9fcd9610d18",
   "metadata": {
    "tags": []
   },
   "outputs": [
    {
     "data": {
      "text/plain": [
       "Index(['record_id', 'record_description', 'new_id', 'id', 'number', 'biome'], dtype='object')"
      ]
     },
     "execution_count": 75,
     "metadata": {},
     "output_type": "execute_result"
    }
   ],
   "source": [
    "biomes_info.columns"
   ]
  },
  {
   "cell_type": "code",
   "execution_count": 77,
   "id": "944acc65-9483-4621-a32a-04c384c83a40",
   "metadata": {},
   "outputs": [
    {
     "data": {
      "text/html": [
       "<div>\n",
       "<style scoped>\n",
       "    .dataframe tbody tr th:only-of-type {\n",
       "        vertical-align: middle;\n",
       "    }\n",
       "\n",
       "    .dataframe tbody tr th {\n",
       "        vertical-align: top;\n",
       "    }\n",
       "\n",
       "    .dataframe thead th {\n",
       "        text-align: right;\n",
       "    }\n",
       "</style>\n",
       "<table border=\"1\" class=\"dataframe\">\n",
       "  <thead>\n",
       "    <tr style=\"text-align: right;\">\n",
       "      <th></th>\n",
       "      <th>record_id</th>\n",
       "      <th>record_description</th>\n",
       "      <th>new_id</th>\n",
       "      <th>id</th>\n",
       "      <th>number</th>\n",
       "      <th>biome</th>\n",
       "    </tr>\n",
       "    <tr>\n",
       "      <th>Unnamed: 0</th>\n",
       "      <th></th>\n",
       "      <th></th>\n",
       "      <th></th>\n",
       "      <th></th>\n",
       "      <th></th>\n",
       "      <th></th>\n",
       "    </tr>\n",
       "  </thead>\n",
       "  <tbody>\n",
       "    <tr>\n",
       "      <th>9105</th>\n",
       "      <td>MGYP002725762103</td>\n",
       "      <td>MGYP002725762103 FL=0 CR=1</td>\n",
       "      <td>mgnify_new_009105</td>\n",
       "      <td>MGYP002725762103</td>\n",
       "      <td>1.0</td>\n",
       "      <td>root:Environmental:Aquatic:Marine</td>\n",
       "    </tr>\n",
       "    <tr>\n",
       "      <th>78996</th>\n",
       "      <td>MGYP002725764543</td>\n",
       "      <td>MGYP002725764543 FL=0 CR=1</td>\n",
       "      <td>mgnify_new_078996</td>\n",
       "      <td>MGYP002725764543</td>\n",
       "      <td>1.0</td>\n",
       "      <td>root:Environmental:Aquatic:Marine</td>\n",
       "    </tr>\n",
       "    <tr>\n",
       "      <th>89453</th>\n",
       "      <td>MGYP002725775134</td>\n",
       "      <td>MGYP002725775134 FL=0 CR=1</td>\n",
       "      <td>mgnify_new_089453</td>\n",
       "      <td>MGYP002725775134</td>\n",
       "      <td>1.0</td>\n",
       "      <td>root:Environmental:Aquatic:Marine</td>\n",
       "    </tr>\n",
       "    <tr>\n",
       "      <th>15452</th>\n",
       "      <td>MGYP001573091426</td>\n",
       "      <td>MGYP001573091426 FL=1 CR=1</td>\n",
       "      <td>mgnify_new_015452</td>\n",
       "      <td>MGYP001573091426</td>\n",
       "      <td>1.0</td>\n",
       "      <td>root:Environmental:Aquatic:Freshwater:Groundwater</td>\n",
       "    </tr>\n",
       "    <tr>\n",
       "      <th>17637</th>\n",
       "      <td>MGYP001573097175</td>\n",
       "      <td>MGYP001573097175 FL=1 CR=1</td>\n",
       "      <td>mgnify_new_017637</td>\n",
       "      <td>MGYP001573097175</td>\n",
       "      <td>1.0</td>\n",
       "      <td>root:Environmental:Aquatic:Marine:Oceanic</td>\n",
       "    </tr>\n",
       "    <tr>\n",
       "      <th>...</th>\n",
       "      <td>...</td>\n",
       "      <td>...</td>\n",
       "      <td>...</td>\n",
       "      <td>...</td>\n",
       "      <td>...</td>\n",
       "      <td>...</td>\n",
       "    </tr>\n",
       "    <tr>\n",
       "      <th>141426</th>\n",
       "      <td>MGYP003498785539</td>\n",
       "      <td>MGYP003498785539 FL=0</td>\n",
       "      <td>mgnify_new_141426</td>\n",
       "      <td>MGYP003498785539</td>\n",
       "      <td>1.0</td>\n",
       "      <td>root:Mixed</td>\n",
       "    </tr>\n",
       "    <tr>\n",
       "      <th>141427</th>\n",
       "      <td>MGYP003498791288</td>\n",
       "      <td>MGYP003498791288 FL=1</td>\n",
       "      <td>mgnify_new_141427</td>\n",
       "      <td>MGYP003498791288</td>\n",
       "      <td>1.0</td>\n",
       "      <td>root:Mixed</td>\n",
       "    </tr>\n",
       "    <tr>\n",
       "      <th>152885</th>\n",
       "      <td>MGYP003498832954</td>\n",
       "      <td>MGYP003498832954 FL=0</td>\n",
       "      <td>mgnify_new_152885</td>\n",
       "      <td>MGYP003498832954</td>\n",
       "      <td>1.0</td>\n",
       "      <td>root:Mixed</td>\n",
       "    </tr>\n",
       "    <tr>\n",
       "      <th>179014</th>\n",
       "      <td>MGYP003498769501</td>\n",
       "      <td>MGYP003498769501 FL=0</td>\n",
       "      <td>mgnify_new_179014</td>\n",
       "      <td>MGYP003498769501</td>\n",
       "      <td>1.0</td>\n",
       "      <td>root:Mixed</td>\n",
       "    </tr>\n",
       "    <tr>\n",
       "      <th>196000</th>\n",
       "      <td>MGYP003498845096</td>\n",
       "      <td>MGYP003498845096 FL=1 CR=1</td>\n",
       "      <td>mgnify_new_196000</td>\n",
       "      <td>MGYP003498845096</td>\n",
       "      <td>1.0</td>\n",
       "      <td>root:Mixed</td>\n",
       "    </tr>\n",
       "  </tbody>\n",
       "</table>\n",
       "<p>207952 rows × 6 columns</p>\n",
       "</div>"
      ],
      "text/plain": [
       "                   record_id          record_description             new_id  \\\n",
       "Unnamed: 0                                                                    \n",
       "9105        MGYP002725762103  MGYP002725762103 FL=0 CR=1  mgnify_new_009105   \n",
       "78996       MGYP002725764543  MGYP002725764543 FL=0 CR=1  mgnify_new_078996   \n",
       "89453       MGYP002725775134  MGYP002725775134 FL=0 CR=1  mgnify_new_089453   \n",
       "15452       MGYP001573091426  MGYP001573091426 FL=1 CR=1  mgnify_new_015452   \n",
       "17637       MGYP001573097175  MGYP001573097175 FL=1 CR=1  mgnify_new_017637   \n",
       "...                      ...                         ...                ...   \n",
       "141426      MGYP003498785539       MGYP003498785539 FL=0  mgnify_new_141426   \n",
       "141427      MGYP003498791288       MGYP003498791288 FL=1  mgnify_new_141427   \n",
       "152885      MGYP003498832954       MGYP003498832954 FL=0  mgnify_new_152885   \n",
       "179014      MGYP003498769501       MGYP003498769501 FL=0  mgnify_new_179014   \n",
       "196000      MGYP003498845096  MGYP003498845096 FL=1 CR=1  mgnify_new_196000   \n",
       "\n",
       "                          id  number  \\\n",
       "Unnamed: 0                             \n",
       "9105        MGYP002725762103     1.0   \n",
       "78996       MGYP002725764543     1.0   \n",
       "89453       MGYP002725775134     1.0   \n",
       "15452       MGYP001573091426     1.0   \n",
       "17637       MGYP001573097175     1.0   \n",
       "...                      ...     ...   \n",
       "141426      MGYP003498785539     1.0   \n",
       "141427      MGYP003498791288     1.0   \n",
       "152885      MGYP003498832954     1.0   \n",
       "179014      MGYP003498769501     1.0   \n",
       "196000      MGYP003498845096     1.0   \n",
       "\n",
       "                                                        biome  \n",
       "Unnamed: 0                                                     \n",
       "9105                        root:Environmental:Aquatic:Marine  \n",
       "78996                       root:Environmental:Aquatic:Marine  \n",
       "89453                       root:Environmental:Aquatic:Marine  \n",
       "15452       root:Environmental:Aquatic:Freshwater:Groundwater  \n",
       "17637               root:Environmental:Aquatic:Marine:Oceanic  \n",
       "...                                                       ...  \n",
       "141426                                             root:Mixed  \n",
       "141427                                             root:Mixed  \n",
       "152885                                             root:Mixed  \n",
       "179014                                             root:Mixed  \n",
       "196000                                             root:Mixed  \n",
       "\n",
       "[207952 rows x 6 columns]"
      ]
     },
     "execution_count": 77,
     "metadata": {},
     "output_type": "execute_result"
    }
   ],
   "source": [
    "biomes_info"
   ]
  },
  {
   "cell_type": "markdown",
   "id": "35da0aae-1a6f-497e-82ec-b215f150618f",
   "metadata": {},
   "source": [
    "There are proteins present in multiple biomes"
   ]
  },
  {
   "cell_type": "code",
   "execution_count": 78,
   "id": "be13fec6-dd87-49b5-9c52-9556572b3387",
   "metadata": {
    "tags": []
   },
   "outputs": [
    {
     "data": {
      "text/plain": [
       "record_id\n",
       "MGYP000371549065    31\n",
       "MGYP000551423224    16\n",
       "MGYP000725395332    15\n",
       "MGYP000353910527    14\n",
       "MGYP000572067002    14\n",
       "                    ..\n",
       "MGYP001490564323     1\n",
       "MGYP001490612089     1\n",
       "MGYP001490565037     1\n",
       "MGYP001490554927     1\n",
       "MGYP003498845096     1\n",
       "Name: count, Length: 185655, dtype: int64"
      ]
     },
     "execution_count": 78,
     "metadata": {},
     "output_type": "execute_result"
    }
   ],
   "source": [
    "biomes_info['record_id'].value_counts()"
   ]
  },
  {
   "cell_type": "code",
   "execution_count": 79,
   "id": "ffad7d59-775d-455a-be6b-652205e66733",
   "metadata": {
    "tags": []
   },
   "outputs": [
    {
     "data": {
      "text/plain": [
       "biome\n",
       "root                                                                         1\n",
       "root:Host-associated:Birds:Digestive system:Digestive tube                   1\n",
       "root:Host-associated:Mammals:Respiratory system                              1\n",
       "root:Host-associated:Mammals:Digestive system:Large intestine:Fecal          1\n",
       "root:Host-associated:Mammals:Digestive system:Large intestine                1\n",
       "root:Host-associated:Mammals:Digestive system:Fecal                          1\n",
       "root:Host-associated:Mammals:Digestive system                                1\n",
       "root:Host-associated:Human:Skin:Naris                                        1\n",
       "root:Host-associated:Human:Skin                                              1\n",
       "root:Host-associated:Human:Digestive system:Large intestine:Sigmoid colon    1\n",
       "root:Host-associated:Human:Digestive system:Large intestine:Fecal            1\n",
       "root:Host-associated:Human:Digestive system:Large intestine                  1\n",
       "root:Host-associated:Human:Digestive system:Intestine                        1\n",
       "root:Host-associated:Human:Digestive system                                  1\n",
       "root:Host-associated:Birds:Digestive system:Digestive tube:Cecum             1\n",
       "root:Host-associated:Birds                                                   1\n",
       "root:Engineered:Food production                                              1\n",
       "root:Environmental:Terrestrial:Soil:Permafrost                               1\n",
       "root:Environmental:Aquatic:Thermal springs:Near-boiling (>90C)               1\n",
       "root:Environmental:Aquatic:Thermal springs:Hot (42-90C)                      1\n",
       "root:Environmental:Aquatic:Marine:Oceanic:Sediment                           1\n",
       "root:Environmental:Aquatic:Marine                                            1\n",
       "root:Environmental:Aquatic:Lentic:Brackish                                   1\n",
       "root:Environmental:Aquatic:Freshwater:Lotic:Sediment                         1\n",
       "root:Environmental:Aquatic:Freshwater                                        1\n",
       "root:Engineered:Wastewater:Water and sludge                                  1\n",
       "root:Engineered:Wastewater                                                   1\n",
       "root:Engineered:Solid waste:Composting                                       1\n",
       "root:Engineered:Modeled:Simulated communities (microbial mixture)            1\n",
       "root:Engineered:Food production:Dairy products                               1\n",
       "root:Mixed                                                                   1\n",
       "Name: count, dtype: int64"
      ]
     },
     "execution_count": 79,
     "metadata": {},
     "output_type": "execute_result"
    }
   ],
   "source": [
    "biomes_info[biomes_info['record_id'] == 'MGYP000371549065']['biome'].value_counts()"
   ]
  },
  {
   "cell_type": "code",
   "execution_count": 80,
   "id": "4eb94abf-2153-406d-a786-b183baeadd64",
   "metadata": {
    "tags": []
   },
   "outputs": [],
   "source": [
    "biomes_info['biome_list'] = biomes_info['biome'].apply(lambda x: x.split(':'))"
   ]
  },
  {
   "cell_type": "code",
   "execution_count": 81,
   "id": "33e8c69d-42cc-4c8a-b1d8-f9951e9c12c7",
   "metadata": {
    "collapsed": true,
    "jupyter": {
     "outputs_hidden": true
    },
    "tags": []
   },
   "outputs": [
    {
     "data": {
      "text/html": [
       "<div>\n",
       "<style scoped>\n",
       "    .dataframe tbody tr th:only-of-type {\n",
       "        vertical-align: middle;\n",
       "    }\n",
       "\n",
       "    .dataframe tbody tr th {\n",
       "        vertical-align: top;\n",
       "    }\n",
       "\n",
       "    .dataframe thead th {\n",
       "        text-align: right;\n",
       "    }\n",
       "</style>\n",
       "<table border=\"1\" class=\"dataframe\">\n",
       "  <thead>\n",
       "    <tr style=\"text-align: right;\">\n",
       "      <th></th>\n",
       "      <th>record_id</th>\n",
       "      <th>record_description</th>\n",
       "      <th>new_id</th>\n",
       "      <th>id</th>\n",
       "      <th>number</th>\n",
       "      <th>biome</th>\n",
       "      <th>biome_list</th>\n",
       "    </tr>\n",
       "    <tr>\n",
       "      <th>Unnamed: 0</th>\n",
       "      <th></th>\n",
       "      <th></th>\n",
       "      <th></th>\n",
       "      <th></th>\n",
       "      <th></th>\n",
       "      <th></th>\n",
       "      <th></th>\n",
       "    </tr>\n",
       "  </thead>\n",
       "  <tbody>\n",
       "    <tr>\n",
       "      <th>9105</th>\n",
       "      <td>MGYP002725762103</td>\n",
       "      <td>MGYP002725762103 FL=0 CR=1</td>\n",
       "      <td>mgnify_new_009105</td>\n",
       "      <td>MGYP002725762103</td>\n",
       "      <td>1.0</td>\n",
       "      <td>root:Environmental:Aquatic:Marine</td>\n",
       "      <td>[root, Environmental, Aquatic, Marine]</td>\n",
       "    </tr>\n",
       "    <tr>\n",
       "      <th>78996</th>\n",
       "      <td>MGYP002725764543</td>\n",
       "      <td>MGYP002725764543 FL=0 CR=1</td>\n",
       "      <td>mgnify_new_078996</td>\n",
       "      <td>MGYP002725764543</td>\n",
       "      <td>1.0</td>\n",
       "      <td>root:Environmental:Aquatic:Marine</td>\n",
       "      <td>[root, Environmental, Aquatic, Marine]</td>\n",
       "    </tr>\n",
       "    <tr>\n",
       "      <th>89453</th>\n",
       "      <td>MGYP002725775134</td>\n",
       "      <td>MGYP002725775134 FL=0 CR=1</td>\n",
       "      <td>mgnify_new_089453</td>\n",
       "      <td>MGYP002725775134</td>\n",
       "      <td>1.0</td>\n",
       "      <td>root:Environmental:Aquatic:Marine</td>\n",
       "      <td>[root, Environmental, Aquatic, Marine]</td>\n",
       "    </tr>\n",
       "    <tr>\n",
       "      <th>15452</th>\n",
       "      <td>MGYP001573091426</td>\n",
       "      <td>MGYP001573091426 FL=1 CR=1</td>\n",
       "      <td>mgnify_new_015452</td>\n",
       "      <td>MGYP001573091426</td>\n",
       "      <td>1.0</td>\n",
       "      <td>root:Environmental:Aquatic:Freshwater:Groundwater</td>\n",
       "      <td>[root, Environmental, Aquatic, Freshwater, Gro...</td>\n",
       "    </tr>\n",
       "    <tr>\n",
       "      <th>17637</th>\n",
       "      <td>MGYP001573097175</td>\n",
       "      <td>MGYP001573097175 FL=1 CR=1</td>\n",
       "      <td>mgnify_new_017637</td>\n",
       "      <td>MGYP001573097175</td>\n",
       "      <td>1.0</td>\n",
       "      <td>root:Environmental:Aquatic:Marine:Oceanic</td>\n",
       "      <td>[root, Environmental, Aquatic, Marine, Oceanic]</td>\n",
       "    </tr>\n",
       "    <tr>\n",
       "      <th>...</th>\n",
       "      <td>...</td>\n",
       "      <td>...</td>\n",
       "      <td>...</td>\n",
       "      <td>...</td>\n",
       "      <td>...</td>\n",
       "      <td>...</td>\n",
       "      <td>...</td>\n",
       "    </tr>\n",
       "    <tr>\n",
       "      <th>141426</th>\n",
       "      <td>MGYP003498785539</td>\n",
       "      <td>MGYP003498785539 FL=0</td>\n",
       "      <td>mgnify_new_141426</td>\n",
       "      <td>MGYP003498785539</td>\n",
       "      <td>1.0</td>\n",
       "      <td>root:Mixed</td>\n",
       "      <td>[root, Mixed]</td>\n",
       "    </tr>\n",
       "    <tr>\n",
       "      <th>141427</th>\n",
       "      <td>MGYP003498791288</td>\n",
       "      <td>MGYP003498791288 FL=1</td>\n",
       "      <td>mgnify_new_141427</td>\n",
       "      <td>MGYP003498791288</td>\n",
       "      <td>1.0</td>\n",
       "      <td>root:Mixed</td>\n",
       "      <td>[root, Mixed]</td>\n",
       "    </tr>\n",
       "    <tr>\n",
       "      <th>152885</th>\n",
       "      <td>MGYP003498832954</td>\n",
       "      <td>MGYP003498832954 FL=0</td>\n",
       "      <td>mgnify_new_152885</td>\n",
       "      <td>MGYP003498832954</td>\n",
       "      <td>1.0</td>\n",
       "      <td>root:Mixed</td>\n",
       "      <td>[root, Mixed]</td>\n",
       "    </tr>\n",
       "    <tr>\n",
       "      <th>179014</th>\n",
       "      <td>MGYP003498769501</td>\n",
       "      <td>MGYP003498769501 FL=0</td>\n",
       "      <td>mgnify_new_179014</td>\n",
       "      <td>MGYP003498769501</td>\n",
       "      <td>1.0</td>\n",
       "      <td>root:Mixed</td>\n",
       "      <td>[root, Mixed]</td>\n",
       "    </tr>\n",
       "    <tr>\n",
       "      <th>196000</th>\n",
       "      <td>MGYP003498845096</td>\n",
       "      <td>MGYP003498845096 FL=1 CR=1</td>\n",
       "      <td>mgnify_new_196000</td>\n",
       "      <td>MGYP003498845096</td>\n",
       "      <td>1.0</td>\n",
       "      <td>root:Mixed</td>\n",
       "      <td>[root, Mixed]</td>\n",
       "    </tr>\n",
       "  </tbody>\n",
       "</table>\n",
       "<p>207952 rows × 7 columns</p>\n",
       "</div>"
      ],
      "text/plain": [
       "                   record_id          record_description             new_id  \\\n",
       "Unnamed: 0                                                                    \n",
       "9105        MGYP002725762103  MGYP002725762103 FL=0 CR=1  mgnify_new_009105   \n",
       "78996       MGYP002725764543  MGYP002725764543 FL=0 CR=1  mgnify_new_078996   \n",
       "89453       MGYP002725775134  MGYP002725775134 FL=0 CR=1  mgnify_new_089453   \n",
       "15452       MGYP001573091426  MGYP001573091426 FL=1 CR=1  mgnify_new_015452   \n",
       "17637       MGYP001573097175  MGYP001573097175 FL=1 CR=1  mgnify_new_017637   \n",
       "...                      ...                         ...                ...   \n",
       "141426      MGYP003498785539       MGYP003498785539 FL=0  mgnify_new_141426   \n",
       "141427      MGYP003498791288       MGYP003498791288 FL=1  mgnify_new_141427   \n",
       "152885      MGYP003498832954       MGYP003498832954 FL=0  mgnify_new_152885   \n",
       "179014      MGYP003498769501       MGYP003498769501 FL=0  mgnify_new_179014   \n",
       "196000      MGYP003498845096  MGYP003498845096 FL=1 CR=1  mgnify_new_196000   \n",
       "\n",
       "                          id  number  \\\n",
       "Unnamed: 0                             \n",
       "9105        MGYP002725762103     1.0   \n",
       "78996       MGYP002725764543     1.0   \n",
       "89453       MGYP002725775134     1.0   \n",
       "15452       MGYP001573091426     1.0   \n",
       "17637       MGYP001573097175     1.0   \n",
       "...                      ...     ...   \n",
       "141426      MGYP003498785539     1.0   \n",
       "141427      MGYP003498791288     1.0   \n",
       "152885      MGYP003498832954     1.0   \n",
       "179014      MGYP003498769501     1.0   \n",
       "196000      MGYP003498845096     1.0   \n",
       "\n",
       "                                                        biome  \\\n",
       "Unnamed: 0                                                      \n",
       "9105                        root:Environmental:Aquatic:Marine   \n",
       "78996                       root:Environmental:Aquatic:Marine   \n",
       "89453                       root:Environmental:Aquatic:Marine   \n",
       "15452       root:Environmental:Aquatic:Freshwater:Groundwater   \n",
       "17637               root:Environmental:Aquatic:Marine:Oceanic   \n",
       "...                                                       ...   \n",
       "141426                                             root:Mixed   \n",
       "141427                                             root:Mixed   \n",
       "152885                                             root:Mixed   \n",
       "179014                                             root:Mixed   \n",
       "196000                                             root:Mixed   \n",
       "\n",
       "                                                   biome_list  \n",
       "Unnamed: 0                                                     \n",
       "9105                   [root, Environmental, Aquatic, Marine]  \n",
       "78996                  [root, Environmental, Aquatic, Marine]  \n",
       "89453                  [root, Environmental, Aquatic, Marine]  \n",
       "15452       [root, Environmental, Aquatic, Freshwater, Gro...  \n",
       "17637         [root, Environmental, Aquatic, Marine, Oceanic]  \n",
       "...                                                       ...  \n",
       "141426                                          [root, Mixed]  \n",
       "141427                                          [root, Mixed]  \n",
       "152885                                          [root, Mixed]  \n",
       "179014                                          [root, Mixed]  \n",
       "196000                                          [root, Mixed]  \n",
       "\n",
       "[207952 rows x 7 columns]"
      ]
     },
     "execution_count": 81,
     "metadata": {},
     "output_type": "execute_result"
    }
   ],
   "source": [
    "biomes_info"
   ]
  },
  {
   "cell_type": "code",
   "execution_count": 82,
   "id": "a55436ca-70a0-4276-8439-3a9e6a1a5601",
   "metadata": {
    "tags": []
   },
   "outputs": [],
   "source": [
    "def get_level(x, level):\n",
    "    try:\n",
    "        return x['biome_list'][level]\n",
    "    except:\n",
    "        return 'unknown'"
   ]
  },
  {
   "cell_type": "code",
   "execution_count": 83,
   "id": "ae6ce114-7c7d-49b5-9584-62404a2d3acc",
   "metadata": {
    "tags": []
   },
   "outputs": [],
   "source": [
    "biomes_info['source'] = biomes_info.apply(lambda x: get_level(x, 1), axis=1)"
   ]
  },
  {
   "cell_type": "code",
   "execution_count": 84,
   "id": "880561b7-28ac-4694-9303-12fba1b7afde",
   "metadata": {
    "tags": []
   },
   "outputs": [
    {
     "data": {
      "text/plain": [
       "source\n",
       "Environmental      100408\n",
       "Host-associated     69470\n",
       "Engineered          30830\n",
       "Mixed                7223\n",
       "unknown                21\n",
       "Name: count, dtype: int64"
      ]
     },
     "execution_count": 84,
     "metadata": {},
     "output_type": "execute_result"
    }
   ],
   "source": [
    "biomes_info['source'].value_counts()"
   ]
  },
  {
   "cell_type": "code",
   "execution_count": 85,
   "id": "7bf5c44b-1204-49d3-a0f1-5bcdc483d6ad",
   "metadata": {
    "collapsed": true,
    "jupyter": {
     "outputs_hidden": true
    },
    "tags": []
   },
   "outputs": [
    {
     "data": {
      "text/html": [
       "<div>\n",
       "<style scoped>\n",
       "    .dataframe tbody tr th:only-of-type {\n",
       "        vertical-align: middle;\n",
       "    }\n",
       "\n",
       "    .dataframe tbody tr th {\n",
       "        vertical-align: top;\n",
       "    }\n",
       "\n",
       "    .dataframe thead th {\n",
       "        text-align: right;\n",
       "    }\n",
       "</style>\n",
       "<table border=\"1\" class=\"dataframe\">\n",
       "  <thead>\n",
       "    <tr style=\"text-align: right;\">\n",
       "      <th></th>\n",
       "      <th>record_id</th>\n",
       "      <th>record_description</th>\n",
       "      <th>new_id</th>\n",
       "      <th>id</th>\n",
       "      <th>number</th>\n",
       "      <th>biome</th>\n",
       "      <th>biome_list</th>\n",
       "      <th>source</th>\n",
       "    </tr>\n",
       "    <tr>\n",
       "      <th>Unnamed: 0</th>\n",
       "      <th></th>\n",
       "      <th></th>\n",
       "      <th></th>\n",
       "      <th></th>\n",
       "      <th></th>\n",
       "      <th></th>\n",
       "      <th></th>\n",
       "      <th></th>\n",
       "    </tr>\n",
       "  </thead>\n",
       "  <tbody>\n",
       "    <tr>\n",
       "      <th>57743</th>\n",
       "      <td>MGYP000951012502</td>\n",
       "      <td>MGYP000951012502 FL=0</td>\n",
       "      <td>mgnify_new_057743</td>\n",
       "      <td>MGYP000951012502</td>\n",
       "      <td>1.0</td>\n",
       "      <td>root:Host-associated:Human:Digestive system</td>\n",
       "      <td>[root, Host-associated, Human, Digestive system]</td>\n",
       "      <td>Host-associated</td>\n",
       "    </tr>\n",
       "    <tr>\n",
       "      <th>64989</th>\n",
       "      <td>MGYP000951021381</td>\n",
       "      <td>MGYP000951021381 FL=1</td>\n",
       "      <td>mgnify_new_064989</td>\n",
       "      <td>MGYP000951021381</td>\n",
       "      <td>1.0</td>\n",
       "      <td>root:Host-associated:Human:Digestive system</td>\n",
       "      <td>[root, Host-associated, Human, Digestive system]</td>\n",
       "      <td>Host-associated</td>\n",
       "    </tr>\n",
       "    <tr>\n",
       "      <th>82708</th>\n",
       "      <td>MGYP000951012983</td>\n",
       "      <td>MGYP000951012983 FL=0</td>\n",
       "      <td>mgnify_new_082708</td>\n",
       "      <td>MGYP000951012983</td>\n",
       "      <td>1.0</td>\n",
       "      <td>root:Host-associated:Human:Digestive system</td>\n",
       "      <td>[root, Host-associated, Human, Digestive system]</td>\n",
       "      <td>Host-associated</td>\n",
       "    </tr>\n",
       "    <tr>\n",
       "      <th>98966</th>\n",
       "      <td>MGYP000950927454</td>\n",
       "      <td>MGYP000950927454 FL=1</td>\n",
       "      <td>mgnify_new_098966</td>\n",
       "      <td>MGYP000950927454</td>\n",
       "      <td>1.0</td>\n",
       "      <td>root:Host-associated:Human:Digestive system</td>\n",
       "      <td>[root, Host-associated, Human, Digestive system]</td>\n",
       "      <td>Host-associated</td>\n",
       "    </tr>\n",
       "    <tr>\n",
       "      <th>101478</th>\n",
       "      <td>MGYP000950999387</td>\n",
       "      <td>MGYP000950999387 FL=1</td>\n",
       "      <td>mgnify_new_101478</td>\n",
       "      <td>MGYP000950999387</td>\n",
       "      <td>1.0</td>\n",
       "      <td>root:Host-associated:Human:Digestive system</td>\n",
       "      <td>[root, Host-associated, Human, Digestive system]</td>\n",
       "      <td>Host-associated</td>\n",
       "    </tr>\n",
       "    <tr>\n",
       "      <th>...</th>\n",
       "      <td>...</td>\n",
       "      <td>...</td>\n",
       "      <td>...</td>\n",
       "      <td>...</td>\n",
       "      <td>...</td>\n",
       "      <td>...</td>\n",
       "      <td>...</td>\n",
       "      <td>...</td>\n",
       "    </tr>\n",
       "    <tr>\n",
       "      <th>107357</th>\n",
       "      <td>MGYP000050182426</td>\n",
       "      <td>MGYP000050182426 FL=1</td>\n",
       "      <td>mgnify_new_107357</td>\n",
       "      <td>MGYP000050182426</td>\n",
       "      <td>2.0</td>\n",
       "      <td>root:Host-associated:Human:Digestive system:La...</td>\n",
       "      <td>[root, Host-associated, Human, Digestive syste...</td>\n",
       "      <td>Host-associated</td>\n",
       "    </tr>\n",
       "    <tr>\n",
       "      <th>107357</th>\n",
       "      <td>MGYP000050182426</td>\n",
       "      <td>MGYP000050182426 FL=1</td>\n",
       "      <td>mgnify_new_107357</td>\n",
       "      <td>MGYP000050182426</td>\n",
       "      <td>1.0</td>\n",
       "      <td>root:Host-associated:Human:Digestive system:La...</td>\n",
       "      <td>[root, Host-associated, Human, Digestive syste...</td>\n",
       "      <td>Host-associated</td>\n",
       "    </tr>\n",
       "    <tr>\n",
       "      <th>117179</th>\n",
       "      <td>MGYP000050271030</td>\n",
       "      <td>MGYP000050271030 FL=1</td>\n",
       "      <td>mgnify_new_117179</td>\n",
       "      <td>MGYP000050271030</td>\n",
       "      <td>3.0</td>\n",
       "      <td>root:Host-associated:Human</td>\n",
       "      <td>[root, Host-associated, Human]</td>\n",
       "      <td>Host-associated</td>\n",
       "    </tr>\n",
       "    <tr>\n",
       "      <th>117179</th>\n",
       "      <td>MGYP000050271030</td>\n",
       "      <td>MGYP000050271030 FL=1</td>\n",
       "      <td>mgnify_new_117179</td>\n",
       "      <td>MGYP000050271030</td>\n",
       "      <td>1.0</td>\n",
       "      <td>root:Host-associated:Human:Digestive system:La...</td>\n",
       "      <td>[root, Host-associated, Human, Digestive syste...</td>\n",
       "      <td>Host-associated</td>\n",
       "    </tr>\n",
       "    <tr>\n",
       "      <th>117179</th>\n",
       "      <td>MGYP000050271030</td>\n",
       "      <td>MGYP000050271030 FL=1</td>\n",
       "      <td>mgnify_new_117179</td>\n",
       "      <td>MGYP000050271030</td>\n",
       "      <td>2.0</td>\n",
       "      <td>root:Host-associated:Human:Digestive system:La...</td>\n",
       "      <td>[root, Host-associated, Human, Digestive syste...</td>\n",
       "      <td>Host-associated</td>\n",
       "    </tr>\n",
       "  </tbody>\n",
       "</table>\n",
       "<p>69470 rows × 8 columns</p>\n",
       "</div>"
      ],
      "text/plain": [
       "                   record_id     record_description             new_id  \\\n",
       "Unnamed: 0                                                               \n",
       "57743       MGYP000951012502  MGYP000951012502 FL=0  mgnify_new_057743   \n",
       "64989       MGYP000951021381  MGYP000951021381 FL=1  mgnify_new_064989   \n",
       "82708       MGYP000951012983  MGYP000951012983 FL=0  mgnify_new_082708   \n",
       "98966       MGYP000950927454  MGYP000950927454 FL=1  mgnify_new_098966   \n",
       "101478      MGYP000950999387  MGYP000950999387 FL=1  mgnify_new_101478   \n",
       "...                      ...                    ...                ...   \n",
       "107357      MGYP000050182426  MGYP000050182426 FL=1  mgnify_new_107357   \n",
       "107357      MGYP000050182426  MGYP000050182426 FL=1  mgnify_new_107357   \n",
       "117179      MGYP000050271030  MGYP000050271030 FL=1  mgnify_new_117179   \n",
       "117179      MGYP000050271030  MGYP000050271030 FL=1  mgnify_new_117179   \n",
       "117179      MGYP000050271030  MGYP000050271030 FL=1  mgnify_new_117179   \n",
       "\n",
       "                          id  number  \\\n",
       "Unnamed: 0                             \n",
       "57743       MGYP000951012502     1.0   \n",
       "64989       MGYP000951021381     1.0   \n",
       "82708       MGYP000951012983     1.0   \n",
       "98966       MGYP000950927454     1.0   \n",
       "101478      MGYP000950999387     1.0   \n",
       "...                      ...     ...   \n",
       "107357      MGYP000050182426     2.0   \n",
       "107357      MGYP000050182426     1.0   \n",
       "117179      MGYP000050271030     3.0   \n",
       "117179      MGYP000050271030     1.0   \n",
       "117179      MGYP000050271030     2.0   \n",
       "\n",
       "                                                        biome  \\\n",
       "Unnamed: 0                                                      \n",
       "57743             root:Host-associated:Human:Digestive system   \n",
       "64989             root:Host-associated:Human:Digestive system   \n",
       "82708             root:Host-associated:Human:Digestive system   \n",
       "98966             root:Host-associated:Human:Digestive system   \n",
       "101478            root:Host-associated:Human:Digestive system   \n",
       "...                                                       ...   \n",
       "107357      root:Host-associated:Human:Digestive system:La...   \n",
       "107357      root:Host-associated:Human:Digestive system:La...   \n",
       "117179                             root:Host-associated:Human   \n",
       "117179      root:Host-associated:Human:Digestive system:La...   \n",
       "117179      root:Host-associated:Human:Digestive system:La...   \n",
       "\n",
       "                                                   biome_list           source  \n",
       "Unnamed: 0                                                                      \n",
       "57743        [root, Host-associated, Human, Digestive system]  Host-associated  \n",
       "64989        [root, Host-associated, Human, Digestive system]  Host-associated  \n",
       "82708        [root, Host-associated, Human, Digestive system]  Host-associated  \n",
       "98966        [root, Host-associated, Human, Digestive system]  Host-associated  \n",
       "101478       [root, Host-associated, Human, Digestive system]  Host-associated  \n",
       "...                                                       ...              ...  \n",
       "107357      [root, Host-associated, Human, Digestive syste...  Host-associated  \n",
       "107357      [root, Host-associated, Human, Digestive syste...  Host-associated  \n",
       "117179                         [root, Host-associated, Human]  Host-associated  \n",
       "117179      [root, Host-associated, Human, Digestive syste...  Host-associated  \n",
       "117179      [root, Host-associated, Human, Digestive syste...  Host-associated  \n",
       "\n",
       "[69470 rows x 8 columns]"
      ]
     },
     "execution_count": 85,
     "metadata": {},
     "output_type": "execute_result"
    }
   ],
   "source": [
    "biomes_info[biomes_info['source'] == 'Host-associated']"
   ]
  },
  {
   "cell_type": "code",
   "execution_count": 86,
   "id": "428512bb-099b-4a84-92ce-c6808e499138",
   "metadata": {
    "tags": []
   },
   "outputs": [],
   "source": [
    "biomes_info['type_or_host'] = biomes_info.apply(lambda x: get_level(x, 2), axis=1)"
   ]
  },
  {
   "cell_type": "code",
   "execution_count": 87,
   "id": "0d9cf944-09ab-4837-ae51-1b5fabe98a17",
   "metadata": {
    "tags": []
   },
   "outputs": [
    {
     "data": {
      "text/plain": [
       "type_or_host\n",
       "Aquatic              98328\n",
       "Human                58375\n",
       "Wastewater           13812\n",
       "Bioreactor            7982\n",
       "unknown               7580\n",
       "Mammals               7352\n",
       "Bioremediation        3373\n",
       "Terrestrial           2074\n",
       "Food production       2067\n",
       "Plants                1948\n",
       "Solid waste           1337\n",
       "Biogas plant          1335\n",
       "Birds                 1127\n",
       "Algae                  549\n",
       "Lab enrichment         440\n",
       "Built environment      108\n",
       "Invertebrates           35\n",
       "Modeled                 34\n",
       "Microbial               33\n",
       "Arthropoda              27\n",
       "Mollusca                13\n",
       "Insecta                 11\n",
       "Air                      6\n",
       "Lab Synthesis            6\n",
       "Name: count, dtype: int64"
      ]
     },
     "execution_count": 87,
     "metadata": {},
     "output_type": "execute_result"
    }
   ],
   "source": [
    "biomes_info['type_or_host'].value_counts()"
   ]
  },
  {
   "cell_type": "code",
   "execution_count": 36,
   "id": "9b276ae6-23cc-4932-9bac-ab153a9581a2",
   "metadata": {
    "tags": []
   },
   "outputs": [
    {
     "data": {
      "text/plain": [
       "Index(['record_id', 'record_description', 'new_id', 'id', 'number', 'biome',\n",
       "       'biome_list', 'source', 'type_or_host'],\n",
       "      dtype='object')"
      ]
     },
     "execution_count": 36,
     "metadata": {},
     "output_type": "execute_result"
    }
   ],
   "source": [
    "biomes_info.columns"
   ]
  },
  {
   "cell_type": "code",
   "execution_count": 88,
   "id": "8d08794e-671e-4e96-ac8a-f3ac371ded72",
   "metadata": {
    "tags": []
   },
   "outputs": [
    {
     "data": {
      "text/plain": [
       "207952"
      ]
     },
     "execution_count": 88,
     "metadata": {},
     "output_type": "execute_result"
    }
   ],
   "source": [
    "biomes_info[['record_id', 'record_description', 'new_id','source', 'type_or_host']].shape[0]"
   ]
  },
  {
   "cell_type": "code",
   "execution_count": 89,
   "id": "b370155a-e98d-4671-b85d-622d12426892",
   "metadata": {
    "tags": []
   },
   "outputs": [],
   "source": [
    "biomes_info_reduced = biomes_info[['record_id', 'record_description', 'new_id','biome','source', 'type_or_host']].drop_duplicates()"
   ]
  },
  {
   "cell_type": "code",
   "execution_count": 90,
   "id": "5c324a31-e246-4745-b4e3-aedd0ae02160",
   "metadata": {
    "tags": []
   },
   "outputs": [
    {
     "data": {
      "text/html": [
       "<div>\n",
       "<style scoped>\n",
       "    .dataframe tbody tr th:only-of-type {\n",
       "        vertical-align: middle;\n",
       "    }\n",
       "\n",
       "    .dataframe tbody tr th {\n",
       "        vertical-align: top;\n",
       "    }\n",
       "\n",
       "    .dataframe thead th {\n",
       "        text-align: right;\n",
       "    }\n",
       "</style>\n",
       "<table border=\"1\" class=\"dataframe\">\n",
       "  <thead>\n",
       "    <tr style=\"text-align: right;\">\n",
       "      <th></th>\n",
       "      <th>record_id</th>\n",
       "      <th>record_description</th>\n",
       "      <th>new_id</th>\n",
       "      <th>biome</th>\n",
       "      <th>source</th>\n",
       "      <th>type_or_host</th>\n",
       "    </tr>\n",
       "    <tr>\n",
       "      <th>Unnamed: 0</th>\n",
       "      <th></th>\n",
       "      <th></th>\n",
       "      <th></th>\n",
       "      <th></th>\n",
       "      <th></th>\n",
       "      <th></th>\n",
       "    </tr>\n",
       "  </thead>\n",
       "  <tbody>\n",
       "    <tr>\n",
       "      <th>9105</th>\n",
       "      <td>MGYP002725762103</td>\n",
       "      <td>MGYP002725762103 FL=0 CR=1</td>\n",
       "      <td>mgnify_new_009105</td>\n",
       "      <td>root:Environmental:Aquatic:Marine</td>\n",
       "      <td>Environmental</td>\n",
       "      <td>Aquatic</td>\n",
       "    </tr>\n",
       "    <tr>\n",
       "      <th>78996</th>\n",
       "      <td>MGYP002725764543</td>\n",
       "      <td>MGYP002725764543 FL=0 CR=1</td>\n",
       "      <td>mgnify_new_078996</td>\n",
       "      <td>root:Environmental:Aquatic:Marine</td>\n",
       "      <td>Environmental</td>\n",
       "      <td>Aquatic</td>\n",
       "    </tr>\n",
       "    <tr>\n",
       "      <th>89453</th>\n",
       "      <td>MGYP002725775134</td>\n",
       "      <td>MGYP002725775134 FL=0 CR=1</td>\n",
       "      <td>mgnify_new_089453</td>\n",
       "      <td>root:Environmental:Aquatic:Marine</td>\n",
       "      <td>Environmental</td>\n",
       "      <td>Aquatic</td>\n",
       "    </tr>\n",
       "    <tr>\n",
       "      <th>15452</th>\n",
       "      <td>MGYP001573091426</td>\n",
       "      <td>MGYP001573091426 FL=1 CR=1</td>\n",
       "      <td>mgnify_new_015452</td>\n",
       "      <td>root:Environmental:Aquatic:Freshwater:Groundwater</td>\n",
       "      <td>Environmental</td>\n",
       "      <td>Aquatic</td>\n",
       "    </tr>\n",
       "    <tr>\n",
       "      <th>17637</th>\n",
       "      <td>MGYP001573097175</td>\n",
       "      <td>MGYP001573097175 FL=1 CR=1</td>\n",
       "      <td>mgnify_new_017637</td>\n",
       "      <td>root:Environmental:Aquatic:Marine:Oceanic</td>\n",
       "      <td>Environmental</td>\n",
       "      <td>Aquatic</td>\n",
       "    </tr>\n",
       "    <tr>\n",
       "      <th>...</th>\n",
       "      <td>...</td>\n",
       "      <td>...</td>\n",
       "      <td>...</td>\n",
       "      <td>...</td>\n",
       "      <td>...</td>\n",
       "      <td>...</td>\n",
       "    </tr>\n",
       "    <tr>\n",
       "      <th>141426</th>\n",
       "      <td>MGYP003498785539</td>\n",
       "      <td>MGYP003498785539 FL=0</td>\n",
       "      <td>mgnify_new_141426</td>\n",
       "      <td>root:Mixed</td>\n",
       "      <td>Mixed</td>\n",
       "      <td>unknown</td>\n",
       "    </tr>\n",
       "    <tr>\n",
       "      <th>141427</th>\n",
       "      <td>MGYP003498791288</td>\n",
       "      <td>MGYP003498791288 FL=1</td>\n",
       "      <td>mgnify_new_141427</td>\n",
       "      <td>root:Mixed</td>\n",
       "      <td>Mixed</td>\n",
       "      <td>unknown</td>\n",
       "    </tr>\n",
       "    <tr>\n",
       "      <th>152885</th>\n",
       "      <td>MGYP003498832954</td>\n",
       "      <td>MGYP003498832954 FL=0</td>\n",
       "      <td>mgnify_new_152885</td>\n",
       "      <td>root:Mixed</td>\n",
       "      <td>Mixed</td>\n",
       "      <td>unknown</td>\n",
       "    </tr>\n",
       "    <tr>\n",
       "      <th>179014</th>\n",
       "      <td>MGYP003498769501</td>\n",
       "      <td>MGYP003498769501 FL=0</td>\n",
       "      <td>mgnify_new_179014</td>\n",
       "      <td>root:Mixed</td>\n",
       "      <td>Mixed</td>\n",
       "      <td>unknown</td>\n",
       "    </tr>\n",
       "    <tr>\n",
       "      <th>196000</th>\n",
       "      <td>MGYP003498845096</td>\n",
       "      <td>MGYP003498845096 FL=1 CR=1</td>\n",
       "      <td>mgnify_new_196000</td>\n",
       "      <td>root:Mixed</td>\n",
       "      <td>Mixed</td>\n",
       "      <td>unknown</td>\n",
       "    </tr>\n",
       "  </tbody>\n",
       "</table>\n",
       "<p>207952 rows × 6 columns</p>\n",
       "</div>"
      ],
      "text/plain": [
       "                   record_id          record_description             new_id  \\\n",
       "Unnamed: 0                                                                    \n",
       "9105        MGYP002725762103  MGYP002725762103 FL=0 CR=1  mgnify_new_009105   \n",
       "78996       MGYP002725764543  MGYP002725764543 FL=0 CR=1  mgnify_new_078996   \n",
       "89453       MGYP002725775134  MGYP002725775134 FL=0 CR=1  mgnify_new_089453   \n",
       "15452       MGYP001573091426  MGYP001573091426 FL=1 CR=1  mgnify_new_015452   \n",
       "17637       MGYP001573097175  MGYP001573097175 FL=1 CR=1  mgnify_new_017637   \n",
       "...                      ...                         ...                ...   \n",
       "141426      MGYP003498785539       MGYP003498785539 FL=0  mgnify_new_141426   \n",
       "141427      MGYP003498791288       MGYP003498791288 FL=1  mgnify_new_141427   \n",
       "152885      MGYP003498832954       MGYP003498832954 FL=0  mgnify_new_152885   \n",
       "179014      MGYP003498769501       MGYP003498769501 FL=0  mgnify_new_179014   \n",
       "196000      MGYP003498845096  MGYP003498845096 FL=1 CR=1  mgnify_new_196000   \n",
       "\n",
       "                                                        biome         source  \\\n",
       "Unnamed: 0                                                                     \n",
       "9105                        root:Environmental:Aquatic:Marine  Environmental   \n",
       "78996                       root:Environmental:Aquatic:Marine  Environmental   \n",
       "89453                       root:Environmental:Aquatic:Marine  Environmental   \n",
       "15452       root:Environmental:Aquatic:Freshwater:Groundwater  Environmental   \n",
       "17637               root:Environmental:Aquatic:Marine:Oceanic  Environmental   \n",
       "...                                                       ...            ...   \n",
       "141426                                             root:Mixed          Mixed   \n",
       "141427                                             root:Mixed          Mixed   \n",
       "152885                                             root:Mixed          Mixed   \n",
       "179014                                             root:Mixed          Mixed   \n",
       "196000                                             root:Mixed          Mixed   \n",
       "\n",
       "           type_or_host  \n",
       "Unnamed: 0               \n",
       "9105            Aquatic  \n",
       "78996           Aquatic  \n",
       "89453           Aquatic  \n",
       "15452           Aquatic  \n",
       "17637           Aquatic  \n",
       "...                 ...  \n",
       "141426          unknown  \n",
       "141427          unknown  \n",
       "152885          unknown  \n",
       "179014          unknown  \n",
       "196000          unknown  \n",
       "\n",
       "[207952 rows x 6 columns]"
      ]
     },
     "execution_count": 90,
     "metadata": {},
     "output_type": "execute_result"
    }
   ],
   "source": [
    "biomes_info_reduced"
   ]
  },
  {
   "cell_type": "code",
   "execution_count": 52,
   "id": "fe2f4654-d587-48aa-a192-e1b75a2af576",
   "metadata": {
    "collapsed": true,
    "jupyter": {
     "outputs_hidden": true
    },
    "tags": []
   },
   "outputs": [
    {
     "data": {
      "text/plain": [
       "record_id\n",
       "MGYP000371549065    11\n",
       "MGYP000725395332     8\n",
       "MGYP000353910527     7\n",
       "MGYP000551423224     7\n",
       "MGYP000293256693     7\n",
       "MGYP000645791045     7\n",
       "MGYP000657580898     6\n",
       "MGYP000002955218     6\n",
       "MGYP000106494607     6\n",
       "MGYP000364023379     6\n",
       "MGYP000077995009     6\n",
       "MGYP000619667873     6\n",
       "MGYP000560279969     6\n",
       "MGYP000548476916     6\n",
       "MGYP000636948697     6\n",
       "MGYP000138602529     6\n",
       "MGYP000228131274     6\n",
       "MGYP000572067002     6\n",
       "MGYP000062219030     6\n",
       "MGYP000526197654     6\n",
       "MGYP000583860182     6\n",
       "MGYP000521989815     5\n",
       "MGYP000752203723     5\n",
       "MGYP000424621640     5\n",
       "MGYP000524882678     5\n",
       "MGYP000448220018     5\n",
       "MGYP000115009662     5\n",
       "MGYP000050140850     5\n",
       "MGYP000194675191     5\n",
       "MGYP000713649849     5\n",
       "MGYP000740205289     5\n",
       "MGYP000203457462     5\n",
       "MGYP000412833531     5\n",
       "MGYP000032456354     5\n",
       "MGYP000575021832     5\n",
       "MGYP000194618179     5\n",
       "MGYP000740147079     5\n",
       "MGYP000533734656     5\n",
       "MGYP000235916815     5\n",
       "MGYP000663482440     5\n",
       "MGYP000106161584     5\n",
       "MGYP000496713130     5\n",
       "MGYP000595768151     5\n",
       "MGYP000189295964     5\n",
       "MGYP000704768706     5\n",
       "MGYP000678235513     5\n",
       "MGYP000106507087     5\n",
       "MGYP000377452288     5\n",
       "MGYP000740146151     5\n",
       "MGYP000298146740     5\n",
       "Name: count, dtype: int64"
      ]
     },
     "execution_count": 52,
     "metadata": {},
     "output_type": "execute_result"
    }
   ],
   "source": [
    "biomes_info_reduced['record_id'].value_counts().head(50)"
   ]
  },
  {
   "cell_type": "code",
   "execution_count": 91,
   "id": "b8f3de1a-882d-4d59-9911-a669f3ed2077",
   "metadata": {
    "tags": []
   },
   "outputs": [],
   "source": [
    "biomes_info_reduced_uniq = biomes_info_reduced.groupby('record_id').agg(lambda x: ', '.join(set(x))).reset_index()"
   ]
  },
  {
   "cell_type": "code",
   "execution_count": 57,
   "id": "198d5d64-8054-4912-8b74-dbe844a336b1",
   "metadata": {
    "tags": []
   },
   "outputs": [
    {
     "data": {
      "text/plain": [
       "['unknown, Mixed, Host-associated, Engineered, Environmental']"
      ]
     },
     "execution_count": 57,
     "metadata": {},
     "output_type": "execute_result"
    }
   ],
   "source": [
    "biomes_info_reduced_uniq[biomes_info_reduced_uniq['record_id'] == 'MGYP000371549065']['source'].tolist()"
   ]
  },
  {
   "cell_type": "code",
   "execution_count": 58,
   "id": "d9398ec0-572d-4491-ba7b-a8f8be8314c7",
   "metadata": {
    "tags": []
   },
   "outputs": [
    {
     "data": {
      "text/plain": [
       "['Wastewater, unknown, Modeled, Human, Food production, Mammals, Birds, Aquatic, Terrestrial, Solid waste']"
      ]
     },
     "execution_count": 58,
     "metadata": {},
     "output_type": "execute_result"
    }
   ],
   "source": [
    "biomes_info_reduced_uniq[biomes_info_reduced_uniq['record_id'] == 'MGYP000371549065']['type_or_host'].tolist()"
   ]
  },
  {
   "cell_type": "markdown",
   "id": "be9da2e8-2fbf-42b3-ba69-7692e953e5a8",
   "metadata": {},
   "source": [
    "## Add entries for which biomes annotation was not found"
   ]
  },
  {
   "cell_type": "code",
   "execution_count": 92,
   "id": "6bec79bb-28b1-401c-a15e-7c90d0c4a002",
   "metadata": {
    "tags": []
   },
   "outputs": [
    {
     "data": {
      "text/plain": [
       "210971"
      ]
     },
     "execution_count": 92,
     "metadata": {},
     "output_type": "execute_result"
    }
   ],
   "source": [
    "len(mapping['record_id'].tolist())"
   ]
  },
  {
   "cell_type": "code",
   "execution_count": 93,
   "id": "0c357f46-d7ad-4072-8b48-b8a37f19cb26",
   "metadata": {
    "tags": []
   },
   "outputs": [],
   "source": [
    "mgnify_anno_df = mapping.merge(biomes_info_reduced_uniq, how='left', on=['record_id', 'record_description', 'new_id'])"
   ]
  },
  {
   "cell_type": "code",
   "execution_count": 94,
   "id": "bb78439a-f54f-40de-8a3f-4f41c5b904ad",
   "metadata": {
    "tags": []
   },
   "outputs": [
    {
     "data": {
      "text/html": [
       "<div>\n",
       "<style scoped>\n",
       "    .dataframe tbody tr th:only-of-type {\n",
       "        vertical-align: middle;\n",
       "    }\n",
       "\n",
       "    .dataframe tbody tr th {\n",
       "        vertical-align: top;\n",
       "    }\n",
       "\n",
       "    .dataframe thead th {\n",
       "        text-align: right;\n",
       "    }\n",
       "</style>\n",
       "<table border=\"1\" class=\"dataframe\">\n",
       "  <thead>\n",
       "    <tr style=\"text-align: right;\">\n",
       "      <th></th>\n",
       "      <th>record_id</th>\n",
       "      <th>record_description</th>\n",
       "      <th>new_id</th>\n",
       "      <th>biome</th>\n",
       "      <th>source</th>\n",
       "      <th>type_or_host</th>\n",
       "    </tr>\n",
       "  </thead>\n",
       "  <tbody>\n",
       "    <tr>\n",
       "      <th>0</th>\n",
       "      <td>MGYP000017370639</td>\n",
       "      <td>MGYP000017370639 CR=1</td>\n",
       "      <td>mgnify_new_000000</td>\n",
       "      <td>root:Host-associated:Algae:Red algae</td>\n",
       "      <td>Host-associated</td>\n",
       "      <td>Algae</td>\n",
       "    </tr>\n",
       "    <tr>\n",
       "      <th>1</th>\n",
       "      <td>MGYP000141687144</td>\n",
       "      <td>MGYP000141687144 FL=1</td>\n",
       "      <td>mgnify_new_000001</td>\n",
       "      <td>root:Host-associated:Human</td>\n",
       "      <td>Host-associated</td>\n",
       "      <td>Human</td>\n",
       "    </tr>\n",
       "    <tr>\n",
       "      <th>2</th>\n",
       "      <td>MGYP000201096298</td>\n",
       "      <td>MGYP000201096298 FL=0</td>\n",
       "      <td>mgnify_new_000002</td>\n",
       "      <td>root:Host-associated:Human:Digestive system:La...</td>\n",
       "      <td>Host-associated</td>\n",
       "      <td>Human</td>\n",
       "    </tr>\n",
       "    <tr>\n",
       "      <th>3</th>\n",
       "      <td>MGYP000239944854</td>\n",
       "      <td>MGYP000239944854 FL=0</td>\n",
       "      <td>mgnify_new_000003</td>\n",
       "      <td>root:Host-associated:Human:Digestive system:La...</td>\n",
       "      <td>Host-associated</td>\n",
       "      <td>Human</td>\n",
       "    </tr>\n",
       "    <tr>\n",
       "      <th>4</th>\n",
       "      <td>MGYP002770020956</td>\n",
       "      <td>MGYP002770020956 FL=1</td>\n",
       "      <td>mgnify_new_000004</td>\n",
       "      <td>root:Host-associated:Human:Digestive system:La...</td>\n",
       "      <td>Host-associated</td>\n",
       "      <td>Human</td>\n",
       "    </tr>\n",
       "    <tr>\n",
       "      <th>...</th>\n",
       "      <td>...</td>\n",
       "      <td>...</td>\n",
       "      <td>...</td>\n",
       "      <td>...</td>\n",
       "      <td>...</td>\n",
       "      <td>...</td>\n",
       "    </tr>\n",
       "    <tr>\n",
       "      <th>210966</th>\n",
       "      <td>MGYP002635398857</td>\n",
       "      <td>MGYP002635398857 FL=1</td>\n",
       "      <td>mgnify_new_210966</td>\n",
       "      <td>root:Environmental:Aquatic:Marine:Oceanic</td>\n",
       "      <td>Environmental</td>\n",
       "      <td>Aquatic</td>\n",
       "    </tr>\n",
       "    <tr>\n",
       "      <th>210967</th>\n",
       "      <td>MGYP001077638744</td>\n",
       "      <td>MGYP001077638744 FL=1</td>\n",
       "      <td>mgnify_new_210967</td>\n",
       "      <td>root:Environmental:Aquatic:Marine</td>\n",
       "      <td>Environmental</td>\n",
       "      <td>Aquatic</td>\n",
       "    </tr>\n",
       "    <tr>\n",
       "      <th>210968</th>\n",
       "      <td>MGYP001403011521</td>\n",
       "      <td>MGYP001403011521 FL=1 CR=1</td>\n",
       "      <td>mgnify_new_210968</td>\n",
       "      <td>root:Environmental:Aquatic:Freshwater:Lotic:Se...</td>\n",
       "      <td>Environmental</td>\n",
       "      <td>Aquatic</td>\n",
       "    </tr>\n",
       "    <tr>\n",
       "      <th>210969</th>\n",
       "      <td>MGYP001403025022</td>\n",
       "      <td>MGYP001403025022 FL=1 CR=1</td>\n",
       "      <td>mgnify_new_210969</td>\n",
       "      <td>root:Engineered:Wastewater:Activated Sludge</td>\n",
       "      <td>Engineered</td>\n",
       "      <td>Wastewater</td>\n",
       "    </tr>\n",
       "    <tr>\n",
       "      <th>210970</th>\n",
       "      <td>MGYP003382292971</td>\n",
       "      <td>MGYP003382292971 FL=1</td>\n",
       "      <td>mgnify_new_210970</td>\n",
       "      <td>root:Engineered:Wastewater:Nutrient removal:Bi...</td>\n",
       "      <td>Engineered</td>\n",
       "      <td>Wastewater</td>\n",
       "    </tr>\n",
       "  </tbody>\n",
       "</table>\n",
       "<p>210971 rows × 6 columns</p>\n",
       "</div>"
      ],
      "text/plain": [
       "               record_id          record_description             new_id  \\\n",
       "0       MGYP000017370639       MGYP000017370639 CR=1  mgnify_new_000000   \n",
       "1       MGYP000141687144       MGYP000141687144 FL=1  mgnify_new_000001   \n",
       "2       MGYP000201096298       MGYP000201096298 FL=0  mgnify_new_000002   \n",
       "3       MGYP000239944854       MGYP000239944854 FL=0  mgnify_new_000003   \n",
       "4       MGYP002770020956       MGYP002770020956 FL=1  mgnify_new_000004   \n",
       "...                  ...                         ...                ...   \n",
       "210966  MGYP002635398857       MGYP002635398857 FL=1  mgnify_new_210966   \n",
       "210967  MGYP001077638744       MGYP001077638744 FL=1  mgnify_new_210967   \n",
       "210968  MGYP001403011521  MGYP001403011521 FL=1 CR=1  mgnify_new_210968   \n",
       "210969  MGYP001403025022  MGYP001403025022 FL=1 CR=1  mgnify_new_210969   \n",
       "210970  MGYP003382292971       MGYP003382292971 FL=1  mgnify_new_210970   \n",
       "\n",
       "                                                    biome           source  \\\n",
       "0                    root:Host-associated:Algae:Red algae  Host-associated   \n",
       "1                              root:Host-associated:Human  Host-associated   \n",
       "2       root:Host-associated:Human:Digestive system:La...  Host-associated   \n",
       "3       root:Host-associated:Human:Digestive system:La...  Host-associated   \n",
       "4       root:Host-associated:Human:Digestive system:La...  Host-associated   \n",
       "...                                                   ...              ...   \n",
       "210966          root:Environmental:Aquatic:Marine:Oceanic    Environmental   \n",
       "210967                  root:Environmental:Aquatic:Marine    Environmental   \n",
       "210968  root:Environmental:Aquatic:Freshwater:Lotic:Se...    Environmental   \n",
       "210969        root:Engineered:Wastewater:Activated Sludge       Engineered   \n",
       "210970  root:Engineered:Wastewater:Nutrient removal:Bi...       Engineered   \n",
       "\n",
       "       type_or_host  \n",
       "0             Algae  \n",
       "1             Human  \n",
       "2             Human  \n",
       "3             Human  \n",
       "4             Human  \n",
       "...             ...  \n",
       "210966      Aquatic  \n",
       "210967      Aquatic  \n",
       "210968      Aquatic  \n",
       "210969   Wastewater  \n",
       "210970   Wastewater  \n",
       "\n",
       "[210971 rows x 6 columns]"
      ]
     },
     "execution_count": 94,
     "metadata": {},
     "output_type": "execute_result"
    }
   ],
   "source": [
    "mgnify_anno_df"
   ]
  },
  {
   "cell_type": "code",
   "execution_count": 95,
   "id": "e7e276c4-87c2-491a-9e5a-cdaa426b44dd",
   "metadata": {
    "tags": []
   },
   "outputs": [
    {
     "data": {
      "text/plain": [
       "source\n",
       "Environmental                                                 93621\n",
       "Host-associated                                               56829\n",
       "Engineered                                                    27248\n",
       "Mixed                                                          6488\n",
       "Host-associated, Mixed                                          363\n",
       "Host-associated, Engineered                                     316\n",
       "Environmental, Engineered                                       305\n",
       "Mixed, Engineered                                               260\n",
       "Host-associated, Environmental                                   69\n",
       "Host-associated, Mixed, Engineered                               65\n",
       "Host-associated, Environmental, Engineered                       28\n",
       "Mixed, Environmental, Engineered                                 15\n",
       "Host-associated, Mixed, Environmental, Engineered                14\n",
       "Mixed, Environmental                                              8\n",
       "unknown, Host-associated                                          7\n",
       "unknown                                                           7\n",
       "Host-associated, Mixed, Environmental                             5\n",
       "unknown, Mixed, Host-associated, Engineered                       3\n",
       "unknown, Mixed, Host-associated, Engineered, Environmental        2\n",
       "unknown, Host-associated, Engineered                              2\n",
       "Name: count, dtype: int64"
      ]
     },
     "execution_count": 95,
     "metadata": {},
     "output_type": "execute_result"
    }
   ],
   "source": [
    "mgnify_anno_df['source'].value_counts()"
   ]
  },
  {
   "cell_type": "code",
   "execution_count": 96,
   "id": "f8a1e62d-7897-4533-8d73-d84d3dba3dc9",
   "metadata": {
    "tags": []
   },
   "outputs": [
    {
     "data": {
      "text/html": [
       "<div>\n",
       "<style scoped>\n",
       "    .dataframe tbody tr th:only-of-type {\n",
       "        vertical-align: middle;\n",
       "    }\n",
       "\n",
       "    .dataframe tbody tr th {\n",
       "        vertical-align: top;\n",
       "    }\n",
       "\n",
       "    .dataframe thead th {\n",
       "        text-align: right;\n",
       "    }\n",
       "</style>\n",
       "<table border=\"1\" class=\"dataframe\">\n",
       "  <thead>\n",
       "    <tr style=\"text-align: right;\">\n",
       "      <th></th>\n",
       "      <th>record_id</th>\n",
       "      <th>record_description</th>\n",
       "      <th>new_id</th>\n",
       "      <th>biome</th>\n",
       "      <th>source</th>\n",
       "      <th>type_or_host</th>\n",
       "    </tr>\n",
       "  </thead>\n",
       "  <tbody>\n",
       "    <tr>\n",
       "      <th>57</th>\n",
       "      <td>MGYP000127063761</td>\n",
       "      <td>MGYP000127063761 CR=1</td>\n",
       "      <td>mgnify_new_000057</td>\n",
       "      <td>NaN</td>\n",
       "      <td>NaN</td>\n",
       "      <td>NaN</td>\n",
       "    </tr>\n",
       "    <tr>\n",
       "      <th>84</th>\n",
       "      <td>MGYP000660479664</td>\n",
       "      <td>MGYP000660479664 CR=1</td>\n",
       "      <td>mgnify_new_000084</td>\n",
       "      <td>NaN</td>\n",
       "      <td>NaN</td>\n",
       "      <td>NaN</td>\n",
       "    </tr>\n",
       "    <tr>\n",
       "      <th>107</th>\n",
       "      <td>MGYP000861196427</td>\n",
       "      <td>MGYP000861196427 CR=1</td>\n",
       "      <td>mgnify_new_000107</td>\n",
       "      <td>NaN</td>\n",
       "      <td>NaN</td>\n",
       "      <td>NaN</td>\n",
       "    </tr>\n",
       "    <tr>\n",
       "      <th>130</th>\n",
       "      <td>MGYP000931411295</td>\n",
       "      <td>MGYP000931411295 CR=1</td>\n",
       "      <td>mgnify_new_000130</td>\n",
       "      <td>NaN</td>\n",
       "      <td>NaN</td>\n",
       "      <td>NaN</td>\n",
       "    </tr>\n",
       "    <tr>\n",
       "      <th>139</th>\n",
       "      <td>MGYP000958935768</td>\n",
       "      <td>MGYP000958935768 CR=1</td>\n",
       "      <td>mgnify_new_000139</td>\n",
       "      <td>NaN</td>\n",
       "      <td>NaN</td>\n",
       "      <td>NaN</td>\n",
       "    </tr>\n",
       "    <tr>\n",
       "      <th>...</th>\n",
       "      <td>...</td>\n",
       "      <td>...</td>\n",
       "      <td>...</td>\n",
       "      <td>...</td>\n",
       "      <td>...</td>\n",
       "      <td>...</td>\n",
       "    </tr>\n",
       "    <tr>\n",
       "      <th>210896</th>\n",
       "      <td>MGYP001456634558</td>\n",
       "      <td>MGYP001456634558</td>\n",
       "      <td>mgnify_new_210896</td>\n",
       "      <td>NaN</td>\n",
       "      <td>NaN</td>\n",
       "      <td>NaN</td>\n",
       "    </tr>\n",
       "    <tr>\n",
       "      <th>210908</th>\n",
       "      <td>MGYP001161015158</td>\n",
       "      <td>MGYP001161015158</td>\n",
       "      <td>mgnify_new_210908</td>\n",
       "      <td>NaN</td>\n",
       "      <td>NaN</td>\n",
       "      <td>NaN</td>\n",
       "    </tr>\n",
       "    <tr>\n",
       "      <th>210930</th>\n",
       "      <td>MGYP001158975212</td>\n",
       "      <td>MGYP001158975212</td>\n",
       "      <td>mgnify_new_210930</td>\n",
       "      <td>NaN</td>\n",
       "      <td>NaN</td>\n",
       "      <td>NaN</td>\n",
       "    </tr>\n",
       "    <tr>\n",
       "      <th>210932</th>\n",
       "      <td>MGYP001065940572</td>\n",
       "      <td>MGYP001065940572</td>\n",
       "      <td>mgnify_new_210932</td>\n",
       "      <td>NaN</td>\n",
       "      <td>NaN</td>\n",
       "      <td>NaN</td>\n",
       "    </tr>\n",
       "    <tr>\n",
       "      <th>210954</th>\n",
       "      <td>MGYP000182643609</td>\n",
       "      <td>MGYP000182643609 CR=1</td>\n",
       "      <td>mgnify_new_210954</td>\n",
       "      <td>NaN</td>\n",
       "      <td>NaN</td>\n",
       "      <td>NaN</td>\n",
       "    </tr>\n",
       "  </tbody>\n",
       "</table>\n",
       "<p>25316 rows × 6 columns</p>\n",
       "</div>"
      ],
      "text/plain": [
       "               record_id     record_description             new_id biome  \\\n",
       "57      MGYP000127063761  MGYP000127063761 CR=1  mgnify_new_000057   NaN   \n",
       "84      MGYP000660479664  MGYP000660479664 CR=1  mgnify_new_000084   NaN   \n",
       "107     MGYP000861196427  MGYP000861196427 CR=1  mgnify_new_000107   NaN   \n",
       "130     MGYP000931411295  MGYP000931411295 CR=1  mgnify_new_000130   NaN   \n",
       "139     MGYP000958935768  MGYP000958935768 CR=1  mgnify_new_000139   NaN   \n",
       "...                  ...                    ...                ...   ...   \n",
       "210896  MGYP001456634558       MGYP001456634558  mgnify_new_210896   NaN   \n",
       "210908  MGYP001161015158       MGYP001161015158  mgnify_new_210908   NaN   \n",
       "210930  MGYP001158975212       MGYP001158975212  mgnify_new_210930   NaN   \n",
       "210932  MGYP001065940572       MGYP001065940572  mgnify_new_210932   NaN   \n",
       "210954  MGYP000182643609  MGYP000182643609 CR=1  mgnify_new_210954   NaN   \n",
       "\n",
       "       source type_or_host  \n",
       "57        NaN          NaN  \n",
       "84        NaN          NaN  \n",
       "107       NaN          NaN  \n",
       "130       NaN          NaN  \n",
       "139       NaN          NaN  \n",
       "...       ...          ...  \n",
       "210896    NaN          NaN  \n",
       "210908    NaN          NaN  \n",
       "210930    NaN          NaN  \n",
       "210932    NaN          NaN  \n",
       "210954    NaN          NaN  \n",
       "\n",
       "[25316 rows x 6 columns]"
      ]
     },
     "execution_count": 96,
     "metadata": {},
     "output_type": "execute_result"
    }
   ],
   "source": [
    "mgnify_anno_df[mgnify_anno_df['source'].isna()]"
   ]
  },
  {
   "cell_type": "code",
   "execution_count": 97,
   "id": "b77bfcfd-ed38-4fc3-b64f-7bb9246aa70f",
   "metadata": {
    "tags": []
   },
   "outputs": [],
   "source": [
    "mgnify_anno_df.to_csv('mgnify_new_mapping_anno.csv')"
   ]
  },
  {
   "cell_type": "code",
   "execution_count": 98,
   "id": "86ef5a08-257c-4fb5-8e21-dc7dcb88e3fb",
   "metadata": {},
   "outputs": [
    {
     "data": {
      "text/html": [
       "<div>\n",
       "<style scoped>\n",
       "    .dataframe tbody tr th:only-of-type {\n",
       "        vertical-align: middle;\n",
       "    }\n",
       "\n",
       "    .dataframe tbody tr th {\n",
       "        vertical-align: top;\n",
       "    }\n",
       "\n",
       "    .dataframe thead th {\n",
       "        text-align: right;\n",
       "    }\n",
       "</style>\n",
       "<table border=\"1\" class=\"dataframe\">\n",
       "  <thead>\n",
       "    <tr style=\"text-align: right;\">\n",
       "      <th></th>\n",
       "      <th>record_id</th>\n",
       "      <th>record_description</th>\n",
       "      <th>new_id</th>\n",
       "      <th>biome</th>\n",
       "      <th>source</th>\n",
       "      <th>type_or_host</th>\n",
       "    </tr>\n",
       "  </thead>\n",
       "  <tbody>\n",
       "    <tr>\n",
       "      <th>0</th>\n",
       "      <td>MGYP000017370639</td>\n",
       "      <td>MGYP000017370639 CR=1</td>\n",
       "      <td>mgnify_new_000000</td>\n",
       "      <td>root:Host-associated:Algae:Red algae</td>\n",
       "      <td>Host-associated</td>\n",
       "      <td>Algae</td>\n",
       "    </tr>\n",
       "    <tr>\n",
       "      <th>1</th>\n",
       "      <td>MGYP000141687144</td>\n",
       "      <td>MGYP000141687144 FL=1</td>\n",
       "      <td>mgnify_new_000001</td>\n",
       "      <td>root:Host-associated:Human</td>\n",
       "      <td>Host-associated</td>\n",
       "      <td>Human</td>\n",
       "    </tr>\n",
       "    <tr>\n",
       "      <th>2</th>\n",
       "      <td>MGYP000201096298</td>\n",
       "      <td>MGYP000201096298 FL=0</td>\n",
       "      <td>mgnify_new_000002</td>\n",
       "      <td>root:Host-associated:Human:Digestive system:La...</td>\n",
       "      <td>Host-associated</td>\n",
       "      <td>Human</td>\n",
       "    </tr>\n",
       "    <tr>\n",
       "      <th>3</th>\n",
       "      <td>MGYP000239944854</td>\n",
       "      <td>MGYP000239944854 FL=0</td>\n",
       "      <td>mgnify_new_000003</td>\n",
       "      <td>root:Host-associated:Human:Digestive system:La...</td>\n",
       "      <td>Host-associated</td>\n",
       "      <td>Human</td>\n",
       "    </tr>\n",
       "    <tr>\n",
       "      <th>4</th>\n",
       "      <td>MGYP002770020956</td>\n",
       "      <td>MGYP002770020956 FL=1</td>\n",
       "      <td>mgnify_new_000004</td>\n",
       "      <td>root:Host-associated:Human:Digestive system:La...</td>\n",
       "      <td>Host-associated</td>\n",
       "      <td>Human</td>\n",
       "    </tr>\n",
       "    <tr>\n",
       "      <th>...</th>\n",
       "      <td>...</td>\n",
       "      <td>...</td>\n",
       "      <td>...</td>\n",
       "      <td>...</td>\n",
       "      <td>...</td>\n",
       "      <td>...</td>\n",
       "    </tr>\n",
       "    <tr>\n",
       "      <th>210966</th>\n",
       "      <td>MGYP002635398857</td>\n",
       "      <td>MGYP002635398857 FL=1</td>\n",
       "      <td>mgnify_new_210966</td>\n",
       "      <td>root:Environmental:Aquatic:Marine:Oceanic</td>\n",
       "      <td>Environmental</td>\n",
       "      <td>Aquatic</td>\n",
       "    </tr>\n",
       "    <tr>\n",
       "      <th>210967</th>\n",
       "      <td>MGYP001077638744</td>\n",
       "      <td>MGYP001077638744 FL=1</td>\n",
       "      <td>mgnify_new_210967</td>\n",
       "      <td>root:Environmental:Aquatic:Marine</td>\n",
       "      <td>Environmental</td>\n",
       "      <td>Aquatic</td>\n",
       "    </tr>\n",
       "    <tr>\n",
       "      <th>210968</th>\n",
       "      <td>MGYP001403011521</td>\n",
       "      <td>MGYP001403011521 FL=1 CR=1</td>\n",
       "      <td>mgnify_new_210968</td>\n",
       "      <td>root:Environmental:Aquatic:Freshwater:Lotic:Se...</td>\n",
       "      <td>Environmental</td>\n",
       "      <td>Aquatic</td>\n",
       "    </tr>\n",
       "    <tr>\n",
       "      <th>210969</th>\n",
       "      <td>MGYP001403025022</td>\n",
       "      <td>MGYP001403025022 FL=1 CR=1</td>\n",
       "      <td>mgnify_new_210969</td>\n",
       "      <td>root:Engineered:Wastewater:Activated Sludge</td>\n",
       "      <td>Engineered</td>\n",
       "      <td>Wastewater</td>\n",
       "    </tr>\n",
       "    <tr>\n",
       "      <th>210970</th>\n",
       "      <td>MGYP003382292971</td>\n",
       "      <td>MGYP003382292971 FL=1</td>\n",
       "      <td>mgnify_new_210970</td>\n",
       "      <td>root:Engineered:Wastewater:Nutrient removal:Bi...</td>\n",
       "      <td>Engineered</td>\n",
       "      <td>Wastewater</td>\n",
       "    </tr>\n",
       "  </tbody>\n",
       "</table>\n",
       "<p>210971 rows × 6 columns</p>\n",
       "</div>"
      ],
      "text/plain": [
       "               record_id          record_description             new_id  \\\n",
       "0       MGYP000017370639       MGYP000017370639 CR=1  mgnify_new_000000   \n",
       "1       MGYP000141687144       MGYP000141687144 FL=1  mgnify_new_000001   \n",
       "2       MGYP000201096298       MGYP000201096298 FL=0  mgnify_new_000002   \n",
       "3       MGYP000239944854       MGYP000239944854 FL=0  mgnify_new_000003   \n",
       "4       MGYP002770020956       MGYP002770020956 FL=1  mgnify_new_000004   \n",
       "...                  ...                         ...                ...   \n",
       "210966  MGYP002635398857       MGYP002635398857 FL=1  mgnify_new_210966   \n",
       "210967  MGYP001077638744       MGYP001077638744 FL=1  mgnify_new_210967   \n",
       "210968  MGYP001403011521  MGYP001403011521 FL=1 CR=1  mgnify_new_210968   \n",
       "210969  MGYP001403025022  MGYP001403025022 FL=1 CR=1  mgnify_new_210969   \n",
       "210970  MGYP003382292971       MGYP003382292971 FL=1  mgnify_new_210970   \n",
       "\n",
       "                                                    biome           source  \\\n",
       "0                    root:Host-associated:Algae:Red algae  Host-associated   \n",
       "1                              root:Host-associated:Human  Host-associated   \n",
       "2       root:Host-associated:Human:Digestive system:La...  Host-associated   \n",
       "3       root:Host-associated:Human:Digestive system:La...  Host-associated   \n",
       "4       root:Host-associated:Human:Digestive system:La...  Host-associated   \n",
       "...                                                   ...              ...   \n",
       "210966          root:Environmental:Aquatic:Marine:Oceanic    Environmental   \n",
       "210967                  root:Environmental:Aquatic:Marine    Environmental   \n",
       "210968  root:Environmental:Aquatic:Freshwater:Lotic:Se...    Environmental   \n",
       "210969        root:Engineered:Wastewater:Activated Sludge       Engineered   \n",
       "210970  root:Engineered:Wastewater:Nutrient removal:Bi...       Engineered   \n",
       "\n",
       "       type_or_host  \n",
       "0             Algae  \n",
       "1             Human  \n",
       "2             Human  \n",
       "3             Human  \n",
       "4             Human  \n",
       "...             ...  \n",
       "210966      Aquatic  \n",
       "210967      Aquatic  \n",
       "210968      Aquatic  \n",
       "210969   Wastewater  \n",
       "210970   Wastewater  \n",
       "\n",
       "[210971 rows x 6 columns]"
      ]
     },
     "execution_count": 98,
     "metadata": {},
     "output_type": "execute_result"
    }
   ],
   "source": [
    "mgnify_anno_df"
   ]
  },
  {
   "cell_type": "code",
   "execution_count": 99,
   "id": "11d95fff-5ee3-4608-905b-7e2d7b33ccf7",
   "metadata": {
    "tags": []
   },
   "outputs": [],
   "source": [
    "mgnify_anno_df['superkingdom'] = mgnify_anno_df.shape[0]*['Metagenome']"
   ]
  },
  {
   "cell_type": "code",
   "execution_count": 101,
   "id": "a819f1bb-76b8-4ea4-9510-10fadeeec42f",
   "metadata": {
    "tags": []
   },
   "outputs": [],
   "source": [
    "mgnify_anno_df.rename(columns={'biome': 'lineage', 'source': 'kingdom'}, inplace=True)"
   ]
  },
  {
   "cell_type": "code",
   "execution_count": 107,
   "id": "a3a3d8ac-6654-4a40-92d8-c7d2a2478bc0",
   "metadata": {
    "tags": []
   },
   "outputs": [],
   "source": [
    "mgnify_anno_df['phylum']=['unknown']*mgnify_anno_df.shape[0]"
   ]
  },
  {
   "cell_type": "code",
   "execution_count": 108,
   "id": "a7899c77-ba34-4cd3-a63f-af1ed619394a",
   "metadata": {
    "tags": []
   },
   "outputs": [],
   "source": [
    "mgnify_anno_df['organism']=['unknown']*mgnify_anno_df.shape[0]"
   ]
  },
  {
   "cell_type": "code",
   "execution_count": 111,
   "id": "31ed0832-d5d1-4314-8dfb-153322b5c70e",
   "metadata": {
    "tags": []
   },
   "outputs": [],
   "source": [
    "mgnify_anno_df['tax_id']=['unknown']*mgnify_anno_df.shape[0]"
   ]
  },
  {
   "cell_type": "code",
   "execution_count": 112,
   "id": "4afea5f4-c445-4a85-a3a5-342ea206053c",
   "metadata": {
    "tags": []
   },
   "outputs": [],
   "source": [
    "mgnify_anno_df.to_csv('mgnify_new_mapping_annotated_lin_meta.csv')"
   ]
  },
  {
   "cell_type": "code",
   "execution_count": 114,
   "id": "328a41e8-19c9-44e2-943b-d25e83933e24",
   "metadata": {
    "tags": []
   },
   "outputs": [],
   "source": [
    "mgnify_anno_df[['record_id', 'record_description', 'new_id', 'organism', 'tax_id', 'lineage', 'superkingdom', 'kingdom', 'phylum']].to_csv('mgnify_new_mapping_sele.csv')"
   ]
  },
  {
   "cell_type": "markdown",
   "id": "8afd509d-59a8-4841-8e3c-e340b5065934",
   "metadata": {},
   "source": [
    "## Add domains and architectures"
   ]
  },
  {
   "cell_type": "code",
   "execution_count": 115,
   "id": "d06dfc92-868f-4ed5-8ef3-3f97aa1484af",
   "metadata": {
    "tags": []
   },
   "outputs": [],
   "source": [
    "import pandas as pd"
   ]
  },
  {
   "cell_type": "code",
   "execution_count": 116,
   "id": "c55230aa-8f6c-4e63-8501-c2aa4b7f3458",
   "metadata": {
    "tags": []
   },
   "outputs": [],
   "source": [
    "pd.set_option('display.max_columns', None)"
   ]
  },
  {
   "cell_type": "code",
   "execution_count": 117,
   "id": "e047158d-7216-4774-8414-a4fb788a0759",
   "metadata": {
    "tags": []
   },
   "outputs": [],
   "source": [
    "anno_df = pd.read_csv('mgnify_new_mapping_sele.csv', index_col=0)"
   ]
  },
  {
   "cell_type": "code",
   "execution_count": 120,
   "id": "a243f1ec-f882-4121-822b-95c7b127e2f7",
   "metadata": {
    "tags": []
   },
   "outputs": [
    {
     "data": {
      "text/plain": [
       "(210971, 9)"
      ]
     },
     "execution_count": 120,
     "metadata": {},
     "output_type": "execute_result"
    }
   ],
   "source": [
    "anno_df.shape"
   ]
  },
  {
   "cell_type": "code",
   "execution_count": 118,
   "id": "85024bb3-59ff-4bea-829f-375a60bbabd5",
   "metadata": {
    "tags": []
   },
   "outputs": [
    {
     "name": "stderr",
     "output_type": "stream",
     "text": [
      "C:\\Users\\terca\\AppData\\Local\\Temp\\ipykernel_11680\\882258755.py:1: DtypeWarning: Columns (2,3) have mixed types. Specify dtype option on import or set low_memory=False.\n",
      "  archs = pd.read_csv('../../mgnify_archs.csv', index_col=0)\n"
     ]
    }
   ],
   "source": [
    "archs = pd.read_csv('../../mgnify_archs.csv', index_col=0)"
   ]
  },
  {
   "cell_type": "code",
   "execution_count": 119,
   "id": "6ae3c6d1-9665-4833-8f68-c3bb95b256bd",
   "metadata": {
    "tags": []
   },
   "outputs": [
    {
     "data": {
      "text/plain": [
       "(183591, 19)"
      ]
     },
     "execution_count": 119,
     "metadata": {},
     "output_type": "execute_result"
    }
   ],
   "source": [
    "archs.shape"
   ]
  },
  {
   "cell_type": "code",
   "execution_count": 121,
   "id": "3a5fe699-89dc-4eaa-bedf-4f5490150aec",
   "metadata": {
    "tags": []
   },
   "outputs": [],
   "source": [
    "full_df = archs.merge(anno_df, how='left', left_on='id', right_on='new_id')"
   ]
  },
  {
   "cell_type": "code",
   "execution_count": 122,
   "id": "9d9ec4a6-7cde-4f40-afff-97de109b70ba",
   "metadata": {
    "tags": []
   },
   "outputs": [
    {
     "data": {
      "text/plain": [
       "(183591, 28)"
      ]
     },
     "execution_count": 122,
     "metadata": {},
     "output_type": "execute_result"
    }
   ],
   "source": [
    "full_df.shape"
   ]
  },
  {
   "cell_type": "code",
   "execution_count": 124,
   "id": "6e9c8630-b950-40a9-8f6b-1151627640ef",
   "metadata": {
    "tags": []
   },
   "outputs": [
    {
     "data": {
      "text/plain": [
       "kingdom\n",
       "Environmental                                                 78814\n",
       "Host-associated                                               52389\n",
       "Engineered                                                    22286\n",
       "Mixed                                                          5813\n",
       "Host-associated, Mixed                                          359\n",
       "Host-associated, Engineered                                     302\n",
       "Environmental, Engineered                                       282\n",
       "Mixed, Engineered                                               246\n",
       "Host-associated, Environmental                                   64\n",
       "Host-associated, Mixed, Engineered                               60\n",
       "Host-associated, Environmental, Engineered                       27\n",
       "Mixed, Environmental, Engineered                                 15\n",
       "Host-associated, Mixed, Environmental, Engineered                14\n",
       "Mixed, Environmental                                              8\n",
       "unknown                                                           7\n",
       "Host-associated, Mixed, Environmental                             5\n",
       "unknown, Host-associated                                          5\n",
       "unknown, Mixed, Host-associated, Engineered                       3\n",
       "unknown, Mixed, Host-associated, Engineered, Environmental        2\n",
       "unknown, Host-associated, Engineered                              2\n",
       "Name: count, dtype: int64"
      ]
     },
     "execution_count": 124,
     "metadata": {},
     "output_type": "execute_result"
    }
   ],
   "source": [
    "full_df['kingdom'].value_counts()"
   ]
  },
  {
   "cell_type": "code",
   "execution_count": 125,
   "id": "0850b475-7062-41b0-9fcc-c28ae4ab91f6",
   "metadata": {
    "tags": []
   },
   "outputs": [],
   "source": [
    "pfam_cols = ['PF06330.14','PF01397.24', 'PF03936.19', 'PF00494.22', 'PF13249.9', 'PF19086.3','PF13243.9']"
   ]
  },
  {
   "cell_type": "code",
   "execution_count": 126,
   "id": "d1d22774-eeef-49cb-b184-edbb5338dcc4",
   "metadata": {
    "tags": []
   },
   "outputs": [],
   "source": [
    "supfam_cols = ['0041184','0053354', '0053355', '0048261', '0048806', '0046340', '0047573']"
   ]
  },
  {
   "cell_type": "code",
   "execution_count": 127,
   "id": "097c3ba2-2568-4dc0-9882-81db5e5de788",
   "metadata": {
    "tags": []
   },
   "outputs": [
    {
     "data": {
      "text/plain": [
       "architecture_pfam\n",
       "['PF00494.22']                                  10.170978\n",
       "['PF00494.22_partial']                           2.140628\n",
       "['PF13249.9', 'PF13243.9']                       1.014211\n",
       "['PF00494.22_partial', 'PF00494.22_partial']     0.666155\n",
       "['PF19086.3']                                    0.649814\n",
       "['PF13243.9_partial', 'PF13243.9_partial']       0.420500\n",
       "['PF03936.19_partial']                           0.380193\n",
       "['PF13249.9', 'PF13243.9_partial']               0.327358\n",
       "['PF13243.9_partial']                            0.266353\n",
       "['PF13249.9_partial', 'PF13243.9']               0.248378\n",
       "Name: count, dtype: float64"
      ]
     },
     "execution_count": 127,
     "metadata": {},
     "output_type": "execute_result"
    }
   ],
   "source": [
    "full_df['architecture_pfam'].value_counts().head(10)/full_df.shape[0]*100"
   ]
  },
  {
   "cell_type": "code",
   "execution_count": 128,
   "id": "d554e8df-f6f8-43f0-92e5-657c154e0955",
   "metadata": {
    "tags": []
   },
   "outputs": [
    {
     "data": {
      "text/plain": [
       "architecture_supfam\n",
       "['0046340']                               82.931625\n",
       "['0046340_partial']                        1.241891\n",
       "['0048806_partial', '0046340']             0.478237\n",
       "['0046340_partial', '0046340_partial']     0.403070\n",
       "['0048806']                                0.349146\n",
       "['0047573_partial', '0046340']             0.283783\n",
       "['0046340', '0047573_partial']             0.277247\n",
       "['0046340', '0046340_partial']             0.248378\n",
       "['0046340', '0048806_partial']             0.237484\n",
       "['0046340_partial', '0046340']             0.230403\n",
       "Name: count, dtype: float64"
      ]
     },
     "execution_count": 128,
     "metadata": {},
     "output_type": "execute_result"
    }
   ],
   "source": [
    "full_df['architecture_supfam'].value_counts().head(10)/full_df.shape[0]*100"
   ]
  },
  {
   "cell_type": "code",
   "execution_count": 132,
   "id": "0b6d30d2-02c0-40db-960d-472151845b13",
   "metadata": {
    "tags": []
   },
   "outputs": [
    {
     "data": {
      "text/plain": [
       "PF06330.14     0.084427\n",
       "PF01397.24     0.035405\n",
       "PF03936.19     0.738598\n",
       "PF00494.22    13.467436\n",
       "PF13249.9      3.132506\n",
       "PF19086.3      1.454320\n",
       "PF13243.9      3.317156\n",
       "dtype: float64"
      ]
     },
     "execution_count": 132,
     "metadata": {},
     "output_type": "execute_result"
    }
   ],
   "source": [
    "full_df[pfam_cols].sum()/full_df.shape[0]*100"
   ]
  },
  {
   "cell_type": "code",
   "execution_count": 133,
   "id": "b106ccb4-792b-4be7-9a27-b4101fa97c7d",
   "metadata": {
    "tags": []
   },
   "outputs": [
    {
     "data": {
      "text/plain": [
       "0041184     0.041396\n",
       "0053354     0.024511\n",
       "0053355    29.526502\n",
       "0048261    10.934632\n",
       "0048806    81.730586\n",
       "0046340    87.421497\n",
       "0047573    81.541034\n",
       "dtype: float64"
      ]
     },
     "execution_count": 133,
     "metadata": {},
     "output_type": "execute_result"
    }
   ],
   "source": [
    "full_df[supfam_cols].sum()/full_df.shape[0]*100"
   ]
  },
  {
   "cell_type": "code",
   "execution_count": 134,
   "id": "063d1199-b988-4968-bab5-e04d5d44450a",
   "metadata": {
    "tags": []
   },
   "outputs": [],
   "source": [
    "full_df.to_csv('../../mgnify_annotation.csv')"
   ]
  },
  {
   "cell_type": "code",
   "execution_count": null,
   "id": "eac79ca4-7832-4580-8858-f2811edd642b",
   "metadata": {},
   "outputs": [],
   "source": []
  }
 ],
 "metadata": {
  "kernelspec": {
   "display_name": "Python 3 (ipykernel)",
   "language": "python",
   "name": "python3"
  },
  "language_info": {
   "codemirror_mode": {
    "name": "ipython",
    "version": 3
   },
   "file_extension": ".py",
   "mimetype": "text/x-python",
   "name": "python",
   "nbconvert_exporter": "python",
   "pygments_lexer": "ipython3",
   "version": "3.10.13"
  }
 },
 "nbformat": 4,
 "nbformat_minor": 5
}

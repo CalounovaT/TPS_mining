{
 "cells": [
  {
   "cell_type": "code",
   "execution_count": 2,
   "id": "959c8ed0-742c-4946-9f4a-cf45a6aafeab",
   "metadata": {
    "tags": []
   },
   "outputs": [],
   "source": [
    "import pandas as pd"
   ]
  },
  {
   "cell_type": "code",
   "execution_count": 5,
   "id": "03df8421-f55d-4b57-96bc-51ff70eb0960",
   "metadata": {
    "tags": []
   },
   "outputs": [],
   "source": [
    "mapping = pd.read_csv('bfd_mapping.tsv', sep='~')"
   ]
  },
  {
   "cell_type": "code",
   "execution_count": 28,
   "id": "6d2f27b8-e908-4ee3-a252-2634c719a376",
   "metadata": {
    "tags": []
   },
   "outputs": [
    {
     "data": {
      "text/html": [
       "<div>\n",
       "<style scoped>\n",
       "    .dataframe tbody tr th:only-of-type {\n",
       "        vertical-align: middle;\n",
       "    }\n",
       "\n",
       "    .dataframe tbody tr th {\n",
       "        vertical-align: top;\n",
       "    }\n",
       "\n",
       "    .dataframe thead th {\n",
       "        text-align: right;\n",
       "    }\n",
       "</style>\n",
       "<table border=\"1\" class=\"dataframe\">\n",
       "  <thead>\n",
       "    <tr style=\"text-align: right;\">\n",
       "      <th></th>\n",
       "      <th>record_id</th>\n",
       "      <th>record_description</th>\n",
       "      <th>new_id</th>\n",
       "    </tr>\n",
       "  </thead>\n",
       "  <tbody>\n",
       "    <tr>\n",
       "      <th>0</th>\n",
       "      <td>GraSoiStandDraft_39_1057311.scaffolds.fasta_sc...</td>\n",
       "      <td>GraSoiStandDraft_39_1057311.scaffolds.fasta_sc...</td>\n",
       "      <td>bfd_000000</td>\n",
       "    </tr>\n",
       "    <tr>\n",
       "      <th>1</th>\n",
       "      <td>GraSoiStandDraft_55_1057291.scaffolds.fasta_sc...</td>\n",
       "      <td>GraSoiStandDraft_55_1057291.scaffolds.fasta_sc...</td>\n",
       "      <td>bfd_000001</td>\n",
       "    </tr>\n",
       "    <tr>\n",
       "      <th>2</th>\n",
       "      <td>GraSoiStandDraft_55_1057291.scaffolds.fasta_sc...</td>\n",
       "      <td>GraSoiStandDraft_55_1057291.scaffolds.fasta_sc...</td>\n",
       "      <td>bfd_000002</td>\n",
       "    </tr>\n",
       "    <tr>\n",
       "      <th>3</th>\n",
       "      <td>GraSoiStandDraft_4_1057263.scaffolds.fasta_sca...</td>\n",
       "      <td>GraSoiStandDraft_4_1057263.scaffolds.fasta_sca...</td>\n",
       "      <td>bfd_000003</td>\n",
       "    </tr>\n",
       "    <tr>\n",
       "      <th>4</th>\n",
       "      <td>APCry1669189440_1035222.scaffolds.fasta_scaffo...</td>\n",
       "      <td>APCry1669189440_1035222.scaffolds.fasta_scaffo...</td>\n",
       "      <td>bfd_000004</td>\n",
       "    </tr>\n",
       "    <tr>\n",
       "      <th>...</th>\n",
       "      <td>...</td>\n",
       "      <td>...</td>\n",
       "      <td>...</td>\n",
       "    </tr>\n",
       "    <tr>\n",
       "      <th>273530</th>\n",
       "      <td>tr|G0RTC8|G0RTC8_HYPJQ</td>\n",
       "      <td>tr|G0RTC8|G0RTC8_HYPJQ Geranylgeranyl diphosph...</td>\n",
       "      <td>bfd_273530</td>\n",
       "    </tr>\n",
       "    <tr>\n",
       "      <th>273531</th>\n",
       "      <td>tr|A0A074WQU1|A0A074WQU1_9PEZI</td>\n",
       "      <td>tr|A0A074WQU1|A0A074WQU1_9PEZI Geranylgeranyl ...</td>\n",
       "      <td>bfd_273531</td>\n",
       "    </tr>\n",
       "    <tr>\n",
       "      <th>273532</th>\n",
       "      <td>tr|A0A0M9VW26|A0A0M9VW26_9HYPO</td>\n",
       "      <td>tr|A0A0M9VW26|A0A0M9VW26_9HYPO Geranylgeranyl ...</td>\n",
       "      <td>bfd_273532</td>\n",
       "    </tr>\n",
       "    <tr>\n",
       "      <th>273533</th>\n",
       "      <td>tr|C5FWC0|C5FWC0_ARTOC</td>\n",
       "      <td>tr|C5FWC0|C5FWC0_ARTOC Geranylgeranyl pyrophos...</td>\n",
       "      <td>bfd_273533</td>\n",
       "    </tr>\n",
       "    <tr>\n",
       "      <th>273534</th>\n",
       "      <td>tr|L2FVX8|L2FVX8_COLGN</td>\n",
       "      <td>tr|L2FVX8|L2FVX8_COLGN Geranylgeranyl diphosph...</td>\n",
       "      <td>bfd_273534</td>\n",
       "    </tr>\n",
       "  </tbody>\n",
       "</table>\n",
       "<p>273535 rows × 3 columns</p>\n",
       "</div>"
      ],
      "text/plain": [
       "                                                record_id  \\\n",
       "0       GraSoiStandDraft_39_1057311.scaffolds.fasta_sc...   \n",
       "1       GraSoiStandDraft_55_1057291.scaffolds.fasta_sc...   \n",
       "2       GraSoiStandDraft_55_1057291.scaffolds.fasta_sc...   \n",
       "3       GraSoiStandDraft_4_1057263.scaffolds.fasta_sca...   \n",
       "4       APCry1669189440_1035222.scaffolds.fasta_scaffo...   \n",
       "...                                                   ...   \n",
       "273530                             tr|G0RTC8|G0RTC8_HYPJQ   \n",
       "273531                     tr|A0A074WQU1|A0A074WQU1_9PEZI   \n",
       "273532                     tr|A0A0M9VW26|A0A0M9VW26_9HYPO   \n",
       "273533                             tr|C5FWC0|C5FWC0_ARTOC   \n",
       "273534                             tr|L2FVX8|L2FVX8_COLGN   \n",
       "\n",
       "                                       record_description      new_id  \n",
       "0       GraSoiStandDraft_39_1057311.scaffolds.fasta_sc...  bfd_000000  \n",
       "1       GraSoiStandDraft_55_1057291.scaffolds.fasta_sc...  bfd_000001  \n",
       "2       GraSoiStandDraft_55_1057291.scaffolds.fasta_sc...  bfd_000002  \n",
       "3       GraSoiStandDraft_4_1057263.scaffolds.fasta_sca...  bfd_000003  \n",
       "4       APCry1669189440_1035222.scaffolds.fasta_scaffo...  bfd_000004  \n",
       "...                                                   ...         ...  \n",
       "273530  tr|G0RTC8|G0RTC8_HYPJQ Geranylgeranyl diphosph...  bfd_273530  \n",
       "273531  tr|A0A074WQU1|A0A074WQU1_9PEZI Geranylgeranyl ...  bfd_273531  \n",
       "273532  tr|A0A0M9VW26|A0A0M9VW26_9HYPO Geranylgeranyl ...  bfd_273532  \n",
       "273533  tr|C5FWC0|C5FWC0_ARTOC Geranylgeranyl pyrophos...  bfd_273533  \n",
       "273534  tr|L2FVX8|L2FVX8_COLGN Geranylgeranyl diphosph...  bfd_273534  \n",
       "\n",
       "[273535 rows x 3 columns]"
      ]
     },
     "execution_count": 28,
     "metadata": {},
     "output_type": "execute_result"
    }
   ],
   "source": [
    "mapping"
   ]
  },
  {
   "cell_type": "code",
   "execution_count": 29,
   "id": "478aca6b-5dc8-47b0-939f-e0f2a103e556",
   "metadata": {
    "tags": []
   },
   "outputs": [
    {
     "data": {
      "text/plain": [
       "record_id\n",
       "SRR    139544\n",
       "tr|     60614\n",
       "ERR     29941\n",
       "Gra      9141\n",
       "UPI      3153\n",
       "Soi      1909\n",
       "Dee      1798\n",
       "End      1697\n",
       "ETN      1689\n",
       "KBS      1253\n",
       "Name: count, dtype: int64"
      ]
     },
     "execution_count": 29,
     "metadata": {},
     "output_type": "execute_result"
    }
   ],
   "source": [
    "mapping['record_id'].apply(lambda x: x[:3]).value_counts().head(10)"
   ]
  },
  {
   "cell_type": "markdown",
   "id": "5ae2f0af-c03d-4db8-aceb-c4af9d27bf7b",
   "metadata": {},
   "source": [
    "### SRA"
   ]
  },
  {
   "cell_type": "markdown",
   "id": "ffe007be-9b9b-4895-ac58-9343fe7e4dec",
   "metadata": {},
   "source": [
    "#### starting with SRR"
   ]
  },
  {
   "cell_type": "markdown",
   "id": "6ad9cbd5-633c-4d45-8607-75a6f9360426",
   "metadata": {},
   "source": [
    "These sequences are from SRA - we can get info about the sample from NCBI SRA"
   ]
  },
  {
   "cell_type": "code",
   "execution_count": 30,
   "id": "1f77641d-af80-4877-a7af-9957c6bb524b",
   "metadata": {
    "tags": []
   },
   "outputs": [],
   "source": [
    "srr = mapping[mapping['record_id'].apply(lambda x: True if x[:3] == 'SRR' else False)]"
   ]
  },
  {
   "cell_type": "code",
   "execution_count": 31,
   "id": "f06497e3-e88a-4143-9c84-bfdae082f9db",
   "metadata": {
    "tags": []
   },
   "outputs": [
    {
     "data": {
      "text/html": [
       "<div>\n",
       "<style scoped>\n",
       "    .dataframe tbody tr th:only-of-type {\n",
       "        vertical-align: middle;\n",
       "    }\n",
       "\n",
       "    .dataframe tbody tr th {\n",
       "        vertical-align: top;\n",
       "    }\n",
       "\n",
       "    .dataframe thead th {\n",
       "        text-align: right;\n",
       "    }\n",
       "</style>\n",
       "<table border=\"1\" class=\"dataframe\">\n",
       "  <thead>\n",
       "    <tr style=\"text-align: right;\">\n",
       "      <th></th>\n",
       "      <th>record_id</th>\n",
       "      <th>record_description</th>\n",
       "      <th>new_id</th>\n",
       "    </tr>\n",
       "  </thead>\n",
       "  <tbody>\n",
       "    <tr>\n",
       "      <th>669</th>\n",
       "      <td>SRR5882724_2472406_consensus</td>\n",
       "      <td>SRR5882724_2472406_consensus</td>\n",
       "      <td>bfd_000669</td>\n",
       "    </tr>\n",
       "    <tr>\n",
       "      <th>670</th>\n",
       "      <td>SRR5882724_2472406</td>\n",
       "      <td>SRR5882724_2472406</td>\n",
       "      <td>bfd_000670</td>\n",
       "    </tr>\n",
       "    <tr>\n",
       "      <th>671</th>\n",
       "      <td>SRR6056297_4233263_consensus</td>\n",
       "      <td>SRR6056297_4233263_consensus</td>\n",
       "      <td>bfd_000671</td>\n",
       "    </tr>\n",
       "    <tr>\n",
       "      <th>672</th>\n",
       "      <td>SRR6056297_4233263</td>\n",
       "      <td>SRR6056297_4233263</td>\n",
       "      <td>bfd_000672</td>\n",
       "    </tr>\n",
       "    <tr>\n",
       "      <th>673</th>\n",
       "      <td>SRR5690606_1803171_consensus</td>\n",
       "      <td>SRR5690606_1803171_consensus</td>\n",
       "      <td>bfd_000673</td>\n",
       "    </tr>\n",
       "    <tr>\n",
       "      <th>...</th>\n",
       "      <td>...</td>\n",
       "      <td>...</td>\n",
       "      <td>...</td>\n",
       "    </tr>\n",
       "    <tr>\n",
       "      <th>273337</th>\n",
       "      <td>SRR5919199_3530546</td>\n",
       "      <td>SRR5919199_3530546</td>\n",
       "      <td>bfd_273337</td>\n",
       "    </tr>\n",
       "    <tr>\n",
       "      <th>273339</th>\n",
       "      <td>SRR5579883_2470576</td>\n",
       "      <td>SRR5579883_2470576</td>\n",
       "      <td>bfd_273339</td>\n",
       "    </tr>\n",
       "    <tr>\n",
       "      <th>273340</th>\n",
       "      <td>SRR4028118_76962</td>\n",
       "      <td>SRR4028118_76962</td>\n",
       "      <td>bfd_273340</td>\n",
       "    </tr>\n",
       "    <tr>\n",
       "      <th>273387</th>\n",
       "      <td>SRR4028118_1267050</td>\n",
       "      <td>SRR4028118_1267050</td>\n",
       "      <td>bfd_273387</td>\n",
       "    </tr>\n",
       "    <tr>\n",
       "      <th>273388</th>\n",
       "      <td>SRR5919199_1483896</td>\n",
       "      <td>SRR5919199_1483896</td>\n",
       "      <td>bfd_273388</td>\n",
       "    </tr>\n",
       "  </tbody>\n",
       "</table>\n",
       "<p>139544 rows × 3 columns</p>\n",
       "</div>"
      ],
      "text/plain": [
       "                           record_id            record_description      new_id\n",
       "669     SRR5882724_2472406_consensus  SRR5882724_2472406_consensus  bfd_000669\n",
       "670               SRR5882724_2472406            SRR5882724_2472406  bfd_000670\n",
       "671     SRR6056297_4233263_consensus  SRR6056297_4233263_consensus  bfd_000671\n",
       "672               SRR6056297_4233263            SRR6056297_4233263  bfd_000672\n",
       "673     SRR5690606_1803171_consensus  SRR5690606_1803171_consensus  bfd_000673\n",
       "...                              ...                           ...         ...\n",
       "273337            SRR5919199_3530546            SRR5919199_3530546  bfd_273337\n",
       "273339            SRR5579883_2470576            SRR5579883_2470576  bfd_273339\n",
       "273340              SRR4028118_76962              SRR4028118_76962  bfd_273340\n",
       "273387            SRR4028118_1267050            SRR4028118_1267050  bfd_273387\n",
       "273388            SRR5919199_1483896            SRR5919199_1483896  bfd_273388\n",
       "\n",
       "[139544 rows x 3 columns]"
      ]
     },
     "execution_count": 31,
     "metadata": {},
     "output_type": "execute_result"
    }
   ],
   "source": [
    "srr"
   ]
  },
  {
   "cell_type": "code",
   "execution_count": 34,
   "id": "5a9ddce2-3394-4cbe-a747-5b116cd79d8c",
   "metadata": {
    "tags": []
   },
   "outputs": [
    {
     "name": "stderr",
     "output_type": "stream",
     "text": [
      "C:\\Users\\terca\\AppData\\Local\\Temp\\ipykernel_10800\\1630111997.py:1: SettingWithCopyWarning: \n",
      "A value is trying to be set on a copy of a slice from a DataFrame.\n",
      "Try using .loc[row_indexer,col_indexer] = value instead\n",
      "\n",
      "See the caveats in the documentation: https://pandas.pydata.org/pandas-docs/stable/user_guide/indexing.html#returning-a-view-versus-a-copy\n",
      "  srr['SRA_id'] = srr['record_id'].apply(lambda x: x.split('_')[0])\n"
     ]
    }
   ],
   "source": [
    "srr['SRA_id'] = srr['record_id'].apply(lambda x: x.split('_')[0])"
   ]
  },
  {
   "cell_type": "code",
   "execution_count": 40,
   "id": "9ab101a2-e0a2-4db5-bb8f-90e89bb69917",
   "metadata": {
    "tags": []
   },
   "outputs": [],
   "source": [
    "srr_runs = srr['SRA_id'].value_counts().index.tolist()"
   ]
  },
  {
   "cell_type": "code",
   "execution_count": 41,
   "id": "a90eb27a-8dff-4e4e-9d12-72bce49cdd01",
   "metadata": {
    "collapsed": true,
    "jupyter": {
     "outputs_hidden": true
    },
    "tags": []
   },
   "outputs": [
    {
     "data": {
      "text/plain": [
       "['SRR5262245',\n",
       " 'SRR4051812',\n",
       " 'SRR4051794',\n",
       " 'SRR5688572',\n",
       " 'SRR5436190',\n",
       " 'SRR5580704',\n",
       " 'SRR5690606',\n",
       " 'SRR5581483',\n",
       " 'SRR3954447',\n",
       " 'SRR5215469',\n",
       " 'SRR5262249',\n",
       " 'SRR5579863',\n",
       " 'SRR5215472',\n",
       " 'SRR5579862',\n",
       " 'SRR3954469',\n",
       " 'SRR3954470',\n",
       " 'SRR6185437',\n",
       " 'SRR3954468',\n",
       " 'SRR3954471',\n",
       " 'SRR5579875',\n",
       " 'SRR5215831',\n",
       " 'SRR5947209',\n",
       " 'SRR3954452',\n",
       " 'SRR5215471',\n",
       " 'SRR5689334',\n",
       " 'SRR5258708',\n",
       " 'SRR3954454',\n",
       " 'SRR3984957',\n",
       " 'SRR3954451',\n",
       " 'SRR5579859',\n",
       " 'SRR5579872',\n",
       " 'SRR5580658',\n",
       " 'SRR5579864',\n",
       " 'SRR5215470',\n",
       " 'SRR5438552',\n",
       " 'SRR5690349',\n",
       " 'SRR5579871',\n",
       " 'SRR6185312',\n",
       " 'SRR5580692',\n",
       " 'SRR5579884',\n",
       " 'SRR5712691',\n",
       " 'SRR5882724',\n",
       " 'SRR5829696',\n",
       " 'SRR5258706',\n",
       " 'SRR5690242',\n",
       " 'SRR5712692',\n",
       " 'SRR6056297',\n",
       " 'SRR5580698',\n",
       " 'SRR3954453',\n",
       " 'SRR5437763',\n",
       " 'SRR5580700',\n",
       " 'SRR5438105',\n",
       " 'SRR3989344',\n",
       " 'SRR3990172',\n",
       " 'SRR5579883',\n",
       " 'SRR5215467',\n",
       " 'SRR5215475',\n",
       " 'SRR6516165',\n",
       " 'SRR5438067',\n",
       " 'SRR5215207',\n",
       " 'SRR5690348',\n",
       " 'SRR5260370',\n",
       " 'SRR3984893',\n",
       " 'SRR5215218',\n",
       " 'SRR5271165',\n",
       " 'SRR5882672',\n",
       " 'SRR5688500',\n",
       " 'SRR5438874',\n",
       " 'SRR5438270',\n",
       " 'SRR5882757',\n",
       " 'SRR6516225',\n",
       " 'SRR3984885',\n",
       " 'SRR5947208',\n",
       " 'SRR5438477',\n",
       " 'SRR6266851',\n",
       " 'SRR5215468',\n",
       " 'SRR6516162',\n",
       " 'SRR5580693',\n",
       " 'SRR5215813',\n",
       " 'SRR5271166',\n",
       " 'SRR3989338',\n",
       " 'SRR5437868',\n",
       " 'SRR5947207',\n",
       " 'SRR6266545',\n",
       " 'SRR5438132',\n",
       " 'SRR5436309',\n",
       " 'SRR5437764',\n",
       " 'SRR5215213',\n",
       " 'SRR5438876',\n",
       " 'SRR5437660',\n",
       " 'SRR5437588',\n",
       " 'SRR2546423',\n",
       " 'SRR6266566',\n",
       " 'SRR6266404',\n",
       " 'SRR6478735',\n",
       " 'SRR5436305',\n",
       " 'SRR5437867',\n",
       " 'SRR5690554',\n",
       " 'SRR5260221',\n",
       " 'SRR6266850',\n",
       " 'SRR5215211',\n",
       " 'SRR6516164',\n",
       " 'SRR6266446',\n",
       " 'SRR6185503',\n",
       " 'SRR5665213',\n",
       " 'SRR5438093',\n",
       " 'SRR6478672',\n",
       " 'SRR3990170',\n",
       " 'SRR5271170',\n",
       " 'SRR5215510',\n",
       " 'SRR5216684',\n",
       " 'SRR2546421',\n",
       " 'SRR6266849',\n",
       " 'SRR5882762',\n",
       " 'SRR5438128',\n",
       " 'SRR5215212',\n",
       " 'SRR5687768',\n",
       " 'SRR6266568',\n",
       " 'SRR6185436',\n",
       " 'SRR5216683',\n",
       " 'SRR5437016',\n",
       " 'SRR6266540',\n",
       " 'SRR5215210',\n",
       " 'SRR6266550',\n",
       " 'SRR6185369',\n",
       " 'SRR5437870',\n",
       " 'SRR6266571',\n",
       " 'SRR5687767',\n",
       " 'SRR5579885',\n",
       " 'SRR3954463',\n",
       " 'SRR6478609',\n",
       " 'SRR6185295',\n",
       " 'SRR5438445',\n",
       " 'SRR4051795',\n",
       " 'SRR5437667',\n",
       " 'SRR5438309',\n",
       " 'SRR5437773',\n",
       " 'SRR2546428',\n",
       " 'SRR5271157',\n",
       " 'SRR3954466',\n",
       " 'SRR2546425',\n",
       " 'SRR5256885',\n",
       " 'SRR6478752',\n",
       " 'SRR5580765',\n",
       " 'SRR5271154',\n",
       " 'SRR5262252',\n",
       " 'SRR5439155',\n",
       " 'SRR6266478',\n",
       " 'SRR3954467',\n",
       " 'SRR2546426',\n",
       " 'SRR5229473',\n",
       " 'SRR5450631',\n",
       " 'SRR5437762',\n",
       " 'SRR5713101',\n",
       " 'SRR6266536',\n",
       " 'SRR3954464',\n",
       " 'SRR6201996',\n",
       " 'SRR6266481',\n",
       " 'SRR5919204',\n",
       " 'SRR5919201',\n",
       " 'SRR6266567',\n",
       " 'SRR6266516',\n",
       " 'SRR6266702',\n",
       " 'SRR5690625',\n",
       " 'SRR5258705',\n",
       " 'SRR5437899',\n",
       " 'SRR6266542',\n",
       " 'SRR6266852',\n",
       " 'SRR5487761',\n",
       " 'SRR5438034',\n",
       " 'SRR3954449',\n",
       " 'SRR5438094',\n",
       " 'SRR3954465',\n",
       " 'SRR5258707',\n",
       " 'SRR5713226',\n",
       " 'SRR5256714',\n",
       " 'SRR5712671',\n",
       " 'SRR5450432',\n",
       " 'SRR6476661',\n",
       " 'SRR5271169',\n",
       " 'SRR3989442',\n",
       " 'SRR2546430',\n",
       " 'SRR6267378',\n",
       " 'SRR5215217',\n",
       " 'SRR2546427',\n",
       " 'SRR5919197',\n",
       " 'SRR6266436',\n",
       " 'SRR6266581',\n",
       " 'SRR5918995',\n",
       " 'SRR6478736',\n",
       " 'SRR5450755',\n",
       " 'SRR6266508',\n",
       " 'SRR6266700',\n",
       " 'SRR3954462',\n",
       " 'SRR5277367',\n",
       " 'SRR3989440',\n",
       " 'SRR5271156',\n",
       " 'SRR6267143',\n",
       " 'SRR5215208',\n",
       " 'SRR6476469',\n",
       " 'SRR5919198',\n",
       " 'SRR5918994',\n",
       " 'SRR6266511',\n",
       " 'SRR2546422',\n",
       " 'SRR6266480',\n",
       " 'SRR4029077',\n",
       " 'SRR5437879',\n",
       " 'SRR5947199',\n",
       " 'SRR6476620',\n",
       " 'SRR3990167',\n",
       " 'SRR6476646',\n",
       " 'SRR5208282',\n",
       " 'SRR3989454',\n",
       " 'SRR5271155',\n",
       " 'SRR3989441',\n",
       " 'SRR6266403',\n",
       " 'SRR4029453',\n",
       " 'SRR6266487',\n",
       " 'SRR5664279',\n",
       " 'SRR2546429',\n",
       " 'SRR5918996',\n",
       " 'SRR6476659',\n",
       " 'SRR6266704',\n",
       " 'SRR6266853',\n",
       " 'SRR5467141',\n",
       " 'SRR5256886',\n",
       " 'SRR5215204',\n",
       " 'SRR5919108',\n",
       " 'SRR6267142',\n",
       " 'SRR5918997',\n",
       " 'SRR5213594',\n",
       " 'SRR5215216',\n",
       " 'SRR5271163',\n",
       " 'SRR5271168',\n",
       " 'SRR6476660',\n",
       " 'SRR6266496',\n",
       " 'SRR5499427',\n",
       " 'SRR5918999',\n",
       " 'SRR5918998',\n",
       " 'SRR5450759',\n",
       " 'SRR5919199',\n",
       " 'SRR5215203',\n",
       " 'SRR4030095',\n",
       " 'SRR6202167',\n",
       " 'SRR5919106',\n",
       " 'SRR6266498',\n",
       " 'SRR6266513',\n",
       " 'SRR5881296',\n",
       " 'SRR6266576',\n",
       " 'SRR6267154',\n",
       " 'SRR3989475',\n",
       " 'SRR6266705',\n",
       " 'SRR5919202',\n",
       " 'SRR5918992',\n",
       " 'SRR6184192',\n",
       " 'SRR5271167',\n",
       " 'SRR5918993',\n",
       " 'SRR6266699',\n",
       " 'SRR4029079',\n",
       " 'SRR5664280',\n",
       " 'SRR5208283',\n",
       " 'SRR6202521',\n",
       " 'SRR5574341',\n",
       " 'SRR3569833',\n",
       " 'SRR5574344',\n",
       " 'SRR3569623',\n",
       " 'SRR5205809',\n",
       " 'SRR5919112',\n",
       " 'SRR6059036',\n",
       " 'SRR5256884',\n",
       " 'SRR5216117',\n",
       " 'SRR5438046',\n",
       " 'SRR6059058',\n",
       " 'SRR5919109',\n",
       " 'SRR5699024',\n",
       " 'SRR5208337',\n",
       " 'SRR5213082',\n",
       " 'SRR5919107',\n",
       " 'SRR5213596',\n",
       " 'SRR3989449',\n",
       " 'SRR3972149',\n",
       " 'SRR5471032',\n",
       " 'SRR5256712',\n",
       " 'SRR5213080',\n",
       " 'SRR5512133',\n",
       " 'SRR5213593',\n",
       " 'SRR5665647',\n",
       " 'SRR5436853',\n",
       " 'SRR5512132',\n",
       " 'SRR5712664',\n",
       " 'SRR6202171',\n",
       " 'SRR5574337',\n",
       " 'SRR5881396',\n",
       " 'SRR5881398',\n",
       " 'SRR5881394',\n",
       " 'SRR5216110',\n",
       " 'SRR5450830',\n",
       " 'SRR3989339',\n",
       " 'SRR5712672',\n",
       " 'SRR5881409',\n",
       " 'SRR6202162',\n",
       " 'SRR6202140',\n",
       " 'SRR5574343',\n",
       " 'SRR3712207',\n",
       " 'SRR6202166',\n",
       " 'SRR4030042',\n",
       " 'SRR6202163',\n",
       " 'SRR6202050',\n",
       " 'SRR5512139',\n",
       " 'SRR6202790',\n",
       " 'SRR5213595',\n",
       " 'SRR5512135',\n",
       " 'SRR5205085',\n",
       " 'SRR6201997',\n",
       " 'SRR6476619',\n",
       " 'SRR5512134',\n",
       " 'SRR6202047',\n",
       " 'SRR5207302',\n",
       " 'SRR5512143',\n",
       " 'SRR6202158',\n",
       " 'SRR6204780',\n",
       " 'SRR5438045',\n",
       " 'SRR6202789',\n",
       " 'SRR6195952',\n",
       " 'SRR6056300',\n",
       " 'SRR5213592',\n",
       " 'SRR5246127',\n",
       " 'SRR5512140',\n",
       " 'SRR6201993',\n",
       " 'SRR5205823',\n",
       " 'SRR6202795',\n",
       " 'SRR3989304',\n",
       " 'SRR6201987',\n",
       " 'SRR6202453',\n",
       " 'SRR6201994',\n",
       " 'SRR6188472',\n",
       " 'SRR6202165',\n",
       " 'SRR5512146',\n",
       " 'SRR3974390',\n",
       " 'SRR5471030',\n",
       " 'SRR6202049',\n",
       " 'SRR5512138',\n",
       " 'SRR6195256',\n",
       " 'SRR6201995',\n",
       " 'SRR6202142',\n",
       " 'SRR6202051',\n",
       " 'SRR5881392',\n",
       " 'SRR4030081',\n",
       " 'SRR5881628',\n",
       " 'SRR5499426',\n",
       " 'SRR6202046',\n",
       " 'SRR5262247',\n",
       " 'SRR5919206',\n",
       " 'SRR5574340',\n",
       " 'SRR5207249',\n",
       " 'SRR4249919',\n",
       " 'SRR5207248',\n",
       " 'SRR5476649',\n",
       " 'SRR5262250',\n",
       " 'SRR5512136',\n",
       " 'SRR5918911',\n",
       " 'SRR5262244',\n",
       " 'SRR5712675',\n",
       " 'SRR4030088',\n",
       " 'SRR6058998',\n",
       " 'SRR6202045',\n",
       " 'SRR5207253',\n",
       " 'SRR5476651',\n",
       " 'SRR5205807',\n",
       " 'SRR5680860',\n",
       " 'SRR5881397',\n",
       " 'SRR5436189',\n",
       " 'SRR5213083',\n",
       " 'SRR3981189',\n",
       " 'SRR5210317',\n",
       " 'SRR6202451',\n",
       " 'SRR4029450',\n",
       " 'SRR5499433',\n",
       " 'SRR5205814',\n",
       " 'SRR5206468',\n",
       " 'SRR6218665',\n",
       " 'SRR5918912',\n",
       " 'SRR6201991',\n",
       " 'SRR6202161',\n",
       " 'SRR4029078',\n",
       " 'SRR6187402',\n",
       " 'SRR6202012',\n",
       " 'SRR6187551',\n",
       " 'SRR6202048',\n",
       " 'SRR6202035',\n",
       " 'SRR6188508',\n",
       " 'SRR3982751',\n",
       " 'SRR5246500',\n",
       " 'SRR5450756',\n",
       " 'SRR6202522',\n",
       " 'SRR6187399',\n",
       " 'SRR3981081',\n",
       " 'SRR6201992',\n",
       " 'SRR5881227',\n",
       " 'SRR5499425',\n",
       " 'SRR5678815',\n",
       " 'SRR5919205',\n",
       " 'SRR5512137',\n",
       " 'SRR4249920',\n",
       " 'SRR6188768',\n",
       " 'SRR5207247',\n",
       " 'SRR5574338',\n",
       " 'SRR5512141',\n",
       " 'SRR6202011',\n",
       " 'SRR3569832',\n",
       " 'SRR5512145',\n",
       " 'SRR5204863',\n",
       " 'SRR6188474',\n",
       " 'SRR5665648',\n",
       " 'SRR6187431',\n",
       " 'SRR5512144',\n",
       " 'SRR5207244',\n",
       " 'SRR5881275',\n",
       " 'SRR3982075',\n",
       " 'SRR5207245',\n",
       " 'SRR6187401',\n",
       " 'SRR6186713',\n",
       " 'SRR6187549',\n",
       " 'SRR5512142',\n",
       " 'SRR5204862',\n",
       " 'SRR3979490',\n",
       " 'SRR6186997',\n",
       " 'SRR3982074',\n",
       " 'SRR6201981',\n",
       " 'SRR6201988',\n",
       " 'SRR6201985',\n",
       " 'SRR3979411',\n",
       " 'SRR6187200',\n",
       " 'SRR6201986',\n",
       " 'SRR5213078',\n",
       " 'SRR5665811',\n",
       " 'SRR3977135',\n",
       " 'SRR6187397',\n",
       " 'SRR6202041',\n",
       " 'SRR6202022',\n",
       " 'SRR6187455',\n",
       " 'SRR5207237',\n",
       " 'SRR5512147',\n",
       " 'SRR6201998',\n",
       " 'SRR4030043',\n",
       " 'SRR6202030',\n",
       " 'SRR5678816',\n",
       " 'SRR6202034',\n",
       " 'SRR6201984',\n",
       " 'SRR6202023',\n",
       " 'SRR3982750',\n",
       " 'SRR4028119',\n",
       " 'SRR6201999',\n",
       " 'SRR6202040',\n",
       " 'SRR6201982',\n",
       " 'SRR3989337',\n",
       " 'SRR6202043',\n",
       " 'SRR6201989',\n",
       " 'SRR6201990',\n",
       " 'SRR6202042',\n",
       " 'SRR4028118',\n",
       " 'SRR3978361',\n",
       " 'SRR5213075',\n",
       " 'SRR6202020',\n",
       " 'SRR6202008',\n",
       " 'SRR6202044',\n",
       " 'SRR3546814',\n",
       " 'SRR5213076',\n",
       " 'SRR4026209',\n",
       " 'SRR5213079',\n",
       " 'SRR6202000',\n",
       " 'SRR4030066',\n",
       " 'SRR4026207',\n",
       " 'SRR4029434',\n",
       " 'SRR5207342',\n",
       " 'SRR3979409',\n",
       " 'SRR5574339',\n",
       " 'SRR3974377',\n",
       " 'SRR5674476',\n",
       " 'SRR6201747',\n",
       " 'SRR6202021',\n",
       " 'SRR5574342',\n",
       " 'SRR3970040',\n",
       " 'SRR6201746',\n",
       " 'SRR4030067',\n",
       " 'SRR6202007',\n",
       " 'SRR5659263',\n",
       " 'SRR3970282',\n",
       " 'SRR4030065',\n",
       " 'SRR5260363',\n",
       " 'SRR4026208',\n",
       " 'SRR5207344',\n",
       " 'SRR5678809',\n",
       " 'SRR5660397',\n",
       " 'SRR5260364',\n",
       " 'SRR5660398',\n",
       " 'SRR5678810',\n",
       " 'SRR5665809',\n",
       " 'SRR5674536']"
      ]
     },
     "execution_count": 41,
     "metadata": {},
     "output_type": "execute_result"
    }
   ],
   "source": [
    "srr_runs"
   ]
  },
  {
   "cell_type": "code",
   "execution_count": 48,
   "id": "6a8fc32a-3474-4e8b-b58d-9ba4b1f7c51e",
   "metadata": {
    "tags": []
   },
   "outputs": [
    {
     "data": {
      "text/plain": [
       "499"
      ]
     },
     "execution_count": 48,
     "metadata": {},
     "output_type": "execute_result"
    }
   ],
   "source": [
    "len(srr_runs)"
   ]
  },
  {
   "cell_type": "code",
   "execution_count": 10,
   "id": "4f2cdd97-bdff-45f8-a9da-9a3a2e8032d3",
   "metadata": {
    "tags": []
   },
   "outputs": [],
   "source": [
    "from pysradb import SRAweb"
   ]
  },
  {
   "cell_type": "code",
   "execution_count": 12,
   "id": "6b5265c8-22c7-4604-b203-14e08fc16fb1",
   "metadata": {
    "tags": []
   },
   "outputs": [],
   "source": [
    "db=pysradb.SRAweb()"
   ]
  },
  {
   "cell_type": "code",
   "execution_count": 52,
   "id": "a8593c81-e2c4-44d0-a74d-39c8623eef45",
   "metadata": {
    "tags": []
   },
   "outputs": [],
   "source": [
    "cols = ['run_accession','organism_taxid','organism_name','study_accession', 'study_title', 'experiment_accession','experiment_title', 'experiment_desc','sample_accession','sample_title', 'biosample', 'bioproject']"
   ]
  },
  {
   "cell_type": "code",
   "execution_count": 53,
   "id": "b4fc1461-5652-41bf-b81d-c6c3a62c6d32",
   "metadata": {
    "tags": []
   },
   "outputs": [],
   "source": [
    "df_l = []\n",
    "for i in range(0,len(srr_runs),50):\n",
    "    chunk = srr_runs[i:i+50]\n",
    "    df = db.sra_metadata(chunk)\n",
    "    df_l.append(df[cols])"
   ]
  },
  {
   "cell_type": "code",
   "execution_count": 54,
   "id": "3d8ed490-0dfc-42a3-9a87-693420c7403a",
   "metadata": {
    "tags": []
   },
   "outputs": [],
   "source": [
    "srr_data_df = pd.concat(df_l)"
   ]
  },
  {
   "cell_type": "code",
   "execution_count": 55,
   "id": "93a2f6cb-25a7-41cc-8767-b219619306a4",
   "metadata": {
    "tags": []
   },
   "outputs": [
    {
     "data": {
      "text/html": [
       "<div>\n",
       "<style scoped>\n",
       "    .dataframe tbody tr th:only-of-type {\n",
       "        vertical-align: middle;\n",
       "    }\n",
       "\n",
       "    .dataframe tbody tr th {\n",
       "        vertical-align: top;\n",
       "    }\n",
       "\n",
       "    .dataframe thead th {\n",
       "        text-align: right;\n",
       "    }\n",
       "</style>\n",
       "<table border=\"1\" class=\"dataframe\">\n",
       "  <thead>\n",
       "    <tr style=\"text-align: right;\">\n",
       "      <th></th>\n",
       "      <th>run_accession</th>\n",
       "      <th>organism_taxid</th>\n",
       "      <th>organism_name</th>\n",
       "      <th>study_accession</th>\n",
       "      <th>study_title</th>\n",
       "      <th>experiment_accession</th>\n",
       "      <th>experiment_title</th>\n",
       "      <th>experiment_desc</th>\n",
       "      <th>sample_accession</th>\n",
       "      <th>sample_title</th>\n",
       "      <th>biosample</th>\n",
       "      <th>bioproject</th>\n",
       "    </tr>\n",
       "  </thead>\n",
       "  <tbody>\n",
       "    <tr>\n",
       "      <th>49</th>\n",
       "      <td>SRR3954447</td>\n",
       "      <td>410658</td>\n",
       "      <td>soil metagenome</td>\n",
       "      <td>SRP079930</td>\n",
       "      <td>Grasslands soil microbial communities from Hop...</td>\n",
       "      <td>SRX1978706</td>\n",
       "      <td>Hopland Soil Metagenome 2</td>\n",
       "      <td>Hopland Soil Metagenome 2</td>\n",
       "      <td>SRS1586251</td>\n",
       "      <td></td>\n",
       "      <td>SAMN05422231</td>\n",
       "      <td>PRJNA330082</td>\n",
       "    </tr>\n",
       "    <tr>\n",
       "      <th>48</th>\n",
       "      <td>SRR3954451</td>\n",
       "      <td>410658</td>\n",
       "      <td>soil metagenome</td>\n",
       "      <td>SRP079930</td>\n",
       "      <td>Grasslands soil microbial communities from Hop...</td>\n",
       "      <td>SRX1978711</td>\n",
       "      <td>Hopland Soil Metagenome 2</td>\n",
       "      <td>Hopland Soil Metagenome 2</td>\n",
       "      <td>SRS1586251</td>\n",
       "      <td></td>\n",
       "      <td>SAMN05422231</td>\n",
       "      <td>PRJNA330082</td>\n",
       "    </tr>\n",
       "    <tr>\n",
       "      <th>47</th>\n",
       "      <td>SRR3954452</td>\n",
       "      <td>410658</td>\n",
       "      <td>soil metagenome</td>\n",
       "      <td>SRP079930</td>\n",
       "      <td>Grasslands soil microbial communities from Hop...</td>\n",
       "      <td>SRX1978713</td>\n",
       "      <td>Hopland Soil Metagenome 2</td>\n",
       "      <td>Hopland Soil Metagenome 2</td>\n",
       "      <td>SRS1586251</td>\n",
       "      <td></td>\n",
       "      <td>SAMN05422231</td>\n",
       "      <td>PRJNA330082</td>\n",
       "    </tr>\n",
       "    <tr>\n",
       "      <th>46</th>\n",
       "      <td>SRR3954453</td>\n",
       "      <td>410658</td>\n",
       "      <td>soil metagenome</td>\n",
       "      <td>SRP079930</td>\n",
       "      <td>Grasslands soil microbial communities from Hop...</td>\n",
       "      <td>SRX1978714</td>\n",
       "      <td>Hopland Soil Metagenome 2</td>\n",
       "      <td>Hopland Soil Metagenome 2</td>\n",
       "      <td>SRS1586251</td>\n",
       "      <td></td>\n",
       "      <td>SAMN05422231</td>\n",
       "      <td>PRJNA330082</td>\n",
       "    </tr>\n",
       "    <tr>\n",
       "      <th>45</th>\n",
       "      <td>SRR3954454</td>\n",
       "      <td>410658</td>\n",
       "      <td>soil metagenome</td>\n",
       "      <td>SRP079930</td>\n",
       "      <td>Grasslands soil microbial communities from Hop...</td>\n",
       "      <td>SRX1978715</td>\n",
       "      <td>Hopland Soil Metagenome 2</td>\n",
       "      <td>Hopland Soil Metagenome 2</td>\n",
       "      <td>SRS1586251</td>\n",
       "      <td></td>\n",
       "      <td>SAMN05422231</td>\n",
       "      <td>PRJNA330082</td>\n",
       "    </tr>\n",
       "    <tr>\n",
       "      <th>...</th>\n",
       "      <td>...</td>\n",
       "      <td>...</td>\n",
       "      <td>...</td>\n",
       "      <td>...</td>\n",
       "      <td>...</td>\n",
       "      <td>...</td>\n",
       "      <td>...</td>\n",
       "      <td>...</td>\n",
       "      <td>...</td>\n",
       "      <td>...</td>\n",
       "      <td>...</td>\n",
       "      <td>...</td>\n",
       "    </tr>\n",
       "    <tr>\n",
       "      <th>4</th>\n",
       "      <td>SRR6202021</td>\n",
       "      <td>410658</td>\n",
       "      <td>soil metagenome</td>\n",
       "      <td>SRP120903</td>\n",
       "      <td>Forest soil microbial communities from Algoma,...</td>\n",
       "      <td>SRX3312006</td>\n",
       "      <td>Jack Pine, Ontario site 1_JW_Ref_O1</td>\n",
       "      <td>Jack Pine, Ontario site 1_JW_Ref_O1</td>\n",
       "      <td>SRS2618187</td>\n",
       "      <td></td>\n",
       "      <td>SAMN06268631</td>\n",
       "      <td>PRJNA366712</td>\n",
       "    </tr>\n",
       "    <tr>\n",
       "      <th>3</th>\n",
       "      <td>SRR6202040</td>\n",
       "      <td>410658</td>\n",
       "      <td>soil metagenome</td>\n",
       "      <td>SRP120911</td>\n",
       "      <td>Forest soil microbial communities from Algoma,...</td>\n",
       "      <td>SRX3312024</td>\n",
       "      <td>Jack Pine, Ontario site 1_JW_Ref_M3</td>\n",
       "      <td>Jack Pine, Ontario site 1_JW_Ref_M3</td>\n",
       "      <td>SRS2618203</td>\n",
       "      <td></td>\n",
       "      <td>SAMN06268643</td>\n",
       "      <td>PRJNA366724</td>\n",
       "    </tr>\n",
       "    <tr>\n",
       "      <th>2</th>\n",
       "      <td>SRR6202042</td>\n",
       "      <td>410658</td>\n",
       "      <td>soil metagenome</td>\n",
       "      <td>SRP120913</td>\n",
       "      <td>Forest soil microbial communities from Algoma,...</td>\n",
       "      <td>SRX3312026</td>\n",
       "      <td>Jack Pine, Ontario site 1_JW_OM1H0_O3</td>\n",
       "      <td>Jack Pine, Ontario site 1_JW_OM1H0_O3</td>\n",
       "      <td>SRS2618205</td>\n",
       "      <td></td>\n",
       "      <td>SAMN06268673</td>\n",
       "      <td>PRJNA366754</td>\n",
       "    </tr>\n",
       "    <tr>\n",
       "      <th>1</th>\n",
       "      <td>SRR6202043</td>\n",
       "      <td>410658</td>\n",
       "      <td>soil metagenome</td>\n",
       "      <td>SRP120914</td>\n",
       "      <td>Forest soil microbial communities from Algoma,...</td>\n",
       "      <td>SRX3312027</td>\n",
       "      <td>Jack Pine, Ontario site 1_JW_OM1H0_M3</td>\n",
       "      <td>Jack Pine, Ontario site 1_JW_OM1H0_M3</td>\n",
       "      <td>SRS2618206</td>\n",
       "      <td></td>\n",
       "      <td>SAMN06268657</td>\n",
       "      <td>PRJNA366738</td>\n",
       "    </tr>\n",
       "    <tr>\n",
       "      <th>0</th>\n",
       "      <td>SRR6202044</td>\n",
       "      <td>410658</td>\n",
       "      <td>soil metagenome</td>\n",
       "      <td>SRP120915</td>\n",
       "      <td>Forest soil microbial communities from Algoma,...</td>\n",
       "      <td>SRX3312028</td>\n",
       "      <td>Jack Pine, Ontario site 1_JW_OM2H0_O2</td>\n",
       "      <td>Jack Pine, Ontario site 1_JW_OM2H0_O2</td>\n",
       "      <td>SRS2618207</td>\n",
       "      <td></td>\n",
       "      <td>SAMN06268658</td>\n",
       "      <td>PRJNA366739</td>\n",
       "    </tr>\n",
       "  </tbody>\n",
       "</table>\n",
       "<p>494 rows × 12 columns</p>\n",
       "</div>"
      ],
      "text/plain": [
       "   run_accession organism_taxid    organism_name study_accession  \\\n",
       "49    SRR3954447         410658  soil metagenome       SRP079930   \n",
       "48    SRR3954451         410658  soil metagenome       SRP079930   \n",
       "47    SRR3954452         410658  soil metagenome       SRP079930   \n",
       "46    SRR3954453         410658  soil metagenome       SRP079930   \n",
       "45    SRR3954454         410658  soil metagenome       SRP079930   \n",
       "..           ...            ...              ...             ...   \n",
       "4     SRR6202021         410658  soil metagenome       SRP120903   \n",
       "3     SRR6202040         410658  soil metagenome       SRP120911   \n",
       "2     SRR6202042         410658  soil metagenome       SRP120913   \n",
       "1     SRR6202043         410658  soil metagenome       SRP120914   \n",
       "0     SRR6202044         410658  soil metagenome       SRP120915   \n",
       "\n",
       "                                          study_title experiment_accession  \\\n",
       "49  Grasslands soil microbial communities from Hop...           SRX1978706   \n",
       "48  Grasslands soil microbial communities from Hop...           SRX1978711   \n",
       "47  Grasslands soil microbial communities from Hop...           SRX1978713   \n",
       "46  Grasslands soil microbial communities from Hop...           SRX1978714   \n",
       "45  Grasslands soil microbial communities from Hop...           SRX1978715   \n",
       "..                                                ...                  ...   \n",
       "4   Forest soil microbial communities from Algoma,...           SRX3312006   \n",
       "3   Forest soil microbial communities from Algoma,...           SRX3312024   \n",
       "2   Forest soil microbial communities from Algoma,...           SRX3312026   \n",
       "1   Forest soil microbial communities from Algoma,...           SRX3312027   \n",
       "0   Forest soil microbial communities from Algoma,...           SRX3312028   \n",
       "\n",
       "                         experiment_title  \\\n",
       "49              Hopland Soil Metagenome 2   \n",
       "48              Hopland Soil Metagenome 2   \n",
       "47              Hopland Soil Metagenome 2   \n",
       "46              Hopland Soil Metagenome 2   \n",
       "45              Hopland Soil Metagenome 2   \n",
       "..                                    ...   \n",
       "4     Jack Pine, Ontario site 1_JW_Ref_O1   \n",
       "3     Jack Pine, Ontario site 1_JW_Ref_M3   \n",
       "2   Jack Pine, Ontario site 1_JW_OM1H0_O3   \n",
       "1   Jack Pine, Ontario site 1_JW_OM1H0_M3   \n",
       "0   Jack Pine, Ontario site 1_JW_OM2H0_O2   \n",
       "\n",
       "                          experiment_desc sample_accession sample_title  \\\n",
       "49              Hopland Soil Metagenome 2       SRS1586251                \n",
       "48              Hopland Soil Metagenome 2       SRS1586251                \n",
       "47              Hopland Soil Metagenome 2       SRS1586251                \n",
       "46              Hopland Soil Metagenome 2       SRS1586251                \n",
       "45              Hopland Soil Metagenome 2       SRS1586251                \n",
       "..                                    ...              ...          ...   \n",
       "4     Jack Pine, Ontario site 1_JW_Ref_O1       SRS2618187                \n",
       "3     Jack Pine, Ontario site 1_JW_Ref_M3       SRS2618203                \n",
       "2   Jack Pine, Ontario site 1_JW_OM1H0_O3       SRS2618205                \n",
       "1   Jack Pine, Ontario site 1_JW_OM1H0_M3       SRS2618206                \n",
       "0   Jack Pine, Ontario site 1_JW_OM2H0_O2       SRS2618207                \n",
       "\n",
       "       biosample   bioproject  \n",
       "49  SAMN05422231  PRJNA330082  \n",
       "48  SAMN05422231  PRJNA330082  \n",
       "47  SAMN05422231  PRJNA330082  \n",
       "46  SAMN05422231  PRJNA330082  \n",
       "45  SAMN05422231  PRJNA330082  \n",
       "..           ...          ...  \n",
       "4   SAMN06268631  PRJNA366712  \n",
       "3   SAMN06268643  PRJNA366724  \n",
       "2   SAMN06268673  PRJNA366754  \n",
       "1   SAMN06268657  PRJNA366738  \n",
       "0   SAMN06268658  PRJNA366739  \n",
       "\n",
       "[494 rows x 12 columns]"
      ]
     },
     "execution_count": 55,
     "metadata": {},
     "output_type": "execute_result"
    }
   ],
   "source": [
    "srr_data_df"
   ]
  },
  {
   "cell_type": "markdown",
   "id": "3c160989-3b4f-4470-9e91-c9b06bebf837",
   "metadata": {},
   "source": [
    "There were 11 IDs for which there is no information in SRA - possibly because they are private (not yet published)"
   ]
  },
  {
   "cell_type": "code",
   "execution_count": 59,
   "id": "c0fb912f-6726-4788-8aef-216969a1f413",
   "metadata": {
    "tags": []
   },
   "outputs": [
    {
     "name": "stdout",
     "output_type": "stream",
     "text": [
      "SRR4029077\n",
      "SRR4029453\n",
      "SRR4030095\n",
      "SRR4029079\n",
      "SRR4029450\n",
      "SRR4029078\n",
      "SRR3982075\n",
      "SRR3982074\n",
      "SRR4028119\n",
      "SRR4028118\n",
      "SRR4029434\n"
     ]
    }
   ],
   "source": [
    "for run in srr_runs:\n",
    "    if run not in srr_data_df['run_accession'].tolist():\n",
    "        print(run)"
   ]
  },
  {
   "cell_type": "code",
   "execution_count": 67,
   "id": "d36b5409-ddb3-45ce-8fa7-f13c36487c3a",
   "metadata": {
    "tags": []
   },
   "outputs": [],
   "source": [
    "srr_anno = srr.merge(srr_data_df, how='left', left_on='SRA_id', right_on='run_accession')"
   ]
  },
  {
   "cell_type": "code",
   "execution_count": 71,
   "id": "c9ded2f0-4139-4c85-938d-95ddeaf28ac3",
   "metadata": {
    "tags": []
   },
   "outputs": [
    {
     "data": {
      "text/plain": [
       "(139544, 16)"
      ]
     },
     "execution_count": 71,
     "metadata": {},
     "output_type": "execute_result"
    }
   ],
   "source": [
    "srr_anno.shape"
   ]
  },
  {
   "cell_type": "code",
   "execution_count": 68,
   "id": "f75f36c4-2c7f-4650-862e-8ba6e794d414",
   "metadata": {
    "tags": []
   },
   "outputs": [],
   "source": [
    "srr_anno.to_csv('bfd_sra_anno.csv')"
   ]
  },
  {
   "cell_type": "code",
   "execution_count": 300,
   "id": "249112ed-2913-4401-8257-09c00036f8a2",
   "metadata": {
    "tags": []
   },
   "outputs": [],
   "source": [
    "srr_anno = pd.read_csv('bfd_sra_anno.csv', index_col=0)"
   ]
  },
  {
   "cell_type": "code",
   "execution_count": 301,
   "id": "e9330fa4-028f-4400-818f-ce45aacbc9ca",
   "metadata": {
    "tags": []
   },
   "outputs": [
    {
     "data": {
      "text/html": [
       "<div>\n",
       "<style scoped>\n",
       "    .dataframe tbody tr th:only-of-type {\n",
       "        vertical-align: middle;\n",
       "    }\n",
       "\n",
       "    .dataframe tbody tr th {\n",
       "        vertical-align: top;\n",
       "    }\n",
       "\n",
       "    .dataframe thead th {\n",
       "        text-align: right;\n",
       "    }\n",
       "</style>\n",
       "<table border=\"1\" class=\"dataframe\">\n",
       "  <thead>\n",
       "    <tr style=\"text-align: right;\">\n",
       "      <th></th>\n",
       "      <th>record_id</th>\n",
       "      <th>record_description</th>\n",
       "      <th>new_id</th>\n",
       "      <th>SRA_id</th>\n",
       "      <th>run_accession</th>\n",
       "      <th>organism_taxid</th>\n",
       "      <th>organism_name</th>\n",
       "      <th>study_accession</th>\n",
       "      <th>study_title</th>\n",
       "      <th>experiment_accession</th>\n",
       "      <th>experiment_title</th>\n",
       "      <th>experiment_desc</th>\n",
       "      <th>sample_accession</th>\n",
       "      <th>sample_title</th>\n",
       "      <th>biosample</th>\n",
       "      <th>bioproject</th>\n",
       "    </tr>\n",
       "  </thead>\n",
       "  <tbody>\n",
       "    <tr>\n",
       "      <th>0</th>\n",
       "      <td>SRR5882724_2472406_consensus</td>\n",
       "      <td>SRR5882724_2472406_consensus</td>\n",
       "      <td>bfd_000669</td>\n",
       "      <td>SRR5882724</td>\n",
       "      <td>SRR5882724</td>\n",
       "      <td>410658.0</td>\n",
       "      <td>soil metagenome</td>\n",
       "      <td>SRP114324</td>\n",
       "      <td>Vadose zone soil fungal communities from Angel...</td>\n",
       "      <td>SRX3048996</td>\n",
       "      <td>CZOMad2_1_16fungal</td>\n",
       "      <td>CZOMad2_1_16fungal</td>\n",
       "      <td>SRS2395758</td>\n",
       "      <td>NaN</td>\n",
       "      <td>SAMN06264503</td>\n",
       "      <td>PRJNA364433</td>\n",
       "    </tr>\n",
       "    <tr>\n",
       "      <th>1</th>\n",
       "      <td>SRR5882724_2472406</td>\n",
       "      <td>SRR5882724_2472406</td>\n",
       "      <td>bfd_000670</td>\n",
       "      <td>SRR5882724</td>\n",
       "      <td>SRR5882724</td>\n",
       "      <td>410658.0</td>\n",
       "      <td>soil metagenome</td>\n",
       "      <td>SRP114324</td>\n",
       "      <td>Vadose zone soil fungal communities from Angel...</td>\n",
       "      <td>SRX3048996</td>\n",
       "      <td>CZOMad2_1_16fungal</td>\n",
       "      <td>CZOMad2_1_16fungal</td>\n",
       "      <td>SRS2395758</td>\n",
       "      <td>NaN</td>\n",
       "      <td>SAMN06264503</td>\n",
       "      <td>PRJNA364433</td>\n",
       "    </tr>\n",
       "    <tr>\n",
       "      <th>2</th>\n",
       "      <td>SRR6056297_4233263_consensus</td>\n",
       "      <td>SRR6056297_4233263_consensus</td>\n",
       "      <td>bfd_000671</td>\n",
       "      <td>SRR6056297</td>\n",
       "      <td>SRR6056297</td>\n",
       "      <td>410658.0</td>\n",
       "      <td>soil metagenome</td>\n",
       "      <td>SRP118410</td>\n",
       "      <td>Salt pond soil microbial communities from Sout...</td>\n",
       "      <td>SRX3203252</td>\n",
       "      <td>Salt Pond MetaG R2_B_D2_MG</td>\n",
       "      <td>Salt Pond MetaG R2_B_D2_MG</td>\n",
       "      <td>SRS2529630</td>\n",
       "      <td>NaN</td>\n",
       "      <td>SAMN07631159</td>\n",
       "      <td>PRJNA405998</td>\n",
       "    </tr>\n",
       "    <tr>\n",
       "      <th>3</th>\n",
       "      <td>SRR6056297_4233263</td>\n",
       "      <td>SRR6056297_4233263</td>\n",
       "      <td>bfd_000672</td>\n",
       "      <td>SRR6056297</td>\n",
       "      <td>SRR6056297</td>\n",
       "      <td>410658.0</td>\n",
       "      <td>soil metagenome</td>\n",
       "      <td>SRP118410</td>\n",
       "      <td>Salt pond soil microbial communities from Sout...</td>\n",
       "      <td>SRX3203252</td>\n",
       "      <td>Salt Pond MetaG R2_B_D2_MG</td>\n",
       "      <td>Salt Pond MetaG R2_B_D2_MG</td>\n",
       "      <td>SRS2529630</td>\n",
       "      <td>NaN</td>\n",
       "      <td>SAMN07631159</td>\n",
       "      <td>PRJNA405998</td>\n",
       "    </tr>\n",
       "    <tr>\n",
       "      <th>4</th>\n",
       "      <td>SRR5690606_1803171_consensus</td>\n",
       "      <td>SRR5690606_1803171_consensus</td>\n",
       "      <td>bfd_000673</td>\n",
       "      <td>SRR5690606</td>\n",
       "      <td>SRR5690606</td>\n",
       "      <td>410658.0</td>\n",
       "      <td>soil metagenome</td>\n",
       "      <td>SRP109330</td>\n",
       "      <td>Agricultural soil microbial communities from U...</td>\n",
       "      <td>SRX2924374</td>\n",
       "      <td>Steer compost 2015</td>\n",
       "      <td>Steer compost 2015</td>\n",
       "      <td>SRS2289964</td>\n",
       "      <td>NaN</td>\n",
       "      <td>SAMN06343763</td>\n",
       "      <td>PRJNA375195</td>\n",
       "    </tr>\n",
       "    <tr>\n",
       "      <th>...</th>\n",
       "      <td>...</td>\n",
       "      <td>...</td>\n",
       "      <td>...</td>\n",
       "      <td>...</td>\n",
       "      <td>...</td>\n",
       "      <td>...</td>\n",
       "      <td>...</td>\n",
       "      <td>...</td>\n",
       "      <td>...</td>\n",
       "      <td>...</td>\n",
       "      <td>...</td>\n",
       "      <td>...</td>\n",
       "      <td>...</td>\n",
       "      <td>...</td>\n",
       "      <td>...</td>\n",
       "      <td>...</td>\n",
       "    </tr>\n",
       "    <tr>\n",
       "      <th>139539</th>\n",
       "      <td>SRR5919199_3530546</td>\n",
       "      <td>SRR5919199_3530546</td>\n",
       "      <td>bfd_273337</td>\n",
       "      <td>SRR5919199</td>\n",
       "      <td>SRR5919199</td>\n",
       "      <td>410658.0</td>\n",
       "      <td>soil metagenome</td>\n",
       "      <td>SRP074055</td>\n",
       "      <td>soil metagenome Raw sequence reads</td>\n",
       "      <td>SRX3080106</td>\n",
       "      <td>Soil_metagenomics</td>\n",
       "      <td>Soil_metagenomics</td>\n",
       "      <td>SRS1414112</td>\n",
       "      <td>NaN</td>\n",
       "      <td>SAMN04873807</td>\n",
       "      <td>PRJNA317932</td>\n",
       "    </tr>\n",
       "    <tr>\n",
       "      <th>139540</th>\n",
       "      <td>SRR5579883_2470576</td>\n",
       "      <td>SRR5579883_2470576</td>\n",
       "      <td>bfd_273339</td>\n",
       "      <td>SRR5579883</td>\n",
       "      <td>SRR5579883</td>\n",
       "      <td>410658.0</td>\n",
       "      <td>soil metagenome</td>\n",
       "      <td>SRP107591</td>\n",
       "      <td>Surface soil microbial communities from Centra...</td>\n",
       "      <td>SRX2837995</td>\n",
       "      <td>Coalmine Soil_Cen12_06102014_R2</td>\n",
       "      <td>Coalmine Soil_Cen12_06102014_R2</td>\n",
       "      <td>SRS2212159</td>\n",
       "      <td>NaN</td>\n",
       "      <td>SAMN06343834</td>\n",
       "      <td>PRJNA375306</td>\n",
       "    </tr>\n",
       "    <tr>\n",
       "      <th>139541</th>\n",
       "      <td>SRR4028118_76962</td>\n",
       "      <td>SRR4028118_76962</td>\n",
       "      <td>bfd_273340</td>\n",
       "      <td>SRR4028118</td>\n",
       "      <td>NaN</td>\n",
       "      <td>NaN</td>\n",
       "      <td>NaN</td>\n",
       "      <td>NaN</td>\n",
       "      <td>NaN</td>\n",
       "      <td>NaN</td>\n",
       "      <td>NaN</td>\n",
       "      <td>NaN</td>\n",
       "      <td>NaN</td>\n",
       "      <td>NaN</td>\n",
       "      <td>NaN</td>\n",
       "      <td>NaN</td>\n",
       "    </tr>\n",
       "    <tr>\n",
       "      <th>139542</th>\n",
       "      <td>SRR4028118_1267050</td>\n",
       "      <td>SRR4028118_1267050</td>\n",
       "      <td>bfd_273387</td>\n",
       "      <td>SRR4028118</td>\n",
       "      <td>NaN</td>\n",
       "      <td>NaN</td>\n",
       "      <td>NaN</td>\n",
       "      <td>NaN</td>\n",
       "      <td>NaN</td>\n",
       "      <td>NaN</td>\n",
       "      <td>NaN</td>\n",
       "      <td>NaN</td>\n",
       "      <td>NaN</td>\n",
       "      <td>NaN</td>\n",
       "      <td>NaN</td>\n",
       "      <td>NaN</td>\n",
       "    </tr>\n",
       "    <tr>\n",
       "      <th>139543</th>\n",
       "      <td>SRR5919199_1483896</td>\n",
       "      <td>SRR5919199_1483896</td>\n",
       "      <td>bfd_273388</td>\n",
       "      <td>SRR5919199</td>\n",
       "      <td>SRR5919199</td>\n",
       "      <td>410658.0</td>\n",
       "      <td>soil metagenome</td>\n",
       "      <td>SRP074055</td>\n",
       "      <td>soil metagenome Raw sequence reads</td>\n",
       "      <td>SRX3080106</td>\n",
       "      <td>Soil_metagenomics</td>\n",
       "      <td>Soil_metagenomics</td>\n",
       "      <td>SRS1414112</td>\n",
       "      <td>NaN</td>\n",
       "      <td>SAMN04873807</td>\n",
       "      <td>PRJNA317932</td>\n",
       "    </tr>\n",
       "  </tbody>\n",
       "</table>\n",
       "<p>139544 rows × 16 columns</p>\n",
       "</div>"
      ],
      "text/plain": [
       "                           record_id            record_description  \\\n",
       "0       SRR5882724_2472406_consensus  SRR5882724_2472406_consensus   \n",
       "1                 SRR5882724_2472406            SRR5882724_2472406   \n",
       "2       SRR6056297_4233263_consensus  SRR6056297_4233263_consensus   \n",
       "3                 SRR6056297_4233263            SRR6056297_4233263   \n",
       "4       SRR5690606_1803171_consensus  SRR5690606_1803171_consensus   \n",
       "...                              ...                           ...   \n",
       "139539            SRR5919199_3530546            SRR5919199_3530546   \n",
       "139540            SRR5579883_2470576            SRR5579883_2470576   \n",
       "139541              SRR4028118_76962              SRR4028118_76962   \n",
       "139542            SRR4028118_1267050            SRR4028118_1267050   \n",
       "139543            SRR5919199_1483896            SRR5919199_1483896   \n",
       "\n",
       "            new_id      SRA_id run_accession  organism_taxid    organism_name  \\\n",
       "0       bfd_000669  SRR5882724    SRR5882724        410658.0  soil metagenome   \n",
       "1       bfd_000670  SRR5882724    SRR5882724        410658.0  soil metagenome   \n",
       "2       bfd_000671  SRR6056297    SRR6056297        410658.0  soil metagenome   \n",
       "3       bfd_000672  SRR6056297    SRR6056297        410658.0  soil metagenome   \n",
       "4       bfd_000673  SRR5690606    SRR5690606        410658.0  soil metagenome   \n",
       "...            ...         ...           ...             ...              ...   \n",
       "139539  bfd_273337  SRR5919199    SRR5919199        410658.0  soil metagenome   \n",
       "139540  bfd_273339  SRR5579883    SRR5579883        410658.0  soil metagenome   \n",
       "139541  bfd_273340  SRR4028118           NaN             NaN              NaN   \n",
       "139542  bfd_273387  SRR4028118           NaN             NaN              NaN   \n",
       "139543  bfd_273388  SRR5919199    SRR5919199        410658.0  soil metagenome   \n",
       "\n",
       "       study_accession                                        study_title  \\\n",
       "0            SRP114324  Vadose zone soil fungal communities from Angel...   \n",
       "1            SRP114324  Vadose zone soil fungal communities from Angel...   \n",
       "2            SRP118410  Salt pond soil microbial communities from Sout...   \n",
       "3            SRP118410  Salt pond soil microbial communities from Sout...   \n",
       "4            SRP109330  Agricultural soil microbial communities from U...   \n",
       "...                ...                                                ...   \n",
       "139539       SRP074055                 soil metagenome Raw sequence reads   \n",
       "139540       SRP107591  Surface soil microbial communities from Centra...   \n",
       "139541             NaN                                                NaN   \n",
       "139542             NaN                                                NaN   \n",
       "139543       SRP074055                 soil metagenome Raw sequence reads   \n",
       "\n",
       "       experiment_accession                 experiment_title  \\\n",
       "0                SRX3048996               CZOMad2_1_16fungal   \n",
       "1                SRX3048996               CZOMad2_1_16fungal   \n",
       "2                SRX3203252       Salt Pond MetaG R2_B_D2_MG   \n",
       "3                SRX3203252       Salt Pond MetaG R2_B_D2_MG   \n",
       "4                SRX2924374               Steer compost 2015   \n",
       "...                     ...                              ...   \n",
       "139539           SRX3080106                Soil_metagenomics   \n",
       "139540           SRX2837995  Coalmine Soil_Cen12_06102014_R2   \n",
       "139541                  NaN                              NaN   \n",
       "139542                  NaN                              NaN   \n",
       "139543           SRX3080106                Soil_metagenomics   \n",
       "\n",
       "                        experiment_desc sample_accession  sample_title  \\\n",
       "0                    CZOMad2_1_16fungal       SRS2395758           NaN   \n",
       "1                    CZOMad2_1_16fungal       SRS2395758           NaN   \n",
       "2            Salt Pond MetaG R2_B_D2_MG       SRS2529630           NaN   \n",
       "3            Salt Pond MetaG R2_B_D2_MG       SRS2529630           NaN   \n",
       "4                    Steer compost 2015       SRS2289964           NaN   \n",
       "...                                 ...              ...           ...   \n",
       "139539                Soil_metagenomics       SRS1414112           NaN   \n",
       "139540  Coalmine Soil_Cen12_06102014_R2       SRS2212159           NaN   \n",
       "139541                              NaN              NaN           NaN   \n",
       "139542                              NaN              NaN           NaN   \n",
       "139543                Soil_metagenomics       SRS1414112           NaN   \n",
       "\n",
       "           biosample   bioproject  \n",
       "0       SAMN06264503  PRJNA364433  \n",
       "1       SAMN06264503  PRJNA364433  \n",
       "2       SAMN07631159  PRJNA405998  \n",
       "3       SAMN07631159  PRJNA405998  \n",
       "4       SAMN06343763  PRJNA375195  \n",
       "...              ...          ...  \n",
       "139539  SAMN04873807  PRJNA317932  \n",
       "139540  SAMN06343834  PRJNA375306  \n",
       "139541           NaN          NaN  \n",
       "139542           NaN          NaN  \n",
       "139543  SAMN04873807  PRJNA317932  \n",
       "\n",
       "[139544 rows x 16 columns]"
      ]
     },
     "execution_count": 301,
     "metadata": {},
     "output_type": "execute_result"
    }
   ],
   "source": [
    "srr_anno"
   ]
  },
  {
   "cell_type": "code",
   "execution_count": 333,
   "id": "25afce82-536f-45e3-a665-12b0353ac7de",
   "metadata": {
    "tags": []
   },
   "outputs": [],
   "source": [
    "srr_anno['bfd_source_database'] = srr_anno.shape[0]*['SRA']"
   ]
  },
  {
   "cell_type": "code",
   "execution_count": 335,
   "id": "7793c5f5-d5fd-4320-a671-b56a0cb928ee",
   "metadata": {
    "tags": []
   },
   "outputs": [
    {
     "data": {
      "text/plain": [
       "Index(['record_id', 'record_description', 'new_id', 'SRA_id', 'run_accession',\n",
       "       'organism_taxid', 'organism_name', 'study_accession', 'study_title',\n",
       "       'experiment_accession', 'experiment_title', 'experiment_desc',\n",
       "       'sample_accession', 'sample_title', 'biosample', 'bioproject',\n",
       "       'bfd_source_database'],\n",
       "      dtype='object')"
      ]
     },
     "execution_count": 335,
     "metadata": {},
     "output_type": "execute_result"
    }
   ],
   "source": [
    "srr_anno.columns"
   ]
  },
  {
   "cell_type": "code",
   "execution_count": 337,
   "id": "b8e5cfb3-b3c7-4442-a3cb-5fd9bde7ea6d",
   "metadata": {
    "tags": []
   },
   "outputs": [],
   "source": [
    "srr_anno = srr_anno[['record_id', 'record_description', 'new_id', 'bfd_source_database', 'SRA_id', 'run_accession',\n",
    "       'organism_taxid', 'organism_name', 'study_accession', 'study_title',\n",
    "       'experiment_accession', 'experiment_title', 'experiment_desc',\n",
    "       'sample_accession', 'sample_title', 'biosample', 'bioproject']]"
   ]
  },
  {
   "cell_type": "markdown",
   "id": "7087201c-bb50-4f77-90dd-1a362586a9a6",
   "metadata": {},
   "source": [
    "#### starting with ERR"
   ]
  },
  {
   "cell_type": "code",
   "execution_count": 69,
   "id": "11fa55a1-739b-4e41-a9fe-75e808e70071",
   "metadata": {},
   "outputs": [],
   "source": [
    "err = mapping[mapping['record_id'].apply(lambda x: True if x[:3] == 'ERR' else False)]"
   ]
  },
  {
   "cell_type": "code",
   "execution_count": 72,
   "id": "62c9011a-a353-46e7-9e3f-10f2b0144696",
   "metadata": {
    "tags": []
   },
   "outputs": [
    {
     "name": "stderr",
     "output_type": "stream",
     "text": [
      "C:\\Users\\terca\\AppData\\Local\\Temp\\ipykernel_10800\\597043604.py:1: SettingWithCopyWarning: \n",
      "A value is trying to be set on a copy of a slice from a DataFrame.\n",
      "Try using .loc[row_indexer,col_indexer] = value instead\n",
      "\n",
      "See the caveats in the documentation: https://pandas.pydata.org/pandas-docs/stable/user_guide/indexing.html#returning-a-view-versus-a-copy\n",
      "  err['SRA_id'] = err['record_id'].apply(lambda x: x.split('_')[0])\n"
     ]
    }
   ],
   "source": [
    "err['SRA_id'] = err['record_id'].apply(lambda x: x.split('_')[0])"
   ]
  },
  {
   "cell_type": "code",
   "execution_count": 73,
   "id": "8b0ba59c-f6e7-4cfd-9da9-aa1902354028",
   "metadata": {
    "tags": []
   },
   "outputs": [
    {
     "data": {
      "text/html": [
       "<div>\n",
       "<style scoped>\n",
       "    .dataframe tbody tr th:only-of-type {\n",
       "        vertical-align: middle;\n",
       "    }\n",
       "\n",
       "    .dataframe tbody tr th {\n",
       "        vertical-align: top;\n",
       "    }\n",
       "\n",
       "    .dataframe thead th {\n",
       "        text-align: right;\n",
       "    }\n",
       "</style>\n",
       "<table border=\"1\" class=\"dataframe\">\n",
       "  <thead>\n",
       "    <tr style=\"text-align: right;\">\n",
       "      <th></th>\n",
       "      <th>record_id</th>\n",
       "      <th>record_description</th>\n",
       "      <th>new_id</th>\n",
       "      <th>SRA_id</th>\n",
       "    </tr>\n",
       "  </thead>\n",
       "  <tbody>\n",
       "    <tr>\n",
       "      <th>695</th>\n",
       "      <td>ERR1039458_6172864_consensus</td>\n",
       "      <td>ERR1039458_6172864_consensus</td>\n",
       "      <td>bfd_000695</td>\n",
       "      <td>ERR1039458</td>\n",
       "    </tr>\n",
       "    <tr>\n",
       "      <th>696</th>\n",
       "      <td>ERR1039458_6172864</td>\n",
       "      <td>ERR1039458_6172864</td>\n",
       "      <td>bfd_000696</td>\n",
       "      <td>ERR1039458</td>\n",
       "    </tr>\n",
       "    <tr>\n",
       "      <th>729</th>\n",
       "      <td>ERR1700744_3935618_consensus</td>\n",
       "      <td>ERR1700744_3935618_consensus</td>\n",
       "      <td>bfd_000729</td>\n",
       "      <td>ERR1700744</td>\n",
       "    </tr>\n",
       "    <tr>\n",
       "      <th>730</th>\n",
       "      <td>ERR1700744_3935618</td>\n",
       "      <td>ERR1700744_3935618</td>\n",
       "      <td>bfd_000730</td>\n",
       "      <td>ERR1700744</td>\n",
       "    </tr>\n",
       "    <tr>\n",
       "      <th>755</th>\n",
       "      <td>ERR671936_957595_consensus</td>\n",
       "      <td>ERR671936_957595_consensus</td>\n",
       "      <td>bfd_000755</td>\n",
       "      <td>ERR671936</td>\n",
       "    </tr>\n",
       "    <tr>\n",
       "      <th>...</th>\n",
       "      <td>...</td>\n",
       "      <td>...</td>\n",
       "      <td>...</td>\n",
       "      <td>...</td>\n",
       "    </tr>\n",
       "    <tr>\n",
       "      <th>273335</th>\n",
       "      <td>ERR1711865_511212</td>\n",
       "      <td>ERR1711865_511212</td>\n",
       "      <td>bfd_273335</td>\n",
       "      <td>ERR1711865</td>\n",
       "    </tr>\n",
       "    <tr>\n",
       "      <th>273338</th>\n",
       "      <td>ERR687885_432372</td>\n",
       "      <td>ERR687885_432372</td>\n",
       "      <td>bfd_273338</td>\n",
       "      <td>ERR687885</td>\n",
       "    </tr>\n",
       "    <tr>\n",
       "      <th>273432</th>\n",
       "      <td>ERR1712000_370383</td>\n",
       "      <td>ERR1712000_370383</td>\n",
       "      <td>bfd_273432</td>\n",
       "      <td>ERR1712000</td>\n",
       "    </tr>\n",
       "    <tr>\n",
       "      <th>273498</th>\n",
       "      <td>ERR1719160_85143</td>\n",
       "      <td>ERR1719160_85143</td>\n",
       "      <td>bfd_273498</td>\n",
       "      <td>ERR1719160</td>\n",
       "    </tr>\n",
       "    <tr>\n",
       "      <th>273500</th>\n",
       "      <td>ERR1712000_544012</td>\n",
       "      <td>ERR1712000_544012</td>\n",
       "      <td>bfd_273500</td>\n",
       "      <td>ERR1712000</td>\n",
       "    </tr>\n",
       "  </tbody>\n",
       "</table>\n",
       "<p>29941 rows × 4 columns</p>\n",
       "</div>"
      ],
      "text/plain": [
       "                           record_id            record_description  \\\n",
       "695     ERR1039458_6172864_consensus  ERR1039458_6172864_consensus   \n",
       "696               ERR1039458_6172864            ERR1039458_6172864   \n",
       "729     ERR1700744_3935618_consensus  ERR1700744_3935618_consensus   \n",
       "730               ERR1700744_3935618            ERR1700744_3935618   \n",
       "755       ERR671936_957595_consensus    ERR671936_957595_consensus   \n",
       "...                              ...                           ...   \n",
       "273335             ERR1711865_511212             ERR1711865_511212   \n",
       "273338              ERR687885_432372              ERR687885_432372   \n",
       "273432             ERR1712000_370383             ERR1712000_370383   \n",
       "273498              ERR1719160_85143              ERR1719160_85143   \n",
       "273500             ERR1712000_544012             ERR1712000_544012   \n",
       "\n",
       "            new_id      SRA_id  \n",
       "695     bfd_000695  ERR1039458  \n",
       "696     bfd_000696  ERR1039458  \n",
       "729     bfd_000729  ERR1700744  \n",
       "730     bfd_000730  ERR1700744  \n",
       "755     bfd_000755   ERR671936  \n",
       "...            ...         ...  \n",
       "273335  bfd_273335  ERR1711865  \n",
       "273338  bfd_273338   ERR687885  \n",
       "273432  bfd_273432  ERR1712000  \n",
       "273498  bfd_273498  ERR1719160  \n",
       "273500  bfd_273500  ERR1712000  \n",
       "\n",
       "[29941 rows x 4 columns]"
      ]
     },
     "execution_count": 73,
     "metadata": {},
     "output_type": "execute_result"
    }
   ],
   "source": [
    "err"
   ]
  },
  {
   "cell_type": "code",
   "execution_count": 74,
   "id": "9393c168-3c0d-4b56-93eb-b1bc6918f75b",
   "metadata": {
    "tags": []
   },
   "outputs": [],
   "source": [
    "err_runs = err['SRA_id'].value_counts().index.tolist()"
   ]
  },
  {
   "cell_type": "code",
   "execution_count": 76,
   "id": "1f9d746b-7784-4181-81ce-68eb5d0cc8e2",
   "metadata": {
    "tags": []
   },
   "outputs": [
    {
     "data": {
      "text/plain": [
       "643"
      ]
     },
     "execution_count": 76,
     "metadata": {},
     "output_type": "execute_result"
    }
   ],
   "source": [
    "len(err_runs)"
   ]
  },
  {
   "cell_type": "code",
   "execution_count": 79,
   "id": "f1bc2b65-6737-4b9b-a691-f8e08ceb0c84",
   "metadata": {
    "tags": []
   },
   "outputs": [],
   "source": [
    "df_l = []\n",
    "for i in range(0,len(err_runs)+1,50):\n",
    "    chunk = err_runs[i:i+50]\n",
    "    df = db.sra_metadata(chunk)\n",
    "    df_l.append(df[cols])"
   ]
  },
  {
   "cell_type": "code",
   "execution_count": 80,
   "id": "f1c9e890-d221-425b-af6f-adb5a01ebd9c",
   "metadata": {
    "tags": []
   },
   "outputs": [],
   "source": [
    "err_data_df = pd.concat(df_l)"
   ]
  },
  {
   "cell_type": "code",
   "execution_count": 81,
   "id": "992de960-5d94-4f00-8bf4-3c8bdc1de84d",
   "metadata": {
    "tags": []
   },
   "outputs": [
    {
     "data": {
      "text/html": [
       "<div>\n",
       "<style scoped>\n",
       "    .dataframe tbody tr th:only-of-type {\n",
       "        vertical-align: middle;\n",
       "    }\n",
       "\n",
       "    .dataframe tbody tr th {\n",
       "        vertical-align: top;\n",
       "    }\n",
       "\n",
       "    .dataframe thead th {\n",
       "        text-align: right;\n",
       "    }\n",
       "</style>\n",
       "<table border=\"1\" class=\"dataframe\">\n",
       "  <thead>\n",
       "    <tr style=\"text-align: right;\">\n",
       "      <th></th>\n",
       "      <th>run_accession</th>\n",
       "      <th>organism_taxid</th>\n",
       "      <th>organism_name</th>\n",
       "      <th>study_accession</th>\n",
       "      <th>study_title</th>\n",
       "      <th>experiment_accession</th>\n",
       "      <th>experiment_title</th>\n",
       "      <th>experiment_desc</th>\n",
       "      <th>sample_accession</th>\n",
       "      <th>sample_title</th>\n",
       "      <th>biosample</th>\n",
       "      <th>bioproject</th>\n",
       "    </tr>\n",
       "  </thead>\n",
       "  <tbody>\n",
       "    <tr>\n",
       "      <th>49</th>\n",
       "      <td>ERR1017187</td>\n",
       "      <td>410658</td>\n",
       "      <td>soil metagenome</td>\n",
       "      <td>ERP012016</td>\n",
       "      <td>We employed shotgun metagenome and 16S rDNA ge...</td>\n",
       "      <td>ERX1096254</td>\n",
       "      <td>Illumina HiSeq 2000 paired end sequencing</td>\n",
       "      <td>Illumina HiSeq 2000 paired end sequencing</td>\n",
       "      <td>ERS846450</td>\n",
       "      <td></td>\n",
       "      <td>SAMEA3539301</td>\n",
       "      <td>PRJEB10725</td>\n",
       "    </tr>\n",
       "    <tr>\n",
       "      <th>48</th>\n",
       "      <td>ERR1019366</td>\n",
       "      <td>410658</td>\n",
       "      <td>soil metagenome</td>\n",
       "      <td>ERP012016</td>\n",
       "      <td>We employed shotgun metagenome and 16S rDNA ge...</td>\n",
       "      <td>ERX1098306</td>\n",
       "      <td>Illumina HiSeq 2000 paired end sequencing</td>\n",
       "      <td>Illumina HiSeq 2000 paired end sequencing</td>\n",
       "      <td>ERS846452</td>\n",
       "      <td></td>\n",
       "      <td>SAMEA3539303</td>\n",
       "      <td>PRJEB10725</td>\n",
       "    </tr>\n",
       "    <tr>\n",
       "      <th>47</th>\n",
       "      <td>ERR1022692</td>\n",
       "      <td>410658</td>\n",
       "      <td>soil metagenome</td>\n",
       "      <td>ERP012016</td>\n",
       "      <td>We employed shotgun metagenome and 16S rDNA ge...</td>\n",
       "      <td>ERX1101572</td>\n",
       "      <td>Illumina HiSeq 2000 paired end sequencing</td>\n",
       "      <td>Illumina HiSeq 2000 paired end sequencing</td>\n",
       "      <td>ERS846455</td>\n",
       "      <td></td>\n",
       "      <td>SAMEA3539306</td>\n",
       "      <td>PRJEB10725</td>\n",
       "    </tr>\n",
       "    <tr>\n",
       "      <th>46</th>\n",
       "      <td>ERR1035437</td>\n",
       "      <td>410658</td>\n",
       "      <td>soil metagenome</td>\n",
       "      <td>ERP012016</td>\n",
       "      <td>We employed shotgun metagenome and 16S rDNA ge...</td>\n",
       "      <td>ERX1114171</td>\n",
       "      <td>Illumina HiSeq 2000 paired end sequencing</td>\n",
       "      <td>Illumina HiSeq 2000 paired end sequencing</td>\n",
       "      <td>ERS846457</td>\n",
       "      <td></td>\n",
       "      <td>SAMEA3539308</td>\n",
       "      <td>PRJEB10725</td>\n",
       "    </tr>\n",
       "    <tr>\n",
       "      <th>45</th>\n",
       "      <td>ERR1035438</td>\n",
       "      <td>410658</td>\n",
       "      <td>soil metagenome</td>\n",
       "      <td>ERP012016</td>\n",
       "      <td>We employed shotgun metagenome and 16S rDNA ge...</td>\n",
       "      <td>ERX1114172</td>\n",
       "      <td>Illumina HiSeq 2000 paired end sequencing</td>\n",
       "      <td>Illumina HiSeq 2000 paired end sequencing</td>\n",
       "      <td>ERS846458</td>\n",
       "      <td></td>\n",
       "      <td>SAMEA3539309</td>\n",
       "      <td>PRJEB10725</td>\n",
       "    </tr>\n",
       "    <tr>\n",
       "      <th>...</th>\n",
       "      <td>...</td>\n",
       "      <td>...</td>\n",
       "      <td>...</td>\n",
       "      <td>...</td>\n",
       "      <td>...</td>\n",
       "      <td>...</td>\n",
       "      <td>...</td>\n",
       "      <td>...</td>\n",
       "      <td>...</td>\n",
       "      <td>...</td>\n",
       "      <td>...</td>\n",
       "      <td>...</td>\n",
       "    </tr>\n",
       "    <tr>\n",
       "      <th>13</th>\n",
       "      <td>ERR1719373</td>\n",
       "      <td>408172</td>\n",
       "      <td>marine metagenome</td>\n",
       "      <td>ERP006156</td>\n",
       "      <td>Metatranscriptome sequencing from  samples cor...</td>\n",
       "      <td>ERX1789480</td>\n",
       "      <td>Illumina HiSeq 2000 paired end sequencing; env...</td>\n",
       "      <td>Illumina HiSeq 2000 paired end sequencing; env...</td>\n",
       "      <td>ERS492161</td>\n",
       "      <td></td>\n",
       "      <td>SAMEA2657063</td>\n",
       "      <td>PRJEB6609</td>\n",
       "    </tr>\n",
       "    <tr>\n",
       "      <th>14</th>\n",
       "      <td>ERR1719398</td>\n",
       "      <td>408172</td>\n",
       "      <td>marine metagenome</td>\n",
       "      <td>ERP006156</td>\n",
       "      <td>Metatranscriptome sequencing from  samples cor...</td>\n",
       "      <td>ERX1789410</td>\n",
       "      <td>Illumina HiSeq 2000 paired end sequencing; env...</td>\n",
       "      <td>Illumina HiSeq 2000 paired end sequencing; env...</td>\n",
       "      <td>ERS494660</td>\n",
       "      <td></td>\n",
       "      <td>SAMEA2623948</td>\n",
       "      <td>PRJEB6609</td>\n",
       "    </tr>\n",
       "    <tr>\n",
       "      <th>7</th>\n",
       "      <td>ERR1719476</td>\n",
       "      <td>408172</td>\n",
       "      <td>marine metagenome</td>\n",
       "      <td>ERP006156</td>\n",
       "      <td>Metatranscriptome sequencing from  samples cor...</td>\n",
       "      <td>ERX1789598</td>\n",
       "      <td>Illumina HiSeq 2000 paired end sequencing; env...</td>\n",
       "      <td>Illumina HiSeq 2000 paired end sequencing; env...</td>\n",
       "      <td>ERS493572</td>\n",
       "      <td></td>\n",
       "      <td>SAMEA2732994</td>\n",
       "      <td>PRJEB6609</td>\n",
       "    </tr>\n",
       "    <tr>\n",
       "      <th>5</th>\n",
       "      <td>ERR1719477</td>\n",
       "      <td>408172</td>\n",
       "      <td>marine metagenome</td>\n",
       "      <td>ERP006156</td>\n",
       "      <td>Metatranscriptome sequencing from  samples cor...</td>\n",
       "      <td>ERX1789614</td>\n",
       "      <td>Illumina HiSeq 2000 paired end sequencing; env...</td>\n",
       "      <td>Illumina HiSeq 2000 paired end sequencing; env...</td>\n",
       "      <td>ERS491435</td>\n",
       "      <td></td>\n",
       "      <td>SAMEA2621793</td>\n",
       "      <td>PRJEB6609</td>\n",
       "    </tr>\n",
       "    <tr>\n",
       "      <th>11</th>\n",
       "      <td>ERR1719505</td>\n",
       "      <td>408172</td>\n",
       "      <td>marine metagenome</td>\n",
       "      <td>ERP006156</td>\n",
       "      <td>Metatranscriptome sequencing from  samples cor...</td>\n",
       "      <td>ERX1789495</td>\n",
       "      <td>Illumina HiSeq 2000 paired end sequencing; env...</td>\n",
       "      <td>Illumina HiSeq 2000 paired end sequencing; env...</td>\n",
       "      <td>ERS493526</td>\n",
       "      <td></td>\n",
       "      <td>SAMEA2732932</td>\n",
       "      <td>PRJEB6609</td>\n",
       "    </tr>\n",
       "  </tbody>\n",
       "</table>\n",
       "<p>643 rows × 12 columns</p>\n",
       "</div>"
      ],
      "text/plain": [
       "   run_accession organism_taxid      organism_name study_accession  \\\n",
       "49    ERR1017187         410658    soil metagenome       ERP012016   \n",
       "48    ERR1019366         410658    soil metagenome       ERP012016   \n",
       "47    ERR1022692         410658    soil metagenome       ERP012016   \n",
       "46    ERR1035437         410658    soil metagenome       ERP012016   \n",
       "45    ERR1035438         410658    soil metagenome       ERP012016   \n",
       "..           ...            ...                ...             ...   \n",
       "13    ERR1719373         408172  marine metagenome       ERP006156   \n",
       "14    ERR1719398         408172  marine metagenome       ERP006156   \n",
       "7     ERR1719476         408172  marine metagenome       ERP006156   \n",
       "5     ERR1719477         408172  marine metagenome       ERP006156   \n",
       "11    ERR1719505         408172  marine metagenome       ERP006156   \n",
       "\n",
       "                                          study_title experiment_accession  \\\n",
       "49  We employed shotgun metagenome and 16S rDNA ge...           ERX1096254   \n",
       "48  We employed shotgun metagenome and 16S rDNA ge...           ERX1098306   \n",
       "47  We employed shotgun metagenome and 16S rDNA ge...           ERX1101572   \n",
       "46  We employed shotgun metagenome and 16S rDNA ge...           ERX1114171   \n",
       "45  We employed shotgun metagenome and 16S rDNA ge...           ERX1114172   \n",
       "..                                                ...                  ...   \n",
       "13  Metatranscriptome sequencing from  samples cor...           ERX1789480   \n",
       "14  Metatranscriptome sequencing from  samples cor...           ERX1789410   \n",
       "7   Metatranscriptome sequencing from  samples cor...           ERX1789598   \n",
       "5   Metatranscriptome sequencing from  samples cor...           ERX1789614   \n",
       "11  Metatranscriptome sequencing from  samples cor...           ERX1789495   \n",
       "\n",
       "                                     experiment_title  \\\n",
       "49          Illumina HiSeq 2000 paired end sequencing   \n",
       "48          Illumina HiSeq 2000 paired end sequencing   \n",
       "47          Illumina HiSeq 2000 paired end sequencing   \n",
       "46          Illumina HiSeq 2000 paired end sequencing   \n",
       "45          Illumina HiSeq 2000 paired end sequencing   \n",
       "..                                                ...   \n",
       "13  Illumina HiSeq 2000 paired end sequencing; env...   \n",
       "14  Illumina HiSeq 2000 paired end sequencing; env...   \n",
       "7   Illumina HiSeq 2000 paired end sequencing; env...   \n",
       "5   Illumina HiSeq 2000 paired end sequencing; env...   \n",
       "11  Illumina HiSeq 2000 paired end sequencing; env...   \n",
       "\n",
       "                                      experiment_desc sample_accession  \\\n",
       "49          Illumina HiSeq 2000 paired end sequencing        ERS846450   \n",
       "48          Illumina HiSeq 2000 paired end sequencing        ERS846452   \n",
       "47          Illumina HiSeq 2000 paired end sequencing        ERS846455   \n",
       "46          Illumina HiSeq 2000 paired end sequencing        ERS846457   \n",
       "45          Illumina HiSeq 2000 paired end sequencing        ERS846458   \n",
       "..                                                ...              ...   \n",
       "13  Illumina HiSeq 2000 paired end sequencing; env...        ERS492161   \n",
       "14  Illumina HiSeq 2000 paired end sequencing; env...        ERS494660   \n",
       "7   Illumina HiSeq 2000 paired end sequencing; env...        ERS493572   \n",
       "5   Illumina HiSeq 2000 paired end sequencing; env...        ERS491435   \n",
       "11  Illumina HiSeq 2000 paired end sequencing; env...        ERS493526   \n",
       "\n",
       "   sample_title     biosample  bioproject  \n",
       "49               SAMEA3539301  PRJEB10725  \n",
       "48               SAMEA3539303  PRJEB10725  \n",
       "47               SAMEA3539306  PRJEB10725  \n",
       "46               SAMEA3539308  PRJEB10725  \n",
       "45               SAMEA3539309  PRJEB10725  \n",
       "..          ...           ...         ...  \n",
       "13               SAMEA2657063   PRJEB6609  \n",
       "14               SAMEA2623948   PRJEB6609  \n",
       "7                SAMEA2732994   PRJEB6609  \n",
       "5                SAMEA2621793   PRJEB6609  \n",
       "11               SAMEA2732932   PRJEB6609  \n",
       "\n",
       "[643 rows x 12 columns]"
      ]
     },
     "execution_count": 81,
     "metadata": {},
     "output_type": "execute_result"
    }
   ],
   "source": [
    "err_data_df"
   ]
  },
  {
   "cell_type": "code",
   "execution_count": 82,
   "id": "0f223877-79d9-4c43-8fc8-4eb689263d44",
   "metadata": {
    "tags": []
   },
   "outputs": [
    {
     "data": {
      "text/plain": [
       "organism_name\n",
       "marine metagenome    513\n",
       "soil metagenome      130\n",
       "Name: count, dtype: int64"
      ]
     },
     "execution_count": 82,
     "metadata": {},
     "output_type": "execute_result"
    }
   ],
   "source": [
    "err_data_df['organism_name'].value_counts()"
   ]
  },
  {
   "cell_type": "code",
   "execution_count": 84,
   "id": "aa1ef74e-873a-41b2-8bea-57b71575347a",
   "metadata": {
    "tags": []
   },
   "outputs": [],
   "source": [
    "err_anno = err.merge(err_data_df, how='left', left_on='SRA_id', right_on='run_accession')"
   ]
  },
  {
   "cell_type": "code",
   "execution_count": 87,
   "id": "9472ed9e-45ae-47f6-b05b-569093d5bc6c",
   "metadata": {
    "tags": []
   },
   "outputs": [],
   "source": [
    "err_anno.to_csv('bfd_err_sra_anno.csv')"
   ]
  },
  {
   "cell_type": "code",
   "execution_count": 98,
   "id": "50bd35f7-c3e3-47dd-93cc-11746253d734",
   "metadata": {
    "tags": []
   },
   "outputs": [
    {
     "data": {
      "text/plain": [
       "0.6196099219478312"
      ]
     },
     "execution_count": 98,
     "metadata": {},
     "output_type": "execute_result"
    }
   ],
   "source": [
    "(srr.shape[0] + err.shape[0]) / mapping.shape[0]"
   ]
  },
  {
   "cell_type": "code",
   "execution_count": 298,
   "id": "bad8b7eb-31d1-4719-b868-16c07f0215aa",
   "metadata": {
    "tags": []
   },
   "outputs": [],
   "source": [
    "err_anno = pd.read_csv('bfd_err_sra_anno.csv', index_col=0)"
   ]
  },
  {
   "cell_type": "code",
   "execution_count": 299,
   "id": "6112a7d2-0218-4ba1-ac2c-fdbcefb7acd6",
   "metadata": {
    "tags": []
   },
   "outputs": [
    {
     "data": {
      "text/html": [
       "<div>\n",
       "<style scoped>\n",
       "    .dataframe tbody tr th:only-of-type {\n",
       "        vertical-align: middle;\n",
       "    }\n",
       "\n",
       "    .dataframe tbody tr th {\n",
       "        vertical-align: top;\n",
       "    }\n",
       "\n",
       "    .dataframe thead th {\n",
       "        text-align: right;\n",
       "    }\n",
       "</style>\n",
       "<table border=\"1\" class=\"dataframe\">\n",
       "  <thead>\n",
       "    <tr style=\"text-align: right;\">\n",
       "      <th></th>\n",
       "      <th>record_id</th>\n",
       "      <th>record_description</th>\n",
       "      <th>new_id</th>\n",
       "      <th>SRA_id</th>\n",
       "      <th>run_accession</th>\n",
       "      <th>organism_taxid</th>\n",
       "      <th>organism_name</th>\n",
       "      <th>study_accession</th>\n",
       "      <th>study_title</th>\n",
       "      <th>experiment_accession</th>\n",
       "      <th>experiment_title</th>\n",
       "      <th>experiment_desc</th>\n",
       "      <th>sample_accession</th>\n",
       "      <th>sample_title</th>\n",
       "      <th>biosample</th>\n",
       "      <th>bioproject</th>\n",
       "    </tr>\n",
       "  </thead>\n",
       "  <tbody>\n",
       "    <tr>\n",
       "      <th>0</th>\n",
       "      <td>ERR1039458_6172864_consensus</td>\n",
       "      <td>ERR1039458_6172864_consensus</td>\n",
       "      <td>bfd_000695</td>\n",
       "      <td>ERR1039458</td>\n",
       "      <td>ERR1039458</td>\n",
       "      <td>410658</td>\n",
       "      <td>soil metagenome</td>\n",
       "      <td>ERP012016</td>\n",
       "      <td>We employed shotgun metagenome and 16S rDNA ge...</td>\n",
       "      <td>ERX1118212</td>\n",
       "      <td>Illumina HiSeq 2000 paired end sequencing</td>\n",
       "      <td>Illumina HiSeq 2000 paired end sequencing</td>\n",
       "      <td>ERS846459</td>\n",
       "      <td>NaN</td>\n",
       "      <td>SAMEA3539310</td>\n",
       "      <td>PRJEB10725</td>\n",
       "    </tr>\n",
       "    <tr>\n",
       "      <th>1</th>\n",
       "      <td>ERR1039458_6172864</td>\n",
       "      <td>ERR1039458_6172864</td>\n",
       "      <td>bfd_000696</td>\n",
       "      <td>ERR1039458</td>\n",
       "      <td>ERR1039458</td>\n",
       "      <td>410658</td>\n",
       "      <td>soil metagenome</td>\n",
       "      <td>ERP012016</td>\n",
       "      <td>We employed shotgun metagenome and 16S rDNA ge...</td>\n",
       "      <td>ERX1118212</td>\n",
       "      <td>Illumina HiSeq 2000 paired end sequencing</td>\n",
       "      <td>Illumina HiSeq 2000 paired end sequencing</td>\n",
       "      <td>ERS846459</td>\n",
       "      <td>NaN</td>\n",
       "      <td>SAMEA3539310</td>\n",
       "      <td>PRJEB10725</td>\n",
       "    </tr>\n",
       "    <tr>\n",
       "      <th>2</th>\n",
       "      <td>ERR1700744_3935618_consensus</td>\n",
       "      <td>ERR1700744_3935618_consensus</td>\n",
       "      <td>bfd_000729</td>\n",
       "      <td>ERR1700744</td>\n",
       "      <td>ERR1700744</td>\n",
       "      <td>410658</td>\n",
       "      <td>soil metagenome</td>\n",
       "      <td>ERP009498</td>\n",
       "      <td>Forest harvesting reduces the soil metagenomic...</td>\n",
       "      <td>ERX1771032</td>\n",
       "      <td>Illumina HiSeq 2500 paired end sequencing</td>\n",
       "      <td>Illumina HiSeq 2500 paired end sequencing</td>\n",
       "      <td>ERS1420573</td>\n",
       "      <td>NaN</td>\n",
       "      <td>SAMEA4521394</td>\n",
       "      <td>PRJEB8420</td>\n",
       "    </tr>\n",
       "    <tr>\n",
       "      <th>3</th>\n",
       "      <td>ERR1700744_3935618</td>\n",
       "      <td>ERR1700744_3935618</td>\n",
       "      <td>bfd_000730</td>\n",
       "      <td>ERR1700744</td>\n",
       "      <td>ERR1700744</td>\n",
       "      <td>410658</td>\n",
       "      <td>soil metagenome</td>\n",
       "      <td>ERP009498</td>\n",
       "      <td>Forest harvesting reduces the soil metagenomic...</td>\n",
       "      <td>ERX1771032</td>\n",
       "      <td>Illumina HiSeq 2500 paired end sequencing</td>\n",
       "      <td>Illumina HiSeq 2500 paired end sequencing</td>\n",
       "      <td>ERS1420573</td>\n",
       "      <td>NaN</td>\n",
       "      <td>SAMEA4521394</td>\n",
       "      <td>PRJEB8420</td>\n",
       "    </tr>\n",
       "    <tr>\n",
       "      <th>4</th>\n",
       "      <td>ERR671936_957595_consensus</td>\n",
       "      <td>ERR671936_957595_consensus</td>\n",
       "      <td>bfd_000755</td>\n",
       "      <td>ERR671936</td>\n",
       "      <td>ERR671936</td>\n",
       "      <td>410658</td>\n",
       "      <td>soil metagenome</td>\n",
       "      <td>ERP008551</td>\n",
       "      <td>BASE – Biomes of Australian Soil Environments</td>\n",
       "      <td>ERX626914</td>\n",
       "      <td>Illumina HiSeq 2500 paired end sequencing</td>\n",
       "      <td>Illumina HiSeq 2500 paired end sequencing</td>\n",
       "      <td>ERS580785</td>\n",
       "      <td>NaN</td>\n",
       "      <td>SAMEA3113575</td>\n",
       "      <td>PRJEB7626</td>\n",
       "    </tr>\n",
       "    <tr>\n",
       "      <th>...</th>\n",
       "      <td>...</td>\n",
       "      <td>...</td>\n",
       "      <td>...</td>\n",
       "      <td>...</td>\n",
       "      <td>...</td>\n",
       "      <td>...</td>\n",
       "      <td>...</td>\n",
       "      <td>...</td>\n",
       "      <td>...</td>\n",
       "      <td>...</td>\n",
       "      <td>...</td>\n",
       "      <td>...</td>\n",
       "      <td>...</td>\n",
       "      <td>...</td>\n",
       "      <td>...</td>\n",
       "      <td>...</td>\n",
       "    </tr>\n",
       "    <tr>\n",
       "      <th>29936</th>\n",
       "      <td>ERR1711865_511212</td>\n",
       "      <td>ERR1711865_511212</td>\n",
       "      <td>bfd_273335</td>\n",
       "      <td>ERR1711865</td>\n",
       "      <td>ERR1711865</td>\n",
       "      <td>408172</td>\n",
       "      <td>marine metagenome</td>\n",
       "      <td>ERP006156</td>\n",
       "      <td>Metatranscriptome sequencing from  samples cor...</td>\n",
       "      <td>ERX1782371</td>\n",
       "      <td>Illumina HiSeq 2000 paired end sequencing; env...</td>\n",
       "      <td>Illumina HiSeq 2000 paired end sequencing; env...</td>\n",
       "      <td>ERS491012</td>\n",
       "      <td>NaN</td>\n",
       "      <td>SAMEA2621498</td>\n",
       "      <td>PRJEB6609</td>\n",
       "    </tr>\n",
       "    <tr>\n",
       "      <th>29937</th>\n",
       "      <td>ERR687885_432372</td>\n",
       "      <td>ERR687885_432372</td>\n",
       "      <td>bfd_273338</td>\n",
       "      <td>ERR687885</td>\n",
       "      <td>ERR687885</td>\n",
       "      <td>410658</td>\n",
       "      <td>soil metagenome</td>\n",
       "      <td>ERP008551</td>\n",
       "      <td>BASE – Biomes of Australian Soil Environments</td>\n",
       "      <td>ERX632828</td>\n",
       "      <td>Illumina HiSeq 2500 paired end sequencing</td>\n",
       "      <td>Illumina HiSeq 2500 paired end sequencing</td>\n",
       "      <td>ERS580786</td>\n",
       "      <td>NaN</td>\n",
       "      <td>SAMEA3113576</td>\n",
       "      <td>PRJEB7626</td>\n",
       "    </tr>\n",
       "    <tr>\n",
       "      <th>29938</th>\n",
       "      <td>ERR1712000_370383</td>\n",
       "      <td>ERR1712000_370383</td>\n",
       "      <td>bfd_273432</td>\n",
       "      <td>ERR1712000</td>\n",
       "      <td>ERR1712000</td>\n",
       "      <td>408172</td>\n",
       "      <td>marine metagenome</td>\n",
       "      <td>ERP006156</td>\n",
       "      <td>Metatranscriptome sequencing from  samples cor...</td>\n",
       "      <td>ERX1782408</td>\n",
       "      <td>Illumina HiSeq 2000 paired end sequencing; env...</td>\n",
       "      <td>Illumina HiSeq 2000 paired end sequencing; env...</td>\n",
       "      <td>ERS493829</td>\n",
       "      <td>NaN</td>\n",
       "      <td>SAMEA2623397</td>\n",
       "      <td>PRJEB6609</td>\n",
       "    </tr>\n",
       "    <tr>\n",
       "      <th>29939</th>\n",
       "      <td>ERR1719160_85143</td>\n",
       "      <td>ERR1719160_85143</td>\n",
       "      <td>bfd_273498</td>\n",
       "      <td>ERR1719160</td>\n",
       "      <td>ERR1719160</td>\n",
       "      <td>408172</td>\n",
       "      <td>marine metagenome</td>\n",
       "      <td>ERP006156</td>\n",
       "      <td>Metatranscriptome sequencing from  samples cor...</td>\n",
       "      <td>ERX1789539</td>\n",
       "      <td>Illumina HiSeq 2000 paired end sequencing; env...</td>\n",
       "      <td>Illumina HiSeq 2000 paired end sequencing; env...</td>\n",
       "      <td>ERS492825</td>\n",
       "      <td>NaN</td>\n",
       "      <td>SAMEA2622770</td>\n",
       "      <td>PRJEB6609</td>\n",
       "    </tr>\n",
       "    <tr>\n",
       "      <th>29940</th>\n",
       "      <td>ERR1712000_544012</td>\n",
       "      <td>ERR1712000_544012</td>\n",
       "      <td>bfd_273500</td>\n",
       "      <td>ERR1712000</td>\n",
       "      <td>ERR1712000</td>\n",
       "      <td>408172</td>\n",
       "      <td>marine metagenome</td>\n",
       "      <td>ERP006156</td>\n",
       "      <td>Metatranscriptome sequencing from  samples cor...</td>\n",
       "      <td>ERX1782408</td>\n",
       "      <td>Illumina HiSeq 2000 paired end sequencing; env...</td>\n",
       "      <td>Illumina HiSeq 2000 paired end sequencing; env...</td>\n",
       "      <td>ERS493829</td>\n",
       "      <td>NaN</td>\n",
       "      <td>SAMEA2623397</td>\n",
       "      <td>PRJEB6609</td>\n",
       "    </tr>\n",
       "  </tbody>\n",
       "</table>\n",
       "<p>29941 rows × 16 columns</p>\n",
       "</div>"
      ],
      "text/plain": [
       "                          record_id            record_description      new_id  \\\n",
       "0      ERR1039458_6172864_consensus  ERR1039458_6172864_consensus  bfd_000695   \n",
       "1                ERR1039458_6172864            ERR1039458_6172864  bfd_000696   \n",
       "2      ERR1700744_3935618_consensus  ERR1700744_3935618_consensus  bfd_000729   \n",
       "3                ERR1700744_3935618            ERR1700744_3935618  bfd_000730   \n",
       "4        ERR671936_957595_consensus    ERR671936_957595_consensus  bfd_000755   \n",
       "...                             ...                           ...         ...   \n",
       "29936             ERR1711865_511212             ERR1711865_511212  bfd_273335   \n",
       "29937              ERR687885_432372              ERR687885_432372  bfd_273338   \n",
       "29938             ERR1712000_370383             ERR1712000_370383  bfd_273432   \n",
       "29939              ERR1719160_85143              ERR1719160_85143  bfd_273498   \n",
       "29940             ERR1712000_544012             ERR1712000_544012  bfd_273500   \n",
       "\n",
       "           SRA_id run_accession  organism_taxid      organism_name  \\\n",
       "0      ERR1039458    ERR1039458          410658    soil metagenome   \n",
       "1      ERR1039458    ERR1039458          410658    soil metagenome   \n",
       "2      ERR1700744    ERR1700744          410658    soil metagenome   \n",
       "3      ERR1700744    ERR1700744          410658    soil metagenome   \n",
       "4       ERR671936     ERR671936          410658    soil metagenome   \n",
       "...           ...           ...             ...                ...   \n",
       "29936  ERR1711865    ERR1711865          408172  marine metagenome   \n",
       "29937   ERR687885     ERR687885          410658    soil metagenome   \n",
       "29938  ERR1712000    ERR1712000          408172  marine metagenome   \n",
       "29939  ERR1719160    ERR1719160          408172  marine metagenome   \n",
       "29940  ERR1712000    ERR1712000          408172  marine metagenome   \n",
       "\n",
       "      study_accession                                        study_title  \\\n",
       "0           ERP012016  We employed shotgun metagenome and 16S rDNA ge...   \n",
       "1           ERP012016  We employed shotgun metagenome and 16S rDNA ge...   \n",
       "2           ERP009498  Forest harvesting reduces the soil metagenomic...   \n",
       "3           ERP009498  Forest harvesting reduces the soil metagenomic...   \n",
       "4           ERP008551      BASE – Biomes of Australian Soil Environments   \n",
       "...               ...                                                ...   \n",
       "29936       ERP006156  Metatranscriptome sequencing from  samples cor...   \n",
       "29937       ERP008551      BASE – Biomes of Australian Soil Environments   \n",
       "29938       ERP006156  Metatranscriptome sequencing from  samples cor...   \n",
       "29939       ERP006156  Metatranscriptome sequencing from  samples cor...   \n",
       "29940       ERP006156  Metatranscriptome sequencing from  samples cor...   \n",
       "\n",
       "      experiment_accession                                   experiment_title  \\\n",
       "0               ERX1118212          Illumina HiSeq 2000 paired end sequencing   \n",
       "1               ERX1118212          Illumina HiSeq 2000 paired end sequencing   \n",
       "2               ERX1771032          Illumina HiSeq 2500 paired end sequencing   \n",
       "3               ERX1771032          Illumina HiSeq 2500 paired end sequencing   \n",
       "4                ERX626914          Illumina HiSeq 2500 paired end sequencing   \n",
       "...                    ...                                                ...   \n",
       "29936           ERX1782371  Illumina HiSeq 2000 paired end sequencing; env...   \n",
       "29937            ERX632828          Illumina HiSeq 2500 paired end sequencing   \n",
       "29938           ERX1782408  Illumina HiSeq 2000 paired end sequencing; env...   \n",
       "29939           ERX1789539  Illumina HiSeq 2000 paired end sequencing; env...   \n",
       "29940           ERX1782408  Illumina HiSeq 2000 paired end sequencing; env...   \n",
       "\n",
       "                                         experiment_desc sample_accession  \\\n",
       "0              Illumina HiSeq 2000 paired end sequencing        ERS846459   \n",
       "1              Illumina HiSeq 2000 paired end sequencing        ERS846459   \n",
       "2              Illumina HiSeq 2500 paired end sequencing       ERS1420573   \n",
       "3              Illumina HiSeq 2500 paired end sequencing       ERS1420573   \n",
       "4              Illumina HiSeq 2500 paired end sequencing        ERS580785   \n",
       "...                                                  ...              ...   \n",
       "29936  Illumina HiSeq 2000 paired end sequencing; env...        ERS491012   \n",
       "29937          Illumina HiSeq 2500 paired end sequencing        ERS580786   \n",
       "29938  Illumina HiSeq 2000 paired end sequencing; env...        ERS493829   \n",
       "29939  Illumina HiSeq 2000 paired end sequencing; env...        ERS492825   \n",
       "29940  Illumina HiSeq 2000 paired end sequencing; env...        ERS493829   \n",
       "\n",
       "       sample_title     biosample  bioproject  \n",
       "0               NaN  SAMEA3539310  PRJEB10725  \n",
       "1               NaN  SAMEA3539310  PRJEB10725  \n",
       "2               NaN  SAMEA4521394   PRJEB8420  \n",
       "3               NaN  SAMEA4521394   PRJEB8420  \n",
       "4               NaN  SAMEA3113575   PRJEB7626  \n",
       "...             ...           ...         ...  \n",
       "29936           NaN  SAMEA2621498   PRJEB6609  \n",
       "29937           NaN  SAMEA3113576   PRJEB7626  \n",
       "29938           NaN  SAMEA2623397   PRJEB6609  \n",
       "29939           NaN  SAMEA2622770   PRJEB6609  \n",
       "29940           NaN  SAMEA2623397   PRJEB6609  \n",
       "\n",
       "[29941 rows x 16 columns]"
      ]
     },
     "execution_count": 299,
     "metadata": {},
     "output_type": "execute_result"
    }
   ],
   "source": [
    "err_anno"
   ]
  },
  {
   "cell_type": "code",
   "execution_count": 338,
   "id": "8cd2d717-19b6-447f-890c-86c6d26f5aa6",
   "metadata": {
    "tags": []
   },
   "outputs": [],
   "source": [
    "err_anno['bfd_source_database'] = err_anno.shape[0]*['SRA']"
   ]
  },
  {
   "cell_type": "code",
   "execution_count": 339,
   "id": "aa174044-b4ac-405a-8c35-f992f1c9e2b7",
   "metadata": {
    "tags": []
   },
   "outputs": [],
   "source": [
    "err_anno = err_anno[['record_id', 'record_description', 'new_id', 'bfd_source_database', 'SRA_id', 'run_accession',\n",
    "       'organism_taxid', 'organism_name', 'study_accession', 'study_title',\n",
    "       'experiment_accession', 'experiment_title', 'experiment_desc',\n",
    "       'sample_accession', 'sample_title', 'biosample', 'bioproject']]"
   ]
  },
  {
   "cell_type": "markdown",
   "id": "eb1bb807-5a70-44e0-a489-a7459517711c",
   "metadata": {},
   "source": [
    "### Uniprot"
   ]
  },
  {
   "cell_type": "code",
   "execution_count": 6,
   "id": "eee348f2-fe0a-4586-b9e2-ddc03ad94e25",
   "metadata": {
    "tags": []
   },
   "outputs": [],
   "source": [
    "uniprot = mapping[mapping['record_id'].apply(lambda x: True if (x[:3] == 'tr|') or (x[:3] == 'sp|') else False)]"
   ]
  },
  {
   "cell_type": "code",
   "execution_count": 7,
   "id": "2040f3d0-297a-40ad-ac0b-09b586000c5a",
   "metadata": {
    "tags": []
   },
   "outputs": [
    {
     "data": {
      "text/plain": [
       "0.22341199480870821"
      ]
     },
     "execution_count": 7,
     "metadata": {},
     "output_type": "execute_result"
    }
   ],
   "source": [
    "uniprot.shape[0]/mapping.shape[0]"
   ]
  },
  {
   "cell_type": "code",
   "execution_count": 8,
   "id": "4a3b5af8-99e8-461b-81c0-8abefce10577",
   "metadata": {
    "tags": []
   },
   "outputs": [
    {
     "name": "stderr",
     "output_type": "stream",
     "text": [
      "C:\\Users\\terca\\AppData\\Local\\Temp\\ipykernel_8420\\1829451739.py:1: SettingWithCopyWarning: \n",
      "A value is trying to be set on a copy of a slice from a DataFrame.\n",
      "Try using .loc[row_indexer,col_indexer] = value instead\n",
      "\n",
      "See the caveats in the documentation: https://pandas.pydata.org/pandas-docs/stable/user_guide/indexing.html#returning-a-view-versus-a-copy\n",
      "  uniprot['uniprot_id'] = uniprot['record_id'].apply(lambda x: x.split('|')[1])\n"
     ]
    }
   ],
   "source": [
    "uniprot['uniprot_id'] = uniprot['record_id'].apply(lambda x: x.split('|')[1])"
   ]
  },
  {
   "cell_type": "code",
   "execution_count": 9,
   "id": "43d30426-4671-419d-a85d-21ffe8111d95",
   "metadata": {
    "tags": []
   },
   "outputs": [
    {
     "data": {
      "text/html": [
       "<div>\n",
       "<style scoped>\n",
       "    .dataframe tbody tr th:only-of-type {\n",
       "        vertical-align: middle;\n",
       "    }\n",
       "\n",
       "    .dataframe tbody tr th {\n",
       "        vertical-align: top;\n",
       "    }\n",
       "\n",
       "    .dataframe thead th {\n",
       "        text-align: right;\n",
       "    }\n",
       "</style>\n",
       "<table border=\"1\" class=\"dataframe\">\n",
       "  <thead>\n",
       "    <tr style=\"text-align: right;\">\n",
       "      <th></th>\n",
       "      <th>record_id</th>\n",
       "      <th>record_description</th>\n",
       "      <th>new_id</th>\n",
       "      <th>uniprot_id</th>\n",
       "    </tr>\n",
       "  </thead>\n",
       "  <tbody>\n",
       "    <tr>\n",
       "      <th>687</th>\n",
       "      <td>tr|A0A212QX55|A0A212QX55_9CHLR_consensus</td>\n",
       "      <td>tr|A0A212QX55|A0A212QX55_9CHLR_consensus</td>\n",
       "      <td>bfd_000687</td>\n",
       "      <td>A0A212QX55</td>\n",
       "    </tr>\n",
       "    <tr>\n",
       "      <th>688</th>\n",
       "      <td>tr|A0A212QX55|A0A212QX55_9CHLR</td>\n",
       "      <td>tr|A0A212QX55|A0A212QX55_9CHLR Prenyltransfera...</td>\n",
       "      <td>bfd_000688</td>\n",
       "      <td>A0A212QX55</td>\n",
       "    </tr>\n",
       "    <tr>\n",
       "      <th>690</th>\n",
       "      <td>tr|A0A2A4NHD7|A0A2A4NHD7_9RHIZ_consensus</td>\n",
       "      <td>tr|A0A2A4NHD7|A0A2A4NHD7_9RHIZ_consensus</td>\n",
       "      <td>bfd_000690</td>\n",
       "      <td>A0A2A4NHD7</td>\n",
       "    </tr>\n",
       "    <tr>\n",
       "      <th>691</th>\n",
       "      <td>tr|A0A2A4NHD7|A0A2A4NHD7_9RHIZ</td>\n",
       "      <td>tr|A0A2A4NHD7|A0A2A4NHD7_9RHIZ Uncharacterized...</td>\n",
       "      <td>bfd_000691</td>\n",
       "      <td>A0A2A4NHD7</td>\n",
       "    </tr>\n",
       "    <tr>\n",
       "      <th>692</th>\n",
       "      <td>tr|A0A2A4LSP2|A0A2A4LSP2_9RHIZ</td>\n",
       "      <td>tr|A0A2A4LSP2|A0A2A4LSP2_9RHIZ Uncharacterized...</td>\n",
       "      <td>bfd_000692</td>\n",
       "      <td>A0A2A4LSP2</td>\n",
       "    </tr>\n",
       "    <tr>\n",
       "      <th>...</th>\n",
       "      <td>...</td>\n",
       "      <td>...</td>\n",
       "      <td>...</td>\n",
       "      <td>...</td>\n",
       "    </tr>\n",
       "    <tr>\n",
       "      <th>273530</th>\n",
       "      <td>tr|G0RTC8|G0RTC8_HYPJQ</td>\n",
       "      <td>tr|G0RTC8|G0RTC8_HYPJQ Geranylgeranyl diphosph...</td>\n",
       "      <td>bfd_273530</td>\n",
       "      <td>G0RTC8</td>\n",
       "    </tr>\n",
       "    <tr>\n",
       "      <th>273531</th>\n",
       "      <td>tr|A0A074WQU1|A0A074WQU1_9PEZI</td>\n",
       "      <td>tr|A0A074WQU1|A0A074WQU1_9PEZI Geranylgeranyl ...</td>\n",
       "      <td>bfd_273531</td>\n",
       "      <td>A0A074WQU1</td>\n",
       "    </tr>\n",
       "    <tr>\n",
       "      <th>273532</th>\n",
       "      <td>tr|A0A0M9VW26|A0A0M9VW26_9HYPO</td>\n",
       "      <td>tr|A0A0M9VW26|A0A0M9VW26_9HYPO Geranylgeranyl ...</td>\n",
       "      <td>bfd_273532</td>\n",
       "      <td>A0A0M9VW26</td>\n",
       "    </tr>\n",
       "    <tr>\n",
       "      <th>273533</th>\n",
       "      <td>tr|C5FWC0|C5FWC0_ARTOC</td>\n",
       "      <td>tr|C5FWC0|C5FWC0_ARTOC Geranylgeranyl pyrophos...</td>\n",
       "      <td>bfd_273533</td>\n",
       "      <td>C5FWC0</td>\n",
       "    </tr>\n",
       "    <tr>\n",
       "      <th>273534</th>\n",
       "      <td>tr|L2FVX8|L2FVX8_COLGN</td>\n",
       "      <td>tr|L2FVX8|L2FVX8_COLGN Geranylgeranyl diphosph...</td>\n",
       "      <td>bfd_273534</td>\n",
       "      <td>L2FVX8</td>\n",
       "    </tr>\n",
       "  </tbody>\n",
       "</table>\n",
       "<p>61111 rows × 4 columns</p>\n",
       "</div>"
      ],
      "text/plain": [
       "                                       record_id  \\\n",
       "687     tr|A0A212QX55|A0A212QX55_9CHLR_consensus   \n",
       "688               tr|A0A212QX55|A0A212QX55_9CHLR   \n",
       "690     tr|A0A2A4NHD7|A0A2A4NHD7_9RHIZ_consensus   \n",
       "691               tr|A0A2A4NHD7|A0A2A4NHD7_9RHIZ   \n",
       "692               tr|A0A2A4LSP2|A0A2A4LSP2_9RHIZ   \n",
       "...                                          ...   \n",
       "273530                    tr|G0RTC8|G0RTC8_HYPJQ   \n",
       "273531            tr|A0A074WQU1|A0A074WQU1_9PEZI   \n",
       "273532            tr|A0A0M9VW26|A0A0M9VW26_9HYPO   \n",
       "273533                    tr|C5FWC0|C5FWC0_ARTOC   \n",
       "273534                    tr|L2FVX8|L2FVX8_COLGN   \n",
       "\n",
       "                                       record_description      new_id  \\\n",
       "687              tr|A0A212QX55|A0A212QX55_9CHLR_consensus  bfd_000687   \n",
       "688     tr|A0A212QX55|A0A212QX55_9CHLR Prenyltransfera...  bfd_000688   \n",
       "690              tr|A0A2A4NHD7|A0A2A4NHD7_9RHIZ_consensus  bfd_000690   \n",
       "691     tr|A0A2A4NHD7|A0A2A4NHD7_9RHIZ Uncharacterized...  bfd_000691   \n",
       "692     tr|A0A2A4LSP2|A0A2A4LSP2_9RHIZ Uncharacterized...  bfd_000692   \n",
       "...                                                   ...         ...   \n",
       "273530  tr|G0RTC8|G0RTC8_HYPJQ Geranylgeranyl diphosph...  bfd_273530   \n",
       "273531  tr|A0A074WQU1|A0A074WQU1_9PEZI Geranylgeranyl ...  bfd_273531   \n",
       "273532  tr|A0A0M9VW26|A0A0M9VW26_9HYPO Geranylgeranyl ...  bfd_273532   \n",
       "273533  tr|C5FWC0|C5FWC0_ARTOC Geranylgeranyl pyrophos...  bfd_273533   \n",
       "273534  tr|L2FVX8|L2FVX8_COLGN Geranylgeranyl diphosph...  bfd_273534   \n",
       "\n",
       "        uniprot_id  \n",
       "687     A0A212QX55  \n",
       "688     A0A212QX55  \n",
       "690     A0A2A4NHD7  \n",
       "691     A0A2A4NHD7  \n",
       "692     A0A2A4LSP2  \n",
       "...            ...  \n",
       "273530      G0RTC8  \n",
       "273531  A0A074WQU1  \n",
       "273532  A0A0M9VW26  \n",
       "273533      C5FWC0  \n",
       "273534      L2FVX8  \n",
       "\n",
       "[61111 rows x 4 columns]"
      ]
     },
     "execution_count": 9,
     "metadata": {},
     "output_type": "execute_result"
    }
   ],
   "source": [
    "uniprot"
   ]
  },
  {
   "cell_type": "code",
   "execution_count": 25,
   "id": "4101ad05-0489-40ee-a6e4-95b2b8c27325",
   "metadata": {
    "tags": []
   },
   "outputs": [],
   "source": [
    "uniprot_ids = uniprot['uniprot_id'].value_counts().index.tolist()"
   ]
  },
  {
   "cell_type": "code",
   "execution_count": 28,
   "id": "2235b889-6c6c-4268-8cee-5f14a376989a",
   "metadata": {
    "tags": []
   },
   "outputs": [
    {
     "data": {
      "text/plain": [
       "59262"
      ]
     },
     "execution_count": 28,
     "metadata": {},
     "output_type": "execute_result"
    }
   ],
   "source": [
    "len(uniprot_ids)"
   ]
  },
  {
   "cell_type": "code",
   "execution_count": 59,
   "id": "1f4cfb0a-db01-4fc3-b443-1a2957660d15",
   "metadata": {
    "tags": []
   },
   "outputs": [],
   "source": [
    "base_url='https://rest.uniprot.org/uniprot/search?fields=accession,id,gene_names,protein_name,protein_families,organism_name,organism_id,fragment,ft_act_site,cc_catalytic_activity,ec,cc_function,rhea,ft_site&format=tsv&query=%22'"
   ]
  },
  {
   "cell_type": "code",
   "execution_count": 60,
   "id": "5c62f9a9-b405-4e0e-9e1c-706e451797eb",
   "metadata": {
    "collapsed": true,
    "jupyter": {
     "outputs_hidden": true
    },
    "tags": []
   },
   "outputs": [
    {
     "ename": "KeyboardInterrupt",
     "evalue": "",
     "output_type": "error",
     "traceback": [
      "\u001b[1;31m---------------------------------------------------------------------------\u001b[0m",
      "\u001b[1;31mKeyboardInterrupt\u001b[0m                         Traceback (most recent call last)",
      "Cell \u001b[1;32mIn[60], line 6\u001b[0m\n\u001b[0;32m      4\u001b[0m ids_query \u001b[38;5;241m=\u001b[39m \u001b[38;5;124m'\u001b[39m\u001b[38;5;124m%\u001b[39m\u001b[38;5;124m22OR\u001b[39m\u001b[38;5;124m%\u001b[39m\u001b[38;5;124m22\u001b[39m\u001b[38;5;124m'\u001b[39m\u001b[38;5;241m.\u001b[39mjoin(ids_chunk)\n\u001b[0;32m      5\u001b[0m url \u001b[38;5;241m=\u001b[39m \u001b[38;5;124mf\u001b[39m\u001b[38;5;124m\"\u001b[39m\u001b[38;5;132;01m{\u001b[39;00mbase_url\u001b[38;5;132;01m}\u001b[39;00m\u001b[38;5;132;01m{\u001b[39;00mids_query\u001b[38;5;132;01m}\u001b[39;00m\u001b[38;5;124m%22\u001b[39m\u001b[38;5;124m\"\u001b[39m\n\u001b[1;32m----> 6\u001b[0m result \u001b[38;5;241m=\u001b[39m \u001b[43mrequests\u001b[49m\u001b[38;5;241;43m.\u001b[39;49m\u001b[43mget\u001b[49m\u001b[43m(\u001b[49m\u001b[43murl\u001b[49m\u001b[43m)\u001b[49m\n\u001b[0;32m      7\u001b[0m \u001b[38;5;28;01mif\u001b[39;00m result\u001b[38;5;241m.\u001b[39mok:\n\u001b[0;32m      8\u001b[0m     data\u001b[38;5;241m=\u001b[39m result\u001b[38;5;241m.\u001b[39mtext\n",
      "File \u001b[1;32m~\\anaconda3\\envs\\esm_env\\lib\\site-packages\\requests\\api.py:73\u001b[0m, in \u001b[0;36mget\u001b[1;34m(url, params, **kwargs)\u001b[0m\n\u001b[0;32m     62\u001b[0m \u001b[38;5;28;01mdef\u001b[39;00m \u001b[38;5;21mget\u001b[39m(url, params\u001b[38;5;241m=\u001b[39m\u001b[38;5;28;01mNone\u001b[39;00m, \u001b[38;5;241m*\u001b[39m\u001b[38;5;241m*\u001b[39mkwargs):\n\u001b[0;32m     63\u001b[0m \u001b[38;5;250m    \u001b[39m\u001b[38;5;124mr\u001b[39m\u001b[38;5;124;03m\"\"\"Sends a GET request.\u001b[39;00m\n\u001b[0;32m     64\u001b[0m \n\u001b[0;32m     65\u001b[0m \u001b[38;5;124;03m    :param url: URL for the new :class:`Request` object.\u001b[39;00m\n\u001b[1;32m   (...)\u001b[0m\n\u001b[0;32m     70\u001b[0m \u001b[38;5;124;03m    :rtype: requests.Response\u001b[39;00m\n\u001b[0;32m     71\u001b[0m \u001b[38;5;124;03m    \"\"\"\u001b[39;00m\n\u001b[1;32m---> 73\u001b[0m     \u001b[38;5;28;01mreturn\u001b[39;00m request(\u001b[38;5;124m\"\u001b[39m\u001b[38;5;124mget\u001b[39m\u001b[38;5;124m\"\u001b[39m, url, params\u001b[38;5;241m=\u001b[39mparams, \u001b[38;5;241m*\u001b[39m\u001b[38;5;241m*\u001b[39mkwargs)\n",
      "File \u001b[1;32m~\\anaconda3\\envs\\esm_env\\lib\\site-packages\\requests\\api.py:59\u001b[0m, in \u001b[0;36mrequest\u001b[1;34m(method, url, **kwargs)\u001b[0m\n\u001b[0;32m     55\u001b[0m \u001b[38;5;66;03m# By using the 'with' statement we are sure the session is closed, thus we\u001b[39;00m\n\u001b[0;32m     56\u001b[0m \u001b[38;5;66;03m# avoid leaving sockets open which can trigger a ResourceWarning in some\u001b[39;00m\n\u001b[0;32m     57\u001b[0m \u001b[38;5;66;03m# cases, and look like a memory leak in others.\u001b[39;00m\n\u001b[0;32m     58\u001b[0m \u001b[38;5;28;01mwith\u001b[39;00m sessions\u001b[38;5;241m.\u001b[39mSession() \u001b[38;5;28;01mas\u001b[39;00m session:\n\u001b[1;32m---> 59\u001b[0m     \u001b[38;5;28;01mreturn\u001b[39;00m session\u001b[38;5;241m.\u001b[39mrequest(method\u001b[38;5;241m=\u001b[39mmethod, url\u001b[38;5;241m=\u001b[39murl, \u001b[38;5;241m*\u001b[39m\u001b[38;5;241m*\u001b[39mkwargs)\n",
      "File \u001b[1;32m~\\anaconda3\\envs\\esm_env\\lib\\site-packages\\requests\\sessions.py:589\u001b[0m, in \u001b[0;36mSession.request\u001b[1;34m(self, method, url, params, data, headers, cookies, files, auth, timeout, allow_redirects, proxies, hooks, stream, verify, cert, json)\u001b[0m\n\u001b[0;32m    584\u001b[0m send_kwargs \u001b[38;5;241m=\u001b[39m {\n\u001b[0;32m    585\u001b[0m     \u001b[38;5;124m\"\u001b[39m\u001b[38;5;124mtimeout\u001b[39m\u001b[38;5;124m\"\u001b[39m: timeout,\n\u001b[0;32m    586\u001b[0m     \u001b[38;5;124m\"\u001b[39m\u001b[38;5;124mallow_redirects\u001b[39m\u001b[38;5;124m\"\u001b[39m: allow_redirects,\n\u001b[0;32m    587\u001b[0m }\n\u001b[0;32m    588\u001b[0m send_kwargs\u001b[38;5;241m.\u001b[39mupdate(settings)\n\u001b[1;32m--> 589\u001b[0m resp \u001b[38;5;241m=\u001b[39m \u001b[38;5;28mself\u001b[39m\u001b[38;5;241m.\u001b[39msend(prep, \u001b[38;5;241m*\u001b[39m\u001b[38;5;241m*\u001b[39msend_kwargs)\n\u001b[0;32m    591\u001b[0m \u001b[38;5;28;01mreturn\u001b[39;00m resp\n",
      "File \u001b[1;32m~\\anaconda3\\envs\\esm_env\\lib\\site-packages\\requests\\sessions.py:725\u001b[0m, in \u001b[0;36mSession.send\u001b[1;34m(self, request, **kwargs)\u001b[0m\n\u001b[0;32m    722\u001b[0m \u001b[38;5;28;01mif\u001b[39;00m allow_redirects:\n\u001b[0;32m    723\u001b[0m     \u001b[38;5;66;03m# Redirect resolving generator.\u001b[39;00m\n\u001b[0;32m    724\u001b[0m     gen \u001b[38;5;241m=\u001b[39m \u001b[38;5;28mself\u001b[39m\u001b[38;5;241m.\u001b[39mresolve_redirects(r, request, \u001b[38;5;241m*\u001b[39m\u001b[38;5;241m*\u001b[39mkwargs)\n\u001b[1;32m--> 725\u001b[0m     history \u001b[38;5;241m=\u001b[39m [resp \u001b[38;5;28;01mfor\u001b[39;00m resp \u001b[38;5;129;01min\u001b[39;00m gen]\n\u001b[0;32m    726\u001b[0m \u001b[38;5;28;01melse\u001b[39;00m:\n\u001b[0;32m    727\u001b[0m     history \u001b[38;5;241m=\u001b[39m []\n",
      "File \u001b[1;32m~\\anaconda3\\envs\\esm_env\\lib\\site-packages\\requests\\sessions.py:725\u001b[0m, in \u001b[0;36m<listcomp>\u001b[1;34m(.0)\u001b[0m\n\u001b[0;32m    722\u001b[0m \u001b[38;5;28;01mif\u001b[39;00m allow_redirects:\n\u001b[0;32m    723\u001b[0m     \u001b[38;5;66;03m# Redirect resolving generator.\u001b[39;00m\n\u001b[0;32m    724\u001b[0m     gen \u001b[38;5;241m=\u001b[39m \u001b[38;5;28mself\u001b[39m\u001b[38;5;241m.\u001b[39mresolve_redirects(r, request, \u001b[38;5;241m*\u001b[39m\u001b[38;5;241m*\u001b[39mkwargs)\n\u001b[1;32m--> 725\u001b[0m     history \u001b[38;5;241m=\u001b[39m [resp \u001b[38;5;28;01mfor\u001b[39;00m resp \u001b[38;5;129;01min\u001b[39;00m gen]\n\u001b[0;32m    726\u001b[0m \u001b[38;5;28;01melse\u001b[39;00m:\n\u001b[0;32m    727\u001b[0m     history \u001b[38;5;241m=\u001b[39m []\n",
      "File \u001b[1;32m~\\anaconda3\\envs\\esm_env\\lib\\site-packages\\requests\\sessions.py:266\u001b[0m, in \u001b[0;36mSessionRedirectMixin.resolve_redirects\u001b[1;34m(self, resp, req, stream, timeout, verify, cert, proxies, yield_requests, **adapter_kwargs)\u001b[0m\n\u001b[0;32m    263\u001b[0m     \u001b[38;5;28;01myield\u001b[39;00m req\n\u001b[0;32m    264\u001b[0m \u001b[38;5;28;01melse\u001b[39;00m:\n\u001b[1;32m--> 266\u001b[0m     resp \u001b[38;5;241m=\u001b[39m \u001b[38;5;28mself\u001b[39m\u001b[38;5;241m.\u001b[39msend(\n\u001b[0;32m    267\u001b[0m         req,\n\u001b[0;32m    268\u001b[0m         stream\u001b[38;5;241m=\u001b[39mstream,\n\u001b[0;32m    269\u001b[0m         timeout\u001b[38;5;241m=\u001b[39mtimeout,\n\u001b[0;32m    270\u001b[0m         verify\u001b[38;5;241m=\u001b[39mverify,\n\u001b[0;32m    271\u001b[0m         cert\u001b[38;5;241m=\u001b[39mcert,\n\u001b[0;32m    272\u001b[0m         proxies\u001b[38;5;241m=\u001b[39mproxies,\n\u001b[0;32m    273\u001b[0m         allow_redirects\u001b[38;5;241m=\u001b[39m\u001b[38;5;28;01mFalse\u001b[39;00m,\n\u001b[0;32m    274\u001b[0m         \u001b[38;5;241m*\u001b[39m\u001b[38;5;241m*\u001b[39madapter_kwargs,\n\u001b[0;32m    275\u001b[0m     )\n\u001b[0;32m    277\u001b[0m     extract_cookies_to_jar(\u001b[38;5;28mself\u001b[39m\u001b[38;5;241m.\u001b[39mcookies, prepared_request, resp\u001b[38;5;241m.\u001b[39mraw)\n\u001b[0;32m    279\u001b[0m     \u001b[38;5;66;03m# extract redirect url, if any, for the next loop\u001b[39;00m\n",
      "File \u001b[1;32m~\\anaconda3\\envs\\esm_env\\lib\\site-packages\\requests\\sessions.py:703\u001b[0m, in \u001b[0;36mSession.send\u001b[1;34m(self, request, **kwargs)\u001b[0m\n\u001b[0;32m    700\u001b[0m start \u001b[38;5;241m=\u001b[39m preferred_clock()\n\u001b[0;32m    702\u001b[0m \u001b[38;5;66;03m# Send the request\u001b[39;00m\n\u001b[1;32m--> 703\u001b[0m r \u001b[38;5;241m=\u001b[39m adapter\u001b[38;5;241m.\u001b[39msend(request, \u001b[38;5;241m*\u001b[39m\u001b[38;5;241m*\u001b[39mkwargs)\n\u001b[0;32m    705\u001b[0m \u001b[38;5;66;03m# Total elapsed time of the request (approximately)\u001b[39;00m\n\u001b[0;32m    706\u001b[0m elapsed \u001b[38;5;241m=\u001b[39m preferred_clock() \u001b[38;5;241m-\u001b[39m start\n",
      "File \u001b[1;32m~\\anaconda3\\envs\\esm_env\\lib\\site-packages\\requests\\adapters.py:486\u001b[0m, in \u001b[0;36mHTTPAdapter.send\u001b[1;34m(self, request, stream, timeout, verify, cert, proxies)\u001b[0m\n\u001b[0;32m    483\u001b[0m     timeout \u001b[38;5;241m=\u001b[39m TimeoutSauce(connect\u001b[38;5;241m=\u001b[39mtimeout, read\u001b[38;5;241m=\u001b[39mtimeout)\n\u001b[0;32m    485\u001b[0m \u001b[38;5;28;01mtry\u001b[39;00m:\n\u001b[1;32m--> 486\u001b[0m     resp \u001b[38;5;241m=\u001b[39m \u001b[43mconn\u001b[49m\u001b[38;5;241;43m.\u001b[39;49m\u001b[43murlopen\u001b[49m\u001b[43m(\u001b[49m\n\u001b[0;32m    487\u001b[0m \u001b[43m        \u001b[49m\u001b[43mmethod\u001b[49m\u001b[38;5;241;43m=\u001b[39;49m\u001b[43mrequest\u001b[49m\u001b[38;5;241;43m.\u001b[39;49m\u001b[43mmethod\u001b[49m\u001b[43m,\u001b[49m\n\u001b[0;32m    488\u001b[0m \u001b[43m        \u001b[49m\u001b[43murl\u001b[49m\u001b[38;5;241;43m=\u001b[39;49m\u001b[43murl\u001b[49m\u001b[43m,\u001b[49m\n\u001b[0;32m    489\u001b[0m \u001b[43m        \u001b[49m\u001b[43mbody\u001b[49m\u001b[38;5;241;43m=\u001b[39;49m\u001b[43mrequest\u001b[49m\u001b[38;5;241;43m.\u001b[39;49m\u001b[43mbody\u001b[49m\u001b[43m,\u001b[49m\n\u001b[0;32m    490\u001b[0m \u001b[43m        \u001b[49m\u001b[43mheaders\u001b[49m\u001b[38;5;241;43m=\u001b[39;49m\u001b[43mrequest\u001b[49m\u001b[38;5;241;43m.\u001b[39;49m\u001b[43mheaders\u001b[49m\u001b[43m,\u001b[49m\n\u001b[0;32m    491\u001b[0m \u001b[43m        \u001b[49m\u001b[43mredirect\u001b[49m\u001b[38;5;241;43m=\u001b[39;49m\u001b[38;5;28;43;01mFalse\u001b[39;49;00m\u001b[43m,\u001b[49m\n\u001b[0;32m    492\u001b[0m \u001b[43m        \u001b[49m\u001b[43massert_same_host\u001b[49m\u001b[38;5;241;43m=\u001b[39;49m\u001b[38;5;28;43;01mFalse\u001b[39;49;00m\u001b[43m,\u001b[49m\n\u001b[0;32m    493\u001b[0m \u001b[43m        \u001b[49m\u001b[43mpreload_content\u001b[49m\u001b[38;5;241;43m=\u001b[39;49m\u001b[38;5;28;43;01mFalse\u001b[39;49;00m\u001b[43m,\u001b[49m\n\u001b[0;32m    494\u001b[0m \u001b[43m        \u001b[49m\u001b[43mdecode_content\u001b[49m\u001b[38;5;241;43m=\u001b[39;49m\u001b[38;5;28;43;01mFalse\u001b[39;49;00m\u001b[43m,\u001b[49m\n\u001b[0;32m    495\u001b[0m \u001b[43m        \u001b[49m\u001b[43mretries\u001b[49m\u001b[38;5;241;43m=\u001b[39;49m\u001b[38;5;28;43mself\u001b[39;49m\u001b[38;5;241;43m.\u001b[39;49m\u001b[43mmax_retries\u001b[49m\u001b[43m,\u001b[49m\n\u001b[0;32m    496\u001b[0m \u001b[43m        \u001b[49m\u001b[43mtimeout\u001b[49m\u001b[38;5;241;43m=\u001b[39;49m\u001b[43mtimeout\u001b[49m\u001b[43m,\u001b[49m\n\u001b[0;32m    497\u001b[0m \u001b[43m        \u001b[49m\u001b[43mchunked\u001b[49m\u001b[38;5;241;43m=\u001b[39;49m\u001b[43mchunked\u001b[49m\u001b[43m,\u001b[49m\n\u001b[0;32m    498\u001b[0m \u001b[43m    \u001b[49m\u001b[43m)\u001b[49m\n\u001b[0;32m    500\u001b[0m \u001b[38;5;28;01mexcept\u001b[39;00m (ProtocolError, \u001b[38;5;167;01mOSError\u001b[39;00m) \u001b[38;5;28;01mas\u001b[39;00m err:\n\u001b[0;32m    501\u001b[0m     \u001b[38;5;28;01mraise\u001b[39;00m \u001b[38;5;167;01mConnectionError\u001b[39;00m(err, request\u001b[38;5;241m=\u001b[39mrequest)\n",
      "File \u001b[1;32m~\\anaconda3\\envs\\esm_env\\lib\\site-packages\\urllib3\\connectionpool.py:715\u001b[0m, in \u001b[0;36mHTTPConnectionPool.urlopen\u001b[1;34m(self, method, url, body, headers, retries, redirect, assert_same_host, timeout, pool_timeout, release_conn, chunked, body_pos, **response_kw)\u001b[0m\n\u001b[0;32m    712\u001b[0m     \u001b[38;5;28mself\u001b[39m\u001b[38;5;241m.\u001b[39m_prepare_proxy(conn)\n\u001b[0;32m    714\u001b[0m \u001b[38;5;66;03m# Make the request on the httplib connection object.\u001b[39;00m\n\u001b[1;32m--> 715\u001b[0m httplib_response \u001b[38;5;241m=\u001b[39m \u001b[38;5;28;43mself\u001b[39;49m\u001b[38;5;241;43m.\u001b[39;49m\u001b[43m_make_request\u001b[49m\u001b[43m(\u001b[49m\n\u001b[0;32m    716\u001b[0m \u001b[43m    \u001b[49m\u001b[43mconn\u001b[49m\u001b[43m,\u001b[49m\n\u001b[0;32m    717\u001b[0m \u001b[43m    \u001b[49m\u001b[43mmethod\u001b[49m\u001b[43m,\u001b[49m\n\u001b[0;32m    718\u001b[0m \u001b[43m    \u001b[49m\u001b[43murl\u001b[49m\u001b[43m,\u001b[49m\n\u001b[0;32m    719\u001b[0m \u001b[43m    \u001b[49m\u001b[43mtimeout\u001b[49m\u001b[38;5;241;43m=\u001b[39;49m\u001b[43mtimeout_obj\u001b[49m\u001b[43m,\u001b[49m\n\u001b[0;32m    720\u001b[0m \u001b[43m    \u001b[49m\u001b[43mbody\u001b[49m\u001b[38;5;241;43m=\u001b[39;49m\u001b[43mbody\u001b[49m\u001b[43m,\u001b[49m\n\u001b[0;32m    721\u001b[0m \u001b[43m    \u001b[49m\u001b[43mheaders\u001b[49m\u001b[38;5;241;43m=\u001b[39;49m\u001b[43mheaders\u001b[49m\u001b[43m,\u001b[49m\n\u001b[0;32m    722\u001b[0m \u001b[43m    \u001b[49m\u001b[43mchunked\u001b[49m\u001b[38;5;241;43m=\u001b[39;49m\u001b[43mchunked\u001b[49m\u001b[43m,\u001b[49m\n\u001b[0;32m    723\u001b[0m \u001b[43m\u001b[49m\u001b[43m)\u001b[49m\n\u001b[0;32m    725\u001b[0m \u001b[38;5;66;03m# If we're going to release the connection in ``finally:``, then\u001b[39;00m\n\u001b[0;32m    726\u001b[0m \u001b[38;5;66;03m# the response doesn't need to know about the connection. Otherwise\u001b[39;00m\n\u001b[0;32m    727\u001b[0m \u001b[38;5;66;03m# it will also try to release it and we'll have a double-release\u001b[39;00m\n\u001b[0;32m    728\u001b[0m \u001b[38;5;66;03m# mess.\u001b[39;00m\n\u001b[0;32m    729\u001b[0m response_conn \u001b[38;5;241m=\u001b[39m conn \u001b[38;5;28;01mif\u001b[39;00m \u001b[38;5;129;01mnot\u001b[39;00m release_conn \u001b[38;5;28;01melse\u001b[39;00m \u001b[38;5;28;01mNone\u001b[39;00m\n",
      "File \u001b[1;32m~\\anaconda3\\envs\\esm_env\\lib\\site-packages\\urllib3\\connectionpool.py:467\u001b[0m, in \u001b[0;36mHTTPConnectionPool._make_request\u001b[1;34m(self, conn, method, url, timeout, chunked, **httplib_request_kw)\u001b[0m\n\u001b[0;32m    462\u001b[0m             httplib_response \u001b[38;5;241m=\u001b[39m conn\u001b[38;5;241m.\u001b[39mgetresponse()\n\u001b[0;32m    463\u001b[0m         \u001b[38;5;28;01mexcept\u001b[39;00m \u001b[38;5;167;01mBaseException\u001b[39;00m \u001b[38;5;28;01mas\u001b[39;00m e:\n\u001b[0;32m    464\u001b[0m             \u001b[38;5;66;03m# Remove the TypeError from the exception chain in\u001b[39;00m\n\u001b[0;32m    465\u001b[0m             \u001b[38;5;66;03m# Python 3 (including for exceptions like SystemExit).\u001b[39;00m\n\u001b[0;32m    466\u001b[0m             \u001b[38;5;66;03m# Otherwise it looks like a bug in the code.\u001b[39;00m\n\u001b[1;32m--> 467\u001b[0m             \u001b[43msix\u001b[49m\u001b[38;5;241;43m.\u001b[39;49m\u001b[43mraise_from\u001b[49m\u001b[43m(\u001b[49m\u001b[43me\u001b[49m\u001b[43m,\u001b[49m\u001b[43m \u001b[49m\u001b[38;5;28;43;01mNone\u001b[39;49;00m\u001b[43m)\u001b[49m\n\u001b[0;32m    468\u001b[0m \u001b[38;5;28;01mexcept\u001b[39;00m (SocketTimeout, BaseSSLError, SocketError) \u001b[38;5;28;01mas\u001b[39;00m e:\n\u001b[0;32m    469\u001b[0m     \u001b[38;5;28mself\u001b[39m\u001b[38;5;241m.\u001b[39m_raise_timeout(err\u001b[38;5;241m=\u001b[39me, url\u001b[38;5;241m=\u001b[39murl, timeout_value\u001b[38;5;241m=\u001b[39mread_timeout)\n",
      "File \u001b[1;32m<string>:3\u001b[0m, in \u001b[0;36mraise_from\u001b[1;34m(value, from_value)\u001b[0m\n",
      "File \u001b[1;32m~\\anaconda3\\envs\\esm_env\\lib\\site-packages\\urllib3\\connectionpool.py:462\u001b[0m, in \u001b[0;36mHTTPConnectionPool._make_request\u001b[1;34m(self, conn, method, url, timeout, chunked, **httplib_request_kw)\u001b[0m\n\u001b[0;32m    459\u001b[0m \u001b[38;5;28;01mexcept\u001b[39;00m \u001b[38;5;167;01mTypeError\u001b[39;00m:\n\u001b[0;32m    460\u001b[0m     \u001b[38;5;66;03m# Python 3\u001b[39;00m\n\u001b[0;32m    461\u001b[0m     \u001b[38;5;28;01mtry\u001b[39;00m:\n\u001b[1;32m--> 462\u001b[0m         httplib_response \u001b[38;5;241m=\u001b[39m \u001b[43mconn\u001b[49m\u001b[38;5;241;43m.\u001b[39;49m\u001b[43mgetresponse\u001b[49m\u001b[43m(\u001b[49m\u001b[43m)\u001b[49m\n\u001b[0;32m    463\u001b[0m     \u001b[38;5;28;01mexcept\u001b[39;00m \u001b[38;5;167;01mBaseException\u001b[39;00m \u001b[38;5;28;01mas\u001b[39;00m e:\n\u001b[0;32m    464\u001b[0m         \u001b[38;5;66;03m# Remove the TypeError from the exception chain in\u001b[39;00m\n\u001b[0;32m    465\u001b[0m         \u001b[38;5;66;03m# Python 3 (including for exceptions like SystemExit).\u001b[39;00m\n\u001b[0;32m    466\u001b[0m         \u001b[38;5;66;03m# Otherwise it looks like a bug in the code.\u001b[39;00m\n\u001b[0;32m    467\u001b[0m         six\u001b[38;5;241m.\u001b[39mraise_from(e, \u001b[38;5;28;01mNone\u001b[39;00m)\n",
      "File \u001b[1;32m~\\anaconda3\\envs\\esm_env\\lib\\http\\client.py:1375\u001b[0m, in \u001b[0;36mHTTPConnection.getresponse\u001b[1;34m(self)\u001b[0m\n\u001b[0;32m   1373\u001b[0m \u001b[38;5;28;01mtry\u001b[39;00m:\n\u001b[0;32m   1374\u001b[0m     \u001b[38;5;28;01mtry\u001b[39;00m:\n\u001b[1;32m-> 1375\u001b[0m         \u001b[43mresponse\u001b[49m\u001b[38;5;241;43m.\u001b[39;49m\u001b[43mbegin\u001b[49m\u001b[43m(\u001b[49m\u001b[43m)\u001b[49m\n\u001b[0;32m   1376\u001b[0m     \u001b[38;5;28;01mexcept\u001b[39;00m \u001b[38;5;167;01mConnectionError\u001b[39;00m:\n\u001b[0;32m   1377\u001b[0m         \u001b[38;5;28mself\u001b[39m\u001b[38;5;241m.\u001b[39mclose()\n",
      "File \u001b[1;32m~\\anaconda3\\envs\\esm_env\\lib\\http\\client.py:318\u001b[0m, in \u001b[0;36mHTTPResponse.begin\u001b[1;34m(self)\u001b[0m\n\u001b[0;32m    316\u001b[0m \u001b[38;5;66;03m# read until we get a non-100 response\u001b[39;00m\n\u001b[0;32m    317\u001b[0m \u001b[38;5;28;01mwhile\u001b[39;00m \u001b[38;5;28;01mTrue\u001b[39;00m:\n\u001b[1;32m--> 318\u001b[0m     version, status, reason \u001b[38;5;241m=\u001b[39m \u001b[38;5;28;43mself\u001b[39;49m\u001b[38;5;241;43m.\u001b[39;49m\u001b[43m_read_status\u001b[49m\u001b[43m(\u001b[49m\u001b[43m)\u001b[49m\n\u001b[0;32m    319\u001b[0m     \u001b[38;5;28;01mif\u001b[39;00m status \u001b[38;5;241m!=\u001b[39m CONTINUE:\n\u001b[0;32m    320\u001b[0m         \u001b[38;5;28;01mbreak\u001b[39;00m\n",
      "File \u001b[1;32m~\\anaconda3\\envs\\esm_env\\lib\\http\\client.py:279\u001b[0m, in \u001b[0;36mHTTPResponse._read_status\u001b[1;34m(self)\u001b[0m\n\u001b[0;32m    278\u001b[0m \u001b[38;5;28;01mdef\u001b[39;00m \u001b[38;5;21m_read_status\u001b[39m(\u001b[38;5;28mself\u001b[39m):\n\u001b[1;32m--> 279\u001b[0m     line \u001b[38;5;241m=\u001b[39m \u001b[38;5;28mstr\u001b[39m(\u001b[38;5;28;43mself\u001b[39;49m\u001b[38;5;241;43m.\u001b[39;49m\u001b[43mfp\u001b[49m\u001b[38;5;241;43m.\u001b[39;49m\u001b[43mreadline\u001b[49m\u001b[43m(\u001b[49m\u001b[43m_MAXLINE\u001b[49m\u001b[43m \u001b[49m\u001b[38;5;241;43m+\u001b[39;49m\u001b[43m \u001b[49m\u001b[38;5;241;43m1\u001b[39;49m\u001b[43m)\u001b[49m, \u001b[38;5;124m\"\u001b[39m\u001b[38;5;124miso-8859-1\u001b[39m\u001b[38;5;124m\"\u001b[39m)\n\u001b[0;32m    280\u001b[0m     \u001b[38;5;28;01mif\u001b[39;00m \u001b[38;5;28mlen\u001b[39m(line) \u001b[38;5;241m>\u001b[39m _MAXLINE:\n\u001b[0;32m    281\u001b[0m         \u001b[38;5;28;01mraise\u001b[39;00m LineTooLong(\u001b[38;5;124m\"\u001b[39m\u001b[38;5;124mstatus line\u001b[39m\u001b[38;5;124m\"\u001b[39m)\n",
      "File \u001b[1;32m~\\anaconda3\\envs\\esm_env\\lib\\socket.py:705\u001b[0m, in \u001b[0;36mSocketIO.readinto\u001b[1;34m(self, b)\u001b[0m\n\u001b[0;32m    703\u001b[0m \u001b[38;5;28;01mwhile\u001b[39;00m \u001b[38;5;28;01mTrue\u001b[39;00m:\n\u001b[0;32m    704\u001b[0m     \u001b[38;5;28;01mtry\u001b[39;00m:\n\u001b[1;32m--> 705\u001b[0m         \u001b[38;5;28;01mreturn\u001b[39;00m \u001b[38;5;28;43mself\u001b[39;49m\u001b[38;5;241;43m.\u001b[39;49m\u001b[43m_sock\u001b[49m\u001b[38;5;241;43m.\u001b[39;49m\u001b[43mrecv_into\u001b[49m\u001b[43m(\u001b[49m\u001b[43mb\u001b[49m\u001b[43m)\u001b[49m\n\u001b[0;32m    706\u001b[0m     \u001b[38;5;28;01mexcept\u001b[39;00m timeout:\n\u001b[0;32m    707\u001b[0m         \u001b[38;5;28mself\u001b[39m\u001b[38;5;241m.\u001b[39m_timeout_occurred \u001b[38;5;241m=\u001b[39m \u001b[38;5;28;01mTrue\u001b[39;00m\n",
      "File \u001b[1;32m~\\anaconda3\\envs\\esm_env\\lib\\ssl.py:1307\u001b[0m, in \u001b[0;36mSSLSocket.recv_into\u001b[1;34m(self, buffer, nbytes, flags)\u001b[0m\n\u001b[0;32m   1303\u001b[0m     \u001b[38;5;28;01mif\u001b[39;00m flags \u001b[38;5;241m!=\u001b[39m \u001b[38;5;241m0\u001b[39m:\n\u001b[0;32m   1304\u001b[0m         \u001b[38;5;28;01mraise\u001b[39;00m \u001b[38;5;167;01mValueError\u001b[39;00m(\n\u001b[0;32m   1305\u001b[0m           \u001b[38;5;124m\"\u001b[39m\u001b[38;5;124mnon-zero flags not allowed in calls to recv_into() on \u001b[39m\u001b[38;5;132;01m%s\u001b[39;00m\u001b[38;5;124m\"\u001b[39m \u001b[38;5;241m%\u001b[39m\n\u001b[0;32m   1306\u001b[0m           \u001b[38;5;28mself\u001b[39m\u001b[38;5;241m.\u001b[39m\u001b[38;5;18m__class__\u001b[39m)\n\u001b[1;32m-> 1307\u001b[0m     \u001b[38;5;28;01mreturn\u001b[39;00m \u001b[38;5;28;43mself\u001b[39;49m\u001b[38;5;241;43m.\u001b[39;49m\u001b[43mread\u001b[49m\u001b[43m(\u001b[49m\u001b[43mnbytes\u001b[49m\u001b[43m,\u001b[49m\u001b[43m \u001b[49m\u001b[43mbuffer\u001b[49m\u001b[43m)\u001b[49m\n\u001b[0;32m   1308\u001b[0m \u001b[38;5;28;01melse\u001b[39;00m:\n\u001b[0;32m   1309\u001b[0m     \u001b[38;5;28;01mreturn\u001b[39;00m \u001b[38;5;28msuper\u001b[39m()\u001b[38;5;241m.\u001b[39mrecv_into(buffer, nbytes, flags)\n",
      "File \u001b[1;32m~\\anaconda3\\envs\\esm_env\\lib\\ssl.py:1163\u001b[0m, in \u001b[0;36mSSLSocket.read\u001b[1;34m(self, len, buffer)\u001b[0m\n\u001b[0;32m   1161\u001b[0m \u001b[38;5;28;01mtry\u001b[39;00m:\n\u001b[0;32m   1162\u001b[0m     \u001b[38;5;28;01mif\u001b[39;00m buffer \u001b[38;5;129;01mis\u001b[39;00m \u001b[38;5;129;01mnot\u001b[39;00m \u001b[38;5;28;01mNone\u001b[39;00m:\n\u001b[1;32m-> 1163\u001b[0m         \u001b[38;5;28;01mreturn\u001b[39;00m \u001b[38;5;28;43mself\u001b[39;49m\u001b[38;5;241;43m.\u001b[39;49m\u001b[43m_sslobj\u001b[49m\u001b[38;5;241;43m.\u001b[39;49m\u001b[43mread\u001b[49m\u001b[43m(\u001b[49m\u001b[38;5;28;43mlen\u001b[39;49m\u001b[43m,\u001b[49m\u001b[43m \u001b[49m\u001b[43mbuffer\u001b[49m\u001b[43m)\u001b[49m\n\u001b[0;32m   1164\u001b[0m     \u001b[38;5;28;01melse\u001b[39;00m:\n\u001b[0;32m   1165\u001b[0m         \u001b[38;5;28;01mreturn\u001b[39;00m \u001b[38;5;28mself\u001b[39m\u001b[38;5;241m.\u001b[39m_sslobj\u001b[38;5;241m.\u001b[39mread(\u001b[38;5;28mlen\u001b[39m)\n",
      "\u001b[1;31mKeyboardInterrupt\u001b[0m: "
     ]
    }
   ],
   "source": [
    "data_l = []\n",
    "for i in range(0, len(uniprot_ids)+1, 25):\n",
    "    ids_chunk = uniprot_ids[i:i+25]\n",
    "    ids_query = '%22OR%22'.join(ids_chunk)\n",
    "    url = f\"{base_url}{ids_query}%22\"\n",
    "    result = requests.get(url)\n",
    "    if result.ok:\n",
    "        data= result.text\n",
    "        data_l.append(pd.read_csv(StringIO(data), sep='\\t'))\n",
    "    else:\n",
    "        print(i)\n",
    "        print(ids_chunk)\n",
    "        print('Something went wrong ', result.status_code)\n",
    "        exit(1)"
   ]
  },
  {
   "cell_type": "markdown",
   "id": "fd5f38d2-65c1-4ef4-85d4-3b96f040347d",
   "metadata": {},
   "source": [
    "I needed to stop it running and I ended with 1887 chunks. There should be 2371 chunks."
   ]
  },
  {
   "cell_type": "code",
   "execution_count": 61,
   "id": "743da6e1-b216-4a86-b45c-8f1ca0f046f4",
   "metadata": {
    "tags": []
   },
   "outputs": [
    {
     "data": {
      "text/plain": [
       "1887"
      ]
     },
     "execution_count": 61,
     "metadata": {},
     "output_type": "execute_result"
    }
   ],
   "source": [
    "len(data_l)"
   ]
  },
  {
   "cell_type": "code",
   "execution_count": 70,
   "id": "398b04e4-358e-4fd8-9fe8-e87652cd6751",
   "metadata": {
    "tags": []
   },
   "outputs": [
    {
     "data": {
      "text/plain": [
       "47175"
      ]
     },
     "execution_count": 70,
     "metadata": {},
     "output_type": "execute_result"
    }
   ],
   "source": [
    "(len(data_l)) * 25"
   ]
  },
  {
   "cell_type": "code",
   "execution_count": 63,
   "id": "59fdd5d4-8dd6-4a11-94fc-a37f162fc6dc",
   "metadata": {
    "tags": []
   },
   "outputs": [
    {
     "data": {
      "text/plain": [
       "2370.48"
      ]
     },
     "execution_count": 63,
     "metadata": {},
     "output_type": "execute_result"
    }
   ],
   "source": [
    "len(uniprot_ids)/25"
   ]
  },
  {
   "cell_type": "code",
   "execution_count": 71,
   "id": "b6ce4ea7-cfef-4914-973f-c52a6f73b838",
   "metadata": {
    "tags": []
   },
   "outputs": [],
   "source": [
    "uniprot_df1 = pd.concat(data_l)"
   ]
  },
  {
   "cell_type": "code",
   "execution_count": 81,
   "id": "d00d3611-bdab-46c5-a51d-935058c81b98",
   "metadata": {
    "tags": []
   },
   "outputs": [],
   "source": [
    "data_l2 = []\n",
    "for i in range(47175, len(uniprot_ids)+1, 25):\n",
    "    ids_chunk = uniprot_ids[i:i+25]\n",
    "    ids_query = '%22OR%22'.join(ids_chunk)\n",
    "    url = f\"{base_url}{ids_query}%22\"\n",
    "    result = requests.get(url)\n",
    "    if result.ok:\n",
    "        data= result.text\n",
    "        data_l2.append(pd.read_csv(StringIO(data), sep='\\t'))\n",
    "    else:\n",
    "        print(i)\n",
    "        print(ids_chunk)\n",
    "        print('Something went wrong ', result.status_code)\n",
    "        exit(1)"
   ]
  },
  {
   "cell_type": "code",
   "execution_count": 82,
   "id": "6b675602-4bfc-46f6-ba16-bf75b6b31411",
   "metadata": {
    "tags": []
   },
   "outputs": [],
   "source": [
    "uniprot_df2 = pd.concat(data_l2)"
   ]
  },
  {
   "cell_type": "code",
   "execution_count": 83,
   "id": "082dfca4-cafd-4ee0-9bb1-eb5a362aa053",
   "metadata": {
    "tags": []
   },
   "outputs": [
    {
     "data": {
      "text/plain": [
       "(47175, 14)"
      ]
     },
     "execution_count": 83,
     "metadata": {},
     "output_type": "execute_result"
    }
   ],
   "source": [
    "uniprot_df1.shape"
   ]
  },
  {
   "cell_type": "code",
   "execution_count": 84,
   "id": "603c0891-885a-4393-97cc-d2fa54f1f31a",
   "metadata": {
    "tags": []
   },
   "outputs": [
    {
     "data": {
      "text/plain": [
       "(12087, 14)"
      ]
     },
     "execution_count": 84,
     "metadata": {},
     "output_type": "execute_result"
    }
   ],
   "source": [
    "uniprot_df2.shape"
   ]
  },
  {
   "cell_type": "code",
   "execution_count": 85,
   "id": "00e081ba-8b6e-4274-93dd-8b517b62b826",
   "metadata": {
    "tags": []
   },
   "outputs": [
    {
     "data": {
      "text/plain": [
       "59262"
      ]
     },
     "execution_count": 85,
     "metadata": {},
     "output_type": "execute_result"
    }
   ],
   "source": [
    "47175+12087"
   ]
  },
  {
   "cell_type": "code",
   "execution_count": 86,
   "id": "140c6bb4-7cec-4f7f-8ee5-aa262110da4a",
   "metadata": {
    "tags": []
   },
   "outputs": [
    {
     "data": {
      "text/plain": [
       "59262"
      ]
     },
     "execution_count": 86,
     "metadata": {},
     "output_type": "execute_result"
    }
   ],
   "source": [
    "len(uniprot_ids)"
   ]
  },
  {
   "cell_type": "code",
   "execution_count": 87,
   "id": "9d6707f0-6396-4111-ba76-2220eb8f7b86",
   "metadata": {
    "tags": []
   },
   "outputs": [],
   "source": [
    "uniprot_anno = pd.concat([uniprot_df1, uniprot_df2])"
   ]
  },
  {
   "cell_type": "code",
   "execution_count": 124,
   "id": "741ea2cf-2467-4914-a7c3-1871732a7614",
   "metadata": {
    "tags": []
   },
   "outputs": [],
   "source": [
    "uniprot_anno = uniprot_anno.drop_duplicates()"
   ]
  },
  {
   "cell_type": "code",
   "execution_count": 125,
   "id": "5f04f9d0-e211-4e0d-a9f0-a6d65333c809",
   "metadata": {
    "tags": []
   },
   "outputs": [
    {
     "data": {
      "text/plain": [
       "59261"
      ]
     },
     "execution_count": 125,
     "metadata": {},
     "output_type": "execute_result"
    }
   ],
   "source": [
    "uniprot_anno.shape[0]"
   ]
  },
  {
   "cell_type": "code",
   "execution_count": 97,
   "id": "c554a8aa-0d9c-4598-a184-3e3338dd0a58",
   "metadata": {
    "tags": []
   },
   "outputs": [
    {
     "data": {
      "text/plain": [
       "Protein families\n",
       "FPP/GGPP synthase family                                           25741\n",
       "Terpene synthase family                                             3309\n",
       "Terpene cyclase/mutase family                                       2715\n",
       "Phytoene/squalene synthase family                                   1723\n",
       "Trichodiene synthase family                                          445\n",
       "Phytoene/squalene synthase family; Lycopene beta-cyclase family      281\n",
       "Terpene synthase family, 2-methylisoborneol synthase subfamily       240\n",
       "IPP isomerase type 1 family                                          174\n",
       "Terpene synthase family, Tpsd subfamily                              145\n",
       "Protein prenyltransferase subunit beta family                        114\n",
       "Terpene synthase family, Tpsa subfamily                               87\n",
       "Terpene synthase family, Tpsb subfamily                               72\n",
       "Carotenoid/retinoid oxidoreductase family                             24\n",
       "Membrane magnesium transporter (TC 1.A.67) family                     20\n",
       "Lycopene beta-cyclase family; Phytoene/squalene synthase family       18\n",
       "Name: count, dtype: int64"
      ]
     },
     "execution_count": 97,
     "metadata": {},
     "output_type": "execute_result"
    }
   ],
   "source": [
    "uniprot_anno['Protein families'].value_counts().head(15)"
   ]
  },
  {
   "cell_type": "code",
   "execution_count": 100,
   "id": "cfac6cf0-0633-407a-8d92-ac8000555c14",
   "metadata": {
    "tags": []
   },
   "outputs": [
    {
     "data": {
      "text/plain": [
       "Fragment\n",
       "fragment    1147\n",
       "Name: count, dtype: int64"
      ]
     },
     "execution_count": 100,
     "metadata": {},
     "output_type": "execute_result"
    }
   ],
   "source": [
    "uniprot_anno['Fragment'].value_counts().head(15)"
   ]
  },
  {
   "cell_type": "code",
   "execution_count": 107,
   "id": "7662eb7f-3fd6-4fc2-abfa-906592e7b4b7",
   "metadata": {
    "tags": []
   },
   "outputs": [
    {
     "data": {
      "text/html": [
       "<div>\n",
       "<style scoped>\n",
       "    .dataframe tbody tr th:only-of-type {\n",
       "        vertical-align: middle;\n",
       "    }\n",
       "\n",
       "    .dataframe tbody tr th {\n",
       "        vertical-align: top;\n",
       "    }\n",
       "\n",
       "    .dataframe thead th {\n",
       "        text-align: right;\n",
       "    }\n",
       "</style>\n",
       "<table border=\"1\" class=\"dataframe\">\n",
       "  <thead>\n",
       "    <tr style=\"text-align: right;\">\n",
       "      <th></th>\n",
       "      <th>record_id</th>\n",
       "      <th>record_description</th>\n",
       "      <th>new_id</th>\n",
       "      <th>uniprot_id</th>\n",
       "    </tr>\n",
       "  </thead>\n",
       "  <tbody>\n",
       "    <tr>\n",
       "      <th>687</th>\n",
       "      <td>tr|A0A212QX55|A0A212QX55_9CHLR_consensus</td>\n",
       "      <td>tr|A0A212QX55|A0A212QX55_9CHLR_consensus</td>\n",
       "      <td>bfd_000687</td>\n",
       "      <td>A0A212QX55</td>\n",
       "    </tr>\n",
       "    <tr>\n",
       "      <th>688</th>\n",
       "      <td>tr|A0A212QX55|A0A212QX55_9CHLR</td>\n",
       "      <td>tr|A0A212QX55|A0A212QX55_9CHLR Prenyltransfera...</td>\n",
       "      <td>bfd_000688</td>\n",
       "      <td>A0A212QX55</td>\n",
       "    </tr>\n",
       "    <tr>\n",
       "      <th>690</th>\n",
       "      <td>tr|A0A2A4NHD7|A0A2A4NHD7_9RHIZ_consensus</td>\n",
       "      <td>tr|A0A2A4NHD7|A0A2A4NHD7_9RHIZ_consensus</td>\n",
       "      <td>bfd_000690</td>\n",
       "      <td>A0A2A4NHD7</td>\n",
       "    </tr>\n",
       "    <tr>\n",
       "      <th>691</th>\n",
       "      <td>tr|A0A2A4NHD7|A0A2A4NHD7_9RHIZ</td>\n",
       "      <td>tr|A0A2A4NHD7|A0A2A4NHD7_9RHIZ Uncharacterized...</td>\n",
       "      <td>bfd_000691</td>\n",
       "      <td>A0A2A4NHD7</td>\n",
       "    </tr>\n",
       "    <tr>\n",
       "      <th>692</th>\n",
       "      <td>tr|A0A2A4LSP2|A0A2A4LSP2_9RHIZ</td>\n",
       "      <td>tr|A0A2A4LSP2|A0A2A4LSP2_9RHIZ Uncharacterized...</td>\n",
       "      <td>bfd_000692</td>\n",
       "      <td>A0A2A4LSP2</td>\n",
       "    </tr>\n",
       "    <tr>\n",
       "      <th>...</th>\n",
       "      <td>...</td>\n",
       "      <td>...</td>\n",
       "      <td>...</td>\n",
       "      <td>...</td>\n",
       "    </tr>\n",
       "    <tr>\n",
       "      <th>273530</th>\n",
       "      <td>tr|G0RTC8|G0RTC8_HYPJQ</td>\n",
       "      <td>tr|G0RTC8|G0RTC8_HYPJQ Geranylgeranyl diphosph...</td>\n",
       "      <td>bfd_273530</td>\n",
       "      <td>G0RTC8</td>\n",
       "    </tr>\n",
       "    <tr>\n",
       "      <th>273531</th>\n",
       "      <td>tr|A0A074WQU1|A0A074WQU1_9PEZI</td>\n",
       "      <td>tr|A0A074WQU1|A0A074WQU1_9PEZI Geranylgeranyl ...</td>\n",
       "      <td>bfd_273531</td>\n",
       "      <td>A0A074WQU1</td>\n",
       "    </tr>\n",
       "    <tr>\n",
       "      <th>273532</th>\n",
       "      <td>tr|A0A0M9VW26|A0A0M9VW26_9HYPO</td>\n",
       "      <td>tr|A0A0M9VW26|A0A0M9VW26_9HYPO Geranylgeranyl ...</td>\n",
       "      <td>bfd_273532</td>\n",
       "      <td>A0A0M9VW26</td>\n",
       "    </tr>\n",
       "    <tr>\n",
       "      <th>273533</th>\n",
       "      <td>tr|C5FWC0|C5FWC0_ARTOC</td>\n",
       "      <td>tr|C5FWC0|C5FWC0_ARTOC Geranylgeranyl pyrophos...</td>\n",
       "      <td>bfd_273533</td>\n",
       "      <td>C5FWC0</td>\n",
       "    </tr>\n",
       "    <tr>\n",
       "      <th>273534</th>\n",
       "      <td>tr|L2FVX8|L2FVX8_COLGN</td>\n",
       "      <td>tr|L2FVX8|L2FVX8_COLGN Geranylgeranyl diphosph...</td>\n",
       "      <td>bfd_273534</td>\n",
       "      <td>L2FVX8</td>\n",
       "    </tr>\n",
       "  </tbody>\n",
       "</table>\n",
       "<p>61111 rows × 4 columns</p>\n",
       "</div>"
      ],
      "text/plain": [
       "                                       record_id  \\\n",
       "687     tr|A0A212QX55|A0A212QX55_9CHLR_consensus   \n",
       "688               tr|A0A212QX55|A0A212QX55_9CHLR   \n",
       "690     tr|A0A2A4NHD7|A0A2A4NHD7_9RHIZ_consensus   \n",
       "691               tr|A0A2A4NHD7|A0A2A4NHD7_9RHIZ   \n",
       "692               tr|A0A2A4LSP2|A0A2A4LSP2_9RHIZ   \n",
       "...                                          ...   \n",
       "273530                    tr|G0RTC8|G0RTC8_HYPJQ   \n",
       "273531            tr|A0A074WQU1|A0A074WQU1_9PEZI   \n",
       "273532            tr|A0A0M9VW26|A0A0M9VW26_9HYPO   \n",
       "273533                    tr|C5FWC0|C5FWC0_ARTOC   \n",
       "273534                    tr|L2FVX8|L2FVX8_COLGN   \n",
       "\n",
       "                                       record_description      new_id  \\\n",
       "687              tr|A0A212QX55|A0A212QX55_9CHLR_consensus  bfd_000687   \n",
       "688     tr|A0A212QX55|A0A212QX55_9CHLR Prenyltransfera...  bfd_000688   \n",
       "690              tr|A0A2A4NHD7|A0A2A4NHD7_9RHIZ_consensus  bfd_000690   \n",
       "691     tr|A0A2A4NHD7|A0A2A4NHD7_9RHIZ Uncharacterized...  bfd_000691   \n",
       "692     tr|A0A2A4LSP2|A0A2A4LSP2_9RHIZ Uncharacterized...  bfd_000692   \n",
       "...                                                   ...         ...   \n",
       "273530  tr|G0RTC8|G0RTC8_HYPJQ Geranylgeranyl diphosph...  bfd_273530   \n",
       "273531  tr|A0A074WQU1|A0A074WQU1_9PEZI Geranylgeranyl ...  bfd_273531   \n",
       "273532  tr|A0A0M9VW26|A0A0M9VW26_9HYPO Geranylgeranyl ...  bfd_273532   \n",
       "273533  tr|C5FWC0|C5FWC0_ARTOC Geranylgeranyl pyrophos...  bfd_273533   \n",
       "273534  tr|L2FVX8|L2FVX8_COLGN Geranylgeranyl diphosph...  bfd_273534   \n",
       "\n",
       "        uniprot_id  \n",
       "687     A0A212QX55  \n",
       "688     A0A212QX55  \n",
       "690     A0A2A4NHD7  \n",
       "691     A0A2A4NHD7  \n",
       "692     A0A2A4LSP2  \n",
       "...            ...  \n",
       "273530      G0RTC8  \n",
       "273531  A0A074WQU1  \n",
       "273532  A0A0M9VW26  \n",
       "273533      C5FWC0  \n",
       "273534      L2FVX8  \n",
       "\n",
       "[61111 rows x 4 columns]"
      ]
     },
     "execution_count": 107,
     "metadata": {},
     "output_type": "execute_result"
    }
   ],
   "source": [
    "uniprot"
   ]
  },
  {
   "cell_type": "code",
   "execution_count": 127,
   "id": "5f0c5c54-afdb-4039-a996-51ab3ce4c8e4",
   "metadata": {
    "tags": []
   },
   "outputs": [],
   "source": [
    "uniprot_annotated = uniprot.merge(uniprot_anno, how='left',left_on='uniprot_id',right_on='Entry')"
   ]
  },
  {
   "cell_type": "code",
   "execution_count": 134,
   "id": "51a4c8f8-016d-4c19-814d-a98576169d74",
   "metadata": {
    "tags": []
   },
   "outputs": [],
   "source": [
    "uniprot_annotated.to_csv('bfd_uniprot_anno.csv')"
   ]
  },
  {
   "cell_type": "code",
   "execution_count": 302,
   "id": "6138feab-a7c4-4af7-aafd-242822dbff5a",
   "metadata": {
    "tags": []
   },
   "outputs": [
    {
     "data": {
      "text/html": [
       "<div>\n",
       "<style scoped>\n",
       "    .dataframe tbody tr th:only-of-type {\n",
       "        vertical-align: middle;\n",
       "    }\n",
       "\n",
       "    .dataframe tbody tr th {\n",
       "        vertical-align: top;\n",
       "    }\n",
       "\n",
       "    .dataframe thead th {\n",
       "        text-align: right;\n",
       "    }\n",
       "</style>\n",
       "<table border=\"1\" class=\"dataframe\">\n",
       "  <thead>\n",
       "    <tr style=\"text-align: right;\">\n",
       "      <th></th>\n",
       "      <th>record_id</th>\n",
       "      <th>record_description</th>\n",
       "      <th>new_id</th>\n",
       "      <th>uniprot_id</th>\n",
       "      <th>Entry</th>\n",
       "      <th>Entry Name</th>\n",
       "      <th>Gene Names</th>\n",
       "      <th>Protein names</th>\n",
       "      <th>Protein families</th>\n",
       "      <th>Organism</th>\n",
       "      <th>Organism (ID)</th>\n",
       "      <th>Fragment</th>\n",
       "      <th>Active site</th>\n",
       "      <th>Catalytic activity</th>\n",
       "      <th>EC number</th>\n",
       "      <th>Function [CC]</th>\n",
       "      <th>Rhea ID</th>\n",
       "      <th>Site</th>\n",
       "    </tr>\n",
       "  </thead>\n",
       "  <tbody>\n",
       "    <tr>\n",
       "      <th>0</th>\n",
       "      <td>tr|A0A212QX55|A0A212QX55_9CHLR_consensus</td>\n",
       "      <td>tr|A0A212QX55|A0A212QX55_9CHLR_consensus</td>\n",
       "      <td>bfd_000687</td>\n",
       "      <td>A0A212QX55</td>\n",
       "      <td>A0A212QX55</td>\n",
       "      <td>A0A212QX55_9CHLR</td>\n",
       "      <td>SAMN02746019_00008040</td>\n",
       "      <td>Prenyltransferase and squalene oxidase repeat-...</td>\n",
       "      <td>Terpene synthase family</td>\n",
       "      <td>Thermoflexus hugenholtzii JAD2</td>\n",
       "      <td>877466.0</td>\n",
       "      <td>NaN</td>\n",
       "      <td>NaN</td>\n",
       "      <td>NaN</td>\n",
       "      <td>NaN</td>\n",
       "      <td>NaN</td>\n",
       "      <td>NaN</td>\n",
       "      <td>NaN</td>\n",
       "    </tr>\n",
       "    <tr>\n",
       "      <th>1</th>\n",
       "      <td>tr|A0A212QX55|A0A212QX55_9CHLR</td>\n",
       "      <td>tr|A0A212QX55|A0A212QX55_9CHLR Prenyltransfera...</td>\n",
       "      <td>bfd_000688</td>\n",
       "      <td>A0A212QX55</td>\n",
       "      <td>A0A212QX55</td>\n",
       "      <td>A0A212QX55_9CHLR</td>\n",
       "      <td>SAMN02746019_00008040</td>\n",
       "      <td>Prenyltransferase and squalene oxidase repeat-...</td>\n",
       "      <td>Terpene synthase family</td>\n",
       "      <td>Thermoflexus hugenholtzii JAD2</td>\n",
       "      <td>877466.0</td>\n",
       "      <td>NaN</td>\n",
       "      <td>NaN</td>\n",
       "      <td>NaN</td>\n",
       "      <td>NaN</td>\n",
       "      <td>NaN</td>\n",
       "      <td>NaN</td>\n",
       "      <td>NaN</td>\n",
       "    </tr>\n",
       "    <tr>\n",
       "      <th>2</th>\n",
       "      <td>tr|A0A2A4NHD7|A0A2A4NHD7_9RHIZ_consensus</td>\n",
       "      <td>tr|A0A2A4NHD7|A0A2A4NHD7_9RHIZ_consensus</td>\n",
       "      <td>bfd_000690</td>\n",
       "      <td>A0A2A4NHD7</td>\n",
       "      <td>A0A2A4NHD7</td>\n",
       "      <td>A0A2A4NHD7_9HYPH</td>\n",
       "      <td>COC00_08995</td>\n",
       "      <td>Phytoene synthase</td>\n",
       "      <td>NaN</td>\n",
       "      <td>Hyphomicrobiales bacterium</td>\n",
       "      <td>1909294.0</td>\n",
       "      <td>NaN</td>\n",
       "      <td>NaN</td>\n",
       "      <td>NaN</td>\n",
       "      <td>NaN</td>\n",
       "      <td>NaN</td>\n",
       "      <td>NaN</td>\n",
       "      <td>NaN</td>\n",
       "    </tr>\n",
       "    <tr>\n",
       "      <th>3</th>\n",
       "      <td>tr|A0A2A4NHD7|A0A2A4NHD7_9RHIZ</td>\n",
       "      <td>tr|A0A2A4NHD7|A0A2A4NHD7_9RHIZ Uncharacterized...</td>\n",
       "      <td>bfd_000691</td>\n",
       "      <td>A0A2A4NHD7</td>\n",
       "      <td>A0A2A4NHD7</td>\n",
       "      <td>A0A2A4NHD7_9HYPH</td>\n",
       "      <td>COC00_08995</td>\n",
       "      <td>Phytoene synthase</td>\n",
       "      <td>NaN</td>\n",
       "      <td>Hyphomicrobiales bacterium</td>\n",
       "      <td>1909294.0</td>\n",
       "      <td>NaN</td>\n",
       "      <td>NaN</td>\n",
       "      <td>NaN</td>\n",
       "      <td>NaN</td>\n",
       "      <td>NaN</td>\n",
       "      <td>NaN</td>\n",
       "      <td>NaN</td>\n",
       "    </tr>\n",
       "    <tr>\n",
       "      <th>4</th>\n",
       "      <td>tr|A0A2A4LSP2|A0A2A4LSP2_9RHIZ</td>\n",
       "      <td>tr|A0A2A4LSP2|A0A2A4LSP2_9RHIZ Uncharacterized...</td>\n",
       "      <td>bfd_000692</td>\n",
       "      <td>A0A2A4LSP2</td>\n",
       "      <td>A0A2A4LSP2</td>\n",
       "      <td>A0A2A4LSP2_9HYPH</td>\n",
       "      <td>COC17_04380</td>\n",
       "      <td>Phytoene synthase</td>\n",
       "      <td>NaN</td>\n",
       "      <td>Hyphomicrobiales bacterium</td>\n",
       "      <td>1909294.0</td>\n",
       "      <td>NaN</td>\n",
       "      <td>NaN</td>\n",
       "      <td>NaN</td>\n",
       "      <td>NaN</td>\n",
       "      <td>NaN</td>\n",
       "      <td>NaN</td>\n",
       "      <td>NaN</td>\n",
       "    </tr>\n",
       "    <tr>\n",
       "      <th>...</th>\n",
       "      <td>...</td>\n",
       "      <td>...</td>\n",
       "      <td>...</td>\n",
       "      <td>...</td>\n",
       "      <td>...</td>\n",
       "      <td>...</td>\n",
       "      <td>...</td>\n",
       "      <td>...</td>\n",
       "      <td>...</td>\n",
       "      <td>...</td>\n",
       "      <td>...</td>\n",
       "      <td>...</td>\n",
       "      <td>...</td>\n",
       "      <td>...</td>\n",
       "      <td>...</td>\n",
       "      <td>...</td>\n",
       "      <td>...</td>\n",
       "      <td>...</td>\n",
       "    </tr>\n",
       "    <tr>\n",
       "      <th>61106</th>\n",
       "      <td>tr|G0RTC8|G0RTC8_HYPJQ</td>\n",
       "      <td>tr|G0RTC8|G0RTC8_HYPJQ Geranylgeranyl diphosph...</td>\n",
       "      <td>bfd_273530</td>\n",
       "      <td>G0RTC8</td>\n",
       "      <td>G0RTC8</td>\n",
       "      <td>G0RTC8_HYPJQ</td>\n",
       "      <td>TRIREDRAFT_68022</td>\n",
       "      <td>Geranylgeranyl diphosphate synthase</td>\n",
       "      <td>FPP/GGPP synthase family</td>\n",
       "      <td>Hypocrea jecorina (strain QM6a) (Trichoderma r...</td>\n",
       "      <td>431241.0</td>\n",
       "      <td>NaN</td>\n",
       "      <td>NaN</td>\n",
       "      <td>NaN</td>\n",
       "      <td>NaN</td>\n",
       "      <td>NaN</td>\n",
       "      <td>NaN</td>\n",
       "      <td>NaN</td>\n",
       "    </tr>\n",
       "    <tr>\n",
       "      <th>61107</th>\n",
       "      <td>tr|A0A074WQU1|A0A074WQU1_9PEZI</td>\n",
       "      <td>tr|A0A074WQU1|A0A074WQU1_9PEZI Geranylgeranyl ...</td>\n",
       "      <td>bfd_273531</td>\n",
       "      <td>A0A074WQU1</td>\n",
       "      <td>A0A074WQU1</td>\n",
       "      <td>A0A074WQU1_9PEZI</td>\n",
       "      <td>M437DRAFT_73717</td>\n",
       "      <td>Geranylgeranyl diphosphate synthase 1</td>\n",
       "      <td>FPP/GGPP synthase family</td>\n",
       "      <td>Aureobasidium melanogenum CBS 110374</td>\n",
       "      <td>1043003.0</td>\n",
       "      <td>NaN</td>\n",
       "      <td>NaN</td>\n",
       "      <td>NaN</td>\n",
       "      <td>NaN</td>\n",
       "      <td>NaN</td>\n",
       "      <td>NaN</td>\n",
       "      <td>NaN</td>\n",
       "    </tr>\n",
       "    <tr>\n",
       "      <th>61108</th>\n",
       "      <td>tr|A0A0M9VW26|A0A0M9VW26_9HYPO</td>\n",
       "      <td>tr|A0A0M9VW26|A0A0M9VW26_9HYPO Geranylgeranyl ...</td>\n",
       "      <td>bfd_273532</td>\n",
       "      <td>A0A0M9VW26</td>\n",
       "      <td>A0A0M9VW26</td>\n",
       "      <td>A0A0M9VW26_9HYPO</td>\n",
       "      <td>ESCO_005024</td>\n",
       "      <td>Geranylgeranyl pyrophosphate synthase</td>\n",
       "      <td>FPP/GGPP synthase family</td>\n",
       "      <td>Escovopsis weberi</td>\n",
       "      <td>150374.0</td>\n",
       "      <td>NaN</td>\n",
       "      <td>NaN</td>\n",
       "      <td>NaN</td>\n",
       "      <td>NaN</td>\n",
       "      <td>NaN</td>\n",
       "      <td>NaN</td>\n",
       "      <td>NaN</td>\n",
       "    </tr>\n",
       "    <tr>\n",
       "      <th>61109</th>\n",
       "      <td>tr|C5FWC0|C5FWC0_ARTOC</td>\n",
       "      <td>tr|C5FWC0|C5FWC0_ARTOC Geranylgeranyl pyrophos...</td>\n",
       "      <td>bfd_273533</td>\n",
       "      <td>C5FWC0</td>\n",
       "      <td>C5FWC0</td>\n",
       "      <td>C5FWC0_ARTOC</td>\n",
       "      <td>MCYG_07023</td>\n",
       "      <td>Geranylgeranyl pyrophosphate synthetase</td>\n",
       "      <td>FPP/GGPP synthase family</td>\n",
       "      <td>Arthroderma otae (strain ATCC MYA-4605 / CBS 1...</td>\n",
       "      <td>554155.0</td>\n",
       "      <td>NaN</td>\n",
       "      <td>NaN</td>\n",
       "      <td>NaN</td>\n",
       "      <td>NaN</td>\n",
       "      <td>NaN</td>\n",
       "      <td>NaN</td>\n",
       "      <td>NaN</td>\n",
       "    </tr>\n",
       "    <tr>\n",
       "      <th>61110</th>\n",
       "      <td>tr|L2FVX8|L2FVX8_COLGN</td>\n",
       "      <td>tr|L2FVX8|L2FVX8_COLGN Geranylgeranyl diphosph...</td>\n",
       "      <td>bfd_273534</td>\n",
       "      <td>L2FVX8</td>\n",
       "      <td>L2FVX8</td>\n",
       "      <td>L2FVX8_COLFN</td>\n",
       "      <td>CGGC5_994</td>\n",
       "      <td>Geranylgeranyl diphosphate synthase</td>\n",
       "      <td>FPP/GGPP synthase family</td>\n",
       "      <td>Colletotrichum fructicola (strain Nara gc5) (A...</td>\n",
       "      <td>1213859.0</td>\n",
       "      <td>NaN</td>\n",
       "      <td>NaN</td>\n",
       "      <td>NaN</td>\n",
       "      <td>NaN</td>\n",
       "      <td>NaN</td>\n",
       "      <td>NaN</td>\n",
       "      <td>NaN</td>\n",
       "    </tr>\n",
       "  </tbody>\n",
       "</table>\n",
       "<p>61111 rows × 18 columns</p>\n",
       "</div>"
      ],
      "text/plain": [
       "                                      record_id  \\\n",
       "0      tr|A0A212QX55|A0A212QX55_9CHLR_consensus   \n",
       "1                tr|A0A212QX55|A0A212QX55_9CHLR   \n",
       "2      tr|A0A2A4NHD7|A0A2A4NHD7_9RHIZ_consensus   \n",
       "3                tr|A0A2A4NHD7|A0A2A4NHD7_9RHIZ   \n",
       "4                tr|A0A2A4LSP2|A0A2A4LSP2_9RHIZ   \n",
       "...                                         ...   \n",
       "61106                    tr|G0RTC8|G0RTC8_HYPJQ   \n",
       "61107            tr|A0A074WQU1|A0A074WQU1_9PEZI   \n",
       "61108            tr|A0A0M9VW26|A0A0M9VW26_9HYPO   \n",
       "61109                    tr|C5FWC0|C5FWC0_ARTOC   \n",
       "61110                    tr|L2FVX8|L2FVX8_COLGN   \n",
       "\n",
       "                                      record_description      new_id  \\\n",
       "0               tr|A0A212QX55|A0A212QX55_9CHLR_consensus  bfd_000687   \n",
       "1      tr|A0A212QX55|A0A212QX55_9CHLR Prenyltransfera...  bfd_000688   \n",
       "2               tr|A0A2A4NHD7|A0A2A4NHD7_9RHIZ_consensus  bfd_000690   \n",
       "3      tr|A0A2A4NHD7|A0A2A4NHD7_9RHIZ Uncharacterized...  bfd_000691   \n",
       "4      tr|A0A2A4LSP2|A0A2A4LSP2_9RHIZ Uncharacterized...  bfd_000692   \n",
       "...                                                  ...         ...   \n",
       "61106  tr|G0RTC8|G0RTC8_HYPJQ Geranylgeranyl diphosph...  bfd_273530   \n",
       "61107  tr|A0A074WQU1|A0A074WQU1_9PEZI Geranylgeranyl ...  bfd_273531   \n",
       "61108  tr|A0A0M9VW26|A0A0M9VW26_9HYPO Geranylgeranyl ...  bfd_273532   \n",
       "61109  tr|C5FWC0|C5FWC0_ARTOC Geranylgeranyl pyrophos...  bfd_273533   \n",
       "61110  tr|L2FVX8|L2FVX8_COLGN Geranylgeranyl diphosph...  bfd_273534   \n",
       "\n",
       "       uniprot_id       Entry        Entry Name             Gene Names  \\\n",
       "0      A0A212QX55  A0A212QX55  A0A212QX55_9CHLR  SAMN02746019_00008040   \n",
       "1      A0A212QX55  A0A212QX55  A0A212QX55_9CHLR  SAMN02746019_00008040   \n",
       "2      A0A2A4NHD7  A0A2A4NHD7  A0A2A4NHD7_9HYPH            COC00_08995   \n",
       "3      A0A2A4NHD7  A0A2A4NHD7  A0A2A4NHD7_9HYPH            COC00_08995   \n",
       "4      A0A2A4LSP2  A0A2A4LSP2  A0A2A4LSP2_9HYPH            COC17_04380   \n",
       "...           ...         ...               ...                    ...   \n",
       "61106      G0RTC8      G0RTC8      G0RTC8_HYPJQ       TRIREDRAFT_68022   \n",
       "61107  A0A074WQU1  A0A074WQU1  A0A074WQU1_9PEZI        M437DRAFT_73717   \n",
       "61108  A0A0M9VW26  A0A0M9VW26  A0A0M9VW26_9HYPO            ESCO_005024   \n",
       "61109      C5FWC0      C5FWC0      C5FWC0_ARTOC             MCYG_07023   \n",
       "61110      L2FVX8      L2FVX8      L2FVX8_COLFN              CGGC5_994   \n",
       "\n",
       "                                           Protein names  \\\n",
       "0      Prenyltransferase and squalene oxidase repeat-...   \n",
       "1      Prenyltransferase and squalene oxidase repeat-...   \n",
       "2                                      Phytoene synthase   \n",
       "3                                      Phytoene synthase   \n",
       "4                                      Phytoene synthase   \n",
       "...                                                  ...   \n",
       "61106                Geranylgeranyl diphosphate synthase   \n",
       "61107              Geranylgeranyl diphosphate synthase 1   \n",
       "61108              Geranylgeranyl pyrophosphate synthase   \n",
       "61109            Geranylgeranyl pyrophosphate synthetase   \n",
       "61110                Geranylgeranyl diphosphate synthase   \n",
       "\n",
       "               Protein families  \\\n",
       "0       Terpene synthase family   \n",
       "1       Terpene synthase family   \n",
       "2                           NaN   \n",
       "3                           NaN   \n",
       "4                           NaN   \n",
       "...                         ...   \n",
       "61106  FPP/GGPP synthase family   \n",
       "61107  FPP/GGPP synthase family   \n",
       "61108  FPP/GGPP synthase family   \n",
       "61109  FPP/GGPP synthase family   \n",
       "61110  FPP/GGPP synthase family   \n",
       "\n",
       "                                                Organism  Organism (ID)  \\\n",
       "0                         Thermoflexus hugenholtzii JAD2       877466.0   \n",
       "1                         Thermoflexus hugenholtzii JAD2       877466.0   \n",
       "2                             Hyphomicrobiales bacterium      1909294.0   \n",
       "3                             Hyphomicrobiales bacterium      1909294.0   \n",
       "4                             Hyphomicrobiales bacterium      1909294.0   \n",
       "...                                                  ...            ...   \n",
       "61106  Hypocrea jecorina (strain QM6a) (Trichoderma r...       431241.0   \n",
       "61107               Aureobasidium melanogenum CBS 110374      1043003.0   \n",
       "61108                                  Escovopsis weberi       150374.0   \n",
       "61109  Arthroderma otae (strain ATCC MYA-4605 / CBS 1...       554155.0   \n",
       "61110  Colletotrichum fructicola (strain Nara gc5) (A...      1213859.0   \n",
       "\n",
       "      Fragment Active site Catalytic activity EC number Function [CC] Rhea ID  \\\n",
       "0          NaN         NaN                NaN       NaN           NaN     NaN   \n",
       "1          NaN         NaN                NaN       NaN           NaN     NaN   \n",
       "2          NaN         NaN                NaN       NaN           NaN     NaN   \n",
       "3          NaN         NaN                NaN       NaN           NaN     NaN   \n",
       "4          NaN         NaN                NaN       NaN           NaN     NaN   \n",
       "...        ...         ...                ...       ...           ...     ...   \n",
       "61106      NaN         NaN                NaN       NaN           NaN     NaN   \n",
       "61107      NaN         NaN                NaN       NaN           NaN     NaN   \n",
       "61108      NaN         NaN                NaN       NaN           NaN     NaN   \n",
       "61109      NaN         NaN                NaN       NaN           NaN     NaN   \n",
       "61110      NaN         NaN                NaN       NaN           NaN     NaN   \n",
       "\n",
       "      Site  \n",
       "0      NaN  \n",
       "1      NaN  \n",
       "2      NaN  \n",
       "3      NaN  \n",
       "4      NaN  \n",
       "...    ...  \n",
       "61106  NaN  \n",
       "61107  NaN  \n",
       "61108  NaN  \n",
       "61109  NaN  \n",
       "61110  NaN  \n",
       "\n",
       "[61111 rows x 18 columns]"
      ]
     },
     "execution_count": 302,
     "metadata": {},
     "output_type": "execute_result"
    }
   ],
   "source": [
    "uniprot_annotated"
   ]
  },
  {
   "cell_type": "code",
   "execution_count": 340,
   "id": "24c86922-6407-4f98-8c5b-85c443f07c0b",
   "metadata": {
    "tags": []
   },
   "outputs": [],
   "source": [
    "uniprot_annotated['bfd_source_database'] = uniprot_annotated.shape[0]*['UniProt']"
   ]
  },
  {
   "cell_type": "code",
   "execution_count": 341,
   "id": "ddb68148-da8c-4f67-b45d-901d65da2bfa",
   "metadata": {
    "tags": []
   },
   "outputs": [],
   "source": [
    "uniprot_annotated.rename(columns={'Organism (ID)': 'organism_taxid', 'Organism': 'organism_name'}, inplace=True)"
   ]
  },
  {
   "cell_type": "code",
   "execution_count": 343,
   "id": "3b7d1460-8e11-4fd5-8122-754599f517af",
   "metadata": {
    "tags": []
   },
   "outputs": [
    {
     "data": {
      "text/plain": [
       "Index(['record_id', 'record_description', 'new_id', 'uniprot_id', 'Entry',\n",
       "       'Entry Name', 'Gene Names', 'Protein names', 'Protein families',\n",
       "       'organism_name', 'organism_taxid', 'Fragment', 'Active site',\n",
       "       'Catalytic activity', 'EC number', 'Function [CC]', 'Rhea ID', 'Site',\n",
       "       'bfd_source_database'],\n",
       "      dtype='object')"
      ]
     },
     "execution_count": 343,
     "metadata": {},
     "output_type": "execute_result"
    }
   ],
   "source": [
    "uniprot_annotated.columns"
   ]
  },
  {
   "cell_type": "code",
   "execution_count": 345,
   "id": "ab242949-d168-411e-8136-7888be24f9b9",
   "metadata": {
    "tags": []
   },
   "outputs": [],
   "source": [
    "uniprot_annotated = uniprot_annotated[['record_id', 'record_description', 'new_id', 'uniprot_id', 'bfd_source_database', 'Entry',\n",
    "       'Entry Name', 'Gene Names', 'Protein names', 'Protein families',\n",
    "       'organism_name', 'organism_taxid', 'Fragment', 'Active site',\n",
    "       'Catalytic activity', 'EC number', 'Function [CC]', 'Rhea ID', 'Site']]"
   ]
  },
  {
   "cell_type": "markdown",
   "id": "6e7b7281-c964-4870-8fce-fc6709b77027",
   "metadata": {},
   "source": [
    "### UniParc"
   ]
  },
  {
   "cell_type": "code",
   "execution_count": 26,
   "id": "0db0e053-25e1-4498-90b3-1a40f87e1b36",
   "metadata": {
    "tags": []
   },
   "outputs": [],
   "source": [
    "import requests"
   ]
  },
  {
   "cell_type": "code",
   "execution_count": 27,
   "id": "0c057786-eb2e-47b9-b017-b428a2f4853f",
   "metadata": {
    "tags": []
   },
   "outputs": [],
   "source": [
    "from io import StringIO"
   ]
  },
  {
   "cell_type": "code",
   "execution_count": 309,
   "id": "49c69774-b93a-49e4-ae72-c34947ebf130",
   "metadata": {
    "tags": []
   },
   "outputs": [],
   "source": [
    "uniparc = mapping[mapping['record_id'].apply(lambda x: True if x[:3] == 'UPI'  else False)]"
   ]
  },
  {
   "cell_type": "code",
   "execution_count": 258,
   "id": "1e74d59e-6006-48ce-bdd3-063bd4810e59",
   "metadata": {
    "tags": []
   },
   "outputs": [],
   "source": [
    "upis = uniparc['record_id'].value_counts().index.tolist()"
   ]
  },
  {
   "cell_type": "code",
   "execution_count": 153,
   "id": "8b218bdb-5827-422d-80ad-c0a57e2dc833",
   "metadata": {
    "tags": []
   },
   "outputs": [],
   "source": [
    "# uniprot uniparc api url\n",
    "base_url='https://rest.uniprot.org/uniparc/search?fields=accession,organism,database&format=tsv&query=%22'"
   ]
  },
  {
   "cell_type": "code",
   "execution_count": 260,
   "id": "363bac87-1457-4e2f-b110-fa4e9417e2ad",
   "metadata": {
    "tags": []
   },
   "outputs": [],
   "source": [
    "upis = {upi.split('_')[0] for upi in upis}"
   ]
  },
  {
   "cell_type": "code",
   "execution_count": 263,
   "id": "977afba8-458a-4f65-abbd-b861e8776cbd",
   "metadata": {
    "tags": []
   },
   "outputs": [],
   "source": [
    "upis = list(upis)"
   ]
  },
  {
   "cell_type": "code",
   "execution_count": 264,
   "id": "33ab8146-640b-460c-b4d3-e7a460774fee",
   "metadata": {
    "tags": []
   },
   "outputs": [
    {
     "data": {
      "text/plain": [
       "'UPI00067FF7C3'"
      ]
     },
     "execution_count": 264,
     "metadata": {},
     "output_type": "execute_result"
    }
   ],
   "source": [
    "upis[0]"
   ]
  },
  {
   "cell_type": "code",
   "execution_count": 267,
   "id": "9296c88e-19d0-4d0c-b06f-735d84f7d8d9",
   "metadata": {
    "tags": []
   },
   "outputs": [],
   "source": [
    "url = base_url+upis[0]+'%22'"
   ]
  },
  {
   "cell_type": "code",
   "execution_count": 268,
   "id": "758a5afb-fe84-4ef0-8251-dbf7905bf32d",
   "metadata": {
    "tags": []
   },
   "outputs": [],
   "source": [
    "result = requests.get(url)"
   ]
  },
  {
   "cell_type": "code",
   "execution_count": 270,
   "id": "578e1382-7892-4803-b6a6-7622c4304996",
   "metadata": {
    "tags": []
   },
   "outputs": [],
   "source": [
    "data = result.text"
   ]
  },
  {
   "cell_type": "code",
   "execution_count": 275,
   "id": "645f03f3-d5c8-46d8-b02a-2bac7e19791d",
   "metadata": {
    "tags": []
   },
   "outputs": [
    {
     "data": {
      "text/plain": [
       "'A0A0L6CGZ9\\tLuteipulveratus halotolerans; Luteipulveratus halotolerans; Luteipulveratus halotolerans; Luteipulveratus halotolerans; Luteipulveratus halotolerans; Luteipulveratus halotolerans\\tUniProtKB/TrEMBL;RefSeq;EMBLWGS;PATRIC;EnsemblBacteria;EnsemblBacteria\\tUPI00067FF7C3\\n'"
      ]
     },
     "execution_count": 275,
     "metadata": {},
     "output_type": "execute_result"
    }
   ],
   "source": [
    "data.split('\\n')[1] + f'\\t{upis[0]}\\n'"
   ]
  },
  {
   "cell_type": "code",
   "execution_count": 276,
   "id": "3ce9e2d8-1832-459d-9bd3-540d06d473e3",
   "metadata": {
    "tags": []
   },
   "outputs": [],
   "source": [
    "data_l = []\n",
    "for i, upi in enumerate(upis):\n",
    "    url = f\"{base_url}{upi}%22\"\n",
    "    result = requests.get(url)\n",
    "    if result.ok:\n",
    "        data = result.text\n",
    "        data = data.split('\\n')[1] + f'\\t{upi}\\n'\n",
    "        data_l.append(data)\n",
    "    else:\n",
    "        print('Something went wrong ', result.status_code)\n",
    "        exit(1)\n",
    "        print(i, upi)"
   ]
  },
  {
   "cell_type": "code",
   "execution_count": 283,
   "id": "344dbdd6-b1f6-4fda-a87f-91f448fffdc8",
   "metadata": {
    "tags": []
   },
   "outputs": [],
   "source": [
    "pd.read_csv(StringIO(\"\".join(data_l)), sep='\\t', header=None).to_csv('uniparc_decsriptions.csv')"
   ]
  },
  {
   "cell_type": "code",
   "execution_count": 307,
   "id": "dd728d00-e8c4-419b-b215-72aacb1ecd95",
   "metadata": {
    "tags": []
   },
   "outputs": [],
   "source": [
    "uniparc_descriptions = pd.read_csv('uniparc_decsriptions.csv', index_col=0)"
   ]
  },
  {
   "cell_type": "code",
   "execution_count": 326,
   "id": "f8589b72-3ae7-4e7f-a2c9-df2cbb4e1e58",
   "metadata": {
    "tags": []
   },
   "outputs": [],
   "source": [
    "uniparc_descriptions.columns=['uniprot_id', 'organisms', 'source_dbs', 'upi']"
   ]
  },
  {
   "cell_type": "code",
   "execution_count": 321,
   "id": "a97909a9-8984-4b09-9b6b-ba1c984e557d",
   "metadata": {
    "tags": []
   },
   "outputs": [],
   "source": [
    "def make_org_sets(x):\n",
    "    if type(x) == float:\n",
    "        return ''\n",
    "    else:\n",
    "        return \"; \".join({org.strip() for org in x.split(';')})"
   ]
  },
  {
   "cell_type": "code",
   "execution_count": 325,
   "id": "31e5e05e-700a-43e1-8e49-bcf279dd8b51",
   "metadata": {
    "tags": []
   },
   "outputs": [],
   "source": [
    "def make_db_sets(x):\n",
    "    return \"; \".join({db.strip() for db in x.split(';')})"
   ]
  },
  {
   "cell_type": "code",
   "execution_count": 323,
   "id": "bcb4c6dc-64cd-4c32-a08f-b83442cf3eff",
   "metadata": {
    "tags": []
   },
   "outputs": [],
   "source": [
    "uniparc_descriptions['organisms'] = uniparc_descriptions['organisms'].apply(lambda x: make_org_sets(x))"
   ]
  },
  {
   "cell_type": "code",
   "execution_count": 329,
   "id": "14062ebb-056c-4159-a357-dfd0c10821d9",
   "metadata": {
    "tags": []
   },
   "outputs": [],
   "source": [
    "uniparc_descriptions['source_dbs'] = uniparc_descriptions['source_dbs'].apply(lambda x: make_db_sets(x))"
   ]
  },
  {
   "cell_type": "code",
   "execution_count": 330,
   "id": "18a1df09-9fc7-4bb4-afa9-d5a6709bd09c",
   "metadata": {
    "tags": []
   },
   "outputs": [
    {
     "data": {
      "text/html": [
       "<div>\n",
       "<style scoped>\n",
       "    .dataframe tbody tr th:only-of-type {\n",
       "        vertical-align: middle;\n",
       "    }\n",
       "\n",
       "    .dataframe tbody tr th {\n",
       "        vertical-align: top;\n",
       "    }\n",
       "\n",
       "    .dataframe thead th {\n",
       "        text-align: right;\n",
       "    }\n",
       "</style>\n",
       "<table border=\"1\" class=\"dataframe\">\n",
       "  <thead>\n",
       "    <tr style=\"text-align: right;\">\n",
       "      <th></th>\n",
       "      <th>uniprot_id</th>\n",
       "      <th>organisms</th>\n",
       "      <th>source_dbs</th>\n",
       "      <th>upi</th>\n",
       "    </tr>\n",
       "  </thead>\n",
       "  <tbody>\n",
       "    <tr>\n",
       "      <th>0</th>\n",
       "      <td>A0A0L6CGZ9</td>\n",
       "      <td>Luteipulveratus halotolerans</td>\n",
       "      <td>UniProtKB/TrEMBL; PATRIC; EMBLWGS; RefSeq; Ens...</td>\n",
       "      <td>UPI00067FF7C3</td>\n",
       "    </tr>\n",
       "    <tr>\n",
       "      <th>1</th>\n",
       "      <td>NaN</td>\n",
       "      <td>Streptococcus pneumoniae</td>\n",
       "      <td>EMBLWGS; RefSeq; EnsemblBacteria; PATRIC</td>\n",
       "      <td>UPI0005E0AA9E</td>\n",
       "    </tr>\n",
       "    <tr>\n",
       "      <th>2</th>\n",
       "      <td>A0A1C5C512</td>\n",
       "      <td>Streptomyces sp. Ncost-T10-10d</td>\n",
       "      <td>UniProtKB/TrEMBL; PATRIC; EMBLWGS; RefSeq; Ens...</td>\n",
       "      <td>UPI00081F5302</td>\n",
       "    </tr>\n",
       "    <tr>\n",
       "      <th>3</th>\n",
       "      <td>A0A196PKQ2; A0A2E2P636.1 (obsolete)</td>\n",
       "      <td>Sulfitobacter sp. EhC04; Pseudooceanicola sp.</td>\n",
       "      <td>UniProtKB/TrEMBL; PATRIC; EMBLWGS; RefSeq; Ens...</td>\n",
       "      <td>UPI0007F4599C</td>\n",
       "    </tr>\n",
       "    <tr>\n",
       "      <th>4</th>\n",
       "      <td>A0A1C6R9H4</td>\n",
       "      <td>Micromonospora nigra</td>\n",
       "      <td>UniProtKB/TrEMBL; PATRIC; EMBLWGS; RefSeq; Ens...</td>\n",
       "      <td>UPI00082810AB</td>\n",
       "    </tr>\n",
       "    <tr>\n",
       "      <th>...</th>\n",
       "      <td>...</td>\n",
       "      <td>...</td>\n",
       "      <td>...</td>\n",
       "      <td>...</td>\n",
       "    </tr>\n",
       "    <tr>\n",
       "      <th>3144</th>\n",
       "      <td>NaN</td>\n",
       "      <td>Oceanicaulis alexandrii DSM 11625; Oceanicauli...</td>\n",
       "      <td>RefSeq; PATRIC</td>\n",
       "      <td>UPI0003B2FE50</td>\n",
       "    </tr>\n",
       "    <tr>\n",
       "      <th>3145</th>\n",
       "      <td>NaN</td>\n",
       "      <td>Psychrobacter sp. Y620_2_2; Dyadobacter tibete...</td>\n",
       "      <td>EMBLWGS; RefSeq; PATRIC</td>\n",
       "      <td>UPI00046E9ACD</td>\n",
       "    </tr>\n",
       "    <tr>\n",
       "      <th>3146</th>\n",
       "      <td>A0A0H0LGN4.1 (obsolete)</td>\n",
       "      <td>Escherichia coli</td>\n",
       "      <td>EMBLWGS; RefSeq; UniProtKB/TrEMBL; EnsemblBact...</td>\n",
       "      <td>UPI00063D4F64</td>\n",
       "    </tr>\n",
       "    <tr>\n",
       "      <th>3147</th>\n",
       "      <td>NaN</td>\n",
       "      <td>Paraburkholderia hospita BS001</td>\n",
       "      <td>SEED; PATRIC</td>\n",
       "      <td>UPI0002FCCA2A</td>\n",
       "    </tr>\n",
       "    <tr>\n",
       "      <th>3148</th>\n",
       "      <td>NaN</td>\n",
       "      <td>Gemmobacter nectariphilus; Gemmobacter nectari...</td>\n",
       "      <td>RefSeq; PATRIC</td>\n",
       "      <td>UPI0003F97E43</td>\n",
       "    </tr>\n",
       "  </tbody>\n",
       "</table>\n",
       "<p>3149 rows × 4 columns</p>\n",
       "</div>"
      ],
      "text/plain": [
       "                               uniprot_id  \\\n",
       "0                              A0A0L6CGZ9   \n",
       "1                                     NaN   \n",
       "2                              A0A1C5C512   \n",
       "3     A0A196PKQ2; A0A2E2P636.1 (obsolete)   \n",
       "4                              A0A1C6R9H4   \n",
       "...                                   ...   \n",
       "3144                                  NaN   \n",
       "3145                                  NaN   \n",
       "3146              A0A0H0LGN4.1 (obsolete)   \n",
       "3147                                  NaN   \n",
       "3148                                  NaN   \n",
       "\n",
       "                                              organisms  \\\n",
       "0                          Luteipulveratus halotolerans   \n",
       "1                              Streptococcus pneumoniae   \n",
       "2                        Streptomyces sp. Ncost-T10-10d   \n",
       "3         Sulfitobacter sp. EhC04; Pseudooceanicola sp.   \n",
       "4                                  Micromonospora nigra   \n",
       "...                                                 ...   \n",
       "3144  Oceanicaulis alexandrii DSM 11625; Oceanicauli...   \n",
       "3145  Psychrobacter sp. Y620_2_2; Dyadobacter tibete...   \n",
       "3146                                   Escherichia coli   \n",
       "3147                     Paraburkholderia hospita BS001   \n",
       "3148  Gemmobacter nectariphilus; Gemmobacter nectari...   \n",
       "\n",
       "                                             source_dbs            upi  \n",
       "0     UniProtKB/TrEMBL; PATRIC; EMBLWGS; RefSeq; Ens...  UPI00067FF7C3  \n",
       "1              EMBLWGS; RefSeq; EnsemblBacteria; PATRIC  UPI0005E0AA9E  \n",
       "2     UniProtKB/TrEMBL; PATRIC; EMBLWGS; RefSeq; Ens...  UPI00081F5302  \n",
       "3     UniProtKB/TrEMBL; PATRIC; EMBLWGS; RefSeq; Ens...  UPI0007F4599C  \n",
       "4     UniProtKB/TrEMBL; PATRIC; EMBLWGS; RefSeq; Ens...  UPI00082810AB  \n",
       "...                                                 ...            ...  \n",
       "3144                                     RefSeq; PATRIC  UPI0003B2FE50  \n",
       "3145                            EMBLWGS; RefSeq; PATRIC  UPI00046E9ACD  \n",
       "3146  EMBLWGS; RefSeq; UniProtKB/TrEMBL; EnsemblBact...  UPI00063D4F64  \n",
       "3147                                       SEED; PATRIC  UPI0002FCCA2A  \n",
       "3148                                     RefSeq; PATRIC  UPI0003F97E43  \n",
       "\n",
       "[3149 rows x 4 columns]"
      ]
     },
     "execution_count": 330,
     "metadata": {},
     "output_type": "execute_result"
    }
   ],
   "source": [
    "uniparc_descriptions"
   ]
  },
  {
   "cell_type": "code",
   "execution_count": 310,
   "id": "acc25b12-609c-4573-905b-bcc797e55671",
   "metadata": {
    "tags": []
   },
   "outputs": [
    {
     "data": {
      "text/html": [
       "<div>\n",
       "<style scoped>\n",
       "    .dataframe tbody tr th:only-of-type {\n",
       "        vertical-align: middle;\n",
       "    }\n",
       "\n",
       "    .dataframe tbody tr th {\n",
       "        vertical-align: top;\n",
       "    }\n",
       "\n",
       "    .dataframe thead th {\n",
       "        text-align: right;\n",
       "    }\n",
       "</style>\n",
       "<table border=\"1\" class=\"dataframe\">\n",
       "  <thead>\n",
       "    <tr style=\"text-align: right;\">\n",
       "      <th></th>\n",
       "      <th>record_id</th>\n",
       "      <th>record_description</th>\n",
       "      <th>new_id</th>\n",
       "    </tr>\n",
       "  </thead>\n",
       "  <tbody>\n",
       "    <tr>\n",
       "      <th>19</th>\n",
       "      <td>UPI0002D6523C</td>\n",
       "      <td>UPI0002D6523C status=active</td>\n",
       "      <td>bfd_000019</td>\n",
       "    </tr>\n",
       "    <tr>\n",
       "      <th>24</th>\n",
       "      <td>UPI000141F7B8</td>\n",
       "      <td>UPI000141F7B8 status=active</td>\n",
       "      <td>bfd_000024</td>\n",
       "    </tr>\n",
       "    <tr>\n",
       "      <th>38</th>\n",
       "      <td>UPI0008353575</td>\n",
       "      <td>UPI0008353575 status=active</td>\n",
       "      <td>bfd_000038</td>\n",
       "    </tr>\n",
       "    <tr>\n",
       "      <th>42</th>\n",
       "      <td>UPI0007A429FE</td>\n",
       "      <td>UPI0007A429FE status=active</td>\n",
       "      <td>bfd_000042</td>\n",
       "    </tr>\n",
       "    <tr>\n",
       "      <th>47</th>\n",
       "      <td>UPI00019154D8</td>\n",
       "      <td>UPI00019154D8 status=active</td>\n",
       "      <td>bfd_000047</td>\n",
       "    </tr>\n",
       "    <tr>\n",
       "      <th>...</th>\n",
       "      <td>...</td>\n",
       "      <td>...</td>\n",
       "      <td>...</td>\n",
       "    </tr>\n",
       "    <tr>\n",
       "      <th>257686</th>\n",
       "      <td>UPI0003E3F6D2</td>\n",
       "      <td>UPI0003E3F6D2 status=active</td>\n",
       "      <td>bfd_257686</td>\n",
       "    </tr>\n",
       "    <tr>\n",
       "      <th>268753</th>\n",
       "      <td>UPI00088A92CF</td>\n",
       "      <td>UPI00088A92CF status=active</td>\n",
       "      <td>bfd_268753</td>\n",
       "    </tr>\n",
       "    <tr>\n",
       "      <th>270377</th>\n",
       "      <td>UPI000284CFB5</td>\n",
       "      <td>UPI000284CFB5 status=active</td>\n",
       "      <td>bfd_270377</td>\n",
       "    </tr>\n",
       "    <tr>\n",
       "      <th>270378</th>\n",
       "      <td>UPI0001900B4E</td>\n",
       "      <td>UPI0001900B4E status=active</td>\n",
       "      <td>bfd_270378</td>\n",
       "    </tr>\n",
       "    <tr>\n",
       "      <th>273009</th>\n",
       "      <td>UPI000324BF60</td>\n",
       "      <td>UPI000324BF60 status=active</td>\n",
       "      <td>bfd_273009</td>\n",
       "    </tr>\n",
       "  </tbody>\n",
       "</table>\n",
       "<p>3153 rows × 3 columns</p>\n",
       "</div>"
      ],
      "text/plain": [
       "            record_id           record_description      new_id\n",
       "19      UPI0002D6523C  UPI0002D6523C status=active  bfd_000019\n",
       "24      UPI000141F7B8  UPI000141F7B8 status=active  bfd_000024\n",
       "38      UPI0008353575  UPI0008353575 status=active  bfd_000038\n",
       "42      UPI0007A429FE  UPI0007A429FE status=active  bfd_000042\n",
       "47      UPI00019154D8  UPI00019154D8 status=active  bfd_000047\n",
       "...               ...                          ...         ...\n",
       "257686  UPI0003E3F6D2  UPI0003E3F6D2 status=active  bfd_257686\n",
       "268753  UPI00088A92CF  UPI00088A92CF status=active  bfd_268753\n",
       "270377  UPI000284CFB5  UPI000284CFB5 status=active  bfd_270377\n",
       "270378  UPI0001900B4E  UPI0001900B4E status=active  bfd_270378\n",
       "273009  UPI000324BF60  UPI000324BF60 status=active  bfd_273009\n",
       "\n",
       "[3153 rows x 3 columns]"
      ]
     },
     "execution_count": 310,
     "metadata": {},
     "output_type": "execute_result"
    }
   ],
   "source": [
    "uniparc"
   ]
  },
  {
   "cell_type": "code",
   "execution_count": 346,
   "id": "d4d411ba-c6bf-456c-b719-e7cc76086e83",
   "metadata": {
    "tags": []
   },
   "outputs": [],
   "source": [
    "uniparc_annotated = uniparc.merge(uniparc_descriptions, how='left', left_on='record_id', right_on='upi')"
   ]
  },
  {
   "cell_type": "code",
   "execution_count": 348,
   "id": "ea6a7dc7-0d68-48c5-89bf-aecb212dca85",
   "metadata": {
    "tags": []
   },
   "outputs": [],
   "source": [
    "uniparc_annotated.rename(columns={'organisms': 'organism_name'}, inplace=True)"
   ]
  },
  {
   "cell_type": "code",
   "execution_count": 350,
   "id": "424b0ef5-8677-4042-8ff4-b0d44e95a097",
   "metadata": {
    "tags": []
   },
   "outputs": [],
   "source": [
    "uniparc_annotated['bfd_source_database'] = uniparc_annotated.shape[0]*['UniParc']"
   ]
  },
  {
   "cell_type": "code",
   "execution_count": 352,
   "id": "5f13ff09-c680-478e-b250-e98bd8107360",
   "metadata": {
    "tags": []
   },
   "outputs": [
    {
     "data": {
      "text/plain": [
       "Index(['record_id', 'record_description', 'new_id', 'uniprot_id',\n",
       "       'organism_name', 'source_dbs', 'upi', 'bfd_source_database'],\n",
       "      dtype='object')"
      ]
     },
     "execution_count": 352,
     "metadata": {},
     "output_type": "execute_result"
    }
   ],
   "source": [
    "uniparc_annotated.columns"
   ]
  },
  {
   "cell_type": "code",
   "execution_count": 353,
   "id": "cd5c551b-7d49-4c33-8222-671fe04da58d",
   "metadata": {
    "tags": []
   },
   "outputs": [],
   "source": [
    "uniparc_annotated = uniparc_annotated[['record_id', 'record_description', 'new_id', 'bfd_source_database', 'uniprot_id',\n",
    "       'organism_name', 'source_dbs', 'upi']]"
   ]
  },
  {
   "cell_type": "markdown",
   "id": "295bd50b-c8bf-4005-8c6f-1e9935aca210",
   "metadata": {},
   "source": [
    "### Ocean microbiome"
   ]
  },
  {
   "cell_type": "markdown",
   "id": "f8c5449c-bd6e-4779-917b-e93eae2f3b72",
   "metadata": {},
   "source": [
    "https://ocean-microbiome.embl.de/companion.html"
   ]
  },
  {
   "cell_type": "code",
   "execution_count": null,
   "id": "686ec3f9-036e-4b5e-8752-e95aba501e32",
   "metadata": {
    "tags": []
   },
   "outputs": [],
   "source": [
    "om=mapping[mapping['record_id'].apply(lambda x: x.startswith('OM-'))]"
   ]
  },
  {
   "cell_type": "code",
   "execution_count": 239,
   "id": "e4623d4d-4af9-4905-9bf5-937a19341924",
   "metadata": {
    "tags": []
   },
   "outputs": [
    {
     "data": {
      "text/plain": [
       "10        OM-RGC.v1.002554229\n",
       "11        OM-RGC.v1.032851980\n",
       "79        OM-RGC.v1.007705471\n",
       "97        OM-RGC.v1.025217868\n",
       "98        OM-RGC.v1.035738855\n",
       "                 ...         \n",
       "254977    OM-RGC.v1.034217683\n",
       "254986    OM-RGC.v1.026089578\n",
       "255011    OM-RGC.v1.024415623\n",
       "256894    OM-RGC.v1.001516803\n",
       "257683    OM-RGC.v1.008324423\n",
       "Name: record_id, Length: 999, dtype: object"
      ]
     },
     "execution_count": 239,
     "metadata": {},
     "output_type": "execute_result"
    }
   ],
   "source": [
    "om['record_id']"
   ]
  },
  {
   "cell_type": "code",
   "execution_count": 241,
   "id": "0b9b4ce3-86a0-4a7a-bd3e-b994c61d31a7",
   "metadata": {
    "tags": []
   },
   "outputs": [],
   "source": [
    "om.to_csv('om_to_annotate.csv')"
   ]
  },
  {
   "cell_type": "markdown",
   "id": "0584c3f8-f3a2-4abe-a243-809a08cec5ad",
   "metadata": {},
   "source": [
    "The annotations were merged with their descriptions from here ftp://ftp.sra.ebi.ac.uk/vol1/ERA412/ERA412970/tab/OM-RGC_seq.release.tsv.gz"
   ]
  },
  {
   "cell_type": "code",
   "execution_count": 242,
   "id": "d23f2818-f02b-4dfc-9e56-8dc20c34b733",
   "metadata": {
    "tags": []
   },
   "outputs": [],
   "source": [
    "om = pd.read_csv('om_annotated.csv')"
   ]
  },
  {
   "cell_type": "code",
   "execution_count": 244,
   "id": "be6ea61a-fd33-4d55-be4c-9cf6d948d4e5",
   "metadata": {
    "tags": []
   },
   "outputs": [
    {
     "data": {
      "text/plain": [
       "Index(['Unnamed: 0.1', 'Unnamed: 0', 'record_id', 'record_description',\n",
       "       'new_id', 'OM-RGC_ID', 'GeneID', 'eggNOG_OG', 'KEGG_ko', 'KEGG_module',\n",
       "       'kingdom', 'phylum', 'class', 'order', 'family', 'genus', 'species',\n",
       "       'sequence'],\n",
       "      dtype='object')"
      ]
     },
     "execution_count": 244,
     "metadata": {},
     "output_type": "execute_result"
    }
   ],
   "source": [
    "om.columns"
   ]
  },
  {
   "cell_type": "code",
   "execution_count": 248,
   "id": "4fe647e7-e083-4e2c-8658-bfdfebc67196",
   "metadata": {
    "tags": []
   },
   "outputs": [],
   "source": [
    "om = om.drop(['Unnamed: 0.1', 'Unnamed: 0','sequence'], axis=1)"
   ]
  },
  {
   "cell_type": "code",
   "execution_count": 253,
   "id": "d2eb58b0-6712-43c1-9fb4-c945d6ca6dfe",
   "metadata": {
    "tags": []
   },
   "outputs": [
    {
     "data": {
      "text/plain": [
       "phylum\n",
       "undef             447\n",
       "Proteobacteria    363\n",
       "Bacteroidetes      66\n",
       "Cyanobacteria      35\n",
       "Actinobacteria     16\n",
       "Name: count, dtype: int64"
      ]
     },
     "execution_count": 253,
     "metadata": {},
     "output_type": "execute_result"
    }
   ],
   "source": [
    "om['phylum'].value_counts().head()"
   ]
  },
  {
   "cell_type": "code",
   "execution_count": 250,
   "id": "1e8b9ba0-03d6-4764-b113-808a25f01eb1",
   "metadata": {
    "tags": []
   },
   "outputs": [
    {
     "data": {
      "text/plain": [
       "kingdom\n",
       "Bacteria     623\n",
       "undef        278\n",
       "Viruses       54\n",
       "Eukaryota     27\n",
       "Archaea       13\n",
       "Name: count, dtype: int64"
      ]
     },
     "execution_count": 250,
     "metadata": {},
     "output_type": "execute_result"
    }
   ],
   "source": [
    "om['kingdom'].value_counts()"
   ]
  },
  {
   "cell_type": "code",
   "execution_count": 277,
   "id": "039f23cf-be47-4db3-884a-800b0064ef4d",
   "metadata": {
    "tags": []
   },
   "outputs": [],
   "source": [
    "def add_tara_cols(x):\n",
    "    if 'TARA' in x:\n",
    "        values = x.split()[1].split('_')\n",
    "        station_number, environmental_feature, size_fraction = [values[1], values[2],values[3]]\n",
    "    else:\n",
    "        station_number, environmental_feature, size_fraction = [np.nan, np.nan, np.nan]\n",
    "    return [station_number, environmental_feature, size_fraction]"
   ]
  },
  {
   "cell_type": "code",
   "execution_count": 283,
   "id": "0785e94e-9d77-423a-8779-6d66798ae658",
   "metadata": {
    "tags": []
   },
   "outputs": [],
   "source": [
    "tara_cols = om['record_description'].apply(lambda x: pd.Series(add_tara_cols(x), index=['station_number', 'environmental_feature', 'size_fraction']))"
   ]
  },
  {
   "cell_type": "code",
   "execution_count": 284,
   "id": "fc1a6f9c-2cb6-4ad1-81a3-de0b3e4a31ed",
   "metadata": {
    "tags": []
   },
   "outputs": [],
   "source": [
    "om_2 = pd.concat([om, tara_cols], axis=1)"
   ]
  },
  {
   "cell_type": "code",
   "execution_count": 286,
   "id": "1e835a50-cc8a-419e-ae74-84080fe9b219",
   "metadata": {
    "tags": []
   },
   "outputs": [
    {
     "data": {
      "text/html": [
       "<div>\n",
       "<style scoped>\n",
       "    .dataframe tbody tr th:only-of-type {\n",
       "        vertical-align: middle;\n",
       "    }\n",
       "\n",
       "    .dataframe tbody tr th {\n",
       "        vertical-align: top;\n",
       "    }\n",
       "\n",
       "    .dataframe thead th {\n",
       "        text-align: right;\n",
       "    }\n",
       "</style>\n",
       "<table border=\"1\" class=\"dataframe\">\n",
       "  <thead>\n",
       "    <tr style=\"text-align: right;\">\n",
       "      <th></th>\n",
       "      <th>record_id</th>\n",
       "      <th>record_description</th>\n",
       "      <th>new_id</th>\n",
       "      <th>OM-RGC_ID</th>\n",
       "      <th>GeneID</th>\n",
       "      <th>eggNOG_OG</th>\n",
       "      <th>KEGG_ko</th>\n",
       "      <th>KEGG_module</th>\n",
       "      <th>kingdom</th>\n",
       "      <th>phylum</th>\n",
       "      <th>class</th>\n",
       "      <th>order</th>\n",
       "      <th>family</th>\n",
       "      <th>genus</th>\n",
       "      <th>species</th>\n",
       "      <th>station_number</th>\n",
       "      <th>environmental_feature</th>\n",
       "      <th>size_fraction</th>\n",
       "    </tr>\n",
       "  </thead>\n",
       "  <tbody>\n",
       "    <tr>\n",
       "      <th>0</th>\n",
       "      <td>OM-RGC.v1.002554229</td>\n",
       "      <td>OM-RGC.v1.002554229 TARA_025_DCM_&lt;-0.22_scaffo...</td>\n",
       "      <td>bfd_000010</td>\n",
       "      <td>OM-RGC.v1.002554229</td>\n",
       "      <td>TARA_025_DCM_&lt;-0.22_scaffold42939_1_gene33257</td>\n",
       "      <td>NOG12793</td>\n",
       "      <td>NaN</td>\n",
       "      <td>NaN</td>\n",
       "      <td>Viruses</td>\n",
       "      <td>undef</td>\n",
       "      <td>undef</td>\n",
       "      <td>undef</td>\n",
       "      <td>undef</td>\n",
       "      <td>undef</td>\n",
       "      <td>undef</td>\n",
       "      <td>025</td>\n",
       "      <td>DCM</td>\n",
       "      <td>&lt;-0.22</td>\n",
       "    </tr>\n",
       "    <tr>\n",
       "      <th>1</th>\n",
       "      <td>OM-RGC.v1.032851980</td>\n",
       "      <td>OM-RGC.v1.032851980 TARA_070_SRF_&lt;-0.22_C45806...</td>\n",
       "      <td>bfd_000011</td>\n",
       "      <td>OM-RGC.v1.032851980</td>\n",
       "      <td>TARA_070_SRF_&lt;-0.22_C4580680_1_gene137228</td>\n",
       "      <td>NaN</td>\n",
       "      <td>NaN</td>\n",
       "      <td>NaN</td>\n",
       "      <td>undef</td>\n",
       "      <td>undef</td>\n",
       "      <td>undef</td>\n",
       "      <td>undef</td>\n",
       "      <td>undef</td>\n",
       "      <td>undef</td>\n",
       "      <td>undef</td>\n",
       "      <td>070</td>\n",
       "      <td>SRF</td>\n",
       "      <td>&lt;-0.22</td>\n",
       "    </tr>\n",
       "    <tr>\n",
       "      <th>2</th>\n",
       "      <td>OM-RGC.v1.007705471</td>\n",
       "      <td>OM-RGC.v1.007705471 TARA_068_DCM_0.22-0.45_C15...</td>\n",
       "      <td>bfd_000079</td>\n",
       "      <td>OM-RGC.v1.007705471</td>\n",
       "      <td>TARA_068_DCM_0.22-0.45_C15367870_1_gene438469</td>\n",
       "      <td>COG0465</td>\n",
       "      <td>K03798</td>\n",
       "      <td>NaN</td>\n",
       "      <td>Bacteria</td>\n",
       "      <td>Proteobacteria</td>\n",
       "      <td>Gammaproteobacteria</td>\n",
       "      <td>undef</td>\n",
       "      <td>undef</td>\n",
       "      <td>undef</td>\n",
       "      <td>undef</td>\n",
       "      <td>068</td>\n",
       "      <td>DCM</td>\n",
       "      <td>0.22-0.45</td>\n",
       "    </tr>\n",
       "    <tr>\n",
       "      <th>3</th>\n",
       "      <td>OM-RGC.v1.025217868</td>\n",
       "      <td>OM-RGC.v1.025217868 TARA_056_SRF_0.22-3_C24026...</td>\n",
       "      <td>bfd_000097</td>\n",
       "      <td>OM-RGC.v1.025217868</td>\n",
       "      <td>TARA_056_SRF_0.22-3_C24026689_1_gene268328</td>\n",
       "      <td>NaN</td>\n",
       "      <td>NaN</td>\n",
       "      <td>NaN</td>\n",
       "      <td>undef</td>\n",
       "      <td>undef</td>\n",
       "      <td>undef</td>\n",
       "      <td>undef</td>\n",
       "      <td>undef</td>\n",
       "      <td>undef</td>\n",
       "      <td>undef</td>\n",
       "      <td>056</td>\n",
       "      <td>SRF</td>\n",
       "      <td>0.22-3</td>\n",
       "    </tr>\n",
       "    <tr>\n",
       "      <th>4</th>\n",
       "      <td>OM-RGC.v1.035738855</td>\n",
       "      <td>OM-RGC.v1.035738855 TARA_122_DCM_0.45-0.8_C191...</td>\n",
       "      <td>bfd_000098</td>\n",
       "      <td>OM-RGC.v1.035738855</td>\n",
       "      <td>TARA_122_DCM_0.45-0.8_C19125906_1_gene604246</td>\n",
       "      <td>NaN</td>\n",
       "      <td>NaN</td>\n",
       "      <td>NaN</td>\n",
       "      <td>Bacteria</td>\n",
       "      <td>Cyanobacteria</td>\n",
       "      <td>undef</td>\n",
       "      <td>Prochlorales</td>\n",
       "      <td>Prochlorococcaceae</td>\n",
       "      <td>Prochlorococcus</td>\n",
       "      <td>undef</td>\n",
       "      <td>122</td>\n",
       "      <td>DCM</td>\n",
       "      <td>0.45-0.8</td>\n",
       "    </tr>\n",
       "    <tr>\n",
       "      <th>...</th>\n",
       "      <td>...</td>\n",
       "      <td>...</td>\n",
       "      <td>...</td>\n",
       "      <td>...</td>\n",
       "      <td>...</td>\n",
       "      <td>...</td>\n",
       "      <td>...</td>\n",
       "      <td>...</td>\n",
       "      <td>...</td>\n",
       "      <td>...</td>\n",
       "      <td>...</td>\n",
       "      <td>...</td>\n",
       "      <td>...</td>\n",
       "      <td>...</td>\n",
       "      <td>...</td>\n",
       "      <td>...</td>\n",
       "      <td>...</td>\n",
       "      <td>...</td>\n",
       "    </tr>\n",
       "    <tr>\n",
       "      <th>994</th>\n",
       "      <td>OM-RGC.v1.034217683</td>\n",
       "      <td>OM-RGC.v1.034217683 TARA_137_SRF_0.22-3_scaffo...</td>\n",
       "      <td>bfd_254977</td>\n",
       "      <td>OM-RGC.v1.034217683</td>\n",
       "      <td>TARA_137_SRF_0.22-3_scaffold14735_1_gene11114</td>\n",
       "      <td>NaN</td>\n",
       "      <td>NaN</td>\n",
       "      <td>NaN</td>\n",
       "      <td>Bacteria</td>\n",
       "      <td>Cyanobacteria</td>\n",
       "      <td>undef</td>\n",
       "      <td>Chroococcales</td>\n",
       "      <td>undef</td>\n",
       "      <td>Synechococcus</td>\n",
       "      <td>undef</td>\n",
       "      <td>137</td>\n",
       "      <td>SRF</td>\n",
       "      <td>0.22-3</td>\n",
       "    </tr>\n",
       "    <tr>\n",
       "      <th>995</th>\n",
       "      <td>OM-RGC.v1.026089578</td>\n",
       "      <td>OM-RGC.v1.026089578 TARA_072_DCM_0.22-3_C15490...</td>\n",
       "      <td>bfd_254986</td>\n",
       "      <td>OM-RGC.v1.026089578</td>\n",
       "      <td>TARA_072_DCM_0.22-3_C15490688_1_gene587425</td>\n",
       "      <td>NaN</td>\n",
       "      <td>NaN</td>\n",
       "      <td>NaN</td>\n",
       "      <td>Viruses</td>\n",
       "      <td>undef</td>\n",
       "      <td>undef</td>\n",
       "      <td>Caudovirales</td>\n",
       "      <td>Myoviridae</td>\n",
       "      <td>undef</td>\n",
       "      <td>undef</td>\n",
       "      <td>072</td>\n",
       "      <td>DCM</td>\n",
       "      <td>0.22-3</td>\n",
       "    </tr>\n",
       "    <tr>\n",
       "      <th>996</th>\n",
       "      <td>OM-RGC.v1.024415623</td>\n",
       "      <td>OM-RGC.v1.024415623 TARA_102_MES_0.22-3_scaffo...</td>\n",
       "      <td>bfd_255011</td>\n",
       "      <td>OM-RGC.v1.024415623</td>\n",
       "      <td>TARA_102_MES_0.22-3_scaffold248061_1_gene210371</td>\n",
       "      <td>COG4642</td>\n",
       "      <td>NaN</td>\n",
       "      <td>NaN</td>\n",
       "      <td>Bacteria</td>\n",
       "      <td>Proteobacteria</td>\n",
       "      <td>Deltaproteobacteria</td>\n",
       "      <td>undef</td>\n",
       "      <td>undef</td>\n",
       "      <td>undef</td>\n",
       "      <td>undef</td>\n",
       "      <td>102</td>\n",
       "      <td>MES</td>\n",
       "      <td>0.22-3</td>\n",
       "    </tr>\n",
       "    <tr>\n",
       "      <th>997</th>\n",
       "      <td>OM-RGC.v1.001516803</td>\n",
       "      <td>OM-RGC.v1.001516803 TARA_009_DCM_0.22-1.6_C206...</td>\n",
       "      <td>bfd_256894</td>\n",
       "      <td>OM-RGC.v1.001516803</td>\n",
       "      <td>TARA_009_DCM_0.22-1.6_C20646742_1_gene793327</td>\n",
       "      <td>COG1866</td>\n",
       "      <td>K01610</td>\n",
       "      <td>M00003,M00170</td>\n",
       "      <td>Bacteria</td>\n",
       "      <td>Proteobacteria</td>\n",
       "      <td>Gammaproteobacteria</td>\n",
       "      <td>undef</td>\n",
       "      <td>undef</td>\n",
       "      <td>undef</td>\n",
       "      <td>undef</td>\n",
       "      <td>009</td>\n",
       "      <td>DCM</td>\n",
       "      <td>0.22-1.6</td>\n",
       "    </tr>\n",
       "    <tr>\n",
       "      <th>998</th>\n",
       "      <td>OM-RGC.v1.008324423</td>\n",
       "      <td>OM-RGC.v1.008324423 TARA_125_MIX_0.22-3_scaffo...</td>\n",
       "      <td>bfd_257683</td>\n",
       "      <td>OM-RGC.v1.008324423</td>\n",
       "      <td>TARA_125_MIX_0.22-3_scaffold6652_1_gene8365</td>\n",
       "      <td>COG0178</td>\n",
       "      <td>K03701</td>\n",
       "      <td>NaN</td>\n",
       "      <td>Bacteria</td>\n",
       "      <td>Proteobacteria</td>\n",
       "      <td>Alphaproteobacteria</td>\n",
       "      <td>undef</td>\n",
       "      <td>undef</td>\n",
       "      <td>undef</td>\n",
       "      <td>undef</td>\n",
       "      <td>125</td>\n",
       "      <td>MIX</td>\n",
       "      <td>0.22-3</td>\n",
       "    </tr>\n",
       "  </tbody>\n",
       "</table>\n",
       "<p>999 rows × 18 columns</p>\n",
       "</div>"
      ],
      "text/plain": [
       "               record_id                                 record_description  \\\n",
       "0    OM-RGC.v1.002554229  OM-RGC.v1.002554229 TARA_025_DCM_<-0.22_scaffo...   \n",
       "1    OM-RGC.v1.032851980  OM-RGC.v1.032851980 TARA_070_SRF_<-0.22_C45806...   \n",
       "2    OM-RGC.v1.007705471  OM-RGC.v1.007705471 TARA_068_DCM_0.22-0.45_C15...   \n",
       "3    OM-RGC.v1.025217868  OM-RGC.v1.025217868 TARA_056_SRF_0.22-3_C24026...   \n",
       "4    OM-RGC.v1.035738855  OM-RGC.v1.035738855 TARA_122_DCM_0.45-0.8_C191...   \n",
       "..                   ...                                                ...   \n",
       "994  OM-RGC.v1.034217683  OM-RGC.v1.034217683 TARA_137_SRF_0.22-3_scaffo...   \n",
       "995  OM-RGC.v1.026089578  OM-RGC.v1.026089578 TARA_072_DCM_0.22-3_C15490...   \n",
       "996  OM-RGC.v1.024415623  OM-RGC.v1.024415623 TARA_102_MES_0.22-3_scaffo...   \n",
       "997  OM-RGC.v1.001516803  OM-RGC.v1.001516803 TARA_009_DCM_0.22-1.6_C206...   \n",
       "998  OM-RGC.v1.008324423  OM-RGC.v1.008324423 TARA_125_MIX_0.22-3_scaffo...   \n",
       "\n",
       "         new_id            OM-RGC_ID  \\\n",
       "0    bfd_000010  OM-RGC.v1.002554229   \n",
       "1    bfd_000011  OM-RGC.v1.032851980   \n",
       "2    bfd_000079  OM-RGC.v1.007705471   \n",
       "3    bfd_000097  OM-RGC.v1.025217868   \n",
       "4    bfd_000098  OM-RGC.v1.035738855   \n",
       "..          ...                  ...   \n",
       "994  bfd_254977  OM-RGC.v1.034217683   \n",
       "995  bfd_254986  OM-RGC.v1.026089578   \n",
       "996  bfd_255011  OM-RGC.v1.024415623   \n",
       "997  bfd_256894  OM-RGC.v1.001516803   \n",
       "998  bfd_257683  OM-RGC.v1.008324423   \n",
       "\n",
       "                                              GeneID eggNOG_OG KEGG_ko  \\\n",
       "0      TARA_025_DCM_<-0.22_scaffold42939_1_gene33257  NOG12793     NaN   \n",
       "1          TARA_070_SRF_<-0.22_C4580680_1_gene137228       NaN     NaN   \n",
       "2      TARA_068_DCM_0.22-0.45_C15367870_1_gene438469   COG0465  K03798   \n",
       "3         TARA_056_SRF_0.22-3_C24026689_1_gene268328       NaN     NaN   \n",
       "4       TARA_122_DCM_0.45-0.8_C19125906_1_gene604246       NaN     NaN   \n",
       "..                                               ...       ...     ...   \n",
       "994    TARA_137_SRF_0.22-3_scaffold14735_1_gene11114       NaN     NaN   \n",
       "995       TARA_072_DCM_0.22-3_C15490688_1_gene587425       NaN     NaN   \n",
       "996  TARA_102_MES_0.22-3_scaffold248061_1_gene210371   COG4642     NaN   \n",
       "997     TARA_009_DCM_0.22-1.6_C20646742_1_gene793327   COG1866  K01610   \n",
       "998      TARA_125_MIX_0.22-3_scaffold6652_1_gene8365   COG0178  K03701   \n",
       "\n",
       "       KEGG_module   kingdom          phylum                class  \\\n",
       "0              NaN   Viruses           undef                undef   \n",
       "1              NaN     undef           undef                undef   \n",
       "2              NaN  Bacteria  Proteobacteria  Gammaproteobacteria   \n",
       "3              NaN     undef           undef                undef   \n",
       "4              NaN  Bacteria   Cyanobacteria                undef   \n",
       "..             ...       ...             ...                  ...   \n",
       "994            NaN  Bacteria   Cyanobacteria                undef   \n",
       "995            NaN   Viruses           undef                undef   \n",
       "996            NaN  Bacteria  Proteobacteria  Deltaproteobacteria   \n",
       "997  M00003,M00170  Bacteria  Proteobacteria  Gammaproteobacteria   \n",
       "998            NaN  Bacteria  Proteobacteria  Alphaproteobacteria   \n",
       "\n",
       "             order              family            genus species  \\\n",
       "0            undef               undef            undef   undef   \n",
       "1            undef               undef            undef   undef   \n",
       "2            undef               undef            undef   undef   \n",
       "3            undef               undef            undef   undef   \n",
       "4     Prochlorales  Prochlorococcaceae  Prochlorococcus   undef   \n",
       "..             ...                 ...              ...     ...   \n",
       "994  Chroococcales               undef    Synechococcus   undef   \n",
       "995   Caudovirales          Myoviridae            undef   undef   \n",
       "996          undef               undef            undef   undef   \n",
       "997          undef               undef            undef   undef   \n",
       "998          undef               undef            undef   undef   \n",
       "\n",
       "    station_number environmental_feature size_fraction  \n",
       "0              025                   DCM        <-0.22  \n",
       "1              070                   SRF        <-0.22  \n",
       "2              068                   DCM     0.22-0.45  \n",
       "3              056                   SRF        0.22-3  \n",
       "4              122                   DCM      0.45-0.8  \n",
       "..             ...                   ...           ...  \n",
       "994            137                   SRF        0.22-3  \n",
       "995            072                   DCM        0.22-3  \n",
       "996            102                   MES        0.22-3  \n",
       "997            009                   DCM      0.22-1.6  \n",
       "998            125                   MIX        0.22-3  \n",
       "\n",
       "[999 rows x 18 columns]"
      ]
     },
     "execution_count": 286,
     "metadata": {},
     "output_type": "execute_result"
    }
   ],
   "source": [
    "om_2"
   ]
  },
  {
   "cell_type": "markdown",
   "id": "e3586d2f-fd03-4b5e-a17a-9957ab8b1785",
   "metadata": {
    "tags": []
   },
   "source": [
    "* SRF - surface water layer\n",
    "* DCM - deep chlorophyll maximum layer\n",
    "* MES - mesopelagic zone & marine oxygen minimum zone\n",
    "* MIX - marine epipelagic mixed layer"
   ]
  },
  {
   "cell_type": "code",
   "execution_count": 287,
   "id": "f24e61c6-708e-4731-9d4a-87a6c24dfb28",
   "metadata": {
    "tags": []
   },
   "outputs": [],
   "source": [
    "om_2.to_csv('bfd_om_anno.csv')"
   ]
  },
  {
   "cell_type": "code",
   "execution_count": 355,
   "id": "4933bfdf-1768-4d73-94c5-7ea394ef208b",
   "metadata": {
    "tags": []
   },
   "outputs": [],
   "source": [
    "om_2['bfd_source_database'] = om_2.shape[0]*['OM-RGC']"
   ]
  },
  {
   "cell_type": "code",
   "execution_count": 357,
   "id": "8ff1d16e-83bf-4e4f-8f7d-5148a7e9161c",
   "metadata": {
    "tags": []
   },
   "outputs": [
    {
     "data": {
      "text/plain": [
       "Index(['record_id', 'record_description', 'new_id', 'OM-RGC_ID', 'GeneID',\n",
       "       'eggNOG_OG', 'KEGG_ko', 'KEGG_module', 'kingdom', 'phylum', 'class',\n",
       "       'order', 'family', 'genus', 'species', 'station_number',\n",
       "       'environmental_feature', 'size_fraction', 'bfd_source_database'],\n",
       "      dtype='object')"
      ]
     },
     "execution_count": 357,
     "metadata": {},
     "output_type": "execute_result"
    }
   ],
   "source": [
    "om_2.columns"
   ]
  },
  {
   "cell_type": "code",
   "execution_count": 359,
   "id": "6dc41870-5e49-47a9-9a3f-d3ebd40e8d93",
   "metadata": {
    "tags": []
   },
   "outputs": [],
   "source": [
    "om_2 = om_2[['record_id', 'record_description', 'new_id', 'bfd_source_database', 'OM-RGC_ID', 'GeneID',\n",
    "       'eggNOG_OG', 'KEGG_ko', 'KEGG_module', 'kingdom', 'phylum', 'class',\n",
    "       'order', 'family', 'genus', 'species', 'station_number',\n",
    "       'environmental_feature', 'size_fraction']]"
   ]
  },
  {
   "cell_type": "markdown",
   "id": "9b600308-c2ac-4970-b7ab-56701218e307",
   "metadata": {},
   "source": [
    "### JGI"
   ]
  },
  {
   "cell_type": "code",
   "execution_count": 218,
   "id": "f89f590b-ac10-43c2-85bb-cbd53e636c96",
   "metadata": {
    "tags": []
   },
   "outputs": [],
   "source": [
    "jgi = mapping[mapping['record_id'].apply(lambda x: 'scaffolds.fasta' in x)]"
   ]
  },
  {
   "cell_type": "code",
   "execution_count": 223,
   "id": "24040687-28fc-42f5-af70-80a16b97947b",
   "metadata": {
    "tags": []
   },
   "outputs": [
    {
     "data": {
      "text/html": [
       "<div>\n",
       "<style scoped>\n",
       "    .dataframe tbody tr th:only-of-type {\n",
       "        vertical-align: middle;\n",
       "    }\n",
       "\n",
       "    .dataframe tbody tr th {\n",
       "        vertical-align: top;\n",
       "    }\n",
       "\n",
       "    .dataframe thead th {\n",
       "        text-align: right;\n",
       "    }\n",
       "</style>\n",
       "<table border=\"1\" class=\"dataframe\">\n",
       "  <thead>\n",
       "    <tr style=\"text-align: right;\">\n",
       "      <th></th>\n",
       "      <th>record_id</th>\n",
       "      <th>record_description</th>\n",
       "      <th>new_id</th>\n",
       "    </tr>\n",
       "  </thead>\n",
       "  <tbody>\n",
       "    <tr>\n",
       "      <th>0</th>\n",
       "      <td>GraSoiStandDraft_39_1057311.scaffolds.fasta_sc...</td>\n",
       "      <td>GraSoiStandDraft_39_1057311.scaffolds.fasta_sc...</td>\n",
       "      <td>bfd_000000</td>\n",
       "    </tr>\n",
       "    <tr>\n",
       "      <th>1</th>\n",
       "      <td>GraSoiStandDraft_55_1057291.scaffolds.fasta_sc...</td>\n",
       "      <td>GraSoiStandDraft_55_1057291.scaffolds.fasta_sc...</td>\n",
       "      <td>bfd_000001</td>\n",
       "    </tr>\n",
       "    <tr>\n",
       "      <th>2</th>\n",
       "      <td>GraSoiStandDraft_55_1057291.scaffolds.fasta_sc...</td>\n",
       "      <td>GraSoiStandDraft_55_1057291.scaffolds.fasta_sc...</td>\n",
       "      <td>bfd_000002</td>\n",
       "    </tr>\n",
       "    <tr>\n",
       "      <th>3</th>\n",
       "      <td>GraSoiStandDraft_4_1057263.scaffolds.fasta_sca...</td>\n",
       "      <td>GraSoiStandDraft_4_1057263.scaffolds.fasta_sca...</td>\n",
       "      <td>bfd_000003</td>\n",
       "    </tr>\n",
       "    <tr>\n",
       "      <th>4</th>\n",
       "      <td>APCry1669189440_1035222.scaffolds.fasta_scaffo...</td>\n",
       "      <td>APCry1669189440_1035222.scaffolds.fasta_scaffo...</td>\n",
       "      <td>bfd_000004</td>\n",
       "    </tr>\n",
       "    <tr>\n",
       "      <th>...</th>\n",
       "      <td>...</td>\n",
       "      <td>...</td>\n",
       "      <td>...</td>\n",
       "    </tr>\n",
       "    <tr>\n",
       "      <th>270380</th>\n",
       "      <td>ETNmetMinimDraft_4_1059912.scaffolds.fasta_sca...</td>\n",
       "      <td>ETNmetMinimDraft_4_1059912.scaffolds.fasta_sca...</td>\n",
       "      <td>bfd_270380</td>\n",
       "    </tr>\n",
       "    <tr>\n",
       "      <th>270381</th>\n",
       "      <td>HubBroStandDraft_3_1064219.scaffolds.fasta_sca...</td>\n",
       "      <td>HubBroStandDraft_3_1064219.scaffolds.fasta_sca...</td>\n",
       "      <td>bfd_270381</td>\n",
       "    </tr>\n",
       "    <tr>\n",
       "      <th>270382</th>\n",
       "      <td>AutmiccommunBRH5_1029478.scaffolds.fasta_scaff...</td>\n",
       "      <td>AutmiccommunBRH5_1029478.scaffolds.fasta_scaff...</td>\n",
       "      <td>bfd_270382</td>\n",
       "    </tr>\n",
       "    <tr>\n",
       "      <th>272252</th>\n",
       "      <td>HubBroStandDraft_1064217.scaffolds.fasta_scaff...</td>\n",
       "      <td>HubBroStandDraft_1064217.scaffolds.fasta_scaff...</td>\n",
       "      <td>bfd_272252</td>\n",
       "    </tr>\n",
       "    <tr>\n",
       "      <th>273502</th>\n",
       "      <td>tagenome__1003787_1003787.scaffolds.fasta_scaf...</td>\n",
       "      <td>tagenome__1003787_1003787.scaffolds.fasta_scaf...</td>\n",
       "      <td>bfd_273502</td>\n",
       "    </tr>\n",
       "  </tbody>\n",
       "</table>\n",
       "<p>31596 rows × 3 columns</p>\n",
       "</div>"
      ],
      "text/plain": [
       "                                                record_id  \\\n",
       "0       GraSoiStandDraft_39_1057311.scaffolds.fasta_sc...   \n",
       "1       GraSoiStandDraft_55_1057291.scaffolds.fasta_sc...   \n",
       "2       GraSoiStandDraft_55_1057291.scaffolds.fasta_sc...   \n",
       "3       GraSoiStandDraft_4_1057263.scaffolds.fasta_sca...   \n",
       "4       APCry1669189440_1035222.scaffolds.fasta_scaffo...   \n",
       "...                                                   ...   \n",
       "270380  ETNmetMinimDraft_4_1059912.scaffolds.fasta_sca...   \n",
       "270381  HubBroStandDraft_3_1064219.scaffolds.fasta_sca...   \n",
       "270382  AutmiccommunBRH5_1029478.scaffolds.fasta_scaff...   \n",
       "272252  HubBroStandDraft_1064217.scaffolds.fasta_scaff...   \n",
       "273502  tagenome__1003787_1003787.scaffolds.fasta_scaf...   \n",
       "\n",
       "                                       record_description      new_id  \n",
       "0       GraSoiStandDraft_39_1057311.scaffolds.fasta_sc...  bfd_000000  \n",
       "1       GraSoiStandDraft_55_1057291.scaffolds.fasta_sc...  bfd_000001  \n",
       "2       GraSoiStandDraft_55_1057291.scaffolds.fasta_sc...  bfd_000002  \n",
       "3       GraSoiStandDraft_4_1057263.scaffolds.fasta_sca...  bfd_000003  \n",
       "4       APCry1669189440_1035222.scaffolds.fasta_scaffo...  bfd_000004  \n",
       "...                                                   ...         ...  \n",
       "270380  ETNmetMinimDraft_4_1059912.scaffolds.fasta_sca...  bfd_270380  \n",
       "270381  HubBroStandDraft_3_1064219.scaffolds.fasta_sca...  bfd_270381  \n",
       "270382  AutmiccommunBRH5_1029478.scaffolds.fasta_scaff...  bfd_270382  \n",
       "272252  HubBroStandDraft_1064217.scaffolds.fasta_scaff...  bfd_272252  \n",
       "273502  tagenome__1003787_1003787.scaffolds.fasta_scaf...  bfd_273502  \n",
       "\n",
       "[31596 rows x 3 columns]"
      ]
     },
     "execution_count": 223,
     "metadata": {},
     "output_type": "execute_result"
    }
   ],
   "source": [
    "jgi"
   ]
  },
  {
   "cell_type": "code",
   "execution_count": 360,
   "id": "87edbbb5-9edc-48fe-a736-99ace2f6d945",
   "metadata": {
    "tags": []
   },
   "outputs": [
    {
     "name": "stderr",
     "output_type": "stream",
     "text": [
      "C:\\Users\\terca\\AppData\\Local\\Temp\\ipykernel_8420\\4222986635.py:1: SettingWithCopyWarning: \n",
      "A value is trying to be set on a copy of a slice from a DataFrame.\n",
      "Try using .loc[row_indexer,col_indexer] = value instead\n",
      "\n",
      "See the caveats in the documentation: https://pandas.pydata.org/pandas-docs/stable/user_guide/indexing.html#returning-a-view-versus-a-copy\n",
      "  jgi['bfd_source_database'] = jgi.shape[0]*['JGI']\n"
     ]
    }
   ],
   "source": [
    "jgi['bfd_source_database'] = jgi.shape[0]*['JGI']"
   ]
  },
  {
   "cell_type": "code",
   "execution_count": 361,
   "id": "1ee288b8-1363-4a28-aa32-95931b5a8ef2",
   "metadata": {
    "tags": []
   },
   "outputs": [
    {
     "data": {
      "text/html": [
       "<div>\n",
       "<style scoped>\n",
       "    .dataframe tbody tr th:only-of-type {\n",
       "        vertical-align: middle;\n",
       "    }\n",
       "\n",
       "    .dataframe tbody tr th {\n",
       "        vertical-align: top;\n",
       "    }\n",
       "\n",
       "    .dataframe thead th {\n",
       "        text-align: right;\n",
       "    }\n",
       "</style>\n",
       "<table border=\"1\" class=\"dataframe\">\n",
       "  <thead>\n",
       "    <tr style=\"text-align: right;\">\n",
       "      <th></th>\n",
       "      <th>record_id</th>\n",
       "      <th>record_description</th>\n",
       "      <th>new_id</th>\n",
       "      <th>bfd_source_database</th>\n",
       "    </tr>\n",
       "  </thead>\n",
       "  <tbody>\n",
       "    <tr>\n",
       "      <th>0</th>\n",
       "      <td>GraSoiStandDraft_39_1057311.scaffolds.fasta_sc...</td>\n",
       "      <td>GraSoiStandDraft_39_1057311.scaffolds.fasta_sc...</td>\n",
       "      <td>bfd_000000</td>\n",
       "      <td>JGI</td>\n",
       "    </tr>\n",
       "    <tr>\n",
       "      <th>1</th>\n",
       "      <td>GraSoiStandDraft_55_1057291.scaffolds.fasta_sc...</td>\n",
       "      <td>GraSoiStandDraft_55_1057291.scaffolds.fasta_sc...</td>\n",
       "      <td>bfd_000001</td>\n",
       "      <td>JGI</td>\n",
       "    </tr>\n",
       "    <tr>\n",
       "      <th>2</th>\n",
       "      <td>GraSoiStandDraft_55_1057291.scaffolds.fasta_sc...</td>\n",
       "      <td>GraSoiStandDraft_55_1057291.scaffolds.fasta_sc...</td>\n",
       "      <td>bfd_000002</td>\n",
       "      <td>JGI</td>\n",
       "    </tr>\n",
       "    <tr>\n",
       "      <th>3</th>\n",
       "      <td>GraSoiStandDraft_4_1057263.scaffolds.fasta_sca...</td>\n",
       "      <td>GraSoiStandDraft_4_1057263.scaffolds.fasta_sca...</td>\n",
       "      <td>bfd_000003</td>\n",
       "      <td>JGI</td>\n",
       "    </tr>\n",
       "    <tr>\n",
       "      <th>4</th>\n",
       "      <td>APCry1669189440_1035222.scaffolds.fasta_scaffo...</td>\n",
       "      <td>APCry1669189440_1035222.scaffolds.fasta_scaffo...</td>\n",
       "      <td>bfd_000004</td>\n",
       "      <td>JGI</td>\n",
       "    </tr>\n",
       "    <tr>\n",
       "      <th>...</th>\n",
       "      <td>...</td>\n",
       "      <td>...</td>\n",
       "      <td>...</td>\n",
       "      <td>...</td>\n",
       "    </tr>\n",
       "    <tr>\n",
       "      <th>270380</th>\n",
       "      <td>ETNmetMinimDraft_4_1059912.scaffolds.fasta_sca...</td>\n",
       "      <td>ETNmetMinimDraft_4_1059912.scaffolds.fasta_sca...</td>\n",
       "      <td>bfd_270380</td>\n",
       "      <td>JGI</td>\n",
       "    </tr>\n",
       "    <tr>\n",
       "      <th>270381</th>\n",
       "      <td>HubBroStandDraft_3_1064219.scaffolds.fasta_sca...</td>\n",
       "      <td>HubBroStandDraft_3_1064219.scaffolds.fasta_sca...</td>\n",
       "      <td>bfd_270381</td>\n",
       "      <td>JGI</td>\n",
       "    </tr>\n",
       "    <tr>\n",
       "      <th>270382</th>\n",
       "      <td>AutmiccommunBRH5_1029478.scaffolds.fasta_scaff...</td>\n",
       "      <td>AutmiccommunBRH5_1029478.scaffolds.fasta_scaff...</td>\n",
       "      <td>bfd_270382</td>\n",
       "      <td>JGI</td>\n",
       "    </tr>\n",
       "    <tr>\n",
       "      <th>272252</th>\n",
       "      <td>HubBroStandDraft_1064217.scaffolds.fasta_scaff...</td>\n",
       "      <td>HubBroStandDraft_1064217.scaffolds.fasta_scaff...</td>\n",
       "      <td>bfd_272252</td>\n",
       "      <td>JGI</td>\n",
       "    </tr>\n",
       "    <tr>\n",
       "      <th>273502</th>\n",
       "      <td>tagenome__1003787_1003787.scaffolds.fasta_scaf...</td>\n",
       "      <td>tagenome__1003787_1003787.scaffolds.fasta_scaf...</td>\n",
       "      <td>bfd_273502</td>\n",
       "      <td>JGI</td>\n",
       "    </tr>\n",
       "  </tbody>\n",
       "</table>\n",
       "<p>31596 rows × 4 columns</p>\n",
       "</div>"
      ],
      "text/plain": [
       "                                                record_id  \\\n",
       "0       GraSoiStandDraft_39_1057311.scaffolds.fasta_sc...   \n",
       "1       GraSoiStandDraft_55_1057291.scaffolds.fasta_sc...   \n",
       "2       GraSoiStandDraft_55_1057291.scaffolds.fasta_sc...   \n",
       "3       GraSoiStandDraft_4_1057263.scaffolds.fasta_sca...   \n",
       "4       APCry1669189440_1035222.scaffolds.fasta_scaffo...   \n",
       "...                                                   ...   \n",
       "270380  ETNmetMinimDraft_4_1059912.scaffolds.fasta_sca...   \n",
       "270381  HubBroStandDraft_3_1064219.scaffolds.fasta_sca...   \n",
       "270382  AutmiccommunBRH5_1029478.scaffolds.fasta_scaff...   \n",
       "272252  HubBroStandDraft_1064217.scaffolds.fasta_scaff...   \n",
       "273502  tagenome__1003787_1003787.scaffolds.fasta_scaf...   \n",
       "\n",
       "                                       record_description      new_id  \\\n",
       "0       GraSoiStandDraft_39_1057311.scaffolds.fasta_sc...  bfd_000000   \n",
       "1       GraSoiStandDraft_55_1057291.scaffolds.fasta_sc...  bfd_000001   \n",
       "2       GraSoiStandDraft_55_1057291.scaffolds.fasta_sc...  bfd_000002   \n",
       "3       GraSoiStandDraft_4_1057263.scaffolds.fasta_sca...  bfd_000003   \n",
       "4       APCry1669189440_1035222.scaffolds.fasta_scaffo...  bfd_000004   \n",
       "...                                                   ...         ...   \n",
       "270380  ETNmetMinimDraft_4_1059912.scaffolds.fasta_sca...  bfd_270380   \n",
       "270381  HubBroStandDraft_3_1064219.scaffolds.fasta_sca...  bfd_270381   \n",
       "270382  AutmiccommunBRH5_1029478.scaffolds.fasta_scaff...  bfd_270382   \n",
       "272252  HubBroStandDraft_1064217.scaffolds.fasta_scaff...  bfd_272252   \n",
       "273502  tagenome__1003787_1003787.scaffolds.fasta_scaf...  bfd_273502   \n",
       "\n",
       "       bfd_source_database  \n",
       "0                      JGI  \n",
       "1                      JGI  \n",
       "2                      JGI  \n",
       "3                      JGI  \n",
       "4                      JGI  \n",
       "...                    ...  \n",
       "270380                 JGI  \n",
       "270381                 JGI  \n",
       "270382                 JGI  \n",
       "272252                 JGI  \n",
       "273502                 JGI  \n",
       "\n",
       "[31596 rows x 4 columns]"
      ]
     },
     "execution_count": 361,
     "metadata": {},
     "output_type": "execute_result"
    }
   ],
   "source": [
    "jgi"
   ]
  },
  {
   "cell_type": "markdown",
   "id": "eb960b2a-ceeb-4513-b6cb-f9ce4a5d92cd",
   "metadata": {
    "tags": []
   },
   "source": [
    "### Other"
   ]
  },
  {
   "cell_type": "code",
   "execution_count": 219,
   "id": "e6a16feb-bc42-493a-890c-78f6e3b2b931",
   "metadata": {
    "tags": []
   },
   "outputs": [],
   "source": [
    "def get_other(x):\n",
    "    if x[:3] == 'tr|':\n",
    "        return False\n",
    "    elif x[:3] == 'sp|':\n",
    "        return False\n",
    "    elif x[:3] == 'UPI':\n",
    "        return False\n",
    "    elif x[:3] == 'SRR':\n",
    "        return False\n",
    "    elif x[:3] == 'ERR':\n",
    "        return False\n",
    "    elif x[:3] == 'OM-':\n",
    "        return False\n",
    "    elif 'scaffolds.fasta' in x:\n",
    "        return False\n",
    "    else:\n",
    "        return True"
   ]
  },
  {
   "cell_type": "code",
   "execution_count": 220,
   "id": "2d9be68b-774a-4d60-a225-eb1e4fcf268d",
   "metadata": {
    "tags": []
   },
   "outputs": [],
   "source": [
    "other = mapping[mapping['record_id'].apply(lambda x: get_other(x))]"
   ]
  },
  {
   "cell_type": "code",
   "execution_count": 234,
   "id": "c175018d-57e4-43a4-8a6d-b9e8df4f984e",
   "metadata": {
    "tags": []
   },
   "outputs": [
    {
     "data": {
      "text/html": [
       "<div>\n",
       "<style scoped>\n",
       "    .dataframe tbody tr th:only-of-type {\n",
       "        vertical-align: middle;\n",
       "    }\n",
       "\n",
       "    .dataframe tbody tr th {\n",
       "        vertical-align: top;\n",
       "    }\n",
       "\n",
       "    .dataframe thead th {\n",
       "        text-align: right;\n",
       "    }\n",
       "</style>\n",
       "<table border=\"1\" class=\"dataframe\">\n",
       "  <thead>\n",
       "    <tr style=\"text-align: right;\">\n",
       "      <th></th>\n",
       "      <th>record_id</th>\n",
       "      <th>record_description</th>\n",
       "      <th>new_id</th>\n",
       "    </tr>\n",
       "  </thead>\n",
       "  <tbody>\n",
       "    <tr>\n",
       "      <th>15</th>\n",
       "      <td>AmaraimetaFIIA10_FD_contig_91_67389_length_227...</td>\n",
       "      <td>AmaraimetaFIIA10_FD_contig_91_67389_length_227...</td>\n",
       "      <td>bfd_000015</td>\n",
       "    </tr>\n",
       "    <tr>\n",
       "      <th>16</th>\n",
       "      <td>LAZR01.3.fsa_nt_gi|816414122|gb|LAZR01063643.1|_1</td>\n",
       "      <td>LAZR01.3.fsa_nt_gi|816414122|gb|LAZR01063643.1...</td>\n",
       "      <td>bfd_000016</td>\n",
       "    </tr>\n",
       "    <tr>\n",
       "      <th>21</th>\n",
       "      <td>AGTN01.3.fsa_nt_gi|355644927|gb|AGTN01672759.1|_1</td>\n",
       "      <td>AGTN01.3.fsa_nt_gi|355644927|gb|AGTN01672759.1...</td>\n",
       "      <td>bfd_000021</td>\n",
       "    </tr>\n",
       "    <tr>\n",
       "      <th>29</th>\n",
       "      <td>1115.fasta_scaffold121126_1</td>\n",
       "      <td>1115.fasta_scaffold121126_1 # 2 # 265 # 1 # ID...</td>\n",
       "      <td>bfd_000029</td>\n",
       "    </tr>\n",
       "    <tr>\n",
       "      <th>32</th>\n",
       "      <td>AACY02.12.fsa_nt_gi|130976350|gb|AACY022720937...</td>\n",
       "      <td>AACY02.12.fsa_nt_gi|130976350|gb|AACY022720937...</td>\n",
       "      <td>bfd_000032</td>\n",
       "    </tr>\n",
       "    <tr>\n",
       "      <th>...</th>\n",
       "      <td>...</td>\n",
       "      <td>...</td>\n",
       "      <td>...</td>\n",
       "    </tr>\n",
       "    <tr>\n",
       "      <th>268239</th>\n",
       "      <td>Dee2metaT_26_FD_contig_21_2097026_length_361_m...</td>\n",
       "      <td>Dee2metaT_26_FD_contig_21_2097026_length_361_m...</td>\n",
       "      <td>bfd_268239</td>\n",
       "    </tr>\n",
       "    <tr>\n",
       "      <th>268240</th>\n",
       "      <td>AmaraimetaFIIA01_FD_contig_81_1078205_length_2...</td>\n",
       "      <td>AmaraimetaFIIA01_FD_contig_81_1078205_length_2...</td>\n",
       "      <td>bfd_268240</td>\n",
       "    </tr>\n",
       "    <tr>\n",
       "      <th>268241</th>\n",
       "      <td>1185.fasta_scaffold1718379_1</td>\n",
       "      <td>1185.fasta_scaffold1718379_1 # 1 # 201 # -1 # ...</td>\n",
       "      <td>bfd_268241</td>\n",
       "    </tr>\n",
       "    <tr>\n",
       "      <th>269315</th>\n",
       "      <td>JI71714B2RNA_FD_contig_31_3048430_length_247_m...</td>\n",
       "      <td>JI71714B2RNA_FD_contig_31_3048430_length_247_m...</td>\n",
       "      <td>bfd_269315</td>\n",
       "    </tr>\n",
       "    <tr>\n",
       "      <th>269557</th>\n",
       "      <td>Dee2metaT_33_FD_contig_21_1472196_length_267_m...</td>\n",
       "      <td>Dee2metaT_33_FD_contig_21_1472196_length_267_m...</td>\n",
       "      <td>bfd_269557</td>\n",
       "    </tr>\n",
       "  </tbody>\n",
       "</table>\n",
       "<p>7191 rows × 3 columns</p>\n",
       "</div>"
      ],
      "text/plain": [
       "                                                record_id  \\\n",
       "15      AmaraimetaFIIA10_FD_contig_91_67389_length_227...   \n",
       "16      LAZR01.3.fsa_nt_gi|816414122|gb|LAZR01063643.1|_1   \n",
       "21      AGTN01.3.fsa_nt_gi|355644927|gb|AGTN01672759.1|_1   \n",
       "29                            1115.fasta_scaffold121126_1   \n",
       "32      AACY02.12.fsa_nt_gi|130976350|gb|AACY022720937...   \n",
       "...                                                   ...   \n",
       "268239  Dee2metaT_26_FD_contig_21_2097026_length_361_m...   \n",
       "268240  AmaraimetaFIIA01_FD_contig_81_1078205_length_2...   \n",
       "268241                       1185.fasta_scaffold1718379_1   \n",
       "269315  JI71714B2RNA_FD_contig_31_3048430_length_247_m...   \n",
       "269557  Dee2metaT_33_FD_contig_21_1472196_length_267_m...   \n",
       "\n",
       "                                       record_description      new_id  \n",
       "15      AmaraimetaFIIA10_FD_contig_91_67389_length_227...  bfd_000015  \n",
       "16      LAZR01.3.fsa_nt_gi|816414122|gb|LAZR01063643.1...  bfd_000016  \n",
       "21      AGTN01.3.fsa_nt_gi|355644927|gb|AGTN01672759.1...  bfd_000021  \n",
       "29      1115.fasta_scaffold121126_1 # 2 # 265 # 1 # ID...  bfd_000029  \n",
       "32      AACY02.12.fsa_nt_gi|130976350|gb|AACY022720937...  bfd_000032  \n",
       "...                                                   ...         ...  \n",
       "268239  Dee2metaT_26_FD_contig_21_2097026_length_361_m...  bfd_268239  \n",
       "268240  AmaraimetaFIIA01_FD_contig_81_1078205_length_2...  bfd_268240  \n",
       "268241  1185.fasta_scaffold1718379_1 # 1 # 201 # -1 # ...  bfd_268241  \n",
       "269315  JI71714B2RNA_FD_contig_31_3048430_length_247_m...  bfd_269315  \n",
       "269557  Dee2metaT_33_FD_contig_21_1472196_length_267_m...  bfd_269557  \n",
       "\n",
       "[7191 rows x 3 columns]"
      ]
     },
     "execution_count": 234,
     "metadata": {},
     "output_type": "execute_result"
    }
   ],
   "source": [
    "other"
   ]
  },
  {
   "cell_type": "code",
   "execution_count": 362,
   "id": "4a9d86ef-86f0-44fa-ae43-2e038942b62b",
   "metadata": {
    "tags": []
   },
   "outputs": [
    {
     "name": "stderr",
     "output_type": "stream",
     "text": [
      "C:\\Users\\terca\\AppData\\Local\\Temp\\ipykernel_8420\\3214470757.py:1: SettingWithCopyWarning: \n",
      "A value is trying to be set on a copy of a slice from a DataFrame.\n",
      "Try using .loc[row_indexer,col_indexer] = value instead\n",
      "\n",
      "See the caveats in the documentation: https://pandas.pydata.org/pandas-docs/stable/user_guide/indexing.html#returning-a-view-versus-a-copy\n",
      "  other['bfd_source_database'] = other.shape[0]*['Other']\n"
     ]
    }
   ],
   "source": [
    "other['bfd_source_database'] = other.shape[0]*['Other']"
   ]
  },
  {
   "cell_type": "markdown",
   "id": "2620dd47-fbe3-472e-b359-8a007a5a9aa5",
   "metadata": {},
   "source": [
    "## Join all annotations together"
   ]
  },
  {
   "cell_type": "code",
   "execution_count": 366,
   "id": "7ce45fbf-68b5-4fbf-8f59-a77415176d43",
   "metadata": {
    "tags": []
   },
   "outputs": [],
   "source": [
    "bfd_annotated = pd.concat([srr_anno,err_anno,uniprot_annotated,uniparc_annotated,om_2,jgi,other])"
   ]
  },
  {
   "cell_type": "code",
   "execution_count": 368,
   "id": "691dc788-d653-4c39-901b-53b08459b85f",
   "metadata": {
    "tags": []
   },
   "outputs": [
    {
     "data": {
      "text/plain": [
       "bfd_source_database\n",
       "SRA        169485\n",
       "UniProt     61111\n",
       "JGI         31596\n",
       "Other        7191\n",
       "UniParc      3153\n",
       "OM-RGC        999\n",
       "Name: count, dtype: int64"
      ]
     },
     "execution_count": 368,
     "metadata": {},
     "output_type": "execute_result"
    }
   ],
   "source": [
    "bfd_annotated['bfd_source_database'].value_counts()"
   ]
  },
  {
   "cell_type": "code",
   "execution_count": 370,
   "id": "4cbdb33b-2ba5-4be0-a4a6-95e32ba5c6bc",
   "metadata": {
    "tags": []
   },
   "outputs": [],
   "source": [
    "bfd_annotated.to_csv('bfd_mapping_annotated.csv')"
   ]
  },
  {
   "cell_type": "markdown",
   "id": "74408533-4001-462a-bc59-bdfc0f32a6b9",
   "metadata": {},
   "source": [
    "## Add taxid and lineage info"
   ]
  },
  {
   "cell_type": "code",
   "execution_count": 3,
   "id": "ac242efa-7979-4096-a9ea-f2db95f46cbb",
   "metadata": {
    "tags": []
   },
   "outputs": [
    {
     "name": "stderr",
     "output_type": "stream",
     "text": [
      "C:\\Users\\terca\\AppData\\Local\\Temp\\ipykernel_7816\\3490270364.py:1: DtypeWarning: Columns (5,6,8,9,10,11,12,13,14,16,17,18,19,20,21,22,23,24,25,26,27,28,29,30,31,32,33,34,35,36,37,38,39,40,41,42,43,44,45,46,47) have mixed types. Specify dtype option on import or set low_memory=False.\n",
      "  anno_df = pd.read_csv('bfd_mapping_annotated.csv', index_col=0)\n"
     ]
    }
   ],
   "source": [
    "anno_df = pd.read_csv('bfd_mapping_annotated.csv', index_col=0)"
   ]
  },
  {
   "cell_type": "code",
   "execution_count": 5,
   "id": "1989f93f-0a9e-4cfa-ab65-355f05f112d8",
   "metadata": {
    "tags": []
   },
   "outputs": [
    {
     "data": {
      "text/plain": [
       "Index(['record_id', 'record_description', 'new_id', 'bfd_source_database',\n",
       "       'SRA_id', 'run_accession', 'organism_taxid', 'organism_name',\n",
       "       'study_accession', 'study_title', 'experiment_accession',\n",
       "       'experiment_title', 'experiment_desc', 'sample_accession',\n",
       "       'sample_title', 'biosample', 'bioproject', 'uniprot_id', 'Entry',\n",
       "       'Entry Name', 'Gene Names', 'Protein names', 'Protein families',\n",
       "       'Fragment', 'Active site', 'Catalytic activity', 'EC number',\n",
       "       'Function [CC]', 'Rhea ID', 'Site', 'source_dbs', 'upi', 'OM-RGC_ID',\n",
       "       'GeneID', 'eggNOG_OG', 'KEGG_ko', 'KEGG_module', 'kingdom', 'phylum',\n",
       "       'class', 'order', 'family', 'genus', 'species', 'station_number',\n",
       "       'environmental_feature', 'size_fraction'],\n",
       "      dtype='object')"
      ]
     },
     "execution_count": 5,
     "metadata": {},
     "output_type": "execute_result"
    }
   ],
   "source": [
    "anno_df.columns"
   ]
  },
  {
   "cell_type": "code",
   "execution_count": 32,
   "id": "e93e46be-32f0-4a1d-97f7-58a7cea00eef",
   "metadata": {
    "tags": []
   },
   "outputs": [
    {
     "data": {
      "text/html": [
       "<div>\n",
       "<style scoped>\n",
       "    .dataframe tbody tr th:only-of-type {\n",
       "        vertical-align: middle;\n",
       "    }\n",
       "\n",
       "    .dataframe tbody tr th {\n",
       "        vertical-align: top;\n",
       "    }\n",
       "\n",
       "    .dataframe thead th {\n",
       "        text-align: right;\n",
       "    }\n",
       "</style>\n",
       "<table border=\"1\" class=\"dataframe\">\n",
       "  <thead>\n",
       "    <tr style=\"text-align: right;\">\n",
       "      <th></th>\n",
       "      <th>record_id</th>\n",
       "      <th>bfd_source_database</th>\n",
       "      <th>organism_taxid</th>\n",
       "      <th>organism_name</th>\n",
       "      <th>kingdom</th>\n",
       "      <th>phylum</th>\n",
       "      <th>species</th>\n",
       "      <th>environmental_feature</th>\n",
       "    </tr>\n",
       "  </thead>\n",
       "  <tbody>\n",
       "    <tr>\n",
       "      <th>0</th>\n",
       "      <td>SRR5882724_2472406_consensus</td>\n",
       "      <td>SRA</td>\n",
       "      <td>410658.0</td>\n",
       "      <td>soil metagenome</td>\n",
       "      <td>NaN</td>\n",
       "      <td>NaN</td>\n",
       "      <td>NaN</td>\n",
       "      <td>NaN</td>\n",
       "    </tr>\n",
       "    <tr>\n",
       "      <th>1</th>\n",
       "      <td>SRR5882724_2472406</td>\n",
       "      <td>SRA</td>\n",
       "      <td>410658.0</td>\n",
       "      <td>soil metagenome</td>\n",
       "      <td>NaN</td>\n",
       "      <td>NaN</td>\n",
       "      <td>NaN</td>\n",
       "      <td>NaN</td>\n",
       "    </tr>\n",
       "    <tr>\n",
       "      <th>2</th>\n",
       "      <td>SRR6056297_4233263_consensus</td>\n",
       "      <td>SRA</td>\n",
       "      <td>410658.0</td>\n",
       "      <td>soil metagenome</td>\n",
       "      <td>NaN</td>\n",
       "      <td>NaN</td>\n",
       "      <td>NaN</td>\n",
       "      <td>NaN</td>\n",
       "    </tr>\n",
       "    <tr>\n",
       "      <th>3</th>\n",
       "      <td>SRR6056297_4233263</td>\n",
       "      <td>SRA</td>\n",
       "      <td>410658.0</td>\n",
       "      <td>soil metagenome</td>\n",
       "      <td>NaN</td>\n",
       "      <td>NaN</td>\n",
       "      <td>NaN</td>\n",
       "      <td>NaN</td>\n",
       "    </tr>\n",
       "    <tr>\n",
       "      <th>4</th>\n",
       "      <td>SRR5690606_1803171_consensus</td>\n",
       "      <td>SRA</td>\n",
       "      <td>410658.0</td>\n",
       "      <td>soil metagenome</td>\n",
       "      <td>NaN</td>\n",
       "      <td>NaN</td>\n",
       "      <td>NaN</td>\n",
       "      <td>NaN</td>\n",
       "    </tr>\n",
       "    <tr>\n",
       "      <th>...</th>\n",
       "      <td>...</td>\n",
       "      <td>...</td>\n",
       "      <td>...</td>\n",
       "      <td>...</td>\n",
       "      <td>...</td>\n",
       "      <td>...</td>\n",
       "      <td>...</td>\n",
       "      <td>...</td>\n",
       "    </tr>\n",
       "    <tr>\n",
       "      <th>268239</th>\n",
       "      <td>Dee2metaT_26_FD_contig_21_2097026_length_361_m...</td>\n",
       "      <td>Other</td>\n",
       "      <td>NaN</td>\n",
       "      <td>NaN</td>\n",
       "      <td>NaN</td>\n",
       "      <td>NaN</td>\n",
       "      <td>NaN</td>\n",
       "      <td>NaN</td>\n",
       "    </tr>\n",
       "    <tr>\n",
       "      <th>268240</th>\n",
       "      <td>AmaraimetaFIIA01_FD_contig_81_1078205_length_2...</td>\n",
       "      <td>Other</td>\n",
       "      <td>NaN</td>\n",
       "      <td>NaN</td>\n",
       "      <td>NaN</td>\n",
       "      <td>NaN</td>\n",
       "      <td>NaN</td>\n",
       "      <td>NaN</td>\n",
       "    </tr>\n",
       "    <tr>\n",
       "      <th>268241</th>\n",
       "      <td>1185.fasta_scaffold1718379_1</td>\n",
       "      <td>Other</td>\n",
       "      <td>NaN</td>\n",
       "      <td>NaN</td>\n",
       "      <td>NaN</td>\n",
       "      <td>NaN</td>\n",
       "      <td>NaN</td>\n",
       "      <td>NaN</td>\n",
       "    </tr>\n",
       "    <tr>\n",
       "      <th>269315</th>\n",
       "      <td>JI71714B2RNA_FD_contig_31_3048430_length_247_m...</td>\n",
       "      <td>Other</td>\n",
       "      <td>NaN</td>\n",
       "      <td>NaN</td>\n",
       "      <td>NaN</td>\n",
       "      <td>NaN</td>\n",
       "      <td>NaN</td>\n",
       "      <td>NaN</td>\n",
       "    </tr>\n",
       "    <tr>\n",
       "      <th>269557</th>\n",
       "      <td>Dee2metaT_33_FD_contig_21_1472196_length_267_m...</td>\n",
       "      <td>Other</td>\n",
       "      <td>NaN</td>\n",
       "      <td>NaN</td>\n",
       "      <td>NaN</td>\n",
       "      <td>NaN</td>\n",
       "      <td>NaN</td>\n",
       "      <td>NaN</td>\n",
       "    </tr>\n",
       "  </tbody>\n",
       "</table>\n",
       "<p>273535 rows × 8 columns</p>\n",
       "</div>"
      ],
      "text/plain": [
       "                                                record_id bfd_source_database  \\\n",
       "0                            SRR5882724_2472406_consensus                 SRA   \n",
       "1                                      SRR5882724_2472406                 SRA   \n",
       "2                            SRR6056297_4233263_consensus                 SRA   \n",
       "3                                      SRR6056297_4233263                 SRA   \n",
       "4                            SRR5690606_1803171_consensus                 SRA   \n",
       "...                                                   ...                 ...   \n",
       "268239  Dee2metaT_26_FD_contig_21_2097026_length_361_m...               Other   \n",
       "268240  AmaraimetaFIIA01_FD_contig_81_1078205_length_2...               Other   \n",
       "268241                       1185.fasta_scaffold1718379_1               Other   \n",
       "269315  JI71714B2RNA_FD_contig_31_3048430_length_247_m...               Other   \n",
       "269557  Dee2metaT_33_FD_contig_21_1472196_length_267_m...               Other   \n",
       "\n",
       "        organism_taxid    organism_name kingdom phylum species  \\\n",
       "0             410658.0  soil metagenome     NaN    NaN     NaN   \n",
       "1             410658.0  soil metagenome     NaN    NaN     NaN   \n",
       "2             410658.0  soil metagenome     NaN    NaN     NaN   \n",
       "3             410658.0  soil metagenome     NaN    NaN     NaN   \n",
       "4             410658.0  soil metagenome     NaN    NaN     NaN   \n",
       "...                ...              ...     ...    ...     ...   \n",
       "268239             NaN              NaN     NaN    NaN     NaN   \n",
       "268240             NaN              NaN     NaN    NaN     NaN   \n",
       "268241             NaN              NaN     NaN    NaN     NaN   \n",
       "269315             NaN              NaN     NaN    NaN     NaN   \n",
       "269557             NaN              NaN     NaN    NaN     NaN   \n",
       "\n",
       "       environmental_feature  \n",
       "0                        NaN  \n",
       "1                        NaN  \n",
       "2                        NaN  \n",
       "3                        NaN  \n",
       "4                        NaN  \n",
       "...                      ...  \n",
       "268239                   NaN  \n",
       "268240                   NaN  \n",
       "268241                   NaN  \n",
       "269315                   NaN  \n",
       "269557                   NaN  \n",
       "\n",
       "[273535 rows x 8 columns]"
      ]
     },
     "execution_count": 32,
     "metadata": {},
     "output_type": "execute_result"
    }
   ],
   "source": [
    "anno_df[['record_id', 'bfd_source_database', 'organism_taxid', 'organism_name', 'kingdom', 'phylum','species', 'environmental_feature']]"
   ]
  },
  {
   "cell_type": "code",
   "execution_count": 8,
   "id": "da5ce6e7-707c-4a77-a763-ad7c117b97ca",
   "metadata": {
    "tags": []
   },
   "outputs": [
    {
     "data": {
      "text/plain": [
       "bfd_source_database\n",
       "SRA        169485\n",
       "UniProt     61111\n",
       "JGI         31596\n",
       "Other        7191\n",
       "UniParc      3153\n",
       "OM-RGC        999\n",
       "Name: count, dtype: int64"
      ]
     },
     "execution_count": 8,
     "metadata": {},
     "output_type": "execute_result"
    }
   ],
   "source": [
    "anno_df['bfd_source_database'].value_counts()"
   ]
  },
  {
   "cell_type": "code",
   "execution_count": 18,
   "id": "65078ffa-1cbf-494b-938b-72ceedba5f21",
   "metadata": {
    "tags": []
   },
   "outputs": [
    {
     "data": {
      "text/plain": [
       "organism_name\n",
       "soil metagenome      156239\n",
       "marine metagenome     11938\n",
       "Name: count, dtype: int64"
      ]
     },
     "execution_count": 18,
     "metadata": {},
     "output_type": "execute_result"
    }
   ],
   "source": [
    "anno_df[anno_df['bfd_source_database'] == 'SRA']['organism_name'].value_counts()"
   ]
  },
  {
   "cell_type": "code",
   "execution_count": 19,
   "id": "13a8e863-2b4f-4897-9bac-413a3326867a",
   "metadata": {
    "tags": []
   },
   "outputs": [
    {
     "data": {
      "text/plain": [
       "organism_taxid\n",
       "410658.0    156239\n",
       "408172.0     11938\n",
       "Name: count, dtype: int64"
      ]
     },
     "execution_count": 19,
     "metadata": {},
     "output_type": "execute_result"
    }
   ],
   "source": [
    "anno_df[anno_df['bfd_source_database'] == 'SRA']['organism_taxid'].value_counts()"
   ]
  },
  {
   "cell_type": "code",
   "execution_count": 17,
   "id": "566e2880-f6a5-4c52-943a-9e9f248ee12c",
   "metadata": {
    "tags": []
   },
   "outputs": [
    {
     "data": {
      "text/plain": [
       "organism_name\n",
       "Euryarchaeota archaeon                                          732\n",
       "Helicobacter pylori (Campylobacter pylori)                      288\n",
       "Planctomycetaceae bacterium                                     240\n",
       "Vitis vinifera (Grape)                                          207\n",
       "Zea mays (Maize)                                                204\n",
       "                                                               ... \n",
       "Erwinia tracheiphila                                              1\n",
       "Vibrio sp. V15_P4S5T153                                           1\n",
       "Candidatus Photodesmus katoptron Akat1                            1\n",
       "Vibrio fluvialis PG41                                             1\n",
       "Hericium erinaceus (Lion's mane mushroom) (Hydnum erinaceus)      1\n",
       "Name: count, Length: 13956, dtype: int64"
      ]
     },
     "execution_count": 17,
     "metadata": {},
     "output_type": "execute_result"
    }
   ],
   "source": [
    "anno_df[anno_df['bfd_source_database'] == 'UniProt']['organism_name'].value_counts()"
   ]
  },
  {
   "cell_type": "code",
   "execution_count": 20,
   "id": "eb0861b2-9b23-4781-abe6-3d1c87dc7654",
   "metadata": {
    "tags": []
   },
   "outputs": [
    {
     "data": {
      "text/plain": [
       "organism_taxid\n",
       "2026739.0    732\n",
       "210.0        288\n",
       "2026779.0    240\n",
       "29760.0      207\n",
       "4577.0       204\n",
       "            ... \n",
       "1236703.0      1\n",
       "1336752.0      1\n",
       "50422.0        1\n",
       "637905.0       1\n",
       "91752.0        1\n",
       "Name: count, Length: 13957, dtype: int64"
      ]
     },
     "execution_count": 20,
     "metadata": {},
     "output_type": "execute_result"
    }
   ],
   "source": [
    "anno_df[anno_df['bfd_source_database'] == 'UniProt']['organism_taxid'].value_counts()"
   ]
  },
  {
   "cell_type": "code",
   "execution_count": 27,
   "id": "33f0250c-a93d-425a-bdb5-1c9b189b3457",
   "metadata": {
    "tags": []
   },
   "outputs": [
    {
     "data": {
      "text/plain": [
       "organism_name\n",
       "marine metagenome                                       137\n",
       "Homo sapiens (Human)                                     25\n",
       "synthetic construct                                      25\n",
       "Human immunodeficiency virus 1                           14\n",
       "marine sediment metagenome                               13\n",
       "                                                       ... \n",
       "Hymenobacter norwichensis DSM 15439                       1\n",
       "Halalkalicoccus paucihalophilus                           1\n",
       "Bartonella queenslandensis AUST/NH15                      1\n",
       "Ralstonia solanacearum CMR15; Ralstonia solanacearum      1\n",
       "Hahella chejuensis (strain KCTC 2396)                     1\n",
       "Name: count, Length: 2518, dtype: int64"
      ]
     },
     "execution_count": 27,
     "metadata": {},
     "output_type": "execute_result"
    }
   ],
   "source": [
    "anno_df[anno_df['bfd_source_database'] == 'UniParc']['organism_name'].value_counts()"
   ]
  },
  {
   "cell_type": "code",
   "execution_count": 30,
   "id": "7686a7d7-2106-4572-afe6-39353cb1124d",
   "metadata": {
    "tags": []
   },
   "outputs": [
    {
     "data": {
      "text/plain": [
       "species\n",
       "undef                                  961\n",
       "Sulfurimonas gotlandica                  2\n",
       "Thiorhodococcus drewsii                  2\n",
       "Algoriphagus machipongonensis            1\n",
       "Photobacterium angustum                  1\n",
       "Pelagibacterium halotolerans             1\n",
       "Lentisphaera araneosa                    1\n",
       "Hippea maritima                          1\n",
       "Pseudoalteromonas tunicata               1\n",
       "Marinomonas posidonica                   1\n",
       "Echinicola vietnamensis                  1\n",
       "Jannaschia sp. CCS1                      1\n",
       "Cyclobacterium marinum                   1\n",
       "Shewanella woodyi                        1\n",
       "Marinobacter algicola                    1\n",
       "Methylophilales bacterium HTCC2181       1\n",
       "Saprospira grandis                       1\n",
       "Lewinella cohaerens                      1\n",
       "Hirschia baltica                         1\n",
       "Haliangium ochraceum                     1\n",
       "Ponticaulis koreensis                    1\n",
       "Aliivibrio fischeri                      1\n",
       "Planctomyces brasiliensis                1\n",
       "Fangia hongkongensis                     1\n",
       "candidate division OP10 clone OPB50      1\n",
       "Serinicoccus marinus                     1\n",
       "Shewanella sediminis                     1\n",
       "Geopsychrobacter electrodiphilus         1\n",
       "Phaeobacter gallaeciensis                1\n",
       "Pelagibaca bermudensis                   1\n",
       "Kordia algicida                          1\n",
       "Clostridium botulinum                    1\n",
       "Arcobacter sp. L                         1\n",
       "Name: count, dtype: int64"
      ]
     },
     "execution_count": 30,
     "metadata": {},
     "output_type": "execute_result"
    }
   ],
   "source": [
    "anno_df[anno_df['bfd_source_database'] == 'OM-RGC']['species'].value_counts()"
   ]
  },
  {
   "cell_type": "code",
   "execution_count": 33,
   "id": "b26dd6a9-02b3-469a-bd63-44a74bb0c671",
   "metadata": {
    "tags": []
   },
   "outputs": [
    {
     "data": {
      "text/plain": [
       "kingdom\n",
       "Bacteria     623\n",
       "undef        278\n",
       "Viruses       54\n",
       "Eukaryota     27\n",
       "Archaea       13\n",
       "Name: count, dtype: int64"
      ]
     },
     "execution_count": 33,
     "metadata": {},
     "output_type": "execute_result"
    }
   ],
   "source": [
    "anno_df[anno_df['bfd_source_database'] == 'OM-RGC']['kingdom'].value_counts()"
   ]
  },
  {
   "cell_type": "code",
   "execution_count": 34,
   "id": "0a2eda33-1abf-4fdb-a6da-5cc2dc6028da",
   "metadata": {
    "tags": []
   },
   "outputs": [
    {
     "data": {
      "text/plain": [
       "phylum\n",
       "undef              447\n",
       "Proteobacteria     363\n",
       "Bacteroidetes       66\n",
       "Cyanobacteria       35\n",
       "Actinobacteria      16\n",
       "Planctomycetes      14\n",
       "Firmicutes          10\n",
       "Verrucomicrobia      6\n",
       "Euryarchaeota        5\n",
       "Thaumarchaeota       4\n",
       "Chordata             3\n",
       "Ignavibacteriae      3\n",
       "Chloroflexi          3\n",
       "Chlorobi             2\n",
       "Marinimicrobia       2\n",
       "Fusobacteria         2\n",
       "Spirochaetes         2\n",
       "Chlorophyta          2\n",
       "Ascomycota           2\n",
       "Lentisphaerae        2\n",
       "Apicomplexa          1\n",
       "Armatimonadetes      1\n",
       "Thermotogae          1\n",
       "Streptophyta         1\n",
       "Nitrospinae          1\n",
       "Placozoa             1\n",
       "Name: count, dtype: int64"
      ]
     },
     "execution_count": 34,
     "metadata": {},
     "output_type": "execute_result"
    }
   ],
   "source": [
    "anno_df[anno_df['bfd_source_database'] == 'OM-RGC']['phylum'].value_counts()"
   ]
  },
  {
   "cell_type": "code",
   "execution_count": 31,
   "id": "e11f68e0-6784-4e8a-a1c4-1fd6ccb9ffca",
   "metadata": {
    "tags": []
   },
   "outputs": [
    {
     "data": {
      "text/plain": [
       "environmental_feature\n",
       "SRF    388\n",
       "DCM    267\n",
       "MES    118\n",
       "MIX     67\n",
       "Name: count, dtype: int64"
      ]
     },
     "execution_count": 31,
     "metadata": {},
     "output_type": "execute_result"
    }
   ],
   "source": [
    "anno_df[anno_df['bfd_source_database'] == 'OM-RGC']['environmental_feature'].value_counts()"
   ]
  },
  {
   "cell_type": "code",
   "execution_count": 24,
   "id": "a8cab7be-e248-495f-8224-0f986fda84d5",
   "metadata": {
    "tags": []
   },
   "outputs": [
    {
     "data": {
      "text/plain": [
       "0         NaN\n",
       "1         NaN\n",
       "2         NaN\n",
       "3         NaN\n",
       "4         NaN\n",
       "         ... \n",
       "270380    NaN\n",
       "270381    NaN\n",
       "270382    NaN\n",
       "272252    NaN\n",
       "273502    NaN\n",
       "Name: organism_name, Length: 31596, dtype: object"
      ]
     },
     "execution_count": 24,
     "metadata": {},
     "output_type": "execute_result"
    }
   ],
   "source": [
    "# no information about the specie\n",
    "anno_df[anno_df['bfd_source_database'] == 'JGI']"
   ]
  },
  {
   "cell_type": "code",
   "execution_count": 36,
   "id": "32fc66bd-e156-4a90-9f02-cc4b1ed1f4b5",
   "metadata": {
    "tags": []
   },
   "outputs": [],
   "source": [
    "from math import isnan"
   ]
  },
  {
   "cell_type": "markdown",
   "id": "3303673a-f808-4812-b109-b1af1bb3f429",
   "metadata": {},
   "source": [
    "Add organism column"
   ]
  },
  {
   "cell_type": "code",
   "execution_count": 41,
   "id": "6bc36caf-6d21-4af1-bfca-6e6fa6898f80",
   "metadata": {
    "tags": []
   },
   "outputs": [],
   "source": [
    "def add_organism(x):\n",
    "    if type(x['organism_name']) == str:\n",
    "        return x['organism_name']\n",
    "    elif type(x['species']) == str:\n",
    "        return x['species']\n",
    "    else:\n",
    "        return 'unknown'"
   ]
  },
  {
   "cell_type": "code",
   "execution_count": 38,
   "id": "7fb0b912-a267-4e30-abca-ed2b229719a4",
   "metadata": {
    "tags": []
   },
   "outputs": [],
   "source": [
    "anno_df_reduced = anno_df[['record_id', 'record_description', 'new_id', 'bfd_source_database','organism_name','organism_taxid','species','kingdom','phylum']]"
   ]
  },
  {
   "cell_type": "code",
   "execution_count": 39,
   "id": "a7587cf3-5ac7-4400-b6b0-544f2260f389",
   "metadata": {
    "tags": []
   },
   "outputs": [
    {
     "data": {
      "text/html": [
       "<div>\n",
       "<style scoped>\n",
       "    .dataframe tbody tr th:only-of-type {\n",
       "        vertical-align: middle;\n",
       "    }\n",
       "\n",
       "    .dataframe tbody tr th {\n",
       "        vertical-align: top;\n",
       "    }\n",
       "\n",
       "    .dataframe thead th {\n",
       "        text-align: right;\n",
       "    }\n",
       "</style>\n",
       "<table border=\"1\" class=\"dataframe\">\n",
       "  <thead>\n",
       "    <tr style=\"text-align: right;\">\n",
       "      <th></th>\n",
       "      <th>record_id</th>\n",
       "      <th>record_description</th>\n",
       "      <th>new_id</th>\n",
       "      <th>bfd_source_database</th>\n",
       "      <th>organism_name</th>\n",
       "      <th>organism_taxid</th>\n",
       "      <th>species</th>\n",
       "      <th>kingdom</th>\n",
       "      <th>phylum</th>\n",
       "    </tr>\n",
       "  </thead>\n",
       "  <tbody>\n",
       "    <tr>\n",
       "      <th>0</th>\n",
       "      <td>SRR5882724_2472406_consensus</td>\n",
       "      <td>SRR5882724_2472406_consensus</td>\n",
       "      <td>bfd_000669</td>\n",
       "      <td>SRA</td>\n",
       "      <td>soil metagenome</td>\n",
       "      <td>410658.0</td>\n",
       "      <td>NaN</td>\n",
       "      <td>NaN</td>\n",
       "      <td>NaN</td>\n",
       "    </tr>\n",
       "    <tr>\n",
       "      <th>1</th>\n",
       "      <td>SRR5882724_2472406</td>\n",
       "      <td>SRR5882724_2472406</td>\n",
       "      <td>bfd_000670</td>\n",
       "      <td>SRA</td>\n",
       "      <td>soil metagenome</td>\n",
       "      <td>410658.0</td>\n",
       "      <td>NaN</td>\n",
       "      <td>NaN</td>\n",
       "      <td>NaN</td>\n",
       "    </tr>\n",
       "    <tr>\n",
       "      <th>2</th>\n",
       "      <td>SRR6056297_4233263_consensus</td>\n",
       "      <td>SRR6056297_4233263_consensus</td>\n",
       "      <td>bfd_000671</td>\n",
       "      <td>SRA</td>\n",
       "      <td>soil metagenome</td>\n",
       "      <td>410658.0</td>\n",
       "      <td>NaN</td>\n",
       "      <td>NaN</td>\n",
       "      <td>NaN</td>\n",
       "    </tr>\n",
       "    <tr>\n",
       "      <th>3</th>\n",
       "      <td>SRR6056297_4233263</td>\n",
       "      <td>SRR6056297_4233263</td>\n",
       "      <td>bfd_000672</td>\n",
       "      <td>SRA</td>\n",
       "      <td>soil metagenome</td>\n",
       "      <td>410658.0</td>\n",
       "      <td>NaN</td>\n",
       "      <td>NaN</td>\n",
       "      <td>NaN</td>\n",
       "    </tr>\n",
       "    <tr>\n",
       "      <th>4</th>\n",
       "      <td>SRR5690606_1803171_consensus</td>\n",
       "      <td>SRR5690606_1803171_consensus</td>\n",
       "      <td>bfd_000673</td>\n",
       "      <td>SRA</td>\n",
       "      <td>soil metagenome</td>\n",
       "      <td>410658.0</td>\n",
       "      <td>NaN</td>\n",
       "      <td>NaN</td>\n",
       "      <td>NaN</td>\n",
       "    </tr>\n",
       "  </tbody>\n",
       "</table>\n",
       "</div>"
      ],
      "text/plain": [
       "                      record_id            record_description      new_id  \\\n",
       "0  SRR5882724_2472406_consensus  SRR5882724_2472406_consensus  bfd_000669   \n",
       "1            SRR5882724_2472406            SRR5882724_2472406  bfd_000670   \n",
       "2  SRR6056297_4233263_consensus  SRR6056297_4233263_consensus  bfd_000671   \n",
       "3            SRR6056297_4233263            SRR6056297_4233263  bfd_000672   \n",
       "4  SRR5690606_1803171_consensus  SRR5690606_1803171_consensus  bfd_000673   \n",
       "\n",
       "  bfd_source_database    organism_name  organism_taxid species kingdom phylum  \n",
       "0                 SRA  soil metagenome        410658.0     NaN     NaN    NaN  \n",
       "1                 SRA  soil metagenome        410658.0     NaN     NaN    NaN  \n",
       "2                 SRA  soil metagenome        410658.0     NaN     NaN    NaN  \n",
       "3                 SRA  soil metagenome        410658.0     NaN     NaN    NaN  \n",
       "4                 SRA  soil metagenome        410658.0     NaN     NaN    NaN  "
      ]
     },
     "execution_count": 39,
     "metadata": {},
     "output_type": "execute_result"
    }
   ],
   "source": [
    "anno_df_reduced.head()"
   ]
  },
  {
   "cell_type": "code",
   "execution_count": 43,
   "id": "1abbc52d-682e-41a8-b5b2-85a8a7c34688",
   "metadata": {
    "tags": []
   },
   "outputs": [
    {
     "name": "stderr",
     "output_type": "stream",
     "text": [
      "C:\\Users\\terca\\AppData\\Local\\Temp\\ipykernel_7816\\3614801282.py:1: SettingWithCopyWarning: \n",
      "A value is trying to be set on a copy of a slice from a DataFrame.\n",
      "Try using .loc[row_indexer,col_indexer] = value instead\n",
      "\n",
      "See the caveats in the documentation: https://pandas.pydata.org/pandas-docs/stable/user_guide/indexing.html#returning-a-view-versus-a-copy\n",
      "  anno_df_reduced['organism'] = anno_df_reduced.apply(lambda x: add_organism(x), axis=1)\n"
     ]
    }
   ],
   "source": [
    "anno_df_reduced['organism'] = anno_df_reduced.apply(lambda x: add_organism(x), axis=1)"
   ]
  },
  {
   "cell_type": "code",
   "execution_count": 46,
   "id": "7a52bb0e-9ec3-4a2e-8cf1-53b79dd64a8a",
   "metadata": {
    "collapsed": true,
    "jupyter": {
     "outputs_hidden": true
    },
    "tags": []
   },
   "outputs": [
    {
     "data": {
      "text/plain": [
       "organism\n",
       "soil metagenome             156239\n",
       "unknown                      48639\n",
       "marine metagenome            12075\n",
       "undef                          961\n",
       "Euryarchaeota archaeon         732\n",
       "                             ...  \n",
       "Thalassomonas viridans           1\n",
       "Shewanella frigidimarina         1\n",
       "Colwellia sp. PAMC 20917         1\n",
       "Oceanococcus atlanticus          1\n",
       "Arcobacter sp. L                 1\n",
       "Name: count, Length: 15833, dtype: int64"
      ]
     },
     "execution_count": 46,
     "metadata": {},
     "output_type": "execute_result"
    }
   ],
   "source": [
    "anno_df_reduced['organism'].value_counts()"
   ]
  },
  {
   "cell_type": "code",
   "execution_count": 49,
   "id": "8f029b3e-a908-45a9-a6a9-3760c049cfa5",
   "metadata": {
    "tags": []
   },
   "outputs": [],
   "source": [
    "anno_df_reduced = anno_df_reduced.drop(['organism_name', 'species'], axis=1)"
   ]
  },
  {
   "cell_type": "code",
   "execution_count": 50,
   "id": "38e01732-b89c-4883-b3d8-7e7791c45057",
   "metadata": {
    "tags": []
   },
   "outputs": [
    {
     "data": {
      "text/html": [
       "<div>\n",
       "<style scoped>\n",
       "    .dataframe tbody tr th:only-of-type {\n",
       "        vertical-align: middle;\n",
       "    }\n",
       "\n",
       "    .dataframe tbody tr th {\n",
       "        vertical-align: top;\n",
       "    }\n",
       "\n",
       "    .dataframe thead th {\n",
       "        text-align: right;\n",
       "    }\n",
       "</style>\n",
       "<table border=\"1\" class=\"dataframe\">\n",
       "  <thead>\n",
       "    <tr style=\"text-align: right;\">\n",
       "      <th></th>\n",
       "      <th>record_id</th>\n",
       "      <th>record_description</th>\n",
       "      <th>new_id</th>\n",
       "      <th>bfd_source_database</th>\n",
       "      <th>organism_taxid</th>\n",
       "      <th>kingdom</th>\n",
       "      <th>phylum</th>\n",
       "      <th>organism</th>\n",
       "    </tr>\n",
       "  </thead>\n",
       "  <tbody>\n",
       "    <tr>\n",
       "      <th>0</th>\n",
       "      <td>SRR5882724_2472406_consensus</td>\n",
       "      <td>SRR5882724_2472406_consensus</td>\n",
       "      <td>bfd_000669</td>\n",
       "      <td>SRA</td>\n",
       "      <td>410658.0</td>\n",
       "      <td>NaN</td>\n",
       "      <td>NaN</td>\n",
       "      <td>soil metagenome</td>\n",
       "    </tr>\n",
       "    <tr>\n",
       "      <th>1</th>\n",
       "      <td>SRR5882724_2472406</td>\n",
       "      <td>SRR5882724_2472406</td>\n",
       "      <td>bfd_000670</td>\n",
       "      <td>SRA</td>\n",
       "      <td>410658.0</td>\n",
       "      <td>NaN</td>\n",
       "      <td>NaN</td>\n",
       "      <td>soil metagenome</td>\n",
       "    </tr>\n",
       "    <tr>\n",
       "      <th>2</th>\n",
       "      <td>SRR6056297_4233263_consensus</td>\n",
       "      <td>SRR6056297_4233263_consensus</td>\n",
       "      <td>bfd_000671</td>\n",
       "      <td>SRA</td>\n",
       "      <td>410658.0</td>\n",
       "      <td>NaN</td>\n",
       "      <td>NaN</td>\n",
       "      <td>soil metagenome</td>\n",
       "    </tr>\n",
       "    <tr>\n",
       "      <th>3</th>\n",
       "      <td>SRR6056297_4233263</td>\n",
       "      <td>SRR6056297_4233263</td>\n",
       "      <td>bfd_000672</td>\n",
       "      <td>SRA</td>\n",
       "      <td>410658.0</td>\n",
       "      <td>NaN</td>\n",
       "      <td>NaN</td>\n",
       "      <td>soil metagenome</td>\n",
       "    </tr>\n",
       "    <tr>\n",
       "      <th>4</th>\n",
       "      <td>SRR5690606_1803171_consensus</td>\n",
       "      <td>SRR5690606_1803171_consensus</td>\n",
       "      <td>bfd_000673</td>\n",
       "      <td>SRA</td>\n",
       "      <td>410658.0</td>\n",
       "      <td>NaN</td>\n",
       "      <td>NaN</td>\n",
       "      <td>soil metagenome</td>\n",
       "    </tr>\n",
       "  </tbody>\n",
       "</table>\n",
       "</div>"
      ],
      "text/plain": [
       "                      record_id            record_description      new_id  \\\n",
       "0  SRR5882724_2472406_consensus  SRR5882724_2472406_consensus  bfd_000669   \n",
       "1            SRR5882724_2472406            SRR5882724_2472406  bfd_000670   \n",
       "2  SRR6056297_4233263_consensus  SRR6056297_4233263_consensus  bfd_000671   \n",
       "3            SRR6056297_4233263            SRR6056297_4233263  bfd_000672   \n",
       "4  SRR5690606_1803171_consensus  SRR5690606_1803171_consensus  bfd_000673   \n",
       "\n",
       "  bfd_source_database  organism_taxid kingdom phylum         organism  \n",
       "0                 SRA        410658.0     NaN    NaN  soil metagenome  \n",
       "1                 SRA        410658.0     NaN    NaN  soil metagenome  \n",
       "2                 SRA        410658.0     NaN    NaN  soil metagenome  \n",
       "3                 SRA        410658.0     NaN    NaN  soil metagenome  \n",
       "4                 SRA        410658.0     NaN    NaN  soil metagenome  "
      ]
     },
     "execution_count": 50,
     "metadata": {},
     "output_type": "execute_result"
    }
   ],
   "source": [
    "anno_df_reduced.head()"
   ]
  },
  {
   "cell_type": "markdown",
   "id": "3e987e5a-e90a-439b-92d6-39a4bf3f2cf0",
   "metadata": {},
   "source": [
    "Rename phylum and kingdom columns"
   ]
  },
  {
   "cell_type": "code",
   "execution_count": 51,
   "id": "3ad111e4-ca26-44b2-b1f5-84fffcf325a6",
   "metadata": {
    "tags": []
   },
   "outputs": [],
   "source": [
    "anno_df_reduced.rename(columns={'kingdom': 'source_superkingdom', 'phylum': 'source_phylum'}, inplace=True)"
   ]
  },
  {
   "cell_type": "markdown",
   "id": "d0c90b93-ef27-4fe7-887c-6a8a049ade79",
   "metadata": {},
   "source": [
    "Add taxid"
   ]
  },
  {
   "cell_type": "code",
   "execution_count": 54,
   "id": "8ce733fc-067b-4d01-960c-eee9735f0784",
   "metadata": {
    "tags": []
   },
   "outputs": [],
   "source": [
    "import taxoniq"
   ]
  },
  {
   "cell_type": "code",
   "execution_count": 83,
   "id": "8b88d0b7-8569-4bee-b06f-d5e97372992f",
   "metadata": {
    "tags": []
   },
   "outputs": [],
   "source": [
    "taxid_map = {'Brassica campestris (Field mustard)': 145471,\n",
    "             'Oryza sativa subsp. japonica (Rice)': 39947,\n",
    "             'Lingula unguis': 7574,                                                                                                                                                                                                                                                                                                                                                                                                                                                   \n",
    "             'Rhizobium loti; Mesorhizobium loti CJ3sym': 1040982,                                                                                                                                                                                                                                                                                                                                                                                                                                  \n",
    "             'Phaseolus angularis (Azuki bean)': 3914,                                                                                                                                                                                                                                                                                                                                                                                                                                           \n",
    "             'BK polyomavirus (BKPyV)': 1891762,                                                                                                                                                                                                                                                                                                                                                                                                                                                    \n",
    "             'Clostridium hathewayi CAG:224; Hungatella hathewayi': 1263067,                                                                                                                                                                                                                                                                                                                                                                                                                       \n",
    "             'Mycobacterium bovis': 1765,                                                                                                                                                                                                                                                                                                                                                                                                                                                         \n",
    "             'Elaeis guineensis var. tenera (Oil palm)': 51953,                                                                                                                                                                                                                                                                                                                                                                                                                                   \n",
    "             'Prevotella stercorea; Prevotella sp. CAG:520; Prevotella stercorea DSM 18206': 363265,                                                                                                                                                                                                                                                                                                                                                                                               \n",
    "             'Rhizobium loti; Mesorhizobium loti NZP2037': 381,                                                                                                                                                                                                                                                                                                                                                                                                                                  \n",
    "             'Enterobacter agglomerans (Erwinia herbicola); Pantoea allii': 574096,                                                                                                                                                                                                                                                                                                                                                                                                                \n",
    "             'Agrobacterium rhizogenes': 359,                                                                                                                                                                                                                                                                                                                                                                                                                                                  \n",
    "             'Hamiltonella defensa subsp. Acyrthosiphon pisum (strain 5AT)': 572265,                                                                                                                                                                                                                                                                                                                                                                                                                \n",
    "             'Botryotinia fuckeliana (strain B05.10) (Noble rot fungus); Botryotinia fuckeliana (strain BcDW1) (Noble rot fungus)': 40559,                                                                                                                                                                                                                                                                                                                                                       \n",
    "             'Blumeria graminis f. sp. hordei (strain DH14) (Barley powdery mildew)': 2867405,                                                                                                                                                                                                                                                                                                                                                                                                       \n",
    "             'Yersinia enterocolitica serotype O:8 / biotype 1B (strain NCTC 13174 / 8081); Yersinia enterocolitica': 630,                                                                                                                                                                                                                                                                                                                                                                     \n",
    "             'Cochliobolus heterostrophus (strain C5 / ATCC 48332 / race O) (Southern corn leaf blight fungus); Cochliobolus heterostrophus (strain C4 / ATCC 48331 / race T) (Southern corn leaf blight fungus); Cochliobolus heterostrophus (Southern corn leaf blight fungus)': 5016,                                                                                                                                                                                                       \n",
    "             'Haloredivivus sp. (strain G17)': 1072681,                                                                                                                                                                                                                                                                                                                                                                                                                                           \n",
    "             'Yersinia pseudotuberculosis serotype O:3 (strain YPIII); Yersinia intermedia; Yersinia pseudotuberculosis str. PA3606; Yersinia wautersii; Yersinia pseudotuberculosis B-6862; Yersinia pseudotuberculosis serotype I (strain IP32953); Yersinia pseudotuberculosis serotype IB (strain PB1/+); Yersinia pseudotuberculosis complex; Yersinia pseudotuberculosis serotype O:1b (strain IP 31758); Yersinia pseudotuberculosis NBRC 105692; Yersinia pseudotuberculosis': 633,   \n",
    "             'Pediculus humanus subsp. corporis (Body louse)': 121224,                                                                                                                                                                                                                                                                                                                                                                                                                          \n",
    "             \"Ajellomyces capsulatus (strain G186AR / H82 / ATCC MYA-2454 / RMSCC 2432) (Darling's disease fungus)\": 447093,                                                                                                                                                                                                                                                                                                                                                                    \n",
    "             'Oryza sativa subsp. indica (Rice); Oryza sativa subsp. japonica (Rice)': 39946,                                                                                                                                                                                                                                                                                                                                                                                                   \n",
    "             'Gibberella fujikuroi (Bakanae and foot rot disease fungus); Fusarium sp. NRRL 25303': 5127,                                                                                                                                                                                                                                                                                                                                                              \n",
    "             'Salmonella infantis; Salmonella enterica subsp. diarizonae serovar 60:r:e,n,x,z15 str. 01-0170; Salmonella enterica I; Salmonella enterica subsp. diarizonae serovar 60:r:e,n,x,z15; Salmonella diarizonae; Salmonella enterica': 595,                                                                                                                                                                                                           \n",
    "             'Serratia sp. (strain ATCC 39006); Enterobacterales': 616,                                                                                                                                                                                                                                                                                                                                \n",
    "             'Leptosphaeria maculans (strain JN3 / isolate v23.1.3 / race Av1-4-5-6-7-8) (Blackleg fungus)': 985895,                                                                                                                                                                                                                                                                                  \n",
    "             'Enterobacter agglomerans (Erwinia herbicola); Pantoea allii; Pantoea agglomerans pv. betae': 574096,                                                                                                                                                                                                                                                                                               \n",
    "             'Chaetomium thermophilum (strain DSM 1495 / CBS 144.50 / IMI 039719)': 759272,                                                                                                                                                                                                                                                                                                       \n",
    "             'Neovison vison (American mink)': 452646,                                                                                                                                                                                                                                                                                                                                                            \n",
    "             'Magnaporthe oryzae (strain 70-15 / ATCC MYA-4617 / FGSC 8958) (Rice blast fungus); Magnaporthe oryzae (strain Y34) (Rice blast fungus); Magnaporthe oryzae (Rice blast fungus); Magnaporthe oryzae (strain P131) (Rice blast fungus)':318829,                                                                                                                                                                                   \n",
    "             'Pelagibaca bermudensis':344736,                                                                                                                                                                                                                                                                                                                                                                    \n",
    "             'Nocardioides simplex':2045,                                                                                                                                                                                                                                                                                                                                                                  \n",
    "             'Ruminococcus gnavus':33038,                                                                                                                                                                                                                                                                                                                                                    \n",
    "             'Candida glabrata (Yeast)':5478,                                                                                                                                                                                                                                                                                                                                                                    \n",
    "             'Alcaligenes xylosoxydans xylosoxydans; Achromobacter xylosoxidans (strain A8)': 85698,                                                                                                                                                                                                                                                                                               \n",
    "             'Gibberella fujikuroi (Bakanae and foot rot disease fungus)':5127,                                                                                                                                                                                                                                                                                                                                                    \n",
    "             'Handelsmanbacteria sp. (strain RIFCSPLOWO2_12_FULL_64_10)':1817806,                                                                                                                                                                                                                                                                                                                                                           \n",
    "             'Hapsidospora chrysogenum (strain ATCC 11550 / CBS 779.69 / DSM 880 / IAM 14645 / JCM 23072 / IMI 49137)':857340,                                                                                                                                                                                                                                                                                               \n",
    "             'Muricauda ruestringensis; Muricauda ruestringensis (strain DSM 13258 / CIP 107369 / LMG 19739 / B1)':111501,                                                                                                                                                                                                                                                                                                          \n",
    "             'Salmonella thompson; Salmonella infantis; Salmonella enterica subsp. enterica serovar Hartford; Salmonella newport; Salmonella enterica subsp. enterica serovar Heidelberg; Salmonella enterica subsp. enterica serovar Ohio; Salmonella enteritidis; Salmonella enterica subsp. enterica serovar Saintpaul; Salmonella enterica; Salmonella typhimurium': 600,                                                                \n",
    "             'Papio hamadryas ursinus (Chacma baboon)':36229,                                                                                                                                                                                                                                                                                                                                                                                           \n",
    "             'Gibberella zeae (strain ATCC MYA-4620 / CBS 123657 / FGSC 9075 / NRRL 31084 / PH-1) (Wheat head blight fungus); Gibberella zeae (Wheat head blight fungus)': 5518,                                                                                                                                                                                                                                                                        \n",
    "             'Pseudallescheria apiosperma':563466,                                                                                                                                                                                                                                                                                                                                                                                           \n",
    "             'Prevotella stercorea CAG:629': 1263103,                                                                                                                                                                                                                                                                                                                                                                                          \n",
    "             'Magnaporthe oryzae (strain 70-15 / ATCC MYA-4617 / FGSC 8958) (Rice blast fungus); Magnaporthe oryzae (strain Y34) (Rice blast fungus); Magnaporthe oryzae (strain P131) (Rice blast fungus)':242507,                                                                                                                                                                                                                             \n",
    "             'Chlamydia trachomatis serovar G (strain G/11074); Chlamydia trachomatis D/CS637/11; Chlamydia trachomatis serovar G (strain G/9301); Chlamydia trachomatis; Chlamydia trachomatis IU888; Chlamydia trachomatis E/SotonE4; Chlamydia trachomatis D(s)2923; Chlamydia trachomatis F/SotonF3; Chlamydia trachomatis IU824; Chlamydia trachomatis serovar G (strain G/9768)':813,                               \n",
    "             'Rhizobium loti; Mesorhizobium sp. L48C026A00':381,                                                                                                                                                                                                                                                                                                                                                          \n",
    "             'Buchnera aphidicola subsp. Myzus persicae; Buchnera aphidicola; Buchnera aphidicola str. USDA (Myzus persicae); Buchnera aphidicola str. G002 (Myzus persicae); Buchnera aphidicola str. F009 (Myzus persicae); Buchnera aphidicola str. W106 (Myzus persicae)':98795,                                                                                                                                                    \n",
    "             'Rhizobium loti; Mesorhizobium sp. LNJC403B00':381,                                                                                                                                                                                                                                                                                                                                                                           \n",
    "             'Enterobacter agglomerans (Erwinia herbicola)':549,                                                                                                                                                                                                                                                                                                                                                             \n",
    "             'Bacillus sp. (strain OxB-1)':1409,                                                                                                                                                                                                                                                                                                                                                                                   \n",
    "             'Salmonella paratyphi A; Salmonella enterica':54388,                                                                                                                                                                                                                                                                                                                                         \n",
    "             'Rhodococcus hoagii':43767,                                                                                                                                                                                                                                                                                                                                                                                                                  \n",
    "             'Alkalihalobacillus clausii; Alkalihalobacillus clausii (strain KSM-K16)':79880,                                                                                                                                                                                                                                                                                                                                                          \n",
    "             'Enterobacter lignolyticus (strain SCF1); [Enterobacter] lignolyticus':1334193,                                                                                                                                                                                                                                                                                                                                                           \n",
    "             'Eubacterium cellulosolvens; [Eubacterium] cellulosolvens 6':29322,                                                                                                                                                                                                                                                                                                                                       \n",
    "             'Halothece sp. (strain PCC 7418)':65093,                                                                                                                                                                                                                                                                                                                                                                                       \n",
    "             'Planctomyces brasiliensis':119,\n",
    "             'Rhaphiolepis bibas':32224,\n",
    "             'Bradyrhizobium sp. UFLA 03-321':1419277,\n",
    "             'Muricauda antarctica':1005926\n",
    "            }"
   ]
  },
  {
   "cell_type": "code",
   "execution_count": 84,
   "id": "7b421158-9cec-42dc-b3ce-ee66dfe74ba7",
   "metadata": {
    "tags": []
   },
   "outputs": [],
   "source": [
    "def get_tax_id(x):\n",
    "    try:\n",
    "        t = taxoniq.Taxon(scientific_name=x['organism'])\n",
    "        return t.tax_id\n",
    "    except:\n",
    "        try:\n",
    "            name = x['organism']\n",
    "            if ';' in name:\n",
    "                name = name.split(';')[0]\n",
    "            if ' (' in name:\n",
    "                name = name.split(' (')[0]\n",
    "            t = taxoniq.Taxon(scientific_name=name)\n",
    "            return t.tax_id\n",
    "        except:\n",
    "            if x['organism'] in taxid_map.keys():\n",
    "                return taxid_map[x['organism']]\n",
    "            if isnan(x['organism_taxid']):\n",
    "                return 'error'\n",
    "            else:\n",
    "                return x['organism_taxid']"
   ]
  },
  {
   "cell_type": "code",
   "execution_count": 85,
   "id": "7f69037a-ff02-4559-b6f8-e013fcd484c6",
   "metadata": {
    "tags": []
   },
   "outputs": [],
   "source": [
    "anno_df_reduced['tax_id'] = anno_df_reduced.apply(lambda x: get_tax_id(x), axis=1)"
   ]
  },
  {
   "cell_type": "code",
   "execution_count": 73,
   "id": "dca578af-2677-4781-a962-db7ab825dfe2",
   "metadata": {
    "tags": []
   },
   "outputs": [
    {
     "data": {
      "text/plain": [
       "organism\n",
       "undef    961\n",
       "Name: count, dtype: int64"
      ]
     },
     "execution_count": 73,
     "metadata": {},
     "output_type": "execute_result"
    }
   ],
   "source": [
    "anno_df_reduced[(anno_df_reduced['tax_id'] == 'error') & (anno_df_reduced['organism'] != 'unknown')]['organism'].value_counts()"
   ]
  },
  {
   "cell_type": "code",
   "execution_count": 74,
   "id": "bde7442e-e31c-444e-b910-b3fc2d123aca",
   "metadata": {
    "tags": []
   },
   "outputs": [],
   "source": [
    "def add_lineage(x):\n",
    "    try:\n",
    "        t = taxoniq.Taxon(x)\n",
    "        lineage = dict()\n",
    "        for line in t.ranked_lineage:\n",
    "            lineage[line.rank.name] = line.scientific_name\n",
    "        return lineage\n",
    "    except:\n",
    "        return 'error'"
   ]
  },
  {
   "cell_type": "code",
   "execution_count": 86,
   "id": "bc0af2cc-4e5c-4157-aa9c-e97ee63485f5",
   "metadata": {
    "tags": []
   },
   "outputs": [],
   "source": [
    "anno_df_reduced['lineage'] = anno_df_reduced['tax_id'].apply(lambda x: add_lineage(x))"
   ]
  },
  {
   "cell_type": "code",
   "execution_count": 92,
   "id": "41fc949e-0ab8-48c7-9467-d7cb310b3b53",
   "metadata": {
    "tags": []
   },
   "outputs": [],
   "source": [
    "def add_line(x, line):\n",
    "    try:\n",
    "        return x['lineage'][line]\n",
    "    except:\n",
    "        if line == 'superkingdom':\n",
    "            if type(x['source_superkingdom']) == str:\n",
    "                return x['source_superkingdom']\n",
    "        elif line == 'phylum':\n",
    "            if type(x['source_phylum']) == str:\n",
    "                return x['source_phylum']\n",
    "        return 'unknown'"
   ]
  },
  {
   "cell_type": "code",
   "execution_count": 93,
   "id": "33d8005d-f786-4aa0-917e-84360711f757",
   "metadata": {
    "tags": []
   },
   "outputs": [],
   "source": [
    "anno_df_reduced['superkingdom'] = anno_df_reduced.apply(lambda x: add_line(x, 'superkingdom'), axis=1)"
   ]
  },
  {
   "cell_type": "code",
   "execution_count": 97,
   "id": "be9bae94-7603-4fa4-9cca-e9842d1ea8ec",
   "metadata": {
    "tags": []
   },
   "outputs": [],
   "source": [
    "anno_df_reduced['kingdom'] = anno_df_reduced.apply(lambda x: add_line(x, 'kingdom'), axis=1)"
   ]
  },
  {
   "cell_type": "code",
   "execution_count": 107,
   "id": "c7f0088f-6aee-4822-bc3e-6661100cd7cd",
   "metadata": {
    "tags": []
   },
   "outputs": [],
   "source": [
    "anno_df_reduced['phylum'] = anno_df_reduced.apply(lambda x: add_line(x, 'phylum'), axis=1)"
   ]
  },
  {
   "cell_type": "code",
   "execution_count": 109,
   "id": "e5a690bf-77c7-4de3-83c6-20a7e4c31d06",
   "metadata": {
    "tags": []
   },
   "outputs": [
    {
     "data": {
      "text/plain": [
       "superkingdom\n",
       "unknown      217212\n",
       "Bacteria      35122\n",
       "Eukaryota     18579\n",
       "Archaea        2247\n",
       "undef           278\n",
       "Viruses          97\n",
       "Name: count, dtype: int64"
      ]
     },
     "execution_count": 109,
     "metadata": {},
     "output_type": "execute_result"
    }
   ],
   "source": [
    "anno_df_reduced['superkingdom'].value_counts()"
   ]
  },
  {
   "cell_type": "code",
   "execution_count": 110,
   "id": "bc31070f-67a7-474b-bf87-402cdb78c9ed",
   "metadata": {
    "tags": []
   },
   "outputs": [
    {
     "data": {
      "text/plain": [
       "kingdom\n",
       "unknown           255853\n",
       "Viridiplantae       8087\n",
       "Fungi               7365\n",
       "Metazoa             2188\n",
       "Pararnavirae          18\n",
       "Orthornavirae         11\n",
       "Heunggongvirae         5\n",
       "Bamfordvirae           4\n",
       "Shotokuvirae           4\n",
       "Name: count, dtype: int64"
      ]
     },
     "execution_count": 110,
     "metadata": {},
     "output_type": "execute_result"
    }
   ],
   "source": [
    "anno_df_reduced['kingdom'].value_counts()"
   ]
  },
  {
   "cell_type": "code",
   "execution_count": 112,
   "id": "9ed501f3-5306-480f-9d6f-d3062885651a",
   "metadata": {
    "tags": []
   },
   "outputs": [
    {
     "data": {
      "text/plain": [
       "273535"
      ]
     },
     "execution_count": 112,
     "metadata": {},
     "output_type": "execute_result"
    }
   ],
   "source": [
    "anno_df_reduced.shape[0]"
   ]
  },
  {
   "cell_type": "code",
   "execution_count": 118,
   "id": "2c775554-32fd-4905-a0c8-ba14dfb80e59",
   "metadata": {
    "tags": []
   },
   "outputs": [
    {
     "data": {
      "text/plain": [
       "17.78163671924982"
      ]
     },
     "execution_count": 118,
     "metadata": {},
     "output_type": "execute_result"
    }
   ],
   "source": [
    "anno_df_reduced[anno_df_reduced['organism'] == 'unknown'].shape[0] / anno_df_reduced.shape[0] *100"
   ]
  },
  {
   "cell_type": "markdown",
   "id": "7bdae814-18fb-424c-86ba-fe5154d1943c",
   "metadata": {},
   "source": [
    "Shall I put the metagenome as the kingdom?"
   ]
  },
  {
   "cell_type": "code",
   "execution_count": 119,
   "id": "be715722-90d3-42f1-9562-0693ff18c744",
   "metadata": {
    "tags": []
   },
   "outputs": [],
   "source": [
    "anno_df_reduced.to_csv('bfd_mapping_annotated_lin.csv')"
   ]
  },
  {
   "cell_type": "markdown",
   "id": "5091eb7c-8108-43f4-95b1-a3f68ca6339c",
   "metadata": {},
   "source": [
    "## Change metagenomic lineage"
   ]
  },
  {
   "cell_type": "code",
   "execution_count": 120,
   "id": "0f0b26c8-ea4d-4b3d-abdc-f55eed18a4de",
   "metadata": {},
   "outputs": [
    {
     "name": "stderr",
     "output_type": "stream",
     "text": [
      "C:\\Users\\terca\\AppData\\Local\\Temp\\ipykernel_7816\\3910709761.py:2: DtypeWarning: Columns (6,7) have mixed types. Specify dtype option on import or set low_memory=False.\n",
      "  anno_df = pd.read_csv('bfd_mapping_annotated_lin.csv', index_col=0)\n"
     ]
    }
   ],
   "source": [
    "import pandas as pd\n",
    "anno_df = pd.read_csv('bfd_mapping_annotated_lin.csv', index_col=0)"
   ]
  },
  {
   "cell_type": "code",
   "execution_count": 125,
   "id": "53d9f901-bf49-4a8f-88c8-399e137983f3",
   "metadata": {
    "tags": []
   },
   "outputs": [
    {
     "name": "stdout",
     "output_type": "stream",
     "text": [
      "soil metagenome\n",
      "unknown\n",
      "marine metagenome\n",
      "marine sediment metagenome\n",
      "mine drainage metagenome\n",
      "synthetic construct\n",
      "hydrothermal vent metagenome\n",
      "freshwater metagenome\n",
      "hydrocarbon metagenome\n",
      "gut metagenome\n",
      "groundwater metagenome\n",
      "uncultured microorganism\n",
      "uncultured prokaryote\n",
      "sediment metagenome\n",
      "Human ORFeome Gateway entry vector; Homo sapiens (Human); synthetic construct\n",
      "unidentified; Bos taurus (Bovine); synthetic construct\n",
      "marine sediment metagenome; Maribacter sp.\n",
      "unidentified; Human immunodeficiency virus\n",
      "unidentified\n",
      "uncultured marine microorganism HF4000_APKG2H5\n",
      "plant metagenome; Orrella dioscoreae\n",
      "unidentified; Influenza A virus\n",
      "wastewater metagenome\n",
      "uncultured marine microorganism HF4000_APKG1C9\n",
      "uncultured marine microorganism HF4000_APKG7H23\n",
      "human gut metagenome\n",
      "artificial sequences; synthetic construct\n"
     ]
    }
   ],
   "source": [
    "for org in anno_df[anno_df['superkingdom']=='unknown']['organism'].value_counts().index:\n",
    "    print(org)"
   ]
  },
  {
   "cell_type": "code",
   "execution_count": 129,
   "id": "c00d07da-a7bd-4edc-a898-5237e2def65d",
   "metadata": {
    "tags": []
   },
   "outputs": [],
   "source": [
    "metagenomic_classes = ['engineered','environmental','host-associated','mixed','unknown']"
   ]
  },
  {
   "cell_type": "code",
   "execution_count": 147,
   "id": "cd6d15a5-1a27-4d90-93ec-d7b77c2ff683",
   "metadata": {},
   "outputs": [],
   "source": [
    "metagenomic_d = {}\n",
    "for mclass in metagenomic_classes:\n",
    "    with open(f'../metagenomes/{mclass}.txt','r') as in_handle:\n",
    "        l = [line.strip() for line in in_handle.readlines()]\n",
    "    metagenomic_d[mclass] = l"
   ]
  },
  {
   "cell_type": "code",
   "execution_count": 148,
   "id": "4c29c67e-d41e-433d-b17a-a35795c9b30a",
   "metadata": {
    "tags": []
   },
   "outputs": [],
   "source": [
    "metagenomic_l = []\n",
    "for l in metagenomic_d.values():\n",
    "    metagenomic_l.extend(l)"
   ]
  },
  {
   "cell_type": "code",
   "execution_count": 149,
   "id": "970053af-bf51-4dad-9880-f786e1e73633",
   "metadata": {
    "collapsed": true,
    "jupyter": {
     "outputs_hidden": true
    },
    "tags": []
   },
   "outputs": [
    {
     "data": {
      "text/plain": [
       "{'engineered': ['synthetic construct',\n",
       "  'artificial sequences',\n",
       "  'artificial sequences; synthetic construct'],\n",
       " 'environmental': ['marine plankton metagenome',\n",
       "  'seawater metagenome',\n",
       "  'freshwater metagenome',\n",
       "  'wood decay metagenome',\n",
       "  'soil metagenome',\n",
       "  'aquatic metagenome',\n",
       "  'marine metagenome',\n",
       "  'decomposition metagenome',\n",
       "  'estuary metagenome',\n",
       "  'compost metagenome',\n",
       "  'hydrothermal vent metagenome',\n",
       "  'subsurface metagenome',\n",
       "  'marine sediment metagenome',\n",
       "  'mine drainage metagenome',\n",
       "  'bioreactor metagenome',\n",
       "  'hydrocarbon metagenome',\n",
       "  'groundwater metagenome',\n",
       "  'seawater metagenome',\n",
       "  'biofilm metagenome',\n",
       "  'hot springs metagenome',\n",
       "  'sediment metagenome',\n",
       "  'food metagenome',\n",
       "  'fermentation metagenome',\n",
       "  'wastewater metagenome'],\n",
       " 'host-associated': ['sponge metagenome',\n",
       "  'endophyte metagenome',\n",
       "  'insect metagenome',\n",
       "  'insect gut metagenome',\n",
       "  'mite metagenome',\n",
       "  'coral metagenome',\n",
       "  'invertebrate metagenome',\n",
       "  'gut metagenome',\n",
       "  'termite gut metagenome',\n",
       "  'human gut metagenome',\n",
       "  'Candidatus Dormibacter sp. RRmetagenome_bin12',\n",
       "  'algae metagenome',\n",
       "  'ciliate metagenome',\n",
       "  'plant metagenome'],\n",
       " 'mixed': ['mixed sample'],\n",
       " 'unknown': ['metagenome']}"
      ]
     },
     "execution_count": 149,
     "metadata": {},
     "output_type": "execute_result"
    }
   ],
   "source": [
    "metagenomic_d"
   ]
  },
  {
   "cell_type": "code",
   "execution_count": 137,
   "id": "d4535876-5e2b-4d41-b28b-5ef98d3db827",
   "metadata": {
    "collapsed": true,
    "jupyter": {
     "outputs_hidden": true
    },
    "tags": []
   },
   "outputs": [
    {
     "data": {
      "text/plain": [
       "['synthetic construct',\n",
       " 'marine plankton metagenome',\n",
       " 'seawater metagenome',\n",
       " 'freshwater metagenome',\n",
       " 'wood decay metagenome',\n",
       " 'soil metagenome',\n",
       " 'aquatic metagenome',\n",
       " 'marine metagenome',\n",
       " 'decomposition metagenome',\n",
       " 'estuary metagenome',\n",
       " 'compost metagenome',\n",
       " 'hydrothermal vent metagenome',\n",
       " 'subsurface metagenome',\n",
       " 'marine sediment metagenome',\n",
       " 'mine drainage metagenome',\n",
       " 'bioreactor metagenome',\n",
       " 'hydrocarbon metagenome',\n",
       " 'groundwater metagenome',\n",
       " 'seawater metagenome',\n",
       " 'biofilm metagenome',\n",
       " 'hot springs metagenome',\n",
       " 'sediment metagenome',\n",
       " 'food metagenome',\n",
       " 'fermentation metagenome',\n",
       " 'sponge metagenome',\n",
       " 'endophyte metagenome',\n",
       " 'insect metagenome',\n",
       " 'insect gut metagenome',\n",
       " 'mite metagenome',\n",
       " 'coral metagenome',\n",
       " 'invertebrate metagenome',\n",
       " 'gut metagenome',\n",
       " 'termite gut metagenome',\n",
       " 'human gut metagenome',\n",
       " 'Candidatus Dormibacter sp. RRmetagenome_bin12',\n",
       " 'algae metagenome',\n",
       " 'ciliate metagenome',\n",
       " 'plant metagenome',\n",
       " 'mixed sample',\n",
       " 'metagenome']"
      ]
     },
     "execution_count": 137,
     "metadata": {},
     "output_type": "execute_result"
    }
   ],
   "source": [
    "metagenomic_l"
   ]
  },
  {
   "cell_type": "code",
   "execution_count": 154,
   "id": "57996a7a-5177-4c18-bdad-ed71b1ea3eb0",
   "metadata": {
    "tags": []
   },
   "outputs": [],
   "source": [
    "def add_metagenomic_info(x):\n",
    "    if (x['superkingdom'] == 'unknown') and (x['kingdom'] == 'unknown'): #and ('metagenom' in x['organism']):\n",
    "        if x['organism'] in metagenomic_l:\n",
    "            for mclass, mlist in metagenomic_d.items():\n",
    "                if x['organism'] in mlist:\n",
    "                    return ('Metagenome', mclass)\n",
    "    return (x['superkingdom'], x['kingdom'])"
   ]
  },
  {
   "cell_type": "code",
   "execution_count": 155,
   "id": "518b790d-50a9-404e-8339-973318c2945d",
   "metadata": {
    "tags": []
   },
   "outputs": [],
   "source": [
    "anno_df[['superkingdom','kingdom']] = anno_df.apply(lambda x: add_metagenomic_info(x), axis=1, result_type='expand')"
   ]
  },
  {
   "cell_type": "code",
   "execution_count": 156,
   "id": "d3b90b9c-da40-4991-ba75-e82463dc252e",
   "metadata": {
    "tags": []
   },
   "outputs": [
    {
     "data": {
      "text/html": [
       "<div>\n",
       "<style scoped>\n",
       "    .dataframe tbody tr th:only-of-type {\n",
       "        vertical-align: middle;\n",
       "    }\n",
       "\n",
       "    .dataframe tbody tr th {\n",
       "        vertical-align: top;\n",
       "    }\n",
       "\n",
       "    .dataframe thead th {\n",
       "        text-align: right;\n",
       "    }\n",
       "</style>\n",
       "<table border=\"1\" class=\"dataframe\">\n",
       "  <thead>\n",
       "    <tr style=\"text-align: right;\">\n",
       "      <th></th>\n",
       "      <th>record_id</th>\n",
       "      <th>record_description</th>\n",
       "      <th>new_id</th>\n",
       "      <th>bfd_source_database</th>\n",
       "      <th>organism_taxid</th>\n",
       "      <th>source_superkingdom</th>\n",
       "      <th>source_phylum</th>\n",
       "      <th>organism</th>\n",
       "      <th>tax_id</th>\n",
       "      <th>lineage</th>\n",
       "      <th>superkingdom</th>\n",
       "      <th>kingdom</th>\n",
       "      <th>phylum</th>\n",
       "    </tr>\n",
       "  </thead>\n",
       "  <tbody>\n",
       "    <tr>\n",
       "      <th>0</th>\n",
       "      <td>SRR5882724_2472406_consensus</td>\n",
       "      <td>SRR5882724_2472406_consensus</td>\n",
       "      <td>bfd_000669</td>\n",
       "      <td>SRA</td>\n",
       "      <td>410658.0</td>\n",
       "      <td>NaN</td>\n",
       "      <td>NaN</td>\n",
       "      <td>soil metagenome</td>\n",
       "      <td>410658</td>\n",
       "      <td>{'species': 'soil metagenome'}</td>\n",
       "      <td>Metagenome</td>\n",
       "      <td>environmental</td>\n",
       "      <td>unknown</td>\n",
       "    </tr>\n",
       "    <tr>\n",
       "      <th>1</th>\n",
       "      <td>SRR5882724_2472406</td>\n",
       "      <td>SRR5882724_2472406</td>\n",
       "      <td>bfd_000670</td>\n",
       "      <td>SRA</td>\n",
       "      <td>410658.0</td>\n",
       "      <td>NaN</td>\n",
       "      <td>NaN</td>\n",
       "      <td>soil metagenome</td>\n",
       "      <td>410658</td>\n",
       "      <td>{'species': 'soil metagenome'}</td>\n",
       "      <td>Metagenome</td>\n",
       "      <td>environmental</td>\n",
       "      <td>unknown</td>\n",
       "    </tr>\n",
       "    <tr>\n",
       "      <th>2</th>\n",
       "      <td>SRR6056297_4233263_consensus</td>\n",
       "      <td>SRR6056297_4233263_consensus</td>\n",
       "      <td>bfd_000671</td>\n",
       "      <td>SRA</td>\n",
       "      <td>410658.0</td>\n",
       "      <td>NaN</td>\n",
       "      <td>NaN</td>\n",
       "      <td>soil metagenome</td>\n",
       "      <td>410658</td>\n",
       "      <td>{'species': 'soil metagenome'}</td>\n",
       "      <td>Metagenome</td>\n",
       "      <td>environmental</td>\n",
       "      <td>unknown</td>\n",
       "    </tr>\n",
       "    <tr>\n",
       "      <th>3</th>\n",
       "      <td>SRR6056297_4233263</td>\n",
       "      <td>SRR6056297_4233263</td>\n",
       "      <td>bfd_000672</td>\n",
       "      <td>SRA</td>\n",
       "      <td>410658.0</td>\n",
       "      <td>NaN</td>\n",
       "      <td>NaN</td>\n",
       "      <td>soil metagenome</td>\n",
       "      <td>410658</td>\n",
       "      <td>{'species': 'soil metagenome'}</td>\n",
       "      <td>Metagenome</td>\n",
       "      <td>environmental</td>\n",
       "      <td>unknown</td>\n",
       "    </tr>\n",
       "    <tr>\n",
       "      <th>4</th>\n",
       "      <td>SRR5690606_1803171_consensus</td>\n",
       "      <td>SRR5690606_1803171_consensus</td>\n",
       "      <td>bfd_000673</td>\n",
       "      <td>SRA</td>\n",
       "      <td>410658.0</td>\n",
       "      <td>NaN</td>\n",
       "      <td>NaN</td>\n",
       "      <td>soil metagenome</td>\n",
       "      <td>410658</td>\n",
       "      <td>{'species': 'soil metagenome'}</td>\n",
       "      <td>Metagenome</td>\n",
       "      <td>environmental</td>\n",
       "      <td>unknown</td>\n",
       "    </tr>\n",
       "    <tr>\n",
       "      <th>...</th>\n",
       "      <td>...</td>\n",
       "      <td>...</td>\n",
       "      <td>...</td>\n",
       "      <td>...</td>\n",
       "      <td>...</td>\n",
       "      <td>...</td>\n",
       "      <td>...</td>\n",
       "      <td>...</td>\n",
       "      <td>...</td>\n",
       "      <td>...</td>\n",
       "      <td>...</td>\n",
       "      <td>...</td>\n",
       "      <td>...</td>\n",
       "    </tr>\n",
       "    <tr>\n",
       "      <th>268239</th>\n",
       "      <td>Dee2metaT_26_FD_contig_21_2097026_length_361_m...</td>\n",
       "      <td>Dee2metaT_26_FD_contig_21_2097026_length_361_m...</td>\n",
       "      <td>bfd_268239</td>\n",
       "      <td>Other</td>\n",
       "      <td>NaN</td>\n",
       "      <td>NaN</td>\n",
       "      <td>NaN</td>\n",
       "      <td>unknown</td>\n",
       "      <td>error</td>\n",
       "      <td>error</td>\n",
       "      <td>unknown</td>\n",
       "      <td>unknown</td>\n",
       "      <td>unknown</td>\n",
       "    </tr>\n",
       "    <tr>\n",
       "      <th>268240</th>\n",
       "      <td>AmaraimetaFIIA01_FD_contig_81_1078205_length_2...</td>\n",
       "      <td>AmaraimetaFIIA01_FD_contig_81_1078205_length_2...</td>\n",
       "      <td>bfd_268240</td>\n",
       "      <td>Other</td>\n",
       "      <td>NaN</td>\n",
       "      <td>NaN</td>\n",
       "      <td>NaN</td>\n",
       "      <td>unknown</td>\n",
       "      <td>error</td>\n",
       "      <td>error</td>\n",
       "      <td>unknown</td>\n",
       "      <td>unknown</td>\n",
       "      <td>unknown</td>\n",
       "    </tr>\n",
       "    <tr>\n",
       "      <th>268241</th>\n",
       "      <td>1185.fasta_scaffold1718379_1</td>\n",
       "      <td>1185.fasta_scaffold1718379_1 # 1 # 201 # -1 # ...</td>\n",
       "      <td>bfd_268241</td>\n",
       "      <td>Other</td>\n",
       "      <td>NaN</td>\n",
       "      <td>NaN</td>\n",
       "      <td>NaN</td>\n",
       "      <td>unknown</td>\n",
       "      <td>error</td>\n",
       "      <td>error</td>\n",
       "      <td>unknown</td>\n",
       "      <td>unknown</td>\n",
       "      <td>unknown</td>\n",
       "    </tr>\n",
       "    <tr>\n",
       "      <th>269315</th>\n",
       "      <td>JI71714B2RNA_FD_contig_31_3048430_length_247_m...</td>\n",
       "      <td>JI71714B2RNA_FD_contig_31_3048430_length_247_m...</td>\n",
       "      <td>bfd_269315</td>\n",
       "      <td>Other</td>\n",
       "      <td>NaN</td>\n",
       "      <td>NaN</td>\n",
       "      <td>NaN</td>\n",
       "      <td>unknown</td>\n",
       "      <td>error</td>\n",
       "      <td>error</td>\n",
       "      <td>unknown</td>\n",
       "      <td>unknown</td>\n",
       "      <td>unknown</td>\n",
       "    </tr>\n",
       "    <tr>\n",
       "      <th>269557</th>\n",
       "      <td>Dee2metaT_33_FD_contig_21_1472196_length_267_m...</td>\n",
       "      <td>Dee2metaT_33_FD_contig_21_1472196_length_267_m...</td>\n",
       "      <td>bfd_269557</td>\n",
       "      <td>Other</td>\n",
       "      <td>NaN</td>\n",
       "      <td>NaN</td>\n",
       "      <td>NaN</td>\n",
       "      <td>unknown</td>\n",
       "      <td>error</td>\n",
       "      <td>error</td>\n",
       "      <td>unknown</td>\n",
       "      <td>unknown</td>\n",
       "      <td>unknown</td>\n",
       "    </tr>\n",
       "  </tbody>\n",
       "</table>\n",
       "<p>273535 rows × 13 columns</p>\n",
       "</div>"
      ],
      "text/plain": [
       "                                                record_id  \\\n",
       "0                            SRR5882724_2472406_consensus   \n",
       "1                                      SRR5882724_2472406   \n",
       "2                            SRR6056297_4233263_consensus   \n",
       "3                                      SRR6056297_4233263   \n",
       "4                            SRR5690606_1803171_consensus   \n",
       "...                                                   ...   \n",
       "268239  Dee2metaT_26_FD_contig_21_2097026_length_361_m...   \n",
       "268240  AmaraimetaFIIA01_FD_contig_81_1078205_length_2...   \n",
       "268241                       1185.fasta_scaffold1718379_1   \n",
       "269315  JI71714B2RNA_FD_contig_31_3048430_length_247_m...   \n",
       "269557  Dee2metaT_33_FD_contig_21_1472196_length_267_m...   \n",
       "\n",
       "                                       record_description      new_id  \\\n",
       "0                            SRR5882724_2472406_consensus  bfd_000669   \n",
       "1                                      SRR5882724_2472406  bfd_000670   \n",
       "2                            SRR6056297_4233263_consensus  bfd_000671   \n",
       "3                                      SRR6056297_4233263  bfd_000672   \n",
       "4                            SRR5690606_1803171_consensus  bfd_000673   \n",
       "...                                                   ...         ...   \n",
       "268239  Dee2metaT_26_FD_contig_21_2097026_length_361_m...  bfd_268239   \n",
       "268240  AmaraimetaFIIA01_FD_contig_81_1078205_length_2...  bfd_268240   \n",
       "268241  1185.fasta_scaffold1718379_1 # 1 # 201 # -1 # ...  bfd_268241   \n",
       "269315  JI71714B2RNA_FD_contig_31_3048430_length_247_m...  bfd_269315   \n",
       "269557  Dee2metaT_33_FD_contig_21_1472196_length_267_m...  bfd_269557   \n",
       "\n",
       "       bfd_source_database  organism_taxid source_superkingdom source_phylum  \\\n",
       "0                      SRA        410658.0                 NaN           NaN   \n",
       "1                      SRA        410658.0                 NaN           NaN   \n",
       "2                      SRA        410658.0                 NaN           NaN   \n",
       "3                      SRA        410658.0                 NaN           NaN   \n",
       "4                      SRA        410658.0                 NaN           NaN   \n",
       "...                    ...             ...                 ...           ...   \n",
       "268239               Other             NaN                 NaN           NaN   \n",
       "268240               Other             NaN                 NaN           NaN   \n",
       "268241               Other             NaN                 NaN           NaN   \n",
       "269315               Other             NaN                 NaN           NaN   \n",
       "269557               Other             NaN                 NaN           NaN   \n",
       "\n",
       "               organism  tax_id                         lineage superkingdom  \\\n",
       "0       soil metagenome  410658  {'species': 'soil metagenome'}   Metagenome   \n",
       "1       soil metagenome  410658  {'species': 'soil metagenome'}   Metagenome   \n",
       "2       soil metagenome  410658  {'species': 'soil metagenome'}   Metagenome   \n",
       "3       soil metagenome  410658  {'species': 'soil metagenome'}   Metagenome   \n",
       "4       soil metagenome  410658  {'species': 'soil metagenome'}   Metagenome   \n",
       "...                 ...     ...                             ...          ...   \n",
       "268239          unknown   error                           error      unknown   \n",
       "268240          unknown   error                           error      unknown   \n",
       "268241          unknown   error                           error      unknown   \n",
       "269315          unknown   error                           error      unknown   \n",
       "269557          unknown   error                           error      unknown   \n",
       "\n",
       "              kingdom   phylum  \n",
       "0       environmental  unknown  \n",
       "1       environmental  unknown  \n",
       "2       environmental  unknown  \n",
       "3       environmental  unknown  \n",
       "4       environmental  unknown  \n",
       "...               ...      ...  \n",
       "268239        unknown  unknown  \n",
       "268240        unknown  unknown  \n",
       "268241        unknown  unknown  \n",
       "269315        unknown  unknown  \n",
       "269557        unknown  unknown  \n",
       "\n",
       "[273535 rows x 13 columns]"
      ]
     },
     "execution_count": 156,
     "metadata": {},
     "output_type": "execute_result"
    }
   ],
   "source": [
    "anno_df"
   ]
  },
  {
   "cell_type": "code",
   "execution_count": 157,
   "id": "052897a6-51a4-4843-b8bc-0d5d0bee89e2",
   "metadata": {
    "tags": []
   },
   "outputs": [
    {
     "data": {
      "text/plain": [
       "organism\n",
       "uncultured prokaryote                                                            2\n",
       "uncultured microorganism                                                         2\n",
       "uncultured marine microorganism HF4000_APKG7H23                                  1\n",
       "uncultured marine microorganism HF4000_APKG2H5                                   1\n",
       "uncultured marine microorganism HF4000_APKG1C9                                   1\n",
       "unidentified; Influenza A virus                                                  1\n",
       "plant metagenome; Orrella dioscoreae                                             1\n",
       "unidentified; Bos taurus (Bovine); synthetic construct                           1\n",
       "unidentified                                                                     1\n",
       "unidentified; Human immunodeficiency virus                                       1\n",
       "marine sediment metagenome; Maribacter sp.                                       1\n",
       "Human ORFeome Gateway entry vector; Homo sapiens (Human); synthetic construct    1\n",
       "Name: count, dtype: int64"
      ]
     },
     "execution_count": 157,
     "metadata": {},
     "output_type": "execute_result"
    }
   ],
   "source": [
    "anno_df[(anno_df['superkingdom'] == 'unknown') & (anno_df['organism'] != 'unknown')]['organism'].value_counts()"
   ]
  },
  {
   "cell_type": "code",
   "execution_count": 158,
   "id": "1ba0a01f-2db2-463b-811a-250316f3272d",
   "metadata": {
    "tags": []
   },
   "outputs": [],
   "source": [
    "anno_df.to_csv('bfd_mapping_annotated_lin_meta.csv')"
   ]
  },
  {
   "cell_type": "code",
   "execution_count": 160,
   "id": "014ba437-63f3-4526-8ad4-60021f365699",
   "metadata": {
    "tags": []
   },
   "outputs": [
    {
     "data": {
      "text/plain": [
       "Index(['record_id', 'record_description', 'new_id', 'bfd_source_database',\n",
       "       'organism_taxid', 'source_superkingdom', 'source_phylum', 'organism',\n",
       "       'tax_id', 'lineage', 'superkingdom', 'kingdom', 'phylum'],\n",
       "      dtype='object')"
      ]
     },
     "execution_count": 160,
     "metadata": {},
     "output_type": "execute_result"
    }
   ],
   "source": [
    "anno_df.columns"
   ]
  },
  {
   "cell_type": "markdown",
   "id": "5d9fb0ca-1e86-48b7-8099-037b3c2494c6",
   "metadata": {},
   "source": [
    "## Keep only basic columns"
   ]
  },
  {
   "cell_type": "code",
   "execution_count": 162,
   "id": "af8f4223-eef0-458b-a3e7-bfbf1a64ae64",
   "metadata": {
    "tags": []
   },
   "outputs": [],
   "source": [
    "anno_df[['record_id', 'record_description', 'new_id', 'organism', 'tax_id', 'lineage', 'superkingdom', 'kingdom', 'phylum']].to_csv('bfd_mapping_sele.csv')"
   ]
  },
  {
   "cell_type": "markdown",
   "id": "fb3314a6-ab0b-4f60-afe7-5921abc9cd10",
   "metadata": {},
   "source": [
    "## Add domains and architectures"
   ]
  },
  {
   "cell_type": "code",
   "execution_count": 163,
   "id": "67d9bdf4-99ae-4e52-8b23-fbc633eb02e3",
   "metadata": {
    "tags": []
   },
   "outputs": [],
   "source": [
    "import pandas as pd"
   ]
  },
  {
   "cell_type": "code",
   "execution_count": 176,
   "id": "c3913d27-e883-4511-881d-9e654d0ca76a",
   "metadata": {
    "tags": []
   },
   "outputs": [],
   "source": [
    "pd.set_option('display.max_columns', None)"
   ]
  },
  {
   "cell_type": "code",
   "execution_count": 165,
   "id": "3837946c-f4d3-48ad-ae5b-164fe427b3f3",
   "metadata": {
    "tags": []
   },
   "outputs": [],
   "source": [
    "anno_df = pd.read_csv('bfd_mapping_sele.csv', index_col=0)"
   ]
  },
  {
   "cell_type": "code",
   "execution_count": 167,
   "id": "dabf42b7-2f44-4615-bd3e-0ef7f6ca4532",
   "metadata": {
    "tags": []
   },
   "outputs": [
    {
     "data": {
      "text/plain": [
       "(273535, 9)"
      ]
     },
     "execution_count": 167,
     "metadata": {},
     "output_type": "execute_result"
    }
   ],
   "source": [
    "anno_df.shape"
   ]
  },
  {
   "cell_type": "code",
   "execution_count": 171,
   "id": "f016215a-aabc-418a-af25-7c2c05da616d",
   "metadata": {
    "tags": []
   },
   "outputs": [
    {
     "data": {
      "text/html": [
       "<div>\n",
       "<style scoped>\n",
       "    .dataframe tbody tr th:only-of-type {\n",
       "        vertical-align: middle;\n",
       "    }\n",
       "\n",
       "    .dataframe tbody tr th {\n",
       "        vertical-align: top;\n",
       "    }\n",
       "\n",
       "    .dataframe thead th {\n",
       "        text-align: right;\n",
       "    }\n",
       "</style>\n",
       "<table border=\"1\" class=\"dataframe\">\n",
       "  <thead>\n",
       "    <tr style=\"text-align: right;\">\n",
       "      <th></th>\n",
       "      <th>record_id</th>\n",
       "      <th>record_description</th>\n",
       "      <th>new_id</th>\n",
       "      <th>organism</th>\n",
       "      <th>tax_id</th>\n",
       "      <th>lineage</th>\n",
       "      <th>superkingdom</th>\n",
       "      <th>kingdom</th>\n",
       "      <th>phylum</th>\n",
       "    </tr>\n",
       "  </thead>\n",
       "  <tbody>\n",
       "    <tr>\n",
       "      <th>0</th>\n",
       "      <td>SRR5882724_2472406_consensus</td>\n",
       "      <td>SRR5882724_2472406_consensus</td>\n",
       "      <td>bfd_000669</td>\n",
       "      <td>soil metagenome</td>\n",
       "      <td>410658</td>\n",
       "      <td>{'species': 'soil metagenome'}</td>\n",
       "      <td>Metagenome</td>\n",
       "      <td>environmental</td>\n",
       "      <td>unknown</td>\n",
       "    </tr>\n",
       "    <tr>\n",
       "      <th>1</th>\n",
       "      <td>SRR5882724_2472406</td>\n",
       "      <td>SRR5882724_2472406</td>\n",
       "      <td>bfd_000670</td>\n",
       "      <td>soil metagenome</td>\n",
       "      <td>410658</td>\n",
       "      <td>{'species': 'soil metagenome'}</td>\n",
       "      <td>Metagenome</td>\n",
       "      <td>environmental</td>\n",
       "      <td>unknown</td>\n",
       "    </tr>\n",
       "    <tr>\n",
       "      <th>2</th>\n",
       "      <td>SRR6056297_4233263_consensus</td>\n",
       "      <td>SRR6056297_4233263_consensus</td>\n",
       "      <td>bfd_000671</td>\n",
       "      <td>soil metagenome</td>\n",
       "      <td>410658</td>\n",
       "      <td>{'species': 'soil metagenome'}</td>\n",
       "      <td>Metagenome</td>\n",
       "      <td>environmental</td>\n",
       "      <td>unknown</td>\n",
       "    </tr>\n",
       "    <tr>\n",
       "      <th>3</th>\n",
       "      <td>SRR6056297_4233263</td>\n",
       "      <td>SRR6056297_4233263</td>\n",
       "      <td>bfd_000672</td>\n",
       "      <td>soil metagenome</td>\n",
       "      <td>410658</td>\n",
       "      <td>{'species': 'soil metagenome'}</td>\n",
       "      <td>Metagenome</td>\n",
       "      <td>environmental</td>\n",
       "      <td>unknown</td>\n",
       "    </tr>\n",
       "    <tr>\n",
       "      <th>4</th>\n",
       "      <td>SRR5690606_1803171_consensus</td>\n",
       "      <td>SRR5690606_1803171_consensus</td>\n",
       "      <td>bfd_000673</td>\n",
       "      <td>soil metagenome</td>\n",
       "      <td>410658</td>\n",
       "      <td>{'species': 'soil metagenome'}</td>\n",
       "      <td>Metagenome</td>\n",
       "      <td>environmental</td>\n",
       "      <td>unknown</td>\n",
       "    </tr>\n",
       "    <tr>\n",
       "      <th>...</th>\n",
       "      <td>...</td>\n",
       "      <td>...</td>\n",
       "      <td>...</td>\n",
       "      <td>...</td>\n",
       "      <td>...</td>\n",
       "      <td>...</td>\n",
       "      <td>...</td>\n",
       "      <td>...</td>\n",
       "      <td>...</td>\n",
       "    </tr>\n",
       "    <tr>\n",
       "      <th>268239</th>\n",
       "      <td>Dee2metaT_26_FD_contig_21_2097026_length_361_m...</td>\n",
       "      <td>Dee2metaT_26_FD_contig_21_2097026_length_361_m...</td>\n",
       "      <td>bfd_268239</td>\n",
       "      <td>unknown</td>\n",
       "      <td>error</td>\n",
       "      <td>error</td>\n",
       "      <td>unknown</td>\n",
       "      <td>unknown</td>\n",
       "      <td>unknown</td>\n",
       "    </tr>\n",
       "    <tr>\n",
       "      <th>268240</th>\n",
       "      <td>AmaraimetaFIIA01_FD_contig_81_1078205_length_2...</td>\n",
       "      <td>AmaraimetaFIIA01_FD_contig_81_1078205_length_2...</td>\n",
       "      <td>bfd_268240</td>\n",
       "      <td>unknown</td>\n",
       "      <td>error</td>\n",
       "      <td>error</td>\n",
       "      <td>unknown</td>\n",
       "      <td>unknown</td>\n",
       "      <td>unknown</td>\n",
       "    </tr>\n",
       "    <tr>\n",
       "      <th>268241</th>\n",
       "      <td>1185.fasta_scaffold1718379_1</td>\n",
       "      <td>1185.fasta_scaffold1718379_1 # 1 # 201 # -1 # ...</td>\n",
       "      <td>bfd_268241</td>\n",
       "      <td>unknown</td>\n",
       "      <td>error</td>\n",
       "      <td>error</td>\n",
       "      <td>unknown</td>\n",
       "      <td>unknown</td>\n",
       "      <td>unknown</td>\n",
       "    </tr>\n",
       "    <tr>\n",
       "      <th>269315</th>\n",
       "      <td>JI71714B2RNA_FD_contig_31_3048430_length_247_m...</td>\n",
       "      <td>JI71714B2RNA_FD_contig_31_3048430_length_247_m...</td>\n",
       "      <td>bfd_269315</td>\n",
       "      <td>unknown</td>\n",
       "      <td>error</td>\n",
       "      <td>error</td>\n",
       "      <td>unknown</td>\n",
       "      <td>unknown</td>\n",
       "      <td>unknown</td>\n",
       "    </tr>\n",
       "    <tr>\n",
       "      <th>269557</th>\n",
       "      <td>Dee2metaT_33_FD_contig_21_1472196_length_267_m...</td>\n",
       "      <td>Dee2metaT_33_FD_contig_21_1472196_length_267_m...</td>\n",
       "      <td>bfd_269557</td>\n",
       "      <td>unknown</td>\n",
       "      <td>error</td>\n",
       "      <td>error</td>\n",
       "      <td>unknown</td>\n",
       "      <td>unknown</td>\n",
       "      <td>unknown</td>\n",
       "    </tr>\n",
       "  </tbody>\n",
       "</table>\n",
       "<p>273535 rows × 9 columns</p>\n",
       "</div>"
      ],
      "text/plain": [
       "                                                record_id  \\\n",
       "0                            SRR5882724_2472406_consensus   \n",
       "1                                      SRR5882724_2472406   \n",
       "2                            SRR6056297_4233263_consensus   \n",
       "3                                      SRR6056297_4233263   \n",
       "4                            SRR5690606_1803171_consensus   \n",
       "...                                                   ...   \n",
       "268239  Dee2metaT_26_FD_contig_21_2097026_length_361_m...   \n",
       "268240  AmaraimetaFIIA01_FD_contig_81_1078205_length_2...   \n",
       "268241                       1185.fasta_scaffold1718379_1   \n",
       "269315  JI71714B2RNA_FD_contig_31_3048430_length_247_m...   \n",
       "269557  Dee2metaT_33_FD_contig_21_1472196_length_267_m...   \n",
       "\n",
       "                                       record_description      new_id  \\\n",
       "0                            SRR5882724_2472406_consensus  bfd_000669   \n",
       "1                                      SRR5882724_2472406  bfd_000670   \n",
       "2                            SRR6056297_4233263_consensus  bfd_000671   \n",
       "3                                      SRR6056297_4233263  bfd_000672   \n",
       "4                            SRR5690606_1803171_consensus  bfd_000673   \n",
       "...                                                   ...         ...   \n",
       "268239  Dee2metaT_26_FD_contig_21_2097026_length_361_m...  bfd_268239   \n",
       "268240  AmaraimetaFIIA01_FD_contig_81_1078205_length_2...  bfd_268240   \n",
       "268241  1185.fasta_scaffold1718379_1 # 1 # 201 # -1 # ...  bfd_268241   \n",
       "269315  JI71714B2RNA_FD_contig_31_3048430_length_247_m...  bfd_269315   \n",
       "269557  Dee2metaT_33_FD_contig_21_1472196_length_267_m...  bfd_269557   \n",
       "\n",
       "               organism  tax_id                         lineage superkingdom  \\\n",
       "0       soil metagenome  410658  {'species': 'soil metagenome'}   Metagenome   \n",
       "1       soil metagenome  410658  {'species': 'soil metagenome'}   Metagenome   \n",
       "2       soil metagenome  410658  {'species': 'soil metagenome'}   Metagenome   \n",
       "3       soil metagenome  410658  {'species': 'soil metagenome'}   Metagenome   \n",
       "4       soil metagenome  410658  {'species': 'soil metagenome'}   Metagenome   \n",
       "...                 ...     ...                             ...          ...   \n",
       "268239          unknown   error                           error      unknown   \n",
       "268240          unknown   error                           error      unknown   \n",
       "268241          unknown   error                           error      unknown   \n",
       "269315          unknown   error                           error      unknown   \n",
       "269557          unknown   error                           error      unknown   \n",
       "\n",
       "              kingdom   phylum  \n",
       "0       environmental  unknown  \n",
       "1       environmental  unknown  \n",
       "2       environmental  unknown  \n",
       "3       environmental  unknown  \n",
       "4       environmental  unknown  \n",
       "...               ...      ...  \n",
       "268239        unknown  unknown  \n",
       "268240        unknown  unknown  \n",
       "268241        unknown  unknown  \n",
       "269315        unknown  unknown  \n",
       "269557        unknown  unknown  \n",
       "\n",
       "[273535 rows x 9 columns]"
      ]
     },
     "execution_count": 171,
     "metadata": {},
     "output_type": "execute_result"
    }
   ],
   "source": [
    "anno_df"
   ]
  },
  {
   "cell_type": "code",
   "execution_count": 169,
   "id": "ebd8af59-fd9a-4758-bbaa-76ad68077535",
   "metadata": {
    "tags": []
   },
   "outputs": [
    {
     "name": "stderr",
     "output_type": "stream",
     "text": [
      "C:\\Users\\terca\\AppData\\Local\\Temp\\ipykernel_7816\\1318730035.py:1: DtypeWarning: Columns (2,3) have mixed types. Specify dtype option on import or set low_memory=False.\n",
      "  archs = pd.read_csv('../../bfd_archs.csv', index_col=0)\n"
     ]
    }
   ],
   "source": [
    "archs = pd.read_csv('../../bfd_archs.csv', index_col=0)"
   ]
  },
  {
   "cell_type": "code",
   "execution_count": 203,
   "id": "57dd3ada-5921-47eb-a1f4-a57be6aa188b",
   "metadata": {
    "tags": []
   },
   "outputs": [
    {
     "data": {
      "text/plain": [
       "(212049, 19)"
      ]
     },
     "execution_count": 203,
     "metadata": {},
     "output_type": "execute_result"
    }
   ],
   "source": [
    "archs.shape"
   ]
  },
  {
   "cell_type": "code",
   "execution_count": 173,
   "id": "89122380-a639-42c8-b1cc-0ff0098129c1",
   "metadata": {
    "tags": []
   },
   "outputs": [],
   "source": [
    "full_df = archs.merge(anno_df, how='left', left_on='id', right_on='new_id')"
   ]
  },
  {
   "cell_type": "code",
   "execution_count": 202,
   "id": "40a0f6be-5355-4ed8-8ea1-2ec21b818a96",
   "metadata": {
    "tags": []
   },
   "outputs": [
    {
     "data": {
      "text/plain": [
       "(212049, 28)"
      ]
     },
     "execution_count": 202,
     "metadata": {},
     "output_type": "execute_result"
    }
   ],
   "source": [
    "full_df.shape"
   ]
  },
  {
   "cell_type": "code",
   "execution_count": 185,
   "id": "7df29ed6-ed7a-44a3-88a4-c78b354a8021",
   "metadata": {
    "tags": []
   },
   "outputs": [
    {
     "data": {
      "text/plain": [
       "superkingdom\n",
       "Metagenome    128348\n",
       "unknown        37452\n",
       "Bacteria       30009\n",
       "Eukaryota      14046\n",
       "Archaea         1903\n",
       "undef            215\n",
       "Viruses           76\n",
       "Name: count, dtype: int64"
      ]
     },
     "execution_count": 185,
     "metadata": {},
     "output_type": "execute_result"
    }
   ],
   "source": [
    "full_df['superkingdom'].value_counts()"
   ]
  },
  {
   "cell_type": "code",
   "execution_count": 205,
   "id": "e02d15f7-7966-4413-bfc3-28f364a7eb8e",
   "metadata": {
    "tags": []
   },
   "outputs": [
    {
     "data": {
      "text/plain": [
       "superkingdom\n",
       "Metagenome    60.527520\n",
       "unknown       17.661955\n",
       "Bacteria      14.151918\n",
       "Eukaryota      6.623941\n",
       "Archaea        0.897434\n",
       "undef          0.101392\n",
       "Viruses        0.035841\n",
       "Name: count, dtype: float64"
      ]
     },
     "execution_count": 205,
     "metadata": {},
     "output_type": "execute_result"
    }
   ],
   "source": [
    "full_df['superkingdom'].value_counts()/full_df.shape[0]*100"
   ]
  },
  {
   "cell_type": "code",
   "execution_count": 206,
   "id": "40a91fc1-3c3d-40ff-bbff-a6751c853908",
   "metadata": {
    "tags": []
   },
   "outputs": [
    {
     "data": {
      "text/plain": [
       "PF06330.14     0.695122\n",
       "PF01397.24     2.185816\n",
       "PF03936.19     4.930936\n",
       "PF00494.22    21.620003\n",
       "PF13249.9      6.780980\n",
       "PF19086.3      6.191022\n",
       "PF13243.9      7.055445\n",
       "dtype: float64"
      ]
     },
     "execution_count": 206,
     "metadata": {},
     "output_type": "execute_result"
    }
   ],
   "source": [
    "full_df[['PF06330.14','PF01397.24', 'PF03936.19', 'PF00494.22', 'PF13249.9', 'PF19086.3','PF13243.9']].sum()/full_df.shape[0]*100"
   ]
  },
  {
   "cell_type": "code",
   "execution_count": 208,
   "id": "bc776ee6-7c5c-484a-8470-f9b68170eb49",
   "metadata": {
    "tags": []
   },
   "outputs": [
    {
     "data": {
      "text/plain": [
       "0041184     2.245707\n",
       "0053354     2.236276\n",
       "0053355    17.453513\n",
       "0048261    10.910214\n",
       "0048806    67.529675\n",
       "0046340    77.148678\n",
       "0047573    64.216761\n",
       "dtype: float64"
      ]
     },
     "execution_count": 208,
     "metadata": {},
     "output_type": "execute_result"
    }
   ],
   "source": [
    "full_df[['0041184','0053354', '0053355', '0048261', '0048806', '0046340', '0047573']].sum()/full_df.shape[0]*100"
   ]
  },
  {
   "cell_type": "markdown",
   "id": "797d6440-f115-4b94-a586-f86935a60120",
   "metadata": {},
   "source": [
    "### No Supfam architecture"
   ]
  },
  {
   "cell_type": "code",
   "execution_count": 179,
   "id": "30b1800b-4495-4414-96b7-a7071b9ae17b",
   "metadata": {
    "tags": []
   },
   "outputs": [
    {
     "data": {
      "text/plain": [
       "0.20186843606902177"
      ]
     },
     "execution_count": 179,
     "metadata": {},
     "output_type": "execute_result"
    }
   ],
   "source": [
    "full_df[full_df['architecture_supfam'].isna()].shape[0]/full_df.shape[0]"
   ]
  },
  {
   "cell_type": "code",
   "execution_count": 183,
   "id": "d18e398a-0df0-456f-a9c6-5eaa45fa0ca2",
   "metadata": {
    "tags": []
   },
   "outputs": [
    {
     "data": {
      "text/plain": [
       "superkingdom\n",
       "Metagenome    29749\n",
       "unknown        6674\n",
       "Bacteria       4268\n",
       "Eukaryota      1562\n",
       "Archaea         489\n",
       "undef            46\n",
       "Viruses          18\n",
       "Name: count, dtype: int64"
      ]
     },
     "execution_count": 183,
     "metadata": {},
     "output_type": "execute_result"
    }
   ],
   "source": [
    "full_df[full_df['architecture_supfam'].isna()]['superkingdom'].value_counts()"
   ]
  },
  {
   "cell_type": "markdown",
   "id": "7d82b69f-c01c-4122-b03a-94f8732a6f48",
   "metadata": {},
   "source": [
    "### No Pfam architecture"
   ]
  },
  {
   "cell_type": "code",
   "execution_count": 180,
   "id": "6e923eab-5a8c-4312-a581-31d954b3462f",
   "metadata": {
    "tags": []
   },
   "outputs": [
    {
     "data": {
      "text/plain": [
       "0.6452518050073333"
      ]
     },
     "execution_count": 180,
     "metadata": {},
     "output_type": "execute_result"
    }
   ],
   "source": [
    "full_df[full_df['architecture_pfam'].isna()].shape[0]/full_df.shape[0]"
   ]
  },
  {
   "cell_type": "code",
   "execution_count": 184,
   "id": "e3f2e974-0fbf-403a-a276-4593e5be7bdc",
   "metadata": {
    "tags": []
   },
   "outputs": [
    {
     "data": {
      "text/plain": [
       "superkingdom\n",
       "Metagenome    82927\n",
       "unknown       26456\n",
       "Bacteria      21102\n",
       "Eukaryota      5015\n",
       "Archaea        1125\n",
       "undef           147\n",
       "Viruses          53\n",
       "Name: count, dtype: int64"
      ]
     },
     "execution_count": 184,
     "metadata": {},
     "output_type": "execute_result"
    }
   ],
   "source": [
    "full_df[full_df['architecture_pfam'].isna()]['superkingdom'].value_counts()"
   ]
  },
  {
   "cell_type": "markdown",
   "id": "0d0359cb-39ca-4f52-8055-9c8392c284ef",
   "metadata": {},
   "source": [
    "### Metagenome"
   ]
  },
  {
   "cell_type": "code",
   "execution_count": 186,
   "id": "4cac189d-7eef-462a-bd40-e570205dc753",
   "metadata": {
    "tags": []
   },
   "outputs": [],
   "source": [
    "metagenomic = full_df[full_df['superkingdom']=='Metagenome']"
   ]
  },
  {
   "cell_type": "code",
   "execution_count": 188,
   "id": "1f7d737a-5703-4685-8df7-89b638c0d583",
   "metadata": {
    "tags": []
   },
   "outputs": [
    {
     "data": {
      "text/plain": [
       "kingdom\n",
       "environmental      128320\n",
       "engineered             20\n",
       "host-associated         8\n",
       "Name: count, dtype: int64"
      ]
     },
     "execution_count": 188,
     "metadata": {},
     "output_type": "execute_result"
    }
   ],
   "source": [
    "metagenomic['kingdom'].value_counts()"
   ]
  },
  {
   "cell_type": "markdown",
   "id": "3c9a1a96-f903-4b60-9e3a-b0cf7d28b308",
   "metadata": {},
   "source": [
    "More than 90% of samples are from **soil metagenome**, rest of the samples is mostly from **marine metagenome**."
   ]
  },
  {
   "cell_type": "code",
   "execution_count": 211,
   "id": "2bab9e6e-bbfe-4c02-b3bd-12208f4e9374",
   "metadata": {
    "tags": []
   },
   "outputs": [
    {
     "data": {
      "text/plain": [
       "organism\n",
       "soil metagenome                              91.307227\n",
       "marine metagenome                             8.538505\n",
       "marine sediment metagenome                    0.062331\n",
       "mine drainage metagenome                      0.034282\n",
       "synthetic construct                           0.014804\n",
       "hydrothermal vent metagenome                  0.014024\n",
       "freshwater metagenome                         0.012466\n",
       "gut metagenome                                0.005454\n",
       "hydrocarbon metagenome                        0.005454\n",
       "sediment metagenome                           0.001558\n",
       "groundwater metagenome                        0.001558\n",
       "artificial sequences; synthetic construct     0.000779\n",
       "wastewater metagenome                         0.000779\n",
       "human gut metagenome                          0.000779\n",
       "Name: count, dtype: float64"
      ]
     },
     "execution_count": 211,
     "metadata": {},
     "output_type": "execute_result"
    }
   ],
   "source": [
    "metagenomic['organism'].value_counts()/metagenomic.shape[0]*100"
   ]
  },
  {
   "cell_type": "markdown",
   "id": "754c5b09-3178-4202-b92c-f533417105de",
   "metadata": {},
   "source": [
    "The most common Pfam architecture was architecture consisting of a single **Squalene/phytoene synthase domain (PF00494)**."
   ]
  },
  {
   "cell_type": "code",
   "execution_count": 212,
   "id": "a85c991b-854a-4991-ab8b-4221a0720cef",
   "metadata": {
    "tags": []
   },
   "outputs": [
    {
     "data": {
      "text/plain": [
       "architecture_pfam\n",
       "['PF00494.22']                                  19.564777\n",
       "['PF13249.9', 'PF13243.9']                       2.158195\n",
       "['PF00494.22_partial']                           1.860567\n",
       "['PF00494.22_partial', 'PF00494.22']             1.662667\n",
       "['PF13249.9', 'PF13243.9_partial']               1.197525\n",
       "['PF13249.9_partial', 'PF13243.9']               1.063515\n",
       "['PF19086.3']                                    0.924050\n",
       "['PF00494.22_partial', 'PF00494.22_partial']     0.898339\n",
       "['PF00494.22', 'PF00494.22']                     0.738617\n",
       "['PF13243.9_partial', 'PF13243.9_partial']       0.656029\n",
       "Name: count, dtype: float64"
      ]
     },
     "execution_count": 212,
     "metadata": {},
     "output_type": "execute_result"
    }
   ],
   "source": [
    "metagenomic['architecture_pfam'].value_counts().head(10)/metagenomic.shape[0]*100"
   ]
  },
  {
   "cell_type": "markdown",
   "id": "290ee003-ca27-4a26-bd72-d662818b14af",
   "metadata": {},
   "source": [
    "The most common Supfam architecture was architecture consisting of a single **Aristolochene/pentalenene synthase domain (46340)**."
   ]
  },
  {
   "cell_type": "code",
   "execution_count": 213,
   "id": "0be037b6-bf3f-4476-adba-bb5cd2c0efe5",
   "metadata": {
    "tags": []
   },
   "outputs": [
    {
     "data": {
      "text/plain": [
       "architecture_supfam\n",
       "['0046340']                               63.778166\n",
       "['0046340_partial']                        3.921370\n",
       "['0048806']                                1.443731\n",
       "['0046340_partial', '0046340_partial']     1.116496\n",
       "['0047573_partial']                        0.878081\n",
       "['0048806_partial', '0046340']             0.820426\n",
       "['0053355']                                0.507994\n",
       "['0047573']                                0.449559\n",
       "['0046340_partial', '0046340']             0.429302\n",
       "['0048806_partial']                        0.411382\n",
       "Name: count, dtype: float64"
      ]
     },
     "execution_count": 213,
     "metadata": {},
     "output_type": "execute_result"
    }
   ],
   "source": [
    "metagenomic['architecture_supfam'].value_counts().head(10)/metagenomic.shape[0]*100"
   ]
  },
  {
   "cell_type": "code",
   "execution_count": 235,
   "id": "a42c439a-e609-4a88-beb1-0ec311a70001",
   "metadata": {
    "tags": []
   },
   "outputs": [],
   "source": [
    "pfam_cols = ['PF06330.14','PF01397.24', 'PF03936.19', 'PF00494.22', 'PF13249.9', 'PF19086.3','PF13243.9']"
   ]
  },
  {
   "cell_type": "code",
   "execution_count": 237,
   "id": "3bd85137-c1a5-45d9-8fa9-bd140df3f8d9",
   "metadata": {
    "tags": []
   },
   "outputs": [],
   "source": [
    "supfam_cols = ['0041184','0053354', '0053355', '0048261', '0048806', '0046340', '0047573']"
   ]
  },
  {
   "cell_type": "code",
   "execution_count": 236,
   "id": "7dd19cb8-7989-4ac2-9806-ca53ee81d9d9",
   "metadata": {
    "tags": []
   },
   "outputs": [
    {
     "data": {
      "text/plain": [
       "PF06330.14     0.144919\n",
       "PF01397.24     0.029607\n",
       "PF03936.19     1.291021\n",
       "PF00494.22    25.383333\n",
       "PF13249.9      7.569265\n",
       "PF19086.3      1.492816\n",
       "PF13243.9      7.747686\n",
       "dtype: float64"
      ]
     },
     "execution_count": 236,
     "metadata": {},
     "output_type": "execute_result"
    }
   ],
   "source": [
    "metagenomic[pfam_cols].sum()/metagenomic.shape[0]*100"
   ]
  },
  {
   "cell_type": "markdown",
   "id": "7b27d8e1-660a-4af6-be73-fd2af55460aa",
   "metadata": {},
   "source": [
    "**Most abundant hits in Supfam:**\n",
    "- Aristolochene/pentalenene synthase (46340)\n",
    "- Aristolochene/pentalenene synthase (48806)\n",
    "- Trichodiene synthase (47573)\n",
    "- Terpenoid cyclase C-terminal domain (53355)\n",
    "- Terpenoid cyclase C-terminal domain (48261)"
   ]
  },
  {
   "cell_type": "code",
   "execution_count": 238,
   "id": "26be4923-33ef-4495-af89-101e86ed27be",
   "metadata": {
    "tags": []
   },
   "outputs": [
    {
     "data": {
      "text/plain": [
       "0041184     0.049864\n",
       "0053354     0.042073\n",
       "0053355    10.546327\n",
       "0048261     5.590270\n",
       "0048806    62.728675\n",
       "0046340    73.346682\n",
       "0047573    59.534235\n",
       "dtype: float64"
      ]
     },
     "execution_count": 238,
     "metadata": {},
     "output_type": "execute_result"
    }
   ],
   "source": [
    "metagenomic[supfam_cols].sum()/metagenomic.shape[0]*100"
   ]
  },
  {
   "cell_type": "markdown",
   "id": "f09f9310-1fef-4baa-b468-c104132a219b",
   "metadata": {},
   "source": [
    "### Bacteria"
   ]
  },
  {
   "cell_type": "code",
   "execution_count": 194,
   "id": "cdfafcbe-443b-4b01-bdff-63f4296c9ddb",
   "metadata": {
    "tags": []
   },
   "outputs": [],
   "source": [
    "bacteria = full_df[full_df['superkingdom']=='Bacteria']"
   ]
  },
  {
   "cell_type": "code",
   "execution_count": 219,
   "id": "20e56f96-5a73-477c-b203-64a38569eb41",
   "metadata": {
    "tags": []
   },
   "outputs": [
    {
     "data": {
      "text/plain": [
       "phylum\n",
       "Actinomycetota      33.436636\n",
       "Pseudomonadota      28.344830\n",
       "Bacteroidota         9.560465\n",
       "Bacillota            9.063947\n",
       "Campylobacterota     2.429271\n",
       "Name: count, dtype: float64"
      ]
     },
     "execution_count": 219,
     "metadata": {},
     "output_type": "execute_result"
    }
   ],
   "source": [
    "bacteria['phylum'].value_counts().head()/bacteria.shape[0]*100"
   ]
  },
  {
   "cell_type": "markdown",
   "id": "8b7f43b1-5a17-4392-8079-7cc8cd793742",
   "metadata": {},
   "source": [
    "Also in bacteria, the most common Pfam archutecture was a single **Squalene/phytoene synthase domain (PF00494)**, the second most common architecture was a single **Terpene synthase family 2, C-terminal metal binding domain (PF19086)**."
   ]
  },
  {
   "cell_type": "code",
   "execution_count": 220,
   "id": "87db4e36-e418-4668-8ca6-8816b2b493dd",
   "metadata": {
    "tags": []
   },
   "outputs": [
    {
     "data": {
      "text/plain": [
       "architecture_pfam\n",
       "['PF00494.22']                                  11.703156\n",
       "['PF19086.3']                                    6.344763\n",
       "['PF00494.22_partial']                           2.852478\n",
       "['PF13249.9', 'PF13243.9']                       2.659202\n",
       "['PF19086.3', 'PF19086.3']                       1.682828\n",
       "['PF13243.9_partial', 'PF13243.9_partial']       0.599820\n",
       "['PF00494.22_partial', 'PF00494.22_partial']     0.436536\n",
       "['PF13243.9_partial']                            0.276584\n",
       "['PF00494.22', 'PF00494.22_partial']             0.266587\n",
       "['PF13243.9_partial', 'PF13249.9_partial']       0.223266\n",
       "Name: count, dtype: float64"
      ]
     },
     "execution_count": 220,
     "metadata": {},
     "output_type": "execute_result"
    }
   ],
   "source": [
    "bacteria['architecture_pfam'].value_counts().head(10)/bacteria.shape[0]*100"
   ]
  },
  {
   "cell_type": "markdown",
   "id": "3a4b8538-36c2-41b8-9923-ca93416f3e40",
   "metadata": {},
   "source": [
    "The most common Supfam architecture was also **Aristolochene/pentalenene synthase domain.**"
   ]
  },
  {
   "cell_type": "code",
   "execution_count": 221,
   "id": "ac05d870-ad32-4c85-8c4b-69f73cc4711c",
   "metadata": {
    "tags": []
   },
   "outputs": [
    {
     "data": {
      "text/plain": [
       "architecture_supfam\n",
       "['0046340']                               72.714852\n",
       "['0048806']                                3.635576\n",
       "['0047573']                                2.822487\n",
       "['0047573', '0047573']                     1.129661\n",
       "['0046340_partial']                        0.843080\n",
       "['0046340_partial', '0046340_partial']     0.669799\n",
       "['0047573', '0048806']                     0.439868\n",
       "['0046340_partial', '0046340']             0.419874\n",
       "['0047573_partial']                        0.319904\n",
       "['0046340', '0046340']                     0.263254\n",
       "Name: count, dtype: float64"
      ]
     },
     "execution_count": 221,
     "metadata": {},
     "output_type": "execute_result"
    }
   ],
   "source": [
    "bacteria['architecture_supfam'].value_counts().head(10)/bacteria.shape[0]*100"
   ]
  },
  {
   "cell_type": "code",
   "execution_count": 239,
   "id": "cf158bef-dea9-4ab6-875c-e85b1b0c1240",
   "metadata": {
    "tags": []
   },
   "outputs": [
    {
     "data": {
      "text/plain": [
       "PF06330.14     1.456230\n",
       "PF01397.24     0.019994\n",
       "PF03936.19     5.848246\n",
       "PF00494.22    15.635309\n",
       "PF13249.9      4.965177\n",
       "PF19086.3      8.820687\n",
       "PF13243.9      5.165117\n",
       "dtype: float64"
      ]
     },
     "execution_count": 239,
     "metadata": {},
     "output_type": "execute_result"
    }
   ],
   "source": [
    "bacteria[pfam_cols].sum()/bacteria.shape[0]*100"
   ]
  },
  {
   "cell_type": "code",
   "execution_count": 240,
   "id": "68709490-881d-4381-acd6-4f60895d0e2d",
   "metadata": {
    "tags": []
   },
   "outputs": [
    {
     "data": {
      "text/plain": [
       "0041184     0.043320\n",
       "0053354     0.036656\n",
       "0053355    24.579293\n",
       "0048261    13.915825\n",
       "0048806    75.457363\n",
       "0046340    84.614616\n",
       "0047573    71.691826\n",
       "dtype: float64"
      ]
     },
     "execution_count": 240,
     "metadata": {},
     "output_type": "execute_result"
    }
   ],
   "source": [
    "bacteria[supfam_cols].sum()/bacteria.shape[0]*100"
   ]
  },
  {
   "cell_type": "markdown",
   "id": "ea6dcae2-d830-47a8-b017-648abe6b1d7f",
   "metadata": {
    "tags": []
   },
   "source": [
    "### Eukaryota"
   ]
  },
  {
   "cell_type": "code",
   "execution_count": 224,
   "id": "b2f8ef16-5999-4616-ac9e-53baf29c46f8",
   "metadata": {
    "tags": []
   },
   "outputs": [],
   "source": [
    "eukaryota = full_df[full_df['superkingdom']=='Eukaryota']"
   ]
  },
  {
   "cell_type": "code",
   "execution_count": 227,
   "id": "f0398c46-8765-47a9-998a-8f1fb52f4411",
   "metadata": {
    "tags": []
   },
   "outputs": [
    {
     "data": {
      "text/plain": [
       "6.6239406929530436"
      ]
     },
     "execution_count": 227,
     "metadata": {},
     "output_type": "execute_result"
    }
   ],
   "source": [
    "eukaryota.shape[0]/full_df.shape[0]*100"
   ]
  },
  {
   "cell_type": "code",
   "execution_count": 229,
   "id": "f6e93c31-e9c2-442d-a5ef-c40a01146816",
   "metadata": {
    "tags": []
   },
   "outputs": [
    {
     "data": {
      "text/plain": [
       "kingdom\n",
       "Viridiplantae    43.535526\n",
       "Fungi            39.605582\n",
       "Metazoa          11.433860\n",
       "unknown           5.425032\n",
       "Name: count, dtype: float64"
      ]
     },
     "execution_count": 229,
     "metadata": {},
     "output_type": "execute_result"
    }
   ],
   "source": [
    "eukaryota['kingdom'].value_counts()/eukaryota.shape[0]*100"
   ]
  },
  {
   "cell_type": "markdown",
   "id": "68ec84f3-c496-4ed9-b8fe-dc354ae4a2a4",
   "metadata": {},
   "source": [
    "#### Plantae"
   ]
  },
  {
   "cell_type": "code",
   "execution_count": 230,
   "id": "24fe2692-653d-4eaa-9f58-9644d7c6a435",
   "metadata": {
    "tags": []
   },
   "outputs": [],
   "source": [
    "plantae = eukaryota[eukaryota['kingdom']=='Viridiplantae']"
   ]
  },
  {
   "cell_type": "code",
   "execution_count": 232,
   "id": "a3be8e27-da1a-42bb-9627-e31d6bbaf7ef",
   "metadata": {
    "tags": []
   },
   "outputs": [
    {
     "data": {
      "text/plain": [
       "phylum\n",
       "Streptophyta    98.511856\n",
       "Chlorophyta      1.488144\n",
       "Name: count, dtype: float64"
      ]
     },
     "execution_count": 232,
     "metadata": {},
     "output_type": "execute_result"
    }
   ],
   "source": [
    "plantae['phylum'].value_counts()/plantae.shape[0]*100"
   ]
  },
  {
   "cell_type": "code",
   "execution_count": 233,
   "id": "056fbc38-4284-4964-b4f3-ed5d0cbe810e",
   "metadata": {
    "tags": []
   },
   "outputs": [
    {
     "data": {
      "text/plain": [
       "architecture_pfam\n",
       "['PF01397.24', 'PF03936.19']                          47.424366\n",
       "['PF00494.22']                                         4.873262\n",
       "['PF01397.24_partial', 'PF03936.19']                   2.845462\n",
       "['PF13243.9_partial', 'PF01397.24', 'PF03936.19']      2.829109\n",
       "['PF13249.9', 'PF13243.9']                             2.796402\n",
       "['PF01397.24', 'PF03936.19_partial']                   2.273099\n",
       "['PF03936.19']                                         2.191333\n",
       "['PF01397.24', 'PF03936.19', 'PF03936.19_partial']     1.831562\n",
       "['PF19086.3']                                          1.193786\n",
       "['PF03936.19_partial']                                 1.079313\n",
       "Name: count, dtype: float64"
      ]
     },
     "execution_count": 233,
     "metadata": {},
     "output_type": "execute_result"
    }
   ],
   "source": [
    "plantae['architecture_pfam'].value_counts().head(10)/plantae.shape[0]*100"
   ]
  },
  {
   "cell_type": "code",
   "execution_count": 234,
   "id": "a7c4e539-2d80-4b42-9de5-f3b4f8354798",
   "metadata": {
    "tags": []
   },
   "outputs": [
    {
     "data": {
      "text/plain": [
       "architecture_supfam\n",
       "['0048261']                       28.863451\n",
       "['0046340']                       20.294358\n",
       "['0053355']                       19.116926\n",
       "['0041184', '0053355']             4.677024\n",
       "['0041184', '0048261']             3.990188\n",
       "['0047573']                        1.275552\n",
       "['0053354', '0048261']             0.883074\n",
       "['0041184', '0053355_partial']     0.850368\n",
       "['0053354', '0048806_partial']     0.850368\n",
       "['0046340_partial']                0.768602\n",
       "Name: count, dtype: float64"
      ]
     },
     "execution_count": 234,
     "metadata": {},
     "output_type": "execute_result"
    }
   ],
   "source": [
    "plantae['architecture_supfam'].value_counts().head(10)/plantae.shape[0]*100"
   ]
  },
  {
   "cell_type": "code",
   "execution_count": 243,
   "id": "bc5900a8-8d17-4b58-b80e-0f5f3c29cda9",
   "metadata": {
    "tags": []
   },
   "outputs": [
    {
     "data": {
      "text/plain": [
       "PF06330.14     0.523303\n",
       "PF01397.24    65.200327\n",
       "PF03936.19    68.781684\n",
       "PF00494.22     6.328700\n",
       "PF13249.9      5.461979\n",
       "PF19086.3     65.609158\n",
       "PF13243.9      7.767784\n",
       "dtype: float64"
      ]
     },
     "execution_count": 243,
     "metadata": {},
     "output_type": "execute_result"
    }
   ],
   "source": [
    "plantae[pfam_cols].sum()/plantae.shape[0]*100"
   ]
  },
  {
   "cell_type": "code",
   "execution_count": 244,
   "id": "c2fe6eea-8420-4584-a2ef-bf6900fbf86a",
   "metadata": {
    "tags": []
   },
   "outputs": [
    {
     "data": {
      "text/plain": [
       "0041184    66.197874\n",
       "0053354    66.197874\n",
       "0053355    69.354047\n",
       "0048261    68.928863\n",
       "0048806    85.789043\n",
       "0046340    90.515127\n",
       "0047573    85.592805\n",
       "dtype: float64"
      ]
     },
     "execution_count": 244,
     "metadata": {},
     "output_type": "execute_result"
    }
   ],
   "source": [
    "plantae[supfam_cols].sum()/plantae.shape[0]*100"
   ]
  },
  {
   "cell_type": "markdown",
   "id": "05620960-a3e1-4428-b2a6-9225e57e3640",
   "metadata": {},
   "source": [
    "#### Fungi"
   ]
  },
  {
   "cell_type": "code",
   "execution_count": 245,
   "id": "8772901c-04f4-42e6-9097-d857c93ca203",
   "metadata": {
    "tags": []
   },
   "outputs": [],
   "source": [
    "fungi = eukaryota[eukaryota['kingdom']=='Fungi']"
   ]
  },
  {
   "cell_type": "code",
   "execution_count": 246,
   "id": "c44b4fb5-1db7-4f81-bd1c-70024bc10ba6",
   "metadata": {
    "tags": []
   },
   "outputs": [
    {
     "data": {
      "text/plain": [
       "phylum\n",
       "Ascomycota            67.733237\n",
       "Basidiomycota         28.240158\n",
       "Mucoromycota           2.372820\n",
       "Chytridiomycota        0.575229\n",
       "Zoopagomycota          0.503326\n",
       "Blastocladiomycota     0.359518\n",
       "Microsporidia          0.107855\n",
       "unknown                0.071904\n",
       "Cryptomycota           0.035952\n",
       "Name: count, dtype: float64"
      ]
     },
     "execution_count": 246,
     "metadata": {},
     "output_type": "execute_result"
    }
   ],
   "source": [
    "fungi['phylum'].value_counts()/fungi.shape[0]*100"
   ]
  },
  {
   "cell_type": "code",
   "execution_count": 247,
   "id": "2f79b4ba-33c5-4984-bb2a-c73e0c185a46",
   "metadata": {
    "tags": []
   },
   "outputs": [
    {
     "data": {
      "text/plain": [
       "architecture_pfam\n",
       "['PF19086.3']                                 28.617652\n",
       "['PF00494.22']                                 8.718317\n",
       "['PF06330.14']                                 7.100485\n",
       "['PF19086.3', 'PF19086.3_partial']             3.846845\n",
       "['PF13249.9', 'PF13243.9']                     3.738990\n",
       "['PF19086.3_partial']                          2.930074\n",
       "['PF19086.3_partial', 'PF19086.3']             1.348193\n",
       "['PF19086.3_partial', 'PF19086.3_partial']     1.060579\n",
       "['PF19086.3', 'PF19086.3']                     0.737012\n",
       "['PF19086.3', 'PF03936.19_partial']            0.431422\n",
       "Name: count, dtype: float64"
      ]
     },
     "execution_count": 247,
     "metadata": {},
     "output_type": "execute_result"
    }
   ],
   "source": [
    "fungi['architecture_pfam'].value_counts().head(10)/fungi.shape[0]*100"
   ]
  },
  {
   "cell_type": "code",
   "execution_count": 248,
   "id": "d7f3d5fc-d0e8-4418-89b7-90fac2285870",
   "metadata": {
    "tags": []
   },
   "outputs": [
    {
     "data": {
      "text/plain": [
       "architecture_supfam\n",
       "['0046340']                               38.090958\n",
       "['0047573']                               21.750854\n",
       "['0048806']                               13.445982\n",
       "['0046340_partial', '0046340_partial']     1.923423\n",
       "['0047573', '0046340']                     1.635808\n",
       "['0046340_partial']                        1.330218\n",
       "['0046340', '0046340']                     1.294266\n",
       "['0047573', '0048806']                     1.168434\n",
       "['0053355']                                1.042603\n",
       "['0046340_partial', '0046340']             0.701061\n",
       "Name: count, dtype: float64"
      ]
     },
     "execution_count": 248,
     "metadata": {},
     "output_type": "execute_result"
    }
   ],
   "source": [
    "fungi['architecture_supfam'].value_counts().head(10)/fungi.shape[0]*100"
   ]
  },
  {
   "cell_type": "code",
   "execution_count": 249,
   "id": "d5ca56ba-a00f-4405-abfb-9d913bb548a8",
   "metadata": {
    "tags": []
   },
   "outputs": [
    {
     "data": {
      "text/plain": [
       "PF06330.14    11.864102\n",
       "PF01397.24     0.000000\n",
       "PF03936.19    26.226856\n",
       "PF00494.22    10.048535\n",
       "PF13249.9      4.350171\n",
       "PF19086.3     46.647492\n",
       "PF13243.9      4.206363\n",
       "dtype: float64"
      ]
     },
     "execution_count": 249,
     "metadata": {},
     "output_type": "execute_result"
    }
   ],
   "source": [
    "fungi[pfam_cols].sum()/fungi.shape[0]*100"
   ]
  },
  {
   "cell_type": "code",
   "execution_count": 250,
   "id": "a3aae9b1-37ec-4465-9e6f-cade5ae87139",
   "metadata": {
    "tags": []
   },
   "outputs": [
    {
     "data": {
      "text/plain": [
       "0041184     0.035952\n",
       "0053354     0.017976\n",
       "0053355    63.113428\n",
       "0048261    61.333813\n",
       "0048806    85.996764\n",
       "0046340    87.362934\n",
       "0047573    75.732518\n",
       "dtype: float64"
      ]
     },
     "execution_count": 250,
     "metadata": {},
     "output_type": "execute_result"
    }
   ],
   "source": [
    "fungi[supfam_cols].sum()/fungi.shape[0]*100"
   ]
  },
  {
   "cell_type": "markdown",
   "id": "ad31cc03-bc9b-4468-a5bd-bee6cfdd8a00",
   "metadata": {},
   "source": [
    "#### Metazoa"
   ]
  },
  {
   "cell_type": "code",
   "execution_count": 251,
   "id": "9cf699b2-c1e1-4532-8d52-d8f5b9a02a22",
   "metadata": {
    "tags": []
   },
   "outputs": [],
   "source": [
    "metazoa = eukaryota[eukaryota['kingdom']=='Metazoa']"
   ]
  },
  {
   "cell_type": "code",
   "execution_count": 252,
   "id": "ba50d0be-7375-43f9-b8ee-9640e3cacda7",
   "metadata": {
    "tags": []
   },
   "outputs": [
    {
     "data": {
      "text/plain": [
       "phylum\n",
       "Arthropoda         40.348692\n",
       "Chordata           38.667497\n",
       "Nematoda           12.515567\n",
       "Platyhelminthes     4.607721\n",
       "Mollusca            1.183064\n",
       "Cnidaria            0.871731\n",
       "Tardigrada          0.560399\n",
       "Annelida            0.311333\n",
       "Porifera            0.311333\n",
       "Brachiopoda         0.311333\n",
       "Echinodermata       0.186800\n",
       "Placozoa            0.124533\n",
       "Name: count, dtype: float64"
      ]
     },
     "execution_count": 252,
     "metadata": {},
     "output_type": "execute_result"
    }
   ],
   "source": [
    "metazoa['phylum'].value_counts()/metazoa.shape[0]*100"
   ]
  },
  {
   "cell_type": "code",
   "execution_count": 255,
   "id": "fc1bc499-5cea-4e0d-87f4-ab6a97be226d",
   "metadata": {
    "tags": []
   },
   "outputs": [
    {
     "data": {
      "text/plain": [
       "architecture_pfam\n",
       "['PF13249.9', 'PF13243.9']                      5.853051\n",
       "['PF00494.22']                                  3.486924\n",
       "['PF19086.3']                                   2.241594\n",
       "['PF19086.3_partial']                           2.241594\n",
       "['PF19086.3_partial', 'PF19086.3_partial']      1.618929\n",
       "['PF00494.22_partial', 'PF00494.22_partial']    0.560399\n",
       "['PF03936.19_partial']                          0.560399\n",
       "['PF13249.9', 'PF13243.9_partial']              0.435866\n",
       "['PF13243.9_partial', 'PF13243.9_partial']      0.373599\n",
       "['PF13243.9_partial']                           0.373599\n",
       "Name: count, dtype: float64"
      ]
     },
     "execution_count": 255,
     "metadata": {},
     "output_type": "execute_result"
    }
   ],
   "source": [
    "metazoa['architecture_pfam'].value_counts().head(10)/metazoa.shape[0]*100"
   ]
  },
  {
   "cell_type": "code",
   "execution_count": 256,
   "id": "cef0b90a-7073-41b2-bda5-e1d58b074ac1",
   "metadata": {
    "tags": []
   },
   "outputs": [
    {
     "data": {
      "text/plain": [
       "architecture_supfam\n",
       "['0046340']                               68.181818\n",
       "['0046340_partial']                        9.339975\n",
       "['0048806']                                1.618929\n",
       "['0047573']                                1.058531\n",
       "['0046340_partial', '0046340']             0.996264\n",
       "['0046340_partial', '0046340_partial']     0.933998\n",
       "['0046340', '0046340']                     0.747198\n",
       "['0046340', '0047573_partial']             0.747198\n",
       "['0047573_partial', '0046340']             0.560399\n",
       "['0048806_partial', '0046340']             0.560399\n",
       "Name: count, dtype: float64"
      ]
     },
     "execution_count": 256,
     "metadata": {},
     "output_type": "execute_result"
    }
   ],
   "source": [
    "metazoa['architecture_supfam'].value_counts().head(10)/metazoa.shape[0]*100"
   ]
  },
  {
   "cell_type": "markdown",
   "id": "4178b0b8-6448-48e3-b87e-a1313c107662",
   "metadata": {},
   "source": [
    "### Archaea"
   ]
  },
  {
   "cell_type": "code",
   "execution_count": 257,
   "id": "abfbfc51-bf35-4127-a99d-a8e2a1bd1f42",
   "metadata": {
    "tags": []
   },
   "outputs": [],
   "source": [
    "archae = full_df[full_df['superkingdom']=='Archaea']"
   ]
  },
  {
   "cell_type": "code",
   "execution_count": 258,
   "id": "7024a0a4-cc24-4b3d-8cf4-32c7d62757bc",
   "metadata": {
    "tags": []
   },
   "outputs": [
    {
     "data": {
      "text/plain": [
       "0.8974340836316135"
      ]
     },
     "execution_count": 258,
     "metadata": {},
     "output_type": "execute_result"
    }
   ],
   "source": [
    "archae.shape[0]/full_df.shape[0]*100"
   ]
  },
  {
   "cell_type": "code",
   "execution_count": 260,
   "id": "a33342bc-31af-4a6c-8f9e-a2efad46653d",
   "metadata": {
    "tags": []
   },
   "outputs": [
    {
     "data": {
      "text/plain": [
       "phylum\n",
       "Euryarchaeota                   77.299002\n",
       "Candidatus Thermoplasmatota      6.043090\n",
       "Thermoproteota                   5.149764\n",
       "Nitrososphaerota                 2.995271\n",
       "unknown                          2.207042\n",
       "Candidatus Bathyarchaeota        1.681555\n",
       "Candidatus Micrarchaeota         0.840778\n",
       "Candidatus Altiarchaeota         0.578035\n",
       "Candidatus Woesearchaeota        0.525486\n",
       "Candidatus Heimdallarchaeota     0.525486\n",
       "Candidatus Thorarchaeota         0.472937\n",
       "Candidatus Hadarchaeota          0.420389\n",
       "Candidatus Lokiarchaeota         0.210194\n",
       "Candidatus Aenigmarchaeota       0.210194\n",
       "Thaumarchaeota                   0.157646\n",
       "undef                            0.157646\n",
       "Candidatus Diapherotrites        0.157646\n",
       "Nanoarchaeota                    0.105097\n",
       "Candidatus Geothermarchaeota     0.105097\n",
       "Candidatus Huberarchaea          0.052549\n",
       "Candidatus Korarchaeota          0.052549\n",
       "Candidatus Odinarchaeota         0.052549\n",
       "Name: count, dtype: float64"
      ]
     },
     "execution_count": 260,
     "metadata": {},
     "output_type": "execute_result"
    }
   ],
   "source": [
    "archae['phylum'].value_counts()/archae.shape[0]*100"
   ]
  },
  {
   "cell_type": "code",
   "execution_count": 261,
   "id": "b3cab60b-d752-47d8-ab20-1522bf354dda",
   "metadata": {
    "tags": []
   },
   "outputs": [
    {
     "data": {
      "text/plain": [
       "architecture_pfam\n",
       "['PF00494.22']                                  31.003678\n",
       "['PF19086.3']                                    2.364687\n",
       "['PF03936.19_partial']                           1.471361\n",
       "['PF00494.22_partial']                           0.945875\n",
       "['PF00494.22_partial', 'PF00494.22_partial']     0.735681\n",
       "['PF13243.9_partial', 'PF13243.9_partial']       0.578035\n",
       "['PF13243.9_partial']                            0.472937\n",
       "['PF00494.22_partial', 'PF00494.22']             0.472937\n",
       "['PF13243.9_partial', 'PF13249.9_partial']       0.315292\n",
       "['PF03936.19_partial', 'PF03936.19_partial']     0.262743\n",
       "Name: count, dtype: float64"
      ]
     },
     "execution_count": 261,
     "metadata": {},
     "output_type": "execute_result"
    }
   ],
   "source": [
    "archae['architecture_pfam'].value_counts().head(10)/archae.shape[0]*100"
   ]
  },
  {
   "cell_type": "code",
   "execution_count": 262,
   "id": "8c09b8c0-e0bb-4d0a-a422-968421f50052",
   "metadata": {
    "tags": []
   },
   "outputs": [
    {
     "data": {
      "text/plain": [
       "architecture_supfam\n",
       "['0046340']                       55.648975\n",
       "['0048806_partial', '0046340']     3.941146\n",
       "['0046340_partial']                3.520757\n",
       "['0047573_partial', '0046340']     3.415659\n",
       "['0053355_partial']                1.050972\n",
       "['0047573_partial']                0.945875\n",
       "['0048806']                        0.840778\n",
       "['0046340', '0048806_partial']     0.683132\n",
       "['0048261']                        0.683132\n",
       "['0048261_partial']                0.630583\n",
       "Name: count, dtype: float64"
      ]
     },
     "execution_count": 262,
     "metadata": {},
     "output_type": "execute_result"
    }
   ],
   "source": [
    "archae['architecture_supfam'].value_counts().head(10)/archae.shape[0]*100"
   ]
  },
  {
   "cell_type": "code",
   "execution_count": 263,
   "id": "3de8eac7-e843-421c-9a7a-65e6b596695e",
   "metadata": {
    "tags": []
   },
   "outputs": [
    {
     "data": {
      "text/plain": [
       "PF06330.14     0.000000\n",
       "PF01397.24     0.105097\n",
       "PF03936.19     3.468208\n",
       "PF00494.22    33.736206\n",
       "PF13249.9      2.417236\n",
       "PF19086.3      5.149764\n",
       "PF13243.9      2.574882\n",
       "dtype: float64"
      ]
     },
     "execution_count": 263,
     "metadata": {},
     "output_type": "execute_result"
    }
   ],
   "source": [
    "archae[pfam_cols].sum()/archae.shape[0]*100"
   ]
  },
  {
   "cell_type": "code",
   "execution_count": 264,
   "id": "70807f08-4e5c-4be0-ac56-5f0caaaf3fff",
   "metadata": {
    "tags": []
   },
   "outputs": [
    {
     "data": {
      "text/plain": [
       "0041184     0.157646\n",
       "0053354     0.105097\n",
       "0053355    25.801366\n",
       "0048261    13.242249\n",
       "0048806    65.738308\n",
       "0046340    71.098266\n",
       "0047573    64.634787\n",
       "dtype: float64"
      ]
     },
     "execution_count": 264,
     "metadata": {},
     "output_type": "execute_result"
    }
   ],
   "source": [
    "archae[supfam_cols].sum()/archae.shape[0]*100"
   ]
  },
  {
   "cell_type": "markdown",
   "id": "09896dcf-654a-47ce-a858-05372d41ed4a",
   "metadata": {},
   "source": [
    "### Viruses"
   ]
  },
  {
   "cell_type": "code",
   "execution_count": 265,
   "id": "1ea54d91-5829-426a-a429-ac988b133f24",
   "metadata": {
    "tags": []
   },
   "outputs": [],
   "source": [
    "viruses = full_df[full_df['superkingdom']=='Viruses']"
   ]
  },
  {
   "cell_type": "code",
   "execution_count": 266,
   "id": "537b1287-e2d6-4c1d-8ec8-ca2110d2d0a6",
   "metadata": {
    "tags": []
   },
   "outputs": [
    {
     "data": {
      "text/plain": [
       "0.03584077265160411"
      ]
     },
     "execution_count": 266,
     "metadata": {},
     "output_type": "execute_result"
    }
   ],
   "source": [
    "viruses.shape[0]/full_df.shape[0]*100"
   ]
  },
  {
   "cell_type": "code",
   "execution_count": 272,
   "id": "feb445ea-7c9c-4ed1-acdb-0ff8e7ce1571",
   "metadata": {
    "tags": []
   },
   "outputs": [
    {
     "data": {
      "text/plain": [
       "kingdom\n",
       "unknown           52.631579\n",
       "Pararnavirae      22.368421\n",
       "Orthornavirae     11.842105\n",
       "Heunggongvirae     5.263158\n",
       "Shotokuvirae       3.947368\n",
       "Bamfordvirae       3.947368\n",
       "Name: count, dtype: float64"
      ]
     },
     "execution_count": 272,
     "metadata": {},
     "output_type": "execute_result"
    }
   ],
   "source": [
    "viruses['kingdom'].value_counts()/viruses.shape[0]*100"
   ]
  },
  {
   "cell_type": "code",
   "execution_count": 273,
   "id": "29ee0da8-ebe5-40c6-bd86-8720595dd6cd",
   "metadata": {
    "tags": []
   },
   "outputs": [
    {
     "data": {
      "text/plain": [
       "architecture_pfam\n",
       "['PF00494.22']                                                     18.421053\n",
       "['PF13249.9', 'PF13243.9']                                          6.578947\n",
       "['PF00494.22', 'PF00494.22_partial']                                1.315789\n",
       "['PF13243.9_partial', 'PF13243.9_partial', 'PF13243.9_partial']     1.315789\n",
       "['PF00494.22_partial']                                              1.315789\n",
       "['PF13249.9_partial', 'PF13243.9_partial']                          1.315789\n",
       "Name: count, dtype: float64"
      ]
     },
     "execution_count": 273,
     "metadata": {},
     "output_type": "execute_result"
    }
   ],
   "source": [
    "viruses['architecture_pfam'].value_counts().head(10)/viruses.shape[0]*100"
   ]
  },
  {
   "cell_type": "code",
   "execution_count": 274,
   "id": "c4a4f72c-f7c5-467e-8d20-52967ad8ad98",
   "metadata": {
    "tags": []
   },
   "outputs": [
    {
     "data": {
      "text/plain": [
       "architecture_supfam\n",
       "['0046340']                               69.736842\n",
       "['0046340_partial']                        2.631579\n",
       "['0053355_partial']                        1.315789\n",
       "['0048806']                                1.315789\n",
       "['0046340_partial', '0047573_partial']     1.315789\n",
       "Name: count, dtype: float64"
      ]
     },
     "execution_count": 274,
     "metadata": {},
     "output_type": "execute_result"
    }
   ],
   "source": [
    "viruses['architecture_supfam'].value_counts().head(10)/viruses.shape[0]*100"
   ]
  },
  {
   "cell_type": "code",
   "execution_count": 278,
   "id": "7a4283ab-4256-4044-8b36-976d61e9065c",
   "metadata": {
    "tags": []
   },
   "outputs": [
    {
     "data": {
      "text/plain": [
       "PF06330.14     0.000000\n",
       "PF01397.24     0.000000\n",
       "PF03936.19     0.000000\n",
       "PF00494.22    21.052632\n",
       "PF13249.9      9.210526\n",
       "PF19086.3      0.000000\n",
       "PF13243.9      9.210526\n",
       "dtype: float64"
      ]
     },
     "execution_count": 278,
     "metadata": {},
     "output_type": "execute_result"
    }
   ],
   "source": [
    "viruses[pfam_cols].sum()/viruses.shape[0]*100"
   ]
  },
  {
   "cell_type": "code",
   "execution_count": 279,
   "id": "bb11a9fb-89e5-4305-9435-09f15b5b4417",
   "metadata": {
    "tags": []
   },
   "outputs": [
    {
     "data": {
      "text/plain": [
       "0041184     0.000000\n",
       "0053354     0.000000\n",
       "0053355    17.105263\n",
       "0048261     3.947368\n",
       "0048806    61.842105\n",
       "0046340    73.684211\n",
       "0047573    63.157895\n",
       "dtype: float64"
      ]
     },
     "execution_count": 279,
     "metadata": {},
     "output_type": "execute_result"
    }
   ],
   "source": [
    "viruses[supfam_cols].sum()/viruses.shape[0]*100"
   ]
  },
  {
   "cell_type": "code",
   "execution_count": 281,
   "id": "93a0a8b5-44bb-4c1c-b9ea-3d9b103010f8",
   "metadata": {
    "tags": []
   },
   "outputs": [],
   "source": [
    "full_df.to_csv('../../bfd_annotation.csv')"
   ]
  },
  {
   "cell_type": "code",
   "execution_count": null,
   "id": "a2d6f78a-e33f-40cd-919b-da20ae825f83",
   "metadata": {},
   "outputs": [],
   "source": []
  }
 ],
 "metadata": {
  "kernelspec": {
   "display_name": "Python 3 (ipykernel)",
   "language": "python",
   "name": "python3"
  },
  "language_info": {
   "codemirror_mode": {
    "name": "ipython",
    "version": 3
   },
   "file_extension": ".py",
   "mimetype": "text/x-python",
   "name": "python",
   "nbconvert_exporter": "python",
   "pygments_lexer": "ipython3",
   "version": "3.10.13"
  }
 },
 "nbformat": 4,
 "nbformat_minor": 5
}

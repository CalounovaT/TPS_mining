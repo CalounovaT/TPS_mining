{
 "cells": [
  {
   "cell_type": "markdown",
   "id": "deccff9c-31d0-454c-8971-a0c7748d0dfb",
   "metadata": {},
   "source": [
    "# Add info"
   ]
  },
  {
   "cell_type": "code",
   "execution_count": 1,
   "id": "2e7a962a-d107-4fa7-a3f1-fcd3c5aa99fd",
   "metadata": {
    "tags": []
   },
   "outputs": [
    {
     "data": {
      "text/plain": [
       "'C:\\\\Users\\\\terca\\\\OneDrive\\\\Dokumenty\\\\Uni\\\\Mgr\\\\2.rocnik\\\\diplomka\\\\results\\\\results\\\\mappings\\\\phytozome'"
      ]
     },
     "execution_count": 1,
     "metadata": {},
     "output_type": "execute_result"
    }
   ],
   "source": [
    "import os\n",
    "os.getcwd()"
   ]
  },
  {
   "cell_type": "code",
   "execution_count": 1,
   "id": "4dfaaa28-ffaf-467f-915e-dbca8d42b619",
   "metadata": {
    "tags": []
   },
   "outputs": [],
   "source": [
    "import pandas as pd"
   ]
  },
  {
   "cell_type": "markdown",
   "id": "1211d97e-eb93-44ad-a359-ab12c268415c",
   "metadata": {},
   "source": [
    "## Phytozome"
   ]
  },
  {
   "cell_type": "code",
   "execution_count": 4,
   "id": "f90957b2-cc81-4d06-9fb6-84109fda8d23",
   "metadata": {
    "tags": []
   },
   "outputs": [],
   "source": [
    "mapping = pd.read_csv('phytozome_mapping.tsv', sep='~')"
   ]
  },
  {
   "cell_type": "code",
   "execution_count": 5,
   "id": "90aeae25-736b-4f8f-a406-86c6d1b59565",
   "metadata": {
    "tags": []
   },
   "outputs": [
    {
     "data": {
      "text/html": [
       "<div>\n",
       "<style scoped>\n",
       "    .dataframe tbody tr th:only-of-type {\n",
       "        vertical-align: middle;\n",
       "    }\n",
       "\n",
       "    .dataframe tbody tr th {\n",
       "        vertical-align: top;\n",
       "    }\n",
       "\n",
       "    .dataframe thead th {\n",
       "        text-align: right;\n",
       "    }\n",
       "</style>\n",
       "<table border=\"1\" class=\"dataframe\">\n",
       "  <thead>\n",
       "    <tr style=\"text-align: right;\">\n",
       "      <th></th>\n",
       "      <th>record_id</th>\n",
       "      <th>record_description</th>\n",
       "      <th>new_id</th>\n",
       "    </tr>\n",
       "  </thead>\n",
       "  <tbody>\n",
       "    <tr>\n",
       "      <th>0</th>\n",
       "      <td>Poman.08G070300.1.p</td>\n",
       "      <td>Poman.08G070300.1.p pacid=51219549 transcript=...</td>\n",
       "      <td>phytozome_000000</td>\n",
       "    </tr>\n",
       "    <tr>\n",
       "      <th>1</th>\n",
       "      <td>Poman.17G112600.1.p</td>\n",
       "      <td>Poman.17G112600.1.p pacid=51221212 transcript=...</td>\n",
       "      <td>phytozome_000001</td>\n",
       "    </tr>\n",
       "    <tr>\n",
       "      <th>2</th>\n",
       "      <td>Poman.17G029100.1.p</td>\n",
       "      <td>Poman.17G029100.1.p pacid=51222789 transcript=...</td>\n",
       "      <td>phytozome_000002</td>\n",
       "    </tr>\n",
       "    <tr>\n",
       "      <th>3</th>\n",
       "      <td>Poman.05G080900.1.p</td>\n",
       "      <td>Poman.05G080900.1.p pacid=51225878 transcript=...</td>\n",
       "      <td>phytozome_000003</td>\n",
       "    </tr>\n",
       "    <tr>\n",
       "      <th>4</th>\n",
       "      <td>Poman.05G172100.1.p</td>\n",
       "      <td>Poman.05G172100.1.p pacid=51226704 transcript=...</td>\n",
       "      <td>phytozome_000004</td>\n",
       "    </tr>\n",
       "    <tr>\n",
       "      <th>...</th>\n",
       "      <td>...</td>\n",
       "      <td>...</td>\n",
       "      <td>...</td>\n",
       "    </tr>\n",
       "    <tr>\n",
       "      <th>15458</th>\n",
       "      <td>GlysoPI483463.02G052300.1.p</td>\n",
       "      <td>GlysoPI483463.02G052300.1.p pacid=41226911 tra...</td>\n",
       "      <td>phytozome_015458</td>\n",
       "    </tr>\n",
       "    <tr>\n",
       "      <th>15459</th>\n",
       "      <td>Dusal.0152s00010.1.p</td>\n",
       "      <td>Dusal.0152s00010.1.p pacid=33186194 transcript...</td>\n",
       "      <td>phytozome_015459</td>\n",
       "    </tr>\n",
       "    <tr>\n",
       "      <th>15460</th>\n",
       "      <td>Dusal.0152s00015.1.p</td>\n",
       "      <td>Dusal.0152s00015.1.p pacid=33186200 transcript...</td>\n",
       "      <td>phytozome_015460</td>\n",
       "    </tr>\n",
       "    <tr>\n",
       "      <th>15461</th>\n",
       "      <td>Dusal.1212s00002.1.p</td>\n",
       "      <td>Dusal.1212s00002.1.p pacid=33190568 transcript...</td>\n",
       "      <td>phytozome_015461</td>\n",
       "    </tr>\n",
       "    <tr>\n",
       "      <th>15462</th>\n",
       "      <td>Dusal.0279s00005.1.p</td>\n",
       "      <td>Dusal.0279s00005.1.p pacid=33195870 transcript...</td>\n",
       "      <td>phytozome_015462</td>\n",
       "    </tr>\n",
       "  </tbody>\n",
       "</table>\n",
       "<p>15463 rows × 3 columns</p>\n",
       "</div>"
      ],
      "text/plain": [
       "                         record_id  \\\n",
       "0              Poman.08G070300.1.p   \n",
       "1              Poman.17G112600.1.p   \n",
       "2              Poman.17G029100.1.p   \n",
       "3              Poman.05G080900.1.p   \n",
       "4              Poman.05G172100.1.p   \n",
       "...                            ...   \n",
       "15458  GlysoPI483463.02G052300.1.p   \n",
       "15459         Dusal.0152s00010.1.p   \n",
       "15460         Dusal.0152s00015.1.p   \n",
       "15461         Dusal.1212s00002.1.p   \n",
       "15462         Dusal.0279s00005.1.p   \n",
       "\n",
       "                                      record_description            new_id  \n",
       "0      Poman.08G070300.1.p pacid=51219549 transcript=...  phytozome_000000  \n",
       "1      Poman.17G112600.1.p pacid=51221212 transcript=...  phytozome_000001  \n",
       "2      Poman.17G029100.1.p pacid=51222789 transcript=...  phytozome_000002  \n",
       "3      Poman.05G080900.1.p pacid=51225878 transcript=...  phytozome_000003  \n",
       "4      Poman.05G172100.1.p pacid=51226704 transcript=...  phytozome_000004  \n",
       "...                                                  ...               ...  \n",
       "15458  GlysoPI483463.02G052300.1.p pacid=41226911 tra...  phytozome_015458  \n",
       "15459  Dusal.0152s00010.1.p pacid=33186194 transcript...  phytozome_015459  \n",
       "15460  Dusal.0152s00015.1.p pacid=33186200 transcript...  phytozome_015460  \n",
       "15461  Dusal.1212s00002.1.p pacid=33190568 transcript...  phytozome_015461  \n",
       "15462  Dusal.0279s00005.1.p pacid=33195870 transcript...  phytozome_015462  \n",
       "\n",
       "[15463 rows x 3 columns]"
      ]
     },
     "execution_count": 5,
     "metadata": {},
     "output_type": "execute_result"
    }
   ],
   "source": [
    "mapping"
   ]
  },
  {
   "cell_type": "code",
   "execution_count": 9,
   "id": "8b9f1de2-e95f-410b-b39b-dd2026dce6d0",
   "metadata": {
    "tags": []
   },
   "outputs": [
    {
     "name": "stdout",
     "output_type": "stream",
     "text": [
      "Poman.08G070300.1.p pacid=51219549 transcript=Poman.08G070300.1 locus=Poman.08G070300 ID=Poman.08G070300.1.v1.1 annot-version=v1.1 org=Populus.nigra.x.maximowiczii.NM6\tPnigraxmaximowicziiNM6_688_v1.1\n"
     ]
    }
   ],
   "source": [
    "print(mapping.iloc[0]['record_description'])"
   ]
  },
  {
   "cell_type": "code",
   "execution_count": 11,
   "id": "f4d7008f-3cdc-48be-982a-8bdd69172b7b",
   "metadata": {
    "tags": []
   },
   "outputs": [
    {
     "name": "stdout",
     "output_type": "stream",
     "text": [
      "BdiBd1-1.5G018700.2.p pacid=43421581 transcript=BdiBd1-1.5G018700.2 locus=BdiBd1-1.5G018700 ID=BdiBd1-1.5G018700.2.v1.1 annot-version=v1.1\tBdistachyonBd1_1_549_v1.1\n"
     ]
    }
   ],
   "source": [
    "print(mapping.iloc[100]['record_description'])"
   ]
  },
  {
   "cell_type": "markdown",
   "id": "86ea20b3-4bb4-492b-a22e-945aa7fb67ec",
   "metadata": {},
   "source": [
    "For 2045 entries, the organims is probably in the description after org keyword"
   ]
  },
  {
   "cell_type": "markdown",
   "id": "824bf541-09f1-4302-b74b-f67dddb44f43",
   "metadata": {},
   "source": [
    "### Having organism keyword"
   ]
  },
  {
   "cell_type": "code",
   "execution_count": 20,
   "id": "ba43ab08-d7b6-4cbf-9c74-43ac9ced8e98",
   "metadata": {
    "tags": []
   },
   "outputs": [],
   "source": [
    "with_org = mapping[mapping['record_description'].apply(lambda x: True if 'org' in x else False)]"
   ]
  },
  {
   "cell_type": "code",
   "execution_count": 25,
   "id": "e0a02262-8c9a-45dc-9089-57c40355b471",
   "metadata": {
    "tags": []
   },
   "outputs": [
    {
     "name": "stderr",
     "output_type": "stream",
     "text": [
      "C:\\Users\\terca\\AppData\\Local\\Temp\\ipykernel_8928\\2858831585.py:1: SettingWithCopyWarning: \n",
      "A value is trying to be set on a copy of a slice from a DataFrame.\n",
      "Try using .loc[row_indexer,col_indexer] = value instead\n",
      "\n",
      "See the caveats in the documentation: https://pandas.pydata.org/pandas-docs/stable/user_guide/indexing.html#returning-a-view-versus-a-copy\n",
      "  with_org['organism_tmp'] = with_org['record_description'].apply(lambda x: x.split('org=')[1].split('\\t')[0])\n"
     ]
    }
   ],
   "source": [
    "with_org['organism_tmp'] = with_org['record_description'].apply(lambda x: x.split('org=')[1].split('\\t')[0])"
   ]
  },
  {
   "cell_type": "code",
   "execution_count": 69,
   "id": "80c2f0f6-1338-4005-8f3e-9946da45490e",
   "metadata": {
    "tags": []
   },
   "outputs": [
    {
     "name": "stderr",
     "output_type": "stream",
     "text": [
      "C:\\Users\\terca\\AppData\\Local\\Temp\\ipykernel_8928\\2407947189.py:1: SettingWithCopyWarning: \n",
      "A value is trying to be set on a copy of a slice from a DataFrame.\n",
      "Try using .loc[row_indexer,col_indexer] = value instead\n",
      "\n",
      "See the caveats in the documentation: https://pandas.pydata.org/pandas-docs/stable/user_guide/indexing.html#returning-a-view-versus-a-copy\n",
      "  with_org['organism_name'] = with_org['organism_tmp'].str.replace('.', ' ')\n"
     ]
    }
   ],
   "source": [
    "with_org['organism_name'] = with_org['organism_tmp'].str.replace('.', ' ')"
   ]
  },
  {
   "cell_type": "code",
   "execution_count": 70,
   "id": "5bb9a8e5-82ff-4fbd-8cac-ce5050a41715",
   "metadata": {
    "tags": []
   },
   "outputs": [
    {
     "data": {
      "text/plain": [
       "organism_name\n",
       "Thinopyrum intermedium                        347\n",
       "Triticum aestivum cv Chinese Spring           317\n",
       "Gossypium hirsutum DeltaPearl                 171\n",
       "Liriodendron tulipifera YP108A                132\n",
       "Liriodendron tulipifera YP108A alt            123\n",
       "Setaria viridis A10                           111\n",
       "Populus nigra x maximowiczii NM6              101\n",
       "Gossypium hirsutum CSX8308                     99\n",
       "Populus tremula x Populus alba HAP1            96\n",
       "Diphasiastrum complanatum                      95\n",
       "Populus tremula x Populus alba HAP2            91\n",
       "Amborella trichopoda var SantaCruz_75 HAP1     77\n",
       "Lens culinaris                                 50\n",
       "Arabidopsis halleri                            49\n",
       "Lens ervoides                                  45\n",
       "Amborella trichopoda var SantaCruz_75 HAP2     40\n",
       "Beta vulgaris ssp vulgaris                     38\n",
       "Gossypium hirsutum Coker                       30\n",
       "Glycine max Wm82 ISU-01                        22\n",
       "Chlamydomonas reinhardtii CC-4532              11\n",
       "Name: count, dtype: int64"
      ]
     },
     "execution_count": 70,
     "metadata": {},
     "output_type": "execute_result"
    }
   ],
   "source": [
    "with_org['organism_name'].value_counts()"
   ]
  },
  {
   "cell_type": "code",
   "execution_count": 71,
   "id": "f1d0cde5-ff41-4a32-934e-1a9e7f06a1d1",
   "metadata": {
    "tags": []
   },
   "outputs": [
    {
     "data": {
      "text/html": [
       "<div>\n",
       "<style scoped>\n",
       "    .dataframe tbody tr th:only-of-type {\n",
       "        vertical-align: middle;\n",
       "    }\n",
       "\n",
       "    .dataframe tbody tr th {\n",
       "        vertical-align: top;\n",
       "    }\n",
       "\n",
       "    .dataframe thead th {\n",
       "        text-align: right;\n",
       "    }\n",
       "</style>\n",
       "<table border=\"1\" class=\"dataframe\">\n",
       "  <thead>\n",
       "    <tr style=\"text-align: right;\">\n",
       "      <th></th>\n",
       "      <th>record_id</th>\n",
       "      <th>record_description</th>\n",
       "      <th>new_id</th>\n",
       "      <th>organism_tmp</th>\n",
       "      <th>organism_name</th>\n",
       "    </tr>\n",
       "  </thead>\n",
       "  <tbody>\n",
       "    <tr>\n",
       "      <th>0</th>\n",
       "      <td>Poman.08G070300.1.p</td>\n",
       "      <td>Poman.08G070300.1.p pacid=51219549 transcript=...</td>\n",
       "      <td>phytozome_000000</td>\n",
       "      <td>Populus nigra x maximowiczii NM6</td>\n",
       "      <td>Populus nigra x maximowiczii NM6</td>\n",
       "    </tr>\n",
       "    <tr>\n",
       "      <th>1</th>\n",
       "      <td>Poman.17G112600.1.p</td>\n",
       "      <td>Poman.17G112600.1.p pacid=51221212 transcript=...</td>\n",
       "      <td>phytozome_000001</td>\n",
       "      <td>Populus nigra x maximowiczii NM6</td>\n",
       "      <td>Populus nigra x maximowiczii NM6</td>\n",
       "    </tr>\n",
       "    <tr>\n",
       "      <th>2</th>\n",
       "      <td>Poman.17G029100.1.p</td>\n",
       "      <td>Poman.17G029100.1.p pacid=51222789 transcript=...</td>\n",
       "      <td>phytozome_000002</td>\n",
       "      <td>Populus nigra x maximowiczii NM6</td>\n",
       "      <td>Populus nigra x maximowiczii NM6</td>\n",
       "    </tr>\n",
       "    <tr>\n",
       "      <th>3</th>\n",
       "      <td>Poman.05G080900.1.p</td>\n",
       "      <td>Poman.05G080900.1.p pacid=51225878 transcript=...</td>\n",
       "      <td>phytozome_000003</td>\n",
       "      <td>Populus nigra x maximowiczii NM6</td>\n",
       "      <td>Populus nigra x maximowiczii NM6</td>\n",
       "    </tr>\n",
       "    <tr>\n",
       "      <th>4</th>\n",
       "      <td>Poman.05G172100.1.p</td>\n",
       "      <td>Poman.05G172100.1.p pacid=51226704 transcript=...</td>\n",
       "      <td>phytozome_000004</td>\n",
       "      <td>Populus nigra x maximowiczii NM6</td>\n",
       "      <td>Populus nigra x maximowiczii NM6</td>\n",
       "    </tr>\n",
       "    <tr>\n",
       "      <th>...</th>\n",
       "      <td>...</td>\n",
       "      <td>...</td>\n",
       "      <td>...</td>\n",
       "      <td>...</td>\n",
       "      <td>...</td>\n",
       "    </tr>\n",
       "    <tr>\n",
       "      <th>15333</th>\n",
       "      <td>LitulAlt.19G098000.1.p</td>\n",
       "      <td>LitulAlt.19G098000.1.p pacid=55659134 transcri...</td>\n",
       "      <td>phytozome_015333</td>\n",
       "      <td>Liriodendron tulipifera YP108A alt</td>\n",
       "      <td>Liriodendron tulipifera YP108A alt</td>\n",
       "    </tr>\n",
       "    <tr>\n",
       "      <th>15408</th>\n",
       "      <td>Ler.1DRT.5g009000.1</td>\n",
       "      <td>Ler.1DRT.5g009000.1 pacid=53242331 transcript=...</td>\n",
       "      <td>phytozome_015408</td>\n",
       "      <td>Lens ervoides</td>\n",
       "      <td>Lens ervoides</td>\n",
       "    </tr>\n",
       "    <tr>\n",
       "      <th>15409</th>\n",
       "      <td>Ler.1DRT.7g082480.1</td>\n",
       "      <td>Ler.1DRT.7g082480.1 pacid=53248822 transcript=...</td>\n",
       "      <td>phytozome_015409</td>\n",
       "      <td>Lens ervoides</td>\n",
       "      <td>Lens ervoides</td>\n",
       "    </tr>\n",
       "    <tr>\n",
       "      <th>15410</th>\n",
       "      <td>Ler.1DRT.4g067880.1</td>\n",
       "      <td>Ler.1DRT.4g067880.1 pacid=53254678 transcript=...</td>\n",
       "      <td>phytozome_015410</td>\n",
       "      <td>Lens ervoides</td>\n",
       "      <td>Lens ervoides</td>\n",
       "    </tr>\n",
       "    <tr>\n",
       "      <th>15411</th>\n",
       "      <td>Ler.1DRT.2g079190.1</td>\n",
       "      <td>Ler.1DRT.2g079190.1 pacid=53261216 transcript=...</td>\n",
       "      <td>phytozome_015411</td>\n",
       "      <td>Lens ervoides</td>\n",
       "      <td>Lens ervoides</td>\n",
       "    </tr>\n",
       "  </tbody>\n",
       "</table>\n",
       "<p>2045 rows × 5 columns</p>\n",
       "</div>"
      ],
      "text/plain": [
       "                    record_id  \\\n",
       "0         Poman.08G070300.1.p   \n",
       "1         Poman.17G112600.1.p   \n",
       "2         Poman.17G029100.1.p   \n",
       "3         Poman.05G080900.1.p   \n",
       "4         Poman.05G172100.1.p   \n",
       "...                       ...   \n",
       "15333  LitulAlt.19G098000.1.p   \n",
       "15408     Ler.1DRT.5g009000.1   \n",
       "15409     Ler.1DRT.7g082480.1   \n",
       "15410     Ler.1DRT.4g067880.1   \n",
       "15411     Ler.1DRT.2g079190.1   \n",
       "\n",
       "                                      record_description            new_id  \\\n",
       "0      Poman.08G070300.1.p pacid=51219549 transcript=...  phytozome_000000   \n",
       "1      Poman.17G112600.1.p pacid=51221212 transcript=...  phytozome_000001   \n",
       "2      Poman.17G029100.1.p pacid=51222789 transcript=...  phytozome_000002   \n",
       "3      Poman.05G080900.1.p pacid=51225878 transcript=...  phytozome_000003   \n",
       "4      Poman.05G172100.1.p pacid=51226704 transcript=...  phytozome_000004   \n",
       "...                                                  ...               ...   \n",
       "15333  LitulAlt.19G098000.1.p pacid=55659134 transcri...  phytozome_015333   \n",
       "15408  Ler.1DRT.5g009000.1 pacid=53242331 transcript=...  phytozome_015408   \n",
       "15409  Ler.1DRT.7g082480.1 pacid=53248822 transcript=...  phytozome_015409   \n",
       "15410  Ler.1DRT.4g067880.1 pacid=53254678 transcript=...  phytozome_015410   \n",
       "15411  Ler.1DRT.2g079190.1 pacid=53261216 transcript=...  phytozome_015411   \n",
       "\n",
       "                             organism_tmp                       organism_name  \n",
       "0        Populus nigra x maximowiczii NM6    Populus nigra x maximowiczii NM6  \n",
       "1        Populus nigra x maximowiczii NM6    Populus nigra x maximowiczii NM6  \n",
       "2        Populus nigra x maximowiczii NM6    Populus nigra x maximowiczii NM6  \n",
       "3        Populus nigra x maximowiczii NM6    Populus nigra x maximowiczii NM6  \n",
       "4        Populus nigra x maximowiczii NM6    Populus nigra x maximowiczii NM6  \n",
       "...                                   ...                                 ...  \n",
       "15333  Liriodendron tulipifera YP108A alt  Liriodendron tulipifera YP108A alt  \n",
       "15408                       Lens ervoides                       Lens ervoides  \n",
       "15409                       Lens ervoides                       Lens ervoides  \n",
       "15410                       Lens ervoides                       Lens ervoides  \n",
       "15411                       Lens ervoides                       Lens ervoides  \n",
       "\n",
       "[2045 rows x 5 columns]"
      ]
     },
     "execution_count": 71,
     "metadata": {},
     "output_type": "execute_result"
    }
   ],
   "source": [
    "with_org"
   ]
  },
  {
   "cell_type": "markdown",
   "id": "827a82c4-8c43-4698-9d00-200084df85fc",
   "metadata": {},
   "source": [
    "### Without organism keyword"
   ]
  },
  {
   "cell_type": "code",
   "execution_count": 81,
   "id": "33025521-9f44-4530-a41d-6a09783e1954",
   "metadata": {
    "tags": []
   },
   "outputs": [],
   "source": [
    "without_org = mapping[~mapping['record_description'].apply(lambda x: True if 'org' in x else False)]"
   ]
  },
  {
   "cell_type": "code",
   "execution_count": 18,
   "id": "a37e47f1-ec0e-4047-b21f-2486821cf421",
   "metadata": {
    "tags": []
   },
   "outputs": [
    {
     "name": "stdout",
     "output_type": "stream",
     "text": [
      "BdiBd1-1.5G236000.1.p pacid=43421569 transcript=BdiBd1-1.5G236000.1 locus=BdiBd1-1.5G236000 ID=BdiBd1-1.5G236000.1.v1.1 annot-version=v1.1\tBdistachyonBd1_1_549_v1.1\n"
     ]
    }
   ],
   "source": [
    "print(mapping.iloc[88]['record_description'])"
   ]
  },
  {
   "cell_type": "code",
   "execution_count": 19,
   "id": "6f285e80-9179-48d1-b73c-37fdff10471b",
   "metadata": {
    "tags": []
   },
   "outputs": [
    {
     "name": "stdout",
     "output_type": "stream",
     "text": [
      "Dusal.0279s00005.1.p pacid=33195870 transcript=Dusal.0279s00005.1 locus=Dusal.0279s00005 ID=Dusal.0279s00005.1.v1.0 annot-version=v1.0\tDsalina_325_v1.0\n"
     ]
    }
   ],
   "source": [
    "print(mapping.iloc[15462]['record_description'])"
   ]
  },
  {
   "cell_type": "code",
   "execution_count": 82,
   "id": "36f678eb-8660-4122-b4cb-24d95db6e710",
   "metadata": {
    "tags": []
   },
   "outputs": [
    {
     "name": "stderr",
     "output_type": "stream",
     "text": [
      "C:\\Users\\terca\\AppData\\Local\\Temp\\ipykernel_8928\\420991141.py:1: SettingWithCopyWarning: \n",
      "A value is trying to be set on a copy of a slice from a DataFrame.\n",
      "Try using .loc[row_indexer,col_indexer] = value instead\n",
      "\n",
      "See the caveats in the documentation: https://pandas.pydata.org/pandas-docs/stable/user_guide/indexing.html#returning-a-view-versus-a-copy\n",
      "  without_org['organism_tmp'] = without_org['record_description'].apply(lambda x: x.split('\\t')[1])\n"
     ]
    }
   ],
   "source": [
    "without_org['organism_tmp'] = without_org['record_description'].apply(lambda x: x.split('\\t')[1])"
   ]
  },
  {
   "cell_type": "code",
   "execution_count": 56,
   "id": "a747b445-b74c-4219-a3be-6d48daf6467d",
   "metadata": {
    "tags": []
   },
   "outputs": [],
   "source": [
    "org_1 =  without_org['organism_tmp'].value_counts().index.tolist()\n",
    "org_2 = [org.split('_')[0] + '_' + org.split('_')[2].replace('.','_') for org in without_org['organism_tmp'].value_counts().index.tolist()]"
   ]
  },
  {
   "cell_type": "code",
   "execution_count": 57,
   "id": "ed4f2cf9-058d-47c1-a325-5395a773f564",
   "metadata": {
    "tags": []
   },
   "outputs": [],
   "source": [
    "with open('organism_names_not_anno2.csv', 'w') as out_handle:\n",
    "    out_handle.write('phytozome_name, search_name, organism_name, taxid\\n')\n",
    "    for org1, org2 in zip(org_1, org_2):\n",
    "        out_handle.write(f'{org1},{org2},,\\n')"
   ]
  },
  {
   "cell_type": "code",
   "execution_count": 79,
   "id": "7a0728f7-c788-43e0-a886-86a584c9edc0",
   "metadata": {
    "tags": []
   },
   "outputs": [],
   "source": [
    "org_df = pd.read_csv('organism_names_not_anno2.csv')"
   ]
  },
  {
   "cell_type": "code",
   "execution_count": 80,
   "id": "6a25bfd5-df0a-4cd0-aa73-40252f8f2c97",
   "metadata": {
    "tags": []
   },
   "outputs": [
    {
     "data": {
      "text/html": [
       "<div>\n",
       "<style scoped>\n",
       "    .dataframe tbody tr th:only-of-type {\n",
       "        vertical-align: middle;\n",
       "    }\n",
       "\n",
       "    .dataframe tbody tr th {\n",
       "        vertical-align: top;\n",
       "    }\n",
       "\n",
       "    .dataframe thead th {\n",
       "        text-align: right;\n",
       "    }\n",
       "</style>\n",
       "<table border=\"1\" class=\"dataframe\">\n",
       "  <thead>\n",
       "    <tr style=\"text-align: right;\">\n",
       "      <th></th>\n",
       "      <th>phytozome_name</th>\n",
       "      <th>search_name</th>\n",
       "      <th>organism_name</th>\n",
       "      <th>taxid</th>\n",
       "    </tr>\n",
       "  </thead>\n",
       "  <tbody>\n",
       "    <tr>\n",
       "      <th>0</th>\n",
       "      <td>Pvirgatum_516_v5.1</td>\n",
       "      <td>Pvirgatum_v5_1</td>\n",
       "      <td>Panicum virgatum</td>\n",
       "      <td>38727.0</td>\n",
       "    </tr>\n",
       "    <tr>\n",
       "      <th>1</th>\n",
       "      <td>FxananassaRoyalRoyce_701_v1.0</td>\n",
       "      <td>FxananassaRoyalRoyce_v1_0</td>\n",
       "      <td>Fragaria x ananassa Royal Royce</td>\n",
       "      <td>3747.0</td>\n",
       "    </tr>\n",
       "    <tr>\n",
       "      <th>2</th>\n",
       "      <td>Ccitriodora_507_v2.1</td>\n",
       "      <td>Ccitriodora_v2_1</td>\n",
       "      <td>Corymbia citriodora</td>\n",
       "      <td>34329.0</td>\n",
       "    </tr>\n",
       "    <tr>\n",
       "      <th>3</th>\n",
       "      <td>Ahypogaea_530_v1.0</td>\n",
       "      <td>Ahypogaea_v1_0</td>\n",
       "      <td>Arachis hypogaea</td>\n",
       "      <td>3818.0</td>\n",
       "    </tr>\n",
       "    <tr>\n",
       "      <th>4</th>\n",
       "      <td>Gmustelinum_524_v1.1</td>\n",
       "      <td>Gmustelinum_v1_1</td>\n",
       "      <td>Gossypium mustelinum</td>\n",
       "      <td>34275.0</td>\n",
       "    </tr>\n",
       "    <tr>\n",
       "      <th>...</th>\n",
       "      <td>...</td>\n",
       "      <td>...</td>\n",
       "      <td>...</td>\n",
       "      <td>...</td>\n",
       "    </tr>\n",
       "    <tr>\n",
       "      <th>201</th>\n",
       "      <td>Zmarina_668_v3.1</td>\n",
       "      <td>Zmarina_v3_1</td>\n",
       "      <td>Zostera marina</td>\n",
       "      <td>29655.0</td>\n",
       "    </tr>\n",
       "    <tr>\n",
       "      <th>202</th>\n",
       "      <td>Creinhardtii_281_v5.5</td>\n",
       "      <td>Creinhardtii_v5_5</td>\n",
       "      <td>Chlamydomonas reinhardtii</td>\n",
       "      <td>3055.0</td>\n",
       "    </tr>\n",
       "    <tr>\n",
       "      <th>203</th>\n",
       "      <td>Osativa_323_v7.0</td>\n",
       "      <td>Osativa_v7_0</td>\n",
       "      <td>Oryza sativa</td>\n",
       "      <td>39947.0</td>\n",
       "    </tr>\n",
       "    <tr>\n",
       "      <th>204</th>\n",
       "      <td>MguttatusNONTOL_506_v3.1</td>\n",
       "      <td>MguttatusNONTOL_v3_1</td>\n",
       "      <td>Mimulus guttatus</td>\n",
       "      <td>4155.0</td>\n",
       "    </tr>\n",
       "    <tr>\n",
       "      <th>205</th>\n",
       "      <td>Sbicolor_313_v3.1</td>\n",
       "      <td>Sbicolor_v3_1</td>\n",
       "      <td>Sorghum bicolor</td>\n",
       "      <td>4558.0</td>\n",
       "    </tr>\n",
       "  </tbody>\n",
       "</table>\n",
       "<p>206 rows × 4 columns</p>\n",
       "</div>"
      ],
      "text/plain": [
       "                    phytozome_name                search_name  \\\n",
       "0               Pvirgatum_516_v5.1             Pvirgatum_v5_1   \n",
       "1    FxananassaRoyalRoyce_701_v1.0  FxananassaRoyalRoyce_v1_0   \n",
       "2             Ccitriodora_507_v2.1           Ccitriodora_v2_1   \n",
       "3               Ahypogaea_530_v1.0             Ahypogaea_v1_0   \n",
       "4             Gmustelinum_524_v1.1           Gmustelinum_v1_1   \n",
       "..                             ...                        ...   \n",
       "201               Zmarina_668_v3.1               Zmarina_v3_1   \n",
       "202          Creinhardtii_281_v5.5          Creinhardtii_v5_5   \n",
       "203               Osativa_323_v7.0               Osativa_v7_0   \n",
       "204       MguttatusNONTOL_506_v3.1       MguttatusNONTOL_v3_1   \n",
       "205              Sbicolor_313_v3.1              Sbicolor_v3_1   \n",
       "\n",
       "                       organism_name    taxid  \n",
       "0                   Panicum virgatum  38727.0  \n",
       "1    Fragaria x ananassa Royal Royce   3747.0  \n",
       "2                Corymbia citriodora  34329.0  \n",
       "3                   Arachis hypogaea   3818.0  \n",
       "4               Gossypium mustelinum  34275.0  \n",
       "..                               ...      ...  \n",
       "201                   Zostera marina  29655.0  \n",
       "202        Chlamydomonas reinhardtii   3055.0  \n",
       "203                     Oryza sativa  39947.0  \n",
       "204                 Mimulus guttatus   4155.0  \n",
       "205                  Sorghum bicolor   4558.0  \n",
       "\n",
       "[206 rows x 4 columns]"
      ]
     },
     "execution_count": 80,
     "metadata": {},
     "output_type": "execute_result"
    }
   ],
   "source": [
    "org_df"
   ]
  },
  {
   "cell_type": "code",
   "execution_count": 83,
   "id": "9355e1a6-70b6-4e17-a9a2-f43438509b63",
   "metadata": {
    "tags": []
   },
   "outputs": [],
   "source": [
    "without_org = without_org.merge(org_df, how='left', left_on='organism_tmp', right_on='phytozome_name')"
   ]
  },
  {
   "cell_type": "code",
   "execution_count": 84,
   "id": "4efbe3c1-e380-4ef6-af5a-e3de82a2a474",
   "metadata": {
    "tags": []
   },
   "outputs": [
    {
     "data": {
      "text/plain": [
       "Index(['record_id', 'record_description', 'new_id', 'organism_tmp',\n",
       "       'phytozome_name', 'search_name', 'organism_name', 'taxid'],\n",
       "      dtype='object')"
      ]
     },
     "execution_count": 84,
     "metadata": {},
     "output_type": "execute_result"
    }
   ],
   "source": [
    "without_org.columns"
   ]
  },
  {
   "cell_type": "code",
   "execution_count": 86,
   "id": "93060645-2623-4cf9-b047-4f20799eeddb",
   "metadata": {
    "tags": []
   },
   "outputs": [],
   "source": [
    "without_org = without_org[['record_id', 'record_description', 'new_id', 'organism_tmp', 'organism_name', 'taxid', 'phytozome_name', 'search_name']]"
   ]
  },
  {
   "cell_type": "markdown",
   "id": "f6701d33-3519-4597-afa4-4ec603d1abac",
   "metadata": {},
   "source": [
    "### Concatenate"
   ]
  },
  {
   "cell_type": "code",
   "execution_count": 72,
   "id": "7683e6ca-3f15-47ab-82d4-eb64288d1f50",
   "metadata": {
    "tags": []
   },
   "outputs": [
    {
     "data": {
      "text/html": [
       "<div>\n",
       "<style scoped>\n",
       "    .dataframe tbody tr th:only-of-type {\n",
       "        vertical-align: middle;\n",
       "    }\n",
       "\n",
       "    .dataframe tbody tr th {\n",
       "        vertical-align: top;\n",
       "    }\n",
       "\n",
       "    .dataframe thead th {\n",
       "        text-align: right;\n",
       "    }\n",
       "</style>\n",
       "<table border=\"1\" class=\"dataframe\">\n",
       "  <thead>\n",
       "    <tr style=\"text-align: right;\">\n",
       "      <th></th>\n",
       "      <th>record_id</th>\n",
       "      <th>record_description</th>\n",
       "      <th>new_id</th>\n",
       "      <th>organism_tmp</th>\n",
       "      <th>organism_name</th>\n",
       "    </tr>\n",
       "  </thead>\n",
       "  <tbody>\n",
       "    <tr>\n",
       "      <th>0</th>\n",
       "      <td>Poman.08G070300.1.p</td>\n",
       "      <td>Poman.08G070300.1.p pacid=51219549 transcript=...</td>\n",
       "      <td>phytozome_000000</td>\n",
       "      <td>Populus nigra x maximowiczii NM6</td>\n",
       "      <td>Populus nigra x maximowiczii NM6</td>\n",
       "    </tr>\n",
       "    <tr>\n",
       "      <th>1</th>\n",
       "      <td>Poman.17G112600.1.p</td>\n",
       "      <td>Poman.17G112600.1.p pacid=51221212 transcript=...</td>\n",
       "      <td>phytozome_000001</td>\n",
       "      <td>Populus nigra x maximowiczii NM6</td>\n",
       "      <td>Populus nigra x maximowiczii NM6</td>\n",
       "    </tr>\n",
       "    <tr>\n",
       "      <th>2</th>\n",
       "      <td>Poman.17G029100.1.p</td>\n",
       "      <td>Poman.17G029100.1.p pacid=51222789 transcript=...</td>\n",
       "      <td>phytozome_000002</td>\n",
       "      <td>Populus nigra x maximowiczii NM6</td>\n",
       "      <td>Populus nigra x maximowiczii NM6</td>\n",
       "    </tr>\n",
       "    <tr>\n",
       "      <th>3</th>\n",
       "      <td>Poman.05G080900.1.p</td>\n",
       "      <td>Poman.05G080900.1.p pacid=51225878 transcript=...</td>\n",
       "      <td>phytozome_000003</td>\n",
       "      <td>Populus nigra x maximowiczii NM6</td>\n",
       "      <td>Populus nigra x maximowiczii NM6</td>\n",
       "    </tr>\n",
       "    <tr>\n",
       "      <th>4</th>\n",
       "      <td>Poman.05G172100.1.p</td>\n",
       "      <td>Poman.05G172100.1.p pacid=51226704 transcript=...</td>\n",
       "      <td>phytozome_000004</td>\n",
       "      <td>Populus nigra x maximowiczii NM6</td>\n",
       "      <td>Populus nigra x maximowiczii NM6</td>\n",
       "    </tr>\n",
       "  </tbody>\n",
       "</table>\n",
       "</div>"
      ],
      "text/plain": [
       "             record_id                                 record_description  \\\n",
       "0  Poman.08G070300.1.p  Poman.08G070300.1.p pacid=51219549 transcript=...   \n",
       "1  Poman.17G112600.1.p  Poman.17G112600.1.p pacid=51221212 transcript=...   \n",
       "2  Poman.17G029100.1.p  Poman.17G029100.1.p pacid=51222789 transcript=...   \n",
       "3  Poman.05G080900.1.p  Poman.05G080900.1.p pacid=51225878 transcript=...   \n",
       "4  Poman.05G172100.1.p  Poman.05G172100.1.p pacid=51226704 transcript=...   \n",
       "\n",
       "             new_id                      organism_tmp  \\\n",
       "0  phytozome_000000  Populus nigra x maximowiczii NM6   \n",
       "1  phytozome_000001  Populus nigra x maximowiczii NM6   \n",
       "2  phytozome_000002  Populus nigra x maximowiczii NM6   \n",
       "3  phytozome_000003  Populus nigra x maximowiczii NM6   \n",
       "4  phytozome_000004  Populus nigra x maximowiczii NM6   \n",
       "\n",
       "                      organism_name  \n",
       "0  Populus nigra x maximowiczii NM6  \n",
       "1  Populus nigra x maximowiczii NM6  \n",
       "2  Populus nigra x maximowiczii NM6  \n",
       "3  Populus nigra x maximowiczii NM6  \n",
       "4  Populus nigra x maximowiczii NM6  "
      ]
     },
     "execution_count": 72,
     "metadata": {},
     "output_type": "execute_result"
    }
   ],
   "source": [
    "with_org.head()"
   ]
  },
  {
   "cell_type": "code",
   "execution_count": 87,
   "id": "98f6c311-8b8b-460d-aa8d-b11f30ddc546",
   "metadata": {
    "tags": []
   },
   "outputs": [
    {
     "data": {
      "text/html": [
       "<div>\n",
       "<style scoped>\n",
       "    .dataframe tbody tr th:only-of-type {\n",
       "        vertical-align: middle;\n",
       "    }\n",
       "\n",
       "    .dataframe tbody tr th {\n",
       "        vertical-align: top;\n",
       "    }\n",
       "\n",
       "    .dataframe thead th {\n",
       "        text-align: right;\n",
       "    }\n",
       "</style>\n",
       "<table border=\"1\" class=\"dataframe\">\n",
       "  <thead>\n",
       "    <tr style=\"text-align: right;\">\n",
       "      <th></th>\n",
       "      <th>record_id</th>\n",
       "      <th>record_description</th>\n",
       "      <th>new_id</th>\n",
       "      <th>organism_tmp</th>\n",
       "      <th>organism_name</th>\n",
       "      <th>taxid</th>\n",
       "      <th>phytozome_name</th>\n",
       "      <th>search_name</th>\n",
       "    </tr>\n",
       "  </thead>\n",
       "  <tbody>\n",
       "    <tr>\n",
       "      <th>0</th>\n",
       "      <td>BdiBd1-1.5G236000.1.p</td>\n",
       "      <td>BdiBd1-1.5G236000.1.p pacid=43421569 transcrip...</td>\n",
       "      <td>phytozome_000088</td>\n",
       "      <td>BdistachyonBd1_1_549_v1.1</td>\n",
       "      <td>Brachypodium distachyon</td>\n",
       "      <td>15368.0</td>\n",
       "      <td>BdistachyonBd1_1_549_v1.1</td>\n",
       "      <td>Bdistachyon_v1_1</td>\n",
       "    </tr>\n",
       "    <tr>\n",
       "      <th>1</th>\n",
       "      <td>BdiBd1-1.5G236000.3.p</td>\n",
       "      <td>BdiBd1-1.5G236000.3.p pacid=43421570 transcrip...</td>\n",
       "      <td>phytozome_000089</td>\n",
       "      <td>BdistachyonBd1_1_549_v1.1</td>\n",
       "      <td>Brachypodium distachyon</td>\n",
       "      <td>15368.0</td>\n",
       "      <td>BdistachyonBd1_1_549_v1.1</td>\n",
       "      <td>Bdistachyon_v1_1</td>\n",
       "    </tr>\n",
       "    <tr>\n",
       "      <th>2</th>\n",
       "      <td>BdiBd1-1.5G236000.2.p</td>\n",
       "      <td>BdiBd1-1.5G236000.2.p pacid=43421571 transcrip...</td>\n",
       "      <td>phytozome_000090</td>\n",
       "      <td>BdistachyonBd1_1_549_v1.1</td>\n",
       "      <td>Brachypodium distachyon</td>\n",
       "      <td>15368.0</td>\n",
       "      <td>BdistachyonBd1_1_549_v1.1</td>\n",
       "      <td>Bdistachyon_v1_1</td>\n",
       "    </tr>\n",
       "    <tr>\n",
       "      <th>3</th>\n",
       "      <td>BdiBd1-1.5G236000.7.p</td>\n",
       "      <td>BdiBd1-1.5G236000.7.p pacid=43421572 transcrip...</td>\n",
       "      <td>phytozome_000091</td>\n",
       "      <td>BdistachyonBd1_1_549_v1.1</td>\n",
       "      <td>Brachypodium distachyon</td>\n",
       "      <td>15368.0</td>\n",
       "      <td>BdistachyonBd1_1_549_v1.1</td>\n",
       "      <td>Bdistachyon_v1_1</td>\n",
       "    </tr>\n",
       "    <tr>\n",
       "      <th>4</th>\n",
       "      <td>BdiBd1-1.5G236000.9.p</td>\n",
       "      <td>BdiBd1-1.5G236000.9.p pacid=43421573 transcrip...</td>\n",
       "      <td>phytozome_000092</td>\n",
       "      <td>BdistachyonBd1_1_549_v1.1</td>\n",
       "      <td>Brachypodium distachyon</td>\n",
       "      <td>15368.0</td>\n",
       "      <td>BdistachyonBd1_1_549_v1.1</td>\n",
       "      <td>Bdistachyon_v1_1</td>\n",
       "    </tr>\n",
       "  </tbody>\n",
       "</table>\n",
       "</div>"
      ],
      "text/plain": [
       "               record_id                                 record_description  \\\n",
       "0  BdiBd1-1.5G236000.1.p  BdiBd1-1.5G236000.1.p pacid=43421569 transcrip...   \n",
       "1  BdiBd1-1.5G236000.3.p  BdiBd1-1.5G236000.3.p pacid=43421570 transcrip...   \n",
       "2  BdiBd1-1.5G236000.2.p  BdiBd1-1.5G236000.2.p pacid=43421571 transcrip...   \n",
       "3  BdiBd1-1.5G236000.7.p  BdiBd1-1.5G236000.7.p pacid=43421572 transcrip...   \n",
       "4  BdiBd1-1.5G236000.9.p  BdiBd1-1.5G236000.9.p pacid=43421573 transcrip...   \n",
       "\n",
       "             new_id               organism_tmp            organism_name  \\\n",
       "0  phytozome_000088  BdistachyonBd1_1_549_v1.1  Brachypodium distachyon   \n",
       "1  phytozome_000089  BdistachyonBd1_1_549_v1.1  Brachypodium distachyon   \n",
       "2  phytozome_000090  BdistachyonBd1_1_549_v1.1  Brachypodium distachyon   \n",
       "3  phytozome_000091  BdistachyonBd1_1_549_v1.1  Brachypodium distachyon   \n",
       "4  phytozome_000092  BdistachyonBd1_1_549_v1.1  Brachypodium distachyon   \n",
       "\n",
       "     taxid             phytozome_name       search_name  \n",
       "0  15368.0  BdistachyonBd1_1_549_v1.1  Bdistachyon_v1_1  \n",
       "1  15368.0  BdistachyonBd1_1_549_v1.1  Bdistachyon_v1_1  \n",
       "2  15368.0  BdistachyonBd1_1_549_v1.1  Bdistachyon_v1_1  \n",
       "3  15368.0  BdistachyonBd1_1_549_v1.1  Bdistachyon_v1_1  \n",
       "4  15368.0  BdistachyonBd1_1_549_v1.1  Bdistachyon_v1_1  "
      ]
     },
     "execution_count": 87,
     "metadata": {},
     "output_type": "execute_result"
    }
   ],
   "source": [
    "without_org.head()"
   ]
  },
  {
   "cell_type": "code",
   "execution_count": 89,
   "id": "c302839f-270c-4cbc-a6f2-d7a19e322546",
   "metadata": {
    "tags": []
   },
   "outputs": [],
   "source": [
    "final_mapping_df = pd.concat([with_org, without_org])"
   ]
  },
  {
   "cell_type": "code",
   "execution_count": 91,
   "id": "e270c9f7-2e0f-4421-874c-75b8749a8b4e",
   "metadata": {
    "tags": []
   },
   "outputs": [],
   "source": [
    "final_mapping_df.to_csv('phytozome_mapping_annotated.csv')"
   ]
  },
  {
   "cell_type": "markdown",
   "id": "3ac8ef58-45ef-49fd-becb-2dd08c102f22",
   "metadata": {},
   "source": [
    "## Add tax id lineage info"
   ]
  },
  {
   "cell_type": "code",
   "execution_count": 2,
   "id": "e4696469-f32a-4744-af00-77f0a0637dbd",
   "metadata": {},
   "outputs": [],
   "source": [
    "anno_df = pd.read_csv('phytozome_mapping_annotated.csv', index_col=0)"
   ]
  },
  {
   "cell_type": "code",
   "execution_count": 6,
   "id": "f41eae97-8a3c-4776-81b0-ab879fdc475a",
   "metadata": {
    "tags": []
   },
   "outputs": [
    {
     "data": {
      "text/plain": [
       "2184"
      ]
     },
     "execution_count": 6,
     "metadata": {},
     "output_type": "execute_result"
    }
   ],
   "source": [
    "anno_df[anno_df['taxid'].isna()].shape[0]"
   ]
  },
  {
   "cell_type": "code",
   "execution_count": 7,
   "id": "7102ae3d-18b7-45f5-bce7-18da523eb3ba",
   "metadata": {
    "tags": []
   },
   "outputs": [
    {
     "data": {
      "text/plain": [
       "139"
      ]
     },
     "execution_count": 7,
     "metadata": {},
     "output_type": "execute_result"
    }
   ],
   "source": [
    "anno_df[anno_df['organism_name'].isna()].shape[0]"
   ]
  },
  {
   "cell_type": "code",
   "execution_count": 11,
   "id": "b4af4c2a-892a-4552-a18d-c2fd08657af0",
   "metadata": {
    "tags": []
   },
   "outputs": [],
   "source": [
    "anno_df['organism'] = anno_df['organism_name']"
   ]
  },
  {
   "cell_type": "code",
   "execution_count": 14,
   "id": "95932fda-2c6d-4760-b933-80247f14df5e",
   "metadata": {
    "tags": []
   },
   "outputs": [],
   "source": [
    "import taxoniq\n",
    "from math import isnan"
   ]
  },
  {
   "cell_type": "code",
   "execution_count": 20,
   "id": "cd552d91-1058-426b-8cfb-18b2fc2e3f41",
   "metadata": {
    "tags": []
   },
   "outputs": [],
   "source": [
    "taxid_map = {'Triticum aestivum cv Chinese Spring': 4565,\n",
    "             'Gossypium hirsutum DeltaPearl': 3635,\n",
    "             'Gossypium hirsutum CSX8308': 3635,\n",
    "             'Gossypium hirsutum Coker': 3635,\n",
    "             'Liriodendron tulipifera YP108A': 3415,\n",
    "             'Liriodendron tulipifera YP108A alt': 3415,\n",
    "             'Setaria viridis A10': 4556,\n",
    "             'Populus nigra x maximowiczii NM6': 343990,\n",
    "             'Populus tremula x Populus alba HAP1': 80863,\n",
    "             'Populus tremula x Populus alba HAP2': 80863,\n",
    "             'Amborella trichopoda var SantaCruz_75 HAP1': 13333,\n",
    "             'Amborella trichopoda var SantaCruz_75 HAP2': 13333,\n",
    "             'Beta vulgaris ssp vulgaris': 3555,\n",
    "             'Glycine max Wm82 ISU-01': 3847,\n",
    "             'Chlamydomonas reinhardtii CC-4532': 3055\n",
    "            }"
   ]
  },
  {
   "cell_type": "code",
   "execution_count": 21,
   "id": "447074ed-c76d-46d6-afea-34c1eec83bc1",
   "metadata": {
    "tags": []
   },
   "outputs": [],
   "source": [
    "def get_tax_id(x):\n",
    "    try:\n",
    "        t = taxoniq.Taxon(scientific_name=x['organism'])\n",
    "        return t.tax_id\n",
    "    except:\n",
    "        try:\n",
    "            return taxid_map[x['organism']]\n",
    "        except:\n",
    "            if isnan(x['taxid']):\n",
    "                return 'error'\n",
    "            else:\n",
    "                return x['taxid']"
   ]
  },
  {
   "cell_type": "code",
   "execution_count": 22,
   "id": "96044540-97a1-45ad-a8c7-f31f95201e9b",
   "metadata": {
    "tags": []
   },
   "outputs": [],
   "source": [
    "anno_df['tax_id'] = anno_df.apply(lambda x: get_tax_id(x), axis=1)"
   ]
  },
  {
   "cell_type": "code",
   "execution_count": 26,
   "id": "ada55789-3adb-4e19-9945-8079deaf5237",
   "metadata": {
    "tags": []
   },
   "outputs": [],
   "source": [
    "def add_lineage(x):\n",
    "    try:\n",
    "        t = taxoniq.Taxon(x)\n",
    "        lineage = dict()\n",
    "        for line in t.ranked_lineage:\n",
    "            lineage[line.rank.name] = line.scientific_name\n",
    "        return lineage\n",
    "    except:\n",
    "        return 'error'"
   ]
  },
  {
   "cell_type": "code",
   "execution_count": 27,
   "id": "ed60392e-5b86-49aa-b1d4-9c18ca3b34a3",
   "metadata": {
    "tags": []
   },
   "outputs": [],
   "source": [
    "anno_df['lineage'] = anno_df['tax_id'].apply(lambda x: add_lineage(x))"
   ]
  },
  {
   "cell_type": "code",
   "execution_count": 32,
   "id": "7f50852f-0804-45fa-90c2-34c64ae52ba9",
   "metadata": {
    "tags": []
   },
   "outputs": [],
   "source": [
    "def add_line(lineage, line):\n",
    "    try:\n",
    "        return lineage[line]\n",
    "    except:\n",
    "        return 'unknown'"
   ]
  },
  {
   "cell_type": "code",
   "execution_count": 33,
   "id": "87f03cc3-0a03-43bd-bccd-116de63ed573",
   "metadata": {
    "tags": []
   },
   "outputs": [],
   "source": [
    "anno_df['superkingdom'] = anno_df['lineage'].apply(lambda x: add_line(x, 'superkingdom'))"
   ]
  },
  {
   "cell_type": "code",
   "execution_count": 34,
   "id": "06027ff2-086b-49c3-b80d-f325f651d5f5",
   "metadata": {
    "tags": []
   },
   "outputs": [],
   "source": [
    "anno_df['kingdom'] = anno_df['lineage'].apply(lambda x: add_line(x, 'kingdom'))"
   ]
  },
  {
   "cell_type": "code",
   "execution_count": 35,
   "id": "6d90881d-3d0d-430b-a50e-eb72089cd036",
   "metadata": {
    "tags": []
   },
   "outputs": [],
   "source": [
    "anno_df['phylum'] = anno_df['lineage'].apply(lambda x: add_line(x, 'phylum'))"
   ]
  },
  {
   "cell_type": "code",
   "execution_count": 36,
   "id": "e4929c1d-6a7e-4929-9b69-24922b1d5cfc",
   "metadata": {
    "tags": []
   },
   "outputs": [
    {
     "data": {
      "text/plain": [
       "superkingdom\n",
       "Eukaryota    15324\n",
       "unknown        139\n",
       "Name: count, dtype: int64"
      ]
     },
     "execution_count": 36,
     "metadata": {},
     "output_type": "execute_result"
    }
   ],
   "source": [
    "anno_df['superkingdom'].value_counts()"
   ]
  },
  {
   "cell_type": "code",
   "execution_count": 37,
   "id": "091b6287-b059-47ed-8bc6-00afa90ce1f4",
   "metadata": {
    "tags": []
   },
   "outputs": [
    {
     "data": {
      "text/plain": [
       "kingdom\n",
       "Viridiplantae    15324\n",
       "unknown            139\n",
       "Name: count, dtype: int64"
      ]
     },
     "execution_count": 37,
     "metadata": {},
     "output_type": "execute_result"
    }
   ],
   "source": [
    "anno_df['kingdom'].value_counts()"
   ]
  },
  {
   "cell_type": "code",
   "execution_count": 38,
   "id": "efcbc885-8e70-475f-9df1-a04d0e5d1221",
   "metadata": {
    "tags": []
   },
   "outputs": [
    {
     "data": {
      "text/plain": [
       "phylum\n",
       "Streptophyta    15258\n",
       "unknown           139\n",
       "Chlorophyta        66\n",
       "Name: count, dtype: int64"
      ]
     },
     "execution_count": 38,
     "metadata": {},
     "output_type": "execute_result"
    }
   ],
   "source": [
    "anno_df['phylum'].value_counts().head()"
   ]
  },
  {
   "cell_type": "code",
   "execution_count": 39,
   "id": "cbe36bc1-176f-4522-a964-6af2ef3c742c",
   "metadata": {
    "tags": []
   },
   "outputs": [],
   "source": [
    "anno_df.to_csv('phytozome_mapping_annotated_lin.csv')"
   ]
  },
  {
   "cell_type": "code",
   "execution_count": 1,
   "id": "b8e16b8f-8be9-4749-8b34-5874cc3ecace",
   "metadata": {},
   "outputs": [],
   "source": [
    "import pandas as pd\n",
    "anno_df = pd.read_csv('phytozome_mapping_annotated_lin.csv', index_col=0)"
   ]
  },
  {
   "cell_type": "code",
   "execution_count": 2,
   "id": "64a21459-3742-4173-a7b7-f2a235998030",
   "metadata": {
    "tags": []
   },
   "outputs": [
    {
     "data": {
      "text/html": [
       "<div>\n",
       "<style scoped>\n",
       "    .dataframe tbody tr th:only-of-type {\n",
       "        vertical-align: middle;\n",
       "    }\n",
       "\n",
       "    .dataframe tbody tr th {\n",
       "        vertical-align: top;\n",
       "    }\n",
       "\n",
       "    .dataframe thead th {\n",
       "        text-align: right;\n",
       "    }\n",
       "</style>\n",
       "<table border=\"1\" class=\"dataframe\">\n",
       "  <thead>\n",
       "    <tr style=\"text-align: right;\">\n",
       "      <th></th>\n",
       "      <th>record_id</th>\n",
       "      <th>record_description</th>\n",
       "      <th>new_id</th>\n",
       "      <th>organism_tmp</th>\n",
       "      <th>organism_name</th>\n",
       "      <th>taxid</th>\n",
       "      <th>phytozome_name</th>\n",
       "      <th>search_name</th>\n",
       "      <th>organism</th>\n",
       "      <th>tax_id</th>\n",
       "      <th>lineage</th>\n",
       "      <th>superkingdom</th>\n",
       "      <th>kingdom</th>\n",
       "      <th>phylum</th>\n",
       "    </tr>\n",
       "  </thead>\n",
       "  <tbody>\n",
       "    <tr>\n",
       "      <th>6467</th>\n",
       "      <td>Godar.A01G080700.1.p</td>\n",
       "      <td>Godar.A01G080700.1.p pacid=42504542 transcript...</td>\n",
       "      <td>phytozome_007402</td>\n",
       "      <td>darwinii_529_v1.1</td>\n",
       "      <td>NaN</td>\n",
       "      <td>NaN</td>\n",
       "      <td>darwinii_529_v1.1</td>\n",
       "      <td>darwinii_v1_1</td>\n",
       "      <td>NaN</td>\n",
       "      <td>error</td>\n",
       "      <td>error</td>\n",
       "      <td>unknown</td>\n",
       "      <td>unknown</td>\n",
       "      <td>unknown</td>\n",
       "    </tr>\n",
       "    <tr>\n",
       "      <th>6468</th>\n",
       "      <td>Godar.A01G230400.1.p</td>\n",
       "      <td>Godar.A01G230400.1.p pacid=42504901 transcript...</td>\n",
       "      <td>phytozome_007403</td>\n",
       "      <td>darwinii_529_v1.1</td>\n",
       "      <td>NaN</td>\n",
       "      <td>NaN</td>\n",
       "      <td>darwinii_529_v1.1</td>\n",
       "      <td>darwinii_v1_1</td>\n",
       "      <td>NaN</td>\n",
       "      <td>error</td>\n",
       "      <td>error</td>\n",
       "      <td>unknown</td>\n",
       "      <td>unknown</td>\n",
       "      <td>unknown</td>\n",
       "    </tr>\n",
       "    <tr>\n",
       "      <th>6469</th>\n",
       "      <td>Godar.A01G110800.1.p</td>\n",
       "      <td>Godar.A01G110800.1.p pacid=42505500 transcript...</td>\n",
       "      <td>phytozome_007404</td>\n",
       "      <td>darwinii_529_v1.1</td>\n",
       "      <td>NaN</td>\n",
       "      <td>NaN</td>\n",
       "      <td>darwinii_529_v1.1</td>\n",
       "      <td>darwinii_v1_1</td>\n",
       "      <td>NaN</td>\n",
       "      <td>error</td>\n",
       "      <td>error</td>\n",
       "      <td>unknown</td>\n",
       "      <td>unknown</td>\n",
       "      <td>unknown</td>\n",
       "    </tr>\n",
       "    <tr>\n",
       "      <th>6470</th>\n",
       "      <td>Godar.A01G110800.2.p</td>\n",
       "      <td>Godar.A01G110800.2.p pacid=42505501 transcript...</td>\n",
       "      <td>phytozome_007405</td>\n",
       "      <td>darwinii_529_v1.1</td>\n",
       "      <td>NaN</td>\n",
       "      <td>NaN</td>\n",
       "      <td>darwinii_529_v1.1</td>\n",
       "      <td>darwinii_v1_1</td>\n",
       "      <td>NaN</td>\n",
       "      <td>error</td>\n",
       "      <td>error</td>\n",
       "      <td>unknown</td>\n",
       "      <td>unknown</td>\n",
       "      <td>unknown</td>\n",
       "    </tr>\n",
       "    <tr>\n",
       "      <th>6471</th>\n",
       "      <td>Godar.A01G081000.1.p</td>\n",
       "      <td>Godar.A01G081000.1.p pacid=42506485 transcript...</td>\n",
       "      <td>phytozome_007406</td>\n",
       "      <td>darwinii_529_v1.1</td>\n",
       "      <td>NaN</td>\n",
       "      <td>NaN</td>\n",
       "      <td>darwinii_529_v1.1</td>\n",
       "      <td>darwinii_v1_1</td>\n",
       "      <td>NaN</td>\n",
       "      <td>error</td>\n",
       "      <td>error</td>\n",
       "      <td>unknown</td>\n",
       "      <td>unknown</td>\n",
       "      <td>unknown</td>\n",
       "    </tr>\n",
       "    <tr>\n",
       "      <th>...</th>\n",
       "      <td>...</td>\n",
       "      <td>...</td>\n",
       "      <td>...</td>\n",
       "      <td>...</td>\n",
       "      <td>...</td>\n",
       "      <td>...</td>\n",
       "      <td>...</td>\n",
       "      <td>...</td>\n",
       "      <td>...</td>\n",
       "      <td>...</td>\n",
       "      <td>...</td>\n",
       "      <td>...</td>\n",
       "      <td>...</td>\n",
       "      <td>...</td>\n",
       "    </tr>\n",
       "    <tr>\n",
       "      <th>12770</th>\n",
       "      <td>Godar.D10G108600.1.p</td>\n",
       "      <td>Godar.D10G108600.1.p pacid=42578847 transcript...</td>\n",
       "      <td>phytozome_014723</td>\n",
       "      <td>darwinii_529_v1.1</td>\n",
       "      <td>NaN</td>\n",
       "      <td>NaN</td>\n",
       "      <td>darwinii_529_v1.1</td>\n",
       "      <td>darwinii_v1_1</td>\n",
       "      <td>NaN</td>\n",
       "      <td>error</td>\n",
       "      <td>error</td>\n",
       "      <td>unknown</td>\n",
       "      <td>unknown</td>\n",
       "      <td>unknown</td>\n",
       "    </tr>\n",
       "    <tr>\n",
       "      <th>12771</th>\n",
       "      <td>Godar.D05G195400.1.p</td>\n",
       "      <td>Godar.D05G195400.1.p pacid=42581837 transcript...</td>\n",
       "      <td>phytozome_014724</td>\n",
       "      <td>darwinii_529_v1.1</td>\n",
       "      <td>NaN</td>\n",
       "      <td>NaN</td>\n",
       "      <td>darwinii_529_v1.1</td>\n",
       "      <td>darwinii_v1_1</td>\n",
       "      <td>NaN</td>\n",
       "      <td>error</td>\n",
       "      <td>error</td>\n",
       "      <td>unknown</td>\n",
       "      <td>unknown</td>\n",
       "      <td>unknown</td>\n",
       "    </tr>\n",
       "    <tr>\n",
       "      <th>12772</th>\n",
       "      <td>Godar.D01G261600.1.p</td>\n",
       "      <td>Godar.D01G261600.1.p pacid=42593594 transcript...</td>\n",
       "      <td>phytozome_014725</td>\n",
       "      <td>darwinii_529_v1.1</td>\n",
       "      <td>NaN</td>\n",
       "      <td>NaN</td>\n",
       "      <td>darwinii_529_v1.1</td>\n",
       "      <td>darwinii_v1_1</td>\n",
       "      <td>NaN</td>\n",
       "      <td>error</td>\n",
       "      <td>error</td>\n",
       "      <td>unknown</td>\n",
       "      <td>unknown</td>\n",
       "      <td>unknown</td>\n",
       "    </tr>\n",
       "    <tr>\n",
       "      <th>12773</th>\n",
       "      <td>Godar.A10G050600.1.p</td>\n",
       "      <td>Godar.A10G050600.1.p pacid=42597022 transcript...</td>\n",
       "      <td>phytozome_014726</td>\n",
       "      <td>darwinii_529_v1.1</td>\n",
       "      <td>NaN</td>\n",
       "      <td>NaN</td>\n",
       "      <td>darwinii_529_v1.1</td>\n",
       "      <td>darwinii_v1_1</td>\n",
       "      <td>NaN</td>\n",
       "      <td>error</td>\n",
       "      <td>error</td>\n",
       "      <td>unknown</td>\n",
       "      <td>unknown</td>\n",
       "      <td>unknown</td>\n",
       "    </tr>\n",
       "    <tr>\n",
       "      <th>12774</th>\n",
       "      <td>Godar.A10G050600.2.p</td>\n",
       "      <td>Godar.A10G050600.2.p pacid=42597023 transcript...</td>\n",
       "      <td>phytozome_014727</td>\n",
       "      <td>darwinii_529_v1.1</td>\n",
       "      <td>NaN</td>\n",
       "      <td>NaN</td>\n",
       "      <td>darwinii_529_v1.1</td>\n",
       "      <td>darwinii_v1_1</td>\n",
       "      <td>NaN</td>\n",
       "      <td>error</td>\n",
       "      <td>error</td>\n",
       "      <td>unknown</td>\n",
       "      <td>unknown</td>\n",
       "      <td>unknown</td>\n",
       "    </tr>\n",
       "  </tbody>\n",
       "</table>\n",
       "<p>139 rows × 14 columns</p>\n",
       "</div>"
      ],
      "text/plain": [
       "                  record_id  \\\n",
       "6467   Godar.A01G080700.1.p   \n",
       "6468   Godar.A01G230400.1.p   \n",
       "6469   Godar.A01G110800.1.p   \n",
       "6470   Godar.A01G110800.2.p   \n",
       "6471   Godar.A01G081000.1.p   \n",
       "...                     ...   \n",
       "12770  Godar.D10G108600.1.p   \n",
       "12771  Godar.D05G195400.1.p   \n",
       "12772  Godar.D01G261600.1.p   \n",
       "12773  Godar.A10G050600.1.p   \n",
       "12774  Godar.A10G050600.2.p   \n",
       "\n",
       "                                      record_description            new_id  \\\n",
       "6467   Godar.A01G080700.1.p pacid=42504542 transcript...  phytozome_007402   \n",
       "6468   Godar.A01G230400.1.p pacid=42504901 transcript...  phytozome_007403   \n",
       "6469   Godar.A01G110800.1.p pacid=42505500 transcript...  phytozome_007404   \n",
       "6470   Godar.A01G110800.2.p pacid=42505501 transcript...  phytozome_007405   \n",
       "6471   Godar.A01G081000.1.p pacid=42506485 transcript...  phytozome_007406   \n",
       "...                                                  ...               ...   \n",
       "12770  Godar.D10G108600.1.p pacid=42578847 transcript...  phytozome_014723   \n",
       "12771  Godar.D05G195400.1.p pacid=42581837 transcript...  phytozome_014724   \n",
       "12772  Godar.D01G261600.1.p pacid=42593594 transcript...  phytozome_014725   \n",
       "12773  Godar.A10G050600.1.p pacid=42597022 transcript...  phytozome_014726   \n",
       "12774  Godar.A10G050600.2.p pacid=42597023 transcript...  phytozome_014727   \n",
       "\n",
       "            organism_tmp organism_name  taxid     phytozome_name  \\\n",
       "6467   darwinii_529_v1.1           NaN    NaN  darwinii_529_v1.1   \n",
       "6468   darwinii_529_v1.1           NaN    NaN  darwinii_529_v1.1   \n",
       "6469   darwinii_529_v1.1           NaN    NaN  darwinii_529_v1.1   \n",
       "6470   darwinii_529_v1.1           NaN    NaN  darwinii_529_v1.1   \n",
       "6471   darwinii_529_v1.1           NaN    NaN  darwinii_529_v1.1   \n",
       "...                  ...           ...    ...                ...   \n",
       "12770  darwinii_529_v1.1           NaN    NaN  darwinii_529_v1.1   \n",
       "12771  darwinii_529_v1.1           NaN    NaN  darwinii_529_v1.1   \n",
       "12772  darwinii_529_v1.1           NaN    NaN  darwinii_529_v1.1   \n",
       "12773  darwinii_529_v1.1           NaN    NaN  darwinii_529_v1.1   \n",
       "12774  darwinii_529_v1.1           NaN    NaN  darwinii_529_v1.1   \n",
       "\n",
       "         search_name organism tax_id lineage superkingdom  kingdom   phylum  \n",
       "6467   darwinii_v1_1      NaN  error   error      unknown  unknown  unknown  \n",
       "6468   darwinii_v1_1      NaN  error   error      unknown  unknown  unknown  \n",
       "6469   darwinii_v1_1      NaN  error   error      unknown  unknown  unknown  \n",
       "6470   darwinii_v1_1      NaN  error   error      unknown  unknown  unknown  \n",
       "6471   darwinii_v1_1      NaN  error   error      unknown  unknown  unknown  \n",
       "...              ...      ...    ...     ...          ...      ...      ...  \n",
       "12770  darwinii_v1_1      NaN  error   error      unknown  unknown  unknown  \n",
       "12771  darwinii_v1_1      NaN  error   error      unknown  unknown  unknown  \n",
       "12772  darwinii_v1_1      NaN  error   error      unknown  unknown  unknown  \n",
       "12773  darwinii_v1_1      NaN  error   error      unknown  unknown  unknown  \n",
       "12774  darwinii_v1_1      NaN  error   error      unknown  unknown  unknown  \n",
       "\n",
       "[139 rows x 14 columns]"
      ]
     },
     "execution_count": 2,
     "metadata": {},
     "output_type": "execute_result"
    }
   ],
   "source": [
    "anno_df[anno_df['superkingdom']=='unknown']"
   ]
  },
  {
   "cell_type": "code",
   "execution_count": 8,
   "id": "1b5bffc7-f9a1-465d-8e2f-3b67ada8d8a4",
   "metadata": {},
   "outputs": [],
   "source": [
    "anno_df[['record_id', 'record_description', 'new_id', 'organism', 'tax_id', 'lineage', 'superkingdom', 'kingdom', 'phylum']].to_csv('phytozome_mapping_sele.csv')"
   ]
  },
  {
   "cell_type": "markdown",
   "id": "c83834f3-1944-4dcb-8ba7-1255e6e0cb82",
   "metadata": {},
   "source": [
    "## Add domains and architectures"
   ]
  },
  {
   "cell_type": "code",
   "execution_count": 9,
   "id": "75530609-5f0c-4f9c-9001-7246ca3275de",
   "metadata": {
    "tags": []
   },
   "outputs": [],
   "source": [
    "import pandas as pd\n",
    "pd.set_option('display.max_columns', None)"
   ]
  },
  {
   "cell_type": "code",
   "execution_count": 10,
   "id": "5f4f417a-018a-467c-bac4-416d2079e6e4",
   "metadata": {
    "tags": []
   },
   "outputs": [],
   "source": [
    "anno_df = pd.read_csv('phytozome_mapping_sele.csv', index_col=0)"
   ]
  },
  {
   "cell_type": "code",
   "execution_count": 11,
   "id": "954a5810-8ec9-458b-b67f-f9f2ec885e87",
   "metadata": {
    "tags": []
   },
   "outputs": [
    {
     "data": {
      "text/plain": [
       "(15463, 9)"
      ]
     },
     "execution_count": 11,
     "metadata": {},
     "output_type": "execute_result"
    }
   ],
   "source": [
    "anno_df.shape"
   ]
  },
  {
   "cell_type": "code",
   "execution_count": 12,
   "id": "59c58508-625d-4dab-990d-4d333b4976de",
   "metadata": {
    "tags": []
   },
   "outputs": [],
   "source": [
    "archs = pd.read_csv('../../phytozome_archs.csv', index_col=0)"
   ]
  },
  {
   "cell_type": "code",
   "execution_count": 13,
   "id": "58c134c3-8caf-48a4-9f5b-02b2b2c94c82",
   "metadata": {
    "tags": []
   },
   "outputs": [
    {
     "data": {
      "text/plain": [
       "(11379, 19)"
      ]
     },
     "execution_count": 13,
     "metadata": {},
     "output_type": "execute_result"
    }
   ],
   "source": [
    "archs.shape"
   ]
  },
  {
   "cell_type": "code",
   "execution_count": 14,
   "id": "a350e49e-d034-44a6-b0ae-ebfc736ec1ad",
   "metadata": {
    "tags": []
   },
   "outputs": [],
   "source": [
    "full_df = archs.merge(anno_df, how='left', left_on='id', right_on='new_id')"
   ]
  },
  {
   "cell_type": "code",
   "execution_count": 15,
   "id": "8901aa86-5be7-49f7-80c3-504a994d5e31",
   "metadata": {
    "tags": []
   },
   "outputs": [
    {
     "data": {
      "text/plain": [
       "(11379, 28)"
      ]
     },
     "execution_count": 15,
     "metadata": {},
     "output_type": "execute_result"
    }
   ],
   "source": [
    "full_df.shape"
   ]
  },
  {
   "cell_type": "code",
   "execution_count": 16,
   "id": "a92df19e-104f-429a-abae-c44ee709dd55",
   "metadata": {
    "tags": []
   },
   "outputs": [
    {
     "data": {
      "text/plain": [
       "superkingdom\n",
       "Eukaryota    11263\n",
       "unknown        116\n",
       "Name: count, dtype: int64"
      ]
     },
     "execution_count": 16,
     "metadata": {},
     "output_type": "execute_result"
    }
   ],
   "source": [
    "full_df['superkingdom'].value_counts()"
   ]
  },
  {
   "cell_type": "code",
   "execution_count": 17,
   "id": "8a6312aa-dedd-4079-95d2-a2c5e0697d1a",
   "metadata": {
    "tags": []
   },
   "outputs": [
    {
     "data": {
      "text/plain": [
       "kingdom\n",
       "Viridiplantae    11263\n",
       "unknown            116\n",
       "Name: count, dtype: int64"
      ]
     },
     "execution_count": 17,
     "metadata": {},
     "output_type": "execute_result"
    }
   ],
   "source": [
    "full_df['kingdom'].value_counts()"
   ]
  },
  {
   "cell_type": "code",
   "execution_count": 18,
   "id": "8d99ee6f-7406-4b1a-b0ba-d93df6e0a5c8",
   "metadata": {
    "tags": []
   },
   "outputs": [
    {
     "data": {
      "text/plain": [
       "phylum\n",
       "Streptophyta    11224\n",
       "unknown           116\n",
       "Chlorophyta        39\n",
       "Name: count, dtype: int64"
      ]
     },
     "execution_count": 18,
     "metadata": {},
     "output_type": "execute_result"
    }
   ],
   "source": [
    "full_df['phylum'].value_counts()"
   ]
  },
  {
   "cell_type": "code",
   "execution_count": 19,
   "id": "b5772541-17cb-4ea7-870b-49229e812ae8",
   "metadata": {
    "tags": []
   },
   "outputs": [],
   "source": [
    "pfam_cols = ['PF06330.14','PF01397.24', 'PF03936.19', 'PF00494.22', 'PF13249.9', 'PF19086.3','PF13243.9']\n",
    "supfam_cols = ['0041184','0053354', '0053355', '0048261', '0048806', '0046340', '0047573']"
   ]
  },
  {
   "cell_type": "code",
   "execution_count": 20,
   "id": "3de676b1-fa93-402e-90c1-0bb96c7a17bc",
   "metadata": {
    "tags": []
   },
   "outputs": [
    {
     "data": {
      "text/plain": [
       "architecture_pfam\n",
       "['PF01397.24', 'PF03936.19']                          48.844362\n",
       "['PF01397.24_partial', 'PF03936.19']                   4.552245\n",
       "['PF13249.9', 'PF13243.9']                             4.077687\n",
       "['PF01397.24', 'PF03936.19_partial']                   3.541612\n",
       "['PF03936.19']                                         2.785834\n",
       "['PF00494.22']                                         2.724317\n",
       "['PF01397.24', 'PF03936.19', 'PF03936.19_partial']     2.144301\n",
       "['PF13243.9_partial', 'PF01397.24', 'PF03936.19']      1.625802\n",
       "['PF19086.3']                                          1.370946\n",
       "['PF00494.22', 'PF00494.22_partial']                   1.265489\n",
       "Name: count, dtype: float64"
      ]
     },
     "execution_count": 20,
     "metadata": {},
     "output_type": "execute_result"
    }
   ],
   "source": [
    "full_df['architecture_pfam'].value_counts().head(10)/full_df.shape[0]*100"
   ]
  },
  {
   "cell_type": "code",
   "execution_count": 21,
   "id": "6a262929-ef77-4b48-af4e-2b98f7e5817b",
   "metadata": {
    "tags": []
   },
   "outputs": [
    {
     "data": {
      "text/plain": [
       "architecture_supfam\n",
       "['0048261']                       29.862027\n",
       "['0053355']                       20.704807\n",
       "['0046340']                       16.126197\n",
       "['0041184', '0048261']             4.938923\n",
       "['0041184', '0053355']             4.394059\n",
       "['0053354', '0048806_partial']     1.291853\n",
       "['0047573']                        1.265489\n",
       "['0041184', '0053355_partial']     1.054574\n",
       "['0053354', '0053355']             1.045786\n",
       "['0053354', '0048261']             0.993057\n",
       "Name: count, dtype: float64"
      ]
     },
     "execution_count": 21,
     "metadata": {},
     "output_type": "execute_result"
    }
   ],
   "source": [
    "full_df['architecture_supfam'].value_counts().head(10)/full_df.shape[0]*100"
   ]
  },
  {
   "cell_type": "code",
   "execution_count": 22,
   "id": "ac6ae866-3fab-4897-946f-a33566cc49af",
   "metadata": {
    "tags": []
   },
   "outputs": [
    {
     "data": {
      "text/plain": [
       "PF06330.14     0.307584\n",
       "PF01397.24    69.680991\n",
       "PF03936.19    73.152298\n",
       "PF00494.22     4.200721\n",
       "PF13249.9      7.628087\n",
       "PF19086.3     70.665261\n",
       "PF13243.9      8.410229\n",
       "dtype: float64"
      ]
     },
     "execution_count": 22,
     "metadata": {},
     "output_type": "execute_result"
    }
   ],
   "source": [
    "full_df[pfam_cols].sum()/full_df.shape[0]*100"
   ]
  },
  {
   "cell_type": "code",
   "execution_count": 23,
   "id": "c1563f72-6c61-47c0-8a62-83a955978839",
   "metadata": {
    "tags": []
   },
   "outputs": [
    {
     "data": {
      "text/plain": [
       "0041184    70.612532\n",
       "0053354    70.630108\n",
       "0053355    73.934441\n",
       "0048261    73.828983\n",
       "0048806    87.424202\n",
       "0046340    90.825204\n",
       "0047573    86.967220\n",
       "dtype: float64"
      ]
     },
     "execution_count": 23,
     "metadata": {},
     "output_type": "execute_result"
    }
   ],
   "source": [
    "full_df[supfam_cols].sum()/full_df.shape[0]*100"
   ]
  },
  {
   "cell_type": "code",
   "execution_count": 24,
   "id": "ed7bc9d8-0a59-4828-a814-0c8a9c34ce29",
   "metadata": {
    "tags": []
   },
   "outputs": [],
   "source": [
    "full_df.to_csv('../../phytozome_annotation.csv')"
   ]
  },
  {
   "cell_type": "code",
   "execution_count": null,
   "id": "31260f2a-d817-4cea-b1d0-73086d988d83",
   "metadata": {},
   "outputs": [],
   "source": []
  }
 ],
 "metadata": {
  "kernelspec": {
   "display_name": "Python 3 (ipykernel)",
   "language": "python",
   "name": "python3"
  },
  "language_info": {
   "codemirror_mode": {
    "name": "ipython",
    "version": 3
   },
   "file_extension": ".py",
   "mimetype": "text/x-python",
   "name": "python",
   "nbconvert_exporter": "python",
   "pygments_lexer": "ipython3",
   "version": "3.10.13"
  }
 },
 "nbformat": 4,
 "nbformat_minor": 5
}

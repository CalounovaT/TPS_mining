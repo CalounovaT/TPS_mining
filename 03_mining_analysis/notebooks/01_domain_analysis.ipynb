{
 "cells": [
  {
   "cell_type": "markdown",
   "id": "187bc073-d627-4437-ab5e-c1e03514f2f7",
   "metadata": {},
   "source": [
    "# Analysis of all mined results"
   ]
  },
  {
   "cell_type": "markdown",
   "id": "ca6609ad-f6de-4dba-8fa2-dc576f093626",
   "metadata": {},
   "source": [
    "I could create only a \"reliable\" dataset of hits with both Pfam and Supfam hits, etc. and analyze this one"
   ]
  },
  {
   "cell_type": "code",
   "execution_count": 1,
   "id": "bdcdbb49-3572-4c7b-8b07-60e7fc496ede",
   "metadata": {
    "tags": []
   },
   "outputs": [],
   "source": [
    "import pandas as pd"
   ]
  },
  {
   "cell_type": "code",
   "execution_count": 29,
   "id": "9df44d9d-df1e-4284-a2a8-27ae763b40fd",
   "metadata": {
    "tags": []
   },
   "outputs": [],
   "source": [
    "pd.set_option('display.max_columns', None)"
   ]
  },
  {
   "cell_type": "code",
   "execution_count": 2,
   "id": "b0b16cdf-9e53-4f49-a426-df774c598462",
   "metadata": {
    "tags": []
   },
   "outputs": [
    {
     "name": "stderr",
     "output_type": "stream",
     "text": [
      "C:\\Users\\terca\\AppData\\Local\\Temp\\ipykernel_22388\\2204852425.py:1: DtypeWarning: Columns (1,2) have mixed types. Specify dtype option on import or set low_memory=False.\n",
      "  df = pd.read_csv('all_annotation.txt', sep='\\t')\n"
     ]
    }
   ],
   "source": [
    "df = pd.read_csv('../annotation/all_annotation.txt', sep='\\t')"
   ]
  },
  {
   "cell_type": "code",
   "execution_count": 36,
   "id": "a990cb9a-6d29-4deb-90b8-1a0030f253ce",
   "metadata": {
    "tags": []
   },
   "outputs": [],
   "source": [
    "df_lengths = pd.read_csv('../annotation/all_filtered_5_unique_no_stop_lengths.csv')"
   ]
  },
  {
   "cell_type": "code",
   "execution_count": 37,
   "id": "5f70ed7d-4c55-4087-906d-1126be872ca6",
   "metadata": {
    "tags": []
   },
   "outputs": [
    {
     "data": {
      "text/html": [
       "<div>\n",
       "<style scoped>\n",
       "    .dataframe tbody tr th:only-of-type {\n",
       "        vertical-align: middle;\n",
       "    }\n",
       "\n",
       "    .dataframe tbody tr th {\n",
       "        vertical-align: top;\n",
       "    }\n",
       "\n",
       "    .dataframe thead th {\n",
       "        text-align: right;\n",
       "    }\n",
       "</style>\n",
       "<table border=\"1\" class=\"dataframe\">\n",
       "  <thead>\n",
       "    <tr style=\"text-align: right;\">\n",
       "      <th></th>\n",
       "      <th>id</th>\n",
       "      <th>length</th>\n",
       "    </tr>\n",
       "  </thead>\n",
       "  <tbody>\n",
       "    <tr>\n",
       "      <th>0</th>\n",
       "      <td>onekp_000000</td>\n",
       "      <td>426</td>\n",
       "    </tr>\n",
       "    <tr>\n",
       "      <th>1</th>\n",
       "      <td>onekp_000003</td>\n",
       "      <td>508</td>\n",
       "    </tr>\n",
       "    <tr>\n",
       "      <th>2</th>\n",
       "      <td>onekp_000004</td>\n",
       "      <td>309</td>\n",
       "    </tr>\n",
       "    <tr>\n",
       "      <th>3</th>\n",
       "      <td>onekp_000006</td>\n",
       "      <td>551</td>\n",
       "    </tr>\n",
       "    <tr>\n",
       "      <th>4</th>\n",
       "      <td>onekp_000007</td>\n",
       "      <td>550</td>\n",
       "    </tr>\n",
       "    <tr>\n",
       "      <th>...</th>\n",
       "      <td>...</td>\n",
       "      <td>...</td>\n",
       "    </tr>\n",
       "    <tr>\n",
       "      <th>606786</th>\n",
       "      <td>bfd_273443</td>\n",
       "      <td>477</td>\n",
       "    </tr>\n",
       "    <tr>\n",
       "      <th>606787</th>\n",
       "      <td>bfd_273498</td>\n",
       "      <td>487</td>\n",
       "    </tr>\n",
       "    <tr>\n",
       "      <th>606788</th>\n",
       "      <td>bfd_273500</td>\n",
       "      <td>372</td>\n",
       "    </tr>\n",
       "    <tr>\n",
       "      <th>606789</th>\n",
       "      <td>bfd_273502</td>\n",
       "      <td>482</td>\n",
       "    </tr>\n",
       "    <tr>\n",
       "      <th>606790</th>\n",
       "      <td>bfd_273516</td>\n",
       "      <td>321</td>\n",
       "    </tr>\n",
       "  </tbody>\n",
       "</table>\n",
       "<p>606791 rows × 2 columns</p>\n",
       "</div>"
      ],
      "text/plain": [
       "                  id  length\n",
       "0       onekp_000000     426\n",
       "1       onekp_000003     508\n",
       "2       onekp_000004     309\n",
       "3       onekp_000006     551\n",
       "4       onekp_000007     550\n",
       "...              ...     ...\n",
       "606786    bfd_273443     477\n",
       "606787    bfd_273498     487\n",
       "606788    bfd_273500     372\n",
       "606789    bfd_273502     482\n",
       "606790    bfd_273516     321\n",
       "\n",
       "[606791 rows x 2 columns]"
      ]
     },
     "execution_count": 37,
     "metadata": {},
     "output_type": "execute_result"
    }
   ],
   "source": [
    "df_lengths"
   ]
  },
  {
   "cell_type": "code",
   "execution_count": 42,
   "id": "e0b1f551-2a62-4cbd-be18-2e136a44bf07",
   "metadata": {
    "tags": []
   },
   "outputs": [],
   "source": [
    "df = df_lengths.merge(df, how='left', on='id')"
   ]
  },
  {
   "cell_type": "markdown",
   "id": "47beb3d5-e7d5-4c89-8ff3-9bec4841a372",
   "metadata": {},
   "source": [
    "There are `606,791` sequences"
   ]
  },
  {
   "cell_type": "code",
   "execution_count": 43,
   "id": "9f5718b3-fab4-4a6f-b5f5-50c7c9a338e0",
   "metadata": {
    "tags": []
   },
   "outputs": [
    {
     "data": {
      "text/plain": [
       "(606791, 29)"
      ]
     },
     "execution_count": 43,
     "metadata": {},
     "output_type": "execute_result"
    }
   ],
   "source": [
    "df.shape"
   ]
  },
  {
   "cell_type": "code",
   "execution_count": 44,
   "id": "0dc9304c-8f85-4249-b83a-8b52d2a370b9",
   "metadata": {
    "tags": []
   },
   "outputs": [
    {
     "data": {
      "text/plain": [
       "Index(['id', 'length', 'architecture_pfam', 'architecture_l_pfam',\n",
       "       'PF06330.14', 'PF01397.24', 'PF03936.19', 'PF00494.22', 'PF13249.9',\n",
       "       'PF19086.3', 'PF13243.9', 'architecture_supfam',\n",
       "       'architecture_l_supfam', '0041184', '0053354', '0053355', '0048261',\n",
       "       '0048806', '0046340', '0047573', 'record_id', 'record_description',\n",
       "       'new_id', 'organism', 'tax_id', 'lineage', 'superkingdom', 'kingdom',\n",
       "       'phylum'],\n",
       "      dtype='object')"
      ]
     },
     "execution_count": 44,
     "metadata": {},
     "output_type": "execute_result"
    }
   ],
   "source": [
    "df.columns"
   ]
  },
  {
   "cell_type": "code",
   "execution_count": 3,
   "id": "09ddd8d2-afab-4154-88d8-92e30f5308cd",
   "metadata": {
    "tags": []
   },
   "outputs": [],
   "source": [
    "pfam_cols = ['PF01397.24', 'PF03936.19','PF19086.3', 'PF06330.14', 'PF13243.9', 'PF13249.9', 'PF00494.22']"
   ]
  },
  {
   "cell_type": "code",
   "execution_count": 4,
   "id": "63d63344-24c2-40fd-8225-86bbc9b7d496",
   "metadata": {
    "tags": []
   },
   "outputs": [],
   "source": [
    "supfam_cols = ['0041184', '0053354', '0053355', '0048261','0048806', '0046340', '0047573']"
   ]
  },
  {
   "cell_type": "code",
   "execution_count": 5,
   "id": "facf8329-4f34-4cb6-874a-65408e0704c7",
   "metadata": {
    "tags": []
   },
   "outputs": [],
   "source": [
    "cols = ['id','superkingdom','kingdom'] + pfam_cols + supfam_cols"
   ]
  },
  {
   "cell_type": "markdown",
   "id": "6814bbea-9a8c-4c7d-a921-ae6ba88b6cf4",
   "metadata": {},
   "source": [
    "## At least one Pfam hit"
   ]
  },
  {
   "cell_type": "markdown",
   "id": "936c1cef-cc87-4354-8430-c7328e5ef343",
   "metadata": {},
   "source": [
    "`103,637` sequences have at least one Pfam hit"
   ]
  },
  {
   "cell_type": "code",
   "execution_count": 48,
   "id": "5e4c06e2-870c-484f-809a-32a135b7f91c",
   "metadata": {
    "tags": []
   },
   "outputs": [
    {
     "data": {
      "text/plain": [
       "103637"
      ]
     },
     "execution_count": 48,
     "metadata": {},
     "output_type": "execute_result"
    }
   ],
   "source": [
    "df[df[pfam_cols].sum(axis=1)>1].shape[0]"
   ]
  },
  {
   "cell_type": "markdown",
   "id": "fcbdc792-a9e9-4cca-812a-60806cdf15dc",
   "metadata": {},
   "source": [
    "## At least one Supfam hit"
   ]
  },
  {
   "cell_type": "markdown",
   "id": "6201e4af-cc2b-44d1-9d03-aee8d73c8db9",
   "metadata": {},
   "source": [
    "`478,058` sequences have at least one Supfam domain"
   ]
  },
  {
   "cell_type": "code",
   "execution_count": 49,
   "id": "7138d6fb-431d-47ba-81cf-0e5c20cf6819",
   "metadata": {
    "tags": []
   },
   "outputs": [
    {
     "data": {
      "text/plain": [
       "478058"
      ]
     },
     "execution_count": 49,
     "metadata": {},
     "output_type": "execute_result"
    }
   ],
   "source": [
    "df[df[supfam_cols].sum(axis=1)>1].shape[0]"
   ]
  },
  {
   "cell_type": "markdown",
   "id": "a266335b-c484-4747-a149-30fbb3edbac2",
   "metadata": {},
   "source": [
    "## Both Pfam and Supfam hit"
   ]
  },
  {
   "cell_type": "markdown",
   "id": "4b88e902-c9a3-427c-8429-f5c1e72c1547",
   "metadata": {},
   "source": [
    "`71,573` sequences have both at least one Pfam and Supfam domain"
   ]
  },
  {
   "cell_type": "code",
   "execution_count": 50,
   "id": "c60e9843-0406-4618-b64f-1d91de2e1c7d",
   "metadata": {
    "tags": []
   },
   "outputs": [
    {
     "data": {
      "text/plain": [
       "71573"
      ]
     },
     "execution_count": 50,
     "metadata": {},
     "output_type": "execute_result"
    }
   ],
   "source": [
    "df[(df[pfam_cols].sum(axis=1)>1)&(df[supfam_cols].sum(axis=1)>1)].shape[0]"
   ]
  },
  {
   "cell_type": "markdown",
   "id": "f6e2faed-34b4-4644-b253-97dd4ce39eda",
   "metadata": {},
   "source": [
    "## Pfam domain occurences"
   ]
  },
  {
   "cell_type": "markdown",
   "id": "0497f054-3651-492a-bf16-3f3bf057fbe8",
   "metadata": {},
   "source": [
    "**Total**"
   ]
  },
  {
   "cell_type": "code",
   "execution_count": 51,
   "id": "e1351945-2c19-49d9-aa0e-b404f95eae32",
   "metadata": {
    "tags": []
   },
   "outputs": [
    {
     "data": {
      "text/html": [
       "<div>\n",
       "<style scoped>\n",
       "    .dataframe tbody tr th:only-of-type {\n",
       "        vertical-align: middle;\n",
       "    }\n",
       "\n",
       "    .dataframe tbody tr th {\n",
       "        vertical-align: top;\n",
       "    }\n",
       "\n",
       "    .dataframe thead th {\n",
       "        text-align: right;\n",
       "    }\n",
       "</style>\n",
       "<table border=\"1\" class=\"dataframe\">\n",
       "  <thead>\n",
       "    <tr style=\"text-align: right;\">\n",
       "      <th></th>\n",
       "      <th>PF01397.24</th>\n",
       "      <th>PF03936.19</th>\n",
       "      <th>PF19086.3</th>\n",
       "      <th>PF06330.14</th>\n",
       "      <th>PF13243.9</th>\n",
       "      <th>PF13249.9</th>\n",
       "      <th>PF00494.22</th>\n",
       "    </tr>\n",
       "  </thead>\n",
       "  <tbody>\n",
       "    <tr>\n",
       "      <th>1.0</th>\n",
       "      <td>7.701169</td>\n",
       "      <td>11.734024</td>\n",
       "      <td>13.616715</td>\n",
       "      <td>0.894212</td>\n",
       "      <td>5.7547</td>\n",
       "      <td>5.568804</td>\n",
       "      <td>16.117906</td>\n",
       "    </tr>\n",
       "  </tbody>\n",
       "</table>\n",
       "</div>"
      ],
      "text/plain": [
       "     PF01397.24  PF03936.19  PF19086.3  PF06330.14  PF13243.9  PF13249.9  \\\n",
       "1.0    7.701169   11.734024  13.616715    0.894212     5.7547   5.568804   \n",
       "\n",
       "     PF00494.22  \n",
       "1.0   16.117906  "
      ]
     },
     "execution_count": 51,
     "metadata": {},
     "output_type": "execute_result"
    }
   ],
   "source": [
    "df[pfam_cols].apply(lambda x: x.value_counts(normalize=True, dropna=False) * 100).fillna(0).loc[[1.0]]"
   ]
  },
  {
   "cell_type": "markdown",
   "id": "7eddf340-e037-46ef-81fd-203ba3f26719",
   "metadata": {},
   "source": [
    "**Only sequences with at least one Pfam hit**\n",
    "\n",
    "This looks more similar to the results of characterized TPSs"
   ]
  },
  {
   "cell_type": "code",
   "execution_count": 52,
   "id": "9af153f7-6cc7-42e1-b8bc-f9a50f3a1707",
   "metadata": {
    "tags": []
   },
   "outputs": [
    {
     "data": {
      "text/html": [
       "<div>\n",
       "<style scoped>\n",
       "    .dataframe tbody tr th:only-of-type {\n",
       "        vertical-align: middle;\n",
       "    }\n",
       "\n",
       "    .dataframe tbody tr th {\n",
       "        vertical-align: top;\n",
       "    }\n",
       "\n",
       "    .dataframe thead th {\n",
       "        text-align: right;\n",
       "    }\n",
       "</style>\n",
       "<table border=\"1\" class=\"dataframe\">\n",
       "  <thead>\n",
       "    <tr style=\"text-align: right;\">\n",
       "      <th></th>\n",
       "      <th>PF01397.24</th>\n",
       "      <th>PF03936.19</th>\n",
       "      <th>PF19086.3</th>\n",
       "      <th>PF06330.14</th>\n",
       "      <th>PF13243.9</th>\n",
       "      <th>PF13249.9</th>\n",
       "      <th>PF00494.22</th>\n",
       "    </tr>\n",
       "  </thead>\n",
       "  <tbody>\n",
       "    <tr>\n",
       "      <th>1.0</th>\n",
       "      <td>44.890338</td>\n",
       "      <td>66.297751</td>\n",
       "      <td>66.588188</td>\n",
       "      <td>4.760848</td>\n",
       "      <td>32.790413</td>\n",
       "      <td>32.274188</td>\n",
       "      <td>0.529734</td>\n",
       "    </tr>\n",
       "  </tbody>\n",
       "</table>\n",
       "</div>"
      ],
      "text/plain": [
       "     PF01397.24  PF03936.19  PF19086.3  PF06330.14  PF13243.9  PF13249.9  \\\n",
       "1.0   44.890338   66.297751  66.588188    4.760848  32.790413  32.274188   \n",
       "\n",
       "     PF00494.22  \n",
       "1.0    0.529734  "
      ]
     },
     "execution_count": 52,
     "metadata": {},
     "output_type": "execute_result"
    }
   ],
   "source": [
    "df[df[pfam_cols].sum(axis=1)>1][pfam_cols].apply(lambda x: x.value_counts(normalize=True, dropna=False) * 100).fillna(0).loc[[1.0]]"
   ]
  },
  {
   "cell_type": "markdown",
   "id": "bdd98466-e3f3-431d-9bab-c05c2d08f9a9",
   "metadata": {},
   "source": [
    "## Supfam domain occurences"
   ]
  },
  {
   "cell_type": "markdown",
   "id": "08968892-522c-4394-8bf7-22ce14557311",
   "metadata": {},
   "source": [
    "**Total**"
   ]
  },
  {
   "cell_type": "code",
   "execution_count": 53,
   "id": "02bc63ce-dba1-45ae-86b7-c68047dd0493",
   "metadata": {
    "tags": []
   },
   "outputs": [
    {
     "data": {
      "text/html": [
       "<div>\n",
       "<style scoped>\n",
       "    .dataframe tbody tr th:only-of-type {\n",
       "        vertical-align: middle;\n",
       "    }\n",
       "\n",
       "    .dataframe tbody tr th {\n",
       "        vertical-align: top;\n",
       "    }\n",
       "\n",
       "    .dataframe thead th {\n",
       "        text-align: right;\n",
       "    }\n",
       "</style>\n",
       "<table border=\"1\" class=\"dataframe\">\n",
       "  <thead>\n",
       "    <tr style=\"text-align: right;\">\n",
       "      <th></th>\n",
       "      <th>0041184</th>\n",
       "      <th>0053354</th>\n",
       "      <th>0053355</th>\n",
       "      <th>0048261</th>\n",
       "      <th>0048806</th>\n",
       "      <th>0046340</th>\n",
       "      <th>0047573</th>\n",
       "    </tr>\n",
       "  </thead>\n",
       "  <tbody>\n",
       "    <tr>\n",
       "      <th>1.0</th>\n",
       "      <td>7.91228</td>\n",
       "      <td>7.903545</td>\n",
       "      <td>30.339606</td>\n",
       "      <td>20.061932</td>\n",
       "      <td>76.068201</td>\n",
       "      <td>82.986893</td>\n",
       "      <td>73.974894</td>\n",
       "    </tr>\n",
       "  </tbody>\n",
       "</table>\n",
       "</div>"
      ],
      "text/plain": [
       "     0041184   0053354    0053355    0048261    0048806    0046340    0047573\n",
       "1.0  7.91228  7.903545  30.339606  20.061932  76.068201  82.986893  73.974894"
      ]
     },
     "execution_count": 53,
     "metadata": {},
     "output_type": "execute_result"
    }
   ],
   "source": [
    "df[supfam_cols].apply(lambda x: x.value_counts(normalize=True, dropna=False) * 100).fillna(0).loc[[1.0]]"
   ]
  },
  {
   "cell_type": "markdown",
   "id": "338e611a-324d-40f2-8be7-f59370822f36",
   "metadata": {},
   "source": [
    "**Only sequences with at least ine Supfam hit**"
   ]
  },
  {
   "cell_type": "code",
   "execution_count": 54,
   "id": "ac406a5b-794c-4fd7-8b88-f50a0392fc6b",
   "metadata": {
    "tags": []
   },
   "outputs": [
    {
     "data": {
      "text/html": [
       "<div>\n",
       "<style scoped>\n",
       "    .dataframe tbody tr th:only-of-type {\n",
       "        vertical-align: middle;\n",
       "    }\n",
       "\n",
       "    .dataframe tbody tr th {\n",
       "        vertical-align: top;\n",
       "    }\n",
       "\n",
       "    .dataframe thead th {\n",
       "        text-align: right;\n",
       "    }\n",
       "</style>\n",
       "<table border=\"1\" class=\"dataframe\">\n",
       "  <thead>\n",
       "    <tr style=\"text-align: right;\">\n",
       "      <th></th>\n",
       "      <th>0041184</th>\n",
       "      <th>0053354</th>\n",
       "      <th>0053355</th>\n",
       "      <th>0048261</th>\n",
       "      <th>0048806</th>\n",
       "      <th>0046340</th>\n",
       "      <th>0047573</th>\n",
       "    </tr>\n",
       "  </thead>\n",
       "  <tbody>\n",
       "    <tr>\n",
       "      <th>1.0</th>\n",
       "      <td>10.035812</td>\n",
       "      <td>10.031</td>\n",
       "      <td>38.267114</td>\n",
       "      <td>25.341486</td>\n",
       "      <td>96.104029</td>\n",
       "      <td>99.173322</td>\n",
       "      <td>93.49535</td>\n",
       "    </tr>\n",
       "  </tbody>\n",
       "</table>\n",
       "</div>"
      ],
      "text/plain": [
       "       0041184  0053354    0053355    0048261    0048806    0046340   0047573\n",
       "1.0  10.035812   10.031  38.267114  25.341486  96.104029  99.173322  93.49535"
      ]
     },
     "execution_count": 54,
     "metadata": {},
     "output_type": "execute_result"
    }
   ],
   "source": [
    "df[df[supfam_cols].sum(axis=1)>1][supfam_cols].apply(lambda x: x.value_counts(normalize=True, dropna=False) * 100).fillna(0).loc[[1.0]]"
   ]
  },
  {
   "cell_type": "markdown",
   "id": "31379fa1-ceef-457d-a82a-3ad02138186f",
   "metadata": {},
   "source": [
    "## Pfam architectures"
   ]
  },
  {
   "cell_type": "markdown",
   "id": "b8f8070e-43da-468a-a0d0-b3895299b8bb",
   "metadata": {},
   "source": [
    "**All**"
   ]
  },
  {
   "cell_type": "code",
   "execution_count": 55,
   "id": "85655853-4d50-48fc-8124-e91732f9f24e",
   "metadata": {
    "tags": []
   },
   "outputs": [
    {
     "data": {
      "text/plain": [
       "architecture_pfam\n",
       "NaN                                             0.639126\n",
       "['PF00494.22']                                  0.124992\n",
       "['PF01397.24', 'PF03936.19']                    0.053490\n",
       "['PF19086.3']                                   0.036096\n",
       "['PF13249.9', 'PF13243.9']                      0.027350\n",
       "['PF00494.22_partial']                          0.017932\n",
       "['PF19086.3', 'PF19086.3']                      0.006473\n",
       "['PF00494.22_partial', 'PF00494.22_partial']    0.005958\n",
       "['PF01397.24_partial', 'PF03936.19']            0.005837\n",
       "['PF03936.19']                                  0.005620\n",
       "['PF13249.9', 'PF13243.9_partial']              0.005076\n",
       "['PF00494.22_partial', 'PF00494.22']            0.004951\n",
       "['PF19086.3_partial']                           0.004626\n",
       "['PF01397.24', 'PF03936.19_partial']            0.004418\n",
       "['PF13243.9_partial', 'PF13243.9_partial']      0.004328\n",
       "['PF03936.19_partial']                          0.004000\n",
       "['PF13249.9_partial', 'PF13243.9']              0.003909\n",
       "['PF00494.22', 'PF00494.22_partial']            0.003822\n",
       "['PF19086.3', 'PF19086.3_partial']              0.002577\n",
       "['PF00494.22', 'PF00494.22']                    0.002437\n",
       "Name: proportion, dtype: float64"
      ]
     },
     "execution_count": 55,
     "metadata": {},
     "output_type": "execute_result"
    }
   ],
   "source": [
    "df['architecture_pfam'].value_counts(dropna=False, normalize=True).head(20)"
   ]
  },
  {
   "cell_type": "markdown",
   "id": "10db1669-d1ca-4827-a3b4-6d0198f9bc2c",
   "metadata": {},
   "source": [
    "**Only with Pfam architectures**"
   ]
  },
  {
   "cell_type": "code",
   "execution_count": 56,
   "id": "c33d335e-a5f3-4b67-af90-3f0e43be791c",
   "metadata": {
    "tags": []
   },
   "outputs": [
    {
     "data": {
      "text/plain": [
       "architecture_pfam\n",
       "['PF00494.22']                                  0.346359\n",
       "['PF01397.24', 'PF03936.19']                    0.148222\n",
       "['PF19086.3']                                   0.100025\n",
       "['PF13249.9', 'PF13243.9']                      0.075789\n",
       "['PF00494.22_partial']                          0.049691\n",
       "['PF19086.3', 'PF19086.3']                      0.017938\n",
       "['PF00494.22_partial', 'PF00494.22_partial']    0.016509\n",
       "['PF01397.24_partial', 'PF03936.19']            0.016175\n",
       "['PF03936.19']                                  0.015573\n",
       "['PF13249.9', 'PF13243.9_partial']              0.014066\n",
       "['PF00494.22_partial', 'PF00494.22']            0.013718\n",
       "['PF19086.3_partial']                           0.012819\n",
       "['PF01397.24', 'PF03936.19_partial']            0.012243\n",
       "['PF13243.9_partial', 'PF13243.9_partial']      0.011992\n",
       "['PF03936.19_partial']                          0.011083\n",
       "['PF13249.9_partial', 'PF13243.9']              0.010832\n",
       "['PF00494.22', 'PF00494.22_partial']            0.010590\n",
       "['PF19086.3', 'PF19086.3_partial']              0.007142\n",
       "['PF00494.22', 'PF00494.22']                    0.006754\n",
       "['PF13243.9']                                   0.006430\n",
       "Name: proportion, dtype: float64"
      ]
     },
     "execution_count": 56,
     "metadata": {},
     "output_type": "execute_result"
    }
   ],
   "source": [
    "df['architecture_pfam'].value_counts(dropna=True, normalize=True).head(20)"
   ]
  },
  {
   "cell_type": "markdown",
   "id": "116b9dc0-185c-4cbf-bc11-f0cdf410d6ea",
   "metadata": {},
   "source": [
    "## Supfam architectures"
   ]
  },
  {
   "cell_type": "markdown",
   "id": "a7f387dd-68e5-4eba-ab81-56dfa3659b1a",
   "metadata": {},
   "source": [
    "**All**"
   ]
  },
  {
   "cell_type": "code",
   "execution_count": 57,
   "id": "e2fac876-e203-46f9-92f3-4f53a5a6ea11",
   "metadata": {
    "tags": []
   },
   "outputs": [
    {
     "data": {
      "text/plain": [
       "architecture_supfam\n",
       "['0046340']                               0.664314\n",
       "NaN                                       0.153999\n",
       "['0048261']                               0.033722\n",
       "['0053355']                               0.024776\n",
       "['0048806']                               0.021157\n",
       "['0047573']                               0.018769\n",
       "['0046340_partial', '0046340_partial']    0.005755\n",
       "['0041184', '0048261']                    0.005518\n",
       "['0041184', '0053355']                    0.005391\n",
       "['0048806_partial', '0046340']            0.004712\n",
       "['0046340_partial']                       0.004471\n",
       "['0046340_partial', '0046340']            0.004110\n",
       "['0047573', '0047573']                    0.003937\n",
       "['0047573_partial']                       0.003555\n",
       "['0047573_partial', '0046340']            0.002924\n",
       "['0046340', '0046340_partial']            0.002217\n",
       "['0053355_partial']                       0.002187\n",
       "['0046340', '0047573_partial']            0.002169\n",
       "['0048806_partial']                       0.002133\n",
       "['0046340', '0048806_partial']            0.002081\n",
       "Name: proportion, dtype: float64"
      ]
     },
     "execution_count": 57,
     "metadata": {},
     "output_type": "execute_result"
    }
   ],
   "source": [
    "df['architecture_supfam'].value_counts(dropna=False, normalize=True).head(20)"
   ]
  },
  {
   "cell_type": "markdown",
   "id": "977c7a87-889b-4293-9ffb-5f3f9279d3d4",
   "metadata": {},
   "source": [
    "**Only with Supfam architecture**"
   ]
  },
  {
   "cell_type": "code",
   "execution_count": 58,
   "id": "89946eb9-fcd3-4ce8-b351-b7b6dbefac48",
   "metadata": {
    "tags": []
   },
   "outputs": [
    {
     "data": {
      "text/plain": [
       "architecture_supfam\n",
       "['0046340']                               0.785240\n",
       "['0048261']                               0.039860\n",
       "['0053355']                               0.029286\n",
       "['0048806']                               0.025008\n",
       "['0047573']                               0.022186\n",
       "['0046340_partial', '0046340_partial']    0.006802\n",
       "['0041184', '0048261']                    0.006522\n",
       "['0041184', '0053355']                    0.006372\n",
       "['0048806_partial', '0046340']            0.005569\n",
       "['0046340_partial']                       0.005285\n",
       "['0046340_partial', '0046340']            0.004858\n",
       "['0047573', '0047573']                    0.004654\n",
       "['0047573_partial']                       0.004202\n",
       "['0047573_partial', '0046340']            0.003456\n",
       "['0046340', '0046340_partial']            0.002620\n",
       "['0053355_partial']                       0.002585\n",
       "['0046340', '0047573_partial']            0.002564\n",
       "['0048806_partial']                       0.002521\n",
       "['0046340', '0048806_partial']            0.002460\n",
       "['0047573', '0048806']                    0.002151\n",
       "Name: proportion, dtype: float64"
      ]
     },
     "execution_count": 58,
     "metadata": {},
     "output_type": "execute_result"
    }
   ],
   "source": [
    "df['architecture_supfam'].value_counts(dropna=True, normalize=True).head(20)"
   ]
  },
  {
   "cell_type": "markdown",
   "id": "f053f856-c896-4217-9095-5a52d04ae3ff",
   "metadata": {
    "tags": []
   },
   "source": [
    "## Taxonomy"
   ]
  },
  {
   "cell_type": "code",
   "execution_count": 62,
   "id": "ab20ad2c-84fc-4f7b-a8c1-48c2cbaf90ed",
   "metadata": {
    "tags": []
   },
   "outputs": [
    {
     "data": {
      "text/plain": [
       "superkingdom\n",
       "Metagenome    296458\n",
       "Bacteria      157086\n",
       "Eukaryota     113052\n",
       "unknown        34250\n",
       "Archaea         5649\n",
       "undef            212\n",
       "Viruses           84\n",
       "Name: count, dtype: int64"
      ]
     },
     "execution_count": 62,
     "metadata": {},
     "output_type": "execute_result"
    }
   ],
   "source": [
    "df['superkingdom'].value_counts(dropna=False)"
   ]
  },
  {
   "cell_type": "code",
   "execution_count": 65,
   "id": "403da143-1287-48d4-95a2-95148a64b901",
   "metadata": {
    "tags": []
   },
   "outputs": [
    {
     "data": {
      "text/plain": [
       "kingdom\n",
       "unknown           41\n",
       "Pararnavirae      16\n",
       "Orthornavirae     11\n",
       "Heunggongvirae     7\n",
       "Bamfordvirae       6\n",
       "Shotokuvirae       3\n",
       "Name: count, dtype: int64"
      ]
     },
     "execution_count": 65,
     "metadata": {},
     "output_type": "execute_result"
    }
   ],
   "source": [
    "df[df['superkingdom']=='Viruses']['kingdom'].value_counts()"
   ]
  },
  {
   "cell_type": "markdown",
   "id": "e4473bdd-6865-41ee-a0dd-b68da3733b75",
   "metadata": {},
   "source": [
    "## Length analysis\n",
    "- in Rstudio"
   ]
  },
  {
   "cell_type": "code",
   "execution_count": 60,
   "id": "06237d28-ec54-487d-9732-09044cd6224a",
   "metadata": {
    "tags": []
   },
   "outputs": [
    {
     "data": {
      "text/plain": [
       "<Axes: ylabel='Frequency'>"
      ]
     },
     "execution_count": 60,
     "metadata": {},
     "output_type": "execute_result"
    },
    {
     "data": {
      "image/png": "[encoded data removed]",
      "text/plain": [
       "<Figure size 640x480 with 1 Axes>"
      ]
     },
     "metadata": {},
     "output_type": "display_data"
    }
   ],
   "source": [
    "df['length'].plot.hist()"
   ]
  },
  {
   "cell_type": "code",
   "execution_count": 67,
   "id": "2b225103-212c-4c42-8a64-bf02055e3aa1",
   "metadata": {
    "tags": []
   },
   "outputs": [],
   "source": [
    "df.to_csv('../annotation/all_filtered_5_annotation.csv', index=False)"
   ]
  },
  {
   "cell_type": "markdown",
   "id": "05173132-8d86-48c2-a7be-399eff426186",
   "metadata": {},
   "source": [
    "# Pfam domains"
   ]
  },
  {
   "cell_type": "code",
   "execution_count": 2,
   "id": "1112b2d6-b788-425d-9827-3922c66f1b83",
   "metadata": {
    "tags": []
   },
   "outputs": [],
   "source": [
    "df = pd.read_csv('../annotation/all_filtered_5_annotation.csv')"
   ]
  },
  {
   "cell_type": "markdown",
   "id": "6cd8809c-8d07-43a8-acaf-cbf07227dbff",
   "metadata": {},
   "source": [
    "## Eukaryotes"
   ]
  },
  {
   "cell_type": "code",
   "execution_count": 9,
   "id": "0d7b0e15-d86c-4ca3-b850-163cdfed9193",
   "metadata": {
    "tags": []
   },
   "outputs": [
    {
     "data": {
      "text/html": [
       "<div>\n",
       "<style scoped>\n",
       "    .dataframe tbody tr th:only-of-type {\n",
       "        vertical-align: middle;\n",
       "    }\n",
       "\n",
       "    .dataframe tbody tr th {\n",
       "        vertical-align: top;\n",
       "    }\n",
       "\n",
       "    .dataframe thead th {\n",
       "        text-align: right;\n",
       "    }\n",
       "</style>\n",
       "<table border=\"1\" class=\"dataframe\">\n",
       "  <thead>\n",
       "    <tr style=\"text-align: right;\">\n",
       "      <th></th>\n",
       "      <th>PF01397.24</th>\n",
       "      <th>PF03936.19</th>\n",
       "      <th>PF19086.3</th>\n",
       "      <th>PF06330.14</th>\n",
       "      <th>PF13243.9</th>\n",
       "      <th>PF13249.9</th>\n",
       "      <th>PF00494.22</th>\n",
       "    </tr>\n",
       "  </thead>\n",
       "  <tbody>\n",
       "    <tr>\n",
       "      <th>1.0</th>\n",
       "      <td>40.113399</td>\n",
       "      <td>48.843895</td>\n",
       "      <td>52.052153</td>\n",
       "      <td>1.96989</td>\n",
       "      <td>8.275838</td>\n",
       "      <td>7.837986</td>\n",
       "      <td>7.259491</td>\n",
       "    </tr>\n",
       "  </tbody>\n",
       "</table>\n",
       "</div>"
      ],
      "text/plain": [
       "     PF01397.24  PF03936.19  PF19086.3  PF06330.14  PF13243.9  PF13249.9  \\\n",
       "1.0   40.113399   48.843895  52.052153     1.96989   8.275838   7.837986   \n",
       "\n",
       "     PF00494.22  \n",
       "1.0    7.259491  "
      ]
     },
     "execution_count": 9,
     "metadata": {},
     "output_type": "execute_result"
    }
   ],
   "source": [
    "df[df['superkingdom']=='Eukaryota'][pfam_cols].fillna(0).apply(lambda x: x.value_counts(normalize=True, dropna=False) * 100).fillna(0).loc[[1.0]]"
   ]
  },
  {
   "cell_type": "markdown",
   "id": "6992f5d6-b1f5-45a1-b589-24d644715b85",
   "metadata": {},
   "source": [
    "## Plants"
   ]
  },
  {
   "cell_type": "code",
   "execution_count": 10,
   "id": "04c98945-6081-487c-a5ac-46edb75a2798",
   "metadata": {
    "tags": []
   },
   "outputs": [
    {
     "data": {
      "text/html": [
       "<div>\n",
       "<style scoped>\n",
       "    .dataframe tbody tr th:only-of-type {\n",
       "        vertical-align: middle;\n",
       "    }\n",
       "\n",
       "    .dataframe tbody tr th {\n",
       "        vertical-align: top;\n",
       "    }\n",
       "\n",
       "    .dataframe thead th {\n",
       "        text-align: right;\n",
       "    }\n",
       "</style>\n",
       "<table border=\"1\" class=\"dataframe\">\n",
       "  <thead>\n",
       "    <tr style=\"text-align: right;\">\n",
       "      <th></th>\n",
       "      <th>PF01397.24</th>\n",
       "      <th>PF03936.19</th>\n",
       "      <th>PF19086.3</th>\n",
       "      <th>PF06330.14</th>\n",
       "      <th>PF13243.9</th>\n",
       "      <th>PF13249.9</th>\n",
       "      <th>PF00494.22</th>\n",
       "    </tr>\n",
       "  </thead>\n",
       "  <tbody>\n",
       "    <tr>\n",
       "      <th>1.0</th>\n",
       "      <td>63.290626</td>\n",
       "      <td>69.033765</td>\n",
       "      <td>65.714605</td>\n",
       "      <td>0.211207</td>\n",
       "      <td>8.266428</td>\n",
       "      <td>7.553081</td>\n",
       "      <td>6.481663</td>\n",
       "    </tr>\n",
       "  </tbody>\n",
       "</table>\n",
       "</div>"
      ],
      "text/plain": [
       "     PF01397.24  PF03936.19  PF19086.3  PF06330.14  PF13243.9  PF13249.9  \\\n",
       "1.0   63.290626   69.033765  65.714605    0.211207   8.266428   7.553081   \n",
       "\n",
       "     PF00494.22  \n",
       "1.0    6.481663  "
      ]
     },
     "execution_count": 10,
     "metadata": {},
     "output_type": "execute_result"
    }
   ],
   "source": [
    "df[df['kingdom']=='Viridiplantae'][pfam_cols].fillna(0).apply(lambda x: x.value_counts(normalize=True, dropna=False) * 100).fillna(0).loc[[1.0]]"
   ]
  },
  {
   "cell_type": "markdown",
   "id": "3187d02b-978a-4871-8968-3ca3bf9427c6",
   "metadata": {},
   "source": [
    "## Fungi"
   ]
  },
  {
   "cell_type": "code",
   "execution_count": 11,
   "id": "55e78792-ae45-48f9-ac06-24a16800f3e2",
   "metadata": {
    "tags": []
   },
   "outputs": [
    {
     "data": {
      "text/html": [
       "<div>\n",
       "<style scoped>\n",
       "    .dataframe tbody tr th:only-of-type {\n",
       "        vertical-align: middle;\n",
       "    }\n",
       "\n",
       "    .dataframe tbody tr th {\n",
       "        vertical-align: top;\n",
       "    }\n",
       "\n",
       "    .dataframe thead th {\n",
       "        text-align: right;\n",
       "    }\n",
       "</style>\n",
       "<table border=\"1\" class=\"dataframe\">\n",
       "  <thead>\n",
       "    <tr style=\"text-align: right;\">\n",
       "      <th></th>\n",
       "      <th>PF01397.24</th>\n",
       "      <th>PF03936.19</th>\n",
       "      <th>PF19086.3</th>\n",
       "      <th>PF06330.14</th>\n",
       "      <th>PF13243.9</th>\n",
       "      <th>PF13249.9</th>\n",
       "      <th>PF00494.22</th>\n",
       "    </tr>\n",
       "  </thead>\n",
       "  <tbody>\n",
       "    <tr>\n",
       "      <th>1.0</th>\n",
       "      <td>0.09428</td>\n",
       "      <td>30.213702</td>\n",
       "      <td>54.010057</td>\n",
       "      <td>12.727844</td>\n",
       "      <td>4.211188</td>\n",
       "      <td>4.324324</td>\n",
       "      <td>9.861722</td>\n",
       "    </tr>\n",
       "  </tbody>\n",
       "</table>\n",
       "</div>"
      ],
      "text/plain": [
       "     PF01397.24  PF03936.19  PF19086.3  PF06330.14  PF13243.9  PF13249.9  \\\n",
       "1.0     0.09428   30.213702  54.010057   12.727844   4.211188   4.324324   \n",
       "\n",
       "     PF00494.22  \n",
       "1.0    9.861722  "
      ]
     },
     "execution_count": 11,
     "metadata": {},
     "output_type": "execute_result"
    }
   ],
   "source": [
    "df[df['kingdom']=='Fungi'][pfam_cols].fillna(0).apply(lambda x: x.value_counts(normalize=True, dropna=False) * 100).fillna(0).loc[[1.0]]"
   ]
  },
  {
   "cell_type": "markdown",
   "id": "40904c7c-ef8e-4e3f-8a6e-42c99fe9730f",
   "metadata": {},
   "source": [
    "## Metazoa"
   ]
  },
  {
   "cell_type": "code",
   "execution_count": 12,
   "id": "46efb560-80fc-4ab4-8e4e-0d4d25963b2a",
   "metadata": {
    "tags": []
   },
   "outputs": [
    {
     "data": {
      "text/html": [
       "<div>\n",
       "<style scoped>\n",
       "    .dataframe tbody tr th:only-of-type {\n",
       "        vertical-align: middle;\n",
       "    }\n",
       "\n",
       "    .dataframe tbody tr th {\n",
       "        vertical-align: top;\n",
       "    }\n",
       "\n",
       "    .dataframe thead th {\n",
       "        text-align: right;\n",
       "    }\n",
       "</style>\n",
       "<table border=\"1\" class=\"dataframe\">\n",
       "  <thead>\n",
       "    <tr style=\"text-align: right;\">\n",
       "      <th></th>\n",
       "      <th>PF01397.24</th>\n",
       "      <th>PF03936.19</th>\n",
       "      <th>PF19086.3</th>\n",
       "      <th>PF06330.14</th>\n",
       "      <th>PF13243.9</th>\n",
       "      <th>PF13249.9</th>\n",
       "      <th>PF00494.22</th>\n",
       "    </tr>\n",
       "  </thead>\n",
       "  <tbody>\n",
       "    <tr>\n",
       "      <th>1.0</th>\n",
       "      <td>0.394602</td>\n",
       "      <td>3.960637</td>\n",
       "      <td>12.768549</td>\n",
       "      <td>0.199737</td>\n",
       "      <td>12.037804</td>\n",
       "      <td>11.989088</td>\n",
       "      <td>3.205534</td>\n",
       "    </tr>\n",
       "  </tbody>\n",
       "</table>\n",
       "</div>"
      ],
      "text/plain": [
       "     PF01397.24  PF03936.19  PF19086.3  PF06330.14  PF13243.9  PF13249.9  \\\n",
       "1.0    0.394602    3.960637  12.768549    0.199737  12.037804  11.989088   \n",
       "\n",
       "     PF00494.22  \n",
       "1.0    3.205534  "
      ]
     },
     "execution_count": 12,
     "metadata": {},
     "output_type": "execute_result"
    }
   ],
   "source": [
    "df[df['kingdom']=='Metazoa'][pfam_cols].fillna(0).apply(lambda x: x.value_counts(normalize=True, dropna=False) * 100).fillna(0).loc[[1.0]]"
   ]
  },
  {
   "cell_type": "markdown",
   "id": "4d80b894-d847-4d59-ae7e-ad49581f355e",
   "metadata": {},
   "source": [
    "## Other"
   ]
  },
  {
   "cell_type": "code",
   "execution_count": 13,
   "id": "d6dcd5e8-2774-435a-8c30-3f0820156f23",
   "metadata": {
    "tags": []
   },
   "outputs": [
    {
     "data": {
      "text/html": [
       "<div>\n",
       "<style scoped>\n",
       "    .dataframe tbody tr th:only-of-type {\n",
       "        vertical-align: middle;\n",
       "    }\n",
       "\n",
       "    .dataframe tbody tr th {\n",
       "        vertical-align: top;\n",
       "    }\n",
       "\n",
       "    .dataframe thead th {\n",
       "        text-align: right;\n",
       "    }\n",
       "</style>\n",
       "<table border=\"1\" class=\"dataframe\">\n",
       "  <thead>\n",
       "    <tr style=\"text-align: right;\">\n",
       "      <th></th>\n",
       "      <th>PF01397.24</th>\n",
       "      <th>PF03936.19</th>\n",
       "      <th>PF19086.3</th>\n",
       "      <th>PF06330.14</th>\n",
       "      <th>PF13243.9</th>\n",
       "      <th>PF13249.9</th>\n",
       "      <th>PF00494.22</th>\n",
       "    </tr>\n",
       "  </thead>\n",
       "  <tbody>\n",
       "    <tr>\n",
       "      <th>1.0</th>\n",
       "      <td>0.07811</td>\n",
       "      <td>4.764694</td>\n",
       "      <td>12.692833</td>\n",
       "      <td>0.195274</td>\n",
       "      <td>5.955868</td>\n",
       "      <td>6.09256</td>\n",
       "      <td>26.283929</td>\n",
       "    </tr>\n",
       "  </tbody>\n",
       "</table>\n",
       "</div>"
      ],
      "text/plain": [
       "     PF01397.24  PF03936.19  PF19086.3  PF06330.14  PF13243.9  PF13249.9  \\\n",
       "1.0     0.07811    4.764694  12.692833    0.195274   5.955868    6.09256   \n",
       "\n",
       "     PF00494.22  \n",
       "1.0   26.283929  "
      ]
     },
     "execution_count": 13,
     "metadata": {},
     "output_type": "execute_result"
    }
   ],
   "source": [
    "df[(df['superkingdom']=='Eukaryota') & (df['kingdom']=='unknown')][pfam_cols].fillna(0).apply(lambda x: x.value_counts(normalize=True, dropna=False) * 100).fillna(0).loc[[1.0]]"
   ]
  },
  {
   "cell_type": "markdown",
   "id": "e5c2d7e2-4218-4a8b-bda3-e572c246a9e7",
   "metadata": {},
   "source": [
    "## Bacteria"
   ]
  },
  {
   "cell_type": "code",
   "execution_count": 14,
   "id": "b9c787b0-0536-4eae-a68b-fd74e456f22e",
   "metadata": {
    "tags": []
   },
   "outputs": [
    {
     "data": {
      "text/html": [
       "<div>\n",
       "<style scoped>\n",
       "    .dataframe tbody tr th:only-of-type {\n",
       "        vertical-align: middle;\n",
       "    }\n",
       "\n",
       "    .dataframe tbody tr th {\n",
       "        vertical-align: top;\n",
       "    }\n",
       "\n",
       "    .dataframe thead th {\n",
       "        text-align: right;\n",
       "    }\n",
       "</style>\n",
       "<table border=\"1\" class=\"dataframe\">\n",
       "  <thead>\n",
       "    <tr style=\"text-align: right;\">\n",
       "      <th></th>\n",
       "      <th>PF01397.24</th>\n",
       "      <th>PF03936.19</th>\n",
       "      <th>PF19086.3</th>\n",
       "      <th>PF06330.14</th>\n",
       "      <th>PF13243.9</th>\n",
       "      <th>PF13249.9</th>\n",
       "      <th>PF00494.22</th>\n",
       "    </tr>\n",
       "  </thead>\n",
       "  <tbody>\n",
       "    <tr>\n",
       "      <th>1.0</th>\n",
       "      <td>0.023554</td>\n",
       "      <td>7.020358</td>\n",
       "      <td>10.762894</td>\n",
       "      <td>1.75318</td>\n",
       "      <td>5.297735</td>\n",
       "      <td>5.200973</td>\n",
       "      <td>16.642476</td>\n",
       "    </tr>\n",
       "  </tbody>\n",
       "</table>\n",
       "</div>"
      ],
      "text/plain": [
       "     PF01397.24  PF03936.19  PF19086.3  PF06330.14  PF13243.9  PF13249.9  \\\n",
       "1.0    0.023554    7.020358  10.762894     1.75318   5.297735   5.200973   \n",
       "\n",
       "     PF00494.22  \n",
       "1.0   16.642476  "
      ]
     },
     "execution_count": 14,
     "metadata": {},
     "output_type": "execute_result"
    }
   ],
   "source": [
    "df[df['superkingdom']=='Bacteria'][pfam_cols].fillna(0).apply(lambda x: x.value_counts(normalize=True, dropna=False) * 100).fillna(0).loc[[1.0]]"
   ]
  },
  {
   "cell_type": "markdown",
   "id": "63e9fa0c-0521-4ca5-a91a-55970a59e7ce",
   "metadata": {},
   "source": [
    "## Archaea"
   ]
  },
  {
   "cell_type": "code",
   "execution_count": 15,
   "id": "9dc2085d-ff34-4b77-b34f-7d66aa6a0116",
   "metadata": {
    "tags": []
   },
   "outputs": [
    {
     "data": {
      "text/html": [
       "<div>\n",
       "<style scoped>\n",
       "    .dataframe tbody tr th:only-of-type {\n",
       "        vertical-align: middle;\n",
       "    }\n",
       "\n",
       "    .dataframe tbody tr th {\n",
       "        vertical-align: top;\n",
       "    }\n",
       "\n",
       "    .dataframe thead th {\n",
       "        text-align: right;\n",
       "    }\n",
       "</style>\n",
       "<table border=\"1\" class=\"dataframe\">\n",
       "  <thead>\n",
       "    <tr style=\"text-align: right;\">\n",
       "      <th></th>\n",
       "      <th>PF01397.24</th>\n",
       "      <th>PF03936.19</th>\n",
       "      <th>PF19086.3</th>\n",
       "      <th>PF06330.14</th>\n",
       "      <th>PF13243.9</th>\n",
       "      <th>PF13249.9</th>\n",
       "      <th>PF00494.22</th>\n",
       "    </tr>\n",
       "  </thead>\n",
       "  <tbody>\n",
       "    <tr>\n",
       "      <th>1.0</th>\n",
       "      <td>0.053107</td>\n",
       "      <td>3.575854</td>\n",
       "      <td>5.257568</td>\n",
       "      <td>0.0</td>\n",
       "      <td>2.389804</td>\n",
       "      <td>2.336697</td>\n",
       "      <td>28.305895</td>\n",
       "    </tr>\n",
       "  </tbody>\n",
       "</table>\n",
       "</div>"
      ],
      "text/plain": [
       "     PF01397.24  PF03936.19  PF19086.3  PF06330.14  PF13243.9  PF13249.9  \\\n",
       "1.0    0.053107    3.575854   5.257568         0.0   2.389804   2.336697   \n",
       "\n",
       "     PF00494.22  \n",
       "1.0   28.305895  "
      ]
     },
     "execution_count": 15,
     "metadata": {},
     "output_type": "execute_result"
    }
   ],
   "source": [
    "df[df['superkingdom']=='Archaea'][pfam_cols].fillna(0).apply(lambda x: x.value_counts(normalize=True, dropna=False) * 100).fillna(0).loc[[1.0]]"
   ]
  },
  {
   "cell_type": "markdown",
   "id": "155823ee-51e4-44b3-96c1-ab881c638d7c",
   "metadata": {},
   "source": [
    "## Metagenome"
   ]
  },
  {
   "cell_type": "code",
   "execution_count": 16,
   "id": "da4208d4-e7dd-4ab4-9237-9fc30c710923",
   "metadata": {
    "tags": []
   },
   "outputs": [
    {
     "data": {
      "text/html": [
       "<div>\n",
       "<style scoped>\n",
       "    .dataframe tbody tr th:only-of-type {\n",
       "        vertical-align: middle;\n",
       "    }\n",
       "\n",
       "    .dataframe tbody tr th {\n",
       "        vertical-align: top;\n",
       "    }\n",
       "\n",
       "    .dataframe thead th {\n",
       "        text-align: right;\n",
       "    }\n",
       "</style>\n",
       "<table border=\"1\" class=\"dataframe\">\n",
       "  <thead>\n",
       "    <tr style=\"text-align: right;\">\n",
       "      <th></th>\n",
       "      <th>PF01397.24</th>\n",
       "      <th>PF03936.19</th>\n",
       "      <th>PF19086.3</th>\n",
       "      <th>PF06330.14</th>\n",
       "      <th>PF13243.9</th>\n",
       "      <th>PF13249.9</th>\n",
       "      <th>PF00494.22</th>\n",
       "    </tr>\n",
       "  </thead>\n",
       "  <tbody>\n",
       "    <tr>\n",
       "      <th>1.0</th>\n",
       "      <td>0.202052</td>\n",
       "      <td>1.178244</td>\n",
       "      <td>1.684556</td>\n",
       "      <td>0.114013</td>\n",
       "      <td>5.0169</td>\n",
       "      <td>4.896478</td>\n",
       "      <td>18.741272</td>\n",
       "    </tr>\n",
       "  </tbody>\n",
       "</table>\n",
       "</div>"
      ],
      "text/plain": [
       "     PF01397.24  PF03936.19  PF19086.3  PF06330.14  PF13243.9  PF13249.9  \\\n",
       "1.0    0.202052    1.178244   1.684556    0.114013     5.0169   4.896478   \n",
       "\n",
       "     PF00494.22  \n",
       "1.0   18.741272  "
      ]
     },
     "execution_count": 16,
     "metadata": {},
     "output_type": "execute_result"
    }
   ],
   "source": [
    "df[df['superkingdom']=='Metagenome'][pfam_cols].fillna(0).apply(lambda x: x.value_counts(normalize=True, dropna=False) * 100).fillna(0).loc[[1.0]]"
   ]
  },
  {
   "cell_type": "markdown",
   "id": "e2328761-af03-4637-9e3f-6f932113f6dd",
   "metadata": {},
   "source": [
    "## Viruses"
   ]
  },
  {
   "cell_type": "code",
   "execution_count": 17,
   "id": "e2d47af0-c67e-49df-8c36-c735e52d5212",
   "metadata": {
    "tags": []
   },
   "outputs": [
    {
     "data": {
      "text/html": [
       "<div>\n",
       "<style scoped>\n",
       "    .dataframe tbody tr th:only-of-type {\n",
       "        vertical-align: middle;\n",
       "    }\n",
       "\n",
       "    .dataframe tbody tr th {\n",
       "        vertical-align: top;\n",
       "    }\n",
       "\n",
       "    .dataframe thead th {\n",
       "        text-align: right;\n",
       "    }\n",
       "</style>\n",
       "<table border=\"1\" class=\"dataframe\">\n",
       "  <thead>\n",
       "    <tr style=\"text-align: right;\">\n",
       "      <th></th>\n",
       "      <th>PF01397.24</th>\n",
       "      <th>PF03936.19</th>\n",
       "      <th>PF19086.3</th>\n",
       "      <th>PF06330.14</th>\n",
       "      <th>PF13243.9</th>\n",
       "      <th>PF13249.9</th>\n",
       "      <th>PF00494.22</th>\n",
       "    </tr>\n",
       "  </thead>\n",
       "  <tbody>\n",
       "    <tr>\n",
       "      <th>1.0</th>\n",
       "      <td>0.0</td>\n",
       "      <td>0.0</td>\n",
       "      <td>1.190476</td>\n",
       "      <td>0.0</td>\n",
       "      <td>8.333333</td>\n",
       "      <td>8.333333</td>\n",
       "      <td>20.238095</td>\n",
       "    </tr>\n",
       "  </tbody>\n",
       "</table>\n",
       "</div>"
      ],
      "text/plain": [
       "     PF01397.24  PF03936.19  PF19086.3  PF06330.14  PF13243.9  PF13249.9  \\\n",
       "1.0         0.0         0.0   1.190476         0.0   8.333333   8.333333   \n",
       "\n",
       "     PF00494.22  \n",
       "1.0   20.238095  "
      ]
     },
     "execution_count": 17,
     "metadata": {},
     "output_type": "execute_result"
    }
   ],
   "source": [
    "df[df['superkingdom']=='Viruses'][pfam_cols].fillna(0).apply(lambda x: x.value_counts(normalize=True, dropna=False) * 100).fillna(0).loc[[1.0]]"
   ]
  },
  {
   "cell_type": "markdown",
   "id": "0bba193c-3291-4333-bf42-ce9296e007c0",
   "metadata": {},
   "source": [
    "# Supfam domains"
   ]
  },
  {
   "cell_type": "markdown",
   "id": "7676ee9a-8261-4110-aa68-b690b9768b16",
   "metadata": {},
   "source": [
    "## Eukaryotes"
   ]
  },
  {
   "cell_type": "code",
   "execution_count": 18,
   "id": "096a3f9b-74aa-4777-ab9a-e807c0cf4f6b",
   "metadata": {
    "tags": []
   },
   "outputs": [
    {
     "data": {
      "text/html": [
       "<div>\n",
       "<style scoped>\n",
       "    .dataframe tbody tr th:only-of-type {\n",
       "        vertical-align: middle;\n",
       "    }\n",
       "\n",
       "    .dataframe tbody tr th {\n",
       "        vertical-align: top;\n",
       "    }\n",
       "\n",
       "    .dataframe thead th {\n",
       "        text-align: right;\n",
       "    }\n",
       "</style>\n",
       "<table border=\"1\" class=\"dataframe\">\n",
       "  <thead>\n",
       "    <tr style=\"text-align: right;\">\n",
       "      <th></th>\n",
       "      <th>0041184</th>\n",
       "      <th>0053354</th>\n",
       "      <th>0053355</th>\n",
       "      <th>0048261</th>\n",
       "      <th>0048806</th>\n",
       "      <th>0046340</th>\n",
       "      <th>0047573</th>\n",
       "    </tr>\n",
       "  </thead>\n",
       "  <tbody>\n",
       "    <tr>\n",
       "      <th>1.0</th>\n",
       "      <td>41.163358</td>\n",
       "      <td>41.166897</td>\n",
       "      <td>59.673425</td>\n",
       "      <td>58.846372</td>\n",
       "      <td>84.030358</td>\n",
       "      <td>86.987404</td>\n",
       "      <td>79.739412</td>\n",
       "    </tr>\n",
       "  </tbody>\n",
       "</table>\n",
       "</div>"
      ],
      "text/plain": [
       "       0041184    0053354    0053355    0048261    0048806    0046340  \\\n",
       "1.0  41.163358  41.166897  59.673425  58.846372  84.030358  86.987404   \n",
       "\n",
       "       0047573  \n",
       "1.0  79.739412  "
      ]
     },
     "execution_count": 18,
     "metadata": {},
     "output_type": "execute_result"
    }
   ],
   "source": [
    "df[df['superkingdom']=='Eukaryota'][supfam_cols].fillna(0).apply(lambda x: x.value_counts(normalize=True, dropna=False) * 100).fillna(0).loc[[1.0]]"
   ]
  },
  {
   "cell_type": "markdown",
   "id": "6b993058-5622-41c5-868c-467bf847f9e3",
   "metadata": {},
   "source": [
    "## Plants"
   ]
  },
  {
   "cell_type": "code",
   "execution_count": 20,
   "id": "84e54caa-2f3d-42d9-a172-03b5ebfad200",
   "metadata": {
    "tags": []
   },
   "outputs": [
    {
     "data": {
      "text/html": [
       "<div>\n",
       "<style scoped>\n",
       "    .dataframe tbody tr th:only-of-type {\n",
       "        vertical-align: middle;\n",
       "    }\n",
       "\n",
       "    .dataframe tbody tr th {\n",
       "        vertical-align: top;\n",
       "    }\n",
       "\n",
       "    .dataframe thead th {\n",
       "        text-align: right;\n",
       "    }\n",
       "</style>\n",
       "<table border=\"1\" class=\"dataframe\">\n",
       "  <thead>\n",
       "    <tr style=\"text-align: right;\">\n",
       "      <th></th>\n",
       "      <th>0041184</th>\n",
       "      <th>0053354</th>\n",
       "      <th>0053355</th>\n",
       "      <th>0048261</th>\n",
       "      <th>0048806</th>\n",
       "      <th>0046340</th>\n",
       "      <th>0047573</th>\n",
       "    </tr>\n",
       "  </thead>\n",
       "  <tbody>\n",
       "    <tr>\n",
       "      <th>1.0</th>\n",
       "      <td>64.943911</td>\n",
       "      <td>64.949506</td>\n",
       "      <td>69.324699</td>\n",
       "      <td>69.068733</td>\n",
       "      <td>84.637872</td>\n",
       "      <td>88.30811</td>\n",
       "      <td>84.330154</td>\n",
       "    </tr>\n",
       "  </tbody>\n",
       "</table>\n",
       "</div>"
      ],
      "text/plain": [
       "       0041184    0053354    0053355    0048261    0048806   0046340  \\\n",
       "1.0  64.943911  64.949506  69.324699  69.068733  84.637872  88.30811   \n",
       "\n",
       "       0047573  \n",
       "1.0  84.330154  "
      ]
     },
     "execution_count": 20,
     "metadata": {},
     "output_type": "execute_result"
    }
   ],
   "source": [
    "df[df['kingdom']=='Viridiplantae'][supfam_cols].fillna(0).apply(lambda x: x.value_counts(normalize=True, dropna=False) * 100).fillna(0).loc[[1.0]]"
   ]
  },
  {
   "cell_type": "markdown",
   "id": "6626b1ef-1885-4361-a3f6-01d5f63e5de8",
   "metadata": {},
   "source": [
    "## Fungi"
   ]
  },
  {
   "cell_type": "code",
   "execution_count": 21,
   "id": "ebb4cbbc-d246-4a54-b7c6-019691979339",
   "metadata": {
    "tags": []
   },
   "outputs": [
    {
     "data": {
      "text/html": [
       "<div>\n",
       "<style scoped>\n",
       "    .dataframe tbody tr th:only-of-type {\n",
       "        vertical-align: middle;\n",
       "    }\n",
       "\n",
       "    .dataframe tbody tr th {\n",
       "        vertical-align: top;\n",
       "    }\n",
       "\n",
       "    .dataframe thead th {\n",
       "        text-align: right;\n",
       "    }\n",
       "</style>\n",
       "<table border=\"1\" class=\"dataframe\">\n",
       "  <thead>\n",
       "    <tr style=\"text-align: right;\">\n",
       "      <th></th>\n",
       "      <th>0041184</th>\n",
       "      <th>0053354</th>\n",
       "      <th>0053355</th>\n",
       "      <th>0048261</th>\n",
       "      <th>0048806</th>\n",
       "      <th>0046340</th>\n",
       "      <th>0047573</th>\n",
       "    </tr>\n",
       "  </thead>\n",
       "  <tbody>\n",
       "    <tr>\n",
       "      <th>1.0</th>\n",
       "      <td>0.119422</td>\n",
       "      <td>0.100566</td>\n",
       "      <td>68.786926</td>\n",
       "      <td>68.026398</td>\n",
       "      <td>86.191075</td>\n",
       "      <td>87.089881</td>\n",
       "      <td>79.987429</td>\n",
       "    </tr>\n",
       "  </tbody>\n",
       "</table>\n",
       "</div>"
      ],
      "text/plain": [
       "      0041184   0053354    0053355    0048261    0048806    0046340    0047573\n",
       "1.0  0.119422  0.100566  68.786926  68.026398  86.191075  87.089881  79.987429"
      ]
     },
     "execution_count": 21,
     "metadata": {},
     "output_type": "execute_result"
    }
   ],
   "source": [
    "df[df['kingdom']=='Fungi'][supfam_cols].fillna(0).apply(lambda x: x.value_counts(normalize=True, dropna=False) * 100).fillna(0).loc[[1.0]]"
   ]
  },
  {
   "cell_type": "markdown",
   "id": "3fadfcb8-bc06-484a-bb84-0994eaf8f69d",
   "metadata": {},
   "source": [
    "## Metazoa"
   ]
  },
  {
   "cell_type": "code",
   "execution_count": 22,
   "id": "cc2b8fe9-1441-4ba8-ac33-0eb3dd1864ee",
   "metadata": {
    "tags": []
   },
   "outputs": [
    {
     "data": {
      "text/html": [
       "<div>\n",
       "<style scoped>\n",
       "    .dataframe tbody tr th:only-of-type {\n",
       "        vertical-align: middle;\n",
       "    }\n",
       "\n",
       "    .dataframe tbody tr th {\n",
       "        vertical-align: top;\n",
       "    }\n",
       "\n",
       "    .dataframe thead th {\n",
       "        text-align: right;\n",
       "    }\n",
       "</style>\n",
       "<table border=\"1\" class=\"dataframe\">\n",
       "  <thead>\n",
       "    <tr style=\"text-align: right;\">\n",
       "      <th></th>\n",
       "      <th>0041184</th>\n",
       "      <th>0053354</th>\n",
       "      <th>0053355</th>\n",
       "      <th>0048261</th>\n",
       "      <th>0048806</th>\n",
       "      <th>0046340</th>\n",
       "      <th>0047573</th>\n",
       "    </tr>\n",
       "  </thead>\n",
       "  <tbody>\n",
       "    <tr>\n",
       "      <th>1.0</th>\n",
       "      <td>0.399474</td>\n",
       "      <td>0.414089</td>\n",
       "      <td>28.6793</td>\n",
       "      <td>25.834267</td>\n",
       "      <td>84.15258</td>\n",
       "      <td>85.672529</td>\n",
       "      <td>69.605885</td>\n",
       "    </tr>\n",
       "  </tbody>\n",
       "</table>\n",
       "</div>"
      ],
      "text/plain": [
       "      0041184   0053354  0053355    0048261   0048806    0046340    0047573\n",
       "1.0  0.399474  0.414089  28.6793  25.834267  84.15258  85.672529  69.605885"
      ]
     },
     "execution_count": 22,
     "metadata": {},
     "output_type": "execute_result"
    }
   ],
   "source": [
    "df[df['kingdom']=='Metazoa'][supfam_cols].fillna(0).apply(lambda x: x.value_counts(normalize=True, dropna=False) * 100).fillna(0).loc[[1.0]]"
   ]
  },
  {
   "cell_type": "markdown",
   "id": "3f561e2e-eb3b-42bb-9228-2f814893381c",
   "metadata": {},
   "source": [
    "## Other"
   ]
  },
  {
   "cell_type": "code",
   "execution_count": 23,
   "id": "37c36a2a-e1bf-4ef6-bd25-6b7cd05efec2",
   "metadata": {
    "tags": []
   },
   "outputs": [
    {
     "data": {
      "text/html": [
       "<div>\n",
       "<style scoped>\n",
       "    .dataframe tbody tr th:only-of-type {\n",
       "        vertical-align: middle;\n",
       "    }\n",
       "\n",
       "    .dataframe tbody tr th {\n",
       "        vertical-align: top;\n",
       "    }\n",
       "\n",
       "    .dataframe thead th {\n",
       "        text-align: right;\n",
       "    }\n",
       "</style>\n",
       "<table border=\"1\" class=\"dataframe\">\n",
       "  <thead>\n",
       "    <tr style=\"text-align: right;\">\n",
       "      <th></th>\n",
       "      <th>0041184</th>\n",
       "      <th>0053354</th>\n",
       "      <th>0053355</th>\n",
       "      <th>0048261</th>\n",
       "      <th>0048806</th>\n",
       "      <th>0046340</th>\n",
       "      <th>0047573</th>\n",
       "    </tr>\n",
       "  </thead>\n",
       "  <tbody>\n",
       "    <tr>\n",
       "      <th>1.0</th>\n",
       "      <td>0.07811</td>\n",
       "      <td>0.07811</td>\n",
       "      <td>20.855302</td>\n",
       "      <td>19.937512</td>\n",
       "      <td>68.346026</td>\n",
       "      <td>73.501269</td>\n",
       "      <td>55.496973</td>\n",
       "    </tr>\n",
       "  </tbody>\n",
       "</table>\n",
       "</div>"
      ],
      "text/plain": [
       "     0041184  0053354    0053355    0048261    0048806    0046340    0047573\n",
       "1.0  0.07811  0.07811  20.855302  19.937512  68.346026  73.501269  55.496973"
      ]
     },
     "execution_count": 23,
     "metadata": {},
     "output_type": "execute_result"
    }
   ],
   "source": [
    "df[(df['superkingdom']=='Eukaryota') & (df['kingdom']=='unknown')][supfam_cols].fillna(0).apply(lambda x: x.value_counts(normalize=True, dropna=False) * 100).fillna(0).loc[[1.0]]"
   ]
  },
  {
   "cell_type": "markdown",
   "id": "1455bbf2-e13a-4d00-b66b-9cc968465d73",
   "metadata": {},
   "source": [
    "## Bacteria"
   ]
  },
  {
   "cell_type": "code",
   "execution_count": 24,
   "id": "c720fa8e-4d10-42a9-a3db-634a3c4e72b3",
   "metadata": {
    "tags": []
   },
   "outputs": [
    {
     "data": {
      "text/html": [
       "<div>\n",
       "<style scoped>\n",
       "    .dataframe tbody tr th:only-of-type {\n",
       "        vertical-align: middle;\n",
       "    }\n",
       "\n",
       "    .dataframe tbody tr th {\n",
       "        vertical-align: top;\n",
       "    }\n",
       "\n",
       "    .dataframe thead th {\n",
       "        text-align: right;\n",
       "    }\n",
       "</style>\n",
       "<table border=\"1\" class=\"dataframe\">\n",
       "  <thead>\n",
       "    <tr style=\"text-align: right;\">\n",
       "      <th></th>\n",
       "      <th>0041184</th>\n",
       "      <th>0053354</th>\n",
       "      <th>0053355</th>\n",
       "      <th>0048261</th>\n",
       "      <th>0048806</th>\n",
       "      <th>0046340</th>\n",
       "      <th>0047573</th>\n",
       "    </tr>\n",
       "  </thead>\n",
       "  <tbody>\n",
       "    <tr>\n",
       "      <th>1.0</th>\n",
       "      <td>0.036922</td>\n",
       "      <td>0.02801</td>\n",
       "      <td>27.700113</td>\n",
       "      <td>15.683766</td>\n",
       "      <td>75.961575</td>\n",
       "      <td>83.809506</td>\n",
       "      <td>74.193117</td>\n",
       "    </tr>\n",
       "  </tbody>\n",
       "</table>\n",
       "</div>"
      ],
      "text/plain": [
       "      0041184  0053354    0053355    0048261    0048806    0046340    0047573\n",
       "1.0  0.036922  0.02801  27.700113  15.683766  75.961575  83.809506  74.193117"
      ]
     },
     "execution_count": 24,
     "metadata": {},
     "output_type": "execute_result"
    }
   ],
   "source": [
    "df[df['superkingdom']=='Bacteria'][supfam_cols].fillna(0).apply(lambda x: x.value_counts(normalize=True, dropna=False) * 100).fillna(0).loc[[1.0]]"
   ]
  },
  {
   "cell_type": "markdown",
   "id": "d5949a27-b8b3-47d0-8dbd-a4521ae44158",
   "metadata": {},
   "source": [
    "## Archaea"
   ]
  },
  {
   "cell_type": "code",
   "execution_count": 25,
   "id": "2d98c838-373e-404b-8258-58fd0dc0d4fb",
   "metadata": {
    "tags": []
   },
   "outputs": [
    {
     "data": {
      "text/html": [
       "<div>\n",
       "<style scoped>\n",
       "    .dataframe tbody tr th:only-of-type {\n",
       "        vertical-align: middle;\n",
       "    }\n",
       "\n",
       "    .dataframe tbody tr th {\n",
       "        vertical-align: top;\n",
       "    }\n",
       "\n",
       "    .dataframe thead th {\n",
       "        text-align: right;\n",
       "    }\n",
       "</style>\n",
       "<table border=\"1\" class=\"dataframe\">\n",
       "  <thead>\n",
       "    <tr style=\"text-align: right;\">\n",
       "      <th></th>\n",
       "      <th>0041184</th>\n",
       "      <th>0053354</th>\n",
       "      <th>0053355</th>\n",
       "      <th>0048261</th>\n",
       "      <th>0048806</th>\n",
       "      <th>0046340</th>\n",
       "      <th>0047573</th>\n",
       "    </tr>\n",
       "  </thead>\n",
       "  <tbody>\n",
       "    <tr>\n",
       "      <th>1.0</th>\n",
       "      <td>0.070809</td>\n",
       "      <td>0.053107</td>\n",
       "      <td>26.270136</td>\n",
       "      <td>13.54222</td>\n",
       "      <td>71.924234</td>\n",
       "      <td>76.650735</td>\n",
       "      <td>70.401841</td>\n",
       "    </tr>\n",
       "  </tbody>\n",
       "</table>\n",
       "</div>"
      ],
      "text/plain": [
       "      0041184   0053354    0053355   0048261    0048806    0046340    0047573\n",
       "1.0  0.070809  0.053107  26.270136  13.54222  71.924234  76.650735  70.401841"
      ]
     },
     "execution_count": 25,
     "metadata": {},
     "output_type": "execute_result"
    }
   ],
   "source": [
    "df[df['superkingdom']=='Archaea'][supfam_cols].fillna(0).apply(lambda x: x.value_counts(normalize=True, dropna=False) * 100).fillna(0).loc[[1.0]]"
   ]
  },
  {
   "cell_type": "markdown",
   "id": "ce22a6ec-f0f2-411b-a1c2-2224755db30b",
   "metadata": {},
   "source": [
    "## Metagenome"
   ]
  },
  {
   "cell_type": "code",
   "execution_count": 26,
   "id": "f348364a-f795-4e24-a594-436f9355f5ae",
   "metadata": {
    "tags": []
   },
   "outputs": [
    {
     "data": {
      "text/html": [
       "<div>\n",
       "<style scoped>\n",
       "    .dataframe tbody tr th:only-of-type {\n",
       "        vertical-align: middle;\n",
       "    }\n",
       "\n",
       "    .dataframe tbody tr th {\n",
       "        vertical-align: top;\n",
       "    }\n",
       "\n",
       "    .dataframe thead th {\n",
       "        text-align: right;\n",
       "    }\n",
       "</style>\n",
       "<table border=\"1\" class=\"dataframe\">\n",
       "  <thead>\n",
       "    <tr style=\"text-align: right;\">\n",
       "      <th></th>\n",
       "      <th>0041184</th>\n",
       "      <th>0053354</th>\n",
       "      <th>0053355</th>\n",
       "      <th>0048261</th>\n",
       "      <th>0048806</th>\n",
       "      <th>0046340</th>\n",
       "      <th>0047573</th>\n",
       "    </tr>\n",
       "  </thead>\n",
       "  <tbody>\n",
       "    <tr>\n",
       "      <th>1.0</th>\n",
       "      <td>0.215545</td>\n",
       "      <td>0.202727</td>\n",
       "      <td>21.907994</td>\n",
       "      <td>8.981036</td>\n",
       "      <td>73.750751</td>\n",
       "      <td>81.469213</td>\n",
       "      <td>72.33706</td>\n",
       "    </tr>\n",
       "  </tbody>\n",
       "</table>\n",
       "</div>"
      ],
      "text/plain": [
       "      0041184   0053354    0053355   0048261    0048806    0046340   0047573\n",
       "1.0  0.215545  0.202727  21.907994  8.981036  73.750751  81.469213  72.33706"
      ]
     },
     "execution_count": 26,
     "metadata": {},
     "output_type": "execute_result"
    }
   ],
   "source": [
    "df[df['superkingdom']=='Metagenome'][supfam_cols].fillna(0).apply(lambda x: x.value_counts(normalize=True, dropna=False) * 100).fillna(0).loc[[1.0]]"
   ]
  },
  {
   "cell_type": "markdown",
   "id": "c2e44726-0682-4930-bbfd-9a2a3a99e877",
   "metadata": {},
   "source": [
    "## Viruses"
   ]
  },
  {
   "cell_type": "code",
   "execution_count": null,
   "id": "0e6e1f6e-515b-46b5-80d0-1c064607bc07",
   "metadata": {},
   "outputs": [],
   "source": []
  }
 ],
 "metadata": {
  "kernelspec": {
   "display_name": "Python 3 (ipykernel)",
   "language": "python",
   "name": "python3"
  },
  "language_info": {
   "codemirror_mode": {
    "name": "ipython",
    "version": 3
   },
   "file_extension": ".py",
   "mimetype": "text/x-python",
   "name": "python",
   "nbconvert_exporter": "python",
   "pygments_lexer": "ipython3",
   "version": "3.11.5"
  }
 },
 "nbformat": 4,
 "nbformat_minor": 5
}

{
 "cells": [
  {
   "cell_type": "code",
   "execution_count": 1,
   "id": "66f11eda-61fa-4955-85f8-62794b534f49",
   "metadata": {
    "tags": []
   },
   "outputs": [],
   "source": [
    "import py4cytoscape as p4c\n",
    "import pandas as pd\n",
    "import uuid\n",
    "from time import sleep\n",
    "import matplotlib.pyplot as plt"
   ]
  },
  {
   "cell_type": "code",
   "execution_count": 2,
   "id": "6ee0df4d-80f9-4a31-b02d-184e60f8c8b3",
   "metadata": {
    "tags": []
   },
   "outputs": [
    {
     "name": "stdout",
     "output_type": "stream",
     "text": [
      "You are connected to Cytoscape!\n"
     ]
    },
    {
     "data": {
      "text/plain": [
       "{'apiVersion': 'v1',\n",
       " 'cytoscapeVersion': '3.10.1',\n",
       " 'automationAPIVersion': '1.9.0',\n",
       " 'py4cytoscapeVersion': '1.9.0'}"
      ]
     },
     "execution_count": 2,
     "metadata": {},
     "output_type": "execute_result"
    }
   ],
   "source": [
    "p4c.cytoscape_ping()\n",
    "p4c.cytoscape_version_info()"
   ]
  },
  {
   "cell_type": "code",
   "execution_count": 15,
   "id": "befcc2cc-a3a6-41a1-91ba-e838304a2b0a",
   "metadata": {
    "tags": []
   },
   "outputs": [
    {
     "data": {
      "text/plain": [
       "'default_domains'"
      ]
     },
     "execution_count": 15,
     "metadata": {},
     "output_type": "execute_result"
    }
   ],
   "source": [
    "p4c.get_current_style()"
   ]
  },
  {
   "cell_type": "code",
   "execution_count": 44,
   "id": "4631ef5c-3046-4106-bb52-df08e02b35c1",
   "metadata": {
    "tags": []
   },
   "outputs": [],
   "source": [
    "domains_colors = pd.read_csv('color_mappings/domains.txt',index_col=1).to_dict(orient='index')"
   ]
  },
  {
   "cell_type": "code",
   "execution_count": 45,
   "id": "94b07606-9fb5-4e6b-89ee-0a07707c9034",
   "metadata": {
    "tags": []
   },
   "outputs": [
    {
     "data": {
      "text/plain": [
       "dict_items([('PF00494.22', {'color_code': '#C70E7B'}), ('PF01397.24', {'color_code': '#FC6882'}), ('PF03936.19', {'color_code': '#007BC3'}), ('PF06330.14', {'color_code': '#54BCD1'}), ('PF13243.9', {'color_code': '#EF7C12'}), ('PF13249.9', {'color_code': '#F4B95A'}), ('PF19086.3', {'color_code': '#009F3F'}), ('0041184', {'color_code': '#8FDA04'}), ('0053354', {'color_code': '#172869'}), ('0053355', {'color_code': '#F5D000'}), ('0048261', {'color_code': '#831818'}), ('0048806', {'color_code': '#C62320'}), ('0046340', {'color_code': '#9F5691'}), ('0047573', {'color_code': '#633372'})])"
      ]
     },
     "execution_count": 45,
     "metadata": {},
     "output_type": "execute_result"
    }
   ],
   "source": [
    "domains_colors.items()"
   ]
  },
  {
   "cell_type": "code",
   "execution_count": 46,
   "id": "37171c57-6d37-4e22-8864-a63fa906690d",
   "metadata": {
    "tags": []
   },
   "outputs": [
    {
     "name": "stdout",
     "output_type": "stream",
     "text": [
      "PF00494.22\n",
      "domain PF00494.22 done\n",
      "PF01397.24\n",
      "domain PF01397.24 done\n",
      "PF03936.19\n",
      "domain PF03936.19 done\n",
      "PF06330.14\n",
      "domain PF06330.14 done\n",
      "PF13243.9\n",
      "domain PF13243.9 done\n",
      "PF13249.9\n",
      "domain PF13249.9 done\n",
      "PF19086.3\n",
      "domain PF19086.3 done\n",
      "0041184\n",
      "domain 0041184 done\n",
      "0053354\n",
      "domain 0053354 done\n",
      "0053355\n",
      "domain 0053355 done\n",
      "0048261\n",
      "domain 0048261 done\n",
      "0048806\n",
      "domain 0048806 done\n",
      "0046340\n",
      "domain 0046340 done\n",
      "0047573\n",
      "domain 0047573 done\n"
     ]
    }
   ],
   "source": [
    "for domain, color_dict in domains_colors.items():\n",
    "    print(domain)\n",
    "    # create new style\n",
    "    p4c.copy_visual_style(from_style='default_domains', to_style=domain)\n",
    "    p4c.set_visual_style(domain)\n",
    "    p4c.set_node_color_mapping(style_name=domain,table_column=domain,mapping_type='d',table_column_values=['1.0'],colors=[color_dict['color_code']])\n",
    "    p4c.export_image(f'images/domains/{domain}.png', zoom=375, all_graphics_details=True)\n",
    "    print(f'domain {domain} done')"
   ]
  }
 ],
 "metadata": {
  "kernelspec": {
   "display_name": "Python 3 (ipykernel)",
   "language": "python",
   "name": "python3"
  },
  "language_info": {
   "codemirror_mode": {
    "name": "ipython",
    "version": 3
   },
   "file_extension": ".py",
   "mimetype": "text/x-python",
   "name": "python",
   "nbconvert_exporter": "python",
   "pygments_lexer": "ipython3",
   "version": "3.10.13"
  }
 },
 "nbformat": 4,
 "nbformat_minor": 5
}

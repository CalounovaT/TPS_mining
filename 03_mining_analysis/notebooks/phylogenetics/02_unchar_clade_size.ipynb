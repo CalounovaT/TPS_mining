{
 "cells": [
  {
   "cell_type": "markdown",
   "id": "cade0cdf-2997-4d3b-8ba6-ddac5f8bb83d",
   "metadata": {},
   "source": [
    "# Size of the largest unchar clade"
   ]
  },
  {
   "cell_type": "markdown",
   "id": "d770be56-a3cc-4a30-b76c-d8303f05c9df",
   "metadata": {},
   "source": [
    "For each uncharacterized leaf, get the number of leaves of largest possible clade it is part of and consists only of uncharacterized leaves."
   ]
  },
  {
   "cell_type": "code",
   "execution_count": 1,
   "id": "ebbc1f17-5432-4f69-a9d9-932e0ef29dd5",
   "metadata": {
    "tags": []
   },
   "outputs": [],
   "source": [
    "from ete3 import Tree"
   ]
  },
  {
   "cell_type": "code",
   "execution_count": 4,
   "id": "1463fa35-21e4-4998-b10d-b282b3fa4ba6",
   "metadata": {
    "tags": []
   },
   "outputs": [],
   "source": [
    "import pandas as pd"
   ]
  },
  {
   "cell_type": "code",
   "execution_count": 2,
   "id": "949ee8f1-c761-45ee-bbd9-3d0e9c6b2b74",
   "metadata": {
    "tags": []
   },
   "outputs": [],
   "source": [
    "tree = Tree('all_filtered_5_unique_no_stop_50_with_char_fastest.tree')"
   ]
  },
  {
   "cell_type": "code",
   "execution_count": 5,
   "id": "9e736348-c04f-412f-971c-b0ece4005e2f",
   "metadata": {
    "tags": []
   },
   "outputs": [],
   "source": [
    "char_info_df = pd.read_csv('nodes_char_info.csv', index_col=0)"
   ]
  },
  {
   "cell_type": "code",
   "execution_count": 7,
   "id": "9d9022ae-9983-4b8d-a5f7-733f7c7cc89b",
   "metadata": {
    "tags": []
   },
   "outputs": [],
   "source": [
    "char_info_dict = char_info_df.set_index('source').to_dict(orient='index')"
   ]
  },
  {
   "cell_type": "code",
   "execution_count": 28,
   "id": "71e0b767-6239-46fd-bae4-877c04c2b34e",
   "metadata": {
    "tags": []
   },
   "outputs": [],
   "source": [
    "characterized_leaves_ids = set(char_info_df[char_info_df['characterized']==1]['source'].tolist())"
   ]
  },
  {
   "cell_type": "code",
   "execution_count": 29,
   "id": "99a4ca64-772e-4b9b-aa2c-9600faa1845b",
   "metadata": {
    "tags": []
   },
   "outputs": [],
   "source": [
    "uncharacterized_leaves_ids = set(char_info_df[char_info_df['characterized']==0]['source'].tolist())"
   ]
  },
  {
   "cell_type": "code",
   "execution_count": 16,
   "id": "aac6ca04-9bcb-42cc-9d8c-aabf45c0b1d8",
   "metadata": {
    "tags": []
   },
   "outputs": [],
   "source": [
    "leaf1 = tree.get_leaves()[0]"
   ]
  },
  {
   "cell_type": "code",
   "execution_count": 17,
   "id": "69ec4a38-1433-44c0-a21f-09ed7cff87a6",
   "metadata": {
    "tags": []
   },
   "outputs": [
    {
     "data": {
      "text/plain": [
       "Tree node 'uniprot_167215' (0x1c7dc33f8b)"
      ]
     },
     "execution_count": 17,
     "metadata": {},
     "output_type": "execute_result"
    }
   ],
   "source": [
    "leaf1"
   ]
  },
  {
   "cell_type": "code",
   "execution_count": 24,
   "id": "9db7aedb-4706-4ca3-98de-5c0ec67293da",
   "metadata": {
    "tags": []
   },
   "outputs": [
    {
     "data": {
      "text/plain": [
       "[Tree node '' (0x1c7dc33f64),\n",
       " Tree node '' (0x1c7dc33ffd),\n",
       " Tree node '' (0x1c7e0d15ae)]"
      ]
     },
     "execution_count": 24,
     "metadata": {},
     "output_type": "execute_result"
    }
   ],
   "source": [
    "leaf1.get_ancestors()"
   ]
  },
  {
   "cell_type": "code",
   "execution_count": 38,
   "id": "547be2a6-a933-48a0-9dbd-31922f9967d1",
   "metadata": {
    "tags": []
   },
   "outputs": [],
   "source": [
    "def get_largest_unchar_clade_size(leaf, characterized_leaves_ids=characterized_leaves_ids):\n",
    "    largest_unchar_clade_size = 1\n",
    "    for ancestor in leaf.iter_ancestors():\n",
    "        leaves = set(ancestor.get_leaf_names())\n",
    "        intersection = leaves.intersection(characterized_leaves_ids)\n",
    "        if len(intersection) > 0:\n",
    "            return largest_unchar_clade_size\n",
    "        largest_unchar_clade_size = len(leaves)"
   ]
  },
  {
   "cell_type": "code",
   "execution_count": 39,
   "id": "41ce3756-5e72-4afa-bab4-6da3cc611ad3",
   "metadata": {
    "tags": []
   },
   "outputs": [],
   "source": [
    "sizes = dict()\n",
    "for leaf in tree.get_leaves():\n",
    "    sizes[leaf.name] = get_largest_unchar_clade_size(leaf)"
   ]
  },
  {
   "cell_type": "code",
   "execution_count": 46,
   "id": "a3d5dfa1-2e42-47ae-ba16-ea3e9fe5f786",
   "metadata": {
    "tags": []
   },
   "outputs": [],
   "source": [
    "sizes_df = pd.DataFrame.from_dict(sizes, orient='index', columns=['size'])"
   ]
  },
  {
   "cell_type": "code",
   "execution_count": 50,
   "id": "220f5167-2055-4729-b0f7-da82422f2f88",
   "metadata": {
    "tags": []
   },
   "outputs": [
    {
     "data": {
      "text/plain": [
       "<Axes: ylabel='Frequency'>"
      ]
     },
     "execution_count": 50,
     "metadata": {},
     "output_type": "execute_result"
    },
    {
     "data": {
      "image/png": "[encoded data removed]",
      "text/plain": [
       "<Figure size 640x480 with 1 Axes>"
      ]
     },
     "metadata": {},
     "output_type": "display_data"
    }
   ],
   "source": [
    "sizes_df['size'].plot.hist(bins=30)"
   ]
  },
  {
   "cell_type": "code",
   "execution_count": 52,
   "id": "1799ef4d-5aa6-463d-bfed-7a115f720f17",
   "metadata": {
    "tags": []
   },
   "outputs": [],
   "source": [
    "sizes_df.to_csv('largest_unchar_clade_sizes.csv')"
   ]
  },
  {
   "cell_type": "code",
   "execution_count": null,
   "id": "21966b1c-8548-47dc-9efc-d09146f010bc",
   "metadata": {},
   "outputs": [],
   "source": []
  }
 ],
 "metadata": {
  "kernelspec": {
   "display_name": "Python 3 (ipykernel)",
   "language": "python",
   "name": "python3"
  },
  "language_info": {
   "codemirror_mode": {
    "name": "ipython",
    "version": 3
   },
   "file_extension": ".py",
   "mimetype": "text/x-python",
   "name": "python",
   "nbconvert_exporter": "python",
   "pygments_lexer": "ipython3",
   "version": "3.10.13"
  }
 },
 "nbformat": 4,
 "nbformat_minor": 5
}

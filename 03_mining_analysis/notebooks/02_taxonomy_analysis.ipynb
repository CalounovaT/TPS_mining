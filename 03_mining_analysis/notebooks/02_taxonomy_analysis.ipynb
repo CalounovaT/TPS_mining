{
 "cells": [
  {
   "cell_type": "code",
   "execution_count": 2,
   "id": "2a25768d-ec4c-42db-b89f-7ea36847d44d",
   "metadata": {
    "tags": []
   },
   "outputs": [],
   "source": [
    "import plotly.express as px"
   ]
  },
  {
   "cell_type": "code",
   "execution_count": 3,
   "id": "caf39710-dda7-4d0c-b38a-d41895d2d37e",
   "metadata": {
    "tags": []
   },
   "outputs": [],
   "source": [
    "import pandas as pd"
   ]
  },
  {
   "cell_type": "code",
   "execution_count": 6,
   "id": "d67cca3f-7e54-4d4f-a8dd-fb9d333f527c",
   "metadata": {
    "tags": []
   },
   "outputs": [],
   "source": [
    "pd.set_option('display.max_columns', None)"
   ]
  },
  {
   "cell_type": "code",
   "execution_count": 19,
   "id": "674d0876-cd97-4112-8b14-25ea8da92e6b",
   "metadata": {
    "tags": []
   },
   "outputs": [
    {
     "name": "stderr",
     "output_type": "stream",
     "text": [
      "C:\\Users\\terca\\AppData\\Local\\Temp\\ipykernel_6900\\3083266107.py:1: DtypeWarning: Columns (1,2) have mixed types. Specify dtype option on import or set low_memory=False.\n",
      "  all_df = pd.read_csv('all_annotation.txt', sep='\\t')\n"
     ]
    }
   ],
   "source": [
    "all_df = pd.read_csv('all_annotation.txt', sep='\\t')"
   ]
  },
  {
   "cell_type": "code",
   "execution_count": 20,
   "id": "f66309fc-bc77-4dcc-92f8-378910fc5f99",
   "metadata": {
    "tags": []
   },
   "outputs": [
    {
     "data": {
      "text/plain": [
       "Index(['id', 'architecture_pfam', 'architecture_l_pfam', 'PF06330.14',\n",
       "       'PF01397.24', 'PF03936.19', 'PF00494.22', 'PF13249.9', 'PF19086.3',\n",
       "       'PF13243.9', 'architecture_supfam', 'architecture_l_supfam', '0041184',\n",
       "       '0053354', '0053355', '0048261', '0048806', '0046340', '0047573',\n",
       "       'record_id', 'record_description', 'new_id', 'organism', 'tax_id',\n",
       "       'lineage', 'superkingdom', 'kingdom', 'phylum'],\n",
       "      dtype='object')"
      ]
     },
     "execution_count": 20,
     "metadata": {},
     "output_type": "execute_result"
    }
   ],
   "source": [
    "all_df.columns"
   ]
  },
  {
   "cell_type": "code",
   "execution_count": 25,
   "id": "834eaad1-f52d-49d4-bad3-48afbffcef08",
   "metadata": {
    "tags": []
   },
   "outputs": [],
   "source": [
    "df_lengths = pd.read_csv('all_filtered_5_unique_no_stop_lengths.csv')"
   ]
  },
  {
   "cell_type": "code",
   "execution_count": 28,
   "id": "8cd8323a-e10d-4b68-adb7-e795369e2ea3",
   "metadata": {
    "tags": []
   },
   "outputs": [],
   "source": [
    "final_ids = df_lengths['id'].tolist()"
   ]
  },
  {
   "cell_type": "code",
   "execution_count": 33,
   "id": "a0680619-b54c-4514-a404-73772c4b6d39",
   "metadata": {
    "tags": []
   },
   "outputs": [],
   "source": [
    "all_df = all_df[all_df['id'].isin(final_ids)]"
   ]
  },
  {
   "cell_type": "code",
   "execution_count": 21,
   "id": "34fdacbf-6f77-4ec6-8c63-2987d0bf51ef",
   "metadata": {
    "tags": []
   },
   "outputs": [],
   "source": [
    "all_df['kingdom'] = all_df['kingdom'].fillna('unknown')"
   ]
  },
  {
   "cell_type": "code",
   "execution_count": 22,
   "id": "94654276-74df-45e4-9a9e-bda88d99e10f",
   "metadata": {
    "tags": []
   },
   "outputs": [],
   "source": [
    "all_df['kingdom'] = all_df['kingdom'].apply(lambda x: 'Environmental' if x=='environmental' else x)"
   ]
  },
  {
   "cell_type": "code",
   "execution_count": 35,
   "id": "bc31432d-e632-401d-a051-3ccc548ab4b2",
   "metadata": {
    "tags": []
   },
   "outputs": [],
   "source": [
    "superkingdom_color_map = {'Metagenome': '#BF8F6B', \n",
    "                          'Eukaryota': '#FF9536',\n",
    "                          'Bacteria':'#995FBC',\n",
    "                          'Archaea':'#2E2D97',\n",
    "                          'Viruses':'#D2EDE0',\n",
    "                          'unknown':'#C3CAD7',\n",
    "                          'undef':'#C3CAD7'\n",
    "                         }"
   ]
  },
  {
   "cell_type": "code",
   "execution_count": 37,
   "id": "91e9300f-1730-46c3-a97f-ee748ab2c6eb",
   "metadata": {
    "tags": []
   },
   "outputs": [],
   "source": [
    "eukaryota_color_map = {'Fungi':'#FF9481', \n",
    "                       'Viridiplantae': '#BEDF7C', \n",
    "                       'Metazoa':'#94CCFC',\n",
    "                       'unknown':'#FF9536'\n",
    "}"
   ]
  },
  {
   "cell_type": "code",
   "execution_count": 20,
   "id": "ed297f95-8036-4500-b3a9-ec3e859069df",
   "metadata": {
    "tags": []
   },
   "outputs": [
    {
     "data": {
      "application/vnd.plotly.v1+json": {
       "config": {
        "plotlyServerURL": "https://plot.ly"
       },
       "data": [
        {
         "branchvalues": "total",
         "customdata": [
          [
           "unknown"
          ],
          [
           "Eukaryota"
          ],
          [
           "Eukaryota"
          ],
          [
           "Viruses"
          ],
          [
           "Bacteria"
          ],
          [
           "Archaea"
          ],
          [
           "Archaea"
          ],
          [
           "Bacteria"
          ],
          [
           "Eukaryota"
          ],
          [
           "Bacteria"
          ],
          [
           "Metagenome"
          ],
          [
           "Metagenome"
          ],
          [
           "Bacteria"
          ],
          [
           "Bacteria"
          ],
          [
           "Metagenome"
          ],
          [
           "Bacteria"
          ],
          [
           "Bacteria"
          ],
          [
           "Bacteria"
          ],
          [
           "Metagenome"
          ],
          [
           "Bacteria"
          ],
          [
           "Viruses"
          ],
          [
           "Bacteria"
          ],
          [
           "Viruses"
          ],
          [
           "Eukaryota"
          ],
          [
           "undef"
          ],
          [
           "Bacteria"
          ],
          [
           "Bacteria"
          ],
          [
           "Eukaryota"
          ],
          [
           "Eukaryota"
          ],
          [
           "Archaea"
          ],
          [
           "Eukaryota"
          ],
          [
           "Archaea"
          ],
          [
           "Archaea"
          ],
          [
           "Bacteria"
          ],
          [
           "Bacteria"
          ],
          [
           "Bacteria"
          ],
          [
           "Eukaryota"
          ],
          [
           "Eukaryota"
          ],
          [
           "Bacteria"
          ],
          [
           "Bacteria"
          ],
          [
           "Bacteria"
          ],
          [
           "Metagenome"
          ],
          [
           "Metagenome"
          ],
          [
           "Metagenome"
          ],
          [
           "Viruses"
          ],
          [
           "Metagenome"
          ],
          [
           "Eukaryota"
          ],
          [
           "Metagenome"
          ],
          [
           "Metagenome"
          ],
          [
           "Archaea"
          ],
          [
           "Bacteria"
          ],
          [
           "Bacteria"
          ],
          [
           "Bacteria"
          ],
          [
           "Bacteria"
          ],
          [
           "Bacteria"
          ],
          [
           "Archaea"
          ],
          [
           "Bacteria"
          ],
          [
           "Bacteria"
          ],
          [
           "Viruses"
          ],
          [
           "Bacteria"
          ],
          [
           "Bacteria"
          ],
          [
           "Eukaryota"
          ],
          [
           "Bacteria"
          ],
          [
           "Bacteria"
          ],
          [
           "Eukaryota"
          ],
          [
           "Bacteria"
          ],
          [
           "Eukaryota"
          ],
          [
           "Bacteria"
          ],
          [
           "Metagenome"
          ],
          [
           "Bacteria"
          ],
          [
           "Bacteria"
          ],
          [
           "Eukaryota"
          ],
          [
           "Eukaryota"
          ],
          [
           "Bacteria"
          ],
          [
           "Eukaryota"
          ],
          [
           "Bacteria"
          ],
          [
           "Eukaryota"
          ],
          [
           "Bacteria"
          ],
          [
           "Eukaryota"
          ],
          [
           "Viruses"
          ],
          [
           "Archaea"
          ],
          [
           "Eukaryota"
          ],
          [
           "Bacteria"
          ],
          [
           "Bacteria"
          ],
          [
           "Archaea"
          ],
          [
           "Eukaryota"
          ],
          [
           "Eukaryota"
          ],
          [
           "Metagenome"
          ],
          [
           "Eukaryota"
          ],
          [
           "Eukaryota"
          ],
          [
           "Eukaryota"
          ],
          [
           "Metagenome"
          ],
          [
           "Eukaryota"
          ],
          [
           "unknown"
          ],
          [
           "Eukaryota"
          ],
          [
           "Metagenome"
          ],
          [
           "Bacteria"
          ],
          [
           "Viruses"
          ],
          [
           "Bacteria"
          ],
          [
           "Metagenome"
          ],
          [
           "Bacteria"
          ],
          [
           "Viruses"
          ],
          [
           "Bacteria"
          ],
          [
           "Bacteria"
          ],
          [
           "Bacteria"
          ],
          [
           "Eukaryota"
          ],
          [
           "Eukaryota"
          ],
          [
           "Eukaryota"
          ],
          [
           "Bacteria"
          ],
          [
           "Eukaryota"
          ],
          [
           "Archaea"
          ],
          [
           "Eukaryota"
          ],
          [
           "Viruses"
          ],
          [
           "Eukaryota"
          ],
          [
           "Bacteria"
          ],
          [
           "Metagenome"
          ],
          [
           "Bacteria"
          ],
          [
           "Metagenome"
          ],
          [
           "Metagenome"
          ],
          [
           "Metagenome"
          ],
          [
           "Metagenome"
          ],
          [
           "Metagenome"
          ],
          [
           "Metagenome"
          ],
          [
           "Metagenome"
          ],
          [
           "Metagenome"
          ],
          [
           "Metagenome"
          ],
          [
           "Metagenome"
          ],
          [
           "Metagenome"
          ],
          [
           "Metagenome"
          ],
          [
           "Metagenome"
          ],
          [
           "Metagenome"
          ],
          [
           "Metagenome"
          ],
          [
           "Viruses"
          ],
          [
           "Eukaryota"
          ],
          [
           "Viruses"
          ],
          [
           "unknown"
          ],
          [
           "Metagenome"
          ],
          [
           "Metagenome"
          ],
          [
           "Metagenome"
          ],
          [
           "Metagenome"
          ],
          [
           "Viruses"
          ],
          [
           "Metagenome"
          ],
          [
           "Eukaryota"
          ],
          [
           "Metagenome"
          ],
          [
           "Eukaryota"
          ],
          [
           "Eukaryota"
          ],
          [
           "Eukaryota"
          ],
          [
           "Metagenome"
          ],
          [
           "Eukaryota"
          ],
          [
           "Metagenome"
          ],
          [
           "Bacteria"
          ],
          [
           "Bacteria"
          ],
          [
           "Bacteria"
          ],
          [
           "Bacteria"
          ],
          [
           "Eukaryota"
          ],
          [
           "Viruses"
          ],
          [
           "Viruses"
          ],
          [
           "Bacteria"
          ],
          [
           "Metagenome"
          ],
          [
           "Bacteria"
          ],
          [
           "Eukaryota"
          ],
          [
           "Bacteria"
          ],
          [
           "Metagenome"
          ],
          [
           "Bacteria"
          ],
          [
           "Bacteria"
          ],
          [
           "Metagenome"
          ],
          [
           "Bacteria"
          ],
          [
           "Bacteria"
          ],
          [
           "Metagenome"
          ],
          [
           "Viruses"
          ],
          [
           "Eukaryota"
          ],
          [
           "Bacteria"
          ],
          [
           "Bacteria"
          ],
          [
           "Archaea"
          ],
          [
           "Bacteria"
          ],
          [
           "Bacteria"
          ],
          [
           "Bacteria"
          ],
          [
           "Bacteria"
          ],
          [
           "Bacteria"
          ],
          [
           "Bacteria"
          ],
          [
           "Bacteria"
          ],
          [
           "Bacteria"
          ],
          [
           "Bacteria"
          ],
          [
           "Bacteria"
          ],
          [
           "Eukaryota"
          ],
          [
           "Eukaryota"
          ],
          [
           "Eukaryota"
          ],
          [
           "Bacteria"
          ],
          [
           "Archaea"
          ],
          [
           "Bacteria"
          ],
          [
           "Bacteria"
          ],
          [
           "Bacteria"
          ],
          [
           "Eukaryota"
          ],
          [
           "Bacteria"
          ],
          [
           "Archaea"
          ],
          [
           "Bacteria"
          ],
          [
           "Bacteria"
          ],
          [
           "Archaea"
          ],
          [
           "Archaea"
          ],
          [
           "Archaea"
          ],
          [
           "Bacteria"
          ],
          [
           "Bacteria"
          ],
          [
           "Bacteria"
          ],
          [
           "Bacteria"
          ],
          [
           "Bacteria"
          ],
          [
           "Bacteria"
          ],
          [
           "Archaea"
          ],
          [
           "Bacteria"
          ],
          [
           "Bacteria"
          ],
          [
           "Archaea"
          ],
          [
           "Bacteria"
          ],
          [
           "Archaea"
          ],
          [
           "Bacteria"
          ],
          [
           "Bacteria"
          ],
          [
           "Bacteria"
          ],
          [
           "Bacteria"
          ],
          [
           "Bacteria"
          ],
          [
           "Archaea"
          ],
          [
           "Bacteria"
          ],
          [
           "Bacteria"
          ],
          [
           "Bacteria"
          ],
          [
           "Archaea"
          ],
          [
           "Bacteria"
          ],
          [
           "Bacteria"
          ],
          [
           "Bacteria"
          ],
          [
           "Bacteria"
          ],
          [
           "Bacteria"
          ],
          [
           "Bacteria"
          ],
          [
           "Bacteria"
          ],
          [
           "Bacteria"
          ],
          [
           "Bacteria"
          ],
          [
           "Eukaryota"
          ],
          [
           "Bacteria"
          ],
          [
           "Bacteria"
          ],
          [
           "Bacteria"
          ],
          [
           "Bacteria"
          ],
          [
           "Bacteria"
          ],
          [
           "Bacteria"
          ],
          [
           "Bacteria"
          ],
          [
           "Bacteria"
          ],
          [
           "Eukaryota"
          ],
          [
           "Eukaryota"
          ],
          [
           "Eukaryota"
          ],
          [
           "Bacteria"
          ],
          [
           "Viruses"
          ],
          [
           "Eukaryota"
          ],
          [
           "Eukaryota"
          ],
          [
           "Bacteria"
          ],
          [
           "Eukaryota"
          ],
          [
           "Bacteria"
          ],
          [
           "Bacteria"
          ],
          [
           "Archaea"
          ],
          [
           "Bacteria"
          ],
          [
           "Bacteria"
          ],
          [
           "Bacteria"
          ],
          [
           "Bacteria"
          ],
          [
           "Bacteria"
          ],
          [
           "Bacteria"
          ],
          [
           "Bacteria"
          ],
          [
           "Bacteria"
          ],
          [
           "Eukaryota"
          ],
          [
           "Bacteria"
          ],
          [
           "Bacteria"
          ],
          [
           "Bacteria"
          ],
          [
           "Bacteria"
          ],
          [
           "Eukaryota"
          ],
          [
           "Bacteria"
          ],
          [
           "Eukaryota"
          ],
          [
           "Archaea"
          ],
          [
           "Bacteria"
          ],
          [
           "Bacteria"
          ],
          [
           "Bacteria"
          ],
          [
           "Bacteria"
          ],
          [
           "Archaea"
          ],
          [
           "Eukaryota"
          ],
          [
           "Archaea"
          ],
          [
           "Archaea"
          ],
          [
           "Bacteria"
          ],
          [
           "Bacteria"
          ],
          [
           "Eukaryota"
          ],
          [
           "Eukaryota"
          ],
          [
           "Metagenome"
          ],
          [
           "Metagenome"
          ],
          [
           "Bacteria"
          ],
          [
           "undef"
          ],
          [
           "Bacteria"
          ],
          [
           "Bacteria"
          ],
          [
           "Eukaryota"
          ],
          [
           "Bacteria"
          ],
          [
           "Eukaryota"
          ],
          [
           "Eukaryota"
          ],
          [
           "Bacteria"
          ],
          [
           "Bacteria"
          ],
          [
           "Bacteria"
          ],
          [
           "Bacteria"
          ],
          [
           "Viruses"
          ],
          [
           "Archaea"
          ],
          [
           "Bacteria"
          ],
          [
           "Bacteria"
          ],
          [
           "Archaea"
          ],
          [
           "Bacteria"
          ],
          [
           "Eukaryota"
          ],
          [
           "Eukaryota"
          ],
          [
           "Bacteria"
          ],
          [
           "Eukaryota"
          ],
          [
           "Bacteria"
          ],
          [
           "Bacteria"
          ],
          [
           "Bacteria"
          ],
          [
           "Bacteria"
          ],
          [
           "Archaea"
          ],
          [
           "Eukaryota"
          ],
          [
           "Metagenome"
          ],
          [
           "Bacteria"
          ],
          [
           "Archaea"
          ],
          [
           "Bacteria"
          ],
          [
           "Bacteria"
          ],
          [
           "Metagenome"
          ],
          [
           "Bacteria"
          ],
          [
           "Eukaryota"
          ],
          [
           "Bacteria"
          ],
          [
           "Bacteria"
          ],
          [
           "Bacteria"
          ],
          [
           "Bacteria"
          ],
          [
           "Bacteria"
          ],
          [
           "Bacteria"
          ],
          [
           "Eukaryota"
          ],
          [
           "Bacteria"
          ],
          [
           "Bacteria"
          ],
          [
           "Bacteria"
          ],
          [
           "undef"
          ],
          [
           "Archaea"
          ]
         ],
         "domain": {
          "x": [
           0,
           1
          ],
          "y": [
           0,
           1
          ]
         },
         "hovertemplate": "labels=%{label}<br>count=%{value}<br>parent=%{parent}<br>id=%{id}<br>superkingdom=%{customdata[0]}<extra></extra>",
         "ids": [
          "unknown",
          "Eukaryota/unknown/Foraminifera",
          "Eukaryota/Metazoa/Tardigrada",
          "Viruses/Pararnavirae/Artverviricota",
          "Bacteria/unknown/Thermomicrobiota",
          "Archaea/unknown/Thermoproteota",
          "Archaea/unknown/Candidatus Korarchaeota",
          "Bacteria/unknown/Candidatus Kapabacteria",
          "Eukaryota/Metazoa/Echinodermata",
          "Bacteria/unknown/undef",
          "Metagenome/Host-associated/unknown",
          "Metagenome/Host-associated, Mixed, Engineered/unknown",
          "Bacteria/unknown/Candidatus Falkowbacteria",
          "Bacteria/unknown/Candidatus Eisenbacteria",
          "Metagenome/engineered/unknown",
          "Bacteria/unknown/Candidatus Desantisbacteria",
          "Bacteria/unknown/Candidatus Curtissbacteria",
          "Bacteria/unknown/unknown",
          "Metagenome/Host-associated, Mixed, Environmental, Engineered/unknown",
          "Bacteria/unknown/Pseudomonadota",
          "Viruses/Bamfordvirae/Preplasmiviricota",
          "Bacteria/unknown/Candidatus Blackburnbacteria",
          "Viruses/Orthornavirae/Duplornaviricota",
          "Eukaryota/unknown/Discosea",
          "undef",
          "Bacteria/unknown/Fusobacteria",
          "Bacteria/unknown/Chrysiogenota",
          "Eukaryota/unknown/Haptophyta",
          "Eukaryota/unknown/Chlorophyta",
          "Archaea/unknown/Candidatus Nanohaloarchaeota",
          "Eukaryota/unknown/Heterolobosea",
          "Archaea/unknown/Candidatus Undinarchaeota",
          "Archaea/unknown/Nitrososphaerota",
          "Bacteria/unknown/Nitrospinota",
          "Bacteria/unknown/Candidatus Sungbacteria",
          "Bacteria/unknown/Candidatus Staskawiczbacteria",
          "Eukaryota/Metazoa/Onychophora",
          "Eukaryota/Viridiplantae/Prasinodermophyta",
          "Bacteria/unknown/Chlorobiota",
          "Bacteria/unknown/Candidatus Binatota",
          "Bacteria/unknown/Candidatus Kaiserbacteria",
          "Metagenome/Environmental, Engineered",
          "Metagenome/Host-associated, Mixed",
          "Metagenome/Environmental",
          "Viruses/Shotokuvirae",
          "Metagenome/Host-associated, Mixed, Environmental",
          "Eukaryota/Fungi",
          "Metagenome/unknown, Host-associated",
          "Metagenome/Mixed",
          "Archaea",
          "Bacteria/unknown/Elusimicrobiota",
          "Bacteria/unknown/Candidatus Glassbacteria",
          "Bacteria/unknown/Candidatus Gracilibacteria",
          "Bacteria/unknown/Ignavibacteriota",
          "Bacteria/unknown/Candidatus Peregrinibacteria",
          "Archaea/unknown/undef",
          "Bacteria/unknown/Candidatus Hydrogenedentes",
          "Bacteria/unknown/Myxococcota",
          "Viruses/Heunggongvirae/Uroviricota",
          "Bacteria/unknown/Atribacterota",
          "Bacteria/unknown/Nitrospinae",
          "Eukaryota/Metazoa/Rotifera",
          "Bacteria/unknown/Candidatus Microgenomates",
          "Bacteria/unknown/Candidatus Schekmanbacteria",
          "Eukaryota/Metazoa/Placozoa",
          "Bacteria/unknown/candidate division Zixibacteria",
          "Eukaryota/Metazoa/Hemichordata",
          "Bacteria/unknown/Candidatus Poribacteria",
          "Metagenome/Mixed, Environmental, Engineered/unknown",
          "Bacteria/unknown/Candidatus Fischerbacteria",
          "Bacteria/unknown/Candidatus Daviesbacteria",
          "Eukaryota/unknown/Euglenozoa",
          "Eukaryota/Metazoa/Cnidaria",
          "Bacteria/unknown/Actinobacteria",
          "Eukaryota/Metazoa/Dicyemida",
          "Bacteria/unknown/Fibrobacterota",
          "Eukaryota/Fungi/Chytridiomycota",
          "Bacteria/unknown/Aquificota",
          "Eukaryota/unknown/Oomycota",
          "Viruses",
          "Archaea/unknown/Euryarchaeota",
          "Eukaryota/unknown",
          "Bacteria/unknown",
          "Bacteria/unknown/Nitrospirota",
          "Archaea/unknown",
          "Eukaryota/Metazoa/Phoronida",
          "Eukaryota/unknown/Endomyxa",
          "Metagenome/mixed",
          "Eukaryota/unknown/Perkinsozoa",
          "Eukaryota/unknown/Evosea",
          "Eukaryota/unknown/Parabasalia",
          "Metagenome",
          "Eukaryota/Metazoa/Orthonectida",
          "unknown/unknown",
          "Eukaryota/Metazoa/Nematoda",
          "Metagenome/unknown",
          "Bacteria/unknown/Ignavibacteriae",
          "Viruses/unknown",
          "Bacteria/unknown/Gemmatimonadota",
          "Metagenome/unknown, Host-associated, Engineered",
          "Bacteria/unknown/Kiritimatiellota",
          "Viruses/Orthornavirae/Kitrinoviricota",
          "Bacteria/unknown/Fusobacteriota",
          "Bacteria/unknown/Lentisphaerota",
          "Bacteria/unknown/Marinimicrobia",
          "Eukaryota/unknown/Fornicata",
          "Eukaryota/Metazoa/Mollusca",
          "Eukaryota/Fungi/Mucoromycota",
          "Bacteria/unknown/Mycoplasmatota",
          "Eukaryota",
          "Archaea/unknown/Nanoarchaeota",
          "Eukaryota/unknown/Nebulidia",
          "Viruses/Orthornavirae/Negarnaviricota",
          "Eukaryota/Metazoa/Nemertea",
          "Bacteria/unknown/Lentisphaerae",
          "Metagenome/Engineered",
          "Bacteria/unknown/Planctomycetes",
          "Metagenome/Environmental, Engineered/unknown",
          "Metagenome/Host-associated, Engineered/unknown",
          "Metagenome/Host-associated, Environmental/unknown",
          "Metagenome/Host-associated, Environmental, Engineered/unknown",
          "Metagenome/Host-associated, Mixed/unknown",
          "Metagenome/Host-associated, Mixed, Engineered",
          "Metagenome/Host-associated, Mixed, Environmental/unknown",
          "Metagenome/Host-associated, Environmental, Engineered",
          "Metagenome/Host-associated, Environmental",
          "Metagenome/Mixed, Engineered/unknown",
          "Metagenome/Mixed, Environmental/unknown",
          "Metagenome/Environmental/unknown",
          "Metagenome/Host-associated, Engineered",
          "Metagenome/host-associated/unknown",
          "Metagenome/mixed/unknown",
          "Viruses/Heunggongvirae",
          "Eukaryota/unknown/unknown",
          "Viruses/unknown/unknown",
          "unknown/unknown/unknown",
          "Metagenome/unknown, Host-associated/unknown",
          "Metagenome/unknown, Host-associated, Engineered/unknown",
          "Metagenome/unknown, Mixed, Host-associated, Engineered/unknown",
          "Metagenome/unknown, Mixed, Host-associated, Engineered, Environmental/unknown",
          "Viruses/Bamfordvirae",
          "Metagenome/Host-associated",
          "Eukaryota/unknown/Placozoa",
          "Metagenome/Engineered/unknown",
          "Eukaryota/unknown/undef",
          "Eukaryota/Metazoa/Platyhelminthes",
          "Eukaryota/Metazoa/Porifera",
          "Metagenome/host-associated",
          "Eukaryota/unknown/Preaxostyla",
          "Metagenome/engineered",
          "Bacteria/unknown/Proteobacteria",
          "Bacteria/unknown/Rhodothermota",
          "Bacteria/unknown/Spirochaetes",
          "Bacteria/unknown/Spirochaetota",
          "Eukaryota/Viridiplantae/Streptophyta",
          "Viruses/Pararnavirae",
          "Viruses/unknown/undef",
          "Bacteria/unknown/Thermodesulfobacteriota",
          "Metagenome/Mixed, Environmental, Engineered",
          "Bacteria/unknown/Vulcanimicrobiota",
          "Eukaryota/Metazoa/Xenacoelomorpha",
          "Bacteria/unknown/candidate division CSSED10-310",
          "Metagenome/Mixed, Environmental",
          "Bacteria/unknown/candidate division LCP-89",
          "Bacteria/unknown/candidate division NC10",
          "Metagenome/Mixed, Engineered",
          "Bacteria/unknown/candidate division WOR-3",
          "Bacteria/unknown/candidate division WWE3",
          "Metagenome/Host-associated, Mixed, Environmental, Engineered",
          "Viruses/Orthornavirae",
          "Eukaryota/Viridiplantae",
          "Bacteria/unknown/Abditibacteriota",
          "Bacteria/unknown/Dictyoglomota",
          "Archaea/unknown/Candidatus Huberarchaea",
          "Bacteria/unknown/Candidatus Abyssubacteria",
          "Bacteria/unknown/Candidatus Jacksonbacteria",
          "Bacteria/unknown/Candidatus Kerfeldbacteria",
          "Bacteria/unknown/Candidatus Komeilibacteria",
          "Bacteria/unknown/Candidatus Kryptonia",
          "Bacteria/unknown/Campylobacterota",
          "Bacteria/unknown/Candidatus Kuenenbacteria",
          "Bacteria/unknown/Candidatus Latescibacteria",
          "Bacteria/unknown/Calditrichota",
          "Bacteria/unknown/Caldisericota",
          "Eukaryota/Metazoa/Bryozoa",
          "Eukaryota/Metazoa/Brachiopoda",
          "Eukaryota/Fungi/Blastocladiomycota",
          "Bacteria/unknown/Candidatus Lindowbacteria",
          "Archaea/unknown/Candidatus Lokiarchaeota",
          "Bacteria/unknown/Candidatus Magasanikbacteria",
          "Bacteria/unknown/Bdellovibrionota",
          "Bacteria/unknown/Candidatus Margulisiibacteriota",
          "Eukaryota/Fungi/Basidiomycota",
          "Bacteria/unknown/Candidatus Marinimicrobia",
          "Archaea/unknown/Candidatus Marsarchaeota",
          "Bacteria/unknown/Candidatus Bipolaricaulota",
          "Bacteria/unknown/Candidatus Adlerbacteria",
          "Archaea/unknown/Candidatus Helarchaeota",
          "Archaea/unknown/Candidatus Heimdallarchaeota",
          "Archaea/unknown/Candidatus Aenigmarchaeota",
          "Bacteria/unknown/Candidatus Chisholmbacteria",
          "Bacteria/unknown/Candidatus Cloacimonadota",
          "Bacteria/unknown/Candidatus Coatesbacteria",
          "Bacteria/unknown/Candidatus Collierbacteria",
          "Bacteria/unknown/Candidatus Berkelbacteria",
          "Bacteria/unknown/Candidatus Cryosericota",
          "Archaea/unknown/Candidatus Bathyarchaeota",
          "Bacteria/unknown/Candidatus Dadabacteria",
          "Bacteria/unknown/Candidatus Delongbacteria",
          "Archaea/unknown/Candidatus Diapherotrites",
          "Bacteria/unknown/Candidatus Dormibacteraeota",
          "Archaea/unknown/Candidatus Micrarchaeota",
          "Bacteria/unknown/Candidatus Azambacteria",
          "Bacteria/unknown/Candidatus Aminicenantes",
          "Bacteria/unknown/Candidatus Fervidibacteria",
          "Bacteria/unknown/Candidatus Firestonebacteria",
          "Bacteria/unknown/Candidatus Fraserbacteria",
          "Archaea/unknown/Candidatus Geothermarchaeota",
          "Bacteria/unknown/Candidatus Giovannonibacteria",
          "Bacteria/unknown/Candidatus Goldbacteria",
          "Bacteria/unknown/Candidatus Gottesmanbacteria",
          "Archaea/unknown/Candidatus Altiarchaeota",
          "Bacteria/unknown/Candidatus Aerophobetes",
          "Bacteria/unknown/Candidatus Handelsmanbacteria",
          "Bacteria/unknown/Candidatus Andersenbacteria",
          "Bacteria/unknown/Candidatus Moduliflexota",
          "Bacteria/unknown/Candidatus Melainabacteria",
          "Bacteria/unknown/Candidatus Moranbacteria",
          "Bacteria/unknown/Candidatus Wallbacteria",
          "Bacteria/unknown/Balneolota",
          "Bacteria/unknown/Candidatus Wirthbacteria",
          "Eukaryota/unknown/Apicomplexa",
          "Bacteria/unknown/Candidatus Wolfebacteria",
          "Bacteria/unknown/Candidatus Woykebacteria",
          "Bacteria/unknown/Candidatus Yanofskybacteria",
          "Bacteria/unknown/Candidatus Zambryskibacteria",
          "Bacteria/unknown/Chlamydiota",
          "Bacteria/unknown/Chlorobi",
          "Bacteria/unknown/Armatimonadota",
          "Bacteria/unknown/Chloroflexota",
          "Eukaryota/Metazoa/Chordata",
          "Eukaryota/unknown/Chordata",
          "Eukaryota/unknown/Ciliophora",
          "Bacteria/unknown/Coprothermobacterota",
          "Viruses/Shotokuvirae/Cossaviricota",
          "Eukaryota/Fungi/Cryptomycota",
          "Eukaryota/Metazoa/Ctenophora",
          "Bacteria/unknown/Cyanobacteria",
          "Eukaryota/Metazoa/Acanthocephala",
          "Bacteria/unknown/Deferribacterota",
          "Bacteria/unknown/Actinomycetota",
          "Archaea/unknown/Candidatus Verstraetearchaeota",
          "Bacteria/unknown/Candidatus Wildermuthbacteria",
          "Bacteria/unknown/Candidatus Buchananbacteria",
          "Bacteria/unknown/Candidatus Paceibacterota",
          "Bacteria/unknown/Bacteroidetes",
          "Bacteria/unknown/Bacillota",
          "Bacteria/unknown/Candidatus Portnoybacteria",
          "Bacteria/unknown/Candidatus Raymondbacteria",
          "Bacteria/unknown/Candidatus Riflebacteria",
          "Eukaryota/Metazoa/Arthropoda",
          "Bacteria/unknown/Candidatus Roizmanbacteria",
          "Bacteria/unknown/Candidatus Rokubacteria",
          "Bacteria/unknown/Candidatus Omnitrophota",
          "Bacteria/unknown/Candidatus Ryanbacteria",
          "Eukaryota/unknown/Ascomycota",
          "Bacteria/unknown/Candidatus Nomurabacteria",
          "Eukaryota/Fungi/Ascomycota",
          "Archaea/unknown/Candidatus Nezhaarchaeota",
          "Bacteria/unknown/Bacteroidota",
          "Bacteria/unknown/Candidatus Sumerlaeota",
          "Bacteria/unknown/Candidatus Tectomicrobia",
          "Bacteria/unknown/Candidatus Nealsonbacteria",
          "Archaea/unknown/Candidatus Thorarchaeota",
          "Eukaryota/unknown/Bacillariophyta",
          "Archaea/unknown/Candidatus Odinarchaeota",
          "Archaea/unknown/Candidatus Hadarchaeota",
          "Bacteria/unknown/Acidobacteriota",
          "Bacteria/unknown/Candidatus Beckwithbacteria",
          "Eukaryota/Metazoa",
          "Eukaryota/Metazoa/Annelida",
          "Metagenome/unknown, Mixed, Host-associated, Engineered, Environmental",
          "Metagenome/unknown, Mixed, Host-associated, Engineered",
          "Bacteria/unknown/Candidatus Absconditabacteria",
          "undef/unknown",
          "Bacteria",
          "Bacteria/unknown/Candidatus Amesbacteria",
          "Eukaryota/Metazoa/Entoprocta",
          "Bacteria/unknown/Candidatus Campbellbacteria",
          "Eukaryota/unknown/Rhodophyta",
          "Eukaryota/Metazoa/Priapulida",
          "Bacteria/unknown/Planctomycetota",
          "Bacteria/unknown/Candidatus Parcubacteria",
          "Bacteria/unknown/Candidatus Saccharibacteria",
          "Bacteria/unknown/Candidatus Shapirobacteria",
          "Viruses/Bamfordvirae/Nucleocytoviricota",
          "Archaea/unknown/Candidatus Thermoplasmatota",
          "Bacteria/unknown/Synergistota",
          "Bacteria/unknown/Candidatus Uhrbacteria",
          "Archaea/unknown/Candidatus Woesearchaeota",
          "Bacteria/unknown/Candidatus Woesebacteria",
          "Eukaryota/Fungi/Microsporidia",
          "Eukaryota/unknown/Cercozoa",
          "Bacteria/unknown/Chloroflexi",
          "Eukaryota/Viridiplantae/Chlorophyta",
          "Bacteria/unknown/Firmicutes",
          "Bacteria/unknown/Cyanobacteriota",
          "Bacteria/unknown/Candidatus Vogelbacteria",
          "Bacteria/unknown/Candidatus Calescamantes",
          "Archaea/unknown/Thaumarchaeota",
          "Eukaryota/unknown/Tubulinea",
          "Metagenome/unknown/unknown",
          "Bacteria/unknown/Candidatus Colwellbacteria",
          "Archaea/unknown/unknown",
          "Bacteria/unknown/Candidatus Doudnabacteria",
          "Bacteria/unknown/Candidatus Edwardsbacteria",
          "Metagenome/Mixed/unknown",
          "Bacteria/unknown/Candidatus Fermentibacteria",
          "Eukaryota/Fungi/unknown",
          "Bacteria/unknown/Thermotogota",
          "Bacteria/unknown/Candidatus Gribaldobacteria",
          "Bacteria/unknown/Candidatus Hinthialibacterota",
          "Bacteria/unknown/Candidatus Hydrothermae",
          "Bacteria/unknown/Deinococcota",
          "Bacteria/unknown/candidate division CPR2",
          "Eukaryota/Fungi/Zoopagomycota",
          "Bacteria/unknown/Verrucomicrobiota",
          "Bacteria/unknown/Verrucomicrobia",
          "Bacteria/unknown/Candidatus Levybacteria",
          "undef/unknown/undef",
          "Archaea/unknown/Candidatus Hydrothermarchaeota"
         ],
         "labels": [
          "unknown",
          "Foraminifera",
          "Tardigrada",
          "Artverviricota",
          "Thermomicrobiota",
          "Thermoproteota",
          "Candidatus Korarchaeota",
          "Candidatus Kapabacteria",
          "Echinodermata",
          "undef",
          "unknown",
          "unknown",
          "Candidatus Falkowbacteria",
          "Candidatus Eisenbacteria",
          "unknown",
          "Candidatus Desantisbacteria",
          "Candidatus Curtissbacteria",
          "unknown",
          "unknown",
          "Pseudomonadota",
          "Preplasmiviricota",
          "Candidatus Blackburnbacteria",
          "Duplornaviricota",
          "Discosea",
          "undef",
          "Fusobacteria",
          "Chrysiogenota",
          "Haptophyta",
          "Chlorophyta",
          "Candidatus Nanohaloarchaeota",
          "Heterolobosea",
          "Candidatus Undinarchaeota",
          "Nitrososphaerota",
          "Nitrospinota",
          "Candidatus Sungbacteria",
          "Candidatus Staskawiczbacteria",
          "Onychophora",
          "Prasinodermophyta",
          "Chlorobiota",
          "Candidatus Binatota",
          "Candidatus Kaiserbacteria",
          "Environmental, Engineered",
          "Host-associated, Mixed",
          "Environmental",
          "Shotokuvirae",
          "Host-associated, Mixed, Environmental",
          "Fungi",
          "unknown, Host-associated",
          "Mixed",
          "Archaea",
          "Elusimicrobiota",
          "Candidatus Glassbacteria",
          "Candidatus Gracilibacteria",
          "Ignavibacteriota",
          "Candidatus Peregrinibacteria",
          "undef",
          "Candidatus Hydrogenedentes",
          "Myxococcota",
          "Uroviricota",
          "Atribacterota",
          "Nitrospinae",
          "Rotifera",
          "Candidatus Microgenomates",
          "Candidatus Schekmanbacteria",
          "Placozoa",
          "candidate division Zixibacteria",
          "Hemichordata",
          "Candidatus Poribacteria",
          "unknown",
          "Candidatus Fischerbacteria",
          "Candidatus Daviesbacteria",
          "Euglenozoa",
          "Cnidaria",
          "Actinobacteria",
          "Dicyemida",
          "Fibrobacterota",
          "Chytridiomycota",
          "Aquificota",
          "Oomycota",
          "Viruses",
          "Euryarchaeota",
          "unknown",
          "unknown",
          "Nitrospirota",
          "unknown",
          "Phoronida",
          "Endomyxa",
          "mixed",
          "Perkinsozoa",
          "Evosea",
          "Parabasalia",
          "Metagenome",
          "Orthonectida",
          "unknown",
          "Nematoda",
          "unknown",
          "Ignavibacteriae",
          "unknown",
          "Gemmatimonadota",
          "unknown, Host-associated, Engineered",
          "Kiritimatiellota",
          "Kitrinoviricota",
          "Fusobacteriota",
          "Lentisphaerota",
          "Marinimicrobia",
          "Fornicata",
          "Mollusca",
          "Mucoromycota",
          "Mycoplasmatota",
          "Eukaryota",
          "Nanoarchaeota",
          "Nebulidia",
          "Negarnaviricota",
          "Nemertea",
          "Lentisphaerae",
          "Engineered",
          "Planctomycetes",
          "unknown",
          "unknown",
          "unknown",
          "unknown",
          "unknown",
          "Host-associated, Mixed, Engineered",
          "unknown",
          "Host-associated, Environmental, Engineered",
          "Host-associated, Environmental",
          "unknown",
          "unknown",
          "unknown",
          "Host-associated, Engineered",
          "unknown",
          "unknown",
          "Heunggongvirae",
          "unknown",
          "unknown",
          "unknown",
          "unknown",
          "unknown",
          "unknown",
          "unknown",
          "Bamfordvirae",
          "Host-associated",
          "Placozoa",
          "unknown",
          "undef",
          "Platyhelminthes",
          "Porifera",
          "host-associated",
          "Preaxostyla",
          "engineered",
          "Proteobacteria",
          "Rhodothermota",
          "Spirochaetes",
          "Spirochaetota",
          "Streptophyta",
          "Pararnavirae",
          "undef",
          "Thermodesulfobacteriota",
          "Mixed, Environmental, Engineered",
          "Vulcanimicrobiota",
          "Xenacoelomorpha",
          "candidate division CSSED10-310",
          "Mixed, Environmental",
          "candidate division LCP-89",
          "candidate division NC10",
          "Mixed, Engineered",
          "candidate division WOR-3",
          "candidate division WWE3",
          "Host-associated, Mixed, Environmental, Engineered",
          "Orthornavirae",
          "Viridiplantae",
          "Abditibacteriota",
          "Dictyoglomota",
          "Candidatus Huberarchaea",
          "Candidatus Abyssubacteria",
          "Candidatus Jacksonbacteria",
          "Candidatus Kerfeldbacteria",
          "Candidatus Komeilibacteria",
          "Candidatus Kryptonia",
          "Campylobacterota",
          "Candidatus Kuenenbacteria",
          "Candidatus Latescibacteria",
          "Calditrichota",
          "Caldisericota",
          "Bryozoa",
          "Brachiopoda",
          "Blastocladiomycota",
          "Candidatus Lindowbacteria",
          "Candidatus Lokiarchaeota",
          "Candidatus Magasanikbacteria",
          "Bdellovibrionota",
          "Candidatus Margulisiibacteriota",
          "Basidiomycota",
          "Candidatus Marinimicrobia",
          "Candidatus Marsarchaeota",
          "Candidatus Bipolaricaulota",
          "Candidatus Adlerbacteria",
          "Candidatus Helarchaeota",
          "Candidatus Heimdallarchaeota",
          "Candidatus Aenigmarchaeota",
          "Candidatus Chisholmbacteria",
          "Candidatus Cloacimonadota",
          "Candidatus Coatesbacteria",
          "Candidatus Collierbacteria",
          "Candidatus Berkelbacteria",
          "Candidatus Cryosericota",
          "Candidatus Bathyarchaeota",
          "Candidatus Dadabacteria",
          "Candidatus Delongbacteria",
          "Candidatus Diapherotrites",
          "Candidatus Dormibacteraeota",
          "Candidatus Micrarchaeota",
          "Candidatus Azambacteria",
          "Candidatus Aminicenantes",
          "Candidatus Fervidibacteria",
          "Candidatus Firestonebacteria",
          "Candidatus Fraserbacteria",
          "Candidatus Geothermarchaeota",
          "Candidatus Giovannonibacteria",
          "Candidatus Goldbacteria",
          "Candidatus Gottesmanbacteria",
          "Candidatus Altiarchaeota",
          "Candidatus Aerophobetes",
          "Candidatus Handelsmanbacteria",
          "Candidatus Andersenbacteria",
          "Candidatus Moduliflexota",
          "Candidatus Melainabacteria",
          "Candidatus Moranbacteria",
          "Candidatus Wallbacteria",
          "Balneolota",
          "Candidatus Wirthbacteria",
          "Apicomplexa",
          "Candidatus Wolfebacteria",
          "Candidatus Woykebacteria",
          "Candidatus Yanofskybacteria",
          "Candidatus Zambryskibacteria",
          "Chlamydiota",
          "Chlorobi",
          "Armatimonadota",
          "Chloroflexota",
          "Chordata",
          "Chordata",
          "Ciliophora",
          "Coprothermobacterota",
          "Cossaviricota",
          "Cryptomycota",
          "Ctenophora",
          "Cyanobacteria",
          "Acanthocephala",
          "Deferribacterota",
          "Actinomycetota",
          "Candidatus Verstraetearchaeota",
          "Candidatus Wildermuthbacteria",
          "Candidatus Buchananbacteria",
          "Candidatus Paceibacterota",
          "Bacteroidetes",
          "Bacillota",
          "Candidatus Portnoybacteria",
          "Candidatus Raymondbacteria",
          "Candidatus Riflebacteria",
          "Arthropoda",
          "Candidatus Roizmanbacteria",
          "Candidatus Rokubacteria",
          "Candidatus Omnitrophota",
          "Candidatus Ryanbacteria",
          "Ascomycota",
          "Candidatus Nomurabacteria",
          "Ascomycota",
          "Candidatus Nezhaarchaeota",
          "Bacteroidota",
          "Candidatus Sumerlaeota",
          "Candidatus Tectomicrobia",
          "Candidatus Nealsonbacteria",
          "Candidatus Thorarchaeota",
          "Bacillariophyta",
          "Candidatus Odinarchaeota",
          "Candidatus Hadarchaeota",
          "Acidobacteriota",
          "Candidatus Beckwithbacteria",
          "Metazoa",
          "Annelida",
          "unknown, Mixed, Host-associated, Engineered, Environmental",
          "unknown, Mixed, Host-associated, Engineered",
          "Candidatus Absconditabacteria",
          "unknown",
          "Bacteria",
          "Candidatus Amesbacteria",
          "Entoprocta",
          "Candidatus Campbellbacteria",
          "Rhodophyta",
          "Priapulida",
          "Planctomycetota",
          "Candidatus Parcubacteria",
          "Candidatus Saccharibacteria",
          "Candidatus Shapirobacteria",
          "Nucleocytoviricota",
          "Candidatus Thermoplasmatota",
          "Synergistota",
          "Candidatus Uhrbacteria",
          "Candidatus Woesearchaeota",
          "Candidatus Woesebacteria",
          "Microsporidia",
          "Cercozoa",
          "Chloroflexi",
          "Chlorophyta",
          "Firmicutes",
          "Cyanobacteriota",
          "Candidatus Vogelbacteria",
          "Candidatus Calescamantes",
          "Thaumarchaeota",
          "Tubulinea",
          "unknown",
          "Candidatus Colwellbacteria",
          "unknown",
          "Candidatus Doudnabacteria",
          "Candidatus Edwardsbacteria",
          "unknown",
          "Candidatus Fermentibacteria",
          "unknown",
          "Thermotogota",
          "Candidatus Gribaldobacteria",
          "Candidatus Hinthialibacterota",
          "Candidatus Hydrothermae",
          "Deinococcota",
          "candidate division CPR2",
          "Zoopagomycota",
          "Verrucomicrobiota",
          "Verrucomicrobia",
          "Candidatus Levybacteria",
          "undef",
          "Candidatus Hydrothermarchaeota"
         ],
         "marker": {
          "colors": [
           "#C3CAD7",
           "#FF9536",
           "#FF9536",
           "#D2EDE0",
           "#995FBC",
           "#2E2D97",
           "#2E2D97",
           "#995FBC",
           "#FF9536",
           "#995FBC",
           "#BF8F6B",
           "#BF8F6B",
           "#995FBC",
           "#995FBC",
           "#BF8F6B",
           "#995FBC",
           "#995FBC",
           "#995FBC",
           "#BF8F6B",
           "#995FBC",
           "#D2EDE0",
           "#995FBC",
           "#D2EDE0",
           "#FF9536",
           "#C3CAD7",
           "#995FBC",
           "#995FBC",
           "#FF9536",
           "#FF9536",
           "#2E2D97",
           "#FF9536",
           "#2E2D97",
           "#2E2D97",
           "#995FBC",
           "#995FBC",
           "#995FBC",
           "#FF9536",
           "#FF9536",
           "#995FBC",
           "#995FBC",
           "#995FBC",
           "#BF8F6B",
           "#BF8F6B",
           "#BF8F6B",
           "#D2EDE0",
           "#BF8F6B",
           "#FF9536",
           "#BF8F6B",
           "#BF8F6B",
           "#2E2D97",
           "#995FBC",
           "#995FBC",
           "#995FBC",
           "#995FBC",
           "#995FBC",
           "#2E2D97",
           "#995FBC",
           "#995FBC",
           "#D2EDE0",
           "#995FBC",
           "#995FBC",
           "#FF9536",
           "#995FBC",
           "#995FBC",
           "#FF9536",
           "#995FBC",
           "#FF9536",
           "#995FBC",
           "#BF8F6B",
           "#995FBC",
           "#995FBC",
           "#FF9536",
           "#FF9536",
           "#995FBC",
           "#FF9536",
           "#995FBC",
           "#FF9536",
           "#995FBC",
           "#FF9536",
           "#D2EDE0",
           "#2E2D97",
           "#FF9536",
           "#995FBC",
           "#995FBC",
           "#2E2D97",
           "#FF9536",
           "#FF9536",
           "#BF8F6B",
           "#FF9536",
           "#FF9536",
           "#FF9536",
           "#BF8F6B",
           "#FF9536",
           "#C3CAD7",
           "#FF9536",
           "#BF8F6B",
           "#995FBC",
           "#D2EDE0",
           "#995FBC",
           "#BF8F6B",
           "#995FBC",
           "#D2EDE0",
           "#995FBC",
           "#995FBC",
           "#995FBC",
           "#FF9536",
           "#FF9536",
           "#FF9536",
           "#995FBC",
           "#FF9536",
           "#2E2D97",
           "#FF9536",
           "#D2EDE0",
           "#FF9536",
           "#995FBC",
           "#BF8F6B",
           "#995FBC",
           "#BF8F6B",
           "#BF8F6B",
           "#BF8F6B",
           "#BF8F6B",
           "#BF8F6B",
           "#BF8F6B",
           "#BF8F6B",
           "#BF8F6B",
           "#BF8F6B",
           "#BF8F6B",
           "#BF8F6B",
           "#BF8F6B",
           "#BF8F6B",
           "#BF8F6B",
           "#BF8F6B",
           "#D2EDE0",
           "#FF9536",
           "#D2EDE0",
           "#C3CAD7",
           "#BF8F6B",
           "#BF8F6B",
           "#BF8F6B",
           "#BF8F6B",
           "#D2EDE0",
           "#BF8F6B",
           "#FF9536",
           "#BF8F6B",
           "#FF9536",
           "#FF9536",
           "#FF9536",
           "#BF8F6B",
           "#FF9536",
           "#BF8F6B",
           "#995FBC",
           "#995FBC",
           "#995FBC",
           "#995FBC",
           "#FF9536",
           "#D2EDE0",
           "#D2EDE0",
           "#995FBC",
           "#BF8F6B",
           "#995FBC",
           "#FF9536",
           "#995FBC",
           "#BF8F6B",
           "#995FBC",
           "#995FBC",
           "#BF8F6B",
           "#995FBC",
           "#995FBC",
           "#BF8F6B",
           "#D2EDE0",
           "#FF9536",
           "#995FBC",
           "#995FBC",
           "#2E2D97",
           "#995FBC",
           "#995FBC",
           "#995FBC",
           "#995FBC",
           "#995FBC",
           "#995FBC",
           "#995FBC",
           "#995FBC",
           "#995FBC",
           "#995FBC",
           "#FF9536",
           "#FF9536",
           "#FF9536",
           "#995FBC",
           "#2E2D97",
           "#995FBC",
           "#995FBC",
           "#995FBC",
           "#FF9536",
           "#995FBC",
           "#2E2D97",
           "#995FBC",
           "#995FBC",
           "#2E2D97",
           "#2E2D97",
           "#2E2D97",
           "#995FBC",
           "#995FBC",
           "#995FBC",
           "#995FBC",
           "#995FBC",
           "#995FBC",
           "#2E2D97",
           "#995FBC",
           "#995FBC",
           "#2E2D97",
           "#995FBC",
           "#2E2D97",
           "#995FBC",
           "#995FBC",
           "#995FBC",
           "#995FBC",
           "#995FBC",
           "#2E2D97",
           "#995FBC",
           "#995FBC",
           "#995FBC",
           "#2E2D97",
           "#995FBC",
           "#995FBC",
           "#995FBC",
           "#995FBC",
           "#995FBC",
           "#995FBC",
           "#995FBC",
           "#995FBC",
           "#995FBC",
           "#FF9536",
           "#995FBC",
           "#995FBC",
           "#995FBC",
           "#995FBC",
           "#995FBC",
           "#995FBC",
           "#995FBC",
           "#995FBC",
           "#FF9536",
           "#FF9536",
           "#FF9536",
           "#995FBC",
           "#D2EDE0",
           "#FF9536",
           "#FF9536",
           "#995FBC",
           "#FF9536",
           "#995FBC",
           "#995FBC",
           "#2E2D97",
           "#995FBC",
           "#995FBC",
           "#995FBC",
           "#995FBC",
           "#995FBC",
           "#995FBC",
           "#995FBC",
           "#995FBC",
           "#FF9536",
           "#995FBC",
           "#995FBC",
           "#995FBC",
           "#995FBC",
           "#FF9536",
           "#995FBC",
           "#FF9536",
           "#2E2D97",
           "#995FBC",
           "#995FBC",
           "#995FBC",
           "#995FBC",
           "#2E2D97",
           "#FF9536",
           "#2E2D97",
           "#2E2D97",
           "#995FBC",
           "#995FBC",
           "#FF9536",
           "#FF9536",
           "#BF8F6B",
           "#BF8F6B",
           "#995FBC",
           "#C3CAD7",
           "#995FBC",
           "#995FBC",
           "#FF9536",
           "#995FBC",
           "#FF9536",
           "#FF9536",
           "#995FBC",
           "#995FBC",
           "#995FBC",
           "#995FBC",
           "#D2EDE0",
           "#2E2D97",
           "#995FBC",
           "#995FBC",
           "#2E2D97",
           "#995FBC",
           "#FF9536",
           "#FF9536",
           "#995FBC",
           "#FF9536",
           "#995FBC",
           "#995FBC",
           "#995FBC",
           "#995FBC",
           "#2E2D97",
           "#FF9536",
           "#BF8F6B",
           "#995FBC",
           "#2E2D97",
           "#995FBC",
           "#995FBC",
           "#BF8F6B",
           "#995FBC",
           "#FF9536",
           "#995FBC",
           "#995FBC",
           "#995FBC",
           "#995FBC",
           "#995FBC",
           "#995FBC",
           "#FF9536",
           "#995FBC",
           "#995FBC",
           "#995FBC",
           "#C3CAD7",
           "#2E2D97"
          ]
         },
         "name": "",
         "parents": [
          "",
          "Eukaryota/unknown",
          "Eukaryota/Metazoa",
          "Viruses/Pararnavirae",
          "Bacteria/unknown",
          "Archaea/unknown",
          "Archaea/unknown",
          "Bacteria/unknown",
          "Eukaryota/Metazoa",
          "Bacteria/unknown",
          "Metagenome/Host-associated",
          "Metagenome/Host-associated, Mixed, Engineered",
          "Bacteria/unknown",
          "Bacteria/unknown",
          "Metagenome/engineered",
          "Bacteria/unknown",
          "Bacteria/unknown",
          "Bacteria/unknown",
          "Metagenome/Host-associated, Mixed, Environmental, Engineered",
          "Bacteria/unknown",
          "Viruses/Bamfordvirae",
          "Bacteria/unknown",
          "Viruses/Orthornavirae",
          "Eukaryota/unknown",
          "",
          "Bacteria/unknown",
          "Bacteria/unknown",
          "Eukaryota/unknown",
          "Eukaryota/unknown",
          "Archaea/unknown",
          "Eukaryota/unknown",
          "Archaea/unknown",
          "Archaea/unknown",
          "Bacteria/unknown",
          "Bacteria/unknown",
          "Bacteria/unknown",
          "Eukaryota/Metazoa",
          "Eukaryota/Viridiplantae",
          "Bacteria/unknown",
          "Bacteria/unknown",
          "Bacteria/unknown",
          "Metagenome",
          "Metagenome",
          "Metagenome",
          "Viruses",
          "Metagenome",
          "Eukaryota",
          "Metagenome",
          "Metagenome",
          "",
          "Bacteria/unknown",
          "Bacteria/unknown",
          "Bacteria/unknown",
          "Bacteria/unknown",
          "Bacteria/unknown",
          "Archaea/unknown",
          "Bacteria/unknown",
          "Bacteria/unknown",
          "Viruses/Heunggongvirae",
          "Bacteria/unknown",
          "Bacteria/unknown",
          "Eukaryota/Metazoa",
          "Bacteria/unknown",
          "Bacteria/unknown",
          "Eukaryota/Metazoa",
          "Bacteria/unknown",
          "Eukaryota/Metazoa",
          "Bacteria/unknown",
          "Metagenome/Mixed, Environmental, Engineered",
          "Bacteria/unknown",
          "Bacteria/unknown",
          "Eukaryota/unknown",
          "Eukaryota/Metazoa",
          "Bacteria/unknown",
          "Eukaryota/Metazoa",
          "Bacteria/unknown",
          "Eukaryota/Fungi",
          "Bacteria/unknown",
          "Eukaryota/unknown",
          "",
          "Archaea/unknown",
          "Eukaryota",
          "Bacteria",
          "Bacteria/unknown",
          "Archaea",
          "Eukaryota/Metazoa",
          "Eukaryota/unknown",
          "Metagenome",
          "Eukaryota/unknown",
          "Eukaryota/unknown",
          "Eukaryota/unknown",
          "",
          "Eukaryota/Metazoa",
          "unknown",
          "Eukaryota/Metazoa",
          "Metagenome",
          "Bacteria/unknown",
          "Viruses",
          "Bacteria/unknown",
          "Metagenome",
          "Bacteria/unknown",
          "Viruses/Orthornavirae",
          "Bacteria/unknown",
          "Bacteria/unknown",
          "Bacteria/unknown",
          "Eukaryota/unknown",
          "Eukaryota/Metazoa",
          "Eukaryota/Fungi",
          "Bacteria/unknown",
          "",
          "Archaea/unknown",
          "Eukaryota/unknown",
          "Viruses/Orthornavirae",
          "Eukaryota/Metazoa",
          "Bacteria/unknown",
          "Metagenome",
          "Bacteria/unknown",
          "Metagenome/Environmental, Engineered",
          "Metagenome/Host-associated, Engineered",
          "Metagenome/Host-associated, Environmental",
          "Metagenome/Host-associated, Environmental, Engineered",
          "Metagenome/Host-associated, Mixed",
          "Metagenome",
          "Metagenome/Host-associated, Mixed, Environmental",
          "Metagenome",
          "Metagenome",
          "Metagenome/Mixed, Engineered",
          "Metagenome/Mixed, Environmental",
          "Metagenome/Environmental",
          "Metagenome",
          "Metagenome/host-associated",
          "Metagenome/mixed",
          "Viruses",
          "Eukaryota/unknown",
          "Viruses/unknown",
          "unknown/unknown",
          "Metagenome/unknown, Host-associated",
          "Metagenome/unknown, Host-associated, Engineered",
          "Metagenome/unknown, Mixed, Host-associated, Engineered",
          "Metagenome/unknown, Mixed, Host-associated, Engineered, Environmental",
          "Viruses",
          "Metagenome",
          "Eukaryota/unknown",
          "Metagenome/Engineered",
          "Eukaryota/unknown",
          "Eukaryota/Metazoa",
          "Eukaryota/Metazoa",
          "Metagenome",
          "Eukaryota/unknown",
          "Metagenome",
          "Bacteria/unknown",
          "Bacteria/unknown",
          "Bacteria/unknown",
          "Bacteria/unknown",
          "Eukaryota/Viridiplantae",
          "Viruses",
          "Viruses/unknown",
          "Bacteria/unknown",
          "Metagenome",
          "Bacteria/unknown",
          "Eukaryota/Metazoa",
          "Bacteria/unknown",
          "Metagenome",
          "Bacteria/unknown",
          "Bacteria/unknown",
          "Metagenome",
          "Bacteria/unknown",
          "Bacteria/unknown",
          "Metagenome",
          "Viruses",
          "Eukaryota",
          "Bacteria/unknown",
          "Bacteria/unknown",
          "Archaea/unknown",
          "Bacteria/unknown",
          "Bacteria/unknown",
          "Bacteria/unknown",
          "Bacteria/unknown",
          "Bacteria/unknown",
          "Bacteria/unknown",
          "Bacteria/unknown",
          "Bacteria/unknown",
          "Bacteria/unknown",
          "Bacteria/unknown",
          "Eukaryota/Metazoa",
          "Eukaryota/Metazoa",
          "Eukaryota/Fungi",
          "Bacteria/unknown",
          "Archaea/unknown",
          "Bacteria/unknown",
          "Bacteria/unknown",
          "Bacteria/unknown",
          "Eukaryota/Fungi",
          "Bacteria/unknown",
          "Archaea/unknown",
          "Bacteria/unknown",
          "Bacteria/unknown",
          "Archaea/unknown",
          "Archaea/unknown",
          "Archaea/unknown",
          "Bacteria/unknown",
          "Bacteria/unknown",
          "Bacteria/unknown",
          "Bacteria/unknown",
          "Bacteria/unknown",
          "Bacteria/unknown",
          "Archaea/unknown",
          "Bacteria/unknown",
          "Bacteria/unknown",
          "Archaea/unknown",
          "Bacteria/unknown",
          "Archaea/unknown",
          "Bacteria/unknown",
          "Bacteria/unknown",
          "Bacteria/unknown",
          "Bacteria/unknown",
          "Bacteria/unknown",
          "Archaea/unknown",
          "Bacteria/unknown",
          "Bacteria/unknown",
          "Bacteria/unknown",
          "Archaea/unknown",
          "Bacteria/unknown",
          "Bacteria/unknown",
          "Bacteria/unknown",
          "Bacteria/unknown",
          "Bacteria/unknown",
          "Bacteria/unknown",
          "Bacteria/unknown",
          "Bacteria/unknown",
          "Bacteria/unknown",
          "Eukaryota/unknown",
          "Bacteria/unknown",
          "Bacteria/unknown",
          "Bacteria/unknown",
          "Bacteria/unknown",
          "Bacteria/unknown",
          "Bacteria/unknown",
          "Bacteria/unknown",
          "Bacteria/unknown",
          "Eukaryota/Metazoa",
          "Eukaryota/unknown",
          "Eukaryota/unknown",
          "Bacteria/unknown",
          "Viruses/Shotokuvirae",
          "Eukaryota/Fungi",
          "Eukaryota/Metazoa",
          "Bacteria/unknown",
          "Eukaryota/Metazoa",
          "Bacteria/unknown",
          "Bacteria/unknown",
          "Archaea/unknown",
          "Bacteria/unknown",
          "Bacteria/unknown",
          "Bacteria/unknown",
          "Bacteria/unknown",
          "Bacteria/unknown",
          "Bacteria/unknown",
          "Bacteria/unknown",
          "Bacteria/unknown",
          "Eukaryota/Metazoa",
          "Bacteria/unknown",
          "Bacteria/unknown",
          "Bacteria/unknown",
          "Bacteria/unknown",
          "Eukaryota/unknown",
          "Bacteria/unknown",
          "Eukaryota/Fungi",
          "Archaea/unknown",
          "Bacteria/unknown",
          "Bacteria/unknown",
          "Bacteria/unknown",
          "Bacteria/unknown",
          "Archaea/unknown",
          "Eukaryota/unknown",
          "Archaea/unknown",
          "Archaea/unknown",
          "Bacteria/unknown",
          "Bacteria/unknown",
          "Eukaryota",
          "Eukaryota/Metazoa",
          "Metagenome",
          "Metagenome",
          "Bacteria/unknown",
          "undef",
          "",
          "Bacteria/unknown",
          "Eukaryota/Metazoa",
          "Bacteria/unknown",
          "Eukaryota/unknown",
          "Eukaryota/Metazoa",
          "Bacteria/unknown",
          "Bacteria/unknown",
          "Bacteria/unknown",
          "Bacteria/unknown",
          "Viruses/Bamfordvirae",
          "Archaea/unknown",
          "Bacteria/unknown",
          "Bacteria/unknown",
          "Archaea/unknown",
          "Bacteria/unknown",
          "Eukaryota/Fungi",
          "Eukaryota/unknown",
          "Bacteria/unknown",
          "Eukaryota/Viridiplantae",
          "Bacteria/unknown",
          "Bacteria/unknown",
          "Bacteria/unknown",
          "Bacteria/unknown",
          "Archaea/unknown",
          "Eukaryota/unknown",
          "Metagenome/unknown",
          "Bacteria/unknown",
          "Archaea/unknown",
          "Bacteria/unknown",
          "Bacteria/unknown",
          "Metagenome/Mixed",
          "Bacteria/unknown",
          "Eukaryota/Fungi",
          "Bacteria/unknown",
          "Bacteria/unknown",
          "Bacteria/unknown",
          "Bacteria/unknown",
          "Bacteria/unknown",
          "Bacteria/unknown",
          "Eukaryota/Fungi",
          "Bacteria/unknown",
          "Bacteria/unknown",
          "Bacteria/unknown",
          "undef/unknown",
          "Archaea/unknown"
         ],
         "type": "sunburst",
         "values": [
          40738,
          83,
          39,
          17,
          95,
          413,
          20,
          48,
          211,
          80,
          52389,
          60,
          4,
          43,
          658,
          8,
          28,
          2161,
          14,
          52350,
          2,
          6,
          2,
          72,
          215,
          1,
          11,
          708,
          2,
          2,
          59,
          7,
          350,
          166,
          2,
          4,
          20,
          17,
          280,
          12,
          7,
          282,
          359,
          209441,
          3,
          5,
          21751,
          5,
          5813,
          7529,
          187,
          12,
          5,
          366,
          6,
          3,
          44,
          1651,
          7,
          11,
          1,
          323,
          12,
          9,
          15,
          114,
          22,
          149,
          15,
          3,
          16,
          242,
          551,
          9,
          5,
          163,
          134,
          86,
          284,
          86,
          4838,
          6046,
          184709,
          533,
          7529,
          9,
          10,
          4,
          11,
          320,
          10,
          315123,
          1,
          40738,
          852,
          22901,
          2,
          42,
          704,
          2,
          14,
          4,
          77,
          148,
          1,
          8,
          724,
          684,
          15,
          134071,
          19,
          4,
          5,
          3,
          1,
          22286,
          10,
          282,
          302,
          64,
          27,
          359,
          60,
          5,
          27,
          64,
          246,
          8,
          209441,
          302,
          237,
          4,
          7,
          1937,
          3,
          40738,
          5,
          2,
          3,
          2,
          6,
          52389,
          1,
          22286,
          13,
          382,
          89,
          237,
          4,
          658,
          263,
          173,
          2,
          1049,
          79863,
          17,
          39,
          1201,
          15,
          64,
          18,
          7,
          8,
          3,
          46,
          246,
          16,
          17,
          14,
          11,
          81020,
          10,
          10,
          2,
          2,
          1,
          3,
          2,
          22,
          4521,
          1,
          66,
          83,
          8,
          24,
          10,
          43,
          8,
          72,
          17,
          333,
          14,
          5973,
          435,
          5,
          48,
          1,
          6,
          35,
          64,
          2,
          21,
          12,
          37,
          3,
          1,
          383,
          32,
          9,
          26,
          26,
          87,
          1,
          69,
          2,
          9,
          2,
          7,
          2,
          2,
          19,
          41,
          9,
          9,
          1,
          4,
          60,
          63,
          5,
          134,
          1,
          243,
          2,
          25,
          2,
          2,
          37,
          1,
          225,
          3935,
          7616,
          2,
          110,
          1,
          3,
          3,
          37,
          27,
          1,
          30,
          64554,
          23,
          8,
          4,
          3,
          45,
          16631,
          7,
          4,
          18,
          14102,
          25,
          108,
          193,
          10,
          2,
          12,
          14785,
          1,
          18068,
          41,
          36,
          10,
          62,
          1099,
          2,
          35,
          1687,
          5,
          25254,
          177,
          2,
          3,
          1,
          215,
          184709,
          14,
          17,
          3,
          724,
          6,
          4037,
          20,
          45,
          27,
          4,
          809,
          59,
          5,
          55,
          67,
          13,
          92,
          2,
          1140,
          4,
          3713,
          1,
          2,
          3,
          6,
          22901,
          1,
          154,
          6,
          3,
          5813,
          1,
          8,
          47,
          1,
          4,
          1,
          608,
          5,
          108,
          1640,
          6,
          14,
          215,
          5
         ]
        }
       ],
       "layout": {
        "autosize": true,
        "legend": {
         "tracegroupgap": 0
        },
        "margin": {
         "t": 60
        },
        "template": {
         "data": {
          "bar": [
           {
            "error_x": {
             "color": "#2a3f5f"
            },
            "error_y": {
             "color": "#2a3f5f"
            },
            "marker": {
             "line": {
              "color": "#E5ECF6",
              "width": 0.5
             },
             "pattern": {
              "fillmode": "overlay",
              "size": 10,
              "solidity": 0.2
             }
            },
            "type": "bar"
           }
          ],
          "barpolar": [
           {
            "marker": {
             "line": {
              "color": "#E5ECF6",
              "width": 0.5
             },
             "pattern": {
              "fillmode": "overlay",
              "size": 10,
              "solidity": 0.2
             }
            },
            "type": "barpolar"
           }
          ],
          "carpet": [
           {
            "aaxis": {
             "endlinecolor": "#2a3f5f",
             "gridcolor": "white",
             "linecolor": "white",
             "minorgridcolor": "white",
             "startlinecolor": "#2a3f5f"
            },
            "baxis": {
             "endlinecolor": "#2a3f5f",
             "gridcolor": "white",
             "linecolor": "white",
             "minorgridcolor": "white",
             "startlinecolor": "#2a3f5f"
            },
            "type": "carpet"
           }
          ],
          "choropleth": [
           {
            "colorbar": {
             "outlinewidth": 0,
             "ticks": ""
            },
            "type": "choropleth"
           }
          ],
          "contour": [
           {
            "colorbar": {
             "outlinewidth": 0,
             "ticks": ""
            },
            "colorscale": [
             [
              0,
              "#0d0887"
             ],
             [
              0.1111111111111111,
              "#46039f"
             ],
             [
              0.2222222222222222,
              "#7201a8"
             ],
             [
              0.3333333333333333,
              "#9c179e"
             ],
             [
              0.4444444444444444,
              "#bd3786"
             ],
             [
              0.5555555555555556,
              "#d8576b"
             ],
             [
              0.6666666666666666,
              "#ed7953"
             ],
             [
              0.7777777777777778,
              "#fb9f3a"
             ],
             [
              0.8888888888888888,
              "#fdca26"
             ],
             [
              1,
              "#f0f921"
             ]
            ],
            "type": "contour"
           }
          ],
          "contourcarpet": [
           {
            "colorbar": {
             "outlinewidth": 0,
             "ticks": ""
            },
            "type": "contourcarpet"
           }
          ],
          "heatmap": [
           {
            "colorbar": {
             "outlinewidth": 0,
             "ticks": ""
            },
            "colorscale": [
             [
              0,
              "#0d0887"
             ],
             [
              0.1111111111111111,
              "#46039f"
             ],
             [
              0.2222222222222222,
              "#7201a8"
             ],
             [
              0.3333333333333333,
              "#9c179e"
             ],
             [
              0.4444444444444444,
              "#bd3786"
             ],
             [
              0.5555555555555556,
              "#d8576b"
             ],
             [
              0.6666666666666666,
              "#ed7953"
             ],
             [
              0.7777777777777778,
              "#fb9f3a"
             ],
             [
              0.8888888888888888,
              "#fdca26"
             ],
             [
              1,
              "#f0f921"
             ]
            ],
            "type": "heatmap"
           }
          ],
          "heatmapgl": [
           {
            "colorbar": {
             "outlinewidth": 0,
             "ticks": ""
            },
            "colorscale": [
             [
              0,
              "#0d0887"
             ],
             [
              0.1111111111111111,
              "#46039f"
             ],
             [
              0.2222222222222222,
              "#7201a8"
             ],
             [
              0.3333333333333333,
              "#9c179e"
             ],
             [
              0.4444444444444444,
              "#bd3786"
             ],
             [
              0.5555555555555556,
              "#d8576b"
             ],
             [
              0.6666666666666666,
              "#ed7953"
             ],
             [
              0.7777777777777778,
              "#fb9f3a"
             ],
             [
              0.8888888888888888,
              "#fdca26"
             ],
             [
              1,
              "#f0f921"
             ]
            ],
            "type": "heatmapgl"
           }
          ],
          "histogram": [
           {
            "marker": {
             "pattern": {
              "fillmode": "overlay",
              "size": 10,
              "solidity": 0.2
             }
            },
            "type": "histogram"
           }
          ],
          "histogram2d": [
           {
            "colorbar": {
             "outlinewidth": 0,
             "ticks": ""
            },
            "colorscale": [
             [
              0,
              "#0d0887"
             ],
             [
              0.1111111111111111,
              "#46039f"
             ],
             [
              0.2222222222222222,
              "#7201a8"
             ],
             [
              0.3333333333333333,
              "#9c179e"
             ],
             [
              0.4444444444444444,
              "#bd3786"
             ],
             [
              0.5555555555555556,
              "#d8576b"
             ],
             [
              0.6666666666666666,
              "#ed7953"
             ],
             [
              0.7777777777777778,
              "#fb9f3a"
             ],
             [
              0.8888888888888888,
              "#fdca26"
             ],
             [
              1,
              "#f0f921"
             ]
            ],
            "type": "histogram2d"
           }
          ],
          "histogram2dcontour": [
           {
            "colorbar": {
             "outlinewidth": 0,
             "ticks": ""
            },
            "colorscale": [
             [
              0,
              "#0d0887"
             ],
             [
              0.1111111111111111,
              "#46039f"
             ],
             [
              0.2222222222222222,
              "#7201a8"
             ],
             [
              0.3333333333333333,
              "#9c179e"
             ],
             [
              0.4444444444444444,
              "#bd3786"
             ],
             [
              0.5555555555555556,
              "#d8576b"
             ],
             [
              0.6666666666666666,
              "#ed7953"
             ],
             [
              0.7777777777777778,
              "#fb9f3a"
             ],
             [
              0.8888888888888888,
              "#fdca26"
             ],
             [
              1,
              "#f0f921"
             ]
            ],
            "type": "histogram2dcontour"
           }
          ],
          "mesh3d": [
           {
            "colorbar": {
             "outlinewidth": 0,
             "ticks": ""
            },
            "type": "mesh3d"
           }
          ],
          "parcoords": [
           {
            "line": {
             "colorbar": {
              "outlinewidth": 0,
              "ticks": ""
             }
            },
            "type": "parcoords"
           }
          ],
          "pie": [
           {
            "automargin": true,
            "type": "pie"
           }
          ],
          "scatter": [
           {
            "fillpattern": {
             "fillmode": "overlay",
             "size": 10,
             "solidity": 0.2
            },
            "type": "scatter"
           }
          ],
          "scatter3d": [
           {
            "line": {
             "colorbar": {
              "outlinewidth": 0,
              "ticks": ""
             }
            },
            "marker": {
             "colorbar": {
              "outlinewidth": 0,
              "ticks": ""
             }
            },
            "type": "scatter3d"
           }
          ],
          "scattercarpet": [
           {
            "marker": {
             "colorbar": {
              "outlinewidth": 0,
              "ticks": ""
             }
            },
            "type": "scattercarpet"
           }
          ],
          "scattergeo": [
           {
            "marker": {
             "colorbar": {
              "outlinewidth": 0,
              "ticks": ""
             }
            },
            "type": "scattergeo"
           }
          ],
          "scattergl": [
           {
            "marker": {
             "colorbar": {
              "outlinewidth": 0,
              "ticks": ""
             }
            },
            "type": "scattergl"
           }
          ],
          "scattermapbox": [
           {
            "marker": {
             "colorbar": {
              "outlinewidth": 0,
              "ticks": ""
             }
            },
            "type": "scattermapbox"
           }
          ],
          "scatterpolar": [
           {
            "marker": {
             "colorbar": {
              "outlinewidth": 0,
              "ticks": ""
             }
            },
            "type": "scatterpolar"
           }
          ],
          "scatterpolargl": [
           {
            "marker": {
             "colorbar": {
              "outlinewidth": 0,
              "ticks": ""
             }
            },
            "type": "scatterpolargl"
           }
          ],
          "scatterternary": [
           {
            "marker": {
             "colorbar": {
              "outlinewidth": 0,
              "ticks": ""
             }
            },
            "type": "scatterternary"
           }
          ],
          "surface": [
           {
            "colorbar": {
             "outlinewidth": 0,
             "ticks": ""
            },
            "colorscale": [
             [
              0,
              "#0d0887"
             ],
             [
              0.1111111111111111,
              "#46039f"
             ],
             [
              0.2222222222222222,
              "#7201a8"
             ],
             [
              0.3333333333333333,
              "#9c179e"
             ],
             [
              0.4444444444444444,
              "#bd3786"
             ],
             [
              0.5555555555555556,
              "#d8576b"
             ],
             [
              0.6666666666666666,
              "#ed7953"
             ],
             [
              0.7777777777777778,
              "#fb9f3a"
             ],
             [
              0.8888888888888888,
              "#fdca26"
             ],
             [
              1,
              "#f0f921"
             ]
            ],
            "type": "surface"
           }
          ],
          "table": [
           {
            "cells": {
             "fill": {
              "color": "#EBF0F8"
             },
             "line": {
              "color": "white"
             }
            },
            "header": {
             "fill": {
              "color": "#C8D4E3"
             },
             "line": {
              "color": "white"
             }
            },
            "type": "table"
           }
          ]
         },
         "layout": {
          "annotationdefaults": {
           "arrowcolor": "#2a3f5f",
           "arrowhead": 0,
           "arrowwidth": 1
          },
          "autotypenumbers": "strict",
          "coloraxis": {
           "colorbar": {
            "outlinewidth": 0,
            "ticks": ""
           }
          },
          "colorscale": {
           "diverging": [
            [
             0,
             "#8e0152"
            ],
            [
             0.1,
             "#c51b7d"
            ],
            [
             0.2,
             "#de77ae"
            ],
            [
             0.3,
             "#f1b6da"
            ],
            [
             0.4,
             "#fde0ef"
            ],
            [
             0.5,
             "#f7f7f7"
            ],
            [
             0.6,
             "#e6f5d0"
            ],
            [
             0.7,
             "#b8e186"
            ],
            [
             0.8,
             "#7fbc41"
            ],
            [
             0.9,
             "#4d9221"
            ],
            [
             1,
             "#276419"
            ]
           ],
           "sequential": [
            [
             0,
             "#0d0887"
            ],
            [
             0.1111111111111111,
             "#46039f"
            ],
            [
             0.2222222222222222,
             "#7201a8"
            ],
            [
             0.3333333333333333,
             "#9c179e"
            ],
            [
             0.4444444444444444,
             "#bd3786"
            ],
            [
             0.5555555555555556,
             "#d8576b"
            ],
            [
             0.6666666666666666,
             "#ed7953"
            ],
            [
             0.7777777777777778,
             "#fb9f3a"
            ],
            [
             0.8888888888888888,
             "#fdca26"
            ],
            [
             1,
             "#f0f921"
            ]
           ],
           "sequentialminus": [
            [
             0,
             "#0d0887"
            ],
            [
             0.1111111111111111,
             "#46039f"
            ],
            [
             0.2222222222222222,
             "#7201a8"
            ],
            [
             0.3333333333333333,
             "#9c179e"
            ],
            [
             0.4444444444444444,
             "#bd3786"
            ],
            [
             0.5555555555555556,
             "#d8576b"
            ],
            [
             0.6666666666666666,
             "#ed7953"
            ],
            [
             0.7777777777777778,
             "#fb9f3a"
            ],
            [
             0.8888888888888888,
             "#fdca26"
            ],
            [
             1,
             "#f0f921"
            ]
           ]
          },
          "colorway": [
           "#636efa",
           "#EF553B",
           "#00cc96",
           "#ab63fa",
           "#FFA15A",
           "#19d3f3",
           "#FF6692",
           "#B6E880",
           "#FF97FF",
           "#FECB52"
          ],
          "font": {
           "color": "#2a3f5f"
          },
          "geo": {
           "bgcolor": "white",
           "lakecolor": "white",
           "landcolor": "#E5ECF6",
           "showlakes": true,
           "showland": true,
           "subunitcolor": "white"
          },
          "hoverlabel": {
           "align": "left"
          },
          "hovermode": "closest",
          "mapbox": {
           "style": "light"
          },
          "paper_bgcolor": "white",
          "plot_bgcolor": "#E5ECF6",
          "polar": {
           "angularaxis": {
            "gridcolor": "white",
            "linecolor": "white",
            "ticks": ""
           },
           "bgcolor": "#E5ECF6",
           "radialaxis": {
            "gridcolor": "white",
            "linecolor": "white",
            "ticks": ""
           }
          },
          "scene": {
           "xaxis": {
            "backgroundcolor": "#E5ECF6",
            "gridcolor": "white",
            "gridwidth": 2,
            "linecolor": "white",
            "showbackground": true,
            "ticks": "",
            "zerolinecolor": "white"
           },
           "yaxis": {
            "backgroundcolor": "#E5ECF6",
            "gridcolor": "white",
            "gridwidth": 2,
            "linecolor": "white",
            "showbackground": true,
            "ticks": "",
            "zerolinecolor": "white"
           },
           "zaxis": {
            "backgroundcolor": "#E5ECF6",
            "gridcolor": "white",
            "gridwidth": 2,
            "linecolor": "white",
            "showbackground": true,
            "ticks": "",
            "zerolinecolor": "white"
           }
          },
          "shapedefaults": {
           "line": {
            "color": "#2a3f5f"
           }
          },
          "ternary": {
           "aaxis": {
            "gridcolor": "white",
            "linecolor": "white",
            "ticks": ""
           },
           "baxis": {
            "gridcolor": "white",
            "linecolor": "white",
            "ticks": ""
           },
           "bgcolor": "#E5ECF6",
           "caxis": {
            "gridcolor": "white",
            "linecolor": "white",
            "ticks": ""
           }
          },
          "title": {
           "x": 0.05
          },
          "xaxis": {
           "automargin": true,
           "gridcolor": "white",
           "linecolor": "white",
           "ticks": "",
           "title": {
            "standoff": 15
           },
           "zerolinecolor": "white",
           "zerolinewidth": 2
          },
          "yaxis": {
           "automargin": true,
           "gridcolor": "white",
           "linecolor": "white",
           "ticks": "",
           "title": {
            "standoff": 15
           },
           "zerolinecolor": "white",
           "zerolinewidth": 2
          }
         }
        }
       }
      },
      "image/png": "[encoded data removed]",
      "text/html": [
       "<div>                            <div id=\"672fc7e3-7169-499b-be7b-330e6c47784e\" class=\"plotly-graph-div\" style=\"height:525px; width:100%;\"></div>            <script type=\"text/javascript\">                require([\"plotly\"], function(Plotly) {                    window.PLOTLYENV=window.PLOTLYENV || {};                                    if (document.getElementById(\"672fc7e3-7169-499b-be7b-330e6c47784e\")) {                    Plotly.newPlot(                        \"672fc7e3-7169-499b-be7b-330e6c47784e\",                        [{\"branchvalues\":\"total\",\"customdata\":[[\"unknown\"],[\"Eukaryota\"],[\"Eukaryota\"],[\"Viruses\"],[\"Bacteria\"],[\"Archaea\"],[\"Archaea\"],[\"Bacteria\"],[\"Eukaryota\"],[\"Bacteria\"],[\"Metagenome\"],[\"Metagenome\"],[\"Bacteria\"],[\"Bacteria\"],[\"Metagenome\"],[\"Bacteria\"],[\"Bacteria\"],[\"Bacteria\"],[\"Metagenome\"],[\"Bacteria\"],[\"Viruses\"],[\"Bacteria\"],[\"Viruses\"],[\"Eukaryota\"],[\"undef\"],[\"Bacteria\"],[\"Bacteria\"],[\"Eukaryota\"],[\"Eukaryota\"],[\"Archaea\"],[\"Eukaryota\"],[\"Archaea\"],[\"Archaea\"],[\"Bacteria\"],[\"Bacteria\"],[\"Bacteria\"],[\"Eukaryota\"],[\"Eukaryota\"],[\"Bacteria\"],[\"Bacteria\"],[\"Bacteria\"],[\"Metagenome\"],[\"Metagenome\"],[\"Metagenome\"],[\"Viruses\"],[\"Metagenome\"],[\"Eukaryota\"],[\"Metagenome\"],[\"Metagenome\"],[\"Archaea\"],[\"Bacteria\"],[\"Bacteria\"],[\"Bacteria\"],[\"Bacteria\"],[\"Bacteria\"],[\"Archaea\"],[\"Bacteria\"],[\"Bacteria\"],[\"Viruses\"],[\"Bacteria\"],[\"Bacteria\"],[\"Eukaryota\"],[\"Bacteria\"],[\"Bacteria\"],[\"Eukaryota\"],[\"Bacteria\"],[\"Eukaryota\"],[\"Bacteria\"],[\"Metagenome\"],[\"Bacteria\"],[\"Bacteria\"],[\"Eukaryota\"],[\"Eukaryota\"],[\"Bacteria\"],[\"Eukaryota\"],[\"Bacteria\"],[\"Eukaryota\"],[\"Bacteria\"],[\"Eukaryota\"],[\"Viruses\"],[\"Archaea\"],[\"Eukaryota\"],[\"Bacteria\"],[\"Bacteria\"],[\"Archaea\"],[\"Eukaryota\"],[\"Eukaryota\"],[\"Metagenome\"],[\"Eukaryota\"],[\"Eukaryota\"],[\"Eukaryota\"],[\"Metagenome\"],[\"Eukaryota\"],[\"unknown\"],[\"Eukaryota\"],[\"Metagenome\"],[\"Bacteria\"],[\"Viruses\"],[\"Bacteria\"],[\"Metagenome\"],[\"Bacteria\"],[\"Viruses\"],[\"Bacteria\"],[\"Bacteria\"],[\"Bacteria\"],[\"Eukaryota\"],[\"Eukaryota\"],[\"Eukaryota\"],[\"Bacteria\"],[\"Eukaryota\"],[\"Archaea\"],[\"Eukaryota\"],[\"Viruses\"],[\"Eukaryota\"],[\"Bacteria\"],[\"Metagenome\"],[\"Bacteria\"],[\"Metagenome\"],[\"Metagenome\"],[\"Metagenome\"],[\"Metagenome\"],[\"Metagenome\"],[\"Metagenome\"],[\"Metagenome\"],[\"Metagenome\"],[\"Metagenome\"],[\"Metagenome\"],[\"Metagenome\"],[\"Metagenome\"],[\"Metagenome\"],[\"Metagenome\"],[\"Metagenome\"],[\"Viruses\"],[\"Eukaryota\"],[\"Viruses\"],[\"unknown\"],[\"Metagenome\"],[\"Metagenome\"],[\"Metagenome\"],[\"Metagenome\"],[\"Viruses\"],[\"Metagenome\"],[\"Eukaryota\"],[\"Metagenome\"],[\"Eukaryota\"],[\"Eukaryota\"],[\"Eukaryota\"],[\"Metagenome\"],[\"Eukaryota\"],[\"Metagenome\"],[\"Bacteria\"],[\"Bacteria\"],[\"Bacteria\"],[\"Bacteria\"],[\"Eukaryota\"],[\"Viruses\"],[\"Viruses\"],[\"Bacteria\"],[\"Metagenome\"],[\"Bacteria\"],[\"Eukaryota\"],[\"Bacteria\"],[\"Metagenome\"],[\"Bacteria\"],[\"Bacteria\"],[\"Metagenome\"],[\"Bacteria\"],[\"Bacteria\"],[\"Metagenome\"],[\"Viruses\"],[\"Eukaryota\"],[\"Bacteria\"],[\"Bacteria\"],[\"Archaea\"],[\"Bacteria\"],[\"Bacteria\"],[\"Bacteria\"],[\"Bacteria\"],[\"Bacteria\"],[\"Bacteria\"],[\"Bacteria\"],[\"Bacteria\"],[\"Bacteria\"],[\"Bacteria\"],[\"Eukaryota\"],[\"Eukaryota\"],[\"Eukaryota\"],[\"Bacteria\"],[\"Archaea\"],[\"Bacteria\"],[\"Bacteria\"],[\"Bacteria\"],[\"Eukaryota\"],[\"Bacteria\"],[\"Archaea\"],[\"Bacteria\"],[\"Bacteria\"],[\"Archaea\"],[\"Archaea\"],[\"Archaea\"],[\"Bacteria\"],[\"Bacteria\"],[\"Bacteria\"],[\"Bacteria\"],[\"Bacteria\"],[\"Bacteria\"],[\"Archaea\"],[\"Bacteria\"],[\"Bacteria\"],[\"Archaea\"],[\"Bacteria\"],[\"Archaea\"],[\"Bacteria\"],[\"Bacteria\"],[\"Bacteria\"],[\"Bacteria\"],[\"Bacteria\"],[\"Archaea\"],[\"Bacteria\"],[\"Bacteria\"],[\"Bacteria\"],[\"Archaea\"],[\"Bacteria\"],[\"Bacteria\"],[\"Bacteria\"],[\"Bacteria\"],[\"Bacteria\"],[\"Bacteria\"],[\"Bacteria\"],[\"Bacteria\"],[\"Bacteria\"],[\"Eukaryota\"],[\"Bacteria\"],[\"Bacteria\"],[\"Bacteria\"],[\"Bacteria\"],[\"Bacteria\"],[\"Bacteria\"],[\"Bacteria\"],[\"Bacteria\"],[\"Eukaryota\"],[\"Eukaryota\"],[\"Eukaryota\"],[\"Bacteria\"],[\"Viruses\"],[\"Eukaryota\"],[\"Eukaryota\"],[\"Bacteria\"],[\"Eukaryota\"],[\"Bacteria\"],[\"Bacteria\"],[\"Archaea\"],[\"Bacteria\"],[\"Bacteria\"],[\"Bacteria\"],[\"Bacteria\"],[\"Bacteria\"],[\"Bacteria\"],[\"Bacteria\"],[\"Bacteria\"],[\"Eukaryota\"],[\"Bacteria\"],[\"Bacteria\"],[\"Bacteria\"],[\"Bacteria\"],[\"Eukaryota\"],[\"Bacteria\"],[\"Eukaryota\"],[\"Archaea\"],[\"Bacteria\"],[\"Bacteria\"],[\"Bacteria\"],[\"Bacteria\"],[\"Archaea\"],[\"Eukaryota\"],[\"Archaea\"],[\"Archaea\"],[\"Bacteria\"],[\"Bacteria\"],[\"Eukaryota\"],[\"Eukaryota\"],[\"Metagenome\"],[\"Metagenome\"],[\"Bacteria\"],[\"undef\"],[\"Bacteria\"],[\"Bacteria\"],[\"Eukaryota\"],[\"Bacteria\"],[\"Eukaryota\"],[\"Eukaryota\"],[\"Bacteria\"],[\"Bacteria\"],[\"Bacteria\"],[\"Bacteria\"],[\"Viruses\"],[\"Archaea\"],[\"Bacteria\"],[\"Bacteria\"],[\"Archaea\"],[\"Bacteria\"],[\"Eukaryota\"],[\"Eukaryota\"],[\"Bacteria\"],[\"Eukaryota\"],[\"Bacteria\"],[\"Bacteria\"],[\"Bacteria\"],[\"Bacteria\"],[\"Archaea\"],[\"Eukaryota\"],[\"Metagenome\"],[\"Bacteria\"],[\"Archaea\"],[\"Bacteria\"],[\"Bacteria\"],[\"Metagenome\"],[\"Bacteria\"],[\"Eukaryota\"],[\"Bacteria\"],[\"Bacteria\"],[\"Bacteria\"],[\"Bacteria\"],[\"Bacteria\"],[\"Bacteria\"],[\"Eukaryota\"],[\"Bacteria\"],[\"Bacteria\"],[\"Bacteria\"],[\"undef\"],[\"Archaea\"]],\"domain\":{\"x\":[0.0,1.0],\"y\":[0.0,1.0]},\"hovertemplate\":\"labels=%{label}\\u003cbr\\u003ecount=%{value}\\u003cbr\\u003eparent=%{parent}\\u003cbr\\u003eid=%{id}\\u003cbr\\u003esuperkingdom=%{customdata[0]}\\u003cextra\\u003e\\u003c\\u002fextra\\u003e\",\"ids\":[\"unknown\",\"Eukaryota\\u002funknown\\u002fForaminifera\",\"Eukaryota\\u002fMetazoa\\u002fTardigrada\",\"Viruses\\u002fPararnavirae\\u002fArtverviricota\",\"Bacteria\\u002funknown\\u002fThermomicrobiota\",\"Archaea\\u002funknown\\u002fThermoproteota\",\"Archaea\\u002funknown\\u002fCandidatus Korarchaeota\",\"Bacteria\\u002funknown\\u002fCandidatus Kapabacteria\",\"Eukaryota\\u002fMetazoa\\u002fEchinodermata\",\"Bacteria\\u002funknown\\u002fundef\",\"Metagenome\\u002fHost-associated\\u002funknown\",\"Metagenome\\u002fHost-associated, Mixed, Engineered\\u002funknown\",\"Bacteria\\u002funknown\\u002fCandidatus Falkowbacteria\",\"Bacteria\\u002funknown\\u002fCandidatus Eisenbacteria\",\"Metagenome\\u002fengineered\\u002funknown\",\"Bacteria\\u002funknown\\u002fCandidatus Desantisbacteria\",\"Bacteria\\u002funknown\\u002fCandidatus Curtissbacteria\",\"Bacteria\\u002funknown\\u002funknown\",\"Metagenome\\u002fHost-associated, Mixed, Environmental, Engineered\\u002funknown\",\"Bacteria\\u002funknown\\u002fPseudomonadota\",\"Viruses\\u002fBamfordvirae\\u002fPreplasmiviricota\",\"Bacteria\\u002funknown\\u002fCandidatus Blackburnbacteria\",\"Viruses\\u002fOrthornavirae\\u002fDuplornaviricota\",\"Eukaryota\\u002funknown\\u002fDiscosea\",\"undef\",\"Bacteria\\u002funknown\\u002fFusobacteria\",\"Bacteria\\u002funknown\\u002fChrysiogenota\",\"Eukaryota\\u002funknown\\u002fHaptophyta\",\"Eukaryota\\u002funknown\\u002fChlorophyta\",\"Archaea\\u002funknown\\u002fCandidatus Nanohaloarchaeota\",\"Eukaryota\\u002funknown\\u002fHeterolobosea\",\"Archaea\\u002funknown\\u002fCandidatus Undinarchaeota\",\"Archaea\\u002funknown\\u002fNitrososphaerota\",\"Bacteria\\u002funknown\\u002fNitrospinota\",\"Bacteria\\u002funknown\\u002fCandidatus Sungbacteria\",\"Bacteria\\u002funknown\\u002fCandidatus Staskawiczbacteria\",\"Eukaryota\\u002fMetazoa\\u002fOnychophora\",\"Eukaryota\\u002fViridiplantae\\u002fPrasinodermophyta\",\"Bacteria\\u002funknown\\u002fChlorobiota\",\"Bacteria\\u002funknown\\u002fCandidatus Binatota\",\"Bacteria\\u002funknown\\u002fCandidatus Kaiserbacteria\",\"Metagenome\\u002fEnvironmental, Engineered\",\"Metagenome\\u002fHost-associated, Mixed\",\"Metagenome\\u002fEnvironmental\",\"Viruses\\u002fShotokuvirae\",\"Metagenome\\u002fHost-associated, Mixed, Environmental\",\"Eukaryota\\u002fFungi\",\"Metagenome\\u002funknown, Host-associated\",\"Metagenome\\u002fMixed\",\"Archaea\",\"Bacteria\\u002funknown\\u002fElusimicrobiota\",\"Bacteria\\u002funknown\\u002fCandidatus Glassbacteria\",\"Bacteria\\u002funknown\\u002fCandidatus Gracilibacteria\",\"Bacteria\\u002funknown\\u002fIgnavibacteriota\",\"Bacteria\\u002funknown\\u002fCandidatus Peregrinibacteria\",\"Archaea\\u002funknown\\u002fundef\",\"Bacteria\\u002funknown\\u002fCandidatus Hydrogenedentes\",\"Bacteria\\u002funknown\\u002fMyxococcota\",\"Viruses\\u002fHeunggongvirae\\u002fUroviricota\",\"Bacteria\\u002funknown\\u002fAtribacterota\",\"Bacteria\\u002funknown\\u002fNitrospinae\",\"Eukaryota\\u002fMetazoa\\u002fRotifera\",\"Bacteria\\u002funknown\\u002fCandidatus Microgenomates\",\"Bacteria\\u002funknown\\u002fCandidatus Schekmanbacteria\",\"Eukaryota\\u002fMetazoa\\u002fPlacozoa\",\"Bacteria\\u002funknown\\u002fcandidate division Zixibacteria\",\"Eukaryota\\u002fMetazoa\\u002fHemichordata\",\"Bacteria\\u002funknown\\u002fCandidatus Poribacteria\",\"Metagenome\\u002fMixed, Environmental, Engineered\\u002funknown\",\"Bacteria\\u002funknown\\u002fCandidatus Fischerbacteria\",\"Bacteria\\u002funknown\\u002fCandidatus Daviesbacteria\",\"Eukaryota\\u002funknown\\u002fEuglenozoa\",\"Eukaryota\\u002fMetazoa\\u002fCnidaria\",\"Bacteria\\u002funknown\\u002fActinobacteria\",\"Eukaryota\\u002fMetazoa\\u002fDicyemida\",\"Bacteria\\u002funknown\\u002fFibrobacterota\",\"Eukaryota\\u002fFungi\\u002fChytridiomycota\",\"Bacteria\\u002funknown\\u002fAquificota\",\"Eukaryota\\u002funknown\\u002fOomycota\",\"Viruses\",\"Archaea\\u002funknown\\u002fEuryarchaeota\",\"Eukaryota\\u002funknown\",\"Bacteria\\u002funknown\",\"Bacteria\\u002funknown\\u002fNitrospirota\",\"Archaea\\u002funknown\",\"Eukaryota\\u002fMetazoa\\u002fPhoronida\",\"Eukaryota\\u002funknown\\u002fEndomyxa\",\"Metagenome\\u002fmixed\",\"Eukaryota\\u002funknown\\u002fPerkinsozoa\",\"Eukaryota\\u002funknown\\u002fEvosea\",\"Eukaryota\\u002funknown\\u002fParabasalia\",\"Metagenome\",\"Eukaryota\\u002fMetazoa\\u002fOrthonectida\",\"unknown\\u002funknown\",\"Eukaryota\\u002fMetazoa\\u002fNematoda\",\"Metagenome\\u002funknown\",\"Bacteria\\u002funknown\\u002fIgnavibacteriae\",\"Viruses\\u002funknown\",\"Bacteria\\u002funknown\\u002fGemmatimonadota\",\"Metagenome\\u002funknown, Host-associated, Engineered\",\"Bacteria\\u002funknown\\u002fKiritimatiellota\",\"Viruses\\u002fOrthornavirae\\u002fKitrinoviricota\",\"Bacteria\\u002funknown\\u002fFusobacteriota\",\"Bacteria\\u002funknown\\u002fLentisphaerota\",\"Bacteria\\u002funknown\\u002fMarinimicrobia\",\"Eukaryota\\u002funknown\\u002fFornicata\",\"Eukaryota\\u002fMetazoa\\u002fMollusca\",\"Eukaryota\\u002fFungi\\u002fMucoromycota\",\"Bacteria\\u002funknown\\u002fMycoplasmatota\",\"Eukaryota\",\"Archaea\\u002funknown\\u002fNanoarchaeota\",\"Eukaryota\\u002funknown\\u002fNebulidia\",\"Viruses\\u002fOrthornavirae\\u002fNegarnaviricota\",\"Eukaryota\\u002fMetazoa\\u002fNemertea\",\"Bacteria\\u002funknown\\u002fLentisphaerae\",\"Metagenome\\u002fEngineered\",\"Bacteria\\u002funknown\\u002fPlanctomycetes\",\"Metagenome\\u002fEnvironmental, Engineered\\u002funknown\",\"Metagenome\\u002fHost-associated, Engineered\\u002funknown\",\"Metagenome\\u002fHost-associated, Environmental\\u002funknown\",\"Metagenome\\u002fHost-associated, Environmental, Engineered\\u002funknown\",\"Metagenome\\u002fHost-associated, Mixed\\u002funknown\",\"Metagenome\\u002fHost-associated, Mixed, Engineered\",\"Metagenome\\u002fHost-associated, Mixed, Environmental\\u002funknown\",\"Metagenome\\u002fHost-associated, Environmental, Engineered\",\"Metagenome\\u002fHost-associated, Environmental\",\"Metagenome\\u002fMixed, Engineered\\u002funknown\",\"Metagenome\\u002fMixed, Environmental\\u002funknown\",\"Metagenome\\u002fEnvironmental\\u002funknown\",\"Metagenome\\u002fHost-associated, Engineered\",\"Metagenome\\u002fhost-associated\\u002funknown\",\"Metagenome\\u002fmixed\\u002funknown\",\"Viruses\\u002fHeunggongvirae\",\"Eukaryota\\u002funknown\\u002funknown\",\"Viruses\\u002funknown\\u002funknown\",\"unknown\\u002funknown\\u002funknown\",\"Metagenome\\u002funknown, Host-associated\\u002funknown\",\"Metagenome\\u002funknown, Host-associated, Engineered\\u002funknown\",\"Metagenome\\u002funknown, Mixed, Host-associated, Engineered\\u002funknown\",\"Metagenome\\u002funknown, Mixed, Host-associated, Engineered, Environmental\\u002funknown\",\"Viruses\\u002fBamfordvirae\",\"Metagenome\\u002fHost-associated\",\"Eukaryota\\u002funknown\\u002fPlacozoa\",\"Metagenome\\u002fEngineered\\u002funknown\",\"Eukaryota\\u002funknown\\u002fundef\",\"Eukaryota\\u002fMetazoa\\u002fPlatyhelminthes\",\"Eukaryota\\u002fMetazoa\\u002fPorifera\",\"Metagenome\\u002fhost-associated\",\"Eukaryota\\u002funknown\\u002fPreaxostyla\",\"Metagenome\\u002fengineered\",\"Bacteria\\u002funknown\\u002fProteobacteria\",\"Bacteria\\u002funknown\\u002fRhodothermota\",\"Bacteria\\u002funknown\\u002fSpirochaetes\",\"Bacteria\\u002funknown\\u002fSpirochaetota\",\"Eukaryota\\u002fViridiplantae\\u002fStreptophyta\",\"Viruses\\u002fPararnavirae\",\"Viruses\\u002funknown\\u002fundef\",\"Bacteria\\u002funknown\\u002fThermodesulfobacteriota\",\"Metagenome\\u002fMixed, Environmental, Engineered\",\"Bacteria\\u002funknown\\u002fVulcanimicrobiota\",\"Eukaryota\\u002fMetazoa\\u002fXenacoelomorpha\",\"Bacteria\\u002funknown\\u002fcandidate division CSSED10-310\",\"Metagenome\\u002fMixed, Environmental\",\"Bacteria\\u002funknown\\u002fcandidate division LCP-89\",\"Bacteria\\u002funknown\\u002fcandidate division NC10\",\"Metagenome\\u002fMixed, Engineered\",\"Bacteria\\u002funknown\\u002fcandidate division WOR-3\",\"Bacteria\\u002funknown\\u002fcandidate division WWE3\",\"Metagenome\\u002fHost-associated, Mixed, Environmental, Engineered\",\"Viruses\\u002fOrthornavirae\",\"Eukaryota\\u002fViridiplantae\",\"Bacteria\\u002funknown\\u002fAbditibacteriota\",\"Bacteria\\u002funknown\\u002fDictyoglomota\",\"Archaea\\u002funknown\\u002fCandidatus Huberarchaea\",\"Bacteria\\u002funknown\\u002fCandidatus Abyssubacteria\",\"Bacteria\\u002funknown\\u002fCandidatus Jacksonbacteria\",\"Bacteria\\u002funknown\\u002fCandidatus Kerfeldbacteria\",\"Bacteria\\u002funknown\\u002fCandidatus Komeilibacteria\",\"Bacteria\\u002funknown\\u002fCandidatus Kryptonia\",\"Bacteria\\u002funknown\\u002fCampylobacterota\",\"Bacteria\\u002funknown\\u002fCandidatus Kuenenbacteria\",\"Bacteria\\u002funknown\\u002fCandidatus Latescibacteria\",\"Bacteria\\u002funknown\\u002fCalditrichota\",\"Bacteria\\u002funknown\\u002fCaldisericota\",\"Eukaryota\\u002fMetazoa\\u002fBryozoa\",\"Eukaryota\\u002fMetazoa\\u002fBrachiopoda\",\"Eukaryota\\u002fFungi\\u002fBlastocladiomycota\",\"Bacteria\\u002funknown\\u002fCandidatus Lindowbacteria\",\"Archaea\\u002funknown\\u002fCandidatus Lokiarchaeota\",\"Bacteria\\u002funknown\\u002fCandidatus Magasanikbacteria\",\"Bacteria\\u002funknown\\u002fBdellovibrionota\",\"Bacteria\\u002funknown\\u002fCandidatus Margulisiibacteriota\",\"Eukaryota\\u002fFungi\\u002fBasidiomycota\",\"Bacteria\\u002funknown\\u002fCandidatus Marinimicrobia\",\"Archaea\\u002funknown\\u002fCandidatus Marsarchaeota\",\"Bacteria\\u002funknown\\u002fCandidatus Bipolaricaulota\",\"Bacteria\\u002funknown\\u002fCandidatus Adlerbacteria\",\"Archaea\\u002funknown\\u002fCandidatus Helarchaeota\",\"Archaea\\u002funknown\\u002fCandidatus Heimdallarchaeota\",\"Archaea\\u002funknown\\u002fCandidatus Aenigmarchaeota\",\"Bacteria\\u002funknown\\u002fCandidatus Chisholmbacteria\",\"Bacteria\\u002funknown\\u002fCandidatus Cloacimonadota\",\"Bacteria\\u002funknown\\u002fCandidatus Coatesbacteria\",\"Bacteria\\u002funknown\\u002fCandidatus Collierbacteria\",\"Bacteria\\u002funknown\\u002fCandidatus Berkelbacteria\",\"Bacteria\\u002funknown\\u002fCandidatus Cryosericota\",\"Archaea\\u002funknown\\u002fCandidatus Bathyarchaeota\",\"Bacteria\\u002funknown\\u002fCandidatus Dadabacteria\",\"Bacteria\\u002funknown\\u002fCandidatus Delongbacteria\",\"Archaea\\u002funknown\\u002fCandidatus Diapherotrites\",\"Bacteria\\u002funknown\\u002fCandidatus Dormibacteraeota\",\"Archaea\\u002funknown\\u002fCandidatus Micrarchaeota\",\"Bacteria\\u002funknown\\u002fCandidatus Azambacteria\",\"Bacteria\\u002funknown\\u002fCandidatus Aminicenantes\",\"Bacteria\\u002funknown\\u002fCandidatus Fervidibacteria\",\"Bacteria\\u002funknown\\u002fCandidatus Firestonebacteria\",\"Bacteria\\u002funknown\\u002fCandidatus Fraserbacteria\",\"Archaea\\u002funknown\\u002fCandidatus Geothermarchaeota\",\"Bacteria\\u002funknown\\u002fCandidatus Giovannonibacteria\",\"Bacteria\\u002funknown\\u002fCandidatus Goldbacteria\",\"Bacteria\\u002funknown\\u002fCandidatus Gottesmanbacteria\",\"Archaea\\u002funknown\\u002fCandidatus Altiarchaeota\",\"Bacteria\\u002funknown\\u002fCandidatus Aerophobetes\",\"Bacteria\\u002funknown\\u002fCandidatus Handelsmanbacteria\",\"Bacteria\\u002funknown\\u002fCandidatus Andersenbacteria\",\"Bacteria\\u002funknown\\u002fCandidatus Moduliflexota\",\"Bacteria\\u002funknown\\u002fCandidatus Melainabacteria\",\"Bacteria\\u002funknown\\u002fCandidatus Moranbacteria\",\"Bacteria\\u002funknown\\u002fCandidatus Wallbacteria\",\"Bacteria\\u002funknown\\u002fBalneolota\",\"Bacteria\\u002funknown\\u002fCandidatus Wirthbacteria\",\"Eukaryota\\u002funknown\\u002fApicomplexa\",\"Bacteria\\u002funknown\\u002fCandidatus Wolfebacteria\",\"Bacteria\\u002funknown\\u002fCandidatus Woykebacteria\",\"Bacteria\\u002funknown\\u002fCandidatus Yanofskybacteria\",\"Bacteria\\u002funknown\\u002fCandidatus Zambryskibacteria\",\"Bacteria\\u002funknown\\u002fChlamydiota\",\"Bacteria\\u002funknown\\u002fChlorobi\",\"Bacteria\\u002funknown\\u002fArmatimonadota\",\"Bacteria\\u002funknown\\u002fChloroflexota\",\"Eukaryota\\u002fMetazoa\\u002fChordata\",\"Eukaryota\\u002funknown\\u002fChordata\",\"Eukaryota\\u002funknown\\u002fCiliophora\",\"Bacteria\\u002funknown\\u002fCoprothermobacterota\",\"Viruses\\u002fShotokuvirae\\u002fCossaviricota\",\"Eukaryota\\u002fFungi\\u002fCryptomycota\",\"Eukaryota\\u002fMetazoa\\u002fCtenophora\",\"Bacteria\\u002funknown\\u002fCyanobacteria\",\"Eukaryota\\u002fMetazoa\\u002fAcanthocephala\",\"Bacteria\\u002funknown\\u002fDeferribacterota\",\"Bacteria\\u002funknown\\u002fActinomycetota\",\"Archaea\\u002funknown\\u002fCandidatus Verstraetearchaeota\",\"Bacteria\\u002funknown\\u002fCandidatus Wildermuthbacteria\",\"Bacteria\\u002funknown\\u002fCandidatus Buchananbacteria\",\"Bacteria\\u002funknown\\u002fCandidatus Paceibacterota\",\"Bacteria\\u002funknown\\u002fBacteroidetes\",\"Bacteria\\u002funknown\\u002fBacillota\",\"Bacteria\\u002funknown\\u002fCandidatus Portnoybacteria\",\"Bacteria\\u002funknown\\u002fCandidatus Raymondbacteria\",\"Bacteria\\u002funknown\\u002fCandidatus Riflebacteria\",\"Eukaryota\\u002fMetazoa\\u002fArthropoda\",\"Bacteria\\u002funknown\\u002fCandidatus Roizmanbacteria\",\"Bacteria\\u002funknown\\u002fCandidatus Rokubacteria\",\"Bacteria\\u002funknown\\u002fCandidatus Omnitrophota\",\"Bacteria\\u002funknown\\u002fCandidatus Ryanbacteria\",\"Eukaryota\\u002funknown\\u002fAscomycota\",\"Bacteria\\u002funknown\\u002fCandidatus Nomurabacteria\",\"Eukaryota\\u002fFungi\\u002fAscomycota\",\"Archaea\\u002funknown\\u002fCandidatus Nezhaarchaeota\",\"Bacteria\\u002funknown\\u002fBacteroidota\",\"Bacteria\\u002funknown\\u002fCandidatus Sumerlaeota\",\"Bacteria\\u002funknown\\u002fCandidatus Tectomicrobia\",\"Bacteria\\u002funknown\\u002fCandidatus Nealsonbacteria\",\"Archaea\\u002funknown\\u002fCandidatus Thorarchaeota\",\"Eukaryota\\u002funknown\\u002fBacillariophyta\",\"Archaea\\u002funknown\\u002fCandidatus Odinarchaeota\",\"Archaea\\u002funknown\\u002fCandidatus Hadarchaeota\",\"Bacteria\\u002funknown\\u002fAcidobacteriota\",\"Bacteria\\u002funknown\\u002fCandidatus Beckwithbacteria\",\"Eukaryota\\u002fMetazoa\",\"Eukaryota\\u002fMetazoa\\u002fAnnelida\",\"Metagenome\\u002funknown, Mixed, Host-associated, Engineered, Environmental\",\"Metagenome\\u002funknown, Mixed, Host-associated, Engineered\",\"Bacteria\\u002funknown\\u002fCandidatus Absconditabacteria\",\"undef\\u002funknown\",\"Bacteria\",\"Bacteria\\u002funknown\\u002fCandidatus Amesbacteria\",\"Eukaryota\\u002fMetazoa\\u002fEntoprocta\",\"Bacteria\\u002funknown\\u002fCandidatus Campbellbacteria\",\"Eukaryota\\u002funknown\\u002fRhodophyta\",\"Eukaryota\\u002fMetazoa\\u002fPriapulida\",\"Bacteria\\u002funknown\\u002fPlanctomycetota\",\"Bacteria\\u002funknown\\u002fCandidatus Parcubacteria\",\"Bacteria\\u002funknown\\u002fCandidatus Saccharibacteria\",\"Bacteria\\u002funknown\\u002fCandidatus Shapirobacteria\",\"Viruses\\u002fBamfordvirae\\u002fNucleocytoviricota\",\"Archaea\\u002funknown\\u002fCandidatus Thermoplasmatota\",\"Bacteria\\u002funknown\\u002fSynergistota\",\"Bacteria\\u002funknown\\u002fCandidatus Uhrbacteria\",\"Archaea\\u002funknown\\u002fCandidatus Woesearchaeota\",\"Bacteria\\u002funknown\\u002fCandidatus Woesebacteria\",\"Eukaryota\\u002fFungi\\u002fMicrosporidia\",\"Eukaryota\\u002funknown\\u002fCercozoa\",\"Bacteria\\u002funknown\\u002fChloroflexi\",\"Eukaryota\\u002fViridiplantae\\u002fChlorophyta\",\"Bacteria\\u002funknown\\u002fFirmicutes\",\"Bacteria\\u002funknown\\u002fCyanobacteriota\",\"Bacteria\\u002funknown\\u002fCandidatus Vogelbacteria\",\"Bacteria\\u002funknown\\u002fCandidatus Calescamantes\",\"Archaea\\u002funknown\\u002fThaumarchaeota\",\"Eukaryota\\u002funknown\\u002fTubulinea\",\"Metagenome\\u002funknown\\u002funknown\",\"Bacteria\\u002funknown\\u002fCandidatus Colwellbacteria\",\"Archaea\\u002funknown\\u002funknown\",\"Bacteria\\u002funknown\\u002fCandidatus Doudnabacteria\",\"Bacteria\\u002funknown\\u002fCandidatus Edwardsbacteria\",\"Metagenome\\u002fMixed\\u002funknown\",\"Bacteria\\u002funknown\\u002fCandidatus Fermentibacteria\",\"Eukaryota\\u002fFungi\\u002funknown\",\"Bacteria\\u002funknown\\u002fThermotogota\",\"Bacteria\\u002funknown\\u002fCandidatus Gribaldobacteria\",\"Bacteria\\u002funknown\\u002fCandidatus Hinthialibacterota\",\"Bacteria\\u002funknown\\u002fCandidatus Hydrothermae\",\"Bacteria\\u002funknown\\u002fDeinococcota\",\"Bacteria\\u002funknown\\u002fcandidate division CPR2\",\"Eukaryota\\u002fFungi\\u002fZoopagomycota\",\"Bacteria\\u002funknown\\u002fVerrucomicrobiota\",\"Bacteria\\u002funknown\\u002fVerrucomicrobia\",\"Bacteria\\u002funknown\\u002fCandidatus Levybacteria\",\"undef\\u002funknown\\u002fundef\",\"Archaea\\u002funknown\\u002fCandidatus Hydrothermarchaeota\"],\"labels\":[\"unknown\",\"Foraminifera\",\"Tardigrada\",\"Artverviricota\",\"Thermomicrobiota\",\"Thermoproteota\",\"Candidatus Korarchaeota\",\"Candidatus Kapabacteria\",\"Echinodermata\",\"undef\",\"unknown\",\"unknown\",\"Candidatus Falkowbacteria\",\"Candidatus Eisenbacteria\",\"unknown\",\"Candidatus Desantisbacteria\",\"Candidatus Curtissbacteria\",\"unknown\",\"unknown\",\"Pseudomonadota\",\"Preplasmiviricota\",\"Candidatus Blackburnbacteria\",\"Duplornaviricota\",\"Discosea\",\"undef\",\"Fusobacteria\",\"Chrysiogenota\",\"Haptophyta\",\"Chlorophyta\",\"Candidatus Nanohaloarchaeota\",\"Heterolobosea\",\"Candidatus Undinarchaeota\",\"Nitrososphaerota\",\"Nitrospinota\",\"Candidatus Sungbacteria\",\"Candidatus Staskawiczbacteria\",\"Onychophora\",\"Prasinodermophyta\",\"Chlorobiota\",\"Candidatus Binatota\",\"Candidatus Kaiserbacteria\",\"Environmental, Engineered\",\"Host-associated, Mixed\",\"Environmental\",\"Shotokuvirae\",\"Host-associated, Mixed, Environmental\",\"Fungi\",\"unknown, Host-associated\",\"Mixed\",\"Archaea\",\"Elusimicrobiota\",\"Candidatus Glassbacteria\",\"Candidatus Gracilibacteria\",\"Ignavibacteriota\",\"Candidatus Peregrinibacteria\",\"undef\",\"Candidatus Hydrogenedentes\",\"Myxococcota\",\"Uroviricota\",\"Atribacterota\",\"Nitrospinae\",\"Rotifera\",\"Candidatus Microgenomates\",\"Candidatus Schekmanbacteria\",\"Placozoa\",\"candidate division Zixibacteria\",\"Hemichordata\",\"Candidatus Poribacteria\",\"unknown\",\"Candidatus Fischerbacteria\",\"Candidatus Daviesbacteria\",\"Euglenozoa\",\"Cnidaria\",\"Actinobacteria\",\"Dicyemida\",\"Fibrobacterota\",\"Chytridiomycota\",\"Aquificota\",\"Oomycota\",\"Viruses\",\"Euryarchaeota\",\"unknown\",\"unknown\",\"Nitrospirota\",\"unknown\",\"Phoronida\",\"Endomyxa\",\"mixed\",\"Perkinsozoa\",\"Evosea\",\"Parabasalia\",\"Metagenome\",\"Orthonectida\",\"unknown\",\"Nematoda\",\"unknown\",\"Ignavibacteriae\",\"unknown\",\"Gemmatimonadota\",\"unknown, Host-associated, Engineered\",\"Kiritimatiellota\",\"Kitrinoviricota\",\"Fusobacteriota\",\"Lentisphaerota\",\"Marinimicrobia\",\"Fornicata\",\"Mollusca\",\"Mucoromycota\",\"Mycoplasmatota\",\"Eukaryota\",\"Nanoarchaeota\",\"Nebulidia\",\"Negarnaviricota\",\"Nemertea\",\"Lentisphaerae\",\"Engineered\",\"Planctomycetes\",\"unknown\",\"unknown\",\"unknown\",\"unknown\",\"unknown\",\"Host-associated, Mixed, Engineered\",\"unknown\",\"Host-associated, Environmental, Engineered\",\"Host-associated, Environmental\",\"unknown\",\"unknown\",\"unknown\",\"Host-associated, Engineered\",\"unknown\",\"unknown\",\"Heunggongvirae\",\"unknown\",\"unknown\",\"unknown\",\"unknown\",\"unknown\",\"unknown\",\"unknown\",\"Bamfordvirae\",\"Host-associated\",\"Placozoa\",\"unknown\",\"undef\",\"Platyhelminthes\",\"Porifera\",\"host-associated\",\"Preaxostyla\",\"engineered\",\"Proteobacteria\",\"Rhodothermota\",\"Spirochaetes\",\"Spirochaetota\",\"Streptophyta\",\"Pararnavirae\",\"undef\",\"Thermodesulfobacteriota\",\"Mixed, Environmental, Engineered\",\"Vulcanimicrobiota\",\"Xenacoelomorpha\",\"candidate division CSSED10-310\",\"Mixed, Environmental\",\"candidate division LCP-89\",\"candidate division NC10\",\"Mixed, Engineered\",\"candidate division WOR-3\",\"candidate division WWE3\",\"Host-associated, Mixed, Environmental, Engineered\",\"Orthornavirae\",\"Viridiplantae\",\"Abditibacteriota\",\"Dictyoglomota\",\"Candidatus Huberarchaea\",\"Candidatus Abyssubacteria\",\"Candidatus Jacksonbacteria\",\"Candidatus Kerfeldbacteria\",\"Candidatus Komeilibacteria\",\"Candidatus Kryptonia\",\"Campylobacterota\",\"Candidatus Kuenenbacteria\",\"Candidatus Latescibacteria\",\"Calditrichota\",\"Caldisericota\",\"Bryozoa\",\"Brachiopoda\",\"Blastocladiomycota\",\"Candidatus Lindowbacteria\",\"Candidatus Lokiarchaeota\",\"Candidatus Magasanikbacteria\",\"Bdellovibrionota\",\"Candidatus Margulisiibacteriota\",\"Basidiomycota\",\"Candidatus Marinimicrobia\",\"Candidatus Marsarchaeota\",\"Candidatus Bipolaricaulota\",\"Candidatus Adlerbacteria\",\"Candidatus Helarchaeota\",\"Candidatus Heimdallarchaeota\",\"Candidatus Aenigmarchaeota\",\"Candidatus Chisholmbacteria\",\"Candidatus Cloacimonadota\",\"Candidatus Coatesbacteria\",\"Candidatus Collierbacteria\",\"Candidatus Berkelbacteria\",\"Candidatus Cryosericota\",\"Candidatus Bathyarchaeota\",\"Candidatus Dadabacteria\",\"Candidatus Delongbacteria\",\"Candidatus Diapherotrites\",\"Candidatus Dormibacteraeota\",\"Candidatus Micrarchaeota\",\"Candidatus Azambacteria\",\"Candidatus Aminicenantes\",\"Candidatus Fervidibacteria\",\"Candidatus Firestonebacteria\",\"Candidatus Fraserbacteria\",\"Candidatus Geothermarchaeota\",\"Candidatus Giovannonibacteria\",\"Candidatus Goldbacteria\",\"Candidatus Gottesmanbacteria\",\"Candidatus Altiarchaeota\",\"Candidatus Aerophobetes\",\"Candidatus Handelsmanbacteria\",\"Candidatus Andersenbacteria\",\"Candidatus Moduliflexota\",\"Candidatus Melainabacteria\",\"Candidatus Moranbacteria\",\"Candidatus Wallbacteria\",\"Balneolota\",\"Candidatus Wirthbacteria\",\"Apicomplexa\",\"Candidatus Wolfebacteria\",\"Candidatus Woykebacteria\",\"Candidatus Yanofskybacteria\",\"Candidatus Zambryskibacteria\",\"Chlamydiota\",\"Chlorobi\",\"Armatimonadota\",\"Chloroflexota\",\"Chordata\",\"Chordata\",\"Ciliophora\",\"Coprothermobacterota\",\"Cossaviricota\",\"Cryptomycota\",\"Ctenophora\",\"Cyanobacteria\",\"Acanthocephala\",\"Deferribacterota\",\"Actinomycetota\",\"Candidatus Verstraetearchaeota\",\"Candidatus Wildermuthbacteria\",\"Candidatus Buchananbacteria\",\"Candidatus Paceibacterota\",\"Bacteroidetes\",\"Bacillota\",\"Candidatus Portnoybacteria\",\"Candidatus Raymondbacteria\",\"Candidatus Riflebacteria\",\"Arthropoda\",\"Candidatus Roizmanbacteria\",\"Candidatus Rokubacteria\",\"Candidatus Omnitrophota\",\"Candidatus Ryanbacteria\",\"Ascomycota\",\"Candidatus Nomurabacteria\",\"Ascomycota\",\"Candidatus Nezhaarchaeota\",\"Bacteroidota\",\"Candidatus Sumerlaeota\",\"Candidatus Tectomicrobia\",\"Candidatus Nealsonbacteria\",\"Candidatus Thorarchaeota\",\"Bacillariophyta\",\"Candidatus Odinarchaeota\",\"Candidatus Hadarchaeota\",\"Acidobacteriota\",\"Candidatus Beckwithbacteria\",\"Metazoa\",\"Annelida\",\"unknown, Mixed, Host-associated, Engineered, Environmental\",\"unknown, Mixed, Host-associated, Engineered\",\"Candidatus Absconditabacteria\",\"unknown\",\"Bacteria\",\"Candidatus Amesbacteria\",\"Entoprocta\",\"Candidatus Campbellbacteria\",\"Rhodophyta\",\"Priapulida\",\"Planctomycetota\",\"Candidatus Parcubacteria\",\"Candidatus Saccharibacteria\",\"Candidatus Shapirobacteria\",\"Nucleocytoviricota\",\"Candidatus Thermoplasmatota\",\"Synergistota\",\"Candidatus Uhrbacteria\",\"Candidatus Woesearchaeota\",\"Candidatus Woesebacteria\",\"Microsporidia\",\"Cercozoa\",\"Chloroflexi\",\"Chlorophyta\",\"Firmicutes\",\"Cyanobacteriota\",\"Candidatus Vogelbacteria\",\"Candidatus Calescamantes\",\"Thaumarchaeota\",\"Tubulinea\",\"unknown\",\"Candidatus Colwellbacteria\",\"unknown\",\"Candidatus Doudnabacteria\",\"Candidatus Edwardsbacteria\",\"unknown\",\"Candidatus Fermentibacteria\",\"unknown\",\"Thermotogota\",\"Candidatus Gribaldobacteria\",\"Candidatus Hinthialibacterota\",\"Candidatus Hydrothermae\",\"Deinococcota\",\"candidate division CPR2\",\"Zoopagomycota\",\"Verrucomicrobiota\",\"Verrucomicrobia\",\"Candidatus Levybacteria\",\"undef\",\"Candidatus Hydrothermarchaeota\"],\"marker\":{\"colors\":[\"#C3CAD7\",\"#FF9536\",\"#FF9536\",\"#D2EDE0\",\"#995FBC\",\"#2E2D97\",\"#2E2D97\",\"#995FBC\",\"#FF9536\",\"#995FBC\",\"#BF8F6B\",\"#BF8F6B\",\"#995FBC\",\"#995FBC\",\"#BF8F6B\",\"#995FBC\",\"#995FBC\",\"#995FBC\",\"#BF8F6B\",\"#995FBC\",\"#D2EDE0\",\"#995FBC\",\"#D2EDE0\",\"#FF9536\",\"#C3CAD7\",\"#995FBC\",\"#995FBC\",\"#FF9536\",\"#FF9536\",\"#2E2D97\",\"#FF9536\",\"#2E2D97\",\"#2E2D97\",\"#995FBC\",\"#995FBC\",\"#995FBC\",\"#FF9536\",\"#FF9536\",\"#995FBC\",\"#995FBC\",\"#995FBC\",\"#BF8F6B\",\"#BF8F6B\",\"#BF8F6B\",\"#D2EDE0\",\"#BF8F6B\",\"#FF9536\",\"#BF8F6B\",\"#BF8F6B\",\"#2E2D97\",\"#995FBC\",\"#995FBC\",\"#995FBC\",\"#995FBC\",\"#995FBC\",\"#2E2D97\",\"#995FBC\",\"#995FBC\",\"#D2EDE0\",\"#995FBC\",\"#995FBC\",\"#FF9536\",\"#995FBC\",\"#995FBC\",\"#FF9536\",\"#995FBC\",\"#FF9536\",\"#995FBC\",\"#BF8F6B\",\"#995FBC\",\"#995FBC\",\"#FF9536\",\"#FF9536\",\"#995FBC\",\"#FF9536\",\"#995FBC\",\"#FF9536\",\"#995FBC\",\"#FF9536\",\"#D2EDE0\",\"#2E2D97\",\"#FF9536\",\"#995FBC\",\"#995FBC\",\"#2E2D97\",\"#FF9536\",\"#FF9536\",\"#BF8F6B\",\"#FF9536\",\"#FF9536\",\"#FF9536\",\"#BF8F6B\",\"#FF9536\",\"#C3CAD7\",\"#FF9536\",\"#BF8F6B\",\"#995FBC\",\"#D2EDE0\",\"#995FBC\",\"#BF8F6B\",\"#995FBC\",\"#D2EDE0\",\"#995FBC\",\"#995FBC\",\"#995FBC\",\"#FF9536\",\"#FF9536\",\"#FF9536\",\"#995FBC\",\"#FF9536\",\"#2E2D97\",\"#FF9536\",\"#D2EDE0\",\"#FF9536\",\"#995FBC\",\"#BF8F6B\",\"#995FBC\",\"#BF8F6B\",\"#BF8F6B\",\"#BF8F6B\",\"#BF8F6B\",\"#BF8F6B\",\"#BF8F6B\",\"#BF8F6B\",\"#BF8F6B\",\"#BF8F6B\",\"#BF8F6B\",\"#BF8F6B\",\"#BF8F6B\",\"#BF8F6B\",\"#BF8F6B\",\"#BF8F6B\",\"#D2EDE0\",\"#FF9536\",\"#D2EDE0\",\"#C3CAD7\",\"#BF8F6B\",\"#BF8F6B\",\"#BF8F6B\",\"#BF8F6B\",\"#D2EDE0\",\"#BF8F6B\",\"#FF9536\",\"#BF8F6B\",\"#FF9536\",\"#FF9536\",\"#FF9536\",\"#BF8F6B\",\"#FF9536\",\"#BF8F6B\",\"#995FBC\",\"#995FBC\",\"#995FBC\",\"#995FBC\",\"#FF9536\",\"#D2EDE0\",\"#D2EDE0\",\"#995FBC\",\"#BF8F6B\",\"#995FBC\",\"#FF9536\",\"#995FBC\",\"#BF8F6B\",\"#995FBC\",\"#995FBC\",\"#BF8F6B\",\"#995FBC\",\"#995FBC\",\"#BF8F6B\",\"#D2EDE0\",\"#FF9536\",\"#995FBC\",\"#995FBC\",\"#2E2D97\",\"#995FBC\",\"#995FBC\",\"#995FBC\",\"#995FBC\",\"#995FBC\",\"#995FBC\",\"#995FBC\",\"#995FBC\",\"#995FBC\",\"#995FBC\",\"#FF9536\",\"#FF9536\",\"#FF9536\",\"#995FBC\",\"#2E2D97\",\"#995FBC\",\"#995FBC\",\"#995FBC\",\"#FF9536\",\"#995FBC\",\"#2E2D97\",\"#995FBC\",\"#995FBC\",\"#2E2D97\",\"#2E2D97\",\"#2E2D97\",\"#995FBC\",\"#995FBC\",\"#995FBC\",\"#995FBC\",\"#995FBC\",\"#995FBC\",\"#2E2D97\",\"#995FBC\",\"#995FBC\",\"#2E2D97\",\"#995FBC\",\"#2E2D97\",\"#995FBC\",\"#995FBC\",\"#995FBC\",\"#995FBC\",\"#995FBC\",\"#2E2D97\",\"#995FBC\",\"#995FBC\",\"#995FBC\",\"#2E2D97\",\"#995FBC\",\"#995FBC\",\"#995FBC\",\"#995FBC\",\"#995FBC\",\"#995FBC\",\"#995FBC\",\"#995FBC\",\"#995FBC\",\"#FF9536\",\"#995FBC\",\"#995FBC\",\"#995FBC\",\"#995FBC\",\"#995FBC\",\"#995FBC\",\"#995FBC\",\"#995FBC\",\"#FF9536\",\"#FF9536\",\"#FF9536\",\"#995FBC\",\"#D2EDE0\",\"#FF9536\",\"#FF9536\",\"#995FBC\",\"#FF9536\",\"#995FBC\",\"#995FBC\",\"#2E2D97\",\"#995FBC\",\"#995FBC\",\"#995FBC\",\"#995FBC\",\"#995FBC\",\"#995FBC\",\"#995FBC\",\"#995FBC\",\"#FF9536\",\"#995FBC\",\"#995FBC\",\"#995FBC\",\"#995FBC\",\"#FF9536\",\"#995FBC\",\"#FF9536\",\"#2E2D97\",\"#995FBC\",\"#995FBC\",\"#995FBC\",\"#995FBC\",\"#2E2D97\",\"#FF9536\",\"#2E2D97\",\"#2E2D97\",\"#995FBC\",\"#995FBC\",\"#FF9536\",\"#FF9536\",\"#BF8F6B\",\"#BF8F6B\",\"#995FBC\",\"#C3CAD7\",\"#995FBC\",\"#995FBC\",\"#FF9536\",\"#995FBC\",\"#FF9536\",\"#FF9536\",\"#995FBC\",\"#995FBC\",\"#995FBC\",\"#995FBC\",\"#D2EDE0\",\"#2E2D97\",\"#995FBC\",\"#995FBC\",\"#2E2D97\",\"#995FBC\",\"#FF9536\",\"#FF9536\",\"#995FBC\",\"#FF9536\",\"#995FBC\",\"#995FBC\",\"#995FBC\",\"#995FBC\",\"#2E2D97\",\"#FF9536\",\"#BF8F6B\",\"#995FBC\",\"#2E2D97\",\"#995FBC\",\"#995FBC\",\"#BF8F6B\",\"#995FBC\",\"#FF9536\",\"#995FBC\",\"#995FBC\",\"#995FBC\",\"#995FBC\",\"#995FBC\",\"#995FBC\",\"#FF9536\",\"#995FBC\",\"#995FBC\",\"#995FBC\",\"#C3CAD7\",\"#2E2D97\"]},\"name\":\"\",\"parents\":[\"\",\"Eukaryota\\u002funknown\",\"Eukaryota\\u002fMetazoa\",\"Viruses\\u002fPararnavirae\",\"Bacteria\\u002funknown\",\"Archaea\\u002funknown\",\"Archaea\\u002funknown\",\"Bacteria\\u002funknown\",\"Eukaryota\\u002fMetazoa\",\"Bacteria\\u002funknown\",\"Metagenome\\u002fHost-associated\",\"Metagenome\\u002fHost-associated, Mixed, Engineered\",\"Bacteria\\u002funknown\",\"Bacteria\\u002funknown\",\"Metagenome\\u002fengineered\",\"Bacteria\\u002funknown\",\"Bacteria\\u002funknown\",\"Bacteria\\u002funknown\",\"Metagenome\\u002fHost-associated, Mixed, Environmental, Engineered\",\"Bacteria\\u002funknown\",\"Viruses\\u002fBamfordvirae\",\"Bacteria\\u002funknown\",\"Viruses\\u002fOrthornavirae\",\"Eukaryota\\u002funknown\",\"\",\"Bacteria\\u002funknown\",\"Bacteria\\u002funknown\",\"Eukaryota\\u002funknown\",\"Eukaryota\\u002funknown\",\"Archaea\\u002funknown\",\"Eukaryota\\u002funknown\",\"Archaea\\u002funknown\",\"Archaea\\u002funknown\",\"Bacteria\\u002funknown\",\"Bacteria\\u002funknown\",\"Bacteria\\u002funknown\",\"Eukaryota\\u002fMetazoa\",\"Eukaryota\\u002fViridiplantae\",\"Bacteria\\u002funknown\",\"Bacteria\\u002funknown\",\"Bacteria\\u002funknown\",\"Metagenome\",\"Metagenome\",\"Metagenome\",\"Viruses\",\"Metagenome\",\"Eukaryota\",\"Metagenome\",\"Metagenome\",\"\",\"Bacteria\\u002funknown\",\"Bacteria\\u002funknown\",\"Bacteria\\u002funknown\",\"Bacteria\\u002funknown\",\"Bacteria\\u002funknown\",\"Archaea\\u002funknown\",\"Bacteria\\u002funknown\",\"Bacteria\\u002funknown\",\"Viruses\\u002fHeunggongvirae\",\"Bacteria\\u002funknown\",\"Bacteria\\u002funknown\",\"Eukaryota\\u002fMetazoa\",\"Bacteria\\u002funknown\",\"Bacteria\\u002funknown\",\"Eukaryota\\u002fMetazoa\",\"Bacteria\\u002funknown\",\"Eukaryota\\u002fMetazoa\",\"Bacteria\\u002funknown\",\"Metagenome\\u002fMixed, Environmental, Engineered\",\"Bacteria\\u002funknown\",\"Bacteria\\u002funknown\",\"Eukaryota\\u002funknown\",\"Eukaryota\\u002fMetazoa\",\"Bacteria\\u002funknown\",\"Eukaryota\\u002fMetazoa\",\"Bacteria\\u002funknown\",\"Eukaryota\\u002fFungi\",\"Bacteria\\u002funknown\",\"Eukaryota\\u002funknown\",\"\",\"Archaea\\u002funknown\",\"Eukaryota\",\"Bacteria\",\"Bacteria\\u002funknown\",\"Archaea\",\"Eukaryota\\u002fMetazoa\",\"Eukaryota\\u002funknown\",\"Metagenome\",\"Eukaryota\\u002funknown\",\"Eukaryota\\u002funknown\",\"Eukaryota\\u002funknown\",\"\",\"Eukaryota\\u002fMetazoa\",\"unknown\",\"Eukaryota\\u002fMetazoa\",\"Metagenome\",\"Bacteria\\u002funknown\",\"Viruses\",\"Bacteria\\u002funknown\",\"Metagenome\",\"Bacteria\\u002funknown\",\"Viruses\\u002fOrthornavirae\",\"Bacteria\\u002funknown\",\"Bacteria\\u002funknown\",\"Bacteria\\u002funknown\",\"Eukaryota\\u002funknown\",\"Eukaryota\\u002fMetazoa\",\"Eukaryota\\u002fFungi\",\"Bacteria\\u002funknown\",\"\",\"Archaea\\u002funknown\",\"Eukaryota\\u002funknown\",\"Viruses\\u002fOrthornavirae\",\"Eukaryota\\u002fMetazoa\",\"Bacteria\\u002funknown\",\"Metagenome\",\"Bacteria\\u002funknown\",\"Metagenome\\u002fEnvironmental, Engineered\",\"Metagenome\\u002fHost-associated, Engineered\",\"Metagenome\\u002fHost-associated, Environmental\",\"Metagenome\\u002fHost-associated, Environmental, Engineered\",\"Metagenome\\u002fHost-associated, Mixed\",\"Metagenome\",\"Metagenome\\u002fHost-associated, Mixed, Environmental\",\"Metagenome\",\"Metagenome\",\"Metagenome\\u002fMixed, Engineered\",\"Metagenome\\u002fMixed, Environmental\",\"Metagenome\\u002fEnvironmental\",\"Metagenome\",\"Metagenome\\u002fhost-associated\",\"Metagenome\\u002fmixed\",\"Viruses\",\"Eukaryota\\u002funknown\",\"Viruses\\u002funknown\",\"unknown\\u002funknown\",\"Metagenome\\u002funknown, Host-associated\",\"Metagenome\\u002funknown, Host-associated, Engineered\",\"Metagenome\\u002funknown, Mixed, Host-associated, Engineered\",\"Metagenome\\u002funknown, Mixed, Host-associated, Engineered, Environmental\",\"Viruses\",\"Metagenome\",\"Eukaryota\\u002funknown\",\"Metagenome\\u002fEngineered\",\"Eukaryota\\u002funknown\",\"Eukaryota\\u002fMetazoa\",\"Eukaryota\\u002fMetazoa\",\"Metagenome\",\"Eukaryota\\u002funknown\",\"Metagenome\",\"Bacteria\\u002funknown\",\"Bacteria\\u002funknown\",\"Bacteria\\u002funknown\",\"Bacteria\\u002funknown\",\"Eukaryota\\u002fViridiplantae\",\"Viruses\",\"Viruses\\u002funknown\",\"Bacteria\\u002funknown\",\"Metagenome\",\"Bacteria\\u002funknown\",\"Eukaryota\\u002fMetazoa\",\"Bacteria\\u002funknown\",\"Metagenome\",\"Bacteria\\u002funknown\",\"Bacteria\\u002funknown\",\"Metagenome\",\"Bacteria\\u002funknown\",\"Bacteria\\u002funknown\",\"Metagenome\",\"Viruses\",\"Eukaryota\",\"Bacteria\\u002funknown\",\"Bacteria\\u002funknown\",\"Archaea\\u002funknown\",\"Bacteria\\u002funknown\",\"Bacteria\\u002funknown\",\"Bacteria\\u002funknown\",\"Bacteria\\u002funknown\",\"Bacteria\\u002funknown\",\"Bacteria\\u002funknown\",\"Bacteria\\u002funknown\",\"Bacteria\\u002funknown\",\"Bacteria\\u002funknown\",\"Bacteria\\u002funknown\",\"Eukaryota\\u002fMetazoa\",\"Eukaryota\\u002fMetazoa\",\"Eukaryota\\u002fFungi\",\"Bacteria\\u002funknown\",\"Archaea\\u002funknown\",\"Bacteria\\u002funknown\",\"Bacteria\\u002funknown\",\"Bacteria\\u002funknown\",\"Eukaryota\\u002fFungi\",\"Bacteria\\u002funknown\",\"Archaea\\u002funknown\",\"Bacteria\\u002funknown\",\"Bacteria\\u002funknown\",\"Archaea\\u002funknown\",\"Archaea\\u002funknown\",\"Archaea\\u002funknown\",\"Bacteria\\u002funknown\",\"Bacteria\\u002funknown\",\"Bacteria\\u002funknown\",\"Bacteria\\u002funknown\",\"Bacteria\\u002funknown\",\"Bacteria\\u002funknown\",\"Archaea\\u002funknown\",\"Bacteria\\u002funknown\",\"Bacteria\\u002funknown\",\"Archaea\\u002funknown\",\"Bacteria\\u002funknown\",\"Archaea\\u002funknown\",\"Bacteria\\u002funknown\",\"Bacteria\\u002funknown\",\"Bacteria\\u002funknown\",\"Bacteria\\u002funknown\",\"Bacteria\\u002funknown\",\"Archaea\\u002funknown\",\"Bacteria\\u002funknown\",\"Bacteria\\u002funknown\",\"Bacteria\\u002funknown\",\"Archaea\\u002funknown\",\"Bacteria\\u002funknown\",\"Bacteria\\u002funknown\",\"Bacteria\\u002funknown\",\"Bacteria\\u002funknown\",\"Bacteria\\u002funknown\",\"Bacteria\\u002funknown\",\"Bacteria\\u002funknown\",\"Bacteria\\u002funknown\",\"Bacteria\\u002funknown\",\"Eukaryota\\u002funknown\",\"Bacteria\\u002funknown\",\"Bacteria\\u002funknown\",\"Bacteria\\u002funknown\",\"Bacteria\\u002funknown\",\"Bacteria\\u002funknown\",\"Bacteria\\u002funknown\",\"Bacteria\\u002funknown\",\"Bacteria\\u002funknown\",\"Eukaryota\\u002fMetazoa\",\"Eukaryota\\u002funknown\",\"Eukaryota\\u002funknown\",\"Bacteria\\u002funknown\",\"Viruses\\u002fShotokuvirae\",\"Eukaryota\\u002fFungi\",\"Eukaryota\\u002fMetazoa\",\"Bacteria\\u002funknown\",\"Eukaryota\\u002fMetazoa\",\"Bacteria\\u002funknown\",\"Bacteria\\u002funknown\",\"Archaea\\u002funknown\",\"Bacteria\\u002funknown\",\"Bacteria\\u002funknown\",\"Bacteria\\u002funknown\",\"Bacteria\\u002funknown\",\"Bacteria\\u002funknown\",\"Bacteria\\u002funknown\",\"Bacteria\\u002funknown\",\"Bacteria\\u002funknown\",\"Eukaryota\\u002fMetazoa\",\"Bacteria\\u002funknown\",\"Bacteria\\u002funknown\",\"Bacteria\\u002funknown\",\"Bacteria\\u002funknown\",\"Eukaryota\\u002funknown\",\"Bacteria\\u002funknown\",\"Eukaryota\\u002fFungi\",\"Archaea\\u002funknown\",\"Bacteria\\u002funknown\",\"Bacteria\\u002funknown\",\"Bacteria\\u002funknown\",\"Bacteria\\u002funknown\",\"Archaea\\u002funknown\",\"Eukaryota\\u002funknown\",\"Archaea\\u002funknown\",\"Archaea\\u002funknown\",\"Bacteria\\u002funknown\",\"Bacteria\\u002funknown\",\"Eukaryota\",\"Eukaryota\\u002fMetazoa\",\"Metagenome\",\"Metagenome\",\"Bacteria\\u002funknown\",\"undef\",\"\",\"Bacteria\\u002funknown\",\"Eukaryota\\u002fMetazoa\",\"Bacteria\\u002funknown\",\"Eukaryota\\u002funknown\",\"Eukaryota\\u002fMetazoa\",\"Bacteria\\u002funknown\",\"Bacteria\\u002funknown\",\"Bacteria\\u002funknown\",\"Bacteria\\u002funknown\",\"Viruses\\u002fBamfordvirae\",\"Archaea\\u002funknown\",\"Bacteria\\u002funknown\",\"Bacteria\\u002funknown\",\"Archaea\\u002funknown\",\"Bacteria\\u002funknown\",\"Eukaryota\\u002fFungi\",\"Eukaryota\\u002funknown\",\"Bacteria\\u002funknown\",\"Eukaryota\\u002fViridiplantae\",\"Bacteria\\u002funknown\",\"Bacteria\\u002funknown\",\"Bacteria\\u002funknown\",\"Bacteria\\u002funknown\",\"Archaea\\u002funknown\",\"Eukaryota\\u002funknown\",\"Metagenome\\u002funknown\",\"Bacteria\\u002funknown\",\"Archaea\\u002funknown\",\"Bacteria\\u002funknown\",\"Bacteria\\u002funknown\",\"Metagenome\\u002fMixed\",\"Bacteria\\u002funknown\",\"Eukaryota\\u002fFungi\",\"Bacteria\\u002funknown\",\"Bacteria\\u002funknown\",\"Bacteria\\u002funknown\",\"Bacteria\\u002funknown\",\"Bacteria\\u002funknown\",\"Bacteria\\u002funknown\",\"Eukaryota\\u002fFungi\",\"Bacteria\\u002funknown\",\"Bacteria\\u002funknown\",\"Bacteria\\u002funknown\",\"undef\\u002funknown\",\"Archaea\\u002funknown\"],\"values\":[40738,83,39,17,95,413,20,48,211,80,52389,60,4,43,658,8,28,2161,14,52350,2,6,2,72,215,1,11,708,2,2,59,7,350,166,2,4,20,17,280,12,7,282,359,209441,3,5,21751,5,5813,7529,187,12,5,366,6,3,44,1651,7,11,1,323,12,9,15,114,22,149,15,3,16,242,551,9,5,163,134,86,284,86,4838,6046,184709,533,7529,9,10,4,11,320,10,315123,1,40738,852,22901,2,42,704,2,14,4,77,148,1,8,724,684,15,134071,19,4,5,3,1,22286,10,282,302,64,27,359,60,5,27,64,246,8,209441,302,237,4,7,1937,3,40738,5,2,3,2,6,52389,1,22286,13,382,89,237,4,658,263,173,2,1049,79863,17,39,1201,15,64,18,7,8,3,46,246,16,17,14,11,81020,10,10,2,2,1,3,2,22,4521,1,66,83,8,24,10,43,8,72,17,333,14,5973,435,5,48,1,6,35,64,2,21,12,37,3,1,383,32,9,26,26,87,1,69,2,9,2,7,2,2,19,41,9,9,1,4,60,63,5,134,1,243,2,25,2,2,37,1,225,3935,7616,2,110,1,3,3,37,27,1,30,64554,23,8,4,3,45,16631,7,4,18,14102,25,108,193,10,2,12,14785,1,18068,41,36,10,62,1099,2,35,1687,5,25254,177,2,3,1,215,184709,14,17,3,724,6,4037,20,45,27,4,809,59,5,55,67,13,92,2,1140,4,3713,1,2,3,6,22901,1,154,6,3,5813,1,8,47,1,4,1,608,5,108,1640,6,14,215,5],\"type\":\"sunburst\"}],                        {\"template\":{\"data\":{\"histogram2dcontour\":[{\"type\":\"histogram2dcontour\",\"colorbar\":{\"outlinewidth\":0,\"ticks\":\"\"},\"colorscale\":[[0.0,\"#0d0887\"],[0.1111111111111111,\"#46039f\"],[0.2222222222222222,\"#7201a8\"],[0.3333333333333333,\"#9c179e\"],[0.4444444444444444,\"#bd3786\"],[0.5555555555555556,\"#d8576b\"],[0.6666666666666666,\"#ed7953\"],[0.7777777777777778,\"#fb9f3a\"],[0.8888888888888888,\"#fdca26\"],[1.0,\"#f0f921\"]]}],\"choropleth\":[{\"type\":\"choropleth\",\"colorbar\":{\"outlinewidth\":0,\"ticks\":\"\"}}],\"histogram2d\":[{\"type\":\"histogram2d\",\"colorbar\":{\"outlinewidth\":0,\"ticks\":\"\"},\"colorscale\":[[0.0,\"#0d0887\"],[0.1111111111111111,\"#46039f\"],[0.2222222222222222,\"#7201a8\"],[0.3333333333333333,\"#9c179e\"],[0.4444444444444444,\"#bd3786\"],[0.5555555555555556,\"#d8576b\"],[0.6666666666666666,\"#ed7953\"],[0.7777777777777778,\"#fb9f3a\"],[0.8888888888888888,\"#fdca26\"],[1.0,\"#f0f921\"]]}],\"heatmap\":[{\"type\":\"heatmap\",\"colorbar\":{\"outlinewidth\":0,\"ticks\":\"\"},\"colorscale\":[[0.0,\"#0d0887\"],[0.1111111111111111,\"#46039f\"],[0.2222222222222222,\"#7201a8\"],[0.3333333333333333,\"#9c179e\"],[0.4444444444444444,\"#bd3786\"],[0.5555555555555556,\"#d8576b\"],[0.6666666666666666,\"#ed7953\"],[0.7777777777777778,\"#fb9f3a\"],[0.8888888888888888,\"#fdca26\"],[1.0,\"#f0f921\"]]}],\"heatmapgl\":[{\"type\":\"heatmapgl\",\"colorbar\":{\"outlinewidth\":0,\"ticks\":\"\"},\"colorscale\":[[0.0,\"#0d0887\"],[0.1111111111111111,\"#46039f\"],[0.2222222222222222,\"#7201a8\"],[0.3333333333333333,\"#9c179e\"],[0.4444444444444444,\"#bd3786\"],[0.5555555555555556,\"#d8576b\"],[0.6666666666666666,\"#ed7953\"],[0.7777777777777778,\"#fb9f3a\"],[0.8888888888888888,\"#fdca26\"],[1.0,\"#f0f921\"]]}],\"contourcarpet\":[{\"type\":\"contourcarpet\",\"colorbar\":{\"outlinewidth\":0,\"ticks\":\"\"}}],\"contour\":[{\"type\":\"contour\",\"colorbar\":{\"outlinewidth\":0,\"ticks\":\"\"},\"colorscale\":[[0.0,\"#0d0887\"],[0.1111111111111111,\"#46039f\"],[0.2222222222222222,\"#7201a8\"],[0.3333333333333333,\"#9c179e\"],[0.4444444444444444,\"#bd3786\"],[0.5555555555555556,\"#d8576b\"],[0.6666666666666666,\"#ed7953\"],[0.7777777777777778,\"#fb9f3a\"],[0.8888888888888888,\"#fdca26\"],[1.0,\"#f0f921\"]]}],\"surface\":[{\"type\":\"surface\",\"colorbar\":{\"outlinewidth\":0,\"ticks\":\"\"},\"colorscale\":[[0.0,\"#0d0887\"],[0.1111111111111111,\"#46039f\"],[0.2222222222222222,\"#7201a8\"],[0.3333333333333333,\"#9c179e\"],[0.4444444444444444,\"#bd3786\"],[0.5555555555555556,\"#d8576b\"],[0.6666666666666666,\"#ed7953\"],[0.7777777777777778,\"#fb9f3a\"],[0.8888888888888888,\"#fdca26\"],[1.0,\"#f0f921\"]]}],\"mesh3d\":[{\"type\":\"mesh3d\",\"colorbar\":{\"outlinewidth\":0,\"ticks\":\"\"}}],\"scatter\":[{\"fillpattern\":{\"fillmode\":\"overlay\",\"size\":10,\"solidity\":0.2},\"type\":\"scatter\"}],\"parcoords\":[{\"type\":\"parcoords\",\"line\":{\"colorbar\":{\"outlinewidth\":0,\"ticks\":\"\"}}}],\"scatterpolargl\":[{\"type\":\"scatterpolargl\",\"marker\":{\"colorbar\":{\"outlinewidth\":0,\"ticks\":\"\"}}}],\"bar\":[{\"error_x\":{\"color\":\"#2a3f5f\"},\"error_y\":{\"color\":\"#2a3f5f\"},\"marker\":{\"line\":{\"color\":\"#E5ECF6\",\"width\":0.5},\"pattern\":{\"fillmode\":\"overlay\",\"size\":10,\"solidity\":0.2}},\"type\":\"bar\"}],\"scattergeo\":[{\"type\":\"scattergeo\",\"marker\":{\"colorbar\":{\"outlinewidth\":0,\"ticks\":\"\"}}}],\"scatterpolar\":[{\"type\":\"scatterpolar\",\"marker\":{\"colorbar\":{\"outlinewidth\":0,\"ticks\":\"\"}}}],\"histogram\":[{\"marker\":{\"pattern\":{\"fillmode\":\"overlay\",\"size\":10,\"solidity\":0.2}},\"type\":\"histogram\"}],\"scattergl\":[{\"type\":\"scattergl\",\"marker\":{\"colorbar\":{\"outlinewidth\":0,\"ticks\":\"\"}}}],\"scatter3d\":[{\"type\":\"scatter3d\",\"line\":{\"colorbar\":{\"outlinewidth\":0,\"ticks\":\"\"}},\"marker\":{\"colorbar\":{\"outlinewidth\":0,\"ticks\":\"\"}}}],\"scattermapbox\":[{\"type\":\"scattermapbox\",\"marker\":{\"colorbar\":{\"outlinewidth\":0,\"ticks\":\"\"}}}],\"scatterternary\":[{\"type\":\"scatterternary\",\"marker\":{\"colorbar\":{\"outlinewidth\":0,\"ticks\":\"\"}}}],\"scattercarpet\":[{\"type\":\"scattercarpet\",\"marker\":{\"colorbar\":{\"outlinewidth\":0,\"ticks\":\"\"}}}],\"carpet\":[{\"aaxis\":{\"endlinecolor\":\"#2a3f5f\",\"gridcolor\":\"white\",\"linecolor\":\"white\",\"minorgridcolor\":\"white\",\"startlinecolor\":\"#2a3f5f\"},\"baxis\":{\"endlinecolor\":\"#2a3f5f\",\"gridcolor\":\"white\",\"linecolor\":\"white\",\"minorgridcolor\":\"white\",\"startlinecolor\":\"#2a3f5f\"},\"type\":\"carpet\"}],\"table\":[{\"cells\":{\"fill\":{\"color\":\"#EBF0F8\"},\"line\":{\"color\":\"white\"}},\"header\":{\"fill\":{\"color\":\"#C8D4E3\"},\"line\":{\"color\":\"white\"}},\"type\":\"table\"}],\"barpolar\":[{\"marker\":{\"line\":{\"color\":\"#E5ECF6\",\"width\":0.5},\"pattern\":{\"fillmode\":\"overlay\",\"size\":10,\"solidity\":0.2}},\"type\":\"barpolar\"}],\"pie\":[{\"automargin\":true,\"type\":\"pie\"}]},\"layout\":{\"autotypenumbers\":\"strict\",\"colorway\":[\"#636efa\",\"#EF553B\",\"#00cc96\",\"#ab63fa\",\"#FFA15A\",\"#19d3f3\",\"#FF6692\",\"#B6E880\",\"#FF97FF\",\"#FECB52\"],\"font\":{\"color\":\"#2a3f5f\"},\"hovermode\":\"closest\",\"hoverlabel\":{\"align\":\"left\"},\"paper_bgcolor\":\"white\",\"plot_bgcolor\":\"#E5ECF6\",\"polar\":{\"bgcolor\":\"#E5ECF6\",\"angularaxis\":{\"gridcolor\":\"white\",\"linecolor\":\"white\",\"ticks\":\"\"},\"radialaxis\":{\"gridcolor\":\"white\",\"linecolor\":\"white\",\"ticks\":\"\"}},\"ternary\":{\"bgcolor\":\"#E5ECF6\",\"aaxis\":{\"gridcolor\":\"white\",\"linecolor\":\"white\",\"ticks\":\"\"},\"baxis\":{\"gridcolor\":\"white\",\"linecolor\":\"white\",\"ticks\":\"\"},\"caxis\":{\"gridcolor\":\"white\",\"linecolor\":\"white\",\"ticks\":\"\"}},\"coloraxis\":{\"colorbar\":{\"outlinewidth\":0,\"ticks\":\"\"}},\"colorscale\":{\"sequential\":[[0.0,\"#0d0887\"],[0.1111111111111111,\"#46039f\"],[0.2222222222222222,\"#7201a8\"],[0.3333333333333333,\"#9c179e\"],[0.4444444444444444,\"#bd3786\"],[0.5555555555555556,\"#d8576b\"],[0.6666666666666666,\"#ed7953\"],[0.7777777777777778,\"#fb9f3a\"],[0.8888888888888888,\"#fdca26\"],[1.0,\"#f0f921\"]],\"sequentialminus\":[[0.0,\"#0d0887\"],[0.1111111111111111,\"#46039f\"],[0.2222222222222222,\"#7201a8\"],[0.3333333333333333,\"#9c179e\"],[0.4444444444444444,\"#bd3786\"],[0.5555555555555556,\"#d8576b\"],[0.6666666666666666,\"#ed7953\"],[0.7777777777777778,\"#fb9f3a\"],[0.8888888888888888,\"#fdca26\"],[1.0,\"#f0f921\"]],\"diverging\":[[0,\"#8e0152\"],[0.1,\"#c51b7d\"],[0.2,\"#de77ae\"],[0.3,\"#f1b6da\"],[0.4,\"#fde0ef\"],[0.5,\"#f7f7f7\"],[0.6,\"#e6f5d0\"],[0.7,\"#b8e186\"],[0.8,\"#7fbc41\"],[0.9,\"#4d9221\"],[1,\"#276419\"]]},\"xaxis\":{\"gridcolor\":\"white\",\"linecolor\":\"white\",\"ticks\":\"\",\"title\":{\"standoff\":15},\"zerolinecolor\":\"white\",\"automargin\":true,\"zerolinewidth\":2},\"yaxis\":{\"gridcolor\":\"white\",\"linecolor\":\"white\",\"ticks\":\"\",\"title\":{\"standoff\":15},\"zerolinecolor\":\"white\",\"automargin\":true,\"zerolinewidth\":2},\"scene\":{\"xaxis\":{\"backgroundcolor\":\"#E5ECF6\",\"gridcolor\":\"white\",\"linecolor\":\"white\",\"showbackground\":true,\"ticks\":\"\",\"zerolinecolor\":\"white\",\"gridwidth\":2},\"yaxis\":{\"backgroundcolor\":\"#E5ECF6\",\"gridcolor\":\"white\",\"linecolor\":\"white\",\"showbackground\":true,\"ticks\":\"\",\"zerolinecolor\":\"white\",\"gridwidth\":2},\"zaxis\":{\"backgroundcolor\":\"#E5ECF6\",\"gridcolor\":\"white\",\"linecolor\":\"white\",\"showbackground\":true,\"ticks\":\"\",\"zerolinecolor\":\"white\",\"gridwidth\":2}},\"shapedefaults\":{\"line\":{\"color\":\"#2a3f5f\"}},\"annotationdefaults\":{\"arrowcolor\":\"#2a3f5f\",\"arrowhead\":0,\"arrowwidth\":1},\"geo\":{\"bgcolor\":\"white\",\"landcolor\":\"#E5ECF6\",\"subunitcolor\":\"white\",\"showland\":true,\"showlakes\":true,\"lakecolor\":\"white\"},\"title\":{\"x\":0.05},\"mapbox\":{\"style\":\"light\"}}},\"legend\":{\"tracegroupgap\":0},\"margin\":{\"t\":60}},                        {\"responsive\": true}                    ).then(function(){\n",
       "                            \n",
       "var gd = document.getElementById('672fc7e3-7169-499b-be7b-330e6c47784e');\n",
       "var x = new MutationObserver(function (mutations, observer) {{\n",
       "        var display = window.getComputedStyle(gd).display;\n",
       "        if (!display || display === 'none') {{\n",
       "            console.log([gd, 'removed!']);\n",
       "            Plotly.purge(gd);\n",
       "            observer.disconnect();\n",
       "        }}\n",
       "}});\n",
       "\n",
       "// Listen for the removal of the full notebook cells\n",
       "var notebookContainer = gd.closest('#notebook-container');\n",
       "if (notebookContainer) {{\n",
       "    x.observe(notebookContainer, {childList: true});\n",
       "}}\n",
       "\n",
       "// Listen for the clearing of the current output cell\n",
       "var outputEl = gd.closest('.output');\n",
       "if (outputEl) {{\n",
       "    x.observe(outputEl, {childList: true});\n",
       "}}\n",
       "\n",
       "                        })                };                });            </script>        </div>"
      ]
     },
     "metadata": {},
     "output_type": "display_data"
    }
   ],
   "source": [
    "fig = px.sunburst(all_df, path=['superkingdom', 'kingdom', 'phylum'],\n",
    "                  color='superkingdom', color_discrete_map=superkingdom_color_map)\n",
    "fig.show()"
   ]
  },
  {
   "cell_type": "code",
   "execution_count": 38,
   "id": "de4c092e-8164-4ac3-b872-85c6278bc67c",
   "metadata": {
    "tags": []
   },
   "outputs": [],
   "source": [
    "fig = px.sunburst(all_df, path=['superkingdom', 'kingdom', 'phylum'],\n",
    "                  color='superkingdom', color_discrete_map=superkingdom_color_map)\n",
    "fig.write_image(\"sunburst_plot_updated.png\")\n",
    "\n",
    "# Export as SVG\n",
    "fig.write_image(\"sunburst_plot_updated.svg\")"
   ]
  },
  {
   "cell_type": "code",
   "execution_count": 39,
   "id": "eeaab1ff-a51f-4711-81f5-48f79205b1c9",
   "metadata": {
    "tags": []
   },
   "outputs": [],
   "source": [
    "euk_df = all_df[all_df['superkingdom']=='Eukaryota']"
   ]
  },
  {
   "cell_type": "code",
   "execution_count": 40,
   "id": "89542621-c9b5-4b0b-954c-ac5ec723cb29",
   "metadata": {
    "tags": []
   },
   "outputs": [],
   "source": [
    "import ast"
   ]
  },
  {
   "cell_type": "code",
   "execution_count": 42,
   "id": "800b69da-9ff5-40bc-8aa4-1f054babfec5",
   "metadata": {
    "tags": []
   },
   "outputs": [
    {
     "name": "stderr",
     "output_type": "stream",
     "text": [
      "C:\\Users\\terca\\AppData\\Local\\Temp\\ipykernel_6900\\4290802338.py:1: SettingWithCopyWarning:\n",
      "\n",
      "\n",
      "A value is trying to be set on a copy of a slice from a DataFrame.\n",
      "Try using .loc[row_indexer,col_indexer] = value instead\n",
      "\n",
      "See the caveats in the documentation: https://pandas.pydata.org/pandas-docs/stable/user_guide/indexing.html#returning-a-view-versus-a-copy\n",
      "\n"
     ]
    }
   ],
   "source": [
    "euk_df['lineage_l'] = euk_df['lineage'].apply(lambda x: ast.literal_eval(x) if x != 'error' else {})"
   ]
  },
  {
   "cell_type": "code",
   "execution_count": 43,
   "id": "baf5c2e1-9ff0-4358-aca4-f37704e0813e",
   "metadata": {
    "tags": []
   },
   "outputs": [
    {
     "name": "stderr",
     "output_type": "stream",
     "text": [
      "C:\\Users\\terca\\AppData\\Local\\Temp\\ipykernel_6900\\533591319.py:1: SettingWithCopyWarning:\n",
      "\n",
      "\n",
      "A value is trying to be set on a copy of a slice from a DataFrame.\n",
      "Try using .loc[row_indexer,col_indexer] = value instead\n",
      "\n",
      "See the caveats in the documentation: https://pandas.pydata.org/pandas-docs/stable/user_guide/indexing.html#returning-a-view-versus-a-copy\n",
      "\n",
      "C:\\Users\\terca\\AppData\\Local\\Temp\\ipykernel_6900\\533591319.py:2: SettingWithCopyWarning:\n",
      "\n",
      "\n",
      "A value is trying to be set on a copy of a slice from a DataFrame.\n",
      "Try using .loc[row_indexer,col_indexer] = value instead\n",
      "\n",
      "See the caveats in the documentation: https://pandas.pydata.org/pandas-docs/stable/user_guide/indexing.html#returning-a-view-versus-a-copy\n",
      "\n",
      "C:\\Users\\terca\\AppData\\Local\\Temp\\ipykernel_6900\\533591319.py:3: SettingWithCopyWarning:\n",
      "\n",
      "\n",
      "A value is trying to be set on a copy of a slice from a DataFrame.\n",
      "Try using .loc[row_indexer,col_indexer] = value instead\n",
      "\n",
      "See the caveats in the documentation: https://pandas.pydata.org/pandas-docs/stable/user_guide/indexing.html#returning-a-view-versus-a-copy\n",
      "\n",
      "C:\\Users\\terca\\AppData\\Local\\Temp\\ipykernel_6900\\533591319.py:4: SettingWithCopyWarning:\n",
      "\n",
      "\n",
      "A value is trying to be set on a copy of a slice from a DataFrame.\n",
      "Try using .loc[row_indexer,col_indexer] = value instead\n",
      "\n",
      "See the caveats in the documentation: https://pandas.pydata.org/pandas-docs/stable/user_guide/indexing.html#returning-a-view-versus-a-copy\n",
      "\n",
      "C:\\Users\\terca\\AppData\\Local\\Temp\\ipykernel_6900\\533591319.py:5: SettingWithCopyWarning:\n",
      "\n",
      "\n",
      "A value is trying to be set on a copy of a slice from a DataFrame.\n",
      "Try using .loc[row_indexer,col_indexer] = value instead\n",
      "\n",
      "See the caveats in the documentation: https://pandas.pydata.org/pandas-docs/stable/user_guide/indexing.html#returning-a-view-versus-a-copy\n",
      "\n"
     ]
    }
   ],
   "source": [
    "euk_df['species'] = euk_df['lineage_l'].apply(lambda x: x.get('family','unknown'))\n",
    "euk_df['genus'] = euk_df['lineage_l'].apply(lambda x: x.get('genus', 'unknown'))\n",
    "euk_df['family'] = euk_df['lineage_l'].apply(lambda x: x.get('family', 'unknown'))\n",
    "euk_df['order'] = euk_df['lineage_l'].apply(lambda x: x.get('order','unknown'))\n",
    "euk_df['class'] = euk_df['lineage_l'].apply(lambda x: x.get('class', 'unknown'))"
   ]
  },
  {
   "cell_type": "code",
   "execution_count": 44,
   "id": "fa05bdf2-5c60-4c4b-bfbb-0588c649cced",
   "metadata": {
    "tags": []
   },
   "outputs": [
    {
     "data": {
      "text/html": [
       "<div>\n",
       "<style scoped>\n",
       "    .dataframe tbody tr th:only-of-type {\n",
       "        vertical-align: middle;\n",
       "    }\n",
       "\n",
       "    .dataframe tbody tr th {\n",
       "        vertical-align: top;\n",
       "    }\n",
       "\n",
       "    .dataframe thead th {\n",
       "        text-align: right;\n",
       "    }\n",
       "</style>\n",
       "<table border=\"1\" class=\"dataframe\">\n",
       "  <thead>\n",
       "    <tr style=\"text-align: right;\">\n",
       "      <th></th>\n",
       "      <th>id</th>\n",
       "      <th>architecture_pfam</th>\n",
       "      <th>architecture_l_pfam</th>\n",
       "      <th>PF06330.14</th>\n",
       "      <th>PF01397.24</th>\n",
       "      <th>PF03936.19</th>\n",
       "      <th>PF00494.22</th>\n",
       "      <th>PF13249.9</th>\n",
       "      <th>PF19086.3</th>\n",
       "      <th>PF13243.9</th>\n",
       "      <th>...</th>\n",
       "      <th>lineage</th>\n",
       "      <th>superkingdom</th>\n",
       "      <th>kingdom</th>\n",
       "      <th>phylum</th>\n",
       "      <th>lineage_l</th>\n",
       "      <th>species</th>\n",
       "      <th>genus</th>\n",
       "      <th>family</th>\n",
       "      <th>order</th>\n",
       "      <th>class</th>\n",
       "    </tr>\n",
       "  </thead>\n",
       "  <tbody>\n",
       "    <tr>\n",
       "      <th>156</th>\n",
       "      <td>bfd_051353</td>\n",
       "      <td>['PF00494.22']</td>\n",
       "      <td>['PF00494.22']</td>\n",
       "      <td>0.0</td>\n",
       "      <td>0.0</td>\n",
       "      <td>0.0</td>\n",
       "      <td>1.0</td>\n",
       "      <td>0.0</td>\n",
       "      <td>0.0</td>\n",
       "      <td>0.0</td>\n",
       "      <td>...</td>\n",
       "      <td>{'species': 'Ancylostoma ceylanicum', 'genus':...</td>\n",
       "      <td>Eukaryota</td>\n",
       "      <td>Metazoa</td>\n",
       "      <td>Nematoda</td>\n",
       "      <td>{'species': 'Ancylostoma ceylanicum', 'genus':...</td>\n",
       "      <td>Ancylostomatidae</td>\n",
       "      <td>Ancylostoma</td>\n",
       "      <td>Ancylostomatidae</td>\n",
       "      <td>Strongylida</td>\n",
       "      <td>Chromadorea</td>\n",
       "    </tr>\n",
       "    <tr>\n",
       "      <th>371</th>\n",
       "      <td>bfd_134078</td>\n",
       "      <td>['PF00494.22']</td>\n",
       "      <td>['PF00494.22']</td>\n",
       "      <td>0.0</td>\n",
       "      <td>0.0</td>\n",
       "      <td>0.0</td>\n",
       "      <td>1.0</td>\n",
       "      <td>0.0</td>\n",
       "      <td>0.0</td>\n",
       "      <td>0.0</td>\n",
       "      <td>...</td>\n",
       "      <td>{'species': 'Acytostelium subglobosum', 'genus...</td>\n",
       "      <td>Eukaryota</td>\n",
       "      <td>unknown</td>\n",
       "      <td>Evosea</td>\n",
       "      <td>{'species': 'Acytostelium subglobosum', 'genus...</td>\n",
       "      <td>Acytosteliaceae</td>\n",
       "      <td>Acytostelium</td>\n",
       "      <td>Acytosteliaceae</td>\n",
       "      <td>Acytosteliales</td>\n",
       "      <td>Eumycetozoa</td>\n",
       "    </tr>\n",
       "    <tr>\n",
       "      <th>385</th>\n",
       "      <td>bfd_082404</td>\n",
       "      <td>['PF19086.3_partial']</td>\n",
       "      <td>['PF19086.3_partial']</td>\n",
       "      <td>0.0</td>\n",
       "      <td>0.0</td>\n",
       "      <td>0.0</td>\n",
       "      <td>0.0</td>\n",
       "      <td>0.0</td>\n",
       "      <td>1.0</td>\n",
       "      <td>0.0</td>\n",
       "      <td>...</td>\n",
       "      <td>{'species': 'Sclerotinia borealis', 'genus': '...</td>\n",
       "      <td>Eukaryota</td>\n",
       "      <td>Fungi</td>\n",
       "      <td>Ascomycota</td>\n",
       "      <td>{'species': 'Sclerotinia borealis', 'genus': '...</td>\n",
       "      <td>Sclerotiniaceae</td>\n",
       "      <td>Sclerotinia</td>\n",
       "      <td>Sclerotiniaceae</td>\n",
       "      <td>Helotiales</td>\n",
       "      <td>Leotiomycetes</td>\n",
       "    </tr>\n",
       "    <tr>\n",
       "      <th>411</th>\n",
       "      <td>bfd_019468</td>\n",
       "      <td>['PF19086.3']</td>\n",
       "      <td>['PF19086.3']</td>\n",
       "      <td>0.0</td>\n",
       "      <td>0.0</td>\n",
       "      <td>1.0</td>\n",
       "      <td>0.0</td>\n",
       "      <td>0.0</td>\n",
       "      <td>1.0</td>\n",
       "      <td>0.0</td>\n",
       "      <td>...</td>\n",
       "      <td>{'species': 'Pseudocercospora musae', 'genus':...</td>\n",
       "      <td>Eukaryota</td>\n",
       "      <td>Fungi</td>\n",
       "      <td>Ascomycota</td>\n",
       "      <td>{'species': 'Pseudocercospora musae', 'genus':...</td>\n",
       "      <td>Mycosphaerellaceae</td>\n",
       "      <td>Pseudocercospora</td>\n",
       "      <td>Mycosphaerellaceae</td>\n",
       "      <td>Mycosphaerellales</td>\n",
       "      <td>Dothideomycetes</td>\n",
       "    </tr>\n",
       "    <tr>\n",
       "      <th>521</th>\n",
       "      <td>bfd_008333</td>\n",
       "      <td>['PF06330.14']</td>\n",
       "      <td>['PF06330.14']</td>\n",
       "      <td>1.0</td>\n",
       "      <td>0.0</td>\n",
       "      <td>0.0</td>\n",
       "      <td>0.0</td>\n",
       "      <td>0.0</td>\n",
       "      <td>0.0</td>\n",
       "      <td>0.0</td>\n",
       "      <td>...</td>\n",
       "      <td>{'species': 'Daedalea quercina', 'genus': 'Dae...</td>\n",
       "      <td>Eukaryota</td>\n",
       "      <td>Fungi</td>\n",
       "      <td>Basidiomycota</td>\n",
       "      <td>{'species': 'Daedalea quercina', 'genus': 'Dae...</td>\n",
       "      <td>Fomitopsidaceae</td>\n",
       "      <td>Daedalea</td>\n",
       "      <td>Fomitopsidaceae</td>\n",
       "      <td>Polyporales</td>\n",
       "      <td>Agaricomycetes</td>\n",
       "    </tr>\n",
       "    <tr>\n",
       "      <th>...</th>\n",
       "      <td>...</td>\n",
       "      <td>...</td>\n",
       "      <td>...</td>\n",
       "      <td>...</td>\n",
       "      <td>...</td>\n",
       "      <td>...</td>\n",
       "      <td>...</td>\n",
       "      <td>...</td>\n",
       "      <td>...</td>\n",
       "      <td>...</td>\n",
       "      <td>...</td>\n",
       "      <td>...</td>\n",
       "      <td>...</td>\n",
       "      <td>...</td>\n",
       "      <td>...</td>\n",
       "      <td>...</td>\n",
       "      <td>...</td>\n",
       "      <td>...</td>\n",
       "      <td>...</td>\n",
       "      <td>...</td>\n",
       "      <td>...</td>\n",
       "    </tr>\n",
       "    <tr>\n",
       "      <th>682435</th>\n",
       "      <td>uniprot_253646</td>\n",
       "      <td>NaN</td>\n",
       "      <td>NaN</td>\n",
       "      <td>NaN</td>\n",
       "      <td>NaN</td>\n",
       "      <td>NaN</td>\n",
       "      <td>NaN</td>\n",
       "      <td>NaN</td>\n",
       "      <td>NaN</td>\n",
       "      <td>NaN</td>\n",
       "      <td>...</td>\n",
       "      <td>{'species': 'Lolium rigidum', 'genus': 'Lolium...</td>\n",
       "      <td>Eukaryota</td>\n",
       "      <td>Viridiplantae</td>\n",
       "      <td>Streptophyta</td>\n",
       "      <td>{'species': 'Lolium rigidum', 'genus': 'Lolium...</td>\n",
       "      <td>Poaceae</td>\n",
       "      <td>Lolium</td>\n",
       "      <td>Poaceae</td>\n",
       "      <td>Poales</td>\n",
       "      <td>Magnoliopsida</td>\n",
       "    </tr>\n",
       "    <tr>\n",
       "      <th>682444</th>\n",
       "      <td>uniprot_218100</td>\n",
       "      <td>NaN</td>\n",
       "      <td>NaN</td>\n",
       "      <td>NaN</td>\n",
       "      <td>NaN</td>\n",
       "      <td>NaN</td>\n",
       "      <td>NaN</td>\n",
       "      <td>NaN</td>\n",
       "      <td>NaN</td>\n",
       "      <td>NaN</td>\n",
       "      <td>...</td>\n",
       "      <td>{'species': 'Azadinium spinosum', 'genus': 'Az...</td>\n",
       "      <td>Eukaryota</td>\n",
       "      <td>unknown</td>\n",
       "      <td>unknown</td>\n",
       "      <td>{'species': 'Azadinium spinosum', 'genus': 'Az...</td>\n",
       "      <td>Amphidomataceae</td>\n",
       "      <td>Azadinium</td>\n",
       "      <td>Amphidomataceae</td>\n",
       "      <td>Gonyaulacales</td>\n",
       "      <td>Dinophyceae</td>\n",
       "    </tr>\n",
       "    <tr>\n",
       "      <th>682453</th>\n",
       "      <td>uniprot_257655</td>\n",
       "      <td>NaN</td>\n",
       "      <td>NaN</td>\n",
       "      <td>NaN</td>\n",
       "      <td>NaN</td>\n",
       "      <td>NaN</td>\n",
       "      <td>NaN</td>\n",
       "      <td>NaN</td>\n",
       "      <td>NaN</td>\n",
       "      <td>NaN</td>\n",
       "      <td>...</td>\n",
       "      <td>{'species': 'Dermatophagoides farinae', 'genus...</td>\n",
       "      <td>Eukaryota</td>\n",
       "      <td>Metazoa</td>\n",
       "      <td>Arthropoda</td>\n",
       "      <td>{'species': 'Dermatophagoides farinae', 'genus...</td>\n",
       "      <td>Pyroglyphidae</td>\n",
       "      <td>Dermatophagoides</td>\n",
       "      <td>Pyroglyphidae</td>\n",
       "      <td>Sarcoptiformes</td>\n",
       "      <td>Arachnida</td>\n",
       "    </tr>\n",
       "    <tr>\n",
       "      <th>682458</th>\n",
       "      <td>uniprot_137796</td>\n",
       "      <td>NaN</td>\n",
       "      <td>NaN</td>\n",
       "      <td>NaN</td>\n",
       "      <td>NaN</td>\n",
       "      <td>NaN</td>\n",
       "      <td>NaN</td>\n",
       "      <td>NaN</td>\n",
       "      <td>NaN</td>\n",
       "      <td>NaN</td>\n",
       "      <td>...</td>\n",
       "      <td>{'species': 'Fragilariopsis cylindrus', 'genus...</td>\n",
       "      <td>Eukaryota</td>\n",
       "      <td>unknown</td>\n",
       "      <td>Bacillariophyta</td>\n",
       "      <td>{'species': 'Fragilariopsis cylindrus', 'genus...</td>\n",
       "      <td>Bacillariaceae</td>\n",
       "      <td>Fragilariopsis</td>\n",
       "      <td>Bacillariaceae</td>\n",
       "      <td>Bacillariales</td>\n",
       "      <td>Bacillariophyceae</td>\n",
       "    </tr>\n",
       "    <tr>\n",
       "      <th>682467</th>\n",
       "      <td>uniprot_188186</td>\n",
       "      <td>NaN</td>\n",
       "      <td>NaN</td>\n",
       "      <td>NaN</td>\n",
       "      <td>NaN</td>\n",
       "      <td>NaN</td>\n",
       "      <td>NaN</td>\n",
       "      <td>NaN</td>\n",
       "      <td>NaN</td>\n",
       "      <td>NaN</td>\n",
       "      <td>...</td>\n",
       "      <td>{'species': 'Pygocentrus nattereri', 'genus': ...</td>\n",
       "      <td>Eukaryota</td>\n",
       "      <td>Metazoa</td>\n",
       "      <td>Chordata</td>\n",
       "      <td>{'species': 'Pygocentrus nattereri', 'genus': ...</td>\n",
       "      <td>Serrasalmidae</td>\n",
       "      <td>Pygocentrus</td>\n",
       "      <td>Serrasalmidae</td>\n",
       "      <td>Characiformes</td>\n",
       "      <td>Actinopteri</td>\n",
       "    </tr>\n",
       "  </tbody>\n",
       "</table>\n",
       "<p>113052 rows × 34 columns</p>\n",
       "</div>"
      ],
      "text/plain": [
       "                    id      architecture_pfam    architecture_l_pfam  \\\n",
       "156         bfd_051353         ['PF00494.22']         ['PF00494.22']   \n",
       "371         bfd_134078         ['PF00494.22']         ['PF00494.22']   \n",
       "385         bfd_082404  ['PF19086.3_partial']  ['PF19086.3_partial']   \n",
       "411         bfd_019468          ['PF19086.3']          ['PF19086.3']   \n",
       "521         bfd_008333         ['PF06330.14']         ['PF06330.14']   \n",
       "...                ...                    ...                    ...   \n",
       "682435  uniprot_253646                    NaN                    NaN   \n",
       "682444  uniprot_218100                    NaN                    NaN   \n",
       "682453  uniprot_257655                    NaN                    NaN   \n",
       "682458  uniprot_137796                    NaN                    NaN   \n",
       "682467  uniprot_188186                    NaN                    NaN   \n",
       "\n",
       "        PF06330.14  PF01397.24  PF03936.19  PF00494.22  PF13249.9  PF19086.3  \\\n",
       "156            0.0         0.0         0.0         1.0        0.0        0.0   \n",
       "371            0.0         0.0         0.0         1.0        0.0        0.0   \n",
       "385            0.0         0.0         0.0         0.0        0.0        1.0   \n",
       "411            0.0         0.0         1.0         0.0        0.0        1.0   \n",
       "521            1.0         0.0         0.0         0.0        0.0        0.0   \n",
       "...            ...         ...         ...         ...        ...        ...   \n",
       "682435         NaN         NaN         NaN         NaN        NaN        NaN   \n",
       "682444         NaN         NaN         NaN         NaN        NaN        NaN   \n",
       "682453         NaN         NaN         NaN         NaN        NaN        NaN   \n",
       "682458         NaN         NaN         NaN         NaN        NaN        NaN   \n",
       "682467         NaN         NaN         NaN         NaN        NaN        NaN   \n",
       "\n",
       "        PF13243.9  ...                                            lineage  \\\n",
       "156           0.0  ...  {'species': 'Ancylostoma ceylanicum', 'genus':...   \n",
       "371           0.0  ...  {'species': 'Acytostelium subglobosum', 'genus...   \n",
       "385           0.0  ...  {'species': 'Sclerotinia borealis', 'genus': '...   \n",
       "411           0.0  ...  {'species': 'Pseudocercospora musae', 'genus':...   \n",
       "521           0.0  ...  {'species': 'Daedalea quercina', 'genus': 'Dae...   \n",
       "...           ...  ...                                                ...   \n",
       "682435        NaN  ...  {'species': 'Lolium rigidum', 'genus': 'Lolium...   \n",
       "682444        NaN  ...  {'species': 'Azadinium spinosum', 'genus': 'Az...   \n",
       "682453        NaN  ...  {'species': 'Dermatophagoides farinae', 'genus...   \n",
       "682458        NaN  ...  {'species': 'Fragilariopsis cylindrus', 'genus...   \n",
       "682467        NaN  ...  {'species': 'Pygocentrus nattereri', 'genus': ...   \n",
       "\n",
       "       superkingdom        kingdom           phylum  \\\n",
       "156       Eukaryota        Metazoa         Nematoda   \n",
       "371       Eukaryota        unknown           Evosea   \n",
       "385       Eukaryota          Fungi       Ascomycota   \n",
       "411       Eukaryota          Fungi       Ascomycota   \n",
       "521       Eukaryota          Fungi    Basidiomycota   \n",
       "...             ...            ...              ...   \n",
       "682435    Eukaryota  Viridiplantae     Streptophyta   \n",
       "682444    Eukaryota        unknown          unknown   \n",
       "682453    Eukaryota        Metazoa       Arthropoda   \n",
       "682458    Eukaryota        unknown  Bacillariophyta   \n",
       "682467    Eukaryota        Metazoa         Chordata   \n",
       "\n",
       "                                                lineage_l             species  \\\n",
       "156     {'species': 'Ancylostoma ceylanicum', 'genus':...    Ancylostomatidae   \n",
       "371     {'species': 'Acytostelium subglobosum', 'genus...     Acytosteliaceae   \n",
       "385     {'species': 'Sclerotinia borealis', 'genus': '...     Sclerotiniaceae   \n",
       "411     {'species': 'Pseudocercospora musae', 'genus':...  Mycosphaerellaceae   \n",
       "521     {'species': 'Daedalea quercina', 'genus': 'Dae...     Fomitopsidaceae   \n",
       "...                                                   ...                 ...   \n",
       "682435  {'species': 'Lolium rigidum', 'genus': 'Lolium...             Poaceae   \n",
       "682444  {'species': 'Azadinium spinosum', 'genus': 'Az...     Amphidomataceae   \n",
       "682453  {'species': 'Dermatophagoides farinae', 'genus...       Pyroglyphidae   \n",
       "682458  {'species': 'Fragilariopsis cylindrus', 'genus...      Bacillariaceae   \n",
       "682467  {'species': 'Pygocentrus nattereri', 'genus': ...       Serrasalmidae   \n",
       "\n",
       "                   genus              family              order  \\\n",
       "156          Ancylostoma    Ancylostomatidae        Strongylida   \n",
       "371         Acytostelium     Acytosteliaceae     Acytosteliales   \n",
       "385          Sclerotinia     Sclerotiniaceae         Helotiales   \n",
       "411     Pseudocercospora  Mycosphaerellaceae  Mycosphaerellales   \n",
       "521             Daedalea     Fomitopsidaceae        Polyporales   \n",
       "...                  ...                 ...                ...   \n",
       "682435            Lolium             Poaceae             Poales   \n",
       "682444         Azadinium     Amphidomataceae      Gonyaulacales   \n",
       "682453  Dermatophagoides       Pyroglyphidae     Sarcoptiformes   \n",
       "682458    Fragilariopsis      Bacillariaceae      Bacillariales   \n",
       "682467       Pygocentrus       Serrasalmidae      Characiformes   \n",
       "\n",
       "                    class  \n",
       "156           Chromadorea  \n",
       "371           Eumycetozoa  \n",
       "385         Leotiomycetes  \n",
       "411       Dothideomycetes  \n",
       "521        Agaricomycetes  \n",
       "...                   ...  \n",
       "682435      Magnoliopsida  \n",
       "682444        Dinophyceae  \n",
       "682453          Arachnida  \n",
       "682458  Bacillariophyceae  \n",
       "682467        Actinopteri  \n",
       "\n",
       "[113052 rows x 34 columns]"
      ]
     },
     "execution_count": 44,
     "metadata": {},
     "output_type": "execute_result"
    }
   ],
   "source": [
    "euk_df"
   ]
  },
  {
   "cell_type": "code",
   "execution_count": 45,
   "id": "5816e35f-5a7a-4393-9a8a-3a8b451c275b",
   "metadata": {
    "tags": []
   },
   "outputs": [],
   "source": [
    "eukaryota_color_map = {'Fungi':'#FF9481', \n",
    "                       'Viridiplantae': '#BEDF7C', \n",
    "                       'Metazoa':'#94CCFC',\n",
    "                       'unknown':'#FF9536'\n",
    "}"
   ]
  },
  {
   "cell_type": "code",
   "execution_count": 47,
   "id": "83b654e8-a82e-42f9-ad02-2063feab36d0",
   "metadata": {},
   "outputs": [
    {
     "data": {
      "application/vnd.plotly.v1+json": {
       "config": {
        "plotlyServerURL": "https://plot.ly"
       },
       "data": [
        {
         "branchvalues": "total",
         "customdata": [
          [
           "unknown"
          ],
          [
           "Metazoa"
          ],
          [
           "unknown"
          ],
          [
           "Fungi"
          ],
          [
           "Metazoa"
          ],
          [
           "Metazoa"
          ],
          [
           "Metazoa"
          ],
          [
           "unknown"
          ],
          [
           "Metazoa"
          ],
          [
           "Metazoa"
          ],
          [
           "unknown"
          ],
          [
           "Metazoa"
          ],
          [
           "Viridiplantae"
          ],
          [
           "unknown"
          ],
          [
           "Metazoa"
          ],
          [
           "Metazoa"
          ],
          [
           "unknown"
          ],
          [
           "Viridiplantae"
          ],
          [
           "Viridiplantae"
          ],
          [
           "unknown"
          ],
          [
           "unknown"
          ],
          [
           "Metazoa"
          ],
          [
           "Metazoa"
          ],
          [
           "Viridiplantae"
          ],
          [
           "Viridiplantae"
          ],
          [
           "Fungi"
          ],
          [
           "Metazoa"
          ],
          [
           "Metazoa"
          ],
          [
           "Metazoa"
          ],
          [
           "Metazoa"
          ],
          [
           "unknown"
          ],
          [
           "Fungi"
          ],
          [
           "Fungi"
          ],
          [
           "Fungi"
          ],
          [
           "Metazoa"
          ],
          [
           "Fungi"
          ],
          [
           "Metazoa"
          ],
          [
           "Fungi"
          ],
          [
           "Metazoa"
          ],
          [
           "Metazoa"
          ],
          [
           "Viridiplantae"
          ],
          [
           "Metazoa"
          ],
          [
           "Fungi"
          ],
          [
           "Viridiplantae"
          ],
          [
           "Fungi"
          ],
          [
           "Fungi"
          ],
          [
           "Viridiplantae"
          ],
          [
           "unknown"
          ],
          [
           "Fungi"
          ],
          [
           "Viridiplantae"
          ],
          [
           "Viridiplantae"
          ],
          [
           "Metazoa"
          ],
          [
           "Metazoa"
          ],
          [
           "unknown"
          ],
          [
           "Viridiplantae"
          ],
          [
           "Metazoa"
          ],
          [
           "unknown"
          ],
          [
           "unknown"
          ],
          [
           "Viridiplantae"
          ],
          [
           "Metazoa"
          ],
          [
           "Metazoa"
          ],
          [
           "Fungi"
          ],
          [
           "Viridiplantae"
          ],
          [
           "unknown"
          ],
          [
           "unknown"
          ],
          [
           "unknown"
          ],
          [
           "unknown"
          ],
          [
           "unknown"
          ],
          [
           "unknown"
          ],
          [
           "Metazoa"
          ],
          [
           "unknown"
          ],
          [
           "Fungi"
          ],
          [
           "Fungi"
          ],
          [
           "Metazoa"
          ],
          [
           "Viridiplantae"
          ],
          [
           "Fungi"
          ],
          [
           "unknown"
          ],
          [
           "Metazoa"
          ],
          [
           "Fungi"
          ],
          [
           "Metazoa"
          ],
          [
           "Viridiplantae"
          ],
          [
           "unknown"
          ],
          [
           "unknown"
          ],
          [
           "Fungi"
          ],
          [
           "Metazoa"
          ],
          [
           "unknown"
          ],
          [
           "Metazoa"
          ],
          [
           "Fungi"
          ],
          [
           "unknown"
          ],
          [
           "unknown"
          ],
          [
           "Metazoa"
          ],
          [
           "Fungi"
          ],
          [
           "Fungi"
          ],
          [
           "Metazoa"
          ],
          [
           "Metazoa"
          ],
          [
           "Metazoa"
          ],
          [
           "Fungi"
          ],
          [
           "Fungi"
          ],
          [
           "Viridiplantae"
          ],
          [
           "Metazoa"
          ],
          [
           "Viridiplantae"
          ],
          [
           "unknown"
          ],
          [
           "Metazoa"
          ],
          [
           "Metazoa"
          ],
          [
           "unknown"
          ],
          [
           "Metazoa"
          ],
          [
           "Metazoa"
          ],
          [
           "unknown"
          ],
          [
           "Metazoa"
          ],
          [
           "Metazoa"
          ],
          [
           "Viridiplantae"
          ],
          [
           "Metazoa"
          ],
          [
           "Metazoa"
          ],
          [
           "unknown"
          ],
          [
           "unknown"
          ],
          [
           "Metazoa"
          ],
          [
           "Viridiplantae"
          ],
          [
           "Metazoa"
          ],
          [
           "Metazoa"
          ],
          [
           "unknown"
          ],
          [
           "unknown"
          ],
          [
           "unknown"
          ],
          [
           "Fungi"
          ],
          [
           "unknown"
          ],
          [
           "Metazoa"
          ],
          [
           "Metazoa"
          ],
          [
           "unknown"
          ],
          [
           "Metazoa"
          ],
          [
           "Metazoa"
          ],
          [
           "unknown"
          ],
          [
           "Fungi"
          ],
          [
           "Metazoa"
          ],
          [
           "Viridiplantae"
          ],
          [
           "Viridiplantae"
          ],
          [
           "Metazoa"
          ],
          [
           "Fungi"
          ],
          [
           "Viridiplantae"
          ],
          [
           "unknown"
          ],
          [
           "Fungi"
          ],
          [
           "Viridiplantae"
          ],
          [
           "Metazoa"
          ],
          [
           "unknown"
          ],
          [
           "Metazoa"
          ],
          [
           "Metazoa"
          ],
          [
           "Metazoa"
          ],
          [
           "Metazoa"
          ],
          [
           "Metazoa"
          ],
          [
           "unknown"
          ],
          [
           "Metazoa"
          ],
          [
           "Fungi"
          ],
          [
           "Metazoa"
          ],
          [
           "Metazoa"
          ],
          [
           "unknown"
          ],
          [
           "Metazoa"
          ],
          [
           "unknown"
          ],
          [
           "Metazoa"
          ],
          [
           "Metazoa"
          ],
          [
           "Metazoa"
          ],
          [
           "unknown"
          ],
          [
           "Metazoa"
          ],
          [
           "Metazoa"
          ],
          [
           "Metazoa"
          ],
          [
           "unknown"
          ],
          [
           "Metazoa"
          ],
          [
           "unknown"
          ],
          [
           "Fungi"
          ],
          [
           "Metazoa"
          ],
          [
           "Viridiplantae"
          ],
          [
           "Viridiplantae"
          ],
          [
           "unknown"
          ],
          [
           "Metazoa"
          ],
          [
           "Metazoa"
          ],
          [
           "Metazoa"
          ],
          [
           "unknown"
          ],
          [
           "Viridiplantae"
          ],
          [
           "Metazoa"
          ],
          [
           "unknown"
          ],
          [
           "Metazoa"
          ],
          [
           "Metazoa"
          ],
          [
           "Metazoa"
          ],
          [
           "Metazoa"
          ],
          [
           "Viridiplantae"
          ],
          [
           "Viridiplantae"
          ],
          [
           "Metazoa"
          ],
          [
           "Fungi"
          ],
          [
           "Metazoa"
          ],
          [
           "Viridiplantae"
          ],
          [
           "unknown"
          ],
          [
           "unknown"
          ],
          [
           "Viridiplantae"
          ],
          [
           "Viridiplantae"
          ],
          [
           "Fungi"
          ],
          [
           "Metazoa"
          ],
          [
           "unknown"
          ],
          [
           "Viridiplantae"
          ],
          [
           "Metazoa"
          ],
          [
           "Metazoa"
          ],
          [
           "Viridiplantae"
          ],
          [
           "unknown"
          ],
          [
           "Fungi"
          ],
          [
           "Metazoa"
          ],
          [
           "Metazoa"
          ],
          [
           "Viridiplantae"
          ],
          [
           "unknown"
          ],
          [
           "unknown"
          ],
          [
           "Metazoa"
          ],
          [
           "Viridiplantae"
          ],
          [
           "Viridiplantae"
          ],
          [
           "Metazoa"
          ],
          [
           "Metazoa"
          ],
          [
           "Viridiplantae"
          ],
          [
           "Metazoa"
          ],
          [
           "Viridiplantae"
          ],
          [
           "Metazoa"
          ],
          [
           "Metazoa"
          ],
          [
           "unknown"
          ],
          [
           "Metazoa"
          ],
          [
           "Fungi"
          ],
          [
           "unknown"
          ],
          [
           "Metazoa"
          ],
          [
           "Fungi"
          ],
          [
           "Fungi"
          ],
          [
           "Fungi"
          ],
          [
           "Fungi"
          ],
          [
           "Viridiplantae"
          ],
          [
           "unknown"
          ],
          [
           "Metazoa"
          ],
          [
           "Metazoa"
          ],
          [
           "Metazoa"
          ],
          [
           "unknown"
          ],
          [
           "Metazoa"
          ],
          [
           "Fungi"
          ],
          [
           "Viridiplantae"
          ],
          [
           "unknown"
          ],
          [
           "unknown"
          ],
          [
           "Metazoa"
          ],
          [
           "Fungi"
          ],
          [
           "unknown"
          ],
          [
           "Metazoa"
          ],
          [
           "unknown"
          ],
          [
           "Metazoa"
          ],
          [
           "unknown"
          ],
          [
           "Viridiplantae"
          ],
          [
           "Metazoa"
          ],
          [
           "unknown"
          ],
          [
           "unknown"
          ],
          [
           "Fungi"
          ],
          [
           "unknown"
          ],
          [
           "unknown"
          ],
          [
           "Metazoa"
          ],
          [
           "Metazoa"
          ],
          [
           "unknown"
          ],
          [
           "Fungi"
          ],
          [
           "Viridiplantae"
          ],
          [
           "unknown"
          ],
          [
           "Metazoa"
          ],
          [
           "unknown"
          ],
          [
           "Metazoa"
          ],
          [
           "unknown"
          ],
          [
           "Metazoa"
          ],
          [
           "Fungi"
          ],
          [
           "Viridiplantae"
          ],
          [
           "Viridiplantae"
          ],
          [
           "Metazoa"
          ],
          [
           "unknown"
          ],
          [
           "Viridiplantae"
          ],
          [
           "Metazoa"
          ],
          [
           "Viridiplantae"
          ],
          [
           "Metazoa"
          ],
          [
           "Metazoa"
          ],
          [
           "Metazoa"
          ],
          [
           "Metazoa"
          ],
          [
           "unknown"
          ],
          [
           "Metazoa"
          ],
          [
           "Metazoa"
          ],
          [
           "unknown"
          ],
          [
           "Fungi"
          ],
          [
           "Viridiplantae"
          ],
          [
           "unknown"
          ],
          [
           "Metazoa"
          ],
          [
           "Viridiplantae"
          ],
          [
           "Metazoa"
          ],
          [
           "Viridiplantae"
          ],
          [
           "Viridiplantae"
          ],
          [
           "unknown"
          ],
          [
           "Fungi"
          ],
          [
           "Metazoa"
          ],
          [
           "Metazoa"
          ],
          [
           "unknown"
          ],
          [
           "Metazoa"
          ],
          [
           "Metazoa"
          ],
          [
           "unknown"
          ],
          [
           "unknown"
          ],
          [
           "Metazoa"
          ],
          [
           "Metazoa"
          ],
          [
           "unknown"
          ],
          [
           "Metazoa"
          ],
          [
           "unknown"
          ],
          [
           "Metazoa"
          ],
          [
           "unknown"
          ],
          [
           "unknown"
          ],
          [
           "Metazoa"
          ],
          [
           "Viridiplantae"
          ],
          [
           "Metazoa"
          ],
          [
           "Viridiplantae"
          ],
          [
           "Metazoa"
          ],
          [
           "Fungi"
          ],
          [
           "unknown"
          ],
          [
           "unknown"
          ],
          [
           "Fungi"
          ],
          [
           "Metazoa"
          ],
          [
           "Viridiplantae"
          ],
          [
           "Viridiplantae"
          ],
          [
           "Viridiplantae"
          ],
          [
           "Viridiplantae"
          ],
          [
           "unknown"
          ],
          [
           "Fungi"
          ],
          [
           "Metazoa"
          ],
          [
           "Viridiplantae"
          ],
          [
           "Viridiplantae"
          ],
          [
           "Metazoa"
          ],
          [
           "Metazoa"
          ],
          [
           "Metazoa"
          ],
          [
           "Viridiplantae"
          ],
          [
           "Metazoa"
          ],
          [
           "Metazoa"
          ],
          [
           "unknown"
          ],
          [
           "Metazoa"
          ],
          [
           "Metazoa"
          ],
          [
           "Metazoa"
          ],
          [
           "Metazoa"
          ],
          [
           "unknown"
          ],
          [
           "Viridiplantae"
          ],
          [
           "Metazoa"
          ],
          [
           "unknown"
          ],
          [
           "unknown"
          ],
          [
           "Fungi"
          ],
          [
           "Metazoa"
          ],
          [
           "Metazoa"
          ],
          [
           "unknown"
          ],
          [
           "Metazoa"
          ],
          [
           "Fungi"
          ],
          [
           "Metazoa"
          ],
          [
           "Fungi"
          ],
          [
           "Metazoa"
          ],
          [
           "Metazoa"
          ],
          [
           "Metazoa"
          ],
          [
           "unknown"
          ],
          [
           "unknown"
          ],
          [
           "unknown"
          ],
          [
           "unknown"
          ],
          [
           "Metazoa"
          ],
          [
           "Metazoa"
          ],
          [
           "Fungi"
          ],
          [
           "Viridiplantae"
          ],
          [
           "Metazoa"
          ],
          [
           "Metazoa"
          ],
          [
           "unknown"
          ],
          [
           "Metazoa"
          ],
          [
           "unknown"
          ],
          [
           "Fungi"
          ],
          [
           "Fungi"
          ],
          [
           "Viridiplantae"
          ],
          [
           "Fungi"
          ],
          [
           "unknown"
          ],
          [
           "Metazoa"
          ],
          [
           "Viridiplantae"
          ],
          [
           "Fungi"
          ],
          [
           "Fungi"
          ],
          [
           "Metazoa"
          ],
          [
           "unknown"
          ],
          [
           "Viridiplantae"
          ],
          [
           "Metazoa"
          ],
          [
           "Viridiplantae"
          ],
          [
           "Metazoa"
          ],
          [
           "unknown"
          ],
          [
           "unknown"
          ],
          [
           "unknown"
          ],
          [
           "Metazoa"
          ],
          [
           "Viridiplantae"
          ],
          [
           "unknown"
          ],
          [
           "Viridiplantae"
          ],
          [
           "Metazoa"
          ],
          [
           "unknown"
          ],
          [
           "Viridiplantae"
          ],
          [
           "Viridiplantae"
          ],
          [
           "Metazoa"
          ],
          [
           "unknown"
          ],
          [
           "Metazoa"
          ],
          [
           "Metazoa"
          ],
          [
           "Fungi"
          ],
          [
           "Metazoa"
          ],
          [
           "Metazoa"
          ],
          [
           "Metazoa"
          ],
          [
           "unknown"
          ],
          [
           "Viridiplantae"
          ],
          [
           "Metazoa"
          ],
          [
           "Fungi"
          ],
          [
           "Metazoa"
          ],
          [
           "Viridiplantae"
          ],
          [
           "Fungi"
          ],
          [
           "Fungi"
          ],
          [
           "Fungi"
          ],
          [
           "unknown"
          ],
          [
           "Viridiplantae"
          ],
          [
           "Fungi"
          ],
          [
           "unknown"
          ],
          [
           "Metazoa"
          ],
          [
           "Metazoa"
          ],
          [
           "Metazoa"
          ],
          [
           "Viridiplantae"
          ],
          [
           "unknown"
          ],
          [
           "Fungi"
          ],
          [
           "Metazoa"
          ],
          [
           "Viridiplantae"
          ],
          [
           "Metazoa"
          ],
          [
           "Metazoa"
          ],
          [
           "unknown"
          ],
          [
           "Metazoa"
          ],
          [
           "Metazoa"
          ],
          [
           "Metazoa"
          ],
          [
           "Fungi"
          ],
          [
           "unknown"
          ],
          [
           "Viridiplantae"
          ],
          [
           "Metazoa"
          ],
          [
           "unknown"
          ],
          [
           "Viridiplantae"
          ],
          [
           "Viridiplantae"
          ],
          [
           "Viridiplantae"
          ],
          [
           "Viridiplantae"
          ],
          [
           "Metazoa"
          ],
          [
           "Metazoa"
          ],
          [
           "Viridiplantae"
          ],
          [
           "Metazoa"
          ],
          [
           "unknown"
          ],
          [
           "Fungi"
          ],
          [
           "Viridiplantae"
          ],
          [
           "Fungi"
          ],
          [
           "unknown"
          ],
          [
           "Viridiplantae"
          ],
          [
           "Fungi"
          ],
          [
           "unknown"
          ],
          [
           "Metazoa"
          ],
          [
           "unknown"
          ],
          [
           "Metazoa"
          ],
          [
           "unknown"
          ],
          [
           "Metazoa"
          ],
          [
           "Fungi"
          ],
          [
           "Fungi"
          ],
          [
           "Fungi"
          ],
          [
           "unknown"
          ],
          [
           "Metazoa"
          ],
          [
           "Metazoa"
          ],
          [
           "unknown"
          ],
          [
           "Fungi"
          ],
          [
           "Fungi"
          ],
          [
           "Metazoa"
          ],
          [
           "Fungi"
          ],
          [
           "unknown"
          ],
          [
           "Metazoa"
          ],
          [
           "Metazoa"
          ],
          [
           "Fungi"
          ],
          [
           "Viridiplantae"
          ],
          [
           "Metazoa"
          ],
          [
           "Viridiplantae"
          ],
          [
           "Metazoa"
          ],
          [
           "unknown"
          ],
          [
           "Metazoa"
          ],
          [
           "Fungi"
          ],
          [
           "Metazoa"
          ],
          [
           "Metazoa"
          ],
          [
           "unknown"
          ],
          [
           "unknown"
          ],
          [
           "unknown"
          ],
          [
           "Metazoa"
          ],
          [
           "unknown"
          ],
          [
           "Viridiplantae"
          ],
          [
           "Metazoa"
          ],
          [
           "Metazoa"
          ],
          [
           "Metazoa"
          ],
          [
           "unknown"
          ],
          [
           "Metazoa"
          ],
          [
           "Metazoa"
          ],
          [
           "Metazoa"
          ],
          [
           "Viridiplantae"
          ],
          [
           "Metazoa"
          ],
          [
           "Metazoa"
          ],
          [
           "Fungi"
          ],
          [
           "Fungi"
          ],
          [
           "unknown"
          ],
          [
           "unknown"
          ],
          [
           "Fungi"
          ],
          [
           "unknown"
          ],
          [
           "unknown"
          ],
          [
           "Fungi"
          ],
          [
           "Fungi"
          ],
          [
           "unknown"
          ],
          [
           "Metazoa"
          ],
          [
           "Metazoa"
          ],
          [
           "Metazoa"
          ],
          [
           "unknown"
          ],
          [
           "Metazoa"
          ],
          [
           "unknown"
          ],
          [
           "Metazoa"
          ],
          [
           "unknown"
          ],
          [
           "Metazoa"
          ],
          [
           "Metazoa"
          ],
          [
           "Metazoa"
          ],
          [
           "unknown"
          ],
          [
           "Fungi"
          ],
          [
           "Fungi"
          ],
          [
           "unknown"
          ],
          [
           "Fungi"
          ],
          [
           "unknown"
          ],
          [
           "Viridiplantae"
          ],
          [
           "Metazoa"
          ],
          [
           "Metazoa"
          ],
          [
           "Viridiplantae"
          ],
          [
           "Viridiplantae"
          ],
          [
           "unknown"
          ],
          [
           "Fungi"
          ],
          [
           "Metazoa"
          ],
          [
           "Fungi"
          ],
          [
           "unknown"
          ],
          [
           "Fungi"
          ],
          [
           "Metazoa"
          ],
          [
           "unknown"
          ],
          [
           "unknown"
          ],
          [
           "Fungi"
          ],
          [
           "Fungi"
          ],
          [
           "Viridiplantae"
          ],
          [
           "Metazoa"
          ],
          [
           "Fungi"
          ],
          [
           "unknown"
          ],
          [
           "Viridiplantae"
          ],
          [
           "Metazoa"
          ],
          [
           "unknown"
          ],
          [
           "unknown"
          ],
          [
           "Metazoa"
          ],
          [
           "Metazoa"
          ],
          [
           "Metazoa"
          ],
          [
           "Fungi"
          ],
          [
           "Metazoa"
          ],
          [
           "Metazoa"
          ],
          [
           "Metazoa"
          ],
          [
           "Fungi"
          ],
          [
           "Metazoa"
          ],
          [
           "Viridiplantae"
          ],
          [
           "Metazoa"
          ],
          [
           "unknown"
          ],
          [
           "Metazoa"
          ],
          [
           "Viridiplantae"
          ],
          [
           "Fungi"
          ],
          [
           "unknown"
          ],
          [
           "Metazoa"
          ],
          [
           "unknown"
          ],
          [
           "Fungi"
          ],
          [
           "Viridiplantae"
          ],
          [
           "unknown"
          ],
          [
           "Metazoa"
          ],
          [
           "Fungi"
          ],
          [
           "Metazoa"
          ],
          [
           "Metazoa"
          ],
          [
           "Metazoa"
          ],
          [
           "Metazoa"
          ],
          [
           "Fungi"
          ],
          [
           "unknown"
          ],
          [
           "Metazoa"
          ],
          [
           "Fungi"
          ],
          [
           "unknown"
          ],
          [
           "unknown"
          ],
          [
           "Fungi"
          ],
          [
           "Viridiplantae"
          ],
          [
           "Viridiplantae"
          ],
          [
           "Viridiplantae"
          ],
          [
           "unknown"
          ],
          [
           "Viridiplantae"
          ],
          [
           "Fungi"
          ],
          [
           "unknown"
          ],
          [
           "Metazoa"
          ],
          [
           "unknown"
          ],
          [
           "Metazoa"
          ],
          [
           "Metazoa"
          ],
          [
           "Metazoa"
          ],
          [
           "Viridiplantae"
          ],
          [
           "Fungi"
          ],
          [
           "Metazoa"
          ],
          [
           "Metazoa"
          ],
          [
           "Metazoa"
          ],
          [
           "unknown"
          ],
          [
           "unknown"
          ],
          [
           "Viridiplantae"
          ],
          [
           "Metazoa"
          ],
          [
           "Fungi"
          ],
          [
           "Metazoa"
          ],
          [
           "Fungi"
          ],
          [
           "unknown"
          ],
          [
           "Metazoa"
          ],
          [
           "Metazoa"
          ],
          [
           "Metazoa"
          ],
          [
           "Metazoa"
          ],
          [
           "Metazoa"
          ],
          [
           "Viridiplantae"
          ],
          [
           "Metazoa"
          ],
          [
           "Metazoa"
          ],
          [
           "Metazoa"
          ],
          [
           "Metazoa"
          ],
          [
           "unknown"
          ],
          [
           "unknown"
          ],
          [
           "Fungi"
          ],
          [
           "Viridiplantae"
          ],
          [
           "unknown"
          ],
          [
           "Viridiplantae"
          ],
          [
           "unknown"
          ],
          [
           "Metazoa"
          ],
          [
           "Metazoa"
          ],
          [
           "Metazoa"
          ],
          [
           "Metazoa"
          ],
          [
           "Metazoa"
          ],
          [
           "Fungi"
          ],
          [
           "Metazoa"
          ],
          [
           "Metazoa"
          ],
          [
           "Metazoa"
          ],
          [
           "Metazoa"
          ],
          [
           "Metazoa"
          ],
          [
           "Viridiplantae"
          ],
          [
           "Fungi"
          ],
          [
           "Viridiplantae"
          ],
          [
           "Viridiplantae"
          ],
          [
           "Viridiplantae"
          ],
          [
           "unknown"
          ],
          [
           "Viridiplantae"
          ],
          [
           "Viridiplantae"
          ],
          [
           "Metazoa"
          ],
          [
           "Metazoa"
          ],
          [
           "Viridiplantae"
          ],
          [
           "Metazoa"
          ],
          [
           "Metazoa"
          ],
          [
           "Viridiplantae"
          ],
          [
           "Metazoa"
          ],
          [
           "Fungi"
          ],
          [
           "Metazoa"
          ],
          [
           "Viridiplantae"
          ],
          [
           "Fungi"
          ],
          [
           "Metazoa"
          ],
          [
           "Viridiplantae"
          ],
          [
           "Metazoa"
          ],
          [
           "unknown"
          ],
          [
           "Metazoa"
          ],
          [
           "unknown"
          ],
          [
           "Metazoa"
          ],
          [
           "unknown"
          ],
          [
           "Fungi"
          ],
          [
           "Metazoa"
          ],
          [
           "Viridiplantae"
          ],
          [
           "unknown"
          ],
          [
           "Fungi"
          ],
          [
           "Fungi"
          ],
          [
           "Metazoa"
          ],
          [
           "Metazoa"
          ],
          [
           "Metazoa"
          ],
          [
           "Metazoa"
          ],
          [
           "Metazoa"
          ],
          [
           "Metazoa"
          ],
          [
           "Metazoa"
          ],
          [
           "Viridiplantae"
          ],
          [
           "Fungi"
          ],
          [
           "unknown"
          ],
          [
           "Viridiplantae"
          ],
          [
           "Viridiplantae"
          ],
          [
           "Viridiplantae"
          ],
          [
           "unknown"
          ],
          [
           "Fungi"
          ],
          [
           "Metazoa"
          ],
          [
           "unknown"
          ],
          [
           "Viridiplantae"
          ],
          [
           "Metazoa"
          ],
          [
           "Viridiplantae"
          ],
          [
           "Viridiplantae"
          ],
          [
           "unknown"
          ],
          [
           "Metazoa"
          ],
          [
           "unknown"
          ],
          [
           "Metazoa"
          ],
          [
           "unknown"
          ],
          [
           "unknown"
          ],
          [
           "unknown"
          ],
          [
           "Metazoa"
          ],
          [
           "unknown"
          ],
          [
           "unknown"
          ],
          [
           "Viridiplantae"
          ],
          [
           "Viridiplantae"
          ],
          [
           "Metazoa"
          ],
          [
           "Viridiplantae"
          ],
          [
           "unknown"
          ],
          [
           "unknown"
          ],
          [
           "unknown"
          ],
          [
           "Metazoa"
          ],
          [
           "Metazoa"
          ],
          [
           "Viridiplantae"
          ],
          [
           "unknown"
          ],
          [
           "Metazoa"
          ],
          [
           "Metazoa"
          ],
          [
           "Metazoa"
          ],
          [
           "Metazoa"
          ],
          [
           "unknown"
          ],
          [
           "Fungi"
          ],
          [
           "Fungi"
          ],
          [
           "Fungi"
          ],
          [
           "Metazoa"
          ],
          [
           "Metazoa"
          ],
          [
           "Fungi"
          ],
          [
           "Fungi"
          ],
          [
           "Fungi"
          ],
          [
           "Metazoa"
          ],
          [
           "unknown"
          ],
          [
           "unknown"
          ],
          [
           "unknown"
          ],
          [
           "Viridiplantae"
          ],
          [
           "unknown"
          ],
          [
           "unknown"
          ],
          [
           "Metazoa"
          ],
          [
           "unknown"
          ],
          [
           "unknown"
          ],
          [
           "Metazoa"
          ],
          [
           "Metazoa"
          ],
          [
           "Viridiplantae"
          ],
          [
           "Viridiplantae"
          ],
          [
           "Viridiplantae"
          ],
          [
           "Fungi"
          ],
          [
           "unknown"
          ],
          [
           "unknown"
          ],
          [
           "unknown"
          ],
          [
           "unknown"
          ],
          [
           "unknown"
          ],
          [
           "Viridiplantae"
          ],
          [
           "unknown"
          ],
          [
           "Metazoa"
          ],
          [
           "unknown"
          ],
          [
           "Viridiplantae"
          ],
          [
           "Metazoa"
          ],
          [
           "Metazoa"
          ],
          [
           "Viridiplantae"
          ],
          [
           "Viridiplantae"
          ],
          [
           "unknown"
          ],
          [
           "Fungi"
          ],
          [
           "Viridiplantae"
          ],
          [
           "Metazoa"
          ],
          [
           "unknown"
          ],
          [
           "Fungi"
          ],
          [
           "unknown"
          ],
          [
           "Viridiplantae"
          ],
          [
           "Fungi"
          ],
          [
           "Fungi"
          ],
          [
           "unknown"
          ],
          [
           "Viridiplantae"
          ],
          [
           "Viridiplantae"
          ],
          [
           "Metazoa"
          ],
          [
           "Metazoa"
          ],
          [
           "Metazoa"
          ],
          [
           "Metazoa"
          ],
          [
           "Viridiplantae"
          ],
          [
           "Viridiplantae"
          ],
          [
           "Fungi"
          ],
          [
           "Fungi"
          ],
          [
           "Fungi"
          ],
          [
           "Metazoa"
          ],
          [
           "unknown"
          ],
          [
           "Metazoa"
          ],
          [
           "Viridiplantae"
          ],
          [
           "unknown"
          ],
          [
           "unknown"
          ],
          [
           "Metazoa"
          ],
          [
           "unknown"
          ],
          [
           "Metazoa"
          ],
          [
           "Metazoa"
          ],
          [
           "unknown"
          ],
          [
           "Fungi"
          ],
          [
           "Viridiplantae"
          ],
          [
           "unknown"
          ],
          [
           "unknown"
          ],
          [
           "Viridiplantae"
          ],
          [
           "Metazoa"
          ],
          [
           "Viridiplantae"
          ],
          [
           "Metazoa"
          ],
          [
           "unknown"
          ],
          [
           "Metazoa"
          ],
          [
           "Metazoa"
          ],
          [
           "Metazoa"
          ],
          [
           "Metazoa"
          ],
          [
           "Metazoa"
          ],
          [
           "Fungi"
          ],
          [
           "unknown"
          ],
          [
           "unknown"
          ],
          [
           "Viridiplantae"
          ],
          [
           "Fungi"
          ],
          [
           "Viridiplantae"
          ],
          [
           "Fungi"
          ],
          [
           "Fungi"
          ],
          [
           "Metazoa"
          ],
          [
           "Fungi"
          ],
          [
           "unknown"
          ],
          [
           "unknown"
          ],
          [
           "unknown"
          ],
          [
           "Metazoa"
          ],
          [
           "Fungi"
          ],
          [
           "Metazoa"
          ],
          [
           "Fungi"
          ],
          [
           "unknown"
          ],
          [
           "Metazoa"
          ],
          [
           "Metazoa"
          ],
          [
           "unknown"
          ],
          [
           "Metazoa"
          ],
          [
           "Viridiplantae"
          ],
          [
           "Fungi"
          ],
          [
           "Fungi"
          ],
          [
           "Viridiplantae"
          ],
          [
           "unknown"
          ],
          [
           "Fungi"
          ],
          [
           "Viridiplantae"
          ],
          [
           "Fungi"
          ],
          [
           "unknown"
          ],
          [
           "unknown"
          ],
          [
           "unknown"
          ],
          [
           "unknown"
          ],
          [
           "Viridiplantae"
          ],
          [
           "unknown"
          ],
          [
           "Viridiplantae"
          ],
          [
           "Viridiplantae"
          ],
          [
           "Viridiplantae"
          ],
          [
           "Metazoa"
          ],
          [
           "Fungi"
          ],
          [
           "Fungi"
          ],
          [
           "Metazoa"
          ],
          [
           "Metazoa"
          ],
          [
           "Metazoa"
          ],
          [
           "Metazoa"
          ],
          [
           "Metazoa"
          ],
          [
           "Metazoa"
          ],
          [
           "Metazoa"
          ],
          [
           "Metazoa"
          ],
          [
           "Metazoa"
          ],
          [
           "Fungi"
          ],
          [
           "Metazoa"
          ],
          [
           "Viridiplantae"
          ],
          [
           "Viridiplantae"
          ],
          [
           "unknown"
          ],
          [
           "Metazoa"
          ],
          [
           "Viridiplantae"
          ],
          [
           "Viridiplantae"
          ],
          [
           "Metazoa"
          ],
          [
           "Fungi"
          ],
          [
           "Metazoa"
          ],
          [
           "Metazoa"
          ],
          [
           "Fungi"
          ],
          [
           "Metazoa"
          ],
          [
           "Metazoa"
          ],
          [
           "unknown"
          ],
          [
           "Metazoa"
          ],
          [
           "Metazoa"
          ],
          [
           "Metazoa"
          ],
          [
           "Metazoa"
          ],
          [
           "Fungi"
          ],
          [
           "unknown"
          ],
          [
           "unknown"
          ],
          [
           "Metazoa"
          ],
          [
           "Metazoa"
          ],
          [
           "Metazoa"
          ],
          [
           "Viridiplantae"
          ],
          [
           "Metazoa"
          ],
          [
           "Viridiplantae"
          ],
          [
           "Viridiplantae"
          ],
          [
           "Metazoa"
          ],
          [
           "Metazoa"
          ],
          [
           "unknown"
          ],
          [
           "Metazoa"
          ],
          [
           "Viridiplantae"
          ],
          [
           "Metazoa"
          ],
          [
           "unknown"
          ],
          [
           "unknown"
          ],
          [
           "Viridiplantae"
          ],
          [
           "Metazoa"
          ],
          [
           "Metazoa"
          ],
          [
           "Fungi"
          ],
          [
           "Viridiplantae"
          ],
          [
           "unknown"
          ],
          [
           "unknown"
          ],
          [
           "unknown"
          ],
          [
           "unknown"
          ],
          [
           "Viridiplantae"
          ],
          [
           "Fungi"
          ],
          [
           "Metazoa"
          ],
          [
           "Metazoa"
          ],
          [
           "unknown"
          ],
          [
           "Metazoa"
          ],
          [
           "Metazoa"
          ],
          [
           "Viridiplantae"
          ],
          [
           "unknown"
          ],
          [
           "unknown"
          ],
          [
           "unknown"
          ],
          [
           "Metazoa"
          ],
          [
           "Metazoa"
          ],
          [
           "Metazoa"
          ],
          [
           "Viridiplantae"
          ],
          [
           "Metazoa"
          ],
          [
           "unknown"
          ],
          [
           "Metazoa"
          ],
          [
           "Metazoa"
          ],
          [
           "Metazoa"
          ],
          [
           "unknown"
          ],
          [
           "Viridiplantae"
          ],
          [
           "unknown"
          ],
          [
           "Viridiplantae"
          ],
          [
           "Metazoa"
          ],
          [
           "Fungi"
          ],
          [
           "Metazoa"
          ],
          [
           "Metazoa"
          ],
          [
           "unknown"
          ],
          [
           "Viridiplantae"
          ],
          [
           "Metazoa"
          ],
          [
           "Metazoa"
          ],
          [
           "Viridiplantae"
          ],
          [
           "unknown"
          ],
          [
           "Metazoa"
          ],
          [
           "Metazoa"
          ],
          [
           "Viridiplantae"
          ],
          [
           "unknown"
          ],
          [
           "Fungi"
          ],
          [
           "Metazoa"
          ],
          [
           "Fungi"
          ],
          [
           "unknown"
          ],
          [
           "unknown"
          ],
          [
           "unknown"
          ],
          [
           "unknown"
          ],
          [
           "unknown"
          ],
          [
           "unknown"
          ],
          [
           "Viridiplantae"
          ],
          [
           "Viridiplantae"
          ],
          [
           "Viridiplantae"
          ],
          [
           "unknown"
          ],
          [
           "unknown"
          ],
          [
           "Viridiplantae"
          ],
          [
           "Metazoa"
          ],
          [
           "Metazoa"
          ],
          [
           "Metazoa"
          ],
          [
           "Viridiplantae"
          ],
          [
           "unknown"
          ],
          [
           "Metazoa"
          ],
          [
           "unknown"
          ],
          [
           "Metazoa"
          ],
          [
           "unknown"
          ],
          [
           "Fungi"
          ],
          [
           "Fungi"
          ],
          [
           "Metazoa"
          ],
          [
           "unknown"
          ],
          [
           "Viridiplantae"
          ],
          [
           "Metazoa"
          ],
          [
           "Metazoa"
          ],
          [
           "unknown"
          ],
          [
           "Metazoa"
          ],
          [
           "Viridiplantae"
          ],
          [
           "Fungi"
          ],
          [
           "unknown"
          ],
          [
           "unknown"
          ],
          [
           "Fungi"
          ],
          [
           "Metazoa"
          ],
          [
           "Metazoa"
          ],
          [
           "Metazoa"
          ],
          [
           "Viridiplantae"
          ],
          [
           "Viridiplantae"
          ],
          [
           "Metazoa"
          ],
          [
           "Viridiplantae"
          ],
          [
           "unknown"
          ],
          [
           "Metazoa"
          ],
          [
           "Metazoa"
          ],
          [
           "unknown"
          ],
          [
           "Fungi"
          ],
          [
           "unknown"
          ],
          [
           "Metazoa"
          ],
          [
           "unknown"
          ],
          [
           "Fungi"
          ],
          [
           "Metazoa"
          ],
          [
           "unknown"
          ],
          [
           "unknown"
          ],
          [
           "Metazoa"
          ],
          [
           "unknown"
          ],
          [
           "Fungi"
          ],
          [
           "unknown"
          ],
          [
           "Fungi"
          ],
          [
           "Metazoa"
          ],
          [
           "Metazoa"
          ],
          [
           "Metazoa"
          ],
          [
           "Metazoa"
          ],
          [
           "Metazoa"
          ],
          [
           "Fungi"
          ],
          [
           "Metazoa"
          ],
          [
           "Viridiplantae"
          ],
          [
           "Metazoa"
          ],
          [
           "Fungi"
          ],
          [
           "Metazoa"
          ],
          [
           "Metazoa"
          ],
          [
           "Metazoa"
          ],
          [
           "Metazoa"
          ],
          [
           "Metazoa"
          ],
          [
           "Fungi"
          ],
          [
           "Metazoa"
          ],
          [
           "Metazoa"
          ],
          [
           "Metazoa"
          ],
          [
           "Viridiplantae"
          ],
          [
           "unknown"
          ],
          [
           "Fungi"
          ],
          [
           "unknown"
          ],
          [
           "Viridiplantae"
          ],
          [
           "Fungi"
          ],
          [
           "Metazoa"
          ],
          [
           "Metazoa"
          ],
          [
           "unknown"
          ],
          [
           "Fungi"
          ],
          [
           "Fungi"
          ],
          [
           "Viridiplantae"
          ],
          [
           "Viridiplantae"
          ],
          [
           "Metazoa"
          ],
          [
           "Metazoa"
          ],
          [
           "Metazoa"
          ],
          [
           "unknown"
          ],
          [
           "Viridiplantae"
          ],
          [
           "Metazoa"
          ],
          [
           "Fungi"
          ],
          [
           "Metazoa"
          ],
          [
           "unknown"
          ],
          [
           "Metazoa"
          ],
          [
           "unknown"
          ],
          [
           "Metazoa"
          ],
          [
           "Viridiplantae"
          ],
          [
           "Viridiplantae"
          ],
          [
           "Metazoa"
          ],
          [
           "unknown"
          ],
          [
           "Metazoa"
          ],
          [
           "Metazoa"
          ],
          [
           "Viridiplantae"
          ],
          [
           "Metazoa"
          ],
          [
           "Fungi"
          ],
          [
           "Metazoa"
          ],
          [
           "Metazoa"
          ],
          [
           "Viridiplantae"
          ],
          [
           "unknown"
          ],
          [
           "unknown"
          ],
          [
           "Metazoa"
          ],
          [
           "unknown"
          ],
          [
           "Fungi"
          ],
          [
           "Viridiplantae"
          ],
          [
           "Viridiplantae"
          ],
          [
           "Fungi"
          ],
          [
           "Viridiplantae"
          ],
          [
           "Metazoa"
          ],
          [
           "Metazoa"
          ],
          [
           "Viridiplantae"
          ],
          [
           "Fungi"
          ],
          [
           "unknown"
          ],
          [
           "Metazoa"
          ],
          [
           "Metazoa"
          ],
          [
           "Fungi"
          ],
          [
           "Viridiplantae"
          ],
          [
           "Metazoa"
          ],
          [
           "Fungi"
          ],
          [
           "Metazoa"
          ],
          [
           "Metazoa"
          ],
          [
           "unknown"
          ],
          [
           "Viridiplantae"
          ],
          [
           "Fungi"
          ],
          [
           "unknown"
          ],
          [
           "Metazoa"
          ],
          [
           "unknown"
          ],
          [
           "Fungi"
          ],
          [
           "Viridiplantae"
          ],
          [
           "Viridiplantae"
          ],
          [
           "Metazoa"
          ],
          [
           "Metazoa"
          ],
          [
           "Fungi"
          ],
          [
           "Fungi"
          ],
          [
           "unknown"
          ],
          [
           "Fungi"
          ],
          [
           "Viridiplantae"
          ],
          [
           "unknown"
          ],
          [
           "Fungi"
          ],
          [
           "Metazoa"
          ],
          [
           "unknown"
          ],
          [
           "Fungi"
          ],
          [
           "unknown"
          ]
         ],
         "domain": {
          "x": [
           0,
           1
          ],
          "y": [
           0,
           1
          ]
         },
         "hovertemplate": "labels=%{label}<br>count=%{value}<br>parent=%{parent}<br>id=%{id}<br>kingdom=%{customdata[0]}<extra></extra>",
         "ids": [
          "unknown",
          "Metazoa/Rotifera/Eurotatoria/unknown",
          "unknown/unknown/Filasterea/unknown",
          "Fungi/Ascomycota/Leotiomycetes/unknown",
          "Metazoa/Chordata/Mammalia/Macroscelidea",
          "Metazoa/Cnidaria/Myxozoa/unknown",
          "Metazoa/Chordata/Actinopteri/Lutjaniformes",
          "unknown/unknown/Pelagophyceae/unknown",
          "Metazoa/Annelida/Clitellata/Lumbriculida",
          "Metazoa/Bryozoa/Phylactolaemata/unknown",
          "unknown/Discosea/unknown/Longamoebia",
          "Metazoa/Mollusca/Gastropoda/Littorinimorpha",
          "Viridiplantae/Streptophyta/Magnoliopsida/Liliales",
          "unknown/Chlorophyta/unknown/unknown",
          "Metazoa/Hemichordata/Enteropneusta/unknown",
          "Metazoa/Porifera/Calcarea/Leucosolenida",
          "unknown/Haptophyta/unknown/unknown",
          "Viridiplantae/Streptophyta/Leiosporocerotopsida/Leiosporocerotales",
          "Viridiplantae/Streptophyta/Magnoliopsida/Laurales",
          "unknown/Placozoa/unknown/unknown",
          "unknown/Preaxostyla/unknown/unknown",
          "Metazoa/Chordata/Mammalia/Lagomorpha",
          "Metazoa/Chordata/Actinopteri/Kurtiformes",
          "Viridiplantae/Streptophyta/Jungermanniopsida/Jungermanniales",
          "Viridiplantae/Streptophyta/Andreaeopsida",
          "Fungi/Basidiomycota/Agaricomycetes/Jaapiales",
          "Metazoa/Chordata/Appendicularia",
          "Metazoa/Arthropoda/Arachnida",
          "Metazoa/Echinodermata/Asteroidea",
          "Metazoa/Arthropoda/Malacostraca/Leptostraca",
          "unknown/Haptophyta/unknown/Isochrysidales",
          "Fungi/Basidiomycota/Malasseziomycetes/Malasseziales",
          "Fungi/Ascomycota/Dothideomycetes/unknown",
          "Fungi/Ascomycota/Dothideomycetes/Venturiales",
          "Metazoa/Chordata/Myxini/Myxiniformes",
          "Fungi/Ascomycota/Dothideomycetes/Mytilinidiales",
          "Metazoa/Mollusca/Bivalvia/Myida",
          "Fungi/Ascomycota/Dothideomycetes/Mycosphaerellales",
          "Metazoa/Chordata/Aves/Musophagiformes",
          "Metazoa/Cnidaria/Myxozoa/Multivalvulida",
          "Viridiplantae/Streptophyta/Magnoliopsida/Zingiberales",
          "Metazoa/Cnidaria/Anthozoa/Zoantharia",
          "Fungi/Mucoromycota/Mortierellomycetes/Mortierellales",
          "Viridiplantae/Streptophyta/Zygnemophyceae/Zygnematales",
          "Fungi/Chytridiomycota/Monoblepharidomycetes/Monoblepharidales",
          "Fungi/Basidiomycota/Mixiomycetes/Mixiales",
          "Viridiplantae/Streptophyta/Magnoliopsida/Malpighiales",
          "unknown/Foraminifera/unknown/Miliolida",
          "Fungi/Ascomycota/Sordariomycetes/Microascales",
          "Viridiplantae/Streptophyta/Jungermanniopsida/Metzgeriales",
          "Viridiplantae/Streptophyta/Mesostigmatophyceae/Mesostigmatales",
          "Metazoa/Arthropoda/Arachnida/Mesostigmata",
          "Metazoa/Nematoda/Enoplea/Mermithida",
          "unknown/Bacillariophyta/Coscinodiscophyceae/Melosirales",
          "Viridiplantae/Chlorophyta/Chlorophyceae/unknown",
          "Metazoa/Arthropoda/Insecta/Mecoptera",
          "unknown/Evosea/unknown/Mastigamoebida",
          "unknown/Bacillariophyta/Coscinodiscophyceae/unknown",
          "Viridiplantae/Streptophyta/Polypodiopsida/Marattiales",
          "Metazoa/Arthropoda/Insecta/Mantophasmatodea",
          "Metazoa/Arthropoda/Insecta/Mantodea",
          "Fungi/Ascomycota/Dothideomycetes/Microthyriales",
          "Viridiplantae/Chlorophyta/Ulvophyceae/Ignatiales",
          "unknown/unknown/Ichthyosporea/Ichthyophonida",
          "unknown/Bacillariophyta/Bacillariophyceae",
          "unknown/Euglenozoa/Euglenida",
          "unknown/Rhodophyta/Florideophyceae/Rhodymeniales",
          "unknown/Rhodophyta/Rhodellophyceae/Glaucosphaerales",
          "unknown/unknown/Eustigmatophyceae",
          "Metazoa/Tardigrada/Eutardigrada",
          "unknown/Rhodophyta/Florideophyceae/Gigartinales",
          "Fungi/Basidiomycota/Exobasidiomycetes/Georgefischeriales",
          "Fungi/Ascomycota/Geoglossomycetes/Geoglossales",
          "Metazoa/Mollusca/Gastropoda",
          "Viridiplantae/Streptophyta/Ginkgoopsida",
          "Fungi/Basidiomycota/Agaricomycetes/Geastrales",
          "unknown/unknown/Glaucocystophyceae",
          "Metazoa/Chordata/Aves/Galliformes",
          "Fungi/Zoopagomycota/Entomophthoromycetes",
          "Metazoa/Bryozoa/Gymnolaemata",
          "Viridiplantae/Streptophyta/Bryopsida/Funariales",
          "unknown/unknown/Phaeophyceae/Fucales",
          "unknown/Bacillariophyta/Fragilariophyceae/Fragilariales",
          "Fungi/Basidiomycota/Tremellomycetes/Filobasidiales",
          "Metazoa/Cnidaria/Hydrozoa",
          "unknown/Cercozoa/Imbricatea",
          "Metazoa/Chordata/Aves/Eurypygiformes",
          "Fungi/Ascomycota/Eurotiomycetes/Eurotiales",
          "unknown/Bacillariophyta/Mediophyceae/Eupodiscales",
          "unknown/Ciliophora/Spirotrichea/Euplotida",
          "Metazoa/Arthropoda/Insecta",
          "Fungi/Zoopagomycota/Kickxellomycetes",
          "Fungi/Ascomycota/Lecanoromycetes",
          "Metazoa/Chordata/Actinopteri/Gadiformes",
          "Metazoa/Hemichordata/Enteropneusta",
          "Metazoa/Nematoda/Enoplea",
          "Fungi/Ascomycota/Sordariomycetes/Glomerellales",
          "Fungi/Zoopagomycota/Basidiobolomycetes",
          "Viridiplantae/Streptophyta/Bryopsida/Hypnales",
          "Metazoa/Arthropoda/Insecta/Hymenoptera",
          "Viridiplantae/Streptophyta/Polypodiopsida/Hymenophyllales",
          "unknown/unknown/Breviatea",
          "Metazoa/Porifera/Homoscleromorpha/Homosclerophorida",
          "Metazoa/Platyhelminthes/Cestoda",
          "unknown/Rhodophyta/Florideophyceae/Hildenbrandiales",
          "Metazoa/Chordata/Chondrichthyes/Heterodontiformes",
          "Metazoa/Arthropoda/Insecta/Hemiptera",
          "unknown/Bacillariophyta/Mediophyceae/Hemiaulales",
          "Metazoa/Chordata/Cladistia",
          "Metazoa/Annelida/Clitellata",
          "Viridiplantae/Streptophyta/Coleochaetophyceae",
          "Metazoa/Arthropoda/Hexanauplia/Harpacticoida",
          "Metazoa/Porifera/Demospongiae/Haplosclerida",
          "unknown/Rhodophyta/Florideophyceae/Halymeniales",
          "unknown/unknown/Cryptophyceae",
          "Metazoa/Cnidaria/Cubozoa",
          "Viridiplantae/Streptophyta/Magnoliopsida/Gunnerales",
          "Metazoa/Arthropoda/Insecta/Grylloblattodea",
          "Metazoa/Chordata/Aves/Gruiformes",
          "unknown/unknown/Dictyochophyceae",
          "unknown/Rhodophyta/Florideophyceae/Gracilariales",
          "unknown/unknown/Dinophyceae/Gonyaulacales",
          "Fungi/Zoopagomycota/Dimargaritomycetes",
          "unknown/unknown/Dinophyceae",
          "Metazoa/Arthropoda/Diplopoda",
          "Metazoa/Arthropoda/Diplopoda/Glomerida",
          "unknown/Nebulidia/Nebulidea/Nebulidida",
          "Metazoa/Chordata/Leptocardii",
          "Metazoa/Arthropoda/Remipedia/Nectiopoda",
          "unknown/Euglenozoa/Kinetoplastea/Neobodonida",
          "Fungi/Ascomycota/Sordariomycetes/Sordariales",
          "Metazoa/Chordata/Actinopteri/Spariformes",
          "Viridiplantae/Streptophyta/Sphagnopsida/Sphagnales",
          "Viridiplantae/Streptophyta/Jungermanniopsida/Porellales",
          "Metazoa/Arthropoda/Diplopoda/Polyzoniida",
          "Fungi/Chytridiomycota/Chytridiomycetes/Spizellomycetales",
          "Viridiplantae/Streptophyta/Polytrichopsida/Polytrichales",
          "unknown/Ciliophora/Spirotrichea/Sporadotrichida",
          "Fungi/Basidiomycota/Agaricomycetes/Polyporales",
          "Viridiplantae/Streptophyta/Polypodiopsida/Polypodiales",
          "Metazoa/Arthropoda/Diplopoda/Polydesmida",
          "unknown/Rhodophyta/Florideophyceae/Sporolithales",
          "Metazoa/Cnidaria/Staurozoa/Stauromedusae",
          "Metazoa/Mollusca/Bivalvia/Solemyida",
          "Metazoa/Arthropoda/Ostracoda/Podocopida",
          "Metazoa/Chordata/Ascidiacea/Stolidobranchia",
          "Metazoa/Rotifera/Eurotatoria/Ploima",
          "unknown/Ciliophora/Litostomatea/Pleurostomatida",
          "Metazoa/Chordata/Actinopteri/Pleuronectiformes",
          "Fungi/Ascomycota/Dothideomycetes/Pleosporales",
          "Metazoa/Chordata/Aves/Strigiformes",
          "Metazoa/Nematoda/Chromadorea/Strongylida",
          "unknown/Rhodophyta/Stylonematophyceae/Stylonematales",
          "Metazoa/Chordata/Aves/Suliformes",
          "unknown/unknown/Pinguiophyceae/Pinguiochrysidales",
          "Metazoa/Arthropoda/Collembola/Symphypleona",
          "Metazoa/Chordata/Mammalia/Pilosa",
          "Metazoa/Chordata/Actinopteri/Synbranchiformes",
          "unknown/Bacillariophyta/Coscinodiscophyceae/Stephanodiscales",
          "Metazoa/Chordata/Aves/Piciformes",
          "Metazoa/Chordata/Mammalia/Primates",
          "Metazoa/Cnidaria/Scyphozoa/Semaeostomeae",
          "unknown/Foraminifera/unknown/Rotaliida",
          "Metazoa/Cnidaria/Scyphozoa/Rhizostomeae",
          "unknown/Bacillariophyta/Coscinodiscophyceae/Rhizosoleniales",
          "Fungi/Chytridiomycota/Chytridiomycetes/Rhizophydiales",
          "Metazoa/Chordata/Actinopteri/Salmoniformes",
          "Viridiplantae/Streptophyta/Polypodiopsida/Salviniales",
          "Viridiplantae/Streptophyta/Magnoliopsida/Sapindales",
          "unknown/Euglenozoa/Euglenida/Rhabdomonadales",
          "Metazoa/Platyhelminthes/Rhabditophora/Rhabdocoela",
          "Metazoa/Nematoda/Chromadorea/Rhabditida",
          "Metazoa/Arthropoda/Insecta/Raphidioptera",
          "unknown/unknown/Pelagophyceae/Sarcinochrysidales",
          "Viridiplantae/Streptophyta/Magnoliopsida/Saxifragales",
          "Metazoa/Chordata/Aves/Procellariiformes",
          "unknown/Oomycota/unknown/Pythiales",
          "Metazoa/Cnidaria/Anthozoa/Scleralcyonacea",
          "Metazoa/Chordata/Actinopteri/Scombriformes",
          "Metazoa/Mollusca/Gastropoda/Pteropoda",
          "Metazoa/Arthropoda/Arachnida/Scorpiones",
          "Viridiplantae/Streptophyta/Bryopsida/Scouleriales",
          "Viridiplantae/Chlorophyta/Pedinophyceae/Scourfieldiales",
          "Metazoa/Chordata/Aves/Psittaciformes",
          "Fungi/Basidiomycota/Agaricomycetes/Sebacinales",
          "Metazoa/Arthropoda/Arachnida/Pseudoscorpiones",
          "Viridiplantae/Streptophyta/Bryopsida/Pseudoditrichales",
          "unknown/Rhodophyta/Florideophyceae/Sebdeniales",
          "unknown/Apicomplexa/Conoidasida/Protococcidiorida",
          "Viridiplantae/Streptophyta/Lycopodiopsida/Selaginellales",
          "Viridiplantae/Streptophyta/Polypodiopsida/Schizaeales",
          "Fungi/Chytridiomycota/Chytridiomycetes/Synchytriales",
          "Metazoa/Annelida/Polychaeta/Phyllodocida",
          "unknown/unknown/Dinophyceae/Syndiniales",
          "Viridiplantae/Chlorophyta/Trebouxiophyceae/Trebouxiales",
          "Metazoa/Chordata/Actinopteri/Osteoglossiformes",
          "Metazoa/Chordata/Actinopteri/Osmeriformes",
          "Viridiplantae/Streptophyta/Bryopsida/Orthotrichales",
          "unknown/unknown/Xanthophyceae/Tribonematales",
          "Fungi/Ascomycota/Orbiliomycetes/Orbiliales",
          "Metazoa/Platyhelminthes/Trematoda/Opisthorchiida",
          "Metazoa/Platyhelminthes/Rhabditophora/Tricladida",
          "Viridiplantae/Streptophyta/Polypodiopsida/Ophioglossales",
          "unknown/Parabasalia/unknown/Tritrichomonadida",
          "unknown/unknown/Bigyra/Opalinata",
          "Metazoa/Chordata/Aves/Trogoniformes",
          "Viridiplantae/Streptophyta/Magnoliopsida/Oncothecales",
          "Viridiplantae/Streptophyta/Magnoliopsida/Oxalidales",
          "Metazoa/Arthropoda/Arachnida/Trombidiformes",
          "Metazoa/Chordata/Mammalia/Tubulidentata",
          "Viridiplantae/Chlorophyta/Ulvophyceae/Ulotrichales",
          "Metazoa/Mollusca/Gastropoda/Nudibranchia",
          "Viridiplantae/Streptophyta/Anthocerotopsida/Notothyladales",
          "Metazoa/Arthropoda/Branchiopoda/Notostraca",
          "Metazoa/Chordata/Actinopteri/Notacanthiformes",
          "unknown/unknown/Dinophyceae/Noctilucales",
          "Metazoa/Arthropoda/Insecta/Neuroptera",
          "Fungi/Ascomycota/Lecanoromycetes/Umbilicariales",
          "unknown/Apicomplexa/Aconoidasida/Nephromycida",
          "Metazoa/Mollusca/Bivalvia/Unionida",
          "Fungi/Basidiomycota/Ustilaginomycetes/Ustilaginales",
          "Fungi/Chytridiomycota/Neocallimastigomycetes/Neocallimastigales",
          "Fungi/Ascomycota/Dothideomycetes/Trypetheliales",
          "Fungi/Ascomycota/Sordariomycetes/Togniniales",
          "Viridiplantae/Streptophyta/Jungermanniopsida/Pallaviciniales",
          "unknown/Rhodophyta/Florideophyceae/Palmariales",
          "Metazoa/Chordata/Mammalia/Pholidota",
          "Metazoa/Chordata/Ascidiacea/Phlebobranchia",
          "Metazoa/Rotifera/Eurotatoria/Philodinida",
          "unknown/Ciliophora/Oligohymenophorea/Philasterida",
          "Metazoa/Chordata/Actinopteri/Syngnathiformes",
          "Fungi/Ascomycota/Dothideomycetes/Phaeotrichales",
          "Viridiplantae/Streptophyta/Takakiopsida/Takakiales",
          "unknown/Haptophyta/unknown/Phaeocystales",
          "unknown/Rhodophyta/Florideophyceae/Peyssonneliales",
          "Metazoa/Chordata/Hyperoartia/Petromyzontiformes",
          "Fungi/Ascomycota/Lecanoromycetes/Pertusariales",
          "unknown/Oomycota/unknown/Peronosporales",
          "Metazoa/Chordata/Mammalia/Perissodactyla",
          "unknown/unknown/Dinophyceae/Peridiniales",
          "Metazoa/Echinodermata/Echinoidea/Temnopleuroida",
          "unknown/Evosea/unknown/Pelobiontida",
          "Viridiplantae/Streptophyta/Jungermanniopsida/Pelliales",
          "Metazoa/Arthropoda/Pauropoda/Tetramerocerata",
          "unknown/unknown/Pelagophyceae/Pelagomonadales",
          "unknown/Bacillariophyta/Bacillariophyceae/Thalassiophysales",
          "Fungi/Basidiomycota/Agaricomycetes/Thelephorales",
          "unknown/unknown/Dinophyceae/Thoracosphaerales",
          "unknown/Rhodophyta/Florideophyceae/Thoreales",
          "Metazoa/Arthropoda/Insecta/Thysanoptera",
          "Metazoa/Chordata/Aves/Passeriformes",
          "unknown/unknown/Bolidophyceae/Parmales",
          "Fungi/Mucoromycota/Glomeromycetes/Paraglomerales",
          "Viridiplantae/Streptophyta/Bryopsida/Timmiales",
          "unknown/Ciliophora/Spirotrichea/Tintinnida",
          "Metazoa/Mollusca/Bivalvia/Venerida",
          "unknown/Euglenozoa/Euglenida/Euglenales",
          "Metazoa/Annelida/Clitellata/Rhynchobdellida",
          "unknown/Euglenozoa/Kinetoplastea/Eubodonida",
          "Metazoa/Chordata/Actinopteri/Characiformes",
          "Fungi/Ascomycota/Eurotiomycetes/Chaetothyriales",
          "Viridiplantae/Chlorophyta/Chlorophyceae/Chaetophorales",
          "Viridiplantae/Chlorophyta/Chlorophyceae/Chaetopeltidales",
          "Metazoa/Chordata/unknown/Ceratodontiformes",
          "unknown/Rhodophyta/Florideophyceae/Ceramiales",
          "Viridiplantae/Chlorophyta/unknown",
          "Metazoa/Chordata/Actinopteri/Centrarchiformes",
          "Viridiplantae/Streptophyta/Magnoliopsida/Celastrales",
          "Metazoa/Ctenophora/unknown",
          "Metazoa/Chordata/Amphibia/Caudata",
          "Metazoa/Chordata/Aves/Casuariiformes",
          "Metazoa/Cnidaria/Cubozoa/Carybdeida",
          "unknown/Discosea/unknown",
          "Metazoa/Mollusca/Bivalvia/Cardiida",
          "Metazoa/Chordata/Chondrichthyes/Carcharhiniformes",
          "unknown/Euglenozoa/unknown",
          "Fungi/Basidiomycota/Agaricomycetes/Cantharellales",
          "Viridiplantae/Streptophyta/Magnoliopsida/Canellales",
          "unknown/Haptophyta/unknown",
          "Metazoa/Arthropoda/Hexanauplia/Calanoida",
          "Viridiplantae/Streptophyta/Bryopsida/Buxbaumiales",
          "Metazoa/Chordata/Aves/Bucerotiformes",
          "Viridiplantae/Streptophyta/Bryopsida/Bryales",
          "Viridiplantae/Streptophyta/Magnoliopsida/Brassicales",
          "unknown/Parabasalia/unknown",
          "Fungi/Ascomycota/Dothideomycetes/Botryosphaeriales",
          "Metazoa/Chordata/Aves/Charadriiformes",
          "Metazoa/Platyhelminthes/Cestoda/Bothriocephalidea",
          "unknown/unknown/Raphidophyceae/Chattonellales",
          "Metazoa/Chordata/Mammalia/Chiroptera",
          "Metazoa/Chordata/Appendicularia/Copelata",
          "unknown/Ciliophora/Spirotrichea",
          "unknown/Rhodophyta/Compsopogonophyceae/Compsopogonales",
          "Metazoa/Echinodermata/Crinoidea/Comatulida",
          "Metazoa/Chordata/Aves/Columbiformes",
          "unknown/Rhodophyta/Stylonematophyceae",
          "Metazoa/Arthropoda/Symphyla",
          "unknown/unknown/Synurophyceae",
          "Metazoa/Ctenophora/Tentaculata",
          "unknown/Haptophyta/unknown/Coccosphaerales",
          "unknown/Haptophyta/unknown/Coccolithales",
          "Metazoa/Porifera/Calcarea/Clathrinida",
          "Viridiplantae/Chlorophyta/Trebouxiophyceae",
          "Metazoa/Chordata/Mammalia/Cingulata",
          "Viridiplantae/Chlorophyta/Ulvophyceae",
          "Metazoa/Chordata/Actinopteri/Cichliformes",
          "Fungi/Chytridiomycota/Chytridiomycetes/Chytridiales",
          "unknown/unknown/Chrysophyceae/Chromulinales",
          "unknown/Ciliophora/Spirotrichea/Choreotrichida",
          "Fungi/Mucoromycota/Umbelopsidomycetes",
          "Metazoa/Placozoa/Uniplacotomia",
          "Viridiplantae/Chlorophyta/Chloropicophyceae/Chloropicales",
          "Viridiplantae/Chlorophyta/Ulvophyceae/Chlorocystidales",
          "Viridiplantae/Chlorophyta/Trebouxiophyceae/Chlorellales",
          "Viridiplantae/Streptophyta/Magnoliopsida/Chloranthales",
          "unknown/Apicomplexa/Conoidasida/Eucoccidiorida",
          "Fungi/Basidiomycota/Wallemiomycetes",
          "Metazoa/Bryozoa/Gymnolaemata/Cheilostomatida",
          "Viridiplantae/Streptophyta/Sphagnopsida",
          "Viridiplantae/Streptophyta/Magnoliopsida/Boraginales",
          "Metazoa/Chordata/Actinopteri/Blenniiformes",
          "Metazoa/Chordata/Aves/Apodiformes",
          "Metazoa/Echinodermata",
          "Viridiplantae/Streptophyta/Anthocerotopsida/Anthocerotales",
          "Metazoa/Cnidaria/Hydrozoa/Anthoathecata",
          "Metazoa/Chordata/Aves/Anseriformes",
          "unknown/Nebulidia",
          "Metazoa/Nemertea",
          "Metazoa/Arthropoda/Malacostraca/Amphipoda",
          "Metazoa/Chordata/Leptocardii/Amphioxiformes",
          "Metazoa/Echinodermata/Ophiuroidea/Amphilepidida",
          "unknown/unknown/Dinophyceae/Amphidiniales",
          "Viridiplantae/Streptophyta/Magnoliopsida/Amborellales",
          "Metazoa/Placozoa",
          "unknown/Oomycota/unknown/Albuginales",
          "unknown/Rhodophyta/Florideophyceae/Ahnfeltiales",
          "Fungi/Basidiomycota/Agaricomycetes/Agaricales",
          "Metazoa/Rotifera/Eurotatoria/Adinetida",
          "Metazoa/Mollusca/Bivalvia/Adapedonta",
          "unknown/Evosea/Eumycetozoa/Acytosteliales",
          "Metazoa/Tardigrada",
          "Fungi/Ascomycota/Dothideomycetes/Acrospermales",
          "Metazoa/Xenacoelomorpha",
          "Fungi/unknown",
          "Metazoa/Chordata/Actinopteri/Acipenseriformes",
          "Metazoa/Chordata/Aves/Accipitriformes",
          "Metazoa/Chordata/Actinopteri/Acanthuriformes",
          "unknown/unknown/Choanoflagellata/Acanthoecida",
          "unknown/Discosea",
          "unknown/Perkinsozoa/unknown",
          "unknown/unknown/unknown/Apusomonadida",
          "Metazoa/Dicyemida",
          "Metazoa/Arthropoda/Insecta/Blattodea",
          "Fungi/Blastocladiomycota/Blastocladiomycetes/Blastocladiales",
          "Viridiplantae/Streptophyta/Marchantiopsida/Blasiales",
          "Metazoa/Cnidaria/Myxozoa/Bivalvulida",
          "Metazoa/Ctenophora/Nuda/Beroida",
          "unknown/undef/unknown",
          "Metazoa/Chordata/Actinopteri/Beloniformes",
          "unknown/Rhodophyta/Florideophyceae/Batrachospermales",
          "Fungi/unknown/unknown",
          "Fungi/Zoopagomycota/Basidiobolomycetes/Basidiobolales",
          "Viridiplantae/Streptophyta/Bryopsida/Bartramiales",
          "Fungi/Basidiomycota/Bartheletiomycetes/Bartheletiales",
          "unknown/unknown/unknown",
          "Metazoa/Acanthocephala",
          "Viridiplantae/Streptophyta/Magnoliopsida/Austrobaileyales",
          "Fungi/Ascomycota",
          "Fungi/Basidiomycota/Agaricomycetes/Atheliales",
          "Metazoa/Bryozoa",
          "unknown/Cercozoa",
          "Viridiplantae/Streptophyta/Magnoliopsida/Asparagales",
          "Metazoa/Chordata/Mammalia/Artiodactyla",
          "Viridiplantae/Streptophyta/Magnoliopsida/Arecales",
          "Metazoa/Chordata",
          "unknown/Chordata",
          "unknown/Apicomplexa/Conoidasida/Archigregarinorida",
          "unknown/Tubulinea/Elardia/Arcellinida",
          "Metazoa/Ctenophora",
          "Viridiplantae/Streptophyta/Magnoliopsida/Aquifoliales",
          "unknown/Rhodophyta/Florideophyceae/Corallinales",
          "Viridiplantae/Chlorophyta/Chlorophyceae/Chlamydomonadales",
          "Metazoa/Ctenophora/Tentaculata/Cydippida",
          "unknown/Ciliophora/Colpodea/Cyrtolophosidida",
          "Viridiplantae/Chlorophyta/Mamiellophyceae/Dolichomastigales",
          "Viridiplantae/Streptophyta/Polypodiopsida",
          "Metazoa/Acanthocephala/Palaeacanthocephala/Echinorhynchida",
          "unknown/unknown/Phaeophyceae/Ectocarpales",
          "Metazoa/Chordata/Actinopteri/Elopiformes",
          "Metazoa/Arthropoda/Insecta/Embioptera",
          "Fungi/Ascomycota/Orbiliomycetes",
          "Metazoa/Arthropoda/Protura",
          "Metazoa/Arthropoda/Hexanauplia/Cyclopoida",
          "Metazoa/Platyhelminthes/Cestoda/Cyclophyllidea",
          "unknown/Bacillariophyta/Fragilariophyceae/Cyclophorales",
          "Viridiplantae/Streptophyta/Bryopsida/Encalyptales",
          "Metazoa/Annelida/Clitellata/Enchytraeida",
          "Fungi/Mucoromycota/Endogonomycetes/Endogonales",
          "Metazoa/Mollusca/Gastropoda/Cycloneritida",
          "Viridiplantae/Streptophyta/Cycadopsida/Cycadales",
          "Fungi/Basidiomycota/Cystobasidiomycetes/Cystobasidiales",
          "Fungi/Zoopagomycota/Entomophthoromycetes/Entomophthorales",
          "Fungi/Ascomycota/Pneumocystomycetes",
          "unknown/unknown/Pinguiophyceae",
          "Viridiplantae/Streptophyta/Magnoliopsida/Dilleniales",
          "Fungi/Zoopagomycota/Dimargaritomycetes/Dimargaritales",
          "unknown/unknown/Dinophyceae/Dinophysales",
          "Metazoa/Acanthocephala/Palaeacanthocephala",
          "Metazoa/Nematoda/Enoplea/Dioctophymatida",
          "Metazoa/Nematoda/Chromadorea/Desmodorida",
          "Viridiplantae/Chlorophyta/Pedinophyceae",
          "unknown/unknown/Phaeophyceae/Desmarestiales",
          "Fungi/Ascomycota/Schizosaccharomycetes",
          "Metazoa/Arthropoda/Insecta/Dermaptera",
          "Viridiplantae/Streptophyta/Magnoliopsida/Dioscoreales",
          "Metazoa/Platyhelminthes/Cestoda/Diphyllobothriidea",
          "Metazoa/Nemertea/Pilidiophora",
          "unknown/Euglenozoa/unknown/Diplonemea",
          "Metazoa/Chordata/Myxini",
          "Metazoa/Chordata/Mammalia/Dasyuromorphia",
          "Metazoa/Chordata/Mammalia/Diprotodontia",
          "Fungi/Mucoromycota/Glomeromycetes/Diversisporales",
          "unknown/unknown/Cryptophyceae/Cyathomonadacea",
          "Viridiplantae/Chlorophyta/Nephroselmidophyceae",
          "Metazoa/Platyhelminthes/Rhabditophora",
          "unknown/unknown/Raphidophyceae",
          "Viridiplantae/Streptophyta/Polypodiopsida/Equisetales",
          "Viridiplantae/Streptophyta/Magnoliopsida/Ericales",
          "Viridiplantae/Streptophyta/Magnoliopsida",
          "Viridiplantae/Streptophyta/Magnoliopsida/Crossosomatales",
          "Metazoa/Arthropoda/Insecta/Ephemeroptera",
          "Metazoa/Arthropoda/Malacostraca",
          "Viridiplantae/Chlorophyta/Pyramimonadophyceae",
          "Metazoa/Chordata/Aves/Cuculiformes",
          "unknown/unknown/Choanoflagellata/Craspedida",
          "Fungi/Basidiomycota/Malasseziomycetes",
          "Viridiplantae/Streptophyta/Magnoliopsida/Cucurbitales",
          "Fungi/Ascomycota/Dothideomycetes/Eremomycetales",
          "unknown/Rhodophyta/Bangiophyceae/Cyanidiales",
          "Viridiplantae/Streptophyta/Polypodiopsida/Cyatheales",
          "Fungi/Basidiomycota/Agaricomycetes/Corticiales",
          "unknown/Rhodophyta/Rhodellophyceae",
          "Metazoa/Chordata/Mammalia",
          "unknown/Apicomplexa",
          "Metazoa/Arthropoda/Malacostraca/Tanaidacea",
          "unknown/Chlorophyta",
          "Metazoa/Chordata/Aves/Struthioniformes",
          "Fungi/Ascomycota/Neolectomycetes",
          "Fungi/Mucoromycota/Mucoromycetes",
          "Fungi/Zoopagomycota",
          "unknown/undef",
          "Metazoa/Cnidaria/Myxozoa",
          "Metazoa",
          "unknown/unknown/Synurophyceae/Synurales",
          "Fungi/Chytridiomycota/Neocallimastigomycetes",
          "Fungi/Basidiomycota/Agaricomycetes/Russulales",
          "Metazoa/Brachiopoda",
          "Fungi/Blastocladiomycota",
          "unknown/Ascomycota",
          "Metazoa/Chordata/Thaliacea/Salpida",
          "Metazoa/Platyhelminthes/Trematoda/Strigeidida",
          "Fungi/Ascomycota/Saccharomycetes/Saccharomycetales",
          "Viridiplantae/Streptophyta/Jungermanniopsida",
          "Metazoa/Arthropoda",
          "Viridiplantae/Streptophyta/Lycopodiopsida",
          "Metazoa/Brachiopoda/Lingulata",
          "unknown/Ciliophora/Litostomatea",
          "Metazoa/Annelida",
          "Fungi/Zoopagomycota/Harpellomycetes",
          "Metazoa/Arthropoda/Malacostraca/Stomatopoda",
          "Metazoa/Arthropoda/Insecta/Strepsiptera",
          "unknown/Perkinsozoa",
          "unknown/Apicomplexa/Marosporida",
          "unknown/Parabasalia",
          "Metazoa/Chordata/Actinopteri/Siluriformes",
          "unknown/Oomycota",
          "Viridiplantae/Streptophyta/Magnoliopsida/Solanales",
          "Metazoa/Onychophora",
          "Metazoa/Phoronida",
          "Metazoa/Arthropoda/Hexanauplia",
          "unknown/Preaxostyla",
          "Metazoa/Echinodermata/Holothuroidea",
          "Metazoa/Porifera/Homoscleromorpha",
          "Metazoa/Priapulida",
          "Viridiplantae/Streptophyta/Marchantiopsida/Sphaerocarpales",
          "Metazoa/Arthropoda/Ichthyostraca",
          "Metazoa/Annelida/Polychaeta/Spionida",
          "Fungi/Mucoromycota/Glomeromycetes",
          "Fungi/Basidiomycota/Mixiomycetes",
          "unknown/Oomycota/unknown/Saprolegniales",
          "unknown/Ciliophora/Heterotrichea",
          "Fungi/Chytridiomycota",
          "unknown/Ciliophora",
          "unknown/unknown/Filasterea",
          "Fungi/Mucoromycota/Mortierellomycetes",
          "Fungi/Basidiomycota/Microbotryomycetes",
          "unknown/Rhodophyta/Florideophyceae",
          "Metazoa/Arthropoda/Merostomata",
          "Metazoa/Chordata/Mammalia/Scandentia",
          "Metazoa/Entoprocta",
          "unknown/Evosea",
          "Metazoa/Hemichordata",
          "unknown/Rhodophyta",
          "Metazoa/Cnidaria/Scyphozoa",
          "unknown/unknown/Bigyra/Thraustochytrida",
          "Metazoa/Arthropoda/Ostracoda",
          "Metazoa/Arthropoda/Pycnogonida",
          "Metazoa/Xenacoelomorpha/unknown/unknown",
          "unknown/undef/unknown/unknown",
          "Fungi/Zoopagomycota/Zoopagomycetes/Zoopagales",
          "Fungi/Basidiomycota/Ustilaginomycetes",
          "unknown/Evosea/Variosea",
          "Fungi/unknown/unknown/unknown",
          "unknown/unknown/unknown/unknown",
          "Viridiplantae/Streptophyta/Magnoliopsida/Zygophyllales",
          "Metazoa/Chordata/Amphibia",
          "Metazoa/Arthropoda/Merostomata/Xiphosura",
          "Viridiplantae/Streptophyta/Gnetopsida/Welwitschiales",
          "Viridiplantae/Streptophyta/Magnoliopsida/Vitales",
          "unknown/unknown/Xanthophyceae",
          "Fungi/Ascomycota/Xylonomycetes",
          "Metazoa/Cnidaria/Anthozoa",
          "Fungi/Zoopagomycota/Zoopagomycetes",
          "unknown/unknown/Xanthophyceae/Vaucheriales",
          "Fungi/Ascomycota/Xylonomycetes/Xylonales",
          "Metazoa/Chordata/Actinopteri/unknown",
          "unknown/Endomyxa/Ascetosporea/unknown",
          "unknown/unknown/Bolidophyceae/unknown",
          "Fungi/Ascomycota/Sordariomycetes",
          "Fungi/Ascomycota/Sordariomycetes/unknown",
          "Viridiplantae/Streptophyta/Mesostigmatophyceae/unknown",
          "Metazoa/Arthropoda/Symphyla/unknown",
          "Fungi/Ascomycota/unknown/unknown",
          "unknown/Ascomycota/unknown/unknown",
          "Viridiplantae/Chlorophyta/unknown/unknown",
          "Metazoa/Echinodermata/Echinoidea/unknown",
          "unknown/unknown/Synchromophyceae",
          "unknown/Chordata/unknown/unknown",
          "Metazoa/Arthropoda/Remipedia",
          "Metazoa/Ctenophora/unknown/unknown",
          "Metazoa/Chordata/Thaliacea",
          "Fungi/Chytridiomycota/Chytridiomycetes/unknown",
          "Metazoa/Arthropoda/Thecostraca",
          "Metazoa/Dicyemida/unknown/unknown",
          "Metazoa/Platyhelminthes/Trematoda",
          "Fungi/Microsporidia/unknown/unknown",
          "Metazoa/Phoronida/unknown/unknown",
          "Viridiplantae/Streptophyta/Zygnemophyceae",
          "Metazoa/Ctenophora/Nuda",
          "unknown/Apicomplexa/unknown",
          "Metazoa/Priapulida/Priapulimorpha",
          "Viridiplantae/Chlorophyta/Chloropicophyceae",
          "Fungi/Chytridiomycota/Chytridiomycetes",
          "unknown/Heterolobosea/unknown",
          "Metazoa/Chordata/Aves/Tinamiformes",
          "unknown/Oomycota/unknown",
          "Fungi/Basidiomycota/Exobasidiomycetes/Tilletiales",
          "Viridiplantae/Chlorophyta/Picocystophyceae",
          "unknown/unknown/Phaeophyceae",
          "Metazoa/Chordata/Chondrichthyes/Torpediniformes",
          "Fungi/Ascomycota/Pezizomycetes",
          "Metazoa/Phoronida/unknown",
          "Metazoa/Echinodermata/Crinoidea",
          "Metazoa/Arthropoda/Pauropoda",
          "Metazoa/Chordata/unknown/Testudines",
          "Fungi/Basidiomycota/Cystobasidiomycetes",
          "unknown/Preaxostyla/unknown",
          "Metazoa/Porifera/Demospongiae",
          "Fungi/Ascomycota/Taphrinomycetes/Taphrinales",
          "unknown/unknown/Pelagophyceae",
          "unknown/Fornicata/unknown",
          "Fungi/Basidiomycota/Tremellomycetes/Tremellales",
          "Viridiplantae/Chlorophyta/Chlorodendrophyceae",
          "Viridiplantae/Prasinodermophyta/Prasinodermophyceae",
          "Viridiplantae/Streptophyta/Polytrichopsida",
          "unknown/unknown/Bigyra",
          "Viridiplantae/Chlorophyta/Ulvophyceae/Ulvales",
          "Fungi/Blastocladiomycota/Blastocladiomycetes",
          "unknown/Chlorophyta/unknown",
          "Metazoa/Annelida/Clitellata/Tubificida",
          "unknown/unknown/Bolidophyceae",
          "Metazoa/Dicyemida/unknown",
          "Metazoa/Mollusca/Polyplacophora",
          "Metazoa/Entoprocta/unknown",
          "Viridiplantae/Streptophyta/Bryopsida",
          "Fungi/Basidiomycota/Tremellomycetes/Trichosporonales",
          "Metazoa/Arthropoda/Insecta/Trichoptera",
          "Metazoa/Porifera/Calcarea",
          "Metazoa/Placozoa/Uniplacotomia/Trichoplacea",
          "unknown/Evosea/unknown",
          "unknown/Foraminifera/unknown",
          "Viridiplantae/Streptophyta/Haplomitriopsida/Treubiales",
          "Metazoa/Arthropoda/unknown",
          "Fungi/Ascomycota/Eurotiomycetes",
          "Metazoa/Annelida/Clitellata/Acanthobdellida",
          "Fungi/Ascomycota/Leotiomycetes/Helotiales",
          "unknown/Apicomplexa/Conoidasida/Eugregarinorida",
          "Metazoa/Arthropoda/Diplopoda/Chordeumatida",
          "Metazoa/Arthropoda/Insecta/Orthoptera",
          "Metazoa/Chordata/Mammalia/Eulipotyphla",
          "Metazoa/Mollusca/Bivalvia/Ostreida",
          "Metazoa/Onychophora/Udeonychophora/Euonychophora",
          "Viridiplantae/Chlorophyta/Chlorodendrophyceae/Chlorodendrales",
          "Metazoa/Mollusca/Polyplacophora/Chitonida",
          "Metazoa/Arthropoda/Malacostraca/Euphausiacea",
          "Metazoa/Chordata/Actinopteri/Chaetodontiformes",
          "Metazoa/Arthropoda/Pycnogonida/Pantopoda",
          "unknown/Euglenozoa/Kinetoplastea/Parabodonida",
          "unknown/Euglenozoa/Euglenida/Eutreptiales",
          "Fungi/Ascomycota/Dothideomycetes/Patellariales",
          "Viridiplantae/Streptophyta/Gnetopsida/Ephedrales",
          "unknown/Haptophyta/unknown/Pavlovales",
          "Viridiplantae/Streptophyta/Magnoliopsida/Fabales",
          "unknown/unknown/Phaeophyceae/Laminariales",
          "Metazoa/Chordata/Actinopteri/Labriformes",
          "Metazoa/Chordata/Mammalia/Carnivora",
          "Metazoa/Chordata/Aves/Cariamiformes",
          "Metazoa/Chordata/Actinopteri/Perciformes",
          "Metazoa/Cnidaria/Myxozoa/Malacovalvulida",
          "Fungi/Ascomycota/Pezizomycetes/Pezizales",
          "Metazoa/Chordata/Aves/Falconiformes",
          "Metazoa/Chordata/Aves/Phaethontiformes",
          "Metazoa/Arthropoda/Insecta/Phasmatodea",
          "Metazoa/Arthropoda/Insecta/Phthiraptera",
          "Metazoa/Echinodermata/Echinoidea/Camarodonta",
          "Viridiplantae/Streptophyta/Pinopsida/Pinales",
          "Fungi/Basidiomycota/Exobasidiomycetes/Ceraceosorales",
          "Viridiplantae/Streptophyta/Magnoliopsida/Piperales",
          "Viridiplantae/Streptophyta/Coleochaetophyceae/Coleochaetales",
          "Viridiplantae/Chlorophyta/Chlorophyceae/Oedogoniales",
          "unknown/unknown/Dictyochophyceae/Dictyochales",
          "Viridiplantae/Streptophyta/Marchantiopsida/Marchantiales",
          "Viridiplantae/Streptophyta/Zygnemophyceae/Desmidiales",
          "Metazoa/Echinodermata/Holothuroidea/Dendrochirotida",
          "Metazoa/Chordata/Mammalia/Didelphimorphia",
          "Viridiplantae/Streptophyta/Bryopsida/Diphysciales",
          "Metazoa/Chordata/Mammalia/Microbiotheria",
          "Metazoa/Arthropoda/Branchiopoda/Diplostraca",
          "Viridiplantae/Streptophyta/Marchantiopsida/Lunulariales",
          "Metazoa/Chordata/Mammalia/Monotremata",
          "Fungi/Mucoromycota/Mucoromycetes/Mucorales",
          "Metazoa/Chordata/Actinopteri/Mugiliformes",
          "Viridiplantae/Streptophyta/Magnoliopsida/Dipsacales",
          "Fungi/Basidiomycota/Cystobasidiomycetes/Cyphobasidiales",
          "Metazoa/Arthropoda/Insecta/Coleoptera",
          "Viridiplantae/Streptophyta/Magnoliopsida/Myrtales",
          "Metazoa/Mollusca/Bivalvia/Mytilida",
          "unknown/Rhodophyta/Rhodellophyceae/Dixoniellales",
          "Metazoa/Chordata/unknown/Crocodylia",
          "unknown/Bacillariophyta/Bacillariophyceae/Naviculales",
          "Metazoa/Annelida/Clitellata/Crassiclitellata",
          "unknown/Rhodophyta/Florideophyceae/Nemastomatales",
          "Fungi/Ascomycota/Dothideomycetes/Dothideales",
          "Metazoa/Mollusca/Gastropoda/Neogastropoda",
          "Viridiplantae/Streptophyta/Magnoliopsida/Cornales",
          "unknown/Bacillariophyta/Coscinodiscophyceae/Corethrales",
          "Fungi/Ascomycota/Neolectomycetes/Neolectales",
          "Fungi/Mucoromycota/Glomeromycetes/Entrophosporales",
          "Metazoa/Mollusca/Cephalopoda/Octopoda",
          "Metazoa/Arthropoda/Insecta/Odonata",
          "Metazoa/Arthropoda/Insecta/Diptera",
          "Metazoa/Echinodermata/Asteroidea/Forcipulatida",
          "Metazoa/Chordata/Actinopteri/Carangiformes",
          "Metazoa/Chordata/Aves/Apterygiformes",
          "Metazoa/Arthropoda/Ichthyostraca/Arguloida",
          "Viridiplantae/Streptophyta/Ginkgoopsida/Ginkgoales",
          "Fungi/Ascomycota/Sordariomycetes/Hypocreales",
          "unknown/Cercozoa/unknown/Glissomonadida",
          "Viridiplantae/Streptophyta/Pinopsida/Araucariales",
          "Viridiplantae/Streptophyta/Bryopsida/Hypnodendrales",
          "Viridiplantae/Streptophyta/Magnoliopsida/Apiales",
          "unknown/Ciliophora/Prostomatea/Prorodontida",
          "Fungi/Basidiomycota/Agaricomycetes/Hymenochaetales",
          "Metazoa/Arthropoda/Insecta/Psocoptera",
          "unknown/unknown/Centroplasthelida/Pterocystida",
          "Viridiplantae/Streptophyta/Andreaeopsida/Andreaeales",
          "Metazoa/Chordata/Actinopteri/Anabantiformes",
          "Viridiplantae/Streptophyta/Bryopsida/Grimmiales",
          "Viridiplantae/Streptophyta/Magnoliopsida/Alismatales",
          "unknown/unknown/Dinophyceae/Gymnodiniales",
          "Metazoa/Chordata/Amphibia/Gymnophiona",
          "unknown/Apicomplexa/Marosporida/Agamococcidiorida",
          "Metazoa/Chordata/Actinopteri/Gymnotiformes",
          "unknown/Apicomplexa/Aconoidasida/Haemosporida",
          "unknown/Rhodophyta/Florideophyceae/Acrosymphytales",
          "unknown/Rhodophyta/Florideophyceae/Hapalidiales",
          "Metazoa/Chordata/Actinopteri/Acropomatiformes",
          "unknown/Rhodophyta/Rhodellophyceae/Rhodellales",
          "unknown/Rhodophyta/Florideophyceae/Rhodogorgonales",
          "Viridiplantae/Chlorophyta/Palmophyllophyceae/Prasinococcales",
          "Viridiplantae/Streptophyta/Bryopsida/Pottiales",
          "Metazoa/Porifera/Demospongiae/Dictyoceratida",
          "Viridiplantae/Streptophyta/Magnoliopsida/Geraniales",
          "unknown/Rhodophyta/Bangiophyceae/Bangiales",
          "unknown/Rhodophyta/Florideophyceae/Gelidiales",
          "unknown/Bacillariophyta/Bacillariophyceae/Bacillariales",
          "Metazoa/Mollusca/Gastropoda/Pleurobranchida",
          "Metazoa/Arthropoda/Thecostraca/Pollicipedomorpha",
          "Viridiplantae",
          "unknown/Rhodophyta/Florideophyceae/Plocamiales",
          "Metazoa/Arthropoda/Diplopoda/Julida",
          "Metazoa/Arthropoda/Thecostraca/Balanomorpha",
          "Metazoa/Echinodermata/Holothuroidea/Aspidochirotida",
          "Metazoa/Arthropoda/Chilopoda/Geophilomorpha",
          "unknown/Rhodophyta/Bangiophyceae/Porphyridiales",
          "Fungi/Basidiomycota/Agaricomycetes/Auriculariales",
          "Fungi/Basidiomycota/Agaricomycetes/Boletales",
          "Fungi/Ascomycota/Pneumocystomycetes/Pneumocystales",
          "Metazoa/Chordata/Actinopteri/Aulopiformes",
          "Metazoa/Chordata/Actinopteri/Gonorynchiformes",
          "Fungi/Chytridiomycota/Monoblepharidomycetes",
          "Fungi/Basidiomycota/Dacrymycetes",
          "Fungi/Ascomycota/Geoglossomycetes",
          "Metazoa/Arthropoda/unknown/Diplura",
          "unknown/Fornicata/unknown/Diplomonadida",
          "unknown/Nebulidia/Nebulidea",
          "unknown/unknown/Dictyochophyceae/Florenciellales",
          "Viridiplantae/Streptophyta/Magnoliopsida/Garryales",
          "unknown/unknown/Phaeophyceae/Dictyotales",
          "unknown/Bacillariophyta/Coscinodiscophyceae",
          "Metazoa/Chordata/Mammalia/Rodentia",
          "unknown/Evosea/Eumycetozoa/Dictyosteliales",
          "unknown/Ciliophora/Colpodea",
          "Metazoa/Echinodermata/Ophiuroidea",
          "Metazoa/Chordata/Aves/Gaviiformes",
          "Viridiplantae/Streptophyta/Magnoliopsida/Gentianales",
          "Viridiplantae/Streptophyta/Mesostigmatophyceae",
          "Viridiplantae/Streptophyta/Gnetopsida/Gnetales",
          "Fungi/Basidiomycota/Exobasidiomycetes",
          "unknown/Discosea/Flabellinia",
          "unknown/unknown/Glaucocystophyceae/Glaucocystales",
          "unknown/Evosea/Eumycetozoa",
          "unknown/Bacillariophyta/Fragilariophyceae",
          "unknown/Euglenozoa/Kinetoplastea",
          "Viridiplantae/Streptophyta/Klebsormidiophyceae",
          "unknown/unknown/Ichthyosporea",
          "Metazoa/Chordata/Lepidosauria",
          "unknown/Cercozoa/Imbricatea/Euglyphida",
          "Viridiplantae/Streptophyta/Magnoliopsida/Escalloniales",
          "Metazoa/Chordata/Actinopteri/Gobiiformes",
          "Metazoa/Chordata/Hyperoartia",
          "Viridiplantae/Streptophyta/Gnetopsida",
          "Viridiplantae/Chlorophyta/Mamiellophyceae",
          "unknown/unknown/Glaucocystophyceae/Gloeochaetales",
          "Fungi/Mucoromycota/Glomeromycetes/Glomerales",
          "Viridiplantae/Streptophyta/Marchantiopsida",
          "Metazoa/Arthropoda/Collembola/Entomobryomorpha",
          "unknown/Bacillariophyta/Mediophyceae",
          "Fungi/Mucoromycota/Endogonomycetes",
          "unknown/Tubulinea/Elardia",
          "Viridiplantae/Streptophyta/Magnoliopsida/Fagales",
          "Fungi/Ascomycota/Dothideomycetes",
          "Fungi/Basidiomycota/Exobasidiomycetes/Exobasidiales",
          "unknown/Rhodophyta/Bangiophyceae/Galdieriales",
          "Viridiplantae/Streptophyta/Magnoliopsida/Rosales",
          "Viridiplantae/Chlorophyta/Palmophyllophyceae",
          "Metazoa/Cnidaria",
          "Metazoa/Arthropoda/Insecta/Archaeognatha",
          "Metazoa/Mollusca/Gastropoda/Architaenioglossa",
          "Metazoa/Mollusca/Bivalvia/Arcoida",
          "Viridiplantae/Chlorophyta",
          "Viridiplantae/Streptophyta/Magnoliopsida/Asterales",
          "Fungi/Ascomycota/Dothideomycetes/Aulographales",
          "Fungi/Cryptomycota",
          "Fungi/Basidiomycota",
          "Metazoa/Porifera/Demospongiae/Axinellida",
          "unknown/Rhodophyta/Florideophyceae/Balbianiales",
          "Metazoa/Chordata/Actinopteri/Batrachoidiformes",
          "Viridiplantae/Streptophyta/Magnoliopsida/Berberidopsidales",
          "unknown/unknown/Bigyra/Bicosoecida",
          "unknown/Placozoa/unknown",
          "Metazoa/Annelida/Clitellata/Branchiobdellida",
          "unknown/Bacillariophyta",
          "Metazoa/Arthropoda/Arachnida/Araneae",
          "Metazoa/Mollusca/Gastropoda/Aplysiida",
          "unknown/Foraminifera",
          "Fungi",
          "Viridiplantae/Streptophyta/Magnoliopsida/Acorales",
          "unknown/Rhodophyta/Florideophyceae/Acrochaetiales",
          "unknown/Tubulinea",
          "Viridiplantae/Streptophyta",
          "Metazoa/Cnidaria/Anthozoa/Actiniaria",
          "Viridiplantae/Prasinodermophyta",
          "Metazoa/Platyhelminthes",
          "unknown/Placozoa",
          "Metazoa/Arthropoda/Arachnida/Amblypygi",
          "Metazoa/Chordata/Actinopteri/Amiiformes",
          "Metazoa/Nematoda",
          "Metazoa/Arthropoda/Branchiopoda/Anostraca",
          "Metazoa/Mollusca",
          "Fungi/Microsporidia",
          "unknown/Heterolobosea",
          "unknown/Haptophyta",
          "Viridiplantae/Chlorophyta/Ulvophyceae/Bryopsidales",
          "Fungi/Microsporidia/unknown",
          "Viridiplantae/Streptophyta/Magnoliopsida/Buxales",
          "Fungi/Ascomycota/Dothideomycetes/Capnodiales",
          "Fungi/Zoopagomycota/Harpellomycetes/Harpellales",
          "Metazoa/Cnidaria/Anthozoa/Corallimorpharia",
          "Fungi/Ascomycota/Saccharomycetes",
          "unknown/Bacillariophyta/Coscinodiscophyceae/Coscinodiscales",
          "unknown/Ciliophora/Litostomatea/Cyclotrichida",
          "unknown/Bacillariophyta/Mediophyceae/Cymatosirales",
          "Metazoa/Chordata/Actinopteri/Cyprinodontiformes",
          "Fungi/Basidiomycota/Tremellomycetes/Cystofilobasidiales",
          "Metazoa/Annelida/Polychaeta",
          "Fungi/Basidiomycota/Dacrymycetes/Dacrymycetales",
          "unknown/Discosea/Flabellinia/Dactylopodida",
          "Metazoa/Arthropoda/Malacostraca/Decapoda",
          "Metazoa/Porifera/Demospongiae/Dendroceratida",
          "unknown/Endomyxa/Phytomyxea",
          "Metazoa/Bryozoa/Phylactolaemata",
          "Viridiplantae/Streptophyta/Anthocerotopsida/Dendrocerotales",
          "Fungi/Ascomycota/Sordariomycetes/Diaporthales",
          "Fungi/Ascomycota/Sordariomycetes/Coniochaetales",
          "Viridiplantae/Streptophyta/Bryopsida/Dicranales",
          "unknown/unknown/unknown/Colponemida",
          "Fungi/Ascomycota/Taphrinomycetes",
          "Viridiplantae/Streptophyta/Magnoliopsida/Caryophyllales",
          "Fungi/Cryptomycota/unknown",
          "unknown/Chordata/unknown",
          "unknown/Evosea/Variosea/Cavosteliida",
          "unknown/Cercozoa/unknown",
          "unknown/Ascomycota/unknown",
          "Viridiplantae/Streptophyta/Magnoliopsida/Ceratophyllales",
          "unknown/Bacillariophyta/Coscinodiscophyceae/Chaetocerotales",
          "Viridiplantae/Streptophyta/Charophyceae/Charales",
          "Viridiplantae/Streptophyta/Chlorokybophyceae/Chlorokybales",
          "Viridiplantae/Chlorophyta/Chlorophyceae/Chlorosarcinales",
          "Metazoa/Onychophora/Udeonychophora",
          "Fungi/Basidiomycota/Tremellomycetes",
          "Fungi/Ascomycota/Dothideomycetes/Cladosporiales",
          "Metazoa/Chordata/Actinopteri/Clupeiformes",
          "Metazoa/Echinodermata/Echinoidea/Clypeasteroida",
          "Metazoa/Chordata/unknown/Coelacanthiformes",
          "Metazoa/Chordata/Aves/Coliiformes",
          "Metazoa/Chordata/Aves/Coraciiformes",
          "Metazoa/Chordata/Cladistia/Polypteriformes",
          "Metazoa/Nemertea/Pilidiophora/Heteronemertea",
          "Metazoa/Mollusca/Cephalopoda/unknown",
          "Metazoa/Chordata/Mammalia/Sirenia",
          "Fungi/Basidiomycota/Microbotryomycetes/Microbotryales",
          "Metazoa/Priapulida/Priapulimorpha/Priapulimorphida",
          "Viridiplantae/Chlorophyta/Mamiellophyceae/Monomastigales",
          "Viridiplantae/Chlorophyta/Trebouxiophyceae/Prasiolales",
          "unknown/Cercozoa/Chlorarachniophyceae/unknown",
          "Metazoa/Chordata/Chondrichthyes/Myliobatiformes",
          "Viridiplantae/Prasinodermophyta/Prasinodermophyceae/Prasinodermales",
          "Viridiplantae/Chlorophyta/Chlorophyceae/Sphaeropleales",
          "Metazoa/Chordata/Aves/Sphenisciformes",
          "Fungi/Basidiomycota/Ustilaginomycetes/Violaceomycetales",
          "Metazoa/Arthropoda/Diplopoda/Polyxenida",
          "Metazoa/Mollusca/Cephalopoda/Vampyromorpha",
          "Fungi/Ascomycota/Sordariomycetes/Xylariales",
          "Metazoa/Arthropoda/Insecta/Megaloptera",
          "Metazoa/Arthropoda/Hexanauplia/Siphonostomatoida",
          "unknown/unknown/Chrysophyceae/unknown",
          "Metazoa/Ctenophora/Tentaculata/Lobata",
          "Metazoa/Chordata/Actinopteri/Semionotiformes",
          "Metazoa/Annelida/Polychaeta/unknown",
          "Metazoa/Platyhelminthes/Rhabditophora/Macrostomida",
          "Fungi/Ascomycota/Sordariomycetes/Magnaporthales",
          "unknown/Euglenozoa/Kinetoplastea/unknown",
          "unknown/unknown/Dinophyceae/Prorocentrales",
          "Metazoa/Mollusca/Gastropoda/unknown",
          "Metazoa/Arthropoda/Insecta/Siphonaptera",
          "Metazoa/Cnidaria/Hydrozoa/Siphonophorae",
          "Viridiplantae/Streptophyta/Magnoliopsida/Magnoliales",
          "Metazoa/Cnidaria/Anthozoa/Malacalcyonacea",
          "Viridiplantae/Streptophyta/Magnoliopsida/Malvales",
          "Viridiplantae/Chlorophyta/Mamiellophyceae/Mamiellales",
          "Metazoa/Platyhelminthes/Monogenea/Mazocraeidea",
          "Metazoa/Echinodermata/Asteroidea/Valvatida",
          "unknown/Ciliophora/Spirotrichea/unknown",
          "Metazoa/Chordata/Lepidosauria/Squamata",
          "Viridiplantae/Chlorophyta/Nephroselmidophyceae/Nephroselmidales",
          "Metazoa/Porifera/Demospongiae/Suberitida",
          "unknown/unknown/Dinophyceae/Suessiales",
          "unknown/unknown/Dinophyceae/Oxyrrhinales",
          "Viridiplantae/Streptophyta/Magnoliopsida/Pandanales",
          "Metazoa/Tardigrada/Eutardigrada/Parachela",
          "Metazoa/Echinodermata/Asteroidea/Paxillosida",
          "Fungi/Ascomycota/Lecanoromycetes/Ostropales",
          "Viridiplantae/Chlorophyta/Picocystophyceae/Picocystales",
          "unknown/unknown/Dictyochophyceae/Pedinellales",
          "unknown/Bacillariophyta/Coscinodiscophyceae/Thalassiosirales",
          "unknown/Evosea/Eumycetozoa/Physariida",
          "unknown/Bacillariophyta/Fragilariophyceae/Thalassionemales",
          "Viridiplantae/Streptophyta/Tetraphidopsida/Tetraphidales",
          "Fungi/Ascomycota/Eurotiomycetes/Phaeomoniellales",
          "Metazoa/Mollusca/Bivalvia/Pectinida",
          "Metazoa/Mollusca/Gastropoda/Stylommatophora",
          "unknown/Discosea/unknown/Stygamoebida",
          "Metazoa/Platyhelminthes/Trematoda/Plagiorchiida",
          "Metazoa/Arthropoda/Collembola/Poduromorpha",
          "Viridiplantae/Streptophyta/Magnoliopsida/Poales",
          "unknown/Bacillariophyta/Fragilariophyceae/Striatellales",
          "unknown/unknown/Synurophyceae/Ochromonadales",
          "unknown/Euglenozoa/Kinetoplastea/Trypanosomatida",
          "Metazoa/Mollusca/Cephalopoda/Oegopsida",
          "Metazoa/Nematoda/Chromadorea/Plectida",
          "Metazoa/Arthropoda/Insecta/Plecoptera",
          "Viridiplantae/Streptophyta/Magnoliopsida/Trochodendrales",
          "Metazoa/Chordata/Actinopteri/Ophidiiformes",
          "unknown/Endomyxa/Phytomyxea/Plasmodiophorida",
          "Metazoa/Arthropoda/Arachnida/Opiliones",
          "Metazoa/Chordata/Aves/Opisthocomiformes",
          "Metazoa/Chordata/Chondrichthyes/Orectolobiformes",
          "unknown/Parabasalia/unknown/Trichomonadida",
          "Viridiplantae/Streptophyta/Bryopsida/Hedwigiales",
          "unknown/Bacillariophyta/Mediophyceae/Lithodesmiales",
          "Viridiplantae/Streptophyta/Lycopodiopsida/Lycopodiales",
          "Metazoa/Arthropoda/Thecostraca/unknown",
          "Fungi/Zoopagomycota/unknown/Ramicandelaberales",
          "Metazoa/Arthropoda/Arachnida/Sarcoptiformes",
          "Metazoa/Chordata/Chondrichthyes/Rajiformes",
          "unknown/unknown/Cryptophyceae/Pyrenomonadales",
          "Viridiplantae/Streptophyta/Magnoliopsida/Icacinales",
          "Metazoa/Chordata/Aves",
          "Metazoa/Mollusca/Bivalvia",
          "Viridiplantae/Streptophyta/Lycopodiopsida/Isoetales",
          "unknown/Endomyxa/Ascetosporea",
          "Metazoa/Arthropoda/Malacostraca/Isopoda",
          "Metazoa/Arthropoda/Arachnida/Ixodida",
          "Viridiplantae/Streptophyta/Anthocerotopsida",
          "unknown/unknown/Synchromophyceae/unknown",
          "Fungi/Ascomycota/Schizosaccharomycetes/Schizosaccharomycetales",
          "Metazoa/Chordata/Ascidiacea",
          "Fungi/Basidiomycota/Agaricomycetes",
          "unknown/Ciliophora/Oligohymenophorea/Hymenostomatida",
          "unknown/Bacillariophyta/Fragilariophyceae/Rhabdonematales",
          "unknown/unknown/unknown/Rotosphaerida",
          "unknown/Rhodophyta/Compsopogonophyceae/Rhodochaetales",
          "unknown/unknown/Choanoflagellata",
          "unknown/Ciliophora/Heterotrichea/Heterotrichida",
          "Viridiplantae/Streptophyta/Bryopsida/Rhizogoniales",
          "Viridiplantae/Streptophyta/Chlorokybophyceae",
          "Viridiplantae/Streptophyta/Magnoliopsida/Ranunculales",
          "unknown/Discosea/unknown/Himatismenida",
          "unknown/unknown/Dictyochophyceae/Rhizochromulinales",
          "Viridiplantae/Streptophyta/Charophyceae",
          "Metazoa/Annelida/Clitellata/Hirudinida",
          "Metazoa/Mollusca/Cephalopoda",
          "Metazoa/Chordata/Chondrichthyes/Rhinopristiformes",
          "Viridiplantae/Streptophyta/Magnoliopsida/Santalales",
          "unknown/Cercozoa/Chlorarachniophyceae",
          "Metazoa/Cnidaria/Anthozoa/Scleractinia",
          "unknown/Perkinsozoa/unknown/Perkinsida",
          "Metazoa/Entoprocta/unknown/unknown",
          "unknown/Bacillariophyta/Fragilariophyceae/Licmophorales",
          "Fungi/Basidiomycota/Microbotryomycetes/Leucosporidiales",
          "Fungi/Cryptomycota/unknown/unknown",
          "Metazoa/Cnidaria/Hydrozoa/Leptothecata",
          "unknown/Bacillariophyta/Coscinodiscophyceae/Leptocylindrales",
          "Viridiplantae/Streptophyta/Polypodiopsida/Psilotales",
          "Metazoa/Arthropoda/Chilopoda/Scolopendromorpha",
          "Metazoa/Arthropoda/Insecta/Lepidoptera",
          "unknown/Heterolobosea/unknown/unknown",
          "Metazoa/Mollusca/Gastropoda/Lepetellida",
          "Viridiplantae/Streptophyta/Jungermanniopsida/Ptilidiales",
          "Fungi/Ascomycota/Dothideomycetes/Lineolatales",
          "unknown/Evosea/Variosea/unknown",
          "unknown/Apicomplexa/unknown/unknown",
          "Fungi/Ascomycota/Lecanoromycetes/Lecanorales",
          "Metazoa/Chordata/Chondrichthyes/Lamniformes",
          "Metazoa/Brachiopoda/Lingulata/Lingulida",
          "Metazoa/Mollusca/Bivalvia/Pterioida",
          "Viridiplantae/Streptophyta/Magnoliopsida/Lamiales",
          "Viridiplantae/Streptophyta/Magnoliopsida/Proteales",
          "Metazoa/Arthropoda/Chilopoda/Scutigeromorpha",
          "Viridiplantae/Streptophyta/Klebsormidiophyceae/Klebsormidiales",
          "unknown/Haptophyta/unknown/Prymnesiales",
          "Metazoa/Tardigrada/Eutardigrada/Apochela",
          "Metazoa/Chordata/Aves/Caprimulgiformes",
          "unknown/Endomyxa",
          "Fungi/Basidiomycota/Pucciniomycetes/Pucciniales",
          "unknown/Euglenozoa",
          "Metazoa/Annelida/Polychaeta/Sabellida",
          "unknown/Fornicata",
          "Fungi/Ascomycota/Lecanoromycetes/Caliciales",
          "Metazoa/Xenacoelomorpha/unknown/Acoela",
          "unknown/unknown",
          "unknown/unknown/Centroplasthelida/Acanthocystida",
          "Metazoa/Mollusca/Cephalopoda/Sepiida",
          "unknown/Apicomplexa/Aconoidasida/Piroplasmida",
          "Fungi/Zoopagomycota/unknown",
          "unknown/Rhodophyta/Florideophyceae/Bonnemaisoniales",
          "Fungi/Basidiomycota/Agaricomycetes/Amylocorticiales",
          "Metazoa/Chordata/Lepidosauria/Sphenodontia",
          "Metazoa/Chordata/Actinopteri/Atheriniformes",
          "Metazoa/Echinodermata/Asteroidea/Spinulosida",
          "Metazoa/Mollusca/Cephalopoda/Spirulida",
          "Metazoa/Chordata/Chondrichthyes/Squaliformes",
          "Fungi/Mucoromycota/Glomeromycetes/Archaeosporales",
          "Metazoa/Chordata/Mammalia/Proboscidea",
          "Viridiplantae/Chlorophyta/Pyramimonadophyceae/Pyramimonadales",
          "Metazoa/Porifera",
          "Fungi/Mucoromycota",
          "Metazoa/Chordata/Actinopteri/Anguilliformes",
          "Metazoa/Chordata/Actinopteri/Albuliformes",
          "Metazoa/Xenacoelomorpha/unknown",
          "Metazoa/Rotifera",
          "Metazoa/Chordata/Amphibia/Anura",
          "Fungi/Basidiomycota/Microbotryomycetes/Sporidiobolales",
          "Metazoa/Chordata/Actinopteri/Uranoscopiformes",
          "Metazoa/Chordata/Aves/Pelecaniformes",
          "Metazoa/Chordata/Actinopteri",
          "Viridiplantae/Streptophyta/Haplomitriopsida",
          "unknown/Apicomplexa/Aconoidasida",
          "Fungi/Zoopagomycota/Kickxellomycetes/Kickxellales",
          "unknown/unknown/Eustigmatophyceae/Eustigmatales",
          "Viridiplantae/Streptophyta/Leiosporocerotopsida",
          "Fungi/Ascomycota/Leotiomycetes",
          "Metazoa/Chordata/Actinopteri/Esociformes",
          "Metazoa/Arthropoda/Chilopoda/Lithobiomorpha",
          "unknown/Rhodophyta/Compsopogonophyceae/Erythropeltidales",
          "Fungi/Ascomycota/Leotiomycetes/Erysiphales",
          "Fungi/Basidiomycota/Exobasidiomycetes/Entylomatales",
          "Viridiplantae/Chlorophyta/Ulvophyceae/unknown",
          "Viridiplantae/Chlorophyta/Trebouxiophyceae/unknown",
          "Metazoa/Arthropoda/Protura/unknown",
          "Metazoa/Platyhelminthes/Monogenea",
          "Metazoa/Mollusca/Bivalvia/Lucinida",
          "unknown/unknown/unknown/Jakobida",
          "Viridiplantae/Chlorophyta/Pedinophyceae/unknown",
          "Metazoa/Chordata/Actinopteri/Istiophoriformes",
          "Fungi/Basidiomycota/Bartheletiomycetes",
          "Metazoa/Arthropoda/Collembola",
          "unknown/unknown/Chrysophyceae",
          "Metazoa/Nematoda/Chromadorea",
          "unknown/Apicomplexa/Conoidasida",
          "Metazoa/Chordata/Chondrichthyes",
          "Viridiplantae/Chlorophyta/Chlorophyceae",
          "Viridiplantae/Streptophyta/Cycadopsida",
          "Metazoa/Arthropoda/Chilopoda",
          "unknown/unknown/Centroplasthelida",
          "Metazoa/Echinodermata/Echinoidea",
          "Metazoa/Chordata/Actinopteri/Holocentriformes",
          "Viridiplantae/Streptophyta/Magnoliopsida/Huerteales",
          "Metazoa/Arthropoda/Branchiopoda",
          "Fungi/Basidiomycota/Agaricomycetes/Gloeophyllales",
          "Metazoa/Chordata/Mammalia/Hyracoidea",
          "Metazoa/Rotifera/Eurotatoria",
          "Viridiplantae/Streptophyta/Polypodiopsida/Gleicheniales",
          "unknown/Rhodophyta/Bangiophyceae",
          "unknown/Ciliophora/Oligohymenophorea/Peniculida",
          "Metazoa/Chordata/Mammalia/unknown",
          "unknown/Ciliophora/Oligohymenophorea",
          "Fungi/Ascomycota/Eurotiomycetes/Onygenales",
          "Viridiplantae/Streptophyta/Takakiopsida",
          "Viridiplantae/Streptophyta/Tetraphidopsida",
          "Fungi/Ascomycota/Sordariomycetes/Ophiostomatales",
          "Viridiplantae/Chlorophyta/Ulvophyceae/Cladophorales",
          "Metazoa/Chordata/Aves/Ciconiiformes",
          "Metazoa/Nematoda/Enoplea/Trichinellida",
          "Viridiplantae/Streptophyta/Polypodiopsida/Osmundales",
          "Fungi/Basidiomycota/Agaricomycetes/Trechisporales",
          "unknown/Preaxostyla/unknown/Oxymonadida",
          "Metazoa/Cnidaria/Cubozoa/Chirodropida",
          "Metazoa/Chordata/Chondrichthyes/Chimaeriformes",
          "Fungi/Ascomycota/unknown",
          "Viridiplantae/Chlorophyta/Pedinophyceae/Pedinomonadales",
          "Metazoa/Chordata/unknown",
          "Fungi/Chytridiomycota/Chytridiomycetes/Caulochytriales",
          "Metazoa/Chordata/Actinopteri/Tetraodontiformes",
          "Metazoa/Cnidaria/Staurozoa",
          "unknown/unknown/Glaucocystophyceae/unknown",
          "Viridiplantae/Streptophyta/Magnoliopsida/Nymphaeales",
          "Fungi/Basidiomycota/Ustilaginomycetes/Urocystidales",
          "unknown/Discosea/Flabellinia/unknown",
          "Metazoa/Chordata/Mammalia/Dermoptera",
          "unknown/unknown/Breviatea/unknown",
          "Fungi/Basidiomycota/Exobasidiomycetes/Microstromatales",
          "Viridiplantae/Chlorophyta/Trebouxiophyceae/Microthamniales",
          "Viridiplantae/Streptophyta/Pinopsida",
          "Metazoa/Arthropoda/Insecta/Zygentoma",
          "Metazoa/Chordata/Actinopteri/Cypriniformes",
          "Fungi/Ascomycota/Dothideomycetes/Myriangiales",
          "Fungi/Basidiomycota/Wallemiomycetes/Wallemiales",
          "unknown/Ciliophora/Prostomatea",
          "Fungi/Basidiomycota/Pucciniomycetes",
          "Viridiplantae/Streptophyta/Pinopsida/Cupressales",
          "unknown/unknown/Cryptophyceae/Cryptomonadales",
          "Fungi/Ascomycota/Eurotiomycetes/Verrucariales",
          "Metazoa/Arthropoda/Chilopoda/Craterostigmomorpha",
          "unknown/Rhodophyta/Florideophyceae/Nemaliales",
          "Fungi/Mucoromycota/Umbelopsidomycetes/Umbelopsidales",
          "unknown/Rhodophyta/Compsopogonophyceae"
         ],
         "labels": [
          "unknown",
          "unknown",
          "unknown",
          "unknown",
          "Macroscelidea",
          "unknown",
          "Lutjaniformes",
          "unknown",
          "Lumbriculida",
          "unknown",
          "Longamoebia",
          "Littorinimorpha",
          "Liliales",
          "unknown",
          "unknown",
          "Leucosolenida",
          "unknown",
          "Leiosporocerotales",
          "Laurales",
          "unknown",
          "unknown",
          "Lagomorpha",
          "Kurtiformes",
          "Jungermanniales",
          "Andreaeopsida",
          "Jaapiales",
          "Appendicularia",
          "Arachnida",
          "Asteroidea",
          "Leptostraca",
          "Isochrysidales",
          "Malasseziales",
          "unknown",
          "Venturiales",
          "Myxiniformes",
          "Mytilinidiales",
          "Myida",
          "Mycosphaerellales",
          "Musophagiformes",
          "Multivalvulida",
          "Zingiberales",
          "Zoantharia",
          "Mortierellales",
          "Zygnematales",
          "Monoblepharidales",
          "Mixiales",
          "Malpighiales",
          "Miliolida",
          "Microascales",
          "Metzgeriales",
          "Mesostigmatales",
          "Mesostigmata",
          "Mermithida",
          "Melosirales",
          "unknown",
          "Mecoptera",
          "Mastigamoebida",
          "unknown",
          "Marattiales",
          "Mantophasmatodea",
          "Mantodea",
          "Microthyriales",
          "Ignatiales",
          "Ichthyophonida",
          "Bacillariophyceae",
          "Euglenida",
          "Rhodymeniales",
          "Glaucosphaerales",
          "Eustigmatophyceae",
          "Eutardigrada",
          "Gigartinales",
          "Georgefischeriales",
          "Geoglossales",
          "Gastropoda",
          "Ginkgoopsida",
          "Geastrales",
          "Glaucocystophyceae",
          "Galliformes",
          "Entomophthoromycetes",
          "Gymnolaemata",
          "Funariales",
          "Fucales",
          "Fragilariales",
          "Filobasidiales",
          "Hydrozoa",
          "Imbricatea",
          "Eurypygiformes",
          "Eurotiales",
          "Eupodiscales",
          "Euplotida",
          "Insecta",
          "Kickxellomycetes",
          "Lecanoromycetes",
          "Gadiformes",
          "Enteropneusta",
          "Enoplea",
          "Glomerellales",
          "Basidiobolomycetes",
          "Hypnales",
          "Hymenoptera",
          "Hymenophyllales",
          "Breviatea",
          "Homosclerophorida",
          "Cestoda",
          "Hildenbrandiales",
          "Heterodontiformes",
          "Hemiptera",
          "Hemiaulales",
          "Cladistia",
          "Clitellata",
          "Coleochaetophyceae",
          "Harpacticoida",
          "Haplosclerida",
          "Halymeniales",
          "Cryptophyceae",
          "Cubozoa",
          "Gunnerales",
          "Grylloblattodea",
          "Gruiformes",
          "Dictyochophyceae",
          "Gracilariales",
          "Gonyaulacales",
          "Dimargaritomycetes",
          "Dinophyceae",
          "Diplopoda",
          "Glomerida",
          "Nebulidida",
          "Leptocardii",
          "Nectiopoda",
          "Neobodonida",
          "Sordariales",
          "Spariformes",
          "Sphagnales",
          "Porellales",
          "Polyzoniida",
          "Spizellomycetales",
          "Polytrichales",
          "Sporadotrichida",
          "Polyporales",
          "Polypodiales",
          "Polydesmida",
          "Sporolithales",
          "Stauromedusae",
          "Solemyida",
          "Podocopida",
          "Stolidobranchia",
          "Ploima",
          "Pleurostomatida",
          "Pleuronectiformes",
          "Pleosporales",
          "Strigiformes",
          "Strongylida",
          "Stylonematales",
          "Suliformes",
          "Pinguiochrysidales",
          "Symphypleona",
          "Pilosa",
          "Synbranchiformes",
          "Stephanodiscales",
          "Piciformes",
          "Primates",
          "Semaeostomeae",
          "Rotaliida",
          "Rhizostomeae",
          "Rhizosoleniales",
          "Rhizophydiales",
          "Salmoniformes",
          "Salviniales",
          "Sapindales",
          "Rhabdomonadales",
          "Rhabdocoela",
          "Rhabditida",
          "Raphidioptera",
          "Sarcinochrysidales",
          "Saxifragales",
          "Procellariiformes",
          "Pythiales",
          "Scleralcyonacea",
          "Scombriformes",
          "Pteropoda",
          "Scorpiones",
          "Scouleriales",
          "Scourfieldiales",
          "Psittaciformes",
          "Sebacinales",
          "Pseudoscorpiones",
          "Pseudoditrichales",
          "Sebdeniales",
          "Protococcidiorida",
          "Selaginellales",
          "Schizaeales",
          "Synchytriales",
          "Phyllodocida",
          "Syndiniales",
          "Trebouxiales",
          "Osteoglossiformes",
          "Osmeriformes",
          "Orthotrichales",
          "Tribonematales",
          "Orbiliales",
          "Opisthorchiida",
          "Tricladida",
          "Ophioglossales",
          "Tritrichomonadida",
          "Opalinata",
          "Trogoniformes",
          "Oncothecales",
          "Oxalidales",
          "Trombidiformes",
          "Tubulidentata",
          "Ulotrichales",
          "Nudibranchia",
          "Notothyladales",
          "Notostraca",
          "Notacanthiformes",
          "Noctilucales",
          "Neuroptera",
          "Umbilicariales",
          "Nephromycida",
          "Unionida",
          "Ustilaginales",
          "Neocallimastigales",
          "Trypetheliales",
          "Togniniales",
          "Pallaviciniales",
          "Palmariales",
          "Pholidota",
          "Phlebobranchia",
          "Philodinida",
          "Philasterida",
          "Syngnathiformes",
          "Phaeotrichales",
          "Takakiales",
          "Phaeocystales",
          "Peyssonneliales",
          "Petromyzontiformes",
          "Pertusariales",
          "Peronosporales",
          "Perissodactyla",
          "Peridiniales",
          "Temnopleuroida",
          "Pelobiontida",
          "Pelliales",
          "Tetramerocerata",
          "Pelagomonadales",
          "Thalassiophysales",
          "Thelephorales",
          "Thoracosphaerales",
          "Thoreales",
          "Thysanoptera",
          "Passeriformes",
          "Parmales",
          "Paraglomerales",
          "Timmiales",
          "Tintinnida",
          "Venerida",
          "Euglenales",
          "Rhynchobdellida",
          "Eubodonida",
          "Characiformes",
          "Chaetothyriales",
          "Chaetophorales",
          "Chaetopeltidales",
          "Ceratodontiformes",
          "Ceramiales",
          "unknown",
          "Centrarchiformes",
          "Celastrales",
          "unknown",
          "Caudata",
          "Casuariiformes",
          "Carybdeida",
          "unknown",
          "Cardiida",
          "Carcharhiniformes",
          "unknown",
          "Cantharellales",
          "Canellales",
          "unknown",
          "Calanoida",
          "Buxbaumiales",
          "Bucerotiformes",
          "Bryales",
          "Brassicales",
          "unknown",
          "Botryosphaeriales",
          "Charadriiformes",
          "Bothriocephalidea",
          "Chattonellales",
          "Chiroptera",
          "Copelata",
          "Spirotrichea",
          "Compsopogonales",
          "Comatulida",
          "Columbiformes",
          "Stylonematophyceae",
          "Symphyla",
          "Synurophyceae",
          "Tentaculata",
          "Coccosphaerales",
          "Coccolithales",
          "Clathrinida",
          "Trebouxiophyceae",
          "Cingulata",
          "Ulvophyceae",
          "Cichliformes",
          "Chytridiales",
          "Chromulinales",
          "Choreotrichida",
          "Umbelopsidomycetes",
          "Uniplacotomia",
          "Chloropicales",
          "Chlorocystidales",
          "Chlorellales",
          "Chloranthales",
          "Eucoccidiorida",
          "Wallemiomycetes",
          "Cheilostomatida",
          "Sphagnopsida",
          "Boraginales",
          "Blenniiformes",
          "Apodiformes",
          "Echinodermata",
          "Anthocerotales",
          "Anthoathecata",
          "Anseriformes",
          "Nebulidia",
          "Nemertea",
          "Amphipoda",
          "Amphioxiformes",
          "Amphilepidida",
          "Amphidiniales",
          "Amborellales",
          "Placozoa",
          "Albuginales",
          "Ahnfeltiales",
          "Agaricales",
          "Adinetida",
          "Adapedonta",
          "Acytosteliales",
          "Tardigrada",
          "Acrospermales",
          "Xenacoelomorpha",
          "unknown",
          "Acipenseriformes",
          "Accipitriformes",
          "Acanthuriformes",
          "Acanthoecida",
          "Discosea",
          "unknown",
          "Apusomonadida",
          "Dicyemida",
          "Blattodea",
          "Blastocladiales",
          "Blasiales",
          "Bivalvulida",
          "Beroida",
          "unknown",
          "Beloniformes",
          "Batrachospermales",
          "unknown",
          "Basidiobolales",
          "Bartramiales",
          "Bartheletiales",
          "unknown",
          "Acanthocephala",
          "Austrobaileyales",
          "Ascomycota",
          "Atheliales",
          "Bryozoa",
          "Cercozoa",
          "Asparagales",
          "Artiodactyla",
          "Arecales",
          "Chordata",
          "Chordata",
          "Archigregarinorida",
          "Arcellinida",
          "Ctenophora",
          "Aquifoliales",
          "Corallinales",
          "Chlamydomonadales",
          "Cydippida",
          "Cyrtolophosidida",
          "Dolichomastigales",
          "Polypodiopsida",
          "Echinorhynchida",
          "Ectocarpales",
          "Elopiformes",
          "Embioptera",
          "Orbiliomycetes",
          "Protura",
          "Cyclopoida",
          "Cyclophyllidea",
          "Cyclophorales",
          "Encalyptales",
          "Enchytraeida",
          "Endogonales",
          "Cycloneritida",
          "Cycadales",
          "Cystobasidiales",
          "Entomophthorales",
          "Pneumocystomycetes",
          "Pinguiophyceae",
          "Dilleniales",
          "Dimargaritales",
          "Dinophysales",
          "Palaeacanthocephala",
          "Dioctophymatida",
          "Desmodorida",
          "Pedinophyceae",
          "Desmarestiales",
          "Schizosaccharomycetes",
          "Dermaptera",
          "Dioscoreales",
          "Diphyllobothriidea",
          "Pilidiophora",
          "Diplonemea",
          "Myxini",
          "Dasyuromorphia",
          "Diprotodontia",
          "Diversisporales",
          "Cyathomonadacea",
          "Nephroselmidophyceae",
          "Rhabditophora",
          "Raphidophyceae",
          "Equisetales",
          "Ericales",
          "Magnoliopsida",
          "Crossosomatales",
          "Ephemeroptera",
          "Malacostraca",
          "Pyramimonadophyceae",
          "Cuculiformes",
          "Craspedida",
          "Malasseziomycetes",
          "Cucurbitales",
          "Eremomycetales",
          "Cyanidiales",
          "Cyatheales",
          "Corticiales",
          "Rhodellophyceae",
          "Mammalia",
          "Apicomplexa",
          "Tanaidacea",
          "Chlorophyta",
          "Struthioniformes",
          "Neolectomycetes",
          "Mucoromycetes",
          "Zoopagomycota",
          "undef",
          "Myxozoa",
          "Metazoa",
          "Synurales",
          "Neocallimastigomycetes",
          "Russulales",
          "Brachiopoda",
          "Blastocladiomycota",
          "Ascomycota",
          "Salpida",
          "Strigeidida",
          "Saccharomycetales",
          "Jungermanniopsida",
          "Arthropoda",
          "Lycopodiopsida",
          "Lingulata",
          "Litostomatea",
          "Annelida",
          "Harpellomycetes",
          "Stomatopoda",
          "Strepsiptera",
          "Perkinsozoa",
          "Marosporida",
          "Parabasalia",
          "Siluriformes",
          "Oomycota",
          "Solanales",
          "Onychophora",
          "Phoronida",
          "Hexanauplia",
          "Preaxostyla",
          "Holothuroidea",
          "Homoscleromorpha",
          "Priapulida",
          "Sphaerocarpales",
          "Ichthyostraca",
          "Spionida",
          "Glomeromycetes",
          "Mixiomycetes",
          "Saprolegniales",
          "Heterotrichea",
          "Chytridiomycota",
          "Ciliophora",
          "Filasterea",
          "Mortierellomycetes",
          "Microbotryomycetes",
          "Florideophyceae",
          "Merostomata",
          "Scandentia",
          "Entoprocta",
          "Evosea",
          "Hemichordata",
          "Rhodophyta",
          "Scyphozoa",
          "Thraustochytrida",
          "Ostracoda",
          "Pycnogonida",
          "unknown",
          "unknown",
          "Zoopagales",
          "Ustilaginomycetes",
          "Variosea",
          "unknown",
          "unknown",
          "Zygophyllales",
          "Amphibia",
          "Xiphosura",
          "Welwitschiales",
          "Vitales",
          "Xanthophyceae",
          "Xylonomycetes",
          "Anthozoa",
          "Zoopagomycetes",
          "Vaucheriales",
          "Xylonales",
          "unknown",
          "unknown",
          "unknown",
          "Sordariomycetes",
          "unknown",
          "unknown",
          "unknown",
          "unknown",
          "unknown",
          "unknown",
          "unknown",
          "Synchromophyceae",
          "unknown",
          "Remipedia",
          "unknown",
          "Thaliacea",
          "unknown",
          "Thecostraca",
          "unknown",
          "Trematoda",
          "unknown",
          "unknown",
          "Zygnemophyceae",
          "Nuda",
          "unknown",
          "Priapulimorpha",
          "Chloropicophyceae",
          "Chytridiomycetes",
          "unknown",
          "Tinamiformes",
          "unknown",
          "Tilletiales",
          "Picocystophyceae",
          "Phaeophyceae",
          "Torpediniformes",
          "Pezizomycetes",
          "unknown",
          "Crinoidea",
          "Pauropoda",
          "Testudines",
          "Cystobasidiomycetes",
          "unknown",
          "Demospongiae",
          "Taphrinales",
          "Pelagophyceae",
          "unknown",
          "Tremellales",
          "Chlorodendrophyceae",
          "Prasinodermophyceae",
          "Polytrichopsida",
          "Bigyra",
          "Ulvales",
          "Blastocladiomycetes",
          "unknown",
          "Tubificida",
          "Bolidophyceae",
          "unknown",
          "Polyplacophora",
          "unknown",
          "Bryopsida",
          "Trichosporonales",
          "Trichoptera",
          "Calcarea",
          "Trichoplacea",
          "unknown",
          "unknown",
          "Treubiales",
          "unknown",
          "Eurotiomycetes",
          "Acanthobdellida",
          "Helotiales",
          "Eugregarinorida",
          "Chordeumatida",
          "Orthoptera",
          "Eulipotyphla",
          "Ostreida",
          "Euonychophora",
          "Chlorodendrales",
          "Chitonida",
          "Euphausiacea",
          "Chaetodontiformes",
          "Pantopoda",
          "Parabodonida",
          "Eutreptiales",
          "Patellariales",
          "Ephedrales",
          "Pavlovales",
          "Fabales",
          "Laminariales",
          "Labriformes",
          "Carnivora",
          "Cariamiformes",
          "Perciformes",
          "Malacovalvulida",
          "Pezizales",
          "Falconiformes",
          "Phaethontiformes",
          "Phasmatodea",
          "Phthiraptera",
          "Camarodonta",
          "Pinales",
          "Ceraceosorales",
          "Piperales",
          "Coleochaetales",
          "Oedogoniales",
          "Dictyochales",
          "Marchantiales",
          "Desmidiales",
          "Dendrochirotida",
          "Didelphimorphia",
          "Diphysciales",
          "Microbiotheria",
          "Diplostraca",
          "Lunulariales",
          "Monotremata",
          "Mucorales",
          "Mugiliformes",
          "Dipsacales",
          "Cyphobasidiales",
          "Coleoptera",
          "Myrtales",
          "Mytilida",
          "Dixoniellales",
          "Crocodylia",
          "Naviculales",
          "Crassiclitellata",
          "Nemastomatales",
          "Dothideales",
          "Neogastropoda",
          "Cornales",
          "Corethrales",
          "Neolectales",
          "Entrophosporales",
          "Octopoda",
          "Odonata",
          "Diptera",
          "Forcipulatida",
          "Carangiformes",
          "Apterygiformes",
          "Arguloida",
          "Ginkgoales",
          "Hypocreales",
          "Glissomonadida",
          "Araucariales",
          "Hypnodendrales",
          "Apiales",
          "Prorodontida",
          "Hymenochaetales",
          "Psocoptera",
          "Pterocystida",
          "Andreaeales",
          "Anabantiformes",
          "Grimmiales",
          "Alismatales",
          "Gymnodiniales",
          "Gymnophiona",
          "Agamococcidiorida",
          "Gymnotiformes",
          "Haemosporida",
          "Acrosymphytales",
          "Hapalidiales",
          "Acropomatiformes",
          "Rhodellales",
          "Rhodogorgonales",
          "Prasinococcales",
          "Pottiales",
          "Dictyoceratida",
          "Geraniales",
          "Bangiales",
          "Gelidiales",
          "Bacillariales",
          "Pleurobranchida",
          "Pollicipedomorpha",
          "Viridiplantae",
          "Plocamiales",
          "Julida",
          "Balanomorpha",
          "Aspidochirotida",
          "Geophilomorpha",
          "Porphyridiales",
          "Auriculariales",
          "Boletales",
          "Pneumocystales",
          "Aulopiformes",
          "Gonorynchiformes",
          "Monoblepharidomycetes",
          "Dacrymycetes",
          "Geoglossomycetes",
          "Diplura",
          "Diplomonadida",
          "Nebulidea",
          "Florenciellales",
          "Garryales",
          "Dictyotales",
          "Coscinodiscophyceae",
          "Rodentia",
          "Dictyosteliales",
          "Colpodea",
          "Ophiuroidea",
          "Gaviiformes",
          "Gentianales",
          "Mesostigmatophyceae",
          "Gnetales",
          "Exobasidiomycetes",
          "Flabellinia",
          "Glaucocystales",
          "Eumycetozoa",
          "Fragilariophyceae",
          "Kinetoplastea",
          "Klebsormidiophyceae",
          "Ichthyosporea",
          "Lepidosauria",
          "Euglyphida",
          "Escalloniales",
          "Gobiiformes",
          "Hyperoartia",
          "Gnetopsida",
          "Mamiellophyceae",
          "Gloeochaetales",
          "Glomerales",
          "Marchantiopsida",
          "Entomobryomorpha",
          "Mediophyceae",
          "Endogonomycetes",
          "Elardia",
          "Fagales",
          "Dothideomycetes",
          "Exobasidiales",
          "Galdieriales",
          "Rosales",
          "Palmophyllophyceae",
          "Cnidaria",
          "Archaeognatha",
          "Architaenioglossa",
          "Arcoida",
          "Chlorophyta",
          "Asterales",
          "Aulographales",
          "Cryptomycota",
          "Basidiomycota",
          "Axinellida",
          "Balbianiales",
          "Batrachoidiformes",
          "Berberidopsidales",
          "Bicosoecida",
          "unknown",
          "Branchiobdellida",
          "Bacillariophyta",
          "Araneae",
          "Aplysiida",
          "Foraminifera",
          "Fungi",
          "Acorales",
          "Acrochaetiales",
          "Tubulinea",
          "Streptophyta",
          "Actiniaria",
          "Prasinodermophyta",
          "Platyhelminthes",
          "Placozoa",
          "Amblypygi",
          "Amiiformes",
          "Nematoda",
          "Anostraca",
          "Mollusca",
          "Microsporidia",
          "Heterolobosea",
          "Haptophyta",
          "Bryopsidales",
          "unknown",
          "Buxales",
          "Capnodiales",
          "Harpellales",
          "Corallimorpharia",
          "Saccharomycetes",
          "Coscinodiscales",
          "Cyclotrichida",
          "Cymatosirales",
          "Cyprinodontiformes",
          "Cystofilobasidiales",
          "Polychaeta",
          "Dacrymycetales",
          "Dactylopodida",
          "Decapoda",
          "Dendroceratida",
          "Phytomyxea",
          "Phylactolaemata",
          "Dendrocerotales",
          "Diaporthales",
          "Coniochaetales",
          "Dicranales",
          "Colponemida",
          "Taphrinomycetes",
          "Caryophyllales",
          "unknown",
          "unknown",
          "Cavosteliida",
          "unknown",
          "unknown",
          "Ceratophyllales",
          "Chaetocerotales",
          "Charales",
          "Chlorokybales",
          "Chlorosarcinales",
          "Udeonychophora",
          "Tremellomycetes",
          "Cladosporiales",
          "Clupeiformes",
          "Clypeasteroida",
          "Coelacanthiformes",
          "Coliiformes",
          "Coraciiformes",
          "Polypteriformes",
          "Heteronemertea",
          "unknown",
          "Sirenia",
          "Microbotryales",
          "Priapulimorphida",
          "Monomastigales",
          "Prasiolales",
          "unknown",
          "Myliobatiformes",
          "Prasinodermales",
          "Sphaeropleales",
          "Sphenisciformes",
          "Violaceomycetales",
          "Polyxenida",
          "Vampyromorpha",
          "Xylariales",
          "Megaloptera",
          "Siphonostomatoida",
          "unknown",
          "Lobata",
          "Semionotiformes",
          "unknown",
          "Macrostomida",
          "Magnaporthales",
          "unknown",
          "Prorocentrales",
          "unknown",
          "Siphonaptera",
          "Siphonophorae",
          "Magnoliales",
          "Malacalcyonacea",
          "Malvales",
          "Mamiellales",
          "Mazocraeidea",
          "Valvatida",
          "unknown",
          "Squamata",
          "Nephroselmidales",
          "Suberitida",
          "Suessiales",
          "Oxyrrhinales",
          "Pandanales",
          "Parachela",
          "Paxillosida",
          "Ostropales",
          "Picocystales",
          "Pedinellales",
          "Thalassiosirales",
          "Physariida",
          "Thalassionemales",
          "Tetraphidales",
          "Phaeomoniellales",
          "Pectinida",
          "Stylommatophora",
          "Stygamoebida",
          "Plagiorchiida",
          "Poduromorpha",
          "Poales",
          "Striatellales",
          "Ochromonadales",
          "Trypanosomatida",
          "Oegopsida",
          "Plectida",
          "Plecoptera",
          "Trochodendrales",
          "Ophidiiformes",
          "Plasmodiophorida",
          "Opiliones",
          "Opisthocomiformes",
          "Orectolobiformes",
          "Trichomonadida",
          "Hedwigiales",
          "Lithodesmiales",
          "Lycopodiales",
          "unknown",
          "Ramicandelaberales",
          "Sarcoptiformes",
          "Rajiformes",
          "Pyrenomonadales",
          "Icacinales",
          "Aves",
          "Bivalvia",
          "Isoetales",
          "Ascetosporea",
          "Isopoda",
          "Ixodida",
          "Anthocerotopsida",
          "unknown",
          "Schizosaccharomycetales",
          "Ascidiacea",
          "Agaricomycetes",
          "Hymenostomatida",
          "Rhabdonematales",
          "Rotosphaerida",
          "Rhodochaetales",
          "Choanoflagellata",
          "Heterotrichida",
          "Rhizogoniales",
          "Chlorokybophyceae",
          "Ranunculales",
          "Himatismenida",
          "Rhizochromulinales",
          "Charophyceae",
          "Hirudinida",
          "Cephalopoda",
          "Rhinopristiformes",
          "Santalales",
          "Chlorarachniophyceae",
          "Scleractinia",
          "Perkinsida",
          "unknown",
          "Licmophorales",
          "Leucosporidiales",
          "unknown",
          "Leptothecata",
          "Leptocylindrales",
          "Psilotales",
          "Scolopendromorpha",
          "Lepidoptera",
          "unknown",
          "Lepetellida",
          "Ptilidiales",
          "Lineolatales",
          "unknown",
          "unknown",
          "Lecanorales",
          "Lamniformes",
          "Lingulida",
          "Pterioida",
          "Lamiales",
          "Proteales",
          "Scutigeromorpha",
          "Klebsormidiales",
          "Prymnesiales",
          "Apochela",
          "Caprimulgiformes",
          "Endomyxa",
          "Pucciniales",
          "Euglenozoa",
          "Sabellida",
          "Fornicata",
          "Caliciales",
          "Acoela",
          "unknown",
          "Acanthocystida",
          "Sepiida",
          "Piroplasmida",
          "unknown",
          "Bonnemaisoniales",
          "Amylocorticiales",
          "Sphenodontia",
          "Atheriniformes",
          "Spinulosida",
          "Spirulida",
          "Squaliformes",
          "Archaeosporales",
          "Proboscidea",
          "Pyramimonadales",
          "Porifera",
          "Mucoromycota",
          "Anguilliformes",
          "Albuliformes",
          "unknown",
          "Rotifera",
          "Anura",
          "Sporidiobolales",
          "Uranoscopiformes",
          "Pelecaniformes",
          "Actinopteri",
          "Haplomitriopsida",
          "Aconoidasida",
          "Kickxellales",
          "Eustigmatales",
          "Leiosporocerotopsida",
          "Leotiomycetes",
          "Esociformes",
          "Lithobiomorpha",
          "Erythropeltidales",
          "Erysiphales",
          "Entylomatales",
          "unknown",
          "unknown",
          "unknown",
          "Monogenea",
          "Lucinida",
          "Jakobida",
          "unknown",
          "Istiophoriformes",
          "Bartheletiomycetes",
          "Collembola",
          "Chrysophyceae",
          "Chromadorea",
          "Conoidasida",
          "Chondrichthyes",
          "Chlorophyceae",
          "Cycadopsida",
          "Chilopoda",
          "Centroplasthelida",
          "Echinoidea",
          "Holocentriformes",
          "Huerteales",
          "Branchiopoda",
          "Gloeophyllales",
          "Hyracoidea",
          "Eurotatoria",
          "Gleicheniales",
          "Bangiophyceae",
          "Peniculida",
          "unknown",
          "Oligohymenophorea",
          "Onygenales",
          "Takakiopsida",
          "Tetraphidopsida",
          "Ophiostomatales",
          "Cladophorales",
          "Ciconiiformes",
          "Trichinellida",
          "Osmundales",
          "Trechisporales",
          "Oxymonadida",
          "Chirodropida",
          "Chimaeriformes",
          "unknown",
          "Pedinomonadales",
          "unknown",
          "Caulochytriales",
          "Tetraodontiformes",
          "Staurozoa",
          "unknown",
          "Nymphaeales",
          "Urocystidales",
          "unknown",
          "Dermoptera",
          "unknown",
          "Microstromatales",
          "Microthamniales",
          "Pinopsida",
          "Zygentoma",
          "Cypriniformes",
          "Myriangiales",
          "Wallemiales",
          "Prostomatea",
          "Pucciniomycetes",
          "Cupressales",
          "Cryptomonadales",
          "Verrucariales",
          "Craterostigmomorpha",
          "Nemaliales",
          "Umbelopsidales",
          "Compsopogonophyceae"
         ],
         "marker": {
          "colors": [
           "#FF9536",
           "#94CCFC",
           "#FF9536",
           "#FF9481",
           "#94CCFC",
           "#94CCFC",
           "#94CCFC",
           "#FF9536",
           "#94CCFC",
           "#94CCFC",
           "#FF9536",
           "#94CCFC",
           "#BEDF7C",
           "#FF9536",
           "#94CCFC",
           "#94CCFC",
           "#FF9536",
           "#BEDF7C",
           "#BEDF7C",
           "#FF9536",
           "#FF9536",
           "#94CCFC",
           "#94CCFC",
           "#BEDF7C",
           "#BEDF7C",
           "#FF9481",
           "#94CCFC",
           "#94CCFC",
           "#94CCFC",
           "#94CCFC",
           "#FF9536",
           "#FF9481",
           "#FF9481",
           "#FF9481",
           "#94CCFC",
           "#FF9481",
           "#94CCFC",
           "#FF9481",
           "#94CCFC",
           "#94CCFC",
           "#BEDF7C",
           "#94CCFC",
           "#FF9481",
           "#BEDF7C",
           "#FF9481",
           "#FF9481",
           "#BEDF7C",
           "#FF9536",
           "#FF9481",
           "#BEDF7C",
           "#BEDF7C",
           "#94CCFC",
           "#94CCFC",
           "#FF9536",
           "#BEDF7C",
           "#94CCFC",
           "#FF9536",
           "#FF9536",
           "#BEDF7C",
           "#94CCFC",
           "#94CCFC",
           "#FF9481",
           "#BEDF7C",
           "#FF9536",
           "#FF9536",
           "#FF9536",
           "#FF9536",
           "#FF9536",
           "#FF9536",
           "#94CCFC",
           "#FF9536",
           "#FF9481",
           "#FF9481",
           "#94CCFC",
           "#BEDF7C",
           "#FF9481",
           "#FF9536",
           "#94CCFC",
           "#FF9481",
           "#94CCFC",
           "#BEDF7C",
           "#FF9536",
           "#FF9536",
           "#FF9481",
           "#94CCFC",
           "#FF9536",
           "#94CCFC",
           "#FF9481",
           "#FF9536",
           "#FF9536",
           "#94CCFC",
           "#FF9481",
           "#FF9481",
           "#94CCFC",
           "#94CCFC",
           "#94CCFC",
           "#FF9481",
           "#FF9481",
           "#BEDF7C",
           "#94CCFC",
           "#BEDF7C",
           "#FF9536",
           "#94CCFC",
           "#94CCFC",
           "#FF9536",
           "#94CCFC",
           "#94CCFC",
           "#FF9536",
           "#94CCFC",
           "#94CCFC",
           "#BEDF7C",
           "#94CCFC",
           "#94CCFC",
           "#FF9536",
           "#FF9536",
           "#94CCFC",
           "#BEDF7C",
           "#94CCFC",
           "#94CCFC",
           "#FF9536",
           "#FF9536",
           "#FF9536",
           "#FF9481",
           "#FF9536",
           "#94CCFC",
           "#94CCFC",
           "#FF9536",
           "#94CCFC",
           "#94CCFC",
           "#FF9536",
           "#FF9481",
           "#94CCFC",
           "#BEDF7C",
           "#BEDF7C",
           "#94CCFC",
           "#FF9481",
           "#BEDF7C",
           "#FF9536",
           "#FF9481",
           "#BEDF7C",
           "#94CCFC",
           "#FF9536",
           "#94CCFC",
           "#94CCFC",
           "#94CCFC",
           "#94CCFC",
           "#94CCFC",
           "#FF9536",
           "#94CCFC",
           "#FF9481",
           "#94CCFC",
           "#94CCFC",
           "#FF9536",
           "#94CCFC",
           "#FF9536",
           "#94CCFC",
           "#94CCFC",
           "#94CCFC",
           "#FF9536",
           "#94CCFC",
           "#94CCFC",
           "#94CCFC",
           "#FF9536",
           "#94CCFC",
           "#FF9536",
           "#FF9481",
           "#94CCFC",
           "#BEDF7C",
           "#BEDF7C",
           "#FF9536",
           "#94CCFC",
           "#94CCFC",
           "#94CCFC",
           "#FF9536",
           "#BEDF7C",
           "#94CCFC",
           "#FF9536",
           "#94CCFC",
           "#94CCFC",
           "#94CCFC",
           "#94CCFC",
           "#BEDF7C",
           "#BEDF7C",
           "#94CCFC",
           "#FF9481",
           "#94CCFC",
           "#BEDF7C",
           "#FF9536",
           "#FF9536",
           "#BEDF7C",
           "#BEDF7C",
           "#FF9481",
           "#94CCFC",
           "#FF9536",
           "#BEDF7C",
           "#94CCFC",
           "#94CCFC",
           "#BEDF7C",
           "#FF9536",
           "#FF9481",
           "#94CCFC",
           "#94CCFC",
           "#BEDF7C",
           "#FF9536",
           "#FF9536",
           "#94CCFC",
           "#BEDF7C",
           "#BEDF7C",
           "#94CCFC",
           "#94CCFC",
           "#BEDF7C",
           "#94CCFC",
           "#BEDF7C",
           "#94CCFC",
           "#94CCFC",
           "#FF9536",
           "#94CCFC",
           "#FF9481",
           "#FF9536",
           "#94CCFC",
           "#FF9481",
           "#FF9481",
           "#FF9481",
           "#FF9481",
           "#BEDF7C",
           "#FF9536",
           "#94CCFC",
           "#94CCFC",
           "#94CCFC",
           "#FF9536",
           "#94CCFC",
           "#FF9481",
           "#BEDF7C",
           "#FF9536",
           "#FF9536",
           "#94CCFC",
           "#FF9481",
           "#FF9536",
           "#94CCFC",
           "#FF9536",
           "#94CCFC",
           "#FF9536",
           "#BEDF7C",
           "#94CCFC",
           "#FF9536",
           "#FF9536",
           "#FF9481",
           "#FF9536",
           "#FF9536",
           "#94CCFC",
           "#94CCFC",
           "#FF9536",
           "#FF9481",
           "#BEDF7C",
           "#FF9536",
           "#94CCFC",
           "#FF9536",
           "#94CCFC",
           "#FF9536",
           "#94CCFC",
           "#FF9481",
           "#BEDF7C",
           "#BEDF7C",
           "#94CCFC",
           "#FF9536",
           "#BEDF7C",
           "#94CCFC",
           "#BEDF7C",
           "#94CCFC",
           "#94CCFC",
           "#94CCFC",
           "#94CCFC",
           "#FF9536",
           "#94CCFC",
           "#94CCFC",
           "#FF9536",
           "#FF9481",
           "#BEDF7C",
           "#FF9536",
           "#94CCFC",
           "#BEDF7C",
           "#94CCFC",
           "#BEDF7C",
           "#BEDF7C",
           "#FF9536",
           "#FF9481",
           "#94CCFC",
           "#94CCFC",
           "#FF9536",
           "#94CCFC",
           "#94CCFC",
           "#FF9536",
           "#FF9536",
           "#94CCFC",
           "#94CCFC",
           "#FF9536",
           "#94CCFC",
           "#FF9536",
           "#94CCFC",
           "#FF9536",
           "#FF9536",
           "#94CCFC",
           "#BEDF7C",
           "#94CCFC",
           "#BEDF7C",
           "#94CCFC",
           "#FF9481",
           "#FF9536",
           "#FF9536",
           "#FF9481",
           "#94CCFC",
           "#BEDF7C",
           "#BEDF7C",
           "#BEDF7C",
           "#BEDF7C",
           "#FF9536",
           "#FF9481",
           "#94CCFC",
           "#BEDF7C",
           "#BEDF7C",
           "#94CCFC",
           "#94CCFC",
           "#94CCFC",
           "#BEDF7C",
           "#94CCFC",
           "#94CCFC",
           "#FF9536",
           "#94CCFC",
           "#94CCFC",
           "#94CCFC",
           "#94CCFC",
           "#FF9536",
           "#BEDF7C",
           "#94CCFC",
           "#FF9536",
           "#FF9536",
           "#FF9481",
           "#94CCFC",
           "#94CCFC",
           "#FF9536",
           "#94CCFC",
           "#FF9481",
           "#94CCFC",
           "#FF9481",
           "#94CCFC",
           "#94CCFC",
           "#94CCFC",
           "#FF9536",
           "#FF9536",
           "#FF9536",
           "#FF9536",
           "#94CCFC",
           "#94CCFC",
           "#FF9481",
           "#BEDF7C",
           "#94CCFC",
           "#94CCFC",
           "#FF9536",
           "#94CCFC",
           "#FF9536",
           "#FF9481",
           "#FF9481",
           "#BEDF7C",
           "#FF9481",
           "#FF9536",
           "#94CCFC",
           "#BEDF7C",
           "#FF9481",
           "#FF9481",
           "#94CCFC",
           "#FF9536",
           "#BEDF7C",
           "#94CCFC",
           "#BEDF7C",
           "#94CCFC",
           "#FF9536",
           "#FF9536",
           "#FF9536",
           "#94CCFC",
           "#BEDF7C",
           "#FF9536",
           "#BEDF7C",
           "#94CCFC",
           "#FF9536",
           "#BEDF7C",
           "#BEDF7C",
           "#94CCFC",
           "#FF9536",
           "#94CCFC",
           "#94CCFC",
           "#FF9481",
           "#94CCFC",
           "#94CCFC",
           "#94CCFC",
           "#FF9536",
           "#BEDF7C",
           "#94CCFC",
           "#FF9481",
           "#94CCFC",
           "#BEDF7C",
           "#FF9481",
           "#FF9481",
           "#FF9481",
           "#FF9536",
           "#BEDF7C",
           "#FF9481",
           "#FF9536",
           "#94CCFC",
           "#94CCFC",
           "#94CCFC",
           "#BEDF7C",
           "#FF9536",
           "#FF9481",
           "#94CCFC",
           "#BEDF7C",
           "#94CCFC",
           "#94CCFC",
           "#FF9536",
           "#94CCFC",
           "#94CCFC",
           "#94CCFC",
           "#FF9481",
           "#FF9536",
           "#BEDF7C",
           "#94CCFC",
           "#FF9536",
           "#BEDF7C",
           "#BEDF7C",
           "#BEDF7C",
           "#BEDF7C",
           "#94CCFC",
           "#94CCFC",
           "#BEDF7C",
           "#94CCFC",
           "#FF9536",
           "#FF9481",
           "#BEDF7C",
           "#FF9481",
           "#FF9536",
           "#BEDF7C",
           "#FF9481",
           "#FF9536",
           "#94CCFC",
           "#FF9536",
           "#94CCFC",
           "#FF9536",
           "#94CCFC",
           "#FF9481",
           "#FF9481",
           "#FF9481",
           "#FF9536",
           "#94CCFC",
           "#94CCFC",
           "#FF9536",
           "#FF9481",
           "#FF9481",
           "#94CCFC",
           "#FF9481",
           "#FF9536",
           "#94CCFC",
           "#94CCFC",
           "#FF9481",
           "#BEDF7C",
           "#94CCFC",
           "#BEDF7C",
           "#94CCFC",
           "#FF9536",
           "#94CCFC",
           "#FF9481",
           "#94CCFC",
           "#94CCFC",
           "#FF9536",
           "#FF9536",
           "#FF9536",
           "#94CCFC",
           "#FF9536",
           "#BEDF7C",
           "#94CCFC",
           "#94CCFC",
           "#94CCFC",
           "#FF9536",
           "#94CCFC",
           "#94CCFC",
           "#94CCFC",
           "#BEDF7C",
           "#94CCFC",
           "#94CCFC",
           "#FF9481",
           "#FF9481",
           "#FF9536",
           "#FF9536",
           "#FF9481",
           "#FF9536",
           "#FF9536",
           "#FF9481",
           "#FF9481",
           "#FF9536",
           "#94CCFC",
           "#94CCFC",
           "#94CCFC",
           "#FF9536",
           "#94CCFC",
           "#FF9536",
           "#94CCFC",
           "#FF9536",
           "#94CCFC",
           "#94CCFC",
           "#94CCFC",
           "#FF9536",
           "#FF9481",
           "#FF9481",
           "#FF9536",
           "#FF9481",
           "#FF9536",
           "#BEDF7C",
           "#94CCFC",
           "#94CCFC",
           "#BEDF7C",
           "#BEDF7C",
           "#FF9536",
           "#FF9481",
           "#94CCFC",
           "#FF9481",
           "#FF9536",
           "#FF9481",
           "#94CCFC",
           "#FF9536",
           "#FF9536",
           "#FF9481",
           "#FF9481",
           "#BEDF7C",
           "#94CCFC",
           "#FF9481",
           "#FF9536",
           "#BEDF7C",
           "#94CCFC",
           "#FF9536",
           "#FF9536",
           "#94CCFC",
           "#94CCFC",
           "#94CCFC",
           "#FF9481",
           "#94CCFC",
           "#94CCFC",
           "#94CCFC",
           "#FF9481",
           "#94CCFC",
           "#BEDF7C",
           "#94CCFC",
           "#FF9536",
           "#94CCFC",
           "#BEDF7C",
           "#FF9481",
           "#FF9536",
           "#94CCFC",
           "#FF9536",
           "#FF9481",
           "#BEDF7C",
           "#FF9536",
           "#94CCFC",
           "#FF9481",
           "#94CCFC",
           "#94CCFC",
           "#94CCFC",
           "#94CCFC",
           "#FF9481",
           "#FF9536",
           "#94CCFC",
           "#FF9481",
           "#FF9536",
           "#FF9536",
           "#FF9481",
           "#BEDF7C",
           "#BEDF7C",
           "#BEDF7C",
           "#FF9536",
           "#BEDF7C",
           "#FF9481",
           "#FF9536",
           "#94CCFC",
           "#FF9536",
           "#94CCFC",
           "#94CCFC",
           "#94CCFC",
           "#BEDF7C",
           "#FF9481",
           "#94CCFC",
           "#94CCFC",
           "#94CCFC",
           "#FF9536",
           "#FF9536",
           "#BEDF7C",
           "#94CCFC",
           "#FF9481",
           "#94CCFC",
           "#FF9481",
           "#FF9536",
           "#94CCFC",
           "#94CCFC",
           "#94CCFC",
           "#94CCFC",
           "#94CCFC",
           "#BEDF7C",
           "#94CCFC",
           "#94CCFC",
           "#94CCFC",
           "#94CCFC",
           "#FF9536",
           "#FF9536",
           "#FF9481",
           "#BEDF7C",
           "#FF9536",
           "#BEDF7C",
           "#FF9536",
           "#94CCFC",
           "#94CCFC",
           "#94CCFC",
           "#94CCFC",
           "#94CCFC",
           "#FF9481",
           "#94CCFC",
           "#94CCFC",
           "#94CCFC",
           "#94CCFC",
           "#94CCFC",
           "#BEDF7C",
           "#FF9481",
           "#BEDF7C",
           "#BEDF7C",
           "#BEDF7C",
           "#FF9536",
           "#BEDF7C",
           "#BEDF7C",
           "#94CCFC",
           "#94CCFC",
           "#BEDF7C",
           "#94CCFC",
           "#94CCFC",
           "#BEDF7C",
           "#94CCFC",
           "#FF9481",
           "#94CCFC",
           "#BEDF7C",
           "#FF9481",
           "#94CCFC",
           "#BEDF7C",
           "#94CCFC",
           "#FF9536",
           "#94CCFC",
           "#FF9536",
           "#94CCFC",
           "#FF9536",
           "#FF9481",
           "#94CCFC",
           "#BEDF7C",
           "#FF9536",
           "#FF9481",
           "#FF9481",
           "#94CCFC",
           "#94CCFC",
           "#94CCFC",
           "#94CCFC",
           "#94CCFC",
           "#94CCFC",
           "#94CCFC",
           "#BEDF7C",
           "#FF9481",
           "#FF9536",
           "#BEDF7C",
           "#BEDF7C",
           "#BEDF7C",
           "#FF9536",
           "#FF9481",
           "#94CCFC",
           "#FF9536",
           "#BEDF7C",
           "#94CCFC",
           "#BEDF7C",
           "#BEDF7C",
           "#FF9536",
           "#94CCFC",
           "#FF9536",
           "#94CCFC",
           "#FF9536",
           "#FF9536",
           "#FF9536",
           "#94CCFC",
           "#FF9536",
           "#FF9536",
           "#BEDF7C",
           "#BEDF7C",
           "#94CCFC",
           "#BEDF7C",
           "#FF9536",
           "#FF9536",
           "#FF9536",
           "#94CCFC",
           "#94CCFC",
           "#BEDF7C",
           "#FF9536",
           "#94CCFC",
           "#94CCFC",
           "#94CCFC",
           "#94CCFC",
           "#FF9536",
           "#FF9481",
           "#FF9481",
           "#FF9481",
           "#94CCFC",
           "#94CCFC",
           "#FF9481",
           "#FF9481",
           "#FF9481",
           "#94CCFC",
           "#FF9536",
           "#FF9536",
           "#FF9536",
           "#BEDF7C",
           "#FF9536",
           "#FF9536",
           "#94CCFC",
           "#FF9536",
           "#FF9536",
           "#94CCFC",
           "#94CCFC",
           "#BEDF7C",
           "#BEDF7C",
           "#BEDF7C",
           "#FF9481",
           "#FF9536",
           "#FF9536",
           "#FF9536",
           "#FF9536",
           "#FF9536",
           "#BEDF7C",
           "#FF9536",
           "#94CCFC",
           "#FF9536",
           "#BEDF7C",
           "#94CCFC",
           "#94CCFC",
           "#BEDF7C",
           "#BEDF7C",
           "#FF9536",
           "#FF9481",
           "#BEDF7C",
           "#94CCFC",
           "#FF9536",
           "#FF9481",
           "#FF9536",
           "#BEDF7C",
           "#FF9481",
           "#FF9481",
           "#FF9536",
           "#BEDF7C",
           "#BEDF7C",
           "#94CCFC",
           "#94CCFC",
           "#94CCFC",
           "#94CCFC",
           "#BEDF7C",
           "#BEDF7C",
           "#FF9481",
           "#FF9481",
           "#FF9481",
           "#94CCFC",
           "#FF9536",
           "#94CCFC",
           "#BEDF7C",
           "#FF9536",
           "#FF9536",
           "#94CCFC",
           "#FF9536",
           "#94CCFC",
           "#94CCFC",
           "#FF9536",
           "#FF9481",
           "#BEDF7C",
           "#FF9536",
           "#FF9536",
           "#BEDF7C",
           "#94CCFC",
           "#BEDF7C",
           "#94CCFC",
           "#FF9536",
           "#94CCFC",
           "#94CCFC",
           "#94CCFC",
           "#94CCFC",
           "#94CCFC",
           "#FF9481",
           "#FF9536",
           "#FF9536",
           "#BEDF7C",
           "#FF9481",
           "#BEDF7C",
           "#FF9481",
           "#FF9481",
           "#94CCFC",
           "#FF9481",
           "#FF9536",
           "#FF9536",
           "#FF9536",
           "#94CCFC",
           "#FF9481",
           "#94CCFC",
           "#FF9481",
           "#FF9536",
           "#94CCFC",
           "#94CCFC",
           "#FF9536",
           "#94CCFC",
           "#BEDF7C",
           "#FF9481",
           "#FF9481",
           "#BEDF7C",
           "#FF9536",
           "#FF9481",
           "#BEDF7C",
           "#FF9481",
           "#FF9536",
           "#FF9536",
           "#FF9536",
           "#FF9536",
           "#BEDF7C",
           "#FF9536",
           "#BEDF7C",
           "#BEDF7C",
           "#BEDF7C",
           "#94CCFC",
           "#FF9481",
           "#FF9481",
           "#94CCFC",
           "#94CCFC",
           "#94CCFC",
           "#94CCFC",
           "#94CCFC",
           "#94CCFC",
           "#94CCFC",
           "#94CCFC",
           "#94CCFC",
           "#FF9481",
           "#94CCFC",
           "#BEDF7C",
           "#BEDF7C",
           "#FF9536",
           "#94CCFC",
           "#BEDF7C",
           "#BEDF7C",
           "#94CCFC",
           "#FF9481",
           "#94CCFC",
           "#94CCFC",
           "#FF9481",
           "#94CCFC",
           "#94CCFC",
           "#FF9536",
           "#94CCFC",
           "#94CCFC",
           "#94CCFC",
           "#94CCFC",
           "#FF9481",
           "#FF9536",
           "#FF9536",
           "#94CCFC",
           "#94CCFC",
           "#94CCFC",
           "#BEDF7C",
           "#94CCFC",
           "#BEDF7C",
           "#BEDF7C",
           "#94CCFC",
           "#94CCFC",
           "#FF9536",
           "#94CCFC",
           "#BEDF7C",
           "#94CCFC",
           "#FF9536",
           "#FF9536",
           "#BEDF7C",
           "#94CCFC",
           "#94CCFC",
           "#FF9481",
           "#BEDF7C",
           "#FF9536",
           "#FF9536",
           "#FF9536",
           "#FF9536",
           "#BEDF7C",
           "#FF9481",
           "#94CCFC",
           "#94CCFC",
           "#FF9536",
           "#94CCFC",
           "#94CCFC",
           "#BEDF7C",
           "#FF9536",
           "#FF9536",
           "#FF9536",
           "#94CCFC",
           "#94CCFC",
           "#94CCFC",
           "#BEDF7C",
           "#94CCFC",
           "#FF9536",
           "#94CCFC",
           "#94CCFC",
           "#94CCFC",
           "#FF9536",
           "#BEDF7C",
           "#FF9536",
           "#BEDF7C",
           "#94CCFC",
           "#FF9481",
           "#94CCFC",
           "#94CCFC",
           "#FF9536",
           "#BEDF7C",
           "#94CCFC",
           "#94CCFC",
           "#BEDF7C",
           "#FF9536",
           "#94CCFC",
           "#94CCFC",
           "#BEDF7C",
           "#FF9536",
           "#FF9481",
           "#94CCFC",
           "#FF9481",
           "#FF9536",
           "#FF9536",
           "#FF9536",
           "#FF9536",
           "#FF9536",
           "#FF9536",
           "#BEDF7C",
           "#BEDF7C",
           "#BEDF7C",
           "#FF9536",
           "#FF9536",
           "#BEDF7C",
           "#94CCFC",
           "#94CCFC",
           "#94CCFC",
           "#BEDF7C",
           "#FF9536",
           "#94CCFC",
           "#FF9536",
           "#94CCFC",
           "#FF9536",
           "#FF9481",
           "#FF9481",
           "#94CCFC",
           "#FF9536",
           "#BEDF7C",
           "#94CCFC",
           "#94CCFC",
           "#FF9536",
           "#94CCFC",
           "#BEDF7C",
           "#FF9481",
           "#FF9536",
           "#FF9536",
           "#FF9481",
           "#94CCFC",
           "#94CCFC",
           "#94CCFC",
           "#BEDF7C",
           "#BEDF7C",
           "#94CCFC",
           "#BEDF7C",
           "#FF9536",
           "#94CCFC",
           "#94CCFC",
           "#FF9536",
           "#FF9481",
           "#FF9536",
           "#94CCFC",
           "#FF9536",
           "#FF9481",
           "#94CCFC",
           "#FF9536",
           "#FF9536",
           "#94CCFC",
           "#FF9536",
           "#FF9481",
           "#FF9536",
           "#FF9481",
           "#94CCFC",
           "#94CCFC",
           "#94CCFC",
           "#94CCFC",
           "#94CCFC",
           "#FF9481",
           "#94CCFC",
           "#BEDF7C",
           "#94CCFC",
           "#FF9481",
           "#94CCFC",
           "#94CCFC",
           "#94CCFC",
           "#94CCFC",
           "#94CCFC",
           "#FF9481",
           "#94CCFC",
           "#94CCFC",
           "#94CCFC",
           "#BEDF7C",
           "#FF9536",
           "#FF9481",
           "#FF9536",
           "#BEDF7C",
           "#FF9481",
           "#94CCFC",
           "#94CCFC",
           "#FF9536",
           "#FF9481",
           "#FF9481",
           "#BEDF7C",
           "#BEDF7C",
           "#94CCFC",
           "#94CCFC",
           "#94CCFC",
           "#FF9536",
           "#BEDF7C",
           "#94CCFC",
           "#FF9481",
           "#94CCFC",
           "#FF9536",
           "#94CCFC",
           "#FF9536",
           "#94CCFC",
           "#BEDF7C",
           "#BEDF7C",
           "#94CCFC",
           "#FF9536",
           "#94CCFC",
           "#94CCFC",
           "#BEDF7C",
           "#94CCFC",
           "#FF9481",
           "#94CCFC",
           "#94CCFC",
           "#BEDF7C",
           "#FF9536",
           "#FF9536",
           "#94CCFC",
           "#FF9536",
           "#FF9481",
           "#BEDF7C",
           "#BEDF7C",
           "#FF9481",
           "#BEDF7C",
           "#94CCFC",
           "#94CCFC",
           "#BEDF7C",
           "#FF9481",
           "#FF9536",
           "#94CCFC",
           "#94CCFC",
           "#FF9481",
           "#BEDF7C",
           "#94CCFC",
           "#FF9481",
           "#94CCFC",
           "#94CCFC",
           "#FF9536",
           "#BEDF7C",
           "#FF9481",
           "#FF9536",
           "#94CCFC",
           "#FF9536",
           "#FF9481",
           "#BEDF7C",
           "#BEDF7C",
           "#94CCFC",
           "#94CCFC",
           "#FF9481",
           "#FF9481",
           "#FF9536",
           "#FF9481",
           "#BEDF7C",
           "#FF9536",
           "#FF9481",
           "#94CCFC",
           "#FF9536",
           "#FF9481",
           "#FF9536"
          ]
         },
         "name": "",
         "parents": [
          "",
          "Metazoa/Rotifera/Eurotatoria",
          "unknown/unknown/Filasterea",
          "Fungi/Ascomycota/Leotiomycetes",
          "Metazoa/Chordata/Mammalia",
          "Metazoa/Cnidaria/Myxozoa",
          "Metazoa/Chordata/Actinopteri",
          "unknown/unknown/Pelagophyceae",
          "Metazoa/Annelida/Clitellata",
          "Metazoa/Bryozoa/Phylactolaemata",
          "unknown/Discosea/unknown",
          "Metazoa/Mollusca/Gastropoda",
          "Viridiplantae/Streptophyta/Magnoliopsida",
          "unknown/Chlorophyta/unknown",
          "Metazoa/Hemichordata/Enteropneusta",
          "Metazoa/Porifera/Calcarea",
          "unknown/Haptophyta/unknown",
          "Viridiplantae/Streptophyta/Leiosporocerotopsida",
          "Viridiplantae/Streptophyta/Magnoliopsida",
          "unknown/Placozoa/unknown",
          "unknown/Preaxostyla/unknown",
          "Metazoa/Chordata/Mammalia",
          "Metazoa/Chordata/Actinopteri",
          "Viridiplantae/Streptophyta/Jungermanniopsida",
          "Viridiplantae/Streptophyta",
          "Fungi/Basidiomycota/Agaricomycetes",
          "Metazoa/Chordata",
          "Metazoa/Arthropoda",
          "Metazoa/Echinodermata",
          "Metazoa/Arthropoda/Malacostraca",
          "unknown/Haptophyta/unknown",
          "Fungi/Basidiomycota/Malasseziomycetes",
          "Fungi/Ascomycota/Dothideomycetes",
          "Fungi/Ascomycota/Dothideomycetes",
          "Metazoa/Chordata/Myxini",
          "Fungi/Ascomycota/Dothideomycetes",
          "Metazoa/Mollusca/Bivalvia",
          "Fungi/Ascomycota/Dothideomycetes",
          "Metazoa/Chordata/Aves",
          "Metazoa/Cnidaria/Myxozoa",
          "Viridiplantae/Streptophyta/Magnoliopsida",
          "Metazoa/Cnidaria/Anthozoa",
          "Fungi/Mucoromycota/Mortierellomycetes",
          "Viridiplantae/Streptophyta/Zygnemophyceae",
          "Fungi/Chytridiomycota/Monoblepharidomycetes",
          "Fungi/Basidiomycota/Mixiomycetes",
          "Viridiplantae/Streptophyta/Magnoliopsida",
          "unknown/Foraminifera/unknown",
          "Fungi/Ascomycota/Sordariomycetes",
          "Viridiplantae/Streptophyta/Jungermanniopsida",
          "Viridiplantae/Streptophyta/Mesostigmatophyceae",
          "Metazoa/Arthropoda/Arachnida",
          "Metazoa/Nematoda/Enoplea",
          "unknown/Bacillariophyta/Coscinodiscophyceae",
          "Viridiplantae/Chlorophyta/Chlorophyceae",
          "Metazoa/Arthropoda/Insecta",
          "unknown/Evosea/unknown",
          "unknown/Bacillariophyta/Coscinodiscophyceae",
          "Viridiplantae/Streptophyta/Polypodiopsida",
          "Metazoa/Arthropoda/Insecta",
          "Metazoa/Arthropoda/Insecta",
          "Fungi/Ascomycota/Dothideomycetes",
          "Viridiplantae/Chlorophyta/Ulvophyceae",
          "unknown/unknown/Ichthyosporea",
          "unknown/Bacillariophyta",
          "unknown/Euglenozoa",
          "unknown/Rhodophyta/Florideophyceae",
          "unknown/Rhodophyta/Rhodellophyceae",
          "unknown/unknown",
          "Metazoa/Tardigrada",
          "unknown/Rhodophyta/Florideophyceae",
          "Fungi/Basidiomycota/Exobasidiomycetes",
          "Fungi/Ascomycota/Geoglossomycetes",
          "Metazoa/Mollusca",
          "Viridiplantae/Streptophyta",
          "Fungi/Basidiomycota/Agaricomycetes",
          "unknown/unknown",
          "Metazoa/Chordata/Aves",
          "Fungi/Zoopagomycota",
          "Metazoa/Bryozoa",
          "Viridiplantae/Streptophyta/Bryopsida",
          "unknown/unknown/Phaeophyceae",
          "unknown/Bacillariophyta/Fragilariophyceae",
          "Fungi/Basidiomycota/Tremellomycetes",
          "Metazoa/Cnidaria",
          "unknown/Cercozoa",
          "Metazoa/Chordata/Aves",
          "Fungi/Ascomycota/Eurotiomycetes",
          "unknown/Bacillariophyta/Mediophyceae",
          "unknown/Ciliophora/Spirotrichea",
          "Metazoa/Arthropoda",
          "Fungi/Zoopagomycota",
          "Fungi/Ascomycota",
          "Metazoa/Chordata/Actinopteri",
          "Metazoa/Hemichordata",
          "Metazoa/Nematoda",
          "Fungi/Ascomycota/Sordariomycetes",
          "Fungi/Zoopagomycota",
          "Viridiplantae/Streptophyta/Bryopsida",
          "Metazoa/Arthropoda/Insecta",
          "Viridiplantae/Streptophyta/Polypodiopsida",
          "unknown/unknown",
          "Metazoa/Porifera/Homoscleromorpha",
          "Metazoa/Platyhelminthes",
          "unknown/Rhodophyta/Florideophyceae",
          "Metazoa/Chordata/Chondrichthyes",
          "Metazoa/Arthropoda/Insecta",
          "unknown/Bacillariophyta/Mediophyceae",
          "Metazoa/Chordata",
          "Metazoa/Annelida",
          "Viridiplantae/Streptophyta",
          "Metazoa/Arthropoda/Hexanauplia",
          "Metazoa/Porifera/Demospongiae",
          "unknown/Rhodophyta/Florideophyceae",
          "unknown/unknown",
          "Metazoa/Cnidaria",
          "Viridiplantae/Streptophyta/Magnoliopsida",
          "Metazoa/Arthropoda/Insecta",
          "Metazoa/Chordata/Aves",
          "unknown/unknown",
          "unknown/Rhodophyta/Florideophyceae",
          "unknown/unknown/Dinophyceae",
          "Fungi/Zoopagomycota",
          "unknown/unknown",
          "Metazoa/Arthropoda",
          "Metazoa/Arthropoda/Diplopoda",
          "unknown/Nebulidia/Nebulidea",
          "Metazoa/Chordata",
          "Metazoa/Arthropoda/Remipedia",
          "unknown/Euglenozoa/Kinetoplastea",
          "Fungi/Ascomycota/Sordariomycetes",
          "Metazoa/Chordata/Actinopteri",
          "Viridiplantae/Streptophyta/Sphagnopsida",
          "Viridiplantae/Streptophyta/Jungermanniopsida",
          "Metazoa/Arthropoda/Diplopoda",
          "Fungi/Chytridiomycota/Chytridiomycetes",
          "Viridiplantae/Streptophyta/Polytrichopsida",
          "unknown/Ciliophora/Spirotrichea",
          "Fungi/Basidiomycota/Agaricomycetes",
          "Viridiplantae/Streptophyta/Polypodiopsida",
          "Metazoa/Arthropoda/Diplopoda",
          "unknown/Rhodophyta/Florideophyceae",
          "Metazoa/Cnidaria/Staurozoa",
          "Metazoa/Mollusca/Bivalvia",
          "Metazoa/Arthropoda/Ostracoda",
          "Metazoa/Chordata/Ascidiacea",
          "Metazoa/Rotifera/Eurotatoria",
          "unknown/Ciliophora/Litostomatea",
          "Metazoa/Chordata/Actinopteri",
          "Fungi/Ascomycota/Dothideomycetes",
          "Metazoa/Chordata/Aves",
          "Metazoa/Nematoda/Chromadorea",
          "unknown/Rhodophyta/Stylonematophyceae",
          "Metazoa/Chordata/Aves",
          "unknown/unknown/Pinguiophyceae",
          "Metazoa/Arthropoda/Collembola",
          "Metazoa/Chordata/Mammalia",
          "Metazoa/Chordata/Actinopteri",
          "unknown/Bacillariophyta/Coscinodiscophyceae",
          "Metazoa/Chordata/Aves",
          "Metazoa/Chordata/Mammalia",
          "Metazoa/Cnidaria/Scyphozoa",
          "unknown/Foraminifera/unknown",
          "Metazoa/Cnidaria/Scyphozoa",
          "unknown/Bacillariophyta/Coscinodiscophyceae",
          "Fungi/Chytridiomycota/Chytridiomycetes",
          "Metazoa/Chordata/Actinopteri",
          "Viridiplantae/Streptophyta/Polypodiopsida",
          "Viridiplantae/Streptophyta/Magnoliopsida",
          "unknown/Euglenozoa/Euglenida",
          "Metazoa/Platyhelminthes/Rhabditophora",
          "Metazoa/Nematoda/Chromadorea",
          "Metazoa/Arthropoda/Insecta",
          "unknown/unknown/Pelagophyceae",
          "Viridiplantae/Streptophyta/Magnoliopsida",
          "Metazoa/Chordata/Aves",
          "unknown/Oomycota/unknown",
          "Metazoa/Cnidaria/Anthozoa",
          "Metazoa/Chordata/Actinopteri",
          "Metazoa/Mollusca/Gastropoda",
          "Metazoa/Arthropoda/Arachnida",
          "Viridiplantae/Streptophyta/Bryopsida",
          "Viridiplantae/Chlorophyta/Pedinophyceae",
          "Metazoa/Chordata/Aves",
          "Fungi/Basidiomycota/Agaricomycetes",
          "Metazoa/Arthropoda/Arachnida",
          "Viridiplantae/Streptophyta/Bryopsida",
          "unknown/Rhodophyta/Florideophyceae",
          "unknown/Apicomplexa/Conoidasida",
          "Viridiplantae/Streptophyta/Lycopodiopsida",
          "Viridiplantae/Streptophyta/Polypodiopsida",
          "Fungi/Chytridiomycota/Chytridiomycetes",
          "Metazoa/Annelida/Polychaeta",
          "unknown/unknown/Dinophyceae",
          "Viridiplantae/Chlorophyta/Trebouxiophyceae",
          "Metazoa/Chordata/Actinopteri",
          "Metazoa/Chordata/Actinopteri",
          "Viridiplantae/Streptophyta/Bryopsida",
          "unknown/unknown/Xanthophyceae",
          "Fungi/Ascomycota/Orbiliomycetes",
          "Metazoa/Platyhelminthes/Trematoda",
          "Metazoa/Platyhelminthes/Rhabditophora",
          "Viridiplantae/Streptophyta/Polypodiopsida",
          "unknown/Parabasalia/unknown",
          "unknown/unknown/Bigyra",
          "Metazoa/Chordata/Aves",
          "Viridiplantae/Streptophyta/Magnoliopsida",
          "Viridiplantae/Streptophyta/Magnoliopsida",
          "Metazoa/Arthropoda/Arachnida",
          "Metazoa/Chordata/Mammalia",
          "Viridiplantae/Chlorophyta/Ulvophyceae",
          "Metazoa/Mollusca/Gastropoda",
          "Viridiplantae/Streptophyta/Anthocerotopsida",
          "Metazoa/Arthropoda/Branchiopoda",
          "Metazoa/Chordata/Actinopteri",
          "unknown/unknown/Dinophyceae",
          "Metazoa/Arthropoda/Insecta",
          "Fungi/Ascomycota/Lecanoromycetes",
          "unknown/Apicomplexa/Aconoidasida",
          "Metazoa/Mollusca/Bivalvia",
          "Fungi/Basidiomycota/Ustilaginomycetes",
          "Fungi/Chytridiomycota/Neocallimastigomycetes",
          "Fungi/Ascomycota/Dothideomycetes",
          "Fungi/Ascomycota/Sordariomycetes",
          "Viridiplantae/Streptophyta/Jungermanniopsida",
          "unknown/Rhodophyta/Florideophyceae",
          "Metazoa/Chordata/Mammalia",
          "Metazoa/Chordata/Ascidiacea",
          "Metazoa/Rotifera/Eurotatoria",
          "unknown/Ciliophora/Oligohymenophorea",
          "Metazoa/Chordata/Actinopteri",
          "Fungi/Ascomycota/Dothideomycetes",
          "Viridiplantae/Streptophyta/Takakiopsida",
          "unknown/Haptophyta/unknown",
          "unknown/Rhodophyta/Florideophyceae",
          "Metazoa/Chordata/Hyperoartia",
          "Fungi/Ascomycota/Lecanoromycetes",
          "unknown/Oomycota/unknown",
          "Metazoa/Chordata/Mammalia",
          "unknown/unknown/Dinophyceae",
          "Metazoa/Echinodermata/Echinoidea",
          "unknown/Evosea/unknown",
          "Viridiplantae/Streptophyta/Jungermanniopsida",
          "Metazoa/Arthropoda/Pauropoda",
          "unknown/unknown/Pelagophyceae",
          "unknown/Bacillariophyta/Bacillariophyceae",
          "Fungi/Basidiomycota/Agaricomycetes",
          "unknown/unknown/Dinophyceae",
          "unknown/Rhodophyta/Florideophyceae",
          "Metazoa/Arthropoda/Insecta",
          "Metazoa/Chordata/Aves",
          "unknown/unknown/Bolidophyceae",
          "Fungi/Mucoromycota/Glomeromycetes",
          "Viridiplantae/Streptophyta/Bryopsida",
          "unknown/Ciliophora/Spirotrichea",
          "Metazoa/Mollusca/Bivalvia",
          "unknown/Euglenozoa/Euglenida",
          "Metazoa/Annelida/Clitellata",
          "unknown/Euglenozoa/Kinetoplastea",
          "Metazoa/Chordata/Actinopteri",
          "Fungi/Ascomycota/Eurotiomycetes",
          "Viridiplantae/Chlorophyta/Chlorophyceae",
          "Viridiplantae/Chlorophyta/Chlorophyceae",
          "Metazoa/Chordata/unknown",
          "unknown/Rhodophyta/Florideophyceae",
          "Viridiplantae/Chlorophyta",
          "Metazoa/Chordata/Actinopteri",
          "Viridiplantae/Streptophyta/Magnoliopsida",
          "Metazoa/Ctenophora",
          "Metazoa/Chordata/Amphibia",
          "Metazoa/Chordata/Aves",
          "Metazoa/Cnidaria/Cubozoa",
          "unknown/Discosea",
          "Metazoa/Mollusca/Bivalvia",
          "Metazoa/Chordata/Chondrichthyes",
          "unknown/Euglenozoa",
          "Fungi/Basidiomycota/Agaricomycetes",
          "Viridiplantae/Streptophyta/Magnoliopsida",
          "unknown/Haptophyta",
          "Metazoa/Arthropoda/Hexanauplia",
          "Viridiplantae/Streptophyta/Bryopsida",
          "Metazoa/Chordata/Aves",
          "Viridiplantae/Streptophyta/Bryopsida",
          "Viridiplantae/Streptophyta/Magnoliopsida",
          "unknown/Parabasalia",
          "Fungi/Ascomycota/Dothideomycetes",
          "Metazoa/Chordata/Aves",
          "Metazoa/Platyhelminthes/Cestoda",
          "unknown/unknown/Raphidophyceae",
          "Metazoa/Chordata/Mammalia",
          "Metazoa/Chordata/Appendicularia",
          "unknown/Ciliophora",
          "unknown/Rhodophyta/Compsopogonophyceae",
          "Metazoa/Echinodermata/Crinoidea",
          "Metazoa/Chordata/Aves",
          "unknown/Rhodophyta",
          "Metazoa/Arthropoda",
          "unknown/unknown",
          "Metazoa/Ctenophora",
          "unknown/Haptophyta/unknown",
          "unknown/Haptophyta/unknown",
          "Metazoa/Porifera/Calcarea",
          "Viridiplantae/Chlorophyta",
          "Metazoa/Chordata/Mammalia",
          "Viridiplantae/Chlorophyta",
          "Metazoa/Chordata/Actinopteri",
          "Fungi/Chytridiomycota/Chytridiomycetes",
          "unknown/unknown/Chrysophyceae",
          "unknown/Ciliophora/Spirotrichea",
          "Fungi/Mucoromycota",
          "Metazoa/Placozoa",
          "Viridiplantae/Chlorophyta/Chloropicophyceae",
          "Viridiplantae/Chlorophyta/Ulvophyceae",
          "Viridiplantae/Chlorophyta/Trebouxiophyceae",
          "Viridiplantae/Streptophyta/Magnoliopsida",
          "unknown/Apicomplexa/Conoidasida",
          "Fungi/Basidiomycota",
          "Metazoa/Bryozoa/Gymnolaemata",
          "Viridiplantae/Streptophyta",
          "Viridiplantae/Streptophyta/Magnoliopsida",
          "Metazoa/Chordata/Actinopteri",
          "Metazoa/Chordata/Aves",
          "Metazoa",
          "Viridiplantae/Streptophyta/Anthocerotopsida",
          "Metazoa/Cnidaria/Hydrozoa",
          "Metazoa/Chordata/Aves",
          "unknown",
          "Metazoa",
          "Metazoa/Arthropoda/Malacostraca",
          "Metazoa/Chordata/Leptocardii",
          "Metazoa/Echinodermata/Ophiuroidea",
          "unknown/unknown/Dinophyceae",
          "Viridiplantae/Streptophyta/Magnoliopsida",
          "Metazoa",
          "unknown/Oomycota/unknown",
          "unknown/Rhodophyta/Florideophyceae",
          "Fungi/Basidiomycota/Agaricomycetes",
          "Metazoa/Rotifera/Eurotatoria",
          "Metazoa/Mollusca/Bivalvia",
          "unknown/Evosea/Eumycetozoa",
          "Metazoa",
          "Fungi/Ascomycota/Dothideomycetes",
          "Metazoa",
          "Fungi",
          "Metazoa/Chordata/Actinopteri",
          "Metazoa/Chordata/Aves",
          "Metazoa/Chordata/Actinopteri",
          "unknown/unknown/Choanoflagellata",
          "unknown",
          "unknown/Perkinsozoa",
          "unknown/unknown/unknown",
          "Metazoa",
          "Metazoa/Arthropoda/Insecta",
          "Fungi/Blastocladiomycota/Blastocladiomycetes",
          "Viridiplantae/Streptophyta/Marchantiopsida",
          "Metazoa/Cnidaria/Myxozoa",
          "Metazoa/Ctenophora/Nuda",
          "unknown/undef",
          "Metazoa/Chordata/Actinopteri",
          "unknown/Rhodophyta/Florideophyceae",
          "Fungi/unknown",
          "Fungi/Zoopagomycota/Basidiobolomycetes",
          "Viridiplantae/Streptophyta/Bryopsida",
          "Fungi/Basidiomycota/Bartheletiomycetes",
          "unknown/unknown",
          "Metazoa",
          "Viridiplantae/Streptophyta/Magnoliopsida",
          "Fungi",
          "Fungi/Basidiomycota/Agaricomycetes",
          "Metazoa",
          "unknown",
          "Viridiplantae/Streptophyta/Magnoliopsida",
          "Metazoa/Chordata/Mammalia",
          "Viridiplantae/Streptophyta/Magnoliopsida",
          "Metazoa",
          "unknown",
          "unknown/Apicomplexa/Conoidasida",
          "unknown/Tubulinea/Elardia",
          "Metazoa",
          "Viridiplantae/Streptophyta/Magnoliopsida",
          "unknown/Rhodophyta/Florideophyceae",
          "Viridiplantae/Chlorophyta/Chlorophyceae",
          "Metazoa/Ctenophora/Tentaculata",
          "unknown/Ciliophora/Colpodea",
          "Viridiplantae/Chlorophyta/Mamiellophyceae",
          "Viridiplantae/Streptophyta",
          "Metazoa/Acanthocephala/Palaeacanthocephala",
          "unknown/unknown/Phaeophyceae",
          "Metazoa/Chordata/Actinopteri",
          "Metazoa/Arthropoda/Insecta",
          "Fungi/Ascomycota",
          "Metazoa/Arthropoda",
          "Metazoa/Arthropoda/Hexanauplia",
          "Metazoa/Platyhelminthes/Cestoda",
          "unknown/Bacillariophyta/Fragilariophyceae",
          "Viridiplantae/Streptophyta/Bryopsida",
          "Metazoa/Annelida/Clitellata",
          "Fungi/Mucoromycota/Endogonomycetes",
          "Metazoa/Mollusca/Gastropoda",
          "Viridiplantae/Streptophyta/Cycadopsida",
          "Fungi/Basidiomycota/Cystobasidiomycetes",
          "Fungi/Zoopagomycota/Entomophthoromycetes",
          "Fungi/Ascomycota",
          "unknown/unknown",
          "Viridiplantae/Streptophyta/Magnoliopsida",
          "Fungi/Zoopagomycota/Dimargaritomycetes",
          "unknown/unknown/Dinophyceae",
          "Metazoa/Acanthocephala",
          "Metazoa/Nematoda/Enoplea",
          "Metazoa/Nematoda/Chromadorea",
          "Viridiplantae/Chlorophyta",
          "unknown/unknown/Phaeophyceae",
          "Fungi/Ascomycota",
          "Metazoa/Arthropoda/Insecta",
          "Viridiplantae/Streptophyta/Magnoliopsida",
          "Metazoa/Platyhelminthes/Cestoda",
          "Metazoa/Nemertea",
          "unknown/Euglenozoa/unknown",
          "Metazoa/Chordata",
          "Metazoa/Chordata/Mammalia",
          "Metazoa/Chordata/Mammalia",
          "Fungi/Mucoromycota/Glomeromycetes",
          "unknown/unknown/Cryptophyceae",
          "Viridiplantae/Chlorophyta",
          "Metazoa/Platyhelminthes",
          "unknown/unknown",
          "Viridiplantae/Streptophyta/Polypodiopsida",
          "Viridiplantae/Streptophyta/Magnoliopsida",
          "Viridiplantae/Streptophyta",
          "Viridiplantae/Streptophyta/Magnoliopsida",
          "Metazoa/Arthropoda/Insecta",
          "Metazoa/Arthropoda",
          "Viridiplantae/Chlorophyta",
          "Metazoa/Chordata/Aves",
          "unknown/unknown/Choanoflagellata",
          "Fungi/Basidiomycota",
          "Viridiplantae/Streptophyta/Magnoliopsida",
          "Fungi/Ascomycota/Dothideomycetes",
          "unknown/Rhodophyta/Bangiophyceae",
          "Viridiplantae/Streptophyta/Polypodiopsida",
          "Fungi/Basidiomycota/Agaricomycetes",
          "unknown/Rhodophyta",
          "Metazoa/Chordata",
          "unknown",
          "Metazoa/Arthropoda/Malacostraca",
          "unknown",
          "Metazoa/Chordata/Aves",
          "Fungi/Ascomycota",
          "Fungi/Mucoromycota",
          "Fungi",
          "unknown",
          "Metazoa/Cnidaria",
          "",
          "unknown/unknown/Synurophyceae",
          "Fungi/Chytridiomycota",
          "Fungi/Basidiomycota/Agaricomycetes",
          "Metazoa",
          "Fungi",
          "unknown",
          "Metazoa/Chordata/Thaliacea",
          "Metazoa/Platyhelminthes/Trematoda",
          "Fungi/Ascomycota/Saccharomycetes",
          "Viridiplantae/Streptophyta",
          "Metazoa",
          "Viridiplantae/Streptophyta",
          "Metazoa/Brachiopoda",
          "unknown/Ciliophora",
          "Metazoa",
          "Fungi/Zoopagomycota",
          "Metazoa/Arthropoda/Malacostraca",
          "Metazoa/Arthropoda/Insecta",
          "unknown",
          "unknown/Apicomplexa",
          "unknown",
          "Metazoa/Chordata/Actinopteri",
          "unknown",
          "Viridiplantae/Streptophyta/Magnoliopsida",
          "Metazoa",
          "Metazoa",
          "Metazoa/Arthropoda",
          "unknown",
          "Metazoa/Echinodermata",
          "Metazoa/Porifera",
          "Metazoa",
          "Viridiplantae/Streptophyta/Marchantiopsida",
          "Metazoa/Arthropoda",
          "Metazoa/Annelida/Polychaeta",
          "Fungi/Mucoromycota",
          "Fungi/Basidiomycota",
          "unknown/Oomycota/unknown",
          "unknown/Ciliophora",
          "Fungi",
          "unknown",
          "unknown/unknown",
          "Fungi/Mucoromycota",
          "Fungi/Basidiomycota",
          "unknown/Rhodophyta",
          "Metazoa/Arthropoda",
          "Metazoa/Chordata/Mammalia",
          "Metazoa",
          "unknown",
          "Metazoa",
          "unknown",
          "Metazoa/Cnidaria",
          "unknown/unknown/Bigyra",
          "Metazoa/Arthropoda",
          "Metazoa/Arthropoda",
          "Metazoa/Xenacoelomorpha/unknown",
          "unknown/undef/unknown",
          "Fungi/Zoopagomycota/Zoopagomycetes",
          "Fungi/Basidiomycota",
          "unknown/Evosea",
          "Fungi/unknown/unknown",
          "unknown/unknown/unknown",
          "Viridiplantae/Streptophyta/Magnoliopsida",
          "Metazoa/Chordata",
          "Metazoa/Arthropoda/Merostomata",
          "Viridiplantae/Streptophyta/Gnetopsida",
          "Viridiplantae/Streptophyta/Magnoliopsida",
          "unknown/unknown",
          "Fungi/Ascomycota",
          "Metazoa/Cnidaria",
          "Fungi/Zoopagomycota",
          "unknown/unknown/Xanthophyceae",
          "Fungi/Ascomycota/Xylonomycetes",
          "Metazoa/Chordata/Actinopteri",
          "unknown/Endomyxa/Ascetosporea",
          "unknown/unknown/Bolidophyceae",
          "Fungi/Ascomycota",
          "Fungi/Ascomycota/Sordariomycetes",
          "Viridiplantae/Streptophyta/Mesostigmatophyceae",
          "Metazoa/Arthropoda/Symphyla",
          "Fungi/Ascomycota/unknown",
          "unknown/Ascomycota/unknown",
          "Viridiplantae/Chlorophyta/unknown",
          "Metazoa/Echinodermata/Echinoidea",
          "unknown/unknown",
          "unknown/Chordata/unknown",
          "Metazoa/Arthropoda",
          "Metazoa/Ctenophora/unknown",
          "Metazoa/Chordata",
          "Fungi/Chytridiomycota/Chytridiomycetes",
          "Metazoa/Arthropoda",
          "Metazoa/Dicyemida/unknown",
          "Metazoa/Platyhelminthes",
          "Fungi/Microsporidia/unknown",
          "Metazoa/Phoronida/unknown",
          "Viridiplantae/Streptophyta",
          "Metazoa/Ctenophora",
          "unknown/Apicomplexa",
          "Metazoa/Priapulida",
          "Viridiplantae/Chlorophyta",
          "Fungi/Chytridiomycota",
          "unknown/Heterolobosea",
          "Metazoa/Chordata/Aves",
          "unknown/Oomycota",
          "Fungi/Basidiomycota/Exobasidiomycetes",
          "Viridiplantae/Chlorophyta",
          "unknown/unknown",
          "Metazoa/Chordata/Chondrichthyes",
          "Fungi/Ascomycota",
          "Metazoa/Phoronida",
          "Metazoa/Echinodermata",
          "Metazoa/Arthropoda",
          "Metazoa/Chordata/unknown",
          "Fungi/Basidiomycota",
          "unknown/Preaxostyla",
          "Metazoa/Porifera",
          "Fungi/Ascomycota/Taphrinomycetes",
          "unknown/unknown",
          "unknown/Fornicata",
          "Fungi/Basidiomycota/Tremellomycetes",
          "Viridiplantae/Chlorophyta",
          "Viridiplantae/Prasinodermophyta",
          "Viridiplantae/Streptophyta",
          "unknown/unknown",
          "Viridiplantae/Chlorophyta/Ulvophyceae",
          "Fungi/Blastocladiomycota",
          "unknown/Chlorophyta",
          "Metazoa/Annelida/Clitellata",
          "unknown/unknown",
          "Metazoa/Dicyemida",
          "Metazoa/Mollusca",
          "Metazoa/Entoprocta",
          "Viridiplantae/Streptophyta",
          "Fungi/Basidiomycota/Tremellomycetes",
          "Metazoa/Arthropoda/Insecta",
          "Metazoa/Porifera",
          "Metazoa/Placozoa/Uniplacotomia",
          "unknown/Evosea",
          "unknown/Foraminifera",
          "Viridiplantae/Streptophyta/Haplomitriopsida",
          "Metazoa/Arthropoda",
          "Fungi/Ascomycota",
          "Metazoa/Annelida/Clitellata",
          "Fungi/Ascomycota/Leotiomycetes",
          "unknown/Apicomplexa/Conoidasida",
          "Metazoa/Arthropoda/Diplopoda",
          "Metazoa/Arthropoda/Insecta",
          "Metazoa/Chordata/Mammalia",
          "Metazoa/Mollusca/Bivalvia",
          "Metazoa/Onychophora/Udeonychophora",
          "Viridiplantae/Chlorophyta/Chlorodendrophyceae",
          "Metazoa/Mollusca/Polyplacophora",
          "Metazoa/Arthropoda/Malacostraca",
          "Metazoa/Chordata/Actinopteri",
          "Metazoa/Arthropoda/Pycnogonida",
          "unknown/Euglenozoa/Kinetoplastea",
          "unknown/Euglenozoa/Euglenida",
          "Fungi/Ascomycota/Dothideomycetes",
          "Viridiplantae/Streptophyta/Gnetopsida",
          "unknown/Haptophyta/unknown",
          "Viridiplantae/Streptophyta/Magnoliopsida",
          "unknown/unknown/Phaeophyceae",
          "Metazoa/Chordata/Actinopteri",
          "Metazoa/Chordata/Mammalia",
          "Metazoa/Chordata/Aves",
          "Metazoa/Chordata/Actinopteri",
          "Metazoa/Cnidaria/Myxozoa",
          "Fungi/Ascomycota/Pezizomycetes",
          "Metazoa/Chordata/Aves",
          "Metazoa/Chordata/Aves",
          "Metazoa/Arthropoda/Insecta",
          "Metazoa/Arthropoda/Insecta",
          "Metazoa/Echinodermata/Echinoidea",
          "Viridiplantae/Streptophyta/Pinopsida",
          "Fungi/Basidiomycota/Exobasidiomycetes",
          "Viridiplantae/Streptophyta/Magnoliopsida",
          "Viridiplantae/Streptophyta/Coleochaetophyceae",
          "Viridiplantae/Chlorophyta/Chlorophyceae",
          "unknown/unknown/Dictyochophyceae",
          "Viridiplantae/Streptophyta/Marchantiopsida",
          "Viridiplantae/Streptophyta/Zygnemophyceae",
          "Metazoa/Echinodermata/Holothuroidea",
          "Metazoa/Chordata/Mammalia",
          "Viridiplantae/Streptophyta/Bryopsida",
          "Metazoa/Chordata/Mammalia",
          "Metazoa/Arthropoda/Branchiopoda",
          "Viridiplantae/Streptophyta/Marchantiopsida",
          "Metazoa/Chordata/Mammalia",
          "Fungi/Mucoromycota/Mucoromycetes",
          "Metazoa/Chordata/Actinopteri",
          "Viridiplantae/Streptophyta/Magnoliopsida",
          "Fungi/Basidiomycota/Cystobasidiomycetes",
          "Metazoa/Arthropoda/Insecta",
          "Viridiplantae/Streptophyta/Magnoliopsida",
          "Metazoa/Mollusca/Bivalvia",
          "unknown/Rhodophyta/Rhodellophyceae",
          "Metazoa/Chordata/unknown",
          "unknown/Bacillariophyta/Bacillariophyceae",
          "Metazoa/Annelida/Clitellata",
          "unknown/Rhodophyta/Florideophyceae",
          "Fungi/Ascomycota/Dothideomycetes",
          "Metazoa/Mollusca/Gastropoda",
          "Viridiplantae/Streptophyta/Magnoliopsida",
          "unknown/Bacillariophyta/Coscinodiscophyceae",
          "Fungi/Ascomycota/Neolectomycetes",
          "Fungi/Mucoromycota/Glomeromycetes",
          "Metazoa/Mollusca/Cephalopoda",
          "Metazoa/Arthropoda/Insecta",
          "Metazoa/Arthropoda/Insecta",
          "Metazoa/Echinodermata/Asteroidea",
          "Metazoa/Chordata/Actinopteri",
          "Metazoa/Chordata/Aves",
          "Metazoa/Arthropoda/Ichthyostraca",
          "Viridiplantae/Streptophyta/Ginkgoopsida",
          "Fungi/Ascomycota/Sordariomycetes",
          "unknown/Cercozoa/unknown",
          "Viridiplantae/Streptophyta/Pinopsida",
          "Viridiplantae/Streptophyta/Bryopsida",
          "Viridiplantae/Streptophyta/Magnoliopsida",
          "unknown/Ciliophora/Prostomatea",
          "Fungi/Basidiomycota/Agaricomycetes",
          "Metazoa/Arthropoda/Insecta",
          "unknown/unknown/Centroplasthelida",
          "Viridiplantae/Streptophyta/Andreaeopsida",
          "Metazoa/Chordata/Actinopteri",
          "Viridiplantae/Streptophyta/Bryopsida",
          "Viridiplantae/Streptophyta/Magnoliopsida",
          "unknown/unknown/Dinophyceae",
          "Metazoa/Chordata/Amphibia",
          "unknown/Apicomplexa/Marosporida",
          "Metazoa/Chordata/Actinopteri",
          "unknown/Apicomplexa/Aconoidasida",
          "unknown/Rhodophyta/Florideophyceae",
          "unknown/Rhodophyta/Florideophyceae",
          "Metazoa/Chordata/Actinopteri",
          "unknown/Rhodophyta/Rhodellophyceae",
          "unknown/Rhodophyta/Florideophyceae",
          "Viridiplantae/Chlorophyta/Palmophyllophyceae",
          "Viridiplantae/Streptophyta/Bryopsida",
          "Metazoa/Porifera/Demospongiae",
          "Viridiplantae/Streptophyta/Magnoliopsida",
          "unknown/Rhodophyta/Bangiophyceae",
          "unknown/Rhodophyta/Florideophyceae",
          "unknown/Bacillariophyta/Bacillariophyceae",
          "Metazoa/Mollusca/Gastropoda",
          "Metazoa/Arthropoda/Thecostraca",
          "",
          "unknown/Rhodophyta/Florideophyceae",
          "Metazoa/Arthropoda/Diplopoda",
          "Metazoa/Arthropoda/Thecostraca",
          "Metazoa/Echinodermata/Holothuroidea",
          "Metazoa/Arthropoda/Chilopoda",
          "unknown/Rhodophyta/Bangiophyceae",
          "Fungi/Basidiomycota/Agaricomycetes",
          "Fungi/Basidiomycota/Agaricomycetes",
          "Fungi/Ascomycota/Pneumocystomycetes",
          "Metazoa/Chordata/Actinopteri",
          "Metazoa/Chordata/Actinopteri",
          "Fungi/Chytridiomycota",
          "Fungi/Basidiomycota",
          "Fungi/Ascomycota",
          "Metazoa/Arthropoda/unknown",
          "unknown/Fornicata/unknown",
          "unknown/Nebulidia",
          "unknown/unknown/Dictyochophyceae",
          "Viridiplantae/Streptophyta/Magnoliopsida",
          "unknown/unknown/Phaeophyceae",
          "unknown/Bacillariophyta",
          "Metazoa/Chordata/Mammalia",
          "unknown/Evosea/Eumycetozoa",
          "unknown/Ciliophora",
          "Metazoa/Echinodermata",
          "Metazoa/Chordata/Aves",
          "Viridiplantae/Streptophyta/Magnoliopsida",
          "Viridiplantae/Streptophyta",
          "Viridiplantae/Streptophyta/Gnetopsida",
          "Fungi/Basidiomycota",
          "unknown/Discosea",
          "unknown/unknown/Glaucocystophyceae",
          "unknown/Evosea",
          "unknown/Bacillariophyta",
          "unknown/Euglenozoa",
          "Viridiplantae/Streptophyta",
          "unknown/unknown",
          "Metazoa/Chordata",
          "unknown/Cercozoa/Imbricatea",
          "Viridiplantae/Streptophyta/Magnoliopsida",
          "Metazoa/Chordata/Actinopteri",
          "Metazoa/Chordata",
          "Viridiplantae/Streptophyta",
          "Viridiplantae/Chlorophyta",
          "unknown/unknown/Glaucocystophyceae",
          "Fungi/Mucoromycota/Glomeromycetes",
          "Viridiplantae/Streptophyta",
          "Metazoa/Arthropoda/Collembola",
          "unknown/Bacillariophyta",
          "Fungi/Mucoromycota",
          "unknown/Tubulinea",
          "Viridiplantae/Streptophyta/Magnoliopsida",
          "Fungi/Ascomycota",
          "Fungi/Basidiomycota/Exobasidiomycetes",
          "unknown/Rhodophyta/Bangiophyceae",
          "Viridiplantae/Streptophyta/Magnoliopsida",
          "Viridiplantae/Chlorophyta",
          "Metazoa",
          "Metazoa/Arthropoda/Insecta",
          "Metazoa/Mollusca/Gastropoda",
          "Metazoa/Mollusca/Bivalvia",
          "Viridiplantae",
          "Viridiplantae/Streptophyta/Magnoliopsida",
          "Fungi/Ascomycota/Dothideomycetes",
          "Fungi",
          "Fungi",
          "Metazoa/Porifera/Demospongiae",
          "unknown/Rhodophyta/Florideophyceae",
          "Metazoa/Chordata/Actinopteri",
          "Viridiplantae/Streptophyta/Magnoliopsida",
          "unknown/unknown/Bigyra",
          "unknown/Placozoa",
          "Metazoa/Annelida/Clitellata",
          "unknown",
          "Metazoa/Arthropoda/Arachnida",
          "Metazoa/Mollusca/Gastropoda",
          "unknown",
          "",
          "Viridiplantae/Streptophyta/Magnoliopsida",
          "unknown/Rhodophyta/Florideophyceae",
          "unknown",
          "Viridiplantae",
          "Metazoa/Cnidaria/Anthozoa",
          "Viridiplantae",
          "Metazoa",
          "unknown",
          "Metazoa/Arthropoda/Arachnida",
          "Metazoa/Chordata/Actinopteri",
          "Metazoa",
          "Metazoa/Arthropoda/Branchiopoda",
          "Metazoa",
          "Fungi",
          "unknown",
          "unknown",
          "Viridiplantae/Chlorophyta/Ulvophyceae",
          "Fungi/Microsporidia",
          "Viridiplantae/Streptophyta/Magnoliopsida",
          "Fungi/Ascomycota/Dothideomycetes",
          "Fungi/Zoopagomycota/Harpellomycetes",
          "Metazoa/Cnidaria/Anthozoa",
          "Fungi/Ascomycota",
          "unknown/Bacillariophyta/Coscinodiscophyceae",
          "unknown/Ciliophora/Litostomatea",
          "unknown/Bacillariophyta/Mediophyceae",
          "Metazoa/Chordata/Actinopteri",
          "Fungi/Basidiomycota/Tremellomycetes",
          "Metazoa/Annelida",
          "Fungi/Basidiomycota/Dacrymycetes",
          "unknown/Discosea/Flabellinia",
          "Metazoa/Arthropoda/Malacostraca",
          "Metazoa/Porifera/Demospongiae",
          "unknown/Endomyxa",
          "Metazoa/Bryozoa",
          "Viridiplantae/Streptophyta/Anthocerotopsida",
          "Fungi/Ascomycota/Sordariomycetes",
          "Fungi/Ascomycota/Sordariomycetes",
          "Viridiplantae/Streptophyta/Bryopsida",
          "unknown/unknown/unknown",
          "Fungi/Ascomycota",
          "Viridiplantae/Streptophyta/Magnoliopsida",
          "Fungi/Cryptomycota",
          "unknown/Chordata",
          "unknown/Evosea/Variosea",
          "unknown/Cercozoa",
          "unknown/Ascomycota",
          "Viridiplantae/Streptophyta/Magnoliopsida",
          "unknown/Bacillariophyta/Coscinodiscophyceae",
          "Viridiplantae/Streptophyta/Charophyceae",
          "Viridiplantae/Streptophyta/Chlorokybophyceae",
          "Viridiplantae/Chlorophyta/Chlorophyceae",
          "Metazoa/Onychophora",
          "Fungi/Basidiomycota",
          "Fungi/Ascomycota/Dothideomycetes",
          "Metazoa/Chordata/Actinopteri",
          "Metazoa/Echinodermata/Echinoidea",
          "Metazoa/Chordata/unknown",
          "Metazoa/Chordata/Aves",
          "Metazoa/Chordata/Aves",
          "Metazoa/Chordata/Cladistia",
          "Metazoa/Nemertea/Pilidiophora",
          "Metazoa/Mollusca/Cephalopoda",
          "Metazoa/Chordata/Mammalia",
          "Fungi/Basidiomycota/Microbotryomycetes",
          "Metazoa/Priapulida/Priapulimorpha",
          "Viridiplantae/Chlorophyta/Mamiellophyceae",
          "Viridiplantae/Chlorophyta/Trebouxiophyceae",
          "unknown/Cercozoa/Chlorarachniophyceae",
          "Metazoa/Chordata/Chondrichthyes",
          "Viridiplantae/Prasinodermophyta/Prasinodermophyceae",
          "Viridiplantae/Chlorophyta/Chlorophyceae",
          "Metazoa/Chordata/Aves",
          "Fungi/Basidiomycota/Ustilaginomycetes",
          "Metazoa/Arthropoda/Diplopoda",
          "Metazoa/Mollusca/Cephalopoda",
          "Fungi/Ascomycota/Sordariomycetes",
          "Metazoa/Arthropoda/Insecta",
          "Metazoa/Arthropoda/Hexanauplia",
          "unknown/unknown/Chrysophyceae",
          "Metazoa/Ctenophora/Tentaculata",
          "Metazoa/Chordata/Actinopteri",
          "Metazoa/Annelida/Polychaeta",
          "Metazoa/Platyhelminthes/Rhabditophora",
          "Fungi/Ascomycota/Sordariomycetes",
          "unknown/Euglenozoa/Kinetoplastea",
          "unknown/unknown/Dinophyceae",
          "Metazoa/Mollusca/Gastropoda",
          "Metazoa/Arthropoda/Insecta",
          "Metazoa/Cnidaria/Hydrozoa",
          "Viridiplantae/Streptophyta/Magnoliopsida",
          "Metazoa/Cnidaria/Anthozoa",
          "Viridiplantae/Streptophyta/Magnoliopsida",
          "Viridiplantae/Chlorophyta/Mamiellophyceae",
          "Metazoa/Platyhelminthes/Monogenea",
          "Metazoa/Echinodermata/Asteroidea",
          "unknown/Ciliophora/Spirotrichea",
          "Metazoa/Chordata/Lepidosauria",
          "Viridiplantae/Chlorophyta/Nephroselmidophyceae",
          "Metazoa/Porifera/Demospongiae",
          "unknown/unknown/Dinophyceae",
          "unknown/unknown/Dinophyceae",
          "Viridiplantae/Streptophyta/Magnoliopsida",
          "Metazoa/Tardigrada/Eutardigrada",
          "Metazoa/Echinodermata/Asteroidea",
          "Fungi/Ascomycota/Lecanoromycetes",
          "Viridiplantae/Chlorophyta/Picocystophyceae",
          "unknown/unknown/Dictyochophyceae",
          "unknown/Bacillariophyta/Coscinodiscophyceae",
          "unknown/Evosea/Eumycetozoa",
          "unknown/Bacillariophyta/Fragilariophyceae",
          "Viridiplantae/Streptophyta/Tetraphidopsida",
          "Fungi/Ascomycota/Eurotiomycetes",
          "Metazoa/Mollusca/Bivalvia",
          "Metazoa/Mollusca/Gastropoda",
          "unknown/Discosea/unknown",
          "Metazoa/Platyhelminthes/Trematoda",
          "Metazoa/Arthropoda/Collembola",
          "Viridiplantae/Streptophyta/Magnoliopsida",
          "unknown/Bacillariophyta/Fragilariophyceae",
          "unknown/unknown/Synurophyceae",
          "unknown/Euglenozoa/Kinetoplastea",
          "Metazoa/Mollusca/Cephalopoda",
          "Metazoa/Nematoda/Chromadorea",
          "Metazoa/Arthropoda/Insecta",
          "Viridiplantae/Streptophyta/Magnoliopsida",
          "Metazoa/Chordata/Actinopteri",
          "unknown/Endomyxa/Phytomyxea",
          "Metazoa/Arthropoda/Arachnida",
          "Metazoa/Chordata/Aves",
          "Metazoa/Chordata/Chondrichthyes",
          "unknown/Parabasalia/unknown",
          "Viridiplantae/Streptophyta/Bryopsida",
          "unknown/Bacillariophyta/Mediophyceae",
          "Viridiplantae/Streptophyta/Lycopodiopsida",
          "Metazoa/Arthropoda/Thecostraca",
          "Fungi/Zoopagomycota/unknown",
          "Metazoa/Arthropoda/Arachnida",
          "Metazoa/Chordata/Chondrichthyes",
          "unknown/unknown/Cryptophyceae",
          "Viridiplantae/Streptophyta/Magnoliopsida",
          "Metazoa/Chordata",
          "Metazoa/Mollusca",
          "Viridiplantae/Streptophyta/Lycopodiopsida",
          "unknown/Endomyxa",
          "Metazoa/Arthropoda/Malacostraca",
          "Metazoa/Arthropoda/Arachnida",
          "Viridiplantae/Streptophyta",
          "unknown/unknown/Synchromophyceae",
          "Fungi/Ascomycota/Schizosaccharomycetes",
          "Metazoa/Chordata",
          "Fungi/Basidiomycota",
          "unknown/Ciliophora/Oligohymenophorea",
          "unknown/Bacillariophyta/Fragilariophyceae",
          "unknown/unknown/unknown",
          "unknown/Rhodophyta/Compsopogonophyceae",
          "unknown/unknown",
          "unknown/Ciliophora/Heterotrichea",
          "Viridiplantae/Streptophyta/Bryopsida",
          "Viridiplantae/Streptophyta",
          "Viridiplantae/Streptophyta/Magnoliopsida",
          "unknown/Discosea/unknown",
          "unknown/unknown/Dictyochophyceae",
          "Viridiplantae/Streptophyta",
          "Metazoa/Annelida/Clitellata",
          "Metazoa/Mollusca",
          "Metazoa/Chordata/Chondrichthyes",
          "Viridiplantae/Streptophyta/Magnoliopsida",
          "unknown/Cercozoa",
          "Metazoa/Cnidaria/Anthozoa",
          "unknown/Perkinsozoa/unknown",
          "Metazoa/Entoprocta/unknown",
          "unknown/Bacillariophyta/Fragilariophyceae",
          "Fungi/Basidiomycota/Microbotryomycetes",
          "Fungi/Cryptomycota/unknown",
          "Metazoa/Cnidaria/Hydrozoa",
          "unknown/Bacillariophyta/Coscinodiscophyceae",
          "Viridiplantae/Streptophyta/Polypodiopsida",
          "Metazoa/Arthropoda/Chilopoda",
          "Metazoa/Arthropoda/Insecta",
          "unknown/Heterolobosea/unknown",
          "Metazoa/Mollusca/Gastropoda",
          "Viridiplantae/Streptophyta/Jungermanniopsida",
          "Fungi/Ascomycota/Dothideomycetes",
          "unknown/Evosea/Variosea",
          "unknown/Apicomplexa/unknown",
          "Fungi/Ascomycota/Lecanoromycetes",
          "Metazoa/Chordata/Chondrichthyes",
          "Metazoa/Brachiopoda/Lingulata",
          "Metazoa/Mollusca/Bivalvia",
          "Viridiplantae/Streptophyta/Magnoliopsida",
          "Viridiplantae/Streptophyta/Magnoliopsida",
          "Metazoa/Arthropoda/Chilopoda",
          "Viridiplantae/Streptophyta/Klebsormidiophyceae",
          "unknown/Haptophyta/unknown",
          "Metazoa/Tardigrada/Eutardigrada",
          "Metazoa/Chordata/Aves",
          "unknown",
          "Fungi/Basidiomycota/Pucciniomycetes",
          "unknown",
          "Metazoa/Annelida/Polychaeta",
          "unknown",
          "Fungi/Ascomycota/Lecanoromycetes",
          "Metazoa/Xenacoelomorpha/unknown",
          "unknown",
          "unknown/unknown/Centroplasthelida",
          "Metazoa/Mollusca/Cephalopoda",
          "unknown/Apicomplexa/Aconoidasida",
          "Fungi/Zoopagomycota",
          "unknown/Rhodophyta/Florideophyceae",
          "Fungi/Basidiomycota/Agaricomycetes",
          "Metazoa/Chordata/Lepidosauria",
          "Metazoa/Chordata/Actinopteri",
          "Metazoa/Echinodermata/Asteroidea",
          "Metazoa/Mollusca/Cephalopoda",
          "Metazoa/Chordata/Chondrichthyes",
          "Fungi/Mucoromycota/Glomeromycetes",
          "Metazoa/Chordata/Mammalia",
          "Viridiplantae/Chlorophyta/Pyramimonadophyceae",
          "Metazoa",
          "Fungi",
          "Metazoa/Chordata/Actinopteri",
          "Metazoa/Chordata/Actinopteri",
          "Metazoa/Xenacoelomorpha",
          "Metazoa",
          "Metazoa/Chordata/Amphibia",
          "Fungi/Basidiomycota/Microbotryomycetes",
          "Metazoa/Chordata/Actinopteri",
          "Metazoa/Chordata/Aves",
          "Metazoa/Chordata",
          "Viridiplantae/Streptophyta",
          "unknown/Apicomplexa",
          "Fungi/Zoopagomycota/Kickxellomycetes",
          "unknown/unknown/Eustigmatophyceae",
          "Viridiplantae/Streptophyta",
          "Fungi/Ascomycota",
          "Metazoa/Chordata/Actinopteri",
          "Metazoa/Arthropoda/Chilopoda",
          "unknown/Rhodophyta/Compsopogonophyceae",
          "Fungi/Ascomycota/Leotiomycetes",
          "Fungi/Basidiomycota/Exobasidiomycetes",
          "Viridiplantae/Chlorophyta/Ulvophyceae",
          "Viridiplantae/Chlorophyta/Trebouxiophyceae",
          "Metazoa/Arthropoda/Protura",
          "Metazoa/Platyhelminthes",
          "Metazoa/Mollusca/Bivalvia",
          "unknown/unknown/unknown",
          "Viridiplantae/Chlorophyta/Pedinophyceae",
          "Metazoa/Chordata/Actinopteri",
          "Fungi/Basidiomycota",
          "Metazoa/Arthropoda",
          "unknown/unknown",
          "Metazoa/Nematoda",
          "unknown/Apicomplexa",
          "Metazoa/Chordata",
          "Viridiplantae/Chlorophyta",
          "Viridiplantae/Streptophyta",
          "Metazoa/Arthropoda",
          "unknown/unknown",
          "Metazoa/Echinodermata",
          "Metazoa/Chordata/Actinopteri",
          "Viridiplantae/Streptophyta/Magnoliopsida",
          "Metazoa/Arthropoda",
          "Fungi/Basidiomycota/Agaricomycetes",
          "Metazoa/Chordata/Mammalia",
          "Metazoa/Rotifera",
          "Viridiplantae/Streptophyta/Polypodiopsida",
          "unknown/Rhodophyta",
          "unknown/Ciliophora/Oligohymenophorea",
          "Metazoa/Chordata/Mammalia",
          "unknown/Ciliophora",
          "Fungi/Ascomycota/Eurotiomycetes",
          "Viridiplantae/Streptophyta",
          "Viridiplantae/Streptophyta",
          "Fungi/Ascomycota/Sordariomycetes",
          "Viridiplantae/Chlorophyta/Ulvophyceae",
          "Metazoa/Chordata/Aves",
          "Metazoa/Nematoda/Enoplea",
          "Viridiplantae/Streptophyta/Polypodiopsida",
          "Fungi/Basidiomycota/Agaricomycetes",
          "unknown/Preaxostyla/unknown",
          "Metazoa/Cnidaria/Cubozoa",
          "Metazoa/Chordata/Chondrichthyes",
          "Fungi/Ascomycota",
          "Viridiplantae/Chlorophyta/Pedinophyceae",
          "Metazoa/Chordata",
          "Fungi/Chytridiomycota/Chytridiomycetes",
          "Metazoa/Chordata/Actinopteri",
          "Metazoa/Cnidaria",
          "unknown/unknown/Glaucocystophyceae",
          "Viridiplantae/Streptophyta/Magnoliopsida",
          "Fungi/Basidiomycota/Ustilaginomycetes",
          "unknown/Discosea/Flabellinia",
          "Metazoa/Chordata/Mammalia",
          "unknown/unknown/Breviatea",
          "Fungi/Basidiomycota/Exobasidiomycetes",
          "Viridiplantae/Chlorophyta/Trebouxiophyceae",
          "Viridiplantae/Streptophyta",
          "Metazoa/Arthropoda/Insecta",
          "Metazoa/Chordata/Actinopteri",
          "Fungi/Ascomycota/Dothideomycetes",
          "Fungi/Basidiomycota/Wallemiomycetes",
          "unknown/Ciliophora",
          "Fungi/Basidiomycota",
          "Viridiplantae/Streptophyta/Pinopsida",
          "unknown/unknown/Cryptophyceae",
          "Fungi/Ascomycota/Eurotiomycetes",
          "Metazoa/Arthropoda/Chilopoda",
          "unknown/Rhodophyta/Florideophyceae",
          "Fungi/Mucoromycota/Umbelopsidomycetes",
          "unknown/Rhodophyta"
         ],
         "type": "sunburst",
         "values": [
          5121,
          156,
          4,
          156,
          2,
          2,
          7,
          18,
          6,
          5,
          26,
          69,
          381,
          2,
          22,
          8,
          8,
          3,
          442,
          1,
          2,
          21,
          13,
          36,
          4,
          17,
          6,
          3099,
          61,
          1,
          356,
          19,
          36,
          35,
          4,
          17,
          11,
          269,
          3,
          2,
          818,
          33,
          76,
          58,
          3,
          5,
          4006,
          2,
          33,
          4,
          11,
          44,
          6,
          9,
          11,
          12,
          18,
          9,
          23,
          10,
          27,
          5,
          2,
          5,
          265,
          30,
          2,
          3,
          25,
          34,
          58,
          4,
          7,
          359,
          62,
          32,
          31,
          40,
          23,
          19,
          45,
          88,
          41,
          8,
          88,
          18,
          2,
          2274,
          43,
          5,
          8173,
          11,
          91,
          32,
          22,
          117,
          700,
          7,
          81,
          1890,
          3,
          1,
          4,
          76,
          3,
          9,
          888,
          18,
          15,
          102,
          21,
          46,
          12,
          36,
          149,
          15,
          6,
          18,
          20,
          88,
          73,
          102,
          2,
          451,
          23,
          8,
          4,
          27,
          2,
          6,
          108,
          31,
          130,
          22,
          6,
          6,
          9,
          11,
          836,
          553,
          2,
          4,
          6,
          6,
          20,
          4,
          27,
          1,
          81,
          699,
          18,
          36,
          29,
          1,
          27,
          26,
          3,
          21,
          15,
          4,
          229,
          19,
          80,
          13,
          32,
          10,
          131,
          23,
          1847,
          3,
          2,
          515,
          40,
          4,
          702,
          7,
          24,
          29,
          31,
          15,
          14,
          6,
          1,
          8,
          18,
          4,
          84,
          1,
          2,
          360,
          11,
          10,
          28,
          3,
          8,
          25,
          16,
          6,
          6,
          139,
          25,
          46,
          25,
          3,
          5,
          1,
          23,
          76,
          74,
          2,
          10,
          71,
          39,
          5,
          1,
          6,
          146,
          11,
          14,
          8,
          101,
          61,
          14,
          3,
          8,
          34,
          3,
          12,
          7,
          8,
          27,
          2,
          4,
          150,
          1,
          22,
          1,
          108,
          33,
          36,
          9,
          1,
          9,
          16,
          108,
          2,
          31,
          9,
          2,
          44,
          119,
          24,
          6,
          5,
          1,
          13,
          22,
          3,
          6,
          27,
          144,
          18,
          6,
          8,
          98,
          25,
          48,
          192,
          3,
          82,
          3,
          11,
          35,
          10,
          6,
          12,
          230,
          53,
          650,
          358,
          3,
          1,
          20,
          4039,
          7,
          149,
          5,
          3,
          55,
          90,
          6,
          21,
          8,
          5,
          3,
          29,
          5,
          13,
          26,
          5,
          19,
          3,
          157,
          2,
          85,
          90,
          11,
          105,
          2,
          12,
          13,
          51,
          11,
          95,
          46,
          30,
          28,
          19,
          130,
          188,
          37,
          3,
          200,
          18,
          65,
          29,
          4,
          3,
          149,
          27,
          4,
          6,
          178,
          13,
          14,
          3,
          1699,
          113,
          6,
          69,
          34,
          9,
          18,
          4,
          20,
          19,
          6,
          26,
          65,
          9,
          6,
          5,
          287,
          23,
          4,
          8,
          8,
          13,
          103,
          5,
          4,
          7,
          9,
          1,
          127,
          1,
          90,
          10572,
          41,
          24,
          81,
          1716,
          251,
          271,
          4523,
          1,
          12,
          4,
          37,
          105,
          22,
          304,
          14,
          3,
          19,
          714,
          1,
          78,
          6,
          8,
          139,
          5,
          7,
          58,
          7,
          6,
          5,
          11,
          1,
          43,
          1,
          23,
          11,
          27,
          40,
          2,
          24,
          1,
          2,
          3,
          11,
          10,
          13,
          2,
          323,
          15,
          3,
          12,
          4,
          14,
          20,
          101,
          12,
          10,
          77,
          55,
          7,
          2219,
          64316,
          14,
          25,
          551,
          26,
          6,
          36,
          19,
          585,
          4,
          12,
          20,
          16,
          10,
          1143,
          180,
          62,
          2,
          1,
          9,
          260,
          79,
          13,
          15,
          20527,
          9,
          61,
          221,
          7,
          23,
          2,
          3,
          94,
          545,
          86,
          12843,
          539,
          7,
          17,
          173,
          22,
          10,
          4,
          9,
          16,
          7,
          85,
          206,
          3760,
          20,
          9,
          432,
          3,
          60,
          4,
          5,
          3,
          2,
          14,
          188,
          5,
          60,
          16,
          104,
          90,
          4,
          76,
          74,
          399,
          8,
          3,
          15,
          249,
          22,
          535,
          32,
          55,
          20,
          5,
          5,
          13,
          8,
          107,
          9,
          4,
          99,
          28,
          362,
          8,
          9,
          657,
          14,
          5,
          365,
          8,
          8,
          5,
          145,
          3,
          11,
          4739,
          37,
          7,
          5,
          11,
          2,
          25,
          5,
          12,
          1,
          2,
          3,
          3,
          2,
          46,
          5,
          161,
          10,
          9,
          100,
          8,
          2,
          5,
          51,
          40,
          52,
          10,
          206,
          33,
          15,
          349,
          1,
          82,
          9,
          5,
          16,
          80,
          5,
          3,
          69,
          11,
          130,
          7,
          154,
          63,
          17,
          9,
          77,
          38,
          23,
          2,
          2,
          35,
          5,
          9,
          15,
          315,
          21,
          34,
          11,
          13,
          19,
          82,
          2,
          8,
          2665,
          1,
          488,
          12,
          2,
          252,
          17,
          55,
          20,
          63,
          9,
          8,
          4,
          5,
          4,
          5,
          4,
          22,
          33,
          4536,
          165,
          30,
          164,
          2,
          186,
          3,
          82,
          9,
          3,
          138,
          13,
          50,
          2063,
          12,
          200,
          21,
          5,
          9,
          164,
          42,
          6,
          9,
          4,
          7,
          211,
          9,
          9,
          260,
          13,
          117,
          4,
          1290,
          1749,
          62,
          1,
          33,
          89,
          36,
          1,
          232,
          12,
          368,
          44,
          9,
          27,
          35,
          194,
          1027,
          14,
          51,
          32,
          2,
          62,
          2126,
          8,
          337,
          1,
          634,
          3,
          105,
          55,
          7,
          4,
          47,
          10,
          329,
          104,
          45,
          16,
          25,
          77,
          1,
          4,
          9,
          6,
          2,
          7,
          1,
          1,
          461,
          20,
          6,
          174,
          3,
          14,
          71494,
          1,
          1,
          19,
          54,
          14,
          21,
          39,
          555,
          11,
          2,
          4,
          3,
          24,
          7,
          8,
          7,
          4,
          37,
          11,
          8,
          408,
          248,
          140,
          3,
          4,
          2,
          786,
          18,
          5,
          68,
          30,
          3,
          221,
          104,
          147,
          34,
          5,
          246,
          18,
          20,
          19,
          22,
          36,
          188,
          14,
          47,
          180,
          132,
          117,
          11,
          4,
          2150,
          1552,
          7,
          15,
          2661,
          7,
          521,
          8,
          17,
          3,
          1041,
          2612,
          11,
          3,
          4568,
          10,
          1,
          26,
          67,
          17,
          1,
          6,
          894,
          2495,
          16,
          82,
          15910,
          103,
          14,
          4,
          70436,
          45,
          17,
          317,
          1,
          9,
          2,
          675,
          7,
          675,
          10,
          52,
          650,
          20,
          10,
          22,
          6,
          22,
          4,
          545,
          4,
          16,
          16,
          234,
          14,
          71,
          24,
          15,
          220,
          23,
          5,
          5,
          14,
          125,
          26,
          22,
          15,
          11,
          2770,
          3,
          1,
          4,
          8,
          2,
          16,
          95,
          16,
          8,
          1,
          20,
          197,
          25,
          56,
          6,
          10,
          2,
          4,
          15,
          3,
          3,
          1,
          20,
          5,
          2,
          4,
          55,
          1,
          17,
          58,
          3,
          5,
          4,
          2,
          1421,
          19,
          21,
          18,
          12,
          8,
          11,
          29,
          130,
          1,
          55,
          87,
          22,
          9,
          440,
          47,
          2978,
          167,
          3,
          31,
          2,
          243,
          10,
          23,
          100,
          6,
          44,
          33,
          6,
          8,
          15,
          33,
          180,
          12,
          36,
          6,
          2,
          25,
          21,
          6,
          42,
          32,
          11359,
          8,
          4,
          130,
          30,
          4,
          308,
          90,
          6,
          5,
          3,
          1,
          15,
          4,
          4,
          40,
          139,
          13,
          6,
          256,
          1,
          79,
          15,
          374,
          218,
          40,
          3,
          101,
          200,
          71,
          12,
          13,
          16,
          3933,
          10,
          7,
          4,
          3,
          62,
          16,
          8,
          8,
          1699,
          3,
          9,
          16,
          43,
          89,
          3,
          204,
          55,
          207,
          9,
          15,
          5,
          4,
          3,
          14,
          20,
          8,
          11,
          1408,
          52,
          47,
          7,
          3,
          5,
          2,
          59,
          3,
          7,
          17,
          4570,
          351,
          1,
          34,
          79,
          1,
          2,
          8,
          107,
          189,
          18,
          7,
          12,
          13,
          1787,
          2,
          18,
          15,
          6,
          11,
          3,
          3,
          22,
          10,
          1,
          12,
          7,
          8,
          26,
          84,
          547,
          22,
          3,
          18,
          303,
          235,
          50,
          5,
          6,
          2105,
          2,
          106,
          11,
          25,
          3,
          692,
          18,
          4,
          18,
          48,
          4,
          2,
          44,
          5,
          3,
          2,
          3,
          4,
          4,
          1,
          190,
          123,
          558,
          56,
          69,
          403,
          43,
          35,
          9,
          70,
          11,
          3,
          223,
          50,
          1,
          303,
          7,
          68,
          12,
          3,
          30,
          233,
          4,
          6,
          30,
          2,
          5,
          109,
          34,
          40,
          1,
          4,
          18,
          11,
          6,
          131,
          1,
          48,
          6,
          14,
          146,
          1,
          15,
          3,
          1,
          8,
          6,
          3719,
          4,
          267,
          32,
          28,
          3,
          107,
          1319,
          58,
          12,
          5,
          16,
          12,
          29
         ]
        }
       ],
       "layout": {
        "autosize": true,
        "legend": {
         "tracegroupgap": 0
        },
        "margin": {
         "t": 60
        },
        "template": {
         "data": {
          "bar": [
           {
            "error_x": {
             "color": "#2a3f5f"
            },
            "error_y": {
             "color": "#2a3f5f"
            },
            "marker": {
             "line": {
              "color": "#E5ECF6",
              "width": 0.5
             },
             "pattern": {
              "fillmode": "overlay",
              "size": 10,
              "solidity": 0.2
             }
            },
            "type": "bar"
           }
          ],
          "barpolar": [
           {
            "marker": {
             "line": {
              "color": "#E5ECF6",
              "width": 0.5
             },
             "pattern": {
              "fillmode": "overlay",
              "size": 10,
              "solidity": 0.2
             }
            },
            "type": "barpolar"
           }
          ],
          "carpet": [
           {
            "aaxis": {
             "endlinecolor": "#2a3f5f",
             "gridcolor": "white",
             "linecolor": "white",
             "minorgridcolor": "white",
             "startlinecolor": "#2a3f5f"
            },
            "baxis": {
             "endlinecolor": "#2a3f5f",
             "gridcolor": "white",
             "linecolor": "white",
             "minorgridcolor": "white",
             "startlinecolor": "#2a3f5f"
            },
            "type": "carpet"
           }
          ],
          "choropleth": [
           {
            "colorbar": {
             "outlinewidth": 0,
             "ticks": ""
            },
            "type": "choropleth"
           }
          ],
          "contour": [
           {
            "colorbar": {
             "outlinewidth": 0,
             "ticks": ""
            },
            "colorscale": [
             [
              0,
              "#0d0887"
             ],
             [
              0.1111111111111111,
              "#46039f"
             ],
             [
              0.2222222222222222,
              "#7201a8"
             ],
             [
              0.3333333333333333,
              "#9c179e"
             ],
             [
              0.4444444444444444,
              "#bd3786"
             ],
             [
              0.5555555555555556,
              "#d8576b"
             ],
             [
              0.6666666666666666,
              "#ed7953"
             ],
             [
              0.7777777777777778,
              "#fb9f3a"
             ],
             [
              0.8888888888888888,
              "#fdca26"
             ],
             [
              1,
              "#f0f921"
             ]
            ],
            "type": "contour"
           }
          ],
          "contourcarpet": [
           {
            "colorbar": {
             "outlinewidth": 0,
             "ticks": ""
            },
            "type": "contourcarpet"
           }
          ],
          "heatmap": [
           {
            "colorbar": {
             "outlinewidth": 0,
             "ticks": ""
            },
            "colorscale": [
             [
              0,
              "#0d0887"
             ],
             [
              0.1111111111111111,
              "#46039f"
             ],
             [
              0.2222222222222222,
              "#7201a8"
             ],
             [
              0.3333333333333333,
              "#9c179e"
             ],
             [
              0.4444444444444444,
              "#bd3786"
             ],
             [
              0.5555555555555556,
              "#d8576b"
             ],
             [
              0.6666666666666666,
              "#ed7953"
             ],
             [
              0.7777777777777778,
              "#fb9f3a"
             ],
             [
              0.8888888888888888,
              "#fdca26"
             ],
             [
              1,
              "#f0f921"
             ]
            ],
            "type": "heatmap"
           }
          ],
          "heatmapgl": [
           {
            "colorbar": {
             "outlinewidth": 0,
             "ticks": ""
            },
            "colorscale": [
             [
              0,
              "#0d0887"
             ],
             [
              0.1111111111111111,
              "#46039f"
             ],
             [
              0.2222222222222222,
              "#7201a8"
             ],
             [
              0.3333333333333333,
              "#9c179e"
             ],
             [
              0.4444444444444444,
              "#bd3786"
             ],
             [
              0.5555555555555556,
              "#d8576b"
             ],
             [
              0.6666666666666666,
              "#ed7953"
             ],
             [
              0.7777777777777778,
              "#fb9f3a"
             ],
             [
              0.8888888888888888,
              "#fdca26"
             ],
             [
              1,
              "#f0f921"
             ]
            ],
            "type": "heatmapgl"
           }
          ],
          "histogram": [
           {
            "marker": {
             "pattern": {
              "fillmode": "overlay",
              "size": 10,
              "solidity": 0.2
             }
            },
            "type": "histogram"
           }
          ],
          "histogram2d": [
           {
            "colorbar": {
             "outlinewidth": 0,
             "ticks": ""
            },
            "colorscale": [
             [
              0,
              "#0d0887"
             ],
             [
              0.1111111111111111,
              "#46039f"
             ],
             [
              0.2222222222222222,
              "#7201a8"
             ],
             [
              0.3333333333333333,
              "#9c179e"
             ],
             [
              0.4444444444444444,
              "#bd3786"
             ],
             [
              0.5555555555555556,
              "#d8576b"
             ],
             [
              0.6666666666666666,
              "#ed7953"
             ],
             [
              0.7777777777777778,
              "#fb9f3a"
             ],
             [
              0.8888888888888888,
              "#fdca26"
             ],
             [
              1,
              "#f0f921"
             ]
            ],
            "type": "histogram2d"
           }
          ],
          "histogram2dcontour": [
           {
            "colorbar": {
             "outlinewidth": 0,
             "ticks": ""
            },
            "colorscale": [
             [
              0,
              "#0d0887"
             ],
             [
              0.1111111111111111,
              "#46039f"
             ],
             [
              0.2222222222222222,
              "#7201a8"
             ],
             [
              0.3333333333333333,
              "#9c179e"
             ],
             [
              0.4444444444444444,
              "#bd3786"
             ],
             [
              0.5555555555555556,
              "#d8576b"
             ],
             [
              0.6666666666666666,
              "#ed7953"
             ],
             [
              0.7777777777777778,
              "#fb9f3a"
             ],
             [
              0.8888888888888888,
              "#fdca26"
             ],
             [
              1,
              "#f0f921"
             ]
            ],
            "type": "histogram2dcontour"
           }
          ],
          "mesh3d": [
           {
            "colorbar": {
             "outlinewidth": 0,
             "ticks": ""
            },
            "type": "mesh3d"
           }
          ],
          "parcoords": [
           {
            "line": {
             "colorbar": {
              "outlinewidth": 0,
              "ticks": ""
             }
            },
            "type": "parcoords"
           }
          ],
          "pie": [
           {
            "automargin": true,
            "type": "pie"
           }
          ],
          "scatter": [
           {
            "fillpattern": {
             "fillmode": "overlay",
             "size": 10,
             "solidity": 0.2
            },
            "type": "scatter"
           }
          ],
          "scatter3d": [
           {
            "line": {
             "colorbar": {
              "outlinewidth": 0,
              "ticks": ""
             }
            },
            "marker": {
             "colorbar": {
              "outlinewidth": 0,
              "ticks": ""
             }
            },
            "type": "scatter3d"
           }
          ],
          "scattercarpet": [
           {
            "marker": {
             "colorbar": {
              "outlinewidth": 0,
              "ticks": ""
             }
            },
            "type": "scattercarpet"
           }
          ],
          "scattergeo": [
           {
            "marker": {
             "colorbar": {
              "outlinewidth": 0,
              "ticks": ""
             }
            },
            "type": "scattergeo"
           }
          ],
          "scattergl": [
           {
            "marker": {
             "colorbar": {
              "outlinewidth": 0,
              "ticks": ""
             }
            },
            "type": "scattergl"
           }
          ],
          "scattermapbox": [
           {
            "marker": {
             "colorbar": {
              "outlinewidth": 0,
              "ticks": ""
             }
            },
            "type": "scattermapbox"
           }
          ],
          "scatterpolar": [
           {
            "marker": {
             "colorbar": {
              "outlinewidth": 0,
              "ticks": ""
             }
            },
            "type": "scatterpolar"
           }
          ],
          "scatterpolargl": [
           {
            "marker": {
             "colorbar": {
              "outlinewidth": 0,
              "ticks": ""
             }
            },
            "type": "scatterpolargl"
           }
          ],
          "scatterternary": [
           {
            "marker": {
             "colorbar": {
              "outlinewidth": 0,
              "ticks": ""
             }
            },
            "type": "scatterternary"
           }
          ],
          "surface": [
           {
            "colorbar": {
             "outlinewidth": 0,
             "ticks": ""
            },
            "colorscale": [
             [
              0,
              "#0d0887"
             ],
             [
              0.1111111111111111,
              "#46039f"
             ],
             [
              0.2222222222222222,
              "#7201a8"
             ],
             [
              0.3333333333333333,
              "#9c179e"
             ],
             [
              0.4444444444444444,
              "#bd3786"
             ],
             [
              0.5555555555555556,
              "#d8576b"
             ],
             [
              0.6666666666666666,
              "#ed7953"
             ],
             [
              0.7777777777777778,
              "#fb9f3a"
             ],
             [
              0.8888888888888888,
              "#fdca26"
             ],
             [
              1,
              "#f0f921"
             ]
            ],
            "type": "surface"
           }
          ],
          "table": [
           {
            "cells": {
             "fill": {
              "color": "#EBF0F8"
             },
             "line": {
              "color": "white"
             }
            },
            "header": {
             "fill": {
              "color": "#C8D4E3"
             },
             "line": {
              "color": "white"
             }
            },
            "type": "table"
           }
          ]
         },
         "layout": {
          "annotationdefaults": {
           "arrowcolor": "#2a3f5f",
           "arrowhead": 0,
           "arrowwidth": 1
          },
          "autotypenumbers": "strict",
          "coloraxis": {
           "colorbar": {
            "outlinewidth": 0,
            "ticks": ""
           }
          },
          "colorscale": {
           "diverging": [
            [
             0,
             "#8e0152"
            ],
            [
             0.1,
             "#c51b7d"
            ],
            [
             0.2,
             "#de77ae"
            ],
            [
             0.3,
             "#f1b6da"
            ],
            [
             0.4,
             "#fde0ef"
            ],
            [
             0.5,
             "#f7f7f7"
            ],
            [
             0.6,
             "#e6f5d0"
            ],
            [
             0.7,
             "#b8e186"
            ],
            [
             0.8,
             "#7fbc41"
            ],
            [
             0.9,
             "#4d9221"
            ],
            [
             1,
             "#276419"
            ]
           ],
           "sequential": [
            [
             0,
             "#0d0887"
            ],
            [
             0.1111111111111111,
             "#46039f"
            ],
            [
             0.2222222222222222,
             "#7201a8"
            ],
            [
             0.3333333333333333,
             "#9c179e"
            ],
            [
             0.4444444444444444,
             "#bd3786"
            ],
            [
             0.5555555555555556,
             "#d8576b"
            ],
            [
             0.6666666666666666,
             "#ed7953"
            ],
            [
             0.7777777777777778,
             "#fb9f3a"
            ],
            [
             0.8888888888888888,
             "#fdca26"
            ],
            [
             1,
             "#f0f921"
            ]
           ],
           "sequentialminus": [
            [
             0,
             "#0d0887"
            ],
            [
             0.1111111111111111,
             "#46039f"
            ],
            [
             0.2222222222222222,
             "#7201a8"
            ],
            [
             0.3333333333333333,
             "#9c179e"
            ],
            [
             0.4444444444444444,
             "#bd3786"
            ],
            [
             0.5555555555555556,
             "#d8576b"
            ],
            [
             0.6666666666666666,
             "#ed7953"
            ],
            [
             0.7777777777777778,
             "#fb9f3a"
            ],
            [
             0.8888888888888888,
             "#fdca26"
            ],
            [
             1,
             "#f0f921"
            ]
           ]
          },
          "colorway": [
           "#636efa",
           "#EF553B",
           "#00cc96",
           "#ab63fa",
           "#FFA15A",
           "#19d3f3",
           "#FF6692",
           "#B6E880",
           "#FF97FF",
           "#FECB52"
          ],
          "font": {
           "color": "#2a3f5f"
          },
          "geo": {
           "bgcolor": "white",
           "lakecolor": "white",
           "landcolor": "#E5ECF6",
           "showlakes": true,
           "showland": true,
           "subunitcolor": "white"
          },
          "hoverlabel": {
           "align": "left"
          },
          "hovermode": "closest",
          "mapbox": {
           "style": "light"
          },
          "paper_bgcolor": "white",
          "plot_bgcolor": "#E5ECF6",
          "polar": {
           "angularaxis": {
            "gridcolor": "white",
            "linecolor": "white",
            "ticks": ""
           },
           "bgcolor": "#E5ECF6",
           "radialaxis": {
            "gridcolor": "white",
            "linecolor": "white",
            "ticks": ""
           }
          },
          "scene": {
           "xaxis": {
            "backgroundcolor": "#E5ECF6",
            "gridcolor": "white",
            "gridwidth": 2,
            "linecolor": "white",
            "showbackground": true,
            "ticks": "",
            "zerolinecolor": "white"
           },
           "yaxis": {
            "backgroundcolor": "#E5ECF6",
            "gridcolor": "white",
            "gridwidth": 2,
            "linecolor": "white",
            "showbackground": true,
            "ticks": "",
            "zerolinecolor": "white"
           },
           "zaxis": {
            "backgroundcolor": "#E5ECF6",
            "gridcolor": "white",
            "gridwidth": 2,
            "linecolor": "white",
            "showbackground": true,
            "ticks": "",
            "zerolinecolor": "white"
           }
          },
          "shapedefaults": {
           "line": {
            "color": "#2a3f5f"
           }
          },
          "ternary": {
           "aaxis": {
            "gridcolor": "white",
            "linecolor": "white",
            "ticks": ""
           },
           "baxis": {
            "gridcolor": "white",
            "linecolor": "white",
            "ticks": ""
           },
           "bgcolor": "#E5ECF6",
           "caxis": {
            "gridcolor": "white",
            "linecolor": "white",
            "ticks": ""
           }
          },
          "title": {
           "x": 0.05
          },
          "xaxis": {
           "automargin": true,
           "gridcolor": "white",
           "linecolor": "white",
           "ticks": "",
           "title": {
            "standoff": 15
           },
           "zerolinecolor": "white",
           "zerolinewidth": 2
          },
          "yaxis": {
           "automargin": true,
           "gridcolor": "white",
           "linecolor": "white",
           "ticks": "",
           "title": {
            "standoff": 15
           },
           "zerolinecolor": "white",
           "zerolinewidth": 2
          }
         }
        }
       }
      },
      "image/png": "[encoded data removed]",
      "text/html": [
       "<div>                            <div id=\"39058ff0-9acf-4193-9a8b-3ef0d99624d8\" class=\"plotly-graph-div\" style=\"height:525px; width:100%;\"></div>            <script type=\"text/javascript\">                require([\"plotly\"], function(Plotly) {                    window.PLOTLYENV=window.PLOTLYENV || {};                                    if (document.getElementById(\"39058ff0-9acf-4193-9a8b-3ef0d99624d8\")) {                    Plotly.newPlot(                        \"39058ff0-9acf-4193-9a8b-3ef0d99624d8\",                        [{\"branchvalues\":\"total\",\"customdata\":[[\"unknown\"],[\"Metazoa\"],[\"unknown\"],[\"Fungi\"],[\"Metazoa\"],[\"Metazoa\"],[\"Metazoa\"],[\"unknown\"],[\"Metazoa\"],[\"Metazoa\"],[\"unknown\"],[\"Metazoa\"],[\"Viridiplantae\"],[\"unknown\"],[\"Metazoa\"],[\"Metazoa\"],[\"unknown\"],[\"Viridiplantae\"],[\"Viridiplantae\"],[\"unknown\"],[\"unknown\"],[\"Metazoa\"],[\"Metazoa\"],[\"Viridiplantae\"],[\"Viridiplantae\"],[\"Fungi\"],[\"Metazoa\"],[\"Metazoa\"],[\"Metazoa\"],[\"Metazoa\"],[\"unknown\"],[\"Fungi\"],[\"Fungi\"],[\"Fungi\"],[\"Metazoa\"],[\"Fungi\"],[\"Metazoa\"],[\"Fungi\"],[\"Metazoa\"],[\"Metazoa\"],[\"Viridiplantae\"],[\"Metazoa\"],[\"Fungi\"],[\"Viridiplantae\"],[\"Fungi\"],[\"Fungi\"],[\"Viridiplantae\"],[\"unknown\"],[\"Fungi\"],[\"Viridiplantae\"],[\"Viridiplantae\"],[\"Metazoa\"],[\"Metazoa\"],[\"unknown\"],[\"Viridiplantae\"],[\"Metazoa\"],[\"unknown\"],[\"unknown\"],[\"Viridiplantae\"],[\"Metazoa\"],[\"Metazoa\"],[\"Fungi\"],[\"Viridiplantae\"],[\"unknown\"],[\"unknown\"],[\"unknown\"],[\"unknown\"],[\"unknown\"],[\"unknown\"],[\"Metazoa\"],[\"unknown\"],[\"Fungi\"],[\"Fungi\"],[\"Metazoa\"],[\"Viridiplantae\"],[\"Fungi\"],[\"unknown\"],[\"Metazoa\"],[\"Fungi\"],[\"Metazoa\"],[\"Viridiplantae\"],[\"unknown\"],[\"unknown\"],[\"Fungi\"],[\"Metazoa\"],[\"unknown\"],[\"Metazoa\"],[\"Fungi\"],[\"unknown\"],[\"unknown\"],[\"Metazoa\"],[\"Fungi\"],[\"Fungi\"],[\"Metazoa\"],[\"Metazoa\"],[\"Metazoa\"],[\"Fungi\"],[\"Fungi\"],[\"Viridiplantae\"],[\"Metazoa\"],[\"Viridiplantae\"],[\"unknown\"],[\"Metazoa\"],[\"Metazoa\"],[\"unknown\"],[\"Metazoa\"],[\"Metazoa\"],[\"unknown\"],[\"Metazoa\"],[\"Metazoa\"],[\"Viridiplantae\"],[\"Metazoa\"],[\"Metazoa\"],[\"unknown\"],[\"unknown\"],[\"Metazoa\"],[\"Viridiplantae\"],[\"Metazoa\"],[\"Metazoa\"],[\"unknown\"],[\"unknown\"],[\"unknown\"],[\"Fungi\"],[\"unknown\"],[\"Metazoa\"],[\"Metazoa\"],[\"unknown\"],[\"Metazoa\"],[\"Metazoa\"],[\"unknown\"],[\"Fungi\"],[\"Metazoa\"],[\"Viridiplantae\"],[\"Viridiplantae\"],[\"Metazoa\"],[\"Fungi\"],[\"Viridiplantae\"],[\"unknown\"],[\"Fungi\"],[\"Viridiplantae\"],[\"Metazoa\"],[\"unknown\"],[\"Metazoa\"],[\"Metazoa\"],[\"Metazoa\"],[\"Metazoa\"],[\"Metazoa\"],[\"unknown\"],[\"Metazoa\"],[\"Fungi\"],[\"Metazoa\"],[\"Metazoa\"],[\"unknown\"],[\"Metazoa\"],[\"unknown\"],[\"Metazoa\"],[\"Metazoa\"],[\"Metazoa\"],[\"unknown\"],[\"Metazoa\"],[\"Metazoa\"],[\"Metazoa\"],[\"unknown\"],[\"Metazoa\"],[\"unknown\"],[\"Fungi\"],[\"Metazoa\"],[\"Viridiplantae\"],[\"Viridiplantae\"],[\"unknown\"],[\"Metazoa\"],[\"Metazoa\"],[\"Metazoa\"],[\"unknown\"],[\"Viridiplantae\"],[\"Metazoa\"],[\"unknown\"],[\"Metazoa\"],[\"Metazoa\"],[\"Metazoa\"],[\"Metazoa\"],[\"Viridiplantae\"],[\"Viridiplantae\"],[\"Metazoa\"],[\"Fungi\"],[\"Metazoa\"],[\"Viridiplantae\"],[\"unknown\"],[\"unknown\"],[\"Viridiplantae\"],[\"Viridiplantae\"],[\"Fungi\"],[\"Metazoa\"],[\"unknown\"],[\"Viridiplantae\"],[\"Metazoa\"],[\"Metazoa\"],[\"Viridiplantae\"],[\"unknown\"],[\"Fungi\"],[\"Metazoa\"],[\"Metazoa\"],[\"Viridiplantae\"],[\"unknown\"],[\"unknown\"],[\"Metazoa\"],[\"Viridiplantae\"],[\"Viridiplantae\"],[\"Metazoa\"],[\"Metazoa\"],[\"Viridiplantae\"],[\"Metazoa\"],[\"Viridiplantae\"],[\"Metazoa\"],[\"Metazoa\"],[\"unknown\"],[\"Metazoa\"],[\"Fungi\"],[\"unknown\"],[\"Metazoa\"],[\"Fungi\"],[\"Fungi\"],[\"Fungi\"],[\"Fungi\"],[\"Viridiplantae\"],[\"unknown\"],[\"Metazoa\"],[\"Metazoa\"],[\"Metazoa\"],[\"unknown\"],[\"Metazoa\"],[\"Fungi\"],[\"Viridiplantae\"],[\"unknown\"],[\"unknown\"],[\"Metazoa\"],[\"Fungi\"],[\"unknown\"],[\"Metazoa\"],[\"unknown\"],[\"Metazoa\"],[\"unknown\"],[\"Viridiplantae\"],[\"Metazoa\"],[\"unknown\"],[\"unknown\"],[\"Fungi\"],[\"unknown\"],[\"unknown\"],[\"Metazoa\"],[\"Metazoa\"],[\"unknown\"],[\"Fungi\"],[\"Viridiplantae\"],[\"unknown\"],[\"Metazoa\"],[\"unknown\"],[\"Metazoa\"],[\"unknown\"],[\"Metazoa\"],[\"Fungi\"],[\"Viridiplantae\"],[\"Viridiplantae\"],[\"Metazoa\"],[\"unknown\"],[\"Viridiplantae\"],[\"Metazoa\"],[\"Viridiplantae\"],[\"Metazoa\"],[\"Metazoa\"],[\"Metazoa\"],[\"Metazoa\"],[\"unknown\"],[\"Metazoa\"],[\"Metazoa\"],[\"unknown\"],[\"Fungi\"],[\"Viridiplantae\"],[\"unknown\"],[\"Metazoa\"],[\"Viridiplantae\"],[\"Metazoa\"],[\"Viridiplantae\"],[\"Viridiplantae\"],[\"unknown\"],[\"Fungi\"],[\"Metazoa\"],[\"Metazoa\"],[\"unknown\"],[\"Metazoa\"],[\"Metazoa\"],[\"unknown\"],[\"unknown\"],[\"Metazoa\"],[\"Metazoa\"],[\"unknown\"],[\"Metazoa\"],[\"unknown\"],[\"Metazoa\"],[\"unknown\"],[\"unknown\"],[\"Metazoa\"],[\"Viridiplantae\"],[\"Metazoa\"],[\"Viridiplantae\"],[\"Metazoa\"],[\"Fungi\"],[\"unknown\"],[\"unknown\"],[\"Fungi\"],[\"Metazoa\"],[\"Viridiplantae\"],[\"Viridiplantae\"],[\"Viridiplantae\"],[\"Viridiplantae\"],[\"unknown\"],[\"Fungi\"],[\"Metazoa\"],[\"Viridiplantae\"],[\"Viridiplantae\"],[\"Metazoa\"],[\"Metazoa\"],[\"Metazoa\"],[\"Viridiplantae\"],[\"Metazoa\"],[\"Metazoa\"],[\"unknown\"],[\"Metazoa\"],[\"Metazoa\"],[\"Metazoa\"],[\"Metazoa\"],[\"unknown\"],[\"Viridiplantae\"],[\"Metazoa\"],[\"unknown\"],[\"unknown\"],[\"Fungi\"],[\"Metazoa\"],[\"Metazoa\"],[\"unknown\"],[\"Metazoa\"],[\"Fungi\"],[\"Metazoa\"],[\"Fungi\"],[\"Metazoa\"],[\"Metazoa\"],[\"Metazoa\"],[\"unknown\"],[\"unknown\"],[\"unknown\"],[\"unknown\"],[\"Metazoa\"],[\"Metazoa\"],[\"Fungi\"],[\"Viridiplantae\"],[\"Metazoa\"],[\"Metazoa\"],[\"unknown\"],[\"Metazoa\"],[\"unknown\"],[\"Fungi\"],[\"Fungi\"],[\"Viridiplantae\"],[\"Fungi\"],[\"unknown\"],[\"Metazoa\"],[\"Viridiplantae\"],[\"Fungi\"],[\"Fungi\"],[\"Metazoa\"],[\"unknown\"],[\"Viridiplantae\"],[\"Metazoa\"],[\"Viridiplantae\"],[\"Metazoa\"],[\"unknown\"],[\"unknown\"],[\"unknown\"],[\"Metazoa\"],[\"Viridiplantae\"],[\"unknown\"],[\"Viridiplantae\"],[\"Metazoa\"],[\"unknown\"],[\"Viridiplantae\"],[\"Viridiplantae\"],[\"Metazoa\"],[\"unknown\"],[\"Metazoa\"],[\"Metazoa\"],[\"Fungi\"],[\"Metazoa\"],[\"Metazoa\"],[\"Metazoa\"],[\"unknown\"],[\"Viridiplantae\"],[\"Metazoa\"],[\"Fungi\"],[\"Metazoa\"],[\"Viridiplantae\"],[\"Fungi\"],[\"Fungi\"],[\"Fungi\"],[\"unknown\"],[\"Viridiplantae\"],[\"Fungi\"],[\"unknown\"],[\"Metazoa\"],[\"Metazoa\"],[\"Metazoa\"],[\"Viridiplantae\"],[\"unknown\"],[\"Fungi\"],[\"Metazoa\"],[\"Viridiplantae\"],[\"Metazoa\"],[\"Metazoa\"],[\"unknown\"],[\"Metazoa\"],[\"Metazoa\"],[\"Metazoa\"],[\"Fungi\"],[\"unknown\"],[\"Viridiplantae\"],[\"Metazoa\"],[\"unknown\"],[\"Viridiplantae\"],[\"Viridiplantae\"],[\"Viridiplantae\"],[\"Viridiplantae\"],[\"Metazoa\"],[\"Metazoa\"],[\"Viridiplantae\"],[\"Metazoa\"],[\"unknown\"],[\"Fungi\"],[\"Viridiplantae\"],[\"Fungi\"],[\"unknown\"],[\"Viridiplantae\"],[\"Fungi\"],[\"unknown\"],[\"Metazoa\"],[\"unknown\"],[\"Metazoa\"],[\"unknown\"],[\"Metazoa\"],[\"Fungi\"],[\"Fungi\"],[\"Fungi\"],[\"unknown\"],[\"Metazoa\"],[\"Metazoa\"],[\"unknown\"],[\"Fungi\"],[\"Fungi\"],[\"Metazoa\"],[\"Fungi\"],[\"unknown\"],[\"Metazoa\"],[\"Metazoa\"],[\"Fungi\"],[\"Viridiplantae\"],[\"Metazoa\"],[\"Viridiplantae\"],[\"Metazoa\"],[\"unknown\"],[\"Metazoa\"],[\"Fungi\"],[\"Metazoa\"],[\"Metazoa\"],[\"unknown\"],[\"unknown\"],[\"unknown\"],[\"Metazoa\"],[\"unknown\"],[\"Viridiplantae\"],[\"Metazoa\"],[\"Metazoa\"],[\"Metazoa\"],[\"unknown\"],[\"Metazoa\"],[\"Metazoa\"],[\"Metazoa\"],[\"Viridiplantae\"],[\"Metazoa\"],[\"Metazoa\"],[\"Fungi\"],[\"Fungi\"],[\"unknown\"],[\"unknown\"],[\"Fungi\"],[\"unknown\"],[\"unknown\"],[\"Fungi\"],[\"Fungi\"],[\"unknown\"],[\"Metazoa\"],[\"Metazoa\"],[\"Metazoa\"],[\"unknown\"],[\"Metazoa\"],[\"unknown\"],[\"Metazoa\"],[\"unknown\"],[\"Metazoa\"],[\"Metazoa\"],[\"Metazoa\"],[\"unknown\"],[\"Fungi\"],[\"Fungi\"],[\"unknown\"],[\"Fungi\"],[\"unknown\"],[\"Viridiplantae\"],[\"Metazoa\"],[\"Metazoa\"],[\"Viridiplantae\"],[\"Viridiplantae\"],[\"unknown\"],[\"Fungi\"],[\"Metazoa\"],[\"Fungi\"],[\"unknown\"],[\"Fungi\"],[\"Metazoa\"],[\"unknown\"],[\"unknown\"],[\"Fungi\"],[\"Fungi\"],[\"Viridiplantae\"],[\"Metazoa\"],[\"Fungi\"],[\"unknown\"],[\"Viridiplantae\"],[\"Metazoa\"],[\"unknown\"],[\"unknown\"],[\"Metazoa\"],[\"Metazoa\"],[\"Metazoa\"],[\"Fungi\"],[\"Metazoa\"],[\"Metazoa\"],[\"Metazoa\"],[\"Fungi\"],[\"Metazoa\"],[\"Viridiplantae\"],[\"Metazoa\"],[\"unknown\"],[\"Metazoa\"],[\"Viridiplantae\"],[\"Fungi\"],[\"unknown\"],[\"Metazoa\"],[\"unknown\"],[\"Fungi\"],[\"Viridiplantae\"],[\"unknown\"],[\"Metazoa\"],[\"Fungi\"],[\"Metazoa\"],[\"Metazoa\"],[\"Metazoa\"],[\"Metazoa\"],[\"Fungi\"],[\"unknown\"],[\"Metazoa\"],[\"Fungi\"],[\"unknown\"],[\"unknown\"],[\"Fungi\"],[\"Viridiplantae\"],[\"Viridiplantae\"],[\"Viridiplantae\"],[\"unknown\"],[\"Viridiplantae\"],[\"Fungi\"],[\"unknown\"],[\"Metazoa\"],[\"unknown\"],[\"Metazoa\"],[\"Metazoa\"],[\"Metazoa\"],[\"Viridiplantae\"],[\"Fungi\"],[\"Metazoa\"],[\"Metazoa\"],[\"Metazoa\"],[\"unknown\"],[\"unknown\"],[\"Viridiplantae\"],[\"Metazoa\"],[\"Fungi\"],[\"Metazoa\"],[\"Fungi\"],[\"unknown\"],[\"Metazoa\"],[\"Metazoa\"],[\"Metazoa\"],[\"Metazoa\"],[\"Metazoa\"],[\"Viridiplantae\"],[\"Metazoa\"],[\"Metazoa\"],[\"Metazoa\"],[\"Metazoa\"],[\"unknown\"],[\"unknown\"],[\"Fungi\"],[\"Viridiplantae\"],[\"unknown\"],[\"Viridiplantae\"],[\"unknown\"],[\"Metazoa\"],[\"Metazoa\"],[\"Metazoa\"],[\"Metazoa\"],[\"Metazoa\"],[\"Fungi\"],[\"Metazoa\"],[\"Metazoa\"],[\"Metazoa\"],[\"Metazoa\"],[\"Metazoa\"],[\"Viridiplantae\"],[\"Fungi\"],[\"Viridiplantae\"],[\"Viridiplantae\"],[\"Viridiplantae\"],[\"unknown\"],[\"Viridiplantae\"],[\"Viridiplantae\"],[\"Metazoa\"],[\"Metazoa\"],[\"Viridiplantae\"],[\"Metazoa\"],[\"Metazoa\"],[\"Viridiplantae\"],[\"Metazoa\"],[\"Fungi\"],[\"Metazoa\"],[\"Viridiplantae\"],[\"Fungi\"],[\"Metazoa\"],[\"Viridiplantae\"],[\"Metazoa\"],[\"unknown\"],[\"Metazoa\"],[\"unknown\"],[\"Metazoa\"],[\"unknown\"],[\"Fungi\"],[\"Metazoa\"],[\"Viridiplantae\"],[\"unknown\"],[\"Fungi\"],[\"Fungi\"],[\"Metazoa\"],[\"Metazoa\"],[\"Metazoa\"],[\"Metazoa\"],[\"Metazoa\"],[\"Metazoa\"],[\"Metazoa\"],[\"Viridiplantae\"],[\"Fungi\"],[\"unknown\"],[\"Viridiplantae\"],[\"Viridiplantae\"],[\"Viridiplantae\"],[\"unknown\"],[\"Fungi\"],[\"Metazoa\"],[\"unknown\"],[\"Viridiplantae\"],[\"Metazoa\"],[\"Viridiplantae\"],[\"Viridiplantae\"],[\"unknown\"],[\"Metazoa\"],[\"unknown\"],[\"Metazoa\"],[\"unknown\"],[\"unknown\"],[\"unknown\"],[\"Metazoa\"],[\"unknown\"],[\"unknown\"],[\"Viridiplantae\"],[\"Viridiplantae\"],[\"Metazoa\"],[\"Viridiplantae\"],[\"unknown\"],[\"unknown\"],[\"unknown\"],[\"Metazoa\"],[\"Metazoa\"],[\"Viridiplantae\"],[\"unknown\"],[\"Metazoa\"],[\"Metazoa\"],[\"Metazoa\"],[\"Metazoa\"],[\"unknown\"],[\"Fungi\"],[\"Fungi\"],[\"Fungi\"],[\"Metazoa\"],[\"Metazoa\"],[\"Fungi\"],[\"Fungi\"],[\"Fungi\"],[\"Metazoa\"],[\"unknown\"],[\"unknown\"],[\"unknown\"],[\"Viridiplantae\"],[\"unknown\"],[\"unknown\"],[\"Metazoa\"],[\"unknown\"],[\"unknown\"],[\"Metazoa\"],[\"Metazoa\"],[\"Viridiplantae\"],[\"Viridiplantae\"],[\"Viridiplantae\"],[\"Fungi\"],[\"unknown\"],[\"unknown\"],[\"unknown\"],[\"unknown\"],[\"unknown\"],[\"Viridiplantae\"],[\"unknown\"],[\"Metazoa\"],[\"unknown\"],[\"Viridiplantae\"],[\"Metazoa\"],[\"Metazoa\"],[\"Viridiplantae\"],[\"Viridiplantae\"],[\"unknown\"],[\"Fungi\"],[\"Viridiplantae\"],[\"Metazoa\"],[\"unknown\"],[\"Fungi\"],[\"unknown\"],[\"Viridiplantae\"],[\"Fungi\"],[\"Fungi\"],[\"unknown\"],[\"Viridiplantae\"],[\"Viridiplantae\"],[\"Metazoa\"],[\"Metazoa\"],[\"Metazoa\"],[\"Metazoa\"],[\"Viridiplantae\"],[\"Viridiplantae\"],[\"Fungi\"],[\"Fungi\"],[\"Fungi\"],[\"Metazoa\"],[\"unknown\"],[\"Metazoa\"],[\"Viridiplantae\"],[\"unknown\"],[\"unknown\"],[\"Metazoa\"],[\"unknown\"],[\"Metazoa\"],[\"Metazoa\"],[\"unknown\"],[\"Fungi\"],[\"Viridiplantae\"],[\"unknown\"],[\"unknown\"],[\"Viridiplantae\"],[\"Metazoa\"],[\"Viridiplantae\"],[\"Metazoa\"],[\"unknown\"],[\"Metazoa\"],[\"Metazoa\"],[\"Metazoa\"],[\"Metazoa\"],[\"Metazoa\"],[\"Fungi\"],[\"unknown\"],[\"unknown\"],[\"Viridiplantae\"],[\"Fungi\"],[\"Viridiplantae\"],[\"Fungi\"],[\"Fungi\"],[\"Metazoa\"],[\"Fungi\"],[\"unknown\"],[\"unknown\"],[\"unknown\"],[\"Metazoa\"],[\"Fungi\"],[\"Metazoa\"],[\"Fungi\"],[\"unknown\"],[\"Metazoa\"],[\"Metazoa\"],[\"unknown\"],[\"Metazoa\"],[\"Viridiplantae\"],[\"Fungi\"],[\"Fungi\"],[\"Viridiplantae\"],[\"unknown\"],[\"Fungi\"],[\"Viridiplantae\"],[\"Fungi\"],[\"unknown\"],[\"unknown\"],[\"unknown\"],[\"unknown\"],[\"Viridiplantae\"],[\"unknown\"],[\"Viridiplantae\"],[\"Viridiplantae\"],[\"Viridiplantae\"],[\"Metazoa\"],[\"Fungi\"],[\"Fungi\"],[\"Metazoa\"],[\"Metazoa\"],[\"Metazoa\"],[\"Metazoa\"],[\"Metazoa\"],[\"Metazoa\"],[\"Metazoa\"],[\"Metazoa\"],[\"Metazoa\"],[\"Fungi\"],[\"Metazoa\"],[\"Viridiplantae\"],[\"Viridiplantae\"],[\"unknown\"],[\"Metazoa\"],[\"Viridiplantae\"],[\"Viridiplantae\"],[\"Metazoa\"],[\"Fungi\"],[\"Metazoa\"],[\"Metazoa\"],[\"Fungi\"],[\"Metazoa\"],[\"Metazoa\"],[\"unknown\"],[\"Metazoa\"],[\"Metazoa\"],[\"Metazoa\"],[\"Metazoa\"],[\"Fungi\"],[\"unknown\"],[\"unknown\"],[\"Metazoa\"],[\"Metazoa\"],[\"Metazoa\"],[\"Viridiplantae\"],[\"Metazoa\"],[\"Viridiplantae\"],[\"Viridiplantae\"],[\"Metazoa\"],[\"Metazoa\"],[\"unknown\"],[\"Metazoa\"],[\"Viridiplantae\"],[\"Metazoa\"],[\"unknown\"],[\"unknown\"],[\"Viridiplantae\"],[\"Metazoa\"],[\"Metazoa\"],[\"Fungi\"],[\"Viridiplantae\"],[\"unknown\"],[\"unknown\"],[\"unknown\"],[\"unknown\"],[\"Viridiplantae\"],[\"Fungi\"],[\"Metazoa\"],[\"Metazoa\"],[\"unknown\"],[\"Metazoa\"],[\"Metazoa\"],[\"Viridiplantae\"],[\"unknown\"],[\"unknown\"],[\"unknown\"],[\"Metazoa\"],[\"Metazoa\"],[\"Metazoa\"],[\"Viridiplantae\"],[\"Metazoa\"],[\"unknown\"],[\"Metazoa\"],[\"Metazoa\"],[\"Metazoa\"],[\"unknown\"],[\"Viridiplantae\"],[\"unknown\"],[\"Viridiplantae\"],[\"Metazoa\"],[\"Fungi\"],[\"Metazoa\"],[\"Metazoa\"],[\"unknown\"],[\"Viridiplantae\"],[\"Metazoa\"],[\"Metazoa\"],[\"Viridiplantae\"],[\"unknown\"],[\"Metazoa\"],[\"Metazoa\"],[\"Viridiplantae\"],[\"unknown\"],[\"Fungi\"],[\"Metazoa\"],[\"Fungi\"],[\"unknown\"],[\"unknown\"],[\"unknown\"],[\"unknown\"],[\"unknown\"],[\"unknown\"],[\"Viridiplantae\"],[\"Viridiplantae\"],[\"Viridiplantae\"],[\"unknown\"],[\"unknown\"],[\"Viridiplantae\"],[\"Metazoa\"],[\"Metazoa\"],[\"Metazoa\"],[\"Viridiplantae\"],[\"unknown\"],[\"Metazoa\"],[\"unknown\"],[\"Metazoa\"],[\"unknown\"],[\"Fungi\"],[\"Fungi\"],[\"Metazoa\"],[\"unknown\"],[\"Viridiplantae\"],[\"Metazoa\"],[\"Metazoa\"],[\"unknown\"],[\"Metazoa\"],[\"Viridiplantae\"],[\"Fungi\"],[\"unknown\"],[\"unknown\"],[\"Fungi\"],[\"Metazoa\"],[\"Metazoa\"],[\"Metazoa\"],[\"Viridiplantae\"],[\"Viridiplantae\"],[\"Metazoa\"],[\"Viridiplantae\"],[\"unknown\"],[\"Metazoa\"],[\"Metazoa\"],[\"unknown\"],[\"Fungi\"],[\"unknown\"],[\"Metazoa\"],[\"unknown\"],[\"Fungi\"],[\"Metazoa\"],[\"unknown\"],[\"unknown\"],[\"Metazoa\"],[\"unknown\"],[\"Fungi\"],[\"unknown\"],[\"Fungi\"],[\"Metazoa\"],[\"Metazoa\"],[\"Metazoa\"],[\"Metazoa\"],[\"Metazoa\"],[\"Fungi\"],[\"Metazoa\"],[\"Viridiplantae\"],[\"Metazoa\"],[\"Fungi\"],[\"Metazoa\"],[\"Metazoa\"],[\"Metazoa\"],[\"Metazoa\"],[\"Metazoa\"],[\"Fungi\"],[\"Metazoa\"],[\"Metazoa\"],[\"Metazoa\"],[\"Viridiplantae\"],[\"unknown\"],[\"Fungi\"],[\"unknown\"],[\"Viridiplantae\"],[\"Fungi\"],[\"Metazoa\"],[\"Metazoa\"],[\"unknown\"],[\"Fungi\"],[\"Fungi\"],[\"Viridiplantae\"],[\"Viridiplantae\"],[\"Metazoa\"],[\"Metazoa\"],[\"Metazoa\"],[\"unknown\"],[\"Viridiplantae\"],[\"Metazoa\"],[\"Fungi\"],[\"Metazoa\"],[\"unknown\"],[\"Metazoa\"],[\"unknown\"],[\"Metazoa\"],[\"Viridiplantae\"],[\"Viridiplantae\"],[\"Metazoa\"],[\"unknown\"],[\"Metazoa\"],[\"Metazoa\"],[\"Viridiplantae\"],[\"Metazoa\"],[\"Fungi\"],[\"Metazoa\"],[\"Metazoa\"],[\"Viridiplantae\"],[\"unknown\"],[\"unknown\"],[\"Metazoa\"],[\"unknown\"],[\"Fungi\"],[\"Viridiplantae\"],[\"Viridiplantae\"],[\"Fungi\"],[\"Viridiplantae\"],[\"Metazoa\"],[\"Metazoa\"],[\"Viridiplantae\"],[\"Fungi\"],[\"unknown\"],[\"Metazoa\"],[\"Metazoa\"],[\"Fungi\"],[\"Viridiplantae\"],[\"Metazoa\"],[\"Fungi\"],[\"Metazoa\"],[\"Metazoa\"],[\"unknown\"],[\"Viridiplantae\"],[\"Fungi\"],[\"unknown\"],[\"Metazoa\"],[\"unknown\"],[\"Fungi\"],[\"Viridiplantae\"],[\"Viridiplantae\"],[\"Metazoa\"],[\"Metazoa\"],[\"Fungi\"],[\"Fungi\"],[\"unknown\"],[\"Fungi\"],[\"Viridiplantae\"],[\"unknown\"],[\"Fungi\"],[\"Metazoa\"],[\"unknown\"],[\"Fungi\"],[\"unknown\"]],\"domain\":{\"x\":[0.0,1.0],\"y\":[0.0,1.0]},\"hovertemplate\":\"labels=%{label}\\u003cbr\\u003ecount=%{value}\\u003cbr\\u003eparent=%{parent}\\u003cbr\\u003eid=%{id}\\u003cbr\\u003ekingdom=%{customdata[0]}\\u003cextra\\u003e\\u003c\\u002fextra\\u003e\",\"ids\":[\"unknown\",\"Metazoa\\u002fRotifera\\u002fEurotatoria\\u002funknown\",\"unknown\\u002funknown\\u002fFilasterea\\u002funknown\",\"Fungi\\u002fAscomycota\\u002fLeotiomycetes\\u002funknown\",\"Metazoa\\u002fChordata\\u002fMammalia\\u002fMacroscelidea\",\"Metazoa\\u002fCnidaria\\u002fMyxozoa\\u002funknown\",\"Metazoa\\u002fChordata\\u002fActinopteri\\u002fLutjaniformes\",\"unknown\\u002funknown\\u002fPelagophyceae\\u002funknown\",\"Metazoa\\u002fAnnelida\\u002fClitellata\\u002fLumbriculida\",\"Metazoa\\u002fBryozoa\\u002fPhylactolaemata\\u002funknown\",\"unknown\\u002fDiscosea\\u002funknown\\u002fLongamoebia\",\"Metazoa\\u002fMollusca\\u002fGastropoda\\u002fLittorinimorpha\",\"Viridiplantae\\u002fStreptophyta\\u002fMagnoliopsida\\u002fLiliales\",\"unknown\\u002fChlorophyta\\u002funknown\\u002funknown\",\"Metazoa\\u002fHemichordata\\u002fEnteropneusta\\u002funknown\",\"Metazoa\\u002fPorifera\\u002fCalcarea\\u002fLeucosolenida\",\"unknown\\u002fHaptophyta\\u002funknown\\u002funknown\",\"Viridiplantae\\u002fStreptophyta\\u002fLeiosporocerotopsida\\u002fLeiosporocerotales\",\"Viridiplantae\\u002fStreptophyta\\u002fMagnoliopsida\\u002fLaurales\",\"unknown\\u002fPlacozoa\\u002funknown\\u002funknown\",\"unknown\\u002fPreaxostyla\\u002funknown\\u002funknown\",\"Metazoa\\u002fChordata\\u002fMammalia\\u002fLagomorpha\",\"Metazoa\\u002fChordata\\u002fActinopteri\\u002fKurtiformes\",\"Viridiplantae\\u002fStreptophyta\\u002fJungermanniopsida\\u002fJungermanniales\",\"Viridiplantae\\u002fStreptophyta\\u002fAndreaeopsida\",\"Fungi\\u002fBasidiomycota\\u002fAgaricomycetes\\u002fJaapiales\",\"Metazoa\\u002fChordata\\u002fAppendicularia\",\"Metazoa\\u002fArthropoda\\u002fArachnida\",\"Metazoa\\u002fEchinodermata\\u002fAsteroidea\",\"Metazoa\\u002fArthropoda\\u002fMalacostraca\\u002fLeptostraca\",\"unknown\\u002fHaptophyta\\u002funknown\\u002fIsochrysidales\",\"Fungi\\u002fBasidiomycota\\u002fMalasseziomycetes\\u002fMalasseziales\",\"Fungi\\u002fAscomycota\\u002fDothideomycetes\\u002funknown\",\"Fungi\\u002fAscomycota\\u002fDothideomycetes\\u002fVenturiales\",\"Metazoa\\u002fChordata\\u002fMyxini\\u002fMyxiniformes\",\"Fungi\\u002fAscomycota\\u002fDothideomycetes\\u002fMytilinidiales\",\"Metazoa\\u002fMollusca\\u002fBivalvia\\u002fMyida\",\"Fungi\\u002fAscomycota\\u002fDothideomycetes\\u002fMycosphaerellales\",\"Metazoa\\u002fChordata\\u002fAves\\u002fMusophagiformes\",\"Metazoa\\u002fCnidaria\\u002fMyxozoa\\u002fMultivalvulida\",\"Viridiplantae\\u002fStreptophyta\\u002fMagnoliopsida\\u002fZingiberales\",\"Metazoa\\u002fCnidaria\\u002fAnthozoa\\u002fZoantharia\",\"Fungi\\u002fMucoromycota\\u002fMortierellomycetes\\u002fMortierellales\",\"Viridiplantae\\u002fStreptophyta\\u002fZygnemophyceae\\u002fZygnematales\",\"Fungi\\u002fChytridiomycota\\u002fMonoblepharidomycetes\\u002fMonoblepharidales\",\"Fungi\\u002fBasidiomycota\\u002fMixiomycetes\\u002fMixiales\",\"Viridiplantae\\u002fStreptophyta\\u002fMagnoliopsida\\u002fMalpighiales\",\"unknown\\u002fForaminifera\\u002funknown\\u002fMiliolida\",\"Fungi\\u002fAscomycota\\u002fSordariomycetes\\u002fMicroascales\",\"Viridiplantae\\u002fStreptophyta\\u002fJungermanniopsida\\u002fMetzgeriales\",\"Viridiplantae\\u002fStreptophyta\\u002fMesostigmatophyceae\\u002fMesostigmatales\",\"Metazoa\\u002fArthropoda\\u002fArachnida\\u002fMesostigmata\",\"Metazoa\\u002fNematoda\\u002fEnoplea\\u002fMermithida\",\"unknown\\u002fBacillariophyta\\u002fCoscinodiscophyceae\\u002fMelosirales\",\"Viridiplantae\\u002fChlorophyta\\u002fChlorophyceae\\u002funknown\",\"Metazoa\\u002fArthropoda\\u002fInsecta\\u002fMecoptera\",\"unknown\\u002fEvosea\\u002funknown\\u002fMastigamoebida\",\"unknown\\u002fBacillariophyta\\u002fCoscinodiscophyceae\\u002funknown\",\"Viridiplantae\\u002fStreptophyta\\u002fPolypodiopsida\\u002fMarattiales\",\"Metazoa\\u002fArthropoda\\u002fInsecta\\u002fMantophasmatodea\",\"Metazoa\\u002fArthropoda\\u002fInsecta\\u002fMantodea\",\"Fungi\\u002fAscomycota\\u002fDothideomycetes\\u002fMicrothyriales\",\"Viridiplantae\\u002fChlorophyta\\u002fUlvophyceae\\u002fIgnatiales\",\"unknown\\u002funknown\\u002fIchthyosporea\\u002fIchthyophonida\",\"unknown\\u002fBacillariophyta\\u002fBacillariophyceae\",\"unknown\\u002fEuglenozoa\\u002fEuglenida\",\"unknown\\u002fRhodophyta\\u002fFlorideophyceae\\u002fRhodymeniales\",\"unknown\\u002fRhodophyta\\u002fRhodellophyceae\\u002fGlaucosphaerales\",\"unknown\\u002funknown\\u002fEustigmatophyceae\",\"Metazoa\\u002fTardigrada\\u002fEutardigrada\",\"unknown\\u002fRhodophyta\\u002fFlorideophyceae\\u002fGigartinales\",\"Fungi\\u002fBasidiomycota\\u002fExobasidiomycetes\\u002fGeorgefischeriales\",\"Fungi\\u002fAscomycota\\u002fGeoglossomycetes\\u002fGeoglossales\",\"Metazoa\\u002fMollusca\\u002fGastropoda\",\"Viridiplantae\\u002fStreptophyta\\u002fGinkgoopsida\",\"Fungi\\u002fBasidiomycota\\u002fAgaricomycetes\\u002fGeastrales\",\"unknown\\u002funknown\\u002fGlaucocystophyceae\",\"Metazoa\\u002fChordata\\u002fAves\\u002fGalliformes\",\"Fungi\\u002fZoopagomycota\\u002fEntomophthoromycetes\",\"Metazoa\\u002fBryozoa\\u002fGymnolaemata\",\"Viridiplantae\\u002fStreptophyta\\u002fBryopsida\\u002fFunariales\",\"unknown\\u002funknown\\u002fPhaeophyceae\\u002fFucales\",\"unknown\\u002fBacillariophyta\\u002fFragilariophyceae\\u002fFragilariales\",\"Fungi\\u002fBasidiomycota\\u002fTremellomycetes\\u002fFilobasidiales\",\"Metazoa\\u002fCnidaria\\u002fHydrozoa\",\"unknown\\u002fCercozoa\\u002fImbricatea\",\"Metazoa\\u002fChordata\\u002fAves\\u002fEurypygiformes\",\"Fungi\\u002fAscomycota\\u002fEurotiomycetes\\u002fEurotiales\",\"unknown\\u002fBacillariophyta\\u002fMediophyceae\\u002fEupodiscales\",\"unknown\\u002fCiliophora\\u002fSpirotrichea\\u002fEuplotida\",\"Metazoa\\u002fArthropoda\\u002fInsecta\",\"Fungi\\u002fZoopagomycota\\u002fKickxellomycetes\",\"Fungi\\u002fAscomycota\\u002fLecanoromycetes\",\"Metazoa\\u002fChordata\\u002fActinopteri\\u002fGadiformes\",\"Metazoa\\u002fHemichordata\\u002fEnteropneusta\",\"Metazoa\\u002fNematoda\\u002fEnoplea\",\"Fungi\\u002fAscomycota\\u002fSordariomycetes\\u002fGlomerellales\",\"Fungi\\u002fZoopagomycota\\u002fBasidiobolomycetes\",\"Viridiplantae\\u002fStreptophyta\\u002fBryopsida\\u002fHypnales\",\"Metazoa\\u002fArthropoda\\u002fInsecta\\u002fHymenoptera\",\"Viridiplantae\\u002fStreptophyta\\u002fPolypodiopsida\\u002fHymenophyllales\",\"unknown\\u002funknown\\u002fBreviatea\",\"Metazoa\\u002fPorifera\\u002fHomoscleromorpha\\u002fHomosclerophorida\",\"Metazoa\\u002fPlatyhelminthes\\u002fCestoda\",\"unknown\\u002fRhodophyta\\u002fFlorideophyceae\\u002fHildenbrandiales\",\"Metazoa\\u002fChordata\\u002fChondrichthyes\\u002fHeterodontiformes\",\"Metazoa\\u002fArthropoda\\u002fInsecta\\u002fHemiptera\",\"unknown\\u002fBacillariophyta\\u002fMediophyceae\\u002fHemiaulales\",\"Metazoa\\u002fChordata\\u002fCladistia\",\"Metazoa\\u002fAnnelida\\u002fClitellata\",\"Viridiplantae\\u002fStreptophyta\\u002fColeochaetophyceae\",\"Metazoa\\u002fArthropoda\\u002fHexanauplia\\u002fHarpacticoida\",\"Metazoa\\u002fPorifera\\u002fDemospongiae\\u002fHaplosclerida\",\"unknown\\u002fRhodophyta\\u002fFlorideophyceae\\u002fHalymeniales\",\"unknown\\u002funknown\\u002fCryptophyceae\",\"Metazoa\\u002fCnidaria\\u002fCubozoa\",\"Viridiplantae\\u002fStreptophyta\\u002fMagnoliopsida\\u002fGunnerales\",\"Metazoa\\u002fArthropoda\\u002fInsecta\\u002fGrylloblattodea\",\"Metazoa\\u002fChordata\\u002fAves\\u002fGruiformes\",\"unknown\\u002funknown\\u002fDictyochophyceae\",\"unknown\\u002fRhodophyta\\u002fFlorideophyceae\\u002fGracilariales\",\"unknown\\u002funknown\\u002fDinophyceae\\u002fGonyaulacales\",\"Fungi\\u002fZoopagomycota\\u002fDimargaritomycetes\",\"unknown\\u002funknown\\u002fDinophyceae\",\"Metazoa\\u002fArthropoda\\u002fDiplopoda\",\"Metazoa\\u002fArthropoda\\u002fDiplopoda\\u002fGlomerida\",\"unknown\\u002fNebulidia\\u002fNebulidea\\u002fNebulidida\",\"Metazoa\\u002fChordata\\u002fLeptocardii\",\"Metazoa\\u002fArthropoda\\u002fRemipedia\\u002fNectiopoda\",\"unknown\\u002fEuglenozoa\\u002fKinetoplastea\\u002fNeobodonida\",\"Fungi\\u002fAscomycota\\u002fSordariomycetes\\u002fSordariales\",\"Metazoa\\u002fChordata\\u002fActinopteri\\u002fSpariformes\",\"Viridiplantae\\u002fStreptophyta\\u002fSphagnopsida\\u002fSphagnales\",\"Viridiplantae\\u002fStreptophyta\\u002fJungermanniopsida\\u002fPorellales\",\"Metazoa\\u002fArthropoda\\u002fDiplopoda\\u002fPolyzoniida\",\"Fungi\\u002fChytridiomycota\\u002fChytridiomycetes\\u002fSpizellomycetales\",\"Viridiplantae\\u002fStreptophyta\\u002fPolytrichopsida\\u002fPolytrichales\",\"unknown\\u002fCiliophora\\u002fSpirotrichea\\u002fSporadotrichida\",\"Fungi\\u002fBasidiomycota\\u002fAgaricomycetes\\u002fPolyporales\",\"Viridiplantae\\u002fStreptophyta\\u002fPolypodiopsida\\u002fPolypodiales\",\"Metazoa\\u002fArthropoda\\u002fDiplopoda\\u002fPolydesmida\",\"unknown\\u002fRhodophyta\\u002fFlorideophyceae\\u002fSporolithales\",\"Metazoa\\u002fCnidaria\\u002fStaurozoa\\u002fStauromedusae\",\"Metazoa\\u002fMollusca\\u002fBivalvia\\u002fSolemyida\",\"Metazoa\\u002fArthropoda\\u002fOstracoda\\u002fPodocopida\",\"Metazoa\\u002fChordata\\u002fAscidiacea\\u002fStolidobranchia\",\"Metazoa\\u002fRotifera\\u002fEurotatoria\\u002fPloima\",\"unknown\\u002fCiliophora\\u002fLitostomatea\\u002fPleurostomatida\",\"Metazoa\\u002fChordata\\u002fActinopteri\\u002fPleuronectiformes\",\"Fungi\\u002fAscomycota\\u002fDothideomycetes\\u002fPleosporales\",\"Metazoa\\u002fChordata\\u002fAves\\u002fStrigiformes\",\"Metazoa\\u002fNematoda\\u002fChromadorea\\u002fStrongylida\",\"unknown\\u002fRhodophyta\\u002fStylonematophyceae\\u002fStylonematales\",\"Metazoa\\u002fChordata\\u002fAves\\u002fSuliformes\",\"unknown\\u002funknown\\u002fPinguiophyceae\\u002fPinguiochrysidales\",\"Metazoa\\u002fArthropoda\\u002fCollembola\\u002fSymphypleona\",\"Metazoa\\u002fChordata\\u002fMammalia\\u002fPilosa\",\"Metazoa\\u002fChordata\\u002fActinopteri\\u002fSynbranchiformes\",\"unknown\\u002fBacillariophyta\\u002fCoscinodiscophyceae\\u002fStephanodiscales\",\"Metazoa\\u002fChordata\\u002fAves\\u002fPiciformes\",\"Metazoa\\u002fChordata\\u002fMammalia\\u002fPrimates\",\"Metazoa\\u002fCnidaria\\u002fScyphozoa\\u002fSemaeostomeae\",\"unknown\\u002fForaminifera\\u002funknown\\u002fRotaliida\",\"Metazoa\\u002fCnidaria\\u002fScyphozoa\\u002fRhizostomeae\",\"unknown\\u002fBacillariophyta\\u002fCoscinodiscophyceae\\u002fRhizosoleniales\",\"Fungi\\u002fChytridiomycota\\u002fChytridiomycetes\\u002fRhizophydiales\",\"Metazoa\\u002fChordata\\u002fActinopteri\\u002fSalmoniformes\",\"Viridiplantae\\u002fStreptophyta\\u002fPolypodiopsida\\u002fSalviniales\",\"Viridiplantae\\u002fStreptophyta\\u002fMagnoliopsida\\u002fSapindales\",\"unknown\\u002fEuglenozoa\\u002fEuglenida\\u002fRhabdomonadales\",\"Metazoa\\u002fPlatyhelminthes\\u002fRhabditophora\\u002fRhabdocoela\",\"Metazoa\\u002fNematoda\\u002fChromadorea\\u002fRhabditida\",\"Metazoa\\u002fArthropoda\\u002fInsecta\\u002fRaphidioptera\",\"unknown\\u002funknown\\u002fPelagophyceae\\u002fSarcinochrysidales\",\"Viridiplantae\\u002fStreptophyta\\u002fMagnoliopsida\\u002fSaxifragales\",\"Metazoa\\u002fChordata\\u002fAves\\u002fProcellariiformes\",\"unknown\\u002fOomycota\\u002funknown\\u002fPythiales\",\"Metazoa\\u002fCnidaria\\u002fAnthozoa\\u002fScleralcyonacea\",\"Metazoa\\u002fChordata\\u002fActinopteri\\u002fScombriformes\",\"Metazoa\\u002fMollusca\\u002fGastropoda\\u002fPteropoda\",\"Metazoa\\u002fArthropoda\\u002fArachnida\\u002fScorpiones\",\"Viridiplantae\\u002fStreptophyta\\u002fBryopsida\\u002fScouleriales\",\"Viridiplantae\\u002fChlorophyta\\u002fPedinophyceae\\u002fScourfieldiales\",\"Metazoa\\u002fChordata\\u002fAves\\u002fPsittaciformes\",\"Fungi\\u002fBasidiomycota\\u002fAgaricomycetes\\u002fSebacinales\",\"Metazoa\\u002fArthropoda\\u002fArachnida\\u002fPseudoscorpiones\",\"Viridiplantae\\u002fStreptophyta\\u002fBryopsida\\u002fPseudoditrichales\",\"unknown\\u002fRhodophyta\\u002fFlorideophyceae\\u002fSebdeniales\",\"unknown\\u002fApicomplexa\\u002fConoidasida\\u002fProtococcidiorida\",\"Viridiplantae\\u002fStreptophyta\\u002fLycopodiopsida\\u002fSelaginellales\",\"Viridiplantae\\u002fStreptophyta\\u002fPolypodiopsida\\u002fSchizaeales\",\"Fungi\\u002fChytridiomycota\\u002fChytridiomycetes\\u002fSynchytriales\",\"Metazoa\\u002fAnnelida\\u002fPolychaeta\\u002fPhyllodocida\",\"unknown\\u002funknown\\u002fDinophyceae\\u002fSyndiniales\",\"Viridiplantae\\u002fChlorophyta\\u002fTrebouxiophyceae\\u002fTrebouxiales\",\"Metazoa\\u002fChordata\\u002fActinopteri\\u002fOsteoglossiformes\",\"Metazoa\\u002fChordata\\u002fActinopteri\\u002fOsmeriformes\",\"Viridiplantae\\u002fStreptophyta\\u002fBryopsida\\u002fOrthotrichales\",\"unknown\\u002funknown\\u002fXanthophyceae\\u002fTribonematales\",\"Fungi\\u002fAscomycota\\u002fOrbiliomycetes\\u002fOrbiliales\",\"Metazoa\\u002fPlatyhelminthes\\u002fTrematoda\\u002fOpisthorchiida\",\"Metazoa\\u002fPlatyhelminthes\\u002fRhabditophora\\u002fTricladida\",\"Viridiplantae\\u002fStreptophyta\\u002fPolypodiopsida\\u002fOphioglossales\",\"unknown\\u002fParabasalia\\u002funknown\\u002fTritrichomonadida\",\"unknown\\u002funknown\\u002fBigyra\\u002fOpalinata\",\"Metazoa\\u002fChordata\\u002fAves\\u002fTrogoniformes\",\"Viridiplantae\\u002fStreptophyta\\u002fMagnoliopsida\\u002fOncothecales\",\"Viridiplantae\\u002fStreptophyta\\u002fMagnoliopsida\\u002fOxalidales\",\"Metazoa\\u002fArthropoda\\u002fArachnida\\u002fTrombidiformes\",\"Metazoa\\u002fChordata\\u002fMammalia\\u002fTubulidentata\",\"Viridiplantae\\u002fChlorophyta\\u002fUlvophyceae\\u002fUlotrichales\",\"Metazoa\\u002fMollusca\\u002fGastropoda\\u002fNudibranchia\",\"Viridiplantae\\u002fStreptophyta\\u002fAnthocerotopsida\\u002fNotothyladales\",\"Metazoa\\u002fArthropoda\\u002fBranchiopoda\\u002fNotostraca\",\"Metazoa\\u002fChordata\\u002fActinopteri\\u002fNotacanthiformes\",\"unknown\\u002funknown\\u002fDinophyceae\\u002fNoctilucales\",\"Metazoa\\u002fArthropoda\\u002fInsecta\\u002fNeuroptera\",\"Fungi\\u002fAscomycota\\u002fLecanoromycetes\\u002fUmbilicariales\",\"unknown\\u002fApicomplexa\\u002fAconoidasida\\u002fNephromycida\",\"Metazoa\\u002fMollusca\\u002fBivalvia\\u002fUnionida\",\"Fungi\\u002fBasidiomycota\\u002fUstilaginomycetes\\u002fUstilaginales\",\"Fungi\\u002fChytridiomycota\\u002fNeocallimastigomycetes\\u002fNeocallimastigales\",\"Fungi\\u002fAscomycota\\u002fDothideomycetes\\u002fTrypetheliales\",\"Fungi\\u002fAscomycota\\u002fSordariomycetes\\u002fTogniniales\",\"Viridiplantae\\u002fStreptophyta\\u002fJungermanniopsida\\u002fPallaviciniales\",\"unknown\\u002fRhodophyta\\u002fFlorideophyceae\\u002fPalmariales\",\"Metazoa\\u002fChordata\\u002fMammalia\\u002fPholidota\",\"Metazoa\\u002fChordata\\u002fAscidiacea\\u002fPhlebobranchia\",\"Metazoa\\u002fRotifera\\u002fEurotatoria\\u002fPhilodinida\",\"unknown\\u002fCiliophora\\u002fOligohymenophorea\\u002fPhilasterida\",\"Metazoa\\u002fChordata\\u002fActinopteri\\u002fSyngnathiformes\",\"Fungi\\u002fAscomycota\\u002fDothideomycetes\\u002fPhaeotrichales\",\"Viridiplantae\\u002fStreptophyta\\u002fTakakiopsida\\u002fTakakiales\",\"unknown\\u002fHaptophyta\\u002funknown\\u002fPhaeocystales\",\"unknown\\u002fRhodophyta\\u002fFlorideophyceae\\u002fPeyssonneliales\",\"Metazoa\\u002fChordata\\u002fHyperoartia\\u002fPetromyzontiformes\",\"Fungi\\u002fAscomycota\\u002fLecanoromycetes\\u002fPertusariales\",\"unknown\\u002fOomycota\\u002funknown\\u002fPeronosporales\",\"Metazoa\\u002fChordata\\u002fMammalia\\u002fPerissodactyla\",\"unknown\\u002funknown\\u002fDinophyceae\\u002fPeridiniales\",\"Metazoa\\u002fEchinodermata\\u002fEchinoidea\\u002fTemnopleuroida\",\"unknown\\u002fEvosea\\u002funknown\\u002fPelobiontida\",\"Viridiplantae\\u002fStreptophyta\\u002fJungermanniopsida\\u002fPelliales\",\"Metazoa\\u002fArthropoda\\u002fPauropoda\\u002fTetramerocerata\",\"unknown\\u002funknown\\u002fPelagophyceae\\u002fPelagomonadales\",\"unknown\\u002fBacillariophyta\\u002fBacillariophyceae\\u002fThalassiophysales\",\"Fungi\\u002fBasidiomycota\\u002fAgaricomycetes\\u002fThelephorales\",\"unknown\\u002funknown\\u002fDinophyceae\\u002fThoracosphaerales\",\"unknown\\u002fRhodophyta\\u002fFlorideophyceae\\u002fThoreales\",\"Metazoa\\u002fArthropoda\\u002fInsecta\\u002fThysanoptera\",\"Metazoa\\u002fChordata\\u002fAves\\u002fPasseriformes\",\"unknown\\u002funknown\\u002fBolidophyceae\\u002fParmales\",\"Fungi\\u002fMucoromycota\\u002fGlomeromycetes\\u002fParaglomerales\",\"Viridiplantae\\u002fStreptophyta\\u002fBryopsida\\u002fTimmiales\",\"unknown\\u002fCiliophora\\u002fSpirotrichea\\u002fTintinnida\",\"Metazoa\\u002fMollusca\\u002fBivalvia\\u002fVenerida\",\"unknown\\u002fEuglenozoa\\u002fEuglenida\\u002fEuglenales\",\"Metazoa\\u002fAnnelida\\u002fClitellata\\u002fRhynchobdellida\",\"unknown\\u002fEuglenozoa\\u002fKinetoplastea\\u002fEubodonida\",\"Metazoa\\u002fChordata\\u002fActinopteri\\u002fCharaciformes\",\"Fungi\\u002fAscomycota\\u002fEurotiomycetes\\u002fChaetothyriales\",\"Viridiplantae\\u002fChlorophyta\\u002fChlorophyceae\\u002fChaetophorales\",\"Viridiplantae\\u002fChlorophyta\\u002fChlorophyceae\\u002fChaetopeltidales\",\"Metazoa\\u002fChordata\\u002funknown\\u002fCeratodontiformes\",\"unknown\\u002fRhodophyta\\u002fFlorideophyceae\\u002fCeramiales\",\"Viridiplantae\\u002fChlorophyta\\u002funknown\",\"Metazoa\\u002fChordata\\u002fActinopteri\\u002fCentrarchiformes\",\"Viridiplantae\\u002fStreptophyta\\u002fMagnoliopsida\\u002fCelastrales\",\"Metazoa\\u002fCtenophora\\u002funknown\",\"Metazoa\\u002fChordata\\u002fAmphibia\\u002fCaudata\",\"Metazoa\\u002fChordata\\u002fAves\\u002fCasuariiformes\",\"Metazoa\\u002fCnidaria\\u002fCubozoa\\u002fCarybdeida\",\"unknown\\u002fDiscosea\\u002funknown\",\"Metazoa\\u002fMollusca\\u002fBivalvia\\u002fCardiida\",\"Metazoa\\u002fChordata\\u002fChondrichthyes\\u002fCarcharhiniformes\",\"unknown\\u002fEuglenozoa\\u002funknown\",\"Fungi\\u002fBasidiomycota\\u002fAgaricomycetes\\u002fCantharellales\",\"Viridiplantae\\u002fStreptophyta\\u002fMagnoliopsida\\u002fCanellales\",\"unknown\\u002fHaptophyta\\u002funknown\",\"Metazoa\\u002fArthropoda\\u002fHexanauplia\\u002fCalanoida\",\"Viridiplantae\\u002fStreptophyta\\u002fBryopsida\\u002fBuxbaumiales\",\"Metazoa\\u002fChordata\\u002fAves\\u002fBucerotiformes\",\"Viridiplantae\\u002fStreptophyta\\u002fBryopsida\\u002fBryales\",\"Viridiplantae\\u002fStreptophyta\\u002fMagnoliopsida\\u002fBrassicales\",\"unknown\\u002fParabasalia\\u002funknown\",\"Fungi\\u002fAscomycota\\u002fDothideomycetes\\u002fBotryosphaeriales\",\"Metazoa\\u002fChordata\\u002fAves\\u002fCharadriiformes\",\"Metazoa\\u002fPlatyhelminthes\\u002fCestoda\\u002fBothriocephalidea\",\"unknown\\u002funknown\\u002fRaphidophyceae\\u002fChattonellales\",\"Metazoa\\u002fChordata\\u002fMammalia\\u002fChiroptera\",\"Metazoa\\u002fChordata\\u002fAppendicularia\\u002fCopelata\",\"unknown\\u002fCiliophora\\u002fSpirotrichea\",\"unknown\\u002fRhodophyta\\u002fCompsopogonophyceae\\u002fCompsopogonales\",\"Metazoa\\u002fEchinodermata\\u002fCrinoidea\\u002fComatulida\",\"Metazoa\\u002fChordata\\u002fAves\\u002fColumbiformes\",\"unknown\\u002fRhodophyta\\u002fStylonematophyceae\",\"Metazoa\\u002fArthropoda\\u002fSymphyla\",\"unknown\\u002funknown\\u002fSynurophyceae\",\"Metazoa\\u002fCtenophora\\u002fTentaculata\",\"unknown\\u002fHaptophyta\\u002funknown\\u002fCoccosphaerales\",\"unknown\\u002fHaptophyta\\u002funknown\\u002fCoccolithales\",\"Metazoa\\u002fPorifera\\u002fCalcarea\\u002fClathrinida\",\"Viridiplantae\\u002fChlorophyta\\u002fTrebouxiophyceae\",\"Metazoa\\u002fChordata\\u002fMammalia\\u002fCingulata\",\"Viridiplantae\\u002fChlorophyta\\u002fUlvophyceae\",\"Metazoa\\u002fChordata\\u002fActinopteri\\u002fCichliformes\",\"Fungi\\u002fChytridiomycota\\u002fChytridiomycetes\\u002fChytridiales\",\"unknown\\u002funknown\\u002fChrysophyceae\\u002fChromulinales\",\"unknown\\u002fCiliophora\\u002fSpirotrichea\\u002fChoreotrichida\",\"Fungi\\u002fMucoromycota\\u002fUmbelopsidomycetes\",\"Metazoa\\u002fPlacozoa\\u002fUniplacotomia\",\"Viridiplantae\\u002fChlorophyta\\u002fChloropicophyceae\\u002fChloropicales\",\"Viridiplantae\\u002fChlorophyta\\u002fUlvophyceae\\u002fChlorocystidales\",\"Viridiplantae\\u002fChlorophyta\\u002fTrebouxiophyceae\\u002fChlorellales\",\"Viridiplantae\\u002fStreptophyta\\u002fMagnoliopsida\\u002fChloranthales\",\"unknown\\u002fApicomplexa\\u002fConoidasida\\u002fEucoccidiorida\",\"Fungi\\u002fBasidiomycota\\u002fWallemiomycetes\",\"Metazoa\\u002fBryozoa\\u002fGymnolaemata\\u002fCheilostomatida\",\"Viridiplantae\\u002fStreptophyta\\u002fSphagnopsida\",\"Viridiplantae\\u002fStreptophyta\\u002fMagnoliopsida\\u002fBoraginales\",\"Metazoa\\u002fChordata\\u002fActinopteri\\u002fBlenniiformes\",\"Metazoa\\u002fChordata\\u002fAves\\u002fApodiformes\",\"Metazoa\\u002fEchinodermata\",\"Viridiplantae\\u002fStreptophyta\\u002fAnthocerotopsida\\u002fAnthocerotales\",\"Metazoa\\u002fCnidaria\\u002fHydrozoa\\u002fAnthoathecata\",\"Metazoa\\u002fChordata\\u002fAves\\u002fAnseriformes\",\"unknown\\u002fNebulidia\",\"Metazoa\\u002fNemertea\",\"Metazoa\\u002fArthropoda\\u002fMalacostraca\\u002fAmphipoda\",\"Metazoa\\u002fChordata\\u002fLeptocardii\\u002fAmphioxiformes\",\"Metazoa\\u002fEchinodermata\\u002fOphiuroidea\\u002fAmphilepidida\",\"unknown\\u002funknown\\u002fDinophyceae\\u002fAmphidiniales\",\"Viridiplantae\\u002fStreptophyta\\u002fMagnoliopsida\\u002fAmborellales\",\"Metazoa\\u002fPlacozoa\",\"unknown\\u002fOomycota\\u002funknown\\u002fAlbuginales\",\"unknown\\u002fRhodophyta\\u002fFlorideophyceae\\u002fAhnfeltiales\",\"Fungi\\u002fBasidiomycota\\u002fAgaricomycetes\\u002fAgaricales\",\"Metazoa\\u002fRotifera\\u002fEurotatoria\\u002fAdinetida\",\"Metazoa\\u002fMollusca\\u002fBivalvia\\u002fAdapedonta\",\"unknown\\u002fEvosea\\u002fEumycetozoa\\u002fAcytosteliales\",\"Metazoa\\u002fTardigrada\",\"Fungi\\u002fAscomycota\\u002fDothideomycetes\\u002fAcrospermales\",\"Metazoa\\u002fXenacoelomorpha\",\"Fungi\\u002funknown\",\"Metazoa\\u002fChordata\\u002fActinopteri\\u002fAcipenseriformes\",\"Metazoa\\u002fChordata\\u002fAves\\u002fAccipitriformes\",\"Metazoa\\u002fChordata\\u002fActinopteri\\u002fAcanthuriformes\",\"unknown\\u002funknown\\u002fChoanoflagellata\\u002fAcanthoecida\",\"unknown\\u002fDiscosea\",\"unknown\\u002fPerkinsozoa\\u002funknown\",\"unknown\\u002funknown\\u002funknown\\u002fApusomonadida\",\"Metazoa\\u002fDicyemida\",\"Metazoa\\u002fArthropoda\\u002fInsecta\\u002fBlattodea\",\"Fungi\\u002fBlastocladiomycota\\u002fBlastocladiomycetes\\u002fBlastocladiales\",\"Viridiplantae\\u002fStreptophyta\\u002fMarchantiopsida\\u002fBlasiales\",\"Metazoa\\u002fCnidaria\\u002fMyxozoa\\u002fBivalvulida\",\"Metazoa\\u002fCtenophora\\u002fNuda\\u002fBeroida\",\"unknown\\u002fundef\\u002funknown\",\"Metazoa\\u002fChordata\\u002fActinopteri\\u002fBeloniformes\",\"unknown\\u002fRhodophyta\\u002fFlorideophyceae\\u002fBatrachospermales\",\"Fungi\\u002funknown\\u002funknown\",\"Fungi\\u002fZoopagomycota\\u002fBasidiobolomycetes\\u002fBasidiobolales\",\"Viridiplantae\\u002fStreptophyta\\u002fBryopsida\\u002fBartramiales\",\"Fungi\\u002fBasidiomycota\\u002fBartheletiomycetes\\u002fBartheletiales\",\"unknown\\u002funknown\\u002funknown\",\"Metazoa\\u002fAcanthocephala\",\"Viridiplantae\\u002fStreptophyta\\u002fMagnoliopsida\\u002fAustrobaileyales\",\"Fungi\\u002fAscomycota\",\"Fungi\\u002fBasidiomycota\\u002fAgaricomycetes\\u002fAtheliales\",\"Metazoa\\u002fBryozoa\",\"unknown\\u002fCercozoa\",\"Viridiplantae\\u002fStreptophyta\\u002fMagnoliopsida\\u002fAsparagales\",\"Metazoa\\u002fChordata\\u002fMammalia\\u002fArtiodactyla\",\"Viridiplantae\\u002fStreptophyta\\u002fMagnoliopsida\\u002fArecales\",\"Metazoa\\u002fChordata\",\"unknown\\u002fChordata\",\"unknown\\u002fApicomplexa\\u002fConoidasida\\u002fArchigregarinorida\",\"unknown\\u002fTubulinea\\u002fElardia\\u002fArcellinida\",\"Metazoa\\u002fCtenophora\",\"Viridiplantae\\u002fStreptophyta\\u002fMagnoliopsida\\u002fAquifoliales\",\"unknown\\u002fRhodophyta\\u002fFlorideophyceae\\u002fCorallinales\",\"Viridiplantae\\u002fChlorophyta\\u002fChlorophyceae\\u002fChlamydomonadales\",\"Metazoa\\u002fCtenophora\\u002fTentaculata\\u002fCydippida\",\"unknown\\u002fCiliophora\\u002fColpodea\\u002fCyrtolophosidida\",\"Viridiplantae\\u002fChlorophyta\\u002fMamiellophyceae\\u002fDolichomastigales\",\"Viridiplantae\\u002fStreptophyta\\u002fPolypodiopsida\",\"Metazoa\\u002fAcanthocephala\\u002fPalaeacanthocephala\\u002fEchinorhynchida\",\"unknown\\u002funknown\\u002fPhaeophyceae\\u002fEctocarpales\",\"Metazoa\\u002fChordata\\u002fActinopteri\\u002fElopiformes\",\"Metazoa\\u002fArthropoda\\u002fInsecta\\u002fEmbioptera\",\"Fungi\\u002fAscomycota\\u002fOrbiliomycetes\",\"Metazoa\\u002fArthropoda\\u002fProtura\",\"Metazoa\\u002fArthropoda\\u002fHexanauplia\\u002fCyclopoida\",\"Metazoa\\u002fPlatyhelminthes\\u002fCestoda\\u002fCyclophyllidea\",\"unknown\\u002fBacillariophyta\\u002fFragilariophyceae\\u002fCyclophorales\",\"Viridiplantae\\u002fStreptophyta\\u002fBryopsida\\u002fEncalyptales\",\"Metazoa\\u002fAnnelida\\u002fClitellata\\u002fEnchytraeida\",\"Fungi\\u002fMucoromycota\\u002fEndogonomycetes\\u002fEndogonales\",\"Metazoa\\u002fMollusca\\u002fGastropoda\\u002fCycloneritida\",\"Viridiplantae\\u002fStreptophyta\\u002fCycadopsida\\u002fCycadales\",\"Fungi\\u002fBasidiomycota\\u002fCystobasidiomycetes\\u002fCystobasidiales\",\"Fungi\\u002fZoopagomycota\\u002fEntomophthoromycetes\\u002fEntomophthorales\",\"Fungi\\u002fAscomycota\\u002fPneumocystomycetes\",\"unknown\\u002funknown\\u002fPinguiophyceae\",\"Viridiplantae\\u002fStreptophyta\\u002fMagnoliopsida\\u002fDilleniales\",\"Fungi\\u002fZoopagomycota\\u002fDimargaritomycetes\\u002fDimargaritales\",\"unknown\\u002funknown\\u002fDinophyceae\\u002fDinophysales\",\"Metazoa\\u002fAcanthocephala\\u002fPalaeacanthocephala\",\"Metazoa\\u002fNematoda\\u002fEnoplea\\u002fDioctophymatida\",\"Metazoa\\u002fNematoda\\u002fChromadorea\\u002fDesmodorida\",\"Viridiplantae\\u002fChlorophyta\\u002fPedinophyceae\",\"unknown\\u002funknown\\u002fPhaeophyceae\\u002fDesmarestiales\",\"Fungi\\u002fAscomycota\\u002fSchizosaccharomycetes\",\"Metazoa\\u002fArthropoda\\u002fInsecta\\u002fDermaptera\",\"Viridiplantae\\u002fStreptophyta\\u002fMagnoliopsida\\u002fDioscoreales\",\"Metazoa\\u002fPlatyhelminthes\\u002fCestoda\\u002fDiphyllobothriidea\",\"Metazoa\\u002fNemertea\\u002fPilidiophora\",\"unknown\\u002fEuglenozoa\\u002funknown\\u002fDiplonemea\",\"Metazoa\\u002fChordata\\u002fMyxini\",\"Metazoa\\u002fChordata\\u002fMammalia\\u002fDasyuromorphia\",\"Metazoa\\u002fChordata\\u002fMammalia\\u002fDiprotodontia\",\"Fungi\\u002fMucoromycota\\u002fGlomeromycetes\\u002fDiversisporales\",\"unknown\\u002funknown\\u002fCryptophyceae\\u002fCyathomonadacea\",\"Viridiplantae\\u002fChlorophyta\\u002fNephroselmidophyceae\",\"Metazoa\\u002fPlatyhelminthes\\u002fRhabditophora\",\"unknown\\u002funknown\\u002fRaphidophyceae\",\"Viridiplantae\\u002fStreptophyta\\u002fPolypodiopsida\\u002fEquisetales\",\"Viridiplantae\\u002fStreptophyta\\u002fMagnoliopsida\\u002fEricales\",\"Viridiplantae\\u002fStreptophyta\\u002fMagnoliopsida\",\"Viridiplantae\\u002fStreptophyta\\u002fMagnoliopsida\\u002fCrossosomatales\",\"Metazoa\\u002fArthropoda\\u002fInsecta\\u002fEphemeroptera\",\"Metazoa\\u002fArthropoda\\u002fMalacostraca\",\"Viridiplantae\\u002fChlorophyta\\u002fPyramimonadophyceae\",\"Metazoa\\u002fChordata\\u002fAves\\u002fCuculiformes\",\"unknown\\u002funknown\\u002fChoanoflagellata\\u002fCraspedida\",\"Fungi\\u002fBasidiomycota\\u002fMalasseziomycetes\",\"Viridiplantae\\u002fStreptophyta\\u002fMagnoliopsida\\u002fCucurbitales\",\"Fungi\\u002fAscomycota\\u002fDothideomycetes\\u002fEremomycetales\",\"unknown\\u002fRhodophyta\\u002fBangiophyceae\\u002fCyanidiales\",\"Viridiplantae\\u002fStreptophyta\\u002fPolypodiopsida\\u002fCyatheales\",\"Fungi\\u002fBasidiomycota\\u002fAgaricomycetes\\u002fCorticiales\",\"unknown\\u002fRhodophyta\\u002fRhodellophyceae\",\"Metazoa\\u002fChordata\\u002fMammalia\",\"unknown\\u002fApicomplexa\",\"Metazoa\\u002fArthropoda\\u002fMalacostraca\\u002fTanaidacea\",\"unknown\\u002fChlorophyta\",\"Metazoa\\u002fChordata\\u002fAves\\u002fStruthioniformes\",\"Fungi\\u002fAscomycota\\u002fNeolectomycetes\",\"Fungi\\u002fMucoromycota\\u002fMucoromycetes\",\"Fungi\\u002fZoopagomycota\",\"unknown\\u002fundef\",\"Metazoa\\u002fCnidaria\\u002fMyxozoa\",\"Metazoa\",\"unknown\\u002funknown\\u002fSynurophyceae\\u002fSynurales\",\"Fungi\\u002fChytridiomycota\\u002fNeocallimastigomycetes\",\"Fungi\\u002fBasidiomycota\\u002fAgaricomycetes\\u002fRussulales\",\"Metazoa\\u002fBrachiopoda\",\"Fungi\\u002fBlastocladiomycota\",\"unknown\\u002fAscomycota\",\"Metazoa\\u002fChordata\\u002fThaliacea\\u002fSalpida\",\"Metazoa\\u002fPlatyhelminthes\\u002fTrematoda\\u002fStrigeidida\",\"Fungi\\u002fAscomycota\\u002fSaccharomycetes\\u002fSaccharomycetales\",\"Viridiplantae\\u002fStreptophyta\\u002fJungermanniopsida\",\"Metazoa\\u002fArthropoda\",\"Viridiplantae\\u002fStreptophyta\\u002fLycopodiopsida\",\"Metazoa\\u002fBrachiopoda\\u002fLingulata\",\"unknown\\u002fCiliophora\\u002fLitostomatea\",\"Metazoa\\u002fAnnelida\",\"Fungi\\u002fZoopagomycota\\u002fHarpellomycetes\",\"Metazoa\\u002fArthropoda\\u002fMalacostraca\\u002fStomatopoda\",\"Metazoa\\u002fArthropoda\\u002fInsecta\\u002fStrepsiptera\",\"unknown\\u002fPerkinsozoa\",\"unknown\\u002fApicomplexa\\u002fMarosporida\",\"unknown\\u002fParabasalia\",\"Metazoa\\u002fChordata\\u002fActinopteri\\u002fSiluriformes\",\"unknown\\u002fOomycota\",\"Viridiplantae\\u002fStreptophyta\\u002fMagnoliopsida\\u002fSolanales\",\"Metazoa\\u002fOnychophora\",\"Metazoa\\u002fPhoronida\",\"Metazoa\\u002fArthropoda\\u002fHexanauplia\",\"unknown\\u002fPreaxostyla\",\"Metazoa\\u002fEchinodermata\\u002fHolothuroidea\",\"Metazoa\\u002fPorifera\\u002fHomoscleromorpha\",\"Metazoa\\u002fPriapulida\",\"Viridiplantae\\u002fStreptophyta\\u002fMarchantiopsida\\u002fSphaerocarpales\",\"Metazoa\\u002fArthropoda\\u002fIchthyostraca\",\"Metazoa\\u002fAnnelida\\u002fPolychaeta\\u002fSpionida\",\"Fungi\\u002fMucoromycota\\u002fGlomeromycetes\",\"Fungi\\u002fBasidiomycota\\u002fMixiomycetes\",\"unknown\\u002fOomycota\\u002funknown\\u002fSaprolegniales\",\"unknown\\u002fCiliophora\\u002fHeterotrichea\",\"Fungi\\u002fChytridiomycota\",\"unknown\\u002fCiliophora\",\"unknown\\u002funknown\\u002fFilasterea\",\"Fungi\\u002fMucoromycota\\u002fMortierellomycetes\",\"Fungi\\u002fBasidiomycota\\u002fMicrobotryomycetes\",\"unknown\\u002fRhodophyta\\u002fFlorideophyceae\",\"Metazoa\\u002fArthropoda\\u002fMerostomata\",\"Metazoa\\u002fChordata\\u002fMammalia\\u002fScandentia\",\"Metazoa\\u002fEntoprocta\",\"unknown\\u002fEvosea\",\"Metazoa\\u002fHemichordata\",\"unknown\\u002fRhodophyta\",\"Metazoa\\u002fCnidaria\\u002fScyphozoa\",\"unknown\\u002funknown\\u002fBigyra\\u002fThraustochytrida\",\"Metazoa\\u002fArthropoda\\u002fOstracoda\",\"Metazoa\\u002fArthropoda\\u002fPycnogonida\",\"Metazoa\\u002fXenacoelomorpha\\u002funknown\\u002funknown\",\"unknown\\u002fundef\\u002funknown\\u002funknown\",\"Fungi\\u002fZoopagomycota\\u002fZoopagomycetes\\u002fZoopagales\",\"Fungi\\u002fBasidiomycota\\u002fUstilaginomycetes\",\"unknown\\u002fEvosea\\u002fVariosea\",\"Fungi\\u002funknown\\u002funknown\\u002funknown\",\"unknown\\u002funknown\\u002funknown\\u002funknown\",\"Viridiplantae\\u002fStreptophyta\\u002fMagnoliopsida\\u002fZygophyllales\",\"Metazoa\\u002fChordata\\u002fAmphibia\",\"Metazoa\\u002fArthropoda\\u002fMerostomata\\u002fXiphosura\",\"Viridiplantae\\u002fStreptophyta\\u002fGnetopsida\\u002fWelwitschiales\",\"Viridiplantae\\u002fStreptophyta\\u002fMagnoliopsida\\u002fVitales\",\"unknown\\u002funknown\\u002fXanthophyceae\",\"Fungi\\u002fAscomycota\\u002fXylonomycetes\",\"Metazoa\\u002fCnidaria\\u002fAnthozoa\",\"Fungi\\u002fZoopagomycota\\u002fZoopagomycetes\",\"unknown\\u002funknown\\u002fXanthophyceae\\u002fVaucheriales\",\"Fungi\\u002fAscomycota\\u002fXylonomycetes\\u002fXylonales\",\"Metazoa\\u002fChordata\\u002fActinopteri\\u002funknown\",\"unknown\\u002fEndomyxa\\u002fAscetosporea\\u002funknown\",\"unknown\\u002funknown\\u002fBolidophyceae\\u002funknown\",\"Fungi\\u002fAscomycota\\u002fSordariomycetes\",\"Fungi\\u002fAscomycota\\u002fSordariomycetes\\u002funknown\",\"Viridiplantae\\u002fStreptophyta\\u002fMesostigmatophyceae\\u002funknown\",\"Metazoa\\u002fArthropoda\\u002fSymphyla\\u002funknown\",\"Fungi\\u002fAscomycota\\u002funknown\\u002funknown\",\"unknown\\u002fAscomycota\\u002funknown\\u002funknown\",\"Viridiplantae\\u002fChlorophyta\\u002funknown\\u002funknown\",\"Metazoa\\u002fEchinodermata\\u002fEchinoidea\\u002funknown\",\"unknown\\u002funknown\\u002fSynchromophyceae\",\"unknown\\u002fChordata\\u002funknown\\u002funknown\",\"Metazoa\\u002fArthropoda\\u002fRemipedia\",\"Metazoa\\u002fCtenophora\\u002funknown\\u002funknown\",\"Metazoa\\u002fChordata\\u002fThaliacea\",\"Fungi\\u002fChytridiomycota\\u002fChytridiomycetes\\u002funknown\",\"Metazoa\\u002fArthropoda\\u002fThecostraca\",\"Metazoa\\u002fDicyemida\\u002funknown\\u002funknown\",\"Metazoa\\u002fPlatyhelminthes\\u002fTrematoda\",\"Fungi\\u002fMicrosporidia\\u002funknown\\u002funknown\",\"Metazoa\\u002fPhoronida\\u002funknown\\u002funknown\",\"Viridiplantae\\u002fStreptophyta\\u002fZygnemophyceae\",\"Metazoa\\u002fCtenophora\\u002fNuda\",\"unknown\\u002fApicomplexa\\u002funknown\",\"Metazoa\\u002fPriapulida\\u002fPriapulimorpha\",\"Viridiplantae\\u002fChlorophyta\\u002fChloropicophyceae\",\"Fungi\\u002fChytridiomycota\\u002fChytridiomycetes\",\"unknown\\u002fHeterolobosea\\u002funknown\",\"Metazoa\\u002fChordata\\u002fAves\\u002fTinamiformes\",\"unknown\\u002fOomycota\\u002funknown\",\"Fungi\\u002fBasidiomycota\\u002fExobasidiomycetes\\u002fTilletiales\",\"Viridiplantae\\u002fChlorophyta\\u002fPicocystophyceae\",\"unknown\\u002funknown\\u002fPhaeophyceae\",\"Metazoa\\u002fChordata\\u002fChondrichthyes\\u002fTorpediniformes\",\"Fungi\\u002fAscomycota\\u002fPezizomycetes\",\"Metazoa\\u002fPhoronida\\u002funknown\",\"Metazoa\\u002fEchinodermata\\u002fCrinoidea\",\"Metazoa\\u002fArthropoda\\u002fPauropoda\",\"Metazoa\\u002fChordata\\u002funknown\\u002fTestudines\",\"Fungi\\u002fBasidiomycota\\u002fCystobasidiomycetes\",\"unknown\\u002fPreaxostyla\\u002funknown\",\"Metazoa\\u002fPorifera\\u002fDemospongiae\",\"Fungi\\u002fAscomycota\\u002fTaphrinomycetes\\u002fTaphrinales\",\"unknown\\u002funknown\\u002fPelagophyceae\",\"unknown\\u002fFornicata\\u002funknown\",\"Fungi\\u002fBasidiomycota\\u002fTremellomycetes\\u002fTremellales\",\"Viridiplantae\\u002fChlorophyta\\u002fChlorodendrophyceae\",\"Viridiplantae\\u002fPrasinodermophyta\\u002fPrasinodermophyceae\",\"Viridiplantae\\u002fStreptophyta\\u002fPolytrichopsida\",\"unknown\\u002funknown\\u002fBigyra\",\"Viridiplantae\\u002fChlorophyta\\u002fUlvophyceae\\u002fUlvales\",\"Fungi\\u002fBlastocladiomycota\\u002fBlastocladiomycetes\",\"unknown\\u002fChlorophyta\\u002funknown\",\"Metazoa\\u002fAnnelida\\u002fClitellata\\u002fTubificida\",\"unknown\\u002funknown\\u002fBolidophyceae\",\"Metazoa\\u002fDicyemida\\u002funknown\",\"Metazoa\\u002fMollusca\\u002fPolyplacophora\",\"Metazoa\\u002fEntoprocta\\u002funknown\",\"Viridiplantae\\u002fStreptophyta\\u002fBryopsida\",\"Fungi\\u002fBasidiomycota\\u002fTremellomycetes\\u002fTrichosporonales\",\"Metazoa\\u002fArthropoda\\u002fInsecta\\u002fTrichoptera\",\"Metazoa\\u002fPorifera\\u002fCalcarea\",\"Metazoa\\u002fPlacozoa\\u002fUniplacotomia\\u002fTrichoplacea\",\"unknown\\u002fEvosea\\u002funknown\",\"unknown\\u002fForaminifera\\u002funknown\",\"Viridiplantae\\u002fStreptophyta\\u002fHaplomitriopsida\\u002fTreubiales\",\"Metazoa\\u002fArthropoda\\u002funknown\",\"Fungi\\u002fAscomycota\\u002fEurotiomycetes\",\"Metazoa\\u002fAnnelida\\u002fClitellata\\u002fAcanthobdellida\",\"Fungi\\u002fAscomycota\\u002fLeotiomycetes\\u002fHelotiales\",\"unknown\\u002fApicomplexa\\u002fConoidasida\\u002fEugregarinorida\",\"Metazoa\\u002fArthropoda\\u002fDiplopoda\\u002fChordeumatida\",\"Metazoa\\u002fArthropoda\\u002fInsecta\\u002fOrthoptera\",\"Metazoa\\u002fChordata\\u002fMammalia\\u002fEulipotyphla\",\"Metazoa\\u002fMollusca\\u002fBivalvia\\u002fOstreida\",\"Metazoa\\u002fOnychophora\\u002fUdeonychophora\\u002fEuonychophora\",\"Viridiplantae\\u002fChlorophyta\\u002fChlorodendrophyceae\\u002fChlorodendrales\",\"Metazoa\\u002fMollusca\\u002fPolyplacophora\\u002fChitonida\",\"Metazoa\\u002fArthropoda\\u002fMalacostraca\\u002fEuphausiacea\",\"Metazoa\\u002fChordata\\u002fActinopteri\\u002fChaetodontiformes\",\"Metazoa\\u002fArthropoda\\u002fPycnogonida\\u002fPantopoda\",\"unknown\\u002fEuglenozoa\\u002fKinetoplastea\\u002fParabodonida\",\"unknown\\u002fEuglenozoa\\u002fEuglenida\\u002fEutreptiales\",\"Fungi\\u002fAscomycota\\u002fDothideomycetes\\u002fPatellariales\",\"Viridiplantae\\u002fStreptophyta\\u002fGnetopsida\\u002fEphedrales\",\"unknown\\u002fHaptophyta\\u002funknown\\u002fPavlovales\",\"Viridiplantae\\u002fStreptophyta\\u002fMagnoliopsida\\u002fFabales\",\"unknown\\u002funknown\\u002fPhaeophyceae\\u002fLaminariales\",\"Metazoa\\u002fChordata\\u002fActinopteri\\u002fLabriformes\",\"Metazoa\\u002fChordata\\u002fMammalia\\u002fCarnivora\",\"Metazoa\\u002fChordata\\u002fAves\\u002fCariamiformes\",\"Metazoa\\u002fChordata\\u002fActinopteri\\u002fPerciformes\",\"Metazoa\\u002fCnidaria\\u002fMyxozoa\\u002fMalacovalvulida\",\"Fungi\\u002fAscomycota\\u002fPezizomycetes\\u002fPezizales\",\"Metazoa\\u002fChordata\\u002fAves\\u002fFalconiformes\",\"Metazoa\\u002fChordata\\u002fAves\\u002fPhaethontiformes\",\"Metazoa\\u002fArthropoda\\u002fInsecta\\u002fPhasmatodea\",\"Metazoa\\u002fArthropoda\\u002fInsecta\\u002fPhthiraptera\",\"Metazoa\\u002fEchinodermata\\u002fEchinoidea\\u002fCamarodonta\",\"Viridiplantae\\u002fStreptophyta\\u002fPinopsida\\u002fPinales\",\"Fungi\\u002fBasidiomycota\\u002fExobasidiomycetes\\u002fCeraceosorales\",\"Viridiplantae\\u002fStreptophyta\\u002fMagnoliopsida\\u002fPiperales\",\"Viridiplantae\\u002fStreptophyta\\u002fColeochaetophyceae\\u002fColeochaetales\",\"Viridiplantae\\u002fChlorophyta\\u002fChlorophyceae\\u002fOedogoniales\",\"unknown\\u002funknown\\u002fDictyochophyceae\\u002fDictyochales\",\"Viridiplantae\\u002fStreptophyta\\u002fMarchantiopsida\\u002fMarchantiales\",\"Viridiplantae\\u002fStreptophyta\\u002fZygnemophyceae\\u002fDesmidiales\",\"Metazoa\\u002fEchinodermata\\u002fHolothuroidea\\u002fDendrochirotida\",\"Metazoa\\u002fChordata\\u002fMammalia\\u002fDidelphimorphia\",\"Viridiplantae\\u002fStreptophyta\\u002fBryopsida\\u002fDiphysciales\",\"Metazoa\\u002fChordata\\u002fMammalia\\u002fMicrobiotheria\",\"Metazoa\\u002fArthropoda\\u002fBranchiopoda\\u002fDiplostraca\",\"Viridiplantae\\u002fStreptophyta\\u002fMarchantiopsida\\u002fLunulariales\",\"Metazoa\\u002fChordata\\u002fMammalia\\u002fMonotremata\",\"Fungi\\u002fMucoromycota\\u002fMucoromycetes\\u002fMucorales\",\"Metazoa\\u002fChordata\\u002fActinopteri\\u002fMugiliformes\",\"Viridiplantae\\u002fStreptophyta\\u002fMagnoliopsida\\u002fDipsacales\",\"Fungi\\u002fBasidiomycota\\u002fCystobasidiomycetes\\u002fCyphobasidiales\",\"Metazoa\\u002fArthropoda\\u002fInsecta\\u002fColeoptera\",\"Viridiplantae\\u002fStreptophyta\\u002fMagnoliopsida\\u002fMyrtales\",\"Metazoa\\u002fMollusca\\u002fBivalvia\\u002fMytilida\",\"unknown\\u002fRhodophyta\\u002fRhodellophyceae\\u002fDixoniellales\",\"Metazoa\\u002fChordata\\u002funknown\\u002fCrocodylia\",\"unknown\\u002fBacillariophyta\\u002fBacillariophyceae\\u002fNaviculales\",\"Metazoa\\u002fAnnelida\\u002fClitellata\\u002fCrassiclitellata\",\"unknown\\u002fRhodophyta\\u002fFlorideophyceae\\u002fNemastomatales\",\"Fungi\\u002fAscomycota\\u002fDothideomycetes\\u002fDothideales\",\"Metazoa\\u002fMollusca\\u002fGastropoda\\u002fNeogastropoda\",\"Viridiplantae\\u002fStreptophyta\\u002fMagnoliopsida\\u002fCornales\",\"unknown\\u002fBacillariophyta\\u002fCoscinodiscophyceae\\u002fCorethrales\",\"Fungi\\u002fAscomycota\\u002fNeolectomycetes\\u002fNeolectales\",\"Fungi\\u002fMucoromycota\\u002fGlomeromycetes\\u002fEntrophosporales\",\"Metazoa\\u002fMollusca\\u002fCephalopoda\\u002fOctopoda\",\"Metazoa\\u002fArthropoda\\u002fInsecta\\u002fOdonata\",\"Metazoa\\u002fArthropoda\\u002fInsecta\\u002fDiptera\",\"Metazoa\\u002fEchinodermata\\u002fAsteroidea\\u002fForcipulatida\",\"Metazoa\\u002fChordata\\u002fActinopteri\\u002fCarangiformes\",\"Metazoa\\u002fChordata\\u002fAves\\u002fApterygiformes\",\"Metazoa\\u002fArthropoda\\u002fIchthyostraca\\u002fArguloida\",\"Viridiplantae\\u002fStreptophyta\\u002fGinkgoopsida\\u002fGinkgoales\",\"Fungi\\u002fAscomycota\\u002fSordariomycetes\\u002fHypocreales\",\"unknown\\u002fCercozoa\\u002funknown\\u002fGlissomonadida\",\"Viridiplantae\\u002fStreptophyta\\u002fPinopsida\\u002fAraucariales\",\"Viridiplantae\\u002fStreptophyta\\u002fBryopsida\\u002fHypnodendrales\",\"Viridiplantae\\u002fStreptophyta\\u002fMagnoliopsida\\u002fApiales\",\"unknown\\u002fCiliophora\\u002fProstomatea\\u002fProrodontida\",\"Fungi\\u002fBasidiomycota\\u002fAgaricomycetes\\u002fHymenochaetales\",\"Metazoa\\u002fArthropoda\\u002fInsecta\\u002fPsocoptera\",\"unknown\\u002funknown\\u002fCentroplasthelida\\u002fPterocystida\",\"Viridiplantae\\u002fStreptophyta\\u002fAndreaeopsida\\u002fAndreaeales\",\"Metazoa\\u002fChordata\\u002fActinopteri\\u002fAnabantiformes\",\"Viridiplantae\\u002fStreptophyta\\u002fBryopsida\\u002fGrimmiales\",\"Viridiplantae\\u002fStreptophyta\\u002fMagnoliopsida\\u002fAlismatales\",\"unknown\\u002funknown\\u002fDinophyceae\\u002fGymnodiniales\",\"Metazoa\\u002fChordata\\u002fAmphibia\\u002fGymnophiona\",\"unknown\\u002fApicomplexa\\u002fMarosporida\\u002fAgamococcidiorida\",\"Metazoa\\u002fChordata\\u002fActinopteri\\u002fGymnotiformes\",\"unknown\\u002fApicomplexa\\u002fAconoidasida\\u002fHaemosporida\",\"unknown\\u002fRhodophyta\\u002fFlorideophyceae\\u002fAcrosymphytales\",\"unknown\\u002fRhodophyta\\u002fFlorideophyceae\\u002fHapalidiales\",\"Metazoa\\u002fChordata\\u002fActinopteri\\u002fAcropomatiformes\",\"unknown\\u002fRhodophyta\\u002fRhodellophyceae\\u002fRhodellales\",\"unknown\\u002fRhodophyta\\u002fFlorideophyceae\\u002fRhodogorgonales\",\"Viridiplantae\\u002fChlorophyta\\u002fPalmophyllophyceae\\u002fPrasinococcales\",\"Viridiplantae\\u002fStreptophyta\\u002fBryopsida\\u002fPottiales\",\"Metazoa\\u002fPorifera\\u002fDemospongiae\\u002fDictyoceratida\",\"Viridiplantae\\u002fStreptophyta\\u002fMagnoliopsida\\u002fGeraniales\",\"unknown\\u002fRhodophyta\\u002fBangiophyceae\\u002fBangiales\",\"unknown\\u002fRhodophyta\\u002fFlorideophyceae\\u002fGelidiales\",\"unknown\\u002fBacillariophyta\\u002fBacillariophyceae\\u002fBacillariales\",\"Metazoa\\u002fMollusca\\u002fGastropoda\\u002fPleurobranchida\",\"Metazoa\\u002fArthropoda\\u002fThecostraca\\u002fPollicipedomorpha\",\"Viridiplantae\",\"unknown\\u002fRhodophyta\\u002fFlorideophyceae\\u002fPlocamiales\",\"Metazoa\\u002fArthropoda\\u002fDiplopoda\\u002fJulida\",\"Metazoa\\u002fArthropoda\\u002fThecostraca\\u002fBalanomorpha\",\"Metazoa\\u002fEchinodermata\\u002fHolothuroidea\\u002fAspidochirotida\",\"Metazoa\\u002fArthropoda\\u002fChilopoda\\u002fGeophilomorpha\",\"unknown\\u002fRhodophyta\\u002fBangiophyceae\\u002fPorphyridiales\",\"Fungi\\u002fBasidiomycota\\u002fAgaricomycetes\\u002fAuriculariales\",\"Fungi\\u002fBasidiomycota\\u002fAgaricomycetes\\u002fBoletales\",\"Fungi\\u002fAscomycota\\u002fPneumocystomycetes\\u002fPneumocystales\",\"Metazoa\\u002fChordata\\u002fActinopteri\\u002fAulopiformes\",\"Metazoa\\u002fChordata\\u002fActinopteri\\u002fGonorynchiformes\",\"Fungi\\u002fChytridiomycota\\u002fMonoblepharidomycetes\",\"Fungi\\u002fBasidiomycota\\u002fDacrymycetes\",\"Fungi\\u002fAscomycota\\u002fGeoglossomycetes\",\"Metazoa\\u002fArthropoda\\u002funknown\\u002fDiplura\",\"unknown\\u002fFornicata\\u002funknown\\u002fDiplomonadida\",\"unknown\\u002fNebulidia\\u002fNebulidea\",\"unknown\\u002funknown\\u002fDictyochophyceae\\u002fFlorenciellales\",\"Viridiplantae\\u002fStreptophyta\\u002fMagnoliopsida\\u002fGarryales\",\"unknown\\u002funknown\\u002fPhaeophyceae\\u002fDictyotales\",\"unknown\\u002fBacillariophyta\\u002fCoscinodiscophyceae\",\"Metazoa\\u002fChordata\\u002fMammalia\\u002fRodentia\",\"unknown\\u002fEvosea\\u002fEumycetozoa\\u002fDictyosteliales\",\"unknown\\u002fCiliophora\\u002fColpodea\",\"Metazoa\\u002fEchinodermata\\u002fOphiuroidea\",\"Metazoa\\u002fChordata\\u002fAves\\u002fGaviiformes\",\"Viridiplantae\\u002fStreptophyta\\u002fMagnoliopsida\\u002fGentianales\",\"Viridiplantae\\u002fStreptophyta\\u002fMesostigmatophyceae\",\"Viridiplantae\\u002fStreptophyta\\u002fGnetopsida\\u002fGnetales\",\"Fungi\\u002fBasidiomycota\\u002fExobasidiomycetes\",\"unknown\\u002fDiscosea\\u002fFlabellinia\",\"unknown\\u002funknown\\u002fGlaucocystophyceae\\u002fGlaucocystales\",\"unknown\\u002fEvosea\\u002fEumycetozoa\",\"unknown\\u002fBacillariophyta\\u002fFragilariophyceae\",\"unknown\\u002fEuglenozoa\\u002fKinetoplastea\",\"Viridiplantae\\u002fStreptophyta\\u002fKlebsormidiophyceae\",\"unknown\\u002funknown\\u002fIchthyosporea\",\"Metazoa\\u002fChordata\\u002fLepidosauria\",\"unknown\\u002fCercozoa\\u002fImbricatea\\u002fEuglyphida\",\"Viridiplantae\\u002fStreptophyta\\u002fMagnoliopsida\\u002fEscalloniales\",\"Metazoa\\u002fChordata\\u002fActinopteri\\u002fGobiiformes\",\"Metazoa\\u002fChordata\\u002fHyperoartia\",\"Viridiplantae\\u002fStreptophyta\\u002fGnetopsida\",\"Viridiplantae\\u002fChlorophyta\\u002fMamiellophyceae\",\"unknown\\u002funknown\\u002fGlaucocystophyceae\\u002fGloeochaetales\",\"Fungi\\u002fMucoromycota\\u002fGlomeromycetes\\u002fGlomerales\",\"Viridiplantae\\u002fStreptophyta\\u002fMarchantiopsida\",\"Metazoa\\u002fArthropoda\\u002fCollembola\\u002fEntomobryomorpha\",\"unknown\\u002fBacillariophyta\\u002fMediophyceae\",\"Fungi\\u002fMucoromycota\\u002fEndogonomycetes\",\"unknown\\u002fTubulinea\\u002fElardia\",\"Viridiplantae\\u002fStreptophyta\\u002fMagnoliopsida\\u002fFagales\",\"Fungi\\u002fAscomycota\\u002fDothideomycetes\",\"Fungi\\u002fBasidiomycota\\u002fExobasidiomycetes\\u002fExobasidiales\",\"unknown\\u002fRhodophyta\\u002fBangiophyceae\\u002fGaldieriales\",\"Viridiplantae\\u002fStreptophyta\\u002fMagnoliopsida\\u002fRosales\",\"Viridiplantae\\u002fChlorophyta\\u002fPalmophyllophyceae\",\"Metazoa\\u002fCnidaria\",\"Metazoa\\u002fArthropoda\\u002fInsecta\\u002fArchaeognatha\",\"Metazoa\\u002fMollusca\\u002fGastropoda\\u002fArchitaenioglossa\",\"Metazoa\\u002fMollusca\\u002fBivalvia\\u002fArcoida\",\"Viridiplantae\\u002fChlorophyta\",\"Viridiplantae\\u002fStreptophyta\\u002fMagnoliopsida\\u002fAsterales\",\"Fungi\\u002fAscomycota\\u002fDothideomycetes\\u002fAulographales\",\"Fungi\\u002fCryptomycota\",\"Fungi\\u002fBasidiomycota\",\"Metazoa\\u002fPorifera\\u002fDemospongiae\\u002fAxinellida\",\"unknown\\u002fRhodophyta\\u002fFlorideophyceae\\u002fBalbianiales\",\"Metazoa\\u002fChordata\\u002fActinopteri\\u002fBatrachoidiformes\",\"Viridiplantae\\u002fStreptophyta\\u002fMagnoliopsida\\u002fBerberidopsidales\",\"unknown\\u002funknown\\u002fBigyra\\u002fBicosoecida\",\"unknown\\u002fPlacozoa\\u002funknown\",\"Metazoa\\u002fAnnelida\\u002fClitellata\\u002fBranchiobdellida\",\"unknown\\u002fBacillariophyta\",\"Metazoa\\u002fArthropoda\\u002fArachnida\\u002fAraneae\",\"Metazoa\\u002fMollusca\\u002fGastropoda\\u002fAplysiida\",\"unknown\\u002fForaminifera\",\"Fungi\",\"Viridiplantae\\u002fStreptophyta\\u002fMagnoliopsida\\u002fAcorales\",\"unknown\\u002fRhodophyta\\u002fFlorideophyceae\\u002fAcrochaetiales\",\"unknown\\u002fTubulinea\",\"Viridiplantae\\u002fStreptophyta\",\"Metazoa\\u002fCnidaria\\u002fAnthozoa\\u002fActiniaria\",\"Viridiplantae\\u002fPrasinodermophyta\",\"Metazoa\\u002fPlatyhelminthes\",\"unknown\\u002fPlacozoa\",\"Metazoa\\u002fArthropoda\\u002fArachnida\\u002fAmblypygi\",\"Metazoa\\u002fChordata\\u002fActinopteri\\u002fAmiiformes\",\"Metazoa\\u002fNematoda\",\"Metazoa\\u002fArthropoda\\u002fBranchiopoda\\u002fAnostraca\",\"Metazoa\\u002fMollusca\",\"Fungi\\u002fMicrosporidia\",\"unknown\\u002fHeterolobosea\",\"unknown\\u002fHaptophyta\",\"Viridiplantae\\u002fChlorophyta\\u002fUlvophyceae\\u002fBryopsidales\",\"Fungi\\u002fMicrosporidia\\u002funknown\",\"Viridiplantae\\u002fStreptophyta\\u002fMagnoliopsida\\u002fBuxales\",\"Fungi\\u002fAscomycota\\u002fDothideomycetes\\u002fCapnodiales\",\"Fungi\\u002fZoopagomycota\\u002fHarpellomycetes\\u002fHarpellales\",\"Metazoa\\u002fCnidaria\\u002fAnthozoa\\u002fCorallimorpharia\",\"Fungi\\u002fAscomycota\\u002fSaccharomycetes\",\"unknown\\u002fBacillariophyta\\u002fCoscinodiscophyceae\\u002fCoscinodiscales\",\"unknown\\u002fCiliophora\\u002fLitostomatea\\u002fCyclotrichida\",\"unknown\\u002fBacillariophyta\\u002fMediophyceae\\u002fCymatosirales\",\"Metazoa\\u002fChordata\\u002fActinopteri\\u002fCyprinodontiformes\",\"Fungi\\u002fBasidiomycota\\u002fTremellomycetes\\u002fCystofilobasidiales\",\"Metazoa\\u002fAnnelida\\u002fPolychaeta\",\"Fungi\\u002fBasidiomycota\\u002fDacrymycetes\\u002fDacrymycetales\",\"unknown\\u002fDiscosea\\u002fFlabellinia\\u002fDactylopodida\",\"Metazoa\\u002fArthropoda\\u002fMalacostraca\\u002fDecapoda\",\"Metazoa\\u002fPorifera\\u002fDemospongiae\\u002fDendroceratida\",\"unknown\\u002fEndomyxa\\u002fPhytomyxea\",\"Metazoa\\u002fBryozoa\\u002fPhylactolaemata\",\"Viridiplantae\\u002fStreptophyta\\u002fAnthocerotopsida\\u002fDendrocerotales\",\"Fungi\\u002fAscomycota\\u002fSordariomycetes\\u002fDiaporthales\",\"Fungi\\u002fAscomycota\\u002fSordariomycetes\\u002fConiochaetales\",\"Viridiplantae\\u002fStreptophyta\\u002fBryopsida\\u002fDicranales\",\"unknown\\u002funknown\\u002funknown\\u002fColponemida\",\"Fungi\\u002fAscomycota\\u002fTaphrinomycetes\",\"Viridiplantae\\u002fStreptophyta\\u002fMagnoliopsida\\u002fCaryophyllales\",\"Fungi\\u002fCryptomycota\\u002funknown\",\"unknown\\u002fChordata\\u002funknown\",\"unknown\\u002fEvosea\\u002fVariosea\\u002fCavosteliida\",\"unknown\\u002fCercozoa\\u002funknown\",\"unknown\\u002fAscomycota\\u002funknown\",\"Viridiplantae\\u002fStreptophyta\\u002fMagnoliopsida\\u002fCeratophyllales\",\"unknown\\u002fBacillariophyta\\u002fCoscinodiscophyceae\\u002fChaetocerotales\",\"Viridiplantae\\u002fStreptophyta\\u002fCharophyceae\\u002fCharales\",\"Viridiplantae\\u002fStreptophyta\\u002fChlorokybophyceae\\u002fChlorokybales\",\"Viridiplantae\\u002fChlorophyta\\u002fChlorophyceae\\u002fChlorosarcinales\",\"Metazoa\\u002fOnychophora\\u002fUdeonychophora\",\"Fungi\\u002fBasidiomycota\\u002fTremellomycetes\",\"Fungi\\u002fAscomycota\\u002fDothideomycetes\\u002fCladosporiales\",\"Metazoa\\u002fChordata\\u002fActinopteri\\u002fClupeiformes\",\"Metazoa\\u002fEchinodermata\\u002fEchinoidea\\u002fClypeasteroida\",\"Metazoa\\u002fChordata\\u002funknown\\u002fCoelacanthiformes\",\"Metazoa\\u002fChordata\\u002fAves\\u002fColiiformes\",\"Metazoa\\u002fChordata\\u002fAves\\u002fCoraciiformes\",\"Metazoa\\u002fChordata\\u002fCladistia\\u002fPolypteriformes\",\"Metazoa\\u002fNemertea\\u002fPilidiophora\\u002fHeteronemertea\",\"Metazoa\\u002fMollusca\\u002fCephalopoda\\u002funknown\",\"Metazoa\\u002fChordata\\u002fMammalia\\u002fSirenia\",\"Fungi\\u002fBasidiomycota\\u002fMicrobotryomycetes\\u002fMicrobotryales\",\"Metazoa\\u002fPriapulida\\u002fPriapulimorpha\\u002fPriapulimorphida\",\"Viridiplantae\\u002fChlorophyta\\u002fMamiellophyceae\\u002fMonomastigales\",\"Viridiplantae\\u002fChlorophyta\\u002fTrebouxiophyceae\\u002fPrasiolales\",\"unknown\\u002fCercozoa\\u002fChlorarachniophyceae\\u002funknown\",\"Metazoa\\u002fChordata\\u002fChondrichthyes\\u002fMyliobatiformes\",\"Viridiplantae\\u002fPrasinodermophyta\\u002fPrasinodermophyceae\\u002fPrasinodermales\",\"Viridiplantae\\u002fChlorophyta\\u002fChlorophyceae\\u002fSphaeropleales\",\"Metazoa\\u002fChordata\\u002fAves\\u002fSphenisciformes\",\"Fungi\\u002fBasidiomycota\\u002fUstilaginomycetes\\u002fViolaceomycetales\",\"Metazoa\\u002fArthropoda\\u002fDiplopoda\\u002fPolyxenida\",\"Metazoa\\u002fMollusca\\u002fCephalopoda\\u002fVampyromorpha\",\"Fungi\\u002fAscomycota\\u002fSordariomycetes\\u002fXylariales\",\"Metazoa\\u002fArthropoda\\u002fInsecta\\u002fMegaloptera\",\"Metazoa\\u002fArthropoda\\u002fHexanauplia\\u002fSiphonostomatoida\",\"unknown\\u002funknown\\u002fChrysophyceae\\u002funknown\",\"Metazoa\\u002fCtenophora\\u002fTentaculata\\u002fLobata\",\"Metazoa\\u002fChordata\\u002fActinopteri\\u002fSemionotiformes\",\"Metazoa\\u002fAnnelida\\u002fPolychaeta\\u002funknown\",\"Metazoa\\u002fPlatyhelminthes\\u002fRhabditophora\\u002fMacrostomida\",\"Fungi\\u002fAscomycota\\u002fSordariomycetes\\u002fMagnaporthales\",\"unknown\\u002fEuglenozoa\\u002fKinetoplastea\\u002funknown\",\"unknown\\u002funknown\\u002fDinophyceae\\u002fProrocentrales\",\"Metazoa\\u002fMollusca\\u002fGastropoda\\u002funknown\",\"Metazoa\\u002fArthropoda\\u002fInsecta\\u002fSiphonaptera\",\"Metazoa\\u002fCnidaria\\u002fHydrozoa\\u002fSiphonophorae\",\"Viridiplantae\\u002fStreptophyta\\u002fMagnoliopsida\\u002fMagnoliales\",\"Metazoa\\u002fCnidaria\\u002fAnthozoa\\u002fMalacalcyonacea\",\"Viridiplantae\\u002fStreptophyta\\u002fMagnoliopsida\\u002fMalvales\",\"Viridiplantae\\u002fChlorophyta\\u002fMamiellophyceae\\u002fMamiellales\",\"Metazoa\\u002fPlatyhelminthes\\u002fMonogenea\\u002fMazocraeidea\",\"Metazoa\\u002fEchinodermata\\u002fAsteroidea\\u002fValvatida\",\"unknown\\u002fCiliophora\\u002fSpirotrichea\\u002funknown\",\"Metazoa\\u002fChordata\\u002fLepidosauria\\u002fSquamata\",\"Viridiplantae\\u002fChlorophyta\\u002fNephroselmidophyceae\\u002fNephroselmidales\",\"Metazoa\\u002fPorifera\\u002fDemospongiae\\u002fSuberitida\",\"unknown\\u002funknown\\u002fDinophyceae\\u002fSuessiales\",\"unknown\\u002funknown\\u002fDinophyceae\\u002fOxyrrhinales\",\"Viridiplantae\\u002fStreptophyta\\u002fMagnoliopsida\\u002fPandanales\",\"Metazoa\\u002fTardigrada\\u002fEutardigrada\\u002fParachela\",\"Metazoa\\u002fEchinodermata\\u002fAsteroidea\\u002fPaxillosida\",\"Fungi\\u002fAscomycota\\u002fLecanoromycetes\\u002fOstropales\",\"Viridiplantae\\u002fChlorophyta\\u002fPicocystophyceae\\u002fPicocystales\",\"unknown\\u002funknown\\u002fDictyochophyceae\\u002fPedinellales\",\"unknown\\u002fBacillariophyta\\u002fCoscinodiscophyceae\\u002fThalassiosirales\",\"unknown\\u002fEvosea\\u002fEumycetozoa\\u002fPhysariida\",\"unknown\\u002fBacillariophyta\\u002fFragilariophyceae\\u002fThalassionemales\",\"Viridiplantae\\u002fStreptophyta\\u002fTetraphidopsida\\u002fTetraphidales\",\"Fungi\\u002fAscomycota\\u002fEurotiomycetes\\u002fPhaeomoniellales\",\"Metazoa\\u002fMollusca\\u002fBivalvia\\u002fPectinida\",\"Metazoa\\u002fMollusca\\u002fGastropoda\\u002fStylommatophora\",\"unknown\\u002fDiscosea\\u002funknown\\u002fStygamoebida\",\"Metazoa\\u002fPlatyhelminthes\\u002fTrematoda\\u002fPlagiorchiida\",\"Metazoa\\u002fArthropoda\\u002fCollembola\\u002fPoduromorpha\",\"Viridiplantae\\u002fStreptophyta\\u002fMagnoliopsida\\u002fPoales\",\"unknown\\u002fBacillariophyta\\u002fFragilariophyceae\\u002fStriatellales\",\"unknown\\u002funknown\\u002fSynurophyceae\\u002fOchromonadales\",\"unknown\\u002fEuglenozoa\\u002fKinetoplastea\\u002fTrypanosomatida\",\"Metazoa\\u002fMollusca\\u002fCephalopoda\\u002fOegopsida\",\"Metazoa\\u002fNematoda\\u002fChromadorea\\u002fPlectida\",\"Metazoa\\u002fArthropoda\\u002fInsecta\\u002fPlecoptera\",\"Viridiplantae\\u002fStreptophyta\\u002fMagnoliopsida\\u002fTrochodendrales\",\"Metazoa\\u002fChordata\\u002fActinopteri\\u002fOphidiiformes\",\"unknown\\u002fEndomyxa\\u002fPhytomyxea\\u002fPlasmodiophorida\",\"Metazoa\\u002fArthropoda\\u002fArachnida\\u002fOpiliones\",\"Metazoa\\u002fChordata\\u002fAves\\u002fOpisthocomiformes\",\"Metazoa\\u002fChordata\\u002fChondrichthyes\\u002fOrectolobiformes\",\"unknown\\u002fParabasalia\\u002funknown\\u002fTrichomonadida\",\"Viridiplantae\\u002fStreptophyta\\u002fBryopsida\\u002fHedwigiales\",\"unknown\\u002fBacillariophyta\\u002fMediophyceae\\u002fLithodesmiales\",\"Viridiplantae\\u002fStreptophyta\\u002fLycopodiopsida\\u002fLycopodiales\",\"Metazoa\\u002fArthropoda\\u002fThecostraca\\u002funknown\",\"Fungi\\u002fZoopagomycota\\u002funknown\\u002fRamicandelaberales\",\"Metazoa\\u002fArthropoda\\u002fArachnida\\u002fSarcoptiformes\",\"Metazoa\\u002fChordata\\u002fChondrichthyes\\u002fRajiformes\",\"unknown\\u002funknown\\u002fCryptophyceae\\u002fPyrenomonadales\",\"Viridiplantae\\u002fStreptophyta\\u002fMagnoliopsida\\u002fIcacinales\",\"Metazoa\\u002fChordata\\u002fAves\",\"Metazoa\\u002fMollusca\\u002fBivalvia\",\"Viridiplantae\\u002fStreptophyta\\u002fLycopodiopsida\\u002fIsoetales\",\"unknown\\u002fEndomyxa\\u002fAscetosporea\",\"Metazoa\\u002fArthropoda\\u002fMalacostraca\\u002fIsopoda\",\"Metazoa\\u002fArthropoda\\u002fArachnida\\u002fIxodida\",\"Viridiplantae\\u002fStreptophyta\\u002fAnthocerotopsida\",\"unknown\\u002funknown\\u002fSynchromophyceae\\u002funknown\",\"Fungi\\u002fAscomycota\\u002fSchizosaccharomycetes\\u002fSchizosaccharomycetales\",\"Metazoa\\u002fChordata\\u002fAscidiacea\",\"Fungi\\u002fBasidiomycota\\u002fAgaricomycetes\",\"unknown\\u002fCiliophora\\u002fOligohymenophorea\\u002fHymenostomatida\",\"unknown\\u002fBacillariophyta\\u002fFragilariophyceae\\u002fRhabdonematales\",\"unknown\\u002funknown\\u002funknown\\u002fRotosphaerida\",\"unknown\\u002fRhodophyta\\u002fCompsopogonophyceae\\u002fRhodochaetales\",\"unknown\\u002funknown\\u002fChoanoflagellata\",\"unknown\\u002fCiliophora\\u002fHeterotrichea\\u002fHeterotrichida\",\"Viridiplantae\\u002fStreptophyta\\u002fBryopsida\\u002fRhizogoniales\",\"Viridiplantae\\u002fStreptophyta\\u002fChlorokybophyceae\",\"Viridiplantae\\u002fStreptophyta\\u002fMagnoliopsida\\u002fRanunculales\",\"unknown\\u002fDiscosea\\u002funknown\\u002fHimatismenida\",\"unknown\\u002funknown\\u002fDictyochophyceae\\u002fRhizochromulinales\",\"Viridiplantae\\u002fStreptophyta\\u002fCharophyceae\",\"Metazoa\\u002fAnnelida\\u002fClitellata\\u002fHirudinida\",\"Metazoa\\u002fMollusca\\u002fCephalopoda\",\"Metazoa\\u002fChordata\\u002fChondrichthyes\\u002fRhinopristiformes\",\"Viridiplantae\\u002fStreptophyta\\u002fMagnoliopsida\\u002fSantalales\",\"unknown\\u002fCercozoa\\u002fChlorarachniophyceae\",\"Metazoa\\u002fCnidaria\\u002fAnthozoa\\u002fScleractinia\",\"unknown\\u002fPerkinsozoa\\u002funknown\\u002fPerkinsida\",\"Metazoa\\u002fEntoprocta\\u002funknown\\u002funknown\",\"unknown\\u002fBacillariophyta\\u002fFragilariophyceae\\u002fLicmophorales\",\"Fungi\\u002fBasidiomycota\\u002fMicrobotryomycetes\\u002fLeucosporidiales\",\"Fungi\\u002fCryptomycota\\u002funknown\\u002funknown\",\"Metazoa\\u002fCnidaria\\u002fHydrozoa\\u002fLeptothecata\",\"unknown\\u002fBacillariophyta\\u002fCoscinodiscophyceae\\u002fLeptocylindrales\",\"Viridiplantae\\u002fStreptophyta\\u002fPolypodiopsida\\u002fPsilotales\",\"Metazoa\\u002fArthropoda\\u002fChilopoda\\u002fScolopendromorpha\",\"Metazoa\\u002fArthropoda\\u002fInsecta\\u002fLepidoptera\",\"unknown\\u002fHeterolobosea\\u002funknown\\u002funknown\",\"Metazoa\\u002fMollusca\\u002fGastropoda\\u002fLepetellida\",\"Viridiplantae\\u002fStreptophyta\\u002fJungermanniopsida\\u002fPtilidiales\",\"Fungi\\u002fAscomycota\\u002fDothideomycetes\\u002fLineolatales\",\"unknown\\u002fEvosea\\u002fVariosea\\u002funknown\",\"unknown\\u002fApicomplexa\\u002funknown\\u002funknown\",\"Fungi\\u002fAscomycota\\u002fLecanoromycetes\\u002fLecanorales\",\"Metazoa\\u002fChordata\\u002fChondrichthyes\\u002fLamniformes\",\"Metazoa\\u002fBrachiopoda\\u002fLingulata\\u002fLingulida\",\"Metazoa\\u002fMollusca\\u002fBivalvia\\u002fPterioida\",\"Viridiplantae\\u002fStreptophyta\\u002fMagnoliopsida\\u002fLamiales\",\"Viridiplantae\\u002fStreptophyta\\u002fMagnoliopsida\\u002fProteales\",\"Metazoa\\u002fArthropoda\\u002fChilopoda\\u002fScutigeromorpha\",\"Viridiplantae\\u002fStreptophyta\\u002fKlebsormidiophyceae\\u002fKlebsormidiales\",\"unknown\\u002fHaptophyta\\u002funknown\\u002fPrymnesiales\",\"Metazoa\\u002fTardigrada\\u002fEutardigrada\\u002fApochela\",\"Metazoa\\u002fChordata\\u002fAves\\u002fCaprimulgiformes\",\"unknown\\u002fEndomyxa\",\"Fungi\\u002fBasidiomycota\\u002fPucciniomycetes\\u002fPucciniales\",\"unknown\\u002fEuglenozoa\",\"Metazoa\\u002fAnnelida\\u002fPolychaeta\\u002fSabellida\",\"unknown\\u002fFornicata\",\"Fungi\\u002fAscomycota\\u002fLecanoromycetes\\u002fCaliciales\",\"Metazoa\\u002fXenacoelomorpha\\u002funknown\\u002fAcoela\",\"unknown\\u002funknown\",\"unknown\\u002funknown\\u002fCentroplasthelida\\u002fAcanthocystida\",\"Metazoa\\u002fMollusca\\u002fCephalopoda\\u002fSepiida\",\"unknown\\u002fApicomplexa\\u002fAconoidasida\\u002fPiroplasmida\",\"Fungi\\u002fZoopagomycota\\u002funknown\",\"unknown\\u002fRhodophyta\\u002fFlorideophyceae\\u002fBonnemaisoniales\",\"Fungi\\u002fBasidiomycota\\u002fAgaricomycetes\\u002fAmylocorticiales\",\"Metazoa\\u002fChordata\\u002fLepidosauria\\u002fSphenodontia\",\"Metazoa\\u002fChordata\\u002fActinopteri\\u002fAtheriniformes\",\"Metazoa\\u002fEchinodermata\\u002fAsteroidea\\u002fSpinulosida\",\"Metazoa\\u002fMollusca\\u002fCephalopoda\\u002fSpirulida\",\"Metazoa\\u002fChordata\\u002fChondrichthyes\\u002fSqualiformes\",\"Fungi\\u002fMucoromycota\\u002fGlomeromycetes\\u002fArchaeosporales\",\"Metazoa\\u002fChordata\\u002fMammalia\\u002fProboscidea\",\"Viridiplantae\\u002fChlorophyta\\u002fPyramimonadophyceae\\u002fPyramimonadales\",\"Metazoa\\u002fPorifera\",\"Fungi\\u002fMucoromycota\",\"Metazoa\\u002fChordata\\u002fActinopteri\\u002fAnguilliformes\",\"Metazoa\\u002fChordata\\u002fActinopteri\\u002fAlbuliformes\",\"Metazoa\\u002fXenacoelomorpha\\u002funknown\",\"Metazoa\\u002fRotifera\",\"Metazoa\\u002fChordata\\u002fAmphibia\\u002fAnura\",\"Fungi\\u002fBasidiomycota\\u002fMicrobotryomycetes\\u002fSporidiobolales\",\"Metazoa\\u002fChordata\\u002fActinopteri\\u002fUranoscopiformes\",\"Metazoa\\u002fChordata\\u002fAves\\u002fPelecaniformes\",\"Metazoa\\u002fChordata\\u002fActinopteri\",\"Viridiplantae\\u002fStreptophyta\\u002fHaplomitriopsida\",\"unknown\\u002fApicomplexa\\u002fAconoidasida\",\"Fungi\\u002fZoopagomycota\\u002fKickxellomycetes\\u002fKickxellales\",\"unknown\\u002funknown\\u002fEustigmatophyceae\\u002fEustigmatales\",\"Viridiplantae\\u002fStreptophyta\\u002fLeiosporocerotopsida\",\"Fungi\\u002fAscomycota\\u002fLeotiomycetes\",\"Metazoa\\u002fChordata\\u002fActinopteri\\u002fEsociformes\",\"Metazoa\\u002fArthropoda\\u002fChilopoda\\u002fLithobiomorpha\",\"unknown\\u002fRhodophyta\\u002fCompsopogonophyceae\\u002fErythropeltidales\",\"Fungi\\u002fAscomycota\\u002fLeotiomycetes\\u002fErysiphales\",\"Fungi\\u002fBasidiomycota\\u002fExobasidiomycetes\\u002fEntylomatales\",\"Viridiplantae\\u002fChlorophyta\\u002fUlvophyceae\\u002funknown\",\"Viridiplantae\\u002fChlorophyta\\u002fTrebouxiophyceae\\u002funknown\",\"Metazoa\\u002fArthropoda\\u002fProtura\\u002funknown\",\"Metazoa\\u002fPlatyhelminthes\\u002fMonogenea\",\"Metazoa\\u002fMollusca\\u002fBivalvia\\u002fLucinida\",\"unknown\\u002funknown\\u002funknown\\u002fJakobida\",\"Viridiplantae\\u002fChlorophyta\\u002fPedinophyceae\\u002funknown\",\"Metazoa\\u002fChordata\\u002fActinopteri\\u002fIstiophoriformes\",\"Fungi\\u002fBasidiomycota\\u002fBartheletiomycetes\",\"Metazoa\\u002fArthropoda\\u002fCollembola\",\"unknown\\u002funknown\\u002fChrysophyceae\",\"Metazoa\\u002fNematoda\\u002fChromadorea\",\"unknown\\u002fApicomplexa\\u002fConoidasida\",\"Metazoa\\u002fChordata\\u002fChondrichthyes\",\"Viridiplantae\\u002fChlorophyta\\u002fChlorophyceae\",\"Viridiplantae\\u002fStreptophyta\\u002fCycadopsida\",\"Metazoa\\u002fArthropoda\\u002fChilopoda\",\"unknown\\u002funknown\\u002fCentroplasthelida\",\"Metazoa\\u002fEchinodermata\\u002fEchinoidea\",\"Metazoa\\u002fChordata\\u002fActinopteri\\u002fHolocentriformes\",\"Viridiplantae\\u002fStreptophyta\\u002fMagnoliopsida\\u002fHuerteales\",\"Metazoa\\u002fArthropoda\\u002fBranchiopoda\",\"Fungi\\u002fBasidiomycota\\u002fAgaricomycetes\\u002fGloeophyllales\",\"Metazoa\\u002fChordata\\u002fMammalia\\u002fHyracoidea\",\"Metazoa\\u002fRotifera\\u002fEurotatoria\",\"Viridiplantae\\u002fStreptophyta\\u002fPolypodiopsida\\u002fGleicheniales\",\"unknown\\u002fRhodophyta\\u002fBangiophyceae\",\"unknown\\u002fCiliophora\\u002fOligohymenophorea\\u002fPeniculida\",\"Metazoa\\u002fChordata\\u002fMammalia\\u002funknown\",\"unknown\\u002fCiliophora\\u002fOligohymenophorea\",\"Fungi\\u002fAscomycota\\u002fEurotiomycetes\\u002fOnygenales\",\"Viridiplantae\\u002fStreptophyta\\u002fTakakiopsida\",\"Viridiplantae\\u002fStreptophyta\\u002fTetraphidopsida\",\"Fungi\\u002fAscomycota\\u002fSordariomycetes\\u002fOphiostomatales\",\"Viridiplantae\\u002fChlorophyta\\u002fUlvophyceae\\u002fCladophorales\",\"Metazoa\\u002fChordata\\u002fAves\\u002fCiconiiformes\",\"Metazoa\\u002fNematoda\\u002fEnoplea\\u002fTrichinellida\",\"Viridiplantae\\u002fStreptophyta\\u002fPolypodiopsida\\u002fOsmundales\",\"Fungi\\u002fBasidiomycota\\u002fAgaricomycetes\\u002fTrechisporales\",\"unknown\\u002fPreaxostyla\\u002funknown\\u002fOxymonadida\",\"Metazoa\\u002fCnidaria\\u002fCubozoa\\u002fChirodropida\",\"Metazoa\\u002fChordata\\u002fChondrichthyes\\u002fChimaeriformes\",\"Fungi\\u002fAscomycota\\u002funknown\",\"Viridiplantae\\u002fChlorophyta\\u002fPedinophyceae\\u002fPedinomonadales\",\"Metazoa\\u002fChordata\\u002funknown\",\"Fungi\\u002fChytridiomycota\\u002fChytridiomycetes\\u002fCaulochytriales\",\"Metazoa\\u002fChordata\\u002fActinopteri\\u002fTetraodontiformes\",\"Metazoa\\u002fCnidaria\\u002fStaurozoa\",\"unknown\\u002funknown\\u002fGlaucocystophyceae\\u002funknown\",\"Viridiplantae\\u002fStreptophyta\\u002fMagnoliopsida\\u002fNymphaeales\",\"Fungi\\u002fBasidiomycota\\u002fUstilaginomycetes\\u002fUrocystidales\",\"unknown\\u002fDiscosea\\u002fFlabellinia\\u002funknown\",\"Metazoa\\u002fChordata\\u002fMammalia\\u002fDermoptera\",\"unknown\\u002funknown\\u002fBreviatea\\u002funknown\",\"Fungi\\u002fBasidiomycota\\u002fExobasidiomycetes\\u002fMicrostromatales\",\"Viridiplantae\\u002fChlorophyta\\u002fTrebouxiophyceae\\u002fMicrothamniales\",\"Viridiplantae\\u002fStreptophyta\\u002fPinopsida\",\"Metazoa\\u002fArthropoda\\u002fInsecta\\u002fZygentoma\",\"Metazoa\\u002fChordata\\u002fActinopteri\\u002fCypriniformes\",\"Fungi\\u002fAscomycota\\u002fDothideomycetes\\u002fMyriangiales\",\"Fungi\\u002fBasidiomycota\\u002fWallemiomycetes\\u002fWallemiales\",\"unknown\\u002fCiliophora\\u002fProstomatea\",\"Fungi\\u002fBasidiomycota\\u002fPucciniomycetes\",\"Viridiplantae\\u002fStreptophyta\\u002fPinopsida\\u002fCupressales\",\"unknown\\u002funknown\\u002fCryptophyceae\\u002fCryptomonadales\",\"Fungi\\u002fAscomycota\\u002fEurotiomycetes\\u002fVerrucariales\",\"Metazoa\\u002fArthropoda\\u002fChilopoda\\u002fCraterostigmomorpha\",\"unknown\\u002fRhodophyta\\u002fFlorideophyceae\\u002fNemaliales\",\"Fungi\\u002fMucoromycota\\u002fUmbelopsidomycetes\\u002fUmbelopsidales\",\"unknown\\u002fRhodophyta\\u002fCompsopogonophyceae\"],\"labels\":[\"unknown\",\"unknown\",\"unknown\",\"unknown\",\"Macroscelidea\",\"unknown\",\"Lutjaniformes\",\"unknown\",\"Lumbriculida\",\"unknown\",\"Longamoebia\",\"Littorinimorpha\",\"Liliales\",\"unknown\",\"unknown\",\"Leucosolenida\",\"unknown\",\"Leiosporocerotales\",\"Laurales\",\"unknown\",\"unknown\",\"Lagomorpha\",\"Kurtiformes\",\"Jungermanniales\",\"Andreaeopsida\",\"Jaapiales\",\"Appendicularia\",\"Arachnida\",\"Asteroidea\",\"Leptostraca\",\"Isochrysidales\",\"Malasseziales\",\"unknown\",\"Venturiales\",\"Myxiniformes\",\"Mytilinidiales\",\"Myida\",\"Mycosphaerellales\",\"Musophagiformes\",\"Multivalvulida\",\"Zingiberales\",\"Zoantharia\",\"Mortierellales\",\"Zygnematales\",\"Monoblepharidales\",\"Mixiales\",\"Malpighiales\",\"Miliolida\",\"Microascales\",\"Metzgeriales\",\"Mesostigmatales\",\"Mesostigmata\",\"Mermithida\",\"Melosirales\",\"unknown\",\"Mecoptera\",\"Mastigamoebida\",\"unknown\",\"Marattiales\",\"Mantophasmatodea\",\"Mantodea\",\"Microthyriales\",\"Ignatiales\",\"Ichthyophonida\",\"Bacillariophyceae\",\"Euglenida\",\"Rhodymeniales\",\"Glaucosphaerales\",\"Eustigmatophyceae\",\"Eutardigrada\",\"Gigartinales\",\"Georgefischeriales\",\"Geoglossales\",\"Gastropoda\",\"Ginkgoopsida\",\"Geastrales\",\"Glaucocystophyceae\",\"Galliformes\",\"Entomophthoromycetes\",\"Gymnolaemata\",\"Funariales\",\"Fucales\",\"Fragilariales\",\"Filobasidiales\",\"Hydrozoa\",\"Imbricatea\",\"Eurypygiformes\",\"Eurotiales\",\"Eupodiscales\",\"Euplotida\",\"Insecta\",\"Kickxellomycetes\",\"Lecanoromycetes\",\"Gadiformes\",\"Enteropneusta\",\"Enoplea\",\"Glomerellales\",\"Basidiobolomycetes\",\"Hypnales\",\"Hymenoptera\",\"Hymenophyllales\",\"Breviatea\",\"Homosclerophorida\",\"Cestoda\",\"Hildenbrandiales\",\"Heterodontiformes\",\"Hemiptera\",\"Hemiaulales\",\"Cladistia\",\"Clitellata\",\"Coleochaetophyceae\",\"Harpacticoida\",\"Haplosclerida\",\"Halymeniales\",\"Cryptophyceae\",\"Cubozoa\",\"Gunnerales\",\"Grylloblattodea\",\"Gruiformes\",\"Dictyochophyceae\",\"Gracilariales\",\"Gonyaulacales\",\"Dimargaritomycetes\",\"Dinophyceae\",\"Diplopoda\",\"Glomerida\",\"Nebulidida\",\"Leptocardii\",\"Nectiopoda\",\"Neobodonida\",\"Sordariales\",\"Spariformes\",\"Sphagnales\",\"Porellales\",\"Polyzoniida\",\"Spizellomycetales\",\"Polytrichales\",\"Sporadotrichida\",\"Polyporales\",\"Polypodiales\",\"Polydesmida\",\"Sporolithales\",\"Stauromedusae\",\"Solemyida\",\"Podocopida\",\"Stolidobranchia\",\"Ploima\",\"Pleurostomatida\",\"Pleuronectiformes\",\"Pleosporales\",\"Strigiformes\",\"Strongylida\",\"Stylonematales\",\"Suliformes\",\"Pinguiochrysidales\",\"Symphypleona\",\"Pilosa\",\"Synbranchiformes\",\"Stephanodiscales\",\"Piciformes\",\"Primates\",\"Semaeostomeae\",\"Rotaliida\",\"Rhizostomeae\",\"Rhizosoleniales\",\"Rhizophydiales\",\"Salmoniformes\",\"Salviniales\",\"Sapindales\",\"Rhabdomonadales\",\"Rhabdocoela\",\"Rhabditida\",\"Raphidioptera\",\"Sarcinochrysidales\",\"Saxifragales\",\"Procellariiformes\",\"Pythiales\",\"Scleralcyonacea\",\"Scombriformes\",\"Pteropoda\",\"Scorpiones\",\"Scouleriales\",\"Scourfieldiales\",\"Psittaciformes\",\"Sebacinales\",\"Pseudoscorpiones\",\"Pseudoditrichales\",\"Sebdeniales\",\"Protococcidiorida\",\"Selaginellales\",\"Schizaeales\",\"Synchytriales\",\"Phyllodocida\",\"Syndiniales\",\"Trebouxiales\",\"Osteoglossiformes\",\"Osmeriformes\",\"Orthotrichales\",\"Tribonematales\",\"Orbiliales\",\"Opisthorchiida\",\"Tricladida\",\"Ophioglossales\",\"Tritrichomonadida\",\"Opalinata\",\"Trogoniformes\",\"Oncothecales\",\"Oxalidales\",\"Trombidiformes\",\"Tubulidentata\",\"Ulotrichales\",\"Nudibranchia\",\"Notothyladales\",\"Notostraca\",\"Notacanthiformes\",\"Noctilucales\",\"Neuroptera\",\"Umbilicariales\",\"Nephromycida\",\"Unionida\",\"Ustilaginales\",\"Neocallimastigales\",\"Trypetheliales\",\"Togniniales\",\"Pallaviciniales\",\"Palmariales\",\"Pholidota\",\"Phlebobranchia\",\"Philodinida\",\"Philasterida\",\"Syngnathiformes\",\"Phaeotrichales\",\"Takakiales\",\"Phaeocystales\",\"Peyssonneliales\",\"Petromyzontiformes\",\"Pertusariales\",\"Peronosporales\",\"Perissodactyla\",\"Peridiniales\",\"Temnopleuroida\",\"Pelobiontida\",\"Pelliales\",\"Tetramerocerata\",\"Pelagomonadales\",\"Thalassiophysales\",\"Thelephorales\",\"Thoracosphaerales\",\"Thoreales\",\"Thysanoptera\",\"Passeriformes\",\"Parmales\",\"Paraglomerales\",\"Timmiales\",\"Tintinnida\",\"Venerida\",\"Euglenales\",\"Rhynchobdellida\",\"Eubodonida\",\"Characiformes\",\"Chaetothyriales\",\"Chaetophorales\",\"Chaetopeltidales\",\"Ceratodontiformes\",\"Ceramiales\",\"unknown\",\"Centrarchiformes\",\"Celastrales\",\"unknown\",\"Caudata\",\"Casuariiformes\",\"Carybdeida\",\"unknown\",\"Cardiida\",\"Carcharhiniformes\",\"unknown\",\"Cantharellales\",\"Canellales\",\"unknown\",\"Calanoida\",\"Buxbaumiales\",\"Bucerotiformes\",\"Bryales\",\"Brassicales\",\"unknown\",\"Botryosphaeriales\",\"Charadriiformes\",\"Bothriocephalidea\",\"Chattonellales\",\"Chiroptera\",\"Copelata\",\"Spirotrichea\",\"Compsopogonales\",\"Comatulida\",\"Columbiformes\",\"Stylonematophyceae\",\"Symphyla\",\"Synurophyceae\",\"Tentaculata\",\"Coccosphaerales\",\"Coccolithales\",\"Clathrinida\",\"Trebouxiophyceae\",\"Cingulata\",\"Ulvophyceae\",\"Cichliformes\",\"Chytridiales\",\"Chromulinales\",\"Choreotrichida\",\"Umbelopsidomycetes\",\"Uniplacotomia\",\"Chloropicales\",\"Chlorocystidales\",\"Chlorellales\",\"Chloranthales\",\"Eucoccidiorida\",\"Wallemiomycetes\",\"Cheilostomatida\",\"Sphagnopsida\",\"Boraginales\",\"Blenniiformes\",\"Apodiformes\",\"Echinodermata\",\"Anthocerotales\",\"Anthoathecata\",\"Anseriformes\",\"Nebulidia\",\"Nemertea\",\"Amphipoda\",\"Amphioxiformes\",\"Amphilepidida\",\"Amphidiniales\",\"Amborellales\",\"Placozoa\",\"Albuginales\",\"Ahnfeltiales\",\"Agaricales\",\"Adinetida\",\"Adapedonta\",\"Acytosteliales\",\"Tardigrada\",\"Acrospermales\",\"Xenacoelomorpha\",\"unknown\",\"Acipenseriformes\",\"Accipitriformes\",\"Acanthuriformes\",\"Acanthoecida\",\"Discosea\",\"unknown\",\"Apusomonadida\",\"Dicyemida\",\"Blattodea\",\"Blastocladiales\",\"Blasiales\",\"Bivalvulida\",\"Beroida\",\"unknown\",\"Beloniformes\",\"Batrachospermales\",\"unknown\",\"Basidiobolales\",\"Bartramiales\",\"Bartheletiales\",\"unknown\",\"Acanthocephala\",\"Austrobaileyales\",\"Ascomycota\",\"Atheliales\",\"Bryozoa\",\"Cercozoa\",\"Asparagales\",\"Artiodactyla\",\"Arecales\",\"Chordata\",\"Chordata\",\"Archigregarinorida\",\"Arcellinida\",\"Ctenophora\",\"Aquifoliales\",\"Corallinales\",\"Chlamydomonadales\",\"Cydippida\",\"Cyrtolophosidida\",\"Dolichomastigales\",\"Polypodiopsida\",\"Echinorhynchida\",\"Ectocarpales\",\"Elopiformes\",\"Embioptera\",\"Orbiliomycetes\",\"Protura\",\"Cyclopoida\",\"Cyclophyllidea\",\"Cyclophorales\",\"Encalyptales\",\"Enchytraeida\",\"Endogonales\",\"Cycloneritida\",\"Cycadales\",\"Cystobasidiales\",\"Entomophthorales\",\"Pneumocystomycetes\",\"Pinguiophyceae\",\"Dilleniales\",\"Dimargaritales\",\"Dinophysales\",\"Palaeacanthocephala\",\"Dioctophymatida\",\"Desmodorida\",\"Pedinophyceae\",\"Desmarestiales\",\"Schizosaccharomycetes\",\"Dermaptera\",\"Dioscoreales\",\"Diphyllobothriidea\",\"Pilidiophora\",\"Diplonemea\",\"Myxini\",\"Dasyuromorphia\",\"Diprotodontia\",\"Diversisporales\",\"Cyathomonadacea\",\"Nephroselmidophyceae\",\"Rhabditophora\",\"Raphidophyceae\",\"Equisetales\",\"Ericales\",\"Magnoliopsida\",\"Crossosomatales\",\"Ephemeroptera\",\"Malacostraca\",\"Pyramimonadophyceae\",\"Cuculiformes\",\"Craspedida\",\"Malasseziomycetes\",\"Cucurbitales\",\"Eremomycetales\",\"Cyanidiales\",\"Cyatheales\",\"Corticiales\",\"Rhodellophyceae\",\"Mammalia\",\"Apicomplexa\",\"Tanaidacea\",\"Chlorophyta\",\"Struthioniformes\",\"Neolectomycetes\",\"Mucoromycetes\",\"Zoopagomycota\",\"undef\",\"Myxozoa\",\"Metazoa\",\"Synurales\",\"Neocallimastigomycetes\",\"Russulales\",\"Brachiopoda\",\"Blastocladiomycota\",\"Ascomycota\",\"Salpida\",\"Strigeidida\",\"Saccharomycetales\",\"Jungermanniopsida\",\"Arthropoda\",\"Lycopodiopsida\",\"Lingulata\",\"Litostomatea\",\"Annelida\",\"Harpellomycetes\",\"Stomatopoda\",\"Strepsiptera\",\"Perkinsozoa\",\"Marosporida\",\"Parabasalia\",\"Siluriformes\",\"Oomycota\",\"Solanales\",\"Onychophora\",\"Phoronida\",\"Hexanauplia\",\"Preaxostyla\",\"Holothuroidea\",\"Homoscleromorpha\",\"Priapulida\",\"Sphaerocarpales\",\"Ichthyostraca\",\"Spionida\",\"Glomeromycetes\",\"Mixiomycetes\",\"Saprolegniales\",\"Heterotrichea\",\"Chytridiomycota\",\"Ciliophora\",\"Filasterea\",\"Mortierellomycetes\",\"Microbotryomycetes\",\"Florideophyceae\",\"Merostomata\",\"Scandentia\",\"Entoprocta\",\"Evosea\",\"Hemichordata\",\"Rhodophyta\",\"Scyphozoa\",\"Thraustochytrida\",\"Ostracoda\",\"Pycnogonida\",\"unknown\",\"unknown\",\"Zoopagales\",\"Ustilaginomycetes\",\"Variosea\",\"unknown\",\"unknown\",\"Zygophyllales\",\"Amphibia\",\"Xiphosura\",\"Welwitschiales\",\"Vitales\",\"Xanthophyceae\",\"Xylonomycetes\",\"Anthozoa\",\"Zoopagomycetes\",\"Vaucheriales\",\"Xylonales\",\"unknown\",\"unknown\",\"unknown\",\"Sordariomycetes\",\"unknown\",\"unknown\",\"unknown\",\"unknown\",\"unknown\",\"unknown\",\"unknown\",\"Synchromophyceae\",\"unknown\",\"Remipedia\",\"unknown\",\"Thaliacea\",\"unknown\",\"Thecostraca\",\"unknown\",\"Trematoda\",\"unknown\",\"unknown\",\"Zygnemophyceae\",\"Nuda\",\"unknown\",\"Priapulimorpha\",\"Chloropicophyceae\",\"Chytridiomycetes\",\"unknown\",\"Tinamiformes\",\"unknown\",\"Tilletiales\",\"Picocystophyceae\",\"Phaeophyceae\",\"Torpediniformes\",\"Pezizomycetes\",\"unknown\",\"Crinoidea\",\"Pauropoda\",\"Testudines\",\"Cystobasidiomycetes\",\"unknown\",\"Demospongiae\",\"Taphrinales\",\"Pelagophyceae\",\"unknown\",\"Tremellales\",\"Chlorodendrophyceae\",\"Prasinodermophyceae\",\"Polytrichopsida\",\"Bigyra\",\"Ulvales\",\"Blastocladiomycetes\",\"unknown\",\"Tubificida\",\"Bolidophyceae\",\"unknown\",\"Polyplacophora\",\"unknown\",\"Bryopsida\",\"Trichosporonales\",\"Trichoptera\",\"Calcarea\",\"Trichoplacea\",\"unknown\",\"unknown\",\"Treubiales\",\"unknown\",\"Eurotiomycetes\",\"Acanthobdellida\",\"Helotiales\",\"Eugregarinorida\",\"Chordeumatida\",\"Orthoptera\",\"Eulipotyphla\",\"Ostreida\",\"Euonychophora\",\"Chlorodendrales\",\"Chitonida\",\"Euphausiacea\",\"Chaetodontiformes\",\"Pantopoda\",\"Parabodonida\",\"Eutreptiales\",\"Patellariales\",\"Ephedrales\",\"Pavlovales\",\"Fabales\",\"Laminariales\",\"Labriformes\",\"Carnivora\",\"Cariamiformes\",\"Perciformes\",\"Malacovalvulida\",\"Pezizales\",\"Falconiformes\",\"Phaethontiformes\",\"Phasmatodea\",\"Phthiraptera\",\"Camarodonta\",\"Pinales\",\"Ceraceosorales\",\"Piperales\",\"Coleochaetales\",\"Oedogoniales\",\"Dictyochales\",\"Marchantiales\",\"Desmidiales\",\"Dendrochirotida\",\"Didelphimorphia\",\"Diphysciales\",\"Microbiotheria\",\"Diplostraca\",\"Lunulariales\",\"Monotremata\",\"Mucorales\",\"Mugiliformes\",\"Dipsacales\",\"Cyphobasidiales\",\"Coleoptera\",\"Myrtales\",\"Mytilida\",\"Dixoniellales\",\"Crocodylia\",\"Naviculales\",\"Crassiclitellata\",\"Nemastomatales\",\"Dothideales\",\"Neogastropoda\",\"Cornales\",\"Corethrales\",\"Neolectales\",\"Entrophosporales\",\"Octopoda\",\"Odonata\",\"Diptera\",\"Forcipulatida\",\"Carangiformes\",\"Apterygiformes\",\"Arguloida\",\"Ginkgoales\",\"Hypocreales\",\"Glissomonadida\",\"Araucariales\",\"Hypnodendrales\",\"Apiales\",\"Prorodontida\",\"Hymenochaetales\",\"Psocoptera\",\"Pterocystida\",\"Andreaeales\",\"Anabantiformes\",\"Grimmiales\",\"Alismatales\",\"Gymnodiniales\",\"Gymnophiona\",\"Agamococcidiorida\",\"Gymnotiformes\",\"Haemosporida\",\"Acrosymphytales\",\"Hapalidiales\",\"Acropomatiformes\",\"Rhodellales\",\"Rhodogorgonales\",\"Prasinococcales\",\"Pottiales\",\"Dictyoceratida\",\"Geraniales\",\"Bangiales\",\"Gelidiales\",\"Bacillariales\",\"Pleurobranchida\",\"Pollicipedomorpha\",\"Viridiplantae\",\"Plocamiales\",\"Julida\",\"Balanomorpha\",\"Aspidochirotida\",\"Geophilomorpha\",\"Porphyridiales\",\"Auriculariales\",\"Boletales\",\"Pneumocystales\",\"Aulopiformes\",\"Gonorynchiformes\",\"Monoblepharidomycetes\",\"Dacrymycetes\",\"Geoglossomycetes\",\"Diplura\",\"Diplomonadida\",\"Nebulidea\",\"Florenciellales\",\"Garryales\",\"Dictyotales\",\"Coscinodiscophyceae\",\"Rodentia\",\"Dictyosteliales\",\"Colpodea\",\"Ophiuroidea\",\"Gaviiformes\",\"Gentianales\",\"Mesostigmatophyceae\",\"Gnetales\",\"Exobasidiomycetes\",\"Flabellinia\",\"Glaucocystales\",\"Eumycetozoa\",\"Fragilariophyceae\",\"Kinetoplastea\",\"Klebsormidiophyceae\",\"Ichthyosporea\",\"Lepidosauria\",\"Euglyphida\",\"Escalloniales\",\"Gobiiformes\",\"Hyperoartia\",\"Gnetopsida\",\"Mamiellophyceae\",\"Gloeochaetales\",\"Glomerales\",\"Marchantiopsida\",\"Entomobryomorpha\",\"Mediophyceae\",\"Endogonomycetes\",\"Elardia\",\"Fagales\",\"Dothideomycetes\",\"Exobasidiales\",\"Galdieriales\",\"Rosales\",\"Palmophyllophyceae\",\"Cnidaria\",\"Archaeognatha\",\"Architaenioglossa\",\"Arcoida\",\"Chlorophyta\",\"Asterales\",\"Aulographales\",\"Cryptomycota\",\"Basidiomycota\",\"Axinellida\",\"Balbianiales\",\"Batrachoidiformes\",\"Berberidopsidales\",\"Bicosoecida\",\"unknown\",\"Branchiobdellida\",\"Bacillariophyta\",\"Araneae\",\"Aplysiida\",\"Foraminifera\",\"Fungi\",\"Acorales\",\"Acrochaetiales\",\"Tubulinea\",\"Streptophyta\",\"Actiniaria\",\"Prasinodermophyta\",\"Platyhelminthes\",\"Placozoa\",\"Amblypygi\",\"Amiiformes\",\"Nematoda\",\"Anostraca\",\"Mollusca\",\"Microsporidia\",\"Heterolobosea\",\"Haptophyta\",\"Bryopsidales\",\"unknown\",\"Buxales\",\"Capnodiales\",\"Harpellales\",\"Corallimorpharia\",\"Saccharomycetes\",\"Coscinodiscales\",\"Cyclotrichida\",\"Cymatosirales\",\"Cyprinodontiformes\",\"Cystofilobasidiales\",\"Polychaeta\",\"Dacrymycetales\",\"Dactylopodida\",\"Decapoda\",\"Dendroceratida\",\"Phytomyxea\",\"Phylactolaemata\",\"Dendrocerotales\",\"Diaporthales\",\"Coniochaetales\",\"Dicranales\",\"Colponemida\",\"Taphrinomycetes\",\"Caryophyllales\",\"unknown\",\"unknown\",\"Cavosteliida\",\"unknown\",\"unknown\",\"Ceratophyllales\",\"Chaetocerotales\",\"Charales\",\"Chlorokybales\",\"Chlorosarcinales\",\"Udeonychophora\",\"Tremellomycetes\",\"Cladosporiales\",\"Clupeiformes\",\"Clypeasteroida\",\"Coelacanthiformes\",\"Coliiformes\",\"Coraciiformes\",\"Polypteriformes\",\"Heteronemertea\",\"unknown\",\"Sirenia\",\"Microbotryales\",\"Priapulimorphida\",\"Monomastigales\",\"Prasiolales\",\"unknown\",\"Myliobatiformes\",\"Prasinodermales\",\"Sphaeropleales\",\"Sphenisciformes\",\"Violaceomycetales\",\"Polyxenida\",\"Vampyromorpha\",\"Xylariales\",\"Megaloptera\",\"Siphonostomatoida\",\"unknown\",\"Lobata\",\"Semionotiformes\",\"unknown\",\"Macrostomida\",\"Magnaporthales\",\"unknown\",\"Prorocentrales\",\"unknown\",\"Siphonaptera\",\"Siphonophorae\",\"Magnoliales\",\"Malacalcyonacea\",\"Malvales\",\"Mamiellales\",\"Mazocraeidea\",\"Valvatida\",\"unknown\",\"Squamata\",\"Nephroselmidales\",\"Suberitida\",\"Suessiales\",\"Oxyrrhinales\",\"Pandanales\",\"Parachela\",\"Paxillosida\",\"Ostropales\",\"Picocystales\",\"Pedinellales\",\"Thalassiosirales\",\"Physariida\",\"Thalassionemales\",\"Tetraphidales\",\"Phaeomoniellales\",\"Pectinida\",\"Stylommatophora\",\"Stygamoebida\",\"Plagiorchiida\",\"Poduromorpha\",\"Poales\",\"Striatellales\",\"Ochromonadales\",\"Trypanosomatida\",\"Oegopsida\",\"Plectida\",\"Plecoptera\",\"Trochodendrales\",\"Ophidiiformes\",\"Plasmodiophorida\",\"Opiliones\",\"Opisthocomiformes\",\"Orectolobiformes\",\"Trichomonadida\",\"Hedwigiales\",\"Lithodesmiales\",\"Lycopodiales\",\"unknown\",\"Ramicandelaberales\",\"Sarcoptiformes\",\"Rajiformes\",\"Pyrenomonadales\",\"Icacinales\",\"Aves\",\"Bivalvia\",\"Isoetales\",\"Ascetosporea\",\"Isopoda\",\"Ixodida\",\"Anthocerotopsida\",\"unknown\",\"Schizosaccharomycetales\",\"Ascidiacea\",\"Agaricomycetes\",\"Hymenostomatida\",\"Rhabdonematales\",\"Rotosphaerida\",\"Rhodochaetales\",\"Choanoflagellata\",\"Heterotrichida\",\"Rhizogoniales\",\"Chlorokybophyceae\",\"Ranunculales\",\"Himatismenida\",\"Rhizochromulinales\",\"Charophyceae\",\"Hirudinida\",\"Cephalopoda\",\"Rhinopristiformes\",\"Santalales\",\"Chlorarachniophyceae\",\"Scleractinia\",\"Perkinsida\",\"unknown\",\"Licmophorales\",\"Leucosporidiales\",\"unknown\",\"Leptothecata\",\"Leptocylindrales\",\"Psilotales\",\"Scolopendromorpha\",\"Lepidoptera\",\"unknown\",\"Lepetellida\",\"Ptilidiales\",\"Lineolatales\",\"unknown\",\"unknown\",\"Lecanorales\",\"Lamniformes\",\"Lingulida\",\"Pterioida\",\"Lamiales\",\"Proteales\",\"Scutigeromorpha\",\"Klebsormidiales\",\"Prymnesiales\",\"Apochela\",\"Caprimulgiformes\",\"Endomyxa\",\"Pucciniales\",\"Euglenozoa\",\"Sabellida\",\"Fornicata\",\"Caliciales\",\"Acoela\",\"unknown\",\"Acanthocystida\",\"Sepiida\",\"Piroplasmida\",\"unknown\",\"Bonnemaisoniales\",\"Amylocorticiales\",\"Sphenodontia\",\"Atheriniformes\",\"Spinulosida\",\"Spirulida\",\"Squaliformes\",\"Archaeosporales\",\"Proboscidea\",\"Pyramimonadales\",\"Porifera\",\"Mucoromycota\",\"Anguilliformes\",\"Albuliformes\",\"unknown\",\"Rotifera\",\"Anura\",\"Sporidiobolales\",\"Uranoscopiformes\",\"Pelecaniformes\",\"Actinopteri\",\"Haplomitriopsida\",\"Aconoidasida\",\"Kickxellales\",\"Eustigmatales\",\"Leiosporocerotopsida\",\"Leotiomycetes\",\"Esociformes\",\"Lithobiomorpha\",\"Erythropeltidales\",\"Erysiphales\",\"Entylomatales\",\"unknown\",\"unknown\",\"unknown\",\"Monogenea\",\"Lucinida\",\"Jakobida\",\"unknown\",\"Istiophoriformes\",\"Bartheletiomycetes\",\"Collembola\",\"Chrysophyceae\",\"Chromadorea\",\"Conoidasida\",\"Chondrichthyes\",\"Chlorophyceae\",\"Cycadopsida\",\"Chilopoda\",\"Centroplasthelida\",\"Echinoidea\",\"Holocentriformes\",\"Huerteales\",\"Branchiopoda\",\"Gloeophyllales\",\"Hyracoidea\",\"Eurotatoria\",\"Gleicheniales\",\"Bangiophyceae\",\"Peniculida\",\"unknown\",\"Oligohymenophorea\",\"Onygenales\",\"Takakiopsida\",\"Tetraphidopsida\",\"Ophiostomatales\",\"Cladophorales\",\"Ciconiiformes\",\"Trichinellida\",\"Osmundales\",\"Trechisporales\",\"Oxymonadida\",\"Chirodropida\",\"Chimaeriformes\",\"unknown\",\"Pedinomonadales\",\"unknown\",\"Caulochytriales\",\"Tetraodontiformes\",\"Staurozoa\",\"unknown\",\"Nymphaeales\",\"Urocystidales\",\"unknown\",\"Dermoptera\",\"unknown\",\"Microstromatales\",\"Microthamniales\",\"Pinopsida\",\"Zygentoma\",\"Cypriniformes\",\"Myriangiales\",\"Wallemiales\",\"Prostomatea\",\"Pucciniomycetes\",\"Cupressales\",\"Cryptomonadales\",\"Verrucariales\",\"Craterostigmomorpha\",\"Nemaliales\",\"Umbelopsidales\",\"Compsopogonophyceae\"],\"marker\":{\"colors\":[\"#FF9536\",\"#94CCFC\",\"#FF9536\",\"#FF9481\",\"#94CCFC\",\"#94CCFC\",\"#94CCFC\",\"#FF9536\",\"#94CCFC\",\"#94CCFC\",\"#FF9536\",\"#94CCFC\",\"#BEDF7C\",\"#FF9536\",\"#94CCFC\",\"#94CCFC\",\"#FF9536\",\"#BEDF7C\",\"#BEDF7C\",\"#FF9536\",\"#FF9536\",\"#94CCFC\",\"#94CCFC\",\"#BEDF7C\",\"#BEDF7C\",\"#FF9481\",\"#94CCFC\",\"#94CCFC\",\"#94CCFC\",\"#94CCFC\",\"#FF9536\",\"#FF9481\",\"#FF9481\",\"#FF9481\",\"#94CCFC\",\"#FF9481\",\"#94CCFC\",\"#FF9481\",\"#94CCFC\",\"#94CCFC\",\"#BEDF7C\",\"#94CCFC\",\"#FF9481\",\"#BEDF7C\",\"#FF9481\",\"#FF9481\",\"#BEDF7C\",\"#FF9536\",\"#FF9481\",\"#BEDF7C\",\"#BEDF7C\",\"#94CCFC\",\"#94CCFC\",\"#FF9536\",\"#BEDF7C\",\"#94CCFC\",\"#FF9536\",\"#FF9536\",\"#BEDF7C\",\"#94CCFC\",\"#94CCFC\",\"#FF9481\",\"#BEDF7C\",\"#FF9536\",\"#FF9536\",\"#FF9536\",\"#FF9536\",\"#FF9536\",\"#FF9536\",\"#94CCFC\",\"#FF9536\",\"#FF9481\",\"#FF9481\",\"#94CCFC\",\"#BEDF7C\",\"#FF9481\",\"#FF9536\",\"#94CCFC\",\"#FF9481\",\"#94CCFC\",\"#BEDF7C\",\"#FF9536\",\"#FF9536\",\"#FF9481\",\"#94CCFC\",\"#FF9536\",\"#94CCFC\",\"#FF9481\",\"#FF9536\",\"#FF9536\",\"#94CCFC\",\"#FF9481\",\"#FF9481\",\"#94CCFC\",\"#94CCFC\",\"#94CCFC\",\"#FF9481\",\"#FF9481\",\"#BEDF7C\",\"#94CCFC\",\"#BEDF7C\",\"#FF9536\",\"#94CCFC\",\"#94CCFC\",\"#FF9536\",\"#94CCFC\",\"#94CCFC\",\"#FF9536\",\"#94CCFC\",\"#94CCFC\",\"#BEDF7C\",\"#94CCFC\",\"#94CCFC\",\"#FF9536\",\"#FF9536\",\"#94CCFC\",\"#BEDF7C\",\"#94CCFC\",\"#94CCFC\",\"#FF9536\",\"#FF9536\",\"#FF9536\",\"#FF9481\",\"#FF9536\",\"#94CCFC\",\"#94CCFC\",\"#FF9536\",\"#94CCFC\",\"#94CCFC\",\"#FF9536\",\"#FF9481\",\"#94CCFC\",\"#BEDF7C\",\"#BEDF7C\",\"#94CCFC\",\"#FF9481\",\"#BEDF7C\",\"#FF9536\",\"#FF9481\",\"#BEDF7C\",\"#94CCFC\",\"#FF9536\",\"#94CCFC\",\"#94CCFC\",\"#94CCFC\",\"#94CCFC\",\"#94CCFC\",\"#FF9536\",\"#94CCFC\",\"#FF9481\",\"#94CCFC\",\"#94CCFC\",\"#FF9536\",\"#94CCFC\",\"#FF9536\",\"#94CCFC\",\"#94CCFC\",\"#94CCFC\",\"#FF9536\",\"#94CCFC\",\"#94CCFC\",\"#94CCFC\",\"#FF9536\",\"#94CCFC\",\"#FF9536\",\"#FF9481\",\"#94CCFC\",\"#BEDF7C\",\"#BEDF7C\",\"#FF9536\",\"#94CCFC\",\"#94CCFC\",\"#94CCFC\",\"#FF9536\",\"#BEDF7C\",\"#94CCFC\",\"#FF9536\",\"#94CCFC\",\"#94CCFC\",\"#94CCFC\",\"#94CCFC\",\"#BEDF7C\",\"#BEDF7C\",\"#94CCFC\",\"#FF9481\",\"#94CCFC\",\"#BEDF7C\",\"#FF9536\",\"#FF9536\",\"#BEDF7C\",\"#BEDF7C\",\"#FF9481\",\"#94CCFC\",\"#FF9536\",\"#BEDF7C\",\"#94CCFC\",\"#94CCFC\",\"#BEDF7C\",\"#FF9536\",\"#FF9481\",\"#94CCFC\",\"#94CCFC\",\"#BEDF7C\",\"#FF9536\",\"#FF9536\",\"#94CCFC\",\"#BEDF7C\",\"#BEDF7C\",\"#94CCFC\",\"#94CCFC\",\"#BEDF7C\",\"#94CCFC\",\"#BEDF7C\",\"#94CCFC\",\"#94CCFC\",\"#FF9536\",\"#94CCFC\",\"#FF9481\",\"#FF9536\",\"#94CCFC\",\"#FF9481\",\"#FF9481\",\"#FF9481\",\"#FF9481\",\"#BEDF7C\",\"#FF9536\",\"#94CCFC\",\"#94CCFC\",\"#94CCFC\",\"#FF9536\",\"#94CCFC\",\"#FF9481\",\"#BEDF7C\",\"#FF9536\",\"#FF9536\",\"#94CCFC\",\"#FF9481\",\"#FF9536\",\"#94CCFC\",\"#FF9536\",\"#94CCFC\",\"#FF9536\",\"#BEDF7C\",\"#94CCFC\",\"#FF9536\",\"#FF9536\",\"#FF9481\",\"#FF9536\",\"#FF9536\",\"#94CCFC\",\"#94CCFC\",\"#FF9536\",\"#FF9481\",\"#BEDF7C\",\"#FF9536\",\"#94CCFC\",\"#FF9536\",\"#94CCFC\",\"#FF9536\",\"#94CCFC\",\"#FF9481\",\"#BEDF7C\",\"#BEDF7C\",\"#94CCFC\",\"#FF9536\",\"#BEDF7C\",\"#94CCFC\",\"#BEDF7C\",\"#94CCFC\",\"#94CCFC\",\"#94CCFC\",\"#94CCFC\",\"#FF9536\",\"#94CCFC\",\"#94CCFC\",\"#FF9536\",\"#FF9481\",\"#BEDF7C\",\"#FF9536\",\"#94CCFC\",\"#BEDF7C\",\"#94CCFC\",\"#BEDF7C\",\"#BEDF7C\",\"#FF9536\",\"#FF9481\",\"#94CCFC\",\"#94CCFC\",\"#FF9536\",\"#94CCFC\",\"#94CCFC\",\"#FF9536\",\"#FF9536\",\"#94CCFC\",\"#94CCFC\",\"#FF9536\",\"#94CCFC\",\"#FF9536\",\"#94CCFC\",\"#FF9536\",\"#FF9536\",\"#94CCFC\",\"#BEDF7C\",\"#94CCFC\",\"#BEDF7C\",\"#94CCFC\",\"#FF9481\",\"#FF9536\",\"#FF9536\",\"#FF9481\",\"#94CCFC\",\"#BEDF7C\",\"#BEDF7C\",\"#BEDF7C\",\"#BEDF7C\",\"#FF9536\",\"#FF9481\",\"#94CCFC\",\"#BEDF7C\",\"#BEDF7C\",\"#94CCFC\",\"#94CCFC\",\"#94CCFC\",\"#BEDF7C\",\"#94CCFC\",\"#94CCFC\",\"#FF9536\",\"#94CCFC\",\"#94CCFC\",\"#94CCFC\",\"#94CCFC\",\"#FF9536\",\"#BEDF7C\",\"#94CCFC\",\"#FF9536\",\"#FF9536\",\"#FF9481\",\"#94CCFC\",\"#94CCFC\",\"#FF9536\",\"#94CCFC\",\"#FF9481\",\"#94CCFC\",\"#FF9481\",\"#94CCFC\",\"#94CCFC\",\"#94CCFC\",\"#FF9536\",\"#FF9536\",\"#FF9536\",\"#FF9536\",\"#94CCFC\",\"#94CCFC\",\"#FF9481\",\"#BEDF7C\",\"#94CCFC\",\"#94CCFC\",\"#FF9536\",\"#94CCFC\",\"#FF9536\",\"#FF9481\",\"#FF9481\",\"#BEDF7C\",\"#FF9481\",\"#FF9536\",\"#94CCFC\",\"#BEDF7C\",\"#FF9481\",\"#FF9481\",\"#94CCFC\",\"#FF9536\",\"#BEDF7C\",\"#94CCFC\",\"#BEDF7C\",\"#94CCFC\",\"#FF9536\",\"#FF9536\",\"#FF9536\",\"#94CCFC\",\"#BEDF7C\",\"#FF9536\",\"#BEDF7C\",\"#94CCFC\",\"#FF9536\",\"#BEDF7C\",\"#BEDF7C\",\"#94CCFC\",\"#FF9536\",\"#94CCFC\",\"#94CCFC\",\"#FF9481\",\"#94CCFC\",\"#94CCFC\",\"#94CCFC\",\"#FF9536\",\"#BEDF7C\",\"#94CCFC\",\"#FF9481\",\"#94CCFC\",\"#BEDF7C\",\"#FF9481\",\"#FF9481\",\"#FF9481\",\"#FF9536\",\"#BEDF7C\",\"#FF9481\",\"#FF9536\",\"#94CCFC\",\"#94CCFC\",\"#94CCFC\",\"#BEDF7C\",\"#FF9536\",\"#FF9481\",\"#94CCFC\",\"#BEDF7C\",\"#94CCFC\",\"#94CCFC\",\"#FF9536\",\"#94CCFC\",\"#94CCFC\",\"#94CCFC\",\"#FF9481\",\"#FF9536\",\"#BEDF7C\",\"#94CCFC\",\"#FF9536\",\"#BEDF7C\",\"#BEDF7C\",\"#BEDF7C\",\"#BEDF7C\",\"#94CCFC\",\"#94CCFC\",\"#BEDF7C\",\"#94CCFC\",\"#FF9536\",\"#FF9481\",\"#BEDF7C\",\"#FF9481\",\"#FF9536\",\"#BEDF7C\",\"#FF9481\",\"#FF9536\",\"#94CCFC\",\"#FF9536\",\"#94CCFC\",\"#FF9536\",\"#94CCFC\",\"#FF9481\",\"#FF9481\",\"#FF9481\",\"#FF9536\",\"#94CCFC\",\"#94CCFC\",\"#FF9536\",\"#FF9481\",\"#FF9481\",\"#94CCFC\",\"#FF9481\",\"#FF9536\",\"#94CCFC\",\"#94CCFC\",\"#FF9481\",\"#BEDF7C\",\"#94CCFC\",\"#BEDF7C\",\"#94CCFC\",\"#FF9536\",\"#94CCFC\",\"#FF9481\",\"#94CCFC\",\"#94CCFC\",\"#FF9536\",\"#FF9536\",\"#FF9536\",\"#94CCFC\",\"#FF9536\",\"#BEDF7C\",\"#94CCFC\",\"#94CCFC\",\"#94CCFC\",\"#FF9536\",\"#94CCFC\",\"#94CCFC\",\"#94CCFC\",\"#BEDF7C\",\"#94CCFC\",\"#94CCFC\",\"#FF9481\",\"#FF9481\",\"#FF9536\",\"#FF9536\",\"#FF9481\",\"#FF9536\",\"#FF9536\",\"#FF9481\",\"#FF9481\",\"#FF9536\",\"#94CCFC\",\"#94CCFC\",\"#94CCFC\",\"#FF9536\",\"#94CCFC\",\"#FF9536\",\"#94CCFC\",\"#FF9536\",\"#94CCFC\",\"#94CCFC\",\"#94CCFC\",\"#FF9536\",\"#FF9481\",\"#FF9481\",\"#FF9536\",\"#FF9481\",\"#FF9536\",\"#BEDF7C\",\"#94CCFC\",\"#94CCFC\",\"#BEDF7C\",\"#BEDF7C\",\"#FF9536\",\"#FF9481\",\"#94CCFC\",\"#FF9481\",\"#FF9536\",\"#FF9481\",\"#94CCFC\",\"#FF9536\",\"#FF9536\",\"#FF9481\",\"#FF9481\",\"#BEDF7C\",\"#94CCFC\",\"#FF9481\",\"#FF9536\",\"#BEDF7C\",\"#94CCFC\",\"#FF9536\",\"#FF9536\",\"#94CCFC\",\"#94CCFC\",\"#94CCFC\",\"#FF9481\",\"#94CCFC\",\"#94CCFC\",\"#94CCFC\",\"#FF9481\",\"#94CCFC\",\"#BEDF7C\",\"#94CCFC\",\"#FF9536\",\"#94CCFC\",\"#BEDF7C\",\"#FF9481\",\"#FF9536\",\"#94CCFC\",\"#FF9536\",\"#FF9481\",\"#BEDF7C\",\"#FF9536\",\"#94CCFC\",\"#FF9481\",\"#94CCFC\",\"#94CCFC\",\"#94CCFC\",\"#94CCFC\",\"#FF9481\",\"#FF9536\",\"#94CCFC\",\"#FF9481\",\"#FF9536\",\"#FF9536\",\"#FF9481\",\"#BEDF7C\",\"#BEDF7C\",\"#BEDF7C\",\"#FF9536\",\"#BEDF7C\",\"#FF9481\",\"#FF9536\",\"#94CCFC\",\"#FF9536\",\"#94CCFC\",\"#94CCFC\",\"#94CCFC\",\"#BEDF7C\",\"#FF9481\",\"#94CCFC\",\"#94CCFC\",\"#94CCFC\",\"#FF9536\",\"#FF9536\",\"#BEDF7C\",\"#94CCFC\",\"#FF9481\",\"#94CCFC\",\"#FF9481\",\"#FF9536\",\"#94CCFC\",\"#94CCFC\",\"#94CCFC\",\"#94CCFC\",\"#94CCFC\",\"#BEDF7C\",\"#94CCFC\",\"#94CCFC\",\"#94CCFC\",\"#94CCFC\",\"#FF9536\",\"#FF9536\",\"#FF9481\",\"#BEDF7C\",\"#FF9536\",\"#BEDF7C\",\"#FF9536\",\"#94CCFC\",\"#94CCFC\",\"#94CCFC\",\"#94CCFC\",\"#94CCFC\",\"#FF9481\",\"#94CCFC\",\"#94CCFC\",\"#94CCFC\",\"#94CCFC\",\"#94CCFC\",\"#BEDF7C\",\"#FF9481\",\"#BEDF7C\",\"#BEDF7C\",\"#BEDF7C\",\"#FF9536\",\"#BEDF7C\",\"#BEDF7C\",\"#94CCFC\",\"#94CCFC\",\"#BEDF7C\",\"#94CCFC\",\"#94CCFC\",\"#BEDF7C\",\"#94CCFC\",\"#FF9481\",\"#94CCFC\",\"#BEDF7C\",\"#FF9481\",\"#94CCFC\",\"#BEDF7C\",\"#94CCFC\",\"#FF9536\",\"#94CCFC\",\"#FF9536\",\"#94CCFC\",\"#FF9536\",\"#FF9481\",\"#94CCFC\",\"#BEDF7C\",\"#FF9536\",\"#FF9481\",\"#FF9481\",\"#94CCFC\",\"#94CCFC\",\"#94CCFC\",\"#94CCFC\",\"#94CCFC\",\"#94CCFC\",\"#94CCFC\",\"#BEDF7C\",\"#FF9481\",\"#FF9536\",\"#BEDF7C\",\"#BEDF7C\",\"#BEDF7C\",\"#FF9536\",\"#FF9481\",\"#94CCFC\",\"#FF9536\",\"#BEDF7C\",\"#94CCFC\",\"#BEDF7C\",\"#BEDF7C\",\"#FF9536\",\"#94CCFC\",\"#FF9536\",\"#94CCFC\",\"#FF9536\",\"#FF9536\",\"#FF9536\",\"#94CCFC\",\"#FF9536\",\"#FF9536\",\"#BEDF7C\",\"#BEDF7C\",\"#94CCFC\",\"#BEDF7C\",\"#FF9536\",\"#FF9536\",\"#FF9536\",\"#94CCFC\",\"#94CCFC\",\"#BEDF7C\",\"#FF9536\",\"#94CCFC\",\"#94CCFC\",\"#94CCFC\",\"#94CCFC\",\"#FF9536\",\"#FF9481\",\"#FF9481\",\"#FF9481\",\"#94CCFC\",\"#94CCFC\",\"#FF9481\",\"#FF9481\",\"#FF9481\",\"#94CCFC\",\"#FF9536\",\"#FF9536\",\"#FF9536\",\"#BEDF7C\",\"#FF9536\",\"#FF9536\",\"#94CCFC\",\"#FF9536\",\"#FF9536\",\"#94CCFC\",\"#94CCFC\",\"#BEDF7C\",\"#BEDF7C\",\"#BEDF7C\",\"#FF9481\",\"#FF9536\",\"#FF9536\",\"#FF9536\",\"#FF9536\",\"#FF9536\",\"#BEDF7C\",\"#FF9536\",\"#94CCFC\",\"#FF9536\",\"#BEDF7C\",\"#94CCFC\",\"#94CCFC\",\"#BEDF7C\",\"#BEDF7C\",\"#FF9536\",\"#FF9481\",\"#BEDF7C\",\"#94CCFC\",\"#FF9536\",\"#FF9481\",\"#FF9536\",\"#BEDF7C\",\"#FF9481\",\"#FF9481\",\"#FF9536\",\"#BEDF7C\",\"#BEDF7C\",\"#94CCFC\",\"#94CCFC\",\"#94CCFC\",\"#94CCFC\",\"#BEDF7C\",\"#BEDF7C\",\"#FF9481\",\"#FF9481\",\"#FF9481\",\"#94CCFC\",\"#FF9536\",\"#94CCFC\",\"#BEDF7C\",\"#FF9536\",\"#FF9536\",\"#94CCFC\",\"#FF9536\",\"#94CCFC\",\"#94CCFC\",\"#FF9536\",\"#FF9481\",\"#BEDF7C\",\"#FF9536\",\"#FF9536\",\"#BEDF7C\",\"#94CCFC\",\"#BEDF7C\",\"#94CCFC\",\"#FF9536\",\"#94CCFC\",\"#94CCFC\",\"#94CCFC\",\"#94CCFC\",\"#94CCFC\",\"#FF9481\",\"#FF9536\",\"#FF9536\",\"#BEDF7C\",\"#FF9481\",\"#BEDF7C\",\"#FF9481\",\"#FF9481\",\"#94CCFC\",\"#FF9481\",\"#FF9536\",\"#FF9536\",\"#FF9536\",\"#94CCFC\",\"#FF9481\",\"#94CCFC\",\"#FF9481\",\"#FF9536\",\"#94CCFC\",\"#94CCFC\",\"#FF9536\",\"#94CCFC\",\"#BEDF7C\",\"#FF9481\",\"#FF9481\",\"#BEDF7C\",\"#FF9536\",\"#FF9481\",\"#BEDF7C\",\"#FF9481\",\"#FF9536\",\"#FF9536\",\"#FF9536\",\"#FF9536\",\"#BEDF7C\",\"#FF9536\",\"#BEDF7C\",\"#BEDF7C\",\"#BEDF7C\",\"#94CCFC\",\"#FF9481\",\"#FF9481\",\"#94CCFC\",\"#94CCFC\",\"#94CCFC\",\"#94CCFC\",\"#94CCFC\",\"#94CCFC\",\"#94CCFC\",\"#94CCFC\",\"#94CCFC\",\"#FF9481\",\"#94CCFC\",\"#BEDF7C\",\"#BEDF7C\",\"#FF9536\",\"#94CCFC\",\"#BEDF7C\",\"#BEDF7C\",\"#94CCFC\",\"#FF9481\",\"#94CCFC\",\"#94CCFC\",\"#FF9481\",\"#94CCFC\",\"#94CCFC\",\"#FF9536\",\"#94CCFC\",\"#94CCFC\",\"#94CCFC\",\"#94CCFC\",\"#FF9481\",\"#FF9536\",\"#FF9536\",\"#94CCFC\",\"#94CCFC\",\"#94CCFC\",\"#BEDF7C\",\"#94CCFC\",\"#BEDF7C\",\"#BEDF7C\",\"#94CCFC\",\"#94CCFC\",\"#FF9536\",\"#94CCFC\",\"#BEDF7C\",\"#94CCFC\",\"#FF9536\",\"#FF9536\",\"#BEDF7C\",\"#94CCFC\",\"#94CCFC\",\"#FF9481\",\"#BEDF7C\",\"#FF9536\",\"#FF9536\",\"#FF9536\",\"#FF9536\",\"#BEDF7C\",\"#FF9481\",\"#94CCFC\",\"#94CCFC\",\"#FF9536\",\"#94CCFC\",\"#94CCFC\",\"#BEDF7C\",\"#FF9536\",\"#FF9536\",\"#FF9536\",\"#94CCFC\",\"#94CCFC\",\"#94CCFC\",\"#BEDF7C\",\"#94CCFC\",\"#FF9536\",\"#94CCFC\",\"#94CCFC\",\"#94CCFC\",\"#FF9536\",\"#BEDF7C\",\"#FF9536\",\"#BEDF7C\",\"#94CCFC\",\"#FF9481\",\"#94CCFC\",\"#94CCFC\",\"#FF9536\",\"#BEDF7C\",\"#94CCFC\",\"#94CCFC\",\"#BEDF7C\",\"#FF9536\",\"#94CCFC\",\"#94CCFC\",\"#BEDF7C\",\"#FF9536\",\"#FF9481\",\"#94CCFC\",\"#FF9481\",\"#FF9536\",\"#FF9536\",\"#FF9536\",\"#FF9536\",\"#FF9536\",\"#FF9536\",\"#BEDF7C\",\"#BEDF7C\",\"#BEDF7C\",\"#FF9536\",\"#FF9536\",\"#BEDF7C\",\"#94CCFC\",\"#94CCFC\",\"#94CCFC\",\"#BEDF7C\",\"#FF9536\",\"#94CCFC\",\"#FF9536\",\"#94CCFC\",\"#FF9536\",\"#FF9481\",\"#FF9481\",\"#94CCFC\",\"#FF9536\",\"#BEDF7C\",\"#94CCFC\",\"#94CCFC\",\"#FF9536\",\"#94CCFC\",\"#BEDF7C\",\"#FF9481\",\"#FF9536\",\"#FF9536\",\"#FF9481\",\"#94CCFC\",\"#94CCFC\",\"#94CCFC\",\"#BEDF7C\",\"#BEDF7C\",\"#94CCFC\",\"#BEDF7C\",\"#FF9536\",\"#94CCFC\",\"#94CCFC\",\"#FF9536\",\"#FF9481\",\"#FF9536\",\"#94CCFC\",\"#FF9536\",\"#FF9481\",\"#94CCFC\",\"#FF9536\",\"#FF9536\",\"#94CCFC\",\"#FF9536\",\"#FF9481\",\"#FF9536\",\"#FF9481\",\"#94CCFC\",\"#94CCFC\",\"#94CCFC\",\"#94CCFC\",\"#94CCFC\",\"#FF9481\",\"#94CCFC\",\"#BEDF7C\",\"#94CCFC\",\"#FF9481\",\"#94CCFC\",\"#94CCFC\",\"#94CCFC\",\"#94CCFC\",\"#94CCFC\",\"#FF9481\",\"#94CCFC\",\"#94CCFC\",\"#94CCFC\",\"#BEDF7C\",\"#FF9536\",\"#FF9481\",\"#FF9536\",\"#BEDF7C\",\"#FF9481\",\"#94CCFC\",\"#94CCFC\",\"#FF9536\",\"#FF9481\",\"#FF9481\",\"#BEDF7C\",\"#BEDF7C\",\"#94CCFC\",\"#94CCFC\",\"#94CCFC\",\"#FF9536\",\"#BEDF7C\",\"#94CCFC\",\"#FF9481\",\"#94CCFC\",\"#FF9536\",\"#94CCFC\",\"#FF9536\",\"#94CCFC\",\"#BEDF7C\",\"#BEDF7C\",\"#94CCFC\",\"#FF9536\",\"#94CCFC\",\"#94CCFC\",\"#BEDF7C\",\"#94CCFC\",\"#FF9481\",\"#94CCFC\",\"#94CCFC\",\"#BEDF7C\",\"#FF9536\",\"#FF9536\",\"#94CCFC\",\"#FF9536\",\"#FF9481\",\"#BEDF7C\",\"#BEDF7C\",\"#FF9481\",\"#BEDF7C\",\"#94CCFC\",\"#94CCFC\",\"#BEDF7C\",\"#FF9481\",\"#FF9536\",\"#94CCFC\",\"#94CCFC\",\"#FF9481\",\"#BEDF7C\",\"#94CCFC\",\"#FF9481\",\"#94CCFC\",\"#94CCFC\",\"#FF9536\",\"#BEDF7C\",\"#FF9481\",\"#FF9536\",\"#94CCFC\",\"#FF9536\",\"#FF9481\",\"#BEDF7C\",\"#BEDF7C\",\"#94CCFC\",\"#94CCFC\",\"#FF9481\",\"#FF9481\",\"#FF9536\",\"#FF9481\",\"#BEDF7C\",\"#FF9536\",\"#FF9481\",\"#94CCFC\",\"#FF9536\",\"#FF9481\",\"#FF9536\"]},\"name\":\"\",\"parents\":[\"\",\"Metazoa\\u002fRotifera\\u002fEurotatoria\",\"unknown\\u002funknown\\u002fFilasterea\",\"Fungi\\u002fAscomycota\\u002fLeotiomycetes\",\"Metazoa\\u002fChordata\\u002fMammalia\",\"Metazoa\\u002fCnidaria\\u002fMyxozoa\",\"Metazoa\\u002fChordata\\u002fActinopteri\",\"unknown\\u002funknown\\u002fPelagophyceae\",\"Metazoa\\u002fAnnelida\\u002fClitellata\",\"Metazoa\\u002fBryozoa\\u002fPhylactolaemata\",\"unknown\\u002fDiscosea\\u002funknown\",\"Metazoa\\u002fMollusca\\u002fGastropoda\",\"Viridiplantae\\u002fStreptophyta\\u002fMagnoliopsida\",\"unknown\\u002fChlorophyta\\u002funknown\",\"Metazoa\\u002fHemichordata\\u002fEnteropneusta\",\"Metazoa\\u002fPorifera\\u002fCalcarea\",\"unknown\\u002fHaptophyta\\u002funknown\",\"Viridiplantae\\u002fStreptophyta\\u002fLeiosporocerotopsida\",\"Viridiplantae\\u002fStreptophyta\\u002fMagnoliopsida\",\"unknown\\u002fPlacozoa\\u002funknown\",\"unknown\\u002fPreaxostyla\\u002funknown\",\"Metazoa\\u002fChordata\\u002fMammalia\",\"Metazoa\\u002fChordata\\u002fActinopteri\",\"Viridiplantae\\u002fStreptophyta\\u002fJungermanniopsida\",\"Viridiplantae\\u002fStreptophyta\",\"Fungi\\u002fBasidiomycota\\u002fAgaricomycetes\",\"Metazoa\\u002fChordata\",\"Metazoa\\u002fArthropoda\",\"Metazoa\\u002fEchinodermata\",\"Metazoa\\u002fArthropoda\\u002fMalacostraca\",\"unknown\\u002fHaptophyta\\u002funknown\",\"Fungi\\u002fBasidiomycota\\u002fMalasseziomycetes\",\"Fungi\\u002fAscomycota\\u002fDothideomycetes\",\"Fungi\\u002fAscomycota\\u002fDothideomycetes\",\"Metazoa\\u002fChordata\\u002fMyxini\",\"Fungi\\u002fAscomycota\\u002fDothideomycetes\",\"Metazoa\\u002fMollusca\\u002fBivalvia\",\"Fungi\\u002fAscomycota\\u002fDothideomycetes\",\"Metazoa\\u002fChordata\\u002fAves\",\"Metazoa\\u002fCnidaria\\u002fMyxozoa\",\"Viridiplantae\\u002fStreptophyta\\u002fMagnoliopsida\",\"Metazoa\\u002fCnidaria\\u002fAnthozoa\",\"Fungi\\u002fMucoromycota\\u002fMortierellomycetes\",\"Viridiplantae\\u002fStreptophyta\\u002fZygnemophyceae\",\"Fungi\\u002fChytridiomycota\\u002fMonoblepharidomycetes\",\"Fungi\\u002fBasidiomycota\\u002fMixiomycetes\",\"Viridiplantae\\u002fStreptophyta\\u002fMagnoliopsida\",\"unknown\\u002fForaminifera\\u002funknown\",\"Fungi\\u002fAscomycota\\u002fSordariomycetes\",\"Viridiplantae\\u002fStreptophyta\\u002fJungermanniopsida\",\"Viridiplantae\\u002fStreptophyta\\u002fMesostigmatophyceae\",\"Metazoa\\u002fArthropoda\\u002fArachnida\",\"Metazoa\\u002fNematoda\\u002fEnoplea\",\"unknown\\u002fBacillariophyta\\u002fCoscinodiscophyceae\",\"Viridiplantae\\u002fChlorophyta\\u002fChlorophyceae\",\"Metazoa\\u002fArthropoda\\u002fInsecta\",\"unknown\\u002fEvosea\\u002funknown\",\"unknown\\u002fBacillariophyta\\u002fCoscinodiscophyceae\",\"Viridiplantae\\u002fStreptophyta\\u002fPolypodiopsida\",\"Metazoa\\u002fArthropoda\\u002fInsecta\",\"Metazoa\\u002fArthropoda\\u002fInsecta\",\"Fungi\\u002fAscomycota\\u002fDothideomycetes\",\"Viridiplantae\\u002fChlorophyta\\u002fUlvophyceae\",\"unknown\\u002funknown\\u002fIchthyosporea\",\"unknown\\u002fBacillariophyta\",\"unknown\\u002fEuglenozoa\",\"unknown\\u002fRhodophyta\\u002fFlorideophyceae\",\"unknown\\u002fRhodophyta\\u002fRhodellophyceae\",\"unknown\\u002funknown\",\"Metazoa\\u002fTardigrada\",\"unknown\\u002fRhodophyta\\u002fFlorideophyceae\",\"Fungi\\u002fBasidiomycota\\u002fExobasidiomycetes\",\"Fungi\\u002fAscomycota\\u002fGeoglossomycetes\",\"Metazoa\\u002fMollusca\",\"Viridiplantae\\u002fStreptophyta\",\"Fungi\\u002fBasidiomycota\\u002fAgaricomycetes\",\"unknown\\u002funknown\",\"Metazoa\\u002fChordata\\u002fAves\",\"Fungi\\u002fZoopagomycota\",\"Metazoa\\u002fBryozoa\",\"Viridiplantae\\u002fStreptophyta\\u002fBryopsida\",\"unknown\\u002funknown\\u002fPhaeophyceae\",\"unknown\\u002fBacillariophyta\\u002fFragilariophyceae\",\"Fungi\\u002fBasidiomycota\\u002fTremellomycetes\",\"Metazoa\\u002fCnidaria\",\"unknown\\u002fCercozoa\",\"Metazoa\\u002fChordata\\u002fAves\",\"Fungi\\u002fAscomycota\\u002fEurotiomycetes\",\"unknown\\u002fBacillariophyta\\u002fMediophyceae\",\"unknown\\u002fCiliophora\\u002fSpirotrichea\",\"Metazoa\\u002fArthropoda\",\"Fungi\\u002fZoopagomycota\",\"Fungi\\u002fAscomycota\",\"Metazoa\\u002fChordata\\u002fActinopteri\",\"Metazoa\\u002fHemichordata\",\"Metazoa\\u002fNematoda\",\"Fungi\\u002fAscomycota\\u002fSordariomycetes\",\"Fungi\\u002fZoopagomycota\",\"Viridiplantae\\u002fStreptophyta\\u002fBryopsida\",\"Metazoa\\u002fArthropoda\\u002fInsecta\",\"Viridiplantae\\u002fStreptophyta\\u002fPolypodiopsida\",\"unknown\\u002funknown\",\"Metazoa\\u002fPorifera\\u002fHomoscleromorpha\",\"Metazoa\\u002fPlatyhelminthes\",\"unknown\\u002fRhodophyta\\u002fFlorideophyceae\",\"Metazoa\\u002fChordata\\u002fChondrichthyes\",\"Metazoa\\u002fArthropoda\\u002fInsecta\",\"unknown\\u002fBacillariophyta\\u002fMediophyceae\",\"Metazoa\\u002fChordata\",\"Metazoa\\u002fAnnelida\",\"Viridiplantae\\u002fStreptophyta\",\"Metazoa\\u002fArthropoda\\u002fHexanauplia\",\"Metazoa\\u002fPorifera\\u002fDemospongiae\",\"unknown\\u002fRhodophyta\\u002fFlorideophyceae\",\"unknown\\u002funknown\",\"Metazoa\\u002fCnidaria\",\"Viridiplantae\\u002fStreptophyta\\u002fMagnoliopsida\",\"Metazoa\\u002fArthropoda\\u002fInsecta\",\"Metazoa\\u002fChordata\\u002fAves\",\"unknown\\u002funknown\",\"unknown\\u002fRhodophyta\\u002fFlorideophyceae\",\"unknown\\u002funknown\\u002fDinophyceae\",\"Fungi\\u002fZoopagomycota\",\"unknown\\u002funknown\",\"Metazoa\\u002fArthropoda\",\"Metazoa\\u002fArthropoda\\u002fDiplopoda\",\"unknown\\u002fNebulidia\\u002fNebulidea\",\"Metazoa\\u002fChordata\",\"Metazoa\\u002fArthropoda\\u002fRemipedia\",\"unknown\\u002fEuglenozoa\\u002fKinetoplastea\",\"Fungi\\u002fAscomycota\\u002fSordariomycetes\",\"Metazoa\\u002fChordata\\u002fActinopteri\",\"Viridiplantae\\u002fStreptophyta\\u002fSphagnopsida\",\"Viridiplantae\\u002fStreptophyta\\u002fJungermanniopsida\",\"Metazoa\\u002fArthropoda\\u002fDiplopoda\",\"Fungi\\u002fChytridiomycota\\u002fChytridiomycetes\",\"Viridiplantae\\u002fStreptophyta\\u002fPolytrichopsida\",\"unknown\\u002fCiliophora\\u002fSpirotrichea\",\"Fungi\\u002fBasidiomycota\\u002fAgaricomycetes\",\"Viridiplantae\\u002fStreptophyta\\u002fPolypodiopsida\",\"Metazoa\\u002fArthropoda\\u002fDiplopoda\",\"unknown\\u002fRhodophyta\\u002fFlorideophyceae\",\"Metazoa\\u002fCnidaria\\u002fStaurozoa\",\"Metazoa\\u002fMollusca\\u002fBivalvia\",\"Metazoa\\u002fArthropoda\\u002fOstracoda\",\"Metazoa\\u002fChordata\\u002fAscidiacea\",\"Metazoa\\u002fRotifera\\u002fEurotatoria\",\"unknown\\u002fCiliophora\\u002fLitostomatea\",\"Metazoa\\u002fChordata\\u002fActinopteri\",\"Fungi\\u002fAscomycota\\u002fDothideomycetes\",\"Metazoa\\u002fChordata\\u002fAves\",\"Metazoa\\u002fNematoda\\u002fChromadorea\",\"unknown\\u002fRhodophyta\\u002fStylonematophyceae\",\"Metazoa\\u002fChordata\\u002fAves\",\"unknown\\u002funknown\\u002fPinguiophyceae\",\"Metazoa\\u002fArthropoda\\u002fCollembola\",\"Metazoa\\u002fChordata\\u002fMammalia\",\"Metazoa\\u002fChordata\\u002fActinopteri\",\"unknown\\u002fBacillariophyta\\u002fCoscinodiscophyceae\",\"Metazoa\\u002fChordata\\u002fAves\",\"Metazoa\\u002fChordata\\u002fMammalia\",\"Metazoa\\u002fCnidaria\\u002fScyphozoa\",\"unknown\\u002fForaminifera\\u002funknown\",\"Metazoa\\u002fCnidaria\\u002fScyphozoa\",\"unknown\\u002fBacillariophyta\\u002fCoscinodiscophyceae\",\"Fungi\\u002fChytridiomycota\\u002fChytridiomycetes\",\"Metazoa\\u002fChordata\\u002fActinopteri\",\"Viridiplantae\\u002fStreptophyta\\u002fPolypodiopsida\",\"Viridiplantae\\u002fStreptophyta\\u002fMagnoliopsida\",\"unknown\\u002fEuglenozoa\\u002fEuglenida\",\"Metazoa\\u002fPlatyhelminthes\\u002fRhabditophora\",\"Metazoa\\u002fNematoda\\u002fChromadorea\",\"Metazoa\\u002fArthropoda\\u002fInsecta\",\"unknown\\u002funknown\\u002fPelagophyceae\",\"Viridiplantae\\u002fStreptophyta\\u002fMagnoliopsida\",\"Metazoa\\u002fChordata\\u002fAves\",\"unknown\\u002fOomycota\\u002funknown\",\"Metazoa\\u002fCnidaria\\u002fAnthozoa\",\"Metazoa\\u002fChordata\\u002fActinopteri\",\"Metazoa\\u002fMollusca\\u002fGastropoda\",\"Metazoa\\u002fArthropoda\\u002fArachnida\",\"Viridiplantae\\u002fStreptophyta\\u002fBryopsida\",\"Viridiplantae\\u002fChlorophyta\\u002fPedinophyceae\",\"Metazoa\\u002fChordata\\u002fAves\",\"Fungi\\u002fBasidiomycota\\u002fAgaricomycetes\",\"Metazoa\\u002fArthropoda\\u002fArachnida\",\"Viridiplantae\\u002fStreptophyta\\u002fBryopsida\",\"unknown\\u002fRhodophyta\\u002fFlorideophyceae\",\"unknown\\u002fApicomplexa\\u002fConoidasida\",\"Viridiplantae\\u002fStreptophyta\\u002fLycopodiopsida\",\"Viridiplantae\\u002fStreptophyta\\u002fPolypodiopsida\",\"Fungi\\u002fChytridiomycota\\u002fChytridiomycetes\",\"Metazoa\\u002fAnnelida\\u002fPolychaeta\",\"unknown\\u002funknown\\u002fDinophyceae\",\"Viridiplantae\\u002fChlorophyta\\u002fTrebouxiophyceae\",\"Metazoa\\u002fChordata\\u002fActinopteri\",\"Metazoa\\u002fChordata\\u002fActinopteri\",\"Viridiplantae\\u002fStreptophyta\\u002fBryopsida\",\"unknown\\u002funknown\\u002fXanthophyceae\",\"Fungi\\u002fAscomycota\\u002fOrbiliomycetes\",\"Metazoa\\u002fPlatyhelminthes\\u002fTrematoda\",\"Metazoa\\u002fPlatyhelminthes\\u002fRhabditophora\",\"Viridiplantae\\u002fStreptophyta\\u002fPolypodiopsida\",\"unknown\\u002fParabasalia\\u002funknown\",\"unknown\\u002funknown\\u002fBigyra\",\"Metazoa\\u002fChordata\\u002fAves\",\"Viridiplantae\\u002fStreptophyta\\u002fMagnoliopsida\",\"Viridiplantae\\u002fStreptophyta\\u002fMagnoliopsida\",\"Metazoa\\u002fArthropoda\\u002fArachnida\",\"Metazoa\\u002fChordata\\u002fMammalia\",\"Viridiplantae\\u002fChlorophyta\\u002fUlvophyceae\",\"Metazoa\\u002fMollusca\\u002fGastropoda\",\"Viridiplantae\\u002fStreptophyta\\u002fAnthocerotopsida\",\"Metazoa\\u002fArthropoda\\u002fBranchiopoda\",\"Metazoa\\u002fChordata\\u002fActinopteri\",\"unknown\\u002funknown\\u002fDinophyceae\",\"Metazoa\\u002fArthropoda\\u002fInsecta\",\"Fungi\\u002fAscomycota\\u002fLecanoromycetes\",\"unknown\\u002fApicomplexa\\u002fAconoidasida\",\"Metazoa\\u002fMollusca\\u002fBivalvia\",\"Fungi\\u002fBasidiomycota\\u002fUstilaginomycetes\",\"Fungi\\u002fChytridiomycota\\u002fNeocallimastigomycetes\",\"Fungi\\u002fAscomycota\\u002fDothideomycetes\",\"Fungi\\u002fAscomycota\\u002fSordariomycetes\",\"Viridiplantae\\u002fStreptophyta\\u002fJungermanniopsida\",\"unknown\\u002fRhodophyta\\u002fFlorideophyceae\",\"Metazoa\\u002fChordata\\u002fMammalia\",\"Metazoa\\u002fChordata\\u002fAscidiacea\",\"Metazoa\\u002fRotifera\\u002fEurotatoria\",\"unknown\\u002fCiliophora\\u002fOligohymenophorea\",\"Metazoa\\u002fChordata\\u002fActinopteri\",\"Fungi\\u002fAscomycota\\u002fDothideomycetes\",\"Viridiplantae\\u002fStreptophyta\\u002fTakakiopsida\",\"unknown\\u002fHaptophyta\\u002funknown\",\"unknown\\u002fRhodophyta\\u002fFlorideophyceae\",\"Metazoa\\u002fChordata\\u002fHyperoartia\",\"Fungi\\u002fAscomycota\\u002fLecanoromycetes\",\"unknown\\u002fOomycota\\u002funknown\",\"Metazoa\\u002fChordata\\u002fMammalia\",\"unknown\\u002funknown\\u002fDinophyceae\",\"Metazoa\\u002fEchinodermata\\u002fEchinoidea\",\"unknown\\u002fEvosea\\u002funknown\",\"Viridiplantae\\u002fStreptophyta\\u002fJungermanniopsida\",\"Metazoa\\u002fArthropoda\\u002fPauropoda\",\"unknown\\u002funknown\\u002fPelagophyceae\",\"unknown\\u002fBacillariophyta\\u002fBacillariophyceae\",\"Fungi\\u002fBasidiomycota\\u002fAgaricomycetes\",\"unknown\\u002funknown\\u002fDinophyceae\",\"unknown\\u002fRhodophyta\\u002fFlorideophyceae\",\"Metazoa\\u002fArthropoda\\u002fInsecta\",\"Metazoa\\u002fChordata\\u002fAves\",\"unknown\\u002funknown\\u002fBolidophyceae\",\"Fungi\\u002fMucoromycota\\u002fGlomeromycetes\",\"Viridiplantae\\u002fStreptophyta\\u002fBryopsida\",\"unknown\\u002fCiliophora\\u002fSpirotrichea\",\"Metazoa\\u002fMollusca\\u002fBivalvia\",\"unknown\\u002fEuglenozoa\\u002fEuglenida\",\"Metazoa\\u002fAnnelida\\u002fClitellata\",\"unknown\\u002fEuglenozoa\\u002fKinetoplastea\",\"Metazoa\\u002fChordata\\u002fActinopteri\",\"Fungi\\u002fAscomycota\\u002fEurotiomycetes\",\"Viridiplantae\\u002fChlorophyta\\u002fChlorophyceae\",\"Viridiplantae\\u002fChlorophyta\\u002fChlorophyceae\",\"Metazoa\\u002fChordata\\u002funknown\",\"unknown\\u002fRhodophyta\\u002fFlorideophyceae\",\"Viridiplantae\\u002fChlorophyta\",\"Metazoa\\u002fChordata\\u002fActinopteri\",\"Viridiplantae\\u002fStreptophyta\\u002fMagnoliopsida\",\"Metazoa\\u002fCtenophora\",\"Metazoa\\u002fChordata\\u002fAmphibia\",\"Metazoa\\u002fChordata\\u002fAves\",\"Metazoa\\u002fCnidaria\\u002fCubozoa\",\"unknown\\u002fDiscosea\",\"Metazoa\\u002fMollusca\\u002fBivalvia\",\"Metazoa\\u002fChordata\\u002fChondrichthyes\",\"unknown\\u002fEuglenozoa\",\"Fungi\\u002fBasidiomycota\\u002fAgaricomycetes\",\"Viridiplantae\\u002fStreptophyta\\u002fMagnoliopsida\",\"unknown\\u002fHaptophyta\",\"Metazoa\\u002fArthropoda\\u002fHexanauplia\",\"Viridiplantae\\u002fStreptophyta\\u002fBryopsida\",\"Metazoa\\u002fChordata\\u002fAves\",\"Viridiplantae\\u002fStreptophyta\\u002fBryopsida\",\"Viridiplantae\\u002fStreptophyta\\u002fMagnoliopsida\",\"unknown\\u002fParabasalia\",\"Fungi\\u002fAscomycota\\u002fDothideomycetes\",\"Metazoa\\u002fChordata\\u002fAves\",\"Metazoa\\u002fPlatyhelminthes\\u002fCestoda\",\"unknown\\u002funknown\\u002fRaphidophyceae\",\"Metazoa\\u002fChordata\\u002fMammalia\",\"Metazoa\\u002fChordata\\u002fAppendicularia\",\"unknown\\u002fCiliophora\",\"unknown\\u002fRhodophyta\\u002fCompsopogonophyceae\",\"Metazoa\\u002fEchinodermata\\u002fCrinoidea\",\"Metazoa\\u002fChordata\\u002fAves\",\"unknown\\u002fRhodophyta\",\"Metazoa\\u002fArthropoda\",\"unknown\\u002funknown\",\"Metazoa\\u002fCtenophora\",\"unknown\\u002fHaptophyta\\u002funknown\",\"unknown\\u002fHaptophyta\\u002funknown\",\"Metazoa\\u002fPorifera\\u002fCalcarea\",\"Viridiplantae\\u002fChlorophyta\",\"Metazoa\\u002fChordata\\u002fMammalia\",\"Viridiplantae\\u002fChlorophyta\",\"Metazoa\\u002fChordata\\u002fActinopteri\",\"Fungi\\u002fChytridiomycota\\u002fChytridiomycetes\",\"unknown\\u002funknown\\u002fChrysophyceae\",\"unknown\\u002fCiliophora\\u002fSpirotrichea\",\"Fungi\\u002fMucoromycota\",\"Metazoa\\u002fPlacozoa\",\"Viridiplantae\\u002fChlorophyta\\u002fChloropicophyceae\",\"Viridiplantae\\u002fChlorophyta\\u002fUlvophyceae\",\"Viridiplantae\\u002fChlorophyta\\u002fTrebouxiophyceae\",\"Viridiplantae\\u002fStreptophyta\\u002fMagnoliopsida\",\"unknown\\u002fApicomplexa\\u002fConoidasida\",\"Fungi\\u002fBasidiomycota\",\"Metazoa\\u002fBryozoa\\u002fGymnolaemata\",\"Viridiplantae\\u002fStreptophyta\",\"Viridiplantae\\u002fStreptophyta\\u002fMagnoliopsida\",\"Metazoa\\u002fChordata\\u002fActinopteri\",\"Metazoa\\u002fChordata\\u002fAves\",\"Metazoa\",\"Viridiplantae\\u002fStreptophyta\\u002fAnthocerotopsida\",\"Metazoa\\u002fCnidaria\\u002fHydrozoa\",\"Metazoa\\u002fChordata\\u002fAves\",\"unknown\",\"Metazoa\",\"Metazoa\\u002fArthropoda\\u002fMalacostraca\",\"Metazoa\\u002fChordata\\u002fLeptocardii\",\"Metazoa\\u002fEchinodermata\\u002fOphiuroidea\",\"unknown\\u002funknown\\u002fDinophyceae\",\"Viridiplantae\\u002fStreptophyta\\u002fMagnoliopsida\",\"Metazoa\",\"unknown\\u002fOomycota\\u002funknown\",\"unknown\\u002fRhodophyta\\u002fFlorideophyceae\",\"Fungi\\u002fBasidiomycota\\u002fAgaricomycetes\",\"Metazoa\\u002fRotifera\\u002fEurotatoria\",\"Metazoa\\u002fMollusca\\u002fBivalvia\",\"unknown\\u002fEvosea\\u002fEumycetozoa\",\"Metazoa\",\"Fungi\\u002fAscomycota\\u002fDothideomycetes\",\"Metazoa\",\"Fungi\",\"Metazoa\\u002fChordata\\u002fActinopteri\",\"Metazoa\\u002fChordata\\u002fAves\",\"Metazoa\\u002fChordata\\u002fActinopteri\",\"unknown\\u002funknown\\u002fChoanoflagellata\",\"unknown\",\"unknown\\u002fPerkinsozoa\",\"unknown\\u002funknown\\u002funknown\",\"Metazoa\",\"Metazoa\\u002fArthropoda\\u002fInsecta\",\"Fungi\\u002fBlastocladiomycota\\u002fBlastocladiomycetes\",\"Viridiplantae\\u002fStreptophyta\\u002fMarchantiopsida\",\"Metazoa\\u002fCnidaria\\u002fMyxozoa\",\"Metazoa\\u002fCtenophora\\u002fNuda\",\"unknown\\u002fundef\",\"Metazoa\\u002fChordata\\u002fActinopteri\",\"unknown\\u002fRhodophyta\\u002fFlorideophyceae\",\"Fungi\\u002funknown\",\"Fungi\\u002fZoopagomycota\\u002fBasidiobolomycetes\",\"Viridiplantae\\u002fStreptophyta\\u002fBryopsida\",\"Fungi\\u002fBasidiomycota\\u002fBartheletiomycetes\",\"unknown\\u002funknown\",\"Metazoa\",\"Viridiplantae\\u002fStreptophyta\\u002fMagnoliopsida\",\"Fungi\",\"Fungi\\u002fBasidiomycota\\u002fAgaricomycetes\",\"Metazoa\",\"unknown\",\"Viridiplantae\\u002fStreptophyta\\u002fMagnoliopsida\",\"Metazoa\\u002fChordata\\u002fMammalia\",\"Viridiplantae\\u002fStreptophyta\\u002fMagnoliopsida\",\"Metazoa\",\"unknown\",\"unknown\\u002fApicomplexa\\u002fConoidasida\",\"unknown\\u002fTubulinea\\u002fElardia\",\"Metazoa\",\"Viridiplantae\\u002fStreptophyta\\u002fMagnoliopsida\",\"unknown\\u002fRhodophyta\\u002fFlorideophyceae\",\"Viridiplantae\\u002fChlorophyta\\u002fChlorophyceae\",\"Metazoa\\u002fCtenophora\\u002fTentaculata\",\"unknown\\u002fCiliophora\\u002fColpodea\",\"Viridiplantae\\u002fChlorophyta\\u002fMamiellophyceae\",\"Viridiplantae\\u002fStreptophyta\",\"Metazoa\\u002fAcanthocephala\\u002fPalaeacanthocephala\",\"unknown\\u002funknown\\u002fPhaeophyceae\",\"Metazoa\\u002fChordata\\u002fActinopteri\",\"Metazoa\\u002fArthropoda\\u002fInsecta\",\"Fungi\\u002fAscomycota\",\"Metazoa\\u002fArthropoda\",\"Metazoa\\u002fArthropoda\\u002fHexanauplia\",\"Metazoa\\u002fPlatyhelminthes\\u002fCestoda\",\"unknown\\u002fBacillariophyta\\u002fFragilariophyceae\",\"Viridiplantae\\u002fStreptophyta\\u002fBryopsida\",\"Metazoa\\u002fAnnelida\\u002fClitellata\",\"Fungi\\u002fMucoromycota\\u002fEndogonomycetes\",\"Metazoa\\u002fMollusca\\u002fGastropoda\",\"Viridiplantae\\u002fStreptophyta\\u002fCycadopsida\",\"Fungi\\u002fBasidiomycota\\u002fCystobasidiomycetes\",\"Fungi\\u002fZoopagomycota\\u002fEntomophthoromycetes\",\"Fungi\\u002fAscomycota\",\"unknown\\u002funknown\",\"Viridiplantae\\u002fStreptophyta\\u002fMagnoliopsida\",\"Fungi\\u002fZoopagomycota\\u002fDimargaritomycetes\",\"unknown\\u002funknown\\u002fDinophyceae\",\"Metazoa\\u002fAcanthocephala\",\"Metazoa\\u002fNematoda\\u002fEnoplea\",\"Metazoa\\u002fNematoda\\u002fChromadorea\",\"Viridiplantae\\u002fChlorophyta\",\"unknown\\u002funknown\\u002fPhaeophyceae\",\"Fungi\\u002fAscomycota\",\"Metazoa\\u002fArthropoda\\u002fInsecta\",\"Viridiplantae\\u002fStreptophyta\\u002fMagnoliopsida\",\"Metazoa\\u002fPlatyhelminthes\\u002fCestoda\",\"Metazoa\\u002fNemertea\",\"unknown\\u002fEuglenozoa\\u002funknown\",\"Metazoa\\u002fChordata\",\"Metazoa\\u002fChordata\\u002fMammalia\",\"Metazoa\\u002fChordata\\u002fMammalia\",\"Fungi\\u002fMucoromycota\\u002fGlomeromycetes\",\"unknown\\u002funknown\\u002fCryptophyceae\",\"Viridiplantae\\u002fChlorophyta\",\"Metazoa\\u002fPlatyhelminthes\",\"unknown\\u002funknown\",\"Viridiplantae\\u002fStreptophyta\\u002fPolypodiopsida\",\"Viridiplantae\\u002fStreptophyta\\u002fMagnoliopsida\",\"Viridiplantae\\u002fStreptophyta\",\"Viridiplantae\\u002fStreptophyta\\u002fMagnoliopsida\",\"Metazoa\\u002fArthropoda\\u002fInsecta\",\"Metazoa\\u002fArthropoda\",\"Viridiplantae\\u002fChlorophyta\",\"Metazoa\\u002fChordata\\u002fAves\",\"unknown\\u002funknown\\u002fChoanoflagellata\",\"Fungi\\u002fBasidiomycota\",\"Viridiplantae\\u002fStreptophyta\\u002fMagnoliopsida\",\"Fungi\\u002fAscomycota\\u002fDothideomycetes\",\"unknown\\u002fRhodophyta\\u002fBangiophyceae\",\"Viridiplantae\\u002fStreptophyta\\u002fPolypodiopsida\",\"Fungi\\u002fBasidiomycota\\u002fAgaricomycetes\",\"unknown\\u002fRhodophyta\",\"Metazoa\\u002fChordata\",\"unknown\",\"Metazoa\\u002fArthropoda\\u002fMalacostraca\",\"unknown\",\"Metazoa\\u002fChordata\\u002fAves\",\"Fungi\\u002fAscomycota\",\"Fungi\\u002fMucoromycota\",\"Fungi\",\"unknown\",\"Metazoa\\u002fCnidaria\",\"\",\"unknown\\u002funknown\\u002fSynurophyceae\",\"Fungi\\u002fChytridiomycota\",\"Fungi\\u002fBasidiomycota\\u002fAgaricomycetes\",\"Metazoa\",\"Fungi\",\"unknown\",\"Metazoa\\u002fChordata\\u002fThaliacea\",\"Metazoa\\u002fPlatyhelminthes\\u002fTrematoda\",\"Fungi\\u002fAscomycota\\u002fSaccharomycetes\",\"Viridiplantae\\u002fStreptophyta\",\"Metazoa\",\"Viridiplantae\\u002fStreptophyta\",\"Metazoa\\u002fBrachiopoda\",\"unknown\\u002fCiliophora\",\"Metazoa\",\"Fungi\\u002fZoopagomycota\",\"Metazoa\\u002fArthropoda\\u002fMalacostraca\",\"Metazoa\\u002fArthropoda\\u002fInsecta\",\"unknown\",\"unknown\\u002fApicomplexa\",\"unknown\",\"Metazoa\\u002fChordata\\u002fActinopteri\",\"unknown\",\"Viridiplantae\\u002fStreptophyta\\u002fMagnoliopsida\",\"Metazoa\",\"Metazoa\",\"Metazoa\\u002fArthropoda\",\"unknown\",\"Metazoa\\u002fEchinodermata\",\"Metazoa\\u002fPorifera\",\"Metazoa\",\"Viridiplantae\\u002fStreptophyta\\u002fMarchantiopsida\",\"Metazoa\\u002fArthropoda\",\"Metazoa\\u002fAnnelida\\u002fPolychaeta\",\"Fungi\\u002fMucoromycota\",\"Fungi\\u002fBasidiomycota\",\"unknown\\u002fOomycota\\u002funknown\",\"unknown\\u002fCiliophora\",\"Fungi\",\"unknown\",\"unknown\\u002funknown\",\"Fungi\\u002fMucoromycota\",\"Fungi\\u002fBasidiomycota\",\"unknown\\u002fRhodophyta\",\"Metazoa\\u002fArthropoda\",\"Metazoa\\u002fChordata\\u002fMammalia\",\"Metazoa\",\"unknown\",\"Metazoa\",\"unknown\",\"Metazoa\\u002fCnidaria\",\"unknown\\u002funknown\\u002fBigyra\",\"Metazoa\\u002fArthropoda\",\"Metazoa\\u002fArthropoda\",\"Metazoa\\u002fXenacoelomorpha\\u002funknown\",\"unknown\\u002fundef\\u002funknown\",\"Fungi\\u002fZoopagomycota\\u002fZoopagomycetes\",\"Fungi\\u002fBasidiomycota\",\"unknown\\u002fEvosea\",\"Fungi\\u002funknown\\u002funknown\",\"unknown\\u002funknown\\u002funknown\",\"Viridiplantae\\u002fStreptophyta\\u002fMagnoliopsida\",\"Metazoa\\u002fChordata\",\"Metazoa\\u002fArthropoda\\u002fMerostomata\",\"Viridiplantae\\u002fStreptophyta\\u002fGnetopsida\",\"Viridiplantae\\u002fStreptophyta\\u002fMagnoliopsida\",\"unknown\\u002funknown\",\"Fungi\\u002fAscomycota\",\"Metazoa\\u002fCnidaria\",\"Fungi\\u002fZoopagomycota\",\"unknown\\u002funknown\\u002fXanthophyceae\",\"Fungi\\u002fAscomycota\\u002fXylonomycetes\",\"Metazoa\\u002fChordata\\u002fActinopteri\",\"unknown\\u002fEndomyxa\\u002fAscetosporea\",\"unknown\\u002funknown\\u002fBolidophyceae\",\"Fungi\\u002fAscomycota\",\"Fungi\\u002fAscomycota\\u002fSordariomycetes\",\"Viridiplantae\\u002fStreptophyta\\u002fMesostigmatophyceae\",\"Metazoa\\u002fArthropoda\\u002fSymphyla\",\"Fungi\\u002fAscomycota\\u002funknown\",\"unknown\\u002fAscomycota\\u002funknown\",\"Viridiplantae\\u002fChlorophyta\\u002funknown\",\"Metazoa\\u002fEchinodermata\\u002fEchinoidea\",\"unknown\\u002funknown\",\"unknown\\u002fChordata\\u002funknown\",\"Metazoa\\u002fArthropoda\",\"Metazoa\\u002fCtenophora\\u002funknown\",\"Metazoa\\u002fChordata\",\"Fungi\\u002fChytridiomycota\\u002fChytridiomycetes\",\"Metazoa\\u002fArthropoda\",\"Metazoa\\u002fDicyemida\\u002funknown\",\"Metazoa\\u002fPlatyhelminthes\",\"Fungi\\u002fMicrosporidia\\u002funknown\",\"Metazoa\\u002fPhoronida\\u002funknown\",\"Viridiplantae\\u002fStreptophyta\",\"Metazoa\\u002fCtenophora\",\"unknown\\u002fApicomplexa\",\"Metazoa\\u002fPriapulida\",\"Viridiplantae\\u002fChlorophyta\",\"Fungi\\u002fChytridiomycota\",\"unknown\\u002fHeterolobosea\",\"Metazoa\\u002fChordata\\u002fAves\",\"unknown\\u002fOomycota\",\"Fungi\\u002fBasidiomycota\\u002fExobasidiomycetes\",\"Viridiplantae\\u002fChlorophyta\",\"unknown\\u002funknown\",\"Metazoa\\u002fChordata\\u002fChondrichthyes\",\"Fungi\\u002fAscomycota\",\"Metazoa\\u002fPhoronida\",\"Metazoa\\u002fEchinodermata\",\"Metazoa\\u002fArthropoda\",\"Metazoa\\u002fChordata\\u002funknown\",\"Fungi\\u002fBasidiomycota\",\"unknown\\u002fPreaxostyla\",\"Metazoa\\u002fPorifera\",\"Fungi\\u002fAscomycota\\u002fTaphrinomycetes\",\"unknown\\u002funknown\",\"unknown\\u002fFornicata\",\"Fungi\\u002fBasidiomycota\\u002fTremellomycetes\",\"Viridiplantae\\u002fChlorophyta\",\"Viridiplantae\\u002fPrasinodermophyta\",\"Viridiplantae\\u002fStreptophyta\",\"unknown\\u002funknown\",\"Viridiplantae\\u002fChlorophyta\\u002fUlvophyceae\",\"Fungi\\u002fBlastocladiomycota\",\"unknown\\u002fChlorophyta\",\"Metazoa\\u002fAnnelida\\u002fClitellata\",\"unknown\\u002funknown\",\"Metazoa\\u002fDicyemida\",\"Metazoa\\u002fMollusca\",\"Metazoa\\u002fEntoprocta\",\"Viridiplantae\\u002fStreptophyta\",\"Fungi\\u002fBasidiomycota\\u002fTremellomycetes\",\"Metazoa\\u002fArthropoda\\u002fInsecta\",\"Metazoa\\u002fPorifera\",\"Metazoa\\u002fPlacozoa\\u002fUniplacotomia\",\"unknown\\u002fEvosea\",\"unknown\\u002fForaminifera\",\"Viridiplantae\\u002fStreptophyta\\u002fHaplomitriopsida\",\"Metazoa\\u002fArthropoda\",\"Fungi\\u002fAscomycota\",\"Metazoa\\u002fAnnelida\\u002fClitellata\",\"Fungi\\u002fAscomycota\\u002fLeotiomycetes\",\"unknown\\u002fApicomplexa\\u002fConoidasida\",\"Metazoa\\u002fArthropoda\\u002fDiplopoda\",\"Metazoa\\u002fArthropoda\\u002fInsecta\",\"Metazoa\\u002fChordata\\u002fMammalia\",\"Metazoa\\u002fMollusca\\u002fBivalvia\",\"Metazoa\\u002fOnychophora\\u002fUdeonychophora\",\"Viridiplantae\\u002fChlorophyta\\u002fChlorodendrophyceae\",\"Metazoa\\u002fMollusca\\u002fPolyplacophora\",\"Metazoa\\u002fArthropoda\\u002fMalacostraca\",\"Metazoa\\u002fChordata\\u002fActinopteri\",\"Metazoa\\u002fArthropoda\\u002fPycnogonida\",\"unknown\\u002fEuglenozoa\\u002fKinetoplastea\",\"unknown\\u002fEuglenozoa\\u002fEuglenida\",\"Fungi\\u002fAscomycota\\u002fDothideomycetes\",\"Viridiplantae\\u002fStreptophyta\\u002fGnetopsida\",\"unknown\\u002fHaptophyta\\u002funknown\",\"Viridiplantae\\u002fStreptophyta\\u002fMagnoliopsida\",\"unknown\\u002funknown\\u002fPhaeophyceae\",\"Metazoa\\u002fChordata\\u002fActinopteri\",\"Metazoa\\u002fChordata\\u002fMammalia\",\"Metazoa\\u002fChordata\\u002fAves\",\"Metazoa\\u002fChordata\\u002fActinopteri\",\"Metazoa\\u002fCnidaria\\u002fMyxozoa\",\"Fungi\\u002fAscomycota\\u002fPezizomycetes\",\"Metazoa\\u002fChordata\\u002fAves\",\"Metazoa\\u002fChordata\\u002fAves\",\"Metazoa\\u002fArthropoda\\u002fInsecta\",\"Metazoa\\u002fArthropoda\\u002fInsecta\",\"Metazoa\\u002fEchinodermata\\u002fEchinoidea\",\"Viridiplantae\\u002fStreptophyta\\u002fPinopsida\",\"Fungi\\u002fBasidiomycota\\u002fExobasidiomycetes\",\"Viridiplantae\\u002fStreptophyta\\u002fMagnoliopsida\",\"Viridiplantae\\u002fStreptophyta\\u002fColeochaetophyceae\",\"Viridiplantae\\u002fChlorophyta\\u002fChlorophyceae\",\"unknown\\u002funknown\\u002fDictyochophyceae\",\"Viridiplantae\\u002fStreptophyta\\u002fMarchantiopsida\",\"Viridiplantae\\u002fStreptophyta\\u002fZygnemophyceae\",\"Metazoa\\u002fEchinodermata\\u002fHolothuroidea\",\"Metazoa\\u002fChordata\\u002fMammalia\",\"Viridiplantae\\u002fStreptophyta\\u002fBryopsida\",\"Metazoa\\u002fChordata\\u002fMammalia\",\"Metazoa\\u002fArthropoda\\u002fBranchiopoda\",\"Viridiplantae\\u002fStreptophyta\\u002fMarchantiopsida\",\"Metazoa\\u002fChordata\\u002fMammalia\",\"Fungi\\u002fMucoromycota\\u002fMucoromycetes\",\"Metazoa\\u002fChordata\\u002fActinopteri\",\"Viridiplantae\\u002fStreptophyta\\u002fMagnoliopsida\",\"Fungi\\u002fBasidiomycota\\u002fCystobasidiomycetes\",\"Metazoa\\u002fArthropoda\\u002fInsecta\",\"Viridiplantae\\u002fStreptophyta\\u002fMagnoliopsida\",\"Metazoa\\u002fMollusca\\u002fBivalvia\",\"unknown\\u002fRhodophyta\\u002fRhodellophyceae\",\"Metazoa\\u002fChordata\\u002funknown\",\"unknown\\u002fBacillariophyta\\u002fBacillariophyceae\",\"Metazoa\\u002fAnnelida\\u002fClitellata\",\"unknown\\u002fRhodophyta\\u002fFlorideophyceae\",\"Fungi\\u002fAscomycota\\u002fDothideomycetes\",\"Metazoa\\u002fMollusca\\u002fGastropoda\",\"Viridiplantae\\u002fStreptophyta\\u002fMagnoliopsida\",\"unknown\\u002fBacillariophyta\\u002fCoscinodiscophyceae\",\"Fungi\\u002fAscomycota\\u002fNeolectomycetes\",\"Fungi\\u002fMucoromycota\\u002fGlomeromycetes\",\"Metazoa\\u002fMollusca\\u002fCephalopoda\",\"Metazoa\\u002fArthropoda\\u002fInsecta\",\"Metazoa\\u002fArthropoda\\u002fInsecta\",\"Metazoa\\u002fEchinodermata\\u002fAsteroidea\",\"Metazoa\\u002fChordata\\u002fActinopteri\",\"Metazoa\\u002fChordata\\u002fAves\",\"Metazoa\\u002fArthropoda\\u002fIchthyostraca\",\"Viridiplantae\\u002fStreptophyta\\u002fGinkgoopsida\",\"Fungi\\u002fAscomycota\\u002fSordariomycetes\",\"unknown\\u002fCercozoa\\u002funknown\",\"Viridiplantae\\u002fStreptophyta\\u002fPinopsida\",\"Viridiplantae\\u002fStreptophyta\\u002fBryopsida\",\"Viridiplantae\\u002fStreptophyta\\u002fMagnoliopsida\",\"unknown\\u002fCiliophora\\u002fProstomatea\",\"Fungi\\u002fBasidiomycota\\u002fAgaricomycetes\",\"Metazoa\\u002fArthropoda\\u002fInsecta\",\"unknown\\u002funknown\\u002fCentroplasthelida\",\"Viridiplantae\\u002fStreptophyta\\u002fAndreaeopsida\",\"Metazoa\\u002fChordata\\u002fActinopteri\",\"Viridiplantae\\u002fStreptophyta\\u002fBryopsida\",\"Viridiplantae\\u002fStreptophyta\\u002fMagnoliopsida\",\"unknown\\u002funknown\\u002fDinophyceae\",\"Metazoa\\u002fChordata\\u002fAmphibia\",\"unknown\\u002fApicomplexa\\u002fMarosporida\",\"Metazoa\\u002fChordata\\u002fActinopteri\",\"unknown\\u002fApicomplexa\\u002fAconoidasida\",\"unknown\\u002fRhodophyta\\u002fFlorideophyceae\",\"unknown\\u002fRhodophyta\\u002fFlorideophyceae\",\"Metazoa\\u002fChordata\\u002fActinopteri\",\"unknown\\u002fRhodophyta\\u002fRhodellophyceae\",\"unknown\\u002fRhodophyta\\u002fFlorideophyceae\",\"Viridiplantae\\u002fChlorophyta\\u002fPalmophyllophyceae\",\"Viridiplantae\\u002fStreptophyta\\u002fBryopsida\",\"Metazoa\\u002fPorifera\\u002fDemospongiae\",\"Viridiplantae\\u002fStreptophyta\\u002fMagnoliopsida\",\"unknown\\u002fRhodophyta\\u002fBangiophyceae\",\"unknown\\u002fRhodophyta\\u002fFlorideophyceae\",\"unknown\\u002fBacillariophyta\\u002fBacillariophyceae\",\"Metazoa\\u002fMollusca\\u002fGastropoda\",\"Metazoa\\u002fArthropoda\\u002fThecostraca\",\"\",\"unknown\\u002fRhodophyta\\u002fFlorideophyceae\",\"Metazoa\\u002fArthropoda\\u002fDiplopoda\",\"Metazoa\\u002fArthropoda\\u002fThecostraca\",\"Metazoa\\u002fEchinodermata\\u002fHolothuroidea\",\"Metazoa\\u002fArthropoda\\u002fChilopoda\",\"unknown\\u002fRhodophyta\\u002fBangiophyceae\",\"Fungi\\u002fBasidiomycota\\u002fAgaricomycetes\",\"Fungi\\u002fBasidiomycota\\u002fAgaricomycetes\",\"Fungi\\u002fAscomycota\\u002fPneumocystomycetes\",\"Metazoa\\u002fChordata\\u002fActinopteri\",\"Metazoa\\u002fChordata\\u002fActinopteri\",\"Fungi\\u002fChytridiomycota\",\"Fungi\\u002fBasidiomycota\",\"Fungi\\u002fAscomycota\",\"Metazoa\\u002fArthropoda\\u002funknown\",\"unknown\\u002fFornicata\\u002funknown\",\"unknown\\u002fNebulidia\",\"unknown\\u002funknown\\u002fDictyochophyceae\",\"Viridiplantae\\u002fStreptophyta\\u002fMagnoliopsida\",\"unknown\\u002funknown\\u002fPhaeophyceae\",\"unknown\\u002fBacillariophyta\",\"Metazoa\\u002fChordata\\u002fMammalia\",\"unknown\\u002fEvosea\\u002fEumycetozoa\",\"unknown\\u002fCiliophora\",\"Metazoa\\u002fEchinodermata\",\"Metazoa\\u002fChordata\\u002fAves\",\"Viridiplantae\\u002fStreptophyta\\u002fMagnoliopsida\",\"Viridiplantae\\u002fStreptophyta\",\"Viridiplantae\\u002fStreptophyta\\u002fGnetopsida\",\"Fungi\\u002fBasidiomycota\",\"unknown\\u002fDiscosea\",\"unknown\\u002funknown\\u002fGlaucocystophyceae\",\"unknown\\u002fEvosea\",\"unknown\\u002fBacillariophyta\",\"unknown\\u002fEuglenozoa\",\"Viridiplantae\\u002fStreptophyta\",\"unknown\\u002funknown\",\"Metazoa\\u002fChordata\",\"unknown\\u002fCercozoa\\u002fImbricatea\",\"Viridiplantae\\u002fStreptophyta\\u002fMagnoliopsida\",\"Metazoa\\u002fChordata\\u002fActinopteri\",\"Metazoa\\u002fChordata\",\"Viridiplantae\\u002fStreptophyta\",\"Viridiplantae\\u002fChlorophyta\",\"unknown\\u002funknown\\u002fGlaucocystophyceae\",\"Fungi\\u002fMucoromycota\\u002fGlomeromycetes\",\"Viridiplantae\\u002fStreptophyta\",\"Metazoa\\u002fArthropoda\\u002fCollembola\",\"unknown\\u002fBacillariophyta\",\"Fungi\\u002fMucoromycota\",\"unknown\\u002fTubulinea\",\"Viridiplantae\\u002fStreptophyta\\u002fMagnoliopsida\",\"Fungi\\u002fAscomycota\",\"Fungi\\u002fBasidiomycota\\u002fExobasidiomycetes\",\"unknown\\u002fRhodophyta\\u002fBangiophyceae\",\"Viridiplantae\\u002fStreptophyta\\u002fMagnoliopsida\",\"Viridiplantae\\u002fChlorophyta\",\"Metazoa\",\"Metazoa\\u002fArthropoda\\u002fInsecta\",\"Metazoa\\u002fMollusca\\u002fGastropoda\",\"Metazoa\\u002fMollusca\\u002fBivalvia\",\"Viridiplantae\",\"Viridiplantae\\u002fStreptophyta\\u002fMagnoliopsida\",\"Fungi\\u002fAscomycota\\u002fDothideomycetes\",\"Fungi\",\"Fungi\",\"Metazoa\\u002fPorifera\\u002fDemospongiae\",\"unknown\\u002fRhodophyta\\u002fFlorideophyceae\",\"Metazoa\\u002fChordata\\u002fActinopteri\",\"Viridiplantae\\u002fStreptophyta\\u002fMagnoliopsida\",\"unknown\\u002funknown\\u002fBigyra\",\"unknown\\u002fPlacozoa\",\"Metazoa\\u002fAnnelida\\u002fClitellata\",\"unknown\",\"Metazoa\\u002fArthropoda\\u002fArachnida\",\"Metazoa\\u002fMollusca\\u002fGastropoda\",\"unknown\",\"\",\"Viridiplantae\\u002fStreptophyta\\u002fMagnoliopsida\",\"unknown\\u002fRhodophyta\\u002fFlorideophyceae\",\"unknown\",\"Viridiplantae\",\"Metazoa\\u002fCnidaria\\u002fAnthozoa\",\"Viridiplantae\",\"Metazoa\",\"unknown\",\"Metazoa\\u002fArthropoda\\u002fArachnida\",\"Metazoa\\u002fChordata\\u002fActinopteri\",\"Metazoa\",\"Metazoa\\u002fArthropoda\\u002fBranchiopoda\",\"Metazoa\",\"Fungi\",\"unknown\",\"unknown\",\"Viridiplantae\\u002fChlorophyta\\u002fUlvophyceae\",\"Fungi\\u002fMicrosporidia\",\"Viridiplantae\\u002fStreptophyta\\u002fMagnoliopsida\",\"Fungi\\u002fAscomycota\\u002fDothideomycetes\",\"Fungi\\u002fZoopagomycota\\u002fHarpellomycetes\",\"Metazoa\\u002fCnidaria\\u002fAnthozoa\",\"Fungi\\u002fAscomycota\",\"unknown\\u002fBacillariophyta\\u002fCoscinodiscophyceae\",\"unknown\\u002fCiliophora\\u002fLitostomatea\",\"unknown\\u002fBacillariophyta\\u002fMediophyceae\",\"Metazoa\\u002fChordata\\u002fActinopteri\",\"Fungi\\u002fBasidiomycota\\u002fTremellomycetes\",\"Metazoa\\u002fAnnelida\",\"Fungi\\u002fBasidiomycota\\u002fDacrymycetes\",\"unknown\\u002fDiscosea\\u002fFlabellinia\",\"Metazoa\\u002fArthropoda\\u002fMalacostraca\",\"Metazoa\\u002fPorifera\\u002fDemospongiae\",\"unknown\\u002fEndomyxa\",\"Metazoa\\u002fBryozoa\",\"Viridiplantae\\u002fStreptophyta\\u002fAnthocerotopsida\",\"Fungi\\u002fAscomycota\\u002fSordariomycetes\",\"Fungi\\u002fAscomycota\\u002fSordariomycetes\",\"Viridiplantae\\u002fStreptophyta\\u002fBryopsida\",\"unknown\\u002funknown\\u002funknown\",\"Fungi\\u002fAscomycota\",\"Viridiplantae\\u002fStreptophyta\\u002fMagnoliopsida\",\"Fungi\\u002fCryptomycota\",\"unknown\\u002fChordata\",\"unknown\\u002fEvosea\\u002fVariosea\",\"unknown\\u002fCercozoa\",\"unknown\\u002fAscomycota\",\"Viridiplantae\\u002fStreptophyta\\u002fMagnoliopsida\",\"unknown\\u002fBacillariophyta\\u002fCoscinodiscophyceae\",\"Viridiplantae\\u002fStreptophyta\\u002fCharophyceae\",\"Viridiplantae\\u002fStreptophyta\\u002fChlorokybophyceae\",\"Viridiplantae\\u002fChlorophyta\\u002fChlorophyceae\",\"Metazoa\\u002fOnychophora\",\"Fungi\\u002fBasidiomycota\",\"Fungi\\u002fAscomycota\\u002fDothideomycetes\",\"Metazoa\\u002fChordata\\u002fActinopteri\",\"Metazoa\\u002fEchinodermata\\u002fEchinoidea\",\"Metazoa\\u002fChordata\\u002funknown\",\"Metazoa\\u002fChordata\\u002fAves\",\"Metazoa\\u002fChordata\\u002fAves\",\"Metazoa\\u002fChordata\\u002fCladistia\",\"Metazoa\\u002fNemertea\\u002fPilidiophora\",\"Metazoa\\u002fMollusca\\u002fCephalopoda\",\"Metazoa\\u002fChordata\\u002fMammalia\",\"Fungi\\u002fBasidiomycota\\u002fMicrobotryomycetes\",\"Metazoa\\u002fPriapulida\\u002fPriapulimorpha\",\"Viridiplantae\\u002fChlorophyta\\u002fMamiellophyceae\",\"Viridiplantae\\u002fChlorophyta\\u002fTrebouxiophyceae\",\"unknown\\u002fCercozoa\\u002fChlorarachniophyceae\",\"Metazoa\\u002fChordata\\u002fChondrichthyes\",\"Viridiplantae\\u002fPrasinodermophyta\\u002fPrasinodermophyceae\",\"Viridiplantae\\u002fChlorophyta\\u002fChlorophyceae\",\"Metazoa\\u002fChordata\\u002fAves\",\"Fungi\\u002fBasidiomycota\\u002fUstilaginomycetes\",\"Metazoa\\u002fArthropoda\\u002fDiplopoda\",\"Metazoa\\u002fMollusca\\u002fCephalopoda\",\"Fungi\\u002fAscomycota\\u002fSordariomycetes\",\"Metazoa\\u002fArthropoda\\u002fInsecta\",\"Metazoa\\u002fArthropoda\\u002fHexanauplia\",\"unknown\\u002funknown\\u002fChrysophyceae\",\"Metazoa\\u002fCtenophora\\u002fTentaculata\",\"Metazoa\\u002fChordata\\u002fActinopteri\",\"Metazoa\\u002fAnnelida\\u002fPolychaeta\",\"Metazoa\\u002fPlatyhelminthes\\u002fRhabditophora\",\"Fungi\\u002fAscomycota\\u002fSordariomycetes\",\"unknown\\u002fEuglenozoa\\u002fKinetoplastea\",\"unknown\\u002funknown\\u002fDinophyceae\",\"Metazoa\\u002fMollusca\\u002fGastropoda\",\"Metazoa\\u002fArthropoda\\u002fInsecta\",\"Metazoa\\u002fCnidaria\\u002fHydrozoa\",\"Viridiplantae\\u002fStreptophyta\\u002fMagnoliopsida\",\"Metazoa\\u002fCnidaria\\u002fAnthozoa\",\"Viridiplantae\\u002fStreptophyta\\u002fMagnoliopsida\",\"Viridiplantae\\u002fChlorophyta\\u002fMamiellophyceae\",\"Metazoa\\u002fPlatyhelminthes\\u002fMonogenea\",\"Metazoa\\u002fEchinodermata\\u002fAsteroidea\",\"unknown\\u002fCiliophora\\u002fSpirotrichea\",\"Metazoa\\u002fChordata\\u002fLepidosauria\",\"Viridiplantae\\u002fChlorophyta\\u002fNephroselmidophyceae\",\"Metazoa\\u002fPorifera\\u002fDemospongiae\",\"unknown\\u002funknown\\u002fDinophyceae\",\"unknown\\u002funknown\\u002fDinophyceae\",\"Viridiplantae\\u002fStreptophyta\\u002fMagnoliopsida\",\"Metazoa\\u002fTardigrada\\u002fEutardigrada\",\"Metazoa\\u002fEchinodermata\\u002fAsteroidea\",\"Fungi\\u002fAscomycota\\u002fLecanoromycetes\",\"Viridiplantae\\u002fChlorophyta\\u002fPicocystophyceae\",\"unknown\\u002funknown\\u002fDictyochophyceae\",\"unknown\\u002fBacillariophyta\\u002fCoscinodiscophyceae\",\"unknown\\u002fEvosea\\u002fEumycetozoa\",\"unknown\\u002fBacillariophyta\\u002fFragilariophyceae\",\"Viridiplantae\\u002fStreptophyta\\u002fTetraphidopsida\",\"Fungi\\u002fAscomycota\\u002fEurotiomycetes\",\"Metazoa\\u002fMollusca\\u002fBivalvia\",\"Metazoa\\u002fMollusca\\u002fGastropoda\",\"unknown\\u002fDiscosea\\u002funknown\",\"Metazoa\\u002fPlatyhelminthes\\u002fTrematoda\",\"Metazoa\\u002fArthropoda\\u002fCollembola\",\"Viridiplantae\\u002fStreptophyta\\u002fMagnoliopsida\",\"unknown\\u002fBacillariophyta\\u002fFragilariophyceae\",\"unknown\\u002funknown\\u002fSynurophyceae\",\"unknown\\u002fEuglenozoa\\u002fKinetoplastea\",\"Metazoa\\u002fMollusca\\u002fCephalopoda\",\"Metazoa\\u002fNematoda\\u002fChromadorea\",\"Metazoa\\u002fArthropoda\\u002fInsecta\",\"Viridiplantae\\u002fStreptophyta\\u002fMagnoliopsida\",\"Metazoa\\u002fChordata\\u002fActinopteri\",\"unknown\\u002fEndomyxa\\u002fPhytomyxea\",\"Metazoa\\u002fArthropoda\\u002fArachnida\",\"Metazoa\\u002fChordata\\u002fAves\",\"Metazoa\\u002fChordata\\u002fChondrichthyes\",\"unknown\\u002fParabasalia\\u002funknown\",\"Viridiplantae\\u002fStreptophyta\\u002fBryopsida\",\"unknown\\u002fBacillariophyta\\u002fMediophyceae\",\"Viridiplantae\\u002fStreptophyta\\u002fLycopodiopsida\",\"Metazoa\\u002fArthropoda\\u002fThecostraca\",\"Fungi\\u002fZoopagomycota\\u002funknown\",\"Metazoa\\u002fArthropoda\\u002fArachnida\",\"Metazoa\\u002fChordata\\u002fChondrichthyes\",\"unknown\\u002funknown\\u002fCryptophyceae\",\"Viridiplantae\\u002fStreptophyta\\u002fMagnoliopsida\",\"Metazoa\\u002fChordata\",\"Metazoa\\u002fMollusca\",\"Viridiplantae\\u002fStreptophyta\\u002fLycopodiopsida\",\"unknown\\u002fEndomyxa\",\"Metazoa\\u002fArthropoda\\u002fMalacostraca\",\"Metazoa\\u002fArthropoda\\u002fArachnida\",\"Viridiplantae\\u002fStreptophyta\",\"unknown\\u002funknown\\u002fSynchromophyceae\",\"Fungi\\u002fAscomycota\\u002fSchizosaccharomycetes\",\"Metazoa\\u002fChordata\",\"Fungi\\u002fBasidiomycota\",\"unknown\\u002fCiliophora\\u002fOligohymenophorea\",\"unknown\\u002fBacillariophyta\\u002fFragilariophyceae\",\"unknown\\u002funknown\\u002funknown\",\"unknown\\u002fRhodophyta\\u002fCompsopogonophyceae\",\"unknown\\u002funknown\",\"unknown\\u002fCiliophora\\u002fHeterotrichea\",\"Viridiplantae\\u002fStreptophyta\\u002fBryopsida\",\"Viridiplantae\\u002fStreptophyta\",\"Viridiplantae\\u002fStreptophyta\\u002fMagnoliopsida\",\"unknown\\u002fDiscosea\\u002funknown\",\"unknown\\u002funknown\\u002fDictyochophyceae\",\"Viridiplantae\\u002fStreptophyta\",\"Metazoa\\u002fAnnelida\\u002fClitellata\",\"Metazoa\\u002fMollusca\",\"Metazoa\\u002fChordata\\u002fChondrichthyes\",\"Viridiplantae\\u002fStreptophyta\\u002fMagnoliopsida\",\"unknown\\u002fCercozoa\",\"Metazoa\\u002fCnidaria\\u002fAnthozoa\",\"unknown\\u002fPerkinsozoa\\u002funknown\",\"Metazoa\\u002fEntoprocta\\u002funknown\",\"unknown\\u002fBacillariophyta\\u002fFragilariophyceae\",\"Fungi\\u002fBasidiomycota\\u002fMicrobotryomycetes\",\"Fungi\\u002fCryptomycota\\u002funknown\",\"Metazoa\\u002fCnidaria\\u002fHydrozoa\",\"unknown\\u002fBacillariophyta\\u002fCoscinodiscophyceae\",\"Viridiplantae\\u002fStreptophyta\\u002fPolypodiopsida\",\"Metazoa\\u002fArthropoda\\u002fChilopoda\",\"Metazoa\\u002fArthropoda\\u002fInsecta\",\"unknown\\u002fHeterolobosea\\u002funknown\",\"Metazoa\\u002fMollusca\\u002fGastropoda\",\"Viridiplantae\\u002fStreptophyta\\u002fJungermanniopsida\",\"Fungi\\u002fAscomycota\\u002fDothideomycetes\",\"unknown\\u002fEvosea\\u002fVariosea\",\"unknown\\u002fApicomplexa\\u002funknown\",\"Fungi\\u002fAscomycota\\u002fLecanoromycetes\",\"Metazoa\\u002fChordata\\u002fChondrichthyes\",\"Metazoa\\u002fBrachiopoda\\u002fLingulata\",\"Metazoa\\u002fMollusca\\u002fBivalvia\",\"Viridiplantae\\u002fStreptophyta\\u002fMagnoliopsida\",\"Viridiplantae\\u002fStreptophyta\\u002fMagnoliopsida\",\"Metazoa\\u002fArthropoda\\u002fChilopoda\",\"Viridiplantae\\u002fStreptophyta\\u002fKlebsormidiophyceae\",\"unknown\\u002fHaptophyta\\u002funknown\",\"Metazoa\\u002fTardigrada\\u002fEutardigrada\",\"Metazoa\\u002fChordata\\u002fAves\",\"unknown\",\"Fungi\\u002fBasidiomycota\\u002fPucciniomycetes\",\"unknown\",\"Metazoa\\u002fAnnelida\\u002fPolychaeta\",\"unknown\",\"Fungi\\u002fAscomycota\\u002fLecanoromycetes\",\"Metazoa\\u002fXenacoelomorpha\\u002funknown\",\"unknown\",\"unknown\\u002funknown\\u002fCentroplasthelida\",\"Metazoa\\u002fMollusca\\u002fCephalopoda\",\"unknown\\u002fApicomplexa\\u002fAconoidasida\",\"Fungi\\u002fZoopagomycota\",\"unknown\\u002fRhodophyta\\u002fFlorideophyceae\",\"Fungi\\u002fBasidiomycota\\u002fAgaricomycetes\",\"Metazoa\\u002fChordata\\u002fLepidosauria\",\"Metazoa\\u002fChordata\\u002fActinopteri\",\"Metazoa\\u002fEchinodermata\\u002fAsteroidea\",\"Metazoa\\u002fMollusca\\u002fCephalopoda\",\"Metazoa\\u002fChordata\\u002fChondrichthyes\",\"Fungi\\u002fMucoromycota\\u002fGlomeromycetes\",\"Metazoa\\u002fChordata\\u002fMammalia\",\"Viridiplantae\\u002fChlorophyta\\u002fPyramimonadophyceae\",\"Metazoa\",\"Fungi\",\"Metazoa\\u002fChordata\\u002fActinopteri\",\"Metazoa\\u002fChordata\\u002fActinopteri\",\"Metazoa\\u002fXenacoelomorpha\",\"Metazoa\",\"Metazoa\\u002fChordata\\u002fAmphibia\",\"Fungi\\u002fBasidiomycota\\u002fMicrobotryomycetes\",\"Metazoa\\u002fChordata\\u002fActinopteri\",\"Metazoa\\u002fChordata\\u002fAves\",\"Metazoa\\u002fChordata\",\"Viridiplantae\\u002fStreptophyta\",\"unknown\\u002fApicomplexa\",\"Fungi\\u002fZoopagomycota\\u002fKickxellomycetes\",\"unknown\\u002funknown\\u002fEustigmatophyceae\",\"Viridiplantae\\u002fStreptophyta\",\"Fungi\\u002fAscomycota\",\"Metazoa\\u002fChordata\\u002fActinopteri\",\"Metazoa\\u002fArthropoda\\u002fChilopoda\",\"unknown\\u002fRhodophyta\\u002fCompsopogonophyceae\",\"Fungi\\u002fAscomycota\\u002fLeotiomycetes\",\"Fungi\\u002fBasidiomycota\\u002fExobasidiomycetes\",\"Viridiplantae\\u002fChlorophyta\\u002fUlvophyceae\",\"Viridiplantae\\u002fChlorophyta\\u002fTrebouxiophyceae\",\"Metazoa\\u002fArthropoda\\u002fProtura\",\"Metazoa\\u002fPlatyhelminthes\",\"Metazoa\\u002fMollusca\\u002fBivalvia\",\"unknown\\u002funknown\\u002funknown\",\"Viridiplantae\\u002fChlorophyta\\u002fPedinophyceae\",\"Metazoa\\u002fChordata\\u002fActinopteri\",\"Fungi\\u002fBasidiomycota\",\"Metazoa\\u002fArthropoda\",\"unknown\\u002funknown\",\"Metazoa\\u002fNematoda\",\"unknown\\u002fApicomplexa\",\"Metazoa\\u002fChordata\",\"Viridiplantae\\u002fChlorophyta\",\"Viridiplantae\\u002fStreptophyta\",\"Metazoa\\u002fArthropoda\",\"unknown\\u002funknown\",\"Metazoa\\u002fEchinodermata\",\"Metazoa\\u002fChordata\\u002fActinopteri\",\"Viridiplantae\\u002fStreptophyta\\u002fMagnoliopsida\",\"Metazoa\\u002fArthropoda\",\"Fungi\\u002fBasidiomycota\\u002fAgaricomycetes\",\"Metazoa\\u002fChordata\\u002fMammalia\",\"Metazoa\\u002fRotifera\",\"Viridiplantae\\u002fStreptophyta\\u002fPolypodiopsida\",\"unknown\\u002fRhodophyta\",\"unknown\\u002fCiliophora\\u002fOligohymenophorea\",\"Metazoa\\u002fChordata\\u002fMammalia\",\"unknown\\u002fCiliophora\",\"Fungi\\u002fAscomycota\\u002fEurotiomycetes\",\"Viridiplantae\\u002fStreptophyta\",\"Viridiplantae\\u002fStreptophyta\",\"Fungi\\u002fAscomycota\\u002fSordariomycetes\",\"Viridiplantae\\u002fChlorophyta\\u002fUlvophyceae\",\"Metazoa\\u002fChordata\\u002fAves\",\"Metazoa\\u002fNematoda\\u002fEnoplea\",\"Viridiplantae\\u002fStreptophyta\\u002fPolypodiopsida\",\"Fungi\\u002fBasidiomycota\\u002fAgaricomycetes\",\"unknown\\u002fPreaxostyla\\u002funknown\",\"Metazoa\\u002fCnidaria\\u002fCubozoa\",\"Metazoa\\u002fChordata\\u002fChondrichthyes\",\"Fungi\\u002fAscomycota\",\"Viridiplantae\\u002fChlorophyta\\u002fPedinophyceae\",\"Metazoa\\u002fChordata\",\"Fungi\\u002fChytridiomycota\\u002fChytridiomycetes\",\"Metazoa\\u002fChordata\\u002fActinopteri\",\"Metazoa\\u002fCnidaria\",\"unknown\\u002funknown\\u002fGlaucocystophyceae\",\"Viridiplantae\\u002fStreptophyta\\u002fMagnoliopsida\",\"Fungi\\u002fBasidiomycota\\u002fUstilaginomycetes\",\"unknown\\u002fDiscosea\\u002fFlabellinia\",\"Metazoa\\u002fChordata\\u002fMammalia\",\"unknown\\u002funknown\\u002fBreviatea\",\"Fungi\\u002fBasidiomycota\\u002fExobasidiomycetes\",\"Viridiplantae\\u002fChlorophyta\\u002fTrebouxiophyceae\",\"Viridiplantae\\u002fStreptophyta\",\"Metazoa\\u002fArthropoda\\u002fInsecta\",\"Metazoa\\u002fChordata\\u002fActinopteri\",\"Fungi\\u002fAscomycota\\u002fDothideomycetes\",\"Fungi\\u002fBasidiomycota\\u002fWallemiomycetes\",\"unknown\\u002fCiliophora\",\"Fungi\\u002fBasidiomycota\",\"Viridiplantae\\u002fStreptophyta\\u002fPinopsida\",\"unknown\\u002funknown\\u002fCryptophyceae\",\"Fungi\\u002fAscomycota\\u002fEurotiomycetes\",\"Metazoa\\u002fArthropoda\\u002fChilopoda\",\"unknown\\u002fRhodophyta\\u002fFlorideophyceae\",\"Fungi\\u002fMucoromycota\\u002fUmbelopsidomycetes\",\"unknown\\u002fRhodophyta\"],\"values\":[5121,156,4,156,2,2,7,18,6,5,26,69,381,2,22,8,8,3,442,1,2,21,13,36,4,17,6,3099,61,1,356,19,36,35,4,17,11,269,3,2,818,33,76,58,3,5,4006,2,33,4,11,44,6,9,11,12,18,9,23,10,27,5,2,5,265,30,2,3,25,34,58,4,7,359,62,32,31,40,23,19,45,88,41,8,88,18,2,2274,43,5,8173,11,91,32,22,117,700,7,81,1890,3,1,4,76,3,9,888,18,15,102,21,46,12,36,149,15,6,18,20,88,73,102,2,451,23,8,4,27,2,6,108,31,130,22,6,6,9,11,836,553,2,4,6,6,20,4,27,1,81,699,18,36,29,1,27,26,3,21,15,4,229,19,80,13,32,10,131,23,1847,3,2,515,40,4,702,7,24,29,31,15,14,6,1,8,18,4,84,1,2,360,11,10,28,3,8,25,16,6,6,139,25,46,25,3,5,1,23,76,74,2,10,71,39,5,1,6,146,11,14,8,101,61,14,3,8,34,3,12,7,8,27,2,4,150,1,22,1,108,33,36,9,1,9,16,108,2,31,9,2,44,119,24,6,5,1,13,22,3,6,27,144,18,6,8,98,25,48,192,3,82,3,11,35,10,6,12,230,53,650,358,3,1,20,4039,7,149,5,3,55,90,6,21,8,5,3,29,5,13,26,5,19,3,157,2,85,90,11,105,2,12,13,51,11,95,46,30,28,19,130,188,37,3,200,18,65,29,4,3,149,27,4,6,178,13,14,3,1699,113,6,69,34,9,18,4,20,19,6,26,65,9,6,5,287,23,4,8,8,13,103,5,4,7,9,1,127,1,90,10572,41,24,81,1716,251,271,4523,1,12,4,37,105,22,304,14,3,19,714,1,78,6,8,139,5,7,58,7,6,5,11,1,43,1,23,11,27,40,2,24,1,2,3,11,10,13,2,323,15,3,12,4,14,20,101,12,10,77,55,7,2219,64316,14,25,551,26,6,36,19,585,4,12,20,16,10,1143,180,62,2,1,9,260,79,13,15,20527,9,61,221,7,23,2,3,94,545,86,12843,539,7,17,173,22,10,4,9,16,7,85,206,3760,20,9,432,3,60,4,5,3,2,14,188,5,60,16,104,90,4,76,74,399,8,3,15,249,22,535,32,55,20,5,5,13,8,107,9,4,99,28,362,8,9,657,14,5,365,8,8,5,145,3,11,4739,37,7,5,11,2,25,5,12,1,2,3,3,2,46,5,161,10,9,100,8,2,5,51,40,52,10,206,33,15,349,1,82,9,5,16,80,5,3,69,11,130,7,154,63,17,9,77,38,23,2,2,35,5,9,15,315,21,34,11,13,19,82,2,8,2665,1,488,12,2,252,17,55,20,63,9,8,4,5,4,5,4,22,33,4536,165,30,164,2,186,3,82,9,3,138,13,50,2063,12,200,21,5,9,164,42,6,9,4,7,211,9,9,260,13,117,4,1290,1749,62,1,33,89,36,1,232,12,368,44,9,27,35,194,1027,14,51,32,2,62,2126,8,337,1,634,3,105,55,7,4,47,10,329,104,45,16,25,77,1,4,9,6,2,7,1,1,461,20,6,174,3,14,71494,1,1,19,54,14,21,39,555,11,2,4,3,24,7,8,7,4,37,11,8,408,248,140,3,4,2,786,18,5,68,30,3,221,104,147,34,5,246,18,20,19,22,36,188,14,47,180,132,117,11,4,2150,1552,7,15,2661,7,521,8,17,3,1041,2612,11,3,4568,10,1,26,67,17,1,6,894,2495,16,82,15910,103,14,4,70436,45,17,317,1,9,2,675,7,675,10,52,650,20,10,22,6,22,4,545,4,16,16,234,14,71,24,15,220,23,5,5,14,125,26,22,15,11,2770,3,1,4,8,2,16,95,16,8,1,20,197,25,56,6,10,2,4,15,3,3,1,20,5,2,4,55,1,17,58,3,5,4,2,1421,19,21,18,12,8,11,29,130,1,55,87,22,9,440,47,2978,167,3,31,2,243,10,23,100,6,44,33,6,8,15,33,180,12,36,6,2,25,21,6,42,32,11359,8,4,130,30,4,308,90,6,5,3,1,15,4,4,40,139,13,6,256,1,79,15,374,218,40,3,101,200,71,12,13,16,3933,10,7,4,3,62,16,8,8,1699,3,9,16,43,89,3,204,55,207,9,15,5,4,3,14,20,8,11,1408,52,47,7,3,5,2,59,3,7,17,4570,351,1,34,79,1,2,8,107,189,18,7,12,13,1787,2,18,15,6,11,3,3,22,10,1,12,7,8,26,84,547,22,3,18,303,235,50,5,6,2105,2,106,11,25,3,692,18,4,18,48,4,2,44,5,3,2,3,4,4,1,190,123,558,56,69,403,43,35,9,70,11,3,223,50,1,303,7,68,12,3,30,233,4,6,30,2,5,109,34,40,1,4,18,11,6,131,1,48,6,14,146,1,15,3,1,8,6,3719,4,267,32,28,3,107,1319,58,12,5,16,12,29],\"type\":\"sunburst\"}],                        {\"template\":{\"data\":{\"histogram2dcontour\":[{\"type\":\"histogram2dcontour\",\"colorbar\":{\"outlinewidth\":0,\"ticks\":\"\"},\"colorscale\":[[0.0,\"#0d0887\"],[0.1111111111111111,\"#46039f\"],[0.2222222222222222,\"#7201a8\"],[0.3333333333333333,\"#9c179e\"],[0.4444444444444444,\"#bd3786\"],[0.5555555555555556,\"#d8576b\"],[0.6666666666666666,\"#ed7953\"],[0.7777777777777778,\"#fb9f3a\"],[0.8888888888888888,\"#fdca26\"],[1.0,\"#f0f921\"]]}],\"choropleth\":[{\"type\":\"choropleth\",\"colorbar\":{\"outlinewidth\":0,\"ticks\":\"\"}}],\"histogram2d\":[{\"type\":\"histogram2d\",\"colorbar\":{\"outlinewidth\":0,\"ticks\":\"\"},\"colorscale\":[[0.0,\"#0d0887\"],[0.1111111111111111,\"#46039f\"],[0.2222222222222222,\"#7201a8\"],[0.3333333333333333,\"#9c179e\"],[0.4444444444444444,\"#bd3786\"],[0.5555555555555556,\"#d8576b\"],[0.6666666666666666,\"#ed7953\"],[0.7777777777777778,\"#fb9f3a\"],[0.8888888888888888,\"#fdca26\"],[1.0,\"#f0f921\"]]}],\"heatmap\":[{\"type\":\"heatmap\",\"colorbar\":{\"outlinewidth\":0,\"ticks\":\"\"},\"colorscale\":[[0.0,\"#0d0887\"],[0.1111111111111111,\"#46039f\"],[0.2222222222222222,\"#7201a8\"],[0.3333333333333333,\"#9c179e\"],[0.4444444444444444,\"#bd3786\"],[0.5555555555555556,\"#d8576b\"],[0.6666666666666666,\"#ed7953\"],[0.7777777777777778,\"#fb9f3a\"],[0.8888888888888888,\"#fdca26\"],[1.0,\"#f0f921\"]]}],\"heatmapgl\":[{\"type\":\"heatmapgl\",\"colorbar\":{\"outlinewidth\":0,\"ticks\":\"\"},\"colorscale\":[[0.0,\"#0d0887\"],[0.1111111111111111,\"#46039f\"],[0.2222222222222222,\"#7201a8\"],[0.3333333333333333,\"#9c179e\"],[0.4444444444444444,\"#bd3786\"],[0.5555555555555556,\"#d8576b\"],[0.6666666666666666,\"#ed7953\"],[0.7777777777777778,\"#fb9f3a\"],[0.8888888888888888,\"#fdca26\"],[1.0,\"#f0f921\"]]}],\"contourcarpet\":[{\"type\":\"contourcarpet\",\"colorbar\":{\"outlinewidth\":0,\"ticks\":\"\"}}],\"contour\":[{\"type\":\"contour\",\"colorbar\":{\"outlinewidth\":0,\"ticks\":\"\"},\"colorscale\":[[0.0,\"#0d0887\"],[0.1111111111111111,\"#46039f\"],[0.2222222222222222,\"#7201a8\"],[0.3333333333333333,\"#9c179e\"],[0.4444444444444444,\"#bd3786\"],[0.5555555555555556,\"#d8576b\"],[0.6666666666666666,\"#ed7953\"],[0.7777777777777778,\"#fb9f3a\"],[0.8888888888888888,\"#fdca26\"],[1.0,\"#f0f921\"]]}],\"surface\":[{\"type\":\"surface\",\"colorbar\":{\"outlinewidth\":0,\"ticks\":\"\"},\"colorscale\":[[0.0,\"#0d0887\"],[0.1111111111111111,\"#46039f\"],[0.2222222222222222,\"#7201a8\"],[0.3333333333333333,\"#9c179e\"],[0.4444444444444444,\"#bd3786\"],[0.5555555555555556,\"#d8576b\"],[0.6666666666666666,\"#ed7953\"],[0.7777777777777778,\"#fb9f3a\"],[0.8888888888888888,\"#fdca26\"],[1.0,\"#f0f921\"]]}],\"mesh3d\":[{\"type\":\"mesh3d\",\"colorbar\":{\"outlinewidth\":0,\"ticks\":\"\"}}],\"scatter\":[{\"fillpattern\":{\"fillmode\":\"overlay\",\"size\":10,\"solidity\":0.2},\"type\":\"scatter\"}],\"parcoords\":[{\"type\":\"parcoords\",\"line\":{\"colorbar\":{\"outlinewidth\":0,\"ticks\":\"\"}}}],\"scatterpolargl\":[{\"type\":\"scatterpolargl\",\"marker\":{\"colorbar\":{\"outlinewidth\":0,\"ticks\":\"\"}}}],\"bar\":[{\"error_x\":{\"color\":\"#2a3f5f\"},\"error_y\":{\"color\":\"#2a3f5f\"},\"marker\":{\"line\":{\"color\":\"#E5ECF6\",\"width\":0.5},\"pattern\":{\"fillmode\":\"overlay\",\"size\":10,\"solidity\":0.2}},\"type\":\"bar\"}],\"scattergeo\":[{\"type\":\"scattergeo\",\"marker\":{\"colorbar\":{\"outlinewidth\":0,\"ticks\":\"\"}}}],\"scatterpolar\":[{\"type\":\"scatterpolar\",\"marker\":{\"colorbar\":{\"outlinewidth\":0,\"ticks\":\"\"}}}],\"histogram\":[{\"marker\":{\"pattern\":{\"fillmode\":\"overlay\",\"size\":10,\"solidity\":0.2}},\"type\":\"histogram\"}],\"scattergl\":[{\"type\":\"scattergl\",\"marker\":{\"colorbar\":{\"outlinewidth\":0,\"ticks\":\"\"}}}],\"scatter3d\":[{\"type\":\"scatter3d\",\"line\":{\"colorbar\":{\"outlinewidth\":0,\"ticks\":\"\"}},\"marker\":{\"colorbar\":{\"outlinewidth\":0,\"ticks\":\"\"}}}],\"scattermapbox\":[{\"type\":\"scattermapbox\",\"marker\":{\"colorbar\":{\"outlinewidth\":0,\"ticks\":\"\"}}}],\"scatterternary\":[{\"type\":\"scatterternary\",\"marker\":{\"colorbar\":{\"outlinewidth\":0,\"ticks\":\"\"}}}],\"scattercarpet\":[{\"type\":\"scattercarpet\",\"marker\":{\"colorbar\":{\"outlinewidth\":0,\"ticks\":\"\"}}}],\"carpet\":[{\"aaxis\":{\"endlinecolor\":\"#2a3f5f\",\"gridcolor\":\"white\",\"linecolor\":\"white\",\"minorgridcolor\":\"white\",\"startlinecolor\":\"#2a3f5f\"},\"baxis\":{\"endlinecolor\":\"#2a3f5f\",\"gridcolor\":\"white\",\"linecolor\":\"white\",\"minorgridcolor\":\"white\",\"startlinecolor\":\"#2a3f5f\"},\"type\":\"carpet\"}],\"table\":[{\"cells\":{\"fill\":{\"color\":\"#EBF0F8\"},\"line\":{\"color\":\"white\"}},\"header\":{\"fill\":{\"color\":\"#C8D4E3\"},\"line\":{\"color\":\"white\"}},\"type\":\"table\"}],\"barpolar\":[{\"marker\":{\"line\":{\"color\":\"#E5ECF6\",\"width\":0.5},\"pattern\":{\"fillmode\":\"overlay\",\"size\":10,\"solidity\":0.2}},\"type\":\"barpolar\"}],\"pie\":[{\"automargin\":true,\"type\":\"pie\"}]},\"layout\":{\"autotypenumbers\":\"strict\",\"colorway\":[\"#636efa\",\"#EF553B\",\"#00cc96\",\"#ab63fa\",\"#FFA15A\",\"#19d3f3\",\"#FF6692\",\"#B6E880\",\"#FF97FF\",\"#FECB52\"],\"font\":{\"color\":\"#2a3f5f\"},\"hovermode\":\"closest\",\"hoverlabel\":{\"align\":\"left\"},\"paper_bgcolor\":\"white\",\"plot_bgcolor\":\"#E5ECF6\",\"polar\":{\"bgcolor\":\"#E5ECF6\",\"angularaxis\":{\"gridcolor\":\"white\",\"linecolor\":\"white\",\"ticks\":\"\"},\"radialaxis\":{\"gridcolor\":\"white\",\"linecolor\":\"white\",\"ticks\":\"\"}},\"ternary\":{\"bgcolor\":\"#E5ECF6\",\"aaxis\":{\"gridcolor\":\"white\",\"linecolor\":\"white\",\"ticks\":\"\"},\"baxis\":{\"gridcolor\":\"white\",\"linecolor\":\"white\",\"ticks\":\"\"},\"caxis\":{\"gridcolor\":\"white\",\"linecolor\":\"white\",\"ticks\":\"\"}},\"coloraxis\":{\"colorbar\":{\"outlinewidth\":0,\"ticks\":\"\"}},\"colorscale\":{\"sequential\":[[0.0,\"#0d0887\"],[0.1111111111111111,\"#46039f\"],[0.2222222222222222,\"#7201a8\"],[0.3333333333333333,\"#9c179e\"],[0.4444444444444444,\"#bd3786\"],[0.5555555555555556,\"#d8576b\"],[0.6666666666666666,\"#ed7953\"],[0.7777777777777778,\"#fb9f3a\"],[0.8888888888888888,\"#fdca26\"],[1.0,\"#f0f921\"]],\"sequentialminus\":[[0.0,\"#0d0887\"],[0.1111111111111111,\"#46039f\"],[0.2222222222222222,\"#7201a8\"],[0.3333333333333333,\"#9c179e\"],[0.4444444444444444,\"#bd3786\"],[0.5555555555555556,\"#d8576b\"],[0.6666666666666666,\"#ed7953\"],[0.7777777777777778,\"#fb9f3a\"],[0.8888888888888888,\"#fdca26\"],[1.0,\"#f0f921\"]],\"diverging\":[[0,\"#8e0152\"],[0.1,\"#c51b7d\"],[0.2,\"#de77ae\"],[0.3,\"#f1b6da\"],[0.4,\"#fde0ef\"],[0.5,\"#f7f7f7\"],[0.6,\"#e6f5d0\"],[0.7,\"#b8e186\"],[0.8,\"#7fbc41\"],[0.9,\"#4d9221\"],[1,\"#276419\"]]},\"xaxis\":{\"gridcolor\":\"white\",\"linecolor\":\"white\",\"ticks\":\"\",\"title\":{\"standoff\":15},\"zerolinecolor\":\"white\",\"automargin\":true,\"zerolinewidth\":2},\"yaxis\":{\"gridcolor\":\"white\",\"linecolor\":\"white\",\"ticks\":\"\",\"title\":{\"standoff\":15},\"zerolinecolor\":\"white\",\"automargin\":true,\"zerolinewidth\":2},\"scene\":{\"xaxis\":{\"backgroundcolor\":\"#E5ECF6\",\"gridcolor\":\"white\",\"linecolor\":\"white\",\"showbackground\":true,\"ticks\":\"\",\"zerolinecolor\":\"white\",\"gridwidth\":2},\"yaxis\":{\"backgroundcolor\":\"#E5ECF6\",\"gridcolor\":\"white\",\"linecolor\":\"white\",\"showbackground\":true,\"ticks\":\"\",\"zerolinecolor\":\"white\",\"gridwidth\":2},\"zaxis\":{\"backgroundcolor\":\"#E5ECF6\",\"gridcolor\":\"white\",\"linecolor\":\"white\",\"showbackground\":true,\"ticks\":\"\",\"zerolinecolor\":\"white\",\"gridwidth\":2}},\"shapedefaults\":{\"line\":{\"color\":\"#2a3f5f\"}},\"annotationdefaults\":{\"arrowcolor\":\"#2a3f5f\",\"arrowhead\":0,\"arrowwidth\":1},\"geo\":{\"bgcolor\":\"white\",\"landcolor\":\"#E5ECF6\",\"subunitcolor\":\"white\",\"showland\":true,\"showlakes\":true,\"lakecolor\":\"white\"},\"title\":{\"x\":0.05},\"mapbox\":{\"style\":\"light\"}}},\"legend\":{\"tracegroupgap\":0},\"margin\":{\"t\":60}},                        {\"responsive\": true}                    ).then(function(){\n",
       "                            \n",
       "var gd = document.getElementById('39058ff0-9acf-4193-9a8b-3ef0d99624d8');\n",
       "var x = new MutationObserver(function (mutations, observer) {{\n",
       "        var display = window.getComputedStyle(gd).display;\n",
       "        if (!display || display === 'none') {{\n",
       "            console.log([gd, 'removed!']);\n",
       "            Plotly.purge(gd);\n",
       "            observer.disconnect();\n",
       "        }}\n",
       "}});\n",
       "\n",
       "// Listen for the removal of the full notebook cells\n",
       "var notebookContainer = gd.closest('#notebook-container');\n",
       "if (notebookContainer) {{\n",
       "    x.observe(notebookContainer, {childList: true});\n",
       "}}\n",
       "\n",
       "// Listen for the clearing of the current output cell\n",
       "var outputEl = gd.closest('.output');\n",
       "if (outputEl) {{\n",
       "    x.observe(outputEl, {childList: true});\n",
       "}}\n",
       "\n",
       "                        })                };                });            </script>        </div>"
      ]
     },
     "metadata": {},
     "output_type": "display_data"
    }
   ],
   "source": [
    "#fig = px.sunburst(euk_df, path=['superkingdom','kingdom', 'phylum','class','order','family','genus','species'])\n",
    "fig = px.sunburst(euk_df, path=['kingdom', 'phylum','class','order'],  color='kingdom', color_discrete_map=eukaryota_color_map)\n",
    "fig.show()"
   ]
  },
  {
   "cell_type": "code",
   "execution_count": 48,
   "id": "bac33969-1ad3-4d23-97d8-8f00f3b271e2",
   "metadata": {
    "tags": []
   },
   "outputs": [],
   "source": [
    "fig = px.sunburst(euk_df, path=['kingdom', 'phylum','class','order'],  color='kingdom', color_discrete_map=eukaryota_color_map)\n",
    "fig.write_image(\"sunburst_plot_eukaryotes_updated.svg\")\n"
   ]
  },
  {
   "cell_type": "markdown",
   "id": "19d2e425-c5fb-483e-8d27-a25dd0f11a7c",
   "metadata": {},
   "source": [
    "# New taxa"
   ]
  },
  {
   "cell_type": "code",
   "execution_count": 16,
   "id": "3b350621-8e31-4a80-9e07-f56f3695b68c",
   "metadata": {
    "tags": []
   },
   "outputs": [
    {
     "name": "stderr",
     "output_type": "stream",
     "text": [
      "C:\\Users\\terca\\AppData\\Local\\Temp\\ipykernel_6900\\1386015551.py:1: DtypeWarning: Columns (8,9,10,11,12,13) have mixed types. Specify dtype option on import or set low_memory=False.\n",
      "  anno_df = pd.read_csv('novelty_score/all_annotation_with_tax_score.csv', index_col=0)\n"
     ]
    }
   ],
   "source": [
    "anno_df = pd.read_csv('novelty_score/all_annotation_with_tax_score.csv', index_col=0)"
   ]
  },
  {
   "cell_type": "code",
   "execution_count": 52,
   "id": "fa4b4752-c6cb-4a06-adfe-b9d8bf6adc5f",
   "metadata": {
    "tags": []
   },
   "outputs": [],
   "source": [
    "anno_df = anno_df[anno_df['id'].isin(final_ids)]"
   ]
  },
  {
   "cell_type": "code",
   "execution_count": 66,
   "id": "f5a12322-7193-4e2c-a36e-40fdb004dd6f",
   "metadata": {
    "tags": []
   },
   "outputs": [
    {
     "data": {
      "text/html": [
       "<div>\n",
       "<style scoped>\n",
       "    .dataframe tbody tr th:only-of-type {\n",
       "        vertical-align: middle;\n",
       "    }\n",
       "\n",
       "    .dataframe tbody tr th {\n",
       "        vertical-align: top;\n",
       "    }\n",
       "\n",
       "    .dataframe thead th {\n",
       "        text-align: right;\n",
       "    }\n",
       "</style>\n",
       "<table border=\"1\" class=\"dataframe\">\n",
       "  <thead>\n",
       "    <tr style=\"text-align: right;\">\n",
       "      <th></th>\n",
       "      <th>id</th>\n",
       "      <th>superkingdom</th>\n",
       "      <th>kingdom</th>\n",
       "      <th>phylum</th>\n",
       "      <th>class</th>\n",
       "      <th>order</th>\n",
       "      <th>family</th>\n",
       "      <th>genus</th>\n",
       "      <th>species</th>\n",
       "    </tr>\n",
       "  </thead>\n",
       "  <tbody>\n",
       "    <tr>\n",
       "      <th>156</th>\n",
       "      <td>bfd_051353</td>\n",
       "      <td>Eukaryota</td>\n",
       "      <td>Metazoa</td>\n",
       "      <td>Nematoda</td>\n",
       "      <td>Chromadorea</td>\n",
       "      <td>Strongylida</td>\n",
       "      <td>Ancylostomatidae</td>\n",
       "      <td>Ancylostoma</td>\n",
       "      <td>Ancylostomatidae</td>\n",
       "    </tr>\n",
       "    <tr>\n",
       "      <th>371</th>\n",
       "      <td>bfd_134078</td>\n",
       "      <td>Eukaryota</td>\n",
       "      <td>unknown</td>\n",
       "      <td>Evosea</td>\n",
       "      <td>Eumycetozoa</td>\n",
       "      <td>Acytosteliales</td>\n",
       "      <td>Acytosteliaceae</td>\n",
       "      <td>Acytostelium</td>\n",
       "      <td>Acytosteliaceae</td>\n",
       "    </tr>\n",
       "    <tr>\n",
       "      <th>385</th>\n",
       "      <td>bfd_082404</td>\n",
       "      <td>Eukaryota</td>\n",
       "      <td>Fungi</td>\n",
       "      <td>Ascomycota</td>\n",
       "      <td>Leotiomycetes</td>\n",
       "      <td>Helotiales</td>\n",
       "      <td>Sclerotiniaceae</td>\n",
       "      <td>Sclerotinia</td>\n",
       "      <td>Sclerotiniaceae</td>\n",
       "    </tr>\n",
       "    <tr>\n",
       "      <th>411</th>\n",
       "      <td>bfd_019468</td>\n",
       "      <td>Eukaryota</td>\n",
       "      <td>Fungi</td>\n",
       "      <td>Ascomycota</td>\n",
       "      <td>Dothideomycetes</td>\n",
       "      <td>Mycosphaerellales</td>\n",
       "      <td>Mycosphaerellaceae</td>\n",
       "      <td>Pseudocercospora</td>\n",
       "      <td>Mycosphaerellaceae</td>\n",
       "    </tr>\n",
       "    <tr>\n",
       "      <th>521</th>\n",
       "      <td>bfd_008333</td>\n",
       "      <td>Eukaryota</td>\n",
       "      <td>Fungi</td>\n",
       "      <td>Basidiomycota</td>\n",
       "      <td>Agaricomycetes</td>\n",
       "      <td>Polyporales</td>\n",
       "      <td>Fomitopsidaceae</td>\n",
       "      <td>Daedalea</td>\n",
       "      <td>Fomitopsidaceae</td>\n",
       "    </tr>\n",
       "    <tr>\n",
       "      <th>...</th>\n",
       "      <td>...</td>\n",
       "      <td>...</td>\n",
       "      <td>...</td>\n",
       "      <td>...</td>\n",
       "      <td>...</td>\n",
       "      <td>...</td>\n",
       "      <td>...</td>\n",
       "      <td>...</td>\n",
       "      <td>...</td>\n",
       "    </tr>\n",
       "    <tr>\n",
       "      <th>682435</th>\n",
       "      <td>uniprot_253646</td>\n",
       "      <td>Eukaryota</td>\n",
       "      <td>Viridiplantae</td>\n",
       "      <td>Streptophyta</td>\n",
       "      <td>Magnoliopsida</td>\n",
       "      <td>Poales</td>\n",
       "      <td>Poaceae</td>\n",
       "      <td>Lolium</td>\n",
       "      <td>Poaceae</td>\n",
       "    </tr>\n",
       "    <tr>\n",
       "      <th>682444</th>\n",
       "      <td>uniprot_218100</td>\n",
       "      <td>Eukaryota</td>\n",
       "      <td>unknown</td>\n",
       "      <td>unknown</td>\n",
       "      <td>Dinophyceae</td>\n",
       "      <td>Gonyaulacales</td>\n",
       "      <td>Amphidomataceae</td>\n",
       "      <td>Azadinium</td>\n",
       "      <td>Amphidomataceae</td>\n",
       "    </tr>\n",
       "    <tr>\n",
       "      <th>682453</th>\n",
       "      <td>uniprot_257655</td>\n",
       "      <td>Eukaryota</td>\n",
       "      <td>Metazoa</td>\n",
       "      <td>Arthropoda</td>\n",
       "      <td>Arachnida</td>\n",
       "      <td>Sarcoptiformes</td>\n",
       "      <td>Pyroglyphidae</td>\n",
       "      <td>Dermatophagoides</td>\n",
       "      <td>Pyroglyphidae</td>\n",
       "    </tr>\n",
       "    <tr>\n",
       "      <th>682458</th>\n",
       "      <td>uniprot_137796</td>\n",
       "      <td>Eukaryota</td>\n",
       "      <td>unknown</td>\n",
       "      <td>Bacillariophyta</td>\n",
       "      <td>Bacillariophyceae</td>\n",
       "      <td>Bacillariales</td>\n",
       "      <td>Bacillariaceae</td>\n",
       "      <td>Fragilariopsis</td>\n",
       "      <td>Bacillariaceae</td>\n",
       "    </tr>\n",
       "    <tr>\n",
       "      <th>682467</th>\n",
       "      <td>uniprot_188186</td>\n",
       "      <td>Eukaryota</td>\n",
       "      <td>Metazoa</td>\n",
       "      <td>Chordata</td>\n",
       "      <td>Actinopteri</td>\n",
       "      <td>Characiformes</td>\n",
       "      <td>Serrasalmidae</td>\n",
       "      <td>Pygocentrus</td>\n",
       "      <td>Serrasalmidae</td>\n",
       "    </tr>\n",
       "  </tbody>\n",
       "</table>\n",
       "<p>113052 rows × 9 columns</p>\n",
       "</div>"
      ],
      "text/plain": [
       "                    id superkingdom        kingdom           phylum  \\\n",
       "156         bfd_051353    Eukaryota        Metazoa         Nematoda   \n",
       "371         bfd_134078    Eukaryota        unknown           Evosea   \n",
       "385         bfd_082404    Eukaryota          Fungi       Ascomycota   \n",
       "411         bfd_019468    Eukaryota          Fungi       Ascomycota   \n",
       "521         bfd_008333    Eukaryota          Fungi    Basidiomycota   \n",
       "...                ...          ...            ...              ...   \n",
       "682435  uniprot_253646    Eukaryota  Viridiplantae     Streptophyta   \n",
       "682444  uniprot_218100    Eukaryota        unknown          unknown   \n",
       "682453  uniprot_257655    Eukaryota        Metazoa       Arthropoda   \n",
       "682458  uniprot_137796    Eukaryota        unknown  Bacillariophyta   \n",
       "682467  uniprot_188186    Eukaryota        Metazoa         Chordata   \n",
       "\n",
       "                    class              order              family  \\\n",
       "156           Chromadorea        Strongylida    Ancylostomatidae   \n",
       "371           Eumycetozoa     Acytosteliales     Acytosteliaceae   \n",
       "385         Leotiomycetes         Helotiales     Sclerotiniaceae   \n",
       "411       Dothideomycetes  Mycosphaerellales  Mycosphaerellaceae   \n",
       "521        Agaricomycetes        Polyporales     Fomitopsidaceae   \n",
       "...                   ...                ...                 ...   \n",
       "682435      Magnoliopsida             Poales             Poaceae   \n",
       "682444        Dinophyceae      Gonyaulacales     Amphidomataceae   \n",
       "682453          Arachnida     Sarcoptiformes       Pyroglyphidae   \n",
       "682458  Bacillariophyceae      Bacillariales      Bacillariaceae   \n",
       "682467        Actinopteri      Characiformes       Serrasalmidae   \n",
       "\n",
       "                   genus             species  \n",
       "156          Ancylostoma    Ancylostomatidae  \n",
       "371         Acytostelium     Acytosteliaceae  \n",
       "385          Sclerotinia     Sclerotiniaceae  \n",
       "411     Pseudocercospora  Mycosphaerellaceae  \n",
       "521             Daedalea     Fomitopsidaceae  \n",
       "...                  ...                 ...  \n",
       "682435            Lolium             Poaceae  \n",
       "682444         Azadinium     Amphidomataceae  \n",
       "682453  Dermatophagoides       Pyroglyphidae  \n",
       "682458    Fragilariopsis      Bacillariaceae  \n",
       "682467       Pygocentrus       Serrasalmidae  \n",
       "\n",
       "[113052 rows x 9 columns]"
      ]
     },
     "execution_count": 66,
     "metadata": {},
     "output_type": "execute_result"
    }
   ],
   "source": [
    "euk_df[['id','superkingdom', 'kingdom', 'phylum','class','order','family','genus','species']]"
   ]
  },
  {
   "cell_type": "code",
   "execution_count": 72,
   "id": "08cdd601-1da0-4d34-905a-c2b7d2fa0d0e",
   "metadata": {
    "tags": []
   },
   "outputs": [],
   "source": [
    "euk_df2 = euk_df[['id','superkingdom', 'kingdom', 'phylum','class','order','family','genus','species']].merge(anno_df[['id','unchar_phylum', 'unchar_class', 'unchar_order','unchar_family', 'unchar_genus', 'unchar_species']], how='left', on='id')"
   ]
  },
  {
   "cell_type": "markdown",
   "id": "2262b710-41c7-488d-b08c-547318e435a4",
   "metadata": {},
   "source": [
    "# New eukaryotic phyla which contain TPSs"
   ]
  },
  {
   "cell_type": "markdown",
   "id": "bf946eef-68bc-4334-a113-1e8785a5cb40",
   "metadata": {},
   "source": [
    "**Top 10 by count**"
   ]
  },
  {
   "cell_type": "code",
   "execution_count": 76,
   "id": "209941f3-ee75-44e6-ac81-bf422af126ca",
   "metadata": {
    "tags": []
   },
   "outputs": [
    {
     "data": {
      "text/plain": [
       "phylum\n",
       "Bacillariophyta    894\n",
       "Nematoda           675\n",
       "Mollusca           675\n",
       "Haptophyta         650\n",
       "Mucoromycota       547\n",
       "Platyhelminthes    317\n",
       "Rotifera           303\n",
       "Oomycota           206\n",
       "Echinodermata      200\n",
       "Euglenozoa         189\n",
       "Name: count, dtype: int64"
      ]
     },
     "execution_count": 76,
     "metadata": {},
     "output_type": "execute_result"
    }
   ],
   "source": [
    "euk_df2[euk_df2['unchar_phylum']==True]['phylum'].value_counts().head(10)"
   ]
  },
  {
   "cell_type": "markdown",
   "id": "740f7919-3891-48d8-b1bb-2c36e505405f",
   "metadata": {},
   "source": [
    "# New eukaryotic classes which contain TPSs (from characterized phyla)"
   ]
  },
  {
   "cell_type": "code",
   "execution_count": 86,
   "id": "17a1e057-331a-4de6-8250-9998a9105f99",
   "metadata": {
    "tags": []
   },
   "outputs": [
    {
     "data": {
      "text/plain": [
       "phylum\n",
       "Arthropoda       4662\n",
       "Chordata         3249\n",
       "Chlorophyta       859\n",
       "Basidiomycota     438\n",
       "Streptophyta      434\n",
       "Ascomycota        344\n",
       "Cnidaria          156\n",
       "Rhodophyta         68\n",
       "Porifera           15\n",
       "Evosea              9\n",
       "Name: count, dtype: int64"
      ]
     },
     "execution_count": 86,
     "metadata": {},
     "output_type": "execute_result"
    }
   ],
   "source": [
    "euk_df2[(euk_df2['unchar_phylum']==False)&(euk_df2['unchar_class']==True)]['phylum'].value_counts()"
   ]
  },
  {
   "cell_type": "code",
   "execution_count": 81,
   "id": "b8d31410-729b-4551-9f23-d4aaa9225d19",
   "metadata": {
    "tags": []
   },
   "outputs": [
    {
     "data": {
      "text/plain": [
       "class\n",
       "Arachnida        3099\n",
       "Actinopteri      2105\n",
       "Malacostraca      551\n",
       "Hexanauplia       432\n",
       "Chlorophyceae     403\n",
       "Aves              374\n",
       "Amphibia          362\n",
       "Lepidosauria      246\n",
       "Branchiopoda      223\n",
       "Collembola        190\n",
       "Name: count, dtype: int64"
      ]
     },
     "execution_count": 81,
     "metadata": {},
     "output_type": "execute_result"
    }
   ],
   "source": [
    "euk_df2[(euk_df2['unchar_phylum']==False)&(euk_df2['unchar_class']==True)]['class'].value_counts().head(10)"
   ]
  },
  {
   "cell_type": "code",
   "execution_count": 87,
   "id": "1f9159fc-893d-4c37-903d-2fa7ca248a06",
   "metadata": {
    "tags": []
   },
   "outputs": [
    {
     "data": {
      "text/plain": [
       "phylum      class           \n",
       "Arthropoda  Arachnida           3099\n",
       "            Branchiopoda         223\n",
       "            Chilopoda             35\n",
       "            Collembola           190\n",
       "            Diplopoda             23\n",
       "            Hexanauplia          432\n",
       "            Ichthyostraca          2\n",
       "            Malacostraca         551\n",
       "            Merostomata            8\n",
       "            Ostracoda             20\n",
       "            Pauropoda             16\n",
       "            Protura                5\n",
       "            Pycnogonida            5\n",
       "            Remipedia              2\n",
       "            Symphyla               5\n",
       "            Thecostraca           46\n",
       "Ascomycota  Geoglossomycetes       7\n",
       "            Lecanoromycetes       91\n",
       "            Neolectomycetes        9\n",
       "            Orbiliomycetes       139\n",
       "dtype: int64"
      ]
     },
     "execution_count": 87,
     "metadata": {},
     "output_type": "execute_result"
    }
   ],
   "source": [
    "euk_df2[(euk_df2['unchar_phylum']==False)&(euk_df2['unchar_class']==True)].groupby(['phylum','class']).size().head(20)"
   ]
  },
  {
   "cell_type": "code",
   "execution_count": 90,
   "id": "4f9d8009-2e8c-4734-960e-e5e13bb50e60",
   "metadata": {
    "tags": []
   },
   "outputs": [
    {
     "data": {
      "text/plain": [
       "phylum         class            \n",
       "Arthropoda     Arachnida            3099\n",
       "Chordata       Actinopteri          2105\n",
       "Arthropoda     Malacostraca          551\n",
       "               Hexanauplia           432\n",
       "Chlorophyta    Chlorophyceae         403\n",
       "Chordata       Aves                  374\n",
       "               Amphibia              362\n",
       "               Lepidosauria          246\n",
       "Arthropoda     Branchiopoda          223\n",
       "               Collembola            190\n",
       "Chlorophyta    Mamiellophyceae       188\n",
       "Ascomycota     Orbiliomycetes        139\n",
       "Streptophyta   Sphagnopsida          130\n",
       "Basidiomycota  Ustilaginomycetes     107\n",
       "               Pucciniomycetes       107\n",
       "Streptophyta   Zygnemophyceae        100\n",
       "Ascomycota     Lecanoromycetes        91\n",
       "Cnidaria       Hydrozoa               88\n",
       "Chlorophyta    Ulvophyceae            85\n",
       "Ascomycota     Pezizomycetes          82\n",
       "dtype: int64"
      ]
     },
     "execution_count": 90,
     "metadata": {},
     "output_type": "execute_result"
    }
   ],
   "source": [
    "euk_df2[(euk_df2['unchar_phylum']==False)&(euk_df2['unchar_class']==True)].groupby(['phylum','class']).size().sort_values(ascending=False).head(20)"
   ]
  },
  {
   "cell_type": "markdown",
   "id": "e89cdc9e-daa9-49fc-95a1-db54096ed3bc",
   "metadata": {},
   "source": [
    "# New plant classes (in characterized phyla)"
   ]
  },
  {
   "cell_type": "code",
   "execution_count": 98,
   "id": "40973ec0-e85f-4359-9df0-dab41ee8d1f2",
   "metadata": {
    "tags": []
   },
   "outputs": [
    {
     "data": {
      "text/html": [
       "<div>\n",
       "<style scoped>\n",
       "    .dataframe tbody tr th:only-of-type {\n",
       "        vertical-align: middle;\n",
       "    }\n",
       "\n",
       "    .dataframe tbody tr th {\n",
       "        vertical-align: top;\n",
       "    }\n",
       "\n",
       "    .dataframe thead th {\n",
       "        text-align: right;\n",
       "    }\n",
       "</style>\n",
       "<table border=\"1\" class=\"dataframe\">\n",
       "  <thead>\n",
       "    <tr style=\"text-align: right;\">\n",
       "      <th></th>\n",
       "      <th>phylum</th>\n",
       "      <th>class</th>\n",
       "      <th>count</th>\n",
       "    </tr>\n",
       "  </thead>\n",
       "  <tbody>\n",
       "    <tr>\n",
       "      <th>1</th>\n",
       "      <td>Chlorophyta</td>\n",
       "      <td>Chlorophyceae</td>\n",
       "      <td>403</td>\n",
       "    </tr>\n",
       "    <tr>\n",
       "      <th>3</th>\n",
       "      <td>Chlorophyta</td>\n",
       "      <td>Mamiellophyceae</td>\n",
       "      <td>188</td>\n",
       "    </tr>\n",
       "    <tr>\n",
       "      <th>9</th>\n",
       "      <td>Chlorophyta</td>\n",
       "      <td>Ulvophyceae</td>\n",
       "      <td>85</td>\n",
       "    </tr>\n",
       "    <tr>\n",
       "      <th>0</th>\n",
       "      <td>Chlorophyta</td>\n",
       "      <td>Chlorodendrophyceae</td>\n",
       "      <td>63</td>\n",
       "    </tr>\n",
       "    <tr>\n",
       "      <th>2</th>\n",
       "      <td>Chlorophyta</td>\n",
       "      <td>Chloropicophyceae</td>\n",
       "      <td>51</td>\n",
       "    </tr>\n",
       "    <tr>\n",
       "      <th>8</th>\n",
       "      <td>Chlorophyta</td>\n",
       "      <td>Pyramimonadophyceae</td>\n",
       "      <td>26</td>\n",
       "    </tr>\n",
       "    <tr>\n",
       "      <th>7</th>\n",
       "      <td>Chlorophyta</td>\n",
       "      <td>Picocystophyceae</td>\n",
       "      <td>15</td>\n",
       "    </tr>\n",
       "    <tr>\n",
       "      <th>6</th>\n",
       "      <td>Chlorophyta</td>\n",
       "      <td>Pedinophyceae</td>\n",
       "      <td>11</td>\n",
       "    </tr>\n",
       "    <tr>\n",
       "      <th>4</th>\n",
       "      <td>Chlorophyta</td>\n",
       "      <td>Nephroselmidophyceae</td>\n",
       "      <td>10</td>\n",
       "    </tr>\n",
       "    <tr>\n",
       "      <th>5</th>\n",
       "      <td>Chlorophyta</td>\n",
       "      <td>Palmophyllophyceae</td>\n",
       "      <td>7</td>\n",
       "    </tr>\n",
       "    <tr>\n",
       "      <th>21</th>\n",
       "      <td>Streptophyta</td>\n",
       "      <td>Sphagnopsida</td>\n",
       "      <td>130</td>\n",
       "    </tr>\n",
       "    <tr>\n",
       "      <th>24</th>\n",
       "      <td>Streptophyta</td>\n",
       "      <td>Zygnemophyceae</td>\n",
       "      <td>100</td>\n",
       "    </tr>\n",
       "    <tr>\n",
       "      <th>14</th>\n",
       "      <td>Streptophyta</td>\n",
       "      <td>Cycadopsida</td>\n",
       "      <td>43</td>\n",
       "    </tr>\n",
       "    <tr>\n",
       "      <th>15</th>\n",
       "      <td>Streptophyta</td>\n",
       "      <td>Gnetopsida</td>\n",
       "      <td>36</td>\n",
       "    </tr>\n",
       "    <tr>\n",
       "      <th>17</th>\n",
       "      <td>Streptophyta</td>\n",
       "      <td>Klebsormidiophyceae</td>\n",
       "      <td>34</td>\n",
       "    </tr>\n",
       "    <tr>\n",
       "      <th>13</th>\n",
       "      <td>Streptophyta</td>\n",
       "      <td>Coleochaetophyceae</td>\n",
       "      <td>21</td>\n",
       "    </tr>\n",
       "    <tr>\n",
       "      <th>19</th>\n",
       "      <td>Streptophyta</td>\n",
       "      <td>Mesostigmatophyceae</td>\n",
       "      <td>18</td>\n",
       "    </tr>\n",
       "    <tr>\n",
       "      <th>11</th>\n",
       "      <td>Streptophyta</td>\n",
       "      <td>Charophyceae</td>\n",
       "      <td>16</td>\n",
       "    </tr>\n",
       "    <tr>\n",
       "      <th>20</th>\n",
       "      <td>Streptophyta</td>\n",
       "      <td>Polytrichopsida</td>\n",
       "      <td>9</td>\n",
       "    </tr>\n",
       "    <tr>\n",
       "      <th>12</th>\n",
       "      <td>Streptophyta</td>\n",
       "      <td>Chlorokybophyceae</td>\n",
       "      <td>8</td>\n",
       "    </tr>\n",
       "    <tr>\n",
       "      <th>23</th>\n",
       "      <td>Streptophyta</td>\n",
       "      <td>Tetraphidopsida</td>\n",
       "      <td>6</td>\n",
       "    </tr>\n",
       "    <tr>\n",
       "      <th>10</th>\n",
       "      <td>Streptophyta</td>\n",
       "      <td>Andreaeopsida</td>\n",
       "      <td>4</td>\n",
       "    </tr>\n",
       "    <tr>\n",
       "      <th>22</th>\n",
       "      <td>Streptophyta</td>\n",
       "      <td>Takakiopsida</td>\n",
       "      <td>4</td>\n",
       "    </tr>\n",
       "    <tr>\n",
       "      <th>18</th>\n",
       "      <td>Streptophyta</td>\n",
       "      <td>Leiosporocerotopsida</td>\n",
       "      <td>3</td>\n",
       "    </tr>\n",
       "    <tr>\n",
       "      <th>16</th>\n",
       "      <td>Streptophyta</td>\n",
       "      <td>Haplomitriopsida</td>\n",
       "      <td>2</td>\n",
       "    </tr>\n",
       "  </tbody>\n",
       "</table>\n",
       "</div>"
      ],
      "text/plain": [
       "          phylum                 class  count\n",
       "1    Chlorophyta         Chlorophyceae    403\n",
       "3    Chlorophyta       Mamiellophyceae    188\n",
       "9    Chlorophyta           Ulvophyceae     85\n",
       "0    Chlorophyta   Chlorodendrophyceae     63\n",
       "2    Chlorophyta     Chloropicophyceae     51\n",
       "8    Chlorophyta   Pyramimonadophyceae     26\n",
       "7    Chlorophyta      Picocystophyceae     15\n",
       "6    Chlorophyta         Pedinophyceae     11\n",
       "4    Chlorophyta  Nephroselmidophyceae     10\n",
       "5    Chlorophyta    Palmophyllophyceae      7\n",
       "21  Streptophyta          Sphagnopsida    130\n",
       "24  Streptophyta        Zygnemophyceae    100\n",
       "14  Streptophyta           Cycadopsida     43\n",
       "15  Streptophyta            Gnetopsida     36\n",
       "17  Streptophyta   Klebsormidiophyceae     34\n",
       "13  Streptophyta    Coleochaetophyceae     21\n",
       "19  Streptophyta   Mesostigmatophyceae     18\n",
       "11  Streptophyta          Charophyceae     16\n",
       "20  Streptophyta       Polytrichopsida      9\n",
       "12  Streptophyta     Chlorokybophyceae      8\n",
       "23  Streptophyta       Tetraphidopsida      6\n",
       "10  Streptophyta         Andreaeopsida      4\n",
       "22  Streptophyta          Takakiopsida      4\n",
       "18  Streptophyta  Leiosporocerotopsida      3\n",
       "16  Streptophyta      Haplomitriopsida      2"
      ]
     },
     "execution_count": 98,
     "metadata": {},
     "output_type": "execute_result"
    }
   ],
   "source": [
    "euk_df2[(euk_df2['kingdom']=='Viridiplantae')&(euk_df2['unchar_class']==True)&(euk_df2['unchar_phylum']==False)].groupby(['phylum','class']).size().reset_index(name='count').sort_values(by=['phylum', 'count'], ascending=[True, False])"
   ]
  },
  {
   "cell_type": "markdown",
   "id": "7e1861e9-44bd-4eb2-8656-c4d47564a19f",
   "metadata": {},
   "source": [
    "# New plant orders (in characterized classes)"
   ]
  },
  {
   "cell_type": "code",
   "execution_count": 109,
   "id": "220ef408-b095-4a87-9a49-7fdd163a21c8",
   "metadata": {
    "tags": []
   },
   "outputs": [
    {
     "data": {
      "text/html": [
       "<div>\n",
       "<style scoped>\n",
       "    .dataframe tbody tr th:only-of-type {\n",
       "        vertical-align: middle;\n",
       "    }\n",
       "\n",
       "    .dataframe tbody tr th {\n",
       "        vertical-align: top;\n",
       "    }\n",
       "\n",
       "    .dataframe thead th {\n",
       "        text-align: right;\n",
       "    }\n",
       "</style>\n",
       "<table border=\"1\" class=\"dataframe\">\n",
       "  <thead>\n",
       "    <tr style=\"text-align: right;\">\n",
       "      <th></th>\n",
       "      <th>phylum</th>\n",
       "      <th>class</th>\n",
       "      <th>order</th>\n",
       "      <th>count</th>\n",
       "    </tr>\n",
       "  </thead>\n",
       "  <tbody>\n",
       "    <tr>\n",
       "      <th>5</th>\n",
       "      <td>Streptophyta</td>\n",
       "      <td>Anthocerotopsida</td>\n",
       "      <td>Notothyladales</td>\n",
       "      <td>39</td>\n",
       "    </tr>\n",
       "    <tr>\n",
       "      <th>4</th>\n",
       "      <td>Streptophyta</td>\n",
       "      <td>Anthocerotopsida</td>\n",
       "      <td>Dendrocerotales</td>\n",
       "      <td>14</td>\n",
       "    </tr>\n",
       "    <tr>\n",
       "      <th>17</th>\n",
       "      <td>Streptophyta</td>\n",
       "      <td>Bryopsida</td>\n",
       "      <td>Pseudoditrichales</td>\n",
       "      <td>84</td>\n",
       "    </tr>\n",
       "    <tr>\n",
       "      <th>9</th>\n",
       "      <td>Streptophyta</td>\n",
       "      <td>Bryopsida</td>\n",
       "      <td>Dicranales</td>\n",
       "      <td>22</td>\n",
       "    </tr>\n",
       "    <tr>\n",
       "      <th>7</th>\n",
       "      <td>Streptophyta</td>\n",
       "      <td>Bryopsida</td>\n",
       "      <td>Bryales</td>\n",
       "      <td>20</td>\n",
       "    </tr>\n",
       "    <tr>\n",
       "      <th>...</th>\n",
       "      <td>...</td>\n",
       "      <td>...</td>\n",
       "      <td>...</td>\n",
       "      <td>...</td>\n",
       "    </tr>\n",
       "    <tr>\n",
       "      <th>64</th>\n",
       "      <td>Streptophyta</td>\n",
       "      <td>Polypodiopsida</td>\n",
       "      <td>Hymenophyllales</td>\n",
       "      <td>3</td>\n",
       "    </tr>\n",
       "    <tr>\n",
       "      <th>0</th>\n",
       "      <td>Chlorophyta</td>\n",
       "      <td>Trebouxiophyceae</td>\n",
       "      <td>Chlorellales</td>\n",
       "      <td>95</td>\n",
       "    </tr>\n",
       "    <tr>\n",
       "      <th>3</th>\n",
       "      <td>Chlorophyta</td>\n",
       "      <td>Trebouxiophyceae</td>\n",
       "      <td>Trebouxiales</td>\n",
       "      <td>8</td>\n",
       "    </tr>\n",
       "    <tr>\n",
       "      <th>1</th>\n",
       "      <td>Chlorophyta</td>\n",
       "      <td>Trebouxiophyceae</td>\n",
       "      <td>Microthamniales</td>\n",
       "      <td>6</td>\n",
       "    </tr>\n",
       "    <tr>\n",
       "      <th>2</th>\n",
       "      <td>Chlorophyta</td>\n",
       "      <td>Trebouxiophyceae</td>\n",
       "      <td>Prasiolales</td>\n",
       "      <td>4</td>\n",
       "    </tr>\n",
       "  </tbody>\n",
       "</table>\n",
       "<p>71 rows × 4 columns</p>\n",
       "</div>"
      ],
      "text/plain": [
       "          phylum             class              order  count\n",
       "5   Streptophyta  Anthocerotopsida     Notothyladales     39\n",
       "4   Streptophyta  Anthocerotopsida    Dendrocerotales     14\n",
       "17  Streptophyta         Bryopsida  Pseudoditrichales     84\n",
       "9   Streptophyta         Bryopsida         Dicranales     22\n",
       "7   Streptophyta         Bryopsida            Bryales     20\n",
       "..           ...               ...                ...    ...\n",
       "64  Streptophyta    Polypodiopsida    Hymenophyllales      3\n",
       "0    Chlorophyta  Trebouxiophyceae       Chlorellales     95\n",
       "3    Chlorophyta  Trebouxiophyceae       Trebouxiales      8\n",
       "1    Chlorophyta  Trebouxiophyceae    Microthamniales      6\n",
       "2    Chlorophyta  Trebouxiophyceae        Prasiolales      4\n",
       "\n",
       "[71 rows x 4 columns]"
      ]
     },
     "execution_count": 109,
     "metadata": {},
     "output_type": "execute_result"
    }
   ],
   "source": [
    "euk_df2[(euk_df2['kingdom']=='Viridiplantae')&(euk_df2['unchar_order']==True)&(euk_df2['unchar_class']==False)&(euk_df2['unchar_phylum']==False)].groupby(['phylum','class','order']).size().reset_index(name='count').sort_values(by=['class', 'count'], ascending=[True, False])"
   ]
  },
  {
   "cell_type": "code",
   "execution_count": 106,
   "id": "e63b28df-d82b-4d33-a97b-4e3c4aee0d01",
   "metadata": {
    "tags": []
   },
   "outputs": [
    {
     "data": {
      "text/html": [
       "<div>\n",
       "<style scoped>\n",
       "    .dataframe tbody tr th:only-of-type {\n",
       "        vertical-align: middle;\n",
       "    }\n",
       "\n",
       "    .dataframe tbody tr th {\n",
       "        vertical-align: top;\n",
       "    }\n",
       "\n",
       "    .dataframe thead th {\n",
       "        text-align: right;\n",
       "    }\n",
       "</style>\n",
       "<table border=\"1\" class=\"dataframe\">\n",
       "  <thead>\n",
       "    <tr style=\"text-align: right;\">\n",
       "      <th></th>\n",
       "      <th>id</th>\n",
       "      <th>superkingdom</th>\n",
       "      <th>kingdom</th>\n",
       "      <th>phylum</th>\n",
       "      <th>class</th>\n",
       "      <th>order</th>\n",
       "      <th>family</th>\n",
       "      <th>genus</th>\n",
       "      <th>species</th>\n",
       "      <th>unchar_phylum</th>\n",
       "      <th>unchar_class</th>\n",
       "      <th>unchar_order</th>\n",
       "      <th>unchar_family</th>\n",
       "      <th>unchar_genus</th>\n",
       "      <th>unchar_species</th>\n",
       "    </tr>\n",
       "  </thead>\n",
       "  <tbody>\n",
       "    <tr>\n",
       "      <th>109</th>\n",
       "      <td>bfd_028637</td>\n",
       "      <td>Eukaryota</td>\n",
       "      <td>Viridiplantae</td>\n",
       "      <td>Streptophyta</td>\n",
       "      <td>Magnoliopsida</td>\n",
       "      <td>Alismatales</td>\n",
       "      <td>Araceae</td>\n",
       "      <td>Anthurium</td>\n",
       "      <td>Araceae</td>\n",
       "      <td>False</td>\n",
       "      <td>False</td>\n",
       "      <td>True</td>\n",
       "      <td>True</td>\n",
       "      <td>True</td>\n",
       "      <td>True</td>\n",
       "    </tr>\n",
       "    <tr>\n",
       "      <th>160</th>\n",
       "      <td>bfd_025646</td>\n",
       "      <td>Eukaryota</td>\n",
       "      <td>Viridiplantae</td>\n",
       "      <td>Streptophyta</td>\n",
       "      <td>Sphagnopsida</td>\n",
       "      <td>Sphagnales</td>\n",
       "      <td>Sphagnaceae</td>\n",
       "      <td>Sphagnum</td>\n",
       "      <td>Sphagnaceae</td>\n",
       "      <td>False</td>\n",
       "      <td>True</td>\n",
       "      <td>True</td>\n",
       "      <td>True</td>\n",
       "      <td>True</td>\n",
       "      <td>True</td>\n",
       "    </tr>\n",
       "    <tr>\n",
       "      <th>164</th>\n",
       "      <td>bfd_024398</td>\n",
       "      <td>Eukaryota</td>\n",
       "      <td>Viridiplantae</td>\n",
       "      <td>Chlorophyta</td>\n",
       "      <td>Trebouxiophyceae</td>\n",
       "      <td>Chlorellales</td>\n",
       "      <td>Chlorellaceae</td>\n",
       "      <td>Auxenochlorella</td>\n",
       "      <td>Chlorellaceae</td>\n",
       "      <td>False</td>\n",
       "      <td>False</td>\n",
       "      <td>True</td>\n",
       "      <td>True</td>\n",
       "      <td>True</td>\n",
       "      <td>True</td>\n",
       "    </tr>\n",
       "    <tr>\n",
       "      <th>199</th>\n",
       "      <td>bfd_040886</td>\n",
       "      <td>Eukaryota</td>\n",
       "      <td>Viridiplantae</td>\n",
       "      <td>Streptophyta</td>\n",
       "      <td>Magnoliopsida</td>\n",
       "      <td>Proteales</td>\n",
       "      <td>Nelumbonaceae</td>\n",
       "      <td>Nelumbo</td>\n",
       "      <td>Nelumbonaceae</td>\n",
       "      <td>False</td>\n",
       "      <td>False</td>\n",
       "      <td>True</td>\n",
       "      <td>True</td>\n",
       "      <td>True</td>\n",
       "      <td>True</td>\n",
       "    </tr>\n",
       "    <tr>\n",
       "      <th>200</th>\n",
       "      <td>bfd_002228</td>\n",
       "      <td>Eukaryota</td>\n",
       "      <td>Viridiplantae</td>\n",
       "      <td>Streptophyta</td>\n",
       "      <td>Klebsormidiophyceae</td>\n",
       "      <td>Klebsormidiales</td>\n",
       "      <td>Klebsormidiaceae</td>\n",
       "      <td>Klebsormidium</td>\n",
       "      <td>Klebsormidiaceae</td>\n",
       "      <td>False</td>\n",
       "      <td>True</td>\n",
       "      <td>True</td>\n",
       "      <td>True</td>\n",
       "      <td>True</td>\n",
       "      <td>True</td>\n",
       "    </tr>\n",
       "    <tr>\n",
       "      <th>...</th>\n",
       "      <td>...</td>\n",
       "      <td>...</td>\n",
       "      <td>...</td>\n",
       "      <td>...</td>\n",
       "      <td>...</td>\n",
       "      <td>...</td>\n",
       "      <td>...</td>\n",
       "      <td>...</td>\n",
       "      <td>...</td>\n",
       "      <td>...</td>\n",
       "      <td>...</td>\n",
       "      <td>...</td>\n",
       "      <td>...</td>\n",
       "      <td>...</td>\n",
       "      <td>...</td>\n",
       "    </tr>\n",
       "    <tr>\n",
       "      <th>112934</th>\n",
       "      <td>uniprot_242069</td>\n",
       "      <td>Eukaryota</td>\n",
       "      <td>Viridiplantae</td>\n",
       "      <td>Streptophyta</td>\n",
       "      <td>Magnoliopsida</td>\n",
       "      <td>Proteales</td>\n",
       "      <td>Proteaceae</td>\n",
       "      <td>Telopea</td>\n",
       "      <td>Proteaceae</td>\n",
       "      <td>False</td>\n",
       "      <td>False</td>\n",
       "      <td>True</td>\n",
       "      <td>True</td>\n",
       "      <td>True</td>\n",
       "      <td>True</td>\n",
       "    </tr>\n",
       "    <tr>\n",
       "      <th>112970</th>\n",
       "      <td>uniprot_151269</td>\n",
       "      <td>Eukaryota</td>\n",
       "      <td>Viridiplantae</td>\n",
       "      <td>Streptophyta</td>\n",
       "      <td>Magnoliopsida</td>\n",
       "      <td>Alismatales</td>\n",
       "      <td>Zosteraceae</td>\n",
       "      <td>Zostera</td>\n",
       "      <td>Zosteraceae</td>\n",
       "      <td>False</td>\n",
       "      <td>False</td>\n",
       "      <td>True</td>\n",
       "      <td>True</td>\n",
       "      <td>True</td>\n",
       "      <td>True</td>\n",
       "    </tr>\n",
       "    <tr>\n",
       "      <th>112988</th>\n",
       "      <td>uniprot_140935</td>\n",
       "      <td>Eukaryota</td>\n",
       "      <td>Viridiplantae</td>\n",
       "      <td>Streptophyta</td>\n",
       "      <td>Magnoliopsida</td>\n",
       "      <td>Amborellales</td>\n",
       "      <td>Amborellaceae</td>\n",
       "      <td>Amborella</td>\n",
       "      <td>Amborellaceae</td>\n",
       "      <td>False</td>\n",
       "      <td>False</td>\n",
       "      <td>True</td>\n",
       "      <td>True</td>\n",
       "      <td>True</td>\n",
       "      <td>True</td>\n",
       "    </tr>\n",
       "    <tr>\n",
       "      <th>112990</th>\n",
       "      <td>uniprot_172049</td>\n",
       "      <td>Eukaryota</td>\n",
       "      <td>Viridiplantae</td>\n",
       "      <td>Streptophyta</td>\n",
       "      <td>Klebsormidiophyceae</td>\n",
       "      <td>Klebsormidiales</td>\n",
       "      <td>Klebsormidiaceae</td>\n",
       "      <td>Klebsormidium</td>\n",
       "      <td>Klebsormidiaceae</td>\n",
       "      <td>False</td>\n",
       "      <td>True</td>\n",
       "      <td>True</td>\n",
       "      <td>True</td>\n",
       "      <td>True</td>\n",
       "      <td>True</td>\n",
       "    </tr>\n",
       "    <tr>\n",
       "      <th>113031</th>\n",
       "      <td>uniprot_238075</td>\n",
       "      <td>Eukaryota</td>\n",
       "      <td>Viridiplantae</td>\n",
       "      <td>Streptophyta</td>\n",
       "      <td>Magnoliopsida</td>\n",
       "      <td>Ranunculales</td>\n",
       "      <td>Ranunculaceae</td>\n",
       "      <td>Nigella</td>\n",
       "      <td>Ranunculaceae</td>\n",
       "      <td>False</td>\n",
       "      <td>False</td>\n",
       "      <td>True</td>\n",
       "      <td>True</td>\n",
       "      <td>True</td>\n",
       "      <td>True</td>\n",
       "    </tr>\n",
       "  </tbody>\n",
       "</table>\n",
       "<p>7489 rows × 15 columns</p>\n",
       "</div>"
      ],
      "text/plain": [
       "                    id superkingdom        kingdom        phylum  \\\n",
       "109         bfd_028637    Eukaryota  Viridiplantae  Streptophyta   \n",
       "160         bfd_025646    Eukaryota  Viridiplantae  Streptophyta   \n",
       "164         bfd_024398    Eukaryota  Viridiplantae   Chlorophyta   \n",
       "199         bfd_040886    Eukaryota  Viridiplantae  Streptophyta   \n",
       "200         bfd_002228    Eukaryota  Viridiplantae  Streptophyta   \n",
       "...                ...          ...            ...           ...   \n",
       "112934  uniprot_242069    Eukaryota  Viridiplantae  Streptophyta   \n",
       "112970  uniprot_151269    Eukaryota  Viridiplantae  Streptophyta   \n",
       "112988  uniprot_140935    Eukaryota  Viridiplantae  Streptophyta   \n",
       "112990  uniprot_172049    Eukaryota  Viridiplantae  Streptophyta   \n",
       "113031  uniprot_238075    Eukaryota  Viridiplantae  Streptophyta   \n",
       "\n",
       "                      class            order            family  \\\n",
       "109           Magnoliopsida      Alismatales           Araceae   \n",
       "160            Sphagnopsida       Sphagnales       Sphagnaceae   \n",
       "164        Trebouxiophyceae     Chlorellales     Chlorellaceae   \n",
       "199           Magnoliopsida        Proteales     Nelumbonaceae   \n",
       "200     Klebsormidiophyceae  Klebsormidiales  Klebsormidiaceae   \n",
       "...                     ...              ...               ...   \n",
       "112934        Magnoliopsida        Proteales        Proteaceae   \n",
       "112970        Magnoliopsida      Alismatales       Zosteraceae   \n",
       "112988        Magnoliopsida     Amborellales     Amborellaceae   \n",
       "112990  Klebsormidiophyceae  Klebsormidiales  Klebsormidiaceae   \n",
       "113031        Magnoliopsida     Ranunculales     Ranunculaceae   \n",
       "\n",
       "                  genus           species unchar_phylum unchar_class  \\\n",
       "109           Anthurium           Araceae         False        False   \n",
       "160            Sphagnum       Sphagnaceae         False         True   \n",
       "164     Auxenochlorella     Chlorellaceae         False        False   \n",
       "199             Nelumbo     Nelumbonaceae         False        False   \n",
       "200       Klebsormidium  Klebsormidiaceae         False         True   \n",
       "...                 ...               ...           ...          ...   \n",
       "112934          Telopea        Proteaceae         False        False   \n",
       "112970          Zostera       Zosteraceae         False        False   \n",
       "112988        Amborella     Amborellaceae         False        False   \n",
       "112990    Klebsormidium  Klebsormidiaceae         False         True   \n",
       "113031          Nigella     Ranunculaceae         False        False   \n",
       "\n",
       "       unchar_order unchar_family unchar_genus unchar_species  \n",
       "109            True          True         True           True  \n",
       "160            True          True         True           True  \n",
       "164            True          True         True           True  \n",
       "199            True          True         True           True  \n",
       "200            True          True         True           True  \n",
       "...             ...           ...          ...            ...  \n",
       "112934         True          True         True           True  \n",
       "112970         True          True         True           True  \n",
       "112988         True          True         True           True  \n",
       "112990         True          True         True           True  \n",
       "113031         True          True         True           True  \n",
       "\n",
       "[7489 rows x 15 columns]"
      ]
     },
     "execution_count": 106,
     "metadata": {},
     "output_type": "execute_result"
    }
   ],
   "source": [
    "euk_df2[(euk_df2['kingdom']=='Viridiplantae')&(euk_df2['unchar_order']==True)]"
   ]
  },
  {
   "cell_type": "code",
   "execution_count": 104,
   "id": "fc5d2abd-1c98-4cbd-b782-176d74e39c41",
   "metadata": {
    "tags": []
   },
   "outputs": [
    {
     "data": {
      "text/html": [
       "<div>\n",
       "<style scoped>\n",
       "    .dataframe tbody tr th:only-of-type {\n",
       "        vertical-align: middle;\n",
       "    }\n",
       "\n",
       "    .dataframe tbody tr th {\n",
       "        vertical-align: top;\n",
       "    }\n",
       "\n",
       "    .dataframe thead th {\n",
       "        text-align: right;\n",
       "    }\n",
       "</style>\n",
       "<table border=\"1\" class=\"dataframe\">\n",
       "  <thead>\n",
       "    <tr style=\"text-align: right;\">\n",
       "      <th></th>\n",
       "      <th>id</th>\n",
       "      <th>superkingdom</th>\n",
       "      <th>kingdom</th>\n",
       "      <th>phylum</th>\n",
       "      <th>class</th>\n",
       "      <th>order</th>\n",
       "      <th>family</th>\n",
       "      <th>genus</th>\n",
       "      <th>species</th>\n",
       "      <th>unchar_phylum</th>\n",
       "      <th>unchar_class</th>\n",
       "      <th>unchar_order</th>\n",
       "      <th>unchar_family</th>\n",
       "      <th>unchar_genus</th>\n",
       "      <th>unchar_species</th>\n",
       "    </tr>\n",
       "  </thead>\n",
       "  <tbody>\n",
       "    <tr>\n",
       "      <th>7</th>\n",
       "      <td>bfd_010296</td>\n",
       "      <td>Eukaryota</td>\n",
       "      <td>Viridiplantae</td>\n",
       "      <td>Streptophyta</td>\n",
       "      <td>Lycopodiopsida</td>\n",
       "      <td>Selaginellales</td>\n",
       "      <td>Selaginellaceae</td>\n",
       "      <td>Selaginella</td>\n",
       "      <td>Selaginellaceae</td>\n",
       "      <td>False</td>\n",
       "      <td>False</td>\n",
       "      <td>False</td>\n",
       "      <td>False</td>\n",
       "      <td>False</td>\n",
       "      <td>False</td>\n",
       "    </tr>\n",
       "    <tr>\n",
       "      <th>8</th>\n",
       "      <td>bfd_041267</td>\n",
       "      <td>Eukaryota</td>\n",
       "      <td>Viridiplantae</td>\n",
       "      <td>Streptophyta</td>\n",
       "      <td>Magnoliopsida</td>\n",
       "      <td>Poales</td>\n",
       "      <td>Poaceae</td>\n",
       "      <td>Dichanthelium</td>\n",
       "      <td>Poaceae</td>\n",
       "      <td>False</td>\n",
       "      <td>False</td>\n",
       "      <td>False</td>\n",
       "      <td>False</td>\n",
       "      <td>True</td>\n",
       "      <td>True</td>\n",
       "    </tr>\n",
       "    <tr>\n",
       "      <th>12</th>\n",
       "      <td>bfd_074968</td>\n",
       "      <td>Eukaryota</td>\n",
       "      <td>Viridiplantae</td>\n",
       "      <td>Streptophyta</td>\n",
       "      <td>Magnoliopsida</td>\n",
       "      <td>Asterales</td>\n",
       "      <td>Asteraceae</td>\n",
       "      <td>Helianthus</td>\n",
       "      <td>Asteraceae</td>\n",
       "      <td>False</td>\n",
       "      <td>False</td>\n",
       "      <td>False</td>\n",
       "      <td>False</td>\n",
       "      <td>False</td>\n",
       "      <td>False</td>\n",
       "    </tr>\n",
       "    <tr>\n",
       "      <th>22</th>\n",
       "      <td>bfd_041644</td>\n",
       "      <td>Eukaryota</td>\n",
       "      <td>Viridiplantae</td>\n",
       "      <td>Streptophyta</td>\n",
       "      <td>Magnoliopsida</td>\n",
       "      <td>Poales</td>\n",
       "      <td>Poaceae</td>\n",
       "      <td>Oryza</td>\n",
       "      <td>Poaceae</td>\n",
       "      <td>False</td>\n",
       "      <td>False</td>\n",
       "      <td>False</td>\n",
       "      <td>False</td>\n",
       "      <td>False</td>\n",
       "      <td>False</td>\n",
       "    </tr>\n",
       "    <tr>\n",
       "      <th>24</th>\n",
       "      <td>bfd_040755</td>\n",
       "      <td>Eukaryota</td>\n",
       "      <td>Viridiplantae</td>\n",
       "      <td>Streptophyta</td>\n",
       "      <td>Magnoliopsida</td>\n",
       "      <td>Poales</td>\n",
       "      <td>Poaceae</td>\n",
       "      <td>Oryza</td>\n",
       "      <td>Poaceae</td>\n",
       "      <td>False</td>\n",
       "      <td>False</td>\n",
       "      <td>False</td>\n",
       "      <td>False</td>\n",
       "      <td>False</td>\n",
       "      <td>False</td>\n",
       "    </tr>\n",
       "    <tr>\n",
       "      <th>...</th>\n",
       "      <td>...</td>\n",
       "      <td>...</td>\n",
       "      <td>...</td>\n",
       "      <td>...</td>\n",
       "      <td>...</td>\n",
       "      <td>...</td>\n",
       "      <td>...</td>\n",
       "      <td>...</td>\n",
       "      <td>...</td>\n",
       "      <td>...</td>\n",
       "      <td>...</td>\n",
       "      <td>...</td>\n",
       "      <td>...</td>\n",
       "      <td>...</td>\n",
       "      <td>...</td>\n",
       "    </tr>\n",
       "    <tr>\n",
       "      <th>113042</th>\n",
       "      <td>uniprot_179530</td>\n",
       "      <td>Eukaryota</td>\n",
       "      <td>Viridiplantae</td>\n",
       "      <td>Streptophyta</td>\n",
       "      <td>Magnoliopsida</td>\n",
       "      <td>Asparagales</td>\n",
       "      <td>Orchidaceae</td>\n",
       "      <td>Apostasia</td>\n",
       "      <td>Orchidaceae</td>\n",
       "      <td>False</td>\n",
       "      <td>False</td>\n",
       "      <td>False</td>\n",
       "      <td>True</td>\n",
       "      <td>True</td>\n",
       "      <td>True</td>\n",
       "    </tr>\n",
       "    <tr>\n",
       "      <th>113043</th>\n",
       "      <td>uniprot_263045</td>\n",
       "      <td>Eukaryota</td>\n",
       "      <td>Viridiplantae</td>\n",
       "      <td>Streptophyta</td>\n",
       "      <td>Magnoliopsida</td>\n",
       "      <td>Sapindales</td>\n",
       "      <td>Sapindaceae</td>\n",
       "      <td>Acer</td>\n",
       "      <td>Sapindaceae</td>\n",
       "      <td>False</td>\n",
       "      <td>False</td>\n",
       "      <td>False</td>\n",
       "      <td>True</td>\n",
       "      <td>True</td>\n",
       "      <td>True</td>\n",
       "    </tr>\n",
       "    <tr>\n",
       "      <th>113044</th>\n",
       "      <td>uniprot_142320</td>\n",
       "      <td>Eukaryota</td>\n",
       "      <td>Viridiplantae</td>\n",
       "      <td>Streptophyta</td>\n",
       "      <td>Magnoliopsida</td>\n",
       "      <td>Malvales</td>\n",
       "      <td>Malvaceae</td>\n",
       "      <td>Theobroma</td>\n",
       "      <td>Malvaceae</td>\n",
       "      <td>False</td>\n",
       "      <td>False</td>\n",
       "      <td>False</td>\n",
       "      <td>False</td>\n",
       "      <td>True</td>\n",
       "      <td>True</td>\n",
       "    </tr>\n",
       "    <tr>\n",
       "      <th>113045</th>\n",
       "      <td>uniprot_204944</td>\n",
       "      <td>Eukaryota</td>\n",
       "      <td>Viridiplantae</td>\n",
       "      <td>Streptophyta</td>\n",
       "      <td>Magnoliopsida</td>\n",
       "      <td>Rosales</td>\n",
       "      <td>Rosaceae</td>\n",
       "      <td>Pyrus</td>\n",
       "      <td>Rosaceae</td>\n",
       "      <td>False</td>\n",
       "      <td>False</td>\n",
       "      <td>False</td>\n",
       "      <td>False</td>\n",
       "      <td>True</td>\n",
       "      <td>True</td>\n",
       "    </tr>\n",
       "    <tr>\n",
       "      <th>113047</th>\n",
       "      <td>uniprot_253646</td>\n",
       "      <td>Eukaryota</td>\n",
       "      <td>Viridiplantae</td>\n",
       "      <td>Streptophyta</td>\n",
       "      <td>Magnoliopsida</td>\n",
       "      <td>Poales</td>\n",
       "      <td>Poaceae</td>\n",
       "      <td>Lolium</td>\n",
       "      <td>Poaceae</td>\n",
       "      <td>False</td>\n",
       "      <td>False</td>\n",
       "      <td>False</td>\n",
       "      <td>False</td>\n",
       "      <td>True</td>\n",
       "      <td>True</td>\n",
       "    </tr>\n",
       "  </tbody>\n",
       "</table>\n",
       "<p>71494 rows × 15 columns</p>\n",
       "</div>"
      ],
      "text/plain": [
       "                    id superkingdom        kingdom        phylum  \\\n",
       "7           bfd_010296    Eukaryota  Viridiplantae  Streptophyta   \n",
       "8           bfd_041267    Eukaryota  Viridiplantae  Streptophyta   \n",
       "12          bfd_074968    Eukaryota  Viridiplantae  Streptophyta   \n",
       "22          bfd_041644    Eukaryota  Viridiplantae  Streptophyta   \n",
       "24          bfd_040755    Eukaryota  Viridiplantae  Streptophyta   \n",
       "...                ...          ...            ...           ...   \n",
       "113042  uniprot_179530    Eukaryota  Viridiplantae  Streptophyta   \n",
       "113043  uniprot_263045    Eukaryota  Viridiplantae  Streptophyta   \n",
       "113044  uniprot_142320    Eukaryota  Viridiplantae  Streptophyta   \n",
       "113045  uniprot_204944    Eukaryota  Viridiplantae  Streptophyta   \n",
       "113047  uniprot_253646    Eukaryota  Viridiplantae  Streptophyta   \n",
       "\n",
       "                 class           order           family          genus  \\\n",
       "7       Lycopodiopsida  Selaginellales  Selaginellaceae    Selaginella   \n",
       "8        Magnoliopsida          Poales          Poaceae  Dichanthelium   \n",
       "12       Magnoliopsida       Asterales       Asteraceae     Helianthus   \n",
       "22       Magnoliopsida          Poales          Poaceae          Oryza   \n",
       "24       Magnoliopsida          Poales          Poaceae          Oryza   \n",
       "...                ...             ...              ...            ...   \n",
       "113042   Magnoliopsida     Asparagales      Orchidaceae      Apostasia   \n",
       "113043   Magnoliopsida      Sapindales      Sapindaceae           Acer   \n",
       "113044   Magnoliopsida        Malvales        Malvaceae      Theobroma   \n",
       "113045   Magnoliopsida         Rosales         Rosaceae          Pyrus   \n",
       "113047   Magnoliopsida          Poales          Poaceae         Lolium   \n",
       "\n",
       "                species unchar_phylum unchar_class unchar_order unchar_family  \\\n",
       "7       Selaginellaceae         False        False        False         False   \n",
       "8               Poaceae         False        False        False         False   \n",
       "12           Asteraceae         False        False        False         False   \n",
       "22              Poaceae         False        False        False         False   \n",
       "24              Poaceae         False        False        False         False   \n",
       "...                 ...           ...          ...          ...           ...   \n",
       "113042      Orchidaceae         False        False        False          True   \n",
       "113043      Sapindaceae         False        False        False          True   \n",
       "113044        Malvaceae         False        False        False         False   \n",
       "113045         Rosaceae         False        False        False         False   \n",
       "113047          Poaceae         False        False        False         False   \n",
       "\n",
       "       unchar_genus unchar_species  \n",
       "7             False          False  \n",
       "8              True           True  \n",
       "12            False          False  \n",
       "22            False          False  \n",
       "24            False          False  \n",
       "...             ...            ...  \n",
       "113042         True           True  \n",
       "113043         True           True  \n",
       "113044         True           True  \n",
       "113045         True           True  \n",
       "113047         True           True  \n",
       "\n",
       "[71494 rows x 15 columns]"
      ]
     },
     "execution_count": 104,
     "metadata": {},
     "output_type": "execute_result"
    }
   ],
   "source": [
    "euk_df2[(euk_df2['kingdom']=='Viridiplantae')]"
   ]
  },
  {
   "cell_type": "markdown",
   "id": "d043cb91-1e31-4edd-931e-a03997ba2e89",
   "metadata": {},
   "source": [
    "# New magnoliopsida"
   ]
  },
  {
   "cell_type": "code",
   "execution_count": 113,
   "id": "694407ce-20d0-4a09-b22d-3bd7e7b06473",
   "metadata": {
    "tags": []
   },
   "outputs": [
    {
     "data": {
      "text/plain": [
       "order\n",
       "Ranunculales         1699\n",
       "Geraniales            461\n",
       "Liliales              381\n",
       "Cornales              368\n",
       "Proteales             351\n",
       "Alismatales           329\n",
       "Arecales              271\n",
       "Boraginales           188\n",
       "Amborellales          178\n",
       "Nymphaeales           146\n",
       "Aquifoliales          105\n",
       "Acorales              103\n",
       "Austrobaileyales       90\n",
       "Trochodendrales        90\n",
       "Oxalidales             76\n",
       "Berberidopsidales      67\n",
       "Canellales             53\n",
       "Chloranthales          46\n",
       "Pandanales             44\n",
       "Dilleniales            40\n",
       "Zygophyllales          28\n",
       "Oncothecales           23\n",
       "Buxales                22\n",
       "Escalloniales          20\n",
       "Ceratophyllales        16\n",
       "Icacinales             15\n",
       "Crossosomatales        14\n",
       "Garryales              11\n",
       "Gunnerales              6\n",
       "Huerteales              3\n",
       "Name: count, dtype: int64"
      ]
     },
     "execution_count": 113,
     "metadata": {},
     "output_type": "execute_result"
    }
   ],
   "source": [
    "euk_df2[(euk_df2['class']=='Magnoliopsida')&(euk_df2['unchar_order']==True)]['order'].value_counts()"
   ]
  },
  {
   "cell_type": "code",
   "execution_count": 114,
   "id": "872b2f19-684d-4ef5-a12a-9092cc274459",
   "metadata": {
    "tags": []
   },
   "outputs": [
    {
     "data": {
      "text/plain": [
       "family\n",
       "Convolvulaceae      1079\n",
       "Myrtaceae           1023\n",
       "Juglandaceae         920\n",
       "Papaveraceae         869\n",
       "Orchidaceae          748\n",
       "                    ... \n",
       "Curtisiaceae           1\n",
       "Koeberliniaceae        1\n",
       "Cabombaceae            1\n",
       "Alstroemeriaceae       1\n",
       "Opiliaceae             1\n",
       "Name: count, Length: 238, dtype: int64"
      ]
     },
     "execution_count": 114,
     "metadata": {},
     "output_type": "execute_result"
    }
   ],
   "source": [
    "euk_df2[(euk_df2['class']=='Magnoliopsida')&(euk_df2['unchar_family']==True)]['family'].value_counts()"
   ]
  },
  {
   "cell_type": "markdown",
   "id": "5ccb6da5-ff6a-4532-9aac-a80ea13a13ba",
   "metadata": {},
   "source": [
    "# Bacteria"
   ]
  },
  {
   "cell_type": "code",
   "execution_count": 118,
   "id": "d7aba4e4-0603-4fb2-8b6b-0057d551dc53",
   "metadata": {
    "tags": []
   },
   "outputs": [],
   "source": [
    "bacteria_df = anno_df[anno_df['superkingdom']=='Bacteria']"
   ]
  },
  {
   "cell_type": "code",
   "execution_count": 123,
   "id": "d8af2348-ccac-4c32-8ca2-4329c17fb6ab",
   "metadata": {
    "tags": []
   },
   "outputs": [
    {
     "data": {
      "text/plain": [
       "phylum\n",
       "Campylobacterota             3826\n",
       "Planctomycetota              3517\n",
       "Acidobacteriota              1519\n",
       "Verrucomicrobiota            1394\n",
       "Thermodesulfobacteriota       960\n",
       "Spirochaetota                 893\n",
       "Gemmatimonadota               616\n",
       "Deinococcota                  510\n",
       "Nitrospirota                  449\n",
       "Ignavibacteriota              325\n",
       "Candidatus Marinimicrobia     325\n",
       "Bdellovibrionota              253\n",
       "Chlorobiota                   220\n",
       "Armatimonadota                204\n",
       "Candidatus Omnitrophota       151\n",
       "Nitrospinota                  145\n",
       "Elusimicrobiota               143\n",
       "Rhodothermota                 139\n",
       "Candidatus Poribacteria       130\n",
       "Lentisphaerota                127\n",
       "Name: count, dtype: int64"
      ]
     },
     "execution_count": 123,
     "metadata": {},
     "output_type": "execute_result"
    }
   ],
   "source": [
    "bacteria_df[bacteria_df['unchar_phylum']==True]['phylum'].value_counts().head(20)"
   ]
  },
  {
   "cell_type": "code",
   "execution_count": 126,
   "id": "3beaf34d-c7fd-450b-9241-ff87acabbb45",
   "metadata": {
    "tags": []
   },
   "outputs": [
    {
     "data": {
      "text/plain": [
       "phylum\n",
       "Pseudomonadota    9271\n",
       "Bacteroidota      7655\n",
       "Bacillota         2572\n",
       "Chloroflexota     1411\n",
       "Actinomycetota    1171\n",
       "Myxococcota        974\n",
       "Name: count, dtype: int64"
      ]
     },
     "execution_count": 126,
     "metadata": {},
     "output_type": "execute_result"
    }
   ],
   "source": [
    "bacteria_df[(bacteria_df['unchar_phylum']==False)&(bacteria_df['unchar_class']==True)]['phylum'].value_counts().head(20)"
   ]
  },
  {
   "cell_type": "code",
   "execution_count": null,
   "id": "07b100eb-0f04-4df3-a280-4f319869bbcc",
   "metadata": {},
   "outputs": [],
   "source": []
  },
  {
   "cell_type": "code",
   "execution_count": 125,
   "id": "e3282643-ff29-4e9c-af12-38bb7c761c75",
   "metadata": {
    "tags": []
   },
   "outputs": [
    {
     "data": {
      "text/plain": [
       "phylum\n",
       "Actinomycetota                     55109\n",
       "Pseudomonadota                     44451\n",
       "Bacteroidota                       15274\n",
       "Bacillota                          14093\n",
       "Campylobacterota                    3826\n",
       "Chloroflexota                       3527\n",
       "Planctomycetota                     3517\n",
       "Cyanobacteriota                     3033\n",
       "unknown                             1832\n",
       "Acidobacteriota                     1519\n",
       "Verrucomicrobiota                   1394\n",
       "Myxococcota                         1379\n",
       "Thermodesulfobacteriota              960\n",
       "Spirochaetota                        893\n",
       "Gemmatimonadota                      616\n",
       "Deinococcota                         510\n",
       "Nitrospirota                         449\n",
       "Candidatus Marinimicrobia            325\n",
       "Ignavibacteriota                     325\n",
       "Proteobacteria                       257\n",
       "Bdellovibrionota                     253\n",
       "Chlorobiota                          220\n",
       "Armatimonadota                       204\n",
       "Candidatus Omnitrophota              151\n",
       "Nitrospinota                         145\n",
       "Elusimicrobiota                      143\n",
       "Rhodothermota                        139\n",
       "Candidatus Poribacteria              130\n",
       "Lentisphaerota                       127\n",
       "Balneolota                           122\n",
       "Fibrobacterota                       109\n",
       "candidate division Zixibacteria       98\n",
       "Candidatus Rokubacteria               94\n",
       "Thermomicrobiota                      86\n",
       "Calditrichota                         80\n",
       "undef                                 79\n",
       "Aquificota                            67\n",
       "Vulcanimicrobiota                     64\n",
       "Candidatus Aminicenantes              62\n",
       "Candidatus Latescibacteria            60\n",
       "Fusobacteriota                        52\n",
       "Candidatus Bipolaricaulota            48\n",
       "Candidatus Melainabacteria            48\n",
       "Candidatus Moranbacteria              47\n",
       "Synergistota                          46\n",
       "Candidatus Kapabacteria               46\n",
       "Bacteroidetes                         44\n",
       "Candidatus Saccharibacteria           42\n",
       "Candidatus Eisenbacteria              40\n",
       "Candidatus Hydrogenedentes            40\n",
       "Name: count, dtype: int64"
      ]
     },
     "execution_count": 125,
     "metadata": {},
     "output_type": "execute_result"
    }
   ],
   "source": [
    "bacteria_df['phylum'].value_counts().head(50)"
   ]
  },
  {
   "cell_type": "code",
   "execution_count": null,
   "id": "463c0551-f2bf-41d4-bae7-2f63057e9cb6",
   "metadata": {},
   "outputs": [],
   "source": []
  }
 ],
 "metadata": {
  "kernelspec": {
   "display_name": "Python 3 (ipykernel)",
   "language": "python",
   "name": "python3"
  },
  "language_info": {
   "codemirror_mode": {
    "name": "ipython",
    "version": 3
   },
   "file_extension": ".py",
   "mimetype": "text/x-python",
   "name": "python",
   "nbconvert_exporter": "python",
   "pygments_lexer": "ipython3",
   "version": "3.11.5"
  }
 },
 "nbformat": 4,
 "nbformat_minor": 5
}

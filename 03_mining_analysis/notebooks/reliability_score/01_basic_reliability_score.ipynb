{
 "cells": [
  {
   "cell_type": "code",
   "execution_count": 1,
   "id": "91d42a89-e25f-4fef-a509-9cb4d09f2be2",
   "metadata": {
    "tags": []
   },
   "outputs": [],
   "source": [
    "import pandas as pd\n",
    "from hmmer_utils import DomainHit, reduce_hits, get_domain_hit_list, get_reduced_architectures, get_architectures_df, print_architecture, join_pfam_supfam_dfs, filter_partial_df"
   ]
  },
  {
   "cell_type": "code",
   "execution_count": 2,
   "id": "a17d55d5-8222-4b5a-81e3-2be843d49621",
   "metadata": {
    "tags": []
   },
   "outputs": [],
   "source": [
    "from hmmer_utils import get_strongest_hit_dict"
   ]
  },
  {
   "cell_type": "code",
   "execution_count": 3,
   "id": "9e7823f3-e751-40d3-b45a-36aa3deeeebc",
   "metadata": {
    "tags": []
   },
   "outputs": [],
   "source": [
    "from Bio import SeqIO"
   ]
  },
  {
   "cell_type": "code",
   "execution_count": 4,
   "id": "c09644fd-d562-4fcf-823e-68bcded3bdf7",
   "metadata": {
    "tags": []
   },
   "outputs": [],
   "source": [
    "import numpy as np"
   ]
  },
  {
   "cell_type": "code",
   "execution_count": 5,
   "id": "ec805b77-8147-4938-b596-545adb761441",
   "metadata": {
    "tags": []
   },
   "outputs": [],
   "source": [
    "import ast"
   ]
  },
  {
   "cell_type": "code",
   "execution_count": 6,
   "id": "68c10bf1-19d6-48ff-b929-3946015a50f3",
   "metadata": {
    "tags": []
   },
   "outputs": [],
   "source": [
    "DATABASES = ['bfd', 'mgnify', 'onekp', 'phytozome', 'tsa', 'uniprot']"
   ]
  },
  {
   "cell_type": "code",
   "execution_count": 7,
   "id": "4888aa28-24d9-4803-92e0-0c870de7ce20",
   "metadata": {
    "tags": []
   },
   "outputs": [],
   "source": [
    "DATABASES2 = ['bfd', 'mgnify_new', 'onekp', 'phytozome', 'tsa', 'uniprot']"
   ]
  },
  {
   "cell_type": "markdown",
   "id": "dbcb73e6-9197-44ea-8702-db54ffbe2352",
   "metadata": {},
   "source": [
    "# Reliability score"
   ]
  },
  {
   "cell_type": "markdown",
   "id": "984c0c85-94d4-4ac9-894b-a47e4bef42b1",
   "metadata": {},
   "source": [
    "The goal is to create a score which should prioretize sequences with high chance of being functional terpene synthases.\n",
    "\n",
    "Following criteria will be taken into account:\n",
    "- **domain architecture**\n",
    "- **domain hit from both Pfam and Supfam**\n",
    "- **e-value of the strongest hit**\n",
    "- **starts with methionin**\n",
    "- similarity to characterized sequences:\n",
    "    - for ESM and SNN network: \n",
    "        - there are characterized sequences in the same component\n",
    "        - distance to closest sequence\n",
    "    - for phylogeny: \n",
    "        - distance to closest characterized sequence in the tree"
   ]
  },
  {
   "cell_type": "markdown",
   "id": "f1d166e0-5edb-4540-bb1e-cb8a4ec604be",
   "metadata": {},
   "source": [
    "## Starts with Methionin"
   ]
  },
  {
   "cell_type": "code",
   "execution_count": 8,
   "id": "a3970215-24e3-4573-8608-29b1f49260a5",
   "metadata": {
    "tags": []
   },
   "outputs": [],
   "source": [
    "entries = []\n",
    "with open(\"all_filtered_5_unique_no_stop.fasta\") as handle:\n",
    "    for record in SeqIO.parse(handle, \"fasta\"):\n",
    "        entries.append((record.id, record.seq[0]=='M'))"
   ]
  },
  {
   "cell_type": "code",
   "execution_count": 9,
   "id": "93848b38-279b-4fac-9790-13644d59f3a8",
   "metadata": {
    "tags": []
   },
   "outputs": [],
   "source": [
    "df = pd.DataFrame(entries, columns = ['id', 'methionin'])"
   ]
  },
  {
   "cell_type": "code",
   "execution_count": 10,
   "id": "0391d1ad-182a-469e-a8fb-ba9bc37e5123",
   "metadata": {
    "tags": []
   },
   "outputs": [
    {
     "data": {
      "text/plain": [
       "methionin\n",
       "True     0.706774\n",
       "False    0.293226\n",
       "Name: proportion, dtype: float64"
      ]
     },
     "execution_count": 10,
     "metadata": {},
     "output_type": "execute_result"
    }
   ],
   "source": [
    "df['methionin'].value_counts(normalize=True)"
   ]
  },
  {
   "cell_type": "code",
   "execution_count": 11,
   "id": "f63475af-4178-4116-b8c8-27cd35060b5c",
   "metadata": {
    "tags": []
   },
   "outputs": [
    {
     "data": {
      "text/plain": [
       "(606791, 2)"
      ]
     },
     "execution_count": 11,
     "metadata": {},
     "output_type": "execute_result"
    }
   ],
   "source": [
    "df.shape"
   ]
  },
  {
   "cell_type": "markdown",
   "id": "807ac0c6-9a74-4dc5-91a0-ae75779e4bc1",
   "metadata": {},
   "source": [
    "## Pfam and Supfam domain architectures"
   ]
  },
  {
   "cell_type": "markdown",
   "id": "668b292f-7efc-4d6a-9a00-b3b2d5f68475",
   "metadata": {},
   "source": [
    "### Observed architectures in characterized sequences"
   ]
  },
  {
   "cell_type": "code",
   "execution_count": 12,
   "id": "8bc30c59-d29d-4ada-bcc5-61620308e813",
   "metadata": {
    "tags": []
   },
   "outputs": [],
   "source": [
    "pfam_architectures_file = '../../../tps_db_analysis/architectures/pfam_architecture.txt'\n",
    "supfam_architectures_file = '../../../tps_db_analysis/architectures/supfam_architecture.txt'"
   ]
  },
  {
   "cell_type": "code",
   "execution_count": 13,
   "id": "9f23c0c0-39da-4d66-a66d-33431995181d",
   "metadata": {
    "tags": []
   },
   "outputs": [],
   "source": [
    "observed_pfam_architectures = []\n",
    "with open(pfam_architectures_file, 'r') as in_file:\n",
    "    for line in in_file.readlines():\n",
    "        observed_pfam_architectures.append(line.strip())"
   ]
  },
  {
   "cell_type": "code",
   "execution_count": 14,
   "id": "e8c7dd43-88ae-49db-9e91-e2beb15148b3",
   "metadata": {
    "tags": []
   },
   "outputs": [],
   "source": [
    "observed_supfam_architectures = []\n",
    "with open(supfam_architectures_file, 'r') as in_file:\n",
    "    for line in in_file.readlines():\n",
    "        observed_supfam_architectures.append(line.strip())"
   ]
  },
  {
   "cell_type": "markdown",
   "id": "d527b39a-92d4-461c-b169-b5c465e8157d",
   "metadata": {},
   "source": [
    "### Observed architectures in mined sequences"
   ]
  },
  {
   "cell_type": "code",
   "execution_count": 15,
   "id": "2961ab86-f725-4ba0-ad40-6369e7808dd5",
   "metadata": {
    "tags": []
   },
   "outputs": [
    {
     "name": "stderr",
     "output_type": "stream",
     "text": [
      "C:\\Users\\terca\\AppData\\Local\\Temp\\ipykernel_2748\\2035735396.py:3: DtypeWarning: Columns (2) have mixed types. Specify dtype option on import or set low_memory=False.\n",
      "  arch_df = pd.read_csv(f'../{db}_archs_summary.csv', index_col=0)\n",
      "C:\\Users\\terca\\AppData\\Local\\Temp\\ipykernel_2748\\2035735396.py:3: DtypeWarning: Columns (2) have mixed types. Specify dtype option on import or set low_memory=False.\n",
      "  arch_df = pd.read_csv(f'../{db}_archs_summary.csv', index_col=0)\n",
      "C:\\Users\\terca\\AppData\\Local\\Temp\\ipykernel_2748\\2035735396.py:3: DtypeWarning: Columns (2) have mixed types. Specify dtype option on import or set low_memory=False.\n",
      "  arch_df = pd.read_csv(f'../{db}_archs_summary.csv', index_col=0)\n"
     ]
    }
   ],
   "source": [
    "arch_df_l = []\n",
    "for db in DATABASES:\n",
    "    arch_df = pd.read_csv(f'../{db}_archs_summary.csv', index_col=0)\n",
    "    arch_df_l.append(arch_df)"
   ]
  },
  {
   "cell_type": "code",
   "execution_count": 16,
   "id": "203f9389-a84d-4734-8a8a-d0b321b694f5",
   "metadata": {
    "tags": []
   },
   "outputs": [],
   "source": [
    "arch_df = pd.concat(arch_df_l)"
   ]
  },
  {
   "cell_type": "code",
   "execution_count": 17,
   "id": "ccf6d3a2-1ce4-4a94-bd0f-b0c56ef2cff7",
   "metadata": {
    "tags": []
   },
   "outputs": [],
   "source": [
    "arch_df['observed_pfam_architecture'] = arch_df['architecture_pfam'].isin(observed_pfam_architectures)"
   ]
  },
  {
   "cell_type": "code",
   "execution_count": 18,
   "id": "3611d057-364a-45fc-bd70-7e92800b6846",
   "metadata": {
    "tags": []
   },
   "outputs": [],
   "source": [
    "arch_df['observed_supfam_architecture'] = arch_df['architecture_supfam'].isin(observed_supfam_architectures)"
   ]
  },
  {
   "cell_type": "code",
   "execution_count": 19,
   "id": "41131388-d295-47cc-af9a-01fd0180ff26",
   "metadata": {
    "tags": []
   },
   "outputs": [
    {
     "data": {
      "text/html": [
       "<div>\n",
       "<style scoped>\n",
       "    .dataframe tbody tr th:only-of-type {\n",
       "        vertical-align: middle;\n",
       "    }\n",
       "\n",
       "    .dataframe tbody tr th {\n",
       "        vertical-align: top;\n",
       "    }\n",
       "\n",
       "    .dataframe thead th {\n",
       "        text-align: right;\n",
       "    }\n",
       "</style>\n",
       "<table border=\"1\" class=\"dataframe\">\n",
       "  <thead>\n",
       "    <tr style=\"text-align: right;\">\n",
       "      <th></th>\n",
       "      <th>id</th>\n",
       "      <th>architecture_pfam</th>\n",
       "      <th>architecture_l_pfam</th>\n",
       "      <th>architecture_supfam</th>\n",
       "      <th>architecture_l_supfam</th>\n",
       "      <th>n_doms_pfam</th>\n",
       "      <th>n_doms_supfam</th>\n",
       "      <th>contains_pfam_partial</th>\n",
       "      <th>contains_supfam_partial</th>\n",
       "      <th>observed_pfam_architecture</th>\n",
       "      <th>observed_supfam_architecture</th>\n",
       "    </tr>\n",
       "  </thead>\n",
       "  <tbody>\n",
       "    <tr>\n",
       "      <th>0</th>\n",
       "      <td>bfd_106193</td>\n",
       "      <td>['PF13249.9']</td>\n",
       "      <td>['PF13249.9']</td>\n",
       "      <td>NaN</td>\n",
       "      <td>[]</td>\n",
       "      <td>1</td>\n",
       "      <td>0</td>\n",
       "      <td>False</td>\n",
       "      <td>False</td>\n",
       "      <td>False</td>\n",
       "      <td>False</td>\n",
       "    </tr>\n",
       "    <tr>\n",
       "      <th>1</th>\n",
       "      <td>bfd_118229</td>\n",
       "      <td>['PF13249.9', 'PF13243.9']</td>\n",
       "      <td>['PF13249.9', 'PF13243.9']</td>\n",
       "      <td>NaN</td>\n",
       "      <td>[]</td>\n",
       "      <td>2</td>\n",
       "      <td>0</td>\n",
       "      <td>False</td>\n",
       "      <td>False</td>\n",
       "      <td>True</td>\n",
       "      <td>False</td>\n",
       "    </tr>\n",
       "    <tr>\n",
       "      <th>2</th>\n",
       "      <td>bfd_059047</td>\n",
       "      <td>['PF13249.9', 'PF13243.9']</td>\n",
       "      <td>['PF13249.9', 'PF13243.9']</td>\n",
       "      <td>NaN</td>\n",
       "      <td>[]</td>\n",
       "      <td>2</td>\n",
       "      <td>0</td>\n",
       "      <td>False</td>\n",
       "      <td>False</td>\n",
       "      <td>True</td>\n",
       "      <td>False</td>\n",
       "    </tr>\n",
       "    <tr>\n",
       "      <th>3</th>\n",
       "      <td>bfd_096880</td>\n",
       "      <td>['PF00494.22']</td>\n",
       "      <td>['PF00494.22']</td>\n",
       "      <td>NaN</td>\n",
       "      <td>[]</td>\n",
       "      <td>1</td>\n",
       "      <td>0</td>\n",
       "      <td>False</td>\n",
       "      <td>False</td>\n",
       "      <td>True</td>\n",
       "      <td>False</td>\n",
       "    </tr>\n",
       "    <tr>\n",
       "      <th>4</th>\n",
       "      <td>bfd_097326</td>\n",
       "      <td>['PF13243.9_partial', 'PF13243.9_partial']</td>\n",
       "      <td>['PF13243.9_partial', 'PF13243.9_partial']</td>\n",
       "      <td>NaN</td>\n",
       "      <td>[]</td>\n",
       "      <td>2</td>\n",
       "      <td>0</td>\n",
       "      <td>True</td>\n",
       "      <td>False</td>\n",
       "      <td>True</td>\n",
       "      <td>False</td>\n",
       "    </tr>\n",
       "    <tr>\n",
       "      <th>...</th>\n",
       "      <td>...</td>\n",
       "      <td>...</td>\n",
       "      <td>...</td>\n",
       "      <td>...</td>\n",
       "      <td>...</td>\n",
       "      <td>...</td>\n",
       "      <td>...</td>\n",
       "      <td>...</td>\n",
       "      <td>...</td>\n",
       "      <td>...</td>\n",
       "      <td>...</td>\n",
       "    </tr>\n",
       "    <tr>\n",
       "      <th>220426</th>\n",
       "      <td>uniprot_163936</td>\n",
       "      <td>NaN</td>\n",
       "      <td>[]</td>\n",
       "      <td>['0046340']</td>\n",
       "      <td>['0046340']</td>\n",
       "      <td>0</td>\n",
       "      <td>1</td>\n",
       "      <td>False</td>\n",
       "      <td>False</td>\n",
       "      <td>False</td>\n",
       "      <td>True</td>\n",
       "    </tr>\n",
       "    <tr>\n",
       "      <th>220427</th>\n",
       "      <td>uniprot_188186</td>\n",
       "      <td>NaN</td>\n",
       "      <td>[]</td>\n",
       "      <td>['0046340']</td>\n",
       "      <td>['0046340']</td>\n",
       "      <td>0</td>\n",
       "      <td>1</td>\n",
       "      <td>False</td>\n",
       "      <td>False</td>\n",
       "      <td>False</td>\n",
       "      <td>True</td>\n",
       "    </tr>\n",
       "    <tr>\n",
       "      <th>220428</th>\n",
       "      <td>uniprot_229305</td>\n",
       "      <td>NaN</td>\n",
       "      <td>[]</td>\n",
       "      <td>['0046340']</td>\n",
       "      <td>['0046340']</td>\n",
       "      <td>0</td>\n",
       "      <td>1</td>\n",
       "      <td>False</td>\n",
       "      <td>False</td>\n",
       "      <td>False</td>\n",
       "      <td>True</td>\n",
       "    </tr>\n",
       "    <tr>\n",
       "      <th>220429</th>\n",
       "      <td>uniprot_181461</td>\n",
       "      <td>NaN</td>\n",
       "      <td>[]</td>\n",
       "      <td>['0046340']</td>\n",
       "      <td>['0046340']</td>\n",
       "      <td>0</td>\n",
       "      <td>1</td>\n",
       "      <td>False</td>\n",
       "      <td>False</td>\n",
       "      <td>False</td>\n",
       "      <td>True</td>\n",
       "    </tr>\n",
       "    <tr>\n",
       "      <th>220430</th>\n",
       "      <td>uniprot_154916</td>\n",
       "      <td>NaN</td>\n",
       "      <td>[]</td>\n",
       "      <td>['0046340']</td>\n",
       "      <td>['0046340']</td>\n",
       "      <td>0</td>\n",
       "      <td>1</td>\n",
       "      <td>False</td>\n",
       "      <td>False</td>\n",
       "      <td>False</td>\n",
       "      <td>True</td>\n",
       "    </tr>\n",
       "  </tbody>\n",
       "</table>\n",
       "<p>682471 rows × 11 columns</p>\n",
       "</div>"
      ],
      "text/plain": [
       "                    id                           architecture_pfam  \\\n",
       "0           bfd_106193                               ['PF13249.9']   \n",
       "1           bfd_118229                  ['PF13249.9', 'PF13243.9']   \n",
       "2           bfd_059047                  ['PF13249.9', 'PF13243.9']   \n",
       "3           bfd_096880                              ['PF00494.22']   \n",
       "4           bfd_097326  ['PF13243.9_partial', 'PF13243.9_partial']   \n",
       "...                ...                                         ...   \n",
       "220426  uniprot_163936                                         NaN   \n",
       "220427  uniprot_188186                                         NaN   \n",
       "220428  uniprot_229305                                         NaN   \n",
       "220429  uniprot_181461                                         NaN   \n",
       "220430  uniprot_154916                                         NaN   \n",
       "\n",
       "                               architecture_l_pfam architecture_supfam  \\\n",
       "0                                    ['PF13249.9']                 NaN   \n",
       "1                       ['PF13249.9', 'PF13243.9']                 NaN   \n",
       "2                       ['PF13249.9', 'PF13243.9']                 NaN   \n",
       "3                                   ['PF00494.22']                 NaN   \n",
       "4       ['PF13243.9_partial', 'PF13243.9_partial']                 NaN   \n",
       "...                                            ...                 ...   \n",
       "220426                                          []         ['0046340']   \n",
       "220427                                          []         ['0046340']   \n",
       "220428                                          []         ['0046340']   \n",
       "220429                                          []         ['0046340']   \n",
       "220430                                          []         ['0046340']   \n",
       "\n",
       "       architecture_l_supfam  n_doms_pfam  n_doms_supfam  \\\n",
       "0                         []            1              0   \n",
       "1                         []            2              0   \n",
       "2                         []            2              0   \n",
       "3                         []            1              0   \n",
       "4                         []            2              0   \n",
       "...                      ...          ...            ...   \n",
       "220426           ['0046340']            0              1   \n",
       "220427           ['0046340']            0              1   \n",
       "220428           ['0046340']            0              1   \n",
       "220429           ['0046340']            0              1   \n",
       "220430           ['0046340']            0              1   \n",
       "\n",
       "        contains_pfam_partial  contains_supfam_partial  \\\n",
       "0                       False                    False   \n",
       "1                       False                    False   \n",
       "2                       False                    False   \n",
       "3                       False                    False   \n",
       "4                        True                    False   \n",
       "...                       ...                      ...   \n",
       "220426                  False                    False   \n",
       "220427                  False                    False   \n",
       "220428                  False                    False   \n",
       "220429                  False                    False   \n",
       "220430                  False                    False   \n",
       "\n",
       "        observed_pfam_architecture  observed_supfam_architecture  \n",
       "0                            False                         False  \n",
       "1                             True                         False  \n",
       "2                             True                         False  \n",
       "3                             True                         False  \n",
       "4                             True                         False  \n",
       "...                            ...                           ...  \n",
       "220426                       False                          True  \n",
       "220427                       False                          True  \n",
       "220428                       False                          True  \n",
       "220429                       False                          True  \n",
       "220430                       False                          True  \n",
       "\n",
       "[682471 rows x 11 columns]"
      ]
     },
     "execution_count": 19,
     "metadata": {},
     "output_type": "execute_result"
    }
   ],
   "source": [
    "arch_df"
   ]
  },
  {
   "cell_type": "code",
   "execution_count": 20,
   "id": "6e70a0ac-0f11-4578-b3b2-7d9cc5de2a6c",
   "metadata": {
    "tags": []
   },
   "outputs": [
    {
     "data": {
      "text/plain": [
       "(682471, 11)"
      ]
     },
     "execution_count": 20,
     "metadata": {},
     "output_type": "execute_result"
    }
   ],
   "source": [
    "arch_df.shape"
   ]
  },
  {
   "cell_type": "code",
   "execution_count": 20,
   "id": "0006ab43-2a52-4061-a5be-ad4ca4d57d2c",
   "metadata": {
    "tags": []
   },
   "outputs": [],
   "source": [
    "df = df.merge(arch_df[['id', 'observed_pfam_architecture', 'observed_supfam_architecture']], how='left', on='id')"
   ]
  },
  {
   "cell_type": "code",
   "execution_count": 21,
   "id": "fad712d0-898a-4dc5-b64f-8f61c478e86f",
   "metadata": {
    "tags": []
   },
   "outputs": [
    {
     "data": {
      "text/plain": [
       "(606791, 4)"
      ]
     },
     "execution_count": 21,
     "metadata": {},
     "output_type": "execute_result"
    }
   ],
   "source": [
    "df.shape"
   ]
  },
  {
   "cell_type": "markdown",
   "id": "78fba775-1da2-4d1e-8721-b04b2e162873",
   "metadata": {},
   "source": [
    "There are 99,741 sequences which have both observed pfam architecture and supfam architecture."
   ]
  },
  {
   "cell_type": "code",
   "execution_count": 22,
   "id": "eb42d565-35d8-4ad5-9d8a-9bc2c6076adf",
   "metadata": {
    "tags": []
   },
   "outputs": [
    {
     "data": {
      "text/html": [
       "<div>\n",
       "<style scoped>\n",
       "    .dataframe tbody tr th:only-of-type {\n",
       "        vertical-align: middle;\n",
       "    }\n",
       "\n",
       "    .dataframe tbody tr th {\n",
       "        vertical-align: top;\n",
       "    }\n",
       "\n",
       "    .dataframe thead th {\n",
       "        text-align: right;\n",
       "    }\n",
       "</style>\n",
       "<table border=\"1\" class=\"dataframe\">\n",
       "  <thead>\n",
       "    <tr style=\"text-align: right;\">\n",
       "      <th></th>\n",
       "      <th>id</th>\n",
       "      <th>architecture_pfam</th>\n",
       "      <th>architecture_l_pfam</th>\n",
       "      <th>architecture_supfam</th>\n",
       "      <th>architecture_l_supfam</th>\n",
       "      <th>n_doms_pfam</th>\n",
       "      <th>n_doms_supfam</th>\n",
       "      <th>contains_pfam_partial</th>\n",
       "      <th>contains_supfam_partial</th>\n",
       "      <th>observed_pfam_architecture</th>\n",
       "      <th>observed_supfam_architecture</th>\n",
       "    </tr>\n",
       "  </thead>\n",
       "  <tbody>\n",
       "    <tr>\n",
       "      <th>7</th>\n",
       "      <td>bfd_081814</td>\n",
       "      <td>['PF01397.24', 'PF03936.19']</td>\n",
       "      <td>['PF01397.24', 'PF03936.19']</td>\n",
       "      <td>['0048261']</td>\n",
       "      <td>['0048261']</td>\n",
       "      <td>2</td>\n",
       "      <td>1</td>\n",
       "      <td>False</td>\n",
       "      <td>False</td>\n",
       "      <td>True</td>\n",
       "      <td>True</td>\n",
       "    </tr>\n",
       "    <tr>\n",
       "      <th>10</th>\n",
       "      <td>bfd_018736</td>\n",
       "      <td>['PF00494.22']</td>\n",
       "      <td>['PF00494.22']</td>\n",
       "      <td>['0046340_partial']</td>\n",
       "      <td>['0046340_partial']</td>\n",
       "      <td>1</td>\n",
       "      <td>1</td>\n",
       "      <td>False</td>\n",
       "      <td>True</td>\n",
       "      <td>True</td>\n",
       "      <td>True</td>\n",
       "    </tr>\n",
       "    <tr>\n",
       "      <th>13</th>\n",
       "      <td>bfd_049008</td>\n",
       "      <td>['PF01397.24', 'PF03936.19']</td>\n",
       "      <td>['PF01397.24', 'PF03936.19']</td>\n",
       "      <td>['0053355']</td>\n",
       "      <td>['0053355']</td>\n",
       "      <td>2</td>\n",
       "      <td>1</td>\n",
       "      <td>False</td>\n",
       "      <td>False</td>\n",
       "      <td>True</td>\n",
       "      <td>True</td>\n",
       "    </tr>\n",
       "    <tr>\n",
       "      <th>16</th>\n",
       "      <td>bfd_001499</td>\n",
       "      <td>['PF00494.22']</td>\n",
       "      <td>['PF00494.22']</td>\n",
       "      <td>['0046340']</td>\n",
       "      <td>['0046340']</td>\n",
       "      <td>1</td>\n",
       "      <td>1</td>\n",
       "      <td>False</td>\n",
       "      <td>False</td>\n",
       "      <td>True</td>\n",
       "      <td>True</td>\n",
       "    </tr>\n",
       "    <tr>\n",
       "      <th>29</th>\n",
       "      <td>bfd_025594</td>\n",
       "      <td>['PF00494.22']</td>\n",
       "      <td>['PF00494.22']</td>\n",
       "      <td>['0048806']</td>\n",
       "      <td>['0048806']</td>\n",
       "      <td>1</td>\n",
       "      <td>1</td>\n",
       "      <td>False</td>\n",
       "      <td>False</td>\n",
       "      <td>True</td>\n",
       "      <td>True</td>\n",
       "    </tr>\n",
       "    <tr>\n",
       "      <th>...</th>\n",
       "      <td>...</td>\n",
       "      <td>...</td>\n",
       "      <td>...</td>\n",
       "      <td>...</td>\n",
       "      <td>...</td>\n",
       "      <td>...</td>\n",
       "      <td>...</td>\n",
       "      <td>...</td>\n",
       "      <td>...</td>\n",
       "      <td>...</td>\n",
       "      <td>...</td>\n",
       "    </tr>\n",
       "    <tr>\n",
       "      <th>93529</th>\n",
       "      <td>uniprot_070202</td>\n",
       "      <td>['PF19086.3']</td>\n",
       "      <td>['PF19086.3']</td>\n",
       "      <td>['0047573']</td>\n",
       "      <td>['0047573']</td>\n",
       "      <td>1</td>\n",
       "      <td>1</td>\n",
       "      <td>False</td>\n",
       "      <td>False</td>\n",
       "      <td>True</td>\n",
       "      <td>True</td>\n",
       "    </tr>\n",
       "    <tr>\n",
       "      <th>93530</th>\n",
       "      <td>uniprot_086218</td>\n",
       "      <td>['PF06330.14']</td>\n",
       "      <td>['PF06330.14']</td>\n",
       "      <td>['0047573']</td>\n",
       "      <td>['0047573']</td>\n",
       "      <td>1</td>\n",
       "      <td>1</td>\n",
       "      <td>False</td>\n",
       "      <td>False</td>\n",
       "      <td>True</td>\n",
       "      <td>True</td>\n",
       "    </tr>\n",
       "    <tr>\n",
       "      <th>93531</th>\n",
       "      <td>uniprot_061294</td>\n",
       "      <td>['PF00494.22']</td>\n",
       "      <td>['PF00494.22']</td>\n",
       "      <td>['0046340_partial']</td>\n",
       "      <td>['0046340_partial']</td>\n",
       "      <td>1</td>\n",
       "      <td>1</td>\n",
       "      <td>False</td>\n",
       "      <td>True</td>\n",
       "      <td>True</td>\n",
       "      <td>True</td>\n",
       "    </tr>\n",
       "    <tr>\n",
       "      <th>93532</th>\n",
       "      <td>uniprot_025064</td>\n",
       "      <td>['PF06330.14']</td>\n",
       "      <td>['PF06330.14']</td>\n",
       "      <td>['0047573']</td>\n",
       "      <td>['0047573']</td>\n",
       "      <td>1</td>\n",
       "      <td>1</td>\n",
       "      <td>False</td>\n",
       "      <td>False</td>\n",
       "      <td>True</td>\n",
       "      <td>True</td>\n",
       "    </tr>\n",
       "    <tr>\n",
       "      <th>93534</th>\n",
       "      <td>uniprot_012801</td>\n",
       "      <td>['PF06330.14']</td>\n",
       "      <td>['PF06330.14']</td>\n",
       "      <td>['0047573']</td>\n",
       "      <td>['0047573']</td>\n",
       "      <td>1</td>\n",
       "      <td>1</td>\n",
       "      <td>False</td>\n",
       "      <td>False</td>\n",
       "      <td>True</td>\n",
       "      <td>True</td>\n",
       "    </tr>\n",
       "  </tbody>\n",
       "</table>\n",
       "<p>99741 rows × 11 columns</p>\n",
       "</div>"
      ],
      "text/plain": [
       "                   id             architecture_pfam  \\\n",
       "7          bfd_081814  ['PF01397.24', 'PF03936.19']   \n",
       "10         bfd_018736                ['PF00494.22']   \n",
       "13         bfd_049008  ['PF01397.24', 'PF03936.19']   \n",
       "16         bfd_001499                ['PF00494.22']   \n",
       "29         bfd_025594                ['PF00494.22']   \n",
       "...               ...                           ...   \n",
       "93529  uniprot_070202                 ['PF19086.3']   \n",
       "93530  uniprot_086218                ['PF06330.14']   \n",
       "93531  uniprot_061294                ['PF00494.22']   \n",
       "93532  uniprot_025064                ['PF06330.14']   \n",
       "93534  uniprot_012801                ['PF06330.14']   \n",
       "\n",
       "                architecture_l_pfam  architecture_supfam  \\\n",
       "7      ['PF01397.24', 'PF03936.19']          ['0048261']   \n",
       "10                   ['PF00494.22']  ['0046340_partial']   \n",
       "13     ['PF01397.24', 'PF03936.19']          ['0053355']   \n",
       "16                   ['PF00494.22']          ['0046340']   \n",
       "29                   ['PF00494.22']          ['0048806']   \n",
       "...                             ...                  ...   \n",
       "93529                 ['PF19086.3']          ['0047573']   \n",
       "93530                ['PF06330.14']          ['0047573']   \n",
       "93531                ['PF00494.22']  ['0046340_partial']   \n",
       "93532                ['PF06330.14']          ['0047573']   \n",
       "93534                ['PF06330.14']          ['0047573']   \n",
       "\n",
       "      architecture_l_supfam  n_doms_pfam  n_doms_supfam  \\\n",
       "7               ['0048261']            2              1   \n",
       "10      ['0046340_partial']            1              1   \n",
       "13              ['0053355']            2              1   \n",
       "16              ['0046340']            1              1   \n",
       "29              ['0048806']            1              1   \n",
       "...                     ...          ...            ...   \n",
       "93529           ['0047573']            1              1   \n",
       "93530           ['0047573']            1              1   \n",
       "93531   ['0046340_partial']            1              1   \n",
       "93532           ['0047573']            1              1   \n",
       "93534           ['0047573']            1              1   \n",
       "\n",
       "       contains_pfam_partial  contains_supfam_partial  \\\n",
       "7                      False                    False   \n",
       "10                     False                     True   \n",
       "13                     False                    False   \n",
       "16                     False                    False   \n",
       "29                     False                    False   \n",
       "...                      ...                      ...   \n",
       "93529                  False                    False   \n",
       "93530                  False                    False   \n",
       "93531                  False                     True   \n",
       "93532                  False                    False   \n",
       "93534                  False                    False   \n",
       "\n",
       "       observed_pfam_architecture  observed_supfam_architecture  \n",
       "7                            True                          True  \n",
       "10                           True                          True  \n",
       "13                           True                          True  \n",
       "16                           True                          True  \n",
       "29                           True                          True  \n",
       "...                           ...                           ...  \n",
       "93529                        True                          True  \n",
       "93530                        True                          True  \n",
       "93531                        True                          True  \n",
       "93532                        True                          True  \n",
       "93534                        True                          True  \n",
       "\n",
       "[99741 rows x 11 columns]"
      ]
     },
     "execution_count": 22,
     "metadata": {},
     "output_type": "execute_result"
    }
   ],
   "source": [
    "arch_df[arch_df['observed_pfam_architecture'] & arch_df['observed_supfam_architecture']]"
   ]
  },
  {
   "cell_type": "markdown",
   "id": "0f19de6d-def5-48aa-b77b-a01a44438292",
   "metadata": {},
   "source": [
    "There are 203,359 sequences with observed Pfam architecture."
   ]
  },
  {
   "cell_type": "code",
   "execution_count": 23,
   "id": "46145256-dea8-4500-bcd4-eb729f71e4ff",
   "metadata": {
    "tags": []
   },
   "outputs": [
    {
     "data": {
      "text/html": [
       "<div>\n",
       "<style scoped>\n",
       "    .dataframe tbody tr th:only-of-type {\n",
       "        vertical-align: middle;\n",
       "    }\n",
       "\n",
       "    .dataframe tbody tr th {\n",
       "        vertical-align: top;\n",
       "    }\n",
       "\n",
       "    .dataframe thead th {\n",
       "        text-align: right;\n",
       "    }\n",
       "</style>\n",
       "<table border=\"1\" class=\"dataframe\">\n",
       "  <thead>\n",
       "    <tr style=\"text-align: right;\">\n",
       "      <th></th>\n",
       "      <th>id</th>\n",
       "      <th>architecture_pfam</th>\n",
       "      <th>architecture_l_pfam</th>\n",
       "      <th>architecture_supfam</th>\n",
       "      <th>architecture_l_supfam</th>\n",
       "      <th>n_doms_pfam</th>\n",
       "      <th>n_doms_supfam</th>\n",
       "      <th>contains_pfam_partial</th>\n",
       "      <th>contains_supfam_partial</th>\n",
       "      <th>observed_pfam_architecture</th>\n",
       "      <th>observed_supfam_architecture</th>\n",
       "    </tr>\n",
       "  </thead>\n",
       "  <tbody>\n",
       "    <tr>\n",
       "      <th>1</th>\n",
       "      <td>bfd_118229</td>\n",
       "      <td>['PF13249.9', 'PF13243.9']</td>\n",
       "      <td>['PF13249.9', 'PF13243.9']</td>\n",
       "      <td>NaN</td>\n",
       "      <td>[]</td>\n",
       "      <td>2</td>\n",
       "      <td>0</td>\n",
       "      <td>False</td>\n",
       "      <td>False</td>\n",
       "      <td>True</td>\n",
       "      <td>False</td>\n",
       "    </tr>\n",
       "    <tr>\n",
       "      <th>2</th>\n",
       "      <td>bfd_059047</td>\n",
       "      <td>['PF13249.9', 'PF13243.9']</td>\n",
       "      <td>['PF13249.9', 'PF13243.9']</td>\n",
       "      <td>NaN</td>\n",
       "      <td>[]</td>\n",
       "      <td>2</td>\n",
       "      <td>0</td>\n",
       "      <td>False</td>\n",
       "      <td>False</td>\n",
       "      <td>True</td>\n",
       "      <td>False</td>\n",
       "    </tr>\n",
       "    <tr>\n",
       "      <th>3</th>\n",
       "      <td>bfd_096880</td>\n",
       "      <td>['PF00494.22']</td>\n",
       "      <td>['PF00494.22']</td>\n",
       "      <td>NaN</td>\n",
       "      <td>[]</td>\n",
       "      <td>1</td>\n",
       "      <td>0</td>\n",
       "      <td>False</td>\n",
       "      <td>False</td>\n",
       "      <td>True</td>\n",
       "      <td>False</td>\n",
       "    </tr>\n",
       "    <tr>\n",
       "      <th>4</th>\n",
       "      <td>bfd_097326</td>\n",
       "      <td>['PF13243.9_partial', 'PF13243.9_partial']</td>\n",
       "      <td>['PF13243.9_partial', 'PF13243.9_partial']</td>\n",
       "      <td>NaN</td>\n",
       "      <td>[]</td>\n",
       "      <td>2</td>\n",
       "      <td>0</td>\n",
       "      <td>True</td>\n",
       "      <td>False</td>\n",
       "      <td>True</td>\n",
       "      <td>False</td>\n",
       "    </tr>\n",
       "    <tr>\n",
       "      <th>7</th>\n",
       "      <td>bfd_081814</td>\n",
       "      <td>['PF01397.24', 'PF03936.19']</td>\n",
       "      <td>['PF01397.24', 'PF03936.19']</td>\n",
       "      <td>['0048261']</td>\n",
       "      <td>['0048261']</td>\n",
       "      <td>2</td>\n",
       "      <td>1</td>\n",
       "      <td>False</td>\n",
       "      <td>False</td>\n",
       "      <td>True</td>\n",
       "      <td>True</td>\n",
       "    </tr>\n",
       "    <tr>\n",
       "      <th>...</th>\n",
       "      <td>...</td>\n",
       "      <td>...</td>\n",
       "      <td>...</td>\n",
       "      <td>...</td>\n",
       "      <td>...</td>\n",
       "      <td>...</td>\n",
       "      <td>...</td>\n",
       "      <td>...</td>\n",
       "      <td>...</td>\n",
       "      <td>...</td>\n",
       "      <td>...</td>\n",
       "    </tr>\n",
       "    <tr>\n",
       "      <th>93530</th>\n",
       "      <td>uniprot_086218</td>\n",
       "      <td>['PF06330.14']</td>\n",
       "      <td>['PF06330.14']</td>\n",
       "      <td>['0047573']</td>\n",
       "      <td>['0047573']</td>\n",
       "      <td>1</td>\n",
       "      <td>1</td>\n",
       "      <td>False</td>\n",
       "      <td>False</td>\n",
       "      <td>True</td>\n",
       "      <td>True</td>\n",
       "    </tr>\n",
       "    <tr>\n",
       "      <th>93531</th>\n",
       "      <td>uniprot_061294</td>\n",
       "      <td>['PF00494.22']</td>\n",
       "      <td>['PF00494.22']</td>\n",
       "      <td>['0046340_partial']</td>\n",
       "      <td>['0046340_partial']</td>\n",
       "      <td>1</td>\n",
       "      <td>1</td>\n",
       "      <td>False</td>\n",
       "      <td>True</td>\n",
       "      <td>True</td>\n",
       "      <td>True</td>\n",
       "    </tr>\n",
       "    <tr>\n",
       "      <th>93532</th>\n",
       "      <td>uniprot_025064</td>\n",
       "      <td>['PF06330.14']</td>\n",
       "      <td>['PF06330.14']</td>\n",
       "      <td>['0047573']</td>\n",
       "      <td>['0047573']</td>\n",
       "      <td>1</td>\n",
       "      <td>1</td>\n",
       "      <td>False</td>\n",
       "      <td>False</td>\n",
       "      <td>True</td>\n",
       "      <td>True</td>\n",
       "    </tr>\n",
       "    <tr>\n",
       "      <th>93533</th>\n",
       "      <td>uniprot_054707</td>\n",
       "      <td>['PF01397.24', 'PF03936.19', 'PF03936.19_parti...</td>\n",
       "      <td>['PF01397.24', 'PF03936.19', 'PF03936.19_parti...</td>\n",
       "      <td>['0046340_partial', '0053355']</td>\n",
       "      <td>['0046340_partial', '0053355']</td>\n",
       "      <td>3</td>\n",
       "      <td>2</td>\n",
       "      <td>True</td>\n",
       "      <td>True</td>\n",
       "      <td>True</td>\n",
       "      <td>False</td>\n",
       "    </tr>\n",
       "    <tr>\n",
       "      <th>93534</th>\n",
       "      <td>uniprot_012801</td>\n",
       "      <td>['PF06330.14']</td>\n",
       "      <td>['PF06330.14']</td>\n",
       "      <td>['0047573']</td>\n",
       "      <td>['0047573']</td>\n",
       "      <td>1</td>\n",
       "      <td>1</td>\n",
       "      <td>False</td>\n",
       "      <td>False</td>\n",
       "      <td>True</td>\n",
       "      <td>True</td>\n",
       "    </tr>\n",
       "  </tbody>\n",
       "</table>\n",
       "<p>203359 rows × 11 columns</p>\n",
       "</div>"
      ],
      "text/plain": [
       "                   id                                  architecture_pfam  \\\n",
       "1          bfd_118229                         ['PF13249.9', 'PF13243.9']   \n",
       "2          bfd_059047                         ['PF13249.9', 'PF13243.9']   \n",
       "3          bfd_096880                                     ['PF00494.22']   \n",
       "4          bfd_097326         ['PF13243.9_partial', 'PF13243.9_partial']   \n",
       "7          bfd_081814                       ['PF01397.24', 'PF03936.19']   \n",
       "...               ...                                                ...   \n",
       "93530  uniprot_086218                                     ['PF06330.14']   \n",
       "93531  uniprot_061294                                     ['PF00494.22']   \n",
       "93532  uniprot_025064                                     ['PF06330.14']   \n",
       "93533  uniprot_054707  ['PF01397.24', 'PF03936.19', 'PF03936.19_parti...   \n",
       "93534  uniprot_012801                                     ['PF06330.14']   \n",
       "\n",
       "                                     architecture_l_pfam  \\\n",
       "1                             ['PF13249.9', 'PF13243.9']   \n",
       "2                             ['PF13249.9', 'PF13243.9']   \n",
       "3                                         ['PF00494.22']   \n",
       "4             ['PF13243.9_partial', 'PF13243.9_partial']   \n",
       "7                           ['PF01397.24', 'PF03936.19']   \n",
       "...                                                  ...   \n",
       "93530                                     ['PF06330.14']   \n",
       "93531                                     ['PF00494.22']   \n",
       "93532                                     ['PF06330.14']   \n",
       "93533  ['PF01397.24', 'PF03936.19', 'PF03936.19_parti...   \n",
       "93534                                     ['PF06330.14']   \n",
       "\n",
       "                  architecture_supfam           architecture_l_supfam  \\\n",
       "1                                 NaN                              []   \n",
       "2                                 NaN                              []   \n",
       "3                                 NaN                              []   \n",
       "4                                 NaN                              []   \n",
       "7                         ['0048261']                     ['0048261']   \n",
       "...                               ...                             ...   \n",
       "93530                     ['0047573']                     ['0047573']   \n",
       "93531             ['0046340_partial']             ['0046340_partial']   \n",
       "93532                     ['0047573']                     ['0047573']   \n",
       "93533  ['0046340_partial', '0053355']  ['0046340_partial', '0053355']   \n",
       "93534                     ['0047573']                     ['0047573']   \n",
       "\n",
       "       n_doms_pfam  n_doms_supfam  contains_pfam_partial  \\\n",
       "1                2              0                  False   \n",
       "2                2              0                  False   \n",
       "3                1              0                  False   \n",
       "4                2              0                   True   \n",
       "7                2              1                  False   \n",
       "...            ...            ...                    ...   \n",
       "93530            1              1                  False   \n",
       "93531            1              1                  False   \n",
       "93532            1              1                  False   \n",
       "93533            3              2                   True   \n",
       "93534            1              1                  False   \n",
       "\n",
       "       contains_supfam_partial  observed_pfam_architecture  \\\n",
       "1                        False                        True   \n",
       "2                        False                        True   \n",
       "3                        False                        True   \n",
       "4                        False                        True   \n",
       "7                        False                        True   \n",
       "...                        ...                         ...   \n",
       "93530                    False                        True   \n",
       "93531                     True                        True   \n",
       "93532                    False                        True   \n",
       "93533                     True                        True   \n",
       "93534                    False                        True   \n",
       "\n",
       "       observed_supfam_architecture  \n",
       "1                             False  \n",
       "2                             False  \n",
       "3                             False  \n",
       "4                             False  \n",
       "7                              True  \n",
       "...                             ...  \n",
       "93530                          True  \n",
       "93531                          True  \n",
       "93532                          True  \n",
       "93533                         False  \n",
       "93534                          True  \n",
       "\n",
       "[203359 rows x 11 columns]"
      ]
     },
     "execution_count": 23,
     "metadata": {},
     "output_type": "execute_result"
    }
   ],
   "source": [
    "arch_df[arch_df['observed_pfam_architecture']]"
   ]
  },
  {
   "cell_type": "markdown",
   "id": "c9cbef54-796b-4142-b85f-4f139dd73ea6",
   "metadata": {},
   "source": [
    "There are 551,331 sequences with observed Supfam architecture."
   ]
  },
  {
   "cell_type": "code",
   "execution_count": 24,
   "id": "cb975864-e3ea-40d9-9b42-b72d48737376",
   "metadata": {
    "tags": []
   },
   "outputs": [
    {
     "data": {
      "text/html": [
       "<div>\n",
       "<style scoped>\n",
       "    .dataframe tbody tr th:only-of-type {\n",
       "        vertical-align: middle;\n",
       "    }\n",
       "\n",
       "    .dataframe tbody tr th {\n",
       "        vertical-align: top;\n",
       "    }\n",
       "\n",
       "    .dataframe thead th {\n",
       "        text-align: right;\n",
       "    }\n",
       "</style>\n",
       "<table border=\"1\" class=\"dataframe\">\n",
       "  <thead>\n",
       "    <tr style=\"text-align: right;\">\n",
       "      <th></th>\n",
       "      <th>id</th>\n",
       "      <th>architecture_pfam</th>\n",
       "      <th>architecture_l_pfam</th>\n",
       "      <th>architecture_supfam</th>\n",
       "      <th>architecture_l_supfam</th>\n",
       "      <th>n_doms_pfam</th>\n",
       "      <th>n_doms_supfam</th>\n",
       "      <th>contains_pfam_partial</th>\n",
       "      <th>contains_supfam_partial</th>\n",
       "      <th>observed_pfam_architecture</th>\n",
       "      <th>observed_supfam_architecture</th>\n",
       "    </tr>\n",
       "  </thead>\n",
       "  <tbody>\n",
       "    <tr>\n",
       "      <th>5</th>\n",
       "      <td>bfd_126300</td>\n",
       "      <td>['PF01397.24', 'PF03936.19_partial', 'PF03936....</td>\n",
       "      <td>['PF01397.24', 'PF03936.19_partial', 'PF03936....</td>\n",
       "      <td>['0041184', '0048261']</td>\n",
       "      <td>['0041184', '0048261']</td>\n",
       "      <td>4</td>\n",
       "      <td>2</td>\n",
       "      <td>True</td>\n",
       "      <td>False</td>\n",
       "      <td>False</td>\n",
       "      <td>True</td>\n",
       "    </tr>\n",
       "    <tr>\n",
       "      <th>6</th>\n",
       "      <td>bfd_203259</td>\n",
       "      <td>['PF00494.22_partial']</td>\n",
       "      <td>['PF00494.22_partial']</td>\n",
       "      <td>['0046340']</td>\n",
       "      <td>['0046340']</td>\n",
       "      <td>1</td>\n",
       "      <td>1</td>\n",
       "      <td>True</td>\n",
       "      <td>False</td>\n",
       "      <td>False</td>\n",
       "      <td>True</td>\n",
       "    </tr>\n",
       "    <tr>\n",
       "      <th>7</th>\n",
       "      <td>bfd_081814</td>\n",
       "      <td>['PF01397.24', 'PF03936.19']</td>\n",
       "      <td>['PF01397.24', 'PF03936.19']</td>\n",
       "      <td>['0048261']</td>\n",
       "      <td>['0048261']</td>\n",
       "      <td>2</td>\n",
       "      <td>1</td>\n",
       "      <td>False</td>\n",
       "      <td>False</td>\n",
       "      <td>True</td>\n",
       "      <td>True</td>\n",
       "    </tr>\n",
       "    <tr>\n",
       "      <th>9</th>\n",
       "      <td>bfd_221989</td>\n",
       "      <td>['PF03936.19_partial', 'PF03936.19_partial']</td>\n",
       "      <td>['PF03936.19_partial', 'PF03936.19_partial']</td>\n",
       "      <td>['0046340']</td>\n",
       "      <td>['0046340']</td>\n",
       "      <td>2</td>\n",
       "      <td>1</td>\n",
       "      <td>True</td>\n",
       "      <td>False</td>\n",
       "      <td>False</td>\n",
       "      <td>True</td>\n",
       "    </tr>\n",
       "    <tr>\n",
       "      <th>10</th>\n",
       "      <td>bfd_018736</td>\n",
       "      <td>['PF00494.22']</td>\n",
       "      <td>['PF00494.22']</td>\n",
       "      <td>['0046340_partial']</td>\n",
       "      <td>['0046340_partial']</td>\n",
       "      <td>1</td>\n",
       "      <td>1</td>\n",
       "      <td>False</td>\n",
       "      <td>True</td>\n",
       "      <td>True</td>\n",
       "      <td>True</td>\n",
       "    </tr>\n",
       "    <tr>\n",
       "      <th>...</th>\n",
       "      <td>...</td>\n",
       "      <td>...</td>\n",
       "      <td>...</td>\n",
       "      <td>...</td>\n",
       "      <td>...</td>\n",
       "      <td>...</td>\n",
       "      <td>...</td>\n",
       "      <td>...</td>\n",
       "      <td>...</td>\n",
       "      <td>...</td>\n",
       "      <td>...</td>\n",
       "    </tr>\n",
       "    <tr>\n",
       "      <th>220426</th>\n",
       "      <td>uniprot_163936</td>\n",
       "      <td>NaN</td>\n",
       "      <td>[]</td>\n",
       "      <td>['0046340']</td>\n",
       "      <td>['0046340']</td>\n",
       "      <td>0</td>\n",
       "      <td>1</td>\n",
       "      <td>False</td>\n",
       "      <td>False</td>\n",
       "      <td>False</td>\n",
       "      <td>True</td>\n",
       "    </tr>\n",
       "    <tr>\n",
       "      <th>220427</th>\n",
       "      <td>uniprot_188186</td>\n",
       "      <td>NaN</td>\n",
       "      <td>[]</td>\n",
       "      <td>['0046340']</td>\n",
       "      <td>['0046340']</td>\n",
       "      <td>0</td>\n",
       "      <td>1</td>\n",
       "      <td>False</td>\n",
       "      <td>False</td>\n",
       "      <td>False</td>\n",
       "      <td>True</td>\n",
       "    </tr>\n",
       "    <tr>\n",
       "      <th>220428</th>\n",
       "      <td>uniprot_229305</td>\n",
       "      <td>NaN</td>\n",
       "      <td>[]</td>\n",
       "      <td>['0046340']</td>\n",
       "      <td>['0046340']</td>\n",
       "      <td>0</td>\n",
       "      <td>1</td>\n",
       "      <td>False</td>\n",
       "      <td>False</td>\n",
       "      <td>False</td>\n",
       "      <td>True</td>\n",
       "    </tr>\n",
       "    <tr>\n",
       "      <th>220429</th>\n",
       "      <td>uniprot_181461</td>\n",
       "      <td>NaN</td>\n",
       "      <td>[]</td>\n",
       "      <td>['0046340']</td>\n",
       "      <td>['0046340']</td>\n",
       "      <td>0</td>\n",
       "      <td>1</td>\n",
       "      <td>False</td>\n",
       "      <td>False</td>\n",
       "      <td>False</td>\n",
       "      <td>True</td>\n",
       "    </tr>\n",
       "    <tr>\n",
       "      <th>220430</th>\n",
       "      <td>uniprot_154916</td>\n",
       "      <td>NaN</td>\n",
       "      <td>[]</td>\n",
       "      <td>['0046340']</td>\n",
       "      <td>['0046340']</td>\n",
       "      <td>0</td>\n",
       "      <td>1</td>\n",
       "      <td>False</td>\n",
       "      <td>False</td>\n",
       "      <td>False</td>\n",
       "      <td>True</td>\n",
       "    </tr>\n",
       "  </tbody>\n",
       "</table>\n",
       "<p>551331 rows × 11 columns</p>\n",
       "</div>"
      ],
      "text/plain": [
       "                    id                                  architecture_pfam  \\\n",
       "5           bfd_126300  ['PF01397.24', 'PF03936.19_partial', 'PF03936....   \n",
       "6           bfd_203259                             ['PF00494.22_partial']   \n",
       "7           bfd_081814                       ['PF01397.24', 'PF03936.19']   \n",
       "9           bfd_221989       ['PF03936.19_partial', 'PF03936.19_partial']   \n",
       "10          bfd_018736                                     ['PF00494.22']   \n",
       "...                ...                                                ...   \n",
       "220426  uniprot_163936                                                NaN   \n",
       "220427  uniprot_188186                                                NaN   \n",
       "220428  uniprot_229305                                                NaN   \n",
       "220429  uniprot_181461                                                NaN   \n",
       "220430  uniprot_154916                                                NaN   \n",
       "\n",
       "                                      architecture_l_pfam  \\\n",
       "5       ['PF01397.24', 'PF03936.19_partial', 'PF03936....   \n",
       "6                                  ['PF00494.22_partial']   \n",
       "7                            ['PF01397.24', 'PF03936.19']   \n",
       "9            ['PF03936.19_partial', 'PF03936.19_partial']   \n",
       "10                                         ['PF00494.22']   \n",
       "...                                                   ...   \n",
       "220426                                                 []   \n",
       "220427                                                 []   \n",
       "220428                                                 []   \n",
       "220429                                                 []   \n",
       "220430                                                 []   \n",
       "\n",
       "           architecture_supfam   architecture_l_supfam  n_doms_pfam  \\\n",
       "5       ['0041184', '0048261']  ['0041184', '0048261']            4   \n",
       "6                  ['0046340']             ['0046340']            1   \n",
       "7                  ['0048261']             ['0048261']            2   \n",
       "9                  ['0046340']             ['0046340']            2   \n",
       "10         ['0046340_partial']     ['0046340_partial']            1   \n",
       "...                        ...                     ...          ...   \n",
       "220426             ['0046340']             ['0046340']            0   \n",
       "220427             ['0046340']             ['0046340']            0   \n",
       "220428             ['0046340']             ['0046340']            0   \n",
       "220429             ['0046340']             ['0046340']            0   \n",
       "220430             ['0046340']             ['0046340']            0   \n",
       "\n",
       "        n_doms_supfam  contains_pfam_partial  contains_supfam_partial  \\\n",
       "5                   2                   True                    False   \n",
       "6                   1                   True                    False   \n",
       "7                   1                  False                    False   \n",
       "9                   1                   True                    False   \n",
       "10                  1                  False                     True   \n",
       "...               ...                    ...                      ...   \n",
       "220426              1                  False                    False   \n",
       "220427              1                  False                    False   \n",
       "220428              1                  False                    False   \n",
       "220429              1                  False                    False   \n",
       "220430              1                  False                    False   \n",
       "\n",
       "        observed_pfam_architecture  observed_supfam_architecture  \n",
       "5                            False                          True  \n",
       "6                            False                          True  \n",
       "7                             True                          True  \n",
       "9                            False                          True  \n",
       "10                            True                          True  \n",
       "...                            ...                           ...  \n",
       "220426                       False                          True  \n",
       "220427                       False                          True  \n",
       "220428                       False                          True  \n",
       "220429                       False                          True  \n",
       "220430                       False                          True  \n",
       "\n",
       "[551331 rows x 11 columns]"
      ]
     },
     "execution_count": 24,
     "metadata": {},
     "output_type": "execute_result"
    }
   ],
   "source": [
    "arch_df[arch_df['observed_supfam_architecture']]"
   ]
  },
  {
   "cell_type": "markdown",
   "id": "3b1d31b0-c6f8-42c5-927d-9033f7973b4c",
   "metadata": {},
   "source": [
    "## E-value of the strongest hit"
   ]
  },
  {
   "cell_type": "markdown",
   "id": "42e3e76a-c4f7-4b69-912b-5ac9ed69b59e",
   "metadata": {},
   "source": [
    "### Pfam"
   ]
  },
  {
   "cell_type": "code",
   "execution_count": 25,
   "id": "107b364b-ac8b-4608-830f-fee46424f5d9",
   "metadata": {
    "tags": []
   },
   "outputs": [],
   "source": [
    "df_l = []\n",
    "for db in DATABASES2:\n",
    "    hits =  get_domain_hit_list(f'../pfam_architectures/{db}_hmmscan.tsv')\n",
    "    strongest_hits = get_strongest_hit_dict(hits)\n",
    "    hit_df = pd.DataFrame([(sequence, hit.domain_cevalue, hit.domain_accession) for sequence, hit in strongest_hits.items()], columns = ['id','strongest_pfam_hit_cevalue','strongest_pfam_domain'])\n",
    "    df_l.append(hit_df)"
   ]
  },
  {
   "cell_type": "code",
   "execution_count": 26,
   "id": "ff37d1b5-b597-44c8-8339-e6aaa0e74dfe",
   "metadata": {
    "tags": []
   },
   "outputs": [],
   "source": [
    "pfam_hits_df = pd.concat(df_l)"
   ]
  },
  {
   "cell_type": "code",
   "execution_count": 27,
   "id": "efcd181b-ef20-4bb5-8b96-b1302ad7a1bc",
   "metadata": {
    "tags": []
   },
   "outputs": [
    {
     "data": {
      "text/plain": [
       "<Axes: >"
      ]
     },
     "execution_count": 27,
     "metadata": {},
     "output_type": "execute_result"
    },
    {
     "data": {
      "image/png": "[encoded data removed]",
      "text/plain": [
       "<Figure size 640x480 with 1 Axes>"
      ]
     },
     "metadata": {},
     "output_type": "display_data"
    }
   ],
   "source": [
    "pfam_hits_df['strongest_pfam_hit_cevalue'].plot.box()"
   ]
  },
  {
   "cell_type": "code",
   "execution_count": 28,
   "id": "3fc83563-610a-44ad-98e1-334b6aae1d44",
   "metadata": {
    "tags": []
   },
   "outputs": [
    {
     "data": {
      "text/plain": [
       "2.0135526739639957e-06"
      ]
     },
     "execution_count": 28,
     "metadata": {},
     "output_type": "execute_result"
    }
   ],
   "source": [
    "pfam_hits_df['strongest_pfam_hit_cevalue'].mean()"
   ]
  },
  {
   "cell_type": "code",
   "execution_count": 29,
   "id": "ec9d2a30-f972-4e24-b2fd-c688e504c30c",
   "metadata": {
    "tags": []
   },
   "outputs": [
    {
     "data": {
      "text/plain": [
       "id                            bfd_194314\n",
       "strongest_pfam_hit_cevalue         0.013\n",
       "strongest_pfam_domain         PF00494.22\n",
       "Name: 11072, dtype: object"
      ]
     },
     "execution_count": 29,
     "metadata": {},
     "output_type": "execute_result"
    }
   ],
   "source": [
    "pfam_hits_df.iloc[pfam_hits_df['strongest_pfam_hit_cevalue'].idxmax()]"
   ]
  },
  {
   "cell_type": "code",
   "execution_count": 30,
   "id": "64d0b564-ced5-4076-b781-2c1dd2877f39",
   "metadata": {
    "tags": []
   },
   "outputs": [],
   "source": [
    "pfam_hits_df['strongest_pfam_hit_cevalue_neg_log'] = pfam_hits_df['strongest_pfam_hit_cevalue'].apply(lambda x: -np.log(x))"
   ]
  },
  {
   "cell_type": "code",
   "execution_count": 31,
   "id": "292e43ee-663d-47cc-bb40-eb5076dbbe7a",
   "metadata": {
    "tags": []
   },
   "outputs": [
    {
     "data": {
      "text/plain": [
       "<Axes: >"
      ]
     },
     "execution_count": 31,
     "metadata": {},
     "output_type": "execute_result"
    },
    {
     "data": {
      "image/png": "[encoded data removed]",
      "text/plain": [
       "<Figure size 640x480 with 1 Axes>"
      ]
     },
     "metadata": {},
     "output_type": "display_data"
    }
   ],
   "source": [
    "pfam_hits_df['strongest_pfam_hit_cevalue_neg_log'].plot.box()"
   ]
  },
  {
   "cell_type": "code",
   "execution_count": 32,
   "id": "c7c388e9-d2c9-4894-a9cc-24f3cb206cb8",
   "metadata": {
    "tags": []
   },
   "outputs": [
    {
     "data": {
      "text/plain": [
       "<Axes: ylabel='Frequency'>"
      ]
     },
     "execution_count": 32,
     "metadata": {},
     "output_type": "execute_result"
    },
    {
     "data": {
      "image/png": "[encoded data removed]",
      "text/plain": [
       "<Figure size 640x480 with 1 Axes>"
      ]
     },
     "metadata": {},
     "output_type": "display_data"
    }
   ],
   "source": [
    "pfam_hits_df['strongest_pfam_hit_cevalue_neg_log'].plot.hist()"
   ]
  },
  {
   "cell_type": "code",
   "execution_count": 33,
   "id": "fc67fa4a-695f-4afa-9589-aa73d94166cf",
   "metadata": {
    "tags": []
   },
   "outputs": [
    {
     "data": {
      "text/plain": [
       "481.7850116111972"
      ]
     },
     "execution_count": 33,
     "metadata": {},
     "output_type": "execute_result"
    }
   ],
   "source": [
    "M = pfam_hits_df['strongest_pfam_hit_cevalue_neg_log'].max()\n",
    "M"
   ]
  },
  {
   "cell_type": "code",
   "execution_count": 34,
   "id": "92272846-8b81-4175-9716-fe74eeea0b27",
   "metadata": {
    "tags": []
   },
   "outputs": [
    {
     "data": {
      "text/plain": [
       "4.3428059215206005"
      ]
     },
     "execution_count": 34,
     "metadata": {},
     "output_type": "execute_result"
    }
   ],
   "source": [
    "m = pfam_hits_df['strongest_pfam_hit_cevalue_neg_log'].min()\n",
    "m"
   ]
  },
  {
   "cell_type": "code",
   "execution_count": 35,
   "id": "af2bfcca-e1fa-4dfe-b8d0-2b0a267e9017",
   "metadata": {
    "tags": []
   },
   "outputs": [],
   "source": [
    "def normalize(value, min_value, max_value):\n",
    "    if max_value == min_value:\n",
    "        return 0.0\n",
    "    normalized_value = (value - min_value) / (max_value - min_value)\n",
    "    return normalized_value"
   ]
  },
  {
   "cell_type": "code",
   "execution_count": 36,
   "id": "7f56a32a-af2c-41e7-978d-e6ad50700dae",
   "metadata": {
    "tags": []
   },
   "outputs": [],
   "source": [
    "pfam_hits_df['strongest_pfam_hit_cevalue_neg_log_norm'] = pfam_hits_df['strongest_pfam_hit_cevalue_neg_log'].apply(lambda x: normalize(x, m, M))"
   ]
  },
  {
   "cell_type": "code",
   "execution_count": 37,
   "id": "edec5199-b766-4c31-b88c-d1d52b45b3f3",
   "metadata": {
    "tags": []
   },
   "outputs": [
    {
     "data": {
      "text/html": [
       "<div>\n",
       "<style scoped>\n",
       "    .dataframe tbody tr th:only-of-type {\n",
       "        vertical-align: middle;\n",
       "    }\n",
       "\n",
       "    .dataframe tbody tr th {\n",
       "        vertical-align: top;\n",
       "    }\n",
       "\n",
       "    .dataframe thead th {\n",
       "        text-align: right;\n",
       "    }\n",
       "</style>\n",
       "<table border=\"1\" class=\"dataframe\">\n",
       "  <thead>\n",
       "    <tr style=\"text-align: right;\">\n",
       "      <th></th>\n",
       "      <th>id</th>\n",
       "      <th>strongest_pfam_hit_cevalue</th>\n",
       "      <th>strongest_pfam_domain</th>\n",
       "      <th>strongest_pfam_hit_cevalue_neg_log</th>\n",
       "      <th>strongest_pfam_hit_cevalue_neg_log_norm</th>\n",
       "    </tr>\n",
       "  </thead>\n",
       "  <tbody>\n",
       "    <tr>\n",
       "      <th>0</th>\n",
       "      <td>bfd_058619</td>\n",
       "      <td>1.900000e-54</td>\n",
       "      <td>PF00494.22</td>\n",
       "      <td>123.697741</td>\n",
       "      <td>0.249988</td>\n",
       "    </tr>\n",
       "    <tr>\n",
       "      <th>1</th>\n",
       "      <td>bfd_075059</td>\n",
       "      <td>7.300000e-64</td>\n",
       "      <td>PF00494.22</td>\n",
       "      <td>145.377572</td>\n",
       "      <td>0.295397</td>\n",
       "    </tr>\n",
       "    <tr>\n",
       "      <th>2</th>\n",
       "      <td>bfd_099490</td>\n",
       "      <td>1.400000e-140</td>\n",
       "      <td>PF13243.9</td>\n",
       "      <td>322.025441</td>\n",
       "      <td>0.665384</td>\n",
       "    </tr>\n",
       "    <tr>\n",
       "      <th>3</th>\n",
       "      <td>bfd_253148</td>\n",
       "      <td>5.700000e-06</td>\n",
       "      <td>PF19086.3</td>\n",
       "      <td>12.075044</td>\n",
       "      <td>0.016195</td>\n",
       "    </tr>\n",
       "    <tr>\n",
       "      <th>4</th>\n",
       "      <td>bfd_074632</td>\n",
       "      <td>5.900000e-67</td>\n",
       "      <td>PF00494.22</td>\n",
       "      <td>152.498249</td>\n",
       "      <td>0.310311</td>\n",
       "    </tr>\n",
       "    <tr>\n",
       "      <th>...</th>\n",
       "      <td>...</td>\n",
       "      <td>...</td>\n",
       "      <td>...</td>\n",
       "      <td>...</td>\n",
       "      <td>...</td>\n",
       "    </tr>\n",
       "    <tr>\n",
       "      <th>93531</th>\n",
       "      <td>uniprot_106442</td>\n",
       "      <td>4.300000e-48</td>\n",
       "      <td>PF13243.9</td>\n",
       "      <td>109.065469</td>\n",
       "      <td>0.219341</td>\n",
       "    </tr>\n",
       "    <tr>\n",
       "      <th>93532</th>\n",
       "      <td>uniprot_016793</td>\n",
       "      <td>1.100000e-93</td>\n",
       "      <td>PF03936.19</td>\n",
       "      <td>214.045103</td>\n",
       "      <td>0.439220</td>\n",
       "    </tr>\n",
       "    <tr>\n",
       "      <th>93533</th>\n",
       "      <td>uniprot_043164</td>\n",
       "      <td>4.500000e-70</td>\n",
       "      <td>PF00494.22</td>\n",
       "      <td>159.676879</td>\n",
       "      <td>0.325346</td>\n",
       "    </tr>\n",
       "    <tr>\n",
       "      <th>93534</th>\n",
       "      <td>uniprot_108838</td>\n",
       "      <td>8.900000e-50</td>\n",
       "      <td>PF19086.3</td>\n",
       "      <td>112.943203</td>\n",
       "      <td>0.227463</td>\n",
       "    </tr>\n",
       "    <tr>\n",
       "      <th>93535</th>\n",
       "      <td>uniprot_078518</td>\n",
       "      <td>3.000000e-31</td>\n",
       "      <td>PF19086.3</td>\n",
       "      <td>70.281526</td>\n",
       "      <td>0.138108</td>\n",
       "    </tr>\n",
       "  </tbody>\n",
       "</table>\n",
       "<p>243706 rows × 5 columns</p>\n",
       "</div>"
      ],
      "text/plain": [
       "                   id  strongest_pfam_hit_cevalue strongest_pfam_domain  \\\n",
       "0          bfd_058619                1.900000e-54            PF00494.22   \n",
       "1          bfd_075059                7.300000e-64            PF00494.22   \n",
       "2          bfd_099490               1.400000e-140             PF13243.9   \n",
       "3          bfd_253148                5.700000e-06             PF19086.3   \n",
       "4          bfd_074632                5.900000e-67            PF00494.22   \n",
       "...               ...                         ...                   ...   \n",
       "93531  uniprot_106442                4.300000e-48             PF13243.9   \n",
       "93532  uniprot_016793                1.100000e-93            PF03936.19   \n",
       "93533  uniprot_043164                4.500000e-70            PF00494.22   \n",
       "93534  uniprot_108838                8.900000e-50             PF19086.3   \n",
       "93535  uniprot_078518                3.000000e-31             PF19086.3   \n",
       "\n",
       "       strongest_pfam_hit_cevalue_neg_log  \\\n",
       "0                              123.697741   \n",
       "1                              145.377572   \n",
       "2                              322.025441   \n",
       "3                               12.075044   \n",
       "4                              152.498249   \n",
       "...                                   ...   \n",
       "93531                          109.065469   \n",
       "93532                          214.045103   \n",
       "93533                          159.676879   \n",
       "93534                          112.943203   \n",
       "93535                           70.281526   \n",
       "\n",
       "       strongest_pfam_hit_cevalue_neg_log_norm  \n",
       "0                                     0.249988  \n",
       "1                                     0.295397  \n",
       "2                                     0.665384  \n",
       "3                                     0.016195  \n",
       "4                                     0.310311  \n",
       "...                                        ...  \n",
       "93531                                 0.219341  \n",
       "93532                                 0.439220  \n",
       "93533                                 0.325346  \n",
       "93534                                 0.227463  \n",
       "93535                                 0.138108  \n",
       "\n",
       "[243706 rows x 5 columns]"
      ]
     },
     "execution_count": 37,
     "metadata": {},
     "output_type": "execute_result"
    }
   ],
   "source": [
    "pfam_hits_df"
   ]
  },
  {
   "cell_type": "code",
   "execution_count": 38,
   "id": "7810aadf-d435-4d68-a2d6-b58430195e9c",
   "metadata": {
    "tags": []
   },
   "outputs": [
    {
     "data": {
      "text/plain": [
       "<Axes: >"
      ]
     },
     "execution_count": 38,
     "metadata": {},
     "output_type": "execute_result"
    },
    {
     "data": {
      "image/png": "[encoded data removed]",
      "text/plain": [
       "<Figure size 640x480 with 1 Axes>"
      ]
     },
     "metadata": {},
     "output_type": "display_data"
    }
   ],
   "source": [
    "pfam_hits_df['strongest_pfam_hit_cevalue_neg_log_norm'].plot.box()"
   ]
  },
  {
   "cell_type": "code",
   "execution_count": 39,
   "id": "6127c00d-8684-47b0-94ad-aaa6b4036ee4",
   "metadata": {},
   "outputs": [],
   "source": [
    "df = df.merge(pfam_hits_df[['id','strongest_pfam_hit_cevalue', 'strongest_pfam_hit_cevalue_neg_log_norm']], how='left', on='id')"
   ]
  },
  {
   "cell_type": "markdown",
   "id": "d419a990-4768-44c9-b95b-c1c2cc626ae2",
   "metadata": {},
   "source": [
    "### Supfam"
   ]
  },
  {
   "cell_type": "code",
   "execution_count": 40,
   "id": "dd85d380-cc4f-47d7-bc29-474317672b5a",
   "metadata": {
    "tags": []
   },
   "outputs": [],
   "source": [
    "df_l = []\n",
    "for db in DATABASES2:\n",
    "    hits =  get_domain_hit_list(f'../supfam_architectures/{db}_hmmscan.tsv')\n",
    "    strongest_hits = get_strongest_hit_dict(hits)\n",
    "    hit_df = pd.DataFrame([(sequence, hit.domain_cevalue, hit.domain_name) for sequence, hit in strongest_hits.items()], columns = ['id','strongest_supfam_hit_cevalue','strongest_supfam_domain'])\n",
    "    df_l.append(hit_df)"
   ]
  },
  {
   "cell_type": "code",
   "execution_count": 41,
   "id": "c25fe352-9d13-4d32-866f-4239ed79f205",
   "metadata": {
    "tags": []
   },
   "outputs": [],
   "source": [
    "supfam_hits_df = pd.concat(df_l)"
   ]
  },
  {
   "cell_type": "code",
   "execution_count": 42,
   "id": "e18bfb1b-cdcf-42cb-ad2a-b00017b0aee2",
   "metadata": {
    "tags": []
   },
   "outputs": [
    {
     "data": {
      "text/plain": [
       "<Axes: >"
      ]
     },
     "execution_count": 42,
     "metadata": {},
     "output_type": "execute_result"
    },
    {
     "data": {
      "image/png": "[encoded data removed]",
      "text/plain": [
       "<Figure size 640x480 with 1 Axes>"
      ]
     },
     "metadata": {},
     "output_type": "display_data"
    }
   ],
   "source": [
    "supfam_hits_df['strongest_supfam_hit_cevalue'].plot.box()"
   ]
  },
  {
   "cell_type": "code",
   "execution_count": 43,
   "id": "9f5bf365-5cd3-453a-8e12-a987e77988a5",
   "metadata": {
    "tags": []
   },
   "outputs": [
    {
     "data": {
      "text/plain": [
       "1.2328756307930695e-06"
      ]
     },
     "execution_count": 43,
     "metadata": {},
     "output_type": "execute_result"
    }
   ],
   "source": [
    "supfam_hits_df['strongest_supfam_hit_cevalue'].mean()"
   ]
  },
  {
   "cell_type": "code",
   "execution_count": 44,
   "id": "08899d76-7441-42cc-a69b-ae323303e691",
   "metadata": {
    "tags": []
   },
   "outputs": [
    {
     "data": {
      "text/plain": [
       "2.2e-142"
      ]
     },
     "execution_count": 44,
     "metadata": {},
     "output_type": "execute_result"
    }
   ],
   "source": [
    "supfam_hits_df['strongest_supfam_hit_cevalue'].min()"
   ]
  },
  {
   "cell_type": "code",
   "execution_count": 45,
   "id": "5820a4f2-834d-43d8-88d4-33fe707523d8",
   "metadata": {
    "tags": []
   },
   "outputs": [
    {
     "data": {
      "text/plain": [
       "0.028"
      ]
     },
     "execution_count": 45,
     "metadata": {},
     "output_type": "execute_result"
    }
   ],
   "source": [
    "supfam_hits_df['strongest_supfam_hit_cevalue'].max()"
   ]
  },
  {
   "cell_type": "code",
   "execution_count": 46,
   "id": "8023288f-71ed-484b-95da-f5d2fceb61cc",
   "metadata": {
    "tags": []
   },
   "outputs": [
    {
     "data": {
      "text/plain": [
       "id                              bfd_029263\n",
       "strongest_supfam_hit_cevalue         0.028\n",
       "strongest_supfam_domain            0053355\n",
       "Name: 99935, dtype: object"
      ]
     },
     "execution_count": 46,
     "metadata": {},
     "output_type": "execute_result"
    }
   ],
   "source": [
    "supfam_hits_df.iloc[supfam_hits_df['strongest_supfam_hit_cevalue'].idxmax()]"
   ]
  },
  {
   "cell_type": "code",
   "execution_count": 47,
   "id": "ed846494-58e8-463a-88d5-1a7d426d19d5",
   "metadata": {
    "tags": []
   },
   "outputs": [],
   "source": [
    "supfam_hits_df['strongest_supfam_hit_cevalue_neg_log'] = supfam_hits_df['strongest_supfam_hit_cevalue'].apply(lambda x: -np.log(x))"
   ]
  },
  {
   "cell_type": "code",
   "execution_count": 48,
   "id": "63669826-033e-41ce-9ae1-101814571215",
   "metadata": {
    "tags": []
   },
   "outputs": [
    {
     "data": {
      "text/plain": [
       "<Axes: >"
      ]
     },
     "execution_count": 48,
     "metadata": {},
     "output_type": "execute_result"
    },
    {
     "data": {
      "image/png": "[encoded data removed]",
      "text/plain": [
       "<Figure size 640x480 with 1 Axes>"
      ]
     },
     "metadata": {},
     "output_type": "display_data"
    }
   ],
   "source": [
    "supfam_hits_df['strongest_supfam_hit_cevalue_neg_log'].plot.box()"
   ]
  },
  {
   "cell_type": "code",
   "execution_count": 49,
   "id": "8b84830a-e305-42df-bc43-6a173b3336f5",
   "metadata": {
    "tags": []
   },
   "outputs": [
    {
     "data": {
      "text/plain": [
       "<Axes: ylabel='Frequency'>"
      ]
     },
     "execution_count": 49,
     "metadata": {},
     "output_type": "execute_result"
    },
    {
     "data": {
      "image/png": "[encoded data removed]",
      "text/plain": [
       "<Figure size 640x480 with 1 Axes>"
      ]
     },
     "metadata": {},
     "output_type": "display_data"
    }
   ],
   "source": [
    "supfam_hits_df['strongest_supfam_hit_cevalue_neg_log'].plot.hist()"
   ]
  },
  {
   "cell_type": "code",
   "execution_count": 50,
   "id": "78557849-6340-4918-ab7f-eb9e260fad1b",
   "metadata": {
    "tags": []
   },
   "outputs": [
    {
     "data": {
      "text/plain": [
       "326.1786258447902"
      ]
     },
     "execution_count": 50,
     "metadata": {},
     "output_type": "execute_result"
    }
   ],
   "source": [
    "M = supfam_hits_df['strongest_supfam_hit_cevalue_neg_log'].max()\n",
    "M"
   ]
  },
  {
   "cell_type": "code",
   "execution_count": 51,
   "id": "7086c4f8-4314-40f8-a85b-4f334a6533cf",
   "metadata": {
    "tags": []
   },
   "outputs": [
    {
     "data": {
      "text/plain": [
       "3.575550768806933"
      ]
     },
     "execution_count": 51,
     "metadata": {},
     "output_type": "execute_result"
    }
   ],
   "source": [
    "m = supfam_hits_df['strongest_supfam_hit_cevalue_neg_log'].min()\n",
    "m"
   ]
  },
  {
   "cell_type": "code",
   "execution_count": 52,
   "id": "a386287c-dd79-4db1-869b-0350b433c7b0",
   "metadata": {
    "tags": []
   },
   "outputs": [],
   "source": [
    "supfam_hits_df['strongest_supfam_hit_cevalue_neg_log_norm'] = supfam_hits_df['strongest_supfam_hit_cevalue_neg_log'].apply(lambda x: normalize(x, m, M))"
   ]
  },
  {
   "cell_type": "code",
   "execution_count": 53,
   "id": "b976544e-15e9-4b89-91de-ff7fca9db3fb",
   "metadata": {
    "tags": []
   },
   "outputs": [
    {
     "data": {
      "text/plain": [
       "<Axes: >"
      ]
     },
     "execution_count": 53,
     "metadata": {},
     "output_type": "execute_result"
    },
    {
     "data": {
      "image/png": "[encoded data removed]",
      "text/plain": [
       "<Figure size 640x480 with 1 Axes>"
      ]
     },
     "metadata": {},
     "output_type": "display_data"
    }
   ],
   "source": [
    "supfam_hits_df['strongest_supfam_hit_cevalue_neg_log_norm'].plot.box()"
   ]
  },
  {
   "cell_type": "code",
   "execution_count": 54,
   "id": "807d188a-8484-4878-ae50-ac0dd9f3b31b",
   "metadata": {},
   "outputs": [],
   "source": [
    "df = df.merge(supfam_hits_df[['id','strongest_supfam_hit_cevalue', 'strongest_supfam_hit_cevalue_neg_log_norm']], how='left', on='id')"
   ]
  },
  {
   "cell_type": "markdown",
   "id": "249fc075-97d4-4610-ab97-44eaea4e86bc",
   "metadata": {},
   "source": [
    "## Hit from both Pfam and Supfam "
   ]
  },
  {
   "cell_type": "code",
   "execution_count": 55,
   "id": "7ca2c3b9-16cc-4f69-a22c-1e441cb31768",
   "metadata": {},
   "outputs": [],
   "source": [
    "df['has_pfam_hit'] = ~df['strongest_pfam_hit_cevalue'].isna()\n",
    "df['has_supfam_hit'] = ~df['strongest_supfam_hit_cevalue'].isna()"
   ]
  },
  {
   "cell_type": "code",
   "execution_count": 64,
   "id": "f4b251f6-f857-43d1-a152-57c3c70b0dc3",
   "metadata": {
    "tags": []
   },
   "outputs": [],
   "source": [
    "df['has_pfam_and_supfam_hit'] = df['has_pfam_hit']&df['has_supfam_hit']"
   ]
  },
  {
   "cell_type": "markdown",
   "id": "2f616725-6985-4d18-8d21-2873b9eca50f",
   "metadata": {},
   "source": [
    "## Results so far"
   ]
  },
  {
   "cell_type": "code",
   "execution_count": 56,
   "id": "544cc313-803f-4fd1-9642-d579525b3f88",
   "metadata": {
    "tags": []
   },
   "outputs": [
    {
     "data": {
      "text/html": [
       "<div>\n",
       "<style scoped>\n",
       "    .dataframe tbody tr th:only-of-type {\n",
       "        vertical-align: middle;\n",
       "    }\n",
       "\n",
       "    .dataframe tbody tr th {\n",
       "        vertical-align: top;\n",
       "    }\n",
       "\n",
       "    .dataframe thead th {\n",
       "        text-align: right;\n",
       "    }\n",
       "</style>\n",
       "<table border=\"1\" class=\"dataframe\">\n",
       "  <thead>\n",
       "    <tr style=\"text-align: right;\">\n",
       "      <th></th>\n",
       "      <th>id</th>\n",
       "      <th>methionin</th>\n",
       "      <th>observed_pfam_architecture</th>\n",
       "      <th>observed_supfam_architecture</th>\n",
       "      <th>strongest_pfam_hit_cevalue</th>\n",
       "      <th>strongest_pfam_hit_cevalue_neg_log_norm</th>\n",
       "      <th>strongest_supfam_hit_cevalue</th>\n",
       "      <th>strongest_supfam_hit_cevalue_neg_log_norm</th>\n",
       "      <th>has_pfam_hit</th>\n",
       "      <th>has_supfam_hit</th>\n",
       "    </tr>\n",
       "  </thead>\n",
       "  <tbody>\n",
       "    <tr>\n",
       "      <th>0</th>\n",
       "      <td>onekp_000000</td>\n",
       "      <td>False</td>\n",
       "      <td>True</td>\n",
       "      <td>True</td>\n",
       "      <td>5.700000e-87</td>\n",
       "      <td>0.406838</td>\n",
       "      <td>2.700000e-76</td>\n",
       "      <td>0.528289</td>\n",
       "      <td>True</td>\n",
       "      <td>True</td>\n",
       "    </tr>\n",
       "    <tr>\n",
       "      <th>1</th>\n",
       "      <td>onekp_000003</td>\n",
       "      <td>True</td>\n",
       "      <td>False</td>\n",
       "      <td>False</td>\n",
       "      <td>1.400000e-41</td>\n",
       "      <td>0.187932</td>\n",
       "      <td>NaN</td>\n",
       "      <td>NaN</td>\n",
       "      <td>True</td>\n",
       "      <td>False</td>\n",
       "    </tr>\n",
       "    <tr>\n",
       "      <th>2</th>\n",
       "      <td>onekp_000004</td>\n",
       "      <td>False</td>\n",
       "      <td>True</td>\n",
       "      <td>True</td>\n",
       "      <td>3.100000e-110</td>\n",
       "      <td>0.519037</td>\n",
       "      <td>3.800000e-108</td>\n",
       "      <td>0.755630</td>\n",
       "      <td>True</td>\n",
       "      <td>True</td>\n",
       "    </tr>\n",
       "    <tr>\n",
       "      <th>3</th>\n",
       "      <td>onekp_000006</td>\n",
       "      <td>False</td>\n",
       "      <td>True</td>\n",
       "      <td>True</td>\n",
       "      <td>2.500000e-106</td>\n",
       "      <td>0.500197</td>\n",
       "      <td>2.300000e-110</td>\n",
       "      <td>0.771462</td>\n",
       "      <td>True</td>\n",
       "      <td>True</td>\n",
       "    </tr>\n",
       "    <tr>\n",
       "      <th>4</th>\n",
       "      <td>onekp_000007</td>\n",
       "      <td>False</td>\n",
       "      <td>True</td>\n",
       "      <td>True</td>\n",
       "      <td>5.200000e-96</td>\n",
       "      <td>0.450435</td>\n",
       "      <td>4.000000e-94</td>\n",
       "      <td>0.655546</td>\n",
       "      <td>True</td>\n",
       "      <td>True</td>\n",
       "    </tr>\n",
       "    <tr>\n",
       "      <th>...</th>\n",
       "      <td>...</td>\n",
       "      <td>...</td>\n",
       "      <td>...</td>\n",
       "      <td>...</td>\n",
       "      <td>...</td>\n",
       "      <td>...</td>\n",
       "      <td>...</td>\n",
       "      <td>...</td>\n",
       "      <td>...</td>\n",
       "      <td>...</td>\n",
       "    </tr>\n",
       "    <tr>\n",
       "      <th>606786</th>\n",
       "      <td>bfd_273443</td>\n",
       "      <td>True</td>\n",
       "      <td>False</td>\n",
       "      <td>True</td>\n",
       "      <td>NaN</td>\n",
       "      <td>NaN</td>\n",
       "      <td>4.100000e-12</td>\n",
       "      <td>0.070193</td>\n",
       "      <td>False</td>\n",
       "      <td>True</td>\n",
       "    </tr>\n",
       "    <tr>\n",
       "      <th>606787</th>\n",
       "      <td>bfd_273498</td>\n",
       "      <td>False</td>\n",
       "      <td>False</td>\n",
       "      <td>True</td>\n",
       "      <td>NaN</td>\n",
       "      <td>NaN</td>\n",
       "      <td>6.800000e-15</td>\n",
       "      <td>0.090037</td>\n",
       "      <td>False</td>\n",
       "      <td>True</td>\n",
       "    </tr>\n",
       "    <tr>\n",
       "      <th>606788</th>\n",
       "      <td>bfd_273500</td>\n",
       "      <td>False</td>\n",
       "      <td>False</td>\n",
       "      <td>True</td>\n",
       "      <td>NaN</td>\n",
       "      <td>NaN</td>\n",
       "      <td>3.700000e-15</td>\n",
       "      <td>0.091924</td>\n",
       "      <td>False</td>\n",
       "      <td>True</td>\n",
       "    </tr>\n",
       "    <tr>\n",
       "      <th>606789</th>\n",
       "      <td>bfd_273502</td>\n",
       "      <td>True</td>\n",
       "      <td>False</td>\n",
       "      <td>True</td>\n",
       "      <td>NaN</td>\n",
       "      <td>NaN</td>\n",
       "      <td>6.700000e-15</td>\n",
       "      <td>0.090083</td>\n",
       "      <td>False</td>\n",
       "      <td>True</td>\n",
       "    </tr>\n",
       "    <tr>\n",
       "      <th>606790</th>\n",
       "      <td>bfd_273516</td>\n",
       "      <td>True</td>\n",
       "      <td>False</td>\n",
       "      <td>True</td>\n",
       "      <td>NaN</td>\n",
       "      <td>NaN</td>\n",
       "      <td>2.400000e-40</td>\n",
       "      <td>0.271703</td>\n",
       "      <td>False</td>\n",
       "      <td>True</td>\n",
       "    </tr>\n",
       "  </tbody>\n",
       "</table>\n",
       "<p>606791 rows × 10 columns</p>\n",
       "</div>"
      ],
      "text/plain": [
       "                  id  methionin  observed_pfam_architecture  \\\n",
       "0       onekp_000000      False                        True   \n",
       "1       onekp_000003       True                       False   \n",
       "2       onekp_000004      False                        True   \n",
       "3       onekp_000006      False                        True   \n",
       "4       onekp_000007      False                        True   \n",
       "...              ...        ...                         ...   \n",
       "606786    bfd_273443       True                       False   \n",
       "606787    bfd_273498      False                       False   \n",
       "606788    bfd_273500      False                       False   \n",
       "606789    bfd_273502       True                       False   \n",
       "606790    bfd_273516       True                       False   \n",
       "\n",
       "        observed_supfam_architecture  strongest_pfam_hit_cevalue  \\\n",
       "0                               True                5.700000e-87   \n",
       "1                              False                1.400000e-41   \n",
       "2                               True               3.100000e-110   \n",
       "3                               True               2.500000e-106   \n",
       "4                               True                5.200000e-96   \n",
       "...                              ...                         ...   \n",
       "606786                          True                         NaN   \n",
       "606787                          True                         NaN   \n",
       "606788                          True                         NaN   \n",
       "606789                          True                         NaN   \n",
       "606790                          True                         NaN   \n",
       "\n",
       "        strongest_pfam_hit_cevalue_neg_log_norm  strongest_supfam_hit_cevalue  \\\n",
       "0                                      0.406838                  2.700000e-76   \n",
       "1                                      0.187932                           NaN   \n",
       "2                                      0.519037                 3.800000e-108   \n",
       "3                                      0.500197                 2.300000e-110   \n",
       "4                                      0.450435                  4.000000e-94   \n",
       "...                                         ...                           ...   \n",
       "606786                                      NaN                  4.100000e-12   \n",
       "606787                                      NaN                  6.800000e-15   \n",
       "606788                                      NaN                  3.700000e-15   \n",
       "606789                                      NaN                  6.700000e-15   \n",
       "606790                                      NaN                  2.400000e-40   \n",
       "\n",
       "        strongest_supfam_hit_cevalue_neg_log_norm  has_pfam_hit  \\\n",
       "0                                        0.528289          True   \n",
       "1                                             NaN          True   \n",
       "2                                        0.755630          True   \n",
       "3                                        0.771462          True   \n",
       "4                                        0.655546          True   \n",
       "...                                           ...           ...   \n",
       "606786                                   0.070193         False   \n",
       "606787                                   0.090037         False   \n",
       "606788                                   0.091924         False   \n",
       "606789                                   0.090083         False   \n",
       "606790                                   0.271703         False   \n",
       "\n",
       "        has_supfam_hit  \n",
       "0                 True  \n",
       "1                False  \n",
       "2                 True  \n",
       "3                 True  \n",
       "4                 True  \n",
       "...                ...  \n",
       "606786            True  \n",
       "606787            True  \n",
       "606788            True  \n",
       "606789            True  \n",
       "606790            True  \n",
       "\n",
       "[606791 rows x 10 columns]"
      ]
     },
     "execution_count": 56,
     "metadata": {},
     "output_type": "execute_result"
    }
   ],
   "source": [
    "df"
   ]
  },
  {
   "cell_type": "code",
   "execution_count": 57,
   "id": "7720ae20-eb26-49c0-b134-b6917a985707",
   "metadata": {
    "tags": []
   },
   "outputs": [],
   "source": [
    "df[['strongest_pfam_hit_cevalue_neg_log_norm', 'strongest_supfam_hit_cevalue_neg_log_norm']] = df[['strongest_pfam_hit_cevalue_neg_log_norm','strongest_supfam_hit_cevalue_neg_log_norm']].fillna(value=0)\n"
   ]
  },
  {
   "cell_type": "code",
   "execution_count": 58,
   "id": "b512953e-3f87-4df7-ac64-365a43078da6",
   "metadata": {
    "tags": []
   },
   "outputs": [],
   "source": [
    "df[['methionin','observed_pfam_architecture','observed_supfam_architecture','has_pfam_hit','has_supfam_hit','has_pfam_and_supfam_hit']] = df[['methionin','observed_pfam_architecture','observed_supfam_architecture','has_pfam_hit','has_supfam_hit']].fillna(False).astype(int)"
   ]
  },
  {
   "cell_type": "code",
   "execution_count": 59,
   "id": "cf69257a-3999-4a54-b7a8-012c733dbcd4",
   "metadata": {
    "tags": []
   },
   "outputs": [
    {
     "data": {
      "text/html": [
       "<div>\n",
       "<style scoped>\n",
       "    .dataframe tbody tr th:only-of-type {\n",
       "        vertical-align: middle;\n",
       "    }\n",
       "\n",
       "    .dataframe tbody tr th {\n",
       "        vertical-align: top;\n",
       "    }\n",
       "\n",
       "    .dataframe thead th {\n",
       "        text-align: right;\n",
       "    }\n",
       "</style>\n",
       "<table border=\"1\" class=\"dataframe\">\n",
       "  <thead>\n",
       "    <tr style=\"text-align: right;\">\n",
       "      <th></th>\n",
       "      <th>id</th>\n",
       "      <th>methionin</th>\n",
       "      <th>observed_pfam_architecture</th>\n",
       "      <th>observed_supfam_architecture</th>\n",
       "      <th>strongest_pfam_hit_cevalue</th>\n",
       "      <th>strongest_pfam_hit_cevalue_neg_log_norm</th>\n",
       "      <th>strongest_supfam_hit_cevalue</th>\n",
       "      <th>strongest_supfam_hit_cevalue_neg_log_norm</th>\n",
       "      <th>has_pfam_hit</th>\n",
       "      <th>has_supfam_hit</th>\n",
       "    </tr>\n",
       "  </thead>\n",
       "  <tbody>\n",
       "    <tr>\n",
       "      <th>0</th>\n",
       "      <td>onekp_000000</td>\n",
       "      <td>0</td>\n",
       "      <td>1</td>\n",
       "      <td>1</td>\n",
       "      <td>5.700000e-87</td>\n",
       "      <td>0.406838</td>\n",
       "      <td>2.700000e-76</td>\n",
       "      <td>0.528289</td>\n",
       "      <td>1</td>\n",
       "      <td>1</td>\n",
       "    </tr>\n",
       "    <tr>\n",
       "      <th>1</th>\n",
       "      <td>onekp_000003</td>\n",
       "      <td>1</td>\n",
       "      <td>0</td>\n",
       "      <td>0</td>\n",
       "      <td>1.400000e-41</td>\n",
       "      <td>0.187932</td>\n",
       "      <td>NaN</td>\n",
       "      <td>0.000000</td>\n",
       "      <td>1</td>\n",
       "      <td>0</td>\n",
       "    </tr>\n",
       "    <tr>\n",
       "      <th>2</th>\n",
       "      <td>onekp_000004</td>\n",
       "      <td>0</td>\n",
       "      <td>1</td>\n",
       "      <td>1</td>\n",
       "      <td>3.100000e-110</td>\n",
       "      <td>0.519037</td>\n",
       "      <td>3.800000e-108</td>\n",
       "      <td>0.755630</td>\n",
       "      <td>1</td>\n",
       "      <td>1</td>\n",
       "    </tr>\n",
       "    <tr>\n",
       "      <th>3</th>\n",
       "      <td>onekp_000006</td>\n",
       "      <td>0</td>\n",
       "      <td>1</td>\n",
       "      <td>1</td>\n",
       "      <td>2.500000e-106</td>\n",
       "      <td>0.500197</td>\n",
       "      <td>2.300000e-110</td>\n",
       "      <td>0.771462</td>\n",
       "      <td>1</td>\n",
       "      <td>1</td>\n",
       "    </tr>\n",
       "    <tr>\n",
       "      <th>4</th>\n",
       "      <td>onekp_000007</td>\n",
       "      <td>0</td>\n",
       "      <td>1</td>\n",
       "      <td>1</td>\n",
       "      <td>5.200000e-96</td>\n",
       "      <td>0.450435</td>\n",
       "      <td>4.000000e-94</td>\n",
       "      <td>0.655546</td>\n",
       "      <td>1</td>\n",
       "      <td>1</td>\n",
       "    </tr>\n",
       "    <tr>\n",
       "      <th>...</th>\n",
       "      <td>...</td>\n",
       "      <td>...</td>\n",
       "      <td>...</td>\n",
       "      <td>...</td>\n",
       "      <td>...</td>\n",
       "      <td>...</td>\n",
       "      <td>...</td>\n",
       "      <td>...</td>\n",
       "      <td>...</td>\n",
       "      <td>...</td>\n",
       "    </tr>\n",
       "    <tr>\n",
       "      <th>606786</th>\n",
       "      <td>bfd_273443</td>\n",
       "      <td>1</td>\n",
       "      <td>0</td>\n",
       "      <td>1</td>\n",
       "      <td>NaN</td>\n",
       "      <td>0.000000</td>\n",
       "      <td>4.100000e-12</td>\n",
       "      <td>0.070193</td>\n",
       "      <td>0</td>\n",
       "      <td>1</td>\n",
       "    </tr>\n",
       "    <tr>\n",
       "      <th>606787</th>\n",
       "      <td>bfd_273498</td>\n",
       "      <td>0</td>\n",
       "      <td>0</td>\n",
       "      <td>1</td>\n",
       "      <td>NaN</td>\n",
       "      <td>0.000000</td>\n",
       "      <td>6.800000e-15</td>\n",
       "      <td>0.090037</td>\n",
       "      <td>0</td>\n",
       "      <td>1</td>\n",
       "    </tr>\n",
       "    <tr>\n",
       "      <th>606788</th>\n",
       "      <td>bfd_273500</td>\n",
       "      <td>0</td>\n",
       "      <td>0</td>\n",
       "      <td>1</td>\n",
       "      <td>NaN</td>\n",
       "      <td>0.000000</td>\n",
       "      <td>3.700000e-15</td>\n",
       "      <td>0.091924</td>\n",
       "      <td>0</td>\n",
       "      <td>1</td>\n",
       "    </tr>\n",
       "    <tr>\n",
       "      <th>606789</th>\n",
       "      <td>bfd_273502</td>\n",
       "      <td>1</td>\n",
       "      <td>0</td>\n",
       "      <td>1</td>\n",
       "      <td>NaN</td>\n",
       "      <td>0.000000</td>\n",
       "      <td>6.700000e-15</td>\n",
       "      <td>0.090083</td>\n",
       "      <td>0</td>\n",
       "      <td>1</td>\n",
       "    </tr>\n",
       "    <tr>\n",
       "      <th>606790</th>\n",
       "      <td>bfd_273516</td>\n",
       "      <td>1</td>\n",
       "      <td>0</td>\n",
       "      <td>1</td>\n",
       "      <td>NaN</td>\n",
       "      <td>0.000000</td>\n",
       "      <td>2.400000e-40</td>\n",
       "      <td>0.271703</td>\n",
       "      <td>0</td>\n",
       "      <td>1</td>\n",
       "    </tr>\n",
       "  </tbody>\n",
       "</table>\n",
       "<p>606791 rows × 10 columns</p>\n",
       "</div>"
      ],
      "text/plain": [
       "                  id  methionin  observed_pfam_architecture  \\\n",
       "0       onekp_000000          0                           1   \n",
       "1       onekp_000003          1                           0   \n",
       "2       onekp_000004          0                           1   \n",
       "3       onekp_000006          0                           1   \n",
       "4       onekp_000007          0                           1   \n",
       "...              ...        ...                         ...   \n",
       "606786    bfd_273443          1                           0   \n",
       "606787    bfd_273498          0                           0   \n",
       "606788    bfd_273500          0                           0   \n",
       "606789    bfd_273502          1                           0   \n",
       "606790    bfd_273516          1                           0   \n",
       "\n",
       "        observed_supfam_architecture  strongest_pfam_hit_cevalue  \\\n",
       "0                                  1                5.700000e-87   \n",
       "1                                  0                1.400000e-41   \n",
       "2                                  1               3.100000e-110   \n",
       "3                                  1               2.500000e-106   \n",
       "4                                  1                5.200000e-96   \n",
       "...                              ...                         ...   \n",
       "606786                             1                         NaN   \n",
       "606787                             1                         NaN   \n",
       "606788                             1                         NaN   \n",
       "606789                             1                         NaN   \n",
       "606790                             1                         NaN   \n",
       "\n",
       "        strongest_pfam_hit_cevalue_neg_log_norm  strongest_supfam_hit_cevalue  \\\n",
       "0                                      0.406838                  2.700000e-76   \n",
       "1                                      0.187932                           NaN   \n",
       "2                                      0.519037                 3.800000e-108   \n",
       "3                                      0.500197                 2.300000e-110   \n",
       "4                                      0.450435                  4.000000e-94   \n",
       "...                                         ...                           ...   \n",
       "606786                                 0.000000                  4.100000e-12   \n",
       "606787                                 0.000000                  6.800000e-15   \n",
       "606788                                 0.000000                  3.700000e-15   \n",
       "606789                                 0.000000                  6.700000e-15   \n",
       "606790                                 0.000000                  2.400000e-40   \n",
       "\n",
       "        strongest_supfam_hit_cevalue_neg_log_norm  has_pfam_hit  \\\n",
       "0                                        0.528289             1   \n",
       "1                                        0.000000             1   \n",
       "2                                        0.755630             1   \n",
       "3                                        0.771462             1   \n",
       "4                                        0.655546             1   \n",
       "...                                           ...           ...   \n",
       "606786                                   0.070193             0   \n",
       "606787                                   0.090037             0   \n",
       "606788                                   0.091924             0   \n",
       "606789                                   0.090083             0   \n",
       "606790                                   0.271703             0   \n",
       "\n",
       "        has_supfam_hit  \n",
       "0                    1  \n",
       "1                    0  \n",
       "2                    1  \n",
       "3                    1  \n",
       "4                    1  \n",
       "...                ...  \n",
       "606786               1  \n",
       "606787               1  \n",
       "606788               1  \n",
       "606789               1  \n",
       "606790               1  \n",
       "\n",
       "[606791 rows x 10 columns]"
      ]
     },
     "execution_count": 59,
     "metadata": {},
     "output_type": "execute_result"
    }
   ],
   "source": [
    "df"
   ]
  },
  {
   "cell_type": "code",
   "execution_count": 59,
   "id": "5c283980-eb27-4891-ba8e-a6c7d0ea21a6",
   "metadata": {
    "tags": []
   },
   "outputs": [
    {
     "data": {
      "text/plain": [
       "methionin\n",
       "1    0.706774\n",
       "0    0.293226\n",
       "Name: proportion, dtype: float64"
      ]
     },
     "execution_count": 59,
     "metadata": {},
     "output_type": "execute_result"
    }
   ],
   "source": [
    "df['methionin'].value_counts(normalize=True)"
   ]
  },
  {
   "cell_type": "code",
   "execution_count": 60,
   "id": "b0b2144a-9a96-414a-8ab9-4a9f79128ba4",
   "metadata": {
    "tags": []
   },
   "outputs": [
    {
     "data": {
      "text/plain": [
       "observed_pfam_architecture\n",
       "0    0.696845\n",
       "1    0.303155\n",
       "Name: proportion, dtype: float64"
      ]
     },
     "execution_count": 60,
     "metadata": {},
     "output_type": "execute_result"
    }
   ],
   "source": [
    "df['observed_pfam_architecture'].value_counts(normalize=True)"
   ]
  },
  {
   "cell_type": "code",
   "execution_count": 61,
   "id": "a91d4405-d1db-44ed-b7dc-cf27df23ecda",
   "metadata": {
    "tags": []
   },
   "outputs": [
    {
     "data": {
      "text/plain": [
       "observed_supfam_architecture\n",
       "1    0.803389\n",
       "0    0.196611\n",
       "Name: proportion, dtype: float64"
      ]
     },
     "execution_count": 61,
     "metadata": {},
     "output_type": "execute_result"
    }
   ],
   "source": [
    "df['observed_supfam_architecture'].value_counts(normalize=True)"
   ]
  },
  {
   "cell_type": "code",
   "execution_count": 62,
   "id": "a469d241-ab01-484f-a897-b2b25198d731",
   "metadata": {
    "tags": []
   },
   "outputs": [
    {
     "data": {
      "text/plain": [
       "0.09938058417035128"
      ]
     },
     "execution_count": 62,
     "metadata": {},
     "output_type": "execute_result"
    }
   ],
   "source": [
    "df['strongest_pfam_hit_cevalue_neg_log_norm'].mean()"
   ]
  },
  {
   "cell_type": "code",
   "execution_count": 63,
   "id": "1decc40d-3893-4119-917d-cb5ec2efe4e1",
   "metadata": {
    "tags": []
   },
   "outputs": [
    {
     "data": {
      "text/plain": [
       "0.1533498006891141"
      ]
     },
     "execution_count": 63,
     "metadata": {},
     "output_type": "execute_result"
    }
   ],
   "source": [
    "df['strongest_supfam_hit_cevalue_neg_log_norm'].mean()"
   ]
  },
  {
   "cell_type": "code",
   "execution_count": 64,
   "id": "ef753958-92ff-4fe4-852c-1f730a054035",
   "metadata": {
    "tags": []
   },
   "outputs": [
    {
     "data": {
      "text/plain": [
       "strongest_pfam_hit_cevalue_neg_log_norm\n",
       "False    0.705686\n",
       "True     0.294314\n",
       "Name: proportion, dtype: float64"
      ]
     },
     "execution_count": 64,
     "metadata": {},
     "output_type": "execute_result"
    }
   ],
   "source": [
    "(df['strongest_pfam_hit_cevalue_neg_log_norm'] > df['strongest_pfam_hit_cevalue_neg_log_norm'].mean()).value_counts(normalize=True)"
   ]
  },
  {
   "cell_type": "code",
   "execution_count": 65,
   "id": "2b696078-e56c-4d1b-ba66-55a8d6fb7c81",
   "metadata": {
    "tags": []
   },
   "outputs": [
    {
     "data": {
      "text/plain": [
       "strongest_supfam_hit_cevalue_neg_log_norm\n",
       "False    0.688649\n",
       "True     0.311351\n",
       "Name: proportion, dtype: float64"
      ]
     },
     "execution_count": 65,
     "metadata": {},
     "output_type": "execute_result"
    }
   ],
   "source": [
    "(df['strongest_supfam_hit_cevalue_neg_log_norm'] > df['strongest_supfam_hit_cevalue_neg_log_norm'].mean()).value_counts(normalize=True)"
   ]
  },
  {
   "cell_type": "markdown",
   "id": "e1f9ed20-e33f-46c1-a1e8-be6e73cb5910",
   "metadata": {},
   "source": [
    "### Sequences with high reliability"
   ]
  },
  {
   "cell_type": "code",
   "execution_count": 66,
   "id": "8b2584b5-a70d-4bdd-ba35-3c96bedf9355",
   "metadata": {
    "tags": []
   },
   "outputs": [
    {
     "data": {
      "text/html": [
       "<div>\n",
       "<style scoped>\n",
       "    .dataframe tbody tr th:only-of-type {\n",
       "        vertical-align: middle;\n",
       "    }\n",
       "\n",
       "    .dataframe tbody tr th {\n",
       "        vertical-align: top;\n",
       "    }\n",
       "\n",
       "    .dataframe thead th {\n",
       "        text-align: right;\n",
       "    }\n",
       "</style>\n",
       "<table border=\"1\" class=\"dataframe\">\n",
       "  <thead>\n",
       "    <tr style=\"text-align: right;\">\n",
       "      <th></th>\n",
       "      <th>id</th>\n",
       "      <th>methionin</th>\n",
       "      <th>observed_pfam_architecture</th>\n",
       "      <th>observed_supfam_architecture</th>\n",
       "      <th>strongest_pfam_hit_cevalue</th>\n",
       "      <th>strongest_pfam_hit_cevalue_neg_log_norm</th>\n",
       "      <th>strongest_supfam_hit_cevalue</th>\n",
       "      <th>strongest_supfam_hit_cevalue_neg_log_norm</th>\n",
       "      <th>has_pfam_hit</th>\n",
       "      <th>has_supfam_hit</th>\n",
       "    </tr>\n",
       "  </thead>\n",
       "  <tbody>\n",
       "    <tr>\n",
       "      <th>40</th>\n",
       "      <td>onekp_000072</td>\n",
       "      <td>1</td>\n",
       "      <td>1</td>\n",
       "      <td>1</td>\n",
       "      <td>2.300000e-76</td>\n",
       "      <td>0.355689</td>\n",
       "      <td>5.300000e-87</td>\n",
       "      <td>0.604711</td>\n",
       "      <td>1</td>\n",
       "      <td>1</td>\n",
       "    </tr>\n",
       "    <tr>\n",
       "      <th>60</th>\n",
       "      <td>onekp_000114</td>\n",
       "      <td>1</td>\n",
       "      <td>1</td>\n",
       "      <td>1</td>\n",
       "      <td>7.000000e-72</td>\n",
       "      <td>0.334066</td>\n",
       "      <td>8.800000e-72</td>\n",
       "      <td>0.496077</td>\n",
       "      <td>1</td>\n",
       "      <td>1</td>\n",
       "    </tr>\n",
       "    <tr>\n",
       "      <th>68</th>\n",
       "      <td>onekp_000125</td>\n",
       "      <td>1</td>\n",
       "      <td>1</td>\n",
       "      <td>1</td>\n",
       "      <td>3.600000e-60</td>\n",
       "      <td>0.277586</td>\n",
       "      <td>7.000000e-68</td>\n",
       "      <td>0.468236</td>\n",
       "      <td>1</td>\n",
       "      <td>1</td>\n",
       "    </tr>\n",
       "    <tr>\n",
       "      <th>69</th>\n",
       "      <td>onekp_000126</td>\n",
       "      <td>1</td>\n",
       "      <td>1</td>\n",
       "      <td>1</td>\n",
       "      <td>6.800000e-68</td>\n",
       "      <td>0.314836</td>\n",
       "      <td>1.000000e-73</td>\n",
       "      <td>0.509955</td>\n",
       "      <td>1</td>\n",
       "      <td>1</td>\n",
       "    </tr>\n",
       "    <tr>\n",
       "      <th>105</th>\n",
       "      <td>onekp_000180</td>\n",
       "      <td>1</td>\n",
       "      <td>1</td>\n",
       "      <td>1</td>\n",
       "      <td>3.400000e-59</td>\n",
       "      <td>0.272883</td>\n",
       "      <td>4.100000e-62</td>\n",
       "      <td>0.427069</td>\n",
       "      <td>1</td>\n",
       "      <td>1</td>\n",
       "    </tr>\n",
       "    <tr>\n",
       "      <th>...</th>\n",
       "      <td>...</td>\n",
       "      <td>...</td>\n",
       "      <td>...</td>\n",
       "      <td>...</td>\n",
       "      <td>...</td>\n",
       "      <td>...</td>\n",
       "      <td>...</td>\n",
       "      <td>...</td>\n",
       "      <td>...</td>\n",
       "      <td>...</td>\n",
       "    </tr>\n",
       "    <tr>\n",
       "      <th>583538</th>\n",
       "      <td>bfd_243116</td>\n",
       "      <td>1</td>\n",
       "      <td>1</td>\n",
       "      <td>1</td>\n",
       "      <td>6.500000e-09</td>\n",
       "      <td>0.030388</td>\n",
       "      <td>8.700000e-25</td>\n",
       "      <td>0.160649</td>\n",
       "      <td>1</td>\n",
       "      <td>1</td>\n",
       "    </tr>\n",
       "    <tr>\n",
       "      <th>586981</th>\n",
       "      <td>bfd_247450</td>\n",
       "      <td>1</td>\n",
       "      <td>1</td>\n",
       "      <td>1</td>\n",
       "      <td>4.400000e-08</td>\n",
       "      <td>0.026383</td>\n",
       "      <td>3.700000e-13</td>\n",
       "      <td>0.077649</td>\n",
       "      <td>1</td>\n",
       "      <td>1</td>\n",
       "    </tr>\n",
       "    <tr>\n",
       "      <th>592389</th>\n",
       "      <td>bfd_254970</td>\n",
       "      <td>1</td>\n",
       "      <td>1</td>\n",
       "      <td>1</td>\n",
       "      <td>2.600000e-08</td>\n",
       "      <td>0.027485</td>\n",
       "      <td>1.300000e-24</td>\n",
       "      <td>0.159404</td>\n",
       "      <td>1</td>\n",
       "      <td>1</td>\n",
       "    </tr>\n",
       "    <tr>\n",
       "      <th>606772</th>\n",
       "      <td>bfd_273330</td>\n",
       "      <td>1</td>\n",
       "      <td>1</td>\n",
       "      <td>1</td>\n",
       "      <td>1.300000e-08</td>\n",
       "      <td>0.028937</td>\n",
       "      <td>7.800000e-24</td>\n",
       "      <td>0.153850</td>\n",
       "      <td>1</td>\n",
       "      <td>1</td>\n",
       "    </tr>\n",
       "    <tr>\n",
       "      <th>606774</th>\n",
       "      <td>bfd_273332</td>\n",
       "      <td>1</td>\n",
       "      <td>1</td>\n",
       "      <td>1</td>\n",
       "      <td>1.100000e-08</td>\n",
       "      <td>0.029286</td>\n",
       "      <td>4.300000e-24</td>\n",
       "      <td>0.155696</td>\n",
       "      <td>1</td>\n",
       "      <td>1</td>\n",
       "    </tr>\n",
       "  </tbody>\n",
       "</table>\n",
       "<p>58278 rows × 10 columns</p>\n",
       "</div>"
      ],
      "text/plain": [
       "                  id  methionin  observed_pfam_architecture  \\\n",
       "40      onekp_000072          1                           1   \n",
       "60      onekp_000114          1                           1   \n",
       "68      onekp_000125          1                           1   \n",
       "69      onekp_000126          1                           1   \n",
       "105     onekp_000180          1                           1   \n",
       "...              ...        ...                         ...   \n",
       "583538    bfd_243116          1                           1   \n",
       "586981    bfd_247450          1                           1   \n",
       "592389    bfd_254970          1                           1   \n",
       "606772    bfd_273330          1                           1   \n",
       "606774    bfd_273332          1                           1   \n",
       "\n",
       "        observed_supfam_architecture  strongest_pfam_hit_cevalue  \\\n",
       "40                                 1                2.300000e-76   \n",
       "60                                 1                7.000000e-72   \n",
       "68                                 1                3.600000e-60   \n",
       "69                                 1                6.800000e-68   \n",
       "105                                1                3.400000e-59   \n",
       "...                              ...                         ...   \n",
       "583538                             1                6.500000e-09   \n",
       "586981                             1                4.400000e-08   \n",
       "592389                             1                2.600000e-08   \n",
       "606772                             1                1.300000e-08   \n",
       "606774                             1                1.100000e-08   \n",
       "\n",
       "        strongest_pfam_hit_cevalue_neg_log_norm  strongest_supfam_hit_cevalue  \\\n",
       "40                                     0.355689                  5.300000e-87   \n",
       "60                                     0.334066                  8.800000e-72   \n",
       "68                                     0.277586                  7.000000e-68   \n",
       "69                                     0.314836                  1.000000e-73   \n",
       "105                                    0.272883                  4.100000e-62   \n",
       "...                                         ...                           ...   \n",
       "583538                                 0.030388                  8.700000e-25   \n",
       "586981                                 0.026383                  3.700000e-13   \n",
       "592389                                 0.027485                  1.300000e-24   \n",
       "606772                                 0.028937                  7.800000e-24   \n",
       "606774                                 0.029286                  4.300000e-24   \n",
       "\n",
       "        strongest_supfam_hit_cevalue_neg_log_norm  has_pfam_hit  \\\n",
       "40                                       0.604711             1   \n",
       "60                                       0.496077             1   \n",
       "68                                       0.468236             1   \n",
       "69                                       0.509955             1   \n",
       "105                                      0.427069             1   \n",
       "...                                           ...           ...   \n",
       "583538                                   0.160649             1   \n",
       "586981                                   0.077649             1   \n",
       "592389                                   0.159404             1   \n",
       "606772                                   0.153850             1   \n",
       "606774                                   0.155696             1   \n",
       "\n",
       "        has_supfam_hit  \n",
       "40                   1  \n",
       "60                   1  \n",
       "68                   1  \n",
       "69                   1  \n",
       "105                  1  \n",
       "...                ...  \n",
       "583538               1  \n",
       "586981               1  \n",
       "592389               1  \n",
       "606772               1  \n",
       "606774               1  \n",
       "\n",
       "[58278 rows x 10 columns]"
      ]
     },
     "execution_count": 66,
     "metadata": {},
     "output_type": "execute_result"
    }
   ],
   "source": [
    "df[(df['methionin']) & (df['observed_pfam_architecture']) & (df['observed_supfam_architecture']) & (df['strongest_pfam_hit_cevalue'] < 1e-07) & (df['strongest_supfam_hit_cevalue'] < 1e-07)]"
   ]
  },
  {
   "cell_type": "code",
   "execution_count": 67,
   "id": "6fa5391d-5c4c-4054-8ac4-24272b57a39b",
   "metadata": {
    "tags": []
   },
   "outputs": [
    {
     "data": {
      "text/plain": [
       "id\n",
       "uniprot      71.212121\n",
       "tsa          13.965819\n",
       "phytozome    11.143141\n",
       "bfd           1.688459\n",
       "mgnify        1.472254\n",
       "onekp         0.518206\n",
       "Name: proportion, dtype: float64"
      ]
     },
     "execution_count": 67,
     "metadata": {},
     "output_type": "execute_result"
    }
   ],
   "source": [
    "df[(df['methionin']) & (df['observed_pfam_architecture']) & (df['observed_supfam_architecture']) & (df['strongest_pfam_hit_cevalue'] < 1e-07) & (df['strongest_supfam_hit_cevalue'] < 1e-07)]['id'].apply(lambda x: x.split('_')[0]).value_counts(normalize=True)*100"
   ]
  },
  {
   "cell_type": "code",
   "execution_count": 65,
   "id": "5a4fddba-04d0-4420-a5a3-feb1ec1bcec4",
   "metadata": {
    "tags": []
   },
   "outputs": [
    {
     "data": {
      "text/plain": [
       "Index(['id', 'methionin', 'observed_pfam_architecture',\n",
       "       'observed_supfam_architecture', 'strongest_pfam_hit_cevalue',\n",
       "       'strongest_pfam_hit_cevalue_neg_log_norm',\n",
       "       'strongest_supfam_hit_cevalue',\n",
       "       'strongest_supfam_hit_cevalue_neg_log_norm', 'has_pfam_hit',\n",
       "       'has_supfam_hit', 'has_pfam_and_supfam_hit'],\n",
       "      dtype='object')"
      ]
     },
     "execution_count": 65,
     "metadata": {},
     "output_type": "execute_result"
    }
   ],
   "source": [
    "df.columns"
   ]
  },
  {
   "cell_type": "markdown",
   "id": "dcf49916-e2a7-4af2-adb7-5921ce16d4ab",
   "metadata": {},
   "source": [
    "# Reliability score"
   ]
  },
  {
   "cell_type": "code",
   "execution_count": 67,
   "id": "c4626277-d065-424e-ad77-2409c9cf7b0c",
   "metadata": {
    "tags": []
   },
   "outputs": [],
   "source": [
    "df['reliability_score'] = df['methionin'] + df['observed_pfam_architecture'] + df['observed_supfam_architecture'] + df['has_pfam_and_supfam_hit'] + df['strongest_pfam_hit_cevalue_neg_log_norm'] + df['strongest_supfam_hit_cevalue_neg_log_norm']"
   ]
  },
  {
   "cell_type": "code",
   "execution_count": 68,
   "id": "ccaa3143-f744-489e-a83f-40308342ae53",
   "metadata": {
    "tags": []
   },
   "outputs": [
    {
     "data": {
      "text/plain": [
       "<Axes: ylabel='Frequency'>"
      ]
     },
     "execution_count": 68,
     "metadata": {},
     "output_type": "execute_result"
    },
    {
     "data": {
      "image/png": "[encoded data removed]",
      "text/plain": [
       "<Figure size 640x480 with 1 Axes>"
      ]
     },
     "metadata": {},
     "output_type": "display_data"
    }
   ],
   "source": [
    "df['reliability_score'].plot.hist()"
   ]
  },
  {
   "cell_type": "code",
   "execution_count": 69,
   "id": "c08753a0-646b-418f-b5c8-9d1553bdc45d",
   "metadata": {
    "tags": []
   },
   "outputs": [
    {
     "data": {
      "text/html": [
       "<div>\n",
       "<style scoped>\n",
       "    .dataframe tbody tr th:only-of-type {\n",
       "        vertical-align: middle;\n",
       "    }\n",
       "\n",
       "    .dataframe tbody tr th {\n",
       "        vertical-align: top;\n",
       "    }\n",
       "\n",
       "    .dataframe thead th {\n",
       "        text-align: right;\n",
       "    }\n",
       "</style>\n",
       "<table border=\"1\" class=\"dataframe\">\n",
       "  <thead>\n",
       "    <tr style=\"text-align: right;\">\n",
       "      <th></th>\n",
       "      <th>id</th>\n",
       "      <th>methionin</th>\n",
       "      <th>observed_pfam_architecture</th>\n",
       "      <th>observed_supfam_architecture</th>\n",
       "      <th>strongest_pfam_hit_cevalue</th>\n",
       "      <th>strongest_pfam_hit_cevalue_neg_log_norm</th>\n",
       "      <th>strongest_supfam_hit_cevalue</th>\n",
       "      <th>strongest_supfam_hit_cevalue_neg_log_norm</th>\n",
       "      <th>has_pfam_hit</th>\n",
       "      <th>has_supfam_hit</th>\n",
       "      <th>has_pfam_and_supfam_hit</th>\n",
       "      <th>reliability_score</th>\n",
       "    </tr>\n",
       "  </thead>\n",
       "  <tbody>\n",
       "    <tr>\n",
       "      <th>260</th>\n",
       "      <td>onekp_000462</td>\n",
       "      <td>1</td>\n",
       "      <td>1</td>\n",
       "      <td>1</td>\n",
       "      <td>7.700000e-100</td>\n",
       "      <td>0.468904</td>\n",
       "      <td>3.400000e-99</td>\n",
       "      <td>0.691737</td>\n",
       "      <td>1</td>\n",
       "      <td>1</td>\n",
       "      <td>1</td>\n",
       "      <td>5.160641</td>\n",
       "    </tr>\n",
       "    <tr>\n",
       "      <th>298</th>\n",
       "      <td>onekp_000533</td>\n",
       "      <td>1</td>\n",
       "      <td>1</td>\n",
       "      <td>1</td>\n",
       "      <td>1.900000e-96</td>\n",
       "      <td>0.452544</td>\n",
       "      <td>8.000000e-94</td>\n",
       "      <td>0.653397</td>\n",
       "      <td>1</td>\n",
       "      <td>1</td>\n",
       "      <td>1</td>\n",
       "      <td>5.105941</td>\n",
       "    </tr>\n",
       "    <tr>\n",
       "      <th>371</th>\n",
       "      <td>onekp_000662</td>\n",
       "      <td>1</td>\n",
       "      <td>1</td>\n",
       "      <td>1</td>\n",
       "      <td>5.400000e-102</td>\n",
       "      <td>0.479293</td>\n",
       "      <td>1.600000e-106</td>\n",
       "      <td>0.744037</td>\n",
       "      <td>1</td>\n",
       "      <td>1</td>\n",
       "      <td>1</td>\n",
       "      <td>5.223329</td>\n",
       "    </tr>\n",
       "    <tr>\n",
       "      <th>372</th>\n",
       "      <td>onekp_000663</td>\n",
       "      <td>1</td>\n",
       "      <td>1</td>\n",
       "      <td>1</td>\n",
       "      <td>7.400000e-103</td>\n",
       "      <td>0.483455</td>\n",
       "      <td>4.200000e-108</td>\n",
       "      <td>0.755320</td>\n",
       "      <td>1</td>\n",
       "      <td>1</td>\n",
       "      <td>1</td>\n",
       "      <td>5.238775</td>\n",
       "    </tr>\n",
       "    <tr>\n",
       "      <th>373</th>\n",
       "      <td>onekp_000664</td>\n",
       "      <td>1</td>\n",
       "      <td>1</td>\n",
       "      <td>1</td>\n",
       "      <td>3.300000e-104</td>\n",
       "      <td>0.489970</td>\n",
       "      <td>5.600000e-108</td>\n",
       "      <td>0.754428</td>\n",
       "      <td>1</td>\n",
       "      <td>1</td>\n",
       "      <td>1</td>\n",
       "      <td>5.244398</td>\n",
       "    </tr>\n",
       "    <tr>\n",
       "      <th>...</th>\n",
       "      <td>...</td>\n",
       "      <td>...</td>\n",
       "      <td>...</td>\n",
       "      <td>...</td>\n",
       "      <td>...</td>\n",
       "      <td>...</td>\n",
       "      <td>...</td>\n",
       "      <td>...</td>\n",
       "      <td>...</td>\n",
       "      <td>...</td>\n",
       "      <td>...</td>\n",
       "      <td>...</td>\n",
       "    </tr>\n",
       "    <tr>\n",
       "      <th>494016</th>\n",
       "      <td>bfd_124452</td>\n",
       "      <td>1</td>\n",
       "      <td>1</td>\n",
       "      <td>1</td>\n",
       "      <td>4.800000e-98</td>\n",
       "      <td>0.460248</td>\n",
       "      <td>2.800000e-90</td>\n",
       "      <td>0.628102</td>\n",
       "      <td>1</td>\n",
       "      <td>1</td>\n",
       "      <td>1</td>\n",
       "      <td>5.088350</td>\n",
       "    </tr>\n",
       "    <tr>\n",
       "      <th>494018</th>\n",
       "      <td>bfd_124475</td>\n",
       "      <td>1</td>\n",
       "      <td>1</td>\n",
       "      <td>1</td>\n",
       "      <td>9.500000e-109</td>\n",
       "      <td>0.511869</td>\n",
       "      <td>1.500000e-108</td>\n",
       "      <td>0.758512</td>\n",
       "      <td>1</td>\n",
       "      <td>1</td>\n",
       "      <td>1</td>\n",
       "      <td>5.270380</td>\n",
       "    </tr>\n",
       "    <tr>\n",
       "      <th>494025</th>\n",
       "      <td>bfd_124491</td>\n",
       "      <td>1</td>\n",
       "      <td>1</td>\n",
       "      <td>1</td>\n",
       "      <td>1.500000e-91</td>\n",
       "      <td>0.428925</td>\n",
       "      <td>1.200000e-82</td>\n",
       "      <td>0.573628</td>\n",
       "      <td>1</td>\n",
       "      <td>1</td>\n",
       "      <td>1</td>\n",
       "      <td>5.002553</td>\n",
       "    </tr>\n",
       "    <tr>\n",
       "      <th>494045</th>\n",
       "      <td>bfd_124620</td>\n",
       "      <td>1</td>\n",
       "      <td>1</td>\n",
       "      <td>1</td>\n",
       "      <td>1.200000e-98</td>\n",
       "      <td>0.463152</td>\n",
       "      <td>1.000000e-84</td>\n",
       "      <td>0.588468</td>\n",
       "      <td>1</td>\n",
       "      <td>1</td>\n",
       "      <td>1</td>\n",
       "      <td>5.051620</td>\n",
       "    </tr>\n",
       "    <tr>\n",
       "      <th>494049</th>\n",
       "      <td>bfd_124644</td>\n",
       "      <td>1</td>\n",
       "      <td>1</td>\n",
       "      <td>1</td>\n",
       "      <td>1.100000e-108</td>\n",
       "      <td>0.511562</td>\n",
       "      <td>1.800000e-109</td>\n",
       "      <td>0.765084</td>\n",
       "      <td>1</td>\n",
       "      <td>1</td>\n",
       "      <td>1</td>\n",
       "      <td>5.276646</td>\n",
       "    </tr>\n",
       "  </tbody>\n",
       "</table>\n",
       "<p>19021 rows × 12 columns</p>\n",
       "</div>"
      ],
      "text/plain": [
       "                  id  methionin  observed_pfam_architecture  \\\n",
       "260     onekp_000462          1                           1   \n",
       "298     onekp_000533          1                           1   \n",
       "371     onekp_000662          1                           1   \n",
       "372     onekp_000663          1                           1   \n",
       "373     onekp_000664          1                           1   \n",
       "...              ...        ...                         ...   \n",
       "494016    bfd_124452          1                           1   \n",
       "494018    bfd_124475          1                           1   \n",
       "494025    bfd_124491          1                           1   \n",
       "494045    bfd_124620          1                           1   \n",
       "494049    bfd_124644          1                           1   \n",
       "\n",
       "        observed_supfam_architecture  strongest_pfam_hit_cevalue  \\\n",
       "260                                1               7.700000e-100   \n",
       "298                                1                1.900000e-96   \n",
       "371                                1               5.400000e-102   \n",
       "372                                1               7.400000e-103   \n",
       "373                                1               3.300000e-104   \n",
       "...                              ...                         ...   \n",
       "494016                             1                4.800000e-98   \n",
       "494018                             1               9.500000e-109   \n",
       "494025                             1                1.500000e-91   \n",
       "494045                             1                1.200000e-98   \n",
       "494049                             1               1.100000e-108   \n",
       "\n",
       "        strongest_pfam_hit_cevalue_neg_log_norm  strongest_supfam_hit_cevalue  \\\n",
       "260                                    0.468904                  3.400000e-99   \n",
       "298                                    0.452544                  8.000000e-94   \n",
       "371                                    0.479293                 1.600000e-106   \n",
       "372                                    0.483455                 4.200000e-108   \n",
       "373                                    0.489970                 5.600000e-108   \n",
       "...                                         ...                           ...   \n",
       "494016                                 0.460248                  2.800000e-90   \n",
       "494018                                 0.511869                 1.500000e-108   \n",
       "494025                                 0.428925                  1.200000e-82   \n",
       "494045                                 0.463152                  1.000000e-84   \n",
       "494049                                 0.511562                 1.800000e-109   \n",
       "\n",
       "        strongest_supfam_hit_cevalue_neg_log_norm  has_pfam_hit  \\\n",
       "260                                      0.691737             1   \n",
       "298                                      0.653397             1   \n",
       "371                                      0.744037             1   \n",
       "372                                      0.755320             1   \n",
       "373                                      0.754428             1   \n",
       "...                                           ...           ...   \n",
       "494016                                   0.628102             1   \n",
       "494018                                   0.758512             1   \n",
       "494025                                   0.573628             1   \n",
       "494045                                   0.588468             1   \n",
       "494049                                   0.765084             1   \n",
       "\n",
       "        has_supfam_hit  has_pfam_and_supfam_hit  reliability_score  \n",
       "260                  1                        1           5.160641  \n",
       "298                  1                        1           5.105941  \n",
       "371                  1                        1           5.223329  \n",
       "372                  1                        1           5.238775  \n",
       "373                  1                        1           5.244398  \n",
       "...                ...                      ...                ...  \n",
       "494016               1                        1           5.088350  \n",
       "494018               1                        1           5.270380  \n",
       "494025               1                        1           5.002553  \n",
       "494045               1                        1           5.051620  \n",
       "494049               1                        1           5.276646  \n",
       "\n",
       "[19021 rows x 12 columns]"
      ]
     },
     "execution_count": 69,
     "metadata": {},
     "output_type": "execute_result"
    }
   ],
   "source": [
    "df[df['reliability_score']>5]"
   ]
  },
  {
   "cell_type": "code",
   "execution_count": 70,
   "id": "99dd7cc2-a78f-4391-81b2-ae37510fcca1",
   "metadata": {
    "tags": []
   },
   "outputs": [],
   "source": [
    "df.to_csv('reliability_score.csv')"
   ]
  }
 ],
 "metadata": {
  "kernelspec": {
   "display_name": "Python 3 (ipykernel)",
   "language": "python",
   "name": "python3"
  },
  "language_info": {
   "codemirror_mode": {
    "name": "ipython",
    "version": 3
   },
   "file_extension": ".py",
   "mimetype": "text/x-python",
   "name": "python",
   "nbconvert_exporter": "python",
   "pygments_lexer": "ipython3",
   "version": "3.11.5"
  }
 },
 "nbformat": 4,
 "nbformat_minor": 5
}

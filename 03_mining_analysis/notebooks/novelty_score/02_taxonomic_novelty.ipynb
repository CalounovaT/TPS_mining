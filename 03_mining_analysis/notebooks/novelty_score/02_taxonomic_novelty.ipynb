{
 "cells": [
  {
   "cell_type": "markdown",
   "id": "a9522f26-9a29-42fc-8cb3-9d26c18f66fc",
   "metadata": {},
   "source": [
    "# Taxonomic novelty"
   ]
  },
  {
   "cell_type": "markdown",
   "id": "ae1011df-2a7d-4570-9eb2-8cf2d960dc0f",
   "metadata": {},
   "source": [
    "TODO: check how interesting the specie is -> if we have same characterized TPS from this specie or the specie group because from some new group, there could be higher chance of finding something new"
   ]
  },
  {
   "cell_type": "code",
   "execution_count": 1,
   "id": "ae2bec42-abcc-4eb8-bf20-11630aa6023b",
   "metadata": {
    "tags": []
   },
   "outputs": [],
   "source": [
    "import pandas as pd"
   ]
  },
  {
   "cell_type": "code",
   "execution_count": 2,
   "id": "eb714647-6fef-4b11-9b4b-d822851937fb",
   "metadata": {
    "tags": []
   },
   "outputs": [],
   "source": [
    "import ast"
   ]
  },
  {
   "cell_type": "code",
   "execution_count": 33,
   "id": "093fee57-517b-472c-9a86-8129fa0051f5",
   "metadata": {},
   "outputs": [
    {
     "name": "stderr",
     "output_type": "stream",
     "text": [
      "C:\\Users\\terca\\AppData\\Local\\Temp\\ipykernel_22828\\3051009688.py:1: DtypeWarning: Columns (1,2) have mixed types. Specify dtype option on import or set low_memory=False.\n",
      "  anno_df = pd.read_csv('../all_annotation.txt', sep='\\t')\n"
     ]
    }
   ],
   "source": [
    "anno_df = pd.read_csv('../annotation/all_annotation.txt', sep='\\t')"
   ]
  },
  {
   "cell_type": "code",
   "execution_count": 4,
   "id": "3760a0de-7822-48dd-b0e3-deb2025d838f",
   "metadata": {
    "tags": []
   },
   "outputs": [],
   "source": [
    "anno_df = anno_df[['id', 'organism', 'tax_id', 'lineage', 'superkingdom', 'kingdom', 'phylum']]"
   ]
  },
  {
   "cell_type": "code",
   "execution_count": 15,
   "id": "5670dd4d-224d-4468-b6bf-b00d7240b625",
   "metadata": {
    "tags": []
   },
   "outputs": [
    {
     "data": {
      "text/plain": [
       "\"{'species': 'Sorangium cellulosum', 'genus': 'Sorangium', 'family': 'Polyangiaceae', 'order': 'Polyangiales', 'phylum': 'Myxococcota', 'superkingdom': 'Bacteria'}\""
      ]
     },
     "execution_count": 15,
     "metadata": {},
     "output_type": "execute_result"
    }
   ],
   "source": [
    "anno_df.iloc[682470]['lineage']"
   ]
  },
  {
   "cell_type": "code",
   "execution_count": 34,
   "id": "48c230fa-0cb0-4efa-976b-18789df77bf1",
   "metadata": {
    "tags": []
   },
   "outputs": [],
   "source": [
    "def convert_to_dict(text):\n",
    "    try:\n",
    "        return ast.literal_eval(text)\n",
    "    except (SyntaxError, ValueError):\n",
    "        return text"
   ]
  },
  {
   "cell_type": "code",
   "execution_count": 35,
   "id": "34331af0-4a38-4b7e-b7d7-973f82c4cf9d",
   "metadata": {
    "tags": []
   },
   "outputs": [
    {
     "data": {
      "text/plain": [
       "'error'"
      ]
     },
     "execution_count": 35,
     "metadata": {},
     "output_type": "execute_result"
    }
   ],
   "source": [
    "convert_to_dict('error')"
   ]
  },
  {
   "cell_type": "code",
   "execution_count": 36,
   "id": "64ec19bf-76ab-4d5d-96fe-e65066870e6a",
   "metadata": {
    "tags": []
   },
   "outputs": [],
   "source": [
    "anno_df['lineage'] = anno_df['lineage'].apply(lambda x: convert_to_dict(x))"
   ]
  },
  {
   "cell_type": "markdown",
   "id": "dc0cb245-0f2a-478c-8c95-ffc8c54d42b9",
   "metadata": {},
   "source": [
    "## Characterized sequences"
   ]
  },
  {
   "cell_type": "code",
   "execution_count": 25,
   "id": "80309968-b903-4306-a8aa-62e0cca145b2",
   "metadata": {
    "tags": []
   },
   "outputs": [],
   "source": [
    "tps_db_file = '../../../01_tps_db_analysis/data/TPS-database_filtered.tsv'"
   ]
  },
  {
   "cell_type": "code",
   "execution_count": 26,
   "id": "81763dd7-3b52-4b7f-b3f2-0ef7be03b0dc",
   "metadata": {
    "tags": []
   },
   "outputs": [],
   "source": [
    "tps_db = pd.read_csv(tps_db_file, sep='\\t')"
   ]
  },
  {
   "cell_type": "code",
   "execution_count": 40,
   "id": "2680fba1-519b-4a1d-b630-2d4f5c4e1bab",
   "metadata": {
    "tags": []
   },
   "outputs": [],
   "source": [
    "tps_db['Species'] = tps_db['Species'].str.strip()"
   ]
  },
  {
   "cell_type": "code",
   "execution_count": 29,
   "id": "d2adbbf3-1221-408e-bb86-239ea6d097b6",
   "metadata": {
    "tags": []
   },
   "outputs": [],
   "source": [
    "import taxoniq"
   ]
  },
  {
   "cell_type": "code",
   "execution_count": 48,
   "id": "c53cd95b-fcd1-4b4b-972e-983cf44d567e",
   "metadata": {
    "tags": []
   },
   "outputs": [],
   "source": [
    "id_taxid_map_df = pd.read_csv('taxo_map_char.tsv', sep='\\t')[['Entry', 'Organism (ID)']]"
   ]
  },
  {
   "cell_type": "code",
   "execution_count": 62,
   "id": "89cba62e-349d-401d-843a-c8955108a2cc",
   "metadata": {
    "tags": []
   },
   "outputs": [],
   "source": [
    "def get_tax_id(x):\n",
    "    try:\n",
    "        t = taxoniq.Taxon(scientific_name=x['Species'])\n",
    "        return t.tax_id\n",
    "    except:\n",
    "        if x['Uniprot ID'] in id_taxid_map_df.index:\n",
    "            return id_taxid_map_df.loc[x['Uniprot ID']]['Organism (ID)']\n",
    "        elif x['Species'] == 'Amycolatopis arida':\n",
    "            return 587909\n",
    "        elif x['Species'] == 'Bubarida sp.':\n",
    "            return 2772871\n",
    "        elif x['Species'] == 'Dendronephtha gigantea':\n",
    "            return 151771\n",
    "        elif x['Species'] == 'T. versicolor':\n",
    "            return 5325\n",
    "        elif x['Species'] == 'P. ostreatus':\n",
    "            return 5322\n",
    "        elif x['Species'] == 'Au. vulgare':\n",
    "            return 40419\n",
    "        elif x['Species'] == 'Luffa cylindrica':\n",
    "            return 3670\n",
    "        else:\n",
    "            return 'error'"
   ]
  },
  {
   "cell_type": "code",
   "execution_count": 63,
   "id": "e07dab06-b398-4f89-a8a0-cf75a39e4c49",
   "metadata": {
    "tags": []
   },
   "outputs": [],
   "source": [
    "tps_db['tax_id'] = tps_db.apply(lambda x: get_tax_id(x), axis=1)"
   ]
  },
  {
   "cell_type": "code",
   "execution_count": 65,
   "id": "9d9f1593-7405-4c89-ac7d-702eced61fb4",
   "metadata": {
    "tags": []
   },
   "outputs": [],
   "source": [
    "def add_lineage(x):\n",
    "    try:\n",
    "        t = taxoniq.Taxon(x)\n",
    "        lineage = dict()\n",
    "        for line in t.ranked_lineage:\n",
    "            lineage[line.rank.name] = line.scientific_name\n",
    "        return lineage\n",
    "    except:\n",
    "        return 'error'"
   ]
  },
  {
   "cell_type": "code",
   "execution_count": 66,
   "id": "baa5f35e-d0ae-427e-abab-85d218348ece",
   "metadata": {
    "tags": []
   },
   "outputs": [],
   "source": [
    "tps_db['lineage'] = tps_db['tax_id'].apply(lambda x: add_lineage(x))"
   ]
  },
  {
   "cell_type": "code",
   "execution_count": 80,
   "id": "6a9bdb7b-8101-4a1d-80c3-0d021f2ab34d",
   "metadata": {
    "tags": []
   },
   "outputs": [
    {
     "data": {
      "text/plain": [
       "[['species',\n",
       "  'genus',\n",
       "  'family',\n",
       "  'order',\n",
       "  'class',\n",
       "  'phylum',\n",
       "  'kingdom',\n",
       "  'superkingdom'],\n",
       " ['species', 'genus', 'family', 'order', 'class', 'phylum', 'superkingdom'],\n",
       " ['order', 'class', 'phylum', 'kingdom', 'superkingdom'],\n",
       " ['species', 'genus', 'class', 'phylum', 'kingdom', 'superkingdom'],\n",
       " ['species', 'genus', 'family', 'order', 'phylum', 'superkingdom'],\n",
       " ['species', 'genus', 'order', 'class', 'phylum', 'kingdom', 'superkingdom']]"
      ]
     },
     "execution_count": 80,
     "metadata": {},
     "output_type": "execute_result"
    }
   ],
   "source": [
    "tps_db['lineage'].apply(lambda x: list(x.keys())).drop_duplicates().tolist()"
   ]
  },
  {
   "cell_type": "markdown",
   "id": "a0800d55-10f4-4337-9bb1-315ff34ff1e7",
   "metadata": {},
   "source": [
    "- species\n",
    "- genus\n",
    "- family\n",
    "- order\n",
    "- class\n",
    "- phylum\n",
    "- kingdom\n",
    "- superkingdom"
   ]
  },
  {
   "cell_type": "code",
   "execution_count": 83,
   "id": "8b5ee9e4-37ed-48ed-84f8-a9863192a8d0",
   "metadata": {
    "tags": []
   },
   "outputs": [],
   "source": [
    "tps_db['genus'] = tps_db['lineage'].apply(lambda x: x.get('genus', None))"
   ]
  },
  {
   "cell_type": "code",
   "execution_count": 86,
   "id": "3effac69-9023-4863-a3c6-f8a529b4eb2e",
   "metadata": {
    "tags": []
   },
   "outputs": [],
   "source": [
    "tps_db['family'] = tps_db['lineage'].apply(lambda x: x.get('family', None))"
   ]
  },
  {
   "cell_type": "code",
   "execution_count": 87,
   "id": "d23aa83f-fb74-4ed6-9491-0bdccf612168",
   "metadata": {
    "tags": []
   },
   "outputs": [],
   "source": [
    "tps_db['order'] = tps_db['lineage'].apply(lambda x: x.get('order', None))"
   ]
  },
  {
   "cell_type": "code",
   "execution_count": 88,
   "id": "dd14dcb6-870c-41b8-a87b-001a841994ad",
   "metadata": {
    "tags": []
   },
   "outputs": [],
   "source": [
    "tps_db['class'] = tps_db['lineage'].apply(lambda x: x.get('class', None))"
   ]
  },
  {
   "cell_type": "code",
   "execution_count": 89,
   "id": "21873bee-692e-4a9a-ab78-e594ef438d02",
   "metadata": {
    "tags": []
   },
   "outputs": [],
   "source": [
    "tps_db['phylum'] = tps_db['lineage'].apply(lambda x: x.get('phylum', None))"
   ]
  },
  {
   "cell_type": "code",
   "execution_count": 90,
   "id": "2ab362a3-243c-4249-83cd-850ad918223e",
   "metadata": {
    "tags": []
   },
   "outputs": [],
   "source": [
    "tps_db['kingdom'] = tps_db['lineage'].apply(lambda x: x.get('kingdom', None))"
   ]
  },
  {
   "cell_type": "code",
   "execution_count": 91,
   "id": "df353988-e6dc-4b02-b56b-3fe6f2890a4b",
   "metadata": {
    "tags": []
   },
   "outputs": [],
   "source": [
    "tps_db['superkingdom'] = tps_db['lineage'].apply(lambda x: x.get('superkingdom', None))"
   ]
  },
  {
   "cell_type": "code",
   "execution_count": 93,
   "id": "5ded2379-48f5-4e21-be7a-e5eb512aadee",
   "metadata": {
    "tags": []
   },
   "outputs": [
    {
     "data": {
      "text/plain": [
       "153"
      ]
     },
     "execution_count": 93,
     "metadata": {},
     "output_type": "execute_result"
    }
   ],
   "source": [
    "tps_db['family'].nunique()"
   ]
  },
  {
   "cell_type": "code",
   "execution_count": 94,
   "id": "2aabe9ed-e416-49de-be24-7574bbd36a20",
   "metadata": {
    "tags": []
   },
   "outputs": [
    {
     "data": {
      "text/plain": [
       "family\n",
       "Lamiaceae             233\n",
       "Pinaceae              220\n",
       "Poaceae               163\n",
       "Solanaceae            160\n",
       "Asteraceae             82\n",
       "                     ... \n",
       "Roseiflexaceae          1\n",
       "Dioscoreaceae           1\n",
       "Polygalaceae            1\n",
       "Dipodascaceae           1\n",
       "Herpetosiphonaceae      1\n",
       "Name: count, Length: 153, dtype: int64"
      ]
     },
     "execution_count": 94,
     "metadata": {},
     "output_type": "execute_result"
    }
   ],
   "source": [
    "tps_db['family'].value_counts()"
   ]
  },
  {
   "cell_type": "code",
   "execution_count": 135,
   "id": "0a18bbf4-2356-4c69-a19f-fce196fae969",
   "metadata": {
    "tags": []
   },
   "outputs": [],
   "source": [
    "tps_db['species'] = tps_db['Species']"
   ]
  },
  {
   "cell_type": "code",
   "execution_count": 152,
   "id": "8bd1603b-a95c-4553-ba53-2bf0f389d856",
   "metadata": {
    "tags": []
   },
   "outputs": [],
   "source": [
    "tps_db.to_csv('tpd_db_with_tax_info.csv')"
   ]
  },
  {
   "cell_type": "markdown",
   "id": "1adb9613-09fa-4996-8544-cc33ba30b814",
   "metadata": {},
   "source": [
    "## Check uncharacterized phyla"
   ]
  },
  {
   "cell_type": "code",
   "execution_count": 103,
   "id": "9c771b64-91ef-47ea-8bdb-cbfaff5d0e8a",
   "metadata": {
    "tags": []
   },
   "outputs": [],
   "source": [
    "unchar_phyla = set(anno_df['lineage'].apply(lambda x: x.get('phylum', None) if type(x) == dict else None).unique()).difference(set(tps_db['phylum'].unique()))"
   ]
  },
  {
   "cell_type": "code",
   "execution_count": 104,
   "id": "5c885f09-2476-485d-bc24-f038941bcecc",
   "metadata": {
    "tags": []
   },
   "outputs": [
    {
     "data": {
      "text/plain": [
       "217"
      ]
     },
     "execution_count": 104,
     "metadata": {},
     "output_type": "execute_result"
    }
   ],
   "source": [
    "len(unchar_phyla)"
   ]
  },
  {
   "cell_type": "code",
   "execution_count": 107,
   "id": "457c0046-3fd6-46c5-975a-51ffe7df19af",
   "metadata": {
    "tags": []
   },
   "outputs": [
    {
     "data": {
      "text/html": [
       "<div>\n",
       "<style scoped>\n",
       "    .dataframe tbody tr th:only-of-type {\n",
       "        vertical-align: middle;\n",
       "    }\n",
       "\n",
       "    .dataframe tbody tr th {\n",
       "        vertical-align: top;\n",
       "    }\n",
       "\n",
       "    .dataframe thead th {\n",
       "        text-align: right;\n",
       "    }\n",
       "</style>\n",
       "<table border=\"1\" class=\"dataframe\">\n",
       "  <thead>\n",
       "    <tr style=\"text-align: right;\">\n",
       "      <th></th>\n",
       "      <th>id</th>\n",
       "      <th>organism</th>\n",
       "      <th>tax_id</th>\n",
       "      <th>lineage</th>\n",
       "      <th>superkingdom</th>\n",
       "      <th>kingdom</th>\n",
       "      <th>phylum</th>\n",
       "    </tr>\n",
       "  </thead>\n",
       "  <tbody>\n",
       "    <tr>\n",
       "      <th>0</th>\n",
       "      <td>bfd_106193</td>\n",
       "      <td>soil metagenome</td>\n",
       "      <td>410658</td>\n",
       "      <td>{'species': 'soil metagenome'}</td>\n",
       "      <td>Metagenome</td>\n",
       "      <td>environmental</td>\n",
       "      <td>unknown</td>\n",
       "    </tr>\n",
       "    <tr>\n",
       "      <th>1</th>\n",
       "      <td>bfd_118229</td>\n",
       "      <td>soil metagenome</td>\n",
       "      <td>410658</td>\n",
       "      <td>{'species': 'soil metagenome'}</td>\n",
       "      <td>Metagenome</td>\n",
       "      <td>environmental</td>\n",
       "      <td>unknown</td>\n",
       "    </tr>\n",
       "    <tr>\n",
       "      <th>3</th>\n",
       "      <td>bfd_096880</td>\n",
       "      <td>Absidia repens</td>\n",
       "      <td>90262</td>\n",
       "      <td>{'species': 'Absidia repens', 'genus': 'Absidi...</td>\n",
       "      <td>Eukaryota</td>\n",
       "      <td>Fungi</td>\n",
       "      <td>Mucoromycota</td>\n",
       "    </tr>\n",
       "    <tr>\n",
       "      <th>4</th>\n",
       "      <td>bfd_097326</td>\n",
       "      <td>soil metagenome</td>\n",
       "      <td>410658</td>\n",
       "      <td>{'species': 'soil metagenome'}</td>\n",
       "      <td>Metagenome</td>\n",
       "      <td>environmental</td>\n",
       "      <td>unknown</td>\n",
       "    </tr>\n",
       "    <tr>\n",
       "      <th>6</th>\n",
       "      <td>bfd_203259</td>\n",
       "      <td>soil metagenome</td>\n",
       "      <td>410658</td>\n",
       "      <td>{'species': 'soil metagenome'}</td>\n",
       "      <td>Metagenome</td>\n",
       "      <td>environmental</td>\n",
       "      <td>unknown</td>\n",
       "    </tr>\n",
       "    <tr>\n",
       "      <th>...</th>\n",
       "      <td>...</td>\n",
       "      <td>...</td>\n",
       "      <td>...</td>\n",
       "      <td>...</td>\n",
       "      <td>...</td>\n",
       "      <td>...</td>\n",
       "      <td>...</td>\n",
       "    </tr>\n",
       "    <tr>\n",
       "      <th>682457</th>\n",
       "      <td>uniprot_238349</td>\n",
       "      <td>Candidatus Poseidoniales archaeon</td>\n",
       "      <td>2163009</td>\n",
       "      <td>{'species': 'Candidatus Poseidoniales archaeon...</td>\n",
       "      <td>Archaea</td>\n",
       "      <td>unknown</td>\n",
       "      <td>Candidatus Thermoplasmatota</td>\n",
       "    </tr>\n",
       "    <tr>\n",
       "      <th>682458</th>\n",
       "      <td>uniprot_137796</td>\n",
       "      <td>Fragilariopsis cylindrus</td>\n",
       "      <td>186039</td>\n",
       "      <td>{'species': 'Fragilariopsis cylindrus', 'genus...</td>\n",
       "      <td>Eukaryota</td>\n",
       "      <td>unknown</td>\n",
       "      <td>Bacillariophyta</td>\n",
       "    </tr>\n",
       "    <tr>\n",
       "      <th>682462</th>\n",
       "      <td>uniprot_132901</td>\n",
       "      <td>Helicobacter pylori</td>\n",
       "      <td>210</td>\n",
       "      <td>{'species': 'Helicobacter pylori', 'genus': 'H...</td>\n",
       "      <td>Bacteria</td>\n",
       "      <td>unknown</td>\n",
       "      <td>Campylobacterota</td>\n",
       "    </tr>\n",
       "    <tr>\n",
       "      <th>682464</th>\n",
       "      <td>uniprot_208094</td>\n",
       "      <td>Luteitalea sp.</td>\n",
       "      <td>2004800</td>\n",
       "      <td>{'species': 'Luteitalea sp.', 'genus': 'Luteit...</td>\n",
       "      <td>Bacteria</td>\n",
       "      <td>unknown</td>\n",
       "      <td>Acidobacteriota</td>\n",
       "    </tr>\n",
       "    <tr>\n",
       "      <th>682468</th>\n",
       "      <td>uniprot_229305</td>\n",
       "      <td>Treponema sp.</td>\n",
       "      <td>166</td>\n",
       "      <td>{'species': 'Treponema sp.', 'genus': 'Trepone...</td>\n",
       "      <td>Bacteria</td>\n",
       "      <td>unknown</td>\n",
       "      <td>Spirochaetota</td>\n",
       "    </tr>\n",
       "  </tbody>\n",
       "</table>\n",
       "<p>171430 rows × 7 columns</p>\n",
       "</div>"
      ],
      "text/plain": [
       "                    id                           organism   tax_id  \\\n",
       "0           bfd_106193                    soil metagenome   410658   \n",
       "1           bfd_118229                    soil metagenome   410658   \n",
       "3           bfd_096880                     Absidia repens    90262   \n",
       "4           bfd_097326                    soil metagenome   410658   \n",
       "6           bfd_203259                    soil metagenome   410658   \n",
       "...                ...                                ...      ...   \n",
       "682457  uniprot_238349  Candidatus Poseidoniales archaeon  2163009   \n",
       "682458  uniprot_137796           Fragilariopsis cylindrus   186039   \n",
       "682462  uniprot_132901                Helicobacter pylori      210   \n",
       "682464  uniprot_208094                     Luteitalea sp.  2004800   \n",
       "682468  uniprot_229305                      Treponema sp.      166   \n",
       "\n",
       "                                                  lineage superkingdom  \\\n",
       "0                          {'species': 'soil metagenome'}   Metagenome   \n",
       "1                          {'species': 'soil metagenome'}   Metagenome   \n",
       "3       {'species': 'Absidia repens', 'genus': 'Absidi...    Eukaryota   \n",
       "4                          {'species': 'soil metagenome'}   Metagenome   \n",
       "6                          {'species': 'soil metagenome'}   Metagenome   \n",
       "...                                                   ...          ...   \n",
       "682457  {'species': 'Candidatus Poseidoniales archaeon...      Archaea   \n",
       "682458  {'species': 'Fragilariopsis cylindrus', 'genus...    Eukaryota   \n",
       "682462  {'species': 'Helicobacter pylori', 'genus': 'H...     Bacteria   \n",
       "682464  {'species': 'Luteitalea sp.', 'genus': 'Luteit...     Bacteria   \n",
       "682468  {'species': 'Treponema sp.', 'genus': 'Trepone...     Bacteria   \n",
       "\n",
       "              kingdom                       phylum  \n",
       "0       environmental                      unknown  \n",
       "1       environmental                      unknown  \n",
       "3               Fungi                 Mucoromycota  \n",
       "4       environmental                      unknown  \n",
       "6       environmental                      unknown  \n",
       "...               ...                          ...  \n",
       "682457        unknown  Candidatus Thermoplasmatota  \n",
       "682458        unknown              Bacillariophyta  \n",
       "682462        unknown             Campylobacterota  \n",
       "682464        unknown              Acidobacteriota  \n",
       "682468        unknown                Spirochaetota  \n",
       "\n",
       "[171430 rows x 7 columns]"
      ]
     },
     "execution_count": 107,
     "metadata": {},
     "output_type": "execute_result"
    }
   ],
   "source": [
    "anno_df[anno_df.apply(lambda x: x['lineage'].get('phylum') in unchar_phyla if type(x['lineage']) == dict else False, axis=1)]"
   ]
  },
  {
   "cell_type": "markdown",
   "id": "db32bdf5-84e1-46e2-8b68-d1a40aa235ac",
   "metadata": {},
   "source": [
    "## Scoring\n",
    "- 0 for characterized specie\n",
    "- 0.1 for uncharacterized species (unless it is 'unknown' or metagenomic)\n",
    "- 0.2 for uncharacterized genus\n",
    "- 0.4 for uncharacterized family\n",
    "- 0.6 for uncharacterized order\n",
    "- 0.8 for uncharacterized class\n",
    "- 1 for uncharacterized phylum\n"
   ]
  },
  {
   "cell_type": "code",
   "execution_count": 110,
   "id": "bf0ddbbb-68dc-47c6-9b98-9bdf09584bb2",
   "metadata": {
    "tags": []
   },
   "outputs": [],
   "source": [
    "char_phyla = tps_db['phylum'].unique()"
   ]
  },
  {
   "cell_type": "code",
   "execution_count": 116,
   "id": "e83147c0-abec-4174-88a3-25d17a5c1b18",
   "metadata": {
    "tags": []
   },
   "outputs": [
    {
     "data": {
      "text/plain": [
       "array(['Streptophyta', 'Cnidaria', 'Actinomycetota', 'Bacteroidota',\n",
       "       'Porifera', 'Ascomycota', 'Basidiomycota', 'Chlorophyta',\n",
       "       'Cyanobacteriota', 'Chordata', 'Bacillota', 'Pseudomonadota',\n",
       "       'Arthropoda', 'Evosea', 'Myxococcota', 'Chloroflexota',\n",
       "       'Rhodophyta'], dtype=object)"
      ]
     },
     "execution_count": 116,
     "metadata": {},
     "output_type": "execute_result"
    }
   ],
   "source": [
    "char_phyla"
   ]
  },
  {
   "cell_type": "code",
   "execution_count": 111,
   "id": "5232a6fc-d445-47b1-a101-40d926318d6b",
   "metadata": {
    "tags": []
   },
   "outputs": [],
   "source": [
    "def uncharacterized_tax_group(x, tax_group='phylum'):\n",
    "    if type(x) == dict:\n",
    "        value = x.get(tax_group, None)\n",
    "        \n",
    "        # The specie does not have the phylum information\n",
    "        if value is None:\n",
    "            return None\n",
    "        \n",
    "        # Check if there is characterized TPS from the same phylum \n",
    "        if value in tps_db[tax_group].unique():\n",
    "            return False\n",
    "        else:\n",
    "            return True\n",
    "    else:\n",
    "        return None"
   ]
  },
  {
   "cell_type": "code",
   "execution_count": 119,
   "id": "2105ecd2-1f32-4b88-95cb-a5777efad688",
   "metadata": {
    "tags": []
   },
   "outputs": [
    {
     "name": "stderr",
     "output_type": "stream",
     "text": [
      "C:\\Users\\terca\\AppData\\Local\\Temp\\ipykernel_856\\153500747.py:1: SettingWithCopyWarning: \n",
      "A value is trying to be set on a copy of a slice from a DataFrame.\n",
      "Try using .loc[row_indexer,col_indexer] = value instead\n",
      "\n",
      "See the caveats in the documentation: https://pandas.pydata.org/pandas-docs/stable/user_guide/indexing.html#returning-a-view-versus-a-copy\n",
      "  anno_df['unchar_phylum'] = anno_df['lineage'].apply(lambda x: uncharacterized_tax_group(x, 'phylum'))\n"
     ]
    }
   ],
   "source": [
    "anno_df['unchar_phylum'] = anno_df['lineage'].apply(lambda x: uncharacterized_tax_group(x, 'phylum'))"
   ]
  },
  {
   "cell_type": "markdown",
   "id": "e1d3fa6a-fe82-466e-aabb-2f12f1a0e344",
   "metadata": {},
   "source": [
    "There are 35541 sequences from phyla not present in the TPS db.\n",
    "These are 216 distinct phyla. The sequences are in 60% from Bacteria, 20% Archaea and 20% Eukarya."
   ]
  },
  {
   "cell_type": "code",
   "execution_count": 126,
   "id": "941e9f42-9cfb-4774-b59a-6cc1f9b44140",
   "metadata": {
    "tags": []
   },
   "outputs": [
    {
     "data": {
      "text/plain": [
       "216"
      ]
     },
     "execution_count": 126,
     "metadata": {},
     "output_type": "execute_result"
    }
   ],
   "source": [
    "anno_df[anno_df['unchar_phylum']==True]['phylum'].nunique()"
   ]
  },
  {
   "cell_type": "code",
   "execution_count": 127,
   "id": "23a8612d-27b1-4003-9c8c-84bc985bf8ab",
   "metadata": {
    "tags": []
   },
   "outputs": [
    {
     "data": {
      "text/plain": [
       "superkingdom\n",
       "Bacteria     0.596241\n",
       "Archaea      0.207197\n",
       "Eukaryota    0.195324\n",
       "Viruses      0.001238\n",
       "Name: proportion, dtype: float64"
      ]
     },
     "execution_count": 127,
     "metadata": {},
     "output_type": "execute_result"
    }
   ],
   "source": [
    "anno_df[anno_df['unchar_phylum']==True]['superkingdom'].value_counts(normalize=True)"
   ]
  },
  {
   "cell_type": "code",
   "execution_count": 128,
   "id": "dfe69060-102e-417d-abf8-1198af272f1a",
   "metadata": {
    "tags": []
   },
   "outputs": [
    {
     "name": "stderr",
     "output_type": "stream",
     "text": [
      "C:\\Users\\terca\\AppData\\Local\\Temp\\ipykernel_856\\289151479.py:1: SettingWithCopyWarning: \n",
      "A value is trying to be set on a copy of a slice from a DataFrame.\n",
      "Try using .loc[row_indexer,col_indexer] = value instead\n",
      "\n",
      "See the caveats in the documentation: https://pandas.pydata.org/pandas-docs/stable/user_guide/indexing.html#returning-a-view-versus-a-copy\n",
      "  anno_df['unchar_class'] = anno_df['lineage'].apply(lambda x: uncharacterized_tax_group(x, 'class'))\n"
     ]
    }
   ],
   "source": [
    "anno_df['unchar_class'] = anno_df['lineage'].apply(lambda x: uncharacterized_tax_group(x, 'class'))"
   ]
  },
  {
   "cell_type": "code",
   "execution_count": 129,
   "id": "f755e3fc-1cae-4a66-85f2-3f3f99a4f612",
   "metadata": {
    "tags": []
   },
   "outputs": [
    {
     "name": "stderr",
     "output_type": "stream",
     "text": [
      "C:\\Users\\terca\\AppData\\Local\\Temp\\ipykernel_856\\3386436911.py:1: SettingWithCopyWarning: \n",
      "A value is trying to be set on a copy of a slice from a DataFrame.\n",
      "Try using .loc[row_indexer,col_indexer] = value instead\n",
      "\n",
      "See the caveats in the documentation: https://pandas.pydata.org/pandas-docs/stable/user_guide/indexing.html#returning-a-view-versus-a-copy\n",
      "  anno_df['unchar_order'] = anno_df['lineage'].apply(lambda x: uncharacterized_tax_group(x, 'order'))\n"
     ]
    }
   ],
   "source": [
    "anno_df['unchar_order'] = anno_df['lineage'].apply(lambda x: uncharacterized_tax_group(x, 'order'))"
   ]
  },
  {
   "cell_type": "code",
   "execution_count": 130,
   "id": "c1acacd1-052f-455b-9f43-f11744ebe5f7",
   "metadata": {
    "tags": []
   },
   "outputs": [
    {
     "name": "stderr",
     "output_type": "stream",
     "text": [
      "C:\\Users\\terca\\AppData\\Local\\Temp\\ipykernel_856\\716035138.py:1: SettingWithCopyWarning: \n",
      "A value is trying to be set on a copy of a slice from a DataFrame.\n",
      "Try using .loc[row_indexer,col_indexer] = value instead\n",
      "\n",
      "See the caveats in the documentation: https://pandas.pydata.org/pandas-docs/stable/user_guide/indexing.html#returning-a-view-versus-a-copy\n",
      "  anno_df['unchar_family'] = anno_df['lineage'].apply(lambda x: uncharacterized_tax_group(x, 'family'))\n"
     ]
    }
   ],
   "source": [
    "anno_df['unchar_family'] = anno_df['lineage'].apply(lambda x: uncharacterized_tax_group(x, 'family'))"
   ]
  },
  {
   "cell_type": "code",
   "execution_count": 131,
   "id": "03a01250-c647-4972-9602-66eb074e8099",
   "metadata": {
    "tags": []
   },
   "outputs": [
    {
     "name": "stderr",
     "output_type": "stream",
     "text": [
      "C:\\Users\\terca\\AppData\\Local\\Temp\\ipykernel_856\\1155281583.py:1: SettingWithCopyWarning: \n",
      "A value is trying to be set on a copy of a slice from a DataFrame.\n",
      "Try using .loc[row_indexer,col_indexer] = value instead\n",
      "\n",
      "See the caveats in the documentation: https://pandas.pydata.org/pandas-docs/stable/user_guide/indexing.html#returning-a-view-versus-a-copy\n",
      "  anno_df['unchar_genus'] = anno_df['lineage'].apply(lambda x: uncharacterized_tax_group(x, 'genus'))\n"
     ]
    }
   ],
   "source": [
    "anno_df['unchar_genus'] = anno_df['lineage'].apply(lambda x: uncharacterized_tax_group(x, 'genus'))"
   ]
  },
  {
   "cell_type": "code",
   "execution_count": 136,
   "id": "052ed885-c302-4047-a287-0dcabf7507a5",
   "metadata": {
    "tags": []
   },
   "outputs": [
    {
     "name": "stderr",
     "output_type": "stream",
     "text": [
      "C:\\Users\\terca\\AppData\\Local\\Temp\\ipykernel_856\\222861725.py:1: SettingWithCopyWarning: \n",
      "A value is trying to be set on a copy of a slice from a DataFrame.\n",
      "Try using .loc[row_indexer,col_indexer] = value instead\n",
      "\n",
      "See the caveats in the documentation: https://pandas.pydata.org/pandas-docs/stable/user_guide/indexing.html#returning-a-view-versus-a-copy\n",
      "  anno_df['unchar_species'] = anno_df['lineage'].apply(lambda x: uncharacterized_tax_group(x, 'species'))\n"
     ]
    }
   ],
   "source": [
    "anno_df['unchar_species'] = anno_df['lineage'].apply(lambda x: uncharacterized_tax_group(x, 'species'))"
   ]
  },
  {
   "cell_type": "code",
   "execution_count": 137,
   "id": "5d8f5b0a-58b6-4640-ad3a-1b704b059cbd",
   "metadata": {
    "tags": []
   },
   "outputs": [
    {
     "data": {
      "text/html": [
       "<div>\n",
       "<style scoped>\n",
       "    .dataframe tbody tr th:only-of-type {\n",
       "        vertical-align: middle;\n",
       "    }\n",
       "\n",
       "    .dataframe tbody tr th {\n",
       "        vertical-align: top;\n",
       "    }\n",
       "\n",
       "    .dataframe thead th {\n",
       "        text-align: right;\n",
       "    }\n",
       "</style>\n",
       "<table border=\"1\" class=\"dataframe\">\n",
       "  <thead>\n",
       "    <tr style=\"text-align: right;\">\n",
       "      <th></th>\n",
       "      <th>id</th>\n",
       "      <th>organism</th>\n",
       "      <th>tax_id</th>\n",
       "      <th>lineage</th>\n",
       "      <th>superkingdom</th>\n",
       "      <th>kingdom</th>\n",
       "      <th>phylum</th>\n",
       "      <th>unchar_phylum</th>\n",
       "      <th>unchar_class</th>\n",
       "      <th>unchar_order</th>\n",
       "      <th>unchar_family</th>\n",
       "      <th>unchar_genus</th>\n",
       "      <th>unchar_species</th>\n",
       "    </tr>\n",
       "  </thead>\n",
       "  <tbody>\n",
       "    <tr>\n",
       "      <th>0</th>\n",
       "      <td>bfd_106193</td>\n",
       "      <td>soil metagenome</td>\n",
       "      <td>410658</td>\n",
       "      <td>{'species': 'soil metagenome'}</td>\n",
       "      <td>Metagenome</td>\n",
       "      <td>environmental</td>\n",
       "      <td>unknown</td>\n",
       "      <td>None</td>\n",
       "      <td>None</td>\n",
       "      <td>None</td>\n",
       "      <td>None</td>\n",
       "      <td>None</td>\n",
       "      <td>True</td>\n",
       "    </tr>\n",
       "    <tr>\n",
       "      <th>1</th>\n",
       "      <td>bfd_118229</td>\n",
       "      <td>soil metagenome</td>\n",
       "      <td>410658</td>\n",
       "      <td>{'species': 'soil metagenome'}</td>\n",
       "      <td>Metagenome</td>\n",
       "      <td>environmental</td>\n",
       "      <td>unknown</td>\n",
       "      <td>None</td>\n",
       "      <td>None</td>\n",
       "      <td>None</td>\n",
       "      <td>None</td>\n",
       "      <td>None</td>\n",
       "      <td>True</td>\n",
       "    </tr>\n",
       "    <tr>\n",
       "      <th>2</th>\n",
       "      <td>bfd_059047</td>\n",
       "      <td>unknown</td>\n",
       "      <td>error</td>\n",
       "      <td>error</td>\n",
       "      <td>unknown</td>\n",
       "      <td>unknown</td>\n",
       "      <td>unknown</td>\n",
       "      <td>None</td>\n",
       "      <td>None</td>\n",
       "      <td>None</td>\n",
       "      <td>None</td>\n",
       "      <td>None</td>\n",
       "      <td>None</td>\n",
       "    </tr>\n",
       "    <tr>\n",
       "      <th>3</th>\n",
       "      <td>bfd_096880</td>\n",
       "      <td>Absidia repens</td>\n",
       "      <td>90262</td>\n",
       "      <td>{'species': 'Absidia repens', 'genus': 'Absidi...</td>\n",
       "      <td>Eukaryota</td>\n",
       "      <td>Fungi</td>\n",
       "      <td>Mucoromycota</td>\n",
       "      <td>True</td>\n",
       "      <td>True</td>\n",
       "      <td>True</td>\n",
       "      <td>True</td>\n",
       "      <td>True</td>\n",
       "      <td>True</td>\n",
       "    </tr>\n",
       "    <tr>\n",
       "      <th>4</th>\n",
       "      <td>bfd_097326</td>\n",
       "      <td>soil metagenome</td>\n",
       "      <td>410658</td>\n",
       "      <td>{'species': 'soil metagenome'}</td>\n",
       "      <td>Metagenome</td>\n",
       "      <td>environmental</td>\n",
       "      <td>unknown</td>\n",
       "      <td>None</td>\n",
       "      <td>None</td>\n",
       "      <td>None</td>\n",
       "      <td>None</td>\n",
       "      <td>None</td>\n",
       "      <td>True</td>\n",
       "    </tr>\n",
       "    <tr>\n",
       "      <th>...</th>\n",
       "      <td>...</td>\n",
       "      <td>...</td>\n",
       "      <td>...</td>\n",
       "      <td>...</td>\n",
       "      <td>...</td>\n",
       "      <td>...</td>\n",
       "      <td>...</td>\n",
       "      <td>...</td>\n",
       "      <td>...</td>\n",
       "      <td>...</td>\n",
       "      <td>...</td>\n",
       "      <td>...</td>\n",
       "      <td>...</td>\n",
       "    </tr>\n",
       "    <tr>\n",
       "      <th>682466</th>\n",
       "      <td>uniprot_163936</td>\n",
       "      <td>Corynebacterium aquilae DSM 44791</td>\n",
       "      <td>1431546</td>\n",
       "      <td>{'species': 'Corynebacterium aquilae', 'genus'...</td>\n",
       "      <td>Bacteria</td>\n",
       "      <td>unknown</td>\n",
       "      <td>Actinomycetota</td>\n",
       "      <td>False</td>\n",
       "      <td>False</td>\n",
       "      <td>False</td>\n",
       "      <td>True</td>\n",
       "      <td>True</td>\n",
       "      <td>True</td>\n",
       "    </tr>\n",
       "    <tr>\n",
       "      <th>682467</th>\n",
       "      <td>uniprot_188186</td>\n",
       "      <td>Pygocentrus nattereri</td>\n",
       "      <td>42514</td>\n",
       "      <td>{'species': 'Pygocentrus nattereri', 'genus': ...</td>\n",
       "      <td>Eukaryota</td>\n",
       "      <td>Metazoa</td>\n",
       "      <td>Chordata</td>\n",
       "      <td>False</td>\n",
       "      <td>True</td>\n",
       "      <td>True</td>\n",
       "      <td>True</td>\n",
       "      <td>True</td>\n",
       "      <td>True</td>\n",
       "    </tr>\n",
       "    <tr>\n",
       "      <th>682468</th>\n",
       "      <td>uniprot_229305</td>\n",
       "      <td>Treponema sp.</td>\n",
       "      <td>166</td>\n",
       "      <td>{'species': 'Treponema sp.', 'genus': 'Trepone...</td>\n",
       "      <td>Bacteria</td>\n",
       "      <td>unknown</td>\n",
       "      <td>Spirochaetota</td>\n",
       "      <td>True</td>\n",
       "      <td>True</td>\n",
       "      <td>True</td>\n",
       "      <td>True</td>\n",
       "      <td>True</td>\n",
       "      <td>True</td>\n",
       "    </tr>\n",
       "    <tr>\n",
       "      <th>682469</th>\n",
       "      <td>uniprot_181461</td>\n",
       "      <td>Photobacterium phosphoreum</td>\n",
       "      <td>659</td>\n",
       "      <td>{'species': 'Photobacterium phosphoreum', 'gen...</td>\n",
       "      <td>Bacteria</td>\n",
       "      <td>unknown</td>\n",
       "      <td>Pseudomonadota</td>\n",
       "      <td>False</td>\n",
       "      <td>False</td>\n",
       "      <td>True</td>\n",
       "      <td>True</td>\n",
       "      <td>True</td>\n",
       "      <td>True</td>\n",
       "    </tr>\n",
       "    <tr>\n",
       "      <th>682470</th>\n",
       "      <td>uniprot_154916</td>\n",
       "      <td>Sorangium cellulosum</td>\n",
       "      <td>56</td>\n",
       "      <td>{'species': 'Sorangium cellulosum', 'genus': '...</td>\n",
       "      <td>Bacteria</td>\n",
       "      <td>unknown</td>\n",
       "      <td>Myxococcota</td>\n",
       "      <td>False</td>\n",
       "      <td>None</td>\n",
       "      <td>False</td>\n",
       "      <td>False</td>\n",
       "      <td>False</td>\n",
       "      <td>False</td>\n",
       "    </tr>\n",
       "  </tbody>\n",
       "</table>\n",
       "<p>682471 rows × 13 columns</p>\n",
       "</div>"
      ],
      "text/plain": [
       "                    id                           organism   tax_id  \\\n",
       "0           bfd_106193                    soil metagenome   410658   \n",
       "1           bfd_118229                    soil metagenome   410658   \n",
       "2           bfd_059047                            unknown    error   \n",
       "3           bfd_096880                     Absidia repens    90262   \n",
       "4           bfd_097326                    soil metagenome   410658   \n",
       "...                ...                                ...      ...   \n",
       "682466  uniprot_163936  Corynebacterium aquilae DSM 44791  1431546   \n",
       "682467  uniprot_188186              Pygocentrus nattereri    42514   \n",
       "682468  uniprot_229305                      Treponema sp.      166   \n",
       "682469  uniprot_181461         Photobacterium phosphoreum      659   \n",
       "682470  uniprot_154916               Sorangium cellulosum       56   \n",
       "\n",
       "                                                  lineage superkingdom  \\\n",
       "0                          {'species': 'soil metagenome'}   Metagenome   \n",
       "1                          {'species': 'soil metagenome'}   Metagenome   \n",
       "2                                                   error      unknown   \n",
       "3       {'species': 'Absidia repens', 'genus': 'Absidi...    Eukaryota   \n",
       "4                          {'species': 'soil metagenome'}   Metagenome   \n",
       "...                                                   ...          ...   \n",
       "682466  {'species': 'Corynebacterium aquilae', 'genus'...     Bacteria   \n",
       "682467  {'species': 'Pygocentrus nattereri', 'genus': ...    Eukaryota   \n",
       "682468  {'species': 'Treponema sp.', 'genus': 'Trepone...     Bacteria   \n",
       "682469  {'species': 'Photobacterium phosphoreum', 'gen...     Bacteria   \n",
       "682470  {'species': 'Sorangium cellulosum', 'genus': '...     Bacteria   \n",
       "\n",
       "              kingdom          phylum unchar_phylum unchar_class unchar_order  \\\n",
       "0       environmental         unknown          None         None         None   \n",
       "1       environmental         unknown          None         None         None   \n",
       "2             unknown         unknown          None         None         None   \n",
       "3               Fungi    Mucoromycota          True         True         True   \n",
       "4       environmental         unknown          None         None         None   \n",
       "...               ...             ...           ...          ...          ...   \n",
       "682466        unknown  Actinomycetota         False        False        False   \n",
       "682467        Metazoa        Chordata         False         True         True   \n",
       "682468        unknown   Spirochaetota          True         True         True   \n",
       "682469        unknown  Pseudomonadota         False        False         True   \n",
       "682470        unknown     Myxococcota         False         None        False   \n",
       "\n",
       "       unchar_family unchar_genus unchar_species  \n",
       "0               None         None           True  \n",
       "1               None         None           True  \n",
       "2               None         None           None  \n",
       "3               True         True           True  \n",
       "4               None         None           True  \n",
       "...              ...          ...            ...  \n",
       "682466          True         True           True  \n",
       "682467          True         True           True  \n",
       "682468          True         True           True  \n",
       "682469          True         True           True  \n",
       "682470         False        False          False  \n",
       "\n",
       "[682471 rows x 13 columns]"
      ]
     },
     "execution_count": 137,
     "metadata": {},
     "output_type": "execute_result"
    }
   ],
   "source": [
    "anno_df"
   ]
  },
  {
   "cell_type": "code",
   "execution_count": 138,
   "id": "bc5d5cd3-fdee-4326-83b4-28ce27dda33d",
   "metadata": {
    "tags": []
   },
   "outputs": [],
   "source": [
    "def get_tax_score(x):\n",
    "    if x['unchar_phylum'] == True:\n",
    "        return 1\n",
    "    elif x['unchar_class'] == True:\n",
    "        return 0.8\n",
    "    elif x['unchar_order'] == True:\n",
    "        return 0.6\n",
    "    elif x['unchar_family'] == True:\n",
    "        return 0.4\n",
    "    elif x['unchar_genus'] == True:\n",
    "        return 0.2\n",
    "    elif x['unchar_species'] == False:\n",
    "        return 0\n",
    "    elif x['superkingdom'] == 'Metagenome':\n",
    "        return 0\n",
    "    elif x['superkingdom'] == 'unknown':\n",
    "        return 0\n",
    "    elif x['unchar_species'] == True:\n",
    "        return 0.1\n",
    "    else:\n",
    "        return 0"
   ]
  },
  {
   "cell_type": "code",
   "execution_count": 140,
   "id": "c755f844-84d5-4676-acdf-c7bbdba929e3",
   "metadata": {
    "tags": []
   },
   "outputs": [
    {
     "name": "stderr",
     "output_type": "stream",
     "text": [
      "C:\\Users\\terca\\AppData\\Local\\Temp\\ipykernel_856\\790180379.py:1: SettingWithCopyWarning: \n",
      "A value is trying to be set on a copy of a slice from a DataFrame.\n",
      "Try using .loc[row_indexer,col_indexer] = value instead\n",
      "\n",
      "See the caveats in the documentation: https://pandas.pydata.org/pandas-docs/stable/user_guide/indexing.html#returning-a-view-versus-a-copy\n",
      "  anno_df['tax_score'] = anno_df.apply(lambda x: get_tax_score(x), axis=1)\n"
     ]
    }
   ],
   "source": [
    "anno_df['tax_score'] = anno_df.apply(lambda x: get_tax_score(x), axis=1)"
   ]
  },
  {
   "cell_type": "code",
   "execution_count": 147,
   "id": "63181692-c5ac-41a0-820f-a4d149ad4a1f",
   "metadata": {
    "tags": []
   },
   "outputs": [
    {
     "data": {
      "text/html": [
       "<div>\n",
       "<style scoped>\n",
       "    .dataframe tbody tr th:only-of-type {\n",
       "        vertical-align: middle;\n",
       "    }\n",
       "\n",
       "    .dataframe tbody tr th {\n",
       "        vertical-align: top;\n",
       "    }\n",
       "\n",
       "    .dataframe thead th {\n",
       "        text-align: right;\n",
       "    }\n",
       "</style>\n",
       "<table border=\"1\" class=\"dataframe\">\n",
       "  <thead>\n",
       "    <tr style=\"text-align: right;\">\n",
       "      <th></th>\n",
       "      <th>id</th>\n",
       "      <th>organism</th>\n",
       "      <th>tax_id</th>\n",
       "      <th>lineage</th>\n",
       "      <th>superkingdom</th>\n",
       "      <th>kingdom</th>\n",
       "      <th>phylum</th>\n",
       "      <th>unchar_phylum</th>\n",
       "      <th>unchar_class</th>\n",
       "      <th>unchar_order</th>\n",
       "      <th>unchar_family</th>\n",
       "      <th>unchar_genus</th>\n",
       "      <th>unchar_species</th>\n",
       "      <th>tax_score</th>\n",
       "    </tr>\n",
       "  </thead>\n",
       "  <tbody>\n",
       "    <tr>\n",
       "      <th>3</th>\n",
       "      <td>bfd_096880</td>\n",
       "      <td>Absidia repens</td>\n",
       "      <td>90262</td>\n",
       "      <td>{'species': 'Absidia repens', 'genus': 'Absidi...</td>\n",
       "      <td>Eukaryota</td>\n",
       "      <td>Fungi</td>\n",
       "      <td>Mucoromycota</td>\n",
       "      <td>True</td>\n",
       "      <td>True</td>\n",
       "      <td>True</td>\n",
       "      <td>True</td>\n",
       "      <td>True</td>\n",
       "      <td>True</td>\n",
       "      <td>1.0</td>\n",
       "    </tr>\n",
       "    <tr>\n",
       "      <th>457422</th>\n",
       "      <td>tsa_041694</td>\n",
       "      <td>Hirudo medicinalis</td>\n",
       "      <td>6421</td>\n",
       "      <td>{'species': 'Hirudo medicinalis', 'genus': 'Hi...</td>\n",
       "      <td>Eukaryota</td>\n",
       "      <td>Metazoa</td>\n",
       "      <td>Annelida</td>\n",
       "      <td>True</td>\n",
       "      <td>True</td>\n",
       "      <td>True</td>\n",
       "      <td>True</td>\n",
       "      <td>True</td>\n",
       "      <td>True</td>\n",
       "      <td>1.0</td>\n",
       "    </tr>\n",
       "    <tr>\n",
       "      <th>457479</th>\n",
       "      <td>tsa_040094</td>\n",
       "      <td>Evechinus chloroticus</td>\n",
       "      <td>137513</td>\n",
       "      <td>{'species': 'Evechinus chloroticus', 'genus': ...</td>\n",
       "      <td>Eukaryota</td>\n",
       "      <td>Metazoa</td>\n",
       "      <td>Echinodermata</td>\n",
       "      <td>True</td>\n",
       "      <td>True</td>\n",
       "      <td>True</td>\n",
       "      <td>True</td>\n",
       "      <td>True</td>\n",
       "      <td>True</td>\n",
       "      <td>1.0</td>\n",
       "    </tr>\n",
       "    <tr>\n",
       "      <th>457477</th>\n",
       "      <td>tsa_057529</td>\n",
       "      <td>Stauroneis constricta</td>\n",
       "      <td>265584</td>\n",
       "      <td>{'species': 'Stauroneis constricta', 'genus': ...</td>\n",
       "      <td>Eukaryota</td>\n",
       "      <td>unknown</td>\n",
       "      <td>Bacillariophyta</td>\n",
       "      <td>True</td>\n",
       "      <td>True</td>\n",
       "      <td>True</td>\n",
       "      <td>True</td>\n",
       "      <td>True</td>\n",
       "      <td>True</td>\n",
       "      <td>1.0</td>\n",
       "    </tr>\n",
       "    <tr>\n",
       "      <th>457475</th>\n",
       "      <td>tsa_048409</td>\n",
       "      <td>Spirobranchus lamarcki</td>\n",
       "      <td>2082999</td>\n",
       "      <td>{'species': 'Spirobranchus lamarcki', 'genus':...</td>\n",
       "      <td>Eukaryota</td>\n",
       "      <td>Metazoa</td>\n",
       "      <td>Annelida</td>\n",
       "      <td>True</td>\n",
       "      <td>True</td>\n",
       "      <td>True</td>\n",
       "      <td>True</td>\n",
       "      <td>True</td>\n",
       "      <td>True</td>\n",
       "      <td>1.0</td>\n",
       "    </tr>\n",
       "    <tr>\n",
       "      <th>...</th>\n",
       "      <td>...</td>\n",
       "      <td>...</td>\n",
       "      <td>...</td>\n",
       "      <td>...</td>\n",
       "      <td>...</td>\n",
       "      <td>...</td>\n",
       "      <td>...</td>\n",
       "      <td>...</td>\n",
       "      <td>...</td>\n",
       "      <td>...</td>\n",
       "      <td>...</td>\n",
       "      <td>...</td>\n",
       "      <td>...</td>\n",
       "      <td>...</td>\n",
       "    </tr>\n",
       "    <tr>\n",
       "      <th>484035</th>\n",
       "      <td>uniprot_016265</td>\n",
       "      <td>Nicotiana sylvestris</td>\n",
       "      <td>4096</td>\n",
       "      <td>{'species': 'Nicotiana sylvestris', 'genus': '...</td>\n",
       "      <td>Eukaryota</td>\n",
       "      <td>Viridiplantae</td>\n",
       "      <td>Streptophyta</td>\n",
       "      <td>False</td>\n",
       "      <td>False</td>\n",
       "      <td>False</td>\n",
       "      <td>False</td>\n",
       "      <td>False</td>\n",
       "      <td>False</td>\n",
       "      <td>0.0</td>\n",
       "    </tr>\n",
       "    <tr>\n",
       "      <th>484043</th>\n",
       "      <td>uniprot_041927</td>\n",
       "      <td>Olea europaea subsp. europaea</td>\n",
       "      <td>158383</td>\n",
       "      <td>{'species': 'Olea europaea', 'genus': 'Olea', ...</td>\n",
       "      <td>Eukaryota</td>\n",
       "      <td>Viridiplantae</td>\n",
       "      <td>Streptophyta</td>\n",
       "      <td>False</td>\n",
       "      <td>False</td>\n",
       "      <td>False</td>\n",
       "      <td>False</td>\n",
       "      <td>False</td>\n",
       "      <td>False</td>\n",
       "      <td>0.0</td>\n",
       "    </tr>\n",
       "    <tr>\n",
       "      <th>42887</th>\n",
       "      <td>bfd_029749</td>\n",
       "      <td>Metarhizium majus (strain ARSEF 297)</td>\n",
       "      <td>1650735</td>\n",
       "      <td>{'species': 'Metarhizium majus', 'genus': 'Met...</td>\n",
       "      <td>Eukaryota</td>\n",
       "      <td>Fungi</td>\n",
       "      <td>Ascomycota</td>\n",
       "      <td>False</td>\n",
       "      <td>False</td>\n",
       "      <td>False</td>\n",
       "      <td>False</td>\n",
       "      <td>False</td>\n",
       "      <td>False</td>\n",
       "      <td>0.0</td>\n",
       "    </tr>\n",
       "    <tr>\n",
       "      <th>484055</th>\n",
       "      <td>uniprot_017026</td>\n",
       "      <td>Gossypium arboreum</td>\n",
       "      <td>29729</td>\n",
       "      <td>{'species': 'Gossypium arboreum', 'genus': 'Go...</td>\n",
       "      <td>Eukaryota</td>\n",
       "      <td>Viridiplantae</td>\n",
       "      <td>Streptophyta</td>\n",
       "      <td>False</td>\n",
       "      <td>False</td>\n",
       "      <td>False</td>\n",
       "      <td>False</td>\n",
       "      <td>False</td>\n",
       "      <td>False</td>\n",
       "      <td>0.0</td>\n",
       "    </tr>\n",
       "    <tr>\n",
       "      <th>473827</th>\n",
       "      <td>uniprot_116082</td>\n",
       "      <td>Ricinus communis</td>\n",
       "      <td>3988</td>\n",
       "      <td>{'species': 'Ricinus communis', 'genus': 'Rici...</td>\n",
       "      <td>Eukaryota</td>\n",
       "      <td>Viridiplantae</td>\n",
       "      <td>Streptophyta</td>\n",
       "      <td>False</td>\n",
       "      <td>False</td>\n",
       "      <td>False</td>\n",
       "      <td>False</td>\n",
       "      <td>False</td>\n",
       "      <td>False</td>\n",
       "      <td>0.0</td>\n",
       "    </tr>\n",
       "  </tbody>\n",
       "</table>\n",
       "<p>134071 rows × 14 columns</p>\n",
       "</div>"
      ],
      "text/plain": [
       "                    id                              organism   tax_id  \\\n",
       "3           bfd_096880                        Absidia repens    90262   \n",
       "457422      tsa_041694                    Hirudo medicinalis     6421   \n",
       "457479      tsa_040094                 Evechinus chloroticus   137513   \n",
       "457477      tsa_057529                 Stauroneis constricta   265584   \n",
       "457475      tsa_048409                Spirobranchus lamarcki  2082999   \n",
       "...                ...                                   ...      ...   \n",
       "484035  uniprot_016265                  Nicotiana sylvestris     4096   \n",
       "484043  uniprot_041927         Olea europaea subsp. europaea   158383   \n",
       "42887       bfd_029749  Metarhizium majus (strain ARSEF 297)  1650735   \n",
       "484055  uniprot_017026                    Gossypium arboreum    29729   \n",
       "473827  uniprot_116082                      Ricinus communis     3988   \n",
       "\n",
       "                                                  lineage superkingdom  \\\n",
       "3       {'species': 'Absidia repens', 'genus': 'Absidi...    Eukaryota   \n",
       "457422  {'species': 'Hirudo medicinalis', 'genus': 'Hi...    Eukaryota   \n",
       "457479  {'species': 'Evechinus chloroticus', 'genus': ...    Eukaryota   \n",
       "457477  {'species': 'Stauroneis constricta', 'genus': ...    Eukaryota   \n",
       "457475  {'species': 'Spirobranchus lamarcki', 'genus':...    Eukaryota   \n",
       "...                                                   ...          ...   \n",
       "484035  {'species': 'Nicotiana sylvestris', 'genus': '...    Eukaryota   \n",
       "484043  {'species': 'Olea europaea', 'genus': 'Olea', ...    Eukaryota   \n",
       "42887   {'species': 'Metarhizium majus', 'genus': 'Met...    Eukaryota   \n",
       "484055  {'species': 'Gossypium arboreum', 'genus': 'Go...    Eukaryota   \n",
       "473827  {'species': 'Ricinus communis', 'genus': 'Rici...    Eukaryota   \n",
       "\n",
       "              kingdom           phylum unchar_phylum unchar_class  \\\n",
       "3               Fungi     Mucoromycota          True         True   \n",
       "457422        Metazoa         Annelida          True         True   \n",
       "457479        Metazoa    Echinodermata          True         True   \n",
       "457477        unknown  Bacillariophyta          True         True   \n",
       "457475        Metazoa         Annelida          True         True   \n",
       "...               ...              ...           ...          ...   \n",
       "484035  Viridiplantae     Streptophyta         False        False   \n",
       "484043  Viridiplantae     Streptophyta         False        False   \n",
       "42887           Fungi       Ascomycota         False        False   \n",
       "484055  Viridiplantae     Streptophyta         False        False   \n",
       "473827  Viridiplantae     Streptophyta         False        False   \n",
       "\n",
       "       unchar_order unchar_family unchar_genus unchar_species  tax_score  \n",
       "3              True          True         True           True        1.0  \n",
       "457422         True          True         True           True        1.0  \n",
       "457479         True          True         True           True        1.0  \n",
       "457477         True          True         True           True        1.0  \n",
       "457475         True          True         True           True        1.0  \n",
       "...             ...           ...          ...            ...        ...  \n",
       "484035        False         False        False          False        0.0  \n",
       "484043        False         False        False          False        0.0  \n",
       "42887         False         False        False          False        0.0  \n",
       "484055        False         False        False          False        0.0  \n",
       "473827        False         False        False          False        0.0  \n",
       "\n",
       "[134071 rows x 14 columns]"
      ]
     },
     "execution_count": 147,
     "metadata": {},
     "output_type": "execute_result"
    }
   ],
   "source": [
    "anno_df[anno_df['superkingdom'] == 'Eukaryota'].sort_values(by='tax_score', ascending=False)"
   ]
  },
  {
   "cell_type": "code",
   "execution_count": 150,
   "id": "80e162fc-ab3e-49e0-8f6b-eaae925651e6",
   "metadata": {
    "tags": []
   },
   "outputs": [
    {
     "data": {
      "text/plain": [
       "phylum\n",
       "Bacillariophyta       1099\n",
       "Nematoda               852\n",
       "Mollusca               724\n",
       "Haptophyta             708\n",
       "Mucoromycota           684\n",
       "Platyhelminthes        382\n",
       "Rotifera               323\n",
       "Oomycota               284\n",
       "Euglenozoa             242\n",
       "Apicomplexa            242\n",
       "Echinodermata          211\n",
       "Annelida               177\n",
       "Chytridiomycota        134\n",
       "Ciliophora             110\n",
       "Zoopagomycota          108\n",
       "Cercozoa                92\n",
       "Foraminifera            83\n",
       "Discosea                72\n",
       "Heterolobosea           59\n",
       "Blastocladiomycota      43\n",
       "Tardigrada              39\n",
       "Ctenophora              37\n",
       "Bryozoa                 24\n",
       "Hemichordata            22\n",
       "Onychophora             20\n",
       "Xenacoelomorpha         18\n",
       "Prasinodermophyta       17\n",
       "Entoprocta              17\n",
       "Placozoa                15\n",
       "Microsporidia           13\n",
       "Perkinsozoa             11\n",
       "Brachiopoda             10\n",
       "Parabasalia             10\n",
       "Endomyxa                10\n",
       "Phoronida                9\n",
       "Fornicata                8\n",
       "Priapulida               6\n",
       "Tubulinea                6\n",
       "Dicyemida                5\n",
       "Nebulidia                4\n",
       "Preaxostyla              4\n",
       "Cryptomycota             3\n",
       "Nemertea                 3\n",
       "Acanthocephala           1\n",
       "Orthonectida             1\n",
       "Name: count, dtype: int64"
      ]
     },
     "execution_count": 150,
     "metadata": {},
     "output_type": "execute_result"
    }
   ],
   "source": [
    "anno_df[(anno_df['superkingdom'] == 'Eukaryota') & (anno_df['unchar_phylum'] == True)]['phylum'].value_counts()"
   ]
  },
  {
   "cell_type": "code",
   "execution_count": 143,
   "id": "95d3a640-2da8-424c-ba2d-b1bbe736fa83",
   "metadata": {
    "tags": []
   },
   "outputs": [
    {
     "data": {
      "text/html": [
       "<div>\n",
       "<style scoped>\n",
       "    .dataframe tbody tr th:only-of-type {\n",
       "        vertical-align: middle;\n",
       "    }\n",
       "\n",
       "    .dataframe tbody tr th {\n",
       "        vertical-align: top;\n",
       "    }\n",
       "\n",
       "    .dataframe thead th {\n",
       "        text-align: right;\n",
       "    }\n",
       "</style>\n",
       "<table border=\"1\" class=\"dataframe\">\n",
       "  <thead>\n",
       "    <tr style=\"text-align: right;\">\n",
       "      <th></th>\n",
       "      <th>id</th>\n",
       "      <th>organism</th>\n",
       "      <th>tax_id</th>\n",
       "      <th>lineage</th>\n",
       "      <th>superkingdom</th>\n",
       "      <th>kingdom</th>\n",
       "      <th>phylum</th>\n",
       "      <th>unchar_phylum</th>\n",
       "      <th>unchar_class</th>\n",
       "      <th>unchar_order</th>\n",
       "      <th>unchar_family</th>\n",
       "      <th>unchar_genus</th>\n",
       "      <th>unchar_species</th>\n",
       "      <th>tax_score</th>\n",
       "    </tr>\n",
       "  </thead>\n",
       "  <tbody>\n",
       "    <tr>\n",
       "      <th>578174</th>\n",
       "      <td>uniprot_140309</td>\n",
       "      <td>Desulfurobacterium sp. TC5-1</td>\n",
       "      <td>1158318</td>\n",
       "      <td>{'species': 'Desulfurobacterium sp. TC5-1', 'g...</td>\n",
       "      <td>Bacteria</td>\n",
       "      <td>unknown</td>\n",
       "      <td>Aquificota</td>\n",
       "      <td>True</td>\n",
       "      <td>True</td>\n",
       "      <td>True</td>\n",
       "      <td>True</td>\n",
       "      <td>True</td>\n",
       "      <td>True</td>\n",
       "      <td>1.0</td>\n",
       "    </tr>\n",
       "    <tr>\n",
       "      <th>31998</th>\n",
       "      <td>bfd_007245</td>\n",
       "      <td>Euryarchaeota archaeon</td>\n",
       "      <td>2026739</td>\n",
       "      <td>{'species': 'Euryarchaeota archaeon', 'phylum'...</td>\n",
       "      <td>Archaea</td>\n",
       "      <td>unknown</td>\n",
       "      <td>Euryarchaeota</td>\n",
       "      <td>True</td>\n",
       "      <td>None</td>\n",
       "      <td>None</td>\n",
       "      <td>None</td>\n",
       "      <td>None</td>\n",
       "      <td>True</td>\n",
       "      <td>1.0</td>\n",
       "    </tr>\n",
       "    <tr>\n",
       "      <th>139767</th>\n",
       "      <td>bfd_196253</td>\n",
       "      <td>Micavibrio sp</td>\n",
       "      <td>2024841.0</td>\n",
       "      <td>{'species': 'Micavibrio sp.', 'genus': 'Micavi...</td>\n",
       "      <td>Bacteria</td>\n",
       "      <td>unknown</td>\n",
       "      <td>Bdellovibrionota</td>\n",
       "      <td>True</td>\n",
       "      <td>True</td>\n",
       "      <td>True</td>\n",
       "      <td>True</td>\n",
       "      <td>True</td>\n",
       "      <td>True</td>\n",
       "      <td>1.0</td>\n",
       "    </tr>\n",
       "    <tr>\n",
       "      <th>510819</th>\n",
       "      <td>uniprot_053734</td>\n",
       "      <td>Candidatus Poseidoniales archaeon</td>\n",
       "      <td>2163009</td>\n",
       "      <td>{'species': 'Candidatus Poseidoniales archaeon...</td>\n",
       "      <td>Archaea</td>\n",
       "      <td>unknown</td>\n",
       "      <td>Candidatus Thermoplasmatota</td>\n",
       "      <td>True</td>\n",
       "      <td>True</td>\n",
       "      <td>True</td>\n",
       "      <td>None</td>\n",
       "      <td>None</td>\n",
       "      <td>True</td>\n",
       "      <td>1.0</td>\n",
       "    </tr>\n",
       "    <tr>\n",
       "      <th>623412</th>\n",
       "      <td>uniprot_189885</td>\n",
       "      <td>Halobellus sp. Atlit-31R</td>\n",
       "      <td>2282130</td>\n",
       "      <td>{'species': 'Halobellus sp. Atlit-31R', 'genus...</td>\n",
       "      <td>Archaea</td>\n",
       "      <td>unknown</td>\n",
       "      <td>Euryarchaeota</td>\n",
       "      <td>True</td>\n",
       "      <td>True</td>\n",
       "      <td>True</td>\n",
       "      <td>True</td>\n",
       "      <td>True</td>\n",
       "      <td>True</td>\n",
       "      <td>1.0</td>\n",
       "    </tr>\n",
       "    <tr>\n",
       "      <th>...</th>\n",
       "      <td>...</td>\n",
       "      <td>...</td>\n",
       "      <td>...</td>\n",
       "      <td>...</td>\n",
       "      <td>...</td>\n",
       "      <td>...</td>\n",
       "      <td>...</td>\n",
       "      <td>...</td>\n",
       "      <td>...</td>\n",
       "      <td>...</td>\n",
       "      <td>...</td>\n",
       "      <td>...</td>\n",
       "      <td>...</td>\n",
       "      <td>...</td>\n",
       "    </tr>\n",
       "    <tr>\n",
       "      <th>254447</th>\n",
       "      <td>mgnify_new_182426</td>\n",
       "      <td>unknown</td>\n",
       "      <td>unknown</td>\n",
       "      <td>root:Environmental:Aquatic:Freshwater:Pond:Sed...</td>\n",
       "      <td>Metagenome</td>\n",
       "      <td>Environmental</td>\n",
       "      <td>unknown</td>\n",
       "      <td>None</td>\n",
       "      <td>None</td>\n",
       "      <td>None</td>\n",
       "      <td>None</td>\n",
       "      <td>None</td>\n",
       "      <td>None</td>\n",
       "      <td>0.0</td>\n",
       "    </tr>\n",
       "    <tr>\n",
       "      <th>254448</th>\n",
       "      <td>mgnify_new_143774</td>\n",
       "      <td>unknown</td>\n",
       "      <td>unknown</td>\n",
       "      <td>root:Mixed</td>\n",
       "      <td>Metagenome</td>\n",
       "      <td>Mixed</td>\n",
       "      <td>unknown</td>\n",
       "      <td>None</td>\n",
       "      <td>None</td>\n",
       "      <td>None</td>\n",
       "      <td>None</td>\n",
       "      <td>None</td>\n",
       "      <td>None</td>\n",
       "      <td>0.0</td>\n",
       "    </tr>\n",
       "    <tr>\n",
       "      <th>254449</th>\n",
       "      <td>mgnify_new_155551</td>\n",
       "      <td>unknown</td>\n",
       "      <td>unknown</td>\n",
       "      <td>root:Mixed</td>\n",
       "      <td>Metagenome</td>\n",
       "      <td>Mixed</td>\n",
       "      <td>unknown</td>\n",
       "      <td>None</td>\n",
       "      <td>None</td>\n",
       "      <td>None</td>\n",
       "      <td>None</td>\n",
       "      <td>None</td>\n",
       "      <td>None</td>\n",
       "      <td>0.0</td>\n",
       "    </tr>\n",
       "    <tr>\n",
       "      <th>254450</th>\n",
       "      <td>mgnify_new_112974</td>\n",
       "      <td>unknown</td>\n",
       "      <td>unknown</td>\n",
       "      <td>NaN</td>\n",
       "      <td>Metagenome</td>\n",
       "      <td>NaN</td>\n",
       "      <td>unknown</td>\n",
       "      <td>None</td>\n",
       "      <td>None</td>\n",
       "      <td>None</td>\n",
       "      <td>None</td>\n",
       "      <td>None</td>\n",
       "      <td>None</td>\n",
       "      <td>0.0</td>\n",
       "    </tr>\n",
       "    <tr>\n",
       "      <th>682470</th>\n",
       "      <td>uniprot_154916</td>\n",
       "      <td>Sorangium cellulosum</td>\n",
       "      <td>56</td>\n",
       "      <td>{'species': 'Sorangium cellulosum', 'genus': '...</td>\n",
       "      <td>Bacteria</td>\n",
       "      <td>unknown</td>\n",
       "      <td>Myxococcota</td>\n",
       "      <td>False</td>\n",
       "      <td>None</td>\n",
       "      <td>False</td>\n",
       "      <td>False</td>\n",
       "      <td>False</td>\n",
       "      <td>False</td>\n",
       "      <td>0.0</td>\n",
       "    </tr>\n",
       "  </tbody>\n",
       "</table>\n",
       "<p>682471 rows × 14 columns</p>\n",
       "</div>"
      ],
      "text/plain": [
       "                       id                           organism     tax_id  \\\n",
       "578174     uniprot_140309       Desulfurobacterium sp. TC5-1    1158318   \n",
       "31998          bfd_007245             Euryarchaeota archaeon    2026739   \n",
       "139767         bfd_196253                      Micavibrio sp  2024841.0   \n",
       "510819     uniprot_053734  Candidatus Poseidoniales archaeon    2163009   \n",
       "623412     uniprot_189885           Halobellus sp. Atlit-31R    2282130   \n",
       "...                   ...                                ...        ...   \n",
       "254447  mgnify_new_182426                            unknown    unknown   \n",
       "254448  mgnify_new_143774                            unknown    unknown   \n",
       "254449  mgnify_new_155551                            unknown    unknown   \n",
       "254450  mgnify_new_112974                            unknown    unknown   \n",
       "682470     uniprot_154916               Sorangium cellulosum         56   \n",
       "\n",
       "                                                  lineage superkingdom  \\\n",
       "578174  {'species': 'Desulfurobacterium sp. TC5-1', 'g...     Bacteria   \n",
       "31998   {'species': 'Euryarchaeota archaeon', 'phylum'...      Archaea   \n",
       "139767  {'species': 'Micavibrio sp.', 'genus': 'Micavi...     Bacteria   \n",
       "510819  {'species': 'Candidatus Poseidoniales archaeon...      Archaea   \n",
       "623412  {'species': 'Halobellus sp. Atlit-31R', 'genus...      Archaea   \n",
       "...                                                   ...          ...   \n",
       "254447  root:Environmental:Aquatic:Freshwater:Pond:Sed...   Metagenome   \n",
       "254448                                         root:Mixed   Metagenome   \n",
       "254449                                         root:Mixed   Metagenome   \n",
       "254450                                                NaN   Metagenome   \n",
       "682470  {'species': 'Sorangium cellulosum', 'genus': '...     Bacteria   \n",
       "\n",
       "              kingdom                       phylum unchar_phylum unchar_class  \\\n",
       "578174        unknown                   Aquificota          True         True   \n",
       "31998         unknown                Euryarchaeota          True         None   \n",
       "139767        unknown             Bdellovibrionota          True         True   \n",
       "510819        unknown  Candidatus Thermoplasmatota          True         True   \n",
       "623412        unknown                Euryarchaeota          True         True   \n",
       "...               ...                          ...           ...          ...   \n",
       "254447  Environmental                      unknown          None         None   \n",
       "254448          Mixed                      unknown          None         None   \n",
       "254449          Mixed                      unknown          None         None   \n",
       "254450            NaN                      unknown          None         None   \n",
       "682470        unknown                  Myxococcota         False         None   \n",
       "\n",
       "       unchar_order unchar_family unchar_genus unchar_species  tax_score  \n",
       "578174         True          True         True           True        1.0  \n",
       "31998          None          None         None           True        1.0  \n",
       "139767         True          True         True           True        1.0  \n",
       "510819         True          None         None           True        1.0  \n",
       "623412         True          True         True           True        1.0  \n",
       "...             ...           ...          ...            ...        ...  \n",
       "254447         None          None         None           None        0.0  \n",
       "254448         None          None         None           None        0.0  \n",
       "254449         None          None         None           None        0.0  \n",
       "254450         None          None         None           None        0.0  \n",
       "682470        False         False        False          False        0.0  \n",
       "\n",
       "[682471 rows x 14 columns]"
      ]
     },
     "execution_count": 143,
     "metadata": {},
     "output_type": "execute_result"
    }
   ],
   "source": [
    "anno_df.sort_values(by='tax_score', ascending=False)"
   ]
  },
  {
   "cell_type": "code",
   "execution_count": 153,
   "id": "222d9561-4ab9-47e6-8977-3b1d860594ea",
   "metadata": {
    "tags": []
   },
   "outputs": [],
   "source": [
    "anno_df.to_csv('all_annotation_with_tax_score.csv')"
   ]
  },
  {
   "cell_type": "code",
   "execution_count": 9,
   "id": "9e60cdcb-a641-4c46-8b3b-f7d35e262415",
   "metadata": {},
   "outputs": [
    {
     "data": {
      "text/plain": [
       "phylum\n",
       "Arthropoda         14102\n",
       "Chordata            7616\n",
       "Nematoda             852\n",
       "Mollusca             724\n",
       "Cnidaria             551\n",
       "Platyhelminthes      382\n",
       "Rotifera             323\n",
       "Echinodermata        211\n",
       "Annelida             177\n",
       "Porifera              89\n",
       "Tardigrada            39\n",
       "Ctenophora            37\n",
       "Bryozoa               24\n",
       "Hemichordata          22\n",
       "Onychophora           20\n",
       "Xenacoelomorpha       18\n",
       "Entoprocta            17\n",
       "Placozoa              15\n",
       "Brachiopoda           10\n",
       "Phoronida              9\n",
       "Priapulida             6\n",
       "Dicyemida              5\n",
       "Nemertea               3\n",
       "Acanthocephala         1\n",
       "Orthonectida           1\n",
       "Name: count, dtype: int64"
      ]
     },
     "execution_count": 9,
     "metadata": {},
     "output_type": "execute_result"
    }
   ],
   "source": [
    "anno_df[anno_df['kingdom']=='Metazoa']['phylum'].value_counts()"
   ]
  },
  {
   "cell_type": "code",
   "execution_count": 17,
   "id": "99d0a7bb-1307-4f4d-ba6c-30d3a248e4cc",
   "metadata": {
    "tags": []
   },
   "outputs": [
    {
     "data": {
      "text/plain": [
       "{'species': 'Eptesicus fuscus',\n",
       " 'genus': 'Eptesicus',\n",
       " 'family': 'Vespertilionidae',\n",
       " 'order': 'Chiroptera',\n",
       " 'class': 'Mammalia',\n",
       " 'phylum': 'Chordata',\n",
       " 'kingdom': 'Metazoa',\n",
       " 'superkingdom': 'Eukaryota'}"
      ]
     },
     "execution_count": 17,
     "metadata": {},
     "output_type": "execute_result"
    }
   ],
   "source": [
    "anno_df[anno_df['phylum']=='Chordata'].iloc[0]['lineage']"
   ]
  },
  {
   "cell_type": "code",
   "execution_count": null,
   "id": "d9523f15-3a8c-42b9-944d-310c45fbff71",
   "metadata": {},
   "outputs": [],
   "source": []
  },
  {
   "cell_type": "code",
   "execution_count": 37,
   "id": "d792f609-1354-4631-af78-b791c10d8c15",
   "metadata": {
    "tags": []
   },
   "outputs": [],
   "source": [
    "anno_df['class'] = anno_df['lineage'].apply(lambda x:  x.get('class', None) if type(x) == dict else None)"
   ]
  },
  {
   "cell_type": "code",
   "execution_count": 38,
   "id": "a617fba0-abda-4116-9394-594248402a1e",
   "metadata": {
    "tags": []
   },
   "outputs": [],
   "source": [
    "anno_df['order'] = anno_df['lineage'].apply(lambda x:  x.get('order', None) if type(x) == dict else None)"
   ]
  },
  {
   "cell_type": "code",
   "execution_count": 29,
   "id": "10b3e0ea-bb6b-4492-926e-026ac3a3f406",
   "metadata": {
    "tags": []
   },
   "outputs": [
    {
     "data": {
      "text/plain": [
       "order\n",
       "Rodentia           579\n",
       "Artiodactyla       490\n",
       "Primates           426\n",
       "Carnivora          383\n",
       "Chiroptera         193\n",
       "Lagomorpha          69\n",
       "Perissodactyla      52\n",
       "Eulipotyphla        37\n",
       "Diprotodontia       25\n",
       "Dasyuromorphia      21\n",
       "Proboscidea         20\n",
       "Monotremata         13\n",
       "Pilosa              12\n",
       "Didelphimorphia     12\n",
       "Scandentia          10\n",
       "Pholidota           10\n",
       "Microbiotheria       8\n",
       "Dermoptera           6\n",
       "Tubulidentata        6\n",
       "Cingulata            4\n",
       "Sirenia              4\n",
       "Macroscelidea        3\n",
       "Hyracoidea           1\n",
       "Peramelemorphia      1\n",
       "Name: count, dtype: int64"
      ]
     },
     "execution_count": 29,
     "metadata": {},
     "output_type": "execute_result"
    }
   ],
   "source": [
    "anno_df[anno_df['class'] == 'Mammalia']['order'].value_counts().sort_values(ascending=False).head(50)"
   ]
  },
  {
   "cell_type": "code",
   "execution_count": 32,
   "id": "5fa94927-fd35-4c5a-ad57-36a7c7812f93",
   "metadata": {
    "tags": []
   },
   "outputs": [
    {
     "data": {
      "text/plain": [
       "class\n",
       "Actinopteri       2947\n",
       "Mammalia          2394\n",
       "Aves              1050\n",
       "Amphibia           432\n",
       "Lepidosauria       330\n",
       "Chondrichthyes     107\n",
       "Leptocardii         32\n",
       "Hyperoartia         26\n",
       "Ascidiacea          19\n",
       "Cladistia           17\n",
       "Appendicularia       8\n",
       "Myxini               4\n",
       "Thaliacea            3\n",
       "Name: count, dtype: int64"
      ]
     },
     "execution_count": 32,
     "metadata": {},
     "output_type": "execute_result"
    }
   ],
   "source": [
    "anno_df[anno_df['phylum']=='Chordata']['class'].value_counts()"
   ]
  },
  {
   "cell_type": "code",
   "execution_count": 40,
   "id": "48a51995-e4e3-42bb-80a8-f07440c2d511",
   "metadata": {
    "tags": []
   },
   "outputs": [
    {
     "data": {
      "text/plain": [
       "Index(['id', 'architecture_pfam', 'architecture_l_pfam', 'PF06330.14',\n",
       "       'PF01397.24', 'PF03936.19', 'PF00494.22', 'PF13249.9', 'PF19086.3',\n",
       "       'PF13243.9', 'architecture_supfam', 'architecture_l_supfam', '0041184',\n",
       "       '0053354', '0053355', '0048261', '0048806', '0046340', '0047573',\n",
       "       'record_id', 'record_description', 'new_id', 'organism', 'tax_id',\n",
       "       'lineage', 'superkingdom', 'kingdom', 'phylum', 'class', 'order'],\n",
       "      dtype='object')"
      ]
     },
     "execution_count": 40,
     "metadata": {},
     "output_type": "execute_result"
    }
   ],
   "source": [
    "anno_df.columns"
   ]
  },
  {
   "cell_type": "code",
   "execution_count": 42,
   "id": "6331e64b-7ca6-4ab4-a863-1929ed76ee61",
   "metadata": {
    "tags": []
   },
   "outputs": [],
   "source": [
    "pfam_cols = ['PF06330.14','PF01397.24', 'PF03936.19', 'PF00494.22', 'PF13249.9', 'PF19086.3','PF13243.9']"
   ]
  },
  {
   "cell_type": "markdown",
   "id": "f0d43340-21fa-423c-bada-6f97d435f0c1",
   "metadata": {},
   "source": [
    "The hits are probably oxidosqualene synthases or squalene synthases (PF00494.22, PF13249.9, PF13243.9).\n",
    "\n",
    "Some entries from UniParc are annotated with Rat but mostly appear in Arabidopsis."
   ]
  },
  {
   "cell_type": "code",
   "execution_count": 47,
   "id": "ae471ad8-f5c1-4c3a-a72f-d35f9b67812d",
   "metadata": {
    "tags": []
   },
   "outputs": [
    {
     "data": {
      "text/html": [
       "<div>\n",
       "<style scoped>\n",
       "    .dataframe tbody tr th:only-of-type {\n",
       "        vertical-align: middle;\n",
       "    }\n",
       "\n",
       "    .dataframe tbody tr th {\n",
       "        vertical-align: top;\n",
       "    }\n",
       "\n",
       "    .dataframe thead th {\n",
       "        text-align: right;\n",
       "    }\n",
       "</style>\n",
       "<table border=\"1\" class=\"dataframe\">\n",
       "  <thead>\n",
       "    <tr style=\"text-align: right;\">\n",
       "      <th></th>\n",
       "      <th>PF06330.14</th>\n",
       "      <th>PF01397.24</th>\n",
       "      <th>PF03936.19</th>\n",
       "      <th>PF00494.22</th>\n",
       "      <th>PF13249.9</th>\n",
       "      <th>PF19086.3</th>\n",
       "      <th>PF13243.9</th>\n",
       "    </tr>\n",
       "  </thead>\n",
       "  <tbody>\n",
       "    <tr>\n",
       "      <th>1.0</th>\n",
       "      <td>0.0</td>\n",
       "      <td>0.001357</td>\n",
       "      <td>0.017645</td>\n",
       "      <td>0.013573</td>\n",
       "      <td>0.281303</td>\n",
       "      <td>0.002715</td>\n",
       "      <td>0.281303</td>\n",
       "    </tr>\n",
       "  </tbody>\n",
       "</table>\n",
       "</div>"
      ],
      "text/plain": [
       "     PF06330.14  PF01397.24  PF03936.19  PF00494.22  PF13249.9  PF19086.3  \\\n",
       "1.0         0.0    0.001357    0.017645    0.013573   0.281303   0.002715   \n",
       "\n",
       "     PF13243.9  \n",
       "1.0   0.281303  "
      ]
     },
     "execution_count": 47,
     "metadata": {},
     "output_type": "execute_result"
    }
   ],
   "source": [
    "# Fish\n",
    "anno_df[anno_df['class'] == 'Actinopteri'][pfam_cols].fillna(0).apply(lambda x: x.value_counts(normalize=True)).fillna(0).loc[[1.0]]"
   ]
  },
  {
   "cell_type": "code",
   "execution_count": 48,
   "id": "43deb46e-6b35-4d84-bdfc-7b8302623a87",
   "metadata": {
    "tags": []
   },
   "outputs": [
    {
     "data": {
      "text/html": [
       "<div>\n",
       "<style scoped>\n",
       "    .dataframe tbody tr th:only-of-type {\n",
       "        vertical-align: middle;\n",
       "    }\n",
       "\n",
       "    .dataframe tbody tr th {\n",
       "        vertical-align: top;\n",
       "    }\n",
       "\n",
       "    .dataframe thead th {\n",
       "        text-align: right;\n",
       "    }\n",
       "</style>\n",
       "<table border=\"1\" class=\"dataframe\">\n",
       "  <thead>\n",
       "    <tr style=\"text-align: right;\">\n",
       "      <th></th>\n",
       "      <th>PF06330.14</th>\n",
       "      <th>PF01397.24</th>\n",
       "      <th>PF03936.19</th>\n",
       "      <th>PF00494.22</th>\n",
       "      <th>PF13249.9</th>\n",
       "      <th>PF19086.3</th>\n",
       "      <th>PF13243.9</th>\n",
       "    </tr>\n",
       "  </thead>\n",
       "  <tbody>\n",
       "    <tr>\n",
       "      <th>1.0</th>\n",
       "      <td>0.000418</td>\n",
       "      <td>0.022556</td>\n",
       "      <td>0.027987</td>\n",
       "      <td>0.011278</td>\n",
       "      <td>0.307435</td>\n",
       "      <td>0.02381</td>\n",
       "      <td>0.307018</td>\n",
       "    </tr>\n",
       "  </tbody>\n",
       "</table>\n",
       "</div>"
      ],
      "text/plain": [
       "     PF06330.14  PF01397.24  PF03936.19  PF00494.22  PF13249.9  PF19086.3  \\\n",
       "1.0    0.000418    0.022556    0.027987    0.011278   0.307435    0.02381   \n",
       "\n",
       "     PF13243.9  \n",
       "1.0   0.307018  "
      ]
     },
     "execution_count": 48,
     "metadata": {},
     "output_type": "execute_result"
    }
   ],
   "source": [
    "# Mammals\n",
    "anno_df[anno_df['class'] == 'Mammalia'][pfam_cols].fillna(0).apply(lambda x: x.value_counts(normalize=True)).fillna(0).loc[[1.0]]"
   ]
  },
  {
   "cell_type": "code",
   "execution_count": 49,
   "id": "05cfaf62-cbe5-4d86-9d5e-21884b55aeb9",
   "metadata": {
    "tags": []
   },
   "outputs": [
    {
     "data": {
      "text/html": [
       "<div>\n",
       "<style scoped>\n",
       "    .dataframe tbody tr th:only-of-type {\n",
       "        vertical-align: middle;\n",
       "    }\n",
       "\n",
       "    .dataframe tbody tr th {\n",
       "        vertical-align: top;\n",
       "    }\n",
       "\n",
       "    .dataframe thead th {\n",
       "        text-align: right;\n",
       "    }\n",
       "</style>\n",
       "<table border=\"1\" class=\"dataframe\">\n",
       "  <thead>\n",
       "    <tr style=\"text-align: right;\">\n",
       "      <th></th>\n",
       "      <th>PF06330.14</th>\n",
       "      <th>PF01397.24</th>\n",
       "      <th>PF03936.19</th>\n",
       "      <th>PF00494.22</th>\n",
       "      <th>PF13249.9</th>\n",
       "      <th>PF19086.3</th>\n",
       "      <th>PF13243.9</th>\n",
       "    </tr>\n",
       "  </thead>\n",
       "  <tbody>\n",
       "    <tr>\n",
       "      <th>1.0</th>\n",
       "      <td>0.0</td>\n",
       "      <td>0.0</td>\n",
       "      <td>0.0</td>\n",
       "      <td>0.004762</td>\n",
       "      <td>0.308571</td>\n",
       "      <td>0.0</td>\n",
       "      <td>0.311429</td>\n",
       "    </tr>\n",
       "  </tbody>\n",
       "</table>\n",
       "</div>"
      ],
      "text/plain": [
       "     PF06330.14  PF01397.24  PF03936.19  PF00494.22  PF13249.9  PF19086.3  \\\n",
       "1.0         0.0         0.0         0.0    0.004762   0.308571        0.0   \n",
       "\n",
       "     PF13243.9  \n",
       "1.0   0.311429  "
      ]
     },
     "execution_count": 49,
     "metadata": {},
     "output_type": "execute_result"
    }
   ],
   "source": [
    "# Birds\n",
    "anno_df[anno_df['class'] == 'Aves'][pfam_cols].fillna(0).apply(lambda x: x.value_counts(normalize=True)).fillna(0).loc[[1.0]]"
   ]
  },
  {
   "cell_type": "code",
   "execution_count": 51,
   "id": "2c49b7d5-db12-49cd-844a-5320a989b6ce",
   "metadata": {
    "tags": []
   },
   "outputs": [],
   "source": [
    "mammals = anno_df[anno_df['class'] == 'Mammalia']"
   ]
  },
  {
   "cell_type": "code",
   "execution_count": 54,
   "id": "4becf657-5a8f-45de-ab54-73d573fd766b",
   "metadata": {
    "tags": []
   },
   "outputs": [
    {
     "data": {
      "text/html": [
       "<div>\n",
       "<style scoped>\n",
       "    .dataframe tbody tr th:only-of-type {\n",
       "        vertical-align: middle;\n",
       "    }\n",
       "\n",
       "    .dataframe tbody tr th {\n",
       "        vertical-align: top;\n",
       "    }\n",
       "\n",
       "    .dataframe thead th {\n",
       "        text-align: right;\n",
       "    }\n",
       "</style>\n",
       "<table border=\"1\" class=\"dataframe\">\n",
       "  <thead>\n",
       "    <tr style=\"text-align: right;\">\n",
       "      <th></th>\n",
       "      <th>id</th>\n",
       "      <th>architecture_pfam</th>\n",
       "      <th>architecture_l_pfam</th>\n",
       "      <th>PF06330.14</th>\n",
       "      <th>PF01397.24</th>\n",
       "      <th>PF03936.19</th>\n",
       "      <th>PF00494.22</th>\n",
       "      <th>PF13249.9</th>\n",
       "      <th>PF19086.3</th>\n",
       "      <th>PF13243.9</th>\n",
       "      <th>...</th>\n",
       "      <th>record_description</th>\n",
       "      <th>new_id</th>\n",
       "      <th>organism</th>\n",
       "      <th>tax_id</th>\n",
       "      <th>lineage</th>\n",
       "      <th>superkingdom</th>\n",
       "      <th>kingdom</th>\n",
       "      <th>phylum</th>\n",
       "      <th>class</th>\n",
       "      <th>order</th>\n",
       "    </tr>\n",
       "  </thead>\n",
       "  <tbody>\n",
       "    <tr>\n",
       "      <th>49706</th>\n",
       "      <td>bfd_004444</td>\n",
       "      <td>['PF19086.3']</td>\n",
       "      <td>['PF19086.3']</td>\n",
       "      <td>1.0</td>\n",
       "      <td>0.0</td>\n",
       "      <td>1.0</td>\n",
       "      <td>0.0</td>\n",
       "      <td>0.0</td>\n",
       "      <td>1.0</td>\n",
       "      <td>0.0</td>\n",
       "      <td>...</td>\n",
       "      <td>UPI00033410EE status=active</td>\n",
       "      <td>bfd_004444</td>\n",
       "      <td>Octodon degus (Degu)</td>\n",
       "      <td>10160</td>\n",
       "      <td>{'species': 'Octodon degus', 'genus': 'Octodon...</td>\n",
       "      <td>Eukaryota</td>\n",
       "      <td>Metazoa</td>\n",
       "      <td>Chordata</td>\n",
       "      <td>Mammalia</td>\n",
       "      <td>Rodentia</td>\n",
       "    </tr>\n",
       "  </tbody>\n",
       "</table>\n",
       "<p>1 rows × 30 columns</p>\n",
       "</div>"
      ],
      "text/plain": [
       "               id architecture_pfam architecture_l_pfam  PF06330.14  \\\n",
       "49706  bfd_004444     ['PF19086.3']       ['PF19086.3']         1.0   \n",
       "\n",
       "       PF01397.24  PF03936.19  PF00494.22  PF13249.9  PF19086.3  PF13243.9  \\\n",
       "49706         0.0         1.0         0.0        0.0        1.0        0.0   \n",
       "\n",
       "       ...           record_description      new_id              organism  \\\n",
       "49706  ...  UPI00033410EE status=active  bfd_004444  Octodon degus (Degu)   \n",
       "\n",
       "       tax_id                                            lineage  \\\n",
       "49706   10160  {'species': 'Octodon degus', 'genus': 'Octodon...   \n",
       "\n",
       "       superkingdom  kingdom    phylum     class     order  \n",
       "49706     Eukaryota  Metazoa  Chordata  Mammalia  Rodentia  \n",
       "\n",
       "[1 rows x 30 columns]"
      ]
     },
     "execution_count": 54,
     "metadata": {},
     "output_type": "execute_result"
    }
   ],
   "source": [
    "mammals[mammals['PF06330.14']==1]"
   ]
  },
  {
   "cell_type": "code",
   "execution_count": 59,
   "id": "c31dc5ad-482d-495f-827e-c2e79ad99a2b",
   "metadata": {
    "tags": []
   },
   "outputs": [
    {
     "data": {
      "text/plain": [
       "Index(['id', 'architecture_pfam', 'architecture_l_pfam', 'PF06330.14',\n",
       "       'PF01397.24', 'PF03936.19', 'PF00494.22', 'PF13249.9', 'PF19086.3',\n",
       "       'PF13243.9', 'architecture_supfam', 'architecture_l_supfam', '0041184',\n",
       "       '0053354', '0053355', '0048261', '0048806', '0046340', '0047573',\n",
       "       'record_id', 'record_description', 'new_id', 'organism', 'tax_id',\n",
       "       'lineage', 'superkingdom', 'kingdom', 'phylum', 'class', 'order'],\n",
       "      dtype='object')"
      ]
     },
     "execution_count": 59,
     "metadata": {},
     "output_type": "execute_result"
    }
   ],
   "source": [
    "mammals.columns"
   ]
  },
  {
   "cell_type": "code",
   "execution_count": 61,
   "id": "85d59287-6960-40fe-a05a-a77296035f20",
   "metadata": {
    "tags": []
   },
   "outputs": [
    {
     "data": {
      "text/plain": [
       "organism\n",
       "Rattus norvegicus    54\n",
       "Name: count, dtype: int64"
      ]
     },
     "execution_count": 61,
     "metadata": {},
     "output_type": "execute_result"
    }
   ],
   "source": [
    "mammals[mammals['PF01397.24']==1]['organism'].value_counts()"
   ]
  },
  {
   "cell_type": "code",
   "execution_count": 62,
   "id": "5dd7493d-a312-4b7b-8aae-b92ea9165e0c",
   "metadata": {
    "tags": []
   },
   "outputs": [
    {
     "data": {
      "text/plain": [
       "organism\n",
       "Rattus norvegicus                                                             60\n",
       "Chinchilla lanigera                                                            3\n",
       "Octodon degus (Degu)                                                           1\n",
       "Mus musculus musculus (eastern European house mouse); Mus musculus (Mouse)     1\n",
       "Cavia porcellus (Guinea pig)                                                   1\n",
       "Octodon degus                                                                  1\n",
       "Name: count, dtype: int64"
      ]
     },
     "execution_count": 62,
     "metadata": {},
     "output_type": "execute_result"
    }
   ],
   "source": [
    "mammals[mammals['PF03936.19']==1]['organism'].value_counts()"
   ]
  },
  {
   "cell_type": "code",
   "execution_count": 66,
   "id": "cb1d0f4d-3340-47f1-ba92-cff203378a33",
   "metadata": {
    "tags": []
   },
   "outputs": [
    {
     "data": {
      "text/html": [
       "<div>\n",
       "<style scoped>\n",
       "    .dataframe tbody tr th:only-of-type {\n",
       "        vertical-align: middle;\n",
       "    }\n",
       "\n",
       "    .dataframe tbody tr th {\n",
       "        vertical-align: top;\n",
       "    }\n",
       "\n",
       "    .dataframe thead th {\n",
       "        text-align: right;\n",
       "    }\n",
       "</style>\n",
       "<table border=\"1\" class=\"dataframe\">\n",
       "  <thead>\n",
       "    <tr style=\"text-align: right;\">\n",
       "      <th></th>\n",
       "      <th>record_id</th>\n",
       "      <th>organism</th>\n",
       "    </tr>\n",
       "  </thead>\n",
       "  <tbody>\n",
       "    <tr>\n",
       "      <th>32431</th>\n",
       "      <td>UPI0003F0F688</td>\n",
       "      <td>Chrysochloris asiatica (Cape golden mole)</td>\n",
       "    </tr>\n",
       "    <tr>\n",
       "      <th>49706</th>\n",
       "      <td>UPI00033410EE</td>\n",
       "      <td>Octodon degus (Degu)</td>\n",
       "    </tr>\n",
       "    <tr>\n",
       "      <th>463626</th>\n",
       "      <td>Q9LVP7;</td>\n",
       "      <td>Rattus norvegicus</td>\n",
       "    </tr>\n",
       "    <tr>\n",
       "      <th>464841</th>\n",
       "      <td>Q9LH59</td>\n",
       "      <td>Rattus norvegicus</td>\n",
       "    </tr>\n",
       "    <tr>\n",
       "      <th>466190</th>\n",
       "      <td>A0A1P8B0J1</td>\n",
       "      <td>Rattus norvegicus</td>\n",
       "    </tr>\n",
       "    <tr>\n",
       "      <th>467254</th>\n",
       "      <td>O22680.1</td>\n",
       "      <td>Rattus norvegicus</td>\n",
       "    </tr>\n",
       "    <tr>\n",
       "      <th>467707</th>\n",
       "      <td>O65434</td>\n",
       "      <td>Rattus norvegicus</td>\n",
       "    </tr>\n",
       "    <tr>\n",
       "      <th>469171</th>\n",
       "      <td>NoUniProtID</td>\n",
       "      <td>Rattus norvegicus</td>\n",
       "    </tr>\n",
       "    <tr>\n",
       "      <th>470545</th>\n",
       "      <td>Q9LS76.1</td>\n",
       "      <td>Rattus norvegicus</td>\n",
       "    </tr>\n",
       "    <tr>\n",
       "      <th>473875</th>\n",
       "      <td>Q84UU4-2;</td>\n",
       "      <td>Rattus norvegicus</td>\n",
       "    </tr>\n",
       "    <tr>\n",
       "      <th>474343</th>\n",
       "      <td>F4ILI0.1</td>\n",
       "      <td>Rattus norvegicus</td>\n",
       "    </tr>\n",
       "    <tr>\n",
       "      <th>475051</th>\n",
       "      <td>O22184</td>\n",
       "      <td>Rattus norvegicus</td>\n",
       "    </tr>\n",
       "    <tr>\n",
       "      <th>475183</th>\n",
       "      <td>A4FVP2;</td>\n",
       "      <td>Rattus norvegicus</td>\n",
       "    </tr>\n",
       "    <tr>\n",
       "      <th>476354</th>\n",
       "      <td>Q9LRR2</td>\n",
       "      <td>Rattus norvegicus</td>\n",
       "    </tr>\n",
       "    <tr>\n",
       "      <th>477670</th>\n",
       "      <td>Q9T0J9.1</td>\n",
       "      <td>Rattus norvegicus</td>\n",
       "    </tr>\n",
       "    <tr>\n",
       "      <th>477875</th>\n",
       "      <td>O23651;</td>\n",
       "      <td>Rattus norvegicus</td>\n",
       "    </tr>\n",
       "    <tr>\n",
       "      <th>479097</th>\n",
       "      <td>O04537.1</td>\n",
       "      <td>Rattus norvegicus</td>\n",
       "    </tr>\n",
       "    <tr>\n",
       "      <th>484236</th>\n",
       "      <td>Q9C6W6</td>\n",
       "      <td>Rattus norvegicus</td>\n",
       "    </tr>\n",
       "    <tr>\n",
       "      <th>486891</th>\n",
       "      <td>Q84UV0.1</td>\n",
       "      <td>Rattus norvegicus</td>\n",
       "    </tr>\n",
       "    <tr>\n",
       "      <th>487255</th>\n",
       "      <td>Q0WTF8</td>\n",
       "      <td>Rattus norvegicus</td>\n",
       "    </tr>\n",
       "    <tr>\n",
       "      <th>494239</th>\n",
       "      <td>Q9C8E3;</td>\n",
       "      <td>Rattus norvegicus</td>\n",
       "    </tr>\n",
       "    <tr>\n",
       "      <th>494755</th>\n",
       "      <td>Q9LH31;</td>\n",
       "      <td>Rattus norvegicus</td>\n",
       "    </tr>\n",
       "    <tr>\n",
       "      <th>495489</th>\n",
       "      <td>A0A8T2DX41;</td>\n",
       "      <td>Rattus norvegicus</td>\n",
       "    </tr>\n",
       "    <tr>\n",
       "      <th>496459</th>\n",
       "      <td>Q9ZUH4;</td>\n",
       "      <td>Rattus norvegicus</td>\n",
       "    </tr>\n",
       "    <tr>\n",
       "      <th>496857</th>\n",
       "      <td>F4HVE4</td>\n",
       "      <td>Rattus norvegicus</td>\n",
       "    </tr>\n",
       "    <tr>\n",
       "      <th>497433</th>\n",
       "      <td>Q9T0K1</td>\n",
       "      <td>Rattus norvegicus</td>\n",
       "    </tr>\n",
       "    <tr>\n",
       "      <th>499577</th>\n",
       "      <td>Q9C748;</td>\n",
       "      <td>Rattus norvegicus</td>\n",
       "    </tr>\n",
       "    <tr>\n",
       "      <th>499732</th>\n",
       "      <td>F4JA62</td>\n",
       "      <td>Rattus norvegicus</td>\n",
       "    </tr>\n",
       "    <tr>\n",
       "      <th>502407</th>\n",
       "      <td>Q9LUE2;</td>\n",
       "      <td>Rattus norvegicus</td>\n",
       "    </tr>\n",
       "    <tr>\n",
       "      <th>506238</th>\n",
       "      <td>Q9T0K1.1</td>\n",
       "      <td>Rattus norvegicus</td>\n",
       "    </tr>\n",
       "    <tr>\n",
       "      <th>507272</th>\n",
       "      <td>Q9T0J9</td>\n",
       "      <td>Rattus norvegicus</td>\n",
       "    </tr>\n",
       "    <tr>\n",
       "      <th>507489</th>\n",
       "      <td>Q8L7G4.1</td>\n",
       "      <td>Rattus norvegicus</td>\n",
       "    </tr>\n",
       "    <tr>\n",
       "      <th>508583</th>\n",
       "      <td>P0DI76-2;</td>\n",
       "      <td>Rattus norvegicus</td>\n",
       "    </tr>\n",
       "    <tr>\n",
       "      <th>512236</th>\n",
       "      <td>Q9LIA1.1</td>\n",
       "      <td>Rattus norvegicus</td>\n",
       "    </tr>\n",
       "    <tr>\n",
       "      <th>512305</th>\n",
       "      <td>O23516.1</td>\n",
       "      <td>Rattus norvegicus</td>\n",
       "    </tr>\n",
       "    <tr>\n",
       "      <th>514459</th>\n",
       "      <td>Q9LQ27</td>\n",
       "      <td>Rattus norvegicus</td>\n",
       "    </tr>\n",
       "    <tr>\n",
       "      <th>514698</th>\n",
       "      <td>A4FVP2-2</td>\n",
       "      <td>Rattus norvegicus</td>\n",
       "    </tr>\n",
       "    <tr>\n",
       "      <th>518284</th>\n",
       "      <td>Q9LRZ6;</td>\n",
       "      <td>Rattus norvegicus</td>\n",
       "    </tr>\n",
       "    <tr>\n",
       "      <th>521033</th>\n",
       "      <td>Q84UU9</td>\n",
       "      <td>Rattus norvegicus</td>\n",
       "    </tr>\n",
       "    <tr>\n",
       "      <th>521077</th>\n",
       "      <td>Q9LUE0;</td>\n",
       "      <td>Rattus norvegicus</td>\n",
       "    </tr>\n",
       "    <tr>\n",
       "      <th>521175</th>\n",
       "      <td>Q9LIA1</td>\n",
       "      <td>Rattus norvegicus</td>\n",
       "    </tr>\n",
       "    <tr>\n",
       "      <th>521207</th>\n",
       "      <td>A0A654FBU3;</td>\n",
       "      <td>Rattus norvegicus</td>\n",
       "    </tr>\n",
       "    <tr>\n",
       "      <th>522047</th>\n",
       "      <td>Q4KSH9;</td>\n",
       "      <td>Rattus norvegicus</td>\n",
       "    </tr>\n",
       "    <tr>\n",
       "      <th>523674</th>\n",
       "      <td>A0A1P8AMI7;</td>\n",
       "      <td>Rattus norvegicus</td>\n",
       "    </tr>\n",
       "    <tr>\n",
       "      <th>528982</th>\n",
       "      <td>Q9C6T3.1</td>\n",
       "      <td>Rattus norvegicus</td>\n",
       "    </tr>\n",
       "    <tr>\n",
       "      <th>529289</th>\n",
       "      <td>Q9FI27;</td>\n",
       "      <td>Rattus norvegicus</td>\n",
       "    </tr>\n",
       "    <tr>\n",
       "      <th>529290</th>\n",
       "      <td>Q84UU4;</td>\n",
       "      <td>Rattus norvegicus</td>\n",
       "    </tr>\n",
       "    <tr>\n",
       "      <th>530727</th>\n",
       "      <td>Q9SAK2;</td>\n",
       "      <td>Rattus norvegicus</td>\n",
       "    </tr>\n",
       "    <tr>\n",
       "      <th>531758</th>\n",
       "      <td>O65435</td>\n",
       "      <td>Rattus norvegicus</td>\n",
       "    </tr>\n",
       "    <tr>\n",
       "      <th>537466</th>\n",
       "      <td>Q9LS76</td>\n",
       "      <td>Rattus norvegicus</td>\n",
       "    </tr>\n",
       "    <tr>\n",
       "      <th>538875</th>\n",
       "      <td>P0CJ43</td>\n",
       "      <td>Rattus norvegicus</td>\n",
       "    </tr>\n",
       "    <tr>\n",
       "      <th>539272</th>\n",
       "      <td>F4JMK2.1</td>\n",
       "      <td>Rattus norvegicus</td>\n",
       "    </tr>\n",
       "    <tr>\n",
       "      <th>547270</th>\n",
       "      <td>P0DI76;</td>\n",
       "      <td>Rattus norvegicus</td>\n",
       "    </tr>\n",
       "    <tr>\n",
       "      <th>549413</th>\n",
       "      <td>Q9C749</td>\n",
       "      <td>Rattus norvegicus</td>\n",
       "    </tr>\n",
       "    <tr>\n",
       "      <th>549908</th>\n",
       "      <td>Q84UV0;</td>\n",
       "      <td>Rattus norvegicus</td>\n",
       "    </tr>\n",
       "    <tr>\n",
       "      <th>551961</th>\n",
       "      <td>Q93YV0;</td>\n",
       "      <td>Rattus norvegicus</td>\n",
       "    </tr>\n",
       "    <tr>\n",
       "      <th>553685</th>\n",
       "      <td>Q84UU3.1</td>\n",
       "      <td>Rattus norvegicus</td>\n",
       "    </tr>\n",
       "  </tbody>\n",
       "</table>\n",
       "</div>"
      ],
      "text/plain": [
       "            record_id                                   organism\n",
       "32431   UPI0003F0F688  Chrysochloris asiatica (Cape golden mole)\n",
       "49706   UPI00033410EE                       Octodon degus (Degu)\n",
       "463626        Q9LVP7;                          Rattus norvegicus\n",
       "464841         Q9LH59                          Rattus norvegicus\n",
       "466190     A0A1P8B0J1                          Rattus norvegicus\n",
       "467254       O22680.1                          Rattus norvegicus\n",
       "467707         O65434                          Rattus norvegicus\n",
       "469171    NoUniProtID                          Rattus norvegicus\n",
       "470545       Q9LS76.1                          Rattus norvegicus\n",
       "473875      Q84UU4-2;                          Rattus norvegicus\n",
       "474343       F4ILI0.1                          Rattus norvegicus\n",
       "475051         O22184                          Rattus norvegicus\n",
       "475183        A4FVP2;                          Rattus norvegicus\n",
       "476354         Q9LRR2                          Rattus norvegicus\n",
       "477670       Q9T0J9.1                          Rattus norvegicus\n",
       "477875        O23651;                          Rattus norvegicus\n",
       "479097       O04537.1                          Rattus norvegicus\n",
       "484236         Q9C6W6                          Rattus norvegicus\n",
       "486891       Q84UV0.1                          Rattus norvegicus\n",
       "487255         Q0WTF8                          Rattus norvegicus\n",
       "494239        Q9C8E3;                          Rattus norvegicus\n",
       "494755        Q9LH31;                          Rattus norvegicus\n",
       "495489    A0A8T2DX41;                          Rattus norvegicus\n",
       "496459        Q9ZUH4;                          Rattus norvegicus\n",
       "496857         F4HVE4                          Rattus norvegicus\n",
       "497433         Q9T0K1                          Rattus norvegicus\n",
       "499577        Q9C748;                          Rattus norvegicus\n",
       "499732         F4JA62                          Rattus norvegicus\n",
       "502407        Q9LUE2;                          Rattus norvegicus\n",
       "506238       Q9T0K1.1                          Rattus norvegicus\n",
       "507272         Q9T0J9                          Rattus norvegicus\n",
       "507489       Q8L7G4.1                          Rattus norvegicus\n",
       "508583      P0DI76-2;                          Rattus norvegicus\n",
       "512236       Q9LIA1.1                          Rattus norvegicus\n",
       "512305       O23516.1                          Rattus norvegicus\n",
       "514459         Q9LQ27                          Rattus norvegicus\n",
       "514698       A4FVP2-2                          Rattus norvegicus\n",
       "518284        Q9LRZ6;                          Rattus norvegicus\n",
       "521033         Q84UU9                          Rattus norvegicus\n",
       "521077        Q9LUE0;                          Rattus norvegicus\n",
       "521175         Q9LIA1                          Rattus norvegicus\n",
       "521207    A0A654FBU3;                          Rattus norvegicus\n",
       "522047        Q4KSH9;                          Rattus norvegicus\n",
       "523674    A0A1P8AMI7;                          Rattus norvegicus\n",
       "528982       Q9C6T3.1                          Rattus norvegicus\n",
       "529289        Q9FI27;                          Rattus norvegicus\n",
       "529290        Q84UU4;                          Rattus norvegicus\n",
       "530727        Q9SAK2;                          Rattus norvegicus\n",
       "531758         O65435                          Rattus norvegicus\n",
       "537466         Q9LS76                          Rattus norvegicus\n",
       "538875         P0CJ43                          Rattus norvegicus\n",
       "539272       F4JMK2.1                          Rattus norvegicus\n",
       "547270        P0DI76;                          Rattus norvegicus\n",
       "549413         Q9C749                          Rattus norvegicus\n",
       "549908        Q84UV0;                          Rattus norvegicus\n",
       "551961        Q93YV0;                          Rattus norvegicus\n",
       "553685       Q84UU3.1                          Rattus norvegicus"
      ]
     },
     "execution_count": 66,
     "metadata": {},
     "output_type": "execute_result"
    }
   ],
   "source": [
    "mammals[mammals['PF19086.3']==1][['record_id','organism']]"
   ]
  },
  {
   "cell_type": "code",
   "execution_count": null,
   "id": "cab98829-cc9d-430b-bd0a-df73006b6c66",
   "metadata": {},
   "outputs": [],
   "source": []
  }
 ],
 "metadata": {
  "kernelspec": {
   "display_name": "Python 3 (ipykernel)",
   "language": "python",
   "name": "python3"
  },
  "language_info": {
   "codemirror_mode": {
    "name": "ipython",
    "version": 3
   },
   "file_extension": ".py",
   "mimetype": "text/x-python",
   "name": "python",
   "nbconvert_exporter": "python",
   "pygments_lexer": "ipython3",
   "version": "3.11.5"
  }
 },
 "nbformat": 4,
 "nbformat_minor": 5
}

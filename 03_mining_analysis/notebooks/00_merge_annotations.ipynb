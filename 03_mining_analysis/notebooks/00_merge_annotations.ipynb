{
 "cells": [
  {
   "cell_type": "code",
   "execution_count": 2,
   "id": "c0ad3b27-6260-409d-9b46-c53f01b3edf1",
   "metadata": {
    "tags": []
   },
   "outputs": [],
   "source": [
    "import pandas as pd"
   ]
  },
  {
   "cell_type": "code",
   "execution_count": 4,
   "id": "4e960e51-769e-437a-af5c-a49e6c37f082",
   "metadata": {
    "tags": []
   },
   "outputs": [
    {
     "name": "stderr",
     "output_type": "stream",
     "text": [
      "C:\\Users\\terca\\AppData\\Local\\Temp\\ipykernel_2860\\2695541126.py:1: DtypeWarning: Columns (2,3) have mixed types. Specify dtype option on import or set low_memory=False.\n",
      "  pd.read_csv('bfd_annotation.csv',index_col=0).to_csv('bfd_annotation.txt',sep='\\t',index=False)\n"
     ]
    }
   ],
   "source": [
    "pd.read_csv('bfd_annotation.csv',index_col=0).to_csv('bfd_annotation.txt',sep='\\t',index=False)"
   ]
  },
  {
   "cell_type": "code",
   "execution_count": 1,
   "id": "9614b05f-8d15-4d98-84a3-cc396f8aa1e3",
   "metadata": {},
   "outputs": [],
   "source": [
    "dbs = ['bfd', 'mgnify', 'onekp', 'phytozome', 'tsa', 'uniprot']"
   ]
  },
  {
   "cell_type": "code",
   "execution_count": 4,
   "id": "d588bc66-bf8e-4a7b-b24d-56e6e65791d3",
   "metadata": {
    "tags": []
   },
   "outputs": [
    {
     "name": "stderr",
     "output_type": "stream",
     "text": [
      "C:\\Users\\terca\\AppData\\Local\\Temp\\ipykernel_8136\\1210206179.py:4: DtypeWarning: Columns (2,3) have mixed types. Specify dtype option on import or set low_memory=False.\n",
      "  df = pd.read_csv(anno_file, index_col=0)\n",
      "C:\\Users\\terca\\AppData\\Local\\Temp\\ipykernel_8136\\1210206179.py:4: DtypeWarning: Columns (2,3) have mixed types. Specify dtype option on import or set low_memory=False.\n",
      "  df = pd.read_csv(anno_file, index_col=0)\n",
      "C:\\Users\\terca\\AppData\\Local\\Temp\\ipykernel_8136\\1210206179.py:4: DtypeWarning: Columns (2,3) have mixed types. Specify dtype option on import or set low_memory=False.\n",
      "  df = pd.read_csv(anno_file, index_col=0)\n",
      "C:\\Users\\terca\\AppData\\Local\\Temp\\ipykernel_8136\\1210206179.py:4: DtypeWarning: Columns (2,3) have mixed types. Specify dtype option on import or set low_memory=False.\n",
      "  df = pd.read_csv(anno_file, index_col=0)\n"
     ]
    }
   ],
   "source": [
    "df_l = []\n",
    "for db in dbs:\n",
    "    anno_file = f'{db}_annotation.csv'\n",
    "    df = pd.read_csv(anno_file, index_col=0)\n",
    "    df_l.append(df)"
   ]
  },
  {
   "cell_type": "code",
   "execution_count": 6,
   "id": "aa3693bc-3ab0-44e8-bf82-bc297c97b9ad",
   "metadata": {
    "tags": []
   },
   "outputs": [],
   "source": [
    "df = pd.concat(df_l)"
   ]
  },
  {
   "cell_type": "code",
   "execution_count": 8,
   "id": "15121aae-1d0d-4eac-8284-f5ee72ce0f88",
   "metadata": {
    "tags": []
   },
   "outputs": [],
   "source": [
    "df.to_csv('all_annotation.txt', sep='\\t', index=False)"
   ]
  },
  {
   "cell_type": "code",
   "execution_count": 9,
   "id": "42637707-01c8-4757-aa8f-fec1634176c3",
   "metadata": {
    "tags": []
   },
   "outputs": [],
   "source": [
    "ssn_seqs_df = pd.read_csv('../ssn/all_filtered_5_unique_no_stop_50_with_char_ssn_e50.txt', sep='\\t', header=None)"
   ]
  },
  {
   "cell_type": "code",
   "execution_count": 16,
   "id": "cce00136-aef8-45c9-a635-c543cb60dac2",
   "metadata": {
    "tags": []
   },
   "outputs": [],
   "source": [
    "ssn_seqs_ids = set(ssn_seqs_df[0].tolist() + ssn_seqs_df[1].tolist())"
   ]
  },
  {
   "cell_type": "code",
   "execution_count": 22,
   "id": "9e38befb-5f4a-41d2-a3ad-8f2a1b65ae91",
   "metadata": {
    "tags": []
   },
   "outputs": [
    {
     "data": {
      "text/plain": [
       "22422"
      ]
     },
     "execution_count": 22,
     "metadata": {},
     "output_type": "execute_result"
    }
   ],
   "source": [
    "len(ssn_seqs_ids)"
   ]
  },
  {
   "cell_type": "code",
   "execution_count": 24,
   "id": "44ce7862-9ec3-4934-a25a-4c6ca694f526",
   "metadata": {
    "tags": []
   },
   "outputs": [],
   "source": [
    "df_filtered = df[df['id'].apply(lambda x: x in ssn_seqs_ids)]"
   ]
  },
  {
   "cell_type": "code",
   "execution_count": 30,
   "id": "43f58002-56e4-42d3-95cf-c7cc392755ca",
   "metadata": {
    "tags": []
   },
   "outputs": [],
   "source": [
    "df_filtered.to_csv('all_annotation_filtered_5_unique_no_stop_50.txt', sep='\\t', index=False)"
   ]
  },
  {
   "cell_type": "code",
   "execution_count": 31,
   "id": "fd2734fe-e702-41c5-ad85-3f0ddf8896ab",
   "metadata": {
    "tags": []
   },
   "outputs": [
    {
     "data": {
      "text/plain": [
       "(21290, 28)"
      ]
     },
     "execution_count": 31,
     "metadata": {},
     "output_type": "execute_result"
    }
   ],
   "source": [
    "df_filtered.shape"
   ]
  },
  {
   "cell_type": "code",
   "execution_count": 33,
   "id": "3dc1fe82-5b13-4e0f-b7f2-bce869b9b6ed",
   "metadata": {
    "tags": []
   },
   "outputs": [
    {
     "data": {
      "text/plain": [
       "Index(['id', 'architecture_pfam', 'architecture_l_pfam', 'PF06330.14',\n",
       "       'PF01397.24', 'PF03936.19', 'PF00494.22', 'PF13249.9', 'PF19086.3',\n",
       "       'PF13243.9', 'architecture_supfam', 'architecture_l_supfam', '0041184',\n",
       "       '0053354', '0053355', '0048261', '0048806', '0046340', '0047573',\n",
       "       'record_id', 'record_description', 'new_id', 'organism', 'tax_id',\n",
       "       'lineage', 'superkingdom', 'kingdom', 'phylum'],\n",
       "      dtype='object')"
      ]
     },
     "execution_count": 33,
     "metadata": {},
     "output_type": "execute_result"
    }
   ],
   "source": [
    "df_filtered.columns"
   ]
  },
  {
   "cell_type": "code",
   "execution_count": 37,
   "id": "608284e1-a2c3-4f61-bbab-62b10651c653",
   "metadata": {
    "tags": []
   },
   "outputs": [],
   "source": [
    "df_filtered[selected_columns].to_csv('all_annotation_filtered_5_unique_no_stop_50_cols_selection.txt', sep='\\t', index=False)"
   ]
  },
  {
   "cell_type": "code",
   "execution_count": 35,
   "id": "82d87be9-7280-4342-bdc5-6d240b3f804f",
   "metadata": {
    "tags": []
   },
   "outputs": [],
   "source": [
    "selected_columns = ['id','PF06330.14',\n",
    "       'PF01397.24', 'PF03936.19', 'PF00494.22', 'PF13249.9', 'PF19086.3',\n",
    "       'PF13243.9', '0041184',\n",
    "       '0053354', '0053355', '0048261', '0048806', '0046340', '0047573',\n",
    "        'superkingdom', 'kingdom', 'phylum']"
   ]
  },
  {
   "cell_type": "code",
   "execution_count": null,
   "id": "78099e5d-3cc5-4828-8687-206f8a66d612",
   "metadata": {},
   "outputs": [],
   "source": [
    "df"
   ]
  }
 ],
 "metadata": {
  "kernelspec": {
   "display_name": "Python 3 (ipykernel)",
   "language": "python",
   "name": "python3"
  },
  "language_info": {
   "codemirror_mode": {
    "name": "ipython",
    "version": 3
   },
   "file_extension": ".py",
   "mimetype": "text/x-python",
   "name": "python",
   "nbconvert_exporter": "python",
   "pygments_lexer": "ipython3",
   "version": "3.10.13"
  }
 },
 "nbformat": 4,
 "nbformat_minor": 5
}

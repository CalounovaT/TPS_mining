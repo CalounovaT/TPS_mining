{
 "cells": [
  {
   "cell_type": "code",
   "execution_count": 1,
   "id": "d6f43b11-204a-45e2-ac36-ca740bddcc98",
   "metadata": {
    "tags": []
   },
   "outputs": [],
   "source": [
    "import pandas as pd"
   ]
  },
  {
   "cell_type": "code",
   "execution_count": 2,
   "id": "eb3be91d-9e51-4b63-aae3-12cd4bdc0523",
   "metadata": {
    "tags": []
   },
   "outputs": [],
   "source": [
    "df = pd.read_csv('../data/TPS-database_filtered_annotated.tsv', sep='\\t')"
   ]
  },
  {
   "cell_type": "code",
   "execution_count": 3,
   "id": "54ca7cbf-1293-4673-b65a-35088ea33764",
   "metadata": {
    "tags": []
   },
   "outputs": [
    {
     "data": {
      "text/plain": [
       "Index(['id', 'name', 'sequence', 'species', 'kingdom', 'type',\n",
       "       'pfam_architecture', 'supfam_architecture', 'PF06330.14', 'PF01397.24',\n",
       "       'PF03936.19', 'PF00494.22', 'PF13249.9', 'PF19086.3', 'PF13243.9',\n",
       "       '0041184', '0053354', '0053355', '0048261', '0048806', '0046340',\n",
       "       '0047573', 'motifs', 'DDXXD', 'NSE/DTE', 'DXDD', 'length'],\n",
       "      dtype='object')"
      ]
     },
     "execution_count": 3,
     "metadata": {},
     "output_type": "execute_result"
    }
   ],
   "source": [
    "df.columns"
   ]
  },
  {
   "cell_type": "code",
   "execution_count": 8,
   "id": "f5fc8d41-0c2f-414f-af3d-12aac8a0507f",
   "metadata": {
    "tags": []
   },
   "outputs": [],
   "source": [
    "pfam_cols = ['PF06330.14', 'PF01397.24', 'PF03936.19', 'PF00494.22', 'PF13249.9', 'PF19086.3', 'PF13243.9']\n",
    "supfam_cols = ['0041184', '0053354', '0053355', '0048261', '0048806', '0046340', '0047573']"
   ]
  },
  {
   "cell_type": "code",
   "execution_count": 13,
   "id": "ac61fb36-6b54-45d9-b603-26b8ea61c1db",
   "metadata": {
    "tags": []
   },
   "outputs": [],
   "source": [
    "df[pfam_cols+supfam_cols] = df[pfam_cols+supfam_cols].fillna(0)"
   ]
  },
  {
   "cell_type": "markdown",
   "id": "21a546a8-baa9-40ff-a389-f24d93c1b001",
   "metadata": {},
   "source": [
    "## Update kingdom names"
   ]
  },
  {
   "cell_type": "code",
   "execution_count": 15,
   "id": "fc5c1c01-552e-4e81-a476-0e2003f574b5",
   "metadata": {
    "tags": []
   },
   "outputs": [],
   "source": [
    "kingdom_map = {'Coral': 'Animalia (Coral)', 'Insecta': 'Animalia (Insecta)', 'Human (Animalia)': 'Animalia', 'Human': 'Animalia'}"
   ]
  },
  {
   "cell_type": "code",
   "execution_count": 16,
   "id": "7369f574-7abf-4632-9662-9e268d33d460",
   "metadata": {
    "tags": []
   },
   "outputs": [],
   "source": [
    "df['kingdom'] = df['kingdom'].apply(lambda x: kingdom_map.get(x,x))"
   ]
  },
  {
   "cell_type": "code",
   "execution_count": 17,
   "id": "2b10b309-d996-41f9-8583-74022ceb0a1a",
   "metadata": {
    "tags": []
   },
   "outputs": [],
   "source": [
    "# Remve cyanobacteria - there is only one and its mereroterpenoid\n",
    "df = df[df['kingdom'] !='Cyanobacteria']"
   ]
  },
  {
   "cell_type": "markdown",
   "id": "8456043c-d2f7-41f5-9ef9-6747c145763d",
   "metadata": {},
   "source": [
    "## Update types"
   ]
  },
  {
   "cell_type": "code",
   "execution_count": 18,
   "id": "3b8c29ca-e37c-455a-bd23-1d07f009bf0b",
   "metadata": {
    "tags": []
   },
   "outputs": [
    {
     "data": {
      "text/plain": [
       "array(['sesq', 'di', 'di-int', 'mono', 'tri', 'sester', 'hemi', 'tetra',\n",
       "       'tetra-int', 'sesquar', 'tri-int', 'hsqs', 'mono-int'],\n",
       "      dtype=object)"
      ]
     },
     "execution_count": 18,
     "metadata": {},
     "output_type": "execute_result"
    }
   ],
   "source": [
    "df['type'].unique()"
   ]
  },
  {
   "cell_type": "code",
   "execution_count": 19,
   "id": "d49b2bf3-2f74-4afb-80c8-368e12457290",
   "metadata": {
    "tags": []
   },
   "outputs": [],
   "source": [
    "type_map = {'di-int': 'di', 'tetra-int': 'tetra', 'tri-int': 'tri', 'mono-int': 'mono', 'sesq':'sesqui'}"
   ]
  },
  {
   "cell_type": "code",
   "execution_count": 20,
   "id": "934b1f49-7213-4241-a3b3-8e302d0a3b31",
   "metadata": {
    "tags": []
   },
   "outputs": [
    {
     "name": "stderr",
     "output_type": "stream",
     "text": [
      "C:\\Users\\terca\\AppData\\Local\\Temp\\ipykernel_10800\\2473752471.py:1: SettingWithCopyWarning: \n",
      "A value is trying to be set on a copy of a slice from a DataFrame.\n",
      "Try using .loc[row_indexer,col_indexer] = value instead\n",
      "\n",
      "See the caveats in the documentation: https://pandas.pydata.org/pandas-docs/stable/user_guide/indexing.html#returning-a-view-versus-a-copy\n",
      "  df['type'] = df['type'].apply(lambda x: type_map.get(x,x))\n"
     ]
    }
   ],
   "source": [
    "df['type'] = df['type'].apply(lambda x: type_map.get(x,x))"
   ]
  },
  {
   "cell_type": "code",
   "execution_count": 21,
   "id": "42287d6d-25a6-4ce7-b748-cd4a8d06617a",
   "metadata": {
    "tags": []
   },
   "outputs": [
    {
     "data": {
      "text/plain": [
       "array(['sesqui', 'di', 'mono', 'tri', 'sester', 'hemi', 'tetra',\n",
       "       'sesquar', 'hsqs'], dtype=object)"
      ]
     },
     "execution_count": 21,
     "metadata": {},
     "output_type": "execute_result"
    }
   ],
   "source": [
    "df['type'].unique()"
   ]
  },
  {
   "cell_type": "code",
   "execution_count": 21,
   "id": "714dad4a-28a4-4bd9-8f0e-e52cf6f232ca",
   "metadata": {
    "tags": []
   },
   "outputs": [],
   "source": [
    "# remove hsqs (hydroxzsqualene synthases) and hemi synthases"
   ]
  },
  {
   "cell_type": "code",
   "execution_count": 22,
   "id": "4fb51769-c6fc-45d6-ac12-4972a171711e",
   "metadata": {
    "tags": []
   },
   "outputs": [],
   "source": [
    "df = df[~df['type'].isin(['hemi','hsqs'])]"
   ]
  },
  {
   "cell_type": "code",
   "execution_count": 23,
   "id": "24a485fc",
   "metadata": {},
   "outputs": [
    {
     "data": {
      "text/plain": [
       "(2099, 27)"
      ]
     },
     "execution_count": 23,
     "metadata": {},
     "output_type": "execute_result"
    }
   ],
   "source": [
    "df.shape"
   ]
  },
  {
   "cell_type": "code",
   "execution_count": 25,
   "id": "f9658fd6",
   "metadata": {},
   "outputs": [
    {
     "data": {
      "text/plain": [
       "(1199, 27)"
      ]
     },
     "execution_count": 25,
     "metadata": {},
     "output_type": "execute_result"
    }
   ],
   "source": [
    "df.drop_duplicates().shape"
   ]
  },
  {
   "cell_type": "code",
   "execution_count": 26,
   "id": "df05825f",
   "metadata": {},
   "outputs": [
    {
     "data": {
      "text/plain": [
       "1125"
      ]
     },
     "execution_count": 26,
     "metadata": {},
     "output_type": "execute_result"
    }
   ],
   "source": [
    "df['id'].nunique()"
   ]
  },
  {
   "cell_type": "code",
   "execution_count": 27,
   "id": "1492255e-9ed0-44fc-851b-e7670c44d6ba",
   "metadata": {
    "tags": []
   },
   "outputs": [],
   "source": [
    "df = df.drop_duplicates()"
   ]
  },
  {
   "cell_type": "markdown",
   "id": "e03742b2",
   "metadata": {},
   "source": [
    "## Update motifs"
   ]
  },
  {
   "cell_type": "code",
   "execution_count": 34,
   "id": "9f61f584",
   "metadata": {},
   "outputs": [],
   "source": [
    "df[['DDXXD', 'NSE/DTE', 'DXDD']] = df[['DDXXD', 'NSE/DTE', 'DXDD']].fillna(False)"
   ]
  },
  {
   "cell_type": "code",
   "execution_count": 35,
   "id": "80ed516f-1f77-4812-8dbe-26627f40e914",
   "metadata": {
    "tags": []
   },
   "outputs": [],
   "source": [
    "df.to_csv('../data/tps_db.csv', index=False)"
   ]
  },
  {
   "cell_type": "code",
   "execution_count": null,
   "id": "d2c65199",
   "metadata": {},
   "outputs": [],
   "source": []
  }
 ],
 "metadata": {
  "kernelspec": {
   "display_name": "Python 3 (ipykernel)",
   "language": "python",
   "name": "python3"
  },
  "language_info": {
   "codemirror_mode": {
    "name": "ipython",
    "version": 3
   },
   "file_extension": ".py",
   "mimetype": "text/x-python",
   "name": "python",
   "nbconvert_exporter": "python",
   "pygments_lexer": "ipython3",
   "version": "3.11.5"
  }
 },
 "nbformat": 4,
 "nbformat_minor": 5
}

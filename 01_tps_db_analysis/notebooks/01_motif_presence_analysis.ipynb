{
 "cells": [
  {
   "cell_type": "markdown",
   "id": "06130826-675c-41de-ab96-83a6c3368ec4",
   "metadata": {},
   "source": [
    "# Motif presence analysis"
   ]
  },
  {
   "cell_type": "code",
   "execution_count": 2,
   "id": "bdbb109e-2440-4a2b-8721-f323431fdf70",
   "metadata": {
    "tags": []
   },
   "outputs": [],
   "source": [
    "import pandas as pd"
   ]
  },
  {
   "cell_type": "code",
   "execution_count": 3,
   "id": "ea7cd929-499b-4678-b796-4c281995056a",
   "metadata": {
    "tags": []
   },
   "outputs": [],
   "source": [
    "import ast"
   ]
  },
  {
   "cell_type": "code",
   "execution_count": 4,
   "id": "35c894df-6234-4d90-8acc-7baa46a8c5f2",
   "metadata": {
    "tags": []
   },
   "outputs": [],
   "source": [
    "import numpy as np"
   ]
  },
  {
   "cell_type": "markdown",
   "id": "1a9fe379-6165-4525-b1cf-aafd0ca2235a",
   "metadata": {},
   "source": [
    "## Load the data"
   ]
  },
  {
   "cell_type": "code",
   "execution_count": 11,
   "id": "189045d1-0b35-45a0-a463-2a0750587952",
   "metadata": {
    "tags": []
   },
   "outputs": [],
   "source": [
    "df = pd.read_csv('../data/tps_db.csv')"
   ]
  },
  {
   "cell_type": "code",
   "execution_count": 14,
   "id": "60b768a5",
   "metadata": {},
   "outputs": [],
   "source": [
    "df_unique = df[['id', 'name', 'sequence', 'species', 'kingdom',\n",
    "       'pfam_architecture', 'supfam_architecture', 'PF06330.14', 'PF01397.24',\n",
    "       'PF03936.19', 'PF00494.22', 'PF13249.9', 'PF19086.3', 'PF13243.9',\n",
    "       '0041184', '0053354', '0053355', '0048261', '0048806', '0046340',\n",
    "       '0047573', 'motifs', 'DDXXD', 'NSE/DTE', 'DXDD', 'length']].drop_duplicates()"
   ]
  },
  {
   "cell_type": "markdown",
   "id": "a8cbfb19-7c56-429b-9a8b-2a9731e219fb",
   "metadata": {},
   "source": [
    "## Motifs presence"
   ]
  },
  {
   "cell_type": "markdown",
   "id": "caa3468b-c6c8-439a-aff7-580352f5286f",
   "metadata": {},
   "source": [
    "**Motif definitions**\n",
    "\n",
    "**Class I**\n",
    "- **motif DDXXD**:\n",
    "    - DDXXD\n",
    "    - DDXX[DE]\n",
    "- **motif NSE/DTE**\n",
    "    - [ND]DXX[ST]XXXE\n",
    "    - [ND]D[LIV]X[ST]XXXE\n",
    "    - [ND][DE]XX[ST]XX[NKR][DE]\n",
    "    \n",
    "**Class II**    \n",
    "- **motif DXDD**\n",
    "    - DXDD\n",
    "\n"
   ]
  },
  {
   "cell_type": "code",
   "execution_count": 17,
   "id": "95b19af1-6b0d-43ea-afb0-a7aa30218e34",
   "metadata": {
    "tags": []
   },
   "outputs": [],
   "source": [
    "df_unique['motifs'] = df_unique['motifs'].apply(lambda x: {} if type(x)==float else ast.literal_eval(x))"
   ]
  },
  {
   "cell_type": "code",
   "execution_count": 18,
   "id": "b9032ecb-c56d-4ded-9612-41397fbc784c",
   "metadata": {
    "tags": []
   },
   "outputs": [
    {
     "data": {
      "text/plain": [
       "motifs\n",
       "{DDXXD, NSE/DTE}          527\n",
       "{DDXXD}                   219\n",
       "{}                        136\n",
       "{DXDD, DDXXD, NSE/DTE}     72\n",
       "{NSE/DTE}                  69\n",
       "{DXDD}                     42\n",
       "{DXDD, DDXXD}              40\n",
       "{DXDD, NSE/DTE}            21\n",
       "Name: count, dtype: int64"
      ]
     },
     "execution_count": 18,
     "metadata": {},
     "output_type": "execute_result"
    }
   ],
   "source": [
    "df_unique['motifs'].value_counts()"
   ]
  },
  {
   "cell_type": "markdown",
   "id": "7e4e1628-44a0-44d3-a875-7f72cd897996",
   "metadata": {},
   "source": [
    "### Class I motifs"
   ]
  },
  {
   "cell_type": "markdown",
   "id": "2d60880e-10c3-4d2b-8c98-b7919a146dd7",
   "metadata": {},
   "source": [
    "864 sequences have the class I DDXXD motif"
   ]
  },
  {
   "cell_type": "code",
   "execution_count": 58,
   "id": "d365fe09-548a-4bd5-8257-c14c17605caf",
   "metadata": {
    "tags": []
   },
   "outputs": [
    {
     "data": {
      "text/plain": [
       "(864, 16)"
      ]
     },
     "execution_count": 58,
     "metadata": {},
     "output_type": "execute_result"
    }
   ],
   "source": [
    "df_unique[df_unique['DDXXD']].shape"
   ]
  },
  {
   "cell_type": "markdown",
   "id": "2fed6d10-b73d-4a2a-8ee5-f8b0c28e1fb2",
   "metadata": {},
   "source": [
    "693 sequences have the class I NSE/DTE motif"
   ]
  },
  {
   "cell_type": "code",
   "execution_count": 59,
   "id": "969cde16-204d-4590-8665-c06c91eac3f4",
   "metadata": {
    "tags": []
   },
   "outputs": [
    {
     "data": {
      "text/plain": [
       "(693, 16)"
      ]
     },
     "execution_count": 59,
     "metadata": {},
     "output_type": "execute_result"
    }
   ],
   "source": [
    "df_unique[df_unique['NSE/DTE']].shape"
   ]
  },
  {
   "cell_type": "markdown",
   "id": "f6b63c59-0844-4136-928d-698d3d60b179",
   "metadata": {},
   "source": [
    "603 sequences have both DDXXD and NSE/DTE motif"
   ]
  },
  {
   "cell_type": "code",
   "execution_count": 60,
   "id": "a195d77d-8b09-4c39-84dd-3a13acef85aa",
   "metadata": {
    "tags": []
   },
   "outputs": [
    {
     "data": {
      "text/plain": [
       "(603, 16)"
      ]
     },
     "execution_count": 60,
     "metadata": {},
     "output_type": "execute_result"
    }
   ],
   "source": [
    "df_unique[df_unique['NSE/DTE'] & df_unique['DDXXD']].shape"
   ]
  },
  {
   "cell_type": "markdown",
   "id": "dff33afc-3cdc-4cf9-a99e-46349c97c9ac",
   "metadata": {},
   "source": [
    "### Class II motif"
   ]
  },
  {
   "cell_type": "markdown",
   "id": "87373e7c-0ecd-40b6-bf81-8101bab8b5e4",
   "metadata": {},
   "source": [
    "175 sequences has the Class II DXDD motif"
   ]
  },
  {
   "cell_type": "code",
   "execution_count": 63,
   "id": "92c4fbae-7871-44b2-a9b8-07dff67a518e",
   "metadata": {
    "tags": []
   },
   "outputs": [
    {
     "data": {
      "text/plain": [
       "(175, 16)"
      ]
     },
     "execution_count": 63,
     "metadata": {},
     "output_type": "execute_result"
    }
   ],
   "source": [
    "df_unique[df_unique['DXDD']].shape"
   ]
  },
  {
   "cell_type": "markdown",
   "id": "a029ee86-c84d-4acf-81f3-0ab73f13d07f",
   "metadata": {},
   "source": [
    "### TPS without motif"
   ]
  },
  {
   "cell_type": "markdown",
   "id": "43320abe-c999-4a3a-b40d-c6bf7b45f6fd",
   "metadata": {},
   "source": [
    "There are 137 sequences without a motif (12%)"
   ]
  },
  {
   "cell_type": "markdown",
   "id": "f1e9238c-901c-4eda-a565-46ff7b9aa4bf",
   "metadata": {},
   "source": [
    "This can be due to slight variations in the motifs"
   ]
  },
  {
   "cell_type": "code",
   "execution_count": 76,
   "id": "d2cf0dbb-c709-4add-899d-e87eff457a6a",
   "metadata": {
    "tags": []
   },
   "outputs": [
    {
     "data": {
      "text/plain": [
       "12.09179170344219"
      ]
     },
     "execution_count": 76,
     "metadata": {},
     "output_type": "execute_result"
    }
   ],
   "source": [
    "137/df_unique.shape[0]*100"
   ]
  },
  {
   "cell_type": "code",
   "execution_count": 77,
   "id": "efa7bf9c-d694-4fbe-ac0d-a09e122c01bb",
   "metadata": {
    "tags": []
   },
   "outputs": [
    {
     "data": {
      "text/plain": [
       "137"
      ]
     },
     "execution_count": 77,
     "metadata": {},
     "output_type": "execute_result"
    }
   ],
   "source": [
    "df_unique[(df_unique['NSE/DTE']==False) & (df_unique['DDXXD']==False) & (df_unique['DXDD']==False)].shape[0]"
   ]
  },
  {
   "cell_type": "code",
   "execution_count": 79,
   "id": "3d3e2dfb-04c6-41aa-b863-375153b8ca5a",
   "metadata": {
    "tags": []
   },
   "outputs": [
    {
     "data": {
      "text/plain": [
       "0       ['sesq' 'mono']\n",
       "1         ['di' 'sesq']\n",
       "2                ['di']\n",
       "3            ['di-int']\n",
       "4                ['di']\n",
       "             ...       \n",
       "1128         ['di-int']\n",
       "1129           ['sesq']\n",
       "1130           ['mono']\n",
       "1131           ['sesq']\n",
       "1132            ['tri']\n",
       "Name: Type (mono, sesq, di, …), Length: 1133, dtype: object"
      ]
     },
     "execution_count": 79,
     "metadata": {},
     "output_type": "execute_result"
    }
   ],
   "source": [
    "df_unique['Type (mono, sesq, di, …)']"
   ]
  },
  {
   "cell_type": "code",
   "execution_count": 85,
   "id": "c1ad1026-e569-4390-93bf-61a704b7133f",
   "metadata": {
    "tags": []
   },
   "outputs": [],
   "source": [
    "cols = ['id','kingdom','type','DDXXD','NSE/DTE','DXDD']"
   ]
  },
  {
   "cell_type": "markdown",
   "id": "01078e4b-69f2-49a1-8005-31a2b7c8547e",
   "metadata": {},
   "source": [
    "### MonoTPS"
   ]
  },
  {
   "cell_type": "code",
   "execution_count": 131,
   "id": "e0bc0085-bcf1-4511-b851-ea3983d285a3",
   "metadata": {
    "tags": []
   },
   "outputs": [],
   "source": [
    "sele = df[df['type']=='mono']"
   ]
  },
  {
   "cell_type": "code",
   "execution_count": 132,
   "id": "a42f0dad-0706-45fc-98c7-683732bcdf0d",
   "metadata": {
    "tags": []
   },
   "outputs": [],
   "source": [
    "sele = sele[cols].drop_duplicates(subset='id')"
   ]
  },
  {
   "cell_type": "code",
   "execution_count": 133,
   "id": "0c08d0f8-57fe-47f3-ae72-5f9571d5f627",
   "metadata": {
    "tags": []
   },
   "outputs": [],
   "source": [
    "assert sele['id'].nunique() == sele.shape[0]"
   ]
  },
  {
   "cell_type": "code",
   "execution_count": null,
   "id": "47b85cdb-b7da-42c4-8e11-d11f9a595546",
   "metadata": {},
   "outputs": [
    {
     "data": {
      "text/plain": [
       "(243, 6)"
      ]
     },
     "execution_count": 137,
     "metadata": {},
     "output_type": "execute_result"
    }
   ],
   "source": [
    "sele.shape"
   ]
  },
  {
   "cell_type": "code",
   "execution_count": 140,
   "id": "33eadbde-44a1-4ab2-b1c3-6a0155a07e23",
   "metadata": {
    "tags": []
   },
   "outputs": [
    {
     "data": {
      "text/plain": [
       "0.9958847736625515"
      ]
     },
     "execution_count": 140,
     "metadata": {},
     "output_type": "execute_result"
    }
   ],
   "source": [
    "sele[(sele['NSE/DTE']==True) | (sele['DDXXD']==True) | (sele['DXDD']==True)].shape[0]/sele.shape[0]"
   ]
  },
  {
   "cell_type": "code",
   "execution_count": 101,
   "id": "aa1ee38f-e4a0-4a94-a0d3-5939a05e1bb3",
   "metadata": {
    "tags": []
   },
   "outputs": [
    {
     "data": {
      "text/plain": [
       "DDXXD\n",
       "True     0.967078\n",
       "False    0.032922\n",
       "Name: proportion, dtype: float64"
      ]
     },
     "execution_count": 101,
     "metadata": {},
     "output_type": "execute_result"
    }
   ],
   "source": [
    "sele['DDXXD'].value_counts(normalize=True)"
   ]
  },
  {
   "cell_type": "code",
   "execution_count": 103,
   "id": "9b787f21-9247-4df3-b261-9e757391e5f5",
   "metadata": {
    "tags": []
   },
   "outputs": [
    {
     "data": {
      "text/plain": [
       "NSE/DTE\n",
       "True     0.63786\n",
       "False    0.36214\n",
       "Name: proportion, dtype: float64"
      ]
     },
     "execution_count": 103,
     "metadata": {},
     "output_type": "execute_result"
    }
   ],
   "source": [
    "sele['NSE/DTE'].value_counts(normalize=True)"
   ]
  },
  {
   "cell_type": "code",
   "execution_count": 104,
   "id": "3f0f30e1-61f5-4360-82db-c60ed9f2f9d0",
   "metadata": {
    "tags": []
   },
   "outputs": [
    {
     "data": {
      "text/plain": [
       "DXDD\n",
       "False    0.930041\n",
       "True     0.069959\n",
       "Name: proportion, dtype: float64"
      ]
     },
     "execution_count": 104,
     "metadata": {},
     "output_type": "execute_result"
    }
   ],
   "source": [
    "sele['DXDD'].value_counts(normalize=True)"
   ]
  },
  {
   "cell_type": "markdown",
   "id": "8660a857-3757-47e7-a94a-9e9874a09605",
   "metadata": {},
   "source": [
    "### SesquiTPS"
   ]
  },
  {
   "cell_type": "code",
   "execution_count": 141,
   "id": "b58ab8d6-597b-4949-8234-993c619c8fb6",
   "metadata": {
    "tags": []
   },
   "outputs": [],
   "source": [
    "sele = df[df['type'] == 'sesq']\n",
    "sele = sele[cols].drop_duplicates(subset='id')\n",
    "assert sele['id'].nunique() == sele.shape[0]"
   ]
  },
  {
   "cell_type": "code",
   "execution_count": null,
   "id": "b76cf26c-3629-4770-8e3f-0b2efd813106",
   "metadata": {},
   "outputs": [],
   "source": [
    "sele[(sele['NSE/DTE']==True) | (sele['DDXXD']==True) | (sele['DXDD']==True)].shape[0]/sele.shape[0]"
   ]
  },
  {
   "cell_type": "code",
   "execution_count": 106,
   "id": "7a6b8689-b53a-4651-a005-eeb312e84058",
   "metadata": {
    "tags": []
   },
   "outputs": [
    {
     "data": {
      "text/plain": [
       "DDXXD\n",
       "True     0.858491\n",
       "False    0.141509\n",
       "Name: proportion, dtype: float64"
      ]
     },
     "execution_count": 106,
     "metadata": {},
     "output_type": "execute_result"
    }
   ],
   "source": [
    "sele['DDXXD'].value_counts(normalize=True)"
   ]
  },
  {
   "cell_type": "code",
   "execution_count": 107,
   "id": "ad4bc796-8b7b-43f9-90a6-d54996f59dfc",
   "metadata": {
    "tags": []
   },
   "outputs": [
    {
     "data": {
      "text/plain": [
       "NSE/DTE\n",
       "True     0.758491\n",
       "False    0.241509\n",
       "Name: proportion, dtype: float64"
      ]
     },
     "execution_count": 107,
     "metadata": {},
     "output_type": "execute_result"
    }
   ],
   "source": [
    "sele['NSE/DTE'].value_counts(normalize=True)"
   ]
  },
  {
   "cell_type": "code",
   "execution_count": 108,
   "id": "5a248bbb-43e0-4d16-bdc1-31966ae31f64",
   "metadata": {
    "tags": []
   },
   "outputs": [
    {
     "data": {
      "text/plain": [
       "DXDD\n",
       "False    0.879245\n",
       "True     0.120755\n",
       "Name: proportion, dtype: float64"
      ]
     },
     "execution_count": 108,
     "metadata": {},
     "output_type": "execute_result"
    }
   ],
   "source": [
    "sele['DXDD'].value_counts(normalize=True)"
   ]
  },
  {
   "cell_type": "markdown",
   "id": "a1a788e6-1167-421b-908c-5ab3d0bba3a9",
   "metadata": {},
   "source": [
    "### DiTPS"
   ]
  },
  {
   "cell_type": "code",
   "execution_count": 145,
   "id": "8a295d8a-75e9-4b75-831d-6b9436001b2f",
   "metadata": {
    "tags": []
   },
   "outputs": [],
   "source": [
    "sele = df[df['type'] == 'di']\n",
    "sele = sele[cols].drop_duplicates(subset='id')\n",
    "assert sele['id'].nunique() == sele.shape[0]"
   ]
  },
  {
   "cell_type": "code",
   "execution_count": 146,
   "id": "023d7b48-5126-4a2c-a1b4-0a519a4ba4b7",
   "metadata": {
    "tags": []
   },
   "outputs": [
    {
     "data": {
      "text/plain": [
       "0.9951690821256038"
      ]
     },
     "execution_count": 146,
     "metadata": {},
     "output_type": "execute_result"
    }
   ],
   "source": [
    "sele[(sele['NSE/DTE']==True) | (sele['DDXXD']==True) | (sele['DXDD']==True)].shape[0]/sele.shape[0]"
   ]
  },
  {
   "cell_type": "code",
   "execution_count": null,
   "id": "425a788b-afdc-4d7f-827e-1b6395154156",
   "metadata": {},
   "outputs": [
    {
     "data": {
      "text/plain": [
       "DDXXD\n",
       "True     0.78744\n",
       "False    0.21256\n",
       "Name: proportion, dtype: float64"
      ]
     },
     "execution_count": 110,
     "metadata": {},
     "output_type": "execute_result"
    }
   ],
   "source": [
    "sele['DDXXD'].value_counts(normalize=True)"
   ]
  },
  {
   "cell_type": "code",
   "execution_count": 111,
   "id": "60402ca6-bee0-4846-94ba-f4ddbb57d04a",
   "metadata": {
    "tags": []
   },
   "outputs": [
    {
     "data": {
      "text/plain": [
       "NSE/DTE\n",
       "True     0.628019\n",
       "False    0.371981\n",
       "Name: proportion, dtype: float64"
      ]
     },
     "execution_count": 111,
     "metadata": {},
     "output_type": "execute_result"
    }
   ],
   "source": [
    "sele['NSE/DTE'].value_counts(normalize=True)"
   ]
  },
  {
   "cell_type": "code",
   "execution_count": 112,
   "id": "060d0091-e657-4bc7-a787-e32bc7fd1e50",
   "metadata": {
    "tags": []
   },
   "outputs": [
    {
     "data": {
      "text/plain": [
       "DXDD\n",
       "False    0.613527\n",
       "True     0.386473\n",
       "Name: proportion, dtype: float64"
      ]
     },
     "execution_count": 112,
     "metadata": {},
     "output_type": "execute_result"
    }
   ],
   "source": [
    "sele['DXDD'].value_counts(normalize=True)"
   ]
  },
  {
   "cell_type": "markdown",
   "id": "3f388f03-bfd7-485f-a98c-8009eebfa02b",
   "metadata": {},
   "source": [
    "### SesterTPS"
   ]
  },
  {
   "cell_type": "code",
   "execution_count": 147,
   "id": "ebc7f089-68bb-4040-9786-029b278947e7",
   "metadata": {
    "tags": []
   },
   "outputs": [],
   "source": [
    "sele = df[df['type'] == 'sester']\n",
    "sele = sele[cols].drop_duplicates(subset='id')\n",
    "assert sele['id'].nunique() == sele.shape[0]"
   ]
  },
  {
   "cell_type": "code",
   "execution_count": 148,
   "id": "ff166c81-05b1-4d3e-984d-5f45c1a371e8",
   "metadata": {
    "tags": []
   },
   "outputs": [
    {
     "data": {
      "text/plain": [
       "0.9795918367346939"
      ]
     },
     "execution_count": 148,
     "metadata": {},
     "output_type": "execute_result"
    }
   ],
   "source": [
    "sele[(sele['NSE/DTE']==True) | (sele['DDXXD']==True) | (sele['DXDD']==True)].shape[0]/sele.shape[0]"
   ]
  },
  {
   "cell_type": "code",
   "execution_count": 114,
   "id": "ca57c2b0-4170-490e-80f9-4d4fd6940197",
   "metadata": {
    "tags": []
   },
   "outputs": [
    {
     "data": {
      "text/plain": [
       "DDXXD\n",
       "True     0.959184\n",
       "False    0.040816\n",
       "Name: proportion, dtype: float64"
      ]
     },
     "execution_count": 114,
     "metadata": {},
     "output_type": "execute_result"
    }
   ],
   "source": [
    "sele['DDXXD'].value_counts(normalize=True)"
   ]
  },
  {
   "cell_type": "code",
   "execution_count": 115,
   "id": "8e6fb561-ccdc-452f-8954-866f0e8d7874",
   "metadata": {
    "tags": []
   },
   "outputs": [
    {
     "data": {
      "text/plain": [
       "NSE/DTE\n",
       "True     0.938776\n",
       "False    0.061224\n",
       "Name: proportion, dtype: float64"
      ]
     },
     "execution_count": 115,
     "metadata": {},
     "output_type": "execute_result"
    }
   ],
   "source": [
    "sele['NSE/DTE'].value_counts(normalize=True)"
   ]
  },
  {
   "cell_type": "code",
   "execution_count": 116,
   "id": "8b02f3f6-3db0-40d9-a370-8b9279dcc65e",
   "metadata": {
    "tags": []
   },
   "outputs": [
    {
     "data": {
      "text/plain": [
       "DXDD\n",
       "False    0.877551\n",
       "True     0.122449\n",
       "Name: proportion, dtype: float64"
      ]
     },
     "execution_count": 116,
     "metadata": {},
     "output_type": "execute_result"
    }
   ],
   "source": [
    "sele['DXDD'].value_counts(normalize=True)"
   ]
  },
  {
   "cell_type": "markdown",
   "id": "96003284-3e08-46bd-89e5-f2e2e8c83471",
   "metadata": {},
   "source": [
    "### TriTPS"
   ]
  },
  {
   "cell_type": "code",
   "execution_count": 150,
   "id": "d35390c7-3691-42ad-b454-9fa346313040",
   "metadata": {
    "tags": []
   },
   "outputs": [],
   "source": [
    "sele = df[df['type'] == 'tri']\n",
    "sele = sele[cols].drop_duplicates(subset='id')\n",
    "assert sele['id'].nunique() == sele.shape[0]"
   ]
  },
  {
   "cell_type": "code",
   "execution_count": 151,
   "id": "ea809dca-2003-408b-858b-2e618a5a53b9",
   "metadata": {
    "tags": []
   },
   "outputs": [
    {
     "data": {
      "text/plain": [
       "0.18120805369127516"
      ]
     },
     "execution_count": 151,
     "metadata": {},
     "output_type": "execute_result"
    }
   ],
   "source": [
    "sele[(sele['NSE/DTE']==True) | (sele['DDXXD']==True) | (sele['DXDD']==True)].shape[0]/sele.shape[0]"
   ]
  },
  {
   "cell_type": "code",
   "execution_count": 118,
   "id": "26ff12b6-cda2-4f65-9b37-b7d2e9f1ccdf",
   "metadata": {
    "tags": []
   },
   "outputs": [
    {
     "data": {
      "text/plain": [
       "DDXXD\n",
       "False    0.879195\n",
       "True     0.120805\n",
       "Name: proportion, dtype: float64"
      ]
     },
     "execution_count": 118,
     "metadata": {},
     "output_type": "execute_result"
    }
   ],
   "source": [
    "sele['DDXXD'].value_counts(normalize=True)"
   ]
  },
  {
   "cell_type": "code",
   "execution_count": 119,
   "id": "5b3c4597-caa9-4400-91a1-a5ebd6e72581",
   "metadata": {
    "tags": []
   },
   "outputs": [
    {
     "data": {
      "text/plain": [
       "NSE/DTE\n",
       "False    0.979866\n",
       "True     0.020134\n",
       "Name: proportion, dtype: float64"
      ]
     },
     "execution_count": 119,
     "metadata": {},
     "output_type": "execute_result"
    }
   ],
   "source": [
    "sele['NSE/DTE'].value_counts(normalize=True)"
   ]
  },
  {
   "cell_type": "code",
   "execution_count": 120,
   "id": "390a2269-0857-41b2-81e3-2dd54d535d86",
   "metadata": {
    "tags": []
   },
   "outputs": [
    {
     "data": {
      "text/plain": [
       "DXDD\n",
       "False    0.90604\n",
       "True     0.09396\n",
       "Name: proportion, dtype: float64"
      ]
     },
     "execution_count": 120,
     "metadata": {},
     "output_type": "execute_result"
    }
   ],
   "source": [
    "sele['DXDD'].value_counts(normalize=True)"
   ]
  },
  {
   "cell_type": "markdown",
   "id": "d260773f-5424-4801-bdca-b58a6b105b49",
   "metadata": {},
   "source": [
    "### SesquarTPS"
   ]
  },
  {
   "cell_type": "code",
   "execution_count": 152,
   "id": "f4ab29da-bb1a-4c75-ba9f-23c48514e6db",
   "metadata": {
    "tags": []
   },
   "outputs": [],
   "source": [
    "sele = df[df['type'] == 'sesquar']\n",
    "sele = sele[cols].drop_duplicates(subset='id')\n",
    "assert sele['id'].nunique() == sele.shape[0]"
   ]
  },
  {
   "cell_type": "code",
   "execution_count": 153,
   "id": "f471999c-16f4-4f15-a574-578826ce4e48",
   "metadata": {
    "tags": []
   },
   "outputs": [
    {
     "data": {
      "text/plain": [
       "0.5"
      ]
     },
     "execution_count": 153,
     "metadata": {},
     "output_type": "execute_result"
    }
   ],
   "source": [
    "sele[(sele['NSE/DTE']==True) | (sele['DDXXD']==True) | (sele['DXDD']==True)].shape[0]/sele.shape[0]"
   ]
  },
  {
   "cell_type": "code",
   "execution_count": null,
   "id": "877bc4f1-28f4-409f-a6bf-f7532ecdbe54",
   "metadata": {
    "tags": []
   },
   "outputs": [],
   "source": [
    "sele['DDXXD'].value_counts(normalize=True)"
   ]
  },
  {
   "cell_type": "code",
   "execution_count": 123,
   "id": "376e0a35-69c6-4bc8-9780-9f77e252378a",
   "metadata": {
    "tags": []
   },
   "outputs": [
    {
     "data": {
      "text/plain": [
       "NSE/DTE\n",
       "False    1.0\n",
       "Name: proportion, dtype: float64"
      ]
     },
     "execution_count": 123,
     "metadata": {},
     "output_type": "execute_result"
    }
   ],
   "source": [
    "sele['NSE/DTE'].value_counts(normalize=True)"
   ]
  },
  {
   "cell_type": "code",
   "execution_count": 124,
   "id": "20d3ae82-ac15-45df-a7d6-4a6a28f56bcb",
   "metadata": {
    "tags": []
   },
   "outputs": [
    {
     "data": {
      "text/plain": [
       "DXDD\n",
       "True     0.5\n",
       "False    0.5\n",
       "Name: proportion, dtype: float64"
      ]
     },
     "execution_count": 124,
     "metadata": {},
     "output_type": "execute_result"
    }
   ],
   "source": [
    "sele['DXDD'].value_counts(normalize=True)"
   ]
  },
  {
   "cell_type": "markdown",
   "id": "829f0298-9865-4e63-9336-1bf8d017c7ab",
   "metadata": {},
   "source": [
    "### TetraTPS"
   ]
  },
  {
   "cell_type": "code",
   "execution_count": 154,
   "id": "00247bd4-8641-4b2e-a0e5-bca19e5b41a4",
   "metadata": {
    "tags": []
   },
   "outputs": [],
   "source": [
    "sele = df[df['type'] == 'tetra']\n",
    "sele = sele[cols].drop_duplicates(subset='id')\n",
    "assert sele['id'].nunique() == sele.shape[0]"
   ]
  },
  {
   "cell_type": "code",
   "execution_count": 155,
   "id": "b7cf46cc-4657-4bed-b0ff-47d169f06348",
   "metadata": {
    "tags": []
   },
   "outputs": [
    {
     "data": {
      "text/plain": [
       "0.3888888888888889"
      ]
     },
     "execution_count": 155,
     "metadata": {},
     "output_type": "execute_result"
    }
   ],
   "source": [
    "sele[(sele['NSE/DTE']==True) | (sele['DDXXD']==True) | (sele['DXDD']==True)].shape[0]/sele.shape[0]"
   ]
  },
  {
   "cell_type": "code",
   "execution_count": 128,
   "id": "d448295a-802a-41fa-9e05-1a822209ef9c",
   "metadata": {
    "tags": []
   },
   "outputs": [
    {
     "data": {
      "text/plain": [
       "DDXXD\n",
       "False    0.611111\n",
       "True     0.388889\n",
       "Name: proportion, dtype: float64"
      ]
     },
     "execution_count": 128,
     "metadata": {},
     "output_type": "execute_result"
    }
   ],
   "source": [
    "sele['DDXXD'].value_counts(normalize=True)"
   ]
  },
  {
   "cell_type": "code",
   "execution_count": 129,
   "id": "185f9201-2204-41f9-9b43-51966d326742",
   "metadata": {
    "tags": []
   },
   "outputs": [
    {
     "data": {
      "text/plain": [
       "NSE/DTE\n",
       "False    1.0\n",
       "Name: proportion, dtype: float64"
      ]
     },
     "execution_count": 129,
     "metadata": {},
     "output_type": "execute_result"
    }
   ],
   "source": [
    "sele['NSE/DTE'].value_counts(normalize=True)"
   ]
  },
  {
   "cell_type": "code",
   "execution_count": 130,
   "id": "d1ecb867-7e09-404d-92ea-326d4741dcbe",
   "metadata": {
    "tags": []
   },
   "outputs": [
    {
     "data": {
      "text/plain": [
       "DXDD\n",
       "False    0.944444\n",
       "True     0.055556\n",
       "Name: proportion, dtype: float64"
      ]
     },
     "execution_count": 130,
     "metadata": {},
     "output_type": "execute_result"
    }
   ],
   "source": [
    "sele['DXDD'].value_counts(normalize=True)"
   ]
  }
 ],
 "metadata": {
  "kernelspec": {
   "display_name": "Python 3 (ipykernel)",
   "language": "python",
   "name": "python3"
  },
  "language_info": {
   "codemirror_mode": {
    "name": "ipython",
    "version": 3
   },
   "file_extension": ".py",
   "mimetype": "text/x-python",
   "name": "python",
   "nbconvert_exporter": "python",
   "pygments_lexer": "ipython3",
   "version": "3.11.5"
  }
 },
 "nbformat": 4,
 "nbformat_minor": 5
}

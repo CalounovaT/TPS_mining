{
 "cells": [
  {
   "cell_type": "markdown",
   "id": "06130826-675c-41de-ab96-83a6c3368ec4",
   "metadata": {},
   "source": [
    "# Domain architecture analysis"
   ]
  },
  {
   "cell_type": "code",
   "execution_count": 2,
   "id": "bdbb109e-2440-4a2b-8721-f323431fdf70",
   "metadata": {
    "tags": []
   },
   "outputs": [],
   "source": [
    "import pandas as pd"
   ]
  },
  {
   "cell_type": "code",
   "execution_count": 3,
   "id": "ea7cd929-499b-4678-b796-4c281995056a",
   "metadata": {
    "tags": []
   },
   "outputs": [],
   "source": [
    "import ast"
   ]
  },
  {
   "cell_type": "code",
   "execution_count": 4,
   "id": "35c894df-6234-4d90-8acc-7baa46a8c5f2",
   "metadata": {
    "tags": []
   },
   "outputs": [],
   "source": [
    "import numpy as np"
   ]
  },
  {
   "cell_type": "markdown",
   "id": "1a9fe379-6165-4525-b1cf-aafd0ca2235a",
   "metadata": {},
   "source": [
    "## Load the data"
   ]
  },
  {
   "cell_type": "code",
   "execution_count": 11,
   "id": "189045d1-0b35-45a0-a463-2a0750587952",
   "metadata": {
    "tags": []
   },
   "outputs": [],
   "source": [
    "df = pd.read_csv('../data/tps_db.csv')"
   ]
  },
  {
   "cell_type": "code",
   "execution_count": 14,
   "id": "60b768a5",
   "metadata": {},
   "outputs": [],
   "source": [
    "df_unique = df[['id', 'name', 'sequence', 'species', 'kingdom',\n",
    "       'pfam_architecture', 'supfam_architecture', 'PF06330.14', 'PF01397.24',\n",
    "       'PF03936.19', 'PF00494.22', 'PF13249.9', 'PF19086.3', 'PF13243.9',\n",
    "       '0041184', '0053354', '0053355', '0048261', '0048806', '0046340',\n",
    "       '0047573', 'motifs', 'DDXXD', 'NSE/DTE', 'DXDD', 'length']].drop_duplicates()"
   ]
  },
  {
   "cell_type": "markdown",
   "id": "35e9523e-afb9-47b7-9be4-51ac35bbca97",
   "metadata": {},
   "source": [
    "## Domain architecture"
   ]
  },
  {
   "cell_type": "code",
   "execution_count": 11,
   "id": "3198ded6-a389-4167-bc82-f3b0080ca249",
   "metadata": {
    "tags": []
   },
   "outputs": [],
   "source": [
    "cols = ['id','kingdom','type','pfam_architecture','supfam_architecture']"
   ]
  },
  {
   "cell_type": "code",
   "execution_count": null,
   "id": "6d7c77f1",
   "metadata": {},
   "outputs": [],
   "source": [
    "pfam_cols = [ 'PF06330.14', 'PF01397.24','PF03936.19', 'PF00494.22', 'PF13249.9', 'PF19086.3', 'PF13243.9']\n",
    "supfam_cols = ['0041184', '0053354', '0053355', '0048261', '0048806', '0046340', '0047573']"
   ]
  },
  {
   "cell_type": "code",
   "execution_count": 32,
   "id": "b99867b5-97a3-4927-b295-61ce0e123ef4",
   "metadata": {
    "tags": []
   },
   "outputs": [
    {
     "data": {
      "text/html": [
       "<div>\n",
       "<style scoped>\n",
       "    .dataframe tbody tr th:only-of-type {\n",
       "        vertical-align: middle;\n",
       "    }\n",
       "\n",
       "    .dataframe tbody tr th {\n",
       "        vertical-align: top;\n",
       "    }\n",
       "\n",
       "    .dataframe thead th {\n",
       "        text-align: right;\n",
       "    }\n",
       "</style>\n",
       "<table border=\"1\" class=\"dataframe\">\n",
       "  <thead>\n",
       "    <tr style=\"text-align: right;\">\n",
       "      <th></th>\n",
       "      <th>id</th>\n",
       "      <th>name</th>\n",
       "      <th>type</th>\n",
       "      <th>type_general</th>\n",
       "      <th>species</th>\n",
       "      <th>kingdom</th>\n",
       "      <th>product_names</th>\n",
       "      <th>product_counts</th>\n",
       "      <th>most_unique_product_name</th>\n",
       "      <th>most_unique_product_count</th>\n",
       "      <th>...</th>\n",
       "      <th>PF13243.9</th>\n",
       "      <th>architecture_supfam</th>\n",
       "      <th>architecture_l_supfam</th>\n",
       "      <th>0041184</th>\n",
       "      <th>0053354</th>\n",
       "      <th>0053355</th>\n",
       "      <th>0048261</th>\n",
       "      <th>0048806</th>\n",
       "      <th>0046340</th>\n",
       "      <th>0047573</th>\n",
       "    </tr>\n",
       "  </thead>\n",
       "  <tbody>\n",
       "    <tr>\n",
       "      <th>61</th>\n",
       "      <td>A0A0U5GNT1</td>\n",
       "      <td>Drimenol cyclase drtB</td>\n",
       "      <td>sesq</td>\n",
       "      <td>sesq</td>\n",
       "      <td>Aspergillus calidoustus</td>\n",
       "      <td>Fungi</td>\n",
       "      <td>drimenol</td>\n",
       "      <td>[3]</td>\n",
       "      <td>drimenol</td>\n",
       "      <td>3</td>\n",
       "      <td>...</td>\n",
       "      <td>NaN</td>\n",
       "      <td>NaN</td>\n",
       "      <td>NaN</td>\n",
       "      <td>NaN</td>\n",
       "      <td>NaN</td>\n",
       "      <td>NaN</td>\n",
       "      <td>NaN</td>\n",
       "      <td>NaN</td>\n",
       "      <td>NaN</td>\n",
       "      <td>NaN</td>\n",
       "    </tr>\n",
       "    <tr>\n",
       "      <th>71</th>\n",
       "      <td>A0A140AZ69</td>\n",
       "      <td>Terpene synthase</td>\n",
       "      <td>sesq; mono; di</td>\n",
       "      <td>mixed</td>\n",
       "      <td>Phyllotreta striolata</td>\n",
       "      <td>Insecta</td>\n",
       "      <td>β-bisabolene; (E)-α-bisabolene; (6E)-nerolidol...</td>\n",
       "      <td>[16, 6, 16, 58, 15, 27, 27, 7, 16, 6, 3, 16, 24]</td>\n",
       "      <td>(6Z)-nerolidol</td>\n",
       "      <td>3</td>\n",
       "      <td>...</td>\n",
       "      <td>NaN</td>\n",
       "      <td>NaN</td>\n",
       "      <td>NaN</td>\n",
       "      <td>NaN</td>\n",
       "      <td>NaN</td>\n",
       "      <td>NaN</td>\n",
       "      <td>NaN</td>\n",
       "      <td>NaN</td>\n",
       "      <td>NaN</td>\n",
       "      <td>NaN</td>\n",
       "    </tr>\n",
       "    <tr>\n",
       "      <th>678</th>\n",
       "      <td>M5AW86</td>\n",
       "      <td>Trifunctional sesterterpene/triterpene/sesquar...</td>\n",
       "      <td>sester; tri; sesquar</td>\n",
       "      <td>mixed</td>\n",
       "      <td>Alkalihalobacillus clausii</td>\n",
       "      <td>Bacteria</td>\n",
       "      <td>β-geranylfarnesene; β-hexaprene; β-heptaprene</td>\n",
       "      <td>[3, 1, 1]</td>\n",
       "      <td>β-hexaprene</td>\n",
       "      <td>1</td>\n",
       "      <td>...</td>\n",
       "      <td>NaN</td>\n",
       "      <td>NaN</td>\n",
       "      <td>NaN</td>\n",
       "      <td>NaN</td>\n",
       "      <td>NaN</td>\n",
       "      <td>NaN</td>\n",
       "      <td>NaN</td>\n",
       "      <td>NaN</td>\n",
       "      <td>NaN</td>\n",
       "      <td>NaN</td>\n",
       "    </tr>\n",
       "    <tr>\n",
       "      <th>761</th>\n",
       "      <td>P9WJ61</td>\n",
       "      <td>Tuberculosinyl adenosine transferase</td>\n",
       "      <td>di</td>\n",
       "      <td>di</td>\n",
       "      <td>Mycobacterium tuberculosis</td>\n",
       "      <td>Bacteria</td>\n",
       "      <td>(+)-copalol; manool; 13-epi-manool; (−)-ent-co...</td>\n",
       "      <td>[1, 1, 1, 1, 1, 1, 2]</td>\n",
       "      <td>(+)-copalol</td>\n",
       "      <td>1</td>\n",
       "      <td>...</td>\n",
       "      <td>NaN</td>\n",
       "      <td>NaN</td>\n",
       "      <td>NaN</td>\n",
       "      <td>NaN</td>\n",
       "      <td>NaN</td>\n",
       "      <td>NaN</td>\n",
       "      <td>NaN</td>\n",
       "      <td>NaN</td>\n",
       "      <td>NaN</td>\n",
       "      <td>NaN</td>\n",
       "    </tr>\n",
       "    <tr>\n",
       "      <th>1086</th>\n",
       "      <td>SRA.SRR18681978 (AgTS-1)</td>\n",
       "      <td>Alloaromadendrene synthase</td>\n",
       "      <td>sesq; mono</td>\n",
       "      <td>mixed</td>\n",
       "      <td>Agelas clathrodes</td>\n",
       "      <td>Animalia</td>\n",
       "      <td>(+)-alloaromadendrene; β-myricene; (E)-β-ocimene</td>\n",
       "      <td>[1, 5, 27]</td>\n",
       "      <td>(+)-alloaromadendrene</td>\n",
       "      <td>1</td>\n",
       "      <td>...</td>\n",
       "      <td>NaN</td>\n",
       "      <td>NaN</td>\n",
       "      <td>NaN</td>\n",
       "      <td>NaN</td>\n",
       "      <td>NaN</td>\n",
       "      <td>NaN</td>\n",
       "      <td>NaN</td>\n",
       "      <td>NaN</td>\n",
       "      <td>NaN</td>\n",
       "      <td>NaN</td>\n",
       "    </tr>\n",
       "  </tbody>\n",
       "</table>\n",
       "<p>5 rows × 28 columns</p>\n",
       "</div>"
      ],
      "text/plain": [
       "                            id  \\\n",
       "61                  A0A0U5GNT1   \n",
       "71                  A0A140AZ69   \n",
       "678                     M5AW86   \n",
       "761                     P9WJ61   \n",
       "1086  SRA.SRR18681978 (AgTS-1)   \n",
       "\n",
       "                                                   name                  type  \\\n",
       "61                                Drimenol cyclase drtB                  sesq   \n",
       "71                                     Terpene synthase        sesq; mono; di   \n",
       "678   Trifunctional sesterterpene/triterpene/sesquar...  sester; tri; sesquar   \n",
       "761                Tuberculosinyl adenosine transferase                    di   \n",
       "1086                         Alloaromadendrene synthase            sesq; mono   \n",
       "\n",
       "     type_general                     species   kingdom  \\\n",
       "61           sesq     Aspergillus calidoustus     Fungi   \n",
       "71          mixed       Phyllotreta striolata   Insecta   \n",
       "678         mixed  Alkalihalobacillus clausii  Bacteria   \n",
       "761            di  Mycobacterium tuberculosis  Bacteria   \n",
       "1086        mixed           Agelas clathrodes  Animalia   \n",
       "\n",
       "                                          product_names  \\\n",
       "61                                             drimenol   \n",
       "71    β-bisabolene; (E)-α-bisabolene; (6E)-nerolidol...   \n",
       "678       β-geranylfarnesene; β-hexaprene; β-heptaprene   \n",
       "761   (+)-copalol; manool; 13-epi-manool; (−)-ent-co...   \n",
       "1086   (+)-alloaromadendrene; β-myricene; (E)-β-ocimene   \n",
       "\n",
       "                                        product_counts  \\\n",
       "61                                                 [3]   \n",
       "71    [16, 6, 16, 58, 15, 27, 27, 7, 16, 6, 3, 16, 24]   \n",
       "678                                          [3, 1, 1]   \n",
       "761                              [1, 1, 1, 1, 1, 1, 2]   \n",
       "1086                                        [1, 5, 27]   \n",
       "\n",
       "     most_unique_product_name  most_unique_product_count  ... PF13243.9  \\\n",
       "61                   drimenol                          3  ...       NaN   \n",
       "71             (6Z)-nerolidol                          3  ...       NaN   \n",
       "678               β-hexaprene                          1  ...       NaN   \n",
       "761               (+)-copalol                          1  ...       NaN   \n",
       "1086    (+)-alloaromadendrene                          1  ...       NaN   \n",
       "\n",
       "     architecture_supfam  architecture_l_supfam  0041184  0053354  0053355  \\\n",
       "61                   NaN                    NaN      NaN      NaN      NaN   \n",
       "71                   NaN                    NaN      NaN      NaN      NaN   \n",
       "678                  NaN                    NaN      NaN      NaN      NaN   \n",
       "761                  NaN                    NaN      NaN      NaN      NaN   \n",
       "1086                 NaN                    NaN      NaN      NaN      NaN   \n",
       "\n",
       "      0048261  0048806  0046340 0047573  \n",
       "61        NaN      NaN      NaN     NaN  \n",
       "71        NaN      NaN      NaN     NaN  \n",
       "678       NaN      NaN      NaN     NaN  \n",
       "761       NaN      NaN      NaN     NaN  \n",
       "1086      NaN      NaN      NaN     NaN  \n",
       "\n",
       "[5 rows x 28 columns]"
      ]
     },
     "execution_count": 32,
     "metadata": {},
     "output_type": "execute_result"
    }
   ],
   "source": [
    "df[df[pfam_cols+supfam_cols].sum(axis=1)==0]"
   ]
  },
  {
   "cell_type": "code",
   "execution_count": 24,
   "id": "2ea80607-a00b-410a-a062-bbc7c67409b8",
   "metadata": {
    "tags": []
   },
   "outputs": [],
   "source": [
    "df['pfam_architecture'] = df['pfam_architecture'].apply(lambda x: ast.literal_eval(x) if type(x) == str else x)"
   ]
  },
  {
   "cell_type": "code",
   "execution_count": 32,
   "id": "55b79005-f4eb-4271-aa86-a4194964c691",
   "metadata": {
    "tags": []
   },
   "outputs": [],
   "source": [
    "df['supfam_architecture'] = df['supfam_architecture'].apply(lambda x: ast.literal_eval(x) if type(x) == str else x)"
   ]
  },
  {
   "cell_type": "code",
   "execution_count": 30,
   "id": "0c4e734b-8329-423e-87c6-e82b5c0598e5",
   "metadata": {
    "tags": []
   },
   "outputs": [],
   "source": [
    "def get_partial(x, column):\n",
    "    if type(x[column]) == list:\n",
    "        if len(x[column]) == 1 and \"partial\" in x[column][0]:\n",
    "            return True\n",
    "        return False\n",
    "    else:\n",
    "        return False"
   ]
  },
  {
   "cell_type": "code",
   "execution_count": 31,
   "id": "16112389-de5d-425b-b873-1fbbac912080",
   "metadata": {
    "tags": []
   },
   "outputs": [
    {
     "data": {
      "text/html": [
       "<div>\n",
       "<style scoped>\n",
       "    .dataframe tbody tr th:only-of-type {\n",
       "        vertical-align: middle;\n",
       "    }\n",
       "\n",
       "    .dataframe tbody tr th {\n",
       "        vertical-align: top;\n",
       "    }\n",
       "\n",
       "    .dataframe thead th {\n",
       "        text-align: right;\n",
       "    }\n",
       "</style>\n",
       "<table border=\"1\" class=\"dataframe\">\n",
       "  <thead>\n",
       "    <tr style=\"text-align: right;\">\n",
       "      <th></th>\n",
       "      <th>id</th>\n",
       "      <th>name</th>\n",
       "      <th>type</th>\n",
       "      <th>type_general</th>\n",
       "      <th>species</th>\n",
       "      <th>kingdom</th>\n",
       "      <th>product_names</th>\n",
       "      <th>product_counts</th>\n",
       "      <th>most_unique_product_name</th>\n",
       "      <th>most_unique_product_count</th>\n",
       "      <th>...</th>\n",
       "      <th>PF13243.9</th>\n",
       "      <th>architecture_supfam</th>\n",
       "      <th>architecture_l_supfam</th>\n",
       "      <th>0041184</th>\n",
       "      <th>0053354</th>\n",
       "      <th>0053355</th>\n",
       "      <th>0048261</th>\n",
       "      <th>0048806</th>\n",
       "      <th>0046340</th>\n",
       "      <th>0047573</th>\n",
       "    </tr>\n",
       "  </thead>\n",
       "  <tbody>\n",
       "    <tr>\n",
       "      <th>102</th>\n",
       "      <td>A0A1J0CQ97</td>\n",
       "      <td>Terpene synthase 7</td>\n",
       "      <td>sesq</td>\n",
       "      <td>sesq</td>\n",
       "      <td>Anthoceros punctatus</td>\n",
       "      <td>Plantae</td>\n",
       "      <td>β-acoradiene</td>\n",
       "      <td>[2]</td>\n",
       "      <td>β-acoradiene</td>\n",
       "      <td>2</td>\n",
       "      <td>...</td>\n",
       "      <td>0.0</td>\n",
       "      <td>['48576']</td>\n",
       "      <td>['48576']</td>\n",
       "      <td>0.0</td>\n",
       "      <td>0.0</td>\n",
       "      <td>1.0</td>\n",
       "      <td>1.0</td>\n",
       "      <td>1.0</td>\n",
       "      <td>1.0</td>\n",
       "      <td>1.0</td>\n",
       "    </tr>\n",
       "    <tr>\n",
       "      <th>685</th>\n",
       "      <td>O13284</td>\n",
       "      <td>Ent-kaur-16-ene synthase</td>\n",
       "      <td>di</td>\n",
       "      <td>di</td>\n",
       "      <td>Phaeosphaeria sp.</td>\n",
       "      <td>Fungi</td>\n",
       "      <td>ent-kaurene</td>\n",
       "      <td>[31]</td>\n",
       "      <td>ent-kaurene</td>\n",
       "      <td>31</td>\n",
       "      <td>...</td>\n",
       "      <td>0.0</td>\n",
       "      <td>['48576_partial', '48576_partial']</td>\n",
       "      <td>['48576_partial', '48576_partial']</td>\n",
       "      <td>0.0</td>\n",
       "      <td>0.0</td>\n",
       "      <td>1.0</td>\n",
       "      <td>1.0</td>\n",
       "      <td>1.0</td>\n",
       "      <td>1.0</td>\n",
       "      <td>1.0</td>\n",
       "    </tr>\n",
       "    <tr>\n",
       "      <th>841</th>\n",
       "      <td>Q5KSN4</td>\n",
       "      <td>Ent-pimara-9(11),15-diene synthase</td>\n",
       "      <td>di</td>\n",
       "      <td>di</td>\n",
       "      <td>Streptomyces sp.</td>\n",
       "      <td>Bacteria</td>\n",
       "      <td>ent-pimara-9(11),15-diene</td>\n",
       "      <td>[1]</td>\n",
       "      <td>ent-pimara-9(11),15-diene</td>\n",
       "      <td>1</td>\n",
       "      <td>...</td>\n",
       "      <td>0.0</td>\n",
       "      <td>['48576']</td>\n",
       "      <td>['48576']</td>\n",
       "      <td>0.0</td>\n",
       "      <td>0.0</td>\n",
       "      <td>1.0</td>\n",
       "      <td>1.0</td>\n",
       "      <td>1.0</td>\n",
       "      <td>1.0</td>\n",
       "      <td>1.0</td>\n",
       "    </tr>\n",
       "    <tr>\n",
       "      <th>1098</th>\n",
       "      <td>TmTC-1</td>\n",
       "      <td>NaN</td>\n",
       "      <td>di; sesq; mono</td>\n",
       "      <td>mixed</td>\n",
       "      <td>Tubipora musica</td>\n",
       "      <td>Coral</td>\n",
       "      <td>cembrene A; (6E)-nerolidol; linalool</td>\n",
       "      <td>[4, 16, 27]</td>\n",
       "      <td>cembrene A</td>\n",
       "      <td>4</td>\n",
       "      <td>...</td>\n",
       "      <td>0.0</td>\n",
       "      <td>['48576']</td>\n",
       "      <td>['48576']</td>\n",
       "      <td>0.0</td>\n",
       "      <td>0.0</td>\n",
       "      <td>1.0</td>\n",
       "      <td>1.0</td>\n",
       "      <td>1.0</td>\n",
       "      <td>1.0</td>\n",
       "      <td>1.0</td>\n",
       "    </tr>\n",
       "    <tr>\n",
       "      <th>1131</th>\n",
       "      <td>XsTC-1</td>\n",
       "      <td>NaN</td>\n",
       "      <td>di; sesq</td>\n",
       "      <td>mixed</td>\n",
       "      <td>Xenia sp.</td>\n",
       "      <td>Coral</td>\n",
       "      <td>xeniaphyllene; (+)-β-caryophyllene; elemol</td>\n",
       "      <td>[1, 3, 5]</td>\n",
       "      <td>xeniaphyllene</td>\n",
       "      <td>1</td>\n",
       "      <td>...</td>\n",
       "      <td>0.0</td>\n",
       "      <td>['48576']</td>\n",
       "      <td>['48576']</td>\n",
       "      <td>0.0</td>\n",
       "      <td>0.0</td>\n",
       "      <td>1.0</td>\n",
       "      <td>1.0</td>\n",
       "      <td>1.0</td>\n",
       "      <td>1.0</td>\n",
       "      <td>1.0</td>\n",
       "    </tr>\n",
       "  </tbody>\n",
       "</table>\n",
       "<p>5 rows × 28 columns</p>\n",
       "</div>"
      ],
      "text/plain": [
       "              id                                name            type  \\\n",
       "102   A0A1J0CQ97                  Terpene synthase 7            sesq   \n",
       "685       O13284            Ent-kaur-16-ene synthase              di   \n",
       "841       Q5KSN4  Ent-pimara-9(11),15-diene synthase              di   \n",
       "1098      TmTC-1                                 NaN  di; sesq; mono   \n",
       "1131      XsTC-1                                 NaN        di; sesq   \n",
       "\n",
       "     type_general               species   kingdom  \\\n",
       "102          sesq  Anthoceros punctatus   Plantae   \n",
       "685            di     Phaeosphaeria sp.     Fungi   \n",
       "841            di     Streptomyces sp.   Bacteria   \n",
       "1098        mixed       Tubipora musica     Coral   \n",
       "1131        mixed            Xenia sp.      Coral   \n",
       "\n",
       "                                   product_names product_counts  \\\n",
       "102                                 β-acoradiene            [2]   \n",
       "685                                  ent-kaurene           [31]   \n",
       "841                    ent-pimara-9(11),15-diene            [1]   \n",
       "1098        cembrene A; (6E)-nerolidol; linalool    [4, 16, 27]   \n",
       "1131  xeniaphyllene; (+)-β-caryophyllene; elemol      [1, 3, 5]   \n",
       "\n",
       "       most_unique_product_name  most_unique_product_count  ... PF13243.9  \\\n",
       "102                β-acoradiene                          2  ...       0.0   \n",
       "685                 ent-kaurene                         31  ...       0.0   \n",
       "841   ent-pimara-9(11),15-diene                          1  ...       0.0   \n",
       "1098                 cembrene A                          4  ...       0.0   \n",
       "1131              xeniaphyllene                          1  ...       0.0   \n",
       "\n",
       "                     architecture_supfam               architecture_l_supfam  \\\n",
       "102                            ['48576']                           ['48576']   \n",
       "685   ['48576_partial', '48576_partial']  ['48576_partial', '48576_partial']   \n",
       "841                            ['48576']                           ['48576']   \n",
       "1098                           ['48576']                           ['48576']   \n",
       "1131                           ['48576']                           ['48576']   \n",
       "\n",
       "      0041184  0053354  0053355  0048261  0048806  0046340 0047573  \n",
       "102       0.0      0.0      1.0      1.0      1.0      1.0     1.0  \n",
       "685       0.0      0.0      1.0      1.0      1.0      1.0     1.0  \n",
       "841       0.0      0.0      1.0      1.0      1.0      1.0     1.0  \n",
       "1098      0.0      0.0      1.0      1.0      1.0      1.0     1.0  \n",
       "1131      0.0      0.0      1.0      1.0      1.0      1.0     1.0  \n",
       "\n",
       "[5 rows x 28 columns]"
      ]
     },
     "execution_count": 31,
     "metadata": {},
     "output_type": "execute_result"
    }
   ],
   "source": [
    "# partial pfam architectures\n",
    "df[df.apply(lambda x: get_partial(x, 'pfam_architecture'), axis=1)]"
   ]
  },
  {
   "cell_type": "code",
   "execution_count": 33,
   "id": "90f46cd1-375f-4e4e-82af-d77ba9521578",
   "metadata": {
    "tags": []
   },
   "outputs": [
    {
     "data": {
      "text/html": [
       "<div>\n",
       "<style scoped>\n",
       "    .dataframe tbody tr th:only-of-type {\n",
       "        vertical-align: middle;\n",
       "    }\n",
       "\n",
       "    .dataframe tbody tr th {\n",
       "        vertical-align: top;\n",
       "    }\n",
       "\n",
       "    .dataframe thead th {\n",
       "        text-align: right;\n",
       "    }\n",
       "</style>\n",
       "<table border=\"1\" class=\"dataframe\">\n",
       "  <thead>\n",
       "    <tr style=\"text-align: right;\">\n",
       "      <th></th>\n",
       "      <th>id</th>\n",
       "      <th>name</th>\n",
       "      <th>type</th>\n",
       "      <th>type_general</th>\n",
       "      <th>species</th>\n",
       "      <th>kingdom</th>\n",
       "      <th>product_names</th>\n",
       "      <th>product_counts</th>\n",
       "      <th>most_unique_product_name</th>\n",
       "      <th>most_unique_product_count</th>\n",
       "      <th>...</th>\n",
       "      <th>PF13243.9</th>\n",
       "      <th>architecture_supfam</th>\n",
       "      <th>architecture_l_supfam</th>\n",
       "      <th>0041184</th>\n",
       "      <th>0053354</th>\n",
       "      <th>0053355</th>\n",
       "      <th>0048261</th>\n",
       "      <th>0048806</th>\n",
       "      <th>0046340</th>\n",
       "      <th>0047573</th>\n",
       "    </tr>\n",
       "  </thead>\n",
       "  <tbody>\n",
       "    <tr>\n",
       "      <th>72</th>\n",
       "      <td>A0A140AZ72</td>\n",
       "      <td>Terpene synthase</td>\n",
       "      <td>sesq; mono; di</td>\n",
       "      <td>mixed</td>\n",
       "      <td>Phyllotreta striolata</td>\n",
       "      <td>Insecta</td>\n",
       "      <td>(6E)-nerolidol; trans-β-farnesene; linalool; g...</td>\n",
       "      <td>[16, 24, 27, 7, 16, 6, 3, 16]</td>\n",
       "      <td>(6Z)-nerolidol</td>\n",
       "      <td>3</td>\n",
       "      <td>...</td>\n",
       "      <td>NaN</td>\n",
       "      <td>[48576_partial]</td>\n",
       "      <td>['48576_partial']</td>\n",
       "      <td>0.0</td>\n",
       "      <td>0.0</td>\n",
       "      <td>0.0</td>\n",
       "      <td>0.0</td>\n",
       "      <td>0.0</td>\n",
       "      <td>1.0</td>\n",
       "      <td>0.0</td>\n",
       "    </tr>\n",
       "    <tr>\n",
       "      <th>349</th>\n",
       "      <td>B2DBF0</td>\n",
       "      <td>Phyllocladan-16-alpha-ol synthase</td>\n",
       "      <td>di-int; di</td>\n",
       "      <td>mixed</td>\n",
       "      <td>Phomopsis amygdali</td>\n",
       "      <td>Fungi</td>\n",
       "      <td>5α,9α,10β-labda-8(20),13-dien-15-yl diphosphat...</td>\n",
       "      <td>[16, 1]</td>\n",
       "      <td>phyllocladan-16α-ol</td>\n",
       "      <td>1</td>\n",
       "      <td>...</td>\n",
       "      <td>1.0</td>\n",
       "      <td>[48576_partial]</td>\n",
       "      <td>['48576_partial']</td>\n",
       "      <td>0.0</td>\n",
       "      <td>0.0</td>\n",
       "      <td>0.0</td>\n",
       "      <td>0.0</td>\n",
       "      <td>1.0</td>\n",
       "      <td>1.0</td>\n",
       "      <td>0.0</td>\n",
       "    </tr>\n",
       "    <tr>\n",
       "      <th>684</th>\n",
       "      <td>O07854</td>\n",
       "      <td>4,4'-diapophytoene synthase</td>\n",
       "      <td>tri</td>\n",
       "      <td>tri</td>\n",
       "      <td>Staphylococcus aureus</td>\n",
       "      <td>Bacteria</td>\n",
       "      <td>15-cis-4,4'-diapophytoene</td>\n",
       "      <td>[2]</td>\n",
       "      <td>15-cis-4,4'-diapophytoene</td>\n",
       "      <td>2</td>\n",
       "      <td>...</td>\n",
       "      <td>0.0</td>\n",
       "      <td>[48576_partial]</td>\n",
       "      <td>['48576_partial']</td>\n",
       "      <td>0.0</td>\n",
       "      <td>0.0</td>\n",
       "      <td>0.0</td>\n",
       "      <td>1.0</td>\n",
       "      <td>0.0</td>\n",
       "      <td>0.0</td>\n",
       "      <td>0.0</td>\n",
       "    </tr>\n",
       "    <tr>\n",
       "      <th>745</th>\n",
       "      <td>P53799</td>\n",
       "      <td>Squalene synthase 1</td>\n",
       "      <td>tri</td>\n",
       "      <td>tri</td>\n",
       "      <td>Arabidopsis thaliana</td>\n",
       "      <td>Plantae</td>\n",
       "      <td>squalene</td>\n",
       "      <td>[19]</td>\n",
       "      <td>squalene</td>\n",
       "      <td>19</td>\n",
       "      <td>...</td>\n",
       "      <td>0.0</td>\n",
       "      <td>[48576_partial]</td>\n",
       "      <td>['48576_partial']</td>\n",
       "      <td>0.0</td>\n",
       "      <td>0.0</td>\n",
       "      <td>0.0</td>\n",
       "      <td>0.0</td>\n",
       "      <td>1.0</td>\n",
       "      <td>0.0</td>\n",
       "      <td>0.0</td>\n",
       "    </tr>\n",
       "    <tr>\n",
       "      <th>787</th>\n",
       "      <td>Q2FV59</td>\n",
       "      <td>4,4'-diapophytoene synthase</td>\n",
       "      <td>tri</td>\n",
       "      <td>tri</td>\n",
       "      <td>Staphylococcus aureus</td>\n",
       "      <td>Bacteria</td>\n",
       "      <td>15-cis-4,4'-diapophytoene</td>\n",
       "      <td>[2]</td>\n",
       "      <td>15-cis-4,4'-diapophytoene</td>\n",
       "      <td>2</td>\n",
       "      <td>...</td>\n",
       "      <td>0.0</td>\n",
       "      <td>[48576_partial]</td>\n",
       "      <td>['48576_partial']</td>\n",
       "      <td>0.0</td>\n",
       "      <td>0.0</td>\n",
       "      <td>0.0</td>\n",
       "      <td>1.0</td>\n",
       "      <td>0.0</td>\n",
       "      <td>0.0</td>\n",
       "      <td>0.0</td>\n",
       "    </tr>\n",
       "    <tr>\n",
       "      <th>884</th>\n",
       "      <td>Q6N3F2</td>\n",
       "      <td>Presqualene diphosphate synthase</td>\n",
       "      <td>tri-int</td>\n",
       "      <td>tri</td>\n",
       "      <td>Rhodopseudomonas palustris</td>\n",
       "      <td>Bacteria</td>\n",
       "      <td>presqualene diphosphate(3−)</td>\n",
       "      <td>[4]</td>\n",
       "      <td>presqualene diphosphate(3−)</td>\n",
       "      <td>4</td>\n",
       "      <td>...</td>\n",
       "      <td>0.0</td>\n",
       "      <td>[48576_partial]</td>\n",
       "      <td>['48576_partial']</td>\n",
       "      <td>0.0</td>\n",
       "      <td>0.0</td>\n",
       "      <td>0.0</td>\n",
       "      <td>0.0</td>\n",
       "      <td>0.0</td>\n",
       "      <td>1.0</td>\n",
       "      <td>0.0</td>\n",
       "    </tr>\n",
       "    <tr>\n",
       "      <th>981</th>\n",
       "      <td>Q96WT2</td>\n",
       "      <td>Aphidicolan-16-beta-ol synthase</td>\n",
       "      <td>di-int; di</td>\n",
       "      <td>mixed</td>\n",
       "      <td>Pleospora betae</td>\n",
       "      <td>Fungi</td>\n",
       "      <td>5α,9β,10α-labda-8(20),13-dien-15-yl diphosphat...</td>\n",
       "      <td>[4, 1]</td>\n",
       "      <td>aphidicolan-16β-ol</td>\n",
       "      <td>1</td>\n",
       "      <td>...</td>\n",
       "      <td>1.0</td>\n",
       "      <td>[48576_partial]</td>\n",
       "      <td>['48576_partial']</td>\n",
       "      <td>0.0</td>\n",
       "      <td>0.0</td>\n",
       "      <td>1.0</td>\n",
       "      <td>1.0</td>\n",
       "      <td>1.0</td>\n",
       "      <td>1.0</td>\n",
       "      <td>1.0</td>\n",
       "    </tr>\n",
       "  </tbody>\n",
       "</table>\n",
       "<p>7 rows × 28 columns</p>\n",
       "</div>"
      ],
      "text/plain": [
       "             id                               name            type  \\\n",
       "72   A0A140AZ72                   Terpene synthase  sesq; mono; di   \n",
       "349      B2DBF0  Phyllocladan-16-alpha-ol synthase      di-int; di   \n",
       "684      O07854        4,4'-diapophytoene synthase             tri   \n",
       "745      P53799                Squalene synthase 1             tri   \n",
       "787      Q2FV59        4,4'-diapophytoene synthase             tri   \n",
       "884      Q6N3F2   Presqualene diphosphate synthase         tri-int   \n",
       "981      Q96WT2    Aphidicolan-16-beta-ol synthase      di-int; di   \n",
       "\n",
       "    type_general                     species   kingdom  \\\n",
       "72         mixed       Phyllotreta striolata   Insecta   \n",
       "349        mixed         Phomopsis amygdali      Fungi   \n",
       "684          tri       Staphylococcus aureus  Bacteria   \n",
       "745          tri        Arabidopsis thaliana   Plantae   \n",
       "787          tri       Staphylococcus aureus  Bacteria   \n",
       "884          tri  Rhodopseudomonas palustris  Bacteria   \n",
       "981        mixed             Pleospora betae     Fungi   \n",
       "\n",
       "                                         product_names  \\\n",
       "72   (6E)-nerolidol; trans-β-farnesene; linalool; g...   \n",
       "349  5α,9α,10β-labda-8(20),13-dien-15-yl diphosphat...   \n",
       "684                          15-cis-4,4'-diapophytoene   \n",
       "745                                           squalene   \n",
       "787                          15-cis-4,4'-diapophytoene   \n",
       "884                        presqualene diphosphate(3−)   \n",
       "981  5α,9β,10α-labda-8(20),13-dien-15-yl diphosphat...   \n",
       "\n",
       "                    product_counts     most_unique_product_name  \\\n",
       "72   [16, 24, 27, 7, 16, 6, 3, 16]               (6Z)-nerolidol   \n",
       "349                        [16, 1]          phyllocladan-16α-ol   \n",
       "684                            [2]    15-cis-4,4'-diapophytoene   \n",
       "745                           [19]                     squalene   \n",
       "787                            [2]    15-cis-4,4'-diapophytoene   \n",
       "884                            [4]  presqualene diphosphate(3−)   \n",
       "981                         [4, 1]           aphidicolan-16β-ol   \n",
       "\n",
       "     most_unique_product_count  ... PF13243.9 architecture_supfam  \\\n",
       "72                           3  ...       NaN     [48576_partial]   \n",
       "349                          1  ...       1.0     [48576_partial]   \n",
       "684                          2  ...       0.0     [48576_partial]   \n",
       "745                         19  ...       0.0     [48576_partial]   \n",
       "787                          2  ...       0.0     [48576_partial]   \n",
       "884                          4  ...       0.0     [48576_partial]   \n",
       "981                          1  ...       1.0     [48576_partial]   \n",
       "\n",
       "     architecture_l_supfam  0041184  0053354  0053355  0048261  0048806  \\\n",
       "72       ['48576_partial']      0.0      0.0      0.0      0.0      0.0   \n",
       "349      ['48576_partial']      0.0      0.0      0.0      0.0      1.0   \n",
       "684      ['48576_partial']      0.0      0.0      0.0      1.0      0.0   \n",
       "745      ['48576_partial']      0.0      0.0      0.0      0.0      1.0   \n",
       "787      ['48576_partial']      0.0      0.0      0.0      1.0      0.0   \n",
       "884      ['48576_partial']      0.0      0.0      0.0      0.0      0.0   \n",
       "981      ['48576_partial']      0.0      0.0      1.0      1.0      1.0   \n",
       "\n",
       "     0046340 0047573  \n",
       "72       1.0     0.0  \n",
       "349      1.0     0.0  \n",
       "684      0.0     0.0  \n",
       "745      0.0     0.0  \n",
       "787      0.0     0.0  \n",
       "884      1.0     0.0  \n",
       "981      1.0     1.0  \n",
       "\n",
       "[7 rows x 28 columns]"
      ]
     },
     "execution_count": 33,
     "metadata": {},
     "output_type": "execute_result"
    }
   ],
   "source": [
    "# partial supfam architectures\n",
    "df[df.apply(lambda x: get_partial(x, 'supfam_architecture'), axis=1)]"
   ]
  },
  {
   "cell_type": "markdown",
   "id": "844d01cf-32c2-4816-9891-78fe017190e4",
   "metadata": {},
   "source": [
    "### MonoTPS"
   ]
  },
  {
   "cell_type": "code",
   "execution_count": 163,
   "id": "50338112-7253-4222-905e-12fccb6311dc",
   "metadata": {
    "tags": []
   },
   "outputs": [],
   "source": [
    "sele = df[df['type'].isin(['mono','mono-int'])]\n",
    "sele = sele[cols].drop_duplicates(subset='id')\n",
    "assert sele['id'].nunique() == sele.shape[0]"
   ]
  },
  {
   "cell_type": "code",
   "execution_count": 166,
   "id": "380db4d5-2a80-43cd-bb5d-e37ab415e87d",
   "metadata": {
    "tags": []
   },
   "outputs": [
    {
     "data": {
      "text/plain": [
       "pfam_architecture\n",
       "['PF01397.24', 'PF03936.19']                          200\n",
       "['PF19086.3']                                          19\n",
       "['PF01397.24', 'PF03936.19', 'PF03936.19_partial']      7\n",
       "['PF03936.19_partial', 'PF19086.3']                     2\n",
       "['PF01397.24', 'PF03936.19', 'PF19086.3_partial']       2\n",
       "['PF19086.3_partial', 'PF19086.3']                      1\n",
       "['PF19086.3_partial']                                   1\n",
       "['PF01397.24', 'PF03936.19', 'PF01397.24_partial']      1\n",
       "['PF01397.24_partial', 'PF01397.24', 'PF03936.19']      1\n",
       "['PF03936.19_partial', 'PF01397.24', 'PF03936.19']      1\n",
       "['PF06330.14']                                          1\n",
       "Name: count, dtype: int64"
      ]
     },
     "execution_count": 166,
     "metadata": {},
     "output_type": "execute_result"
    }
   ],
   "source": [
    "sele['pfam_architecture'].value_counts()"
   ]
  },
  {
   "cell_type": "code",
   "execution_count": 167,
   "id": "1db106cf-233a-4e22-ae74-37ede8990c1b",
   "metadata": {
    "tags": []
   },
   "outputs": [
    {
     "data": {
      "text/plain": [
       "supfam_architecture\n",
       "['0048261']               146\n",
       "['0053355']                48\n",
       "['0047573']                16\n",
       "['0041184', '0048261']      9\n",
       "['0048806']                 6\n",
       "['0046340']                 6\n",
       "['0041184', '0053355']      5\n",
       "['0053354', '0048261']      5\n",
       "['0046340_partial']         1\n",
       "Name: count, dtype: int64"
      ]
     },
     "execution_count": 167,
     "metadata": {},
     "output_type": "execute_result"
    }
   ],
   "source": [
    "sele['supfam_architecture'].value_counts()"
   ]
  },
  {
   "cell_type": "markdown",
   "id": "1badc24b-d0b0-41a8-aea5-6134c05a723d",
   "metadata": {},
   "source": [
    "### DiTPS"
   ]
  },
  {
   "cell_type": "code",
   "execution_count": 168,
   "id": "c0f6f8b3-fb1d-4433-aca1-1a5692fd1d01",
   "metadata": {
    "tags": []
   },
   "outputs": [],
   "source": [
    "sele = df[df['type'].isin(['di','di-int'])]\n",
    "sele = sele[cols].drop_duplicates(subset='id')\n",
    "assert sele['id'].nunique() == sele.shape[0]"
   ]
  },
  {
   "cell_type": "code",
   "execution_count": 169,
   "id": "0de76aeb-941e-480e-ac45-dd5ced857962",
   "metadata": {
    "tags": []
   },
   "outputs": [
    {
     "data": {
      "text/plain": [
       "pfam_architecture\n",
       "['PF01397.24', 'PF03936.19']                                                            49\n",
       "['PF13243.9_partial', 'PF01397.24', 'PF03936.19']                                       35\n",
       "['PF19086.3']                                                                           27\n",
       "['PF13249.9_partial', 'PF01397.24', 'PF03936.19']                                       12\n",
       "['PF19086.3', 'PF19086.3_partial']                                                      10\n",
       "['PF01397.24_partial', 'PF01397.24', 'PF03936.19']                                       7\n",
       "['PF01397.24', 'PF03936.19_partial']                                                     6\n",
       "['PF19086.3', 'PF19086.3']                                                               5\n",
       "['PF19086.3_partial']                                                                    4\n",
       "['PF13243.9_partial', 'PF01397.24', 'PF03936.19_partial', 'PF03936.19_partial']          4\n",
       "['PF01397.24', 'PF03936.19', 'PF03936.19_partial']                                       3\n",
       "['PF13243.9_partial', 'PF13243.9_partial', 'PF13243.9_partial']                          3\n",
       "['PF13243.9_partial', 'PF13243.9_partial']                                               3\n",
       "['PF13243.9_partial', 'PF01397.24', 'PF03936.19', 'PF03936.19_partial']                  3\n",
       "['PF01397.24_partial', 'PF01397.24', 'PF03936.19_partial', 'PF03936.19_partial']         2\n",
       "['PF19086.3', 'PF19086.3_partial', 'PF19086.3_partial']                                  2\n",
       "['PF03936.19_partial', 'PF01397.24', 'PF03936.19']                                       2\n",
       "['PF13243.9_partial', 'PF13249.9_partial']                                               2\n",
       "['PF01397.24_partial', 'PF01397.24', 'PF03936.19', 'PF03936.19_partial']                 2\n",
       "['PF01397.24', 'PF03936.19_partial', 'PF03936.19_partial']                               2\n",
       "['PF01397.24', 'PF03936.19', 'PF01397.24_partial']                                       2\n",
       "['PF13249.9_partial', 'PF01397.24', 'PF03936.19', 'PF01397.24_partial']                  2\n",
       "['PF13243.9_partial', 'PF13243.9_partial', 'PF13243.9_partial', 'PF19086.3']             2\n",
       "['PF13243.9_partial', 'PF03936.19_partial', 'PF01397.24', 'PF03936.19']                  1\n",
       "['PF13249.9_partial', 'PF01397.24_partial', 'PF01397.24', 'PF03936.19']                  1\n",
       "['PF13243.9_partial', 'PF01397.24', 'PF03936.19', 'PF19086.3_partial']                   1\n",
       "['PF01397.24_partial', 'PF13243.9_partial', 'PF01397.24', 'PF03936.19']                  1\n",
       "['PF13243.9_partial', 'PF01397.24', 'PF03936.19_partial']                                1\n",
       "['PF13249.9_partial', 'PF13243.9_partial', 'PF13243.9_partial', 'PF13243.9_partial']     1\n",
       "['PF13249.9_partial', 'PF13249.9_partial', 'PF13249.9_partial', 'PF19086.3']             1\n",
       "['PF19086.3', 'PF03936.19_partial']                                                      1\n",
       "['PF13249.9_partial', 'PF13249.9_partial', 'PF13243.9_partial']                          1\n",
       "['PF13243.9_partial', 'PF13243.9_partial', 'PF19086.3']                                  1\n",
       "['PF19086.3_partial', 'PF19086.3']                                                       1\n",
       "['PF19086.3_partial', 'PF19086.3_partial']                                               1\n",
       "['PF01397.24', 'PF03936.19_partial', 'PF01397.24_partial']                               1\n",
       "['PF01397.24_partial', 'PF01397.24', 'PF03936.19_partial']                               1\n",
       "['PF19086.3', 'PF19086.3_partial', 'PF03936.19_partial']                                 1\n",
       "Name: count, dtype: int64"
      ]
     },
     "execution_count": 169,
     "metadata": {},
     "output_type": "execute_result"
    }
   ],
   "source": [
    "sele['pfam_architecture'].value_counts()"
   ]
  },
  {
   "cell_type": "code",
   "execution_count": 170,
   "id": "4e2837a9-f9a6-4f20-8333-ee045e87d3a0",
   "metadata": {
    "tags": []
   },
   "outputs": [
    {
     "data": {
      "text/plain": [
       "supfam_architecture\n",
       "['0041184', '0053355']                                                          55\n",
       "['0041184', '0048261']                                                          23\n",
       "['0047573']                                                                     16\n",
       "['0053354_partial', '0041184', '0048261']                                       15\n",
       "['0053355']                                                                     10\n",
       "['0041184', '0053355_partial']                                                  10\n",
       "['0047573', '0046340']                                                           9\n",
       "['0048261']                                                                      7\n",
       "['0046340']                                                                      7\n",
       "['0053354_partial', '0041184', '0053355']                                        6\n",
       "['0048806']                                                                      6\n",
       "['0046340', '0046340']                                                           5\n",
       "['0047573', '0048806']                                                           5\n",
       "['0041184_partial', '0041184', '0053355']                                        3\n",
       "['0041184', '0053355_partial', '0053355_partial']                                3\n",
       "['0046340_partial']                                                              2\n",
       "['0048806_partial', '0041184', '0053355']                                        2\n",
       "['0048806_partial', '0041184', '0048261']                                        2\n",
       "['0046340_partial', '0041184', '0053355']                                        2\n",
       "['0053354_partial', '0048261']                                                   1\n",
       "['0048806_partial', '0053355_partial', '0046340_partial']                        1\n",
       "['0047573_partial', '0047573_partial', '0046340']                                1\n",
       "['0053355_partial', '0048806_partial', '0053355_partial', '0046340_partial']     1\n",
       "['0046340_partial', '0047573_partial']                                           1\n",
       "['0048806_partial']                                                              1\n",
       "['0048806_partial', '0046340_partial']                                           1\n",
       "['0047573_partial', '0041184', '0048261']                                        1\n",
       "['0047573_partial', '0041184', '0053355']                                        1\n",
       "['0046340_partial', '0053354_partial', '0041184', '0048261']                     1\n",
       "['0041184_partial', '0041184', '0048261']                                        1\n",
       "Name: count, dtype: int64"
      ]
     },
     "execution_count": 170,
     "metadata": {},
     "output_type": "execute_result"
    }
   ],
   "source": [
    "sele['supfam_architecture'].value_counts()"
   ]
  },
  {
   "cell_type": "markdown",
   "id": "f18107b1-1091-470d-b959-4bbfbd40f958",
   "metadata": {},
   "source": [
    "### SesquiTPS"
   ]
  },
  {
   "cell_type": "code",
   "execution_count": 171,
   "id": "1ded702c-b9c3-49f7-a1ac-df854a693cbb",
   "metadata": {
    "tags": []
   },
   "outputs": [],
   "source": [
    "sele = df[df['type'].isin(['sesq','sesq-int'])]\n",
    "sele = sele[cols].drop_duplicates(subset='id')\n",
    "assert sele['id'].nunique() == sele.shape[0]"
   ]
  },
  {
   "cell_type": "code",
   "execution_count": 172,
   "id": "7fd0e69d-6f0f-47b8-a662-4f09e19892d1",
   "metadata": {
    "tags": []
   },
   "outputs": [
    {
     "data": {
      "text/plain": [
       "pfam_architecture\n",
       "['PF01397.24', 'PF03936.19']                                  319\n",
       "['PF19086.3']                                                 138\n",
       "['PF06330.14']                                                 28\n",
       "['PF19086.3_partial', 'PF19086.3']                              7\n",
       "['PF01397.24', 'PF03936.19', 'PF03936.19_partial']              7\n",
       "['PF01397.24', 'PF03936.19', 'PF19086.3_partial']               4\n",
       "['PF01397.24_partial', 'PF01397.24', 'PF03936.19']              4\n",
       "['PF01397.24', 'PF03936.19_partial']                            2\n",
       "['PF19086.3_partial']                                           2\n",
       "['PF01397.24_partial', 'PF03936.19', 'PF03936.19_partial']      1\n",
       "['PF06330.14_partial']                                          1\n",
       "['PF01397.24', 'PF03936.19_partial', 'PF03936.19']              1\n",
       "['PF03936.19_partial', 'PF19086.3']                             1\n",
       "['PF03936.19', 'PF03936.19_partial']                            1\n",
       "['PF01397.24', 'PF03936.19', 'PF01397.24_partial']              1\n",
       "['PF19086.3', 'PF19086.3_partial']                              1\n",
       "['PF03936.19']                                                  1\n",
       "['PF00494.22']                                                  1\n",
       "['PF19086.3', 'PF03936.19_partial']                             1\n",
       "['PF19086.3', 'PF19086.3']                                      1\n",
       "['PF13249.9_partial', 'PF01397.24', 'PF03936.19']               1\n",
       "Name: count, dtype: int64"
      ]
     },
     "execution_count": 172,
     "metadata": {},
     "output_type": "execute_result"
    }
   ],
   "source": [
    "sele['pfam_architecture'].value_counts()"
   ]
  },
  {
   "cell_type": "code",
   "execution_count": 173,
   "id": "c86f412e-fe2f-473e-9623-5e36e57f79d4",
   "metadata": {
    "tags": []
   },
   "outputs": [
    {
     "data": {
      "text/plain": [
       "supfam_architecture\n",
       "['0048261']                                          187\n",
       "['0053355']                                          145\n",
       "['0047573']                                           90\n",
       "['0048806']                                           73\n",
       "['0046340']                                            9\n",
       "['0041184', '0048261']                                 7\n",
       "['0041184', '0053355']                                 5\n",
       "['0053354_partial', '0041184', '0048261']              4\n",
       "['0053354', '0053355']                                 2\n",
       "['0047573', '0047573']                                 1\n",
       "['0053354', '0048261']                                 1\n",
       "['0046340_partial', '0046340_partial']                 1\n",
       "['0041184', '0053355_partial', '0053355_partial']      1\n",
       "['0046340_partial']                                    1\n",
       "Name: count, dtype: int64"
      ]
     },
     "execution_count": 173,
     "metadata": {},
     "output_type": "execute_result"
    }
   ],
   "source": [
    "sele['supfam_architecture'].value_counts()"
   ]
  },
  {
   "cell_type": "markdown",
   "id": "6ea2031b-7153-4a06-a094-d53aa0a33801",
   "metadata": {},
   "source": [
    "### SesterTPS"
   ]
  },
  {
   "cell_type": "code",
   "execution_count": 174,
   "id": "e6a94a6f-5bd2-4e78-b305-ba69ed132708",
   "metadata": {
    "tags": []
   },
   "outputs": [],
   "source": [
    "sele = df[df['type'].isin(['sester','sester-int'])]\n",
    "sele = sele[cols].drop_duplicates(subset='id')\n",
    "assert sele['id'].nunique() == sele.shape[0]"
   ]
  },
  {
   "cell_type": "code",
   "execution_count": 175,
   "id": "cddd1bab-ff58-4ca5-9580-558bccbccd35",
   "metadata": {
    "tags": []
   },
   "outputs": [
    {
     "data": {
      "text/plain": [
       "pfam_architecture\n",
       "['PF19086.3', 'PF19086.3_partial']                          32\n",
       "['PF19086.3', 'PF19086.3']                                   6\n",
       "['PF19086.3', 'PF03936.19_partial']                          4\n",
       "['PF01397.24', 'PF03936.19']                                 3\n",
       "['PF19086.3', 'PF19086.3_partial', 'PF03936.19_partial']     1\n",
       "['PF19086.3_partial', 'PF19086.3_partial']                   1\n",
       "['PF03936.19_partial', 'PF19086.3', 'PF19086.3']             1\n",
       "Name: count, dtype: int64"
      ]
     },
     "execution_count": 175,
     "metadata": {},
     "output_type": "execute_result"
    }
   ],
   "source": [
    "sele['pfam_architecture'].value_counts()"
   ]
  },
  {
   "cell_type": "code",
   "execution_count": 176,
   "id": "88657bfb-8c6e-45ec-b9eb-237051224604",
   "metadata": {
    "tags": []
   },
   "outputs": [
    {
     "data": {
      "text/plain": [
       "supfam_architecture\n",
       "['0047573', '0046340']                       17\n",
       "['0046340', '0046340']                       15\n",
       "['0047573', '0048806']                        6\n",
       "['0048806', '0046340']                        5\n",
       "['0053355']                                   2\n",
       "['0048261']                                   1\n",
       "['0046340', '0048806']                        1\n",
       "['0046340', '0048806', '0048806_partial']     1\n",
       "Name: count, dtype: int64"
      ]
     },
     "execution_count": 176,
     "metadata": {},
     "output_type": "execute_result"
    }
   ],
   "source": [
    "sele['supfam_architecture'].value_counts()"
   ]
  },
  {
   "cell_type": "markdown",
   "id": "b5c27e8a-a148-4fd2-a6f7-03d7b506c626",
   "metadata": {},
   "source": [
    "### TriTPS"
   ]
  },
  {
   "cell_type": "code",
   "execution_count": 177,
   "id": "24d748a2-5e6c-4570-bdc0-496c47aefcc2",
   "metadata": {
    "tags": []
   },
   "outputs": [],
   "source": [
    "sele = df[df['type'].isin(['tri','tri-int'])]\n",
    "sele = sele[cols].drop_duplicates(subset='id')\n",
    "assert sele['id'].nunique() == sele.shape[0]"
   ]
  },
  {
   "cell_type": "code",
   "execution_count": 178,
   "id": "1e7dfb09-90bd-45bc-8a3e-d6f85d93432d",
   "metadata": {
    "tags": []
   },
   "outputs": [
    {
     "data": {
      "text/plain": [
       "pfam_architecture\n",
       "['PF13249.9', 'PF13243.9']                                 116\n",
       "['PF00494.22']                                              22\n",
       "['PF13249.9_partial', 'PF13243.9']                           3\n",
       "['PF19086.3', 'PF19086.3_partial']                           3\n",
       "['PF00494.22', 'PF00494.22_partial']                         2\n",
       "['PF13243.9']                                                1\n",
       "['PF13249.9', 'PF13243.9_partial', 'PF13243.9_partial']      1\n",
       "Name: count, dtype: int64"
      ]
     },
     "execution_count": 178,
     "metadata": {},
     "output_type": "execute_result"
    }
   ],
   "source": [
    "sele['pfam_architecture'].value_counts()"
   ]
  },
  {
   "cell_type": "code",
   "execution_count": 179,
   "id": "6069b43e-8909-4df7-97b8-3f9ccbbc8b85",
   "metadata": {
    "tags": []
   },
   "outputs": [
    {
     "data": {
      "text/plain": [
       "supfam_architecture\n",
       "['0048261_partial']       2\n",
       "['0047573', '0046340']    2\n",
       "['0046340']               2\n",
       "['0046340_partial']       1\n",
       "['0048806_partial']       1\n",
       "['0046340', '0046340']    1\n",
       "Name: count, dtype: int64"
      ]
     },
     "execution_count": 179,
     "metadata": {},
     "output_type": "execute_result"
    }
   ],
   "source": [
    "sele['supfam_architecture'].value_counts()"
   ]
  },
  {
   "cell_type": "markdown",
   "id": "1393bc01-b0b8-4055-af9d-c220863794d6",
   "metadata": {},
   "source": [
    "### SesquarTPS"
   ]
  },
  {
   "cell_type": "code",
   "execution_count": 180,
   "id": "6da170c4-9b51-4e1e-a370-2aaa063ef5b4",
   "metadata": {
    "tags": []
   },
   "outputs": [],
   "source": [
    "sele = df[df['Type (mono, sesq, di, …)'].isin(['sesquar','sesquar-int'])]\n",
    "sele = sele[cols].drop_duplicates(subset='id')\n",
    "assert sele['id'].nunique() == sele.shape[0]"
   ]
  },
  {
   "cell_type": "code",
   "execution_count": 181,
   "id": "1e3bc08a-b2bf-49d0-9100-8a5d64443a93",
   "metadata": {
    "tags": []
   },
   "outputs": [
    {
     "data": {
      "text/plain": [
       "pfam_architecture\n",
       "['PF13249.9', 'PF13243.9']    1\n",
       "Name: count, dtype: int64"
      ]
     },
     "execution_count": 181,
     "metadata": {},
     "output_type": "execute_result"
    }
   ],
   "source": [
    "sele['pfam_architecture'].value_counts()"
   ]
  },
  {
   "cell_type": "code",
   "execution_count": 182,
   "id": "95b372d6-3030-41ed-ba37-956ee0e49fa1",
   "metadata": {
    "tags": []
   },
   "outputs": [
    {
     "data": {
      "text/plain": [
       "Series([], Name: count, dtype: int64)"
      ]
     },
     "execution_count": 182,
     "metadata": {},
     "output_type": "execute_result"
    }
   ],
   "source": [
    "sele['supfam_architecture'].value_counts()"
   ]
  },
  {
   "cell_type": "markdown",
   "id": "2f54b2a3-46d7-445a-9a10-3ba03ccf1448",
   "metadata": {},
   "source": [
    "### TetraTPS"
   ]
  },
  {
   "cell_type": "code",
   "execution_count": 183,
   "id": "15e77d9e-6a5c-4953-8409-bbda9a73ccfc",
   "metadata": {
    "tags": []
   },
   "outputs": [],
   "source": [
    "sele = df[df['type'].isin(['tetra','tetra-int'])]\n",
    "sele = sele[cols].drop_duplicates(subset='id')\n",
    "assert sele['id'].nunique() == sele.shape[0]"
   ]
  },
  {
   "cell_type": "code",
   "execution_count": 184,
   "id": "0f9b087f-1064-4669-8c5d-97af7fbadd3a",
   "metadata": {
    "tags": []
   },
   "outputs": [
    {
     "data": {
      "text/plain": [
       "pfam_architecture\n",
       "['PF00494.22']                          15\n",
       "['PF00494.22_partial', 'PF00494.22']     2\n",
       "Name: count, dtype: int64"
      ]
     },
     "execution_count": 184,
     "metadata": {},
     "output_type": "execute_result"
    }
   ],
   "source": [
    "sele['pfam_architecture'].value_counts()"
   ]
  },
  {
   "cell_type": "code",
   "execution_count": 185,
   "id": "2018cf65-6dbb-4b4a-8f98-525f8ff39145",
   "metadata": {
    "tags": []
   },
   "outputs": [
    {
     "data": {
      "text/plain": [
       "supfam_architecture\n",
       "['0046340']                               2\n",
       "['0048806_partial', '0048806_partial']    1\n",
       "Name: count, dtype: int64"
      ]
     },
     "execution_count": 185,
     "metadata": {},
     "output_type": "execute_result"
    }
   ],
   "source": [
    "sele['supfam_architecture'].value_counts()"
   ]
  },
  {
   "cell_type": "markdown",
   "id": "a45bc0d1-dc45-454d-bd48-c4b239fb773e",
   "metadata": {},
   "source": [
    "### Plantae"
   ]
  },
  {
   "cell_type": "code",
   "execution_count": 36,
   "id": "cf2901a9-ff72-4051-acd9-37e51d6c4ca1",
   "metadata": {
    "tags": []
   },
   "outputs": [],
   "source": [
    "cols = ['id','kingdom','pfam_architecture','supfam_architecture']"
   ]
  },
  {
   "cell_type": "code",
   "execution_count": 200,
   "id": "af4746ed-3441-4f58-a7e9-325e68c1e1c6",
   "metadata": {
    "tags": []
   },
   "outputs": [],
   "source": [
    "sele = df[df['kingdom'] == 'Plantae']\n",
    "sele = sele[cols].drop_duplicates(subset='id')\n",
    "assert sele['id'].nunique() == sele.shape[0]"
   ]
  },
  {
   "cell_type": "code",
   "execution_count": 201,
   "id": "de6fe973-480f-4e65-a3d0-81ffe1b32388",
   "metadata": {
    "tags": []
   },
   "outputs": [
    {
     "data": {
      "text/plain": [
       "pfam_architecture\n",
       "['PF01397.24', 'PF03936.19']                                                        546\n",
       "['PF13249.9', 'PF13243.9']                                                           99\n",
       "['PF13243.9_partial', 'PF01397.24', 'PF03936.19']                                    35\n",
       "['PF00494.22']                                                                       15\n",
       "['PF13249.9_partial', 'PF01397.24', 'PF03936.19']                                    13\n",
       "['PF01397.24_partial', 'PF01397.24', 'PF03936.19']                                   12\n",
       "['PF01397.24', 'PF03936.19', 'PF03936.19_partial']                                   12\n",
       "['PF19086.3']                                                                         9\n",
       "['PF01397.24', 'PF03936.19_partial']                                                  8\n",
       "['PF01397.24', 'PF03936.19', 'PF19086.3_partial']                                     6\n",
       "['PF01397.24', 'PF03936.19', 'PF01397.24_partial']                                    4\n",
       "['PF13243.9_partial', 'PF01397.24', 'PF03936.19_partial', 'PF03936.19_partial']       4\n",
       "['PF13249.9_partial', 'PF13243.9']                                                    3\n",
       "['PF03936.19_partial', 'PF01397.24', 'PF03936.19']                                    3\n",
       "['PF13243.9_partial', 'PF01397.24', 'PF03936.19', 'PF03936.19_partial']               3\n",
       "['PF01397.24_partial', 'PF01397.24', 'PF03936.19_partial', 'PF03936.19_partial']      2\n",
       "['PF00494.22_partial', 'PF00494.22']                                                  2\n",
       "['PF01397.24', 'PF03936.19_partial', 'PF03936.19_partial']                            2\n",
       "['PF01397.24_partial', 'PF01397.24', 'PF03936.19', 'PF03936.19_partial']              2\n",
       "['PF00494.22', 'PF00494.22_partial']                                                  2\n",
       "['PF13249.9_partial', 'PF01397.24', 'PF03936.19', 'PF01397.24_partial']               2\n",
       "['PF06330.14_partial']                                                                1\n",
       "['PF01397.24_partial', 'PF13243.9_partial', 'PF01397.24', 'PF03936.19']               1\n",
       "['PF01397.24', 'PF03936.19_partial', 'PF03936.19']                                    1\n",
       "['PF13243.9_partial', 'PF01397.24', 'PF03936.19', 'PF19086.3_partial']                1\n",
       "['PF19086.3_partial', 'PF19086.3']                                                    1\n",
       "['PF13249.9_partial', 'PF01397.24_partial', 'PF01397.24', 'PF03936.19']               1\n",
       "['PF03936.19', 'PF03936.19_partial']                                                  1\n",
       "['PF01397.24', 'PF03936.19_partial', 'PF01397.24_partial']                            1\n",
       "['PF13243.9']                                                                         1\n",
       "['PF13243.9_partial', 'PF03936.19_partial', 'PF01397.24', 'PF03936.19']               1\n",
       "['PF13243.9_partial', 'PF01397.24', 'PF03936.19_partial']                             1\n",
       "['PF01397.24_partial', 'PF01397.24', 'PF03936.19_partial']                            1\n",
       "['PF01397.24_partial', 'PF03936.19', 'PF03936.19_partial']                            1\n",
       "Name: count, dtype: int64"
      ]
     },
     "execution_count": 201,
     "metadata": {},
     "output_type": "execute_result"
    }
   ],
   "source": [
    "sele['pfam_architecture'].value_counts()"
   ]
  },
  {
   "cell_type": "code",
   "execution_count": 202,
   "id": "a80865f0-79ca-4dfb-ba2b-688e9e490034",
   "metadata": {
    "tags": []
   },
   "outputs": [
    {
     "data": {
      "text/plain": [
       "supfam_architecture\n",
       "['0048261']                                                     329\n",
       "['0053355']                                                     173\n",
       "['0041184', '0053355']                                           63\n",
       "['0041184', '0048261']                                           39\n",
       "['0053354_partial', '0041184', '0048261']                        19\n",
       "['0041184', '0053355_partial']                                   10\n",
       "['0047573']                                                       9\n",
       "['0053354_partial', '0041184', '0053355']                         6\n",
       "['0053354', '0048261']                                            5\n",
       "['0041184', '0053355_partial', '0053355_partial']                 4\n",
       "['0046340']                                                       4\n",
       "['0041184_partial', '0041184', '0053355']                         3\n",
       "['0048806_partial', '0041184', '0053355']                         2\n",
       "['0048806']                                                       2\n",
       "['0048806_partial', '0041184', '0048261']                         2\n",
       "['0053354', '0053355']                                            2\n",
       "['0046340_partial', '0041184', '0053355']                         2\n",
       "['0047573_partial', '0041184', '0048261']                         1\n",
       "['0053354_partial', '0048261']                                    1\n",
       "['0048806_partial']                                               1\n",
       "['0047573_partial', '0041184', '0053355']                         1\n",
       "['0046340_partial', '0053354_partial', '0041184', '0048261']      1\n",
       "['0041184_partial', '0041184', '0048261']                         1\n",
       "Name: count, dtype: int64"
      ]
     },
     "execution_count": 202,
     "metadata": {},
     "output_type": "execute_result"
    }
   ],
   "source": [
    "sele['supfam_architecture'].value_counts()"
   ]
  },
  {
   "cell_type": "code",
   "execution_count": 266,
   "id": "48389d81-f575-44f1-b8bd-48323e927078",
   "metadata": {
    "tags": []
   },
   "outputs": [
    {
     "data": {
      "text/plain": [
       "Index(['id', 'name', 'type', 'type_general', 'species', 'kingdom',\n",
       "       'product_names', 'product_counts', 'most_unique_product_name',\n",
       "       'most_unique_product_count', 'architecture_pfam', 'architecture_l_pfam',\n",
       "       'PF06330.14', 'PF01397.24', 'PF03936.19', 'PF00494.22', 'PF13249.9',\n",
       "       'PF19086.3', 'PF13243.9', 'architecture_supfam',\n",
       "       'architecture_l_supfam', '0041184', '0053354', '0053355', '0048261',\n",
       "       '0048806', '0046340', '0047573'],\n",
       "      dtype='object')"
      ]
     },
     "execution_count": 266,
     "metadata": {},
     "output_type": "execute_result"
    }
   ],
   "source": [
    "df2.columns"
   ]
  },
  {
   "cell_type": "code",
   "execution_count": 35,
   "id": "3b4f1646-042c-43cc-89cc-63982041b204",
   "metadata": {
    "tags": []
   },
   "outputs": [],
   "source": [
    "cols2 = ['id','kingdom','PF06330.14', 'PF01397.24', 'PF03936.19', 'PF00494.22', 'PF13249.9','PF19086.3', 'PF13243.9', '0041184', '0053354', '0053355', '0048261','0048806', '0046340', '0047573']"
   ]
  },
  {
   "cell_type": "code",
   "execution_count": 45,
   "id": "800347c2-d7f8-49bb-b4d6-a1f49044e03d",
   "metadata": {
    "tags": []
   },
   "outputs": [],
   "source": [
    "pfam_cols = ['PF01397.24', 'PF03936.19','PF19086.3', 'PF06330.14', 'PF13243.9', 'PF13249.9', 'PF00494.22']"
   ]
  },
  {
   "cell_type": "code",
   "execution_count": 15,
   "id": "c458dbf7-d78f-4f0c-9dca-4fcd61ebd66a",
   "metadata": {
    "tags": []
   },
   "outputs": [],
   "source": [
    "supfam_cols = ['0041184', '0053354', '0053355', '0048261','0048806', '0046340', '0047573']"
   ]
  },
  {
   "cell_type": "code",
   "execution_count": 47,
   "id": "aef4b5bd-f15b-413c-a873-5fedf6de5278",
   "metadata": {
    "tags": []
   },
   "outputs": [
    {
     "data": {
      "text/html": [
       "<div>\n",
       "<style scoped>\n",
       "    .dataframe tbody tr th:only-of-type {\n",
       "        vertical-align: middle;\n",
       "    }\n",
       "\n",
       "    .dataframe tbody tr th {\n",
       "        vertical-align: top;\n",
       "    }\n",
       "\n",
       "    .dataframe thead th {\n",
       "        text-align: right;\n",
       "    }\n",
       "</style>\n",
       "<table border=\"1\" class=\"dataframe\">\n",
       "  <thead>\n",
       "    <tr style=\"text-align: right;\">\n",
       "      <th></th>\n",
       "      <th>PF01397.24</th>\n",
       "      <th>PF03936.19</th>\n",
       "      <th>PF19086.3</th>\n",
       "      <th>PF06330.14</th>\n",
       "      <th>PF13243.9</th>\n",
       "      <th>PF13249.9</th>\n",
       "      <th>PF00494.22</th>\n",
       "    </tr>\n",
       "  </thead>\n",
       "  <tbody>\n",
       "    <tr>\n",
       "      <th>1.0</th>\n",
       "      <td>83.10388</td>\n",
       "      <td>83.729662</td>\n",
       "      <td>79.098874</td>\n",
       "      <td>0.625782</td>\n",
       "      <td>18.898623</td>\n",
       "      <td>15.644556</td>\n",
       "      <td>2.377972</td>\n",
       "    </tr>\n",
       "  </tbody>\n",
       "</table>\n",
       "</div>"
      ],
      "text/plain": [
       "     PF01397.24  PF03936.19  PF19086.3  PF06330.14  PF13243.9  PF13249.9  \\\n",
       "1.0    83.10388   83.729662  79.098874    0.625782  18.898623  15.644556   \n",
       "\n",
       "     PF00494.22  \n",
       "1.0    2.377972  "
      ]
     },
     "execution_count": 47,
     "metadata": {},
     "output_type": "execute_result"
    }
   ],
   "source": [
    "sele = df2[df2['kingdom'] == 'Plantae']\n",
    "sele = sele[cols2].drop_duplicates(subset='id')\n",
    "assert sele['id'].nunique() == sele.shape[0]\n",
    "#sele = sele[pfam_cols]\n",
    "sele[pfam_cols].apply(lambda x: x.value_counts(normalize=True, dropna=False) * 100).fillna(0).loc[[1.0]]"
   ]
  },
  {
   "cell_type": "code",
   "execution_count": 46,
   "id": "528955dc-3f60-46a8-9c24-2e1d7f563274",
   "metadata": {
    "tags": []
   },
   "outputs": [
    {
     "data": {
      "text/html": [
       "<div>\n",
       "<style scoped>\n",
       "    .dataframe tbody tr th:only-of-type {\n",
       "        vertical-align: middle;\n",
       "    }\n",
       "\n",
       "    .dataframe tbody tr th {\n",
       "        vertical-align: top;\n",
       "    }\n",
       "\n",
       "    .dataframe thead th {\n",
       "        text-align: right;\n",
       "    }\n",
       "</style>\n",
       "<table border=\"1\" class=\"dataframe\">\n",
       "  <thead>\n",
       "    <tr style=\"text-align: right;\">\n",
       "      <th></th>\n",
       "      <th>PF01397.24</th>\n",
       "      <th>PF03936.19</th>\n",
       "      <th>PF19086.3</th>\n",
       "      <th>PF06330.14</th>\n",
       "      <th>PF13243.9</th>\n",
       "      <th>PF13249.9</th>\n",
       "      <th>PF00494.22</th>\n",
       "    </tr>\n",
       "  </thead>\n",
       "  <tbody>\n",
       "    <tr>\n",
       "      <th>1.0</th>\n",
       "      <td>83.312422</td>\n",
       "      <td>83.939774</td>\n",
       "      <td>79.297365</td>\n",
       "      <td>0.627353</td>\n",
       "      <td>18.946048</td>\n",
       "      <td>15.683814</td>\n",
       "      <td>2.38394</td>\n",
       "    </tr>\n",
       "  </tbody>\n",
       "</table>\n",
       "</div>"
      ],
      "text/plain": [
       "     PF01397.24  PF03936.19  PF19086.3  PF06330.14  PF13243.9  PF13249.9  \\\n",
       "1.0   83.312422   83.939774  79.297365    0.627353  18.946048  15.683814   \n",
       "\n",
       "     PF00494.22  \n",
       "1.0     2.38394  "
      ]
     },
     "execution_count": 46,
     "metadata": {},
     "output_type": "execute_result"
    }
   ],
   "source": [
    "sele = df2[df2['kingdom'] == 'Plantae']\n",
    "sele = sele[cols2].drop_duplicates(subset='id')\n",
    "assert sele['id'].nunique() == sele.shape[0]\n",
    "#sele = sele[pfam_cols]\n",
    "sele[pfam_cols].apply(lambda x: x.value_counts(normalize=True, dropna=True) * 100).fillna(0).loc[[1.0]]"
   ]
  },
  {
   "cell_type": "code",
   "execution_count": 49,
   "id": "aa37bf82-2c4a-43bb-bf80-ee45075c8733",
   "metadata": {
    "tags": []
   },
   "outputs": [
    {
     "data": {
      "text/html": [
       "<div>\n",
       "<style scoped>\n",
       "    .dataframe tbody tr th:only-of-type {\n",
       "        vertical-align: middle;\n",
       "    }\n",
       "\n",
       "    .dataframe tbody tr th {\n",
       "        vertical-align: top;\n",
       "    }\n",
       "\n",
       "    .dataframe thead th {\n",
       "        text-align: right;\n",
       "    }\n",
       "</style>\n",
       "<table border=\"1\" class=\"dataframe\">\n",
       "  <thead>\n",
       "    <tr style=\"text-align: right;\">\n",
       "      <th></th>\n",
       "      <th>0041184</th>\n",
       "      <th>0053354</th>\n",
       "      <th>0053355</th>\n",
       "      <th>0048261</th>\n",
       "      <th>0048806</th>\n",
       "      <th>0046340</th>\n",
       "      <th>0047573</th>\n",
       "    </tr>\n",
       "  </thead>\n",
       "  <tbody>\n",
       "    <tr>\n",
       "      <th>1.0</th>\n",
       "      <td>97.647059</td>\n",
       "      <td>97.647059</td>\n",
       "      <td>99.264706</td>\n",
       "      <td>99.264706</td>\n",
       "      <td>99.117647</td>\n",
       "      <td>99.264706</td>\n",
       "      <td>99.117647</td>\n",
       "    </tr>\n",
       "  </tbody>\n",
       "</table>\n",
       "</div>"
      ],
      "text/plain": [
       "       0041184    0053354    0053355    0048261    0048806    0046340  \\\n",
       "1.0  97.647059  97.647059  99.264706  99.264706  99.117647  99.264706   \n",
       "\n",
       "       0047573  \n",
       "1.0  99.117647  "
      ]
     },
     "execution_count": 49,
     "metadata": {},
     "output_type": "execute_result"
    }
   ],
   "source": [
    "sele[supfam_cols].apply(lambda x: x.value_counts(normalize=True, dropna=True) * 100).fillna(0).loc[[1.0]]"
   ]
  },
  {
   "cell_type": "code",
   "execution_count": 48,
   "id": "200be955-da97-47f1-82ed-fc38b7368570",
   "metadata": {
    "tags": []
   },
   "outputs": [
    {
     "data": {
      "text/html": [
       "<div>\n",
       "<style scoped>\n",
       "    .dataframe tbody tr th:only-of-type {\n",
       "        vertical-align: middle;\n",
       "    }\n",
       "\n",
       "    .dataframe tbody tr th {\n",
       "        vertical-align: top;\n",
       "    }\n",
       "\n",
       "    .dataframe thead th {\n",
       "        text-align: right;\n",
       "    }\n",
       "</style>\n",
       "<table border=\"1\" class=\"dataframe\">\n",
       "  <thead>\n",
       "    <tr style=\"text-align: right;\">\n",
       "      <th></th>\n",
       "      <th>0041184</th>\n",
       "      <th>0053354</th>\n",
       "      <th>0053355</th>\n",
       "      <th>0048261</th>\n",
       "      <th>0048806</th>\n",
       "      <th>0046340</th>\n",
       "      <th>0047573</th>\n",
       "    </tr>\n",
       "  </thead>\n",
       "  <tbody>\n",
       "    <tr>\n",
       "      <th>1.0</th>\n",
       "      <td>83.10388</td>\n",
       "      <td>83.10388</td>\n",
       "      <td>84.480601</td>\n",
       "      <td>84.480601</td>\n",
       "      <td>84.355444</td>\n",
       "      <td>84.480601</td>\n",
       "      <td>84.355444</td>\n",
       "    </tr>\n",
       "  </tbody>\n",
       "</table>\n",
       "</div>"
      ],
      "text/plain": [
       "      0041184   0053354    0053355    0048261    0048806    0046340    0047573\n",
       "1.0  83.10388  83.10388  84.480601  84.480601  84.355444  84.480601  84.355444"
      ]
     },
     "execution_count": 48,
     "metadata": {},
     "output_type": "execute_result"
    }
   ],
   "source": [
    "sele[supfam_cols].apply(lambda x: x.value_counts(normalize=True, dropna=False) * 100).fillna(0).loc[[1.0]]"
   ]
  },
  {
   "cell_type": "markdown",
   "id": "c77ddf75-e258-479e-8567-4aadad5901f8",
   "metadata": {},
   "source": [
    "### Red algae"
   ]
  },
  {
   "cell_type": "code",
   "execution_count": 203,
   "id": "d5195a71-377f-406f-aa62-607cded0dac4",
   "metadata": {
    "tags": []
   },
   "outputs": [],
   "source": [
    "sele = df[df['kingdom'] == 'Red algae']\n",
    "sele = sele[cols].drop_duplicates(subset='id')\n",
    "assert sele['id'].nunique() == sele.shape[0]"
   ]
  },
  {
   "cell_type": "code",
   "execution_count": 204,
   "id": "35653122-98aa-4f42-bcd0-35582847a571",
   "metadata": {
    "tags": []
   },
   "outputs": [
    {
     "data": {
      "text/plain": [
       "pfam_architecture\n",
       "['PF19086.3']    4\n",
       "Name: count, dtype: int64"
      ]
     },
     "execution_count": 204,
     "metadata": {},
     "output_type": "execute_result"
    }
   ],
   "source": [
    "sele['pfam_architecture'].value_counts()"
   ]
  },
  {
   "cell_type": "code",
   "execution_count": 205,
   "id": "f19bf10e-b91b-456a-9dd4-6787248fda5a",
   "metadata": {
    "tags": []
   },
   "outputs": [
    {
     "data": {
      "text/plain": [
       "supfam_architecture\n",
       "['0047573']    4\n",
       "Name: count, dtype: int64"
      ]
     },
     "execution_count": 205,
     "metadata": {},
     "output_type": "execute_result"
    }
   ],
   "source": [
    "sele['supfam_architecture'].value_counts()"
   ]
  },
  {
   "cell_type": "code",
   "execution_count": 50,
   "id": "24ae8856-d192-48e4-b44d-d72fc4d15574",
   "metadata": {
    "tags": []
   },
   "outputs": [
    {
     "data": {
      "text/html": [
       "<div>\n",
       "<style scoped>\n",
       "    .dataframe tbody tr th:only-of-type {\n",
       "        vertical-align: middle;\n",
       "    }\n",
       "\n",
       "    .dataframe tbody tr th {\n",
       "        vertical-align: top;\n",
       "    }\n",
       "\n",
       "    .dataframe thead th {\n",
       "        text-align: right;\n",
       "    }\n",
       "</style>\n",
       "<table border=\"1\" class=\"dataframe\">\n",
       "  <thead>\n",
       "    <tr style=\"text-align: right;\">\n",
       "      <th></th>\n",
       "      <th>PF01397.24</th>\n",
       "      <th>PF03936.19</th>\n",
       "      <th>PF19086.3</th>\n",
       "      <th>PF06330.14</th>\n",
       "      <th>PF13243.9</th>\n",
       "      <th>PF13249.9</th>\n",
       "      <th>PF00494.22</th>\n",
       "    </tr>\n",
       "  </thead>\n",
       "  <tbody>\n",
       "    <tr>\n",
       "      <th>1.0</th>\n",
       "      <td>0.0</td>\n",
       "      <td>0.0</td>\n",
       "      <td>100.0</td>\n",
       "      <td>0.0</td>\n",
       "      <td>0.0</td>\n",
       "      <td>0.0</td>\n",
       "      <td>0.0</td>\n",
       "    </tr>\n",
       "  </tbody>\n",
       "</table>\n",
       "</div>"
      ],
      "text/plain": [
       "     PF01397.24  PF03936.19  PF19086.3  PF06330.14  PF13243.9  PF13249.9  \\\n",
       "1.0         0.0         0.0      100.0         0.0        0.0        0.0   \n",
       "\n",
       "     PF00494.22  \n",
       "1.0         0.0  "
      ]
     },
     "execution_count": 50,
     "metadata": {},
     "output_type": "execute_result"
    }
   ],
   "source": [
    "sele = df2[df2['kingdom'] == 'Red algae']\n",
    "sele = sele[cols2].drop_duplicates(subset='id')\n",
    "assert sele['id'].nunique() == sele.shape[0]\n",
    "#sele = sele[pfam_cols]\n",
    "sele[pfam_cols].apply(lambda x: x.value_counts(normalize=True, dropna=False) * 100).fillna(0).loc[[1.0]]"
   ]
  },
  {
   "cell_type": "code",
   "execution_count": 279,
   "id": "b65280e7-2a68-49b1-9b78-7b56a6b3d2e4",
   "metadata": {
    "tags": []
   },
   "outputs": [
    {
     "data": {
      "text/html": [
       "<div>\n",
       "<style scoped>\n",
       "    .dataframe tbody tr th:only-of-type {\n",
       "        vertical-align: middle;\n",
       "    }\n",
       "\n",
       "    .dataframe tbody tr th {\n",
       "        vertical-align: top;\n",
       "    }\n",
       "\n",
       "    .dataframe thead th {\n",
       "        text-align: right;\n",
       "    }\n",
       "</style>\n",
       "<table border=\"1\" class=\"dataframe\">\n",
       "  <thead>\n",
       "    <tr style=\"text-align: right;\">\n",
       "      <th></th>\n",
       "      <th>0041184</th>\n",
       "      <th>0053354</th>\n",
       "      <th>0053355</th>\n",
       "      <th>0048261</th>\n",
       "      <th>0048806</th>\n",
       "      <th>0046340</th>\n",
       "      <th>0047573</th>\n",
       "    </tr>\n",
       "  </thead>\n",
       "  <tbody>\n",
       "    <tr>\n",
       "      <th>1.0</th>\n",
       "      <td>0.0</td>\n",
       "      <td>0.0</td>\n",
       "      <td>100.0</td>\n",
       "      <td>100.0</td>\n",
       "      <td>100.0</td>\n",
       "      <td>100.0</td>\n",
       "      <td>100.0</td>\n",
       "    </tr>\n",
       "  </tbody>\n",
       "</table>\n",
       "</div>"
      ],
      "text/plain": [
       "     0041184  0053354  0053355  0048261  0048806  0046340  0047573\n",
       "1.0      0.0      0.0    100.0    100.0    100.0    100.0    100.0"
      ]
     },
     "execution_count": 279,
     "metadata": {},
     "output_type": "execute_result"
    }
   ],
   "source": [
    "sele[supfam_cols].apply(lambda x: x.value_counts(normalize=True, dropna=False) * 100).fillna(0).loc[[1.0]]"
   ]
  },
  {
   "cell_type": "markdown",
   "id": "f67695e2-9971-4128-854b-45698ce92298",
   "metadata": {},
   "source": [
    "### Fungi"
   ]
  },
  {
   "cell_type": "code",
   "execution_count": 54,
   "id": "fb8774f7-d36f-4fcc-95e8-06787ba641fc",
   "metadata": {
    "tags": []
   },
   "outputs": [],
   "source": [
    "sele = df[df['kingdom'] == 'Fungi']\n",
    "sele = sele[cols].drop_duplicates(subset='id')\n",
    "assert sele['id'].nunique() == sele.shape[0]"
   ]
  },
  {
   "cell_type": "code",
   "execution_count": 207,
   "id": "7625621b-6466-4fca-ac85-6674fadeb425",
   "metadata": {
    "tags": []
   },
   "outputs": [
    {
     "data": {
      "text/plain": [
       "pfam_architecture\n",
       "['PF19086.3']                                                                           70\n",
       "['PF19086.3', 'PF19086.3_partial']                                                      43\n",
       "['PF06330.14']                                                                          29\n",
       "['PF19086.3', 'PF19086.3']                                                              11\n",
       "['PF13249.9', 'PF13243.9']                                                               9\n",
       "['PF00494.22']                                                                           8\n",
       "['PF19086.3', 'PF03936.19_partial']                                                      4\n",
       "['PF19086.3_partial', 'PF19086.3']                                                       4\n",
       "['PF19086.3', 'PF19086.3_partial', 'PF03936.19_partial']                                 2\n",
       "['PF19086.3', 'PF19086.3_partial', 'PF19086.3_partial']                                  2\n",
       "['PF13243.9_partial', 'PF13243.9_partial', 'PF13243.9_partial', 'PF19086.3']             2\n",
       "['PF13243.9_partial', 'PF13249.9_partial']                                               2\n",
       "['PF19086.3_partial']                                                                    1\n",
       "['PF13243.9_partial', 'PF13243.9_partial', 'PF19086.3']                                  1\n",
       "['PF13243.9_partial', 'PF13243.9_partial']                                               1\n",
       "['PF13249.9', 'PF13243.9_partial', 'PF13243.9_partial']                                  1\n",
       "['PF19086.3_partial', 'PF19086.3_partial']                                               1\n",
       "['PF03936.19_partial', 'PF19086.3', 'PF19086.3']                                         1\n",
       "['PF03936.19_partial', 'PF19086.3']                                                      1\n",
       "['PF13249.9_partial', 'PF13249.9_partial', 'PF13249.9_partial', 'PF19086.3']             1\n",
       "['PF13249.9_partial', 'PF13243.9_partial', 'PF13243.9_partial', 'PF13243.9_partial']     1\n",
       "Name: count, dtype: int64"
      ]
     },
     "execution_count": 207,
     "metadata": {},
     "output_type": "execute_result"
    }
   ],
   "source": [
    "sele['pfam_architecture'].value_counts()"
   ]
  },
  {
   "cell_type": "code",
   "execution_count": 208,
   "id": "95a8c6ed-d93c-43f9-85aa-fc024f172315",
   "metadata": {
    "tags": []
   },
   "outputs": [
    {
     "data": {
      "text/plain": [
       "supfam_architecture\n",
       "['0047573']                                                                     49\n",
       "['0048806']                                                                     45\n",
       "['0047573', '0046340']                                                          26\n",
       "['0046340', '0046340']                                                          19\n",
       "['0047573', '0048806']                                                          11\n",
       "['0046340']                                                                      6\n",
       "['0053355']                                                                      6\n",
       "['0048806', '0046340']                                                           5\n",
       "['0048806_partial']                                                              1\n",
       "['0047573_partial', '0047573_partial', '0046340']                                1\n",
       "['0053355_partial', '0048806_partial', '0053355_partial', '0046340_partial']     1\n",
       "['0046340', '0048806', '0048806_partial']                                        1\n",
       "['0046340', '0048806']                                                           1\n",
       "['0048806_partial', '0046340_partial']                                           1\n",
       "['0048261']                                                                      1\n",
       "['0046340_partial', '0047573_partial']                                           1\n",
       "['0046340_partial']                                                              1\n",
       "['0048806_partial', '0053355_partial', '0046340_partial']                        1\n",
       "Name: count, dtype: int64"
      ]
     },
     "execution_count": 208,
     "metadata": {},
     "output_type": "execute_result"
    }
   ],
   "source": [
    "sele['supfam_architecture'].value_counts()"
   ]
  },
  {
   "cell_type": "code",
   "execution_count": 55,
   "id": "e81902d1-3d1d-4a38-8fda-1bbe4e771a03",
   "metadata": {
    "tags": []
   },
   "outputs": [
    {
     "data": {
      "text/html": [
       "<div>\n",
       "<style scoped>\n",
       "    .dataframe tbody tr th:only-of-type {\n",
       "        vertical-align: middle;\n",
       "    }\n",
       "\n",
       "    .dataframe tbody tr th {\n",
       "        vertical-align: top;\n",
       "    }\n",
       "\n",
       "    .dataframe thead th {\n",
       "        text-align: right;\n",
       "    }\n",
       "</style>\n",
       "<table border=\"1\" class=\"dataframe\">\n",
       "  <thead>\n",
       "    <tr style=\"text-align: right;\">\n",
       "      <th></th>\n",
       "      <th>PF01397.24</th>\n",
       "      <th>PF03936.19</th>\n",
       "      <th>PF19086.3</th>\n",
       "      <th>PF06330.14</th>\n",
       "      <th>PF13243.9</th>\n",
       "      <th>PF13249.9</th>\n",
       "      <th>PF00494.22</th>\n",
       "    </tr>\n",
       "  </thead>\n",
       "  <tbody>\n",
       "    <tr>\n",
       "      <th>1.0</th>\n",
       "      <td>0.0</td>\n",
       "      <td>54.591837</td>\n",
       "      <td>87.244898</td>\n",
       "      <td>18.877551</td>\n",
       "      <td>8.673469</td>\n",
       "      <td>7.142857</td>\n",
       "      <td>4.081633</td>\n",
       "    </tr>\n",
       "  </tbody>\n",
       "</table>\n",
       "</div>"
      ],
      "text/plain": [
       "     PF01397.24  PF03936.19  PF19086.3  PF06330.14  PF13243.9  PF13249.9  \\\n",
       "1.0         0.0   54.591837  87.244898   18.877551   8.673469   7.142857   \n",
       "\n",
       "     PF00494.22  \n",
       "1.0    4.081633  "
      ]
     },
     "execution_count": 55,
     "metadata": {},
     "output_type": "execute_result"
    }
   ],
   "source": [
    "sele = df2[df2['kingdom'] == 'Fungi']\n",
    "sele = sele[cols2].drop_duplicates(subset='id')\n",
    "assert sele['id'].nunique() == sele.shape[0]\n",
    "sele[pfam_cols].apply(lambda x: x.value_counts(normalize=True, dropna=False) * 100).fillna(0).loc[[1.0]]"
   ]
  },
  {
   "cell_type": "code",
   "execution_count": 52,
   "id": "c5f6aa6e-e8cf-4e2f-bfa2-8d1e79978e7f",
   "metadata": {
    "tags": []
   },
   "outputs": [
    {
     "data": {
      "text/html": [
       "<div>\n",
       "<style scoped>\n",
       "    .dataframe tbody tr th:only-of-type {\n",
       "        vertical-align: middle;\n",
       "    }\n",
       "\n",
       "    .dataframe tbody tr th {\n",
       "        vertical-align: top;\n",
       "    }\n",
       "\n",
       "    .dataframe thead th {\n",
       "        text-align: right;\n",
       "    }\n",
       "</style>\n",
       "<table border=\"1\" class=\"dataframe\">\n",
       "  <thead>\n",
       "    <tr style=\"text-align: right;\">\n",
       "      <th></th>\n",
       "      <th>0041184</th>\n",
       "      <th>0053354</th>\n",
       "      <th>0053355</th>\n",
       "      <th>0048261</th>\n",
       "      <th>0048806</th>\n",
       "      <th>0046340</th>\n",
       "      <th>0047573</th>\n",
       "    </tr>\n",
       "  </thead>\n",
       "  <tbody>\n",
       "    <tr>\n",
       "      <th>1.0</th>\n",
       "      <td>0.0</td>\n",
       "      <td>0.0</td>\n",
       "      <td>88.77551</td>\n",
       "      <td>89.795918</td>\n",
       "      <td>90.306122</td>\n",
       "      <td>90.306122</td>\n",
       "      <td>89.795918</td>\n",
       "    </tr>\n",
       "  </tbody>\n",
       "</table>\n",
       "</div>"
      ],
      "text/plain": [
       "     0041184  0053354   0053355    0048261    0048806    0046340    0047573\n",
       "1.0      0.0      0.0  88.77551  89.795918  90.306122  90.306122  89.795918"
      ]
     },
     "execution_count": 52,
     "metadata": {},
     "output_type": "execute_result"
    }
   ],
   "source": [
    "sele[supfam_cols].apply(lambda x: x.value_counts(normalize=True, dropna=False) * 100).fillna(0).loc[[1.0]]"
   ]
  },
  {
   "cell_type": "markdown",
   "id": "fea5dc84-afce-48dc-9357-eb5d031e3bbd",
   "metadata": {},
   "source": [
    "### Bacteria"
   ]
  },
  {
   "cell_type": "code",
   "execution_count": 53,
   "id": "18a2e554-4549-4724-bb2e-ab99e48d0da0",
   "metadata": {
    "tags": []
   },
   "outputs": [],
   "source": [
    "sele = df[df['kingdom'] == 'Bacteria']\n",
    "sele = sele[cols].drop_duplicates(subset='id')\n",
    "assert sele['id'].nunique() == sele.shape[0]"
   ]
  },
  {
   "cell_type": "code",
   "execution_count": 210,
   "id": "067636ff-36ec-4dce-b694-a8ac425b0214",
   "metadata": {
    "tags": []
   },
   "outputs": [
    {
     "data": {
      "text/plain": [
       "pfam_architecture\n",
       "['PF19086.3']                                                      45\n",
       "['PF00494.22']                                                     12\n",
       "['PF13249.9', 'PF13243.9']                                          4\n",
       "['PF13243.9_partial', 'PF13243.9_partial', 'PF13243.9_partial']     3\n",
       "['PF03936.19_partial', 'PF19086.3']                                 2\n",
       "['PF13243.9_partial', 'PF13243.9_partial']                          2\n",
       "['PF19086.3', 'PF19086.3']                                          1\n",
       "['PF19086.3', 'PF03936.19_partial']                                 1\n",
       "['PF19086.3_partial']                                               1\n",
       "['PF13249.9_partial', 'PF13249.9_partial', 'PF13243.9_partial']     1\n",
       "Name: count, dtype: int64"
      ]
     },
     "execution_count": 210,
     "metadata": {},
     "output_type": "execute_result"
    }
   ],
   "source": [
    "sele['pfam_architecture'].value_counts()"
   ]
  },
  {
   "cell_type": "code",
   "execution_count": 211,
   "id": "16cab176-546d-4846-a305-5323eb82a369",
   "metadata": {
    "tags": []
   },
   "outputs": [
    {
     "data": {
      "text/plain": [
       "supfam_architecture\n",
       "['0048806']                               27\n",
       "['0047573']                               17\n",
       "['0046340']                                5\n",
       "['0048261_partial']                        2\n",
       "['0053355']                                2\n",
       "['0047573', '0047573']                     1\n",
       "['0046340_partial']                        1\n",
       "['0048806_partial', '0048806_partial']     1\n",
       "Name: count, dtype: int64"
      ]
     },
     "execution_count": 211,
     "metadata": {},
     "output_type": "execute_result"
    }
   ],
   "source": [
    "sele['supfam_architecture'].value_counts()"
   ]
  },
  {
   "cell_type": "code",
   "execution_count": 56,
   "id": "c77f425a-5953-4a98-9845-fd9bcb40777c",
   "metadata": {
    "tags": []
   },
   "outputs": [
    {
     "data": {
      "text/html": [
       "<div>\n",
       "<style scoped>\n",
       "    .dataframe tbody tr th:only-of-type {\n",
       "        vertical-align: middle;\n",
       "    }\n",
       "\n",
       "    .dataframe tbody tr th {\n",
       "        vertical-align: top;\n",
       "    }\n",
       "\n",
       "    .dataframe thead th {\n",
       "        text-align: right;\n",
       "    }\n",
       "</style>\n",
       "<table border=\"1\" class=\"dataframe\">\n",
       "  <thead>\n",
       "    <tr style=\"text-align: right;\">\n",
       "      <th></th>\n",
       "      <th>PF01397.24</th>\n",
       "      <th>PF03936.19</th>\n",
       "      <th>PF19086.3</th>\n",
       "      <th>PF06330.14</th>\n",
       "      <th>PF13243.9</th>\n",
       "      <th>PF13249.9</th>\n",
       "      <th>PF00494.22</th>\n",
       "    </tr>\n",
       "  </thead>\n",
       "  <tbody>\n",
       "    <tr>\n",
       "      <th>1.0</th>\n",
       "      <td>0.0</td>\n",
       "      <td>42.666667</td>\n",
       "      <td>66.666667</td>\n",
       "      <td>10.666667</td>\n",
       "      <td>13.333333</td>\n",
       "      <td>13.333333</td>\n",
       "      <td>16.0</td>\n",
       "    </tr>\n",
       "  </tbody>\n",
       "</table>\n",
       "</div>"
      ],
      "text/plain": [
       "     PF01397.24  PF03936.19  PF19086.3  PF06330.14  PF13243.9  PF13249.9  \\\n",
       "1.0         0.0   42.666667  66.666667   10.666667  13.333333  13.333333   \n",
       "\n",
       "     PF00494.22  \n",
       "1.0        16.0  "
      ]
     },
     "execution_count": 56,
     "metadata": {},
     "output_type": "execute_result"
    }
   ],
   "source": [
    "sele = df2[df2['kingdom'] == 'Bacteria']\n",
    "sele = sele[cols2].drop_duplicates(subset='id')\n",
    "assert sele['id'].nunique() == sele.shape[0]\n",
    "sele[pfam_cols].apply(lambda x: x.value_counts(normalize=True, dropna=False) * 100).fillna(0).loc[[1.0]]"
   ]
  },
  {
   "cell_type": "code",
   "execution_count": 57,
   "id": "afc42831-6d43-4272-9f56-020f1c50c1c5",
   "metadata": {
    "tags": []
   },
   "outputs": [
    {
     "data": {
      "text/html": [
       "<div>\n",
       "<style scoped>\n",
       "    .dataframe tbody tr th:only-of-type {\n",
       "        vertical-align: middle;\n",
       "    }\n",
       "\n",
       "    .dataframe tbody tr th {\n",
       "        vertical-align: top;\n",
       "    }\n",
       "\n",
       "    .dataframe thead th {\n",
       "        text-align: right;\n",
       "    }\n",
       "</style>\n",
       "<table border=\"1\" class=\"dataframe\">\n",
       "  <thead>\n",
       "    <tr style=\"text-align: right;\">\n",
       "      <th></th>\n",
       "      <th>0041184</th>\n",
       "      <th>0053354</th>\n",
       "      <th>0053355</th>\n",
       "      <th>0048261</th>\n",
       "      <th>0048806</th>\n",
       "      <th>0046340</th>\n",
       "      <th>0047573</th>\n",
       "    </tr>\n",
       "  </thead>\n",
       "  <tbody>\n",
       "    <tr>\n",
       "      <th>1.0</th>\n",
       "      <td>0.0</td>\n",
       "      <td>0.0</td>\n",
       "      <td>68.0</td>\n",
       "      <td>70.666667</td>\n",
       "      <td>68.0</td>\n",
       "      <td>70.666667</td>\n",
       "      <td>68.0</td>\n",
       "    </tr>\n",
       "  </tbody>\n",
       "</table>\n",
       "</div>"
      ],
      "text/plain": [
       "     0041184  0053354  0053355    0048261  0048806    0046340  0047573\n",
       "1.0      0.0      0.0     68.0  70.666667     68.0  70.666667     68.0"
      ]
     },
     "execution_count": 57,
     "metadata": {},
     "output_type": "execute_result"
    }
   ],
   "source": [
    "sele[supfam_cols].apply(lambda x: x.value_counts(normalize=True, dropna=False) * 100).fillna(0).loc[[1.0]]"
   ]
  },
  {
   "cell_type": "markdown",
   "id": "a8130813-1a9c-44e6-b5ff-89c3ec6aa86c",
   "metadata": {},
   "source": [
    "### Coral"
   ]
  },
  {
   "cell_type": "code",
   "execution_count": 217,
   "id": "82b28763-2136-4c06-b1fd-99eb50a9c0cb",
   "metadata": {
    "tags": []
   },
   "outputs": [],
   "source": [
    "sele = df[df['kingdom'] == 'Coral']\n",
    "sele = sele[cols].drop_duplicates(subset='id')\n",
    "assert sele['id'].nunique() == sele.shape[0]"
   ]
  },
  {
   "cell_type": "code",
   "execution_count": 218,
   "id": "42b97c69-bc32-41a8-87c0-4021602a41c3",
   "metadata": {
    "tags": []
   },
   "outputs": [
    {
     "data": {
      "text/plain": [
       "pfam_architecture\n",
       "['PF19086.3']                                 13\n",
       "['PF19086.3_partial']                          2\n",
       "['PF03936.19']                                 1\n",
       "['PF19086.3_partial', 'PF19086.3_partial']     1\n",
       "Name: count, dtype: int64"
      ]
     },
     "execution_count": 218,
     "metadata": {},
     "output_type": "execute_result"
    }
   ],
   "source": [
    "sele['pfam_architecture'].value_counts()"
   ]
  },
  {
   "cell_type": "code",
   "execution_count": 219,
   "id": "c1190b22-0fe4-4e8c-abeb-6dc7863c8b27",
   "metadata": {
    "tags": []
   },
   "outputs": [
    {
     "data": {
      "text/plain": [
       "supfam_architecture\n",
       "['0047573']    10\n",
       "['0053355']     4\n",
       "['0046340']     2\n",
       "['0048806']     1\n",
       "Name: count, dtype: int64"
      ]
     },
     "execution_count": 219,
     "metadata": {},
     "output_type": "execute_result"
    }
   ],
   "source": [
    "sele['supfam_architecture'].value_counts()"
   ]
  },
  {
   "cell_type": "code",
   "execution_count": 60,
   "id": "54a0d5d9-4c86-40f5-9047-cf793150439b",
   "metadata": {
    "tags": []
   },
   "outputs": [
    {
     "data": {
      "text/html": [
       "<div>\n",
       "<style scoped>\n",
       "    .dataframe tbody tr th:only-of-type {\n",
       "        vertical-align: middle;\n",
       "    }\n",
       "\n",
       "    .dataframe tbody tr th {\n",
       "        vertical-align: top;\n",
       "    }\n",
       "\n",
       "    .dataframe thead th {\n",
       "        text-align: right;\n",
       "    }\n",
       "</style>\n",
       "<table border=\"1\" class=\"dataframe\">\n",
       "  <thead>\n",
       "    <tr style=\"text-align: right;\">\n",
       "      <th></th>\n",
       "      <th>PF01397.24</th>\n",
       "      <th>PF03936.19</th>\n",
       "      <th>PF19086.3</th>\n",
       "      <th>PF06330.14</th>\n",
       "      <th>PF13243.9</th>\n",
       "      <th>PF13249.9</th>\n",
       "      <th>PF00494.22</th>\n",
       "    </tr>\n",
       "  </thead>\n",
       "  <tbody>\n",
       "    <tr>\n",
       "      <th>1.0</th>\n",
       "      <td>0.0</td>\n",
       "      <td>17.647059</td>\n",
       "      <td>100.0</td>\n",
       "      <td>0.0</td>\n",
       "      <td>0.0</td>\n",
       "      <td>0.0</td>\n",
       "      <td>0.0</td>\n",
       "    </tr>\n",
       "  </tbody>\n",
       "</table>\n",
       "</div>"
      ],
      "text/plain": [
       "     PF01397.24  PF03936.19  PF19086.3  PF06330.14  PF13243.9  PF13249.9  \\\n",
       "1.0         0.0   17.647059      100.0         0.0        0.0        0.0   \n",
       "\n",
       "     PF00494.22  \n",
       "1.0         0.0  "
      ]
     },
     "execution_count": 60,
     "metadata": {},
     "output_type": "execute_result"
    }
   ],
   "source": [
    "sele = df2[df2['kingdom'] == 'Coral']\n",
    "sele = sele[cols2].drop_duplicates(subset='id')\n",
    "assert sele['id'].nunique() == sele.shape[0]\n",
    "sele[pfam_cols].apply(lambda x: x.value_counts(normalize=True, dropna=False) * 100).fillna(0).loc[[1.0]]"
   ]
  },
  {
   "cell_type": "code",
   "execution_count": 302,
   "id": "3d7d7d83-00d9-4fbd-b003-40fcff90c66d",
   "metadata": {
    "tags": []
   },
   "outputs": [
    {
     "data": {
      "text/html": [
       "<div>\n",
       "<style scoped>\n",
       "    .dataframe tbody tr th:only-of-type {\n",
       "        vertical-align: middle;\n",
       "    }\n",
       "\n",
       "    .dataframe tbody tr th {\n",
       "        vertical-align: top;\n",
       "    }\n",
       "\n",
       "    .dataframe thead th {\n",
       "        text-align: right;\n",
       "    }\n",
       "</style>\n",
       "<table border=\"1\" class=\"dataframe\">\n",
       "  <thead>\n",
       "    <tr style=\"text-align: right;\">\n",
       "      <th></th>\n",
       "      <th>0041184</th>\n",
       "      <th>0053354</th>\n",
       "      <th>0053355</th>\n",
       "      <th>0048261</th>\n",
       "      <th>0048806</th>\n",
       "      <th>0046340</th>\n",
       "      <th>0047573</th>\n",
       "    </tr>\n",
       "  </thead>\n",
       "  <tbody>\n",
       "    <tr>\n",
       "      <th>1.0</th>\n",
       "      <td>0.0</td>\n",
       "      <td>0.0</td>\n",
       "      <td>100.0</td>\n",
       "      <td>100.0</td>\n",
       "      <td>100.0</td>\n",
       "      <td>100.0</td>\n",
       "      <td>100.0</td>\n",
       "    </tr>\n",
       "  </tbody>\n",
       "</table>\n",
       "</div>"
      ],
      "text/plain": [
       "     0041184  0053354  0053355  0048261  0048806  0046340  0047573\n",
       "1.0      0.0      0.0    100.0    100.0    100.0    100.0    100.0"
      ]
     },
     "execution_count": 302,
     "metadata": {},
     "output_type": "execute_result"
    }
   ],
   "source": [
    "sele[supfam_cols].apply(lambda x: x.value_counts(normalize=True, dropna=False) * 100).fillna(0).loc[[1.0]]"
   ]
  },
  {
   "cell_type": "markdown",
   "id": "5e1825f9-d6da-47be-aa0c-3153f114888b",
   "metadata": {},
   "source": [
    "### Animalia (Marine Sponge)"
   ]
  },
  {
   "cell_type": "code",
   "execution_count": 222,
   "id": "decad4cc-1f03-4d2b-ae63-af1e4be903c9",
   "metadata": {
    "tags": []
   },
   "outputs": [],
   "source": [
    "sele = df[df['kingdom'] == 'Animalia (Marine Sponge)']\n",
    "sele = sele[cols].drop_duplicates(subset='id')\n",
    "assert sele['id'].nunique() == sele.shape[0]"
   ]
  },
  {
   "cell_type": "code",
   "execution_count": 223,
   "id": "73a92a4d-1234-4421-81fc-2ec7fb8ed727",
   "metadata": {
    "tags": []
   },
   "outputs": [
    {
     "data": {
      "text/plain": [
       "pfam_architecture\n",
       "['PF19086.3']                         3\n",
       "['PF19086.3_partial', 'PF19086.3']    2\n",
       "Name: count, dtype: int64"
      ]
     },
     "execution_count": 223,
     "metadata": {},
     "output_type": "execute_result"
    }
   ],
   "source": [
    "sele['pfam_architecture'].value_counts()"
   ]
  },
  {
   "cell_type": "code",
   "execution_count": 224,
   "id": "aa1073d2-3049-4554-b682-ef1a95b0bde6",
   "metadata": {
    "tags": []
   },
   "outputs": [
    {
     "data": {
      "text/plain": [
       "supfam_architecture\n",
       "['0047573']    5\n",
       "Name: count, dtype: int64"
      ]
     },
     "execution_count": 224,
     "metadata": {},
     "output_type": "execute_result"
    }
   ],
   "source": [
    "sele['supfam_architecture'].value_counts()"
   ]
  },
  {
   "cell_type": "markdown",
   "id": "b5160409-669c-4f0e-92ad-b434ac33b824",
   "metadata": {},
   "source": [
    "### Amoebozoa"
   ]
  },
  {
   "cell_type": "code",
   "execution_count": 225,
   "id": "0d6906a1-20b0-44ae-ba80-f674b544b600",
   "metadata": {
    "tags": []
   },
   "outputs": [],
   "source": [
    "sele = df[df['kingdom'] == 'Amoebozoa']\n",
    "sele = sele[cols].drop_duplicates(subset='id')\n",
    "assert sele['id'].nunique() == sele.shape[0]"
   ]
  },
  {
   "cell_type": "code",
   "execution_count": 226,
   "id": "d51e00ec-027b-4b0b-8e8a-f4349122d1a4",
   "metadata": {
    "tags": []
   },
   "outputs": [
    {
     "data": {
      "text/plain": [
       "pfam_architecture\n",
       "['PF19086.3']                         14\n",
       "['PF13249.9', 'PF13243.9']             1\n",
       "['PF00494.22']                         1\n",
       "['PF19086.3_partial', 'PF19086.3']     1\n",
       "Name: count, dtype: int64"
      ]
     },
     "execution_count": 226,
     "metadata": {},
     "output_type": "execute_result"
    }
   ],
   "source": [
    "sele['pfam_architecture'].value_counts()"
   ]
  },
  {
   "cell_type": "code",
   "execution_count": 227,
   "id": "1aa2b74d-cf2e-457d-a840-5354190f25c6",
   "metadata": {
    "tags": []
   },
   "outputs": [
    {
     "data": {
      "text/plain": [
       "supfam_architecture\n",
       "['0047573']    8\n",
       "['0048806']    7\n",
       "Name: count, dtype: int64"
      ]
     },
     "execution_count": 227,
     "metadata": {},
     "output_type": "execute_result"
    }
   ],
   "source": [
    "sele['supfam_architecture'].value_counts()"
   ]
  },
  {
   "cell_type": "code",
   "execution_count": 62,
   "id": "0aa7ee60-1f48-49da-a5bb-37cabb53ed38",
   "metadata": {
    "tags": []
   },
   "outputs": [
    {
     "data": {
      "text/html": [
       "<div>\n",
       "<style scoped>\n",
       "    .dataframe tbody tr th:only-of-type {\n",
       "        vertical-align: middle;\n",
       "    }\n",
       "\n",
       "    .dataframe tbody tr th {\n",
       "        vertical-align: top;\n",
       "    }\n",
       "\n",
       "    .dataframe thead th {\n",
       "        text-align: right;\n",
       "    }\n",
       "</style>\n",
       "<table border=\"1\" class=\"dataframe\">\n",
       "  <thead>\n",
       "    <tr style=\"text-align: right;\">\n",
       "      <th></th>\n",
       "      <th>PF01397.24</th>\n",
       "      <th>PF03936.19</th>\n",
       "      <th>PF19086.3</th>\n",
       "      <th>PF06330.14</th>\n",
       "      <th>PF13243.9</th>\n",
       "      <th>PF13249.9</th>\n",
       "      <th>PF00494.22</th>\n",
       "    </tr>\n",
       "  </thead>\n",
       "  <tbody>\n",
       "    <tr>\n",
       "      <th>1.0</th>\n",
       "      <td>0.0</td>\n",
       "      <td>35.294118</td>\n",
       "      <td>88.235294</td>\n",
       "      <td>0.0</td>\n",
       "      <td>5.882353</td>\n",
       "      <td>5.882353</td>\n",
       "      <td>5.882353</td>\n",
       "    </tr>\n",
       "  </tbody>\n",
       "</table>\n",
       "</div>"
      ],
      "text/plain": [
       "     PF01397.24  PF03936.19  PF19086.3  PF06330.14  PF13243.9  PF13249.9  \\\n",
       "1.0         0.0   35.294118  88.235294         0.0   5.882353   5.882353   \n",
       "\n",
       "     PF00494.22  \n",
       "1.0    5.882353  "
      ]
     },
     "execution_count": 62,
     "metadata": {},
     "output_type": "execute_result"
    }
   ],
   "source": [
    "sele = df2[df2['kingdom'] == 'Amoebozoa']\n",
    "sele = sele[cols2].drop_duplicates(subset='id')\n",
    "assert sele['id'].nunique() == sele.shape[0]\n",
    "sele[pfam_cols].apply(lambda x: x.value_counts(normalize=True, dropna=False) * 100).fillna(0).loc[[1.0]]"
   ]
  },
  {
   "cell_type": "code",
   "execution_count": 63,
   "id": "0fd54003-565f-4a18-a330-6f45420cd584",
   "metadata": {
    "tags": []
   },
   "outputs": [
    {
     "data": {
      "text/html": [
       "<div>\n",
       "<style scoped>\n",
       "    .dataframe tbody tr th:only-of-type {\n",
       "        vertical-align: middle;\n",
       "    }\n",
       "\n",
       "    .dataframe tbody tr th {\n",
       "        vertical-align: top;\n",
       "    }\n",
       "\n",
       "    .dataframe thead th {\n",
       "        text-align: right;\n",
       "    }\n",
       "</style>\n",
       "<table border=\"1\" class=\"dataframe\">\n",
       "  <thead>\n",
       "    <tr style=\"text-align: right;\">\n",
       "      <th></th>\n",
       "      <th>0041184</th>\n",
       "      <th>0053354</th>\n",
       "      <th>0053355</th>\n",
       "      <th>0048261</th>\n",
       "      <th>0048806</th>\n",
       "      <th>0046340</th>\n",
       "      <th>0047573</th>\n",
       "    </tr>\n",
       "  </thead>\n",
       "  <tbody>\n",
       "    <tr>\n",
       "      <th>1.0</th>\n",
       "      <td>0.0</td>\n",
       "      <td>0.0</td>\n",
       "      <td>88.235294</td>\n",
       "      <td>88.235294</td>\n",
       "      <td>88.235294</td>\n",
       "      <td>88.235294</td>\n",
       "      <td>88.235294</td>\n",
       "    </tr>\n",
       "  </tbody>\n",
       "</table>\n",
       "</div>"
      ],
      "text/plain": [
       "     0041184  0053354    0053355    0048261    0048806    0046340    0047573\n",
       "1.0      0.0      0.0  88.235294  88.235294  88.235294  88.235294  88.235294"
      ]
     },
     "execution_count": 63,
     "metadata": {},
     "output_type": "execute_result"
    }
   ],
   "source": [
    "sele[supfam_cols].apply(lambda x: x.value_counts(normalize=True, dropna=False) * 100).fillna(0).loc[[1.0]]"
   ]
  },
  {
   "cell_type": "markdown",
   "id": "98edb5d2-2998-497d-9288-4f8518603530",
   "metadata": {},
   "source": [
    "### Insecta"
   ]
  },
  {
   "cell_type": "code",
   "execution_count": 37,
   "id": "cd13b6c7-8641-4a5a-bd0d-49f465d1c5aa",
   "metadata": {
    "tags": []
   },
   "outputs": [],
   "source": [
    "sele = df[df['kingdom'] == 'Insecta']\n",
    "sele = sele[cols].drop_duplicates(subset='id')\n",
    "assert sele['id'].nunique() == sele.shape[0]"
   ]
  },
  {
   "cell_type": "code",
   "execution_count": 38,
   "id": "3b3248b6-9e4e-4f76-bad9-435238ab4a65",
   "metadata": {
    "tags": []
   },
   "outputs": [
    {
     "data": {
      "text/plain": [
       "Series([], Name: count, dtype: int64)"
      ]
     },
     "execution_count": 38,
     "metadata": {},
     "output_type": "execute_result"
    }
   ],
   "source": [
    "sele['pfam_architecture'].value_counts()"
   ]
  },
  {
   "cell_type": "code",
   "execution_count": 39,
   "id": "b27ba26f-1051-492e-ba61-f21c62de8f7b",
   "metadata": {
    "tags": []
   },
   "outputs": [
    {
     "data": {
      "text/plain": [
       "supfam_architecture\n",
       "['0046340']                               5\n",
       "['0046340_partial', '0046340_partial']    1\n",
       "['0046340_partial']                       1\n",
       "Name: count, dtype: int64"
      ]
     },
     "execution_count": 39,
     "metadata": {},
     "output_type": "execute_result"
    }
   ],
   "source": [
    "sele['supfam_architecture'].value_counts()"
   ]
  },
  {
   "cell_type": "code",
   "execution_count": 40,
   "id": "cc4ce3fb-cc3c-4a8b-adf9-1193fe0b65d7",
   "metadata": {
    "tags": []
   },
   "outputs": [
    {
     "data": {
      "text/html": [
       "<div>\n",
       "<style scoped>\n",
       "    .dataframe tbody tr th:only-of-type {\n",
       "        vertical-align: middle;\n",
       "    }\n",
       "\n",
       "    .dataframe tbody tr th {\n",
       "        vertical-align: top;\n",
       "    }\n",
       "\n",
       "    .dataframe thead th {\n",
       "        text-align: right;\n",
       "    }\n",
       "</style>\n",
       "<table border=\"1\" class=\"dataframe\">\n",
       "  <thead>\n",
       "    <tr style=\"text-align: right;\">\n",
       "      <th></th>\n",
       "      <th>PF06330.14</th>\n",
       "      <th>PF01397.24</th>\n",
       "      <th>PF03936.19</th>\n",
       "      <th>PF00494.22</th>\n",
       "      <th>PF13249.9</th>\n",
       "      <th>PF19086.3</th>\n",
       "      <th>PF13243.9</th>\n",
       "    </tr>\n",
       "  </thead>\n",
       "  <tbody>\n",
       "  </tbody>\n",
       "</table>\n",
       "</div>"
      ],
      "text/plain": [
       "Empty DataFrame\n",
       "Columns: [PF06330.14, PF01397.24, PF03936.19, PF00494.22, PF13249.9, PF19086.3, PF13243.9]\n",
       "Index: []"
      ]
     },
     "execution_count": 40,
     "metadata": {},
     "output_type": "execute_result"
    }
   ],
   "source": [
    "sele = df2[df2['kingdom'] == 'Insecta']\n",
    "sele = sele[cols2].drop_duplicates(subset='id')\n",
    "assert sele['id'].nunique() == sele.shape[0]\n",
    "sele[pfam_cols].apply(lambda x: x.value_counts(normalize=True) * 100).fillna(0)"
   ]
  },
  {
   "cell_type": "code",
   "execution_count": 42,
   "id": "10d3b4bd-90a4-48fa-924c-6a24e129feb4",
   "metadata": {
    "tags": []
   },
   "outputs": [
    {
     "data": {
      "text/html": [
       "<div>\n",
       "<style scoped>\n",
       "    .dataframe tbody tr th:only-of-type {\n",
       "        vertical-align: middle;\n",
       "    }\n",
       "\n",
       "    .dataframe tbody tr th {\n",
       "        vertical-align: top;\n",
       "    }\n",
       "\n",
       "    .dataframe thead th {\n",
       "        text-align: right;\n",
       "    }\n",
       "</style>\n",
       "<table border=\"1\" class=\"dataframe\">\n",
       "  <thead>\n",
       "    <tr style=\"text-align: right;\">\n",
       "      <th></th>\n",
       "      <th>0041184</th>\n",
       "      <th>0053354</th>\n",
       "      <th>0053355</th>\n",
       "      <th>0048261</th>\n",
       "      <th>0048806</th>\n",
       "      <th>0046340</th>\n",
       "      <th>0047573</th>\n",
       "    </tr>\n",
       "  </thead>\n",
       "  <tbody>\n",
       "    <tr>\n",
       "      <th>1.0</th>\n",
       "      <td>0.0</td>\n",
       "      <td>0.0</td>\n",
       "      <td>12.5</td>\n",
       "      <td>12.5</td>\n",
       "      <td>50.0</td>\n",
       "      <td>87.5</td>\n",
       "      <td>25.0</td>\n",
       "    </tr>\n",
       "  </tbody>\n",
       "</table>\n",
       "</div>"
      ],
      "text/plain": [
       "     0041184  0053354  0053355  0048261  0048806  0046340  0047573\n",
       "1.0      0.0      0.0     12.5     12.5     50.0     87.5     25.0"
      ]
     },
     "execution_count": 42,
     "metadata": {},
     "output_type": "execute_result"
    }
   ],
   "source": [
    "sele[supfam_cols].apply(lambda x: x.value_counts(normalize=True, dropna=False) * 100).fillna(0).loc[[1.0]]"
   ]
  },
  {
   "cell_type": "markdown",
   "id": "7c261853-37a2-4807-ad7d-cc118f316867",
   "metadata": {},
   "source": [
    "### Animalia"
   ]
  },
  {
   "cell_type": "code",
   "execution_count": 231,
   "id": "68fb5a68-ecba-4aed-9642-adc240d50283",
   "metadata": {
    "tags": []
   },
   "outputs": [],
   "source": [
    "sele = df[df['kingdom'] == 'Animalia']\n",
    "sele = sele[cols].drop_duplicates(subset='id')\n",
    "assert sele['id'].nunique() == sele.shape[0]"
   ]
  },
  {
   "cell_type": "code",
   "execution_count": 232,
   "id": "b11ded56-8c62-4bc4-bcd0-f1096e46546c",
   "metadata": {
    "tags": []
   },
   "outputs": [
    {
     "data": {
      "text/plain": [
       "pfam_architecture\n",
       "['PF13249.9', 'PF13243.9']    4\n",
       "['PF19086.3']                 3\n",
       "['PF00494.22']                3\n",
       "Name: count, dtype: int64"
      ]
     },
     "execution_count": 232,
     "metadata": {},
     "output_type": "execute_result"
    }
   ],
   "source": [
    "sele['pfam_architecture'].value_counts()"
   ]
  },
  {
   "cell_type": "code",
   "execution_count": 233,
   "id": "dd2967a3-e928-46c0-814e-7ad89ddb1fee",
   "metadata": {
    "tags": []
   },
   "outputs": [
    {
     "data": {
      "text/plain": [
       "supfam_architecture\n",
       "['0047573']    3\n",
       "Name: count, dtype: int64"
      ]
     },
     "execution_count": 233,
     "metadata": {},
     "output_type": "execute_result"
    }
   ],
   "source": [
    "sele['supfam_architecture'].value_counts()"
   ]
  },
  {
   "cell_type": "code",
   "execution_count": 64,
   "id": "68767d0d-19c3-4417-b797-7f474aa72a9e",
   "metadata": {
    "tags": []
   },
   "outputs": [
    {
     "data": {
      "text/html": [
       "<div>\n",
       "<style scoped>\n",
       "    .dataframe tbody tr th:only-of-type {\n",
       "        vertical-align: middle;\n",
       "    }\n",
       "\n",
       "    .dataframe tbody tr th {\n",
       "        vertical-align: top;\n",
       "    }\n",
       "\n",
       "    .dataframe thead th {\n",
       "        text-align: right;\n",
       "    }\n",
       "</style>\n",
       "<table border=\"1\" class=\"dataframe\">\n",
       "  <thead>\n",
       "    <tr style=\"text-align: right;\">\n",
       "      <th></th>\n",
       "      <th>PF01397.24</th>\n",
       "      <th>PF03936.19</th>\n",
       "      <th>PF19086.3</th>\n",
       "      <th>PF06330.14</th>\n",
       "      <th>PF13243.9</th>\n",
       "      <th>PF13249.9</th>\n",
       "      <th>PF00494.22</th>\n",
       "    </tr>\n",
       "  </thead>\n",
       "  <tbody>\n",
       "    <tr>\n",
       "      <th>1.0</th>\n",
       "      <td>0.0</td>\n",
       "      <td>0.0</td>\n",
       "      <td>46.666667</td>\n",
       "      <td>0.0</td>\n",
       "      <td>26.666667</td>\n",
       "      <td>26.666667</td>\n",
       "      <td>20.0</td>\n",
       "    </tr>\n",
       "  </tbody>\n",
       "</table>\n",
       "</div>"
      ],
      "text/plain": [
       "     PF01397.24  PF03936.19  PF19086.3  PF06330.14  PF13243.9  PF13249.9  \\\n",
       "1.0         0.0         0.0  46.666667         0.0  26.666667  26.666667   \n",
       "\n",
       "     PF00494.22  \n",
       "1.0        20.0  "
      ]
     },
     "execution_count": 64,
     "metadata": {},
     "output_type": "execute_result"
    }
   ],
   "source": [
    "sele = df2[df2['kingdom'] == 'Animalia']\n",
    "sele = sele[cols2].drop_duplicates(subset='id')\n",
    "assert sele['id'].nunique() == sele.shape[0]\n",
    "sele[pfam_cols].apply(lambda x: x.value_counts(normalize=True, dropna=False) * 100).fillna(0).loc[[1.0]]"
   ]
  },
  {
   "cell_type": "code",
   "execution_count": 66,
   "id": "57d2aa0c-88f6-4060-8006-5656706dd552",
   "metadata": {
    "tags": []
   },
   "outputs": [
    {
     "data": {
      "text/html": [
       "<div>\n",
       "<style scoped>\n",
       "    .dataframe tbody tr th:only-of-type {\n",
       "        vertical-align: middle;\n",
       "    }\n",
       "\n",
       "    .dataframe tbody tr th {\n",
       "        vertical-align: top;\n",
       "    }\n",
       "\n",
       "    .dataframe thead th {\n",
       "        text-align: right;\n",
       "    }\n",
       "</style>\n",
       "<table border=\"1\" class=\"dataframe\">\n",
       "  <thead>\n",
       "    <tr style=\"text-align: right;\">\n",
       "      <th></th>\n",
       "      <th>0041184</th>\n",
       "      <th>0053354</th>\n",
       "      <th>0053355</th>\n",
       "      <th>0048261</th>\n",
       "      <th>0048806</th>\n",
       "      <th>0046340</th>\n",
       "      <th>0047573</th>\n",
       "    </tr>\n",
       "  </thead>\n",
       "  <tbody>\n",
       "    <tr>\n",
       "      <th>1.0</th>\n",
       "      <td>0.0</td>\n",
       "      <td>0.0</td>\n",
       "      <td>46.666667</td>\n",
       "      <td>46.666667</td>\n",
       "      <td>46.666667</td>\n",
       "      <td>46.666667</td>\n",
       "      <td>46.666667</td>\n",
       "    </tr>\n",
       "  </tbody>\n",
       "</table>\n",
       "</div>"
      ],
      "text/plain": [
       "     0041184  0053354    0053355    0048261    0048806    0046340    0047573\n",
       "1.0      0.0      0.0  46.666667  46.666667  46.666667  46.666667  46.666667"
      ]
     },
     "execution_count": 66,
     "metadata": {},
     "output_type": "execute_result"
    }
   ],
   "source": [
    "sele[supfam_cols].apply(lambda x: x.value_counts(normalize=True,dropna=False) * 100).fillna(0).loc[[1.0]]"
   ]
  },
  {
   "cell_type": "code",
   "execution_count": 70,
   "id": "73143426-d9f5-45ed-9d13-641a94ee4c72",
   "metadata": {
    "tags": []
   },
   "outputs": [
    {
     "data": {
      "text/html": [
       "<div>\n",
       "<style scoped>\n",
       "    .dataframe tbody tr th:only-of-type {\n",
       "        vertical-align: middle;\n",
       "    }\n",
       "\n",
       "    .dataframe tbody tr th {\n",
       "        vertical-align: top;\n",
       "    }\n",
       "\n",
       "    .dataframe thead th {\n",
       "        text-align: right;\n",
       "    }\n",
       "</style>\n",
       "<table border=\"1\" class=\"dataframe\">\n",
       "  <thead>\n",
       "    <tr style=\"text-align: right;\">\n",
       "      <th></th>\n",
       "      <th>PF01397.24</th>\n",
       "      <th>PF03936.19</th>\n",
       "      <th>PF19086.3</th>\n",
       "      <th>PF06330.14</th>\n",
       "      <th>PF13243.9</th>\n",
       "      <th>PF13249.9</th>\n",
       "      <th>PF00494.22</th>\n",
       "    </tr>\n",
       "  </thead>\n",
       "  <tbody>\n",
       "    <tr>\n",
       "      <th>1.0</th>\n",
       "      <td>58.657244</td>\n",
       "      <td>72.173145</td>\n",
       "      <td>79.151943</td>\n",
       "      <td>4.416961</td>\n",
       "      <td>16.254417</td>\n",
       "      <td>13.69258</td>\n",
       "      <td>3.798587</td>\n",
       "    </tr>\n",
       "  </tbody>\n",
       "</table>\n",
       "</div>"
      ],
      "text/plain": [
       "     PF01397.24  PF03936.19  PF19086.3  PF06330.14  PF13243.9  PF13249.9  \\\n",
       "1.0   58.657244   72.173145  79.151943    4.416961  16.254417   13.69258   \n",
       "\n",
       "     PF00494.22  \n",
       "1.0    3.798587  "
      ]
     },
     "execution_count": 70,
     "metadata": {},
     "output_type": "execute_result"
    }
   ],
   "source": [
    "df2[cols2].drop_duplicates()[pfam_cols].apply(lambda x: x.value_counts(normalize=True, dropna=False) * 100).fillna(0).loc[[1.0]]"
   ]
  },
  {
   "cell_type": "code",
   "execution_count": 71,
   "id": "5d0e9491-4621-4b77-ab47-87355eb4d3fb",
   "metadata": {
    "tags": []
   },
   "outputs": [
    {
     "data": {
      "text/html": [
       "<div>\n",
       "<style scoped>\n",
       "    .dataframe tbody tr th:only-of-type {\n",
       "        vertical-align: middle;\n",
       "    }\n",
       "\n",
       "    .dataframe tbody tr th {\n",
       "        vertical-align: top;\n",
       "    }\n",
       "\n",
       "    .dataframe thead th {\n",
       "        text-align: right;\n",
       "    }\n",
       "</style>\n",
       "<table border=\"1\" class=\"dataframe\">\n",
       "  <thead>\n",
       "    <tr style=\"text-align: right;\">\n",
       "      <th></th>\n",
       "      <th>0041184</th>\n",
       "      <th>0053354</th>\n",
       "      <th>0053355</th>\n",
       "      <th>0048261</th>\n",
       "      <th>0048806</th>\n",
       "      <th>0046340</th>\n",
       "      <th>0047573</th>\n",
       "    </tr>\n",
       "  </thead>\n",
       "  <tbody>\n",
       "    <tr>\n",
       "      <th>1.0</th>\n",
       "      <td>58.657244</td>\n",
       "      <td>58.657244</td>\n",
       "      <td>83.392226</td>\n",
       "      <td>83.745583</td>\n",
       "      <td>83.833922</td>\n",
       "      <td>84.363958</td>\n",
       "      <td>83.568905</td>\n",
       "    </tr>\n",
       "  </tbody>\n",
       "</table>\n",
       "</div>"
      ],
      "text/plain": [
       "       0041184    0053354    0053355    0048261    0048806    0046340  \\\n",
       "1.0  58.657244  58.657244  83.392226  83.745583  83.833922  84.363958   \n",
       "\n",
       "       0047573  \n",
       "1.0  83.568905  "
      ]
     },
     "execution_count": 71,
     "metadata": {},
     "output_type": "execute_result"
    }
   ],
   "source": [
    "df2[cols2].drop_duplicates()[supfam_cols].apply(lambda x: x.value_counts(normalize=True, dropna=False) * 100).fillna(0).loc[[1.0]]"
   ]
  }
 ],
 "metadata": {
  "kernelspec": {
   "display_name": "Python 3 (ipykernel)",
   "language": "python",
   "name": "python3"
  },
  "language_info": {
   "codemirror_mode": {
    "name": "ipython",
    "version": 3
   },
   "file_extension": ".py",
   "mimetype": "text/x-python",
   "name": "python",
   "nbconvert_exporter": "python",
   "pygments_lexer": "ipython3",
   "version": "3.11.5"
  }
 },
 "nbformat": 4,
 "nbformat_minor": 5
}
